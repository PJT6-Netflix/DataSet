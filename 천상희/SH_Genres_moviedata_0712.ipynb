{
  "nbformat": 4,
  "nbformat_minor": 0,
  "metadata": {
    "colab": {
      "name": "SH_Genres_moviedata_0712.ipynb",
      "provenance": [],
      "collapsed_sections": [
        "iPkiBNlPKVJu",
        "vvu5tooRVQaY",
        "YFjwzKQeXCEr",
        "zlj8myKQWpUb",
        "d7IsvfBnX9Z3"
      ],
      "toc_visible": true,
      "authorship_tag": "ABX9TyMuHQ5Hhy0qAtdCt90ChsYc",
      "include_colab_link": true
    },
    "kernelspec": {
      "name": "python3",
      "display_name": "Python 3"
    },
    "language_info": {
      "name": "python"
    }
  },
  "cells": [
    {
      "cell_type": "markdown",
      "metadata": {
        "id": "view-in-github",
        "colab_type": "text"
      },
      "source": [
        "<a href=\"https://colab.research.google.com/github/avantgarde-cy/Netflix_Analysis/blob/sh/SH_Genres_moviedata_0712.ipynb\" target=\"_parent\"><img src=\"https://colab.research.google.com/assets/colab-badge.svg\" alt=\"Open In Colab\"/></a>"
      ]
    },
    {
      "cell_type": "markdown",
      "metadata": {
        "id": "bTUyd9QdKsMF"
      },
      "source": [
        "## 0. 데이터 불러오기 "
      ]
    },
    {
      "cell_type": "code",
      "metadata": {
        "id": "0e-cYliCxjyp"
      },
      "source": [
        "import pandas as pd\n",
        "import numpy as np\n",
        "\n",
        "import plotly.express as px\n",
        "import plotly.graph_objects as go\n",
        "import matplotlib.pyplot as plt\n",
        "import seaborn as sns"
      ],
      "execution_count": null,
      "outputs": []
    },
    {
      "cell_type": "code",
      "metadata": {
        "id": "9NUq-EFyGMFc"
      },
      "source": [
        "movie_data = pd.read_csv('MoviesOnStreamingPlatforms.csv', encoding = 'unicode_escape')\n",
        "use_df = pd.read_csv('use_df_0711.csv', encoding = 'unicode_escape')"
      ],
      "execution_count": null,
      "outputs": []
    },
    {
      "cell_type": "code",
      "metadata": {
        "id": "sQsp7OfB0q3G"
      },
      "source": [
        "#from google.colab import drive\n",
        "#drive.mount('/content/drive')"
      ],
      "execution_count": null,
      "outputs": []
    },
    {
      "cell_type": "markdown",
      "metadata": {
        "id": "ccqwOcV1OdzK"
      },
      "source": [
        "## 1.데이터 확인"
      ]
    },
    {
      "cell_type": "markdown",
      "metadata": {
        "id": "iPkiBNlPKVJu"
      },
      "source": [
        "### 1.1 movie_data 확인\n",
        "\n",
        " (https://www.kaggle.com/nikhileshkos/recommended-ott-movies-shows-analysis) "
      ]
    },
    {
      "cell_type": "code",
      "metadata": {
        "id": "jNjRVR2Uscil"
      },
      "source": [
        "movie_data.head(2)"
      ],
      "execution_count": null,
      "outputs": []
    },
    {
      "cell_type": "markdown",
      "metadata": {
        "id": "cNbPssnXWplB"
      },
      "source": [
        "#### **활용하지 않을 데이터 드랍 후 해당 데이터를 global_data로 정의**"
      ]
    },
    {
      "cell_type": "code",
      "metadata": {
        "id": "bjp45GDSSudf"
      },
      "source": [
        "global_data = movie_data.drop(['Unnamed: 0','ID','Year','Age','RottenTomatoes','Type','Language','Directors','Runtime','Country'], axis = 1)\n",
        "global_data.head(2)"
      ],
      "execution_count": null,
      "outputs": []
    },
    {
      "cell_type": "markdown",
      "metadata": {
        "id": "vvu5tooRVQaY"
      },
      "source": [
        "#### **넷플릭스에 있는 영화만 추출 ( Netflix = 1 인 데이터 보여주기 )** - **총 3559개**"
      ]
    },
    {
      "cell_type": "code",
      "metadata": {
        "id": "LQM4DEbGVPiv"
      },
      "source": [
        "netflix_data = global_data.drop(['Hulu','PrimeVideo','Disney'], axis = 1)"
      ],
      "execution_count": null,
      "outputs": []
    },
    {
      "cell_type": "code",
      "metadata": {
        "id": "_71feWza00FL"
      },
      "source": [
        "netflix_data = netflix_data.loc[(netflix_data.Netflix >= 1)]\n",
        "netflix_data.head(2)"
      ],
      "execution_count": null,
      "outputs": []
    },
    {
      "cell_type": "markdown",
      "metadata": {
        "id": "YFjwzKQeXCEr"
      },
      "source": [
        "#### **넷플릭스 데이터 안에서 MISSING DATA 확인**\n"
      ]
    },
    {
      "cell_type": "code",
      "metadata": {
        "id": "lbjEQ3_CR_u5"
      },
      "source": [
        "sns.heatmap(netflix_data.isnull())"
      ],
      "execution_count": null,
      "outputs": []
    },
    {
      "cell_type": "code",
      "metadata": {
        "id": "CkM2PpDHNwgs"
      },
      "source": [
        "netflix_data.isnull().sum() "
      ],
      "execution_count": null,
      "outputs": []
    },
    {
      "cell_type": "code",
      "metadata": {
        "id": "wgmHjPTaPqy4"
      },
      "source": [
        "netflix_data = netflix_data.dropna(subset=['Genres'])"
      ],
      "execution_count": null,
      "outputs": []
    },
    {
      "cell_type": "code",
      "metadata": {
        "id": "gDFjV_RCWYwX"
      },
      "source": [
        "sns.heatmap(netflix_data.isnull())"
      ],
      "execution_count": null,
      "outputs": []
    },
    {
      "cell_type": "markdown",
      "metadata": {
        "id": "zlj8myKQWpUb"
      },
      "source": [
        "#### **Genres**"
      ]
    },
    {
      "cell_type": "code",
      "metadata": {
        "id": "szNnc_MdSWuQ"
      },
      "source": [
        "netflix_data['Genres'].value_counts()"
      ],
      "execution_count": null,
      "outputs": []
    },
    {
      "cell_type": "code",
      "metadata": {
        "id": "cfDHQPspZ8IM"
      },
      "source": [
        "def splitting(dataframe,col):\n",
        "    result = dataframe[col].str.get_dummies(',')\n",
        "    print('Done!')\n",
        "    return result"
      ],
      "execution_count": null,
      "outputs": []
    },
    {
      "cell_type": "code",
      "metadata": {
        "id": "dPPRLQdXZ0Yw"
      },
      "source": [
        "n_genres = splitting(netflix_data,'Genres')"
      ],
      "execution_count": null,
      "outputs": []
    },
    {
      "cell_type": "code",
      "metadata": {
        "id": "VQ71Wn-9aZ0g"
      },
      "source": [
        "n_genres"
      ],
      "execution_count": null,
      "outputs": []
    },
    {
      "cell_type": "code",
      "metadata": {
        "id": "7_0dvndiSi86"
      },
      "source": [
        "netflix_data['IMDb'].value_counts()"
      ],
      "execution_count": null,
      "outputs": []
    },
    {
      "cell_type": "markdown",
      "metadata": {
        "id": "-FEyfdmClif6"
      },
      "source": [
        "- 추가 데이터로 사용하려고 가져왔으나 사용하지 않아서 전처리까지만 진행함\n"
      ]
    },
    {
      "cell_type": "markdown",
      "metadata": {
        "id": "d7IsvfBnX9Z3"
      },
      "source": [
        "### 1.2 use_df 확인 (Kaggle data + FLIXPATROL)\n"
      ]
    },
    {
      "cell_type": "code",
      "metadata": {
        "id": "Bahwnendj7_O"
      },
      "source": [
        "use_df.info()"
      ],
      "execution_count": null,
      "outputs": []
    },
    {
      "cell_type": "code",
      "metadata": {
        "id": "l9kEkY3ZYmTA"
      },
      "source": [
        "use_df.head(2)"
      ],
      "execution_count": null,
      "outputs": []
    },
    {
      "cell_type": "code",
      "metadata": {
        "id": "8FH9CngnZeVZ"
      },
      "source": [
        "use_df.dtypes"
      ],
      "execution_count": null,
      "outputs": []
    },
    {
      "cell_type": "code",
      "metadata": {
        "id": "R9JETqwanK6O"
      },
      "source": [
        "use_df = use_df.rename(columns={\"IMDb Score\":'IMDb_Score', \"IMDb Votes\":\"IMDb_Votes\"})\n",
        "use_df.head(2)"
      ],
      "execution_count": null,
      "outputs": []
    },
    {
      "cell_type": "markdown",
      "metadata": {
        "id": "NZ1YoRUaYuTy"
      },
      "source": [
        "## 2.VALUE & IMDb Score 분석 "
      ]
    },
    {
      "cell_type": "markdown",
      "metadata": {
        "id": "M2GhTFmtn5AI"
      },
      "source": [
        "#### **해당 데이터에서 쓰고자 하는 컬럼 외에 다른 것들 드랍**"
      ]
    },
    {
      "cell_type": "code",
      "metadata": {
        "id": "fa29-i_qY2oX"
      },
      "source": [
        "IMDB_base = use_df.drop(['Unnamed: 0','COUNTRY','Tags','Country Availability','Languages','Hidden Gem Score', 'Runtime', 'Director', 'Writer', 'Actors','Metacritic Score','Awards Received','Awards Nominated For','Release Date','Production House','Runtime','Summary','View Rating','Rotten Tomatoes Score','Boxoffice','Netflix Release Date','Genre_all'], axis = 1)\n",
        "IMDB_base"
      ],
      "execution_count": null,
      "outputs": []
    },
    {
      "cell_type": "code",
      "metadata": {
        "id": "rSig28udvCOt"
      },
      "source": [
        "sns.heatmap(IMDB_base.isnull())"
      ],
      "execution_count": null,
      "outputs": []
    },
    {
      "cell_type": "code",
      "metadata": {
        "id": "WBLI7uV3vaqq"
      },
      "source": [
        "IMDB_base = IMDB_base.dropna(subset=['IMDb_Score'])\n",
        "IMDB_base = IMDB_base.dropna(subset=['IMDb_Votes'])\n",
        "IMDB_base"
      ],
      "execution_count": null,
      "outputs": []
    },
    {
      "cell_type": "markdown",
      "metadata": {
        "id": "OtjOHSgs2T1F"
      },
      "source": [
        "#### **형 변환**"
      ]
    },
    {
      "cell_type": "code",
      "metadata": {
        "id": "xKCga5qE2G2b"
      },
      "source": [
        "IMDB_base.dtypes"
      ],
      "execution_count": null,
      "outputs": []
    },
    {
      "cell_type": "code",
      "metadata": {
        "id": "yMrbIERePjA7"
      },
      "source": [
        "IMDB_base['IMDb_Votes'] = IMDB_base['IMDb_Votes'].astype('int')"
      ],
      "execution_count": null,
      "outputs": []
    },
    {
      "cell_type": "code",
      "metadata": {
        "id": "KmugUbp4lerY"
      },
      "source": [
        "IMDB_base['IMDb_Score'] = IMDB_base['IMDb_Score'].astype('int')"
      ],
      "execution_count": null,
      "outputs": []
    },
    {
      "cell_type": "code",
      "metadata": {
        "id": "J9tjXj-R2My9"
      },
      "source": [
        "IMDB_base.dtypes"
      ],
      "execution_count": null,
      "outputs": []
    },
    {
      "cell_type": "markdown",
      "metadata": {
        "id": "v1Hn9Dml2Qe-"
      },
      "source": [
        "#### **결측치 확인 및 제거**"
      ]
    },
    {
      "cell_type": "code",
      "metadata": {
        "id": "ze8X1dRBvq9y"
      },
      "source": [
        "sns.heatmap(IMDB_base.isnull())"
      ],
      "execution_count": null,
      "outputs": []
    },
    {
      "cell_type": "code",
      "metadata": {
        "id": "Nih1dp9whArH"
      },
      "source": [
        "# IMDB_base['VALUE'].unique()"
      ],
      "execution_count": null,
      "outputs": []
    },
    {
      "cell_type": "code",
      "metadata": {
        "id": "XXHAIUGSf34w"
      },
      "source": [
        "len(IMDB_base['VALUE'].unique())"
      ],
      "execution_count": null,
      "outputs": []
    },
    {
      "cell_type": "code",
      "metadata": {
        "id": "8TfZ7sw1X1c1"
      },
      "source": [
        "IMDB_base['VALUE'].value_counts()"
      ],
      "execution_count": null,
      "outputs": []
    },
    {
      "cell_type": "markdown",
      "metadata": {
        "id": "EwAiXYYv2tLu"
      },
      "source": [
        "#### **데이터 분포 확인**"
      ]
    },
    {
      "cell_type": "code",
      "metadata": {
        "id": "DVnSWhEwytBt"
      },
      "source": [
        "sns.boxplot(x=IMDB_base['IMDb_Score'])"
      ],
      "execution_count": null,
      "outputs": []
    },
    {
      "cell_type": "markdown",
      "metadata": {
        "id": "Fok4CrsmhVQH"
      },
      "source": [
        "평점은 5~7점대가 대부분"
      ]
    },
    {
      "cell_type": "code",
      "metadata": {
        "id": "QEJcergE0tNI"
      },
      "source": [
        "sns.boxplot(x=IMDB_base['IMDb_Votes'])"
      ],
      "execution_count": null,
      "outputs": []
    },
    {
      "cell_type": "code",
      "metadata": {
        "id": "TBPWyob43e8I"
      },
      "source": [
        "sns.boxplot(x=IMDB_base['VALUE'])"
      ],
      "execution_count": null,
      "outputs": []
    },
    {
      "cell_type": "markdown",
      "metadata": {
        "id": "dL2ysmViexVi"
      },
      "source": [
        "-> 탑 랭킹 콘텐츠를 제외하고 대부분의 뷰포인트는 낮은 편"
      ]
    },
    {
      "cell_type": "code",
      "metadata": {
        "id": "c_megB-8wlvX"
      },
      "source": [
        "IMDB_base.plot.scatter(x=\"IMDb_Score\",y=\"VALUE\",s=20);"
      ],
      "execution_count": null,
      "outputs": []
    },
    {
      "cell_type": "markdown",
      "metadata": {
        "id": "qBm4rYY3n-3m"
      },
      "source": [
        "#### **Movie_base**\n",
        "\n",
        "---- Type 중에서 Movie만 남기기**"
      ]
    },
    {
      "cell_type": "code",
      "metadata": {
        "id": "5o90KiF3lydg"
      },
      "source": [
        "movie_base = IMDB_base.loc[(IMDB_base.Type == 'Movie')]\n",
        "movie_base"
      ],
      "execution_count": null,
      "outputs": []
    },
    {
      "cell_type": "code",
      "metadata": {
        "id": "AZlzXwR86lki"
      },
      "source": [
        "movie_base.isnull().sum() "
      ],
      "execution_count": null,
      "outputs": []
    },
    {
      "cell_type": "code",
      "metadata": {
        "id": "UsM_9fcelTiY"
      },
      "source": [
        "movie_base.dtypes"
      ],
      "execution_count": null,
      "outputs": []
    },
    {
      "cell_type": "markdown",
      "metadata": {
        "id": "kRr3dIiUdivq"
      },
      "source": [
        "#### **Movie 데이터에서 IMDb 와 VALUE(points)와 상관관계**"
      ]
    },
    {
      "cell_type": "code",
      "metadata": {
        "id": "FWoQD95BbrQY"
      },
      "source": [
        "corr = movie_base.corr()\n",
        "corr"
      ],
      "execution_count": null,
      "outputs": []
    },
    {
      "cell_type": "code",
      "metadata": {
        "id": "l0dodPknbeHt"
      },
      "source": [
        "sns.heatmap(corr)"
      ],
      "execution_count": null,
      "outputs": []
    },
    {
      "cell_type": "code",
      "metadata": {
        "id": "s1X0yVhEktUA"
      },
      "source": [
        "movie_base.plot.scatter(x=\"IMDb_Score\",y=\"VALUE\",s=20);"
      ],
      "execution_count": null,
      "outputs": []
    },
    {
      "cell_type": "markdown",
      "metadata": {
        "id": "LAotX96ZzR-z"
      },
      "source": [
        "#### **tv_base**\n",
        "\n",
        "---- Type 중에서 TV만 남기기** \n",
        "\n",
        "전처리 과정은 위와 동일"
      ]
    },
    {
      "cell_type": "code",
      "metadata": {
        "id": "qPXTgpoDzZKM"
      },
      "source": [
        "tv_base = IMDB_base.loc[(IMDB_base.Type == 'TV')]\n",
        "tv_base"
      ],
      "execution_count": null,
      "outputs": []
    },
    {
      "cell_type": "code",
      "metadata": {
        "id": "j81o0Yc1YexU"
      },
      "source": [
        "tv_base.dtypes"
      ],
      "execution_count": null,
      "outputs": []
    },
    {
      "cell_type": "code",
      "metadata": {
        "id": "iQOXFmwBYsUm"
      },
      "source": [
        "tv_base = tv_base.dropna(subset=['IMDb_Votes'])\n",
        "tv_base = tv_base.dropna(subset=['IMDb_Score'])\n",
        "tv_base"
      ],
      "execution_count": null,
      "outputs": []
    },
    {
      "cell_type": "code",
      "metadata": {
        "id": "1tMlVxAyYkDF"
      },
      "source": [
        "tv_base['IMDb_Score'] = tv_base['IMDb_Score'].astype('int')\n",
        "tv_base"
      ],
      "execution_count": null,
      "outputs": []
    },
    {
      "cell_type": "code",
      "metadata": {
        "id": "5VtRtjPSYzuH"
      },
      "source": [
        "tv_base['IMDb_Votes'] = tv_base['IMDb_Votes'].astype('int')\n",
        "tv_base"
      ],
      "execution_count": null,
      "outputs": []
    },
    {
      "cell_type": "code",
      "metadata": {
        "id": "D4tDnn7lY-Y1"
      },
      "source": [
        "tv_base.dtypes"
      ],
      "execution_count": null,
      "outputs": []
    },
    {
      "cell_type": "markdown",
      "metadata": {
        "id": "oGzu0VxMg22j"
      },
      "source": [
        "#### **TV shows 중 IMDb 와 VALUE(points)와 상관관계**"
      ]
    },
    {
      "cell_type": "code",
      "metadata": {
        "id": "xZep5Bapg57r"
      },
      "source": [
        "corr = tv_base.corr()\n",
        "corr"
      ],
      "execution_count": null,
      "outputs": []
    },
    {
      "cell_type": "code",
      "metadata": {
        "id": "uBZDUaV9g-hT"
      },
      "source": [
        "sns.heatmap(corr)"
      ],
      "execution_count": null,
      "outputs": []
    },
    {
      "cell_type": "code",
      "metadata": {
        "id": "dfulJzYSkyFr"
      },
      "source": [
        "tv_base.plot.scatter(x=\"IMDb_Score\",y=\"VALUE\",s=20);"
      ],
      "execution_count": null,
      "outputs": []
    },
    {
      "cell_type": "markdown",
      "metadata": {
        "id": "B3XgYDuG7CNj"
      },
      "source": [
        "## 3.Genre 와 IMDb 살펴보기"
      ]
    },
    {
      "cell_type": "markdown",
      "metadata": {
        "id": "jj7Ey7UBrumI"
      },
      "source": [
        "#### Moive"
      ]
    },
    {
      "cell_type": "code",
      "metadata": {
        "id": "_ET71HGr-aJK"
      },
      "source": [
        "movie_genre = movie_base.groupby(\"GENRE\")\n",
        "movie_genre.first()"
      ],
      "execution_count": null,
      "outputs": []
    },
    {
      "cell_type": "code",
      "metadata": {
        "id": "FXUyZsSPrhlE"
      },
      "source": [
        "movie_genre[\"GENRE\"].unique()"
      ],
      "execution_count": null,
      "outputs": []
    },
    {
      "cell_type": "code",
      "metadata": {
        "id": "Bd-u-RwPjVJD"
      },
      "source": [
        "movie_genre.plot(kind='box', y=\"VALUE\", figsize=(10,6),vert=False)"
      ],
      "execution_count": null,
      "outputs": []
    },
    {
      "cell_type": "markdown",
      "metadata": {
        "id": "sq-duifkr6ec"
      },
      "source": [
        "#### TV"
      ]
    },
    {
      "cell_type": "code",
      "metadata": {
        "id": "GqhkSjmdqnBy"
      },
      "source": [
        "tv_genre = tv_base.groupby(\"GENRE\")\n",
        "tv_genre.first()"
      ],
      "execution_count": null,
      "outputs": []
    },
    {
      "cell_type": "code",
      "metadata": {
        "id": "wKT8RWHE-Qw7"
      },
      "source": [
        "tv_genre[\"GENRE\"].unique()"
      ],
      "execution_count": null,
      "outputs": []
    },
    {
      "cell_type": "code",
      "metadata": {
        "id": "J4bI6KbMqxtY"
      },
      "source": [
        "tv_genre.plot(kind='box', y=\"VALUE\", figsize=(10,6), vert=False)"
      ],
      "execution_count": null,
      "outputs": []
    }
  ]
}
