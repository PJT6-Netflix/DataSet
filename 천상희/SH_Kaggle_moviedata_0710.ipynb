{
  "nbformat": 4,
  "nbformat_minor": 0,
  "metadata": {
    "colab": {
      "name": "SH_Kaggle_moviedata_0710.ipynb",
      "provenance": [],
      "collapsed_sections": []
    },
    "kernelspec": {
      "name": "python3",
      "display_name": "Python 3"
    },
    "language_info": {
      "name": "python"
    }
  },
  "cells": [
    {
      "cell_type": "markdown",
      "metadata": {
        "id": "bTUyd9QdKsMF"
      },
      "source": [
        "## 1. 데이터 불러오기 "
      ]
    },
    {
      "cell_type": "code",
      "metadata": {
        "id": "0e-cYliCxjyp"
      },
      "source": [
        "import pandas as pd\n",
        "import numpy as np\n",
        "\n",
        "# for visualization\n",
        "import matplotlib.pyplot as plt\n",
        "import seaborn as sns\n",
        "from plotly.offline import iplot\n",
        "import cufflinks as cf\n",
        "cf.go_offline()\n",
        "\n",
        "# for data overview\n",
        "from pandas_profiling import ProfileReport\n",
        "import plotly.graph_objects as go\n",
        "fig = go.Figure()\n",
        "import re"
      ],
      "execution_count": null,
      "outputs": []
    },
    {
      "cell_type": "code",
      "metadata": {
        "id": "9NUq-EFyGMFc"
      },
      "source": [
        "movie_data = pd.read_csv('MoviesOnStreamingPlatforms.csv', encoding = 'unicode_escape')\n",
        "use_df = pd.read_csv('use_df.csv', encoding = 'unicode_escape')\n",
        "top_ww = pd.read_csv('Values_01worldwide.csv', encoding = 'unicode_escape')\n",
        "top_ko = pd.read_csv('Values_02SKorea.csv', encoding = 'unicode_escape')\n",
        "top_hk = pd.read_csv('Values_03Hongkong.csv', encoding = 'unicode_escape')\n",
        "top_jp = pd.read_csv('Values_04Japan.csv', encoding = 'unicode_escape')\n",
        "top_th = pd.read_csv('Values_05Taiwan.csv', encoding = 'unicode_escape')\n",
        "top_us = pd.read_csv('Values_06USA.csv', encoding = 'unicode_escape')"
      ],
      "execution_count": null,
      "outputs": []
    },
    {
      "cell_type": "code",
      "metadata": {
        "id": "sQsp7OfB0q3G"
      },
      "source": [
        "#from google.colab import drive\n",
        "#drive.mount('/content/drive')"
      ],
      "execution_count": null,
      "outputs": []
    },
    {
      "cell_type": "markdown",
      "metadata": {
        "id": "ccqwOcV1OdzK"
      },
      "source": [
        "## 2. 데이터 확인"
      ]
    },
    {
      "cell_type": "markdown",
      "metadata": {
        "id": "iPkiBNlPKVJu"
      },
      "source": [
        "#### 1. movie_data 확인 (https://www.kaggle.com/nikhileshkos/recommended-ott-movies-shows-analysis) "
      ]
    },
    {
      "cell_type": "code",
      "metadata": {
        "id": "jNjRVR2Uscil"
      },
      "source": [
        "movie_data.head(2)"
      ],
      "execution_count": null,
      "outputs": []
    },
    {
      "cell_type": "markdown",
      "metadata": {
        "id": "cNbPssnXWplB"
      },
      "source": [
        "**활용하지 않을 데이터 드랍 후 해당 데이터를 global_data로 정의**"
      ]
    },
    {
      "cell_type": "code",
      "metadata": {
        "id": "bjp45GDSSudf"
      },
      "source": [
        "global_data = movie_data.drop(['Unnamed: 0','ID','Year','Age','RottenTomatoes','Type','Language','Directors'], axis = 1)\n",
        "global_data"
      ],
      "execution_count": null,
      "outputs": []
    },
    {
      "cell_type": "markdown",
      "metadata": {
        "id": "vvu5tooRVQaY"
      },
      "source": [
        "**넷플릭스에 있는 영화만 추출 ( Netflix = 1 인 데이터 보여주기 )** - **총 3559개**"
      ]
    },
    {
      "cell_type": "code",
      "metadata": {
        "id": "LQM4DEbGVPiv"
      },
      "source": [
        "netflix_data = global_data.drop(['Hulu','PrimeVideo','Disney'], axis = 1)"
      ],
      "execution_count": null,
      "outputs": []
    },
    {
      "cell_type": "code",
      "metadata": {
        "id": "_71feWza00FL"
      },
      "source": [
        "netflix_data = netflix_data.loc[(netflix_data.Netflix >= 1)]\n",
        "netflix_data"
      ],
      "execution_count": null,
      "outputs": []
    },
    {
      "cell_type": "markdown",
      "metadata": {
        "id": "YFjwzKQeXCEr"
      },
      "source": [
        "**넷플릭스 데이터 안에서 MISSING DATA 확인**\n"
      ]
    },
    {
      "cell_type": "code",
      "metadata": {
        "id": "CkM2PpDHNwgs"
      },
      "source": [
        "netflix_data.isnull().sum() "
      ],
      "execution_count": null,
      "outputs": []
    },
    {
      "cell_type": "markdown",
      "metadata": {
        "id": "-FEyfdmClif6"
      },
      "source": [
        "- 비교하려고 하는 IMDb 데이터와 Genres 에 있는 Null값 확인. \n",
        "\n",
        "- 아래 공유 데이터와 비교하여 Null 값을 채울 예정(필요할 경우)\n"
      ]
    },
    {
      "cell_type": "markdown",
      "metadata": {
        "id": "d7IsvfBnX9Z3"
      },
      "source": [
        "#### 2. use_df 확인 (Kaggle data + FLIXPATROL)\n"
      ]
    },
    {
      "cell_type": "code",
      "metadata": {
        "id": "Bahwnendj7_O"
      },
      "source": [
        "use_df.info()"
      ],
      "execution_count": null,
      "outputs": []
    },
    {
      "cell_type": "code",
      "metadata": {
        "id": "l9kEkY3ZYmTA"
      },
      "source": [
        "use_df.head(2)"
      ],
      "execution_count": null,
      "outputs": []
    },
    {
      "cell_type": "markdown",
      "metadata": {
        "id": "M2GhTFmtn5AI"
      },
      "source": [
        "**해당 데이터에서 쓰고자 하는 컬럼 외에 다른 것들 드랍**"
      ]
    },
    {
      "cell_type": "code",
      "metadata": {
        "id": "fa29-i_qY2oX"
      },
      "source": [
        "IMDB_base = use_df.drop(['Unnamed: 0','COUNTRY','Genre','View Rating','Tags','Country Availability','Languages','Hidden Gem Score', 'Runtime', 'Director', 'Writer', 'Actors','Metacritic Score','Awards Received','Awards Nominated For','Boxoffice','Release Date','Production House','Runtime','Summary','Rotten Tomatoes Score'], axis = 1)\n",
        "IMDB_base.head(2)"
      ],
      "execution_count": null,
      "outputs": []
    },
    {
      "cell_type": "markdown",
      "metadata": {
        "id": "qBm4rYY3n-3m"
      },
      "source": [
        "**Type 중에서 Movie 장르만 남기기**"
      ]
    },
    {
      "cell_type": "code",
      "metadata": {
        "id": "5o90KiF3lydg"
      },
      "source": [
        "movie_base = IMDB_base.loc[(base.Type == 'Movie')]\n",
        "movie_base"
      ],
      "execution_count": null,
      "outputs": []
    },
    {
      "cell_type": "code",
      "metadata": {
        "id": "AZlzXwR86lki"
      },
      "source": [
        "movie_base.isnull().sum() "
      ],
      "execution_count": null,
      "outputs": []
    },
    {
      "cell_type": "markdown",
      "metadata": {
        "id": "k3zMnwEjQma_"
      },
      "source": [
        "**netflix data와 movie base(use_df) 합치기**"
      ]
    },
    {
      "cell_type": "code",
      "metadata": {
        "id": "QMdYTUEXQsHl"
      },
      "source": [
        "df = pd.merge(movie_base, netflix_data, on='Title')\n",
        "df"
      ],
      "execution_count": null,
      "outputs": []
    },
    {
      "cell_type": "code",
      "metadata": {
        "id": "2-zP0VCmgh9g"
      },
      "source": [
        "df.info()"
      ],
      "execution_count": null,
      "outputs": []
    },
    {
      "cell_type": "markdown",
      "metadata": {
        "id": "8Q6gVxOYoGif"
      },
      "source": [
        "#### 3. Top Ranking 데이터 확인"
      ]
    },
    {
      "cell_type": "code",
      "metadata": {
        "id": "ICkDjUDwolRq"
      },
      "source": [
        "top_ww.head(5)"
      ],
      "execution_count": null,
      "outputs": []
    },
    {
      "cell_type": "code",
      "metadata": {
        "id": "rVJdPGi3qEiI"
      },
      "source": [
        "top_ko.head(5)"
      ],
      "execution_count": null,
      "outputs": []
    },
    {
      "cell_type": "code",
      "metadata": {
        "id": "Uu6mMvPrp9Ga"
      },
      "source": [
        "top_hk.head(5)"
      ],
      "execution_count": null,
      "outputs": []
    },
    {
      "cell_type": "code",
      "metadata": {
        "id": "ZU6wHg7SqBnM"
      },
      "source": [
        "top_jp.head(5)"
      ],
      "execution_count": null,
      "outputs": []
    },
    {
      "cell_type": "code",
      "metadata": {
        "id": "8NuKlpdEqJtF"
      },
      "source": [
        "top_th.head(5)"
      ],
      "execution_count": null,
      "outputs": []
    },
    {
      "cell_type": "code",
      "metadata": {
        "id": "lwy1A3VLqOtw"
      },
      "source": [
        "top_us.head(5)"
      ],
      "execution_count": null,
      "outputs": []
    },
    {
      "cell_type": "markdown",
      "metadata": {
        "id": "jQA-w9uJvnbA"
      },
      "source": [
        "#### 4. Top Ranking 합치기"
      ]
    },
    {
      "cell_type": "markdown",
      "metadata": {
        "id": "GIpsJ-jarrpY"
      },
      "source": [
        "**Merge more multiple dataframes**"
      ]
    },
    {
      "cell_type": "code",
      "metadata": {
        "id": "D5Mb_hVKqtPc"
      },
      "source": [
        "import pandas as pd\n",
        "from functools import reduce\n",
        "\n",
        "top_merged = [top_ww, top_ko, top_hk, top_jp, top_th, top_us]\n",
        "df_top = reduce(lambda left, right: pd.merge(left,right,on=['Title'], how='outer'), top_merged)"
      ],
      "execution_count": null,
      "outputs": []
    },
    {
      "cell_type": "markdown",
      "metadata": {
        "id": "iWdov7DYscAG"
      },
      "source": [
        "**Top 리스트는 101위까지만 있기 때문에 인덱스를 102열까지만 저장**"
      ]
    },
    {
      "cell_type": "code",
      "metadata": {
        "id": "3h4DYeWqsiYv"
      },
      "source": [
        "df_top100 = df_top.iloc[:102]\n",
        "df_top100"
      ],
      "execution_count": null,
      "outputs": []
    },
    {
      "cell_type": "code",
      "metadata": {
        "id": "5Y1ez6XqsPoS"
      },
      "source": [
        "df_top100.info()"
      ],
      "execution_count": null,
      "outputs": []
    },
    {
      "cell_type": "markdown",
      "metadata": {
        "id": "ZfN_kN-u7jar"
      },
      "source": [
        "## 3. Profiling "
      ]
    },
    {
      "cell_type": "code",
      "metadata": {
        "id": "YR4bDALNBSsS"
      },
      "source": [
        "import pandas as pd\n",
        "from pandas_profiling import ProfileReport"
      ],
      "execution_count": null,
      "outputs": []
    },
    {
      "cell_type": "markdown",
      "metadata": {
        "id": "JNnWLDXIAloV"
      },
      "source": [
        "## 4. 시각화"
      ]
    }
  ]
}