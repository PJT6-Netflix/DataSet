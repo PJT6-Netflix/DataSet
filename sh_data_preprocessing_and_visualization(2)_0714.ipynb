{
  "nbformat": 4,
  "nbformat_minor": 0,
  "metadata": {
    "colab": {
      "name": "sh_data preprocessing and visualization(2)_0714.ipynb",
      "provenance": [],
      "collapsed_sections": [],
      "authorship_tag": "ABX9TyN5rsJCMLeGtPlAtghLddBN",
      "include_colab_link": true
    },
    "kernelspec": {
      "name": "python3",
      "display_name": "Python 3"
    },
    "language_info": {
      "name": "python"
    }
  },
  "cells": [
    {
      "cell_type": "markdown",
      "metadata": {
        "id": "view-in-github",
        "colab_type": "text"
      },
      "source": [
        "<a href=\"https://colab.research.google.com/github/avantgarde-cy/Netflix_Analysis/blob/master/sh_data_preprocessing_and_visualization(2)_0714.ipynb\" target=\"_parent\"><img src=\"https://colab.research.google.com/assets/colab-badge.svg\" alt=\"Open In Colab\"/></a>"
      ]
    },
    {
      "cell_type": "markdown",
      "metadata": {
        "id": "bTUyd9QdKsMF"
      },
      "source": [
        "## 1. 데이터 불러오기 "
      ]
    },
    {
      "cell_type": "code",
      "metadata": {
        "id": "0e-cYliCxjyp"
      },
      "source": [
        "import pandas as pd\n",
        "import numpy as np\n",
        "\n",
        "import plotly.express as px\n",
        "import matplotlib.pyplot as plt\n",
        "import plotly.graph_objects as go\n",
        "import matplotlib.pyplot as plt\n",
        "import seaborn as sns"
      ],
      "execution_count": 1,
      "outputs": []
    },
    {
      "cell_type": "code",
      "metadata": {
        "id": "9NUq-EFyGMFc"
      },
      "source": [
        "use_df = pd.read_csv('use_df.csv', encoding = 'unicode_escape')"
      ],
      "execution_count": 2,
      "outputs": []
    },
    {
      "cell_type": "markdown",
      "metadata": {
        "id": "NZ1YoRUaYuTy"
      },
      "source": [
        "## 2.VALUE & IMDb Score 분석 "
      ]
    },
    {
      "cell_type": "code",
      "metadata": {
        "colab": {
          "base_uri": "https://localhost:8080/"
        },
        "id": "UT3Le6A_Dv3Z",
        "outputId": "1f9aac77-6192-4202-a4e2-66e08e9ba5d3"
      },
      "source": [
        "use_df.info()"
      ],
      "execution_count": 3,
      "outputs": [
        {
          "output_type": "stream",
          "text": [
            "<class 'pandas.core.frame.DataFrame'>\n",
            "RangeIndex: 2960 entries, 0 to 2959\n",
            "Data columns (total 27 columns):\n",
            " #   Column                 Non-Null Count  Dtype  \n",
            "---  ------                 --------------  -----  \n",
            " 0   Unnamed: 0             2960 non-null   int64  \n",
            " 1   Title                  2960 non-null   object \n",
            " 2   Series or Movie        2960 non-null   object \n",
            " 3   COUNTRY                2754 non-null   object \n",
            " 4   Release Date           2895 non-null   object \n",
            " 5   GENRE                  2590 non-null   object \n",
            " 6   VALUE                  2960 non-null   int64  \n",
            " 7   Genre_all              2842 non-null   object \n",
            " 8   Tags                   2951 non-null   object \n",
            " 9   Languages              2811 non-null   object \n",
            " 10  Hidden Gem Score       2808 non-null   float64\n",
            " 11  Country Availability   2955 non-null   object \n",
            " 12  Runtime                2960 non-null   object \n",
            " 13  Director               2247 non-null   object \n",
            " 14  Writer                 2446 non-null   object \n",
            " 15  Actors                 2822 non-null   object \n",
            " 16  View Rating            2252 non-null   object \n",
            " 17  IMDb Score             2808 non-null   float64\n",
            " 18  Rotten Tomatoes Score  1575 non-null   float64\n",
            " 19  Metacritic Score       1450 non-null   float64\n",
            " 20  Awards Received        1470 non-null   float64\n",
            " 21  Awards Nominated For   1870 non-null   float64\n",
            " 22  Boxoffice              1295 non-null   object \n",
            " 23  Netflix Release Date   2960 non-null   object \n",
            " 24  Production House       1468 non-null   object \n",
            " 25  Summary                2958 non-null   object \n",
            " 26  IMDb Votes             2808 non-null   float64\n",
            "dtypes: float64(7), int64(2), object(18)\n",
            "memory usage: 624.5+ KB\n"
          ],
          "name": "stdout"
        }
      ]
    },
    {
      "cell_type": "code",
      "metadata": {
        "colab": {
          "base_uri": "https://localhost:8080/",
          "height": 352
        },
        "id": "3ZlyGMkgDxDv",
        "outputId": "d8113939-1c05-48ff-cf40-9f2e236efbf9"
      },
      "source": [
        "use_df.head(2)"
      ],
      "execution_count": 4,
      "outputs": [
        {
          "output_type": "execute_result",
          "data": {
            "text/html": [
              "<div>\n",
              "<style scoped>\n",
              "    .dataframe tbody tr th:only-of-type {\n",
              "        vertical-align: middle;\n",
              "    }\n",
              "\n",
              "    .dataframe tbody tr th {\n",
              "        vertical-align: top;\n",
              "    }\n",
              "\n",
              "    .dataframe thead th {\n",
              "        text-align: right;\n",
              "    }\n",
              "</style>\n",
              "<table border=\"1\" class=\"dataframe\">\n",
              "  <thead>\n",
              "    <tr style=\"text-align: right;\">\n",
              "      <th></th>\n",
              "      <th>Unnamed: 0</th>\n",
              "      <th>Title</th>\n",
              "      <th>Series or Movie</th>\n",
              "      <th>COUNTRY</th>\n",
              "      <th>Release Date</th>\n",
              "      <th>GENRE</th>\n",
              "      <th>VALUE</th>\n",
              "      <th>Genre_all</th>\n",
              "      <th>Tags</th>\n",
              "      <th>Languages</th>\n",
              "      <th>Hidden Gem Score</th>\n",
              "      <th>Country Availability</th>\n",
              "      <th>Runtime</th>\n",
              "      <th>Director</th>\n",
              "      <th>Writer</th>\n",
              "      <th>Actors</th>\n",
              "      <th>View Rating</th>\n",
              "      <th>IMDb Score</th>\n",
              "      <th>Rotten Tomatoes Score</th>\n",
              "      <th>Metacritic Score</th>\n",
              "      <th>Awards Received</th>\n",
              "      <th>Awards Nominated For</th>\n",
              "      <th>Boxoffice</th>\n",
              "      <th>Netflix Release Date</th>\n",
              "      <th>Production House</th>\n",
              "      <th>Summary</th>\n",
              "      <th>IMDb Votes</th>\n",
              "    </tr>\n",
              "  </thead>\n",
              "  <tbody>\n",
              "    <tr>\n",
              "      <th>0</th>\n",
              "      <td>0</td>\n",
              "      <td>thequeensgambit</td>\n",
              "      <td>TV</td>\n",
              "      <td>United States</td>\n",
              "      <td>2020.10.23</td>\n",
              "      <td>Drama</td>\n",
              "      <td>44867</td>\n",
              "      <td>Biography, Drama, History</td>\n",
              "      <td>TV Dramas,US TV Shows,TV Shows Based on Books,...</td>\n",
              "      <td>English, German, French</td>\n",
              "      <td>4.3</td>\n",
              "      <td>Lithuania,Canada,Australia,Poland,Mexico,Franc...</td>\n",
              "      <td>&lt; 30 minutes</td>\n",
              "      <td>Stephen Frears</td>\n",
              "      <td>Peter Morgan</td>\n",
              "      <td>Alex Jennings, Roger Allam, James Cromwell, He...</td>\n",
              "      <td>PG-13</td>\n",
              "      <td>7.3</td>\n",
              "      <td>96.0</td>\n",
              "      <td>91.0</td>\n",
              "      <td>96.0</td>\n",
              "      <td>97.0</td>\n",
              "      <td>$56,441,711</td>\n",
              "      <td>2020.10.23</td>\n",
              "      <td>PathÃ© Pictures, Scott Rudin Productions</td>\n",
              "      <td>In a 1950s orphanage, a young girl reveals an ...</td>\n",
              "      <td>104495.0</td>\n",
              "    </tr>\n",
              "    <tr>\n",
              "      <th>1</th>\n",
              "      <td>1</td>\n",
              "      <td>365days</td>\n",
              "      <td>Movie</td>\n",
              "      <td>Poland</td>\n",
              "      <td>2020.6.7</td>\n",
              "      <td>Romance</td>\n",
              "      <td>42149</td>\n",
              "      <td>Drama, Romance</td>\n",
              "      <td>Polish Movies,Polish Dramas,Dramas,Romantic Dr...</td>\n",
              "      <td>Polish, English, Italian</td>\n",
              "      <td>1.6</td>\n",
              "      <td>Poland,Russia,United Kingdom,Slovakia,Canada,G...</td>\n",
              "      <td>1-2 hour</td>\n",
              "      <td>Tomasz Mandes, Barbara Bialowas</td>\n",
              "      <td>Blanka Lipinska, Tomasz Klimala, Barbara Bialo...</td>\n",
              "      <td>Michele Morrone, Otar Saralidze, Bronislaw Wro...</td>\n",
              "      <td>TV-MA</td>\n",
              "      <td>3.2</td>\n",
              "      <td>NaN</td>\n",
              "      <td>NaN</td>\n",
              "      <td>NaN</td>\n",
              "      <td>NaN</td>\n",
              "      <td>NaN</td>\n",
              "      <td>2020.4.2</td>\n",
              "      <td>NaN</td>\n",
              "      <td>A fiery executive in a spiritless relationship...</td>\n",
              "      <td>50125.0</td>\n",
              "    </tr>\n",
              "  </tbody>\n",
              "</table>\n",
              "</div>"
            ],
            "text/plain": [
              "   Unnamed: 0  ... IMDb Votes\n",
              "0           0  ...   104495.0\n",
              "1           1  ...    50125.0\n",
              "\n",
              "[2 rows x 27 columns]"
            ]
          },
          "metadata": {
            "tags": []
          },
          "execution_count": 4
        }
      ]
    },
    {
      "cell_type": "markdown",
      "metadata": {
        "id": "6y27Tr1ADzH_"
      },
      "source": [
        "**헤더 이름 정리**\n",
        "- Series or Moive 를 Type으로 변환\n",
        "- 스페이스 없게 변환"
      ]
    },
    {
      "cell_type": "code",
      "metadata": {
        "colab": {
          "base_uri": "https://localhost:8080/",
          "height": 352
        },
        "id": "uJHIfUBoDtiv",
        "outputId": "971ee36b-f930-4193-af33-b3fa477328fb"
      },
      "source": [
        "use_df = use_df.rename(columns={\"IMDb Score\":'IMDb_Score', \"IMDb Votes\":\"IMDb_Votes\", \"Series or Movie\":'Type'})\n",
        "use_df.head(2)"
      ],
      "execution_count": 5,
      "outputs": [
        {
          "output_type": "execute_result",
          "data": {
            "text/html": [
              "<div>\n",
              "<style scoped>\n",
              "    .dataframe tbody tr th:only-of-type {\n",
              "        vertical-align: middle;\n",
              "    }\n",
              "\n",
              "    .dataframe tbody tr th {\n",
              "        vertical-align: top;\n",
              "    }\n",
              "\n",
              "    .dataframe thead th {\n",
              "        text-align: right;\n",
              "    }\n",
              "</style>\n",
              "<table border=\"1\" class=\"dataframe\">\n",
              "  <thead>\n",
              "    <tr style=\"text-align: right;\">\n",
              "      <th></th>\n",
              "      <th>Unnamed: 0</th>\n",
              "      <th>Title</th>\n",
              "      <th>Type</th>\n",
              "      <th>COUNTRY</th>\n",
              "      <th>Release Date</th>\n",
              "      <th>GENRE</th>\n",
              "      <th>VALUE</th>\n",
              "      <th>Genre_all</th>\n",
              "      <th>Tags</th>\n",
              "      <th>Languages</th>\n",
              "      <th>Hidden Gem Score</th>\n",
              "      <th>Country Availability</th>\n",
              "      <th>Runtime</th>\n",
              "      <th>Director</th>\n",
              "      <th>Writer</th>\n",
              "      <th>Actors</th>\n",
              "      <th>View Rating</th>\n",
              "      <th>IMDb_Score</th>\n",
              "      <th>Rotten Tomatoes Score</th>\n",
              "      <th>Metacritic Score</th>\n",
              "      <th>Awards Received</th>\n",
              "      <th>Awards Nominated For</th>\n",
              "      <th>Boxoffice</th>\n",
              "      <th>Netflix Release Date</th>\n",
              "      <th>Production House</th>\n",
              "      <th>Summary</th>\n",
              "      <th>IMDb_Votes</th>\n",
              "    </tr>\n",
              "  </thead>\n",
              "  <tbody>\n",
              "    <tr>\n",
              "      <th>0</th>\n",
              "      <td>0</td>\n",
              "      <td>thequeensgambit</td>\n",
              "      <td>TV</td>\n",
              "      <td>United States</td>\n",
              "      <td>2020.10.23</td>\n",
              "      <td>Drama</td>\n",
              "      <td>44867</td>\n",
              "      <td>Biography, Drama, History</td>\n",
              "      <td>TV Dramas,US TV Shows,TV Shows Based on Books,...</td>\n",
              "      <td>English, German, French</td>\n",
              "      <td>4.3</td>\n",
              "      <td>Lithuania,Canada,Australia,Poland,Mexico,Franc...</td>\n",
              "      <td>&lt; 30 minutes</td>\n",
              "      <td>Stephen Frears</td>\n",
              "      <td>Peter Morgan</td>\n",
              "      <td>Alex Jennings, Roger Allam, James Cromwell, He...</td>\n",
              "      <td>PG-13</td>\n",
              "      <td>7.3</td>\n",
              "      <td>96.0</td>\n",
              "      <td>91.0</td>\n",
              "      <td>96.0</td>\n",
              "      <td>97.0</td>\n",
              "      <td>$56,441,711</td>\n",
              "      <td>2020.10.23</td>\n",
              "      <td>PathÃ© Pictures, Scott Rudin Productions</td>\n",
              "      <td>In a 1950s orphanage, a young girl reveals an ...</td>\n",
              "      <td>104495.0</td>\n",
              "    </tr>\n",
              "    <tr>\n",
              "      <th>1</th>\n",
              "      <td>1</td>\n",
              "      <td>365days</td>\n",
              "      <td>Movie</td>\n",
              "      <td>Poland</td>\n",
              "      <td>2020.6.7</td>\n",
              "      <td>Romance</td>\n",
              "      <td>42149</td>\n",
              "      <td>Drama, Romance</td>\n",
              "      <td>Polish Movies,Polish Dramas,Dramas,Romantic Dr...</td>\n",
              "      <td>Polish, English, Italian</td>\n",
              "      <td>1.6</td>\n",
              "      <td>Poland,Russia,United Kingdom,Slovakia,Canada,G...</td>\n",
              "      <td>1-2 hour</td>\n",
              "      <td>Tomasz Mandes, Barbara Bialowas</td>\n",
              "      <td>Blanka Lipinska, Tomasz Klimala, Barbara Bialo...</td>\n",
              "      <td>Michele Morrone, Otar Saralidze, Bronislaw Wro...</td>\n",
              "      <td>TV-MA</td>\n",
              "      <td>3.2</td>\n",
              "      <td>NaN</td>\n",
              "      <td>NaN</td>\n",
              "      <td>NaN</td>\n",
              "      <td>NaN</td>\n",
              "      <td>NaN</td>\n",
              "      <td>2020.4.2</td>\n",
              "      <td>NaN</td>\n",
              "      <td>A fiery executive in a spiritless relationship...</td>\n",
              "      <td>50125.0</td>\n",
              "    </tr>\n",
              "  </tbody>\n",
              "</table>\n",
              "</div>"
            ],
            "text/plain": [
              "   Unnamed: 0  ... IMDb_Votes\n",
              "0           0  ...   104495.0\n",
              "1           1  ...    50125.0\n",
              "\n",
              "[2 rows x 27 columns]"
            ]
          },
          "metadata": {
            "tags": []
          },
          "execution_count": 5
        }
      ]
    },
    {
      "cell_type": "markdown",
      "metadata": {
        "id": "M2GhTFmtn5AI"
      },
      "source": [
        "#### **해당 데이터에서 쓰고자 하는 컬럼 외에 다른 것들 드랍**\n",
        "VALUE와 IMDb_Score, GENRE만 사용"
      ]
    },
    {
      "cell_type": "code",
      "metadata": {
        "id": "fa29-i_qY2oX",
        "colab": {
          "base_uri": "https://localhost:8080/",
          "height": 419
        },
        "outputId": "98f6bc53-60f0-42cc-9f19-e6839535cb37"
      },
      "source": [
        "IMDB_base = use_df.drop(['Unnamed: 0','IMDb_Votes','COUNTRY','Tags','Country Availability','Languages','Hidden Gem Score', 'Runtime', 'Director', 'Writer', 'Actors','Metacritic Score','Awards Received','Awards Nominated For','Release Date','Production House','Runtime','Summary','View Rating','Rotten Tomatoes Score','Boxoffice','Netflix Release Date','Genre_all'], axis = 1)\n",
        "IMDB_base"
      ],
      "execution_count": 6,
      "outputs": [
        {
          "output_type": "execute_result",
          "data": {
            "text/html": [
              "<div>\n",
              "<style scoped>\n",
              "    .dataframe tbody tr th:only-of-type {\n",
              "        vertical-align: middle;\n",
              "    }\n",
              "\n",
              "    .dataframe tbody tr th {\n",
              "        vertical-align: top;\n",
              "    }\n",
              "\n",
              "    .dataframe thead th {\n",
              "        text-align: right;\n",
              "    }\n",
              "</style>\n",
              "<table border=\"1\" class=\"dataframe\">\n",
              "  <thead>\n",
              "    <tr style=\"text-align: right;\">\n",
              "      <th></th>\n",
              "      <th>Title</th>\n",
              "      <th>Type</th>\n",
              "      <th>GENRE</th>\n",
              "      <th>VALUE</th>\n",
              "      <th>IMDb_Score</th>\n",
              "    </tr>\n",
              "  </thead>\n",
              "  <tbody>\n",
              "    <tr>\n",
              "      <th>0</th>\n",
              "      <td>thequeensgambit</td>\n",
              "      <td>TV</td>\n",
              "      <td>Drama</td>\n",
              "      <td>44867</td>\n",
              "      <td>7.3</td>\n",
              "    </tr>\n",
              "    <tr>\n",
              "      <th>1</th>\n",
              "      <td>365days</td>\n",
              "      <td>Movie</td>\n",
              "      <td>Romance</td>\n",
              "      <td>42149</td>\n",
              "      <td>3.2</td>\n",
              "    </tr>\n",
              "    <tr>\n",
              "      <th>2</th>\n",
              "      <td>emilyinparis</td>\n",
              "      <td>TV</td>\n",
              "      <td>Drama</td>\n",
              "      <td>27138</td>\n",
              "      <td>7.1</td>\n",
              "    </tr>\n",
              "    <tr>\n",
              "      <th>3</th>\n",
              "      <td>lucifer</td>\n",
              "      <td>TV</td>\n",
              "      <td>Superhero</td>\n",
              "      <td>25729</td>\n",
              "      <td>6.9</td>\n",
              "    </tr>\n",
              "    <tr>\n",
              "      <th>4</th>\n",
              "      <td>theumbrellaacademy</td>\n",
              "      <td>TV</td>\n",
              "      <td>Superhero</td>\n",
              "      <td>23480</td>\n",
              "      <td>8.0</td>\n",
              "    </tr>\n",
              "    <tr>\n",
              "      <th>...</th>\n",
              "      <td>...</td>\n",
              "      <td>...</td>\n",
              "      <td>...</td>\n",
              "      <td>...</td>\n",
              "      <td>...</td>\n",
              "    </tr>\n",
              "    <tr>\n",
              "      <th>2955</th>\n",
              "      <td>thebournesupremacy</td>\n",
              "      <td>Movie</td>\n",
              "      <td>Action</td>\n",
              "      <td>1</td>\n",
              "      <td>7.7</td>\n",
              "    </tr>\n",
              "    <tr>\n",
              "      <th>2956</th>\n",
              "      <td>justfriends</td>\n",
              "      <td>Movie</td>\n",
              "      <td>Romance</td>\n",
              "      <td>1</td>\n",
              "      <td>6.2</td>\n",
              "    </tr>\n",
              "    <tr>\n",
              "      <th>2957</th>\n",
              "      <td>child44</td>\n",
              "      <td>Movie</td>\n",
              "      <td>Thriller</td>\n",
              "      <td>1</td>\n",
              "      <td>6.5</td>\n",
              "    </tr>\n",
              "    <tr>\n",
              "      <th>2958</th>\n",
              "      <td>draculauntold</td>\n",
              "      <td>Movie</td>\n",
              "      <td>Horror</td>\n",
              "      <td>1</td>\n",
              "      <td>6.3</td>\n",
              "    </tr>\n",
              "    <tr>\n",
              "      <th>2959</th>\n",
              "      <td>riddick</td>\n",
              "      <td>Movie</td>\n",
              "      <td>Science Fiction</td>\n",
              "      <td>1</td>\n",
              "      <td>6.4</td>\n",
              "    </tr>\n",
              "  </tbody>\n",
              "</table>\n",
              "<p>2960 rows × 5 columns</p>\n",
              "</div>"
            ],
            "text/plain": [
              "                   Title   Type            GENRE  VALUE  IMDb_Score\n",
              "0        thequeensgambit     TV            Drama  44867         7.3\n",
              "1                365days  Movie          Romance  42149         3.2\n",
              "2           emilyinparis     TV            Drama  27138         7.1\n",
              "3                lucifer     TV        Superhero  25729         6.9\n",
              "4     theumbrellaacademy     TV        Superhero  23480         8.0\n",
              "...                  ...    ...              ...    ...         ...\n",
              "2955  thebournesupremacy  Movie           Action      1         7.7\n",
              "2956         justfriends  Movie          Romance      1         6.2\n",
              "2957             child44  Movie         Thriller      1         6.5\n",
              "2958       draculauntold  Movie           Horror      1         6.3\n",
              "2959             riddick  Movie  Science Fiction      1         6.4\n",
              "\n",
              "[2960 rows x 5 columns]"
            ]
          },
          "metadata": {
            "tags": []
          },
          "execution_count": 6
        }
      ]
    },
    {
      "cell_type": "markdown",
      "metadata": {
        "id": "fvK79nylPU2W"
      },
      "source": [
        "**결측치 있는 항목 드랍**"
      ]
    },
    {
      "cell_type": "code",
      "metadata": {
        "id": "rSig28udvCOt",
        "colab": {
          "base_uri": "https://localhost:8080/",
          "height": 288
        },
        "outputId": "9ff67254-0b45-4211-fb8e-af5fc2cd67ca"
      },
      "source": [
        "sns.heatmap(IMDB_base.isnull())"
      ],
      "execution_count": 7,
      "outputs": [
        {
          "output_type": "execute_result",
          "data": {
            "text/plain": [
              "<matplotlib.axes._subplots.AxesSubplot at 0x7fc736c01350>"
            ]
          },
          "metadata": {
            "tags": []
          },
          "execution_count": 7
        },
        {
          "output_type": "display_data",
          "data": {
            "image/png": "[encoded data removed]",
            "text/plain": [
              "<Figure size 432x288 with 2 Axes>"
            ]
          },
          "metadata": {
            "tags": [],
            "needs_background": "light"
          }
        }
      ]
    },
    {
      "cell_type": "code",
      "metadata": {
        "id": "WBLI7uV3vaqq",
        "colab": {
          "base_uri": "https://localhost:8080/",
          "height": 419
        },
        "outputId": "79600d37-7a4e-4549-a526-9669b5aea41a"
      },
      "source": [
        "IMDB_base = IMDB_base.dropna(subset=['IMDb_Score'])\n",
        "IMDB_base"
      ],
      "execution_count": 8,
      "outputs": [
        {
          "output_type": "execute_result",
          "data": {
            "text/html": [
              "<div>\n",
              "<style scoped>\n",
              "    .dataframe tbody tr th:only-of-type {\n",
              "        vertical-align: middle;\n",
              "    }\n",
              "\n",
              "    .dataframe tbody tr th {\n",
              "        vertical-align: top;\n",
              "    }\n",
              "\n",
              "    .dataframe thead th {\n",
              "        text-align: right;\n",
              "    }\n",
              "</style>\n",
              "<table border=\"1\" class=\"dataframe\">\n",
              "  <thead>\n",
              "    <tr style=\"text-align: right;\">\n",
              "      <th></th>\n",
              "      <th>Title</th>\n",
              "      <th>Type</th>\n",
              "      <th>GENRE</th>\n",
              "      <th>VALUE</th>\n",
              "      <th>IMDb_Score</th>\n",
              "    </tr>\n",
              "  </thead>\n",
              "  <tbody>\n",
              "    <tr>\n",
              "      <th>0</th>\n",
              "      <td>thequeensgambit</td>\n",
              "      <td>TV</td>\n",
              "      <td>Drama</td>\n",
              "      <td>44867</td>\n",
              "      <td>7.3</td>\n",
              "    </tr>\n",
              "    <tr>\n",
              "      <th>1</th>\n",
              "      <td>365days</td>\n",
              "      <td>Movie</td>\n",
              "      <td>Romance</td>\n",
              "      <td>42149</td>\n",
              "      <td>3.2</td>\n",
              "    </tr>\n",
              "    <tr>\n",
              "      <th>2</th>\n",
              "      <td>emilyinparis</td>\n",
              "      <td>TV</td>\n",
              "      <td>Drama</td>\n",
              "      <td>27138</td>\n",
              "      <td>7.1</td>\n",
              "    </tr>\n",
              "    <tr>\n",
              "      <th>3</th>\n",
              "      <td>lucifer</td>\n",
              "      <td>TV</td>\n",
              "      <td>Superhero</td>\n",
              "      <td>25729</td>\n",
              "      <td>6.9</td>\n",
              "    </tr>\n",
              "    <tr>\n",
              "      <th>4</th>\n",
              "      <td>theumbrellaacademy</td>\n",
              "      <td>TV</td>\n",
              "      <td>Superhero</td>\n",
              "      <td>23480</td>\n",
              "      <td>8.0</td>\n",
              "    </tr>\n",
              "    <tr>\n",
              "      <th>...</th>\n",
              "      <td>...</td>\n",
              "      <td>...</td>\n",
              "      <td>...</td>\n",
              "      <td>...</td>\n",
              "      <td>...</td>\n",
              "    </tr>\n",
              "    <tr>\n",
              "      <th>2955</th>\n",
              "      <td>thebournesupremacy</td>\n",
              "      <td>Movie</td>\n",
              "      <td>Action</td>\n",
              "      <td>1</td>\n",
              "      <td>7.7</td>\n",
              "    </tr>\n",
              "    <tr>\n",
              "      <th>2956</th>\n",
              "      <td>justfriends</td>\n",
              "      <td>Movie</td>\n",
              "      <td>Romance</td>\n",
              "      <td>1</td>\n",
              "      <td>6.2</td>\n",
              "    </tr>\n",
              "    <tr>\n",
              "      <th>2957</th>\n",
              "      <td>child44</td>\n",
              "      <td>Movie</td>\n",
              "      <td>Thriller</td>\n",
              "      <td>1</td>\n",
              "      <td>6.5</td>\n",
              "    </tr>\n",
              "    <tr>\n",
              "      <th>2958</th>\n",
              "      <td>draculauntold</td>\n",
              "      <td>Movie</td>\n",
              "      <td>Horror</td>\n",
              "      <td>1</td>\n",
              "      <td>6.3</td>\n",
              "    </tr>\n",
              "    <tr>\n",
              "      <th>2959</th>\n",
              "      <td>riddick</td>\n",
              "      <td>Movie</td>\n",
              "      <td>Science Fiction</td>\n",
              "      <td>1</td>\n",
              "      <td>6.4</td>\n",
              "    </tr>\n",
              "  </tbody>\n",
              "</table>\n",
              "<p>2808 rows × 5 columns</p>\n",
              "</div>"
            ],
            "text/plain": [
              "                   Title   Type            GENRE  VALUE  IMDb_Score\n",
              "0        thequeensgambit     TV            Drama  44867         7.3\n",
              "1                365days  Movie          Romance  42149         3.2\n",
              "2           emilyinparis     TV            Drama  27138         7.1\n",
              "3                lucifer     TV        Superhero  25729         6.9\n",
              "4     theumbrellaacademy     TV        Superhero  23480         8.0\n",
              "...                  ...    ...              ...    ...         ...\n",
              "2955  thebournesupremacy  Movie           Action      1         7.7\n",
              "2956         justfriends  Movie          Romance      1         6.2\n",
              "2957             child44  Movie         Thriller      1         6.5\n",
              "2958       draculauntold  Movie           Horror      1         6.3\n",
              "2959             riddick  Movie  Science Fiction      1         6.4\n",
              "\n",
              "[2808 rows x 5 columns]"
            ]
          },
          "metadata": {
            "tags": []
          },
          "execution_count": 8
        }
      ]
    },
    {
      "cell_type": "markdown",
      "metadata": {
        "id": "OtjOHSgs2T1F"
      },
      "source": [
        "#### **형 변환**"
      ]
    },
    {
      "cell_type": "markdown",
      "metadata": {
        "id": "D2w96Jr4o96d"
      },
      "source": [
        "점수대 별 VALUE(Viewpoints)를 확인하기 위해 IMDb_Score 형변환한 데이터 별도 생성 (int_score)"
      ]
    },
    {
      "cell_type": "code",
      "metadata": {
        "colab": {
          "base_uri": "https://localhost:8080/",
          "height": 419
        },
        "id": "U0bFDkZJrOVt",
        "outputId": "9acc3247-a36c-407f-902f-80c2961cfdb0"
      },
      "source": [
        "int_score = IMDB_base.copy()\n",
        "int_score"
      ],
      "execution_count": 9,
      "outputs": [
        {
          "output_type": "execute_result",
          "data": {
            "text/html": [
              "<div>\n",
              "<style scoped>\n",
              "    .dataframe tbody tr th:only-of-type {\n",
              "        vertical-align: middle;\n",
              "    }\n",
              "\n",
              "    .dataframe tbody tr th {\n",
              "        vertical-align: top;\n",
              "    }\n",
              "\n",
              "    .dataframe thead th {\n",
              "        text-align: right;\n",
              "    }\n",
              "</style>\n",
              "<table border=\"1\" class=\"dataframe\">\n",
              "  <thead>\n",
              "    <tr style=\"text-align: right;\">\n",
              "      <th></th>\n",
              "      <th>Title</th>\n",
              "      <th>Type</th>\n",
              "      <th>GENRE</th>\n",
              "      <th>VALUE</th>\n",
              "      <th>IMDb_Score</th>\n",
              "    </tr>\n",
              "  </thead>\n",
              "  <tbody>\n",
              "    <tr>\n",
              "      <th>0</th>\n",
              "      <td>thequeensgambit</td>\n",
              "      <td>TV</td>\n",
              "      <td>Drama</td>\n",
              "      <td>44867</td>\n",
              "      <td>7.3</td>\n",
              "    </tr>\n",
              "    <tr>\n",
              "      <th>1</th>\n",
              "      <td>365days</td>\n",
              "      <td>Movie</td>\n",
              "      <td>Romance</td>\n",
              "      <td>42149</td>\n",
              "      <td>3.2</td>\n",
              "    </tr>\n",
              "    <tr>\n",
              "      <th>2</th>\n",
              "      <td>emilyinparis</td>\n",
              "      <td>TV</td>\n",
              "      <td>Drama</td>\n",
              "      <td>27138</td>\n",
              "      <td>7.1</td>\n",
              "    </tr>\n",
              "    <tr>\n",
              "      <th>3</th>\n",
              "      <td>lucifer</td>\n",
              "      <td>TV</td>\n",
              "      <td>Superhero</td>\n",
              "      <td>25729</td>\n",
              "      <td>6.9</td>\n",
              "    </tr>\n",
              "    <tr>\n",
              "      <th>4</th>\n",
              "      <td>theumbrellaacademy</td>\n",
              "      <td>TV</td>\n",
              "      <td>Superhero</td>\n",
              "      <td>23480</td>\n",
              "      <td>8.0</td>\n",
              "    </tr>\n",
              "    <tr>\n",
              "      <th>...</th>\n",
              "      <td>...</td>\n",
              "      <td>...</td>\n",
              "      <td>...</td>\n",
              "      <td>...</td>\n",
              "      <td>...</td>\n",
              "    </tr>\n",
              "    <tr>\n",
              "      <th>2955</th>\n",
              "      <td>thebournesupremacy</td>\n",
              "      <td>Movie</td>\n",
              "      <td>Action</td>\n",
              "      <td>1</td>\n",
              "      <td>7.7</td>\n",
              "    </tr>\n",
              "    <tr>\n",
              "      <th>2956</th>\n",
              "      <td>justfriends</td>\n",
              "      <td>Movie</td>\n",
              "      <td>Romance</td>\n",
              "      <td>1</td>\n",
              "      <td>6.2</td>\n",
              "    </tr>\n",
              "    <tr>\n",
              "      <th>2957</th>\n",
              "      <td>child44</td>\n",
              "      <td>Movie</td>\n",
              "      <td>Thriller</td>\n",
              "      <td>1</td>\n",
              "      <td>6.5</td>\n",
              "    </tr>\n",
              "    <tr>\n",
              "      <th>2958</th>\n",
              "      <td>draculauntold</td>\n",
              "      <td>Movie</td>\n",
              "      <td>Horror</td>\n",
              "      <td>1</td>\n",
              "      <td>6.3</td>\n",
              "    </tr>\n",
              "    <tr>\n",
              "      <th>2959</th>\n",
              "      <td>riddick</td>\n",
              "      <td>Movie</td>\n",
              "      <td>Science Fiction</td>\n",
              "      <td>1</td>\n",
              "      <td>6.4</td>\n",
              "    </tr>\n",
              "  </tbody>\n",
              "</table>\n",
              "<p>2808 rows × 5 columns</p>\n",
              "</div>"
            ],
            "text/plain": [
              "                   Title   Type            GENRE  VALUE  IMDb_Score\n",
              "0        thequeensgambit     TV            Drama  44867         7.3\n",
              "1                365days  Movie          Romance  42149         3.2\n",
              "2           emilyinparis     TV            Drama  27138         7.1\n",
              "3                lucifer     TV        Superhero  25729         6.9\n",
              "4     theumbrellaacademy     TV        Superhero  23480         8.0\n",
              "...                  ...    ...              ...    ...         ...\n",
              "2955  thebournesupremacy  Movie           Action      1         7.7\n",
              "2956         justfriends  Movie          Romance      1         6.2\n",
              "2957             child44  Movie         Thriller      1         6.5\n",
              "2958       draculauntold  Movie           Horror      1         6.3\n",
              "2959             riddick  Movie  Science Fiction      1         6.4\n",
              "\n",
              "[2808 rows x 5 columns]"
            ]
          },
          "metadata": {
            "tags": []
          },
          "execution_count": 9
        }
      ]
    },
    {
      "cell_type": "code",
      "metadata": {
        "colab": {
          "base_uri": "https://localhost:8080/",
          "height": 419
        },
        "id": "lHDdBOSmpMsG",
        "outputId": "e528c59c-013e-4c33-9882-39e48cd8a20e"
      },
      "source": [
        "int_score['IMDb_Score'] = int_score['IMDb_Score'].astype('int')\n",
        "int_score"
      ],
      "execution_count": 10,
      "outputs": [
        {
          "output_type": "execute_result",
          "data": {
            "text/html": [
              "<div>\n",
              "<style scoped>\n",
              "    .dataframe tbody tr th:only-of-type {\n",
              "        vertical-align: middle;\n",
              "    }\n",
              "\n",
              "    .dataframe tbody tr th {\n",
              "        vertical-align: top;\n",
              "    }\n",
              "\n",
              "    .dataframe thead th {\n",
              "        text-align: right;\n",
              "    }\n",
              "</style>\n",
              "<table border=\"1\" class=\"dataframe\">\n",
              "  <thead>\n",
              "    <tr style=\"text-align: right;\">\n",
              "      <th></th>\n",
              "      <th>Title</th>\n",
              "      <th>Type</th>\n",
              "      <th>GENRE</th>\n",
              "      <th>VALUE</th>\n",
              "      <th>IMDb_Score</th>\n",
              "    </tr>\n",
              "  </thead>\n",
              "  <tbody>\n",
              "    <tr>\n",
              "      <th>0</th>\n",
              "      <td>thequeensgambit</td>\n",
              "      <td>TV</td>\n",
              "      <td>Drama</td>\n",
              "      <td>44867</td>\n",
              "      <td>7</td>\n",
              "    </tr>\n",
              "    <tr>\n",
              "      <th>1</th>\n",
              "      <td>365days</td>\n",
              "      <td>Movie</td>\n",
              "      <td>Romance</td>\n",
              "      <td>42149</td>\n",
              "      <td>3</td>\n",
              "    </tr>\n",
              "    <tr>\n",
              "      <th>2</th>\n",
              "      <td>emilyinparis</td>\n",
              "      <td>TV</td>\n",
              "      <td>Drama</td>\n",
              "      <td>27138</td>\n",
              "      <td>7</td>\n",
              "    </tr>\n",
              "    <tr>\n",
              "      <th>3</th>\n",
              "      <td>lucifer</td>\n",
              "      <td>TV</td>\n",
              "      <td>Superhero</td>\n",
              "      <td>25729</td>\n",
              "      <td>6</td>\n",
              "    </tr>\n",
              "    <tr>\n",
              "      <th>4</th>\n",
              "      <td>theumbrellaacademy</td>\n",
              "      <td>TV</td>\n",
              "      <td>Superhero</td>\n",
              "      <td>23480</td>\n",
              "      <td>8</td>\n",
              "    </tr>\n",
              "    <tr>\n",
              "      <th>...</th>\n",
              "      <td>...</td>\n",
              "      <td>...</td>\n",
              "      <td>...</td>\n",
              "      <td>...</td>\n",
              "      <td>...</td>\n",
              "    </tr>\n",
              "    <tr>\n",
              "      <th>2955</th>\n",
              "      <td>thebournesupremacy</td>\n",
              "      <td>Movie</td>\n",
              "      <td>Action</td>\n",
              "      <td>1</td>\n",
              "      <td>7</td>\n",
              "    </tr>\n",
              "    <tr>\n",
              "      <th>2956</th>\n",
              "      <td>justfriends</td>\n",
              "      <td>Movie</td>\n",
              "      <td>Romance</td>\n",
              "      <td>1</td>\n",
              "      <td>6</td>\n",
              "    </tr>\n",
              "    <tr>\n",
              "      <th>2957</th>\n",
              "      <td>child44</td>\n",
              "      <td>Movie</td>\n",
              "      <td>Thriller</td>\n",
              "      <td>1</td>\n",
              "      <td>6</td>\n",
              "    </tr>\n",
              "    <tr>\n",
              "      <th>2958</th>\n",
              "      <td>draculauntold</td>\n",
              "      <td>Movie</td>\n",
              "      <td>Horror</td>\n",
              "      <td>1</td>\n",
              "      <td>6</td>\n",
              "    </tr>\n",
              "    <tr>\n",
              "      <th>2959</th>\n",
              "      <td>riddick</td>\n",
              "      <td>Movie</td>\n",
              "      <td>Science Fiction</td>\n",
              "      <td>1</td>\n",
              "      <td>6</td>\n",
              "    </tr>\n",
              "  </tbody>\n",
              "</table>\n",
              "<p>2808 rows × 5 columns</p>\n",
              "</div>"
            ],
            "text/plain": [
              "                   Title   Type            GENRE  VALUE  IMDb_Score\n",
              "0        thequeensgambit     TV            Drama  44867           7\n",
              "1                365days  Movie          Romance  42149           3\n",
              "2           emilyinparis     TV            Drama  27138           7\n",
              "3                lucifer     TV        Superhero  25729           6\n",
              "4     theumbrellaacademy     TV        Superhero  23480           8\n",
              "...                  ...    ...              ...    ...         ...\n",
              "2955  thebournesupremacy  Movie           Action      1           7\n",
              "2956         justfriends  Movie          Romance      1           6\n",
              "2957             child44  Movie         Thriller      1           6\n",
              "2958       draculauntold  Movie           Horror      1           6\n",
              "2959             riddick  Movie  Science Fiction      1           6\n",
              "\n",
              "[2808 rows x 5 columns]"
            ]
          },
          "metadata": {
            "tags": []
          },
          "execution_count": 10
        }
      ]
    },
    {
      "cell_type": "code",
      "metadata": {
        "id": "xKCga5qE2G2b",
        "colab": {
          "base_uri": "https://localhost:8080/"
        },
        "outputId": "d0b4fbe3-edc1-4a75-8a62-bf40907d576b"
      },
      "source": [
        "IMDB_base.dtypes"
      ],
      "execution_count": 11,
      "outputs": [
        {
          "output_type": "execute_result",
          "data": {
            "text/plain": [
              "Title          object\n",
              "Type           object\n",
              "GENRE          object\n",
              "VALUE           int64\n",
              "IMDb_Score    float64\n",
              "dtype: object"
            ]
          },
          "metadata": {
            "tags": []
          },
          "execution_count": 11
        }
      ]
    },
    {
      "cell_type": "markdown",
      "metadata": {
        "id": "v1Hn9Dml2Qe-"
      },
      "source": [
        "#### **결측치 확인 및 제거**"
      ]
    },
    {
      "cell_type": "code",
      "metadata": {
        "id": "ze8X1dRBvq9y",
        "colab": {
          "base_uri": "https://localhost:8080/",
          "height": 288
        },
        "outputId": "16d714ea-fe2a-4132-81b7-8176ab0411ab"
      },
      "source": [
        "sns.heatmap(IMDB_base.isnull())"
      ],
      "execution_count": 12,
      "outputs": [
        {
          "output_type": "execute_result",
          "data": {
            "text/plain": [
              "<matplotlib.axes._subplots.AxesSubplot at 0x7fc72d36b190>"
            ]
          },
          "metadata": {
            "tags": []
          },
          "execution_count": 12
        },
        {
          "output_type": "display_data",
          "data": {
            "image/png": "[encoded data removed]",
            "text/plain": [
              "<Figure size 432x288 with 2 Axes>"
            ]
          },
          "metadata": {
            "tags": [],
            "needs_background": "light"
          }
        }
      ]
    },
    {
      "cell_type": "code",
      "metadata": {
        "id": "XXHAIUGSf34w",
        "colab": {
          "base_uri": "https://localhost:8080/"
        },
        "outputId": "a6937575-d91c-45c5-8bb4-19797a69477c"
      },
      "source": [
        "len(IMDB_base['VALUE'].unique())"
      ],
      "execution_count": 13,
      "outputs": [
        {
          "output_type": "execute_result",
          "data": {
            "text/plain": [
              "895"
            ]
          },
          "metadata": {
            "tags": []
          },
          "execution_count": 13
        }
      ]
    },
    {
      "cell_type": "code",
      "metadata": {
        "id": "8TfZ7sw1X1c1",
        "colab": {
          "base_uri": "https://localhost:8080/"
        },
        "outputId": "1a80c8a3-8d6a-4ed7-c70d-1ff8cefd9ed3"
      },
      "source": [
        "IMDB_base['VALUE'].value_counts()"
      ],
      "execution_count": 14,
      "outputs": [
        {
          "output_type": "execute_result",
          "data": {
            "text/plain": [
              "1       93\n",
              "2       70\n",
              "5       43\n",
              "3       42\n",
              "9       42\n",
              "        ..\n",
              "323      1\n",
              "2370     1\n",
              "313      1\n",
              "303      1\n",
              "2040     1\n",
              "Name: VALUE, Length: 895, dtype: int64"
            ]
          },
          "metadata": {
            "tags": []
          },
          "execution_count": 14
        }
      ]
    },
    {
      "cell_type": "markdown",
      "metadata": {
        "id": "EwAiXYYv2tLu"
      },
      "source": [
        "#### **데이터 분포 확인**"
      ]
    },
    {
      "cell_type": "markdown",
      "metadata": {
        "id": "Fok4CrsmhVQH"
      },
      "source": [
        "IMDB SCORE - 평점은 5~7점대가 대부분"
      ]
    },
    {
      "cell_type": "code",
      "metadata": {
        "id": "DVnSWhEwytBt",
        "colab": {
          "base_uri": "https://localhost:8080/",
          "height": 298
        },
        "outputId": "1e39bc66-3773-4b73-c678-ff7db3d12275"
      },
      "source": [
        "sns.boxplot(x=IMDB_base['IMDb_Score'])"
      ],
      "execution_count": 15,
      "outputs": [
        {
          "output_type": "execute_result",
          "data": {
            "text/plain": [
              "<matplotlib.axes._subplots.AxesSubplot at 0x7fc72d2ce950>"
            ]
          },
          "metadata": {
            "tags": []
          },
          "execution_count": 15
        },
        {
          "output_type": "display_data",
          "data": {
            "image/png": "[encoded data removed]",
            "text/plain": [
              "<Figure size 432x288 with 1 Axes>"
            ]
          },
          "metadata": {
            "tags": [],
            "needs_background": "light"
          }
        }
      ]
    },
    {
      "cell_type": "markdown",
      "metadata": {
        "id": "bsEJa3QoBRdg"
      },
      "source": [
        "Viewpoints - 편향됨"
      ]
    },
    {
      "cell_type": "code",
      "metadata": {
        "id": "TBPWyob43e8I",
        "colab": {
          "base_uri": "https://localhost:8080/",
          "height": 297
        },
        "outputId": "1d525aa5-4d50-47a6-d60a-e76de11774df"
      },
      "source": [
        "sns.boxplot(x=IMDB_base['VALUE'])"
      ],
      "execution_count": 16,
      "outputs": [
        {
          "output_type": "execute_result",
          "data": {
            "text/plain": [
              "<matplotlib.axes._subplots.AxesSubplot at 0x7fc72d237a10>"
            ]
          },
          "metadata": {
            "tags": []
          },
          "execution_count": 16
        },
        {
          "output_type": "display_data",
          "data": {
            "image/png": "[encoded data removed]",
            "text/plain": [
              "<Figure size 432x288 with 1 Axes>"
            ]
          },
          "metadata": {
            "tags": [],
            "needs_background": "light"
          }
        }
      ]
    },
    {
      "cell_type": "markdown",
      "metadata": {
        "id": "zEM6uB_CBhwz"
      },
      "source": [
        "점수대 별 Viewpoint(VALUE)값 확인"
      ]
    },
    {
      "cell_type": "code",
      "metadata": {
        "id": "c_megB-8wlvX",
        "colab": {
          "base_uri": "https://localhost:8080/",
          "height": 280
        },
        "outputId": "7334e179-e454-4b9b-c559-6f0ce7064da2"
      },
      "source": [
        "IMDB_base.plot.scatter(x=\"IMDb_Score\",y=\"VALUE\",s=20);"
      ],
      "execution_count": 17,
      "outputs": [
        {
          "output_type": "display_data",
          "data": {
            "image/png": "[encoded data removed]",
            "text/plain": [
              "<Figure size 432x288 with 1 Axes>"
            ]
          },
          "metadata": {
            "tags": [],
            "needs_background": "light"
          }
        }
      ]
    },
    {
      "cell_type": "code",
      "metadata": {
        "colab": {
          "base_uri": "https://localhost:8080/",
          "height": 280
        },
        "id": "B9uGU-kfs932",
        "outputId": "51569650-52c3-45e4-9c68-db5d3ad8d36a"
      },
      "source": [
        "int_score.plot.scatter(x=\"IMDb_Score\", y=\"VALUE\", s =20); #점수대별 VALUE"
      ],
      "execution_count": 18,
      "outputs": [
        {
          "output_type": "display_data",
          "data": {
            "image/png": "[encoded data removed]",
            "text/plain": [
              "<Figure size 432x288 with 1 Axes>"
            ]
          },
          "metadata": {
            "tags": [],
            "needs_background": "light"
          }
        }
      ]
    },
    {
      "cell_type": "markdown",
      "metadata": {
        "id": "H3zLYUyBul4-"
      },
      "source": [
        "#### 데이터 스케일링"
      ]
    },
    {
      "cell_type": "markdown",
      "metadata": {
        "id": "2gGQtbTgBnhD"
      },
      "source": [
        "**로그 스케일링**"
      ]
    },
    {
      "cell_type": "code",
      "metadata": {
        "id": "LVnirA7faJ2A",
        "colab": {
          "base_uri": "https://localhost:8080/",
          "height": 661
        },
        "outputId": "2350192f-7faa-461a-beda-bc42d24cc61a"
      },
      "source": [
        "IMDB_base[\"Log_VALUE\"] = np.log1p(IMDB_base[\"VALUE\"])\n",
        "f, ax = plt.subplots(figsize = (10, 6))\n",
        "sns.distplot(IMDB_base[\"Log_VALUE\"])\n",
        "print(\"Skewness: {:.3f}\".format(IMDB_base[\"Log_VALUE\"].skew()))\n",
        "print(\"Kurtosis: {:.3f}\".format(IMDB_base[\"Log_VALUE\"].kurt()))"
      ],
      "execution_count": 19,
      "outputs": [
        {
          "output_type": "stream",
          "text": [
            "/usr/local/lib/python3.7/dist-packages/ipykernel_launcher.py:1: SettingWithCopyWarning:\n",
            "\n",
            "\n",
            "A value is trying to be set on a copy of a slice from a DataFrame.\n",
            "Try using .loc[row_indexer,col_indexer] = value instead\n",
            "\n",
            "See the caveats in the documentation: https://pandas.pydata.org/pandas-docs/stable/user_guide/indexing.html#returning-a-view-versus-a-copy\n",
            "\n",
            "/usr/local/lib/python3.7/dist-packages/seaborn/distributions.py:2557: FutureWarning:\n",
            "\n",
            "`distplot` is a deprecated function and will be removed in a future version. Please adapt your code to use either `displot` (a figure-level function with similar flexibility) or `histplot` (an axes-level function for histograms).\n",
            "\n"
          ],
          "name": "stderr"
        },
        {
          "output_type": "stream",
          "text": [
            "Skewness: 0.223\n",
            "Kurtosis: -0.292\n"
          ],
          "name": "stdout"
        },
        {
          "output_type": "display_data",
          "data": {
            "image/png": "[encoded data removed]",
            "text/plain": [
              "<Figure size 720x432 with 1 Axes>"
            ]
          },
          "metadata": {
            "tags": [],
            "needs_background": "light"
          }
        }
      ]
    },
    {
      "cell_type": "code",
      "metadata": {
        "colab": {
          "base_uri": "https://localhost:8080/",
          "height": 419
        },
        "id": "vGzOJRo6SzQ6",
        "outputId": "a5cca536-cf44-4cfa-f185-a946cc7d7c50"
      },
      "source": [
        "IMDB_base"
      ],
      "execution_count": 20,
      "outputs": [
        {
          "output_type": "execute_result",
          "data": {
            "text/html": [
              "<div>\n",
              "<style scoped>\n",
              "    .dataframe tbody tr th:only-of-type {\n",
              "        vertical-align: middle;\n",
              "    }\n",
              "\n",
              "    .dataframe tbody tr th {\n",
              "        vertical-align: top;\n",
              "    }\n",
              "\n",
              "    .dataframe thead th {\n",
              "        text-align: right;\n",
              "    }\n",
              "</style>\n",
              "<table border=\"1\" class=\"dataframe\">\n",
              "  <thead>\n",
              "    <tr style=\"text-align: right;\">\n",
              "      <th></th>\n",
              "      <th>Title</th>\n",
              "      <th>Type</th>\n",
              "      <th>GENRE</th>\n",
              "      <th>VALUE</th>\n",
              "      <th>IMDb_Score</th>\n",
              "      <th>Log_VALUE</th>\n",
              "    </tr>\n",
              "  </thead>\n",
              "  <tbody>\n",
              "    <tr>\n",
              "      <th>0</th>\n",
              "      <td>thequeensgambit</td>\n",
              "      <td>TV</td>\n",
              "      <td>Drama</td>\n",
              "      <td>44867</td>\n",
              "      <td>7.3</td>\n",
              "      <td>10.711480</td>\n",
              "    </tr>\n",
              "    <tr>\n",
              "      <th>1</th>\n",
              "      <td>365days</td>\n",
              "      <td>Movie</td>\n",
              "      <td>Romance</td>\n",
              "      <td>42149</td>\n",
              "      <td>3.2</td>\n",
              "      <td>10.648990</td>\n",
              "    </tr>\n",
              "    <tr>\n",
              "      <th>2</th>\n",
              "      <td>emilyinparis</td>\n",
              "      <td>TV</td>\n",
              "      <td>Drama</td>\n",
              "      <td>27138</td>\n",
              "      <td>7.1</td>\n",
              "      <td>10.208727</td>\n",
              "    </tr>\n",
              "    <tr>\n",
              "      <th>3</th>\n",
              "      <td>lucifer</td>\n",
              "      <td>TV</td>\n",
              "      <td>Superhero</td>\n",
              "      <td>25729</td>\n",
              "      <td>6.9</td>\n",
              "      <td>10.155413</td>\n",
              "    </tr>\n",
              "    <tr>\n",
              "      <th>4</th>\n",
              "      <td>theumbrellaacademy</td>\n",
              "      <td>TV</td>\n",
              "      <td>Superhero</td>\n",
              "      <td>23480</td>\n",
              "      <td>8.0</td>\n",
              "      <td>10.063947</td>\n",
              "    </tr>\n",
              "    <tr>\n",
              "      <th>...</th>\n",
              "      <td>...</td>\n",
              "      <td>...</td>\n",
              "      <td>...</td>\n",
              "      <td>...</td>\n",
              "      <td>...</td>\n",
              "      <td>...</td>\n",
              "    </tr>\n",
              "    <tr>\n",
              "      <th>2955</th>\n",
              "      <td>thebournesupremacy</td>\n",
              "      <td>Movie</td>\n",
              "      <td>Action</td>\n",
              "      <td>1</td>\n",
              "      <td>7.7</td>\n",
              "      <td>0.693147</td>\n",
              "    </tr>\n",
              "    <tr>\n",
              "      <th>2956</th>\n",
              "      <td>justfriends</td>\n",
              "      <td>Movie</td>\n",
              "      <td>Romance</td>\n",
              "      <td>1</td>\n",
              "      <td>6.2</td>\n",
              "      <td>0.693147</td>\n",
              "    </tr>\n",
              "    <tr>\n",
              "      <th>2957</th>\n",
              "      <td>child44</td>\n",
              "      <td>Movie</td>\n",
              "      <td>Thriller</td>\n",
              "      <td>1</td>\n",
              "      <td>6.5</td>\n",
              "      <td>0.693147</td>\n",
              "    </tr>\n",
              "    <tr>\n",
              "      <th>2958</th>\n",
              "      <td>draculauntold</td>\n",
              "      <td>Movie</td>\n",
              "      <td>Horror</td>\n",
              "      <td>1</td>\n",
              "      <td>6.3</td>\n",
              "      <td>0.693147</td>\n",
              "    </tr>\n",
              "    <tr>\n",
              "      <th>2959</th>\n",
              "      <td>riddick</td>\n",
              "      <td>Movie</td>\n",
              "      <td>Science Fiction</td>\n",
              "      <td>1</td>\n",
              "      <td>6.4</td>\n",
              "      <td>0.693147</td>\n",
              "    </tr>\n",
              "  </tbody>\n",
              "</table>\n",
              "<p>2808 rows × 6 columns</p>\n",
              "</div>"
            ],
            "text/plain": [
              "                   Title   Type            GENRE  VALUE  IMDb_Score  Log_VALUE\n",
              "0        thequeensgambit     TV            Drama  44867         7.3  10.711480\n",
              "1                365days  Movie          Romance  42149         3.2  10.648990\n",
              "2           emilyinparis     TV            Drama  27138         7.1  10.208727\n",
              "3                lucifer     TV        Superhero  25729         6.9  10.155413\n",
              "4     theumbrellaacademy     TV        Superhero  23480         8.0  10.063947\n",
              "...                  ...    ...              ...    ...         ...        ...\n",
              "2955  thebournesupremacy  Movie           Action      1         7.7   0.693147\n",
              "2956         justfriends  Movie          Romance      1         6.2   0.693147\n",
              "2957             child44  Movie         Thriller      1         6.5   0.693147\n",
              "2958       draculauntold  Movie           Horror      1         6.3   0.693147\n",
              "2959             riddick  Movie  Science Fiction      1         6.4   0.693147\n",
              "\n",
              "[2808 rows x 6 columns]"
            ]
          },
          "metadata": {
            "tags": []
          },
          "execution_count": 20
        }
      ]
    },
    {
      "cell_type": "code",
      "metadata": {
        "id": "kPZPwRgwvEx2"
      },
      "source": [
        "IMDB_log = IMDB_base.drop(['VALUE'], axis = 1)"
      ],
      "execution_count": 21,
      "outputs": []
    },
    {
      "cell_type": "code",
      "metadata": {
        "id": "m9IOwOkeTohT"
      },
      "source": [
        "IMDB_log = IMDB_log.round(decimals=3)"
      ],
      "execution_count": 22,
      "outputs": []
    },
    {
      "cell_type": "markdown",
      "metadata": {
        "id": "tvaJa4cISPfF"
      },
      "source": [
        "**VALUE 값이 없는 콘텐츠 드랍**"
      ]
    },
    {
      "cell_type": "code",
      "metadata": {
        "colab": {
          "base_uri": "https://localhost:8080/",
          "height": 419
        },
        "id": "ltuNOZpeR2IN",
        "outputId": "ed3222e7-d1cd-4d55-e741-39e9b7c5dfee"
      },
      "source": [
        "IMDB_log = IMDB_log.loc[(IMDB_log.Log_VALUE >= 1 )]\n",
        "IMDB_log"
      ],
      "execution_count": 23,
      "outputs": [
        {
          "output_type": "execute_result",
          "data": {
            "text/html": [
              "<div>\n",
              "<style scoped>\n",
              "    .dataframe tbody tr th:only-of-type {\n",
              "        vertical-align: middle;\n",
              "    }\n",
              "\n",
              "    .dataframe tbody tr th {\n",
              "        vertical-align: top;\n",
              "    }\n",
              "\n",
              "    .dataframe thead th {\n",
              "        text-align: right;\n",
              "    }\n",
              "</style>\n",
              "<table border=\"1\" class=\"dataframe\">\n",
              "  <thead>\n",
              "    <tr style=\"text-align: right;\">\n",
              "      <th></th>\n",
              "      <th>Title</th>\n",
              "      <th>Type</th>\n",
              "      <th>GENRE</th>\n",
              "      <th>IMDb_Score</th>\n",
              "      <th>Log_VALUE</th>\n",
              "    </tr>\n",
              "  </thead>\n",
              "  <tbody>\n",
              "    <tr>\n",
              "      <th>0</th>\n",
              "      <td>thequeensgambit</td>\n",
              "      <td>TV</td>\n",
              "      <td>Drama</td>\n",
              "      <td>7.3</td>\n",
              "      <td>10.711</td>\n",
              "    </tr>\n",
              "    <tr>\n",
              "      <th>1</th>\n",
              "      <td>365days</td>\n",
              "      <td>Movie</td>\n",
              "      <td>Romance</td>\n",
              "      <td>3.2</td>\n",
              "      <td>10.649</td>\n",
              "    </tr>\n",
              "    <tr>\n",
              "      <th>2</th>\n",
              "      <td>emilyinparis</td>\n",
              "      <td>TV</td>\n",
              "      <td>Drama</td>\n",
              "      <td>7.1</td>\n",
              "      <td>10.209</td>\n",
              "    </tr>\n",
              "    <tr>\n",
              "      <th>3</th>\n",
              "      <td>lucifer</td>\n",
              "      <td>TV</td>\n",
              "      <td>Superhero</td>\n",
              "      <td>6.9</td>\n",
              "      <td>10.155</td>\n",
              "    </tr>\n",
              "    <tr>\n",
              "      <th>4</th>\n",
              "      <td>theumbrellaacademy</td>\n",
              "      <td>TV</td>\n",
              "      <td>Superhero</td>\n",
              "      <td>8.0</td>\n",
              "      <td>10.064</td>\n",
              "    </tr>\n",
              "    <tr>\n",
              "      <th>...</th>\n",
              "      <td>...</td>\n",
              "      <td>...</td>\n",
              "      <td>...</td>\n",
              "      <td>...</td>\n",
              "      <td>...</td>\n",
              "    </tr>\n",
              "    <tr>\n",
              "      <th>2858</th>\n",
              "      <td>astroboy</td>\n",
              "      <td>Movie</td>\n",
              "      <td>Action</td>\n",
              "      <td>6.3</td>\n",
              "      <td>1.099</td>\n",
              "    </tr>\n",
              "    <tr>\n",
              "      <th>2859</th>\n",
              "      <td>totalrecall</td>\n",
              "      <td>Movie</td>\n",
              "      <td>Science Fiction</td>\n",
              "      <td>6.3</td>\n",
              "      <td>1.099</td>\n",
              "    </tr>\n",
              "    <tr>\n",
              "      <th>2860</th>\n",
              "      <td>suckerpunch</td>\n",
              "      <td>Movie</td>\n",
              "      <td>Fantasy</td>\n",
              "      <td>6.0</td>\n",
              "      <td>1.099</td>\n",
              "    </tr>\n",
              "    <tr>\n",
              "      <th>2861</th>\n",
              "      <td>theadventuresoftintin</td>\n",
              "      <td>Movie</td>\n",
              "      <td>Adventure</td>\n",
              "      <td>7.3</td>\n",
              "      <td>1.099</td>\n",
              "    </tr>\n",
              "    <tr>\n",
              "      <th>2898</th>\n",
              "      <td>tokyoghoul</td>\n",
              "      <td>TV</td>\n",
              "      <td>Animation</td>\n",
              "      <td>5.7</td>\n",
              "      <td>4.078</td>\n",
              "    </tr>\n",
              "  </tbody>\n",
              "</table>\n",
              "<p>2715 rows × 5 columns</p>\n",
              "</div>"
            ],
            "text/plain": [
              "                      Title   Type            GENRE  IMDb_Score  Log_VALUE\n",
              "0           thequeensgambit     TV            Drama         7.3     10.711\n",
              "1                   365days  Movie          Romance         3.2     10.649\n",
              "2              emilyinparis     TV            Drama         7.1     10.209\n",
              "3                   lucifer     TV        Superhero         6.9     10.155\n",
              "4        theumbrellaacademy     TV        Superhero         8.0     10.064\n",
              "...                     ...    ...              ...         ...        ...\n",
              "2858               astroboy  Movie           Action         6.3      1.099\n",
              "2859            totalrecall  Movie  Science Fiction         6.3      1.099\n",
              "2860            suckerpunch  Movie          Fantasy         6.0      1.099\n",
              "2861  theadventuresoftintin  Movie        Adventure         7.3      1.099\n",
              "2898             tokyoghoul     TV        Animation         5.7      4.078\n",
              "\n",
              "[2715 rows x 5 columns]"
            ]
          },
          "metadata": {
            "tags": []
          },
          "execution_count": 23
        }
      ]
    },
    {
      "cell_type": "markdown",
      "metadata": {
        "id": "qBm4rYY3n-3m"
      },
      "source": [
        "#### **Movie_base**\n",
        "\n",
        "---- Type 중에서 Movie만 남기기**"
      ]
    },
    {
      "cell_type": "code",
      "metadata": {
        "id": "5o90KiF3lydg",
        "colab": {
          "base_uri": "https://localhost:8080/",
          "height": 419
        },
        "outputId": "3b7eda4a-32f5-4e1f-f10c-6a541603bfcc"
      },
      "source": [
        "movie_base = IMDB_log.loc[(IMDB_log.Type == 'Movie')]\n",
        "movie_base"
      ],
      "execution_count": 24,
      "outputs": [
        {
          "output_type": "execute_result",
          "data": {
            "text/html": [
              "<div>\n",
              "<style scoped>\n",
              "    .dataframe tbody tr th:only-of-type {\n",
              "        vertical-align: middle;\n",
              "    }\n",
              "\n",
              "    .dataframe tbody tr th {\n",
              "        vertical-align: top;\n",
              "    }\n",
              "\n",
              "    .dataframe thead th {\n",
              "        text-align: right;\n",
              "    }\n",
              "</style>\n",
              "<table border=\"1\" class=\"dataframe\">\n",
              "  <thead>\n",
              "    <tr style=\"text-align: right;\">\n",
              "      <th></th>\n",
              "      <th>Title</th>\n",
              "      <th>Type</th>\n",
              "      <th>GENRE</th>\n",
              "      <th>IMDb_Score</th>\n",
              "      <th>Log_VALUE</th>\n",
              "    </tr>\n",
              "  </thead>\n",
              "  <tbody>\n",
              "    <tr>\n",
              "      <th>1</th>\n",
              "      <td>365days</td>\n",
              "      <td>Movie</td>\n",
              "      <td>Romance</td>\n",
              "      <td>3.2</td>\n",
              "      <td>10.649</td>\n",
              "    </tr>\n",
              "    <tr>\n",
              "      <th>8</th>\n",
              "      <td>enolaholmes</td>\n",
              "      <td>Movie</td>\n",
              "      <td>Drama</td>\n",
              "      <td>6.6</td>\n",
              "      <td>9.707</td>\n",
              "    </tr>\n",
              "    <tr>\n",
              "      <th>10</th>\n",
              "      <td>thechristmaschroniclesparttwo</td>\n",
              "      <td>Movie</td>\n",
              "      <td>Comedy</td>\n",
              "      <td>6.0</td>\n",
              "      <td>9.675</td>\n",
              "    </tr>\n",
              "    <tr>\n",
              "      <th>12</th>\n",
              "      <td>holidate</td>\n",
              "      <td>Movie</td>\n",
              "      <td>Comedy</td>\n",
              "      <td>6.9</td>\n",
              "      <td>9.605</td>\n",
              "    </tr>\n",
              "    <tr>\n",
              "      <th>15</th>\n",
              "      <td>theoldguard</td>\n",
              "      <td>Movie</td>\n",
              "      <td>Superhero</td>\n",
              "      <td>6.6</td>\n",
              "      <td>9.541</td>\n",
              "    </tr>\n",
              "    <tr>\n",
              "      <th>...</th>\n",
              "      <td>...</td>\n",
              "      <td>...</td>\n",
              "      <td>...</td>\n",
              "      <td>...</td>\n",
              "      <td>...</td>\n",
              "    </tr>\n",
              "    <tr>\n",
              "      <th>2857</th>\n",
              "      <td>hachiadogstale</td>\n",
              "      <td>Movie</td>\n",
              "      <td>Drama</td>\n",
              "      <td>8.1</td>\n",
              "      <td>1.099</td>\n",
              "    </tr>\n",
              "    <tr>\n",
              "      <th>2858</th>\n",
              "      <td>astroboy</td>\n",
              "      <td>Movie</td>\n",
              "      <td>Action</td>\n",
              "      <td>6.3</td>\n",
              "      <td>1.099</td>\n",
              "    </tr>\n",
              "    <tr>\n",
              "      <th>2859</th>\n",
              "      <td>totalrecall</td>\n",
              "      <td>Movie</td>\n",
              "      <td>Science Fiction</td>\n",
              "      <td>6.3</td>\n",
              "      <td>1.099</td>\n",
              "    </tr>\n",
              "    <tr>\n",
              "      <th>2860</th>\n",
              "      <td>suckerpunch</td>\n",
              "      <td>Movie</td>\n",
              "      <td>Fantasy</td>\n",
              "      <td>6.0</td>\n",
              "      <td>1.099</td>\n",
              "    </tr>\n",
              "    <tr>\n",
              "      <th>2861</th>\n",
              "      <td>theadventuresoftintin</td>\n",
              "      <td>Movie</td>\n",
              "      <td>Adventure</td>\n",
              "      <td>7.3</td>\n",
              "      <td>1.099</td>\n",
              "    </tr>\n",
              "  </tbody>\n",
              "</table>\n",
              "<p>2115 rows × 5 columns</p>\n",
              "</div>"
            ],
            "text/plain": [
              "                              Title   Type  ... IMDb_Score  Log_VALUE\n",
              "1                           365days  Movie  ...        3.2     10.649\n",
              "8                       enolaholmes  Movie  ...        6.6      9.707\n",
              "10    thechristmaschroniclesparttwo  Movie  ...        6.0      9.675\n",
              "12                         holidate  Movie  ...        6.9      9.605\n",
              "15                      theoldguard  Movie  ...        6.6      9.541\n",
              "...                             ...    ...  ...        ...        ...\n",
              "2857                 hachiadogstale  Movie  ...        8.1      1.099\n",
              "2858                       astroboy  Movie  ...        6.3      1.099\n",
              "2859                    totalrecall  Movie  ...        6.3      1.099\n",
              "2860                    suckerpunch  Movie  ...        6.0      1.099\n",
              "2861          theadventuresoftintin  Movie  ...        7.3      1.099\n",
              "\n",
              "[2115 rows x 5 columns]"
            ]
          },
          "metadata": {
            "tags": []
          },
          "execution_count": 24
        }
      ]
    },
    {
      "cell_type": "code",
      "metadata": {
        "colab": {
          "base_uri": "https://localhost:8080/",
          "height": 392
        },
        "id": "81fMPCIUJRkY",
        "outputId": "06120886-20ff-4eec-d37c-24fee4b0f330"
      },
      "source": [
        "sns.pairplot(data = movie_base)"
      ],
      "execution_count": 25,
      "outputs": [
        {
          "output_type": "execute_result",
          "data": {
            "text/plain": [
              "<seaborn.axisgrid.PairGrid at 0x7fc72d056dd0>"
            ]
          },
          "metadata": {
            "tags": []
          },
          "execution_count": 25
        },
        {
          "output_type": "display_data",
          "data": {
            "image/png": "[encoded data removed]",
            "text/plain": [
              "<Figure size 360x360 with 6 Axes>"
            ]
          },
          "metadata": {
            "tags": [],
            "needs_background": "light"
          }
        }
      ]
    },
    {
      "cell_type": "code",
      "metadata": {
        "colab": {
          "base_uri": "https://localhost:8080/",
          "height": 441
        },
        "id": "Qmhu4ASgBKax",
        "outputId": "c47f9379-414b-452e-db98-ff8d8424f4c4"
      },
      "source": [
        "sns.jointplot(x=\"IMDb_Score\", y=\"Log_VALUE\", data=movie_base, kind=\"scatter\");"
      ],
      "execution_count": 26,
      "outputs": [
        {
          "output_type": "display_data",
          "data": {
            "image/png": "[encoded data removed]",
            "text/plain": [
              "<Figure size 432x432 with 3 Axes>"
            ]
          },
          "metadata": {
            "tags": [],
            "needs_background": "light"
          }
        }
      ]
    },
    {
      "cell_type": "markdown",
      "metadata": {
        "id": "kRr3dIiUdivq"
      },
      "source": [
        "#### **Movie 데이터에서 IMDb 와 VALUE(points)와 상관관계**"
      ]
    },
    {
      "cell_type": "code",
      "metadata": {
        "id": "FWoQD95BbrQY",
        "colab": {
          "base_uri": "https://localhost:8080/",
          "height": 111
        },
        "outputId": "bdab0f1b-c2d8-4a9e-e7c5-1c0df4896d2d"
      },
      "source": [
        "movie_corr = movie_base.corr()\n",
        "movie_corr"
      ],
      "execution_count": 27,
      "outputs": [
        {
          "output_type": "execute_result",
          "data": {
            "text/html": [
              "<div>\n",
              "<style scoped>\n",
              "    .dataframe tbody tr th:only-of-type {\n",
              "        vertical-align: middle;\n",
              "    }\n",
              "\n",
              "    .dataframe tbody tr th {\n",
              "        vertical-align: top;\n",
              "    }\n",
              "\n",
              "    .dataframe thead th {\n",
              "        text-align: right;\n",
              "    }\n",
              "</style>\n",
              "<table border=\"1\" class=\"dataframe\">\n",
              "  <thead>\n",
              "    <tr style=\"text-align: right;\">\n",
              "      <th></th>\n",
              "      <th>IMDb_Score</th>\n",
              "      <th>Log_VALUE</th>\n",
              "    </tr>\n",
              "  </thead>\n",
              "  <tbody>\n",
              "    <tr>\n",
              "      <th>IMDb_Score</th>\n",
              "      <td>1.000000</td>\n",
              "      <td>-0.025193</td>\n",
              "    </tr>\n",
              "    <tr>\n",
              "      <th>Log_VALUE</th>\n",
              "      <td>-0.025193</td>\n",
              "      <td>1.000000</td>\n",
              "    </tr>\n",
              "  </tbody>\n",
              "</table>\n",
              "</div>"
            ],
            "text/plain": [
              "            IMDb_Score  Log_VALUE\n",
              "IMDb_Score    1.000000  -0.025193\n",
              "Log_VALUE    -0.025193   1.000000"
            ]
          },
          "metadata": {
            "tags": []
          },
          "execution_count": 27
        }
      ]
    },
    {
      "cell_type": "code",
      "metadata": {
        "id": "l0dodPknbeHt",
        "colab": {
          "base_uri": "https://localhost:8080/",
          "height": 288
        },
        "outputId": "761b6760-76aa-4952-c2c5-912c084b5d40"
      },
      "source": [
        "sns.heatmap(movie_corr, annot=True)"
      ],
      "execution_count": 28,
      "outputs": [
        {
          "output_type": "execute_result",
          "data": {
            "text/plain": [
              "<matplotlib.axes._subplots.AxesSubplot at 0x7fc729360ed0>"
            ]
          },
          "metadata": {
            "tags": []
          },
          "execution_count": 28
        },
        {
          "output_type": "display_data",
          "data": {
            "image/png": "[encoded data removed]",
            "text/plain": [
              "<Figure size 432x288 with 2 Axes>"
            ]
          },
          "metadata": {
            "tags": [],
            "needs_background": "light"
          }
        }
      ]
    },
    {
      "cell_type": "markdown",
      "metadata": {
        "id": "LAotX96ZzR-z"
      },
      "source": [
        "#### **tv_base**\n",
        "\n",
        "---- Type 중에서 TV만 남기기** \n",
        "\n",
        "전처리 과정은 위와 동일"
      ]
    },
    {
      "cell_type": "code",
      "metadata": {
        "id": "qPXTgpoDzZKM",
        "colab": {
          "base_uri": "https://localhost:8080/",
          "height": 419
        },
        "outputId": "5c7793f6-c3ad-4bde-8ab1-6727069ecf74"
      },
      "source": [
        "tv_base = IMDB_log.loc[(IMDB_log.Type == 'TV')]\n",
        "tv_base"
      ],
      "execution_count": 29,
      "outputs": [
        {
          "output_type": "execute_result",
          "data": {
            "text/html": [
              "<div>\n",
              "<style scoped>\n",
              "    .dataframe tbody tr th:only-of-type {\n",
              "        vertical-align: middle;\n",
              "    }\n",
              "\n",
              "    .dataframe tbody tr th {\n",
              "        vertical-align: top;\n",
              "    }\n",
              "\n",
              "    .dataframe thead th {\n",
              "        text-align: right;\n",
              "    }\n",
              "</style>\n",
              "<table border=\"1\" class=\"dataframe\">\n",
              "  <thead>\n",
              "    <tr style=\"text-align: right;\">\n",
              "      <th></th>\n",
              "      <th>Title</th>\n",
              "      <th>Type</th>\n",
              "      <th>GENRE</th>\n",
              "      <th>IMDb_Score</th>\n",
              "      <th>Log_VALUE</th>\n",
              "    </tr>\n",
              "  </thead>\n",
              "  <tbody>\n",
              "    <tr>\n",
              "      <th>0</th>\n",
              "      <td>thequeensgambit</td>\n",
              "      <td>TV</td>\n",
              "      <td>Drama</td>\n",
              "      <td>7.3</td>\n",
              "      <td>10.711</td>\n",
              "    </tr>\n",
              "    <tr>\n",
              "      <th>2</th>\n",
              "      <td>emilyinparis</td>\n",
              "      <td>TV</td>\n",
              "      <td>Drama</td>\n",
              "      <td>7.1</td>\n",
              "      <td>10.209</td>\n",
              "    </tr>\n",
              "    <tr>\n",
              "      <th>3</th>\n",
              "      <td>lucifer</td>\n",
              "      <td>TV</td>\n",
              "      <td>Superhero</td>\n",
              "      <td>6.9</td>\n",
              "      <td>10.155</td>\n",
              "    </tr>\n",
              "    <tr>\n",
              "      <th>4</th>\n",
              "      <td>theumbrellaacademy</td>\n",
              "      <td>TV</td>\n",
              "      <td>Superhero</td>\n",
              "      <td>8.0</td>\n",
              "      <td>10.064</td>\n",
              "    </tr>\n",
              "    <tr>\n",
              "      <th>5</th>\n",
              "      <td>darkdesire</td>\n",
              "      <td>TV</td>\n",
              "      <td>Drama</td>\n",
              "      <td>6.4</td>\n",
              "      <td>9.953</td>\n",
              "    </tr>\n",
              "    <tr>\n",
              "      <th>...</th>\n",
              "      <td>...</td>\n",
              "      <td>...</td>\n",
              "      <td>...</td>\n",
              "      <td>...</td>\n",
              "      <td>...</td>\n",
              "    </tr>\n",
              "    <tr>\n",
              "      <th>2816</th>\n",
              "      <td>thelandofhypocrisy</td>\n",
              "      <td>TV</td>\n",
              "      <td>Comedy</td>\n",
              "      <td>6.7</td>\n",
              "      <td>1.099</td>\n",
              "    </tr>\n",
              "    <tr>\n",
              "      <th>2820</th>\n",
              "      <td>webarebears</td>\n",
              "      <td>TV</td>\n",
              "      <td>Animation</td>\n",
              "      <td>6.8</td>\n",
              "      <td>1.099</td>\n",
              "    </tr>\n",
              "    <tr>\n",
              "      <th>2821</th>\n",
              "      <td>paradisepd</td>\n",
              "      <td>TV</td>\n",
              "      <td>Animation</td>\n",
              "      <td>6.9</td>\n",
              "      <td>1.099</td>\n",
              "    </tr>\n",
              "    <tr>\n",
              "      <th>2853</th>\n",
              "      <td>theunderclass</td>\n",
              "      <td>TV</td>\n",
              "      <td>Drama</td>\n",
              "      <td>6.4</td>\n",
              "      <td>5.932</td>\n",
              "    </tr>\n",
              "    <tr>\n",
              "      <th>2898</th>\n",
              "      <td>tokyoghoul</td>\n",
              "      <td>TV</td>\n",
              "      <td>Animation</td>\n",
              "      <td>5.7</td>\n",
              "      <td>4.078</td>\n",
              "    </tr>\n",
              "  </tbody>\n",
              "</table>\n",
              "<p>600 rows × 5 columns</p>\n",
              "</div>"
            ],
            "text/plain": [
              "                   Title Type      GENRE  IMDb_Score  Log_VALUE\n",
              "0        thequeensgambit   TV      Drama         7.3     10.711\n",
              "2           emilyinparis   TV      Drama         7.1     10.209\n",
              "3                lucifer   TV  Superhero         6.9     10.155\n",
              "4     theumbrellaacademy   TV  Superhero         8.0     10.064\n",
              "5             darkdesire   TV      Drama         6.4      9.953\n",
              "...                  ...  ...        ...         ...        ...\n",
              "2816  thelandofhypocrisy   TV     Comedy         6.7      1.099\n",
              "2820         webarebears   TV  Animation         6.8      1.099\n",
              "2821          paradisepd   TV  Animation         6.9      1.099\n",
              "2853       theunderclass   TV      Drama         6.4      5.932\n",
              "2898          tokyoghoul   TV  Animation         5.7      4.078\n",
              "\n",
              "[600 rows x 5 columns]"
            ]
          },
          "metadata": {
            "tags": []
          },
          "execution_count": 29
        }
      ]
    },
    {
      "cell_type": "code",
      "metadata": {
        "colab": {
          "base_uri": "https://localhost:8080/",
          "height": 392
        },
        "id": "Yzi8vqCRI-Gm",
        "outputId": "b4cdc274-7d41-40ad-b3ba-171ac2e4d08e"
      },
      "source": [
        "sns.pairplot(data = tv_base)"
      ],
      "execution_count": 30,
      "outputs": [
        {
          "output_type": "execute_result",
          "data": {
            "text/plain": [
              "<seaborn.axisgrid.PairGrid at 0x7fc7292e0e90>"
            ]
          },
          "metadata": {
            "tags": []
          },
          "execution_count": 30
        },
        {
          "output_type": "display_data",
          "data": {
            "image/png": "[encoded data removed]",
            "text/plain": [
              "<Figure size 360x360 with 6 Axes>"
            ]
          },
          "metadata": {
            "tags": [],
            "needs_background": "light"
          }
        }
      ]
    },
    {
      "cell_type": "code",
      "metadata": {
        "colab": {
          "base_uri": "https://localhost:8080/",
          "height": 441
        },
        "id": "vNN1Pa5IAtP-",
        "outputId": "d50e731a-65c1-4b0f-9c26-ec5095bd743c"
      },
      "source": [
        "sns.jointplot(x=\"IMDb_Score\", y=\"Log_VALUE\", data=tv_base, kind=\"scatter\");"
      ],
      "execution_count": 31,
      "outputs": [
        {
          "output_type": "display_data",
          "data": {
            "image/png": "[encoded data removed]",
            "text/plain": [
              "<Figure size 432x432 with 3 Axes>"
            ]
          },
          "metadata": {
            "tags": [],
            "needs_background": "light"
          }
        }
      ]
    },
    {
      "cell_type": "markdown",
      "metadata": {
        "id": "oGzu0VxMg22j"
      },
      "source": [
        "#### **TV shows 중 IMDb 와 VALUE(points)와 상관관계** "
      ]
    },
    {
      "cell_type": "code",
      "metadata": {
        "id": "xZep5Bapg57r",
        "colab": {
          "base_uri": "https://localhost:8080/",
          "height": 111
        },
        "outputId": "506ea484-b596-4c2a-849d-72be10040f90"
      },
      "source": [
        "tv_corr = tv_base.corr()\n",
        "tv_corr"
      ],
      "execution_count": 32,
      "outputs": [
        {
          "output_type": "execute_result",
          "data": {
            "text/html": [
              "<div>\n",
              "<style scoped>\n",
              "    .dataframe tbody tr th:only-of-type {\n",
              "        vertical-align: middle;\n",
              "    }\n",
              "\n",
              "    .dataframe tbody tr th {\n",
              "        vertical-align: top;\n",
              "    }\n",
              "\n",
              "    .dataframe thead th {\n",
              "        text-align: right;\n",
              "    }\n",
              "</style>\n",
              "<table border=\"1\" class=\"dataframe\">\n",
              "  <thead>\n",
              "    <tr style=\"text-align: right;\">\n",
              "      <th></th>\n",
              "      <th>IMDb_Score</th>\n",
              "      <th>Log_VALUE</th>\n",
              "    </tr>\n",
              "  </thead>\n",
              "  <tbody>\n",
              "    <tr>\n",
              "      <th>IMDb_Score</th>\n",
              "      <td>1.000000</td>\n",
              "      <td>-0.002837</td>\n",
              "    </tr>\n",
              "    <tr>\n",
              "      <th>Log_VALUE</th>\n",
              "      <td>-0.002837</td>\n",
              "      <td>1.000000</td>\n",
              "    </tr>\n",
              "  </tbody>\n",
              "</table>\n",
              "</div>"
            ],
            "text/plain": [
              "            IMDb_Score  Log_VALUE\n",
              "IMDb_Score    1.000000  -0.002837\n",
              "Log_VALUE    -0.002837   1.000000"
            ]
          },
          "metadata": {
            "tags": []
          },
          "execution_count": 32
        }
      ]
    },
    {
      "cell_type": "code",
      "metadata": {
        "id": "uBZDUaV9g-hT",
        "colab": {
          "base_uri": "https://localhost:8080/",
          "height": 288
        },
        "outputId": "a532f7e8-8683-4c5f-f176-e2245cdea90a"
      },
      "source": [
        "sns.heatmap(tv_corr, annot=True)"
      ],
      "execution_count": 33,
      "outputs": [
        {
          "output_type": "execute_result",
          "data": {
            "text/plain": [
              "<matplotlib.axes._subplots.AxesSubplot at 0x7fc729170790>"
            ]
          },
          "metadata": {
            "tags": []
          },
          "execution_count": 33
        },
        {
          "output_type": "display_data",
          "data": {
            "image/png": "[encoded data removed]",
            "text/plain": [
              "<Figure size 432x288 with 2 Axes>"
            ]
          },
          "metadata": {
            "tags": [],
            "needs_background": "light"
          }
        }
      ]
    },
    {
      "cell_type": "markdown",
      "metadata": {
        "id": "qKNuCbNsGam2"
      },
      "source": [
        "## 2.결과 ***TV shows 와 Movie 상관없이  Value와 IMDb Score은 관계가 없다***"
      ]
    },
    {
      "cell_type": "markdown",
      "metadata": {
        "id": "lUDADKTOPi1k"
      },
      "source": [
        "+ 추가 사항\n",
        "\n",
        "TV shows와 Moive가 합쳐져 있는 IMDB_log 데이터로 보아도 역시 관계가 없다"
      ]
    },
    {
      "cell_type": "code",
      "metadata": {
        "colab": {
          "base_uri": "https://localhost:8080/",
          "height": 111
        },
        "id": "_uYuIYhpPWj4",
        "outputId": "4ba8fd26-82b7-4885-c1bc-897dedaa1e08"
      },
      "source": [
        "IMDB_log_corr = IMDB_log.corr()\n",
        "IMDB_log_corr"
      ],
      "execution_count": 34,
      "outputs": [
        {
          "output_type": "execute_result",
          "data": {
            "text/html": [
              "<div>\n",
              "<style scoped>\n",
              "    .dataframe tbody tr th:only-of-type {\n",
              "        vertical-align: middle;\n",
              "    }\n",
              "\n",
              "    .dataframe tbody tr th {\n",
              "        vertical-align: top;\n",
              "    }\n",
              "\n",
              "    .dataframe thead th {\n",
              "        text-align: right;\n",
              "    }\n",
              "</style>\n",
              "<table border=\"1\" class=\"dataframe\">\n",
              "  <thead>\n",
              "    <tr style=\"text-align: right;\">\n",
              "      <th></th>\n",
              "      <th>IMDb_Score</th>\n",
              "      <th>Log_VALUE</th>\n",
              "    </tr>\n",
              "  </thead>\n",
              "  <tbody>\n",
              "    <tr>\n",
              "      <th>IMDb_Score</th>\n",
              "      <td>1.000000</td>\n",
              "      <td>0.053368</td>\n",
              "    </tr>\n",
              "    <tr>\n",
              "      <th>Log_VALUE</th>\n",
              "      <td>0.053368</td>\n",
              "      <td>1.000000</td>\n",
              "    </tr>\n",
              "  </tbody>\n",
              "</table>\n",
              "</div>"
            ],
            "text/plain": [
              "            IMDb_Score  Log_VALUE\n",
              "IMDb_Score    1.000000   0.053368\n",
              "Log_VALUE     0.053368   1.000000"
            ]
          },
          "metadata": {
            "tags": []
          },
          "execution_count": 34
        }
      ]
    },
    {
      "cell_type": "code",
      "metadata": {
        "colab": {
          "base_uri": "https://localhost:8080/",
          "height": 288
        },
        "id": "904S1CH1O_x9",
        "outputId": "9ca3bfe7-d3f9-4934-a1da-e3407e330c1d"
      },
      "source": [
        "sns.heatmap(IMDB_log_corr, annot=True)"
      ],
      "execution_count": 35,
      "outputs": [
        {
          "output_type": "execute_result",
          "data": {
            "text/plain": [
              "<matplotlib.axes._subplots.AxesSubplot at 0x7fc72909a610>"
            ]
          },
          "metadata": {
            "tags": []
          },
          "execution_count": 35
        },
        {
          "output_type": "display_data",
          "data": {
            "image/png": "[encoded data removed]",
            "text/plain": [
              "<Figure size 432x288 with 2 Axes>"
            ]
          },
          "metadata": {
            "tags": [],
            "needs_background": "light"
          }
        }
      ]
    },
    {
      "cell_type": "markdown",
      "metadata": {
        "id": "_CCYvU0lI4MD"
      },
      "source": [
        "**| 평점대별 VALUE(Viewpoint)분포**"
      ]
    },
    {
      "cell_type": "code",
      "metadata": {
        "colab": {
          "base_uri": "https://localhost:8080/",
          "height": 542
        },
        "id": "otSUGZSf0gqJ",
        "outputId": "55bb17d4-ba58-407f-d242-d410f07b4be2"
      },
      "source": [
        "fig = px.scatter(int_score, x='IMDb_Score', y='VALUE', color='Type', hover_data=['Title'])\n",
        "fig.show()"
      ],
      "execution_count": 36,
      "outputs": [
        {
          "output_type": "display_data",
          "data": {
            "text/html": [
              "<html>\n",
              "<head><meta charset=\"utf-8\" /></head>\n",
              "<body>\n",
              "    <div>\n",
              "            <script src=\"https://cdnjs.cloudflare.com/ajax/libs/mathjax/2.7.5/MathJax.js?config=TeX-AMS-MML_SVG\"></script><script type=\"text/javascript\">if (window.MathJax) {MathJax.Hub.Config({SVG: {font: \"STIX-Web\"}});}</script>\n",
              "                <script type=\"text/javascript\">window.PlotlyConfig = {MathJaxConfig: 'local'};</script>\n",
              "        <script src=\"https://cdn.plot.ly/plotly-latest.min.js\"></script>    \n",
              "            <div id=\"18023ec7-00a4-4617-a191-480fa9217e23\" class=\"plotly-graph-div\" style=\"height:525px; width:100%;\"></div>\n",
              "            <script type=\"text/javascript\">\n",
              "                \n",
              "                    window.PLOTLYENV=window.PLOTLYENV || {};\n",
              "                    \n",
              "                if (document.getElementById(\"18023ec7-00a4-4617-a191-480fa9217e23\")) {\n",
              "                    Plotly.newPlot(\n",
              "                        '18023ec7-00a4-4617-a191-480fa9217e23',\n",
              "                        [{\"customdata\": [[\"thequeensgambit\"], [\"emilyinparis\"], [\"lucifer\"], [\"theumbrellaacademy\"], [\"darkdesire\"], [\"thecrown\"], [\"friends\"], [\"yosoybettylafea\"], [\"ratched\"], [\"dark\"], [\"thelastdance\"], [\"bodyguard\"], [\"thehauntingofblymanor\"], [\"cursed\"], [\"cobrakai\"], [\"itsokaytonotbeokay\"], [\"pawpatrol\"], [\"lockedup\"], [\"modernfamily\"], [\"warriornun\"], [\"startrekdiscovery\"], [\"toohottohandle\"], [\"away\"], [\"virginriver\"], [\"unsolvedmysteries\"], [\"tinyprettythings\"], [\"cocomelon\"], [\"13reasonswhy\"], [\"rickandmorty\"], [\"jurassicworldcampcretaceous\"], [\"whitelines\"], [\"thekingeternalmonarch\"], [\"the100\"], [\"dynasty\"], [\"thebossbabybackinbusiness\"], [\"spaceforce\"], [\"riverdale\"], [\"theorder\"], [\"goodgirls\"], [\"ozark\"], [\"recordofyouth\"], [\"pasi\\u00c3\\u00b3ndegavilanes\"], [\"floorislava\"], [\"tothelake\"], [\"themessyouleavebehind\"], [\"neverhaveiever\"], [\"outerbanks\"], [\"theblacklist\"], [\"jeffreyepsteinfilthyrich\"], [\"crashlandingonyou\"], [\"bridgerton\"], [\"prisonbreak\"], [\"unorthodox\"], [\"howtogetawaywithmurder\"], [\"toyboy\"], [\"thesinner\"], [\"dashlily\"], [\"demonslayerkimetsunoyaiba\"], [\"enemigo\\u00c3\\u00adntimo\"], [\"downtoearthwithzacefron\"], [\"sweethome\"], [\"hospitalplaylist\"], [\"selenatheseries\"], [\"elite\"], [\"worldsmostwanted\"], [\"deadtome\"], [\"queenofthesouth\"], [\"bloodofzeus\"], [\"thewitcher\"], [\"aliceinborderland\"], [\"bigmouth\"], [\"hoops\"], [\"therain\"], [\"eldrag\\u00c3\\u00b3nreturnofawarrior\"], [\"howtoselldrugsonlinefast\"], [\"mysticpopupbar\"], [\"familyguy\"], [\"thelastkingdom\"], [\"thebusinessofdrugs\"], [\"youngwallander\"], [\"trinkets\"], [\"fearcitynewyorkvsthemafia\"], [\"alienworlds\"], [\"freud\"], [\"baby\"], [\"greysanatomy\"], [\"intothenight\"], [\"theworldofthemarried\"], [\"deadlyclass\"], [\"getorganizedwiththehomeedit\"], [\"dirtyjohn\"], [\"thegreatheist\"], [\"theflash\"], [\"vikings\"], [\"biohackers\"], [\"privatelives\"], [\"suits\"], [\"thebarrier\"], [\"homeforchristmas\"], [\"theripper\"], [\"sweetmagnolias\"], [\"itaewonclass\"], [\"brooklynninenine\"], [\"sellingsunset\"], [\"highscore\"], [\"paranormal\"], [\"history101\"], [\"thealienist\"], [\"janethevirgin\"], [\"thewalkingdead\"], [\"bettercallsaul\"], [\"thebabysittersclub\"], [\"schittscreek\"], [\"valeria\"], [\"asuitableboy\"], [\"hollywood\"], [\"undercover\"], [\"annewithane\"], [\"thegift\"], [\"thewoods\"], [\"chicavampiro\"], [\"sexeducation\"], [\"theuncannycounter\"], [\"teenagebountyhunters\"], [\"dodosolsollalasol\"], [\"thegoodplace\"], [\"thebigshowshow\"], [\"dareme\"], [\"indianmatchmaking\"], [\"badboybillionairesindia\"], [\"cablegirls\"], [\"theletterfortheking\"], [\"thefall\"], [\"reply1988\"], [\"princesssarah\"], [\"onepiece\"], [\"theliberator\"], [\"summertime\"], [\"ethos\"], [\"chiquititas\"], [\"mismatched\"], [\"peppapig\"], [\"marcella\"], [\"theworstwitch\"], [\"curon\"], [\"closeenough\"], [\"spongebobsquarepants\"], [\"milliondollarbeachhouse\"], [\"lapiloto\"], [\"theprotector\"], [\"hibyemama\"], [\"community\"], [\"julieandthephantoms\"], [\"stateless\"], [\"fireforce\"], [\"unwell\"], [\"thequeenofflow\"], [\"newgirl\"], [\"room2806theaccusation\"], [\"dreamhomemakeover\"], [\"bettyenny\"], [\"whatswrongwithsecretarykim\"], [\"loveisblind\"], [\"thelegendofkorra\"], [\"masabamasaba\"], [\"keepingupwiththekardashians\"], [\"selfmadeinspiredbythelifeofmadamcjwalker\"], [\"myheroacademia\"], [\"coronavirusexplained\"], [\"theduchess\"], [\"thebigbangtheory\"], [\"baki\"], [\"attackontitan\"], [\"outlander\"], [\"thevictimsgame\"], [\"jujutsukaisen\"], [\"wearethechampions\"], [\"thehouseofflowers\"], [\"carmelwhokilledmariamarta\"], [\"h\"], [\"theschoolnursefiles\"], [\"extracurricular\"], [\"trial4\"], [\"criminaluk\"], [\"fullerhouse\"], [\"rupaulsdragrace\"], [\"chefstablebbq\"], [\"paavakadhaigal\"], [\"rustvalleyrestorers\"], [\"mightyexpress\"], [\"thegarfieldshow\"], [\"boysoverflowers\"], [\"hellskitchen\"], [\"realityz\"], [\"sneakerheads\"], [\"love101\"], [\"breakitallthehistoryofrockinlatinamerica\"], [\"streetfood\"], [\"suburrabloodonrome\"], [\"familybusiness\"], [\"matchdayinsidefcbarcelona\"], [\"absurdplanet\"], [\"theamericanbarbecueshowdown\"], [\"theepictalesofcaptainunderpantsinspace\"], [\"goedam\"], [\"thethundermans\"], [\"mrbeantheanimatedseries\"], [\"jackwhitehalltravelswithmyfather\"], [\"avatarthelastairbender\"], [\"drstone\"], [\"workinmoms\"], [\"grandarmy\"], [\"mightylittlebheem\"], [\"sistersister\"], [\"homegame\"], [\"gigantosaurus\"], [\"fauda\"], [\"girlfromnowhere\"], [\"blindspot\"], [\"japansinks2020\"], [\"sonsofanarchy\"], [\"maradonainmexico\"], [\"thehauntingofhillhouse\"], [\"caliphate\"], [\"queereye\"], [\"arrow\"], [\"alovetolast\"], [\"fisforfamily\"], [\"trashtruck\"], [\"gogglebox\"], [\"theplaybook\"], [\"bhaagbeaniebhaag\"], [\"nothingbutthirty\"], [\"theinnocencefiles\"], [\"sugarrushchristmas\"], [\"dragonsdogma\"], [\"ahirunosora\"], [\"bloodwater\"], [\"pandemichowtopreventanoutbreak\"], [\"doctorjohn\"], [\"goahead\"], [\"familiarwife\"], [\"rugal\"], [\"thevalhallamurders\"], [\"twogether\"], [\"peakyblinders\"], [\"orangeisthenewblack\"], [\"norsemen\"], [\"greenleaf\"], [\"lovestruckinthecity\"], [\"parasytethemaxim\"], [\"theexpandinguniverseofashleygarcia\"], [\"iamakillerreleased\"], [\"thepolitician\"], [\"thesearch\"], [\"americanhorrorstory\"], [\"gotham\"], [\"thetwelve\"], [\"pupacademy\"], [\"kingshakir\"], [\"narcos\"], [\"connected\"], [\"arashisdiaryvoyage\"], [\"flavoursofromania\"], [\"dawsonscreek\"], [\"loveonthespectrum\"], [\"hannibal\"], [\"terracehousetokyo20192020\"], [\"loveislandaustralia\"], [\"highseas\"], [\"kaguyasamaloveiswar\"], [\"mostbeautifulthing\"], [\"mymister\"], [\"crazydelicious\"], [\"carmastersrusttoriches\"], [\"howtoruinchristmas\"], [\"geteven\"], [\"100daysmyprince\"], [\"mrsunshine\"], [\"theenglishgame\"], [\"thegooddetective\"], [\"howtofixadrugscandal\"], [\"themisfitofdemonkingacademy\"], [\"doctorstranger\"], [\"bgpersonalbodyguard\"], [\"henrydanger\"], [\"lareinadelsur\"], [\"gilmoregirls\"], [\"trialbymedia\"], [\"detention\"], [\"foodwarsshokugekinosoma\"], [\"equinox\"], [\"thetaleofnokdu\"], [\"borgen\"], [\"falsaidentidad\"], [\"allamerican\"], [\"starbeam\"], [\"girlfriends\"], [\"asaventurasdepoliana\"], [\"juonorigins\"], [\"skindecisionbeforeandafter\"], [\"myidisgangnambeauty\"], [\"howimetyourmother\"], [\"thelastword\"], [\"teentitansgo\"], [\"theunremarkablejuanquini\"], [\"thisisus\"], [\"threekingdoms\"], [\"delhicrime\"], [\"myabsoluteboyfriend\"], [\"betaal\"], [\"prisonplaybook\"], [\"undercoverlaw\"], [\"bordertown\"], [\"runon\"], [\"kingdom\"], [\"you\"], [\"lastchanceu\"], [\"legojurassicworldlegendofislanublar\"], [\"rickyzoom\"], [\"mriglesias\"], [\"thestoryofdiana\"], [\"misfits\"], [\"40andsingle\"], [\"rita\"], [\"alvinnnandthechipmunks\"], [\"thelastkidsonearth\"], [\"strangersfromhell\"], [\"almosthappy\"], [\"knightfall\"], [\"onepunchman\"], [\"supergirl\"], [\"secretobienguardado\"], [\"alientv\"], [\"gossipgirl\"], [\"strangerthings\"], [\"chicobonbonmonkeywithatoolbelt\"], [\"18again\"], [\"thevampirediaries\"], [\"skamitalia\"], [\"swordartonline\"], [\"doraemon\"], [\"100humans\"], [\"thegovernor\"], [\"ourplanet\"], [\"nailedit\"], [\"24\"], [\"blackaf\"], [\"castlerock\"], [\"evil\"], [\"scarletheartryeo\"], [\"thetrial\"], [\"hyena\"], [\"sunderlandtilidie\"], [\"derrygirls\"], [\"whenthecamelliablooms\"], [\"deadwind\"], [\"blackmoneylove\"], [\"bogdanboneregzorcysta\"], [\"donttellthebride\"], [\"borutonarutonextgenerations\"], [\"yugioh\"], [\"loveagain\"], [\"mysterylab\"], [\"crayonshinchan\"], [\"mysassygirl\"], [\"onceuponatime\"], [\"therealhousewivesofbeverlyhills\"], [\"unauthorizedliving\"], [\"theendofthefingworld\"], [\"bewithyou\"], [\"thedeadline\"], [\"60daysin\"], [\"jamtarasabkanumberayega\"], [\"auntydonnasbigolhouseoffun\"], [\"rezerostartinglifeinanotherworld\"], [\"2gethertheseries\"], [\"beybladeburst\"], [\"shaunthesheep\"], [\"chappellesshow\"], [\"she\"], [\"thebeautyinside\"], [\"hasmukh\"], [\"themidnightgospel\"], [\"thecirclefrance\"], [\"ancientaliens\"], [\"thetitangames\"], [\"thestranger\"], [\"jenniriveramariposadebarrio\"], [\"justice\"], [\"luther\"], [\"thefinaltable\"], [\"fridaynightdinner\"], [\"kimsconvenience\"], [\"drromantic\"], [\"finalspace\"], [\"sherlock\"], [\"thehookupplan\"], [\"theamazingworldofgumball\"], [\"reckoning\"], [\"alhayba\"], [\"thesurgeonscut\"], [\"vip\"], [\"serialkillerwithpiersmorgan\"], [\"diamondcity\"], [\"socialsyndrome\"], [\"thedevilpunisher\"], [\"heidi\"], [\"theirregularatmagichighschool\"], [\"magicforhumans\"], [\"ranczo\"], [\"barbiedreamhouseadventures\"], [\"valentino\"], [\"doctorprisoner\"], [\"talkingtomandfriends\"], [\"theultimatebraaimaster\"], [\"theclimb\"], [\"sayido\"], [\"izombie\"], [\"badbanks\"], [\"archer\"], [\"vampires\"], [\"holidayhomemakeoverwithmrchristmas\"], [\"superwings\"], [\"wentworth\"], [\"shameless\"], [\"gogosquid\"], [\"theclub\"], [\"theinbestigators\"], [\"inthedark\"], [\"isitwrongtotrytopickupgirlsinadungeon\"], [\"killerwomenwithpiersmorgan\"], [\"ultraviolet\"], [\"hoteldelluna\"], [\"alteredcarbon\"], [\"morphle\"], [\"spiritridingfreeridingacademy\"], [\"bunkd\"], [\"mysecretromance\"], [\"merlin\"], [\"comedinewithme\"], [\"gracefulfamily\"], [\"immigrationnation\"], [\"narutoshippuden\"], [\"alovesobeautiful\"], [\"imstandingonamillionlives\"], [\"barangay143\"], [\"decadence\"], [\"dorohedoro\"], [\"rainbowruby\"], [\"shtisel\"], [\"trapped\"], [\"boyforrent\"], [\"emilyswonderlab\"], [\"totheabandonedsacredbeasts\"], [\"carmensandiego\"], [\"trailerparkboystheanimatedseries\"], [\"singlelady\"], [\"tattoofixers\"], [\"tacochronicles\"], [\"iamnotokaywiththis\"], [\"theoriginals\"], [\"bodyfixers\"], [\"fairytail\"], [\"speedkills\"], [\"skycastle\"], [\"thespectacularspiderman\"], [\"saveme\"], [\"thenewlegendsofmonkey\"], [\"thattimeigotreincarnatedasaslime\"], [\"gleipnir\"], [\"thirteenterrors\"], [\"cookedwithcannabis\"], [\"breakingbad\"], [\"snowpiercer\"], [\"moesha\"], [\"bemelodramatic\"], [\"voice\"], [\"interiordesignmasters\"], [\"baysideshakedown\"], [\"theeddy\"], [\"startup\"], [\"theholidaymoviesthatmadeus\"], [\"kipoandtheageofwonderbeasts\"], [\"theloudhouse\"], [\"somewherebetween\"], [\"couplescomedinewithme\"], [\"youmeher\"], [\"joannalumleystranssiberianadventure\"], [\"bedfordwives\"], [\"gracefulfriends\"], [\"thechefshow\"], [\"flavorfulorigins\"], [\"forgedinfire\"], [\"trickshinsakuspecial\"], [\"somebodyfeedphil\"], [\"onmyblock\"], [\"heartbreakhigh\"], [\"beelzebub\"], [\"singonspain\"], [\"whereyoureyeslinger\"], [\"dracula\"], [\"sugarrush\"], [\"lara\"], [\"datingaroundbrazil\"], [\"ascendanceofabookworm\"], [\"plunderer\"], [\"firemansam\"], [\"magicallandofoz\"], [\"weightliftingfairykimbokjoo\"], [\"yashahimeprincesshalfdemon\"], [\"southernsurvival\"], [\"leahreminiscientologyandtheaftermath\"], [\"heyduggee\"], [\"finalfantasyxivdadoflight\"], [\"designatedsurvivor\"], [\"survivingrkelly\"], [\"baptiste\"], [\"mrheart\"], [\"greatmenacademy\"], [\"naileditmexico\"], [\"legacies\"], [\"thegifted\"], [\"tinycreatures\"], [\"assassinationclassroom\"], [\"towerofgod\"], [\"diaryofourdaysatthebreakwater\"], [\"doctors\"], [\"littlelunch\"], [\"callthemidwife\"], [\"sanpasinsofthesavior\"], [\"themillionairedetectivebalanceunlimited\"], [\"thecabinwithbertkreischer\"], [\"thedisappearanceofmadeleinemccann\"], [\"colony\"], [\"theparkers\"], [\"whoareyouschool2015\"], [\"spartacus\"], [\"marvelsironfist\"], [\"wanderingwitchthejourneyofelaina\"], [\"lenoxhill\"], [\"arthdalchronicles\"], [\"thegreatbritishbakingshowholidays\"], [\"containment\"], [\"whencallstheheart\"], [\"thefreshprinceofbelair\"], [\"areyoutheone\"], [\"whosevotecountsexplained\"], [\"teenmom2\"], [\"singongermany\"], [\"hoarders\"], [\"infinitedendrogram\"], [\"conversationswithakillerthetedbundytapes\"], [\"sheraandtheprincessesofpower\"], [\"homeland\"], [\"oneonone\"], [\"angelsofdeath\"], [\"7seeds\"], [\"maniac\"], [\"findmeinyourmemory\"], [\"coffeevanilla\"], [\"breadbarbershop\"], [\"monstergirldoctor\"], [\"whispers\"], [\"ushioandtora\"], [\"formula1drivetosurvive\"], [\"salvation\"], [\"inkmaster\"], [\"nakee\"], [\"americasnexttopmodel\"], [\"arifuretafromcommonplacetoworldsstrongest\"], [\"instinct\"], [\"thebigflowerfight\"], [\"legofriendsgirlsonamission\"], [\"healer\"], [\"november13attackonparis\"], [\"lifeinpieces\"], [\"joannalumleysjapan\"], [\"rhymetimetownsingalongs\"], [\"theguest\"], [\"onlyfoolsandhorses\"], [\"thegreatcanadianbakingshow\"], [\"gogocorycarson\"], [\"bardofblood\"], [\"pollypocket\"], [\"hilda\"], [\"cathedralofthesea\"], [\"billions\"], [\"littlebabybumnurseryrhymefriends\"], [\"sleepyprincessinthedemoncastle\"], [\"thedayibecameagod\"], [\"saintyoungmen\"], [\"legocityadventures\"], [\"dearmyfriends\"], [\"tylerperrysthesinglemomsclub\"], [\"vagabond\"], [\"thelandofhypocrisy\"], [\"webarebears\"], [\"paradisepd\"], [\"theunderclass\"], [\"thepetgirlofsakurasou\"], [\"domesticgirlfriend\"], [\"takki\"], [\"whatdidyoueatyesterday\"], [\"angelslastmissionlove\"], [\"overwater\"], [\"theateam\"], [\"radiant\"], [\"thetrialsofgabrielfernandez\"], [\"tokyoghoul\"], [\"aftertherain\"], [\"jojosbizarreadventure\"], [\"angrymom\"], [\"swordartonlinealternativegungaleonline\"], [\"shewaspretty\"], [\"titans\"], [\"disenchantment\"], [\"violetevergarden\"], [\"elreemplazante\"], [\"mindhunter\"], [\"chewinggum\"], [\"benandhollyslittlekingdom\"], [\"supernatural\"], [\"barbielifeinthedreamhouse\"]], \"hoverlabel\": {\"namelength\": 0}, \"hovertemplate\": \"Type=TV<br>IMDb_Score=%{x}<br>VALUE=%{y}<br>Title=%{customdata[0]}\", \"legendgroup\": \"Type=TV\", \"marker\": {\"color\": \"#636efa\", \"symbol\": \"circle\"}, \"mode\": \"markers\", \"name\": \"Type=TV\", \"showlegend\": true, \"type\": \"scattergl\", \"x\": [7, 7, 6, 8, 6, 8, 8, 8, 7, 8, 9, 8, 7, 5, 8, 7, 6, 3, 8, 6, 7, 4, 6, 7, 7, 5, 5, 7, 9, 7, 6, 8, 7, 7, 6, 6, 6, 6, 7, 8, 7, 7, 5, 7, 6, 7, 7, 8, 7, 8, 7, 8, 8, 8, 6, 7, 2, 8, 7, 8, 5, 8, 6, 7, 7, 8, 7, 7, 8, 7, 8, 5, 6, 7, 7, 8, 8, 8, 7, 6, 7, 7, 6, 6, 6, 7, 7, 8, 7, 4, 7, 7, 7, 8, 6, 6, 7, 6, 7, 5, 7, 8, 8, 6, 7, 6, 6, 7, 7, 8, 8, 5, 8, 6, 5, 7, 7, 8, 6, 5, 4, 8, 8, 7, 7, 8, 6, 6, 6, 8, 7, 5, 8, 9, 7, 6, 6, 7, 7, 6, 5, 6, 7, 7, 5, 7, 8, 4, 5, 6, 8, 8, 8, 7, 7, 6, 7, 7, 7, 5, 7, 8, 6, 8, 6, 2, 7, 8, 7, 6, 8, 6, 8, 8, 7, 8, 5, 7, 7, 5, 6, 7, 7, 7, 6, 8, 7, 8, 7, 4, 5, 7, 7, 5, 6, 7, 7, 8, 7, 5, 8, 3, 7, 7, 5, 5, 6, 7, 9, 8, 7, 7, 6, 6, 7, 7, 8, 7, 7, 6, 8, 7, 8, 8, 8, 7, 8, 8, 8, 7, 5, 4, 7, 8, 6, 7, 7, 6, 6, 8, 8, 7, 6, 7, 4, 8, 8, 7, 7, 7, 8, 6, 5, 7, 7, 8, 7, 7, 6, 5, 8, 6, 7, 9, 6, 8, 6, 8, 5, 6, 8, 7, 9, 6, 8, 6, 6, 7, 8, 7, 7, 7, 7, 7, 6, 5, 8, 8, 7, 5, 8, 5, 7, 8, 7, 7, 7, 7, 7, 6, 5, 7, 8, 6, 5, 4, 8, 6, 8, 6, 5, 8, 7, 6, 5, 8, 7, 8, 6, 6, 7, 8, 8, 7, 8, 4, 7, 7, 6, 6, 8, 6, 4, 6, 7, 8, 6, 8, 7, 7, 7, 7, 5, 7, 9, 7, 8, 6, 7, 7, 8, 7, 7, 8, 8, 8, 7, 7, 7, 7, 7, 7, 5, 7, 6, 6, 7, 5, 7, 8, 7, 5, 7, 7, 8, 8, 5, 6, 8, 8, 6, 7, 5, 8, 7, 7, 7, 6, 6, 3, 8, 7, 8, 8, 8, 8, 9, 7, 8, 6, 7, 4, 7, 3, 5, 7, 6, 7, 7, 7, 6, 6, 6, 7, 6, 7, 5, 7, 7, 8, 8, 5, 5, 6, 8, 5, 7, 7, 8, 7, 7, 6, 7, 8, 8, 4, 7, 5, 7, 7, 6, 7, 7, 8, 8, 6, 6, 7, 8, 6, 8, 8, 7, 6, 6, 7, 7, 6, 6, 7, 7, 8, 6, 8, 4, 8, 8, 8, 6, 8, 6, 6, 6, 9, 7, 5, 8, 7, 6, 6, 7, 6, 7, 8, 7, 6, 6, 7, 8, 5, 6, 8, 7, 8, 5, 8, 8, 7, 7, 6, 8, 6, 7, 7, 5, 7, 6, 5, 7, 8, 7, 5, 9, 8, 7, 7, 7, 7, 7, 8, 6, 7, 8, 4, 8, 7, 7, 7, 8, 8, 7, 7, 7, 6, 7, 6, 7, 8, 6, 7, 8, 8, 8, 7, 8, 7, 6, 7, 4, 5, 6, 5, 7, 7, 8, 7, 6, 6, 7, 7, 5, 8, 5, 4, 7, 8, 7, 7, 5, 5, 6, 6, 7, 7, 6, 8, 8, 8, 8, 6, 8, 7, 8, 7, 6, 8, 7, 8, 3, 7, 6, 6, 6, 8, 7, 7, 6, 6, 6, 6, 7, 6, 7, 7, 7, 6, 6, 6, 8, 5, 7, 8, 7, 6, 7, 7, 7, 8, 8, 8, 7, 7, 8, 7], \"xaxis\": \"x\", \"y\": [44867, 27138, 25729, 23480, 21012, 20937, 17782, 16264, 15762, 14794, 14145, 109, 13006, 12791, 12270, 11751, 11013, 10746, 10678, 10536, 10529, 10405, 10277, 10069, 9711, 9371, 9032, 8246, 7438, 7220, 7044, 7037, 6980, 6541, 6524, 6424, 6402, 6261, 6171, 6053, 5966, 5720, 5637, 5505, 5485, 5466, 5328, 5307, 5109, 4515, 4476, 4356, 4285, 4162, 4093, 4081, 4040, 4040, 3922, 3793, 3709, 3698, 3646, 3617, 3564, 3513, 3437, 3377, 3306, 3239, 3144, 2889, 2883, 2855, 2846, 2785, 2720, 2713, 2701, 2691, 2691, 2665, 2655, 2638, 2541, 2527, 2502, 2479, 2370, 2365, 2335, 2320, 2318, 2316, 2290, 2251, 2237, 2206, 2203, 2138, 2079, 2073, 2047, 2008, 2004, 1992, 1930, 1897, 1847, 1795, 1784, 1725, 1705, 1704, 1661, 1659, 1643, 1608, 1607, 1602, 1583, 1574, 1563, 1554, 1507, 1500, 1413, 1408, 1346, 1312, 1305, 1300, 1271, 1264, 1240, 1239, 1232, 1219, 1206, 1143, 1097, 1093, 1090, 1088, 1082, 1079, 1079, 1062, 1043, 1033, 1027, 992, 978, 966, 945, 933, 927, 912, 900, 853, 853, 825, 823, 814, 803, 797, 794, 792, 782, 780, 776, 769, 769, 764, 748, 741, 737, 726, 725, 721, 701, 682, 658, 634, 629, 628, 626, 624, 620, 615, 614, 609, 588, 585, 568, 563, 556, 544, 544, 533, 517, 514, 508, 508, 480, 480, 474, 474, 468, 467, 465, 459, 459, 446, 444, 440, 436, 435, 435, 431, 429, 421, 419, 409, 408, 407, 404, 402, 400, 398, 398, 396, 394, 393, 388, 387, 386, 384, 384, 382, 379, 372, 367, 364, 361, 359, 358, 353, 353, 351, 351, 349, 333, 331, 330, 324, 323, 307, 305, 303, 300, 299, 295, 292, 292, 290, 253, 289, 286, 281, 275, 275, 273, 269, 268, 265, 262, 252, 252, 248, 246, 246, 241, 239, 235, 234, 231, 226, 222, 214, 210, 209, 206, 201, 201, 201, 198, 197, 196, 195, 195, 193, 191, 189, 189, 187, 186, 184, 183, 182, 181, 180, 178, 177, 174, 114, 174, 173, 172, 172, 172, 171, 169, 167, 167, 166, 165, 160, 160, 156, 156, 156, 150, 150, 150, 149, 148, 144, 144, 143, 142, 141, 140, 135, 134, 133, 132, 130, 130, 129, 129, 122, 119, 119, 118, 117, 116, 113, 112, 110, 108, 108, 104, 103, 103, 1, 181, 101, 101, 101, 101, 99, 99, 99, 98, 289, 97, 97, 96, 95, 95, 95, 94, 93, 92, 91, 90, 90, 89, 89, 85, 84, 83, 83, 82, 82, 81, 80, 79, 77, 77, 75, 75, 74, 73, 72, 71, 70, 69, 68, 67, 67, 66, 65, 64, 63, 63, 19, 63, 62, 62, 61, 60, 60, 57, 546, 55, 54, 54, 54, 53, 53, 52, 51, 51, 50, 49, 48, 47, 47, 45, 45, 45, 45, 44, 44, 44, 44, 44, 44, 44, 42, 41, 41, 40, 40, 39, 39, 38, 38, 37, 37, 36, 36, 35, 34, 32, 32, 32, 31, 31, 31, 30, 30, 13853, 28, 28, 28, 28, 27, 27, 8494, 26, 26, 26, 26, 25, 25, 24, 24, 24, 24, 24, 23, 23, 23, 23, 23, 22, 22, 22, 22, 409, 21, 21, 21, 21, 21, 20, 20, 19, 19, 19, 19, 19, 19, 18, 17, 17, 17, 17, 17, 17, 16, 16, 15, 15, 15, 15, 13, 12, 12, 102, 12, 12, 10, 10, 10, 10, 9, 9, 9, 9, 9, 9, 9, 8, 8, 8, 8, 8, 8, 8, 8, 8, 7, 7, 7, 7, 6, 6, 6, 6, 6, 6, 6, 6, 6, 5, 5, 5, 5, 5, 5, 5, 5, 5, 4, 4, 409, 4, 4, 4, 4, 3, 3, 3, 3, 3, 2, 2, 2, 2, 2, 2, 2, 2, 2, 2, 376, 1, 1, 1, 1, 1, 1, 1, 1, 1, 58, 1, 1, 1, 1, 1, 1, 1, 1, 1, 1, 1, 1, 1, 1], \"yaxis\": \"y\"}, {\"customdata\": [[\"365days\"], [\"enolaholmes\"], [\"thechristmaschroniclesparttwo\"], [\"holidate\"], [\"theoldguard\"], [\"thesocialdilemma\"], [\"projectpower\"], [\"thespongebobmoviespongeontherun\"], [\"thekissingbooth2\"], [\"hubiehalloween\"], [\"overthemoon\"], [\"acaliforniachristmas\"], [\"break\"], [\"thedevilallthetime\"], [\"workit\"], [\"loveguaranteed\"], [\"americanmurderthefamilynextdoor\"], [\"feelthebeat\"], [\"thechristmaschronicles\"], [\"theprincessswitchswitchedagain\"], [\"operationchristmasdrop\"], [\"thesleepover\"], [\"thewrongmissy\"], [\"rebecca\"], [\"themidnightsky\"], [\"howthegrinchstolechristmas\"], [\"thebabysitterkillerqueen\"], [\"mosul\"], [\"theparamedic\"], [\"theplatform\"], [\"thekissingbooth\"], [\"milf\"], [\"skyscraper\"], [\"desperados\"], [\"thelastdaysofamericancrime\"], [\"thebeast\"], [\"despicableme2\"], [\"eurovisionsongcontestthestoryoffiresaga\"], [\"thewilloughbys\"], [\"dangerouslies\"], [\"jinglejangleachristmasjourney\"], [\"lostbullet\"], [\"6underground\"], [\"jurassicworldfallenkingdom\"], [\"theemojimovie\"], [\"davidattenboroughalifeonourplanet\"], [\"theprom\"], [\"whatmenwant\"], [\"wecanbeheroes\"], [\"thetrialofthechicago7\"], [\"wonder\"], [\"fatalaffair\"], [\"secretsofthesaqqaratomb\"], [\"aneasygirl\"], [\"ava\"], [\"loveweddingrepeat\"], [\"despicableme\"], [\"santana\"], [\"ababysittersguidetomonsterhunting\"], [\"thesecretdaretodream\"], [\"thehalfofit\"], [\"johnnyenglishstrikesagain\"], [\"moneyheistthephenomenon\"], [\"fiftyshadesfreed\"], [\"aquaman\"], [\"da5bloods\"], [\"petsunited\"], [\"instantfamily\"], [\"venom\"], [\"maliburescuethenextwave\"], [\"miracleincellno7\"], [\"blackpinklightupthesky\"], [\"ifanythinghappensiloveyou\"], [\"timetrap\"], [\"furious7\"], [\"code8\"], [\"animalcrackers\"], [\"amillionwaystodieinthewest\"], [\"dadwanted\"], [\"theequalizer2\"], [\"justiceleague\"], [\"roseisland\"], [\"themeg\"], [\"thepurgeanarchy\"], [\"thelifeahead\"], [\"midnightatthemagnolia\"], [\"justanotherchristmas\"], [\"nightschool\"], [\"seriouslysingle\"], [\"thefkitlist\"], [\"americanassassin\"], [\"murdermystery\"], [\"focus\"], [\"thebossbabygetthatbaby\"], [\"hoteltransylvania3summervacation\"], [\"mortalengines\"], [\"spidermanhomecoming\"], [\"youvegotthis\"], [\"intheheartofthesea\"], [\"christmasmadetoorder\"], [\"ludo\"], [\"spidermanintothespiderverse\"], [\"bumblebee\"], [\"spenserconfidential\"], [\"rampage\"], [\"missionimpossiblefallout\"], [\"theholiday\"], [\"arianagrandeexcusemeiloveyou\"], [\"theprincessswitch\"], [\"harrypotterandthechamberofsecrets\"], [\"thefirstpurge\"], [\"geostorm\"], [\"safehouse\"], [\"themainevent\"], [\"badboysforlife\"], [\"doubleworld\"], [\"parker\"], [\"alltogethernow\"], [\"jumanjithenextlevel\"], [\"astarisborn\"], [\"tammy\"], [\"hillbillyelegy\"], [\"siberia\"], [\"intuition\"], [\"asimplefavor\"], [\"earthandblood\"], [\"escapeplan\"], [\"bloodshot\"], [\"pacificrimuprising\"], [\"lucy\"], [\"babydriver\"], [\"cadaver\"], [\"nobodysleepsinthewoodstonight\"], [\"crazyrichasians\"], [\"despicableme3\"], [\"scoobydoo2monstersunleashed\"], [\"readyplayerone\"], [\"deathto2020\"], [\"norbit\"], [\"ted\"], [\"it\"], [\"waspnetwork\"], [\"alldayandanight\"], [\"oceans8\"], [\"12strong\"], [\"howtotrainyourdragonthehiddenworld\"], [\"wonderwoman\"], [\"becoming\"], [\"theoccupant\"], [\"sniperultimatekill\"], [\"ridealong\"], [\"torbaaz\"], [\"blockers\"], [\"ginnywedssunny\"], [\"kingarthurlegendofthesword\"], [\"offeringtothestorm\"], [\"haveagoodtripadventuresinpsychedelics\"], [\"johnnyenglishreborn\"], [\"geminiman\"], [\"harrypotterandtheprisonerofazkaban\"], [\"unfriendeddarkweb\"], [\"upgrade\"], [\"vacation\"], [\"savages\"], [\"thehater\"], [\"fastfive\"], [\"imthinkingofendingthings\"], [\"thecrimesthatbind\"], [\"tomandjerrythemovie\"], [\"thenun\"], [\"theangrybirdsmovie2\"], [\"thesilenceofthemarsh\"], [\"thedecline\"], [\"thelovebirds\"], [\"spacejam\"], [\"americansniper\"], [\"fantasticbeaststhecrimesofgrindelwald\"], [\"mercuryrising\"], [\"thelosers\"], [\"neighbors\"], [\"battleship\"], [\"blooddiamond\"], [\"dunkirk\"], [\"truthordare\"], [\"whatwewanted\"], [\"theimpossible\"], [\"wanted\"], [\"the2nd\"], [\"charliesangels\"], [\"themask\"], [\"bladerunner2049\"], [\"afterwecollided\"], [\"citation\"], [\"nomanchesfrida\"], [\"seriousmen\"], [\"jumanjiwelcometothejungle\"], [\"aquietplace\"], [\"athletea\"], [\"parasite\"], [\"hishouse\"], [\"frompradatonada\"], [\"doomsday\"], [\"sniperlegacy\"], [\"gunjansaxenathekargilgirl\"], [\"joker\"], [\"rosariotijeras\"], [\"grownups\"], [\"richinlove\"], [\"18presents\"], [\"ultras\"], [\"theinventionoflying\"], [\"thestandin\"], [\"charlieandthechocolatefactory\"], [\"thechangeup\"], [\"theintern\"], [\"thewolfofwallstreet\"], [\"awhiskeraway\"], [\"jackreacher\"], [\"iloveyoustupid\"], [\"classof83\"], [\"deathwish\"], [\"gethard\"], [\"8mile\"], [\"goinginstyle\"], [\"hesoutthere\"], [\"birdsofpreyandthefantabulousemancipationofoneharleyquinn\"], [\"fatherfigures\"], [\"shazam\"], [\"contagion\"], [\"cuties\"], [\"denofthieves\"], [\"recepivedik6\"], [\"sicariodayofthesoldado\"], [\"themule\"], [\"thespongebobsquarepantsmovie\"], [\"raatakelihai\"], [\"theirishman\"], [\"lifeoftheparty\"], [\"runallnight\"], [\"jackryanshadowrecruit\"], [\"slenderman\"], [\"cloudywithachanceofmeatballs2\"], [\"thinklikeadog\"], [\"unknownorigins\"], [\"gijoeretaliation\"], [\"assassinscreed\"], [\"instructionsnotincluded\"], [\"thespongebobmoviespongeoutofwater\"], [\"mammamiaherewegoagain\"], [\"theforeigner\"], [\"thelegacyofthebones\"], [\"breakingin\"], [\"faster\"], [\"duedate\"], [\"littleitaly\"], [\"itchaptertwo\"], [\"harrypotterandthehalfbloodprince\"], [\"maryqueenofscots\"], [\"theninthgate\"], [\"sing\"], [\"johnwickchaptertwo\"], [\"sergio\"], [\"300riseofanempire\"], [\"scoobydoo\"], [\"ovendedordesonhos\"], [\"contraband\"], [\"overlord\"], [\"littlewomen\"], [\"thelastwitchhunter\"], [\"harrypotterandthegobletoffire\"], [\"smallfoot\"], [\"anna\"], [\"greenlantern\"], [\"c\\u00c3\\u00b3momataraunesposomuerto\"], [\"independencedayresurgence\"], [\"thedarkknight\"], [\"tearsofthesun\"], [\"thehungergames\"], [\"thesnowman\"], [\"couplesretreat\"], [\"thesuit\"], [\"peppermint\"], [\"xmenapocalypse\"], [\"creedii\"], [\"little\"], [\"deepbluesea\"], [\"thebinding\"], [\"arkansas\"], [\"solomonkane\"], [\"unforgettable\"], [\"theadventuresofsharkboyandlavagirl\"], [\"notesformyson\"], [\"happynewyear\"], [\"thespywhodumpedme\"], [\"thethieves\"], [\"thetuxedo\"], [\"gamenight\"], [\"theitalianjob\"], [\"missindia\"], [\"underthericcionesun\"], [\"shawnmendesinwonder\"], [\"worldwarz\"], [\"escaperoom\"], [\"madmaxfuryroad\"], [\"pitchperfect3\"], [\"downsizing\"], [\"timetohunt\"], [\"christmasunderwraps\"], [\"thefateofthefurious\"], [\"murdertomercythecyntoiabrownstory\"], [\"shooter\"], [\"barbieprincessadventure\"], [\"fistfight\"], [\"anelkamisunderstood\"], [\"unbroken\"], [\"missbala\"], [\"alienxmas\"], [\"godsofegypt\"], [\"thegambler\"], [\"hoteltransylvania2\"], [\"tag\"], [\"lostgirls\"], [\"firstman\"], [\"statusupdate\"], [\"theequalizer\"], [\"theplaguesofbreslau\"], [\"twilight\"], [\"thedarktower\"], [\"creed\"], [\"americanmade\"], [\"thehungergamescatchingfire\"], [\"blackandblue\"], [\"malang\"], [\"2guns\"], [\"axl\"], [\"harrypotterandtheorderofthephoenix\"], [\"thegentlemen\"], [\"happydeathday2u\"], [\"annabellecreation\"], [\"zombielanddoubletap\"], [\"tallgirl\"], [\"peninsula\"], [\"perdida\"], [\"theadjustmentbureau\"], [\"wonderpark\"], [\"risinghigh\"], [\"thekingdom\"], [\"londonhasfallen\"], [\"extraction\"], [\"savingprivateryan\"], [\"missperegrineshomeforpeculiarchildren\"], [\"thelastairbender\"], [\"proudmary\"], [\"chips\"], [\"angelaschristmaswish\"], [\"godzillakingofthemonsters\"], [\"thehungovergames\"], [\"rocketman\"], [\"abadmomschristmas\"], [\"papillon\"], [\"themanfromuncle\"], [\"hunterkiller\"], [\"stateofplay\"], [\"blended\"], [\"johnhenry\"], [\"addicted\"], [\"homeagain\"], [\"deliverusfromevil\"], [\"doublejeopardy\"], [\"thefastandthefurious\"], [\"replicas\"], [\"bulbbul\"], [\"honestcandidate\"], [\"johnwickchapter3parabellum\"], [\"fierce\"], [\"theshack\"], [\"thebridgecurse\"], [\"thelegomovie\"], [\"gifted\"], [\"kongskullisland\"], [\"journey2themysteriousisland\"], [\"atomicblonde\"], [\"ghostship\"], [\"push\"], [\"roughnight\"], [\"the1517toparis\"], [\"thepossessionofhannahgrace\"], [\"identitythief\"], [\"themaid\"], [\"miamibici\"], [\"killers\"], [\"sabotage\"], [\"halloween\"], [\"magnetic\"], [\"after\"], [\"happydeathday\"], [\"unlocked\"], [\"akvsak\"], [\"peterrabbit\"], [\"fearless\"], [\"daddyshome2\"], [\"onewaytotomorrow\"], [\"aprayerbeforedawn\"], [\"theplayers\"], [\"kungfupanda2\"], [\"thelegomovie2thesecondpart\"], [\"theclausfamily\"], [\"bleedingsteel\"], [\"inception\"], [\"ifeelpretty\"], [\"thegreenmile\"], [\"escapeplan2hades\"], [\"zodiac\"], [\"whitechicks\"], [\"mamasboy\"], [\"ghostbusters\"], [\"greenzone\"], [\"thehousewithaclockinitswalls\"], [\"klaus\"], [\"100things\"], [\"highlowtheworst\"], [\"sonofadam\"], [\"windriver\"], [\"somuchlovetogive\"], [\"mile22\"], [\"thebossbaby\"], [\"loveaajkal\"], [\"hancock\"], [\"angelhasfallen\"], [\"spiritstallionofthecimarron\"], [\"nosurrender\"], [\"ladybird\"], [\"searching\"], [\"theglasscastle\"], [\"pok\\u00c3\\u00a9mondetectivepikachu\"], [\"inheritance\"], [\"draggedacrossconcrete\"], [\"fourbrothers\"], [\"thesmurfs2\"], [\"thebabysitter\"], [\"spiritedaway\"], [\"sanandreas\"], [\"goosebumps2hauntedhalloween\"], [\"amanapart\"], [\"mychristmasinn\"], [\"adogswayhome\"], [\"thenextthreedays\"], [\"traintobusan\"], [\"aftermath\"], [\"phantomthread\"], [\"ghostsofgirlfriendspast\"], [\"taken3\"], [\"blackkklansman\"], [\"neverbackdown2thebeatdown\"], [\"mechanicresurrection\"], [\"nowyouseeme\"], [\"oblivion\"], [\"stepup\"], [\"failuretolaunch\"], [\"batmanvsupermandawnofjustice\"], [\"yournameengravedherein\"], [\"growingup\"], [\"suicidesquad\"], [\"kingsmanthegoldencircle\"], [\"freewilly\"], [\"werethemillers\"], [\"godzilla\"], [\"myoctopusteacher\"], [\"minions\"], [\"cypher\"], [\"onceuponatimeinhollywood\"], [\"mother\"], [\"pixels\"], [\"drseussthecatinthehat\"], [\"war\"], [\"us\"], [\"petsematary\"], [\"theaccountant\"], [\"lowseason\"], [\"trolls\"], [\"wildchild\"], [\"\\u00c5\\u00beensk\\u00c3\\u00a1navrcholu\"], [\"zengo\"], [\"friendzone\"], [\"doctorsleep\"], [\"turbo\"], [\"beemovie\"], [\"ramanraghav20\"], [\"thelosthusband\"], [\"brokencity\"], [\"dragonsrescueridershuttsgalorholiday\"], [\"scarymovie5\"], [\"iwanttogetmarried\"], [\"johnwick\"], [\"makingunorthodox\"], [\"thejudge\"], [\"christmaswonderland\"], [\"moneyball\"], [\"dennisthemenace\"], [\"grownups2\"], [\"thetown\"], [\"poseidon\"], [\"americanpsycho\"], [\"cargo\"], [\"kidnap\"], [\"whyhim\"], [\"nobodysfool\"], [\"edgeoftomorrow\"], [\"crank\"], [\"themanstandingnext\"], [\"secondact\"], [\"warfortheplanetoftheapes\"], [\"love\"], [\"constantine\"], [\"47metersdownuncaged\"], [\"hitmanagentjun\"], [\"murderontheorientexpress\"], [\"cloudywithachanceofmeatballs\"], [\"deepwaterhorizon\"], [\"babaparasi\"], [\"djangounchained\"], [\"extremelywickedshockinglyevilandvile\"], [\"indianajonesandthekingdomofthecrystalskull\"], [\"exodusgodsandkings\"], [\"laracrofttombraiderthecradleoflife\"], [\"thelegendoftarzan\"], [\"upintheair\"], [\"thehungergamesmockingjaypart1\"], [\"blackmirrorbandersnatch\"], [\"darkesthour\"], [\"actsofviolence\"], [\"thefounder\"], [\"comingfrominsanity\"], [\"gimsontherecord\"], [\"coldpursuit\"], [\"miamivice\"], [\"rambolastblood\"], [\"fastfuriouspresentshobbsshaw\"], [\"thegrudge\"], [\"octonautsthegreatbarrierreef\"], [\"thelatebloomer\"], [\"shesoutofmyleague\"], [\"deepimpact\"], [\"thefastandthefurioustokyodrift\"], [\"darkshadows\"], [\"helios\"], [\"arewethereyet\"], [\"paul\"], [\"queleones\"], [\"theteacher\"], [\"chef\"], [\"rumorhasit\"], [\"kaalikhuhi\"], [\"thepantisisters\"], [\"canyoukeepasecret\"], [\"whiteboyrick\"], [\"myspy\"], [\"theimitationgame\"], [\"21bridges\"], [\"athousandwords\"], [\"eyeswideshut\"], [\"chappie\"], [\"thetwilightsagabreakingdawnpart2\"], [\"andhaghaaram\"], [\"annabellecomeshome\"], [\"flatliners\"], [\"thespynextdoor\"], [\"whatdidimess\"], [\"motherlessbrooklyn\"], [\"inthedeep\"], [\"knivesout\"], [\"atrashtruckchristmas\"], [\"politics\"], [\"theangrybirdsmovie\"], [\"conanthebarbarian\"], [\"theinformer\"], [\"inglouriousbasterds\"], [\"truefriendshipday\"], [\"theprince\"], [\"hulk\"], [\"keepalidonit\"], [\"1917\"], [\"devil\"], [\"lovehappens\"], [\"superfly\"], [\"backtothefuture\"], [\"scarystoriestotellinthedark\"], [\"swatundersiege\"], [\"tazzaoneeyedjack\"], [\"monsterinlaw\"], [\"preciouscargo\"], [\"eatpraylove\"], [\"thetwilightsaganewmoon\"], [\"thescorpionking\"], [\"laraandthebeat\"], [\"curseofchucky\"], [\"the5thwave\"], [\"daylight\"], [\"traumacenter\"], [\"meninblackinternational\"], [\"17again\"], [\"iseeyou\"], [\"mrbeansholiday\"], [\"beforeigotosleep\"], [\"intheshadowofiris\"], [\"welcome\"], [\"theglasshouse\"], [\"beforeiwake\"], [\"rocknrolla\"], [\"alamala\"], [\"ghostsofwar\"], [\"officechristmasparty\"], [\"batmanbegins\"], [\"thehangover\"], [\"inline\"], [\"zenek\"], [\"jupiterascending\"], [\"maniyarayileashokan\"], [\"oncebefore\"], [\"steelrain\"], [\"split\"], [\"terminatorgenisys\"], [\"littlefeather\"], [\"annabelle\"], [\"hotelartemis\"], [\"allthemoneyintheworld\"], [\"unknown\"], [\"jexi\"], [\"hustlers\"], [\"rolemodels\"], [\"meangirls\"], [\"theinterview\"], [\"thecore\"], [\"chicuarotes\"], [\"northmenavikingsaga\"], [\"transformersageofextinction\"], [\"locoporvos\"], [\"thehealer\"], [\"patriotsday\"], [\"thenutjob\"], [\"bikers\"], [\"thehouse\"], [\"skytourthemovie\"], [\"howdoyouknow\"], [\"lockout\"], [\"vampiresvsthebronx\"], [\"thecourier\"], [\"longshot\"], [\"nowyouseeme2\"], [\"elevatorbaby\"], [\"deadpool\"], [\"stealth\"], [\"betweenmaybes\"], [\"khunphaenbegins\"], [\"thecurseoflallorona\"], [\"killerman\"], [\"uncutgems\"], [\"takepoint\"], [\"onlythebrave\"], [\"hardkill\"], [\"mujeresarriba\"], [\"beforeifall\"], [\"troy\"], [\"mayday\"], [\"leylaeverlasting\"], [\"oneday\"], [\"ipman4thefinale\"], [\"mymotherswound\"], [\"dolittle\"], [\"overnightrepublic\"], [\"200poundsbeauty\"], [\"burlesque\"], [\"forgettingsarahmarshall\"], [\"life\"], [\"lovethewayulie\"], [\"mrsserialkiller\"], [\"kasanova\"], [\"primal\"], [\"theincrediblestoryofthegiantpear\"], [\"bikeman2\"], [\"thehungergamesmockingjaypart2\"], [\"livinginbondagebreakingfree\"], [\"the40yearoldvirgin\"], [\"yourexcellency\"], [\"deathrace\"], [\"highlowthemovie\"], [\"paddington2\"], [\"titanic\"], [\"captainunderpantsmegablissmas\"], [\"peenak2\"], [\"loveandrun\"], [\"seznmka\"], [\"welcomehomeroscoejenkins\"], [\"akira\"], [\"nashanatasha\"], [\"thetwilightsagaeclipse\"], [\"santabantapvtltd\"], [\"thedarkknightrises\"], [\"trouble\"], [\"india\"], [\"lineofduty\"], [\"only\"], [\"catchmeifyoucan\"], [\"stvincent\"], [\"ordinarypeople\"], [\"burnt\"], [\"theamerican\"], [\"firstlove\"], [\"outbreak\"], [\"gijoetheriseofcobra\"], [\"corpuschristi\"], [\"thesecretlifeofpets2\"], [\"2012\"], [\"projectgio\"], [\"roguewarfare\"], [\"conormcgregornotorious\"], [\"ejenalithemovie\"], [\"psychopathwithpiersmorgan\"], [\"outofthefurnace\"], [\"animalkingdom\"], [\"feride\"], [\"13th\"], [\"21\"], [\"midway\"], [\"harrypotterandthedeathlyhallowspart2\"], [\"theliessheloved\"], [\"mandy\"], [\"midnightsun\"], [\"sicario\"], [\"themonumentsmen\"], [\"theoutpost\"], [\"2036originunknown\"], [\"jackassnumbertwo\"], [\"thedevilsadvocate\"], [\"thewitchpart1thesubversion\"], [\"thewholetruth\"], [\"alonetogether\"], [\"heartbeats\"], [\"xlarge\"], [\"theflu\"], [\"kangaroojack\"], [\"underworldevolution\"], [\"isntitromantic\"], [\"room\"], [\"click\"], [\"dontbeamenacetosouthcentralwhiledrinkingyourjuiceinthehood\"], [\"anicegirllikeyou\"], [\"bookclub\"], [\"missionimpossibleiii\"], [\"loving\"], [\"thesmurfs\"], [\"ashfall\"], [\"thenotebook\"], [\"loveactually\"], [\"threewordstoforever\"], [\"nighthunter\"], [\"firstkill\"], [\"actsofvengeance\"], [\"intothestorm\"], [\"kappela\"], [\"dilan1990\"], [\"s\\u00c3\\u00admiamor\"], [\"theboysintheband\"], [\"angeleyes\"], [\"thecroods\"], [\"alexcross\"], [\"whattoexpectwhenyoureexpecting\"], [\"nocountryforoldmen\"], [\"imnolongerhere\"], [\"portraitofabeauty\"], [\"jungle\"], [\"10000bc\"], [\"ponyo\"], [\"slaughterhouserulez\"], [\"adrift\"], [\"dyingofthelight\"], [\"ghostriderspiritofvengeance\"], [\"thehowsofus\"], [\"allbecauseofyou\"], [\"kingofmahjong\"], [\"brawlincellblock99\"], [\"callmebyyourname\"], [\"storks\"], [\"eurotrip\"], [\"8\"], [\"myfather\"], [\"hop\"], [\"takinglives\"], [\"basicinstinct\"], [\"thedayaftertomorrow\"], [\"rampant\"], [\"anunremarkablechristmas\"], [\"gokusenthemovie\"], [\"hometownholiday\"], [\"triplefrontier\"], [\"dinnerforschmucks\"], [\"vanhelsing\"], [\"iamvengeanceretaliation\"], [\"themillions\"], [\"phirherapheri\"], [\"catwoman\"], [\"liverleaf\"], [\"hitman\"], [\"deathcanwait\"], [\"getout\"], [\"theeve\"], [\"corpsebride\"], [\"prisoners\"], [\"manofsteel\"], [\"horridhenrysgrossdayout\"], [\"thebattleroartovictory\"], [\"drunkparents\"], [\"jigsaw\"], [\"friday\"], [\"pathfinder\"], [\"theruins\"], [\"crowsepisodezero\"], [\"onedayjusticedelivered\"], [\"fantasticfour\"], [\"therevenant\"], [\"jackthegiantslayer\"], [\"americangangster\"], [\"thegraduation\"], [\"122\"], [\"thisis40\"], [\"asphaltburning\"], [\"alteredcarbonresleeved\"], [\"hotsweetsour\"], [\"halfpastdead\"], [\"iloveyoutwo\"], [\"mrsrightguy\"], [\"nimbe\"], [\"mysummerprince\"], [\"red\"], [\"theswitch\"], [\"thehelp\"], [\"princeoftheseas\"], [\"triumphintheskies\"], [\"leavenotrace\"], [\"five\"], [\"gangsofwasseypurpart1\"], [\"bridgetjonessbaby\"], [\"jackreachernevergoback\"], [\"chinesezodiac\"], [\"nolongerkids\"], [\"gokarts\"], [\"sahara\"], [\"theperfectguy\"], [\"morningglory\"], [\"igiveitayear\"], [\"bullettothehead\"], [\"thepolarexpress\"], [\"theperfectpicturetenyearslater\"], [\"13hoursthesecretsoldiersofbenghazi\"], [\"fantasticbeastsandwheretofindthem\"], [\"bigdaddy\"], [\"dolphintale2\"], [\"johnnyenglish\"], [\"nemesis\"], [\"itsherday\"], [\"inuyashiki\"], [\"theassignment\"], [\"alongcameaspider\"], [\"arthurchristmas\"], [\"b\\u00c3\\u00bcc\\u00c3\\u00bcr\"], [\"oceanstwelve\"], [\"thegreenhornet\"], [\"mutinyoftheworkerbees\"], [\"secretzoo\"], [\"themountainbetweenus\"], [\"clueless\"], [\"doom\"], [\"thethreedeathsofmariselaescobedo\"], [\"theliftboy\"], [\"letmeeatyourpancreas\"], [\"underworldriseofthelycans\"], [\"hellolovegoodbye\"], [\"blackrose\"], [\"snowflower\"], [\"greta\"], [\"nationalsecurity\"], [\"thegodfather\"], [\"jurassicpark\"], [\"thedevilwearsprada\"], [\"findingagnes\"], [\"1br\"], [\"menatworkmiami\"], [\"nigerianprince\"], [\"thenightclerk\"], [\"bastilleday\"], [\"pandemic\"], [\"powerrangers\"], [\"thematrix\"], [\"viktoriaataleofgraceandgreed\"], [\"disappearanceatcliftonhill\"], [\"riot\"], [\"themortalinstrumentscityofbones\"], [\"sakalingmagingtayo\"], [\"theroyalhibiscushotel\"], [\"ittakestwo\"], [\"verliefdopcuba\"], [\"knockknock\"], [\"escapefrompretoria\"], [\"latenight\"], [\"hellboy\"], [\"theperfectmatch\"], [\"waterworld\"], [\"justgowithit\"], [\"truegrit\"], [\"proceder\"], [\"thelegoninjagomovie\"], [\"americanultra\"], [\"theheartbreakkid\"], [\"kungfupanda\"], [\"badland\"], [\"fallinginnlove\"], [\"thelasthouseontheleft\"], [\"thegeneralsdaughter\"], [\"schoolofrock\"], [\"theroyalbengaltiger\"], [\"sahebbiwiaurgangsterreturns\"], [\"axone\"], [\"bloodbrother\"], [\"dumplin\"], [\"4threpublic\"], [\"daytimeshootingstar\"], [\"whataretheodds\"], [\"dilan1991\"], [\"thesistersbrothers\"], [\"gangstersquad\"], [\"finaldestination5\"], [\"shestheone\"], [\"achoo\"], [\"romanceonthemenu\"], [\"officialsecrets\"], [\"guncity\"], [\"penalty\"], [\"sincerelyyoursdhaka\"], [\"thegoodliar\"], [\"theshallows\"], [\"cosydens\"], [\"stolenidentity\"], [\"krishnaandhisleela\"], [\"freaks\"], [\"ajindemihuman\"], [\"soulsurfer\"], [\"jackassthemovie\"], [\"misscongeniality\"], [\"thegoldenholiday\"], [\"metamorphosis\"], [\"hereditary\"], [\"bigfatliar\"], [\"eventhorizon\"], [\"diamondsinthesky\"], [\"worldfamouslover\"], [\"goldstone\"], [\"luststories\"], [\"ahauntedhouse2\"], [\"bluestreak\"], [\"bladetrinity\"], [\"theweddingringer\"], [\"easya\"], [\"thekitchen\"], [\"tombraider\"], [\"spotlight\"], [\"thebutterflyeffect\"], [\"theamazingspiderman2\"], [\"hireawoman\"], [\"toshimaenhauntedpark\"], [\"badboy\"], [\"mrzoothemissingvip\"], [\"vendetta\"], [\"cats\"], [\"theedgeofseventeen\"], [\"sheis\"], [\"vivarium\"], [\"penozathefinalchapter\"], [\"spidermanfarfromhome\"], [\"wetwomaninthewind\"], [\"mazerunnerthescorchtrials\"], [\"blitz\"], [\"howtoloseaguyin10days\"], [\"thesongofnames\"], [\"tenyears\"], [\"meettheinlaws\"], [\"howtobealatinlover\"], [\"redemption\"], [\"youngadult\"], [\"swat\"], [\"thedivinefury\"], [\"anastasia\"], [\"theperksofbeingawallflower\"], [\"forensic\"], [\"bheeshma\"], [\"boo2amadeahalloween\"], [\"thelastnarutothemovie\"], [\"50firstdates\"], [\"nostringsattached\"], [\"allinclusive\"], [\"teentitansgotothemovies\"], [\"convict\"], [\"iamlegend\"], [\"startrekintodarkness\"], [\"salt\"], [\"bwakaw\"], [\"legodcbatmanfamilymatters\"], [\"yesgodyes\"], [\"thepostcardkillings\"], [\"kimjiyoungborn1982\"], [\"ascoretosettle\"], [\"everyday\"], [\"bloodfather\"], [\"thekillteam\"], [\"mrdeeds\"], [\"thisiswhereileaveyou\"], [\"thetallman\"], [\"littlefockers\"], [\"holeinthewall\"], [\"alleyezonme\"], [\"ferdinand\"], [\"theperfectstorm\"], [\"pawpatroljettotherescue\"], [\"gangsofwasseypurpart2\"], [\"nataledachef\"], [\"countdown\"], [\"newyorkminute\"], [\"barnyard\"], [\"sherlockholmes\"], [\"onthebasisofsex\"], [\"thetreeofblood\"], [\"thehurricaneheist\"], [\"earlyman\"], [\"badmoms\"], [\"pointbreak\"], [\"theantbully\"], [\"thetransporter\"], [\"disconnect\"], [\"blackwater\"], [\"bushwick\"], [\"ninjaassassin\"], [\"lastvegas\"], [\"paranorman\"], [\"roadtoperdition\"], [\"coldfeet\"], [\"yesterday\"], [\"inconceivable\"], [\"overdrive\"], [\"marauders\"], [\"thetransporterrefueled\"], [\"battlelosangeles\"], [\"ironman3\"], [\"alterme\"], [\"money\"], [\"fantastica\"], [\"daria\"], [\"mank\"], [\"destinationwedding\"], [\"inavalleyofviolence\"], [\"honeymoon\"], [\"dune\"], [\"uturn\"], [\"rango\"], [\"asih\"], [\"ohomemperfeito\"], [\"fighter\"], [\"thecondemned2\"], [\"thegirlinthefog\"], [\"childsplay\"], [\"heevenhasyoureyes\"], [\"sully\"], [\"freedomwriters\"], [\"thisistheend\"], [\"swatfirefight\"], [\"fredclaus\"], [\"watchmen\"], [\"killerelite\"], [\"romancedoll\"], [\"thewretched\"], [\"comidarkfilms\"], [\"mollysgame\"], [\"queen\"], [\"topgun\"], [\"realsteel\"], [\"heungbootherevolutionist\"], [\"arcticdogs\"], [\"whentheboughbreaks\"], [\"passengers\"], [\"stardust\"], [\"bangkokdarktales\"], [\"myfrienda\"], [\"roped\"], [\"themartian\"], [\"robinhood\"], [\"30daysofnight\"], [\"lustcaution\"], [\"terminatorsalvation\"], [\"locked\"], [\"zookeeper\"], [\"aroundtheworldin80days\"], [\"taxi2\"], [\"cellular\"], [\"kandasamysthewedding\"], [\"sincity\"], [\"gangoose\"], [\"chippa\"], [\"thewayback\"], [\"itcomesatnight\"], [\"theroommate\"], [\"somekindofbeautiful\"], [\"munich\"], [\"supermonstersdiadelosmonsters\"], [\"nightofknots\"], [\"thenightcrew\"], [\"friendbutmarried\"], [\"theinvisibleman\"], [\"stuckwithaperfectwoman\"], [\"kingkong\"], [\"bluethunder\"], [\"bound\"], [\"coraline\"], [\"prometheus\"], [\"hallpass\"], [\"onceuponatimeinlondon\"], [\"alone\"], [\"alongwiththegodsthelast49days\"], [\"myhappyfamily\"], [\"daddydaycare\"], [\"eagleeye\"], [\"jedgar\"], [\"layercake\"], [\"justthewayyouare\"], [\"umamaheswaraugraroopasya\"], [\"calmwithhorses\"], [\"alongwiththegodsthetwoworlds\"], [\"snowden\"], [\"theashladinthehallofthemountainking\"], [\"kingsglaivefinalfantasyxv\"], [\"friendswithbenefits\"], [\"pussinboots\"], [\"vforvendetta\"], [\"interstellar\"], [\"afterthewedding\"], [\"milea\"], [\"gnomealone\"], [\"keepingupwiththejoneses\"], [\"thepeanutsmovie\"], [\"gladiator\"], [\"thebreakup\"], [\"hellgirl\"], [\"thehangoverpartiii\"], [\"kakegurui\"], [\"guesthouse\"], [\"berlinberlin\"], [\"varaneavashyamund\"], [\"merrymentherealyorubademons\"], [\"asilentvoice\"], [\"hiddenfigures\"], [\"thehatefuleight\"], [\"maidinmanhattan\"], [\"thelordoftheringsthereturnoftheking\"], [\"ayamma\"], [\"wira\"], [\"guilty\"], [\"lacolle\"], [\"escapeplantheextractors\"], [\"smurfsthelostvillage\"], [\"paranormalactivitythemarkedones\"], [\"thelunchbox\"], [\"getrichordietryin\"], [\"nationallampoonschristmasvacation\"], [\"madagascarescape2africa\"], [\"isapawithfeelings\"], [\"tremorsshriekerisland\"], [\"real\"], [\"gloriabell\"], [\"beyondskyline\"], [\"newness\"], [\"thedressmaker\"], [\"anacondasthehuntforthebloodorchid\"], [\"firedup\"], [\"insideman\"], [\"themechanic\"], [\"thetwilightsagabreakingdawnpart1\"], [\"onyourweddingday\"], [\"mellow\"], [\"weatheringwithyou\"], [\"tigertail\"], [\"diegomaradona\"], [\"septembersofshiraz\"], [\"jabwemet\"], [\"reddragon\"], [\"meninhope\"], [\"youvegotmail\"], [\"colombiana\"], [\"memoriesofateenager\"], [\"themagicschoolbusridesagainthefrizzconnection\"], [\"teiichibattleofsupremehigh\"], [\"monos\"], [\"moominsontheriviera\"], [\"dororo\"], [\"livebynight\"], [\"therite\"], [\"stickman\"], [\"armydaze\"], [\"allthebrightplaces\"], [\"rollredroll\"], [\"threeidenticalstrangers\"], [\"thenightingale\"], [\"robocop\"], [\"intolerablecruelty\"], [\"thegodfatherpartii\"], [\"theprestige\"], [\"agogocorycarsonchristmas\"], [\"bittersweet\"], [\"anaffair\"], [\"vice\"], [\"greenbook\"], [\"madagascar3europesmostwanted\"], [\"13goingon30\"], [\"themummyreturns\"], [\"howtotrainyourdragon2\"], [\"kickass2\"], [\"houseattheendofthestreet\"], [\"rojo\"], [\"hardcore\"], [\"secondname\"], [\"themansion\"], [\"shoplifters\"], [\"braven\"], [\"stayalive\"], [\"kickboxer\"], [\"thefiveyearengagement\"], [\"trainingday\"], [\"onceuponatimeinmexico\"], [\"forceofnature\"], [\"roguewarfarethehunt\"], [\"topendwedding\"], [\"londonfields\"], [\"overcomer\"], [\"arizona\"], [\"thenutjob2nuttybynature\"], [\"pan\"], [\"sealteamsixtheraidonosamabinladen\"], [\"notmyday\"], [\"howhigh\"], [\"theexorcismofemilyrose\"], [\"arthurandtheinvisibles\"], [\"spiritridingfreeridealongadventure\"], [\"erotica2022\"], [\"rookiesthemoviegraduation\"], [\"totem\"], [\"thecommuter\"], [\"momentum\"], [\"residentevilthefinalchapter\"], [\"sawii\"], [\"badboysii\"], [\"hoteltransylvania\"], [\"abduction\"], [\"crazystupidlove\"], [\"ohadiyorum\"], [\"shotcaller\"], [\"theexperiment\"], [\"thecobbler\"], [\"talladeganightstheballadofrickybobby\"], [\"noah\"], [\"thehangoverpartii\"], [\"theprinceofegypt\"], [\"sonofthemask\"], [\"wrathofthetitans\"], [\"canvas\"], [\"forbiddendream\"], [\"thebloodofwolves\"], [\"safari\"], [\"theunmarriedwife\"], [\"risen\"], [\"kungfupanda3\"], [\"blackmass\"], [\"red2\"], [\"theropecurse2\"], [\"survivethenight\"], [\"schoollife\"], [\"amicicomenoi\"], [\"yucat\\u00c3\\u00a1n\"], [\"6days\"], [\"3seasonsinhell\"], [\"intothewild\"], [\"iska\"], [\"thematch\"], [\"secretwars\"], [\"ninjashadowofatear\"], [\"themanchuriancandidate\"], [\"theadventurerthecurseofthemidasbox\"], [\"themummytombofthedragonemperor\"], [\"alzheimers\"], [\"losrodr\\u00c3\\u00adguezyelm\\u00c3\\u00a1sall\\u00c3\\u00a1\"], [\"more\"], [\"justmercy\"], [\"thinklikeaman\"], [\"taxi3\"], [\"jumpingthebroom\"], [\"southpaw\"], [\"badteacher\"], [\"thecoldlightofday\"], [\"transformersdarkofthemoon\"], [\"sleeper\"], [\"backtothefuturepartii\"], [\"casino\"], [\"marieantoinette\"], [\"welcometosuddendeath\"], [\"strangebuttrue\"], [\"bennettswar\"], [\"skin\"], [\"thegreatestshowman\"], [\"kickboxervengeance\"], [\"bonetomahawk\"], [\"valentinesday\"], [\"horns\"], [\"rambo\"], [\"sylvia\"], [\"homestay\"], [\"pappapia\"], [\"silentnight\"], [\"kin\"], [\"startrekbeyond\"], [\"fourchristmases\"], [\"truelies\"], [\"nonstop\"], [\"thebrainman\"], [\"phuachukangthemovie\"], [\"strangled\"], [\"destinythetaleofkamakura\"], [\"themirrorboy\"], [\"zakichan\"], [\"lookaway\"], [\"iammother\"], [\"beautyandthebeast\"], [\"plusone\"], [\"geronimoanamericanlegend\"], [\"theheat\"], [\"christmaswithaprince\"], [\"gintamathemovie\"], [\"wesummonthedarkness\"], [\"mysistermylove\"], [\"georgetown\"], [\"eyeforaneye\"], [\"211\"], [\"helpishrunkmyteacher\"], [\"poligamy\"], [\"theperfectman\"], [\"thegunman\"], [\"closer\"], [\"oceansthirteen\"], [\"thebournelegacy\"], [\"myamnesiagirl\"], [\"crazycryinglady\"], [\"londonsweeties\"], [\"runningwiththedevil\"], [\"marshall\"], [\"imperium\"], [\"acureforwellness\"], [\"yehjawaanihaideewani\"], [\"singham\"], [\"yogibear\"], [\"mightyexpressamightychristmas\"], [\"thirdismyfirst\"], [\"gravityoflove\"], [\"grace\"], [\"arrival\"], [\"dumbanddumberto\"], [\"theuglytruth\"], [\"seventhson\"], [\"rustcreek\"], [\"incoming\"], [\"highlowthemovie2endofsky\"], [\"3022\"], [\"nativity\"], [\"carriepilby\"], [\"pink\"], [\"howtobesingle\"], [\"threewishesforcinderella\"], [\"richierich\"], [\"rushhour\"], [\"knowing\"], [\"thorthedarkworld\"], [\"exesbaggage\"], [\"wheregotghost\"], [\"retablo\"], [\"asuraguru\"], [\"sweetcountry\"], [\"nezha\"], [\"badgenius\"], [\"ouijaoriginofevil\"], [\"firewithfire\"], [\"walkingtall\"], [\"thehappening\"], [\"twoweeksnotice\"], [\"gamer\"], [\"redridinghood\"], [\"goodgamethebeginning\"], [\"messageinabottle\"], [\"lesgorilles\"], [\"hollowpoint\"], [\"yourname\"], [\"thecell\"], [\"babygeniuses\"], [\"thepost\"], [\"nannymcphee\"], [\"dirtygrandpa\"], [\"22bullets\"], [\"theexpendables3\"], [\"projectx\"], [\"thebluelagoon\"], [\"anofficerandagentleman\"], [\"happygilmore\"], [\"loveyoutothestarsandback\"], [\"achastermarriage\"], [\"distance\"], [\"geisha\"], [\"youmeandhim\"], [\"reside\"], [\"classicagain\"], [\"dragonballsuperbroly\"], [\"thethirdparty\"], [\"thebeachbum\"], [\"destructionlosangeles\"], [\"whathappenedtomonday\"], [\"daddyshome\"], [\"thesalvation\"], [\"brickmansions\"], [\"trust\"], [\"hercules\"], [\"silam\"], [\"anaamika\"], [\"baysideshakedown3settheguysloose\"], [\"pyaarkapunchnama2\"], [\"lion\"], [\"theinfiltrator\"], [\"collateralbeauty\"], [\"anaconda\"], [\"elf\"], [\"christmascrossfire\"], [\"thejournalist\"], [\"lovedestiny\"], [\"asakoiii\"], [\"theshowmustgoonthequeenadamlambertstory\"], [\"usmarshals\"], [\"lastholiday\"], [\"theridiculous6\"], [\"kabhikhushikabhiegham\"], [\"goosebumps\"], [\"tomorrowwhenthewarbegan\"], [\"paulblartmallcop\"], [\"predators\"], [\"getsmart\"], [\"pacificrim\"], [\"xxx\"], [\"seedofchucky\"], [\"pitchperfect\"], [\"super8\"], [\"sleepless\"], [\"sadako\"], [\"kannumkannumkollaiyadithaal\"], [\"ninokuni\"], [\"alibabascinema\"], [\"zerodistance\"], [\"brahmstheboyii\"], [\"theend\"], [\"doorlock\"], [\"emma\"], [\"averycountrychristmas\"], [\"itonya\"], [\"insidiousthelastkey\"], [\"sniperghostshooter\"], [\"erased\"], [\"nana\"], [\"stolen\"], [\"sisters\"], [\"austinpowersingoldmember\"], [\"thegame\"], [\"thelastsamurai\"], [\"onemorechance\"], [\"armedresponse\"], [\"theswindlers\"], [\"warsawbynight\"], [\"paansinghtomar\"], [\"milada\"], [\"lalaland\"], [\"thedaytheearthstoodstill\"], [\"mustbelove\"], [\"vfw\"], [\"theotherlamb\"], [\"sawah\"], [\"imania\"], [\"lommbock\"], [\"lastflighttoabuja\"], [\"amityvilletheawakening\"], [\"captainamericacivilwar\"], [\"looneytunesbackinaction\"], [\"soundercover\"], [\"meninblack\"], [\"oceanseleven\"], [\"thebourneidentity\"], [\"thefamily\"], [\"rundfunkjachterwachter\"], [\"blackwaterabyss\"], [\"unbreakablekimmyschmidtkimmyvsthereverend\"], [\"thetwopopes\"], [\"supermariobros\"], [\"jimbuttonandluketheenginedriver\"], [\"thearbitration\"], [\"theinvisibleguardian\"], [\"thedarkness\"], [\"sausageparty\"], [\"thedictator\"], [\"thebeach\"], [\"thehousewherethemermaidsleeps\"], [\"flyingcolors\"], [\"brotherinlove\"], [\"asterixthesecretofthemagicpotion\"], [\"thebyebyeman\"], [\"deadmandown\"], [\"roadtrip\"], [\"thosewhoremained\"], [\"thebestbet\"], [\"hellontheborder\"], [\"nogamenolifezero\"], [\"special26\"], [\"disturbia\"], [\"barelylethal\"], [\"fallingdown\"], [\"laborday\"], [\"grease\"], [\"thehuntforredoctober\"], [\"thematrixreloaded\"], [\"thelakehouse\"], [\"quantumofsolace\"], [\"olympushasfallen\"], [\"kalel15\"], [\"thecorrupted\"], [\"thereliant\"], [\"myheroacademiatwoheroes\"], [\"ride\"], [\"mazingerzinfinity\"], [\"lundanslautre\"], [\"domino\"], [\"bleedforthis\"], [\"thelastcastle\"], [\"oldboy\"], [\"fullmetaljacket\"], [\"thefirstwivesclub\"], [\"wrongturn\"], [\"funnypeople\"], [\"cinderellaandthesecretprince\"], [\"firegate\"], [\"liargamethefinalstage\"], [\"thesevendeadlysinsthemovieprisonersofthesky\"], [\"berserk\"], [\"theleisureseeker\"], [\"humancapital\"], [\"waterandfire\"], [\"thesumofallfears\"], [\"27dresses\"], [\"hereafter\"], [\"cube\"], [\"nottinghill\"], [\"300\"], [\"whenwillyougetmarried\"], [\"midnightrunners\"], [\"normofthenorthfamilyvacation\"], [\"actionpoint\"], [\"ghadi\"], [\"rings\"], [\"thehousebunny\"], [\"2fast2furious\"], [\"madagascar\"], [\"rushhour3\"], [\"neverbackdown\"], [\"highlowthemovie3finalmission\"], [\"theexam\"], [\"theoperative\"], [\"thethirdmurder\"], [\"richardjewell\"], [\"clergy\"], [\"paycheck\"], [\"theguilttrip\"], [\"anightmareonelmstreet\"], [\"rogue\"], [\"diazdontcleanupthisblood\"], [\"dumbanddumber\"], [\"zombieland\"], [\"thedrop\"], [\"chicobonbonandtheveryberryholiday\"], [\"truehistoryofthekellygang\"], [\"depiratenvanhiernaast\"], [\"buffaloed\"], [\"stilllifeofmemories\"], [\"asecretlove\"], [\"mystupidboss\"], [\"alliseeisyou\"], [\"gangsta\"], [\"thelittlewitch\"], [\"riptide\"], [\"fromuponpoppyhill\"], [\"incontr\\u00c3\\u00b4lable\"], [\"theboondocksaintsiiallsaintsday\"], [\"nogooddeed\"], [\"thelincolnlawyer\"], [\"thedilemma\"], [\"thebraveone\"], [\"kickass\"], [\"aweddingforchristmas\"], [\"confessionsofaserialkillerwithpiersmorgan\"], [\"crazyawesometeachers\"], [\"youaretheappleofmyeye\"], [\"gintama2rulesaremadetobebroken\"], [\"perfectworld\"], [\"twothumbsup\"], [\"rage\"], [\"thewife\"], [\"casinotycoon\"], [\"blackbutterfly\"], [\"lucknowcentral\"], [\"thelongestyard\"], [\"theluckyone\"], [\"walkofshame\"], [\"theboy\"], [\"theplacebeyondthepines\"], [\"thecave\"], [\"frompariswithlove\"], [\"alphaandomega\"], [\"centurion\"], [\"transformers\"], [\"badboys\"], [\"theking\"], [\"burning\"], [\"sweptaway\"], [\"angel\"], [\"obsessed\"], [\"yearone\"], [\"thedarkesthour\"], [\"lawabidingcitizen\"], [\"forrestgump\"], [\"primalfear\"], [\"twister\"], [\"pineappleexpress\"], [\"themanwiththeironfists\"], [\"unexpectedlyyours\"], [\"youanimal\"], [\"ahlongpteltd\"], [\"survivor\"], [\"backtrace\"], [\"lockonlove\"], [\"blackorwhite\"], [\"sistersinlaw\"], [\"frontier\"], [\"allaboutnina\"], [\"qaribqaribsinglle\"], [\"duckduckgoose\"], [\"theinvasion\"], [\"teenagemutantninjaturtles\"], [\"flipped\"], [\"lol\"], [\"meettheparents\"], [\"clashofthetitans\"], [\"himeanole\"], [\"lightinthedark\"], [\"waitingforspring\"], [\"klown\"], [\"closeenemies\"], [\"aaplamanus\"], [\"doomannihilation\"], [\"hurricane\"], [\"lifeasweknowit\"], [\"mirrormirror\"], [\"andsoitgoes\"], [\"definitelymaybe\"], [\"wildwildwest\"], [\"thegoodshepherd\"], [\"ghostrider\"], [\"enemylines\"], [\"hantukapcai\"], [\"loveiswar\"], [\"toalltheboyspsistillloveyou\"], [\"marrowbone\"], [\"captainunderpantsthefirstepicmovie\"], [\"miraclesfromheaven\"], [\"thesweeney\"], [\"inferno\"], [\"horriblebosses2\"], [\"scarface\"], [\"abouttime\"], [\"enough\"], [\"menaceiisociety\"], [\"gangsofnewyork\"], [\"jaws\"], [\"palerider\"], [\"yesman\"], [\"bridesmaids\"], [\"doraemonthemoviegreatadventureintheantarctickachikochi\"], [\"rubbers\"], [\"theaddamsfamily\"], [\"pok\\u00c3\\u00a9monmewtwostrikesbackevolution\"], [\"fragile\"], [\"freezerscampaign\"], [\"abeautifuldayintheneighborhood\"], [\"turbulence\"], [\"spectral\"], [\"houseofwax\"], [\"thebugsbunnyroadrunnermovie\"], [\"thezookeeperswife\"], [\"alvinandthechipmunkstheroadchip\"], [\"safe\"], [\"awalktoremember\"], [\"thetheoryofeverything\"], [\"theskinilivein\"], [\"cobra\"], [\"coloroutofspace\"], [\"ophelia\"], [\"justiceleaguedarkapokolipswar\"], [\"thebygone\"], [\"elizabethharvest\"], [\"gintama\"], [\"theprofessorandthemadman\"], [\"themistress\"], [\"unbrokenpathtoredemption\"], [\"thedebtcollector\"], [\"theprison\"], [\"aghoststory\"], [\"widows\"], [\"randomhearts\"], [\"hostelpartiii\"], [\"myneighbortotoro\"], [\"missionimpossibleii\"], [\"thescore\"], [\"thelordoftheringsthefellowshipofthering\"], [\"mysticriver\"], [\"lordofwar\"], [\"copout\"], [\"isolados\"], [\"iamlyingnow\"], [\"moneynoenough\"], [\"fathers\"], [\"thecoldestgame\"], [\"jarheadlawofreturn\"], [\"arainydayinnewyork\"], [\"trick\"], [\"footloose\"], [\"papertowns\"], [\"fridaythe13th\"], [\"meetthefockers\"], [\"universalsoldierdayofreckoning\"], [\"flight\"], [\"oldschool\"], [\"priest\"], [\"theshining\"], [\"indianajonesandthelastcrusade\"], [\"thequickandthedead\"], [\"castaway\"], [\"weweresoldiers\"], [\"knockedup\"], [\"mammamia\"], [\"thelovelybones\"], [\"thething\"], [\"theexpendables\"], [\"specheaven\"], [\"iamwoman\"], [\"roguewarfaredeathofanation\"], [\"bombshell\"], [\"thejurassicgames\"], [\"highlife\"], [\"10x10\"], [\"gotti\"], [\"girlhood\"], [\"yuma\"], [\"rumbleinthebronx\"], [\"underworldbloodwars\"], [\"imaginethat\"], [\"ipman2\"], [\"meangirls2\"], [\"landofthelost\"], [\"transporter2\"], [\"waiting\"], [\"donniebrasco\"], [\"aknightstale\"], [\"sweetriver\"], [\"kamomediner\"], [\"jurek\"], [\"fida\"], [\"amillionairesfirstlove\"], [\"tread\"], [\"anchorbaby\"], [\"yourstory\"], [\"nobunagaconcertothemovie\"], [\"laoriginals\"], [\"intheroom\"], [\"asun\"], [\"newworld\"], [\"whatkeepsyoualive\"], [\"asecondchance\"], [\"ourhouse\"], [\"toman\"], [\"theinvitation\"], [\"ungli\"], [\"alittlechaos\"], [\"thelastshot\"], [\"doctorstrange\"], [\"repomen\"], [\"syriana\"], [\"thedescendants\"], [\"johnq\"], [\"themagicschoolbusridesagaininthezone\"], [\"lastmomentofclarity\"], [\"fittestindubai\"], [\"achampionheart\"], [\"houseofthewitch\"], [\"daddycool\"], [\"shaft\"], [\"maudie\"], [\"returntothebluelagoon\"], [\"thepossession\"], [\"noescape\"], [\"bladesofglory\"], [\"thewitches\"], [\"killtheirishman\"], [\"transformersrevengeofthefallen\"], [\"beetlejuice\"], [\"thelongkissgoodnight\"], [\"thejackal\"], [\"thedavincicode\"], [\"elysium\"], [\"projectmarathwada\"], [\"thespeedcubers\"], [\"damsel\"], [\"hastaquelabodanossepare\"], [\"thecall\"], [\"paprika\"], [\"amadeafamilyfuneral\"], [\"borning\"], [\"threebillboardsoutsideebbingmissouri\"], [\"diaryofawimpykidthelonghaul\"], [\"thechoice\"], [\"ninja\"], [\"howtotrainyourdragon\"], [\"crouchingtigerhiddendragon\"], [\"glory\"], [\"teenagemutantninjaturtlesiithesecretoftheooze\"], [\"missionimpossible\"], [\"freddyvsjason\"], [\"dreamcatcher\"], [\"grantorino\"], [\"rio\"], [\"thegroomsprice\"], [\"nakee2\"], [\"phonecalltothebar\"], [\"missionsoflove\"], [\"helloworld\"], [\"maska\"], [\"thelastkiss\"], [\"inbedwithsanta\"], [\"sweetnovember\"], [\"housearrest\"], [\"riverrunsred\"], [\"thephotographerofmauthausen\"], [\"innocent\"], [\"thequeenscorgi\"], [\"adogsjourney\"], [\"doraandthelostcityofgold\"], [\"brainonfire\"], [\"nasha\"], [\"thegirlwithallthegifts\"], [\"hellorhighwater\"], [\"shutin\"], [\"nowandthen\"], [\"almostchristmas\"], [\"thelegobatmanmovie\"], [\"grease2\"], [\"gofast\"], [\"theotherwoman\"], [\"duplicity\"], [\"lawless\"], [\"thecondemned\"], [\"silverado\"], [\"gremlins\"], [\"executivedecision\"], [\"thewholenineyards\"], [\"fury\"], [\"12giftsofchristmas\"], [\"pagpagninelives\"], [\"doraemonthemovienobitaandthebirthofjapan\"], [\"bikeman\"], [\"serenity\"], [\"selena\"], [\"serialkiller1\"], [\"sonofagun\"], [\"thegunsofnavarone\"], [\"augustrush\"], [\"minorityreport\"], [\"emmanuelle\"], [\"indianajonesandthetempleofdoom\"], [\"thecraft\"], [\"thedeparted\"], [\"theavengers\"], [\"thefallenangel\"], [\"restoringtheshack\"], [\"ahorsecalledwish\"], [\"cruelpeter\"], [\"villain\"], [\"bluestory\"], [\"drowninglove\"], [\"tornoindietroecambiovita\"], [\"mirage\"], [\"polar\"], [\"batmanthekillingjoke\"], [\"thewildewedding\"], [\"criminal\"], [\"tulipfever\"], [\"christmaswiththekranks\"], [\"thewolfman\"], [\"backtothefuturepartiii\"], [\"curiousgeorge\"], [\"gonegirl\"], [\"whitehousedown\"], [\"theassent\"], [\"mygiraffe\"], [\"pilgrimage\"], [\"thelastwitness\"], [\"barcelonaaloveuntold\"], [\"alwaysbemymaybe\"], [\"onceuponatimeinchinaandamerica\"], [\"julietnaked\"], [\"birdbox\"], [\"boyerased\"], [\"hostiles\"], [\"youwereneverreallyhere\"], [\"lovepersquarefoot\"], [\"table19\"], [\"eyeinthesky\"], [\"thecaptive\"], [\"thepunisher\"], [\"escapefromplanetearth\"], [\"weownthenight\"], [\"pusher\"], [\"youdontmesswiththezohan\"], [\"sleepyhollow\"], [\"invictus\"], [\"thegruffalo\"], [\"jumanji\"], [\"charliesangelsfullthrottle\"], [\"masterandcommanderthefarsideoftheworld\"], [\"collateral\"], [\"hotfuzz\"], [\"welldoneabba\"], [\"averyspeciallove\"], [\"anewyorkchristmaswedding\"], [\"iloveyouineverylanguageintheworld\"], [\"youtubebazaar\"], [\"alsonquemetoquenbailo\"], [\"thelimehousegolem\"], [\"resturlaub\"], [\"airplanemode\"], [\"kabirsingh\"], [\"thebestofenemies\"], [\"jopilhothedawningrage\"], [\"youremyboss\"], [\"arctic\"], [\"wheresthemoney\"], [\"themagicquill\"], [\"15minutes\"], [\"hitmanagent47\"], [\"spanglish\"], [\"thunderandthehouseofmagic\"], [\"thedukesofhazzard\"], [\"hanna\"], [\"kuchkuchhotahai\"], [\"foolsgold\"], [\"licensetowed\"], [\"jackasspresentsbadgrandpa\"], [\"flashdance\"], [\"schindlerslist\"], [\"theflintstones\"], [\"thenuttyprofessor\"], [\"therainmaker\"], [\"americanhistoryx\"], [\"hitch\"], [\"captainphillips\"], [\"boboiboymovie2\"], [\"lovelikethefallingrain\"], [\"aftermetyou\"], [\"bananasplit\"], [\"thesetup\"], [\"alel\\u00c3\\u00ad\"], [\"theliarandhislover\"], [\"welcomehome\"], [\"killercove\"], [\"leprechaunreturns\"], [\"howitends\"], [\"urbanlegend\"], [\"winchester\"], [\"loganlucky\"], [\"goldenshoes\"], [\"smokinaces\"], [\"snitch\"], [\"anchorman2thelegendcontinues\"], [\"orphan\"], [\"magicmikexxl\"], [\"onemissedcall\"], [\"nightsinrodanthe\"], [\"welcometothepunch\"], [\"thatsmyboy\"], [\"christine\"], [\"thetrumanshow\"], [\"themaskofzorro\"], [\"theartofwar\"], [\"thesweetestthing\"], [\"journeytothecenteroftheearth\"], [\"divergent\"], [\"div\\u00c3\\u00b3rcio\"], [\"romy\"], [\"tokan\"], [\"poacher\"], [\"thedare\"], [\"chasingrainbows\"], [\"homemade\"], [\"thelastfullmeasure\"], [\"borutonarutothemovie\"], [\"thetruthaboutloveis\"], [\"downadarkhall\"], [\"savingzo\\u00c3\\u00ab\"], [\"joy\"], [\"finallyfoundsomeone\"], [\"startingoveragain\"], [\"kingofthieves\"], [\"disobedience\"], [\"codeofhonor\"], [\"takeme\"], [\"thekaratekid\"], [\"allornothing\"], [\"legend\"], [\"shesfunnythatway\"], [\"savethelastdance\"], [\"bridgeofspies\"], [\"gridirongang\"], [\"whitechristmas\"], [\"whatagirlwants\"], [\"thelaststand\"], [\"winterstale\"], [\"rush\"], [\"snakesonaplane\"], [\"theyoungvictoria\"], [\"thenet\"], [\"practicalmagic\"], [\"thelordoftheringsthetwotowers\"], [\"paulblartmallcop2\"], [\"wildcard\"], [\"doraemonthemovienobitainthesecretgadgetmuseum\"], [\"hope\"], [\"thefloatingcastle\"], [\"muitacalmanessahora2\"], [\"cheeseinthetrap\"], [\"impactearth\"], [\"themummy\"], [\"johnwastryingtocontactaliens\"], [\"villanabila\"], [\"myheroacademiaheroesrising\"], [\"theinvincibledragon\"], [\"themarriedcouples\"], [\"thepeanutbutterfalcon\"], [\"terracehouseclosingdoor\"], [\"whipped\"], [\"heavenwillwait\"], [\"lafuitinasbagliata\"], [\"womenofmafia2\"], [\"7emotions\"], [\"ittakesamanandawoman\"], [\"atwelveyearnight\"], [\"3ninjaskickback\"], [\"thebleedingedge\"], [\"traffik\"], [\"raw\"], [\"annihilation\"], [\"stereo\"], [\"ahologramfortheking\"], [\"samekindofdifferentasme\"], [\"hacksawridge\"], [\"baywatch\"], [\"beastly\"], [\"thenameless\"], [\"firestorm\"], [\"30minutesorless\"], [\"unforgiven\"], [\"casagrande\"], [\"rio2\"], [\"maximumrisk\"], [\"darkskies\"], [\"graceofmonaco\"], [\"promnight\"], [\"arthur3thewarofthetwoworlds\"], [\"theeagle\"], [\"spykidsallthetimeintheworld\"], [\"hopesprings\"], [\"allaboutthebenjamins\"], [\"wintersbone\"], [\"rockyiv\"], [\"thecolorpurple\"], [\"wyattearp\"], [\"billymadison\"], [\"fear\"], [\"rushhour2\"], [\"americanwedding\"], [\"gonebabygone\"], [\"hachiadogstale\"], [\"astroboy\"], [\"totalrecall\"], [\"suckerpunch\"], [\"theadventuresoftintin\"], [\"fatpizza\"], [\"aperfectchristmaslist\"], [\"broadcastingchristmas\"], [\"savingsally\"], [\"theoak\"], [\"roadtohighlow\"], [\"lovesick\"], [\"redvacanceblackwedding\"], [\"makingthewitcher\"], [\"inotstupid\"], [\"tesla\"], [\"louislucathebigcheeserace\"], [\"bigbrother\"], [\"betweenpainandamen\"], [\"thedonkeyking\"], [\"thestandatpaxtoncounty\"], [\"mystupidboss2\"], [\"circusofbooks\"], [\"thecurrentwar\"], [\"mine9\"], [\"paharganj\"], [\"thechamber\"], [\"loosecannons\"], [\"lastchristmas\"], [\"theintruder\"], [\"playmobilthemovie\"], [\"detroit\"], [\"reprisal\"], [\"theyshallnotgrowold\"], [\"theloveaffair\"], [\"nosuchthingashousewives\"], [\"canthelpfallinginlove\"], [\"kicks\"], [\"cookoff\"], [\"assassinationnation\"], [\"illangthewolfbrigade\"], [\"operationfinale\"], [\"gringo\"], [\"elcaminochristmas\"], [\"residentevilvendetta\"], [\"force2\"], [\"sleeplessnights\"], [\"dearsecretsanta\"], [\"theinformant\"], [\"funwithdickandjane\"], [\"shestheman\"], [\"theniceguys\"], [\"ipman3\"], [\"thebodyguard\"], [\"thehillshaveeyes\"], [\"somethingsgottagive\"], [\"leapyear\"], [\"therailwayman\"], [\"lovelace\"], [\"firewall\"], [\"northcountry\"], [\"beverlyhillscop\"], [\"uncorked\"], [\"theuntouchables\"], [\"demolitionman\"], [\"fearandloathinginlasvegas\"], [\"the6thday\"], [\"americanpie2\"], [\"spiderman\"], [\"thebournesupremacy\"], [\"justfriends\"], [\"child44\"], [\"draculauntold\"], [\"riddick\"]], \"hoverlabel\": {\"namelength\": 0}, \"hovertemplate\": \"Type=Movie<br>IMDb_Score=%{x}<br>VALUE=%{y}<br>Title=%{customdata[0]}\", \"legendgroup\": \"Type=Movie\", \"marker\": {\"color\": \"#EF553B\", \"symbol\": \"circle\"}, \"mode\": \"markers\", \"name\": \"Type=Movie\", \"showlegend\": true, \"type\": \"scattergl\", \"x\": [3, 6, 6, 6, 6, 7, 6, 6, 5, 5, 5, 5, 4, 7, 6, 5, 7, 6, 7, 5, 5, 5, 5, 8, 5, 6, 5, 8, 5, 7, 6, 3, 5, 5, 3, 5, 7, 6, 6, 5, 6, 6, 6, 6, 3, 9, 6, 5, 8, 7, 8, 4, 7, 5, 5, 5, 7, 3, 8, 6, 6, 6, 7, 4, 6, 6, 3, 7, 6, 4, 7, 7, 7, 6, 7, 6, 7, 6, 5, 6, 6, 7, 5, 6, 6, 5, 6, 5, 4, 5, 6, 6, 6, 5, 6, 6, 7, 7, 6, 5, 2, 8, 6, 6, 6, 7, 6, 6, 6, 7, 5, 5, 6, 4, 6, 6, 6, 6, 6, 7, 4, 6, 4, 5, 6, 4, 6, 5, 5, 6, 7, 5, 4, 6, 6, 5, 7, 6, 4, 6, 5, 5, 5, 6, 6, 7, 7, 6, 6, 5, 6, 6, 6, 5, 6, 6, 6, 6, 5, 7, 5, 7, 6, 6, 7, 7, 6, 6, 5, 5, 6, 4, 5, 5, 6, 7, 6, 6, 6, 6, 5, 8, 7, 5, 5, 7, 7, 3, 7, 6, 8, 5, 6, 5, 6, 6, 7, 7, 8, 6, 5, 6, 5, 5, 8, 6, 5, 5, 6, 5, 6, 5, 6, 6, 7, 8, 6, 7, 5, 6, 7, 6, 7, 6, 5, 6, 5, 7, 6, 3, 7, 2, 7, 7, 7, 7, 7, 5, 6, 6, 3, 6, 5, 6, 5, 5, 7, 6, 6, 7, 6, 5, 6, 6, 5, 6, 7, 6, 6, 7, 7, 6, 6, 5, 5, 6, 6, 7, 6, 7, 6, 6, 5, 3, 5, 9, 6, 7, 5, 5, 6, 6, 6, 7, 5, 5, 3, 6, 6, 5, 3, 6, 5, 6, 6, 5, 6, 7, 3, 5, 6, 7, 6, 8, 5, 5, 6, 6, 6, 6, 4, 5, 5, 6, 7, 5, 6, 5, 6, 6, 6, 6, 7, 5, 7, 5, 5, 5, 7, 7, 7, 6, 6, 6, 5, 7, 7, 6, 6, 6, 5, 7, 5, 7, 5, 5, 7, 5, 6, 8, 6, 4, 5, 6, 6, 6, 3, 7, 5, 7, 7, 6, 7, 6, 6, 5, 5, 6, 6, 6, 5, 6, 6, 7, 7, 6, 5, 7, 7, 6, 5, 6, 5, 6, 5, 5, 5, 5, 7, 6, 5, 5, 6, 6, 5, 6, 6, 7, 6, 7, 6, 5, 6, 5, 7, 6, 5, 5, 8, 5, 8, 3, 7, 5, 6, 6, 6, 6, 8, 6, 7, 8, 7, 5, 6, 6, 4, 6, 6, 7, 5, 7, 7, 7, 6, 5, 6, 6, 5, 6, 8, 6, 5, 6, 5, 6, 7, 7, 5, 7, 5, 6, 7, 5, 5, 7, 7, 6, 5, 6, 7, 4, 6, 6, 6, 7, 6, 8, 6, 6, 7, 7, 5, 4, 6, 6, 5, 7, 6, 6, 6, 4, 2, 6, 7, 6, 6, 7, 6, 6, 6, 3, 3, 7, 6, 7, 5, 7, 5, 5, 7, 5, 7, 6, 5, 6, 4, 7, 6, 7, 5, 7, 6, 7, 5, 6, 6, 3, 7, 4, 8, 6, 6, 6, 5, 6, 7, 6, 7, 7, 5, 7, 5, 6, 6, 6, 6, 7, 5, 6, 5, 6, 6, 6, 6, 5, 4, 7, 5, 7, 7, 5, 3, 5, 5, 6, 6, 8, 6, 5, 7, 6, 5, 7, 5, 5, 5, 7, 6, 5, 7, 5, 7, 6, 5, 6, 8, 6, 4, 5, 4, 8, 6, 5, 5, 8, 6, 4, 5, 5, 4, 5, 4, 5, 5, 5, 5, 5, 4, 5, 6, 6, 6, 6, 6, 6, 5, 6, 7, 6, 5, 5, 8, 7, 5, 2, 5, 4, 5, 7, 7, 6, 6, 5, 6, 6, 6, 6, 6, 6, 7, 6, 5, 6, 5, 5, 5, 6, 7, 5, 7, 5, 5, 5, 6, 5, 4, 6, 6, 6, 8, 5, 6, 6, 5, 5, 7, 5, 7, 3, 3, 6, 7, 6, 3, 7, 7, 6, 5, 5, 6, 6, 7, 6, 5, 4, 6, 4, 6, 6, 6, 6, 7, 6, 6, 7, 7, 7, 5, 6, 6, 3, 5, 8, 6, 5, 2, 8, 6, 8, 8, 5, 8, 7, 7, 6, 6, 6, 6, 5, 7, 6, 5, 1, 2, 7, 8, 5, 6, 8, 5, 8, 6, 6, 8, 6, 6, 6, 7, 6, 6, 4, 7, 7, 7, 6, 6, 7, 7, 6, 4, 6, 5, 8, 6, 6, 5, 6, 6, 7, 7, 6, 7, 7, 7, 5, 5, 5, 5, 7, 7, 3, 6, 5, 7, 5, 5, 8, 6, 6, 6, 5, 7, 5, 6, 4, 4, 7, 3, 5, 7, 7, 6, 6, 7, 6, 5, 6, 7, 6, 6, 3, 6, 5, 6, 5, 6, 3, 5, 6, 3, 6, 6, 7, 7, 4, 7, 8, 7, 6, 6, 3, 5, 7, 5, 5, 7, 5, 4, 8, 6, 7, 7, 6, 6, 5, 6, 6, 4, 6, 6, 5, 6, 7, 6, 8, 5, 4, 7, 6, 8, 6, 6, 6, 9, 5, 5, 5, 6, 5, 5, 6, 6, 7, 7, 6, 6, 6, 5, 7, 7, 4, 6, 7, 5, 6, 5, 4, 6, 6, 6, 5, 8, 7, 7, 6, 7, 2, 6, 6, 5, 9, 8, 6, 4, 5, 4, 5, 5, 4, 4, 5, 8, 6, 5, 5, 5, 7, 5, 5, 4, 4, 6, 6, 5, 3, 6, 6, 7, 5, 6, 6, 5, 7, 5, 5, 6, 6, 7, 6, 6, 7, 4, 6, 6, 6, 7, 6, 7, 6, 5, 5, 5, 5, 7, 6, 5, 6, 6, 6, 8, 5, 5, 6, 6, 7, 6, 6, 5, 3, 7, 5, 6, 6, 4, 6, 6, 4, 6, 5, 6, 7, 5, 6, 8, 7, 6, 5, 3, 5, 5, 5, 2, 7, 8, 5, 6, 7, 5, 6, 6, 6, 6, 6, 5, 6, 6, 6, 6, 6, 7, 8, 6, 6, 3, 7, 6, 6, 5, 6, 5, 7, 7, 6, 6, 6, 6, 5, 7, 4, 6, 6, 5, 5, 6, 5, 5, 8, 5, 6, 6, 6, 8, 3, 5, 5, 5, 7, 7, 6, 5, 6, 6, 5, 5, 6, 7, 4, 5, 6, 6, 7, 7, 8, 6, 5, 5, 5, 5, 5, 7, 5, 5, 4, 8, 7, 6, 6, 5, 6, 7, 7, 5, 6, 6, 4, 6, 5, 6, 7, 7, 6, 5, 5, 7, 6, 6, 5, 6, 7, 8, 6, 7, 6, 4, 5, 7, 7, 5, 6, 5, 8, 5, 6, 7, 6, 4, 5, 5, 6, 6, 5, 8, 4, 6, 7, 6, 4, 5, 7, 4, 5, 4, 6, 7, 6, 7, 6, 3, 7, 7, 5, 5, 6, 7, 7, 5, 6, 6, 7, 5, 7, 6, 7, 7, 6, 6, 6, 6, 8, 8, 6, 6, 5, 5, 7, 6, 5, 7, 5, 6, 4, 7, 6, 5, 8, 7, 7, 5, 8, 6, 6, 5, 6, 4, 6, 5, 7, 5, 7, 6, 7, 5, 7, 6, 5, 6, 7, 4, 6, 7, 6, 4, 6, 5, 7, 6, 7, 6, 7, 7, 7, 6, 6, 6, 5, 6, 6, 6, 8, 6, 6, 7, 6, 6, 7, 7, 7, 6, 6, 9, 8, 6, 6, 4, 7, 8, 6, 6, 6, 7, 6, 5, 6, 6, 5, 4, 7, 5, 5, 6, 6, 7, 6, 4, 3, 6, 4, 6, 5, 5, 5, 5, 6, 6, 6, 6, 5, 3, 6, 4, 6, 5, 5, 6, 6, 5, 5, 7, 1, 7, 6, 5, 6, 5, 6, 7, 2, 5, 6, 6, 7, 4, 6, 6, 7, 6, 6, 4, 4, 6, 4, 5, 6, 6, 8, 6, 6, 6, 6, 6, 5, 5, 5, 4, 8, 7, 6, 5, 5, 7, 5, 6, 6, 7, 7, 8, 6, 4, 5, 5, 6, 7, 4, 7, 5, 6, 7, 6, 7, 3, 5, 5, 7, 5, 7, 6, 6, 4, 7, 6, 4, 6, 5, 6, 6, 6, 6, 6, 5, 8, 5, 7, 5, 6, 4, 5, 5, 5, 5, 7, 6, 6, 6, 5, 6, 5, 7, 6, 6, 7, 6, 4, 5, 7, 4, 5, 7, 5, 6, 5, 5, 3, 7, 4, 6, 6, 8, 6, 7, 5, 7, 6, 6, 6, 4, 7, 3, 6, 7, 7, 6, 5, 6, 5, 6, 5, 5, 4, 6, 3, 4, 8, 7, 2, 7, 6, 5, 6, 6, 6, 5, 7, 7, 7, 5, 6, 7, 7, 4, 6, 7, 6, 5, 4, 6, 6, 6, 5, 6, 6, 5, 5, 5, 7, 8, 7, 6, 4, 7, 4, 6, 8, 6, 7, 6, 6, 4, 7, 6, 6, 5, 6, 6, 6, 5, 4, 7, 7, 5, 4, 7, 6, 5, 7, 4, 6, 6, 6, 6, 7, 5, 5, 8, 7, 5, 5, 6, 6, 7, 7, 3, 6, 4, 8, 6, 8, 5, 6, 6, 5, 6, 3, 6, 4, 4, 7, 5, 5, 7, 7, 7, 7, 5, 4, 7, 7, 4, 6, 5, 6, 4, 6, 6, 6, 6, 6, 7, 6, 4, 6, 6, 7, 6, 4, 7, 8, 6, 5, 7, 6, 7, 7, 7, 6, 6, 6, 7, 5, 3, 7, 5, 5, 5, 4, 6, 7, 5, 8, 6, 6, 6, 5, 5, 7, 7, 6, 6, 7, 6, 6, 6, 6, 7, 7, 7, 7, 7, 3, 5, 7, 4, 5, 5, 6, 6, 6, 7, 7, 5, 6, 7, 7, 6, 5, 5, 6, 7, 7, 7, 7, 5, 6, 6, 6, 5, 7, 7, 5, 7, 6, 5, 7, 3, 6, 5, 7, 5, 6, 7, 5, 3, 6, 7, 6, 8, 6, 5, 7, 6, 6, 6, 7, 6, 6, 6, 7, 5, 6, 5, 6, 7, 6, 7, 7, 3, 7, 6, 4, 4, 7, 8, 7, 6, 6, 5, 6, 6, 5, 5, 3, 6, 6, 7, 7, 6, 7, 5, 5, 6, 7, 7, 7, 6, 6, 6, 6, 7, 6, 7, 3, 7, 6, 5, 5, 7, 5, 6, 5, 4, 5, 7, 6, 6, 6, 7, 6, 6, 6, 8, 7, 5, 7, 7, 8, 7, 6, 6, 6, 5, 6, 5, 6, 5, 7, 4, 6, 5, 7, 7, 5, 6, 7, 7, 7, 5, 6, 6, 7, 6, 5, 8, 7, 6, 5, 5, 6, 6, 6, 5, 4, 8, 6, 6, 8, 7, 7, 5, 5, 5, 6, 6, 6, 5, 6, 7, 5, 6, 6, 6, 5, 7, 7, 5, 8, 8, 6, 7, 7, 6, 6, 6, 6, 6, 5, 6, 2, 6, 3, 5, 5, 4, 6, 6, 6, 5, 5, 7, 4, 5, 6, 7, 7, 6, 5, 7, 7, 5, 6, 7, 6, 5, 6, 7, 4, 7, 7, 5, 7, 5, 6, 6, 5, 6, 5, 7, 6, 6, 7, 7, 5, 5, 6, 5, 4, 5, 5, 7, 5, 5, 6, 6, 6, 7, 6, 7, 6, 6, 6, 6, 6, 7, 5, 4, 6, 7, 4, 6, 8, 4, 6, 5, 8, 7, 7, 6, 7, 5, 5, 8, 6, 7, 5, 6, 5, 6, 5, 6, 6, 6, 5, 4, 6, 8, 4, 7, 6, 6, 3, 6, 7, 4, 6, 6, 7, 4, 5, 6, 6, 7, 6, 7, 7, 6, 6, 7, 6, 5, 6, 6, 5, 6, 6, 6, 7, 7, 5, 5, 7, 6, 8, 3, 6, 6, 6, 4, 6, 6, 5, 5, 7, 6, 6, 5, 6, 6, 5, 5, 7, 6, 8, 6, 4, 6, 5, 5, 6, 6, 6, 6, 6, 6, 7, 6, 7, 5, 7, 5, 6, 5, 6, 7, 5, 7, 7, 7, 7, 4, 7, 6, 7, 7, 6, 5, 5, 7, 5, 6, 5, 5, 7, 7, 6, 6, 6, 5, 6, 6, 5, 6, 6, 5, 6, 7, 5, 5, 6, 6, 8, 4, 5, 7, 8, 6, 7, 6, 4, 7, 6, 4, 6, 6, 5, 4, 5, 5, 5, 5, 7, 3, 6, 6, 6, 7, 5, 6, 6, 6, 5, 6, 8, 6, 5, 5, 5, 6, 5, 6, 4, 6, 5, 7, 6, 6, 7, 5, 5, 5, 8, 5, 7, 5, 6, 4, 6, 7, 4, 6, 6, 6, 7, 6, 7, 5, 6, 6, 8, 5, 7, 6, 6, 8, 4, 8, 6, 6, 6, 4, 7, 3, 5, 6, 4, 7, 4, 8, 7, 5, 4, 7, 5, 3, 6, 6, 7, 4, 7, 6, 7, 6, 6, 6, 6, 8, 5, 5, 5, 6, 6, 8, 6, 6, 5, 6, 5, 3, 5, 6, 3, 6, 5, 7, 6, 7, 6, 6, 6, 6, 6, 7, 8, 6, 6, 6, 7, 5, 5, 6, 7, 8, 7, 8, 4, 6, 7, 5, 6, 5, 7, 6, 6, 6, 7, 6, 6, 4, 6, 7, 6, 5, 4, 7, 4, 8, 6, 6, 7, 6, 6, 5, 6, 6, 6, 5, 6, 6, 7, 6, 6, 6, 6, 7, 7, 6, 6, 6, 6, 7, 6, 5, 7, 7, 6, 7, 6, 7, 5, 6, 7, 7, 6, 6, 6, 6], \"xaxis\": \"x\", \"y\": [42149, 16427, 15910, 14831, 13918, 13588, 13006, 12833, 12763, 10571, 8751, 8520, 259, 8240, 8162, 7688, 7667, 7468, 7275, 7146, 6768, 6480, 6381, 6331, 6052, 5912, 5703, 5568, 5560, 5534, 5407, 5358, 5336, 5241, 5185, 5160, 5010, 4829, 4648, 4620, 4578, 4459, 4267, 4233, 4162, 4121, 4104, 3869, 3807, 3759, 3643, 3502, 3465, 3424, 3359, 3281, 3270, 3239, 3215, 3190, 3185, 3158, 2980, 2942, 2887, 2878, 2856, 2850, 2788, 2760, 2760, 2730, 2649, 2640, 2627, 2568, 2517, 2487, 2480, 2468, 2448, 2395, 2383, 2336, 2312, 2305, 2301, 2293, 2251, 2208, 2185, 2182, 2180, 2174, 2169, 2156, 2152, 2113, 2108, 2097, 2040, 2019, 2006, 1961, 1889, 1882, 1859, 1855, 1850, 1808, 1793, 1781, 1778, 1750, 1712, 1710, 1709, 1699, 1684, 1645, 1612, 1602, 1598, 1592, 1591, 1584, 1563, 1533, 1523, 1519, 1517, 1489, 1477, 1471, 1461, 1460, 1448, 1425, 1420, 1395, 1392, 1389, 1368, 1334, 1323, 1298, 1293, 1243, 1239, 1236, 1233, 1226, 1223, 1209, 1205, 1203, 1202, 1196, 1189, 1186, 1184, 1184, 1182, 1177, 1168, 1168, 1167, 1163, 1159, 1148, 1146, 1137, 1136, 1127, 1121, 1119, 1117, 1115, 1112, 1105, 1079, 1063, 1062, 1059, 1046, 1037, 1033, 1031, 1020, 1005, 1001, 993, 983, 965, 957, 950, 949, 948, 947, 936, 935, 934, 932, 925, 917, 914, 914, 912, 907, 889, 886, 879, 876, 865, 858, 853, 851, 850, 848, 845, 845, 843, 842, 841, 828, 827, 826, 818, 816, 805, 803, 802, 802, 798, 798, 794, 791, 791, 787, 786, 780, 779, 777, 776, 772, 765, 762, 760, 759, 754, 749, 748, 747, 744, 737, 731, 728, 723, 723, 720, 708, 707, 703, 697, 693, 690, 687, 681, 680, 670, 665, 662, 659, 658, 657, 656, 651, 645, 644, 644, 639, 633, 633, 632, 631, 630, 619, 619, 619, 617, 614, 612, 612, 611, 611, 610, 608, 608, 603, 597, 596, 596, 595, 589, 588, 586, 583, 579, 578, 576, 575, 573, 572, 571, 570, 565, 563, 563, 563, 558, 556, 554, 548, 547, 546, 540, 538, 529, 526, 525, 520, 518, 517, 516, 513, 513, 510, 509, 509, 506, 505, 500, 499, 495, 491, 490, 490, 489, 12023, 487, 486, 486, 479, 476, 475, 475, 475, 474, 474, 473, 472, 470, 470, 469, 466, 466, 465, 461, 459, 458, 457, 456, 455, 454, 449, 447, 446, 445, 442, 442, 442, 438, 438, 437, 435, 433, 432, 429, 427, 426, 426, 423, 422, 420, 420, 419, 418, 416, 411, 630, 409, 403, 403, 401, 400, 398, 396, 395, 394, 385, 385, 384, 384, 381, 380, 19, 376, 374, 370, 370, 368, 368, 368, 367, 367, 366, 362, 362, 359, 356, 355, 354, 353, 351, 350, 348, 345, 344, 342, 341, 341, 340, 339, 339, 338, 337, 334, 332, 330, 328, 326, 325, 322, 322, 321, 321, 321, 313, 310, 307, 306, 45, 306, 305, 302, 302, 302, 301, 301, 300, 298, 297, 297, 296, 296, 295, 294, 287, 286, 286, 286, 284, 283, 283, 283, 283, 283, 282, 281, 281, 279, 275, 273, 270, 269, 269, 267, 267, 266, 266, 265, 264, 261, 260, 595, 259, 258, 258, 257, 256, 253, 251, 251, 251, 250, 248, 248, 248, 247, 246, 246, 245, 245, 245, 244, 243, 242, 242, 241, 239, 238, 236, 235, 235, 233, 233, 232, 232, 231, 230, 230, 230, 230, 229, 229, 227, 225, 225, 224, 223, 223, 223, 222, 221, 221, 221, 220, 220, 218, 217, 217, 217, 217, 216, 216, 216, 214, 213, 213, 213, 210, 209, 209, 209, 208, 207, 207, 206, 205, 204, 203, 202, 202, 202, 201, 200, 199, 199, 198, 197, 196, 196, 196, 196, 195, 195, 195, 195, 194, 193, 193, 192, 190, 190, 189, 188, 188, 188, 188, 187, 187, 187, 187, 186, 185, 185, 185, 184, 183, 183, 183, 183, 182, 182, 181, 180, 179, 178, 178, 178, 178, 177, 177, 176, 176, 176, 175, 174, 173, 173, 172, 172, 171, 171, 171, 170, 170, 170, 170, 169, 169, 169, 167, 167, 167, 166, 166, 165, 165, 164, 164, 164, 164, 163, 163, 163, 162, 162, 162, 162, 162, 162, 162, 22, 161, 161, 160, 159, 159, 158, 158, 157, 157, 156, 156, 155, 155, 155, 154, 154, 154, 154, 154, 153, 152, 151, 150, 150, 149, 149, 306, 148, 148, 148, 147, 147, 147, 146, 146, 146, 145, 145, 145, 144, 144, 144, 143, 143, 143, 143, 142, 142, 142, 141, 141, 140, 140, 140, 140, 140, 139, 139, 139, 139, 138, 138, 137, 137, 137, 135, 135, 135, 134, 134, 134, 133, 132, 132, 132, 33, 131, 130, 129, 129, 128, 128, 128, 128, 128, 127, 127, 127, 127, 127, 127, 127, 127, 127, 126, 126, 126, 126, 126, 125, 125, 125, 125, 124, 124, 124, 124, 124, 124, 124, 123, 298, 123, 123, 123, 123, 122, 121, 121, 121, 121, 121, 121, 120, 120, 120, 120, 119, 119, 117, 117, 117, 117, 117, 117, 116, 116, 116, 116, 116, 116, 116, 115, 115, 115, 115, 114, 114, 113, 113, 113, 111, 111, 111, 111, 110, 110, 110, 110, 110, 110, 110, 109, 109, 109, 109, 109, 109, 109, 109, 108, 108, 108, 108, 108, 108, 108, 108, 107, 107, 107, 107, 107, 107, 106, 106, 106, 106, 106, 106, 105, 105, 105, 104, 104, 104, 104, 104, 103, 103, 103, 103, 102, 102, 102, 102, 102, 102, 102, 102, 101, 101, 101, 101, 101, 101, 101, 101, 101, 100, 100, 100, 100, 99, 99, 99, 99, 99, 98, 98, 98, 98, 98, 98, 98, 97, 97, 97, 97, 97, 96, 96, 96, 96, 96, 95, 95, 95, 95, 95, 94, 94, 94, 94, 94, 94, 94, 93, 93, 93, 93, 93, 92, 92, 92, 92, 92, 91, 91, 91, 91, 91, 91, 91, 90, 90, 90, 90, 90, 89, 89, 89, 89, 89, 89, 89, 89, 89, 88, 88, 88, 88, 88, 87, 87, 87, 87, 87, 87, 87, 86, 86, 86, 86, 85, 85, 85, 85, 84, 84, 84, 84, 17, 84, 84, 83, 83, 83, 82, 82, 82, 82, 82, 82, 81, 81, 81, 81, 81, 81, 80, 80, 80, 80, 80, 80, 80, 80, 80, 80, 80, 80, 80, 79, 79, 79, 79, 78, 78, 78, 78, 78, 78, 78, 77, 77, 77, 77, 77, 77, 77, 77, 76, 76, 76, 76, 76, 76, 76, 75, 75, 75, 75, 75, 75, 75, 75, 74, 74, 73, 73, 73, 73, 73, 73, 73, 73, 73, 72, 72, 72, 72, 72, 72, 72, 72, 72, 72, 72, 72, 72, 72, 71, 71, 71, 71, 71, 71, 71, 70, 70, 70, 70, 70, 69, 69, 69, 69, 790, 69, 69, 69, 68, 68, 68, 68, 68, 67, 67, 67, 67, 67, 67, 67, 67, 67, 66, 66, 66, 66, 66, 66, 66, 66, 66, 66, 66, 66, 65, 65, 65, 65, 65, 65, 65, 65, 64, 64, 64, 64, 64, 63, 63, 63, 63, 63, 63, 62, 62, 62, 62, 62, 62, 62, 61, 61, 60, 60, 60, 60, 60, 60, 60, 60, 60, 60, 59, 59, 59, 59, 59, 59, 59, 59, 59, 59, 59, 58, 58, 58, 58, 58, 58, 58, 58, 58, 58, 58, 58, 57, 57, 57, 57, 57, 57, 57, 57, 57, 57, 57, 56, 56, 56, 56, 56, 56, 56, 56, 55, 55, 55, 55, 55, 55, 55, 55, 55, 55, 54, 54, 54, 54, 54, 54, 54, 54, 54, 54, 54, 53, 53, 53, 53, 53, 53, 53, 53, 53, 53, 53, 52, 52, 52, 52, 52, 52, 52, 52, 52, 52, 52, 52, 52, 51, 51, 51, 51, 51, 51, 51, 51, 51, 51, 51, 51, 50, 50, 50, 50, 50, 50, 50, 50, 50, 50, 49, 49, 49, 49, 49, 49, 49, 49, 49, 48, 48, 48, 48, 48, 48, 48, 48, 47, 47, 47, 47, 47, 47, 47, 46, 46, 46, 46, 46, 46, 46, 46, 46, 46, 46, 46, 46, 46, 46, 45, 45, 45, 68, 45, 45, 45, 45, 45, 45, 44, 44, 44, 44, 44, 44, 44, 44, 44, 43, 43, 43, 43, 43, 43, 43, 43, 43, 43, 43, 43, 42, 42, 42, 42, 42, 42, 42, 42, 42, 42, 42, 42, 42, 42, 41, 41, 41, 41, 41, 41, 41, 41, 41, 41, 40, 40, 40, 40, 40, 40, 40, 40, 39, 39, 39, 39, 39, 39, 39, 39, 39, 39, 39, 39, 39, 38, 38, 38, 38, 38, 38, 38, 38, 38, 38, 38, 38, 38, 38, 37, 37, 37, 37, 37, 37, 37, 37, 37, 37, 37, 37, 37, 37, 37, 37, 36, 36, 36, 36, 36, 36, 36, 36, 36, 36, 36, 36, 36, 36, 36, 36, 36, 35, 35, 35, 35, 35, 35, 35, 35, 35, 34, 34, 34, 34, 34, 34, 34, 34, 34, 34, 34, 34, 34, 34, 34, 34, 34, 34, 34, 140, 33, 33, 33, 32, 32, 32, 32, 32, 32, 32, 32, 32, 32, 32, 32, 32, 32, 32, 32, 32, 31, 31, 31, 31, 31, 31, 31, 31, 30, 30, 30, 30, 30, 30, 30, 30, 30, 30, 30, 30, 30, 30, 30, 29, 29, 29, 29, 29, 29, 29, 29, 29, 29, 29, 29, 28, 28, 28, 28, 28, 28, 28, 27, 27, 27, 27, 27, 27, 27, 27, 27, 27, 27, 27, 27, 27, 27, 26, 26, 26, 26, 26, 26, 26, 26, 26, 26, 26, 26, 26, 26, 26, 25, 25, 25, 25, 25, 25, 25, 25, 25, 25, 25, 25, 25, 25, 24, 24, 24, 24, 24, 24, 24, 24, 24, 24, 24, 23, 23, 23, 23, 23, 23, 23, 23, 23, 23, 23, 23, 23, 23, 22, 22, 22, 22, 22, 22, 22, 22, 22, 22, 22, 22, 22, 22, 22, 22, 22, 22, 22, 21, 21, 21, 21, 21, 21, 21, 21, 21, 21, 21, 21, 21, 21, 21, 21, 21, 21, 21, 21, 21, 21, 21, 20, 20, 20, 20, 20, 20, 20, 20, 20, 20, 20, 20, 20, 19, 19, 19, 102, 19, 19, 19, 19, 19, 19, 19, 19, 19, 487, 19, 19, 19, 19, 18, 18, 18, 18, 18, 18, 18, 18, 18, 18, 18, 18, 18, 18, 18, 17, 17, 17, 17, 17, 17, 17, 17, 17, 17, 17, 17, 17, 17, 17, 17, 17, 17, 17, 16, 16, 270, 16, 16, 16, 16, 16, 16, 16, 16, 16, 16, 16, 16, 16, 16, 16, 15, 15, 15, 15, 15, 15, 15, 15, 15, 15, 15, 15, 15, 15, 15, 15, 15, 15, 15, 15, 15, 15, 14, 14, 14, 14, 14, 14, 14, 14, 14, 14, 14, 14, 14, 14, 14, 14, 14, 14, 14, 14, 14, 14, 14, 14, 14, 14, 13, 13, 13, 13, 13, 13, 13, 13, 13, 13, 13, 13, 13, 13, 13, 13, 13, 13, 13, 13, 12, 12, 12, 12, 12, 12, 12, 12, 12, 12, 12, 12, 12, 12, 12, 12, 12, 12, 12, 12, 12, 12, 12, 12, 12, 12, 11, 11, 11, 11, 11, 11, 11, 11, 11, 11, 11, 11, 11, 11, 11, 11, 11, 11, 11, 11, 10, 10, 10, 10, 2971, 10, 10, 10, 10, 10, 10, 10, 10, 10, 10, 10, 10, 10, 10, 10, 10, 9, 9, 9, 9, 9, 9, 9, 9, 9, 9, 9, 9, 9, 9, 9, 9, 9, 9, 9, 9, 9, 9, 9, 9, 9, 9, 9, 9, 9, 9, 9, 9, 9, 9, 9, 8, 8, 8, 8, 8, 8, 8, 8, 8, 8, 8, 8, 8, 8, 8, 8, 7, 7, 7, 7, 7, 7, 7, 7, 7, 7, 7, 7, 7, 7, 7, 7, 7, 7, 7, 7, 6, 6, 6, 6, 6, 6, 6, 6, 6, 6, 6, 6, 6, 6, 6, 6, 6, 6, 6, 6, 6, 6, 6, 6, 6, 6, 6, 6, 6, 5, 5, 5, 5, 5, 5, 5, 5, 5, 5, 5, 5, 5, 5, 5, 5, 5, 5, 5, 5, 5, 5, 5, 5, 5, 5, 5, 5, 5, 5, 5, 5, 5, 5, 4, 4, 4, 4, 4, 4, 4, 4, 4, 4, 4, 4, 4, 4, 4, 4, 4, 4, 4, 4, 4, 4, 4, 4, 4, 4, 4, 4, 4, 4, 4, 3, 3, 3, 3, 3, 3, 3, 3, 3, 3, 3, 3, 3, 3, 3, 3, 3, 3, 3, 21, 3, 3, 3, 3, 3, 3, 3, 3, 3, 3, 3, 3, 3, 3, 3, 3, 3, 3, 2, 2, 2, 2, 2, 2, 149, 2, 2, 2, 2, 2, 2, 2, 2, 2, 2, 2, 2, 2, 2, 2, 2, 2, 2, 2, 2, 2, 2, 2, 2, 2, 2, 2, 2, 2, 2, 2, 2, 2, 2, 2, 2, 2, 2, 2, 2, 2, 2, 2, 2, 2, 2, 2, 2, 2, 2, 2, 2, 2, 2, 1, 1, 1, 1, 1, 1, 1, 1, 1, 1, 1, 1, 1, 1, 1, 1, 1, 1, 1, 1, 1, 1, 1, 1, 1, 1, 1, 1, 1, 1, 1, 1, 1, 1, 1, 1, 1, 1, 1, 1, 1, 1, 1, 1, 1, 1, 1, 1, 1, 1, 1, 1, 1, 1, 1, 1, 1, 1, 1, 1, 1, 1, 1, 1, 1, 1, 1, 1, 1], \"yaxis\": \"y\"}],\n",
              "                        {\"legend\": {\"tracegroupgap\": 0}, \"margin\": {\"t\": 60}, \"template\": {\"data\": {\"bar\": [{\"error_x\": {\"color\": \"#2a3f5f\"}, \"error_y\": {\"color\": \"#2a3f5f\"}, \"marker\": {\"line\": {\"color\": \"#E5ECF6\", \"width\": 0.5}}, \"type\": \"bar\"}], \"barpolar\": [{\"marker\": {\"line\": {\"color\": \"#E5ECF6\", \"width\": 0.5}}, \"type\": \"barpolar\"}], \"carpet\": [{\"aaxis\": {\"endlinecolor\": \"#2a3f5f\", \"gridcolor\": \"white\", \"linecolor\": \"white\", \"minorgridcolor\": \"white\", \"startlinecolor\": \"#2a3f5f\"}, \"baxis\": {\"endlinecolor\": \"#2a3f5f\", \"gridcolor\": \"white\", \"linecolor\": \"white\", \"minorgridcolor\": \"white\", \"startlinecolor\": \"#2a3f5f\"}, \"type\": \"carpet\"}], \"choropleth\": [{\"colorbar\": {\"outlinewidth\": 0, \"ticks\": \"\"}, \"type\": \"choropleth\"}], \"contour\": [{\"colorbar\": {\"outlinewidth\": 0, \"ticks\": \"\"}, \"colorscale\": [[0.0, \"#0d0887\"], [0.1111111111111111, \"#46039f\"], [0.2222222222222222, \"#7201a8\"], [0.3333333333333333, \"#9c179e\"], [0.4444444444444444, \"#bd3786\"], [0.5555555555555556, \"#d8576b\"], [0.6666666666666666, \"#ed7953\"], [0.7777777777777778, \"#fb9f3a\"], [0.8888888888888888, \"#fdca26\"], [1.0, \"#f0f921\"]], \"type\": \"contour\"}], \"contourcarpet\": [{\"colorbar\": {\"outlinewidth\": 0, \"ticks\": \"\"}, \"type\": \"contourcarpet\"}], \"heatmap\": [{\"colorbar\": {\"outlinewidth\": 0, \"ticks\": \"\"}, \"colorscale\": [[0.0, \"#0d0887\"], [0.1111111111111111, \"#46039f\"], [0.2222222222222222, \"#7201a8\"], [0.3333333333333333, \"#9c179e\"], [0.4444444444444444, \"#bd3786\"], [0.5555555555555556, \"#d8576b\"], [0.6666666666666666, \"#ed7953\"], [0.7777777777777778, \"#fb9f3a\"], [0.8888888888888888, \"#fdca26\"], [1.0, \"#f0f921\"]], \"type\": \"heatmap\"}], \"heatmapgl\": [{\"colorbar\": {\"outlinewidth\": 0, \"ticks\": \"\"}, \"colorscale\": [[0.0, \"#0d0887\"], [0.1111111111111111, \"#46039f\"], [0.2222222222222222, \"#7201a8\"], [0.3333333333333333, \"#9c179e\"], [0.4444444444444444, \"#bd3786\"], [0.5555555555555556, \"#d8576b\"], [0.6666666666666666, \"#ed7953\"], [0.7777777777777778, \"#fb9f3a\"], [0.8888888888888888, \"#fdca26\"], [1.0, \"#f0f921\"]], \"type\": \"heatmapgl\"}], \"histogram\": [{\"marker\": {\"colorbar\": {\"outlinewidth\": 0, \"ticks\": \"\"}}, \"type\": \"histogram\"}], \"histogram2d\": [{\"colorbar\": {\"outlinewidth\": 0, \"ticks\": \"\"}, \"colorscale\": [[0.0, \"#0d0887\"], [0.1111111111111111, \"#46039f\"], [0.2222222222222222, \"#7201a8\"], [0.3333333333333333, \"#9c179e\"], [0.4444444444444444, \"#bd3786\"], [0.5555555555555556, \"#d8576b\"], [0.6666666666666666, \"#ed7953\"], [0.7777777777777778, \"#fb9f3a\"], [0.8888888888888888, \"#fdca26\"], [1.0, \"#f0f921\"]], \"type\": \"histogram2d\"}], \"histogram2dcontour\": [{\"colorbar\": {\"outlinewidth\": 0, \"ticks\": \"\"}, \"colorscale\": [[0.0, \"#0d0887\"], [0.1111111111111111, \"#46039f\"], [0.2222222222222222, \"#7201a8\"], [0.3333333333333333, \"#9c179e\"], [0.4444444444444444, \"#bd3786\"], [0.5555555555555556, \"#d8576b\"], [0.6666666666666666, \"#ed7953\"], [0.7777777777777778, \"#fb9f3a\"], [0.8888888888888888, \"#fdca26\"], [1.0, \"#f0f921\"]], \"type\": \"histogram2dcontour\"}], \"mesh3d\": [{\"colorbar\": {\"outlinewidth\": 0, \"ticks\": \"\"}, \"type\": \"mesh3d\"}], \"parcoords\": [{\"line\": {\"colorbar\": {\"outlinewidth\": 0, \"ticks\": \"\"}}, \"type\": \"parcoords\"}], \"pie\": [{\"automargin\": true, \"type\": \"pie\"}], \"scatter\": [{\"marker\": {\"colorbar\": {\"outlinewidth\": 0, \"ticks\": \"\"}}, \"type\": \"scatter\"}], \"scatter3d\": [{\"line\": {\"colorbar\": {\"outlinewidth\": 0, \"ticks\": \"\"}}, \"marker\": {\"colorbar\": {\"outlinewidth\": 0, \"ticks\": \"\"}}, \"type\": \"scatter3d\"}], \"scattercarpet\": [{\"marker\": {\"colorbar\": {\"outlinewidth\": 0, \"ticks\": \"\"}}, \"type\": \"scattercarpet\"}], \"scattergeo\": [{\"marker\": {\"colorbar\": {\"outlinewidth\": 0, \"ticks\": \"\"}}, \"type\": \"scattergeo\"}], \"scattergl\": [{\"marker\": {\"colorbar\": {\"outlinewidth\": 0, \"ticks\": \"\"}}, \"type\": \"scattergl\"}], \"scattermapbox\": [{\"marker\": {\"colorbar\": {\"outlinewidth\": 0, \"ticks\": \"\"}}, \"type\": \"scattermapbox\"}], \"scatterpolar\": [{\"marker\": {\"colorbar\": {\"outlinewidth\": 0, \"ticks\": \"\"}}, \"type\": \"scatterpolar\"}], \"scatterpolargl\": [{\"marker\": {\"colorbar\": {\"outlinewidth\": 0, \"ticks\": \"\"}}, \"type\": \"scatterpolargl\"}], \"scatterternary\": [{\"marker\": {\"colorbar\": {\"outlinewidth\": 0, \"ticks\": \"\"}}, \"type\": \"scatterternary\"}], \"surface\": [{\"colorbar\": {\"outlinewidth\": 0, \"ticks\": \"\"}, \"colorscale\": [[0.0, \"#0d0887\"], [0.1111111111111111, \"#46039f\"], [0.2222222222222222, \"#7201a8\"], [0.3333333333333333, \"#9c179e\"], [0.4444444444444444, \"#bd3786\"], [0.5555555555555556, \"#d8576b\"], [0.6666666666666666, \"#ed7953\"], [0.7777777777777778, \"#fb9f3a\"], [0.8888888888888888, \"#fdca26\"], [1.0, \"#f0f921\"]], \"type\": \"surface\"}], \"table\": [{\"cells\": {\"fill\": {\"color\": \"#EBF0F8\"}, \"line\": {\"color\": \"white\"}}, \"header\": {\"fill\": {\"color\": \"#C8D4E3\"}, \"line\": {\"color\": \"white\"}}, \"type\": \"table\"}]}, \"layout\": {\"annotationdefaults\": {\"arrowcolor\": \"#2a3f5f\", \"arrowhead\": 0, \"arrowwidth\": 1}, \"coloraxis\": {\"colorbar\": {\"outlinewidth\": 0, \"ticks\": \"\"}}, \"colorscale\": {\"diverging\": [[0, \"#8e0152\"], [0.1, \"#c51b7d\"], [0.2, \"#de77ae\"], [0.3, \"#f1b6da\"], [0.4, \"#fde0ef\"], [0.5, \"#f7f7f7\"], [0.6, \"#e6f5d0\"], [0.7, \"#b8e186\"], [0.8, \"#7fbc41\"], [0.9, \"#4d9221\"], [1, \"#276419\"]], \"sequential\": [[0.0, \"#0d0887\"], [0.1111111111111111, \"#46039f\"], [0.2222222222222222, \"#7201a8\"], [0.3333333333333333, \"#9c179e\"], [0.4444444444444444, \"#bd3786\"], [0.5555555555555556, \"#d8576b\"], [0.6666666666666666, \"#ed7953\"], [0.7777777777777778, \"#fb9f3a\"], [0.8888888888888888, \"#fdca26\"], [1.0, \"#f0f921\"]], \"sequentialminus\": [[0.0, \"#0d0887\"], [0.1111111111111111, \"#46039f\"], [0.2222222222222222, \"#7201a8\"], [0.3333333333333333, \"#9c179e\"], [0.4444444444444444, \"#bd3786\"], [0.5555555555555556, \"#d8576b\"], [0.6666666666666666, \"#ed7953\"], [0.7777777777777778, \"#fb9f3a\"], [0.8888888888888888, \"#fdca26\"], [1.0, \"#f0f921\"]]}, \"colorway\": [\"#636efa\", \"#EF553B\", \"#00cc96\", \"#ab63fa\", \"#FFA15A\", \"#19d3f3\", \"#FF6692\", \"#B6E880\", \"#FF97FF\", \"#FECB52\"], \"font\": {\"color\": \"#2a3f5f\"}, \"geo\": {\"bgcolor\": \"white\", \"lakecolor\": \"white\", \"landcolor\": \"#E5ECF6\", \"showlakes\": true, \"showland\": true, \"subunitcolor\": \"white\"}, \"hoverlabel\": {\"align\": \"left\"}, \"hovermode\": \"closest\", \"mapbox\": {\"style\": \"light\"}, \"paper_bgcolor\": \"white\", \"plot_bgcolor\": \"#E5ECF6\", \"polar\": {\"angularaxis\": {\"gridcolor\": \"white\", \"linecolor\": \"white\", \"ticks\": \"\"}, \"bgcolor\": \"#E5ECF6\", \"radialaxis\": {\"gridcolor\": \"white\", \"linecolor\": \"white\", \"ticks\": \"\"}}, \"scene\": {\"xaxis\": {\"backgroundcolor\": \"#E5ECF6\", \"gridcolor\": \"white\", \"gridwidth\": 2, \"linecolor\": \"white\", \"showbackground\": true, \"ticks\": \"\", \"zerolinecolor\": \"white\"}, \"yaxis\": {\"backgroundcolor\": \"#E5ECF6\", \"gridcolor\": \"white\", \"gridwidth\": 2, \"linecolor\": \"white\", \"showbackground\": true, \"ticks\": \"\", \"zerolinecolor\": \"white\"}, \"zaxis\": {\"backgroundcolor\": \"#E5ECF6\", \"gridcolor\": \"white\", \"gridwidth\": 2, \"linecolor\": \"white\", \"showbackground\": true, \"ticks\": \"\", \"zerolinecolor\": \"white\"}}, \"shapedefaults\": {\"line\": {\"color\": \"#2a3f5f\"}}, \"ternary\": {\"aaxis\": {\"gridcolor\": \"white\", \"linecolor\": \"white\", \"ticks\": \"\"}, \"baxis\": {\"gridcolor\": \"white\", \"linecolor\": \"white\", \"ticks\": \"\"}, \"bgcolor\": \"#E5ECF6\", \"caxis\": {\"gridcolor\": \"white\", \"linecolor\": \"white\", \"ticks\": \"\"}}, \"title\": {\"x\": 0.05}, \"xaxis\": {\"automargin\": true, \"gridcolor\": \"white\", \"linecolor\": \"white\", \"ticks\": \"\", \"title\": {\"standoff\": 15}, \"zerolinecolor\": \"white\", \"zerolinewidth\": 2}, \"yaxis\": {\"automargin\": true, \"gridcolor\": \"white\", \"linecolor\": \"white\", \"ticks\": \"\", \"title\": {\"standoff\": 15}, \"zerolinecolor\": \"white\", \"zerolinewidth\": 2}}}, \"xaxis\": {\"anchor\": \"y\", \"domain\": [0.0, 1.0], \"title\": {\"text\": \"IMDb_Score\"}}, \"yaxis\": {\"anchor\": \"x\", \"domain\": [0.0, 1.0], \"title\": {\"text\": \"VALUE\"}}},\n",
              "                        {\"responsive\": true}\n",
              "                    ).then(function(){\n",
              "                            \n",
              "var gd = document.getElementById('18023ec7-00a4-4617-a191-480fa9217e23');\n",
              "var x = new MutationObserver(function (mutations, observer) {{\n",
              "        var display = window.getComputedStyle(gd).display;\n",
              "        if (!display || display === 'none') {{\n",
              "            console.log([gd, 'removed!']);\n",
              "            Plotly.purge(gd);\n",
              "            observer.disconnect();\n",
              "        }}\n",
              "}});\n",
              "\n",
              "// Listen for the removal of the full notebook cells\n",
              "var notebookContainer = gd.closest('#notebook-container');\n",
              "if (notebookContainer) {{\n",
              "    x.observe(notebookContainer, {childList: true});\n",
              "}}\n",
              "\n",
              "// Listen for the clearing of the current output cell\n",
              "var outputEl = gd.closest('.output');\n",
              "if (outputEl) {{\n",
              "    x.observe(outputEl, {childList: true});\n",
              "}}\n",
              "\n",
              "                        })\n",
              "                };\n",
              "                \n",
              "            </script>\n",
              "        </div>\n",
              "</body>\n",
              "</html>"
            ]
          },
          "metadata": {
            "tags": []
          }
        }
      ]
    },
    {
      "cell_type": "markdown",
      "metadata": {
        "id": "B3XgYDuG7CNj"
      },
      "source": [
        "## 3.Genre 와 IMDb 살펴보기"
      ]
    },
    {
      "cell_type": "code",
      "metadata": {
        "id": "aI_mO752UnFt",
        "colab": {
          "base_uri": "https://localhost:8080/",
          "height": 336
        },
        "outputId": "526926b3-6806-49e1-f005-a03748d1f61e"
      },
      "source": [
        "sns.heatmap(IMDB_log.isnull())"
      ],
      "execution_count": 37,
      "outputs": [
        {
          "output_type": "execute_result",
          "data": {
            "text/plain": [
              "<matplotlib.axes._subplots.AxesSubplot at 0x7fc727a87950>"
            ]
          },
          "metadata": {
            "tags": []
          },
          "execution_count": 37
        },
        {
          "output_type": "display_data",
          "data": {
            "image/png": "[encoded data removed]",
            "text/plain": [
              "<Figure size 432x288 with 2 Axes>"
            ]
          },
          "metadata": {
            "tags": [],
            "needs_background": "light"
          }
        }
      ]
    },
    {
      "cell_type": "code",
      "metadata": {
        "id": "JQRYfHCbVEZM"
      },
      "source": [
        "IMDB_log = IMDB_log.dropna(subset=['GENRE']) #장르가 없을 경우 드랍"
      ],
      "execution_count": 38,
      "outputs": []
    },
    {
      "cell_type": "code",
      "metadata": {
        "id": "w14lfkjZWI3r"
      },
      "source": [
        "IMDB_log = IMDB_log.replace('Animated', 'Animation') #animated와 animation 합치기"
      ],
      "execution_count": 39,
      "outputs": []
    },
    {
      "cell_type": "markdown",
      "metadata": {
        "id": "jj7Ey7UBrumI"
      },
      "source": [
        "#### Moive"
      ]
    },
    {
      "cell_type": "code",
      "metadata": {
        "id": "Ikn1D9kxVSSJ",
        "colab": {
          "base_uri": "https://localhost:8080/",
          "height": 419
        },
        "outputId": "de3cb6be-a790-4d70-a7b8-c9bb9507254c"
      },
      "source": [
        "movie_base = IMDB_log.loc[(IMDB_log.Type == 'Movie')]\n",
        "movie_base"
      ],
      "execution_count": 40,
      "outputs": [
        {
          "output_type": "execute_result",
          "data": {
            "text/html": [
              "<div>\n",
              "<style scoped>\n",
              "    .dataframe tbody tr th:only-of-type {\n",
              "        vertical-align: middle;\n",
              "    }\n",
              "\n",
              "    .dataframe tbody tr th {\n",
              "        vertical-align: top;\n",
              "    }\n",
              "\n",
              "    .dataframe thead th {\n",
              "        text-align: right;\n",
              "    }\n",
              "</style>\n",
              "<table border=\"1\" class=\"dataframe\">\n",
              "  <thead>\n",
              "    <tr style=\"text-align: right;\">\n",
              "      <th></th>\n",
              "      <th>Title</th>\n",
              "      <th>Type</th>\n",
              "      <th>GENRE</th>\n",
              "      <th>IMDb_Score</th>\n",
              "      <th>Log_VALUE</th>\n",
              "    </tr>\n",
              "  </thead>\n",
              "  <tbody>\n",
              "    <tr>\n",
              "      <th>1</th>\n",
              "      <td>365days</td>\n",
              "      <td>Movie</td>\n",
              "      <td>Romance</td>\n",
              "      <td>3.2</td>\n",
              "      <td>10.649</td>\n",
              "    </tr>\n",
              "    <tr>\n",
              "      <th>8</th>\n",
              "      <td>enolaholmes</td>\n",
              "      <td>Movie</td>\n",
              "      <td>Drama</td>\n",
              "      <td>6.6</td>\n",
              "      <td>9.707</td>\n",
              "    </tr>\n",
              "    <tr>\n",
              "      <th>10</th>\n",
              "      <td>thechristmaschroniclesparttwo</td>\n",
              "      <td>Movie</td>\n",
              "      <td>Comedy</td>\n",
              "      <td>6.0</td>\n",
              "      <td>9.675</td>\n",
              "    </tr>\n",
              "    <tr>\n",
              "      <th>12</th>\n",
              "      <td>holidate</td>\n",
              "      <td>Movie</td>\n",
              "      <td>Comedy</td>\n",
              "      <td>6.9</td>\n",
              "      <td>9.605</td>\n",
              "    </tr>\n",
              "    <tr>\n",
              "      <th>15</th>\n",
              "      <td>theoldguard</td>\n",
              "      <td>Movie</td>\n",
              "      <td>Superhero</td>\n",
              "      <td>6.6</td>\n",
              "      <td>9.541</td>\n",
              "    </tr>\n",
              "    <tr>\n",
              "      <th>...</th>\n",
              "      <td>...</td>\n",
              "      <td>...</td>\n",
              "      <td>...</td>\n",
              "      <td>...</td>\n",
              "      <td>...</td>\n",
              "    </tr>\n",
              "    <tr>\n",
              "      <th>2857</th>\n",
              "      <td>hachiadogstale</td>\n",
              "      <td>Movie</td>\n",
              "      <td>Drama</td>\n",
              "      <td>8.1</td>\n",
              "      <td>1.099</td>\n",
              "    </tr>\n",
              "    <tr>\n",
              "      <th>2858</th>\n",
              "      <td>astroboy</td>\n",
              "      <td>Movie</td>\n",
              "      <td>Action</td>\n",
              "      <td>6.3</td>\n",
              "      <td>1.099</td>\n",
              "    </tr>\n",
              "    <tr>\n",
              "      <th>2859</th>\n",
              "      <td>totalrecall</td>\n",
              "      <td>Movie</td>\n",
              "      <td>Science Fiction</td>\n",
              "      <td>6.3</td>\n",
              "      <td>1.099</td>\n",
              "    </tr>\n",
              "    <tr>\n",
              "      <th>2860</th>\n",
              "      <td>suckerpunch</td>\n",
              "      <td>Movie</td>\n",
              "      <td>Fantasy</td>\n",
              "      <td>6.0</td>\n",
              "      <td>1.099</td>\n",
              "    </tr>\n",
              "    <tr>\n",
              "      <th>2861</th>\n",
              "      <td>theadventuresoftintin</td>\n",
              "      <td>Movie</td>\n",
              "      <td>Adventure</td>\n",
              "      <td>7.3</td>\n",
              "      <td>1.099</td>\n",
              "    </tr>\n",
              "  </tbody>\n",
              "</table>\n",
              "<p>1895 rows × 5 columns</p>\n",
              "</div>"
            ],
            "text/plain": [
              "                              Title   Type  ... IMDb_Score  Log_VALUE\n",
              "1                           365days  Movie  ...        3.2     10.649\n",
              "8                       enolaholmes  Movie  ...        6.6      9.707\n",
              "10    thechristmaschroniclesparttwo  Movie  ...        6.0      9.675\n",
              "12                         holidate  Movie  ...        6.9      9.605\n",
              "15                      theoldguard  Movie  ...        6.6      9.541\n",
              "...                             ...    ...  ...        ...        ...\n",
              "2857                 hachiadogstale  Movie  ...        8.1      1.099\n",
              "2858                       astroboy  Movie  ...        6.3      1.099\n",
              "2859                    totalrecall  Movie  ...        6.3      1.099\n",
              "2860                    suckerpunch  Movie  ...        6.0      1.099\n",
              "2861          theadventuresoftintin  Movie  ...        7.3      1.099\n",
              "\n",
              "[1895 rows x 5 columns]"
            ]
          },
          "metadata": {
            "tags": []
          },
          "execution_count": 40
        }
      ]
    },
    {
      "cell_type": "code",
      "metadata": {
        "colab": {
          "base_uri": "https://localhost:8080/"
        },
        "id": "NXeS5qbsfqgQ",
        "outputId": "4007771f-9197-4f90-af41-eec9ff17464a"
      },
      "source": [
        "movie_base.info()"
      ],
      "execution_count": 41,
      "outputs": [
        {
          "output_type": "stream",
          "text": [
            "<class 'pandas.core.frame.DataFrame'>\n",
            "Int64Index: 1895 entries, 1 to 2861\n",
            "Data columns (total 5 columns):\n",
            " #   Column      Non-Null Count  Dtype  \n",
            "---  ------      --------------  -----  \n",
            " 0   Title       1895 non-null   object \n",
            " 1   Type        1895 non-null   object \n",
            " 2   GENRE       1895 non-null   object \n",
            " 3   IMDb_Score  1895 non-null   float64\n",
            " 4   Log_VALUE   1895 non-null   float64\n",
            "dtypes: float64(2), object(3)\n",
            "memory usage: 88.8+ KB\n"
          ],
          "name": "stdout"
        }
      ]
    },
    {
      "cell_type": "markdown",
      "metadata": {
        "id": "-FmLONnEMIvs"
      },
      "source": [
        "**장르별 그룹핑**"
      ]
    },
    {
      "cell_type": "code",
      "metadata": {
        "id": "v82UNXEsPFZz",
        "colab": {
          "base_uri": "https://localhost:8080/",
          "height": 700
        },
        "outputId": "8e50636f-7efe-4d2d-99d9-8085005d8c4a"
      },
      "source": [
        "movie_genre = movie_base.groupby(\"GENRE\")\n",
        "movie_genre.first()"
      ],
      "execution_count": 42,
      "outputs": [
        {
          "output_type": "execute_result",
          "data": {
            "text/html": [
              "<div>\n",
              "<style scoped>\n",
              "    .dataframe tbody tr th:only-of-type {\n",
              "        vertical-align: middle;\n",
              "    }\n",
              "\n",
              "    .dataframe tbody tr th {\n",
              "        vertical-align: top;\n",
              "    }\n",
              "\n",
              "    .dataframe thead th {\n",
              "        text-align: right;\n",
              "    }\n",
              "</style>\n",
              "<table border=\"1\" class=\"dataframe\">\n",
              "  <thead>\n",
              "    <tr style=\"text-align: right;\">\n",
              "      <th></th>\n",
              "      <th>Title</th>\n",
              "      <th>Type</th>\n",
              "      <th>IMDb_Score</th>\n",
              "      <th>Log_VALUE</th>\n",
              "    </tr>\n",
              "    <tr>\n",
              "      <th>GENRE</th>\n",
              "      <th></th>\n",
              "      <th></th>\n",
              "      <th></th>\n",
              "      <th></th>\n",
              "    </tr>\n",
              "  </thead>\n",
              "  <tbody>\n",
              "    <tr>\n",
              "      <th>Action</th>\n",
              "      <td>projectpower</td>\n",
              "      <td>Movie</td>\n",
              "      <td>6.0</td>\n",
              "      <td>9.473</td>\n",
              "    </tr>\n",
              "    <tr>\n",
              "      <th>Adventure</th>\n",
              "      <td>wecanbeheroes</td>\n",
              "      <td>Movie</td>\n",
              "      <td>8.1</td>\n",
              "      <td>8.245</td>\n",
              "    </tr>\n",
              "    <tr>\n",
              "      <th>Animation</th>\n",
              "      <td>thespongebobmoviespongeontherun</td>\n",
              "      <td>Movie</td>\n",
              "      <td>6.0</td>\n",
              "      <td>9.460</td>\n",
              "    </tr>\n",
              "    <tr>\n",
              "      <th>Biopic</th>\n",
              "      <td>unbroken</td>\n",
              "      <td>Movie</td>\n",
              "      <td>7.2</td>\n",
              "      <td>6.347</td>\n",
              "    </tr>\n",
              "    <tr>\n",
              "      <th>Comedy</th>\n",
              "      <td>thechristmaschroniclesparttwo</td>\n",
              "      <td>Movie</td>\n",
              "      <td>6.0</td>\n",
              "      <td>9.675</td>\n",
              "    </tr>\n",
              "    <tr>\n",
              "      <th>Concerts</th>\n",
              "      <td>arianagrandeexcusemeiloveyou</td>\n",
              "      <td>Movie</td>\n",
              "      <td>6.4</td>\n",
              "      <td>7.526</td>\n",
              "    </tr>\n",
              "    <tr>\n",
              "      <th>Crime</th>\n",
              "      <td>thebeast</td>\n",
              "      <td>Movie</td>\n",
              "      <td>5.7</td>\n",
              "      <td>8.549</td>\n",
              "    </tr>\n",
              "    <tr>\n",
              "      <th>Documentary</th>\n",
              "      <td>thesocialdilemma</td>\n",
              "      <td>Movie</td>\n",
              "      <td>7.7</td>\n",
              "      <td>9.517</td>\n",
              "    </tr>\n",
              "    <tr>\n",
              "      <th>Drama</th>\n",
              "      <td>enolaholmes</td>\n",
              "      <td>Movie</td>\n",
              "      <td>6.6</td>\n",
              "      <td>9.707</td>\n",
              "    </tr>\n",
              "    <tr>\n",
              "      <th>Fairy Tale</th>\n",
              "      <td>threewishesforcinderella</td>\n",
              "      <td>Movie</td>\n",
              "      <td>7.8</td>\n",
              "      <td>3.689</td>\n",
              "    </tr>\n",
              "    <tr>\n",
              "      <th>Fantasy</th>\n",
              "      <td>howthegrinchstolechristmas</td>\n",
              "      <td>Movie</td>\n",
              "      <td>6.2</td>\n",
              "      <td>8.685</td>\n",
              "    </tr>\n",
              "    <tr>\n",
              "      <th>History</th>\n",
              "      <td>maryqueenofscots</td>\n",
              "      <td>Movie</td>\n",
              "      <td>6.3</td>\n",
              "      <td>6.585</td>\n",
              "    </tr>\n",
              "    <tr>\n",
              "      <th>Horror</th>\n",
              "      <td>thebabysitterkillerqueen</td>\n",
              "      <td>Movie</td>\n",
              "      <td>5.8</td>\n",
              "      <td>8.649</td>\n",
              "    </tr>\n",
              "    <tr>\n",
              "      <th>Music</th>\n",
              "      <td>jinglejangleachristmasjourney</td>\n",
              "      <td>Movie</td>\n",
              "      <td>6.5</td>\n",
              "      <td>8.429</td>\n",
              "    </tr>\n",
              "    <tr>\n",
              "      <th>Romance</th>\n",
              "      <td>365days</td>\n",
              "      <td>Movie</td>\n",
              "      <td>3.2</td>\n",
              "      <td>10.649</td>\n",
              "    </tr>\n",
              "    <tr>\n",
              "      <th>Science Fiction</th>\n",
              "      <td>themidnightsky</td>\n",
              "      <td>Movie</td>\n",
              "      <td>5.6</td>\n",
              "      <td>8.708</td>\n",
              "    </tr>\n",
              "    <tr>\n",
              "      <th>Superhero</th>\n",
              "      <td>theoldguard</td>\n",
              "      <td>Movie</td>\n",
              "      <td>6.6</td>\n",
              "      <td>9.541</td>\n",
              "    </tr>\n",
              "    <tr>\n",
              "      <th>Thriller</th>\n",
              "      <td>theparamedic</td>\n",
              "      <td>Movie</td>\n",
              "      <td>5.6</td>\n",
              "      <td>8.624</td>\n",
              "    </tr>\n",
              "    <tr>\n",
              "      <th>War</th>\n",
              "      <td>mosul</td>\n",
              "      <td>Movie</td>\n",
              "      <td>8.3</td>\n",
              "      <td>8.625</td>\n",
              "    </tr>\n",
              "    <tr>\n",
              "      <th>Western</th>\n",
              "      <td>djangounchained</td>\n",
              "      <td>Movie</td>\n",
              "      <td>8.4</td>\n",
              "      <td>5.509</td>\n",
              "    </tr>\n",
              "  </tbody>\n",
              "</table>\n",
              "</div>"
            ],
            "text/plain": [
              "                                           Title   Type  IMDb_Score  Log_VALUE\n",
              "GENRE                                                                         \n",
              "Action                              projectpower  Movie         6.0      9.473\n",
              "Adventure                          wecanbeheroes  Movie         8.1      8.245\n",
              "Animation        thespongebobmoviespongeontherun  Movie         6.0      9.460\n",
              "Biopic                                  unbroken  Movie         7.2      6.347\n",
              "Comedy             thechristmaschroniclesparttwo  Movie         6.0      9.675\n",
              "Concerts            arianagrandeexcusemeiloveyou  Movie         6.4      7.526\n",
              "Crime                                   thebeast  Movie         5.7      8.549\n",
              "Documentary                     thesocialdilemma  Movie         7.7      9.517\n",
              "Drama                                enolaholmes  Movie         6.6      9.707\n",
              "Fairy Tale              threewishesforcinderella  Movie         7.8      3.689\n",
              "Fantasy               howthegrinchstolechristmas  Movie         6.2      8.685\n",
              "History                         maryqueenofscots  Movie         6.3      6.585\n",
              "Horror                  thebabysitterkillerqueen  Movie         5.8      8.649\n",
              "Music              jinglejangleachristmasjourney  Movie         6.5      8.429\n",
              "Romance                                  365days  Movie         3.2     10.649\n",
              "Science Fiction                   themidnightsky  Movie         5.6      8.708\n",
              "Superhero                            theoldguard  Movie         6.6      9.541\n",
              "Thriller                            theparamedic  Movie         5.6      8.624\n",
              "War                                        mosul  Movie         8.3      8.625\n",
              "Western                          djangounchained  Movie         8.4      5.509"
            ]
          },
          "metadata": {
            "tags": []
          },
          "execution_count": 42
        }
      ]
    },
    {
      "cell_type": "markdown",
      "metadata": {
        "id": "VPJEXERuwmm6"
      },
      "source": [
        "### **MOVIE 장르별 시각화**"
      ]
    },
    {
      "cell_type": "markdown",
      "metadata": {
        "id": "zB7McC5Qu3A6"
      },
      "source": [
        "| **MOVIE 장르별 Log_Value 분포**"
      ]
    },
    {
      "cell_type": "code",
      "metadata": {
        "colab": {
          "base_uri": "https://localhost:8080/",
          "height": 542
        },
        "id": "lTenftFd7tUa",
        "outputId": "8b1b0f87-7f59-4f5f-e96a-55cb1e75802a"
      },
      "source": [
        "fig = px.box(movie_base, x=\"GENRE\", y=\"Log_VALUE\", hover_name='Title')\n",
        "fig.show()"
      ],
      "execution_count": 43,
      "outputs": [
        {
          "output_type": "display_data",
          "data": {
            "text/html": [
              "<html>\n",
              "<head><meta charset=\"utf-8\" /></head>\n",
              "<body>\n",
              "    <div>\n",
              "            <script src=\"https://cdnjs.cloudflare.com/ajax/libs/mathjax/2.7.5/MathJax.js?config=TeX-AMS-MML_SVG\"></script><script type=\"text/javascript\">if (window.MathJax) {MathJax.Hub.Config({SVG: {font: \"STIX-Web\"}});}</script>\n",
              "                <script type=\"text/javascript\">window.PlotlyConfig = {MathJaxConfig: 'local'};</script>\n",
              "        <script src=\"https://cdn.plot.ly/plotly-latest.min.js\"></script>    \n",
              "            <div id=\"a298c09f-d458-4faf-b1f3-f94d0d051326\" class=\"plotly-graph-div\" style=\"height:525px; width:100%;\"></div>\n",
              "            <script type=\"text/javascript\">\n",
              "                \n",
              "                    window.PLOTLYENV=window.PLOTLYENV || {};\n",
              "                    \n",
              "                if (document.getElementById(\"a298c09f-d458-4faf-b1f3-f94d0d051326\")) {\n",
              "                    Plotly.newPlot(\n",
              "                        'a298c09f-d458-4faf-b1f3-f94d0d051326',\n",
              "                        [{\"alignmentgroup\": \"True\", \"hoverlabel\": {\"namelength\": 0}, \"hovertemplate\": \"<b>%{hovertext}</b><br><br>GENRE=%{x}<br>Log_VALUE=%{y}\", \"hovertext\": [\"365days\", \"enolaholmes\", \"thechristmaschroniclesparttwo\", \"holidate\", \"theoldguard\", \"thesocialdilemma\", \"projectpower\", \"thespongebobmoviespongeontherun\", \"thekissingbooth2\", \"hubiehalloween\", \"overthemoon\", \"acaliforniachristmas\", \"break\", \"thedevilallthetime\", \"workit\", \"loveguaranteed\", \"americanmurderthefamilynextdoor\", \"feelthebeat\", \"thechristmaschronicles\", \"theprincessswitchswitchedagain\", \"operationchristmasdrop\", \"thesleepover\", \"thewrongmissy\", \"rebecca\", \"themidnightsky\", \"howthegrinchstolechristmas\", \"thebabysitterkillerqueen\", \"mosul\", \"theparamedic\", \"theplatform\", \"thekissingbooth\", \"milf\", \"skyscraper\", \"desperados\", \"thelastdaysofamericancrime\", \"thebeast\", \"despicableme2\", \"eurovisionsongcontestthestoryoffiresaga\", \"thewilloughbys\", \"dangerouslies\", \"jinglejangleachristmasjourney\", \"lostbullet\", \"6underground\", \"jurassicworldfallenkingdom\", \"theemojimovie\", \"davidattenboroughalifeonourplanet\", \"theprom\", \"whatmenwant\", \"wecanbeheroes\", \"thetrialofthechicago7\", \"wonder\", \"fatalaffair\", \"secretsofthesaqqaratomb\", \"aneasygirl\", \"ava\", \"loveweddingrepeat\", \"despicableme\", \"santana\", \"ababysittersguidetomonsterhunting\", \"thesecretdaretodream\", \"thehalfofit\", \"johnnyenglishstrikesagain\", \"moneyheistthephenomenon\", \"fiftyshadesfreed\", \"aquaman\", \"da5bloods\", \"petsunited\", \"instantfamily\", \"venom\", \"maliburescuethenextwave\", \"miracleincellno7\", \"blackpinklightupthesky\", \"ifanythinghappensiloveyou\", \"timetrap\", \"furious7\", \"code8\", \"animalcrackers\", \"amillionwaystodieinthewest\", \"dadwanted\", \"theequalizer2\", \"justiceleague\", \"roseisland\", \"themeg\", \"thepurgeanarchy\", \"thelifeahead\", \"midnightatthemagnolia\", \"justanotherchristmas\", \"nightschool\", \"seriouslysingle\", \"thefkitlist\", \"americanassassin\", \"murdermystery\", \"focus\", \"thebossbabygetthatbaby\", \"hoteltransylvania3summervacation\", \"mortalengines\", \"spidermanhomecoming\", \"youvegotthis\", \"intheheartofthesea\", \"christmasmadetoorder\", \"ludo\", \"spidermanintothespiderverse\", \"bumblebee\", \"spenserconfidential\", \"rampage\", \"missionimpossiblefallout\", \"theholiday\", \"arianagrandeexcusemeiloveyou\", \"theprincessswitch\", \"harrypotterandthechamberofsecrets\", \"thefirstpurge\", \"geostorm\", \"safehouse\", \"themainevent\", \"badboysforlife\", \"doubleworld\", \"parker\", \"alltogethernow\", \"jumanjithenextlevel\", \"astarisborn\", \"tammy\", \"hillbillyelegy\", \"siberia\", \"intuition\", \"asimplefavor\", \"earthandblood\", \"escapeplan\", \"bloodshot\", \"pacificrimuprising\", \"lucy\", \"babydriver\", \"cadaver\", \"nobodysleepsinthewoodstonight\", \"crazyrichasians\", \"despicableme3\", \"scoobydoo2monstersunleashed\", \"readyplayerone\", \"deathto2020\", \"norbit\", \"ted\", \"it\", \"waspnetwork\", \"alldayandanight\", \"oceans8\", \"12strong\", \"howtotrainyourdragonthehiddenworld\", \"wonderwoman\", \"becoming\", \"theoccupant\", \"sniperultimatekill\", \"ridealong\", \"torbaaz\", \"blockers\", \"ginnywedssunny\", \"kingarthurlegendofthesword\", \"offeringtothestorm\", \"haveagoodtripadventuresinpsychedelics\", \"johnnyenglishreborn\", \"geminiman\", \"harrypotterandtheprisonerofazkaban\", \"unfriendeddarkweb\", \"upgrade\", \"vacation\", \"savages\", \"thehater\", \"fastfive\", \"imthinkingofendingthings\", \"thecrimesthatbind\", \"tomandjerrythemovie\", \"thenun\", \"theangrybirdsmovie2\", \"thesilenceofthemarsh\", \"thedecline\", \"thelovebirds\", \"spacejam\", \"americansniper\", \"fantasticbeaststhecrimesofgrindelwald\", \"mercuryrising\", \"thelosers\", \"neighbors\", \"battleship\", \"blooddiamond\", \"dunkirk\", \"truthordare\", \"whatwewanted\", \"theimpossible\", \"wanted\", \"the2nd\", \"charliesangels\", \"themask\", \"bladerunner2049\", \"afterwecollided\", \"citation\", \"nomanchesfrida\", \"seriousmen\", \"jumanjiwelcometothejungle\", \"aquietplace\", \"athletea\", \"parasite\", \"hishouse\", \"frompradatonada\", \"doomsday\", \"sniperlegacy\", \"gunjansaxenathekargilgirl\", \"joker\", \"rosariotijeras\", \"grownups\", \"richinlove\", \"18presents\", \"ultras\", \"theinventionoflying\", \"thestandin\", \"charlieandthechocolatefactory\", \"thechangeup\", \"theintern\", \"thewolfofwallstreet\", \"awhiskeraway\", \"jackreacher\", \"iloveyoustupid\", \"classof83\", \"deathwish\", \"gethard\", \"8mile\", \"goinginstyle\", \"hesoutthere\", \"birdsofpreyandthefantabulousemancipationofoneharleyquinn\", \"fatherfigures\", \"shazam\", \"contagion\", \"cuties\", \"denofthieves\", \"recepivedik6\", \"sicariodayofthesoldado\", \"themule\", \"thespongebobsquarepantsmovie\", \"raatakelihai\", \"theirishman\", \"lifeoftheparty\", \"runallnight\", \"jackryanshadowrecruit\", \"slenderman\", \"cloudywithachanceofmeatballs2\", \"thinklikeadog\", \"unknownorigins\", \"gijoeretaliation\", \"assassinscreed\", \"instructionsnotincluded\", \"thespongebobmoviespongeoutofwater\", \"mammamiaherewegoagain\", \"theforeigner\", \"thelegacyofthebones\", \"breakingin\", \"faster\", \"duedate\", \"littleitaly\", \"itchaptertwo\", \"harrypotterandthehalfbloodprince\", \"maryqueenofscots\", \"theninthgate\", \"sing\", \"johnwickchaptertwo\", \"sergio\", \"300riseofanempire\", \"scoobydoo\", \"ovendedordesonhos\", \"contraband\", \"overlord\", \"littlewomen\", \"thelastwitchhunter\", \"harrypotterandthegobletoffire\", \"smallfoot\", \"anna\", \"greenlantern\", \"c\\u00c3\\u00b3momataraunesposomuerto\", \"independencedayresurgence\", \"thedarkknight\", \"tearsofthesun\", \"thehungergames\", \"thesnowman\", \"couplesretreat\", \"thesuit\", \"peppermint\", \"xmenapocalypse\", \"creedii\", \"little\", \"deepbluesea\", \"thebinding\", \"arkansas\", \"solomonkane\", \"unforgettable\", \"theadventuresofsharkboyandlavagirl\", \"notesformyson\", \"happynewyear\", \"thespywhodumpedme\", \"thethieves\", \"thetuxedo\", \"gamenight\", \"theitalianjob\", \"missindia\", \"underthericcionesun\", \"shawnmendesinwonder\", \"worldwarz\", \"escaperoom\", \"madmaxfuryroad\", \"pitchperfect3\", \"downsizing\", \"timetohunt\", \"christmasunderwraps\", \"thefateofthefurious\", \"murdertomercythecyntoiabrownstory\", \"shooter\", \"barbieprincessadventure\", \"fistfight\", \"anelkamisunderstood\", \"unbroken\", \"missbala\", \"alienxmas\", \"godsofegypt\", \"thegambler\", \"hoteltransylvania2\", \"tag\", \"lostgirls\", \"firstman\", \"statusupdate\", \"theequalizer\", \"theplaguesofbreslau\", \"twilight\", \"thedarktower\", \"creed\", \"americanmade\", \"thehungergamescatchingfire\", \"blackandblue\", \"malang\", \"2guns\", \"axl\", \"harrypotterandtheorderofthephoenix\", \"thegentlemen\", \"happydeathday2u\", \"annabellecreation\", \"zombielanddoubletap\", \"tallgirl\", \"peninsula\", \"perdida\", \"theadjustmentbureau\", \"wonderpark\", \"risinghigh\", \"thekingdom\", \"londonhasfallen\", \"extraction\", \"savingprivateryan\", \"missperegrineshomeforpeculiarchildren\", \"thelastairbender\", \"proudmary\", \"chips\", \"angelaschristmaswish\", \"godzillakingofthemonsters\", \"thehungovergames\", \"rocketman\", \"abadmomschristmas\", \"papillon\", \"themanfromuncle\", \"hunterkiller\", \"stateofplay\", \"blended\", \"johnhenry\", \"addicted\", \"homeagain\", \"deliverusfromevil\", \"doublejeopardy\", \"thefastandthefurious\", \"replicas\", \"bulbbul\", \"honestcandidate\", \"johnwickchapter3parabellum\", \"fierce\", \"theshack\", \"thebridgecurse\", \"thelegomovie\", \"gifted\", \"kongskullisland\", \"journey2themysteriousisland\", \"atomicblonde\", \"ghostship\", \"push\", \"roughnight\", \"the1517toparis\", \"thepossessionofhannahgrace\", \"identitythief\", \"themaid\", \"miamibici\", \"killers\", \"sabotage\", \"halloween\", \"magnetic\", \"after\", \"happydeathday\", \"unlocked\", \"akvsak\", \"peterrabbit\", \"fearless\", \"daddyshome2\", \"onewaytotomorrow\", \"aprayerbeforedawn\", \"theplayers\", \"kungfupanda2\", \"thelegomovie2thesecondpart\", \"theclausfamily\", \"bleedingsteel\", \"inception\", \"ifeelpretty\", \"thegreenmile\", \"escapeplan2hades\", \"zodiac\", \"whitechicks\", \"mamasboy\", \"ghostbusters\", \"greenzone\", \"thehousewithaclockinitswalls\", \"klaus\", \"100things\", \"highlowtheworst\", \"sonofadam\", \"windriver\", \"somuchlovetogive\", \"mile22\", \"thebossbaby\", \"loveaajkal\", \"hancock\", \"angelhasfallen\", \"spiritstallionofthecimarron\", \"nosurrender\", \"ladybird\", \"searching\", \"theglasscastle\", \"pok\\u00c3\\u00a9mondetectivepikachu\", \"inheritance\", \"draggedacrossconcrete\", \"fourbrothers\", \"thesmurfs2\", \"thebabysitter\", \"spiritedaway\", \"sanandreas\", \"goosebumps2hauntedhalloween\", \"amanapart\", \"mychristmasinn\", \"adogswayhome\", \"thenextthreedays\", \"traintobusan\", \"aftermath\", \"phantomthread\", \"ghostsofgirlfriendspast\", \"taken3\", \"blackkklansman\", \"neverbackdown2thebeatdown\", \"mechanicresurrection\", \"nowyouseeme\", \"oblivion\", \"stepup\", \"failuretolaunch\", \"batmanvsupermandawnofjustice\", \"yournameengravedherein\", \"suicidesquad\", \"kingsmanthegoldencircle\", \"freewilly\", \"werethemillers\", \"godzilla\", \"myoctopusteacher\", \"minions\", \"cypher\", \"onceuponatimeinhollywood\", \"mother\", \"pixels\", \"drseussthecatinthehat\", \"war\", \"us\", \"petsematary\", \"theaccountant\", \"lowseason\", \"trolls\", \"wildchild\", \"\\u00c5\\u00beensk\\u00c3\\u00a1navrcholu\", \"zengo\", \"friendzone\", \"doctorsleep\", \"turbo\", \"beemovie\", \"ramanraghav20\", \"thelosthusband\", \"brokencity\", \"dragonsrescueridershuttsgalorholiday\", \"scarymovie5\", \"iwanttogetmarried\", \"johnwick\", \"makingunorthodox\", \"thejudge\", \"christmaswonderland\", \"moneyball\", \"dennisthemenace\", \"grownups2\", \"thetown\", \"poseidon\", \"americanpsycho\", \"cargo\", \"kidnap\", \"whyhim\", \"nobodysfool\", \"edgeoftomorrow\", \"crank\", \"themanstandingnext\", \"secondact\", \"warfortheplanetoftheapes\", \"love\", \"constantine\", \"47metersdownuncaged\", \"hitmanagentjun\", \"murderontheorientexpress\", \"cloudywithachanceofmeatballs\", \"deepwaterhorizon\", \"babaparasi\", \"djangounchained\", \"extremelywickedshockinglyevilandvile\", \"indianajonesandthekingdomofthecrystalskull\", \"exodusgodsandkings\", \"laracrofttombraiderthecradleoflife\", \"thelegendoftarzan\", \"upintheair\", \"thehungergamesmockingjaypart1\", \"blackmirrorbandersnatch\", \"darkesthour\", \"actsofviolence\", \"thefounder\", \"comingfrominsanity\", \"gimsontherecord\", \"coldpursuit\", \"miamivice\", \"rambolastblood\", \"fastfuriouspresentshobbsshaw\", \"thegrudge\", \"octonautsthegreatbarrierreef\", \"thelatebloomer\", \"shesoutofmyleague\", \"deepimpact\", \"thefastandthefurioustokyodrift\", \"darkshadows\", \"helios\", \"arewethereyet\", \"paul\", \"queleones\", \"theteacher\", \"chef\", \"rumorhasit\", \"kaalikhuhi\", \"thepantisisters\", \"canyoukeepasecret\", \"whiteboyrick\", \"myspy\", \"theimitationgame\", \"21bridges\", \"athousandwords\", \"eyeswideshut\", \"chappie\", \"thetwilightsagabreakingdawnpart2\", \"andhaghaaram\", \"annabellecomeshome\", \"flatliners\", \"thespynextdoor\", \"whatdidimess\", \"motherlessbrooklyn\", \"inthedeep\", \"knivesout\", \"atrashtruckchristmas\", \"politics\", \"theangrybirdsmovie\", \"conanthebarbarian\", \"theinformer\", \"inglouriousbasterds\", \"truefriendshipday\", \"theprince\", \"hulk\", \"keepalidonit\", \"1917\", \"devil\", \"lovehappens\", \"superfly\", \"backtothefuture\", \"scarystoriestotellinthedark\", \"swatundersiege\", \"tazzaoneeyedjack\", \"monsterinlaw\", \"preciouscargo\", \"eatpraylove\", \"thetwilightsaganewmoon\", \"thescorpionking\", \"laraandthebeat\", \"curseofchucky\", \"the5thwave\", \"daylight\", \"traumacenter\", \"meninblackinternational\", \"17again\", \"iseeyou\", \"mrbeansholiday\", \"beforeigotosleep\", \"intheshadowofiris\", \"welcome\", \"theglasshouse\", \"beforeiwake\", \"rocknrolla\", \"ghostsofwar\", \"officechristmasparty\", \"batmanbegins\", \"thehangover\", \"jupiterascending\", \"maniyarayileashokan\", \"steelrain\", \"split\", \"terminatorgenisys\", \"littlefeather\", \"annabelle\", \"hotelartemis\", \"allthemoneyintheworld\", \"unknown\", \"jexi\", \"hustlers\", \"rolemodels\", \"meangirls\", \"theinterview\", \"thecore\", \"chicuarotes\", \"northmenavikingsaga\", \"transformersageofextinction\", \"locoporvos\", \"thehealer\", \"patriotsday\", \"thenutjob\", \"bikers\", \"thehouse\", \"skytourthemovie\", \"howdoyouknow\", \"lockout\", \"vampiresvsthebronx\", \"thecourier\", \"longshot\", \"nowyouseeme2\", \"elevatorbaby\", \"deadpool\", \"stealth\", \"khunphaenbegins\", \"thecurseoflallorona\", \"killerman\", \"uncutgems\", \"onlythebrave\", \"hardkill\", \"mujeresarriba\", \"beforeifall\", \"troy\", \"leylaeverlasting\", \"oneday\", \"ipman4thefinale\", \"mymotherswound\", \"dolittle\", \"overnightrepublic\", \"200poundsbeauty\", \"burlesque\", \"forgettingsarahmarshall\", \"life\", \"lovethewayulie\", \"mrsserialkiller\", \"kasanova\", \"primal\", \"theincrediblestoryofthegiantpear\", \"bikeman2\", \"thehungergamesmockingjaypart2\", \"livinginbondagebreakingfree\", \"the40yearoldvirgin\", \"yourexcellency\", \"deathrace\", \"highlowthemovie\", \"paddington2\", \"titanic\", \"captainunderpantsmegablissmas\", \"peenak2\", \"loveandrun\", \"seznmka\", \"welcomehomeroscoejenkins\", \"akira\", \"nashanatasha\", \"thetwilightsagaeclipse\", \"santabantapvtltd\", \"thedarkknightrises\", \"trouble\", \"india\", \"lineofduty\", \"only\", \"catchmeifyoucan\", \"stvincent\", \"ordinarypeople\", \"burnt\", \"theamerican\", \"firstlove\", \"outbreak\", \"gijoetheriseofcobra\", \"corpuschristi\", \"thesecretlifeofpets2\", \"2012\", \"projectgio\", \"roguewarfare\", \"conormcgregornotorious\", \"psychopathwithpiersmorgan\", \"outofthefurnace\", \"animalkingdom\", \"feride\", \"13th\", \"21\", \"midway\", \"harrypotterandthedeathlyhallowspart2\", \"theliessheloved\", \"mandy\", \"midnightsun\", \"sicario\", \"themonumentsmen\", \"theoutpost\", \"2036originunknown\", \"jackassnumbertwo\", \"thedevilsadvocate\", \"thewitchpart1thesubversion\", \"thewholetruth\", \"alonetogether\", \"heartbeats\", \"xlarge\", \"theflu\", \"kangaroojack\", \"underworldevolution\", \"isntitromantic\", \"room\", \"click\", \"dontbeamenacetosouthcentralwhiledrinkingyourjuiceinthehood\", \"anicegirllikeyou\", \"bookclub\", \"missionimpossibleiii\", \"loving\", \"thesmurfs\", \"ashfall\", \"thenotebook\", \"loveactually\", \"threewordstoforever\", \"nighthunter\", \"firstkill\", \"actsofvengeance\", \"intothestorm\", \"kappela\", \"dilan1990\", \"s\\u00c3\\u00admiamor\", \"theboysintheband\", \"angeleyes\", \"thecroods\", \"alexcross\", \"whattoexpectwhenyoureexpecting\", \"nocountryforoldmen\", \"imnolongerhere\", \"portraitofabeauty\", \"jungle\", \"10000bc\", \"ponyo\", \"slaughterhouserulez\", \"adrift\", \"dyingofthelight\", \"ghostriderspiritofvengeance\", \"thehowsofus\", \"allbecauseofyou\", \"kingofmahjong\", \"brawlincellblock99\", \"callmebyyourname\", \"storks\", \"eurotrip\", \"8\", \"myfather\", \"hop\", \"takinglives\", \"basicinstinct\", \"thedayaftertomorrow\", \"rampant\", \"anunremarkablechristmas\", \"hometownholiday\", \"triplefrontier\", \"dinnerforschmucks\", \"vanhelsing\", \"iamvengeanceretaliation\", \"themillions\", \"phirherapheri\", \"catwoman\", \"liverleaf\", \"hitman\", \"deathcanwait\", \"getout\", \"theeve\", \"corpsebride\", \"prisoners\", \"manofsteel\", \"horridhenrysgrossdayout\", \"thebattleroartovictory\", \"drunkparents\", \"jigsaw\", \"friday\", \"pathfinder\", \"theruins\", \"onedayjusticedelivered\", \"fantasticfour\", \"therevenant\", \"jackthegiantslayer\", \"americangangster\", \"thegraduation\", \"122\", \"thisis40\", \"asphaltburning\", \"alteredcarbonresleeved\", \"hotsweetsour\", \"halfpastdead\", \"iloveyoutwo\", \"mrsrightguy\", \"nimbe\", \"mysummerprince\", \"theswitch\", \"thehelp\", \"triumphintheskies\", \"leavenotrace\", \"five\", \"gangsofwasseypurpart1\", \"bridgetjonessbaby\", \"jackreachernevergoback\", \"chinesezodiac\", \"nolongerkids\", \"gokarts\", \"sahara\", \"theperfectguy\", \"morningglory\", \"igiveitayear\", \"bullettothehead\", \"thepolarexpress\", \"theperfectpicturetenyearslater\", \"13hoursthesecretsoldiersofbenghazi\", \"fantasticbeastsandwheretofindthem\", \"bigdaddy\", \"dolphintale2\", \"johnnyenglish\", \"itsherday\", \"inuyashiki\", \"theassignment\", \"alongcameaspider\", \"arthurchristmas\", \"oceanstwelve\", \"thegreenhornet\", \"mutinyoftheworkerbees\", \"secretzoo\", \"themountainbetweenus\", \"clueless\", \"doom\", \"thethreedeathsofmariselaescobedo\", \"theliftboy\", \"letmeeatyourpancreas\", \"underworldriseofthelycans\", \"hellolovegoodbye\", \"blackrose\", \"snowflower\", \"greta\", \"nationalsecurity\", \"thegodfather\", \"jurassicpark\", \"thedevilwearsprada\", \"findingagnes\", \"1br\", \"menatworkmiami\", \"nigerianprince\", \"thenightclerk\", \"bastilleday\", \"pandemic\", \"powerrangers\", \"thematrix\", \"viktoriaataleofgraceandgreed\", \"disappearanceatcliftonhill\", \"riot\", \"themortalinstrumentscityofbones\", \"sakalingmagingtayo\", \"theroyalhibiscushotel\", \"ittakestwo\", \"knockknock\", \"escapefrompretoria\", \"latenight\", \"hellboy\", \"theperfectmatch\", \"waterworld\", \"justgowithit\", \"truegrit\", \"proceder\", \"thelegoninjagomovie\", \"americanultra\", \"theheartbreakkid\", \"kungfupanda\", \"badland\", \"fallinginnlove\", \"thelasthouseontheleft\", \"thegeneralsdaughter\", \"schoolofrock\", \"theroyalbengaltiger\", \"sahebbiwiaurgangsterreturns\", \"axone\", \"bloodbrother\", \"dumplin\", \"4threpublic\", \"daytimeshootingstar\", \"whataretheodds\", \"dilan1991\", \"thesistersbrothers\", \"gangstersquad\", \"finaldestination5\", \"shestheone\", \"achoo\", \"romanceonthemenu\", \"officialsecrets\", \"guncity\", \"penalty\", \"sincerelyyoursdhaka\", \"thegoodliar\", \"theshallows\", \"cosydens\", \"stolenidentity\", \"krishnaandhisleela\", \"freaks\", \"ajindemihuman\", \"soulsurfer\", \"jackassthemovie\", \"misscongeniality\", \"thegoldenholiday\", \"metamorphosis\", \"hereditary\", \"bigfatliar\", \"eventhorizon\", \"diamondsinthesky\", \"worldfamouslover\", \"luststories\", \"ahauntedhouse2\", \"bluestreak\", \"bladetrinity\", \"theweddingringer\", \"easya\", \"thekitchen\", \"tombraider\", \"spotlight\", \"thebutterflyeffect\", \"theamazingspiderman2\", \"hireawoman\", \"toshimaenhauntedpark\", \"badboy\", \"mrzoothemissingvip\", \"vendetta\", \"cats\", \"theedgeofseventeen\", \"sheis\", \"vivarium\", \"penozathefinalchapter\", \"spidermanfarfromhome\", \"wetwomaninthewind\", \"mazerunnerthescorchtrials\", \"blitz\", \"howtoloseaguyin10days\", \"thesongofnames\", \"tenyears\", \"meettheinlaws\", \"howtobealatinlover\", \"redemption\", \"youngadult\", \"swat\", \"thedivinefury\", \"anastasia\", \"theperksofbeingawallflower\", \"forensic\", \"bheeshma\", \"boo2amadeahalloween\", \"50firstdates\", \"nostringsattached\", \"teentitansgotothemovies\", \"convict\", \"iamlegend\", \"startrekintodarkness\", \"salt\", \"bwakaw\", \"legodcbatmanfamilymatters\", \"thepostcardkillings\", \"kimjiyoungborn1982\", \"ascoretosettle\", \"everyday\", \"bloodfather\", \"thekillteam\", \"mrdeeds\", \"thisiswhereileaveyou\", \"thetallman\", \"littlefockers\", \"holeinthewall\", \"alleyezonme\", \"ferdinand\", \"theperfectstorm\", \"pawpatroljettotherescue\", \"gangsofwasseypurpart2\", \"nataledachef\", \"countdown\", \"newyorkminute\", \"barnyard\", \"sherlockholmes\", \"onthebasisofsex\", \"thetreeofblood\", \"thehurricaneheist\", \"earlyman\", \"badmoms\", \"pointbreak\", \"theantbully\", \"thetransporter\", \"disconnect\", \"blackwater\", \"bushwick\", \"ninjaassassin\", \"lastvegas\", \"paranorman\", \"roadtoperdition\", \"coldfeet\", \"yesterday\", \"inconceivable\", \"overdrive\", \"marauders\", \"thetransporterrefueled\", \"battlelosangeles\", \"ironman3\", \"money\", \"fantastica\", \"daria\", \"mank\", \"destinationwedding\", \"inavalleyofviolence\", \"honeymoon\", \"dune\", \"uturn\", \"rango\", \"asih\", \"ohomemperfeito\", \"fighter\", \"thecondemned2\", \"thegirlinthefog\", \"childsplay\", \"heevenhasyoureyes\", \"sully\", \"freedomwriters\", \"thisistheend\", \"swatfirefight\", \"fredclaus\", \"watchmen\", \"killerelite\", \"romancedoll\", \"thewretched\", \"comidarkfilms\", \"mollysgame\", \"queen\", \"topgun\", \"realsteel\", \"heungbootherevolutionist\", \"arcticdogs\", \"whentheboughbreaks\", \"passengers\", \"stardust\", \"themartian\", \"robinhood\", \"30daysofnight\", \"lustcaution\", \"terminatorsalvation\", \"zookeeper\", \"aroundtheworldin80days\", \"taxi2\", \"cellular\", \"kandasamysthewedding\", \"sincity\", \"gangoose\", \"chippa\", \"thewayback\", \"itcomesatnight\", \"theroommate\", \"somekindofbeautiful\", \"munich\", \"supermonstersdiadelosmonsters\", \"nightofknots\", \"friendbutmarried\", \"theinvisibleman\", \"stuckwithaperfectwoman\", \"kingkong\", \"bluethunder\", \"bound\", \"coraline\", \"prometheus\", \"hallpass\", \"onceuponatimeinlondon\", \"alongwiththegodsthelast49days\", \"myhappyfamily\", \"daddydaycare\", \"eagleeye\", \"jedgar\", \"layercake\", \"umamaheswaraugraroopasya\", \"calmwithhorses\", \"alongwiththegodsthetwoworlds\", \"snowden\", \"theashladinthehallofthemountainking\", \"kingsglaivefinalfantasyxv\", \"friendswithbenefits\", \"pussinboots\", \"vforvendetta\", \"interstellar\", \"afterthewedding\", \"milea\", \"gnomealone\", \"keepingupwiththejoneses\", \"thepeanutsmovie\", \"gladiator\", \"thebreakup\", \"thehangoverpartiii\", \"berlinberlin\", \"varaneavashyamund\", \"merrymentherealyorubademons\", \"asilentvoice\", \"hiddenfigures\", \"thehatefuleight\", \"maidinmanhattan\", \"thelordoftheringsthereturnoftheking\", \"wira\", \"guilty\", \"lacolle\", \"escapeplantheextractors\", \"smurfsthelostvillage\", \"paranormalactivitythemarkedones\", \"thelunchbox\", \"getrichordietryin\", \"nationallampoonschristmasvacation\", \"madagascarescape2africa\", \"isapawithfeelings\", \"tremorsshriekerisland\", \"gloriabell\", \"beyondskyline\", \"newness\", \"thedressmaker\", \"anacondasthehuntforthebloodorchid\", \"firedup\", \"insideman\", \"themechanic\", \"thetwilightsagabreakingdawnpart1\", \"weatheringwithyou\", \"tigertail\", \"diegomaradona\", \"septembersofshiraz\", \"jabwemet\", \"reddragon\", \"meninhope\", \"youvegotmail\", \"colombiana\", \"themagicschoolbusridesagainthefrizzconnection\", \"monos\", \"dororo\", \"livebynight\", \"therite\", \"stickman\", \"allthebrightplaces\", \"rollredroll\", \"threeidenticalstrangers\", \"thenightingale\", \"robocop\", \"intolerablecruelty\", \"thegodfatherpartii\", \"theprestige\", \"agogocorycarsonchristmas\", \"bittersweet\", \"vice\", \"greenbook\", \"madagascar3europesmostwanted\", \"13goingon30\", \"themummyreturns\", \"howtotrainyourdragon2\", \"kickass2\", \"houseattheendofthestreet\", \"themansion\", \"shoplifters\", \"braven\", \"kickboxer\", \"thefiveyearengagement\", \"trainingday\", \"onceuponatimeinmexico\", \"forceofnature\", \"roguewarfarethehunt\", \"topendwedding\", \"londonfields\", \"overcomer\", \"arizona\", \"thenutjob2nuttybynature\", \"pan\", \"sealteamsixtheraidonosamabinladen\", \"notmyday\", \"howhigh\", \"theexorcismofemilyrose\", \"arthurandtheinvisibles\", \"spiritridingfreeridealongadventure\", \"totem\", \"thecommuter\", \"momentum\", \"residentevilthefinalchapter\", \"sawii\", \"badboysii\", \"hoteltransylvania\", \"abduction\", \"crazystupidlove\", \"ohadiyorum\", \"shotcaller\", \"theexperiment\", \"thecobbler\", \"talladeganightstheballadofrickybobby\", \"noah\", \"thehangoverpartii\", \"theprinceofegypt\", \"sonofthemask\", \"wrathofthetitans\", \"canvas\", \"safari\", \"theunmarriedwife\", \"risen\", \"kungfupanda3\", \"blackmass\", \"red2\", \"theropecurse2\", \"survivethenight\", \"schoollife\", \"amicicomenoi\", \"yucat\\u00c3\\u00a1n\", \"6days\", \"3seasonsinhell\", \"intothewild\", \"thematch\", \"ninjashadowofatear\", \"themanchuriancandidate\", \"theadventurerthecurseofthemidasbox\", \"themummytombofthedragonemperor\", \"losrodr\\u00c3\\u00adguezyelm\\u00c3\\u00a1sall\\u00c3\\u00a1\", \"justmercy\", \"thinklikeaman\", \"taxi3\", \"jumpingthebroom\", \"southpaw\", \"badteacher\", \"thecoldlightofday\", \"transformersdarkofthemoon\", \"backtothefuturepartii\", \"casino\", \"marieantoinette\", \"welcometosuddendeath\", \"strangebuttrue\", \"bennettswar\", \"skin\", \"thegreatestshowman\", \"kickboxervengeance\", \"bonetomahawk\", \"valentinesday\", \"horns\", \"rambo\", \"sylvia\", \"kin\", \"startrekbeyond\", \"fourchristmases\", \"truelies\", \"nonstop\", \"themirrorboy\", \"zakichan\", \"iammother\", \"beautyandthebeast\", \"plusone\", \"geronimoanamericanlegend\", \"theheat\", \"christmaswithaprince\", \"georgetown\", \"eyeforaneye\", \"211\", \"helpishrunkmyteacher\", \"theperfectman\", \"thegunman\", \"closer\", \"oceansthirteen\", \"thebournelegacy\", \"myamnesiagirl\", \"runningwiththedevil\", \"marshall\", \"imperium\", \"acureforwellness\", \"singham\", \"yogibear\", \"mightyexpressamightychristmas\", \"arrival\", \"dumbanddumberto\", \"theuglytruth\", \"seventhson\", \"incoming\", \"3022\", \"carriepilby\", \"pink\", \"howtobesingle\", \"threewishesforcinderella\", \"richierich\", \"rushhour\", \"knowing\", \"thorthedarkworld\", \"exesbaggage\", \"asuraguru\", \"nezha\", \"badgenius\", \"ouijaoriginofevil\", \"firewithfire\", \"walkingtall\", \"thehappening\", \"twoweeksnotice\", \"gamer\", \"redridinghood\", \"goodgamethebeginning\", \"messageinabottle\", \"lesgorilles\", \"hollowpoint\", \"yourname\", \"thecell\", \"babygeniuses\", \"thepost\", \"nannymcphee\", \"dirtygrandpa\", \"22bullets\", \"theexpendables3\", \"projectx\", \"thebluelagoon\", \"anofficerandagentleman\", \"happygilmore\", \"loveyoutothestarsandback\", \"achastermarriage\", \"dragonballsuperbroly\", \"thethirdparty\", \"thebeachbum\", \"destructionlosangeles\", \"whathappenedtomonday\", \"daddyshome\", \"thesalvation\", \"brickmansions\", \"trust\", \"hercules\", \"anaamika\", \"pyaarkapunchnama2\", \"lion\", \"theinfiltrator\", \"collateralbeauty\", \"anaconda\", \"elf\", \"christmascrossfire\", \"theshowmustgoonthequeenadamlambertstory\", \"usmarshals\", \"lastholiday\", \"theridiculous6\", \"kabhikhushikabhiegham\", \"goosebumps\", \"paulblartmallcop\", \"predators\", \"getsmart\", \"pacificrim\", \"xxx\", \"seedofchucky\", \"pitchperfect\", \"super8\", \"sleepless\", \"kannumkannumkollaiyadithaal\", \"ninokuni\", \"brahmstheboyii\", \"theend\", \"emma\", \"itonya\", \"insidiousthelastkey\", \"sniperghostshooter\", \"stolen\", \"sisters\", \"austinpowersingoldmember\", \"thegame\", \"thelastsamurai\", \"paansinghtomar\", \"milada\", \"lalaland\", \"thedaytheearthstoodstill\", \"mustbelove\", \"sawah\", \"imania\", \"lommbock\", \"lastflighttoabuja\", \"amityvilletheawakening\", \"captainamericacivilwar\", \"looneytunesbackinaction\", \"soundercover\", \"meninblack\", \"oceanseleven\", \"thebourneidentity\", \"thefamily\", \"unbreakablekimmyschmidtkimmyvsthereverend\", \"thetwopopes\", \"supermariobros\", \"jimbuttonandluketheenginedriver\", \"thearbitration\", \"theinvisibleguardian\", \"sausageparty\", \"thedictator\", \"thebeach\", \"brotherinlove\", \"asterixthesecretofthemagicpotion\", \"thebyebyeman\", \"deadmandown\", \"roadtrip\", \"thosewhoremained\", \"hellontheborder\", \"nogamenolifezero\", \"special26\", \"disturbia\", \"fallingdown\", \"laborday\", \"grease\", \"thehuntforredoctober\", \"thematrixreloaded\", \"thelakehouse\", \"quantumofsolace\", \"olympushasfallen\", \"kalel15\", \"mazingerzinfinity\", \"domino\", \"bleedforthis\", \"thelastcastle\", \"oldboy\", \"fullmetaljacket\", \"thefirstwivesclub\", \"wrongturn\", \"funnypeople\", \"thesevendeadlysinsthemovieprisonersofthesky\", \"theleisureseeker\", \"thesumofallfears\", \"27dresses\", \"hereafter\", \"cube\", \"nottinghill\", \"300\", \"actionpoint\", \"ghadi\", \"rings\", \"thehousebunny\", \"2fast2furious\", \"madagascar\", \"rushhour3\", \"neverbackdown\", \"theoperative\", \"richardjewell\", \"clergy\", \"paycheck\", \"theguilttrip\", \"anightmareonelmstreet\", \"rogue\", \"diazdontcleanupthisblood\", \"dumbanddumber\", \"zombieland\", \"thedrop\", \"chicobonbonandtheveryberryholiday\", \"truehistoryofthekellygang\", \"asecretlove\", \"mystupidboss\", \"gangsta\", \"thelittlewitch\", \"riptide\", \"fromuponpoppyhill\", \"theboondocksaintsiiallsaintsday\", \"nogooddeed\", \"thelincolnlawyer\", \"thedilemma\", \"thebraveone\", \"kickass\", \"aweddingforchristmas\", \"confessionsofaserialkillerwithpiersmorgan\", \"crazyawesometeachers\", \"youaretheappleofmyeye\", \"perfectworld\", \"twothumbsup\", \"rage\", \"thewife\", \"casinotycoon\", \"blackbutterfly\", \"lucknowcentral\", \"thelongestyard\", \"theluckyone\", \"theboy\", \"theplacebeyondthepines\", \"thecave\", \"frompariswithlove\", \"alphaandomega\", \"centurion\", \"transformers\", \"badboys\", \"theking\", \"sweptaway\", \"angel\", \"obsessed\", \"yearone\", \"thedarkesthour\", \"lawabidingcitizen\", \"forrestgump\", \"primalfear\", \"twister\", \"pineappleexpress\", \"themanwiththeironfists\", \"unexpectedlyyours\", \"survivor\", \"backtrace\", \"allaboutnina\", \"qaribqaribsinglle\", \"duckduckgoose\", \"theinvasion\", \"teenagemutantninjaturtles\", \"flipped\", \"lol\", \"meettheparents\", \"clashofthetitans\", \"lightinthedark\", \"waitingforspring\", \"klown\", \"closeenemies\", \"aaplamanus\", \"doomannihilation\", \"hurricane\", \"lifeasweknowit\", \"mirrormirror\", \"andsoitgoes\", \"definitelymaybe\", \"wildwildwest\", \"thegoodshepherd\", \"ghostrider\", \"enemylines\", \"loveiswar\", \"toalltheboyspsistillloveyou\", \"marrowbone\", \"captainunderpantsthefirstepicmovie\", \"miraclesfromheaven\", \"inferno\", \"horriblebosses2\", \"scarface\", \"abouttime\", \"enough\", \"menaceiisociety\", \"gangsofnewyork\", \"jaws\", \"palerider\", \"yesman\", \"bridesmaids\", \"doraemonthemoviegreatadventureintheantarctickachikochi\", \"theaddamsfamily\", \"pok\\u00c3\\u00a9monmewtwostrikesbackevolution\", \"freezerscampaign\", \"abeautifuldayintheneighborhood\", \"turbulence\", \"spectral\", \"houseofwax\", \"thebugsbunnyroadrunnermovie\", \"thezookeeperswife\", \"alvinandthechipmunkstheroadchip\", \"safe\", \"awalktoremember\", \"thetheoryofeverything\", \"theskinilivein\", \"cobra\", \"coloroutofspace\", \"ophelia\", \"justiceleaguedarkapokolipswar\", \"thebygone\", \"theprofessorandthemadman\", \"themistress\", \"unbrokenpathtoredemption\", \"thedebtcollector\", \"aghoststory\", \"widows\", \"randomhearts\", \"hostelpartiii\", \"myneighbortotoro\", \"missionimpossibleii\", \"thescore\", \"thelordoftheringsthefellowshipofthering\", \"mysticriver\", \"lordofwar\", \"copout\", \"moneynoenough\", \"thecoldestgame\", \"jarheadlawofreturn\", \"arainydayinnewyork\", \"footloose\", \"papertowns\", \"fridaythe13th\", \"meetthefockers\", \"flight\", \"oldschool\", \"priest\", \"theshining\", \"indianajonesandthelastcrusade\", \"thequickandthedead\", \"castaway\", \"weweresoldiers\", \"knockedup\", \"mammamia\", \"thelovelybones\", \"thething\", \"theexpendables\", \"bombshell\", \"highlife\", \"10x10\", \"gotti\", \"girlhood\", \"yuma\", \"rumbleinthebronx\", \"underworldbloodwars\", \"imaginethat\", \"ipman2\", \"meangirls2\", \"landofthelost\", \"transporter2\", \"waiting\", \"donniebrasco\", \"aknightstale\", \"fida\", \"anchorbaby\", \"yourstory\", \"laoriginals\", \"asun\", \"newworld\", \"whatkeepsyoualive\", \"asecondchance\", \"ourhouse\", \"toman\", \"theinvitation\", \"ungli\", \"alittlechaos\", \"doctorstrange\", \"repomen\", \"syriana\", \"thedescendants\", \"johnq\", \"themagicschoolbusridesagaininthezone\", \"fittestindubai\", \"achampionheart\", \"houseofthewitch\", \"daddycool\", \"shaft\", \"returntothebluelagoon\", \"thepossession\", \"noescape\", \"bladesofglory\", \"thewitches\", \"killtheirishman\", \"transformersrevengeofthefallen\", \"beetlejuice\", \"thelongkissgoodnight\", \"thejackal\", \"thedavincicode\", \"elysium\", \"projectmarathwada\", \"thespeedcubers\", \"thecall\", \"paprika\", \"amadeafamilyfuneral\", \"threebillboardsoutsideebbingmissouri\", \"diaryofawimpykidthelonghaul\", \"thechoice\", \"howtotrainyourdragon\", \"crouchingtigerhiddendragon\", \"glory\", \"teenagemutantninjaturtlesiithesecretoftheooze\", \"missionimpossible\", \"freddyvsjason\", \"dreamcatcher\", \"grantorino\", \"rio\", \"maska\", \"thelastkiss\", \"inbedwithsanta\", \"sweetnovember\", \"housearrest\", \"riverrunsred\", \"thephotographerofmauthausen\", \"innocent\", \"thequeenscorgi\", \"adogsjourney\", \"doraandthelostcityofgold\", \"brainonfire\", \"nasha\", \"thegirlwithallthegifts\", \"hellorhighwater\", \"shutin\", \"nowandthen\", \"almostchristmas\", \"thelegobatmanmovie\", \"grease2\", \"gofast\", \"theotherwoman\", \"duplicity\", \"lawless\", \"silverado\", \"gremlins\", \"executivedecision\", \"thewholenineyards\", \"fury\", \"12giftsofchristmas\", \"pagpagninelives\", \"serenity\", \"selena\", \"serialkiller1\", \"sonofagun\", \"thegunsofnavarone\", \"augustrush\", \"minorityreport\", \"emmanuelle\", \"indianajonesandthetempleofdoom\", \"thecraft\", \"thedeparted\", \"theavengers\", \"bluestory\", \"mirage\", \"polar\", \"batmanthekillingjoke\", \"thewildewedding\", \"criminal\", \"tulipfever\", \"christmaswiththekranks\", \"thewolfman\", \"backtothefuturepartiii\", \"curiousgeorge\", \"gonegirl\", \"whitehousedown\", \"pilgrimage\", \"barcelonaaloveuntold\", \"onceuponatimeinchinaandamerica\", \"julietnaked\", \"birdbox\", \"boyerased\", \"hostiles\", \"youwereneverreallyhere\", \"lovepersquarefoot\", \"table19\", \"eyeinthesky\", \"thepunisher\", \"escapefromplanetearth\", \"weownthenight\", \"pusher\", \"youdontmesswiththezohan\", \"sleepyhollow\", \"invictus\", \"thegruffalo\", \"jumanji\", \"charliesangelsfullthrottle\", \"masterandcommanderthefarsideoftheworld\", \"collateral\", \"hotfuzz\", \"welldoneabba\", \"averyspeciallove\", \"alsonquemetoquenbailo\", \"thelimehousegolem\", \"airplanemode\", \"kabirsingh\", \"thebestofenemies\", \"jopilhothedawningrage\", \"youremyboss\", \"arctic\", \"wheresthemoney\", \"themagicquill\", \"15minutes\", \"hitmanagent47\", \"spanglish\", \"thunderandthehouseofmagic\", \"thedukesofhazzard\", \"hanna\", \"kuchkuchhotahai\", \"foolsgold\", \"licensetowed\", \"jackasspresentsbadgrandpa\", \"flashdance\", \"schindlerslist\", \"theflintstones\", \"thenuttyprofessor\", \"therainmaker\", \"americanhistoryx\", \"hitch\", \"captainphillips\", \"lovelikethefallingrain\", \"bananasplit\", \"thesetup\", \"welcomehome\", \"leprechaunreturns\", \"howitends\", \"urbanlegend\", \"winchester\", \"loganlucky\", \"goldenshoes\", \"smokinaces\", \"snitch\", \"anchorman2thelegendcontinues\", \"orphan\", \"magicmikexxl\", \"onemissedcall\", \"nightsinrodanthe\", \"welcometothepunch\", \"thatsmyboy\", \"christine\", \"thetrumanshow\", \"themaskofzorro\", \"theartofwar\", \"thesweetestthing\", \"journeytothecenteroftheearth\", \"divergent\", \"poacher\", \"homemade\", \"thelastfullmeasure\", \"downadarkhall\", \"joy\", \"finallyfoundsomeone\", \"startingoveragain\", \"kingofthieves\", \"disobedience\", \"codeofhonor\", \"takeme\", \"thekaratekid\", \"allornothing\", \"legend\", \"shesfunnythatway\", \"savethelastdance\", \"bridgeofspies\", \"gridirongang\", \"whitechristmas\", \"whatagirlwants\", \"thelaststand\", \"winterstale\", \"rush\", \"snakesonaplane\", \"theyoungvictoria\", \"thenet\", \"practicalmagic\", \"thelordoftheringsthetwotowers\", \"paulblartmallcop2\", \"wildcard\", \"themummy\", \"johnwastryingtocontactaliens\", \"myheroacademiaheroesrising\", \"themarriedcouples\", \"thepeanutbutterfalcon\", \"heavenwillwait\", \"lafuitinasbagliata\", \"womenofmafia2\", \"7emotions\", \"ittakesamanandawoman\", \"atwelveyearnight\", \"3ninjaskickback\", \"thebleedingedge\", \"traffik\", \"raw\", \"annihilation\", \"stereo\", \"ahologramfortheking\", \"samekindofdifferentasme\", \"hacksawridge\", \"baywatch\", \"beastly\", \"30minutesorless\", \"unforgiven\", \"casagrande\", \"rio2\", \"maximumrisk\", \"darkskies\", \"graceofmonaco\", \"promnight\", \"arthur3thewarofthetwoworlds\", \"theeagle\", \"spykidsallthetimeintheworld\", \"hopesprings\", \"wintersbone\", \"rockyiv\", \"thecolorpurple\", \"wyattearp\", \"billymadison\", \"fear\", \"rushhour2\", \"americanwedding\", \"gonebabygone\", \"hachiadogstale\", \"astroboy\", \"totalrecall\", \"suckerpunch\", \"theadventuresoftintin\"], \"legendgroup\": \"\", \"marker\": {\"color\": \"#636efa\"}, \"name\": \"\", \"notched\": false, \"offsetgroup\": \"\", \"orientation\": \"v\", \"showlegend\": false, \"type\": \"box\", \"x\": [\"Romance\", \"Drama\", \"Comedy\", \"Comedy\", \"Superhero\", \"Documentary\", \"Action\", \"Animation\", \"Romance\", \"Comedy\", \"Animation\", \"Comedy\", \"Drama\", \"Drama\", \"Comedy\", \"Comedy\", \"Documentary\", \"Comedy\", \"Comedy\", \"Romance\", \"Comedy\", \"Comedy\", \"Comedy\", \"Drama\", \"Science Fiction\", \"Fantasy\", \"Horror\", \"War\", \"Thriller\", \"Science Fiction\", \"Comedy\", \"Comedy\", \"Action\", \"Comedy\", \"Science Fiction\", \"Crime\", \"Animation\", \"Comedy\", \"Animation\", \"Thriller\", \"Music\", \"Crime\", \"Action\", \"Science Fiction\", \"Animation\", \"Documentary\", \"Comedy\", \"Comedy\", \"Adventure\", \"Drama\", \"Drama\", \"Thriller\", \"Documentary\", \"Comedy\", \"Thriller\", \"Comedy\", \"Animation\", \"Action\", \"Adventure\", \"Drama\", \"Comedy\", \"Comedy\", \"Documentary\", \"Romance\", \"Superhero\", \"Drama\", \"Animation\", \"Comedy\", \"Superhero\", \"Comedy\", \"Drama\", \"Documentary\", \"Animation\", \"Science Fiction\", \"Action\", \"Science Fiction\", \"Animation\", \"Comedy\", \"Comedy\", \"Action\", \"Superhero\", \"Comedy\", \"Horror\", \"Horror\", \"Drama\", \"Comedy\", \"Comedy\", \"Comedy\", \"Comedy\", \"Comedy\", \"Action\", \"Comedy\", \"Crime\", \"Animation\", \"Animation\", \"Science Fiction\", \"Superhero\", \"Comedy\", \"Drama\", \"Romance\", \"Comedy\", \"Superhero\", \"Science Fiction\", \"Crime\", \"Adventure\", \"Action\", \"Romance\", \"Concerts\", \"Romance\", \"Fantasy\", \"Horror\", \"Thriller\", \"Thriller\", \"Comedy\", \"Action\", \"Action\", \"Crime\", \"Drama\", \"Adventure\", \"Drama\", \"Comedy\", \"Drama\", \"Crime\", \"Crime\", \"Crime\", \"Action\", \"Action\", \"Science Fiction\", \"Science Fiction\", \"Action\", \"Action\", \"Horror\", \"Horror\", \"Comedy\", \"Animation\", \"Fantasy\", \"Science Fiction\", \"Comedy\", \"Comedy\", \"Comedy\", \"Horror\", \"Drama\", \"Drama\", \"Crime\", \"War\", \"Animation\", \"Superhero\", \"Documentary\", \"Crime\", \"Action\", \"Comedy\", \"Drama\", \"Comedy\", \"Comedy\", \"Fantasy\", \"Thriller\", \"Documentary\", \"Comedy\", \"Science Fiction\", \"Fantasy\", \"Horror\", \"Science Fiction\", \"Comedy\", \"Thriller\", \"Drama\", \"Action\", \"Thriller\", \"Crime\", \"Animation\", \"Horror\", \"Animation\", \"Thriller\", \"Thriller\", \"Comedy\", \"Comedy\", \"War\", \"Fantasy\", \"Thriller\", \"Action\", \"Comedy\", \"Science Fiction\", \"Thriller\", \"War\", \"Horror\", \"Drama\", \"Thriller\", \"Superhero\", \"Action\", \"Action\", \"Comedy\", \"Science Fiction\", \"Romance\", \"Drama\", \"Comedy\", \"Comedy\", \"Adventure\", \"Horror\", \"Documentary\", \"Drama\", \"Thriller\", \"Comedy\", \"Thriller\", \"Action\", \"War\", \"Superhero\", \"Drama\", \"Comedy\", \"Comedy\", \"Drama\", \"Drama\", \"Comedy\", \"Comedy\", \"Fantasy\", \"Comedy\", \"Comedy\", \"Drama\", \"Animation\", \"Thriller\", \"Comedy\", \"Drama\", \"Action\", \"Comedy\", \"Drama\", \"Comedy\", \"Horror\", \"Superhero\", \"Comedy\", \"Superhero\", \"Thriller\", \"Drama\", \"Action\", \"Comedy\", \"Crime\", \"Drama\", \"Animation\", \"Crime\", \"Drama\", \"Comedy\", \"Action\", \"Action\", \"Horror\", \"Animation\", \"Comedy\", \"Crime\", \"Science Fiction\", \"Science Fiction\", \"Drama\", \"Animation\", \"Music\", \"Thriller\", \"Crime\", \"Crime\", \"Thriller\", \"Comedy\", \"Comedy\", \"Horror\", \"Fantasy\", \"History\", \"Thriller\", \"Animation\", \"Action\", \"Drama\", \"History\", \"Adventure\", \"Drama\", \"Thriller\", \"Horror\", \"Drama\", \"Fantasy\", \"Fantasy\", \"Animation\", \"Action\", \"Superhero\", \"Comedy\", \"Science Fiction\", \"Superhero\", \"Action\", \"Science Fiction\", \"Crime\", \"Comedy\", \"Comedy\", \"Action\", \"Superhero\", \"Drama\", \"Comedy\", \"Horror\", \"Horror\", \"Drama\", \"Adventure\", \"Thriller\", \"Adventure\", \"Drama\", \"Comedy\", \"Comedy\", \"Crime\", \"Comedy\", \"Comedy\", \"Action\", \"Drama\", \"Comedy\", \"Documentary\", \"Horror\", \"Horror\", \"Science Fiction\", \"Comedy\", \"Comedy\", \"Science Fiction\", \"Romance\", \"Action\", \"Documentary\", \"Thriller\", \"Animation\", \"Comedy\", \"Documentary\", \"Biopic\", \"Drama\", \"Animation\", \"Fantasy\", \"Thriller\", \"Animation\", \"Comedy\", \"Thriller\", \"Biopic\", \"Science Fiction\", \"Action\", \"Crime\", \"Fantasy\", \"Science Fiction\", \"Drama\", \"Drama\", \"Science Fiction\", \"Action\", \"Action\", \"Action\", \"Science Fiction\", \"Fantasy\", \"Crime\", \"Horror\", \"Horror\", \"Comedy\", \"Comedy\", \"Horror\", \"Drama\", \"Thriller\", \"Animation\", \"Comedy\", \"Action\", \"Action\", \"Action\", \"War\", \"Fantasy\", \"Fantasy\", \"Thriller\", \"Action\", \"Animation\", \"Science Fiction\", \"Comedy\", \"Biopic\", \"Comedy\", \"Drama\", \"Action\", \"Action\", \"Drama\", \"Comedy\", \"Thriller\", \"Drama\", \"Romance\", \"Horror\", \"Thriller\", \"Action\", \"Science Fiction\", \"Horror\", \"Drama\", \"Action\", \"Comedy\", \"Drama\", \"Horror\", \"Animation\", \"Drama\", \"Science Fiction\", \"Adventure\", \"Action\", \"Horror\", \"Action\", \"Comedy\", \"Thriller\", \"Horror\", \"Comedy\", \"Drama\", \"Comedy\", \"Thriller\", \"Action\", \"Horror\", \"Documentary\", \"Romance\", \"Horror\", \"Action\", \"Comedy\", \"Animation\", \"Animation\", \"Comedy\", \"Comedy\", \"Crime\", \"Comedy\", \"Animation\", \"Animation\", \"Fantasy\", \"Science Fiction\", \"Thriller\", \"Comedy\", \"Drama\", \"Action\", \"Crime\", \"Comedy\", \"Comedy\", \"Comedy\", \"War\", \"Fantasy\", \"Animation\", \"Comedy\", \"Action\", \"Crime\", \"Crime\", \"Comedy\", \"Action\", \"Animation\", \"Drama\", \"Superhero\", \"Action\", \"Animation\", \"War\", \"Drama\", \"Thriller\", \"Drama\", \"Adventure\", \"Thriller\", \"Crime\", \"Thriller\", \"Animation\", \"Horror\", \"Animation\", \"Thriller\", \"Adventure\", \"Action\", \"Romance\", \"Adventure\", \"Thriller\", \"Horror\", \"Drama\", \"Drama\", \"Comedy\", \"Action\", \"Comedy\", \"Action\", \"Action\", \"Crime\", \"Science Fiction\", \"Romance\", \"Comedy\", \"Superhero\", \"Romance\", \"Superhero\", \"Action\", \"Adventure\", \"Comedy\", \"Science Fiction\", \"Documentary\", \"Animation\", \"Thriller\", \"Crime\", \"Horror\", \"Science Fiction\", \"Fantasy\", \"Thriller\", \"Horror\", \"Horror\", \"Thriller\", \"Documentary\", \"Animation\", \"Drama\", \"Comedy\", \"Comedy\", \"Comedy\", \"Horror\", \"Animation\", \"Animation\", \"Crime\", \"Romance\", \"Thriller\", \"Animation\", \"Comedy\", \"Comedy\", \"Action\", \"Documentary\", \"Drama\", \"Romance\", \"Drama\", \"Comedy\", \"Comedy\", \"Thriller\", \"Thriller\", \"Thriller\", \"Science Fiction\", \"Thriller\", \"Comedy\", \"Comedy\", \"Science Fiction\", \"Action\", \"Crime\", \"Comedy\", \"Science Fiction\", \"Romance\", \"Superhero\", \"Horror\", \"Comedy\", \"Crime\", \"Comedy\", \"Thriller\", \"Comedy\", \"Western\", \"Biopic\", \"Adventure\", \"Drama\", \"Adventure\", \"Adventure\", \"Romance\", \"Science Fiction\", \"Science Fiction\", \"Biopic\", \"Action\", \"Drama\", \"Drama\", \"Documentary\", \"Action\", \"Action\", \"Action\", \"Action\", \"Horror\", \"Animation\", \"Comedy\", \"Comedy\", \"Science Fiction\", \"Action\", \"Fantasy\", \"Thriller\", \"Romance\", \"Science Fiction\", \"Comedy\", \"Drama\", \"Comedy\", \"Romance\", \"Horror\", \"Comedy\", \"Comedy\", \"Drama\", \"Comedy\", \"Drama\", \"Thriller\", \"Drama\", \"Drama\", \"Science Fiction\", \"Fantasy\", \"Horror\", \"Horror\", \"Horror\", \"Comedy\", \"Comedy\", \"Crime\", \"Thriller\", \"Crime\", \"Animation\", \"Comedy\", \"Animation\", \"Fantasy\", \"Crime\", \"War\", \"Animation\", \"Action\", \"Superhero\", \"Comedy\", \"War\", \"Horror\", \"Romance\", \"Action\", \"Science Fiction\", \"Horror\", \"Action\", \"Thriller\", \"Comedy\", \"Action\", \"Drama\", \"Fantasy\", \"Adventure\", \"Drama\", \"Horror\", \"Science Fiction\", \"Thriller\", \"Action\", \"Science Fiction\", \"Comedy\", \"Crime\", \"Comedy\", \"Thriller\", \"Thriller\", \"Comedy\", \"Thriller\", \"Horror\", \"Thriller\", \"Horror\", \"Comedy\", \"Superhero\", \"Comedy\", \"Science Fiction\", \"Comedy\", \"Thriller\", \"Thriller\", \"Science Fiction\", \"Drama\", \"Horror\", \"Science Fiction\", \"Drama\", \"Action\", \"Comedy\", \"Comedy\", \"Comedy\", \"Comedy\", \"Comedy\", \"Science Fiction\", \"Drama\", \"Action\", \"Science Fiction\", \"Comedy\", \"Drama\", \"Drama\", \"Animation\", \"Comedy\", \"Comedy\", \"Concerts\", \"Romance\", \"Science Fiction\", \"Horror\", \"Action\", \"Comedy\", \"Crime\", \"Drama\", \"Superhero\", \"Action\", \"Action\", \"Horror\", \"Action\", \"Crime\", \"Drama\", \"Action\", \"Comedy\", \"Drama\", \"History\", \"Comedy\", \"Romance\", \"Action\", \"Drama\", \"Adventure\", \"Comedy\", \"Comedy\", \"Music\", \"Comedy\", \"Crime\", \"Comedy\", \"Thriller\", \"Drama\", \"Action\", \"Animation\", \"Comedy\", \"Science Fiction\", \"Drama\", \"Comedy\", \"Comedy\", \"Science Fiction\", \"Action\", \"Adventure\", \"Romance\", \"Animation\", \"Horror\", \"Comedy\", \"Comedy\", \"Comedy\", \"Science Fiction\", \"Documentary\", \"Fantasy\", \"Comedy\", \"Superhero\", \"Animation\", \"Comedy\", \"Thriller\", \"Science Fiction\", \"Drama\", \"Comedy\", \"Drama\", \"Comedy\", \"Thriller\", \"Comedy\", \"Thriller\", \"Science Fiction\", \"Drama\", \"Animation\", \"Science Fiction\", \"Comedy\", \"Action\", \"Documentary\", \"Documentary\", \"Action\", \"Thriller\", \"Comedy\", \"Documentary\", \"Drama\", \"War\", \"Fantasy\", \"Drama\", \"Action\", \"Romance\", \"Crime\", \"Drama\", \"Drama\", \"Science Fiction\", \"Documentary\", \"Thriller\", \"Action\", \"Drama\", \"Drama\", \"Romance\", \"Comedy\", \"Action\", \"Comedy\", \"Fantasy\", \"Comedy\", \"Drama\", \"Comedy\", \"Comedy\", \"Comedy\", \"Comedy\", \"Action\", \"Drama\", \"Animation\", \"Action\", \"Romance\", \"Romance\", \"Drama\", \"Action\", \"Action\", \"Action\", \"Thriller\", \"Drama\", \"Drama\", \"Comedy\", \"Drama\", \"Thriller\", \"Animation\", \"Action\", \"Romance\", \"Thriller\", \"Drama\", \"Horror\", \"Thriller\", \"Adventure\", \"Animation\", \"Comedy\", \"Thriller\", \"Thriller\", \"Superhero\", \"Drama\", \"Comedy\", \"Comedy\", \"Thriller\", \"Drama\", \"Animation\", \"Comedy\", \"Horror\", \"Drama\", \"Animation\", \"Thriller\", \"Thriller\", \"Science Fiction\", \"Horror\", \"Comedy\", \"Romance\", \"Crime\", \"Comedy\", \"Fantasy\", \"Action\", \"Drama\", \"Comedy\", \"Superhero\", \"Horror\", \"Thriller\", \"Comedy\", \"Horror\", \"Horror\", \"Animation\", \"Thriller\", \"Superhero\", \"Animation\", \"Drama\", \"Comedy\", \"Horror\", \"Comedy\", \"Adventure\", \"Horror\", \"Crime\", \"Superhero\", \"Drama\", \"Fantasy\", \"Biopic\", \"Documentary\", \"Thriller\", \"Comedy\", \"Comedy\", \"Animation\", \"Comedy\", \"Action\", \"Comedy\", \"Comedy\", \"Drama\", \"Romance\", \"Romance\", \"Drama\", \"Drama\", \"Drama\", \"Comedy\", \"Crime\", \"Romance\", \"Action\", \"Action\", \"Comedy\", \"Adventure\", \"Adventure\", \"Drama\", \"Romance\", \"Romance\", \"Thriller\", \"Animation\", \"Comedy\", \"War\", \"Fantasy\", \"Comedy\", \"Adventure\", \"Comedy\", \"Comedy\", \"Science Fiction\", \"Crime\", \"Thriller\", \"Animation\", \"Crime\", \"Superhero\", \"Comedy\", \"Comedy\", \"Drama\", \"Romance\", \"Science Fiction\", \"Documentary\", \"Comedy\", \"Drama\", \"Fantasy\", \"Drama\", \"Drama\", \"Romance\", \"Horror\", \"Thriller\", \"Drama\", \"Adventure\", \"Romance\", \"Drama\", \"Horror\", \"Comedy\", \"Drama\", \"Thriller\", \"Action\", \"Science Fiction\", \"Science Fiction\", \"Science Fiction\", \"Drama\", \"Thriller\", \"Action\", \"Fantasy\", \"Comedy\", \"Comedy\", \"Comedy\", \"Thriller\", \"Crime\", \"Comedy\", \"Superhero\", \"Comedy\", \"Science Fiction\", \"Romance\", \"Western\", \"Drama\", \"Animation\", \"Action\", \"Romance\", \"Animation\", \"Western\", \"Romance\", \"Horror\", \"Crime\", \"Comedy\", \"Thriller\", \"Action\", \"Comedy\", \"Crime\", \"Music\", \"Crime\", \"Romance\", \"Comedy\", \"Drama\", \"Western\", \"Action\", \"Horror\", \"Romance\", \"Romance\", \"Romance\", \"Thriller\", \"Crime\", \"Drama\", \"Drama\", \"Drama\", \"Horror\", \"Comedy\", \"Crime\", \"Romance\", \"Science Fiction\", \"Action\", \"Drama\", \"Comedy\", \"Comedy\", \"Action\", \"Horror\", \"Horror\", \"Comedy\", \"Science Fiction\", \"Drama\", \"Romance\", \"Romance\", \"Comedy\", \"Comedy\", \"Superhero\", \"Comedy\", \"Comedy\", \"Crime\", \"Adventure\", \"Drama\", \"Science Fiction\", \"Superhero\", \"Comedy\", \"Horror\", \"Crime\", \"Action\", \"Action\", \"Music\", \"Comedy\", \"Drama\", \"Horror\", \"Thriller\", \"Superhero\", \"Drama\", \"Science Fiction\", \"Thriller\", \"Romance\", \"Drama\", \"Drama\", \"Comedy\", \"Comedy\", \"Documentary\", \"Comedy\", \"Action\", \"Horror\", \"Animation\", \"Drama\", \"Crime\", \"Romance\", \"Comedy\", \"Romance\", \"Comedy\", \"Superhero\", \"Drama\", \"Science Fiction\", \"Science Fiction\", \"Action\", \"Drama\", \"Animation\", \"Crime\", \"Drama\", \"Action\", \"Romance\", \"Thriller\", \"Documentary\", \"Comedy\", \"Drama\", \"Horror\", \"Comedy\", \"Drama\", \"Drama\", \"Animation\", \"Thriller\", \"Animation\", \"Crime\", \"Comedy\", \"Horror\", \"Comedy\", \"Animation\", \"Crime\", \"Biopic\", \"Drama\", \"Drama\", \"Animation\", \"Comedy\", \"Action\", \"Animation\", \"Action\", \"Comedy\", \"Action\", \"Action\", \"Thriller\", \"Comedy\", \"Comedy\", \"Drama\", \"Drama\", \"Comedy\", \"Thriller\", \"Action\", \"Action\", \"Action\", \"Science Fiction\", \"Superhero\", \"Crime\", \"Comedy\", \"Thriller\", \"Drama\", \"Romance\", \"Western\", \"Drama\", \"Science Fiction\", \"Thriller\", \"Animation\", \"Horror\", \"Comedy\", \"Drama\", \"Action\", \"Thriller\", \"Horror\", \"Comedy\", \"Drama\", \"Crime\", \"Comedy\", \"Action\", \"Drama\", \"Superhero\", \"Action\", \"Romance\", \"Horror\", \"Comedy\", \"Drama\", \"Drama\", \"Action\", \"Science Fiction\", \"History\", \"Animation\", \"Horror\", \"Science Fiction\", \"Fantasy\", \"Science Fiction\", \"Adventure\", \"Horror\", \"Thriller\", \"Science Fiction\", \"Comedy\", \"Adventure\", \"Action\", \"Action\", \"Comedy\", \"Thriller\", \"Crime\", \"Drama\", \"Drama\", \"Horror\", \"Thriller\", \"Romance\", \"Thriller\", \"Animation\", \"Comedy\", \"Comedy\", \"Horror\", \"Comedy\", \"Science Fiction\", \"Action\", \"Drama\", \"Animation\", \"Science Fiction\", \"Romance\", \"Crime\", \"Action\", \"Drama\", \"Comedy\", \"Thriller\", \"Biopic\", \"Thriller\", \"Comedy\", \"Drama\", \"Action\", \"Biopic\", \"Adventure\", \"Fantasy\", \"Comedy\", \"Animation\", \"Superhero\", \"Science Fiction\", \"Drama\", \"Romance\", \"Animation\", \"Comedy\", \"Animation\", \"History\", \"Comedy\", \"Comedy\", \"Comedy\", \"Comedy\", \"Comedy\", \"Animation\", \"Drama\", \"Western\", \"Romance\", \"Fantasy\", \"Action\", \"Drama\", \"Comedy\", \"Action\", \"Animation\", \"Horror\", \"Romance\", \"Crime\", \"Comedy\", \"Animation\", \"Comedy\", \"Horror\", \"Drama\", \"Science Fiction\", \"Romance\", \"Drama\", \"Horror\", \"Romance\", \"Thriller\", \"Action\", \"Fantasy\", \"Animation\", \"Drama\", \"Biopic\", \"Thriller\", \"Comedy\", \"Horror\", \"Comedy\", \"Romance\", \"Thriller\", \"Animation\", \"Drama\", \"Fantasy\", \"Crime\", \"Horror\", \"Animation\", \"Drama\", \"Documentary\", \"Documentary\", \"Drama\", \"Science Fiction\", \"Comedy\", \"Drama\", \"Drama\", \"Animation\", \"Drama\", \"Comedy\", \"Drama\", \"Animation\", \"Comedy\", \"Adventure\", \"Animation\", \"Superhero\", \"Horror\", \"Horror\", \"Drama\", \"Action\", \"Action\", \"Comedy\", \"Action\", \"Action\", \"Action\", \"Action\", \"Comedy\", \"Thriller\", \"Drama\", \"Comedy\", \"Animation\", \"Fantasy\", \"Thriller\", \"Comedy\", \"Comedy\", \"Horror\", \"Animation\", \"Animation\", \"Horror\", \"Action\", \"Thriller\", \"Horror\", \"Horror\", \"Action\", \"Animation\", \"Action\", \"Romance\", \"Comedy\", \"Drama\", \"Thriller\", \"Comedy\", \"Comedy\", \"Drama\", \"Comedy\", \"Drama\", \"Fantasy\", \"Fantasy\", \"Animation\", \"Documentary\", \"Drama\", \"Drama\", \"Animation\", \"Biopic\", \"Action\", \"Horror\", \"Action\", \"Comedy\", \"Comedy\", \"Comedy\", \"Action\", \"Drama\", \"Drama\", \"Drama\", \"Action\", \"Thriller\", \"Adventure\", \"Adventure\", \"Comedy\", \"Drama\", \"Romance\", \"Action\", \"Comedy\", \"Drama\", \"Comedy\", \"Action\", \"Science Fiction\", \"Science Fiction\", \"Drama\", \"History\", \"Action\", \"Thriller\", \"Drama\", \"Documentary\", \"Music\", \"Action\", \"Western\", \"Comedy\", \"Horror\", \"Action\", \"Drama\", \"Science Fiction\", \"Science Fiction\", \"Romance\", \"Action\", \"Action\", \"Adventure\", \"Comedy\", \"Science Fiction\", \"Fantasy\", \"Comedy\", \"Western\", \"Comedy\", \"Romance\", \"Drama\", \"Thriller\", \"Action\", \"Science Fiction\", \"Romance\", \"Action\", \"Drama\", \"Crime\", \"Action\", \"Comedy\", \"Thriller\", \"Biopic\", \"Drama\", \"Horror\", \"Action\", \"Animation\", \"Animation\", \"Science Fiction\", \"Comedy\", \"Comedy\", \"Fantasy\", \"Science Fiction\", \"Science Fiction\", \"Comedy\", \"Drama\", \"Romance\", \"Fairy Tale\", \"Comedy\", \"Action\", \"Science Fiction\", \"Superhero\", \"Drama\", \"Action\", \"Fantasy\", \"Thriller\", \"Horror\", \"Thriller\", \"Action\", \"Thriller\", \"Romance\", \"Science Fiction\", \"Fantasy\", \"Comedy\", \"Drama\", \"Comedy\", \"Action\", \"Animation\", \"Action\", \"Comedy\", \"Drama\", \"Comedy\", \"Comedy\", \"Action\", \"Action\", \"Crime\", \"Romance\", \"Romance\", \"Comedy\", \"Comedy\", \"Comedy\", \"Animation\", \"Romance\", \"Comedy\", \"Action\", \"Science Fiction\", \"Comedy\", \"Western\", \"Action\", \"Thriller\", \"History\", \"Thriller\", \"Romance\", \"Drama\", \"Crime\", \"Drama\", \"Horror\", \"Fantasy\", \"Crime\", \"Documentary\", \"Action\", \"Romance\", \"Comedy\", \"Music\", \"Adventure\", \"Comedy\", \"Science Fiction\", \"Action\", \"Science Fiction\", \"Action\", \"Horror\", \"Music\", \"Science Fiction\", \"Action\", \"Comedy\", \"Animation\", \"Horror\", \"Comedy\", \"Drama\", \"Biopic\", \"Horror\", \"Action\", \"Thriller\", \"Comedy\", \"Comedy\", \"Thriller\", \"History\", \"Drama\", \"Biopic\", \"Music\", \"Science Fiction\", \"Drama\", \"Comedy\", \"Horror\", \"Comedy\", \"Action\", \"Horror\", \"Superhero\", \"Comedy\", \"Comedy\", \"Science Fiction\", \"Crime\", \"Action\", \"Comedy\", \"Comedy\", \"Drama\", \"Science Fiction\", \"Adventure\", \"Drama\", \"Thriller\", \"Comedy\", \"Comedy\", \"Thriller\", \"Comedy\", \"Animation\", \"Horror\", \"Thriller\", \"Comedy\", \"Drama\", \"Biopic\", \"Animation\", \"Crime\", \"Thriller\", \"Drama\", \"Drama\", \"Music\", \"Thriller\", \"Science Fiction\", \"Romance\", \"Action\", \"Action\", \"Drama\", \"Animation\", \"Action\", \"Drama\", \"Drama\", \"Action\", \"War\", \"Comedy\", \"Thriller\", \"Drama\", \"Animation\", \"Drama\", \"Thriller\", \"Romance\", \"Drama\", \"Thriller\", \"Romance\", \"History\", \"Comedy\", \"Drama\", \"Horror\", \"Comedy\", \"Action\", \"Animation\", \"Action\", \"Action\", \"Thriller\", \"Biopic\", \"Drama\", \"Science Fiction\", \"Comedy\", \"Horror\", \"Horror\", \"Thriller\", \"Comedy\", \"Comedy\", \"Crime\", \"Animation\", \"Biopic\", \"Documentary\", \"Comedy\", \"Crime\", \"Adventure\", \"Drama\", \"Animation\", \"Action\", \"Thriller\", \"Thriller\", \"Drama\", \"Thriller\", \"Superhero\", \"Romance\", \"Documentary\", \"Comedy\", \"Comedy\", \"Romance\", \"Comedy\", \"Thriller\", \"Drama\", \"Thriller\", \"Thriller\", \"Crime\", \"Comedy\", \"Drama\", \"Horror\", \"Crime\", \"Horror\", \"Action\", \"Animation\", \"History\", \"Science Fiction\", \"Action\", \"History\", \"Comedy\", \"Fairy Tale\", \"Thriller\", \"Comedy\", \"Science Fiction\", \"Thriller\", \"Drama\", \"Crime\", \"Thriller\", \"Comedy\", \"Action\", \"Comedy\", \"Action\", \"Crime\", \"Comedy\", \"Comedy\", \"Animation\", \"Thriller\", \"Superhero\", \"Romance\", \"Comedy\", \"Comedy\", \"Fantasy\", \"Drama\", \"Romance\", \"Comedy\", \"Drama\", \"Crime\", \"Science Fiction\", \"War\", \"Romance\", \"Fantasy\", \"Romance\", \"Comedy\", \"Adventure\", \"Thriller\", \"Superhero\", \"War\", \"Drama\", \"Romance\", \"Horror\", \"Animation\", \"Drama\", \"Thriller\", \"Comedy\", \"Thriller\", \"Romance\", \"Thriller\", \"Comedy\", \"Drama\", \"Horror\", \"Western\", \"Comedy\", \"Comedy\", \"Animation\", \"Animation\", \"Animation\", \"Comedy\", \"Drama\", \"Action\", \"Science Fiction\", \"Horror\", \"Animation\", \"Drama\", \"Animation\", \"Thriller\", \"Drama\", \"Drama\", \"Thriller\", \"Action\", \"Horror\", \"Drama\", \"Animation\", \"Drama\", \"Thriller\", \"Drama\", \"Drama\", \"Action\", \"Drama\", \"Crime\", \"Romance\", \"Horror\", \"Animation\", \"Action\", \"Thriller\", \"Fantasy\", \"Thriller\", \"Thriller\", \"Crime\", \"Drama\", \"Thriller\", \"War\", \"Comedy\", \"Drama\", \"Drama\", \"Horror\", \"Comedy\", \"Drama\", \"Comedy\", \"Science Fiction\", \"Horror\", \"Adventure\", \"Western\", \"Drama\", \"War\", \"Comedy\", \"Music\", \"Drama\", \"Science Fiction\", \"Action\", \"Drama\", \"Science Fiction\", \"Thriller\", \"Biopic\", \"Drama\", \"Crime\", \"Action\", \"Fantasy\", \"Fantasy\", \"Action\", \"Comedy\", \"Science Fiction\", \"Action\", \"Comedy\", \"Crime\", \"Adventure\", \"Adventure\", \"Drama\", \"Drama\", \"Documentary\", \"Drama\", \"Drama\", \"Thriller\", \"Drama\", \"Horror\", \"Biopic\", \"Thriller\", \"Comedy\", \"Romance\", \"Superhero\", \"Science Fiction\", \"Thriller\", \"Drama\", \"Thriller\", \"Animation\", \"Documentary\", \"Drama\", \"Horror\", \"Comedy\", \"Action\", \"Romance\", \"Horror\", \"Thriller\", \"Comedy\", \"Fantasy\", \"Thriller\", \"Science Fiction\", \"Fantasy\", \"Thriller\", \"Thriller\", \"Thriller\", \"Science Fiction\", \"Drama\", \"Documentary\", \"Thriller\", \"Animation\", \"Comedy\", \"Drama\", \"Comedy\", \"Romance\", \"Animation\", \"Action\", \"War\", \"Superhero\", \"Action\", \"Horror\", \"Science Fiction\", \"Drama\", \"Animation\", \"Comedy\", \"Comedy\", \"Comedy\", \"Romance\", \"Comedy\", \"Thriller\", \"Drama\", \"Crime\", \"Animation\", \"Drama\", \"Adventure\", \"Biopic\", \"Romance\", \"Horror\", \"Drama\", \"Drama\", \"Drama\", \"Comedy\", \"Animation\", \"Music\", \"Crime\", \"Comedy\", \"Thriller\", \"Crime\", \"Western\", \"Horror\", \"Action\", \"Comedy\", \"War\", \"Romance\", \"Horror\", \"Drama\", \"Biopic\", \"Crime\", \"Action\", \"War\", \"Drama\", \"Science Fiction\", \"Romance\", \"Adventure\", \"Fantasy\", \"Crime\", \"Superhero\", \"Crime\", \"Drama\", \"Action\", \"Animation\", \"Comedy\", \"Thriller\", \"Drama\", \"Comedy\", \"Horror\", \"Comedy\", \"Animation\", \"Thriller\", \"Action\", \"History\", \"Romance\", \"Action\", \"Comedy\", \"Horror\", \"Drama\", \"Western\", \"Drama\", \"Romance\", \"Comedy\", \"Thriller\", \"Superhero\", \"Animation\", \"Thriller\", \"Thriller\", \"Comedy\", \"Horror\", \"Biopic\", \"Animation\", \"Adventure\", \"Action\", \"Adventure\", \"Thriller\", \"Comedy\", \"Comedy\", \"Comedy\", \"Comedy\", \"Horror\", \"Comedy\", \"Romance\", \"Drama\", \"Thriller\", \"Comedy\", \"Thriller\", \"Comedy\", \"Fairy Tale\", \"Crime\", \"Action\", \"Comedy\", \"Animation\", \"Comedy\", \"Action\", \"Romance\", \"Adventure\", \"Comedy\", \"Comedy\", \"Romance\", \"Drama\", \"Adventure\", \"Comedy\", \"Drama\", \"Drama\", \"Romance\", \"Thriller\", \"Drama\", \"Comedy\", \"Crime\", \"Horror\", \"Comedy\", \"Thriller\", \"Crime\", \"Horror\", \"Comedy\", \"Adventure\", \"Action\", \"Thriller\", \"Comedy\", \"Horror\", \"Comedy\", \"Horror\", \"Romance\", \"Crime\", \"Comedy\", \"Horror\", \"Drama\", \"Adventure\", \"Action\", \"Comedy\", \"Adventure\", \"Science Fiction\", \"Action\", \"Drama\", \"War\", \"Horror\", \"Drama\", \"Romance\", \"Drama\", \"Crime\", \"Romance\", \"Action\", \"Crime\", \"Drama\", \"Comedy\", \"Biopic\", \"Comedy\", \"Romance\", \"Drama\", \"Crime\", \"Romance\", \"Comedy\", \"Action\", \"Romance\", \"Biopic\", \"Horror\", \"History\", \"Thriller\", \"Fantasy\", \"Fantasy\", \"Comedy\", \"Drama\", \"Adventure\", \"Documentary\", \"Animation\", \"Comedy\", \"Adventure\", \"Drama\", \"Comedy\", \"Crime\", \"Comedy\", \"Romance\", \"Drama\", \"Action\", \"Documentary\", \"Thriller\", \"Thriller\", \"Science Fiction\", \"Crime\", \"Drama\", \"Drama\", \"War\", \"Action\", \"Fantasy\", \"Comedy\", \"Western\", \"Drama\", \"Animation\", \"Action\", \"Horror\", \"Biopic\", \"Horror\", \"Fantasy\", \"History\", \"Adventure\", \"Drama\", \"Drama\", \"Drama\", \"Drama\", \"Western\", \"Comedy\", \"Thriller\", \"Action\", \"Comedy\", \"Crime\", \"Drama\", \"Action\", \"Science Fiction\", \"Fantasy\", \"Adventure\"], \"x0\": \" \", \"xaxis\": \"x\", \"y\": [10.649, 9.707, 9.675, 9.605, 9.541, 9.517, 9.473, 9.46, 9.454, 9.266, 9.077, 9.05, 5.561, 9.017, 9.007, 8.948, 8.945, 8.919, 8.892, 8.874, 8.82, 8.777, 8.761, 8.753, 8.708, 8.685, 8.649, 8.625, 8.624, 8.619, 8.596, 8.587, 8.582, 8.564, 8.554, 8.549, 8.519, 8.483, 8.444, 8.438, 8.429, 8.403, 8.359, 8.351, 8.334, 8.324, 8.32, 8.261, 8.245, 8.232, 8.201, 8.161, 8.151, 8.139, 8.12, 8.096, 8.093, 8.083, 8.076, 8.068, 8.067, 8.058, 8.0, 7.987, 7.968, 7.965, 7.958, 7.955, 7.933, 7.923, 7.923, 7.912, 7.882, 7.879, 7.874, 7.851, 7.831, 7.819, 7.816, 7.812, 7.803, 7.782, 7.777, 7.757, 7.746, 7.743, 7.742, 7.738, 7.72, 7.7, 7.69, 7.688, 7.688, 7.685, 7.682, 7.676, 7.675, 7.656, 7.654, 7.649, 7.621, 7.611, 7.604, 7.582, 7.544, 7.541, 7.528, 7.526, 7.523, 7.501, 7.492, 7.485, 7.484, 7.468, 7.446, 7.445, 7.444, 7.438, 7.43, 7.406, 7.386, 7.38, 7.377, 7.373, 7.373, 7.368, 7.355, 7.336, 7.329, 7.326, 7.325, 7.307, 7.298, 7.294, 7.288, 7.287, 7.279, 7.263, 7.259, 7.241, 7.239, 7.237, 7.222, 7.197, 7.188, 7.169, 7.165, 7.126, 7.123, 7.12, 7.118, 7.112, 7.11, 7.098, 7.095, 7.093, 7.093, 7.088, 7.082, 7.079, 7.077, 7.077, 7.076, 7.072, 7.064, 7.064, 7.063, 7.06, 7.056, 7.047, 7.045, 7.037, 7.036, 7.028, 7.023, 7.021, 7.019, 7.018, 7.015, 7.009, 6.985, 6.97, 6.969, 6.966, 6.954, 6.945, 6.941, 6.939, 6.929, 6.914, 6.91, 6.902, 6.892, 6.873, 6.865, 6.858, 6.856, 6.855, 6.854, 6.843, 6.842, 6.841, 6.838, 6.831, 6.822, 6.819, 6.819, 6.817, 6.811, 6.791, 6.788, 6.78, 6.777, 6.764, 6.756, 6.75, 6.748, 6.746, 6.744, 6.741, 6.741, 6.738, 6.737, 6.736, 6.72, 6.719, 6.718, 6.708, 6.706, 6.692, 6.69, 6.688, 6.688, 6.683, 6.683, 6.678, 6.675, 6.675, 6.669, 6.668, 6.661, 6.659, 6.657, 6.655, 6.65, 6.641, 6.637, 6.635, 6.633, 6.627, 6.62, 6.619, 6.617, 6.613, 6.604, 6.596, 6.592, 6.585, 6.585, 6.581, 6.564, 6.562, 6.557, 6.548, 6.542, 6.538, 6.534, 6.525, 6.524, 6.509, 6.501, 6.497, 6.492, 6.491, 6.489, 6.488, 6.48, 6.471, 6.469, 6.469, 6.461, 6.452, 6.452, 6.45, 6.449, 6.447, 6.43, 6.43, 6.43, 6.426, 6.422, 6.418, 6.418, 6.417, 6.417, 6.415, 6.412, 6.412, 6.404, 6.394, 6.392, 6.392, 6.39, 6.38, 6.378, 6.375, 6.37, 6.363, 6.361, 6.358, 6.356, 6.353, 6.351, 6.349, 6.347, 6.339, 6.335, 6.335, 6.335, 6.326, 6.323, 6.319, 6.308, 6.306, 6.304, 6.293, 6.29, 6.273, 6.267, 6.265, 6.256, 6.252, 6.25, 6.248, 6.242, 6.242, 6.236, 6.234, 6.234, 6.229, 6.227, 6.217, 6.215, 6.207, 6.198, 6.196, 6.196, 6.194, 9.395, 6.19, 6.188, 6.188, 6.174, 6.168, 6.165, 6.165, 6.165, 6.163, 6.163, 6.161, 6.159, 6.155, 6.155, 6.153, 6.146, 6.146, 6.144, 6.136, 6.131, 6.129, 6.127, 6.125, 6.122, 6.12, 6.109, 6.105, 6.103, 6.1, 6.094, 6.094, 6.094, 6.084, 6.084, 6.082, 6.078, 6.073, 6.071, 6.064, 6.059, 6.057, 6.057, 6.05, 6.047, 6.043, 6.043, 6.04, 6.038, 6.033, 6.021, 6.447, 6.016, 6.001, 6.001, 5.996, 5.994, 5.989, 5.984, 5.981, 5.979, 5.956, 5.956, 5.953, 5.953, 5.945, 5.943, 2.996, 5.932, 5.927, 5.916, 5.916, 5.911, 5.911, 5.911, 5.908, 5.908, 5.905, 5.894, 5.894, 5.886, 5.878, 5.875, 5.872, 5.869, 5.864, 5.861, 5.855, 5.846, 5.844, 5.838, 5.835, 5.835, 5.832, 5.829, 5.829, 5.826, 5.823, 5.814, 5.808, 5.802, 5.796, 5.79, 5.787, 5.778, 5.778, 5.775, 5.775, 5.775, 5.749, 5.74, 5.73, 5.727, 5.727, 5.724, 5.714, 5.714, 5.714, 5.71, 5.71, 5.707, 5.7, 5.697, 5.697, 5.694, 5.694, 5.69, 5.687, 5.663, 5.659, 5.659, 5.659, 5.652, 5.649, 5.649, 5.649, 5.649, 5.649, 5.645, 5.642, 5.642, 5.635, 5.62, 5.613, 5.602, 5.598, 5.598, 5.591, 5.591, 5.587, 5.587, 5.583, 5.58, 5.568, 5.565, 6.39, 5.561, 5.557, 5.557, 5.553, 5.549, 5.537, 5.529, 5.529, 5.529, 5.525, 5.517, 5.517, 5.517, 5.513, 5.509, 5.509, 5.505, 5.505, 5.505, 5.501, 5.497, 5.493, 5.493, 5.489, 5.481, 5.476, 5.468, 5.464, 5.464, 5.455, 5.455, 5.451, 5.451, 5.447, 5.442, 5.442, 5.442, 5.442, 5.438, 5.438, 5.429, 5.421, 5.421, 5.416, 5.412, 5.412, 5.412, 5.407, 5.403, 5.403, 5.403, 5.398, 5.398, 5.389, 5.384, 5.384, 5.384, 5.384, 5.38, 5.38, 5.38, 5.371, 5.366, 5.366, 5.366, 5.352, 5.347, 5.347, 5.347, 5.342, 5.338, 5.338, 5.333, 5.328, 5.323, 5.318, 5.313, 5.313, 5.313, 5.308, 5.303, 5.298, 5.298, 5.293, 5.288, 5.283, 5.283, 5.283, 5.283, 5.278, 5.278, 5.278, 5.278, 5.273, 5.268, 5.268, 5.263, 5.252, 5.252, 5.247, 5.242, 5.242, 5.242, 5.242, 5.236, 5.236, 5.236, 5.231, 5.226, 5.22, 5.215, 5.215, 5.215, 5.209, 5.209, 5.204, 5.198, 5.193, 5.187, 5.187, 5.187, 5.187, 5.182, 5.182, 5.176, 5.176, 5.176, 5.17, 5.165, 5.159, 5.159, 5.153, 5.153, 5.147, 5.147, 5.147, 5.142, 5.142, 5.142, 5.142, 5.136, 5.136, 5.136, 5.124, 5.124, 5.118, 5.118, 5.112, 5.106, 5.106, 5.106, 5.106, 5.1, 5.1, 5.094, 5.094, 5.094, 5.094, 5.094, 5.094, 5.094, 3.135, 5.088, 5.088, 5.081, 5.075, 5.075, 5.069, 5.069, 5.063, 5.063, 5.056, 5.056, 5.05, 5.05, 5.05, 5.043, 5.043, 5.043, 5.043, 5.043, 5.037, 5.03, 5.024, 5.017, 5.017, 5.011, 5.011, 5.727, 5.004, 5.004, 5.004, 4.997, 4.997, 4.997, 4.99, 4.99, 4.99, 4.984, 4.984, 4.984, 4.977, 4.977, 4.977, 4.97, 4.97, 4.97, 4.963, 4.963, 4.963, 4.956, 4.956, 4.949, 4.949, 4.949, 4.949, 4.949, 4.942, 4.942, 4.942, 4.942, 4.934, 4.934, 4.927, 4.927, 4.927, 4.913, 4.913, 4.913, 4.905, 4.905, 4.905, 4.898, 4.89, 4.89, 4.89, 3.526, 4.883, 4.875, 4.868, 4.868, 4.86, 4.86, 4.86, 4.86, 4.86, 4.852, 4.852, 4.852, 4.852, 4.852, 4.852, 4.852, 4.852, 4.852, 4.844, 4.844, 4.844, 4.844, 4.844, 4.836, 4.836, 4.836, 4.836, 4.828, 4.828, 4.828, 4.828, 4.828, 4.828, 4.828, 4.82, 5.7, 4.82, 4.82, 4.82, 4.82, 4.812, 4.804, 4.804, 4.804, 4.804, 4.804, 4.796, 4.796, 4.796, 4.796, 4.787, 4.787, 4.771, 4.771, 4.771, 4.771, 4.771, 4.771, 4.762, 4.762, 4.762, 4.762, 4.762, 4.762, 4.762, 4.754, 4.754, 4.754, 4.745, 4.745, 4.736, 4.736, 4.736, 4.718, 4.718, 4.718, 4.718, 4.71, 4.71, 4.71, 4.71, 4.71, 4.71, 4.7, 4.7, 4.7, 4.7, 4.7, 4.7, 4.7, 4.691, 4.691, 4.691, 4.691, 4.691, 4.691, 4.691, 4.691, 4.682, 4.682, 4.682, 4.682, 4.682, 4.682, 4.673, 4.673, 4.673, 4.673, 4.673, 4.663, 4.663, 4.654, 4.654, 4.654, 4.654, 4.654, 4.644, 4.644, 4.644, 4.644, 4.635, 4.635, 4.635, 4.635, 4.635, 4.635, 4.635, 4.635, 4.625, 4.625, 4.625, 4.625, 4.625, 4.625, 4.625, 4.625, 4.625, 4.615, 4.615, 4.615, 4.615, 4.605, 4.605, 4.605, 4.605, 4.595, 4.595, 4.595, 4.595, 4.595, 4.595, 4.595, 4.585, 4.585, 4.585, 4.585, 4.585, 4.575, 4.575, 4.575, 4.575, 4.575, 4.564, 4.564, 4.564, 4.564, 4.564, 4.554, 4.554, 4.554, 4.554, 4.554, 4.554, 4.554, 4.543, 4.543, 4.543, 4.543, 4.543, 4.533, 4.533, 4.533, 4.533, 4.533, 4.522, 4.522, 4.522, 4.522, 4.522, 4.522, 4.522, 4.511, 4.511, 4.511, 4.511, 4.511, 4.5, 4.5, 4.5, 4.5, 4.5, 4.5, 4.5, 4.5, 4.489, 4.489, 4.489, 4.489, 4.489, 4.477, 4.477, 4.477, 4.477, 4.477, 4.477, 4.477, 4.466, 4.466, 4.466, 4.466, 4.454, 4.454, 4.454, 4.454, 4.443, 4.443, 4.443, 4.443, 2.89, 4.443, 4.443, 4.431, 4.431, 4.431, 4.419, 4.419, 4.419, 4.419, 4.419, 4.407, 4.407, 4.407, 4.407, 4.407, 4.394, 4.394, 4.394, 4.394, 4.394, 4.394, 4.394, 4.394, 4.394, 4.394, 4.394, 4.394, 4.382, 4.382, 4.382, 4.382, 4.369, 4.369, 4.369, 4.369, 4.369, 4.369, 4.369, 4.357, 4.357, 4.357, 4.357, 4.357, 4.357, 4.357, 4.357, 4.344, 4.344, 4.344, 4.344, 4.344, 4.344, 4.344, 4.331, 4.331, 4.331, 4.331, 4.331, 4.331, 4.331, 4.331, 4.317, 4.304, 4.304, 4.304, 4.304, 4.304, 4.304, 4.304, 4.304, 4.304, 4.29, 4.29, 4.29, 4.29, 4.29, 4.29, 4.29, 4.29, 4.29, 4.29, 4.29, 4.29, 4.29, 4.29, 4.277, 4.277, 4.277, 4.277, 4.277, 4.277, 4.277, 4.263, 4.263, 4.263, 4.263, 4.263, 4.248, 6.673, 4.248, 4.248, 4.248, 4.234, 4.234, 4.234, 4.234, 4.22, 4.22, 4.22, 4.22, 4.22, 4.22, 4.22, 4.22, 4.22, 4.205, 4.205, 4.205, 4.205, 4.205, 4.205, 4.205, 4.205, 4.205, 4.205, 4.205, 4.19, 4.19, 4.19, 4.19, 4.19, 4.19, 4.19, 4.174, 4.174, 4.174, 4.174, 4.159, 4.159, 4.159, 4.159, 4.159, 4.159, 4.143, 4.143, 4.143, 4.143, 4.143, 4.143, 4.143, 4.127, 4.111, 4.111, 4.111, 4.111, 4.111, 4.111, 4.111, 4.111, 4.094, 4.094, 4.094, 4.094, 4.094, 4.094, 4.094, 4.094, 4.094, 4.094, 4.078, 4.078, 4.078, 4.078, 4.078, 4.078, 4.078, 4.078, 4.078, 4.078, 4.078, 4.06, 4.06, 4.06, 4.06, 4.06, 4.06, 4.06, 4.06, 4.06, 4.043, 4.043, 4.043, 4.043, 4.043, 4.025, 4.025, 4.025, 4.025, 4.025, 4.025, 4.025, 4.025, 4.025, 4.007, 4.007, 4.007, 4.007, 4.007, 4.007, 4.007, 4.007, 4.007, 4.007, 3.989, 3.989, 3.989, 3.989, 3.989, 3.989, 3.989, 3.97, 3.97, 3.97, 3.97, 3.97, 3.97, 3.97, 3.97, 3.97, 3.97, 3.97, 3.97, 3.97, 3.951, 3.951, 3.951, 3.951, 3.951, 3.951, 3.951, 3.951, 3.951, 3.951, 3.932, 3.932, 3.932, 3.932, 3.932, 3.932, 3.932, 3.932, 3.932, 3.932, 3.912, 3.912, 3.912, 3.912, 3.912, 3.912, 3.912, 3.892, 3.892, 3.892, 3.892, 3.892, 3.892, 3.892, 3.892, 3.871, 3.871, 3.871, 3.871, 3.871, 3.85, 3.85, 3.85, 3.85, 3.85, 3.85, 3.85, 3.85, 3.85, 3.85, 3.85, 3.85, 3.829, 3.829, 3.829, 4.234, 3.829, 3.829, 3.829, 3.829, 3.829, 3.829, 3.807, 3.807, 3.807, 3.807, 3.807, 3.807, 3.784, 3.784, 3.784, 3.784, 3.784, 3.784, 3.784, 3.761, 3.761, 3.761, 3.761, 3.761, 3.761, 3.761, 3.761, 3.761, 3.761, 3.738, 3.738, 3.738, 3.738, 3.738, 3.738, 3.738, 3.714, 3.714, 3.714, 3.714, 3.714, 3.689, 3.689, 3.689, 3.689, 3.689, 3.689, 3.689, 3.689, 3.689, 3.689, 3.664, 3.664, 3.664, 3.664, 3.664, 3.664, 3.664, 3.664, 3.664, 3.664, 3.664, 3.638, 3.638, 3.638, 3.638, 3.638, 3.638, 3.638, 3.638, 3.638, 3.638, 3.638, 3.638, 3.638, 3.638, 3.638, 3.638, 3.611, 3.611, 3.611, 3.611, 3.611, 3.611, 3.611, 3.611, 3.611, 3.611, 3.611, 3.611, 3.584, 3.584, 3.584, 3.584, 3.584, 3.584, 3.584, 3.555, 3.555, 3.555, 3.555, 3.555, 3.555, 3.555, 3.555, 3.555, 3.555, 3.555, 3.555, 3.555, 3.555, 3.555, 4.949, 3.526, 3.526, 3.497, 3.497, 3.497, 3.497, 3.497, 3.497, 3.497, 3.497, 3.497, 3.497, 3.497, 3.466, 3.466, 3.466, 3.466, 3.434, 3.434, 3.434, 3.434, 3.434, 3.434, 3.434, 3.434, 3.434, 3.434, 3.434, 3.434, 3.434, 3.401, 3.401, 3.401, 3.401, 3.401, 3.401, 3.401, 3.401, 3.401, 3.367, 3.367, 3.367, 3.367, 3.367, 3.332, 3.332, 3.332, 3.332, 3.332, 3.332, 3.332, 3.332, 3.332, 3.332, 3.332, 3.332, 3.332, 3.296, 3.296, 3.296, 3.296, 3.296, 3.296, 3.296, 3.296, 3.296, 3.296, 3.258, 3.258, 3.258, 3.258, 3.258, 3.258, 3.258, 3.258, 3.219, 3.219, 3.219, 3.219, 3.219, 3.219, 3.219, 3.219, 3.178, 3.178, 3.178, 3.178, 3.178, 3.178, 3.178, 3.178, 3.178, 3.178, 3.178, 3.135, 3.135, 3.135, 3.135, 3.135, 3.135, 3.135, 3.135, 3.135, 3.135, 3.135, 3.135, 3.135, 3.135, 3.091, 3.091, 3.091, 3.091, 3.091, 3.091, 3.091, 3.091, 3.091, 3.091, 3.091, 3.091, 3.091, 3.091, 3.091, 3.091, 3.091, 3.091, 3.091, 3.091, 3.091, 3.045, 3.045, 3.045, 3.045, 3.045, 3.045, 3.045, 3.045, 3.045, 3.045, 3.045, 3.045, 2.996, 4.635, 2.996, 2.996, 2.996, 2.996, 2.996, 6.19, 2.996, 2.996, 2.996, 2.996, 2.944, 2.944, 2.944, 2.944, 2.944, 2.944, 2.944, 2.944, 2.944, 2.944, 2.944, 2.944, 2.944, 2.944, 2.89, 2.89, 2.89, 2.89, 2.89, 2.89, 2.89, 2.89, 2.89, 2.89, 2.89, 2.89, 2.89, 2.89, 2.89, 2.89, 2.89, 2.833, 5.602, 2.833, 2.833, 2.833, 2.833, 2.833, 2.833, 2.833, 2.833, 2.833, 2.833, 2.833, 2.833, 2.833, 2.833, 2.773, 2.773, 2.773, 2.773, 2.773, 2.773, 2.773, 2.773, 2.773, 2.773, 2.773, 2.773, 2.773, 2.773, 2.773, 2.773, 2.773, 2.773, 2.773, 2.708, 2.708, 2.708, 2.708, 2.708, 2.708, 2.708, 2.708, 2.708, 2.708, 2.708, 2.708, 2.708, 2.708, 2.708, 2.708, 2.708, 2.708, 2.708, 2.708, 2.708, 2.639, 2.639, 2.639, 2.639, 2.639, 2.639, 2.639, 2.639, 2.639, 2.639, 2.639, 2.639, 2.639, 2.639, 2.639, 2.639, 2.565, 2.565, 2.565, 2.565, 2.565, 2.565, 2.565, 2.565, 2.565, 2.565, 2.565, 2.565, 2.565, 2.565, 2.565, 2.565, 2.565, 2.565, 2.485, 2.485, 2.485, 2.485, 2.485, 2.485, 2.485, 2.485, 2.485, 2.485, 2.485, 2.485, 2.485, 2.485, 2.485, 2.485, 2.485, 2.485, 2.398, 2.398, 7.997, 2.398, 2.398, 2.398, 2.398, 2.398, 2.398, 2.398, 2.398, 2.398, 2.398, 2.398, 2.398, 2.398, 2.398, 2.303, 2.303, 2.303, 2.303, 2.303, 2.303, 2.303, 2.303, 2.303, 2.303, 2.303, 2.303, 2.303, 2.303, 2.303, 2.303, 2.303, 2.303, 2.303, 2.303, 2.303, 2.303, 2.303, 2.303, 2.303, 2.303, 2.303, 2.303, 2.303, 2.197, 2.197, 2.197, 2.197, 2.197, 2.197, 2.197, 2.197, 2.197, 2.197, 2.197, 2.197, 2.197, 2.197, 2.079, 2.079, 2.079, 2.079, 2.079, 2.079, 2.079, 2.079, 2.079, 2.079, 2.079, 2.079, 2.079, 1.946, 1.946, 1.946, 1.946, 1.946, 1.946, 1.946, 1.946, 1.946, 1.946, 1.946, 1.946, 1.946, 1.946, 1.946, 1.946, 1.946, 1.946, 1.946, 1.946, 1.946, 1.946, 1.946, 1.946, 1.792, 1.792, 1.792, 1.792, 1.792, 1.792, 1.792, 1.792, 1.792, 1.792, 1.792, 1.792, 1.792, 1.792, 1.792, 1.792, 1.792, 1.792, 1.792, 1.792, 1.792, 1.792, 1.792, 1.792, 1.792, 1.792, 1.792, 1.792, 1.792, 1.792, 1.609, 1.609, 1.609, 1.609, 1.609, 1.609, 1.609, 1.609, 1.609, 1.609, 1.609, 1.609, 1.609, 1.609, 1.609, 1.609, 1.609, 1.609, 1.609, 1.609, 1.609, 1.609, 1.609, 1.609, 1.609, 1.609, 1.386, 1.386, 1.386, 1.386, 1.386, 1.386, 1.386, 1.386, 1.386, 1.386, 1.386, 3.091, 1.386, 1.386, 1.386, 1.386, 1.386, 1.386, 1.386, 1.386, 1.386, 1.386, 1.386, 1.386, 1.386, 1.386, 1.386, 1.386, 1.386, 1.386, 5.011, 1.099, 1.099, 1.099, 1.099, 1.099, 1.099, 1.099, 1.099, 1.099, 1.099, 1.099, 1.099, 1.099, 1.099, 1.099, 1.099, 1.099, 1.099, 1.099, 1.099, 1.099, 1.099, 1.099, 1.099, 1.099, 1.099, 1.099, 1.099, 1.099, 1.099, 1.099, 1.099, 1.099, 1.099, 1.099, 1.099, 1.099, 1.099, 1.099, 1.099, 1.099, 1.099, 1.099, 1.099, 1.099, 1.099, 1.099], \"y0\": \" \", \"yaxis\": \"y\"}],\n",
              "                        {\"boxmode\": \"group\", \"legend\": {\"tracegroupgap\": 0}, \"margin\": {\"t\": 60}, \"template\": {\"data\": {\"bar\": [{\"error_x\": {\"color\": \"#2a3f5f\"}, \"error_y\": {\"color\": \"#2a3f5f\"}, \"marker\": {\"line\": {\"color\": \"#E5ECF6\", \"width\": 0.5}}, \"type\": \"bar\"}], \"barpolar\": [{\"marker\": {\"line\": {\"color\": \"#E5ECF6\", \"width\": 0.5}}, \"type\": \"barpolar\"}], \"carpet\": [{\"aaxis\": {\"endlinecolor\": \"#2a3f5f\", \"gridcolor\": \"white\", \"linecolor\": \"white\", \"minorgridcolor\": \"white\", \"startlinecolor\": \"#2a3f5f\"}, \"baxis\": {\"endlinecolor\": \"#2a3f5f\", \"gridcolor\": \"white\", \"linecolor\": \"white\", \"minorgridcolor\": \"white\", \"startlinecolor\": \"#2a3f5f\"}, \"type\": \"carpet\"}], \"choropleth\": [{\"colorbar\": {\"outlinewidth\": 0, \"ticks\": \"\"}, \"type\": \"choropleth\"}], \"contour\": [{\"colorbar\": {\"outlinewidth\": 0, \"ticks\": \"\"}, \"colorscale\": [[0.0, \"#0d0887\"], [0.1111111111111111, \"#46039f\"], [0.2222222222222222, \"#7201a8\"], [0.3333333333333333, \"#9c179e\"], [0.4444444444444444, \"#bd3786\"], [0.5555555555555556, \"#d8576b\"], [0.6666666666666666, \"#ed7953\"], [0.7777777777777778, \"#fb9f3a\"], [0.8888888888888888, \"#fdca26\"], [1.0, \"#f0f921\"]], \"type\": \"contour\"}], \"contourcarpet\": [{\"colorbar\": {\"outlinewidth\": 0, \"ticks\": \"\"}, \"type\": \"contourcarpet\"}], \"heatmap\": [{\"colorbar\": {\"outlinewidth\": 0, \"ticks\": \"\"}, \"colorscale\": [[0.0, \"#0d0887\"], [0.1111111111111111, \"#46039f\"], [0.2222222222222222, \"#7201a8\"], [0.3333333333333333, \"#9c179e\"], [0.4444444444444444, \"#bd3786\"], [0.5555555555555556, \"#d8576b\"], [0.6666666666666666, \"#ed7953\"], [0.7777777777777778, \"#fb9f3a\"], [0.8888888888888888, \"#fdca26\"], [1.0, \"#f0f921\"]], \"type\": \"heatmap\"}], \"heatmapgl\": [{\"colorbar\": {\"outlinewidth\": 0, \"ticks\": \"\"}, \"colorscale\": [[0.0, \"#0d0887\"], [0.1111111111111111, \"#46039f\"], [0.2222222222222222, \"#7201a8\"], [0.3333333333333333, \"#9c179e\"], [0.4444444444444444, \"#bd3786\"], [0.5555555555555556, \"#d8576b\"], [0.6666666666666666, \"#ed7953\"], [0.7777777777777778, \"#fb9f3a\"], [0.8888888888888888, \"#fdca26\"], [1.0, \"#f0f921\"]], \"type\": \"heatmapgl\"}], \"histogram\": [{\"marker\": {\"colorbar\": {\"outlinewidth\": 0, \"ticks\": \"\"}}, \"type\": \"histogram\"}], \"histogram2d\": [{\"colorbar\": {\"outlinewidth\": 0, \"ticks\": \"\"}, \"colorscale\": [[0.0, \"#0d0887\"], [0.1111111111111111, \"#46039f\"], [0.2222222222222222, \"#7201a8\"], [0.3333333333333333, \"#9c179e\"], [0.4444444444444444, \"#bd3786\"], [0.5555555555555556, \"#d8576b\"], [0.6666666666666666, \"#ed7953\"], [0.7777777777777778, \"#fb9f3a\"], [0.8888888888888888, \"#fdca26\"], [1.0, \"#f0f921\"]], \"type\": \"histogram2d\"}], \"histogram2dcontour\": [{\"colorbar\": {\"outlinewidth\": 0, \"ticks\": \"\"}, \"colorscale\": [[0.0, \"#0d0887\"], [0.1111111111111111, \"#46039f\"], [0.2222222222222222, \"#7201a8\"], [0.3333333333333333, \"#9c179e\"], [0.4444444444444444, \"#bd3786\"], [0.5555555555555556, \"#d8576b\"], [0.6666666666666666, \"#ed7953\"], [0.7777777777777778, \"#fb9f3a\"], [0.8888888888888888, \"#fdca26\"], [1.0, \"#f0f921\"]], \"type\": \"histogram2dcontour\"}], \"mesh3d\": [{\"colorbar\": {\"outlinewidth\": 0, \"ticks\": \"\"}, \"type\": \"mesh3d\"}], \"parcoords\": [{\"line\": {\"colorbar\": {\"outlinewidth\": 0, \"ticks\": \"\"}}, \"type\": \"parcoords\"}], \"pie\": [{\"automargin\": true, \"type\": \"pie\"}], \"scatter\": [{\"marker\": {\"colorbar\": {\"outlinewidth\": 0, \"ticks\": \"\"}}, \"type\": \"scatter\"}], \"scatter3d\": [{\"line\": {\"colorbar\": {\"outlinewidth\": 0, \"ticks\": \"\"}}, \"marker\": {\"colorbar\": {\"outlinewidth\": 0, \"ticks\": \"\"}}, \"type\": \"scatter3d\"}], \"scattercarpet\": [{\"marker\": {\"colorbar\": {\"outlinewidth\": 0, \"ticks\": \"\"}}, \"type\": \"scattercarpet\"}], \"scattergeo\": [{\"marker\": {\"colorbar\": {\"outlinewidth\": 0, \"ticks\": \"\"}}, \"type\": \"scattergeo\"}], \"scattergl\": [{\"marker\": {\"colorbar\": {\"outlinewidth\": 0, \"ticks\": \"\"}}, \"type\": \"scattergl\"}], \"scattermapbox\": [{\"marker\": {\"colorbar\": {\"outlinewidth\": 0, \"ticks\": \"\"}}, \"type\": \"scattermapbox\"}], \"scatterpolar\": [{\"marker\": {\"colorbar\": {\"outlinewidth\": 0, \"ticks\": \"\"}}, \"type\": \"scatterpolar\"}], \"scatterpolargl\": [{\"marker\": {\"colorbar\": {\"outlinewidth\": 0, \"ticks\": \"\"}}, \"type\": \"scatterpolargl\"}], \"scatterternary\": [{\"marker\": {\"colorbar\": {\"outlinewidth\": 0, \"ticks\": \"\"}}, \"type\": \"scatterternary\"}], \"surface\": [{\"colorbar\": {\"outlinewidth\": 0, \"ticks\": \"\"}, \"colorscale\": [[0.0, \"#0d0887\"], [0.1111111111111111, \"#46039f\"], [0.2222222222222222, \"#7201a8\"], [0.3333333333333333, \"#9c179e\"], [0.4444444444444444, \"#bd3786\"], [0.5555555555555556, \"#d8576b\"], [0.6666666666666666, \"#ed7953\"], [0.7777777777777778, \"#fb9f3a\"], [0.8888888888888888, \"#fdca26\"], [1.0, \"#f0f921\"]], \"type\": \"surface\"}], \"table\": [{\"cells\": {\"fill\": {\"color\": \"#EBF0F8\"}, \"line\": {\"color\": \"white\"}}, \"header\": {\"fill\": {\"color\": \"#C8D4E3\"}, \"line\": {\"color\": \"white\"}}, \"type\": \"table\"}]}, \"layout\": {\"annotationdefaults\": {\"arrowcolor\": \"#2a3f5f\", \"arrowhead\": 0, \"arrowwidth\": 1}, \"coloraxis\": {\"colorbar\": {\"outlinewidth\": 0, \"ticks\": \"\"}}, \"colorscale\": {\"diverging\": [[0, \"#8e0152\"], [0.1, \"#c51b7d\"], [0.2, \"#de77ae\"], [0.3, \"#f1b6da\"], [0.4, \"#fde0ef\"], [0.5, \"#f7f7f7\"], [0.6, \"#e6f5d0\"], [0.7, \"#b8e186\"], [0.8, \"#7fbc41\"], [0.9, \"#4d9221\"], [1, \"#276419\"]], \"sequential\": [[0.0, \"#0d0887\"], [0.1111111111111111, \"#46039f\"], [0.2222222222222222, \"#7201a8\"], [0.3333333333333333, \"#9c179e\"], [0.4444444444444444, \"#bd3786\"], [0.5555555555555556, \"#d8576b\"], [0.6666666666666666, \"#ed7953\"], [0.7777777777777778, \"#fb9f3a\"], [0.8888888888888888, \"#fdca26\"], [1.0, \"#f0f921\"]], \"sequentialminus\": [[0.0, \"#0d0887\"], [0.1111111111111111, \"#46039f\"], [0.2222222222222222, \"#7201a8\"], [0.3333333333333333, \"#9c179e\"], [0.4444444444444444, \"#bd3786\"], [0.5555555555555556, \"#d8576b\"], [0.6666666666666666, \"#ed7953\"], [0.7777777777777778, \"#fb9f3a\"], [0.8888888888888888, \"#fdca26\"], [1.0, \"#f0f921\"]]}, \"colorway\": [\"#636efa\", \"#EF553B\", \"#00cc96\", \"#ab63fa\", \"#FFA15A\", \"#19d3f3\", \"#FF6692\", \"#B6E880\", \"#FF97FF\", \"#FECB52\"], \"font\": {\"color\": \"#2a3f5f\"}, \"geo\": {\"bgcolor\": \"white\", \"lakecolor\": \"white\", \"landcolor\": \"#E5ECF6\", \"showlakes\": true, \"showland\": true, \"subunitcolor\": \"white\"}, \"hoverlabel\": {\"align\": \"left\"}, \"hovermode\": \"closest\", \"mapbox\": {\"style\": \"light\"}, \"paper_bgcolor\": \"white\", \"plot_bgcolor\": \"#E5ECF6\", \"polar\": {\"angularaxis\": {\"gridcolor\": \"white\", \"linecolor\": \"white\", \"ticks\": \"\"}, \"bgcolor\": \"#E5ECF6\", \"radialaxis\": {\"gridcolor\": \"white\", \"linecolor\": \"white\", \"ticks\": \"\"}}, \"scene\": {\"xaxis\": {\"backgroundcolor\": \"#E5ECF6\", \"gridcolor\": \"white\", \"gridwidth\": 2, \"linecolor\": \"white\", \"showbackground\": true, \"ticks\": \"\", \"zerolinecolor\": \"white\"}, \"yaxis\": {\"backgroundcolor\": \"#E5ECF6\", \"gridcolor\": \"white\", \"gridwidth\": 2, \"linecolor\": \"white\", \"showbackground\": true, \"ticks\": \"\", \"zerolinecolor\": \"white\"}, \"zaxis\": {\"backgroundcolor\": \"#E5ECF6\", \"gridcolor\": \"white\", \"gridwidth\": 2, \"linecolor\": \"white\", \"showbackground\": true, \"ticks\": \"\", \"zerolinecolor\": \"white\"}}, \"shapedefaults\": {\"line\": {\"color\": \"#2a3f5f\"}}, \"ternary\": {\"aaxis\": {\"gridcolor\": \"white\", \"linecolor\": \"white\", \"ticks\": \"\"}, \"baxis\": {\"gridcolor\": \"white\", \"linecolor\": \"white\", \"ticks\": \"\"}, \"bgcolor\": \"#E5ECF6\", \"caxis\": {\"gridcolor\": \"white\", \"linecolor\": \"white\", \"ticks\": \"\"}}, \"title\": {\"x\": 0.05}, \"xaxis\": {\"automargin\": true, \"gridcolor\": \"white\", \"linecolor\": \"white\", \"ticks\": \"\", \"title\": {\"standoff\": 15}, \"zerolinecolor\": \"white\", \"zerolinewidth\": 2}, \"yaxis\": {\"automargin\": true, \"gridcolor\": \"white\", \"linecolor\": \"white\", \"ticks\": \"\", \"title\": {\"standoff\": 15}, \"zerolinecolor\": \"white\", \"zerolinewidth\": 2}}}, \"xaxis\": {\"anchor\": \"y\", \"domain\": [0.0, 1.0], \"title\": {\"text\": \"GENRE\"}}, \"yaxis\": {\"anchor\": \"x\", \"domain\": [0.0, 1.0], \"title\": {\"text\": \"Log_VALUE\"}}},\n",
              "                        {\"responsive\": true}\n",
              "                    ).then(function(){\n",
              "                            \n",
              "var gd = document.getElementById('a298c09f-d458-4faf-b1f3-f94d0d051326');\n",
              "var x = new MutationObserver(function (mutations, observer) {{\n",
              "        var display = window.getComputedStyle(gd).display;\n",
              "        if (!display || display === 'none') {{\n",
              "            console.log([gd, 'removed!']);\n",
              "            Plotly.purge(gd);\n",
              "            observer.disconnect();\n",
              "        }}\n",
              "}});\n",
              "\n",
              "// Listen for the removal of the full notebook cells\n",
              "var notebookContainer = gd.closest('#notebook-container');\n",
              "if (notebookContainer) {{\n",
              "    x.observe(notebookContainer, {childList: true});\n",
              "}}\n",
              "\n",
              "// Listen for the clearing of the current output cell\n",
              "var outputEl = gd.closest('.output');\n",
              "if (outputEl) {{\n",
              "    x.observe(outputEl, {childList: true});\n",
              "}}\n",
              "\n",
              "                        })\n",
              "                };\n",
              "                \n",
              "            </script>\n",
              "        </div>\n",
              "</body>\n",
              "</html>"
            ]
          },
          "metadata": {
            "tags": []
          }
        }
      ]
    },
    {
      "cell_type": "markdown",
      "metadata": {
        "id": "pLa7t2u7vvxa"
      },
      "source": [
        "**| 장르별 IMDB 점수 분포**"
      ]
    },
    {
      "cell_type": "code",
      "metadata": {
        "colab": {
          "base_uri": "https://localhost:8080/",
          "height": 542
        },
        "id": "kdpPUhKwu768",
        "outputId": "c7647a6f-f929-40ac-dd35-a3a231bdcc7a"
      },
      "source": [
        "fig = px.box(movie_base, x=\"GENRE\", y=\"IMDb_Score\", hover_name='Title')\n",
        "fig.show()"
      ],
      "execution_count": 44,
      "outputs": [
        {
          "output_type": "display_data",
          "data": {
            "text/html": [
              "<html>\n",
              "<head><meta charset=\"utf-8\" /></head>\n",
              "<body>\n",
              "    <div>\n",
              "            <script src=\"https://cdnjs.cloudflare.com/ajax/libs/mathjax/2.7.5/MathJax.js?config=TeX-AMS-MML_SVG\"></script><script type=\"text/javascript\">if (window.MathJax) {MathJax.Hub.Config({SVG: {font: \"STIX-Web\"}});}</script>\n",
              "                <script type=\"text/javascript\">window.PlotlyConfig = {MathJaxConfig: 'local'};</script>\n",
              "        <script src=\"https://cdn.plot.ly/plotly-latest.min.js\"></script>    \n",
              "            <div id=\"bc814d95-6eb9-4aac-9bb3-dffc0569b5b3\" class=\"plotly-graph-div\" style=\"height:525px; width:100%;\"></div>\n",
              "            <script type=\"text/javascript\">\n",
              "                \n",
              "                    window.PLOTLYENV=window.PLOTLYENV || {};\n",
              "                    \n",
              "                if (document.getElementById(\"bc814d95-6eb9-4aac-9bb3-dffc0569b5b3\")) {\n",
              "                    Plotly.newPlot(\n",
              "                        'bc814d95-6eb9-4aac-9bb3-dffc0569b5b3',\n",
              "                        [{\"alignmentgroup\": \"True\", \"hoverlabel\": {\"namelength\": 0}, \"hovertemplate\": \"<b>%{hovertext}</b><br><br>GENRE=%{x}<br>IMDb_Score=%{y}\", \"hovertext\": [\"365days\", \"enolaholmes\", \"thechristmaschroniclesparttwo\", \"holidate\", \"theoldguard\", \"thesocialdilemma\", \"projectpower\", \"thespongebobmoviespongeontherun\", \"thekissingbooth2\", \"hubiehalloween\", \"overthemoon\", \"acaliforniachristmas\", \"break\", \"thedevilallthetime\", \"workit\", \"loveguaranteed\", \"americanmurderthefamilynextdoor\", \"feelthebeat\", \"thechristmaschronicles\", \"theprincessswitchswitchedagain\", \"operationchristmasdrop\", \"thesleepover\", \"thewrongmissy\", \"rebecca\", \"themidnightsky\", \"howthegrinchstolechristmas\", \"thebabysitterkillerqueen\", \"mosul\", \"theparamedic\", \"theplatform\", \"thekissingbooth\", \"milf\", \"skyscraper\", \"desperados\", \"thelastdaysofamericancrime\", \"thebeast\", \"despicableme2\", \"eurovisionsongcontestthestoryoffiresaga\", \"thewilloughbys\", \"dangerouslies\", \"jinglejangleachristmasjourney\", \"lostbullet\", \"6underground\", \"jurassicworldfallenkingdom\", \"theemojimovie\", \"davidattenboroughalifeonourplanet\", \"theprom\", \"whatmenwant\", \"wecanbeheroes\", \"thetrialofthechicago7\", \"wonder\", \"fatalaffair\", \"secretsofthesaqqaratomb\", \"aneasygirl\", \"ava\", \"loveweddingrepeat\", \"despicableme\", \"santana\", \"ababysittersguidetomonsterhunting\", \"thesecretdaretodream\", \"thehalfofit\", \"johnnyenglishstrikesagain\", \"moneyheistthephenomenon\", \"fiftyshadesfreed\", \"aquaman\", \"da5bloods\", \"petsunited\", \"instantfamily\", \"venom\", \"maliburescuethenextwave\", \"miracleincellno7\", \"blackpinklightupthesky\", \"ifanythinghappensiloveyou\", \"timetrap\", \"furious7\", \"code8\", \"animalcrackers\", \"amillionwaystodieinthewest\", \"dadwanted\", \"theequalizer2\", \"justiceleague\", \"roseisland\", \"themeg\", \"thepurgeanarchy\", \"thelifeahead\", \"midnightatthemagnolia\", \"justanotherchristmas\", \"nightschool\", \"seriouslysingle\", \"thefkitlist\", \"americanassassin\", \"murdermystery\", \"focus\", \"thebossbabygetthatbaby\", \"hoteltransylvania3summervacation\", \"mortalengines\", \"spidermanhomecoming\", \"youvegotthis\", \"intheheartofthesea\", \"christmasmadetoorder\", \"ludo\", \"spidermanintothespiderverse\", \"bumblebee\", \"spenserconfidential\", \"rampage\", \"missionimpossiblefallout\", \"theholiday\", \"arianagrandeexcusemeiloveyou\", \"theprincessswitch\", \"harrypotterandthechamberofsecrets\", \"thefirstpurge\", \"geostorm\", \"safehouse\", \"themainevent\", \"badboysforlife\", \"doubleworld\", \"parker\", \"alltogethernow\", \"jumanjithenextlevel\", \"astarisborn\", \"tammy\", \"hillbillyelegy\", \"siberia\", \"intuition\", \"asimplefavor\", \"earthandblood\", \"escapeplan\", \"bloodshot\", \"pacificrimuprising\", \"lucy\", \"babydriver\", \"cadaver\", \"nobodysleepsinthewoodstonight\", \"crazyrichasians\", \"despicableme3\", \"scoobydoo2monstersunleashed\", \"readyplayerone\", \"deathto2020\", \"norbit\", \"ted\", \"it\", \"waspnetwork\", \"alldayandanight\", \"oceans8\", \"12strong\", \"howtotrainyourdragonthehiddenworld\", \"wonderwoman\", \"becoming\", \"theoccupant\", \"sniperultimatekill\", \"ridealong\", \"torbaaz\", \"blockers\", \"ginnywedssunny\", \"kingarthurlegendofthesword\", \"offeringtothestorm\", \"haveagoodtripadventuresinpsychedelics\", \"johnnyenglishreborn\", \"geminiman\", \"harrypotterandtheprisonerofazkaban\", \"unfriendeddarkweb\", \"upgrade\", \"vacation\", \"savages\", \"thehater\", \"fastfive\", \"imthinkingofendingthings\", \"thecrimesthatbind\", \"tomandjerrythemovie\", \"thenun\", \"theangrybirdsmovie2\", \"thesilenceofthemarsh\", \"thedecline\", \"thelovebirds\", \"spacejam\", \"americansniper\", \"fantasticbeaststhecrimesofgrindelwald\", \"mercuryrising\", \"thelosers\", \"neighbors\", \"battleship\", \"blooddiamond\", \"dunkirk\", \"truthordare\", \"whatwewanted\", \"theimpossible\", \"wanted\", \"the2nd\", \"charliesangels\", \"themask\", \"bladerunner2049\", \"afterwecollided\", \"citation\", \"nomanchesfrida\", \"seriousmen\", \"jumanjiwelcometothejungle\", \"aquietplace\", \"athletea\", \"parasite\", \"hishouse\", \"frompradatonada\", \"doomsday\", \"sniperlegacy\", \"gunjansaxenathekargilgirl\", \"joker\", \"rosariotijeras\", \"grownups\", \"richinlove\", \"18presents\", \"ultras\", \"theinventionoflying\", \"thestandin\", \"charlieandthechocolatefactory\", \"thechangeup\", \"theintern\", \"thewolfofwallstreet\", \"awhiskeraway\", \"jackreacher\", \"iloveyoustupid\", \"classof83\", \"deathwish\", \"gethard\", \"8mile\", \"goinginstyle\", \"hesoutthere\", \"birdsofpreyandthefantabulousemancipationofoneharleyquinn\", \"fatherfigures\", \"shazam\", \"contagion\", \"cuties\", \"denofthieves\", \"recepivedik6\", \"sicariodayofthesoldado\", \"themule\", \"thespongebobsquarepantsmovie\", \"raatakelihai\", \"theirishman\", \"lifeoftheparty\", \"runallnight\", \"jackryanshadowrecruit\", \"slenderman\", \"cloudywithachanceofmeatballs2\", \"thinklikeadog\", \"unknownorigins\", \"gijoeretaliation\", \"assassinscreed\", \"instructionsnotincluded\", \"thespongebobmoviespongeoutofwater\", \"mammamiaherewegoagain\", \"theforeigner\", \"thelegacyofthebones\", \"breakingin\", \"faster\", \"duedate\", \"littleitaly\", \"itchaptertwo\", \"harrypotterandthehalfbloodprince\", \"maryqueenofscots\", \"theninthgate\", \"sing\", \"johnwickchaptertwo\", \"sergio\", \"300riseofanempire\", \"scoobydoo\", \"ovendedordesonhos\", \"contraband\", \"overlord\", \"littlewomen\", \"thelastwitchhunter\", \"harrypotterandthegobletoffire\", \"smallfoot\", \"anna\", \"greenlantern\", \"c\\u00c3\\u00b3momataraunesposomuerto\", \"independencedayresurgence\", \"thedarkknight\", \"tearsofthesun\", \"thehungergames\", \"thesnowman\", \"couplesretreat\", \"thesuit\", \"peppermint\", \"xmenapocalypse\", \"creedii\", \"little\", \"deepbluesea\", \"thebinding\", \"arkansas\", \"solomonkane\", \"unforgettable\", \"theadventuresofsharkboyandlavagirl\", \"notesformyson\", \"happynewyear\", \"thespywhodumpedme\", \"thethieves\", \"thetuxedo\", \"gamenight\", \"theitalianjob\", \"missindia\", \"underthericcionesun\", \"shawnmendesinwonder\", \"worldwarz\", \"escaperoom\", \"madmaxfuryroad\", \"pitchperfect3\", \"downsizing\", \"timetohunt\", \"christmasunderwraps\", \"thefateofthefurious\", \"murdertomercythecyntoiabrownstory\", \"shooter\", \"barbieprincessadventure\", \"fistfight\", \"anelkamisunderstood\", \"unbroken\", \"missbala\", \"alienxmas\", \"godsofegypt\", \"thegambler\", \"hoteltransylvania2\", \"tag\", \"lostgirls\", \"firstman\", \"statusupdate\", \"theequalizer\", \"theplaguesofbreslau\", \"twilight\", \"thedarktower\", \"creed\", \"americanmade\", \"thehungergamescatchingfire\", \"blackandblue\", \"malang\", \"2guns\", \"axl\", \"harrypotterandtheorderofthephoenix\", \"thegentlemen\", \"happydeathday2u\", \"annabellecreation\", \"zombielanddoubletap\", \"tallgirl\", \"peninsula\", \"perdida\", \"theadjustmentbureau\", \"wonderpark\", \"risinghigh\", \"thekingdom\", \"londonhasfallen\", \"extraction\", \"savingprivateryan\", \"missperegrineshomeforpeculiarchildren\", \"thelastairbender\", \"proudmary\", \"chips\", \"angelaschristmaswish\", \"godzillakingofthemonsters\", \"thehungovergames\", \"rocketman\", \"abadmomschristmas\", \"papillon\", \"themanfromuncle\", \"hunterkiller\", \"stateofplay\", \"blended\", \"johnhenry\", \"addicted\", \"homeagain\", \"deliverusfromevil\", \"doublejeopardy\", \"thefastandthefurious\", \"replicas\", \"bulbbul\", \"honestcandidate\", \"johnwickchapter3parabellum\", \"fierce\", \"theshack\", \"thebridgecurse\", \"thelegomovie\", \"gifted\", \"kongskullisland\", \"journey2themysteriousisland\", \"atomicblonde\", \"ghostship\", \"push\", \"roughnight\", \"the1517toparis\", \"thepossessionofhannahgrace\", \"identitythief\", \"themaid\", \"miamibici\", \"killers\", \"sabotage\", \"halloween\", \"magnetic\", \"after\", \"happydeathday\", \"unlocked\", \"akvsak\", \"peterrabbit\", \"fearless\", \"daddyshome2\", \"onewaytotomorrow\", \"aprayerbeforedawn\", \"theplayers\", \"kungfupanda2\", \"thelegomovie2thesecondpart\", \"theclausfamily\", \"bleedingsteel\", \"inception\", \"ifeelpretty\", \"thegreenmile\", \"escapeplan2hades\", \"zodiac\", \"whitechicks\", \"mamasboy\", \"ghostbusters\", \"greenzone\", \"thehousewithaclockinitswalls\", \"klaus\", \"100things\", \"highlowtheworst\", \"sonofadam\", \"windriver\", \"somuchlovetogive\", \"mile22\", \"thebossbaby\", \"loveaajkal\", \"hancock\", \"angelhasfallen\", \"spiritstallionofthecimarron\", \"nosurrender\", \"ladybird\", \"searching\", \"theglasscastle\", \"pok\\u00c3\\u00a9mondetectivepikachu\", \"inheritance\", \"draggedacrossconcrete\", \"fourbrothers\", \"thesmurfs2\", \"thebabysitter\", \"spiritedaway\", \"sanandreas\", \"goosebumps2hauntedhalloween\", \"amanapart\", \"mychristmasinn\", \"adogswayhome\", \"thenextthreedays\", \"traintobusan\", \"aftermath\", \"phantomthread\", \"ghostsofgirlfriendspast\", \"taken3\", \"blackkklansman\", \"neverbackdown2thebeatdown\", \"mechanicresurrection\", \"nowyouseeme\", \"oblivion\", \"stepup\", \"failuretolaunch\", \"batmanvsupermandawnofjustice\", \"yournameengravedherein\", \"suicidesquad\", \"kingsmanthegoldencircle\", \"freewilly\", \"werethemillers\", \"godzilla\", \"myoctopusteacher\", \"minions\", \"cypher\", \"onceuponatimeinhollywood\", \"mother\", \"pixels\", \"drseussthecatinthehat\", \"war\", \"us\", \"petsematary\", \"theaccountant\", \"lowseason\", \"trolls\", \"wildchild\", \"\\u00c5\\u00beensk\\u00c3\\u00a1navrcholu\", \"zengo\", \"friendzone\", \"doctorsleep\", \"turbo\", \"beemovie\", \"ramanraghav20\", \"thelosthusband\", \"brokencity\", \"dragonsrescueridershuttsgalorholiday\", \"scarymovie5\", \"iwanttogetmarried\", \"johnwick\", \"makingunorthodox\", \"thejudge\", \"christmaswonderland\", \"moneyball\", \"dennisthemenace\", \"grownups2\", \"thetown\", \"poseidon\", \"americanpsycho\", \"cargo\", \"kidnap\", \"whyhim\", \"nobodysfool\", \"edgeoftomorrow\", \"crank\", \"themanstandingnext\", \"secondact\", \"warfortheplanetoftheapes\", \"love\", \"constantine\", \"47metersdownuncaged\", \"hitmanagentjun\", \"murderontheorientexpress\", \"cloudywithachanceofmeatballs\", \"deepwaterhorizon\", \"babaparasi\", \"djangounchained\", \"extremelywickedshockinglyevilandvile\", \"indianajonesandthekingdomofthecrystalskull\", \"exodusgodsandkings\", \"laracrofttombraiderthecradleoflife\", \"thelegendoftarzan\", \"upintheair\", \"thehungergamesmockingjaypart1\", \"blackmirrorbandersnatch\", \"darkesthour\", \"actsofviolence\", \"thefounder\", \"comingfrominsanity\", \"gimsontherecord\", \"coldpursuit\", \"miamivice\", \"rambolastblood\", \"fastfuriouspresentshobbsshaw\", \"thegrudge\", \"octonautsthegreatbarrierreef\", \"thelatebloomer\", \"shesoutofmyleague\", \"deepimpact\", \"thefastandthefurioustokyodrift\", \"darkshadows\", \"helios\", \"arewethereyet\", \"paul\", \"queleones\", \"theteacher\", \"chef\", \"rumorhasit\", \"kaalikhuhi\", \"thepantisisters\", \"canyoukeepasecret\", \"whiteboyrick\", \"myspy\", \"theimitationgame\", \"21bridges\", \"athousandwords\", \"eyeswideshut\", \"chappie\", \"thetwilightsagabreakingdawnpart2\", \"andhaghaaram\", \"annabellecomeshome\", \"flatliners\", \"thespynextdoor\", \"whatdidimess\", \"motherlessbrooklyn\", \"inthedeep\", \"knivesout\", \"atrashtruckchristmas\", \"politics\", \"theangrybirdsmovie\", \"conanthebarbarian\", \"theinformer\", \"inglouriousbasterds\", \"truefriendshipday\", \"theprince\", \"hulk\", \"keepalidonit\", \"1917\", \"devil\", \"lovehappens\", \"superfly\", \"backtothefuture\", \"scarystoriestotellinthedark\", \"swatundersiege\", \"tazzaoneeyedjack\", \"monsterinlaw\", \"preciouscargo\", \"eatpraylove\", \"thetwilightsaganewmoon\", \"thescorpionking\", \"laraandthebeat\", \"curseofchucky\", \"the5thwave\", \"daylight\", \"traumacenter\", \"meninblackinternational\", \"17again\", \"iseeyou\", \"mrbeansholiday\", \"beforeigotosleep\", \"intheshadowofiris\", \"welcome\", \"theglasshouse\", \"beforeiwake\", \"rocknrolla\", \"ghostsofwar\", \"officechristmasparty\", \"batmanbegins\", \"thehangover\", \"jupiterascending\", \"maniyarayileashokan\", \"steelrain\", \"split\", \"terminatorgenisys\", \"littlefeather\", \"annabelle\", \"hotelartemis\", \"allthemoneyintheworld\", \"unknown\", \"jexi\", \"hustlers\", \"rolemodels\", \"meangirls\", \"theinterview\", \"thecore\", \"chicuarotes\", \"northmenavikingsaga\", \"transformersageofextinction\", \"locoporvos\", \"thehealer\", \"patriotsday\", \"thenutjob\", \"bikers\", \"thehouse\", \"skytourthemovie\", \"howdoyouknow\", \"lockout\", \"vampiresvsthebronx\", \"thecourier\", \"longshot\", \"nowyouseeme2\", \"elevatorbaby\", \"deadpool\", \"stealth\", \"khunphaenbegins\", \"thecurseoflallorona\", \"killerman\", \"uncutgems\", \"onlythebrave\", \"hardkill\", \"mujeresarriba\", \"beforeifall\", \"troy\", \"leylaeverlasting\", \"oneday\", \"ipman4thefinale\", \"mymotherswound\", \"dolittle\", \"overnightrepublic\", \"200poundsbeauty\", \"burlesque\", \"forgettingsarahmarshall\", \"life\", \"lovethewayulie\", \"mrsserialkiller\", \"kasanova\", \"primal\", \"theincrediblestoryofthegiantpear\", \"bikeman2\", \"thehungergamesmockingjaypart2\", \"livinginbondagebreakingfree\", \"the40yearoldvirgin\", \"yourexcellency\", \"deathrace\", \"highlowthemovie\", \"paddington2\", \"titanic\", \"captainunderpantsmegablissmas\", \"peenak2\", \"loveandrun\", \"seznmka\", \"welcomehomeroscoejenkins\", \"akira\", \"nashanatasha\", \"thetwilightsagaeclipse\", \"santabantapvtltd\", \"thedarkknightrises\", \"trouble\", \"india\", \"lineofduty\", \"only\", \"catchmeifyoucan\", \"stvincent\", \"ordinarypeople\", \"burnt\", \"theamerican\", \"firstlove\", \"outbreak\", \"gijoetheriseofcobra\", \"corpuschristi\", \"thesecretlifeofpets2\", \"2012\", \"projectgio\", \"roguewarfare\", \"conormcgregornotorious\", \"psychopathwithpiersmorgan\", \"outofthefurnace\", \"animalkingdom\", \"feride\", \"13th\", \"21\", \"midway\", \"harrypotterandthedeathlyhallowspart2\", \"theliessheloved\", \"mandy\", \"midnightsun\", \"sicario\", \"themonumentsmen\", \"theoutpost\", \"2036originunknown\", \"jackassnumbertwo\", \"thedevilsadvocate\", \"thewitchpart1thesubversion\", \"thewholetruth\", \"alonetogether\", \"heartbeats\", \"xlarge\", \"theflu\", \"kangaroojack\", \"underworldevolution\", \"isntitromantic\", \"room\", \"click\", \"dontbeamenacetosouthcentralwhiledrinkingyourjuiceinthehood\", \"anicegirllikeyou\", \"bookclub\", \"missionimpossibleiii\", \"loving\", \"thesmurfs\", \"ashfall\", \"thenotebook\", \"loveactually\", \"threewordstoforever\", \"nighthunter\", \"firstkill\", \"actsofvengeance\", \"intothestorm\", \"kappela\", \"dilan1990\", \"s\\u00c3\\u00admiamor\", \"theboysintheband\", \"angeleyes\", \"thecroods\", \"alexcross\", \"whattoexpectwhenyoureexpecting\", \"nocountryforoldmen\", \"imnolongerhere\", \"portraitofabeauty\", \"jungle\", \"10000bc\", \"ponyo\", \"slaughterhouserulez\", \"adrift\", \"dyingofthelight\", \"ghostriderspiritofvengeance\", \"thehowsofus\", \"allbecauseofyou\", \"kingofmahjong\", \"brawlincellblock99\", \"callmebyyourname\", \"storks\", \"eurotrip\", \"8\", \"myfather\", \"hop\", \"takinglives\", \"basicinstinct\", \"thedayaftertomorrow\", \"rampant\", \"anunremarkablechristmas\", \"hometownholiday\", \"triplefrontier\", \"dinnerforschmucks\", \"vanhelsing\", \"iamvengeanceretaliation\", \"themillions\", \"phirherapheri\", \"catwoman\", \"liverleaf\", \"hitman\", \"deathcanwait\", \"getout\", \"theeve\", \"corpsebride\", \"prisoners\", \"manofsteel\", \"horridhenrysgrossdayout\", \"thebattleroartovictory\", \"drunkparents\", \"jigsaw\", \"friday\", \"pathfinder\", \"theruins\", \"onedayjusticedelivered\", \"fantasticfour\", \"therevenant\", \"jackthegiantslayer\", \"americangangster\", \"thegraduation\", \"122\", \"thisis40\", \"asphaltburning\", \"alteredcarbonresleeved\", \"hotsweetsour\", \"halfpastdead\", \"iloveyoutwo\", \"mrsrightguy\", \"nimbe\", \"mysummerprince\", \"theswitch\", \"thehelp\", \"triumphintheskies\", \"leavenotrace\", \"five\", \"gangsofwasseypurpart1\", \"bridgetjonessbaby\", \"jackreachernevergoback\", \"chinesezodiac\", \"nolongerkids\", \"gokarts\", \"sahara\", \"theperfectguy\", \"morningglory\", \"igiveitayear\", \"bullettothehead\", \"thepolarexpress\", \"theperfectpicturetenyearslater\", \"13hoursthesecretsoldiersofbenghazi\", \"fantasticbeastsandwheretofindthem\", \"bigdaddy\", \"dolphintale2\", \"johnnyenglish\", \"itsherday\", \"inuyashiki\", \"theassignment\", \"alongcameaspider\", \"arthurchristmas\", \"oceanstwelve\", \"thegreenhornet\", \"mutinyoftheworkerbees\", \"secretzoo\", \"themountainbetweenus\", \"clueless\", \"doom\", \"thethreedeathsofmariselaescobedo\", \"theliftboy\", \"letmeeatyourpancreas\", \"underworldriseofthelycans\", \"hellolovegoodbye\", \"blackrose\", \"snowflower\", \"greta\", \"nationalsecurity\", \"thegodfather\", \"jurassicpark\", \"thedevilwearsprada\", \"findingagnes\", \"1br\", \"menatworkmiami\", \"nigerianprince\", \"thenightclerk\", \"bastilleday\", \"pandemic\", \"powerrangers\", \"thematrix\", \"viktoriaataleofgraceandgreed\", \"disappearanceatcliftonhill\", \"riot\", \"themortalinstrumentscityofbones\", \"sakalingmagingtayo\", \"theroyalhibiscushotel\", \"ittakestwo\", \"knockknock\", \"escapefrompretoria\", \"latenight\", \"hellboy\", \"theperfectmatch\", \"waterworld\", \"justgowithit\", \"truegrit\", \"proceder\", \"thelegoninjagomovie\", \"americanultra\", \"theheartbreakkid\", \"kungfupanda\", \"badland\", \"fallinginnlove\", \"thelasthouseontheleft\", \"thegeneralsdaughter\", \"schoolofrock\", \"theroyalbengaltiger\", \"sahebbiwiaurgangsterreturns\", \"axone\", \"bloodbrother\", \"dumplin\", \"4threpublic\", \"daytimeshootingstar\", \"whataretheodds\", \"dilan1991\", \"thesistersbrothers\", \"gangstersquad\", \"finaldestination5\", \"shestheone\", \"achoo\", \"romanceonthemenu\", \"officialsecrets\", \"guncity\", \"penalty\", \"sincerelyyoursdhaka\", \"thegoodliar\", \"theshallows\", \"cosydens\", \"stolenidentity\", \"krishnaandhisleela\", \"freaks\", \"ajindemihuman\", \"soulsurfer\", \"jackassthemovie\", \"misscongeniality\", \"thegoldenholiday\", \"metamorphosis\", \"hereditary\", \"bigfatliar\", \"eventhorizon\", \"diamondsinthesky\", \"worldfamouslover\", \"luststories\", \"ahauntedhouse2\", \"bluestreak\", \"bladetrinity\", \"theweddingringer\", \"easya\", \"thekitchen\", \"tombraider\", \"spotlight\", \"thebutterflyeffect\", \"theamazingspiderman2\", \"hireawoman\", \"toshimaenhauntedpark\", \"badboy\", \"mrzoothemissingvip\", \"vendetta\", \"cats\", \"theedgeofseventeen\", \"sheis\", \"vivarium\", \"penozathefinalchapter\", \"spidermanfarfromhome\", \"wetwomaninthewind\", \"mazerunnerthescorchtrials\", \"blitz\", \"howtoloseaguyin10days\", \"thesongofnames\", \"tenyears\", \"meettheinlaws\", \"howtobealatinlover\", \"redemption\", \"youngadult\", \"swat\", \"thedivinefury\", \"anastasia\", \"theperksofbeingawallflower\", \"forensic\", \"bheeshma\", \"boo2amadeahalloween\", \"50firstdates\", \"nostringsattached\", \"teentitansgotothemovies\", \"convict\", \"iamlegend\", \"startrekintodarkness\", \"salt\", \"bwakaw\", \"legodcbatmanfamilymatters\", \"thepostcardkillings\", \"kimjiyoungborn1982\", \"ascoretosettle\", \"everyday\", \"bloodfather\", \"thekillteam\", \"mrdeeds\", \"thisiswhereileaveyou\", \"thetallman\", \"littlefockers\", \"holeinthewall\", \"alleyezonme\", \"ferdinand\", \"theperfectstorm\", \"pawpatroljettotherescue\", \"gangsofwasseypurpart2\", \"nataledachef\", \"countdown\", \"newyorkminute\", \"barnyard\", \"sherlockholmes\", \"onthebasisofsex\", \"thetreeofblood\", \"thehurricaneheist\", \"earlyman\", \"badmoms\", \"pointbreak\", \"theantbully\", \"thetransporter\", \"disconnect\", \"blackwater\", \"bushwick\", \"ninjaassassin\", \"lastvegas\", \"paranorman\", \"roadtoperdition\", \"coldfeet\", \"yesterday\", \"inconceivable\", \"overdrive\", \"marauders\", \"thetransporterrefueled\", \"battlelosangeles\", \"ironman3\", \"money\", \"fantastica\", \"daria\", \"mank\", \"destinationwedding\", \"inavalleyofviolence\", \"honeymoon\", \"dune\", \"uturn\", \"rango\", \"asih\", \"ohomemperfeito\", \"fighter\", \"thecondemned2\", \"thegirlinthefog\", \"childsplay\", \"heevenhasyoureyes\", \"sully\", \"freedomwriters\", \"thisistheend\", \"swatfirefight\", \"fredclaus\", \"watchmen\", \"killerelite\", \"romancedoll\", \"thewretched\", \"comidarkfilms\", \"mollysgame\", \"queen\", \"topgun\", \"realsteel\", \"heungbootherevolutionist\", \"arcticdogs\", \"whentheboughbreaks\", \"passengers\", \"stardust\", \"themartian\", \"robinhood\", \"30daysofnight\", \"lustcaution\", \"terminatorsalvation\", \"zookeeper\", \"aroundtheworldin80days\", \"taxi2\", \"cellular\", \"kandasamysthewedding\", \"sincity\", \"gangoose\", \"chippa\", \"thewayback\", \"itcomesatnight\", \"theroommate\", \"somekindofbeautiful\", \"munich\", \"supermonstersdiadelosmonsters\", \"nightofknots\", \"friendbutmarried\", \"theinvisibleman\", \"stuckwithaperfectwoman\", \"kingkong\", \"bluethunder\", \"bound\", \"coraline\", \"prometheus\", \"hallpass\", \"onceuponatimeinlondon\", \"alongwiththegodsthelast49days\", \"myhappyfamily\", \"daddydaycare\", \"eagleeye\", \"jedgar\", \"layercake\", \"umamaheswaraugraroopasya\", \"calmwithhorses\", \"alongwiththegodsthetwoworlds\", \"snowden\", \"theashladinthehallofthemountainking\", \"kingsglaivefinalfantasyxv\", \"friendswithbenefits\", \"pussinboots\", \"vforvendetta\", \"interstellar\", \"afterthewedding\", \"milea\", \"gnomealone\", \"keepingupwiththejoneses\", \"thepeanutsmovie\", \"gladiator\", \"thebreakup\", \"thehangoverpartiii\", \"berlinberlin\", \"varaneavashyamund\", \"merrymentherealyorubademons\", \"asilentvoice\", \"hiddenfigures\", \"thehatefuleight\", \"maidinmanhattan\", \"thelordoftheringsthereturnoftheking\", \"wira\", \"guilty\", \"lacolle\", \"escapeplantheextractors\", \"smurfsthelostvillage\", \"paranormalactivitythemarkedones\", \"thelunchbox\", \"getrichordietryin\", \"nationallampoonschristmasvacation\", \"madagascarescape2africa\", \"isapawithfeelings\", \"tremorsshriekerisland\", \"gloriabell\", \"beyondskyline\", \"newness\", \"thedressmaker\", \"anacondasthehuntforthebloodorchid\", \"firedup\", \"insideman\", \"themechanic\", \"thetwilightsagabreakingdawnpart1\", \"weatheringwithyou\", \"tigertail\", \"diegomaradona\", \"septembersofshiraz\", \"jabwemet\", \"reddragon\", \"meninhope\", \"youvegotmail\", \"colombiana\", \"themagicschoolbusridesagainthefrizzconnection\", \"monos\", \"dororo\", \"livebynight\", \"therite\", \"stickman\", \"allthebrightplaces\", \"rollredroll\", \"threeidenticalstrangers\", \"thenightingale\", \"robocop\", \"intolerablecruelty\", \"thegodfatherpartii\", \"theprestige\", \"agogocorycarsonchristmas\", \"bittersweet\", \"vice\", \"greenbook\", \"madagascar3europesmostwanted\", \"13goingon30\", \"themummyreturns\", \"howtotrainyourdragon2\", \"kickass2\", \"houseattheendofthestreet\", \"themansion\", \"shoplifters\", \"braven\", \"kickboxer\", \"thefiveyearengagement\", \"trainingday\", \"onceuponatimeinmexico\", \"forceofnature\", \"roguewarfarethehunt\", \"topendwedding\", \"londonfields\", \"overcomer\", \"arizona\", \"thenutjob2nuttybynature\", \"pan\", \"sealteamsixtheraidonosamabinladen\", \"notmyday\", \"howhigh\", \"theexorcismofemilyrose\", \"arthurandtheinvisibles\", \"spiritridingfreeridealongadventure\", \"totem\", \"thecommuter\", \"momentum\", \"residentevilthefinalchapter\", \"sawii\", \"badboysii\", \"hoteltransylvania\", \"abduction\", \"crazystupidlove\", \"ohadiyorum\", \"shotcaller\", \"theexperiment\", \"thecobbler\", \"talladeganightstheballadofrickybobby\", \"noah\", \"thehangoverpartii\", \"theprinceofegypt\", \"sonofthemask\", \"wrathofthetitans\", \"canvas\", \"safari\", \"theunmarriedwife\", \"risen\", \"kungfupanda3\", \"blackmass\", \"red2\", \"theropecurse2\", \"survivethenight\", \"schoollife\", \"amicicomenoi\", \"yucat\\u00c3\\u00a1n\", \"6days\", \"3seasonsinhell\", \"intothewild\", \"thematch\", \"ninjashadowofatear\", \"themanchuriancandidate\", \"theadventurerthecurseofthemidasbox\", \"themummytombofthedragonemperor\", \"losrodr\\u00c3\\u00adguezyelm\\u00c3\\u00a1sall\\u00c3\\u00a1\", \"justmercy\", \"thinklikeaman\", \"taxi3\", \"jumpingthebroom\", \"southpaw\", \"badteacher\", \"thecoldlightofday\", \"transformersdarkofthemoon\", \"backtothefuturepartii\", \"casino\", \"marieantoinette\", \"welcometosuddendeath\", \"strangebuttrue\", \"bennettswar\", \"skin\", \"thegreatestshowman\", \"kickboxervengeance\", \"bonetomahawk\", \"valentinesday\", \"horns\", \"rambo\", \"sylvia\", \"kin\", \"startrekbeyond\", \"fourchristmases\", \"truelies\", \"nonstop\", \"themirrorboy\", \"zakichan\", \"iammother\", \"beautyandthebeast\", \"plusone\", \"geronimoanamericanlegend\", \"theheat\", \"christmaswithaprince\", \"georgetown\", \"eyeforaneye\", \"211\", \"helpishrunkmyteacher\", \"theperfectman\", \"thegunman\", \"closer\", \"oceansthirteen\", \"thebournelegacy\", \"myamnesiagirl\", \"runningwiththedevil\", \"marshall\", \"imperium\", \"acureforwellness\", \"singham\", \"yogibear\", \"mightyexpressamightychristmas\", \"arrival\", \"dumbanddumberto\", \"theuglytruth\", \"seventhson\", \"incoming\", \"3022\", \"carriepilby\", \"pink\", \"howtobesingle\", \"threewishesforcinderella\", \"richierich\", \"rushhour\", \"knowing\", \"thorthedarkworld\", \"exesbaggage\", \"asuraguru\", \"nezha\", \"badgenius\", \"ouijaoriginofevil\", \"firewithfire\", \"walkingtall\", \"thehappening\", \"twoweeksnotice\", \"gamer\", \"redridinghood\", \"goodgamethebeginning\", \"messageinabottle\", \"lesgorilles\", \"hollowpoint\", \"yourname\", \"thecell\", \"babygeniuses\", \"thepost\", \"nannymcphee\", \"dirtygrandpa\", \"22bullets\", \"theexpendables3\", \"projectx\", \"thebluelagoon\", \"anofficerandagentleman\", \"happygilmore\", \"loveyoutothestarsandback\", \"achastermarriage\", \"dragonballsuperbroly\", \"thethirdparty\", \"thebeachbum\", \"destructionlosangeles\", \"whathappenedtomonday\", \"daddyshome\", \"thesalvation\", \"brickmansions\", \"trust\", \"hercules\", \"anaamika\", \"pyaarkapunchnama2\", \"lion\", \"theinfiltrator\", \"collateralbeauty\", \"anaconda\", \"elf\", \"christmascrossfire\", \"theshowmustgoonthequeenadamlambertstory\", \"usmarshals\", \"lastholiday\", \"theridiculous6\", \"kabhikhushikabhiegham\", \"goosebumps\", \"paulblartmallcop\", \"predators\", \"getsmart\", \"pacificrim\", \"xxx\", \"seedofchucky\", \"pitchperfect\", \"super8\", \"sleepless\", \"kannumkannumkollaiyadithaal\", \"ninokuni\", \"brahmstheboyii\", \"theend\", \"emma\", \"itonya\", \"insidiousthelastkey\", \"sniperghostshooter\", \"stolen\", \"sisters\", \"austinpowersingoldmember\", \"thegame\", \"thelastsamurai\", \"paansinghtomar\", \"milada\", \"lalaland\", \"thedaytheearthstoodstill\", \"mustbelove\", \"sawah\", \"imania\", \"lommbock\", \"lastflighttoabuja\", \"amityvilletheawakening\", \"captainamericacivilwar\", \"looneytunesbackinaction\", \"soundercover\", \"meninblack\", \"oceanseleven\", \"thebourneidentity\", \"thefamily\", \"unbreakablekimmyschmidtkimmyvsthereverend\", \"thetwopopes\", \"supermariobros\", \"jimbuttonandluketheenginedriver\", \"thearbitration\", \"theinvisibleguardian\", \"sausageparty\", \"thedictator\", \"thebeach\", \"brotherinlove\", \"asterixthesecretofthemagicpotion\", \"thebyebyeman\", \"deadmandown\", \"roadtrip\", \"thosewhoremained\", \"hellontheborder\", \"nogamenolifezero\", \"special26\", \"disturbia\", \"fallingdown\", \"laborday\", \"grease\", \"thehuntforredoctober\", \"thematrixreloaded\", \"thelakehouse\", \"quantumofsolace\", \"olympushasfallen\", \"kalel15\", \"mazingerzinfinity\", \"domino\", \"bleedforthis\", \"thelastcastle\", \"oldboy\", \"fullmetaljacket\", \"thefirstwivesclub\", \"wrongturn\", \"funnypeople\", \"thesevendeadlysinsthemovieprisonersofthesky\", \"theleisureseeker\", \"thesumofallfears\", \"27dresses\", \"hereafter\", \"cube\", \"nottinghill\", \"300\", \"actionpoint\", \"ghadi\", \"rings\", \"thehousebunny\", \"2fast2furious\", \"madagascar\", \"rushhour3\", \"neverbackdown\", \"theoperative\", \"richardjewell\", \"clergy\", \"paycheck\", \"theguilttrip\", \"anightmareonelmstreet\", \"rogue\", \"diazdontcleanupthisblood\", \"dumbanddumber\", \"zombieland\", \"thedrop\", \"chicobonbonandtheveryberryholiday\", \"truehistoryofthekellygang\", \"asecretlove\", \"mystupidboss\", \"gangsta\", \"thelittlewitch\", \"riptide\", \"fromuponpoppyhill\", \"theboondocksaintsiiallsaintsday\", \"nogooddeed\", \"thelincolnlawyer\", \"thedilemma\", \"thebraveone\", \"kickass\", \"aweddingforchristmas\", \"confessionsofaserialkillerwithpiersmorgan\", \"crazyawesometeachers\", \"youaretheappleofmyeye\", \"perfectworld\", \"twothumbsup\", \"rage\", \"thewife\", \"casinotycoon\", \"blackbutterfly\", \"lucknowcentral\", \"thelongestyard\", \"theluckyone\", \"theboy\", \"theplacebeyondthepines\", \"thecave\", \"frompariswithlove\", \"alphaandomega\", \"centurion\", \"transformers\", \"badboys\", \"theking\", \"sweptaway\", \"angel\", \"obsessed\", \"yearone\", \"thedarkesthour\", \"lawabidingcitizen\", \"forrestgump\", \"primalfear\", \"twister\", \"pineappleexpress\", \"themanwiththeironfists\", \"unexpectedlyyours\", \"survivor\", \"backtrace\", \"allaboutnina\", \"qaribqaribsinglle\", \"duckduckgoose\", \"theinvasion\", \"teenagemutantninjaturtles\", \"flipped\", \"lol\", \"meettheparents\", \"clashofthetitans\", \"lightinthedark\", \"waitingforspring\", \"klown\", \"closeenemies\", \"aaplamanus\", \"doomannihilation\", \"hurricane\", \"lifeasweknowit\", \"mirrormirror\", \"andsoitgoes\", \"definitelymaybe\", \"wildwildwest\", \"thegoodshepherd\", \"ghostrider\", \"enemylines\", \"loveiswar\", \"toalltheboyspsistillloveyou\", \"marrowbone\", \"captainunderpantsthefirstepicmovie\", \"miraclesfromheaven\", \"inferno\", \"horriblebosses2\", \"scarface\", \"abouttime\", \"enough\", \"menaceiisociety\", \"gangsofnewyork\", \"jaws\", \"palerider\", \"yesman\", \"bridesmaids\", \"doraemonthemoviegreatadventureintheantarctickachikochi\", \"theaddamsfamily\", \"pok\\u00c3\\u00a9monmewtwostrikesbackevolution\", \"freezerscampaign\", \"abeautifuldayintheneighborhood\", \"turbulence\", \"spectral\", \"houseofwax\", \"thebugsbunnyroadrunnermovie\", \"thezookeeperswife\", \"alvinandthechipmunkstheroadchip\", \"safe\", \"awalktoremember\", \"thetheoryofeverything\", \"theskinilivein\", \"cobra\", \"coloroutofspace\", \"ophelia\", \"justiceleaguedarkapokolipswar\", \"thebygone\", \"theprofessorandthemadman\", \"themistress\", \"unbrokenpathtoredemption\", \"thedebtcollector\", \"aghoststory\", \"widows\", \"randomhearts\", \"hostelpartiii\", \"myneighbortotoro\", \"missionimpossibleii\", \"thescore\", \"thelordoftheringsthefellowshipofthering\", \"mysticriver\", \"lordofwar\", \"copout\", \"moneynoenough\", \"thecoldestgame\", \"jarheadlawofreturn\", \"arainydayinnewyork\", \"footloose\", \"papertowns\", \"fridaythe13th\", \"meetthefockers\", \"flight\", \"oldschool\", \"priest\", \"theshining\", \"indianajonesandthelastcrusade\", \"thequickandthedead\", \"castaway\", \"weweresoldiers\", \"knockedup\", \"mammamia\", \"thelovelybones\", \"thething\", \"theexpendables\", \"bombshell\", \"highlife\", \"10x10\", \"gotti\", \"girlhood\", \"yuma\", \"rumbleinthebronx\", \"underworldbloodwars\", \"imaginethat\", \"ipman2\", \"meangirls2\", \"landofthelost\", \"transporter2\", \"waiting\", \"donniebrasco\", \"aknightstale\", \"fida\", \"anchorbaby\", \"yourstory\", \"laoriginals\", \"asun\", \"newworld\", \"whatkeepsyoualive\", \"asecondchance\", \"ourhouse\", \"toman\", \"theinvitation\", \"ungli\", \"alittlechaos\", \"doctorstrange\", \"repomen\", \"syriana\", \"thedescendants\", \"johnq\", \"themagicschoolbusridesagaininthezone\", \"fittestindubai\", \"achampionheart\", \"houseofthewitch\", \"daddycool\", \"shaft\", \"returntothebluelagoon\", \"thepossession\", \"noescape\", \"bladesofglory\", \"thewitches\", \"killtheirishman\", \"transformersrevengeofthefallen\", \"beetlejuice\", \"thelongkissgoodnight\", \"thejackal\", \"thedavincicode\", \"elysium\", \"projectmarathwada\", \"thespeedcubers\", \"thecall\", \"paprika\", \"amadeafamilyfuneral\", \"threebillboardsoutsideebbingmissouri\", \"diaryofawimpykidthelonghaul\", \"thechoice\", \"howtotrainyourdragon\", \"crouchingtigerhiddendragon\", \"glory\", \"teenagemutantninjaturtlesiithesecretoftheooze\", \"missionimpossible\", \"freddyvsjason\", \"dreamcatcher\", \"grantorino\", \"rio\", \"maska\", \"thelastkiss\", \"inbedwithsanta\", \"sweetnovember\", \"housearrest\", \"riverrunsred\", \"thephotographerofmauthausen\", \"innocent\", \"thequeenscorgi\", \"adogsjourney\", \"doraandthelostcityofgold\", \"brainonfire\", \"nasha\", \"thegirlwithallthegifts\", \"hellorhighwater\", \"shutin\", \"nowandthen\", \"almostchristmas\", \"thelegobatmanmovie\", \"grease2\", \"gofast\", \"theotherwoman\", \"duplicity\", \"lawless\", \"silverado\", \"gremlins\", \"executivedecision\", \"thewholenineyards\", \"fury\", \"12giftsofchristmas\", \"pagpagninelives\", \"serenity\", \"selena\", \"serialkiller1\", \"sonofagun\", \"thegunsofnavarone\", \"augustrush\", \"minorityreport\", \"emmanuelle\", \"indianajonesandthetempleofdoom\", \"thecraft\", \"thedeparted\", \"theavengers\", \"bluestory\", \"mirage\", \"polar\", \"batmanthekillingjoke\", \"thewildewedding\", \"criminal\", \"tulipfever\", \"christmaswiththekranks\", \"thewolfman\", \"backtothefuturepartiii\", \"curiousgeorge\", \"gonegirl\", \"whitehousedown\", \"pilgrimage\", \"barcelonaaloveuntold\", \"onceuponatimeinchinaandamerica\", \"julietnaked\", \"birdbox\", \"boyerased\", \"hostiles\", \"youwereneverreallyhere\", \"lovepersquarefoot\", \"table19\", \"eyeinthesky\", \"thepunisher\", \"escapefromplanetearth\", \"weownthenight\", \"pusher\", \"youdontmesswiththezohan\", \"sleepyhollow\", \"invictus\", \"thegruffalo\", \"jumanji\", \"charliesangelsfullthrottle\", \"masterandcommanderthefarsideoftheworld\", \"collateral\", \"hotfuzz\", \"welldoneabba\", \"averyspeciallove\", \"alsonquemetoquenbailo\", \"thelimehousegolem\", \"airplanemode\", \"kabirsingh\", \"thebestofenemies\", \"jopilhothedawningrage\", \"youremyboss\", \"arctic\", \"wheresthemoney\", \"themagicquill\", \"15minutes\", \"hitmanagent47\", \"spanglish\", \"thunderandthehouseofmagic\", \"thedukesofhazzard\", \"hanna\", \"kuchkuchhotahai\", \"foolsgold\", \"licensetowed\", \"jackasspresentsbadgrandpa\", \"flashdance\", \"schindlerslist\", \"theflintstones\", \"thenuttyprofessor\", \"therainmaker\", \"americanhistoryx\", \"hitch\", \"captainphillips\", \"lovelikethefallingrain\", \"bananasplit\", \"thesetup\", \"welcomehome\", \"leprechaunreturns\", \"howitends\", \"urbanlegend\", \"winchester\", \"loganlucky\", \"goldenshoes\", \"smokinaces\", \"snitch\", \"anchorman2thelegendcontinues\", \"orphan\", \"magicmikexxl\", \"onemissedcall\", \"nightsinrodanthe\", \"welcometothepunch\", \"thatsmyboy\", \"christine\", \"thetrumanshow\", \"themaskofzorro\", \"theartofwar\", \"thesweetestthing\", \"journeytothecenteroftheearth\", \"divergent\", \"poacher\", \"homemade\", \"thelastfullmeasure\", \"downadarkhall\", \"joy\", \"finallyfoundsomeone\", \"startingoveragain\", \"kingofthieves\", \"disobedience\", \"codeofhonor\", \"takeme\", \"thekaratekid\", \"allornothing\", \"legend\", \"shesfunnythatway\", \"savethelastdance\", \"bridgeofspies\", \"gridirongang\", \"whitechristmas\", \"whatagirlwants\", \"thelaststand\", \"winterstale\", \"rush\", \"snakesonaplane\", \"theyoungvictoria\", \"thenet\", \"practicalmagic\", \"thelordoftheringsthetwotowers\", \"paulblartmallcop2\", \"wildcard\", \"themummy\", \"johnwastryingtocontactaliens\", \"myheroacademiaheroesrising\", \"themarriedcouples\", \"thepeanutbutterfalcon\", \"heavenwillwait\", \"lafuitinasbagliata\", \"womenofmafia2\", \"7emotions\", \"ittakesamanandawoman\", \"atwelveyearnight\", \"3ninjaskickback\", \"thebleedingedge\", \"traffik\", \"raw\", \"annihilation\", \"stereo\", \"ahologramfortheking\", \"samekindofdifferentasme\", \"hacksawridge\", \"baywatch\", \"beastly\", \"30minutesorless\", \"unforgiven\", \"casagrande\", \"rio2\", \"maximumrisk\", \"darkskies\", \"graceofmonaco\", \"promnight\", \"arthur3thewarofthetwoworlds\", \"theeagle\", \"spykidsallthetimeintheworld\", \"hopesprings\", \"wintersbone\", \"rockyiv\", \"thecolorpurple\", \"wyattearp\", \"billymadison\", \"fear\", \"rushhour2\", \"americanwedding\", \"gonebabygone\", \"hachiadogstale\", \"astroboy\", \"totalrecall\", \"suckerpunch\", \"theadventuresoftintin\"], \"legendgroup\": \"\", \"marker\": {\"color\": \"#636efa\"}, \"name\": \"\", \"notched\": false, \"offsetgroup\": \"\", \"orientation\": \"v\", \"showlegend\": false, \"type\": \"box\", \"x\": [\"Romance\", \"Drama\", \"Comedy\", \"Comedy\", \"Superhero\", \"Documentary\", \"Action\", \"Animation\", \"Romance\", \"Comedy\", \"Animation\", \"Comedy\", \"Drama\", \"Drama\", \"Comedy\", \"Comedy\", \"Documentary\", \"Comedy\", \"Comedy\", \"Romance\", \"Comedy\", \"Comedy\", \"Comedy\", \"Drama\", \"Science Fiction\", \"Fantasy\", \"Horror\", \"War\", \"Thriller\", \"Science Fiction\", \"Comedy\", \"Comedy\", \"Action\", \"Comedy\", \"Science Fiction\", \"Crime\", \"Animation\", \"Comedy\", \"Animation\", \"Thriller\", \"Music\", \"Crime\", \"Action\", \"Science Fiction\", \"Animation\", \"Documentary\", \"Comedy\", \"Comedy\", \"Adventure\", \"Drama\", \"Drama\", \"Thriller\", \"Documentary\", \"Comedy\", \"Thriller\", \"Comedy\", \"Animation\", \"Action\", \"Adventure\", \"Drama\", \"Comedy\", \"Comedy\", \"Documentary\", \"Romance\", \"Superhero\", \"Drama\", \"Animation\", \"Comedy\", \"Superhero\", \"Comedy\", \"Drama\", \"Documentary\", \"Animation\", \"Science Fiction\", \"Action\", \"Science Fiction\", \"Animation\", \"Comedy\", \"Comedy\", \"Action\", \"Superhero\", \"Comedy\", \"Horror\", \"Horror\", \"Drama\", \"Comedy\", \"Comedy\", \"Comedy\", \"Comedy\", \"Comedy\", \"Action\", \"Comedy\", \"Crime\", \"Animation\", \"Animation\", \"Science Fiction\", \"Superhero\", \"Comedy\", \"Drama\", \"Romance\", \"Comedy\", \"Superhero\", \"Science Fiction\", \"Crime\", \"Adventure\", \"Action\", \"Romance\", \"Concerts\", \"Romance\", \"Fantasy\", \"Horror\", \"Thriller\", \"Thriller\", \"Comedy\", \"Action\", \"Action\", \"Crime\", \"Drama\", \"Adventure\", \"Drama\", \"Comedy\", \"Drama\", \"Crime\", \"Crime\", \"Crime\", \"Action\", \"Action\", \"Science Fiction\", \"Science Fiction\", \"Action\", \"Action\", \"Horror\", \"Horror\", \"Comedy\", \"Animation\", \"Fantasy\", \"Science Fiction\", \"Comedy\", \"Comedy\", \"Comedy\", \"Horror\", \"Drama\", \"Drama\", \"Crime\", \"War\", \"Animation\", \"Superhero\", \"Documentary\", \"Crime\", \"Action\", \"Comedy\", \"Drama\", \"Comedy\", \"Comedy\", \"Fantasy\", \"Thriller\", \"Documentary\", \"Comedy\", \"Science Fiction\", \"Fantasy\", \"Horror\", \"Science Fiction\", \"Comedy\", \"Thriller\", \"Drama\", \"Action\", \"Thriller\", \"Crime\", \"Animation\", \"Horror\", \"Animation\", \"Thriller\", \"Thriller\", \"Comedy\", \"Comedy\", \"War\", \"Fantasy\", \"Thriller\", \"Action\", \"Comedy\", \"Science Fiction\", \"Thriller\", \"War\", \"Horror\", \"Drama\", \"Thriller\", \"Superhero\", \"Action\", \"Action\", \"Comedy\", \"Science Fiction\", \"Romance\", \"Drama\", \"Comedy\", \"Comedy\", \"Adventure\", \"Horror\", \"Documentary\", \"Drama\", \"Thriller\", \"Comedy\", \"Thriller\", \"Action\", \"War\", \"Superhero\", \"Drama\", \"Comedy\", \"Comedy\", \"Drama\", \"Drama\", \"Comedy\", \"Comedy\", \"Fantasy\", \"Comedy\", \"Comedy\", \"Drama\", \"Animation\", \"Thriller\", \"Comedy\", \"Drama\", \"Action\", \"Comedy\", \"Drama\", \"Comedy\", \"Horror\", \"Superhero\", \"Comedy\", \"Superhero\", \"Thriller\", \"Drama\", \"Action\", \"Comedy\", \"Crime\", \"Drama\", \"Animation\", \"Crime\", \"Drama\", \"Comedy\", \"Action\", \"Action\", \"Horror\", \"Animation\", \"Comedy\", \"Crime\", \"Science Fiction\", \"Science Fiction\", \"Drama\", \"Animation\", \"Music\", \"Thriller\", \"Crime\", \"Crime\", \"Thriller\", \"Comedy\", \"Comedy\", \"Horror\", \"Fantasy\", \"History\", \"Thriller\", \"Animation\", \"Action\", \"Drama\", \"History\", \"Adventure\", \"Drama\", \"Thriller\", \"Horror\", \"Drama\", \"Fantasy\", \"Fantasy\", \"Animation\", \"Action\", \"Superhero\", \"Comedy\", \"Science Fiction\", \"Superhero\", \"Action\", \"Science Fiction\", \"Crime\", \"Comedy\", \"Comedy\", \"Action\", \"Superhero\", \"Drama\", \"Comedy\", \"Horror\", \"Horror\", \"Drama\", \"Adventure\", \"Thriller\", \"Adventure\", \"Drama\", \"Comedy\", \"Comedy\", \"Crime\", \"Comedy\", \"Comedy\", \"Action\", \"Drama\", \"Comedy\", \"Documentary\", \"Horror\", \"Horror\", \"Science Fiction\", \"Comedy\", \"Comedy\", \"Science Fiction\", \"Romance\", \"Action\", \"Documentary\", \"Thriller\", \"Animation\", \"Comedy\", \"Documentary\", \"Biopic\", \"Drama\", \"Animation\", \"Fantasy\", \"Thriller\", \"Animation\", \"Comedy\", \"Thriller\", \"Biopic\", \"Science Fiction\", \"Action\", \"Crime\", \"Fantasy\", \"Science Fiction\", \"Drama\", \"Drama\", \"Science Fiction\", \"Action\", \"Action\", \"Action\", \"Science Fiction\", \"Fantasy\", \"Crime\", \"Horror\", \"Horror\", \"Comedy\", \"Comedy\", \"Horror\", \"Drama\", \"Thriller\", \"Animation\", \"Comedy\", \"Action\", \"Action\", \"Action\", \"War\", \"Fantasy\", \"Fantasy\", \"Thriller\", \"Action\", \"Animation\", \"Science Fiction\", \"Comedy\", \"Biopic\", \"Comedy\", \"Drama\", \"Action\", \"Action\", \"Drama\", \"Comedy\", \"Thriller\", \"Drama\", \"Romance\", \"Horror\", \"Thriller\", \"Action\", \"Science Fiction\", \"Horror\", \"Drama\", \"Action\", \"Comedy\", \"Drama\", \"Horror\", \"Animation\", \"Drama\", \"Science Fiction\", \"Adventure\", \"Action\", \"Horror\", \"Action\", \"Comedy\", \"Thriller\", \"Horror\", \"Comedy\", \"Drama\", \"Comedy\", \"Thriller\", \"Action\", \"Horror\", \"Documentary\", \"Romance\", \"Horror\", \"Action\", \"Comedy\", \"Animation\", \"Animation\", \"Comedy\", \"Comedy\", \"Crime\", \"Comedy\", \"Animation\", \"Animation\", \"Fantasy\", \"Science Fiction\", \"Thriller\", \"Comedy\", \"Drama\", \"Action\", \"Crime\", \"Comedy\", \"Comedy\", \"Comedy\", \"War\", \"Fantasy\", \"Animation\", \"Comedy\", \"Action\", \"Crime\", \"Crime\", \"Comedy\", \"Action\", \"Animation\", \"Drama\", \"Superhero\", \"Action\", \"Animation\", \"War\", \"Drama\", \"Thriller\", \"Drama\", \"Adventure\", \"Thriller\", \"Crime\", \"Thriller\", \"Animation\", \"Horror\", \"Animation\", \"Thriller\", \"Adventure\", \"Action\", \"Romance\", \"Adventure\", \"Thriller\", \"Horror\", \"Drama\", \"Drama\", \"Comedy\", \"Action\", \"Comedy\", \"Action\", \"Action\", \"Crime\", \"Science Fiction\", \"Romance\", \"Comedy\", \"Superhero\", \"Romance\", \"Superhero\", \"Action\", \"Adventure\", \"Comedy\", \"Science Fiction\", \"Documentary\", \"Animation\", \"Thriller\", \"Crime\", \"Horror\", \"Science Fiction\", \"Fantasy\", \"Thriller\", \"Horror\", \"Horror\", \"Thriller\", \"Documentary\", \"Animation\", \"Drama\", \"Comedy\", \"Comedy\", \"Comedy\", \"Horror\", \"Animation\", \"Animation\", \"Crime\", \"Romance\", \"Thriller\", \"Animation\", \"Comedy\", \"Comedy\", \"Action\", \"Documentary\", \"Drama\", \"Romance\", \"Drama\", \"Comedy\", \"Comedy\", \"Thriller\", \"Thriller\", \"Thriller\", \"Science Fiction\", \"Thriller\", \"Comedy\", \"Comedy\", \"Science Fiction\", \"Action\", \"Crime\", \"Comedy\", \"Science Fiction\", \"Romance\", \"Superhero\", \"Horror\", \"Comedy\", \"Crime\", \"Comedy\", \"Thriller\", \"Comedy\", \"Western\", \"Biopic\", \"Adventure\", \"Drama\", \"Adventure\", \"Adventure\", \"Romance\", \"Science Fiction\", \"Science Fiction\", \"Biopic\", \"Action\", \"Drama\", \"Drama\", \"Documentary\", \"Action\", \"Action\", \"Action\", \"Action\", \"Horror\", \"Animation\", \"Comedy\", \"Comedy\", \"Science Fiction\", \"Action\", \"Fantasy\", \"Thriller\", \"Romance\", \"Science Fiction\", \"Comedy\", \"Drama\", \"Comedy\", \"Romance\", \"Horror\", \"Comedy\", \"Comedy\", \"Drama\", \"Comedy\", \"Drama\", \"Thriller\", \"Drama\", \"Drama\", \"Science Fiction\", \"Fantasy\", \"Horror\", \"Horror\", \"Horror\", \"Comedy\", \"Comedy\", \"Crime\", \"Thriller\", \"Crime\", \"Animation\", \"Comedy\", \"Animation\", \"Fantasy\", \"Crime\", \"War\", \"Animation\", \"Action\", \"Superhero\", \"Comedy\", \"War\", \"Horror\", \"Romance\", \"Action\", \"Science Fiction\", \"Horror\", \"Action\", \"Thriller\", \"Comedy\", \"Action\", \"Drama\", \"Fantasy\", \"Adventure\", \"Drama\", \"Horror\", \"Science Fiction\", \"Thriller\", \"Action\", \"Science Fiction\", \"Comedy\", \"Crime\", \"Comedy\", \"Thriller\", \"Thriller\", \"Comedy\", \"Thriller\", \"Horror\", \"Thriller\", \"Horror\", \"Comedy\", \"Superhero\", \"Comedy\", \"Science Fiction\", \"Comedy\", \"Thriller\", \"Thriller\", \"Science Fiction\", \"Drama\", \"Horror\", \"Science Fiction\", \"Drama\", \"Action\", \"Comedy\", \"Comedy\", \"Comedy\", \"Comedy\", \"Comedy\", \"Science Fiction\", \"Drama\", \"Action\", \"Science Fiction\", \"Comedy\", \"Drama\", \"Drama\", \"Animation\", \"Comedy\", \"Comedy\", \"Concerts\", \"Romance\", \"Science Fiction\", \"Horror\", \"Action\", \"Comedy\", \"Crime\", \"Drama\", \"Superhero\", \"Action\", \"Action\", \"Horror\", \"Action\", \"Crime\", \"Drama\", \"Action\", \"Comedy\", \"Drama\", \"History\", \"Comedy\", \"Romance\", \"Action\", \"Drama\", \"Adventure\", \"Comedy\", \"Comedy\", \"Music\", \"Comedy\", \"Crime\", \"Comedy\", \"Thriller\", \"Drama\", \"Action\", \"Animation\", \"Comedy\", \"Science Fiction\", \"Drama\", \"Comedy\", \"Comedy\", \"Science Fiction\", \"Action\", \"Adventure\", \"Romance\", \"Animation\", \"Horror\", \"Comedy\", \"Comedy\", \"Comedy\", \"Science Fiction\", \"Documentary\", \"Fantasy\", \"Comedy\", \"Superhero\", \"Animation\", \"Comedy\", \"Thriller\", \"Science Fiction\", \"Drama\", \"Comedy\", \"Drama\", \"Comedy\", \"Thriller\", \"Comedy\", \"Thriller\", \"Science Fiction\", \"Drama\", \"Animation\", \"Science Fiction\", \"Comedy\", \"Action\", \"Documentary\", \"Documentary\", \"Action\", \"Thriller\", \"Comedy\", \"Documentary\", \"Drama\", \"War\", \"Fantasy\", \"Drama\", \"Action\", \"Romance\", \"Crime\", \"Drama\", \"Drama\", \"Science Fiction\", \"Documentary\", \"Thriller\", \"Action\", \"Drama\", \"Drama\", \"Romance\", \"Comedy\", \"Action\", \"Comedy\", \"Fantasy\", \"Comedy\", \"Drama\", \"Comedy\", \"Comedy\", \"Comedy\", \"Comedy\", \"Action\", \"Drama\", \"Animation\", \"Action\", \"Romance\", \"Romance\", \"Drama\", \"Action\", \"Action\", \"Action\", \"Thriller\", \"Drama\", \"Drama\", \"Comedy\", \"Drama\", \"Thriller\", \"Animation\", \"Action\", \"Romance\", \"Thriller\", \"Drama\", \"Horror\", \"Thriller\", \"Adventure\", \"Animation\", \"Comedy\", \"Thriller\", \"Thriller\", \"Superhero\", \"Drama\", \"Comedy\", \"Comedy\", \"Thriller\", \"Drama\", \"Animation\", \"Comedy\", \"Horror\", \"Drama\", \"Animation\", \"Thriller\", \"Thriller\", \"Science Fiction\", \"Horror\", \"Comedy\", \"Romance\", \"Crime\", \"Comedy\", \"Fantasy\", \"Action\", \"Drama\", \"Comedy\", \"Superhero\", \"Horror\", \"Thriller\", \"Comedy\", \"Horror\", \"Horror\", \"Animation\", \"Thriller\", \"Superhero\", \"Animation\", \"Drama\", \"Comedy\", \"Horror\", \"Comedy\", \"Adventure\", \"Horror\", \"Crime\", \"Superhero\", \"Drama\", \"Fantasy\", \"Biopic\", \"Documentary\", \"Thriller\", \"Comedy\", \"Comedy\", \"Animation\", \"Comedy\", \"Action\", \"Comedy\", \"Comedy\", \"Drama\", \"Romance\", \"Romance\", \"Drama\", \"Drama\", \"Drama\", \"Comedy\", \"Crime\", \"Romance\", \"Action\", \"Action\", \"Comedy\", \"Adventure\", \"Adventure\", \"Drama\", \"Romance\", \"Romance\", \"Thriller\", \"Animation\", \"Comedy\", \"War\", \"Fantasy\", \"Comedy\", \"Adventure\", \"Comedy\", \"Comedy\", \"Science Fiction\", \"Crime\", \"Thriller\", \"Animation\", \"Crime\", \"Superhero\", \"Comedy\", \"Comedy\", \"Drama\", \"Romance\", \"Science Fiction\", \"Documentary\", \"Comedy\", \"Drama\", \"Fantasy\", \"Drama\", \"Drama\", \"Romance\", \"Horror\", \"Thriller\", \"Drama\", \"Adventure\", \"Romance\", \"Drama\", \"Horror\", \"Comedy\", \"Drama\", \"Thriller\", \"Action\", \"Science Fiction\", \"Science Fiction\", \"Science Fiction\", \"Drama\", \"Thriller\", \"Action\", \"Fantasy\", \"Comedy\", \"Comedy\", \"Comedy\", \"Thriller\", \"Crime\", \"Comedy\", \"Superhero\", \"Comedy\", \"Science Fiction\", \"Romance\", \"Western\", \"Drama\", \"Animation\", \"Action\", \"Romance\", \"Animation\", \"Western\", \"Romance\", \"Horror\", \"Crime\", \"Comedy\", \"Thriller\", \"Action\", \"Comedy\", \"Crime\", \"Music\", \"Crime\", \"Romance\", \"Comedy\", \"Drama\", \"Western\", \"Action\", \"Horror\", \"Romance\", \"Romance\", \"Romance\", \"Thriller\", \"Crime\", \"Drama\", \"Drama\", \"Drama\", \"Horror\", \"Comedy\", \"Crime\", \"Romance\", \"Science Fiction\", \"Action\", \"Drama\", \"Comedy\", \"Comedy\", \"Action\", \"Horror\", \"Horror\", \"Comedy\", \"Science Fiction\", \"Drama\", \"Romance\", \"Romance\", \"Comedy\", \"Comedy\", \"Superhero\", \"Comedy\", \"Comedy\", \"Crime\", \"Adventure\", \"Drama\", \"Science Fiction\", \"Superhero\", \"Comedy\", \"Horror\", \"Crime\", \"Action\", \"Action\", \"Music\", \"Comedy\", \"Drama\", \"Horror\", \"Thriller\", \"Superhero\", \"Drama\", \"Science Fiction\", \"Thriller\", \"Romance\", \"Drama\", \"Drama\", \"Comedy\", \"Comedy\", \"Documentary\", \"Comedy\", \"Action\", \"Horror\", \"Animation\", \"Drama\", \"Crime\", \"Romance\", \"Comedy\", \"Romance\", \"Comedy\", \"Superhero\", \"Drama\", \"Science Fiction\", \"Science Fiction\", \"Action\", \"Drama\", \"Animation\", \"Crime\", \"Drama\", \"Action\", \"Romance\", \"Thriller\", \"Documentary\", \"Comedy\", \"Drama\", \"Horror\", \"Comedy\", \"Drama\", \"Drama\", \"Animation\", \"Thriller\", \"Animation\", \"Crime\", \"Comedy\", \"Horror\", \"Comedy\", \"Animation\", \"Crime\", \"Biopic\", \"Drama\", \"Drama\", \"Animation\", \"Comedy\", \"Action\", \"Animation\", \"Action\", \"Comedy\", \"Action\", \"Action\", \"Thriller\", \"Comedy\", \"Comedy\", \"Drama\", \"Drama\", \"Comedy\", \"Thriller\", \"Action\", \"Action\", \"Action\", \"Science Fiction\", \"Superhero\", \"Crime\", \"Comedy\", \"Thriller\", \"Drama\", \"Romance\", \"Western\", \"Drama\", \"Science Fiction\", \"Thriller\", \"Animation\", \"Horror\", \"Comedy\", \"Drama\", \"Action\", \"Thriller\", \"Horror\", \"Comedy\", \"Drama\", \"Crime\", \"Comedy\", \"Action\", \"Drama\", \"Superhero\", \"Action\", \"Romance\", \"Horror\", \"Comedy\", \"Drama\", \"Drama\", \"Action\", \"Science Fiction\", \"History\", \"Animation\", \"Horror\", \"Science Fiction\", \"Fantasy\", \"Science Fiction\", \"Adventure\", \"Horror\", \"Thriller\", \"Science Fiction\", \"Comedy\", \"Adventure\", \"Action\", \"Action\", \"Comedy\", \"Thriller\", \"Crime\", \"Drama\", \"Drama\", \"Horror\", \"Thriller\", \"Romance\", \"Thriller\", \"Animation\", \"Comedy\", \"Comedy\", \"Horror\", \"Comedy\", \"Science Fiction\", \"Action\", \"Drama\", \"Animation\", \"Science Fiction\", \"Romance\", \"Crime\", \"Action\", \"Drama\", \"Comedy\", \"Thriller\", \"Biopic\", \"Thriller\", \"Comedy\", \"Drama\", \"Action\", \"Biopic\", \"Adventure\", \"Fantasy\", \"Comedy\", \"Animation\", \"Superhero\", \"Science Fiction\", \"Drama\", \"Romance\", \"Animation\", \"Comedy\", \"Animation\", \"History\", \"Comedy\", \"Comedy\", \"Comedy\", \"Comedy\", \"Comedy\", \"Animation\", \"Drama\", \"Western\", \"Romance\", \"Fantasy\", \"Action\", \"Drama\", \"Comedy\", \"Action\", \"Animation\", \"Horror\", \"Romance\", \"Crime\", \"Comedy\", \"Animation\", \"Comedy\", \"Horror\", \"Drama\", \"Science Fiction\", \"Romance\", \"Drama\", \"Horror\", \"Romance\", \"Thriller\", \"Action\", \"Fantasy\", \"Animation\", \"Drama\", \"Biopic\", \"Thriller\", \"Comedy\", \"Horror\", \"Comedy\", \"Romance\", \"Thriller\", \"Animation\", \"Drama\", \"Fantasy\", \"Crime\", \"Horror\", \"Animation\", \"Drama\", \"Documentary\", \"Documentary\", \"Drama\", \"Science Fiction\", \"Comedy\", \"Drama\", \"Drama\", \"Animation\", \"Drama\", \"Comedy\", \"Drama\", \"Animation\", \"Comedy\", \"Adventure\", \"Animation\", \"Superhero\", \"Horror\", \"Horror\", \"Drama\", \"Action\", \"Action\", \"Comedy\", \"Action\", \"Action\", \"Action\", \"Action\", \"Comedy\", \"Thriller\", \"Drama\", \"Comedy\", \"Animation\", \"Fantasy\", \"Thriller\", \"Comedy\", \"Comedy\", \"Horror\", \"Animation\", \"Animation\", \"Horror\", \"Action\", \"Thriller\", \"Horror\", \"Horror\", \"Action\", \"Animation\", \"Action\", \"Romance\", \"Comedy\", \"Drama\", \"Thriller\", \"Comedy\", \"Comedy\", \"Drama\", \"Comedy\", \"Drama\", \"Fantasy\", \"Fantasy\", \"Animation\", \"Documentary\", \"Drama\", \"Drama\", \"Animation\", \"Biopic\", \"Action\", \"Horror\", \"Action\", \"Comedy\", \"Comedy\", \"Comedy\", \"Action\", \"Drama\", \"Drama\", \"Drama\", \"Action\", \"Thriller\", \"Adventure\", \"Adventure\", \"Comedy\", \"Drama\", \"Romance\", \"Action\", \"Comedy\", \"Drama\", \"Comedy\", \"Action\", \"Science Fiction\", \"Science Fiction\", \"Drama\", \"History\", \"Action\", \"Thriller\", \"Drama\", \"Documentary\", \"Music\", \"Action\", \"Western\", \"Comedy\", \"Horror\", \"Action\", \"Drama\", \"Science Fiction\", \"Science Fiction\", \"Romance\", \"Action\", \"Action\", \"Adventure\", \"Comedy\", \"Science Fiction\", \"Fantasy\", \"Comedy\", \"Western\", \"Comedy\", \"Romance\", \"Drama\", \"Thriller\", \"Action\", \"Science Fiction\", \"Romance\", \"Action\", \"Drama\", \"Crime\", \"Action\", \"Comedy\", \"Thriller\", \"Biopic\", \"Drama\", \"Horror\", \"Action\", \"Animation\", \"Animation\", \"Science Fiction\", \"Comedy\", \"Comedy\", \"Fantasy\", \"Science Fiction\", \"Science Fiction\", \"Comedy\", \"Drama\", \"Romance\", \"Fairy Tale\", \"Comedy\", \"Action\", \"Science Fiction\", \"Superhero\", \"Drama\", \"Action\", \"Fantasy\", \"Thriller\", \"Horror\", \"Thriller\", \"Action\", \"Thriller\", \"Romance\", \"Science Fiction\", \"Fantasy\", \"Comedy\", \"Drama\", \"Comedy\", \"Action\", \"Animation\", \"Action\", \"Comedy\", \"Drama\", \"Comedy\", \"Comedy\", \"Action\", \"Action\", \"Crime\", \"Romance\", \"Romance\", \"Comedy\", \"Comedy\", \"Comedy\", \"Animation\", \"Romance\", \"Comedy\", \"Action\", \"Science Fiction\", \"Comedy\", \"Western\", \"Action\", \"Thriller\", \"History\", \"Thriller\", \"Romance\", \"Drama\", \"Crime\", \"Drama\", \"Horror\", \"Fantasy\", \"Crime\", \"Documentary\", \"Action\", \"Romance\", \"Comedy\", \"Music\", \"Adventure\", \"Comedy\", \"Science Fiction\", \"Action\", \"Science Fiction\", \"Action\", \"Horror\", \"Music\", \"Science Fiction\", \"Action\", \"Comedy\", \"Animation\", \"Horror\", \"Comedy\", \"Drama\", \"Biopic\", \"Horror\", \"Action\", \"Thriller\", \"Comedy\", \"Comedy\", \"Thriller\", \"History\", \"Drama\", \"Biopic\", \"Music\", \"Science Fiction\", \"Drama\", \"Comedy\", \"Horror\", \"Comedy\", \"Action\", \"Horror\", \"Superhero\", \"Comedy\", \"Comedy\", \"Science Fiction\", \"Crime\", \"Action\", \"Comedy\", \"Comedy\", \"Drama\", \"Science Fiction\", \"Adventure\", \"Drama\", \"Thriller\", \"Comedy\", \"Comedy\", \"Thriller\", \"Comedy\", \"Animation\", \"Horror\", \"Thriller\", \"Comedy\", \"Drama\", \"Biopic\", \"Animation\", \"Crime\", \"Thriller\", \"Drama\", \"Drama\", \"Music\", \"Thriller\", \"Science Fiction\", \"Romance\", \"Action\", \"Action\", \"Drama\", \"Animation\", \"Action\", \"Drama\", \"Drama\", \"Action\", \"War\", \"Comedy\", \"Thriller\", \"Drama\", \"Animation\", \"Drama\", \"Thriller\", \"Romance\", \"Drama\", \"Thriller\", \"Romance\", \"History\", \"Comedy\", \"Drama\", \"Horror\", \"Comedy\", \"Action\", \"Animation\", \"Action\", \"Action\", \"Thriller\", \"Biopic\", \"Drama\", \"Science Fiction\", \"Comedy\", \"Horror\", \"Horror\", \"Thriller\", \"Comedy\", \"Comedy\", \"Crime\", \"Animation\", \"Biopic\", \"Documentary\", \"Comedy\", \"Crime\", \"Adventure\", \"Drama\", \"Animation\", \"Action\", \"Thriller\", \"Thriller\", \"Drama\", \"Thriller\", \"Superhero\", \"Romance\", \"Documentary\", \"Comedy\", \"Comedy\", \"Romance\", \"Comedy\", \"Thriller\", \"Drama\", \"Thriller\", \"Thriller\", \"Crime\", \"Comedy\", \"Drama\", \"Horror\", \"Crime\", \"Horror\", \"Action\", \"Animation\", \"History\", \"Science Fiction\", \"Action\", \"History\", \"Comedy\", \"Fairy Tale\", \"Thriller\", \"Comedy\", \"Science Fiction\", \"Thriller\", \"Drama\", \"Crime\", \"Thriller\", \"Comedy\", \"Action\", \"Comedy\", \"Action\", \"Crime\", \"Comedy\", \"Comedy\", \"Animation\", \"Thriller\", \"Superhero\", \"Romance\", \"Comedy\", \"Comedy\", \"Fantasy\", \"Drama\", \"Romance\", \"Comedy\", \"Drama\", \"Crime\", \"Science Fiction\", \"War\", \"Romance\", \"Fantasy\", \"Romance\", \"Comedy\", \"Adventure\", \"Thriller\", \"Superhero\", \"War\", \"Drama\", \"Romance\", \"Horror\", \"Animation\", \"Drama\", \"Thriller\", \"Comedy\", \"Thriller\", \"Romance\", \"Thriller\", \"Comedy\", \"Drama\", \"Horror\", \"Western\", \"Comedy\", \"Comedy\", \"Animation\", \"Animation\", \"Animation\", \"Comedy\", \"Drama\", \"Action\", \"Science Fiction\", \"Horror\", \"Animation\", \"Drama\", \"Animation\", \"Thriller\", \"Drama\", \"Drama\", \"Thriller\", \"Action\", \"Horror\", \"Drama\", \"Animation\", \"Drama\", \"Thriller\", \"Drama\", \"Drama\", \"Action\", \"Drama\", \"Crime\", \"Romance\", \"Horror\", \"Animation\", \"Action\", \"Thriller\", \"Fantasy\", \"Thriller\", \"Thriller\", \"Crime\", \"Drama\", \"Thriller\", \"War\", \"Comedy\", \"Drama\", \"Drama\", \"Horror\", \"Comedy\", \"Drama\", \"Comedy\", \"Science Fiction\", \"Horror\", \"Adventure\", \"Western\", \"Drama\", \"War\", \"Comedy\", \"Music\", \"Drama\", \"Science Fiction\", \"Action\", \"Drama\", \"Science Fiction\", \"Thriller\", \"Biopic\", \"Drama\", \"Crime\", \"Action\", \"Fantasy\", \"Fantasy\", \"Action\", \"Comedy\", \"Science Fiction\", \"Action\", \"Comedy\", \"Crime\", \"Adventure\", \"Adventure\", \"Drama\", \"Drama\", \"Documentary\", \"Drama\", \"Drama\", \"Thriller\", \"Drama\", \"Horror\", \"Biopic\", \"Thriller\", \"Comedy\", \"Romance\", \"Superhero\", \"Science Fiction\", \"Thriller\", \"Drama\", \"Thriller\", \"Animation\", \"Documentary\", \"Drama\", \"Horror\", \"Comedy\", \"Action\", \"Romance\", \"Horror\", \"Thriller\", \"Comedy\", \"Fantasy\", \"Thriller\", \"Science Fiction\", \"Fantasy\", \"Thriller\", \"Thriller\", \"Thriller\", \"Science Fiction\", \"Drama\", \"Documentary\", \"Thriller\", \"Animation\", \"Comedy\", \"Drama\", \"Comedy\", \"Romance\", \"Animation\", \"Action\", \"War\", \"Superhero\", \"Action\", \"Horror\", \"Science Fiction\", \"Drama\", \"Animation\", \"Comedy\", \"Comedy\", \"Comedy\", \"Romance\", \"Comedy\", \"Thriller\", \"Drama\", \"Crime\", \"Animation\", \"Drama\", \"Adventure\", \"Biopic\", \"Romance\", \"Horror\", \"Drama\", \"Drama\", \"Drama\", \"Comedy\", \"Animation\", \"Music\", \"Crime\", \"Comedy\", \"Thriller\", \"Crime\", \"Western\", \"Horror\", \"Action\", \"Comedy\", \"War\", \"Romance\", \"Horror\", \"Drama\", \"Biopic\", \"Crime\", \"Action\", \"War\", \"Drama\", \"Science Fiction\", \"Romance\", \"Adventure\", \"Fantasy\", \"Crime\", \"Superhero\", \"Crime\", \"Drama\", \"Action\", \"Animation\", \"Comedy\", \"Thriller\", \"Drama\", \"Comedy\", \"Horror\", \"Comedy\", \"Animation\", \"Thriller\", \"Action\", \"History\", \"Romance\", \"Action\", \"Comedy\", \"Horror\", \"Drama\", \"Western\", \"Drama\", \"Romance\", \"Comedy\", \"Thriller\", \"Superhero\", \"Animation\", \"Thriller\", \"Thriller\", \"Comedy\", \"Horror\", \"Biopic\", \"Animation\", \"Adventure\", \"Action\", \"Adventure\", \"Thriller\", \"Comedy\", \"Comedy\", \"Comedy\", \"Comedy\", \"Horror\", \"Comedy\", \"Romance\", \"Drama\", \"Thriller\", \"Comedy\", \"Thriller\", \"Comedy\", \"Fairy Tale\", \"Crime\", \"Action\", \"Comedy\", \"Animation\", \"Comedy\", \"Action\", \"Romance\", \"Adventure\", \"Comedy\", \"Comedy\", \"Romance\", \"Drama\", \"Adventure\", \"Comedy\", \"Drama\", \"Drama\", \"Romance\", \"Thriller\", \"Drama\", \"Comedy\", \"Crime\", \"Horror\", \"Comedy\", \"Thriller\", \"Crime\", \"Horror\", \"Comedy\", \"Adventure\", \"Action\", \"Thriller\", \"Comedy\", \"Horror\", \"Comedy\", \"Horror\", \"Romance\", \"Crime\", \"Comedy\", \"Horror\", \"Drama\", \"Adventure\", \"Action\", \"Comedy\", \"Adventure\", \"Science Fiction\", \"Action\", \"Drama\", \"War\", \"Horror\", \"Drama\", \"Romance\", \"Drama\", \"Crime\", \"Romance\", \"Action\", \"Crime\", \"Drama\", \"Comedy\", \"Biopic\", \"Comedy\", \"Romance\", \"Drama\", \"Crime\", \"Romance\", \"Comedy\", \"Action\", \"Romance\", \"Biopic\", \"Horror\", \"History\", \"Thriller\", \"Fantasy\", \"Fantasy\", \"Comedy\", \"Drama\", \"Adventure\", \"Documentary\", \"Animation\", \"Comedy\", \"Adventure\", \"Drama\", \"Comedy\", \"Crime\", \"Comedy\", \"Romance\", \"Drama\", \"Action\", \"Documentary\", \"Thriller\", \"Thriller\", \"Science Fiction\", \"Crime\", \"Drama\", \"Drama\", \"War\", \"Action\", \"Fantasy\", \"Comedy\", \"Western\", \"Drama\", \"Animation\", \"Action\", \"Horror\", \"Biopic\", \"Horror\", \"Fantasy\", \"History\", \"Adventure\", \"Drama\", \"Drama\", \"Drama\", \"Drama\", \"Western\", \"Comedy\", \"Thriller\", \"Action\", \"Comedy\", \"Crime\", \"Drama\", \"Action\", \"Science Fiction\", \"Fantasy\", \"Adventure\"], \"x0\": \" \", \"xaxis\": \"x\", \"y\": [3.2, 6.6, 6.0, 6.9, 6.6, 7.7, 6.0, 6.0, 5.8, 5.2, 5.6, 5.7, 4.5, 7.1, 6.1, 5.5, 7.2, 6.3, 7.0, 5.3, 5.8, 5.6, 5.7, 8.1, 5.6, 6.2, 5.8, 8.3, 5.6, 7.0, 6.0, 3.8, 5.8, 5.1, 3.6, 5.7, 7.3, 6.5, 6.4, 5.3, 6.5, 6.2, 6.1, 6.2, 3.3, 9.0, 6.3, 5.3, 8.1, 7.8, 8.0, 4.5, 7.3, 5.6, 5.4, 5.5, 7.6, 3.8, 8.2, 6.4, 6.9, 6.2, 7.5, 4.5, 6.9, 6.5, 3.8, 7.3, 6.7, 4.6, 7.5, 7.4, 7.9, 6.3, 7.1, 6.1, 7.5, 6.1, 5.7, 6.7, 6.3, 7.0, 5.6, 6.4, 6.8, 5.8, 6.7, 5.6, 4.4, 5.1, 6.2, 6.0, 6.6, 5.3, 6.3, 6.1, 7.4, 7.7, 6.9, 5.7, 2.8, 8.4, 6.8, 6.2, 6.1, 7.7, 6.9, 6.4, 6.0, 7.4, 5.2, 5.3, 6.5, 4.7, 6.6, 6.1, 6.2, 6.5, 6.6, 7.6, 4.9, 6.8, 4.3, 5.3, 6.8, 4.9, 6.7, 5.7, 5.6, 6.4, 7.6, 5.1, 4.8, 6.9, 6.3, 5.1, 7.5, 6.8, 4.1, 6.9, 5.5, 5.9, 5.8, 6.8, 6.6, 7.5, 7.4, 6.8, 6.3, 5.6, 6.2, 6.5, 6.2, 5.6, 6.7, 6.2, 6.8, 6.3, 5.7, 7.9, 5.9, 7.5, 6.1, 6.5, 7.1, 7.3, 6.5, 6.6, 5.4, 5.3, 6.4, 4.8, 5.9, 5.6, 6.5, 7.3, 6.6, 6.2, 6.3, 6.3, 5.8, 8.0, 7.8, 5.0, 5.8, 7.6, 7.7, 3.8, 7.9, 6.9, 8.0, 5.0, 6.0, 5.5, 6.8, 6.9, 7.5, 7.7, 8.6, 6.5, 5.5, 6.0, 5.3, 5.3, 8.4, 6.3, 5.9, 5.7, 6.7, 5.9, 6.4, 5.9, 6.6, 6.3, 7.1, 8.2, 6.7, 7.0, 5.8, 6.6, 7.0, 6.0, 7.1, 6.6, 5.2, 6.1, 5.5, 7.0, 6.7, 3.1, 7.0, 2.8, 7.1, 7.0, 7.1, 7.3, 7.9, 5.6, 6.6, 6.2, 3.2, 6.4, 5.1, 6.1, 5.8, 5.7, 7.5, 6.0, 6.6, 7.0, 6.2, 5.5, 6.4, 6.5, 5.7, 6.5, 7.6, 6.3, 6.7, 7.1, 7.5, 6.1, 6.2, 5.1, 5.9, 6.5, 6.6, 7.8, 6.0, 7.7, 6.6, 6.6, 5.5, 3.4, 5.2, 9.0, 6.6, 7.2, 5.1, 5.5, 6.6, 6.5, 6.9, 7.1, 5.5, 5.9, 3.6, 6.0, 6.1, 5.1, 3.6, 6.2, 5.0, 6.0, 6.8, 5.4, 6.9, 7.0, 3.3, 5.3, 6.5, 7.0, 6.4, 8.1, 5.8, 5.7, 6.3, 6.4, 6.7, 6.3, 4.9, 5.5, 5.6, 6.4, 7.2, 5.8, 6.2, 5.4, 6.1, 6.7, 6.5, 6.1, 7.3, 5.7, 7.2, 5.7, 5.2, 5.6, 7.6, 7.2, 7.5, 6.4, 6.5, 6.7, 5.3, 7.5, 7.8, 6.2, 6.5, 6.7, 5.2, 7.1, 5.6, 7.0, 5.9, 5.7, 7.0, 5.9, 6.7, 8.6, 6.7, 4.0, 5.0, 6.0, 6.4, 6.0, 3.6, 7.3, 5.6, 7.2, 7.3, 6.6, 7.1, 6.5, 6.9, 5.1, 5.8, 6.2, 6.5, 6.8, 5.5, 6.5, 6.4, 7.4, 7.8, 6.3, 5.3, 7.7, 7.6, 6.6, 5.8, 6.7, 5.5, 6.1, 5.2, 5.3, 5.2, 5.7, 7.3, 6.4, 5.5, 5.7, 6.5, 6.5, 5.3, 6.6, 6.3, 7.0, 6.6, 7.6, 6.0, 5.7, 6.9, 5.3, 7.2, 6.6, 5.8, 5.2, 8.8, 5.5, 8.6, 3.9, 7.7, 5.6, 6.2, 6.4, 6.8, 6.1, 8.2, 6.4, 7.6, 8.0, 7.7, 5.2, 6.1, 6.3, 4.8, 6.4, 6.4, 7.2, 5.7, 7.4, 7.6, 7.2, 6.6, 5.5, 6.9, 6.8, 5.3, 6.3, 8.6, 6.1, 5.6, 6.1, 5.6, 6.7, 7.3, 7.6, 5.7, 7.5, 5.8, 6.0, 7.5, 5.7, 5.7, 7.3, 7.0, 6.5, 5.6, 6.4, 7.3, 6.0, 6.7, 6.0, 7.0, 6.4, 8.3, 6.4, 6.8, 7.6, 7.8, 5.5, 4.0, 6.2, 6.8, 5.7, 7.3, 6.3, 6.5, 6.1, 4.3, 2.5, 6.1, 7.3, 6.4, 6.1, 7.4, 6.0, 6.2, 6.0, 3.5, 3.8, 7.4, 6.7, 7.4, 5.9, 7.6, 5.6, 5.4, 7.5, 5.7, 7.6, 6.3, 5.9, 6.2, 4.8, 7.9, 6.9, 7.0, 5.8, 7.4, 6.1, 7.0, 5.0, 6.3, 6.5, 3.3, 7.1, 4.5, 8.4, 6.6, 6.1, 6.0, 5.6, 6.2, 7.4, 6.6, 7.2, 7.4, 5.3, 7.2, 5.1, 6.7, 6.2, 6.0, 6.1, 7.0, 5.9, 6.5, 5.2, 6.4, 6.2, 6.0, 6.2, 5.6, 4.7, 7.0, 5.2, 7.3, 7.3, 5.5, 3.4, 5.5, 5.3, 6.5, 6.3, 8.0, 6.6, 5.9, 7.4, 6.8, 5.5, 7.6, 5.9, 5.2, 5.5, 7.2, 6.8, 5.6, 7.9, 5.3, 7.1, 6.3, 5.2, 6.6, 8.3, 6.7, 4.6, 5.6, 4.3, 8.3, 6.2, 5.7, 5.2, 8.5, 6.2, 4.6, 5.8, 5.6, 4.6, 5.8, 4.7, 5.5, 5.8, 5.6, 5.2, 5.9, 4.2, 5.6, 6.4, 6.8, 6.4, 6.4, 6.1, 6.9, 5.8, 6.2, 7.3, 5.5, 5.8, 8.2, 7.7, 5.3, 4.6, 7.1, 7.3, 6.3, 6.1, 5.4, 6.1, 6.8, 6.8, 6.0, 6.3, 6.8, 7.0, 6.5, 5.5, 6.5, 5.4, 5.6, 5.3, 6.3, 7.4, 5.7, 7.9, 5.6, 5.3, 5.4, 6.1, 5.6, 4.8, 6.8, 6.5, 6.9, 8.0, 5.1, 6.1, 5.3, 5.4, 7.4, 7.6, 3.7, 3.7, 6.5, 7.3, 3.8, 7.0, 7.0, 6.8, 5.6, 5.9, 6.7, 6.4, 7.1, 6.6, 5.8, 4.5, 6.5, 4.9, 6.2, 6.0, 6.6, 6.0, 7.1, 6.6, 6.4, 7.6, 7.8, 7.8, 5.2, 6.0, 6.0, 3.6, 5.5, 8.0, 6.5, 5.0, 2.8, 8.4, 6.0, 8.0, 8.7, 5.1, 8.1, 7.2, 7.7, 6.6, 6.3, 6.8, 6.6, 5.8, 7.7, 6.5, 5.8, 1.9, 2.7, 7.2, 5.5, 6.8, 8.2, 5.4, 8.3, 6.8, 6.7, 8.1, 6.4, 6.5, 6.6, 7.6, 6.1, 6.8, 4.4, 7.0, 7.5, 7.1, 6.2, 6.9, 7.1, 7.3, 6.6, 4.4, 6.7, 5.9, 8.1, 6.4, 6.6, 5.1, 6.1, 6.9, 7.0, 7.2, 6.2, 7.8, 7.6, 7.5, 5.9, 5.0, 5.7, 5.8, 7.6, 7.2, 3.9, 6.8, 5.6, 7.2, 5.2, 5.7, 8.1, 6.5, 6.5, 6.7, 5.1, 7.7, 5.3, 6.6, 4.5, 4.3, 7.3, 3.6, 5.2, 7.1, 7.9, 6.8, 6.6, 7.5, 6.9, 5.4, 6.3, 7.0, 6.4, 6.3, 3.6, 5.1, 6.4, 5.9, 6.2, 3.4, 5.5, 6.9, 3.4, 6.2, 6.3, 7.8, 7.7, 4.1, 7.3, 8.1, 7.0, 6.2, 6.0, 3.9, 5.8, 7.3, 5.4, 5.9, 5.5, 4.3, 8.0, 6.2, 7.8, 7.0, 6.8, 6.2, 5.1, 6.5, 6.0, 4.7, 6.0, 6.8, 5.4, 6.3, 6.1, 8.0, 4.3, 7.2, 6.3, 8.2, 6.5, 6.1, 6.1, 9.0, 5.9, 5.6, 5.6, 6.5, 5.7, 5.7, 6.6, 6.3, 7.3, 7.3, 6.4, 6.4, 6.2, 7.3, 7.7, 4.6, 6.4, 7.1, 6.5, 5.8, 4.0, 6.1, 6.4, 6.8, 5.2, 8.3, 7.2, 7.1, 6.6, 7.3, 2.5, 6.1, 6.0, 5.7, 9.2, 8.1, 6.9, 4.7, 5.8, 4.5, 5.6, 5.5, 4.6, 4.4, 5.9, 8.7, 6.3, 5.5, 5.2, 5.9, 7.1, 5.3, 5.9, 4.9, 6.8, 6.5, 5.2, 3.2, 6.2, 6.4, 7.6, 5.4, 6.0, 6.1, 5.8, 7.5, 5.5, 5.6, 6.5, 6.4, 7.1, 6.9, 6.8, 7.0, 4.4, 6.6, 6.4, 6.8, 7.1, 6.6, 7.0, 6.7, 5.8, 5.8, 5.4, 5.6, 7.3, 6.3, 5.5, 6.9, 6.6, 6.3, 8.2, 5.4, 5.4, 6.7, 6.4, 7.0, 6.6, 6.3, 5.1, 3.6, 7.3, 5.4, 6.7, 6.1, 4.7, 6.5, 4.7, 6.3, 5.9, 6.6, 7.0, 5.5, 6.3, 8.1, 7.6, 6.6, 5.7, 3.6, 5.6, 5.6, 5.8, 2.8, 7.3, 8.1, 5.8, 6.3, 7.5, 5.9, 6.3, 6.2, 6.4, 6.4, 6.7, 5.7, 6.0, 6.2, 6.2, 6.0, 6.2, 7.2, 8.0, 6.6, 6.5, 3.8, 6.8, 6.2, 6.8, 5.3, 7.2, 7.7, 6.4, 6.9, 6.1, 5.7, 7.4, 4.6, 6.4, 6.4, 5.9, 5.8, 6.6, 5.9, 5.5, 8.9, 5.9, 6.7, 6.4, 6.2, 8.2, 3.1, 5.4, 5.0, 5.6, 7.6, 7.1, 6.4, 5.1, 6.1, 6.2, 5.3, 5.8, 6.8, 7.5, 4.7, 5.2, 6.3, 6.6, 7.0, 7.7, 8.2, 6.8, 5.2, 5.9, 5.5, 5.2, 5.0, 7.1, 5.5, 4.1, 8.0, 7.1, 6.0, 6.0, 5.7, 6.5, 7.5, 7.2, 5.1, 6.2, 6.5, 4.2, 6.8, 5.8, 6.2, 7.4, 7.5, 6.6, 5.3, 5.6, 7.6, 6.4, 6.4, 5.8, 6.4, 7.4, 8.2, 6.9, 7.1, 6.1, 4.7, 5.2, 7.0, 7.6, 8.0, 5.3, 6.6, 7.5, 6.5, 5.2, 5.9, 6.5, 6.5, 5.9, 8.0, 4.6, 6.4, 7.3, 6.2, 4.8, 5.7, 7.5, 4.3, 5.4, 6.9, 7.1, 6.3, 7.2, 6.4, 3.5, 7.7, 7.0, 5.8, 5.8, 7.1, 7.4, 5.6, 6.6, 6.5, 7.3, 7.9, 6.9, 7.3, 7.3, 6.2, 6.8, 6.5, 6.6, 8.2, 8.6, 6.3, 6.1, 5.6, 5.9, 7.1, 6.5, 5.8, 5.8, 7.5, 6.9, 5.1, 8.1, 7.8, 7.8, 5.3, 8.9, 6.3, 5.4, 6.0, 4.4, 6.0, 5.0, 7.8, 5.4, 7.6, 6.6, 7.7, 5.5, 6.3, 5.3, 6.3, 7.1, 4.7, 6.1, 7.6, 6.6, 4.9, 7.5, 6.5, 7.7, 6.2, 7.9, 7.2, 7.1, 6.7, 6.4, 5.0, 6.9, 8.4, 6.4, 6.0, 7.2, 6.5, 7.1, 7.6, 7.3, 6.1, 6.2, 9.0, 8.5, 6.2, 6.0, 7.2, 8.2, 6.8, 6.2, 6.4, 7.8, 6.5, 5.6, 4.6, 7.9, 5.9, 6.5, 6.2, 7.7, 6.4, 4.5, 3.1, 6.3, 4.1, 6.7, 5.8, 5.5, 5.7, 5.7, 6.5, 6.3, 6.7, 6.0, 5.9, 4.5, 6.3, 5.5, 5.5, 6.6, 6.6, 5.4, 5.1, 7.4, 1.9, 7.3, 6.4, 5.8, 6.6, 5.7, 6.5, 7.1, 2.2, 5.7, 6.6, 4.5, 6.0, 6.3, 7.1, 6.9, 6.6, 4.7, 4.7, 6.4, 4.8, 5.5, 6.2, 6.4, 8.1, 6.3, 6.2, 6.6, 5.5, 5.2, 4.6, 7.6, 6.5, 5.8, 5.7, 7.4, 5.6, 6.3, 6.2, 7.8, 8.2, 6.5, 4.2, 5.8, 5.8, 6.9, 7.6, 4.9, 7.1, 5.7, 6.5, 7.0, 6.3, 5.8, 7.1, 5.7, 7.2, 6.9, 4.9, 6.6, 6.7, 6.4, 6.6, 6.5, 6.6, 5.2, 5.8, 6.6, 4.4, 5.1, 5.5, 5.8, 7.2, 6.9, 6.6, 6.8, 5.4, 7.3, 6.5, 6.4, 6.7, 4.6, 5.0, 7.9, 5.6, 6.4, 5.5, 3.3, 4.6, 6.7, 8.1, 6.1, 7.8, 5.4, 7.0, 6.2, 6.9, 6.7, 3.2, 7.5, 7.6, 6.1, 5.6, 6.3, 5.0, 6.1, 5.8, 5.5, 4.8, 6.3, 3.7, 4.2, 8.4, 7.1, 2.7, 7.2, 6.5, 5.9, 6.7, 6.1, 6.6, 5.8, 7.0, 7.0, 7.6, 5.5, 7.9, 6.1, 5.5, 4.1, 6.9, 6.2, 6.7, 5.7, 6.9, 6.0, 5.6, 7.3, 8.0, 7.0, 6.8, 4.8, 7.0, 4.8, 7.9, 6.6, 6.5, 4.8, 7.4, 6.3, 5.2, 6.4, 6.5, 6.9, 5.9, 4.8, 7.1, 7.0, 5.6, 7.7, 6.1, 4.6, 6.2, 6.6, 7.5, 5.7, 5.4, 5.5, 5.1, 6.2, 6.7, 7.7, 8.2, 6.3, 8.0, 5.5, 6.8, 6.5, 3.3, 6.7, 4.6, 4.8, 7.8, 5.7, 5.0, 7.3, 7.7, 7.9, 7.7, 7.0, 7.6, 4.1, 6.3, 5.8, 6.4, 6.1, 6.4, 6.7, 7.1, 6.7, 4.2, 6.5, 6.4, 7.2, 4.2, 7.5, 8.0, 6.8, 7.6, 6.9, 7.2, 7.6, 7.2, 6.8, 6.6, 6.5, 7.3, 5.9, 4.4, 6.8, 7.0, 5.7, 8.3, 6.4, 6.1, 6.3, 7.1, 6.7, 6.4, 6.1, 6.4, 7.2, 7.1, 7.5, 5.1, 7.4, 4.5, 5.5, 5.9, 6.9, 6.2, 6.6, 5.7, 7.5, 7.4, 6.3, 5.7, 5.2, 6.2, 7.2, 7.3, 7.6, 7.1, 5.3, 6.0, 7.9, 7.2, 7.3, 6.2, 5.5, 7.4, 6.3, 5.6, 7.3, 5.3, 6.7, 7.6, 5.4, 3.8, 6.3, 7.6, 8.2, 6.2, 5.0, 7.2, 6.0, 6.2, 6.2, 7.1, 6.5, 6.0, 7.3, 5.1, 6.5, 5.2, 6.4, 7.0, 6.9, 7.2, 3.6, 7.9, 6.1, 4.9, 4.9, 7.4, 8.8, 7.7, 6.4, 6.9, 5.4, 6.9, 5.6, 3.8, 6.1, 7.1, 5.8, 5.9, 6.9, 7.7, 7.2, 7.0, 6.9, 6.1, 6.4, 7.2, 6.3, 7.1, 3.6, 7.0, 6.5, 5.6, 5.8, 7.1, 5.0, 6.7, 5.2, 4.8, 7.3, 6.0, 6.7, 6.2, 7.1, 6.2, 6.3, 8.3, 7.8, 5.8, 7.5, 7.5, 8.0, 7.3, 6.8, 6.8, 6.5, 6.9, 5.7, 5.2, 7.3, 4.9, 6.3, 5.3, 7.3, 7.0, 5.0, 6.6, 7.4, 7.7, 7.6, 5.8, 6.2, 6.6, 7.8, 6.3, 7.3, 6.3, 5.8, 5.8, 6.9, 6.9, 5.3, 4.6, 8.2, 6.1, 6.8, 8.8, 7.9, 7.6, 5.6, 6.3, 6.1, 5.7, 6.5, 5.9, 6.3, 6.5, 6.3, 7.3, 7.1, 5.7, 8.4, 8.2, 6.4, 7.8, 7.2, 6.9, 6.4, 6.7, 6.2, 6.5, 6.8, 5.8, 5.1, 4.8, 6.9, 6.0, 6.8, 5.8, 5.6, 7.5, 4.1, 5.3, 6.3, 7.2, 7.7, 6.9, 5.5, 6.3, 5.3, 7.2, 7.6, 7.6, 5.7, 7.1, 5.3, 6.6, 6.6, 5.7, 6.5, 7.5, 6.3, 6.9, 7.3, 7.1, 5.7, 6.1, 5.8, 4.4, 5.7, 5.9, 5.2, 5.9, 6.8, 6.3, 6.9, 7.1, 6.0, 7.5, 6.8, 6.4, 6.6, 6.6, 6.5, 7.4, 6.7, 7.7, 4.5, 8.1, 4.3, 6.6, 8.1, 7.8, 7.8, 6.1, 7.1, 5.7, 5.5, 8.1, 6.9, 5.9, 6.9, 6.8, 6.7, 5.9, 4.6, 6.7, 8.9, 4.8, 7.5, 6.1, 6.6, 3.2, 6.6, 7.6, 4.8, 6.8, 6.1, 7.3, 4.4, 5.8, 6.0, 6.1, 7.3, 7.2, 7.3, 6.4, 6.7, 7.6, 6.5, 5.5, 5.4, 6.8, 6.6, 6.4, 7.5, 7.5, 5.9, 5.3, 7.6, 6.4, 8.5, 3.8, 6.0, 7.4, 6.3, 6.4, 5.2, 6.3, 6.2, 5.4, 5.8, 7.4, 6.5, 8.1, 6.4, 5.8, 6.8, 6.4, 6.6, 6.6, 6.9, 7.2, 6.8, 7.2, 5.8, 7.3, 6.4, 5.9, 6.8, 7.4, 5.5, 7.3, 7.3, 7.5, 7.0, 4.9, 7.4, 6.8, 7.8, 7.3, 6.7, 5.6, 6.3, 5.0, 7.1, 7.2, 6.3, 6.3, 6.8, 5.1, 6.5, 6.1, 5.7, 6.4, 6.2, 5.1, 6.8, 7.6, 5.7, 5.3, 6.5, 6.2, 8.9, 4.9, 5.6, 7.2, 8.5, 6.6, 7.8, 4.6, 6.2, 4.9, 5.2, 5.0, 5.0, 5.6, 5.5, 7.0, 3.6, 6.7, 6.4, 6.3, 7.0, 5.6, 6.2, 6.0, 6.1, 5.5, 6.7, 8.1, 6.7, 5.7, 5.2, 5.8, 6.6, 6.6, 6.0, 6.8, 5.1, 8.3, 5.7, 7.1, 5.5, 6.6, 4.1, 6.1, 7.3, 4.7, 6.9, 6.1, 6.2, 7.6, 6.9, 7.6, 5.8, 6.3, 6.2, 8.1, 5.4, 7.3, 6.0, 6.3, 8.7, 4.4, 8.5, 5.4, 6.3, 7.9, 8.1, 7.6, 7.0, 5.6, 3.8, 6.4, 6.7, 7.6, 4.6, 7.7, 6.0, 7.7, 6.8, 6.5, 6.1, 6.6, 8.1, 5.5, 5.6, 6.1, 8.2, 6.9, 6.3, 5.5, 6.3, 5.7, 3.9, 5.5, 6.2, 3.5, 6.3, 7.1, 6.9, 7.8, 6.7, 6.4, 6.3, 6.6, 6.3, 7.6, 8.1, 6.3, 6.3, 6.0, 7.3], \"y0\": \" \", \"yaxis\": \"y\"}],\n",
              "                        {\"boxmode\": \"group\", \"legend\": {\"tracegroupgap\": 0}, \"margin\": {\"t\": 60}, \"template\": {\"data\": {\"bar\": [{\"error_x\": {\"color\": \"#2a3f5f\"}, \"error_y\": {\"color\": \"#2a3f5f\"}, \"marker\": {\"line\": {\"color\": \"#E5ECF6\", \"width\": 0.5}}, \"type\": \"bar\"}], \"barpolar\": [{\"marker\": {\"line\": {\"color\": \"#E5ECF6\", \"width\": 0.5}}, \"type\": \"barpolar\"}], \"carpet\": [{\"aaxis\": {\"endlinecolor\": \"#2a3f5f\", \"gridcolor\": \"white\", \"linecolor\": \"white\", \"minorgridcolor\": \"white\", \"startlinecolor\": \"#2a3f5f\"}, \"baxis\": {\"endlinecolor\": \"#2a3f5f\", \"gridcolor\": \"white\", \"linecolor\": \"white\", \"minorgridcolor\": \"white\", \"startlinecolor\": \"#2a3f5f\"}, \"type\": \"carpet\"}], \"choropleth\": [{\"colorbar\": {\"outlinewidth\": 0, \"ticks\": \"\"}, \"type\": \"choropleth\"}], \"contour\": [{\"colorbar\": {\"outlinewidth\": 0, \"ticks\": \"\"}, \"colorscale\": [[0.0, \"#0d0887\"], [0.1111111111111111, \"#46039f\"], [0.2222222222222222, \"#7201a8\"], [0.3333333333333333, \"#9c179e\"], [0.4444444444444444, \"#bd3786\"], [0.5555555555555556, \"#d8576b\"], [0.6666666666666666, \"#ed7953\"], [0.7777777777777778, \"#fb9f3a\"], [0.8888888888888888, \"#fdca26\"], [1.0, \"#f0f921\"]], \"type\": \"contour\"}], \"contourcarpet\": [{\"colorbar\": {\"outlinewidth\": 0, \"ticks\": \"\"}, \"type\": \"contourcarpet\"}], \"heatmap\": [{\"colorbar\": {\"outlinewidth\": 0, \"ticks\": \"\"}, \"colorscale\": [[0.0, \"#0d0887\"], [0.1111111111111111, \"#46039f\"], [0.2222222222222222, \"#7201a8\"], [0.3333333333333333, \"#9c179e\"], [0.4444444444444444, \"#bd3786\"], [0.5555555555555556, \"#d8576b\"], [0.6666666666666666, \"#ed7953\"], [0.7777777777777778, \"#fb9f3a\"], [0.8888888888888888, \"#fdca26\"], [1.0, \"#f0f921\"]], \"type\": \"heatmap\"}], \"heatmapgl\": [{\"colorbar\": {\"outlinewidth\": 0, \"ticks\": \"\"}, \"colorscale\": [[0.0, \"#0d0887\"], [0.1111111111111111, \"#46039f\"], [0.2222222222222222, \"#7201a8\"], [0.3333333333333333, \"#9c179e\"], [0.4444444444444444, \"#bd3786\"], [0.5555555555555556, \"#d8576b\"], [0.6666666666666666, \"#ed7953\"], [0.7777777777777778, \"#fb9f3a\"], [0.8888888888888888, \"#fdca26\"], [1.0, \"#f0f921\"]], \"type\": \"heatmapgl\"}], \"histogram\": [{\"marker\": {\"colorbar\": {\"outlinewidth\": 0, \"ticks\": \"\"}}, \"type\": \"histogram\"}], \"histogram2d\": [{\"colorbar\": {\"outlinewidth\": 0, \"ticks\": \"\"}, \"colorscale\": [[0.0, \"#0d0887\"], [0.1111111111111111, \"#46039f\"], [0.2222222222222222, \"#7201a8\"], [0.3333333333333333, \"#9c179e\"], [0.4444444444444444, \"#bd3786\"], [0.5555555555555556, \"#d8576b\"], [0.6666666666666666, \"#ed7953\"], [0.7777777777777778, \"#fb9f3a\"], [0.8888888888888888, \"#fdca26\"], [1.0, \"#f0f921\"]], \"type\": \"histogram2d\"}], \"histogram2dcontour\": [{\"colorbar\": {\"outlinewidth\": 0, \"ticks\": \"\"}, \"colorscale\": [[0.0, \"#0d0887\"], [0.1111111111111111, \"#46039f\"], [0.2222222222222222, \"#7201a8\"], [0.3333333333333333, \"#9c179e\"], [0.4444444444444444, \"#bd3786\"], [0.5555555555555556, \"#d8576b\"], [0.6666666666666666, \"#ed7953\"], [0.7777777777777778, \"#fb9f3a\"], [0.8888888888888888, \"#fdca26\"], [1.0, \"#f0f921\"]], \"type\": \"histogram2dcontour\"}], \"mesh3d\": [{\"colorbar\": {\"outlinewidth\": 0, \"ticks\": \"\"}, \"type\": \"mesh3d\"}], \"parcoords\": [{\"line\": {\"colorbar\": {\"outlinewidth\": 0, \"ticks\": \"\"}}, \"type\": \"parcoords\"}], \"pie\": [{\"automargin\": true, \"type\": \"pie\"}], \"scatter\": [{\"marker\": {\"colorbar\": {\"outlinewidth\": 0, \"ticks\": \"\"}}, \"type\": \"scatter\"}], \"scatter3d\": [{\"line\": {\"colorbar\": {\"outlinewidth\": 0, \"ticks\": \"\"}}, \"marker\": {\"colorbar\": {\"outlinewidth\": 0, \"ticks\": \"\"}}, \"type\": \"scatter3d\"}], \"scattercarpet\": [{\"marker\": {\"colorbar\": {\"outlinewidth\": 0, \"ticks\": \"\"}}, \"type\": \"scattercarpet\"}], \"scattergeo\": [{\"marker\": {\"colorbar\": {\"outlinewidth\": 0, \"ticks\": \"\"}}, \"type\": \"scattergeo\"}], \"scattergl\": [{\"marker\": {\"colorbar\": {\"outlinewidth\": 0, \"ticks\": \"\"}}, \"type\": \"scattergl\"}], \"scattermapbox\": [{\"marker\": {\"colorbar\": {\"outlinewidth\": 0, \"ticks\": \"\"}}, \"type\": \"scattermapbox\"}], \"scatterpolar\": [{\"marker\": {\"colorbar\": {\"outlinewidth\": 0, \"ticks\": \"\"}}, \"type\": \"scatterpolar\"}], \"scatterpolargl\": [{\"marker\": {\"colorbar\": {\"outlinewidth\": 0, \"ticks\": \"\"}}, \"type\": \"scatterpolargl\"}], \"scatterternary\": [{\"marker\": {\"colorbar\": {\"outlinewidth\": 0, \"ticks\": \"\"}}, \"type\": \"scatterternary\"}], \"surface\": [{\"colorbar\": {\"outlinewidth\": 0, \"ticks\": \"\"}, \"colorscale\": [[0.0, \"#0d0887\"], [0.1111111111111111, \"#46039f\"], [0.2222222222222222, \"#7201a8\"], [0.3333333333333333, \"#9c179e\"], [0.4444444444444444, \"#bd3786\"], [0.5555555555555556, \"#d8576b\"], [0.6666666666666666, \"#ed7953\"], [0.7777777777777778, \"#fb9f3a\"], [0.8888888888888888, \"#fdca26\"], [1.0, \"#f0f921\"]], \"type\": \"surface\"}], \"table\": [{\"cells\": {\"fill\": {\"color\": \"#EBF0F8\"}, \"line\": {\"color\": \"white\"}}, \"header\": {\"fill\": {\"color\": \"#C8D4E3\"}, \"line\": {\"color\": \"white\"}}, \"type\": \"table\"}]}, \"layout\": {\"annotationdefaults\": {\"arrowcolor\": \"#2a3f5f\", \"arrowhead\": 0, \"arrowwidth\": 1}, \"coloraxis\": {\"colorbar\": {\"outlinewidth\": 0, \"ticks\": \"\"}}, \"colorscale\": {\"diverging\": [[0, \"#8e0152\"], [0.1, \"#c51b7d\"], [0.2, \"#de77ae\"], [0.3, \"#f1b6da\"], [0.4, \"#fde0ef\"], [0.5, \"#f7f7f7\"], [0.6, \"#e6f5d0\"], [0.7, \"#b8e186\"], [0.8, \"#7fbc41\"], [0.9, \"#4d9221\"], [1, \"#276419\"]], \"sequential\": [[0.0, \"#0d0887\"], [0.1111111111111111, \"#46039f\"], [0.2222222222222222, \"#7201a8\"], [0.3333333333333333, \"#9c179e\"], [0.4444444444444444, \"#bd3786\"], [0.5555555555555556, \"#d8576b\"], [0.6666666666666666, \"#ed7953\"], [0.7777777777777778, \"#fb9f3a\"], [0.8888888888888888, \"#fdca26\"], [1.0, \"#f0f921\"]], \"sequentialminus\": [[0.0, \"#0d0887\"], [0.1111111111111111, \"#46039f\"], [0.2222222222222222, \"#7201a8\"], [0.3333333333333333, \"#9c179e\"], [0.4444444444444444, \"#bd3786\"], [0.5555555555555556, \"#d8576b\"], [0.6666666666666666, \"#ed7953\"], [0.7777777777777778, \"#fb9f3a\"], [0.8888888888888888, \"#fdca26\"], [1.0, \"#f0f921\"]]}, \"colorway\": [\"#636efa\", \"#EF553B\", \"#00cc96\", \"#ab63fa\", \"#FFA15A\", \"#19d3f3\", \"#FF6692\", \"#B6E880\", \"#FF97FF\", \"#FECB52\"], \"font\": {\"color\": \"#2a3f5f\"}, \"geo\": {\"bgcolor\": \"white\", \"lakecolor\": \"white\", \"landcolor\": \"#E5ECF6\", \"showlakes\": true, \"showland\": true, \"subunitcolor\": \"white\"}, \"hoverlabel\": {\"align\": \"left\"}, \"hovermode\": \"closest\", \"mapbox\": {\"style\": \"light\"}, \"paper_bgcolor\": \"white\", \"plot_bgcolor\": \"#E5ECF6\", \"polar\": {\"angularaxis\": {\"gridcolor\": \"white\", \"linecolor\": \"white\", \"ticks\": \"\"}, \"bgcolor\": \"#E5ECF6\", \"radialaxis\": {\"gridcolor\": \"white\", \"linecolor\": \"white\", \"ticks\": \"\"}}, \"scene\": {\"xaxis\": {\"backgroundcolor\": \"#E5ECF6\", \"gridcolor\": \"white\", \"gridwidth\": 2, \"linecolor\": \"white\", \"showbackground\": true, \"ticks\": \"\", \"zerolinecolor\": \"white\"}, \"yaxis\": {\"backgroundcolor\": \"#E5ECF6\", \"gridcolor\": \"white\", \"gridwidth\": 2, \"linecolor\": \"white\", \"showbackground\": true, \"ticks\": \"\", \"zerolinecolor\": \"white\"}, \"zaxis\": {\"backgroundcolor\": \"#E5ECF6\", \"gridcolor\": \"white\", \"gridwidth\": 2, \"linecolor\": \"white\", \"showbackground\": true, \"ticks\": \"\", \"zerolinecolor\": \"white\"}}, \"shapedefaults\": {\"line\": {\"color\": \"#2a3f5f\"}}, \"ternary\": {\"aaxis\": {\"gridcolor\": \"white\", \"linecolor\": \"white\", \"ticks\": \"\"}, \"baxis\": {\"gridcolor\": \"white\", \"linecolor\": \"white\", \"ticks\": \"\"}, \"bgcolor\": \"#E5ECF6\", \"caxis\": {\"gridcolor\": \"white\", \"linecolor\": \"white\", \"ticks\": \"\"}}, \"title\": {\"x\": 0.05}, \"xaxis\": {\"automargin\": true, \"gridcolor\": \"white\", \"linecolor\": \"white\", \"ticks\": \"\", \"title\": {\"standoff\": 15}, \"zerolinecolor\": \"white\", \"zerolinewidth\": 2}, \"yaxis\": {\"automargin\": true, \"gridcolor\": \"white\", \"linecolor\": \"white\", \"ticks\": \"\", \"title\": {\"standoff\": 15}, \"zerolinecolor\": \"white\", \"zerolinewidth\": 2}}}, \"xaxis\": {\"anchor\": \"y\", \"domain\": [0.0, 1.0], \"title\": {\"text\": \"GENRE\"}}, \"yaxis\": {\"anchor\": \"x\", \"domain\": [0.0, 1.0], \"title\": {\"text\": \"IMDb_Score\"}}},\n",
              "                        {\"responsive\": true}\n",
              "                    ).then(function(){\n",
              "                            \n",
              "var gd = document.getElementById('bc814d95-6eb9-4aac-9bb3-dffc0569b5b3');\n",
              "var x = new MutationObserver(function (mutations, observer) {{\n",
              "        var display = window.getComputedStyle(gd).display;\n",
              "        if (!display || display === 'none') {{\n",
              "            console.log([gd, 'removed!']);\n",
              "            Plotly.purge(gd);\n",
              "            observer.disconnect();\n",
              "        }}\n",
              "}});\n",
              "\n",
              "// Listen for the removal of the full notebook cells\n",
              "var notebookContainer = gd.closest('#notebook-container');\n",
              "if (notebookContainer) {{\n",
              "    x.observe(notebookContainer, {childList: true});\n",
              "}}\n",
              "\n",
              "// Listen for the clearing of the current output cell\n",
              "var outputEl = gd.closest('.output');\n",
              "if (outputEl) {{\n",
              "    x.observe(outputEl, {childList: true});\n",
              "}}\n",
              "\n",
              "                        })\n",
              "                };\n",
              "                \n",
              "            </script>\n",
              "        </div>\n",
              "</body>\n",
              "</html>"
            ]
          },
          "metadata": {
            "tags": []
          }
        }
      ]
    },
    {
      "cell_type": "markdown",
      "metadata": {
        "id": "sq-duifkr6ec"
      },
      "source": [
        "#### TV"
      ]
    },
    {
      "cell_type": "code",
      "metadata": {
        "id": "6wlVRgdwWiqh",
        "colab": {
          "base_uri": "https://localhost:8080/",
          "height": 419
        },
        "outputId": "90a1e2b4-5e71-4d71-f0f5-f360bfa6d776"
      },
      "source": [
        "tv_base = IMDB_log.loc[(IMDB_log.Type == 'TV')]\n",
        "tv_base"
      ],
      "execution_count": 45,
      "outputs": [
        {
          "output_type": "execute_result",
          "data": {
            "text/html": [
              "<div>\n",
              "<style scoped>\n",
              "    .dataframe tbody tr th:only-of-type {\n",
              "        vertical-align: middle;\n",
              "    }\n",
              "\n",
              "    .dataframe tbody tr th {\n",
              "        vertical-align: top;\n",
              "    }\n",
              "\n",
              "    .dataframe thead th {\n",
              "        text-align: right;\n",
              "    }\n",
              "</style>\n",
              "<table border=\"1\" class=\"dataframe\">\n",
              "  <thead>\n",
              "    <tr style=\"text-align: right;\">\n",
              "      <th></th>\n",
              "      <th>Title</th>\n",
              "      <th>Type</th>\n",
              "      <th>GENRE</th>\n",
              "      <th>IMDb_Score</th>\n",
              "      <th>Log_VALUE</th>\n",
              "    </tr>\n",
              "  </thead>\n",
              "  <tbody>\n",
              "    <tr>\n",
              "      <th>0</th>\n",
              "      <td>thequeensgambit</td>\n",
              "      <td>TV</td>\n",
              "      <td>Drama</td>\n",
              "      <td>7.3</td>\n",
              "      <td>10.711</td>\n",
              "    </tr>\n",
              "    <tr>\n",
              "      <th>2</th>\n",
              "      <td>emilyinparis</td>\n",
              "      <td>TV</td>\n",
              "      <td>Drama</td>\n",
              "      <td>7.1</td>\n",
              "      <td>10.209</td>\n",
              "    </tr>\n",
              "    <tr>\n",
              "      <th>3</th>\n",
              "      <td>lucifer</td>\n",
              "      <td>TV</td>\n",
              "      <td>Superhero</td>\n",
              "      <td>6.9</td>\n",
              "      <td>10.155</td>\n",
              "    </tr>\n",
              "    <tr>\n",
              "      <th>4</th>\n",
              "      <td>theumbrellaacademy</td>\n",
              "      <td>TV</td>\n",
              "      <td>Superhero</td>\n",
              "      <td>8.0</td>\n",
              "      <td>10.064</td>\n",
              "    </tr>\n",
              "    <tr>\n",
              "      <th>5</th>\n",
              "      <td>darkdesire</td>\n",
              "      <td>TV</td>\n",
              "      <td>Drama</td>\n",
              "      <td>6.4</td>\n",
              "      <td>9.953</td>\n",
              "    </tr>\n",
              "    <tr>\n",
              "      <th>...</th>\n",
              "      <td>...</td>\n",
              "      <td>...</td>\n",
              "      <td>...</td>\n",
              "      <td>...</td>\n",
              "      <td>...</td>\n",
              "    </tr>\n",
              "    <tr>\n",
              "      <th>2816</th>\n",
              "      <td>thelandofhypocrisy</td>\n",
              "      <td>TV</td>\n",
              "      <td>Comedy</td>\n",
              "      <td>6.7</td>\n",
              "      <td>1.099</td>\n",
              "    </tr>\n",
              "    <tr>\n",
              "      <th>2820</th>\n",
              "      <td>webarebears</td>\n",
              "      <td>TV</td>\n",
              "      <td>Animation</td>\n",
              "      <td>6.8</td>\n",
              "      <td>1.099</td>\n",
              "    </tr>\n",
              "    <tr>\n",
              "      <th>2821</th>\n",
              "      <td>paradisepd</td>\n",
              "      <td>TV</td>\n",
              "      <td>Animation</td>\n",
              "      <td>6.9</td>\n",
              "      <td>1.099</td>\n",
              "    </tr>\n",
              "    <tr>\n",
              "      <th>2853</th>\n",
              "      <td>theunderclass</td>\n",
              "      <td>TV</td>\n",
              "      <td>Drama</td>\n",
              "      <td>6.4</td>\n",
              "      <td>5.932</td>\n",
              "    </tr>\n",
              "    <tr>\n",
              "      <th>2898</th>\n",
              "      <td>tokyoghoul</td>\n",
              "      <td>TV</td>\n",
              "      <td>Animation</td>\n",
              "      <td>5.7</td>\n",
              "      <td>4.078</td>\n",
              "    </tr>\n",
              "  </tbody>\n",
              "</table>\n",
              "<p>532 rows × 5 columns</p>\n",
              "</div>"
            ],
            "text/plain": [
              "                   Title Type      GENRE  IMDb_Score  Log_VALUE\n",
              "0        thequeensgambit   TV      Drama         7.3     10.711\n",
              "2           emilyinparis   TV      Drama         7.1     10.209\n",
              "3                lucifer   TV  Superhero         6.9     10.155\n",
              "4     theumbrellaacademy   TV  Superhero         8.0     10.064\n",
              "5             darkdesire   TV      Drama         6.4      9.953\n",
              "...                  ...  ...        ...         ...        ...\n",
              "2816  thelandofhypocrisy   TV     Comedy         6.7      1.099\n",
              "2820         webarebears   TV  Animation         6.8      1.099\n",
              "2821          paradisepd   TV  Animation         6.9      1.099\n",
              "2853       theunderclass   TV      Drama         6.4      5.932\n",
              "2898          tokyoghoul   TV  Animation         5.7      4.078\n",
              "\n",
              "[532 rows x 5 columns]"
            ]
          },
          "metadata": {
            "tags": []
          },
          "execution_count": 45
        }
      ]
    },
    {
      "cell_type": "code",
      "metadata": {
        "id": "GqhkSjmdqnBy",
        "colab": {
          "base_uri": "https://localhost:8080/",
          "height": 514
        },
        "outputId": "624c886a-4cec-4060-9e04-3a65f63a41c1"
      },
      "source": [
        "tv_genre = tv_base.groupby(\"GENRE\")\n",
        "tv_genre.first()"
      ],
      "execution_count": 46,
      "outputs": [
        {
          "output_type": "execute_result",
          "data": {
            "text/html": [
              "<div>\n",
              "<style scoped>\n",
              "    .dataframe tbody tr th:only-of-type {\n",
              "        vertical-align: middle;\n",
              "    }\n",
              "\n",
              "    .dataframe tbody tr th {\n",
              "        vertical-align: top;\n",
              "    }\n",
              "\n",
              "    .dataframe thead th {\n",
              "        text-align: right;\n",
              "    }\n",
              "</style>\n",
              "<table border=\"1\" class=\"dataframe\">\n",
              "  <thead>\n",
              "    <tr style=\"text-align: right;\">\n",
              "      <th></th>\n",
              "      <th>Title</th>\n",
              "      <th>Type</th>\n",
              "      <th>IMDb_Score</th>\n",
              "      <th>Log_VALUE</th>\n",
              "    </tr>\n",
              "    <tr>\n",
              "      <th>GENRE</th>\n",
              "      <th></th>\n",
              "      <th></th>\n",
              "      <th></th>\n",
              "      <th></th>\n",
              "    </tr>\n",
              "  </thead>\n",
              "  <tbody>\n",
              "    <tr>\n",
              "      <th>Action</th>\n",
              "      <td>bodyguard</td>\n",
              "      <td>TV</td>\n",
              "      <td>8.1</td>\n",
              "      <td>4.700</td>\n",
              "    </tr>\n",
              "    <tr>\n",
              "      <th>Animation</th>\n",
              "      <td>pawpatrol</td>\n",
              "      <td>TV</td>\n",
              "      <td>6.2</td>\n",
              "      <td>9.307</td>\n",
              "    </tr>\n",
              "    <tr>\n",
              "      <th>Comedy</th>\n",
              "      <td>friends</td>\n",
              "      <td>TV</td>\n",
              "      <td>8.9</td>\n",
              "      <td>9.786</td>\n",
              "    </tr>\n",
              "    <tr>\n",
              "      <th>Crime</th>\n",
              "      <td>whitelines</td>\n",
              "      <td>TV</td>\n",
              "      <td>6.5</td>\n",
              "      <td>8.860</td>\n",
              "    </tr>\n",
              "    <tr>\n",
              "      <th>Documentary</th>\n",
              "      <td>thelastdance</td>\n",
              "      <td>TV</td>\n",
              "      <td>9.2</td>\n",
              "      <td>9.557</td>\n",
              "    </tr>\n",
              "    <tr>\n",
              "      <th>Drama</th>\n",
              "      <td>thequeensgambit</td>\n",
              "      <td>TV</td>\n",
              "      <td>7.3</td>\n",
              "      <td>10.711</td>\n",
              "    </tr>\n",
              "    <tr>\n",
              "      <th>Fantasy</th>\n",
              "      <td>cursed</td>\n",
              "      <td>TV</td>\n",
              "      <td>5.0</td>\n",
              "      <td>9.457</td>\n",
              "    </tr>\n",
              "    <tr>\n",
              "      <th>History</th>\n",
              "      <td>thecrown</td>\n",
              "      <td>TV</td>\n",
              "      <td>8.7</td>\n",
              "      <td>9.949</td>\n",
              "    </tr>\n",
              "    <tr>\n",
              "      <th>Horror</th>\n",
              "      <td>thehauntingofblymanor</td>\n",
              "      <td>TV</td>\n",
              "      <td>7.4</td>\n",
              "      <td>9.473</td>\n",
              "    </tr>\n",
              "    <tr>\n",
              "      <th>Mystery</th>\n",
              "      <td>dark</td>\n",
              "      <td>TV</td>\n",
              "      <td>8.8</td>\n",
              "      <td>9.602</td>\n",
              "    </tr>\n",
              "    <tr>\n",
              "      <th>Reality-Show</th>\n",
              "      <td>toohottohandle</td>\n",
              "      <td>TV</td>\n",
              "      <td>4.5</td>\n",
              "      <td>9.250</td>\n",
              "    </tr>\n",
              "    <tr>\n",
              "      <th>Science Fiction</th>\n",
              "      <td>startrekdiscovery</td>\n",
              "      <td>TV</td>\n",
              "      <td>7.2</td>\n",
              "      <td>9.262</td>\n",
              "    </tr>\n",
              "    <tr>\n",
              "      <th>Superhero</th>\n",
              "      <td>lucifer</td>\n",
              "      <td>TV</td>\n",
              "      <td>6.9</td>\n",
              "      <td>10.155</td>\n",
              "    </tr>\n",
              "    <tr>\n",
              "      <th>Talk Show</th>\n",
              "      <td>tylerperrysthesinglemomsclub</td>\n",
              "      <td>TV</td>\n",
              "      <td>7.5</td>\n",
              "      <td>1.099</td>\n",
              "    </tr>\n",
              "  </tbody>\n",
              "</table>\n",
              "</div>"
            ],
            "text/plain": [
              "                                        Title Type  IMDb_Score  Log_VALUE\n",
              "GENRE                                                                    \n",
              "Action                              bodyguard   TV         8.1      4.700\n",
              "Animation                           pawpatrol   TV         6.2      9.307\n",
              "Comedy                                friends   TV         8.9      9.786\n",
              "Crime                              whitelines   TV         6.5      8.860\n",
              "Documentary                      thelastdance   TV         9.2      9.557\n",
              "Drama                         thequeensgambit   TV         7.3     10.711\n",
              "Fantasy                                cursed   TV         5.0      9.457\n",
              "History                              thecrown   TV         8.7      9.949\n",
              "Horror                  thehauntingofblymanor   TV         7.4      9.473\n",
              "Mystery                                  dark   TV         8.8      9.602\n",
              "Reality-Show                   toohottohandle   TV         4.5      9.250\n",
              "Science Fiction             startrekdiscovery   TV         7.2      9.262\n",
              "Superhero                             lucifer   TV         6.9     10.155\n",
              "Talk Show        tylerperrysthesinglemomsclub   TV         7.5      1.099"
            ]
          },
          "metadata": {
            "tags": []
          },
          "execution_count": 46
        }
      ]
    },
    {
      "cell_type": "markdown",
      "metadata": {
        "id": "_Wpd-S7NwiEz"
      },
      "source": [
        "| **TV 장르별 Log_Value 분포**"
      ]
    },
    {
      "cell_type": "code",
      "metadata": {
        "colab": {
          "base_uri": "https://localhost:8080/",
          "height": 542
        },
        "id": "D_qYlHOYXHsI",
        "outputId": "a93dd6a4-0267-4937-cf7a-48d1eafd84a9"
      },
      "source": [
        "fig = px.box(tv_base, x=\"GENRE\", y=\"Log_VALUE\", hover_name='Title')\n",
        "fig.show()"
      ],
      "execution_count": 47,
      "outputs": [
        {
          "output_type": "display_data",
          "data": {
            "text/html": [
              "<html>\n",
              "<head><meta charset=\"utf-8\" /></head>\n",
              "<body>\n",
              "    <div>\n",
              "            <script src=\"https://cdnjs.cloudflare.com/ajax/libs/mathjax/2.7.5/MathJax.js?config=TeX-AMS-MML_SVG\"></script><script type=\"text/javascript\">if (window.MathJax) {MathJax.Hub.Config({SVG: {font: \"STIX-Web\"}});}</script>\n",
              "                <script type=\"text/javascript\">window.PlotlyConfig = {MathJaxConfig: 'local'};</script>\n",
              "        <script src=\"https://cdn.plot.ly/plotly-latest.min.js\"></script>    \n",
              "            <div id=\"7469fa08-88ee-4b59-abec-6d1c06a9e2e5\" class=\"plotly-graph-div\" style=\"height:525px; width:100%;\"></div>\n",
              "            <script type=\"text/javascript\">\n",
              "                \n",
              "                    window.PLOTLYENV=window.PLOTLYENV || {};\n",
              "                    \n",
              "                if (document.getElementById(\"7469fa08-88ee-4b59-abec-6d1c06a9e2e5\")) {\n",
              "                    Plotly.newPlot(\n",
              "                        '7469fa08-88ee-4b59-abec-6d1c06a9e2e5',\n",
              "                        [{\"alignmentgroup\": \"True\", \"hoverlabel\": {\"namelength\": 0}, \"hovertemplate\": \"<b>%{hovertext}</b><br><br>GENRE=%{x}<br>Log_VALUE=%{y}\", \"hovertext\": [\"thequeensgambit\", \"emilyinparis\", \"lucifer\", \"theumbrellaacademy\", \"darkdesire\", \"thecrown\", \"friends\", \"yosoybettylafea\", \"ratched\", \"dark\", \"thelastdance\", \"bodyguard\", \"thehauntingofblymanor\", \"cursed\", \"cobrakai\", \"itsokaytonotbeokay\", \"pawpatrol\", \"lockedup\", \"modernfamily\", \"warriornun\", \"startrekdiscovery\", \"toohottohandle\", \"away\", \"virginriver\", \"unsolvedmysteries\", \"tinyprettythings\", \"cocomelon\", \"13reasonswhy\", \"rickandmorty\", \"jurassicworldcampcretaceous\", \"whitelines\", \"thekingeternalmonarch\", \"the100\", \"dynasty\", \"thebossbabybackinbusiness\", \"spaceforce\", \"riverdale\", \"theorder\", \"goodgirls\", \"ozark\", \"recordofyouth\", \"pasi\\u00c3\\u00b3ndegavilanes\", \"floorislava\", \"tothelake\", \"themessyouleavebehind\", \"neverhaveiever\", \"outerbanks\", \"theblacklist\", \"jeffreyepsteinfilthyrich\", \"crashlandingonyou\", \"bridgerton\", \"prisonbreak\", \"unorthodox\", \"howtogetawaywithmurder\", \"toyboy\", \"thesinner\", \"dashlily\", \"demonslayerkimetsunoyaiba\", \"enemigo\\u00c3\\u00adntimo\", \"downtoearthwithzacefron\", \"sweethome\", \"hospitalplaylist\", \"selenatheseries\", \"elite\", \"worldsmostwanted\", \"deadtome\", \"queenofthesouth\", \"bloodofzeus\", \"thewitcher\", \"aliceinborderland\", \"bigmouth\", \"hoops\", \"therain\", \"eldrag\\u00c3\\u00b3nreturnofawarrior\", \"howtoselldrugsonlinefast\", \"mysticpopupbar\", \"familyguy\", \"thelastkingdom\", \"thebusinessofdrugs\", \"youngwallander\", \"trinkets\", \"fearcitynewyorkvsthemafia\", \"alienworlds\", \"freud\", \"baby\", \"greysanatomy\", \"theworldofthemarried\", \"deadlyclass\", \"getorganizedwiththehomeedit\", \"dirtyjohn\", \"thegreatheist\", \"theflash\", \"vikings\", \"biohackers\", \"privatelives\", \"suits\", \"thebarrier\", \"homeforchristmas\", \"theripper\", \"sweetmagnolias\", \"itaewonclass\", \"brooklynninenine\", \"sellingsunset\", \"highscore\", \"paranormal\", \"history101\", \"thealienist\", \"janethevirgin\", \"thewalkingdead\", \"bettercallsaul\", \"thebabysittersclub\", \"schittscreek\", \"valeria\", \"asuitableboy\", \"hollywood\", \"undercover\", \"annewithane\", \"thegift\", \"thewoods\", \"chicavampiro\", \"sexeducation\", \"theuncannycounter\", \"teenagebountyhunters\", \"dodosolsollalasol\", \"thegoodplace\", \"thebigshowshow\", \"dareme\", \"indianmatchmaking\", \"badboybillionairesindia\", \"cablegirls\", \"theletterfortheking\", \"thefall\", \"reply1988\", \"princesssarah\", \"onepiece\", \"theliberator\", \"summertime\", \"ethos\", \"chiquititas\", \"mismatched\", \"peppapig\", \"marcella\", \"theworstwitch\", \"curon\", \"closeenough\", \"spongebobsquarepants\", \"milliondollarbeachhouse\", \"lapiloto\", \"theprotector\", \"hibyemama\", \"community\", \"julieandthephantoms\", \"stateless\", \"fireforce\", \"unwell\", \"thequeenofflow\", \"newgirl\", \"room2806theaccusation\", \"dreamhomemakeover\", \"bettyenny\", \"whatswrongwithsecretarykim\", \"loveisblind\", \"thelegendofkorra\", \"masabamasaba\", \"keepingupwiththekardashians\", \"selfmadeinspiredbythelifeofmadamcjwalker\", \"myheroacademia\", \"coronavirusexplained\", \"theduchess\", \"thebigbangtheory\", \"baki\", \"attackontitan\", \"outlander\", \"thevictimsgame\", \"jujutsukaisen\", \"wearethechampions\", \"thehouseofflowers\", \"carmelwhokilledmariamarta\", \"h\", \"theschoolnursefiles\", \"extracurricular\", \"trial4\", \"criminaluk\", \"fullerhouse\", \"rupaulsdragrace\", \"chefstablebbq\", \"paavakadhaigal\", \"rustvalleyrestorers\", \"mightyexpress\", \"thegarfieldshow\", \"boysoverflowers\", \"hellskitchen\", \"realityz\", \"sneakerheads\", \"love101\", \"breakitallthehistoryofrockinlatinamerica\", \"streetfood\", \"suburrabloodonrome\", \"familybusiness\", \"matchdayinsidefcbarcelona\", \"absurdplanet\", \"theamericanbarbecueshowdown\", \"theepictalesofcaptainunderpantsinspace\", \"goedam\", \"thethundermans\", \"mrbeantheanimatedseries\", \"jackwhitehalltravelswithmyfather\", \"avatarthelastairbender\", \"drstone\", \"workinmoms\", \"grandarmy\", \"mightylittlebheem\", \"sistersister\", \"homegame\", \"gigantosaurus\", \"fauda\", \"girlfromnowhere\", \"blindspot\", \"japansinks2020\", \"sonsofanarchy\", \"maradonainmexico\", \"thehauntingofhillhouse\", \"caliphate\", \"queereye\", \"arrow\", \"alovetolast\", \"fisforfamily\", \"trashtruck\", \"gogglebox\", \"theplaybook\", \"bhaagbeaniebhaag\", \"nothingbutthirty\", \"theinnocencefiles\", \"sugarrushchristmas\", \"dragonsdogma\", \"ahirunosora\", \"bloodwater\", \"pandemichowtopreventanoutbreak\", \"doctorjohn\", \"goahead\", \"familiarwife\", \"rugal\", \"thevalhallamurders\", \"twogether\", \"peakyblinders\", \"orangeisthenewblack\", \"norsemen\", \"greenleaf\", \"lovestruckinthecity\", \"parasytethemaxim\", \"theexpandinguniverseofashleygarcia\", \"iamakillerreleased\", \"thepolitician\", \"thesearch\", \"americanhorrorstory\", \"gotham\", \"thetwelve\", \"pupacademy\", \"kingshakir\", \"narcos\", \"connected\", \"arashisdiaryvoyage\", \"flavoursofromania\", \"dawsonscreek\", \"loveonthespectrum\", \"hannibal\", \"terracehousetokyo20192020\", \"loveislandaustralia\", \"highseas\", \"kaguyasamaloveiswar\", \"mostbeautifulthing\", \"mymister\", \"crazydelicious\", \"carmastersrusttoriches\", \"howtoruinchristmas\", \"geteven\", \"100daysmyprince\", \"mrsunshine\", \"theenglishgame\", \"thegooddetective\", \"howtofixadrugscandal\", \"themisfitofdemonkingacademy\", \"doctorstranger\", \"bgpersonalbodyguard\", \"henrydanger\", \"lareinadelsur\", \"gilmoregirls\", \"trialbymedia\", \"detention\", \"foodwarsshokugekinosoma\", \"equinox\", \"thetaleofnokdu\", \"borgen\", \"falsaidentidad\", \"allamerican\", \"starbeam\", \"asaventurasdepoliana\", \"juonorigins\", \"skindecisionbeforeandafter\", \"myidisgangnambeauty\", \"howimetyourmother\", \"thelastword\", \"teentitansgo\", \"theunremarkablejuanquini\", \"thisisus\", \"threekingdoms\", \"delhicrime\", \"myabsoluteboyfriend\", \"betaal\", \"prisonplaybook\", \"undercoverlaw\", \"bordertown\", \"runon\", \"kingdom\", \"you\", \"lastchanceu\", \"legojurassicworldlegendofislanublar\", \"rickyzoom\", \"mriglesias\", \"thestoryofdiana\", \"misfits\", \"rita\", \"alvinnnandthechipmunks\", \"thelastkidsonearth\", \"strangersfromhell\", \"almosthappy\", \"knightfall\", \"onepunchman\", \"supergirl\", \"secretobienguardado\", \"alientv\", \"gossipgirl\", \"strangerthings\", \"chicobonbonmonkeywithatoolbelt\", \"18again\", \"thevampirediaries\", \"skamitalia\", \"swordartonline\", \"doraemon\", \"100humans\", \"thegovernor\", \"ourplanet\", \"nailedit\", \"24\", \"blackaf\", \"castlerock\", \"evil\", \"scarletheartryeo\", \"thetrial\", \"hyena\", \"sunderlandtilidie\", \"derrygirls\", \"whenthecamelliablooms\", \"deadwind\", \"blackmoneylove\", \"donttellthebride\", \"borutonarutonextgenerations\", \"yugioh\", \"mysterylab\", \"crayonshinchan\", \"onceuponatime\", \"therealhousewivesofbeverlyhills\", \"unauthorizedliving\", \"theendofthefingworld\", \"bewithyou\", \"60daysin\", \"jamtarasabkanumberayega\", \"auntydonnasbigolhouseoffun\", \"rezerostartinglifeinanotherworld\", \"2gethertheseries\", \"beybladeburst\", \"shaunthesheep\", \"she\", \"thebeautyinside\", \"hasmukh\", \"themidnightgospel\", \"thecirclefrance\", \"ancientaliens\", \"thetitangames\", \"thestranger\", \"jenniriveramariposadebarrio\", \"justice\", \"luther\", \"thefinaltable\", \"fridaynightdinner\", \"kimsconvenience\", \"drromantic\", \"finalspace\", \"sherlock\", \"thehookupplan\", \"theamazingworldofgumball\", \"reckoning\", \"alhayba\", \"thesurgeonscut\", \"vip\", \"serialkillerwithpiersmorgan\", \"diamondcity\", \"socialsyndrome\", \"thedevilpunisher\", \"heidi\", \"magicforhumans\", \"barbiedreamhouseadventures\", \"valentino\", \"doctorprisoner\", \"talkingtomandfriends\", \"theclimb\", \"sayido\", \"izombie\", \"badbanks\", \"archer\", \"vampires\", \"holidayhomemakeoverwithmrchristmas\", \"superwings\", \"wentworth\", \"shameless\", \"theclub\", \"theinbestigators\", \"inthedark\", \"killerwomenwithpiersmorgan\", \"ultraviolet\", \"hoteldelluna\", \"alteredcarbon\", \"morphle\", \"spiritridingfreeridingacademy\", \"bunkd\", \"mysecretromance\", \"merlin\", \"immigrationnation\", \"narutoshippuden\", \"alovesobeautiful\", \"barangay143\", \"dorohedoro\", \"rainbowruby\", \"shtisel\", \"trapped\", \"emilyswonderlab\", \"carmensandiego\", \"trailerparkboystheanimatedseries\", \"singlelady\", \"tacochronicles\", \"iamnotokaywiththis\", \"theoriginals\", \"speedkills\", \"skycastle\", \"thespectacularspiderman\", \"saveme\", \"thenewlegendsofmonkey\", \"thattimeigotreincarnatedasaslime\", \"thirteenterrors\", \"cookedwithcannabis\", \"breakingbad\", \"snowpiercer\", \"bemelodramatic\", \"voice\", \"interiordesignmasters\", \"theeddy\", \"startup\", \"theholidaymoviesthatmadeus\", \"kipoandtheageofwonderbeasts\", \"somewherebetween\", \"youmeher\", \"gracefulfriends\", \"thechefshow\", \"flavorfulorigins\", \"somebodyfeedphil\", \"onmyblock\", \"heartbreakhigh\", \"singonspain\", \"dracula\", \"sugarrush\", \"datingaroundbrazil\", \"firemansam\", \"weightliftingfairykimbokjoo\", \"southernsurvival\", \"finalfantasyxivdadoflight\", \"designatedsurvivor\", \"survivingrkelly\", \"naileditmexico\", \"legacies\", \"thegifted\", \"tinycreatures\", \"assassinationclassroom\", \"doctors\", \"sanpasinsofthesavior\", \"thecabinwithbertkreischer\", \"thedisappearanceofmadeleinemccann\", \"colony\", \"whoareyouschool2015\", \"spartacus\", \"marvelsironfist\", \"lenoxhill\", \"arthdalchronicles\", \"whencallstheheart\", \"thefreshprinceofbelair\", \"areyoutheone\", \"whosevotecountsexplained\", \"teenmom2\", \"singongermany\", \"hoarders\", \"conversationswithakillerthetedbundytapes\", \"sheraandtheprincessesofpower\", \"homeland\", \"7seeds\", \"maniac\", \"findmeinyourmemory\", \"whispers\", \"formula1drivetosurvive\", \"salvation\", \"thebigflowerfight\", \"legofriendsgirlsonamission\", \"healer\", \"november13attackonparis\", \"lifeinpieces\", \"rhymetimetownsingalongs\", \"theguest\", \"thegreatcanadianbakingshow\", \"gogocorycarson\", \"bardofblood\", \"pollypocket\", \"hilda\", \"cathedralofthesea\", \"billions\", \"littlebabybumnurseryrhymefriends\", \"legocityadventures\", \"dearmyfriends\", \"tylerperrysthesinglemomsclub\", \"vagabond\", \"thelandofhypocrisy\", \"webarebears\", \"paradisepd\", \"theunderclass\", \"tokyoghoul\"], \"legendgroup\": \"\", \"marker\": {\"color\": \"#636efa\"}, \"name\": \"\", \"notched\": false, \"offsetgroup\": \"\", \"orientation\": \"v\", \"showlegend\": false, \"type\": \"box\", \"x\": [\"Drama\", \"Drama\", \"Superhero\", \"Superhero\", \"Drama\", \"History\", \"Comedy\", \"Drama\", \"Drama\", \"Mystery\", \"Documentary\", \"Action\", \"Horror\", \"Fantasy\", \"Action\", \"Drama\", \"Animation\", \"Drama\", \"Comedy\", \"Fantasy\", \"Science Fiction\", \"Reality-Show\", \"Science Fiction\", \"Drama\", \"Documentary\", \"Drama\", \"Animation\", \"Drama\", \"Animation\", \"Animation\", \"Crime\", \"Science Fiction\", \"Science Fiction\", \"Drama\", \"Animation\", \"Comedy\", \"Superhero\", \"Fantasy\", \"Comedy\", \"Drama\", \"Drama\", \"Drama\", \"Reality-Show\", \"Science Fiction\", \"Drama\", \"Comedy\", \"Drama\", \"Crime\", \"Documentary\", \"Drama\", \"Drama\", \"Action\", \"Drama\", \"Crime\", \"Crime\", \"Crime\", \"Comedy\", \"Animation\", \"Drama\", \"Documentary\", \"Horror\", \"Drama\", \"Drama\", \"Crime\", \"Documentary\", \"Drama\", \"Drama\", \"Animation\", \"Fantasy\", \"Science Fiction\", \"Animation\", \"Animation\", \"Science Fiction\", \"Action\", \"Comedy\", \"Mystery\", \"Animation\", \"History\", \"Documentary\", \"Crime\", \"Drama\", \"Documentary\", \"Documentary\", \"Drama\", \"Drama\", \"Drama\", \"Drama\", \"Superhero\", \"Reality-Show\", \"Drama\", \"Crime\", \"Superhero\", \"History\", \"Drama\", \"Crime\", \"Drama\", \"Science Fiction\", \"Comedy\", \"Documentary\", \"Drama\", \"Drama\", \"Comedy\", \"Reality-Show\", \"Documentary\", \"Horror\", \"Documentary\", \"Crime\", \"Comedy\", \"Horror\", \"Crime\", \"Comedy\", \"Comedy\", \"Drama\", \"Drama\", \"Drama\", \"Crime\", \"Drama\", \"Mystery\", \"Crime\", \"Science Fiction\", \"Comedy\", \"Fantasy\", \"Comedy\", \"Comedy\", \"Comedy\", \"Comedy\", \"Crime\", \"Reality-Show\", \"Documentary\", \"Drama\", \"Fantasy\", \"Crime\", \"Comedy\", \"Drama\", \"Animation\", \"Animation\", \"Drama\", \"Drama\", \"Comedy\", \"Drama\", \"Animation\", \"Crime\", \"Fantasy\", \"Fantasy\", \"Animation\", \"Animation\", \"Reality-Show\", \"Drama\", \"Mystery\", \"Drama\", \"Comedy\", \"Comedy\", \"Drama\", \"Animation\", \"Documentary\", \"Drama\", \"Comedy\", \"Documentary\", \"Reality-Show\", \"Comedy\", \"Drama\", \"Reality-Show\", \"Fantasy\", \"Comedy\", \"Reality-Show\", \"Drama\", \"Animation\", \"Documentary\", \"Comedy\", \"Comedy\", \"Animation\", \"Animation\", \"Drama\", \"Crime\", \"Animation\", \"Documentary\", \"Drama\", \"Documentary\", \"Comedy\", \"Fantasy\", \"Drama\", \"Documentary\", \"Crime\", \"Comedy\", \"Reality-Show\", \"Documentary\", \"Drama\", \"Documentary\", \"Animation\", \"Animation\", \"Drama\", \"Reality-Show\", \"Comedy\", \"Comedy\", \"Comedy\", \"Documentary\", \"Documentary\", \"Crime\", \"Comedy\", \"Documentary\", \"Documentary\", \"Reality-Show\", \"Animation\", \"Mystery\", \"Science Fiction\", \"Animation\", \"Documentary\", \"Fantasy\", \"Animation\", \"Comedy\", \"Drama\", \"Animation\", \"Comedy\", \"Documentary\", \"Animation\", \"Action\", \"Drama\", \"Crime\", \"Animation\", \"Action\", \"Documentary\", \"Horror\", \"Drama\", \"Reality-Show\", \"Superhero\", \"Drama\", \"Animation\", \"Animation\", \"Reality-Show\", \"Documentary\", \"Comedy\", \"Drama\", \"Documentary\", \"Reality-Show\", \"Animation\", \"Animation\", \"Drama\", \"Documentary\", \"Drama\", \"Drama\", \"Drama\", \"Mystery\", \"Crime\", \"Reality-Show\", \"Drama\", \"Drama\", \"Drama\", \"Drama\", \"Comedy\", \"Animation\", \"Comedy\", \"Documentary\", \"Comedy\", \"Crime\", \"Horror\", \"Superhero\", \"Drama\", \"Comedy\", \"Animation\", \"Drama\", \"Documentary\", \"Documentary\", \"Documentary\", \"Drama\", \"Documentary\", \"Crime\", \"Reality-Show\", \"Reality-Show\", \"Drama\", \"Comedy\", \"Drama\", \"Drama\", \"Reality-Show\", \"Reality-Show\", \"Comedy\", \"Crime\", \"Drama\", \"Drama\", \"Drama\", \"Crime\", \"Documentary\", \"Animation\", \"Drama\", \"Drama\", \"Comedy\", \"Drama\", \"Drama\", \"Documentary\", \"Mystery\", \"Animation\", \"Mystery\", \"Comedy\", \"Drama\", \"Drama\", \"Drama\", \"Animation\", \"Drama\", \"Horror\", \"Reality-Show\", \"Comedy\", \"Comedy\", \"Comedy\", \"Superhero\", \"Comedy\", \"Drama\", \"Drama\", \"Crime\", \"Comedy\", \"Horror\", \"Drama\", \"Drama\", \"Crime\", \"Drama\", \"Horror\", \"Drama\", \"Documentary\", \"Animation\", \"Animation\", \"Comedy\", \"Documentary\", \"Superhero\", \"Comedy\", \"Animation\", \"Animation\", \"Mystery\", \"Comedy\", \"History\", \"Animation\", \"Superhero\", \"Drama\", \"Animation\", \"Comedy\", \"Mystery\", \"Animation\", \"Comedy\", \"Fantasy\", \"Drama\", \"Animation\", \"Animation\", \"Documentary\", \"Drama\", \"Documentary\", \"Reality-Show\", \"Action\", \"Comedy\", \"Mystery\", \"Drama\", \"Fantasy\", \"Crime\", \"Drama\", \"Documentary\", \"Comedy\", \"Comedy\", \"Crime\", \"Drama\", \"Reality-Show\", \"Animation\", \"Animation\", \"Documentary\", \"Animation\", \"Fantasy\", \"Reality-Show\", \"Drama\", \"Comedy\", \"Drama\", \"Reality-Show\", \"Drama\", \"Comedy\", \"Animation\", \"Comedy\", \"Animation\", \"Animation\", \"Crime\", \"Drama\", \"Crime\", \"Animation\", \"Reality-Show\", \"Documentary\", \"Reality-Show\", \"Drama\", \"Drama\", \"Drama\", \"Crime\", \"Reality-Show\", \"Comedy\", \"Comedy\", \"Drama\", \"Animation\", \"Crime\", \"Comedy\", \"Animation\", \"Drama\", \"Drama\", \"Documentary\", \"Drama\", \"Documentary\", \"Crime\", \"Drama\", \"Fantasy\", \"Animation\", \"Documentary\", \"Animation\", \"Comedy\", \"Drama\", \"Animation\", \"Comedy\", \"Reality-Show\", \"Superhero\", \"Crime\", \"Action\", \"Fantasy\", \"Reality-Show\", \"Animation\", \"Crime\", \"Comedy\", \"Crime\", \"Crime\", \"Comedy\", \"Documentary\", \"Crime\", \"Science Fiction\", \"Science Fiction\", \"Animation\", \"Animation\", \"Comedy\", \"Comedy\", \"Fantasy\", \"Documentary\", \"Animation\", \"Comedy\", \"Animation\", \"Animation\", \"Animation\", \"Drama\", \"Crime\", \"Reality-Show\", \"Animation\", \"Animation\", \"Comedy\", \"Documentary\", \"Mystery\", \"Fantasy\", \"Documentary\", \"Comedy\", \"Animation\", \"Crime\", \"Fantasy\", \"Animation\", \"Mystery\", \"Reality-Show\", \"Crime\", \"Science Fiction\", \"Comedy\", \"Crime\", \"Reality-Show\", \"Drama\", \"Comedy\", \"Documentary\", \"Animation\", \"Crime\", \"Comedy\", \"Crime\", \"Documentary\", \"Documentary\", \"Documentary\", \"Comedy\", \"Drama\", \"Reality-Show\", \"Horror\", \"Reality-Show\", \"Reality-Show\", \"Animation\", \"Comedy\", \"Reality-Show\", \"Drama\", \"Action\", \"Documentary\", \"Reality-Show\", \"Fantasy\", \"Comedy\", \"Documentary\", \"Animation\", \"Drama\", \"Documentary\", \"Reality-Show\", \"Documentary\", \"Science Fiction\", \"Comedy\", \"History\", \"Superhero\", \"Documentary\", \"History\", \"Drama\", \"Comedy\", \"Reality-Show\", \"Documentary\", \"Reality-Show\", \"Reality-Show\", \"Documentary\", \"Documentary\", \"Animation\", \"Drama\", \"Animation\", \"Drama\", \"Drama\", \"Drama\", \"Documentary\", \"Science Fiction\", \"Reality-Show\", \"Animation\", \"Drama\", \"Documentary\", \"Comedy\", \"Animation\", \"Crime\", \"Reality-Show\", \"Animation\", \"Action\", \"Animation\", \"Animation\", \"History\", \"Drama\", \"Animation\", \"Animation\", \"Comedy\", \"Talk Show\", \"Action\", \"Comedy\", \"Animation\", \"Animation\", \"Drama\", \"Animation\"], \"x0\": \" \", \"xaxis\": \"x\", \"y\": [10.711, 10.209, 10.155, 10.064, 9.953, 9.949, 9.786, 9.697, 9.665, 9.602, 9.557, 4.7, 9.473, 9.457, 9.415, 9.372, 9.307, 9.282, 9.276, 9.263, 9.262, 9.25, 9.238, 9.217, 9.181, 9.145, 9.109, 9.018, 8.914, 8.885, 8.86, 8.859, 8.851, 8.786, 8.783, 8.768, 8.765, 8.742, 8.728, 8.708, 8.694, 8.652, 8.637, 8.614, 8.61, 8.606, 8.581, 8.577, 8.539, 8.415, 8.407, 8.38, 8.363, 8.334, 8.317, 8.314, 8.304, 8.304, 8.275, 8.241, 8.219, 8.216, 8.202, 8.194, 8.179, 8.165, 8.143, 8.125, 8.104, 8.083, 8.054, 7.969, 7.967, 7.957, 7.954, 7.932, 7.909, 7.906, 7.902, 7.898, 7.898, 7.888, 7.885, 7.878, 7.841, 7.835, 7.816, 7.771, 7.769, 7.756, 7.75, 7.749, 7.748, 7.737, 7.72, 7.713, 7.699, 7.698, 7.668, 7.64, 7.637, 7.625, 7.605, 7.603, 7.597, 7.566, 7.549, 7.522, 7.493, 7.487, 7.454, 7.442, 7.441, 7.416, 7.415, 7.405, 7.383, 7.383, 7.38, 7.368, 7.362, 7.355, 7.349, 7.319, 7.314, 7.254, 7.251, 7.206, 7.18, 7.175, 7.171, 7.148, 7.143, 7.124, 7.123, 7.117, 7.107, 7.096, 7.042, 7.001, 6.998, 6.995, 6.993, 6.987, 6.985, 6.985, 6.969, 6.951, 6.941, 6.935, 6.901, 6.887, 6.874, 6.852, 6.839, 6.833, 6.817, 6.804, 6.75, 6.75, 6.717, 6.714, 6.703, 6.69, 6.682, 6.678, 6.676, 6.663, 6.661, 6.655, 6.646, 6.646, 6.64, 6.619, 6.609, 6.604, 6.589, 6.588, 6.582, 6.554, 6.526, 6.491, 6.454, 6.446, 6.444, 6.441, 6.438, 6.431, 6.423, 6.422, 6.413, 6.378, 6.373, 6.344, 6.335, 6.323, 6.301, 6.301, 6.28, 6.25, 6.244, 6.232, 6.232, 6.176, 6.176, 6.163, 6.163, 6.151, 6.148, 6.144, 6.131, 6.131, 6.103, 6.098, 6.089, 6.08, 6.078, 6.078, 6.068, 6.064, 6.045, 6.04, 6.016, 6.014, 6.011, 6.004, 5.999, 5.994, 5.989, 5.989, 5.984, 5.979, 5.976, 5.964, 5.961, 5.958, 5.953, 5.953, 5.948, 5.94, 5.922, 5.908, 5.9, 5.892, 5.886, 5.883, 5.869, 5.869, 5.864, 5.864, 5.858, 5.811, 5.805, 5.802, 5.784, 5.781, 5.73, 5.724, 5.717, 5.707, 5.704, 5.69, 5.68, 5.68, 5.673, 5.537, 5.67, 5.659, 5.642, 5.62, 5.62, 5.613, 5.598, 5.595, 5.583, 5.572, 5.533, 5.533, 5.517, 5.509, 5.509, 5.489, 5.481, 5.464, 5.46, 5.447, 5.425, 5.407, 5.371, 5.352, 5.347, 5.333, 5.308, 5.308, 5.308, 5.293, 5.283, 5.278, 5.278, 5.268, 5.257, 5.247, 5.247, 5.236, 5.231, 5.22, 5.215, 5.209, 5.204, 5.198, 5.187, 5.182, 5.165, 4.745, 5.165, 5.159, 5.153, 5.153, 5.153, 5.147, 5.136, 5.124, 5.118, 5.112, 5.081, 5.081, 5.056, 5.056, 5.056, 5.017, 5.017, 5.017, 5.011, 5.004, 4.977, 4.977, 4.97, 4.963, 4.956, 4.949, 4.913, 4.905, 4.898, 4.89, 4.875, 4.875, 4.868, 4.868, 4.812, 4.787, 4.787, 4.779, 4.771, 4.762, 4.736, 4.71, 4.691, 4.691, 4.644, 4.644, 5.204, 4.625, 4.625, 4.625, 4.625, 4.605, 4.605, 4.595, 5.67, 4.585, 4.585, 4.575, 4.564, 4.564, 4.554, 4.543, 4.533, 4.522, 4.511, 4.511, 4.5, 4.5, 4.454, 4.443, 4.431, 4.431, 4.419, 4.419, 4.407, 4.394, 4.382, 4.357, 4.357, 4.331, 4.331, 4.317, 4.304, 4.29, 4.277, 4.263, 4.234, 4.22, 4.205, 4.19, 4.174, 4.159, 2.996, 4.159, 4.143, 4.143, 4.127, 4.111, 4.111, 4.06, 6.304, 4.007, 4.007, 4.007, 3.989, 3.97, 3.951, 3.951, 3.932, 3.912, 3.892, 3.871, 3.871, 3.829, 3.829, 3.807, 3.807, 3.807, 3.807, 3.807, 3.761, 3.738, 3.714, 3.689, 3.689, 3.664, 3.638, 3.638, 3.584, 3.555, 3.497, 3.497, 3.497, 3.466, 3.466, 3.434, 3.434, 9.536, 3.367, 3.367, 3.367, 3.332, 9.047, 3.296, 3.296, 3.296, 3.258, 3.219, 3.219, 3.219, 3.178, 3.178, 3.178, 3.135, 3.135, 6.016, 3.091, 3.091, 3.045, 2.996, 2.996, 2.996, 2.944, 2.89, 2.89, 2.89, 2.833, 2.833, 2.773, 2.565, 4.635, 2.565, 2.565, 2.398, 2.398, 2.398, 2.303, 2.303, 2.303, 2.303, 2.197, 2.197, 2.197, 2.197, 2.197, 2.197, 2.197, 2.197, 2.079, 2.079, 1.946, 1.946, 1.946, 1.946, 1.792, 1.792, 1.792, 1.792, 1.792, 1.609, 6.016, 1.609, 1.609, 1.609, 1.386, 1.386, 1.386, 1.386, 1.386, 1.099, 1.099, 1.099, 1.099, 1.099, 1.099, 1.099, 5.932, 4.078], \"y0\": \" \", \"yaxis\": \"y\"}],\n",
              "                        {\"boxmode\": \"group\", \"legend\": {\"tracegroupgap\": 0}, \"margin\": {\"t\": 60}, \"template\": {\"data\": {\"bar\": [{\"error_x\": {\"color\": \"#2a3f5f\"}, \"error_y\": {\"color\": \"#2a3f5f\"}, \"marker\": {\"line\": {\"color\": \"#E5ECF6\", \"width\": 0.5}}, \"type\": \"bar\"}], \"barpolar\": [{\"marker\": {\"line\": {\"color\": \"#E5ECF6\", \"width\": 0.5}}, \"type\": \"barpolar\"}], \"carpet\": [{\"aaxis\": {\"endlinecolor\": \"#2a3f5f\", \"gridcolor\": \"white\", \"linecolor\": \"white\", \"minorgridcolor\": \"white\", \"startlinecolor\": \"#2a3f5f\"}, \"baxis\": {\"endlinecolor\": \"#2a3f5f\", \"gridcolor\": \"white\", \"linecolor\": \"white\", \"minorgridcolor\": \"white\", \"startlinecolor\": \"#2a3f5f\"}, \"type\": \"carpet\"}], \"choropleth\": [{\"colorbar\": {\"outlinewidth\": 0, \"ticks\": \"\"}, \"type\": \"choropleth\"}], \"contour\": [{\"colorbar\": {\"outlinewidth\": 0, \"ticks\": \"\"}, \"colorscale\": [[0.0, \"#0d0887\"], [0.1111111111111111, \"#46039f\"], [0.2222222222222222, \"#7201a8\"], [0.3333333333333333, \"#9c179e\"], [0.4444444444444444, \"#bd3786\"], [0.5555555555555556, \"#d8576b\"], [0.6666666666666666, \"#ed7953\"], [0.7777777777777778, \"#fb9f3a\"], [0.8888888888888888, \"#fdca26\"], [1.0, \"#f0f921\"]], \"type\": \"contour\"}], \"contourcarpet\": [{\"colorbar\": {\"outlinewidth\": 0, \"ticks\": \"\"}, \"type\": \"contourcarpet\"}], \"heatmap\": [{\"colorbar\": {\"outlinewidth\": 0, \"ticks\": \"\"}, \"colorscale\": [[0.0, \"#0d0887\"], [0.1111111111111111, \"#46039f\"], [0.2222222222222222, \"#7201a8\"], [0.3333333333333333, \"#9c179e\"], [0.4444444444444444, \"#bd3786\"], [0.5555555555555556, \"#d8576b\"], [0.6666666666666666, \"#ed7953\"], [0.7777777777777778, \"#fb9f3a\"], [0.8888888888888888, \"#fdca26\"], [1.0, \"#f0f921\"]], \"type\": \"heatmap\"}], \"heatmapgl\": [{\"colorbar\": {\"outlinewidth\": 0, \"ticks\": \"\"}, \"colorscale\": [[0.0, \"#0d0887\"], [0.1111111111111111, \"#46039f\"], [0.2222222222222222, \"#7201a8\"], [0.3333333333333333, \"#9c179e\"], [0.4444444444444444, \"#bd3786\"], [0.5555555555555556, \"#d8576b\"], [0.6666666666666666, \"#ed7953\"], [0.7777777777777778, \"#fb9f3a\"], [0.8888888888888888, \"#fdca26\"], [1.0, \"#f0f921\"]], \"type\": \"heatmapgl\"}], \"histogram\": [{\"marker\": {\"colorbar\": {\"outlinewidth\": 0, \"ticks\": \"\"}}, \"type\": \"histogram\"}], \"histogram2d\": [{\"colorbar\": {\"outlinewidth\": 0, \"ticks\": \"\"}, \"colorscale\": [[0.0, \"#0d0887\"], [0.1111111111111111, \"#46039f\"], [0.2222222222222222, \"#7201a8\"], [0.3333333333333333, \"#9c179e\"], [0.4444444444444444, \"#bd3786\"], [0.5555555555555556, \"#d8576b\"], [0.6666666666666666, \"#ed7953\"], [0.7777777777777778, \"#fb9f3a\"], [0.8888888888888888, \"#fdca26\"], [1.0, \"#f0f921\"]], \"type\": \"histogram2d\"}], \"histogram2dcontour\": [{\"colorbar\": {\"outlinewidth\": 0, \"ticks\": \"\"}, \"colorscale\": [[0.0, \"#0d0887\"], [0.1111111111111111, \"#46039f\"], [0.2222222222222222, \"#7201a8\"], [0.3333333333333333, \"#9c179e\"], [0.4444444444444444, \"#bd3786\"], [0.5555555555555556, \"#d8576b\"], [0.6666666666666666, \"#ed7953\"], [0.7777777777777778, \"#fb9f3a\"], [0.8888888888888888, \"#fdca26\"], [1.0, \"#f0f921\"]], \"type\": \"histogram2dcontour\"}], \"mesh3d\": [{\"colorbar\": {\"outlinewidth\": 0, \"ticks\": \"\"}, \"type\": \"mesh3d\"}], \"parcoords\": [{\"line\": {\"colorbar\": {\"outlinewidth\": 0, \"ticks\": \"\"}}, \"type\": \"parcoords\"}], \"pie\": [{\"automargin\": true, \"type\": \"pie\"}], \"scatter\": [{\"marker\": {\"colorbar\": {\"outlinewidth\": 0, \"ticks\": \"\"}}, \"type\": \"scatter\"}], \"scatter3d\": [{\"line\": {\"colorbar\": {\"outlinewidth\": 0, \"ticks\": \"\"}}, \"marker\": {\"colorbar\": {\"outlinewidth\": 0, \"ticks\": \"\"}}, \"type\": \"scatter3d\"}], \"scattercarpet\": [{\"marker\": {\"colorbar\": {\"outlinewidth\": 0, \"ticks\": \"\"}}, \"type\": \"scattercarpet\"}], \"scattergeo\": [{\"marker\": {\"colorbar\": {\"outlinewidth\": 0, \"ticks\": \"\"}}, \"type\": \"scattergeo\"}], \"scattergl\": [{\"marker\": {\"colorbar\": {\"outlinewidth\": 0, \"ticks\": \"\"}}, \"type\": \"scattergl\"}], \"scattermapbox\": [{\"marker\": {\"colorbar\": {\"outlinewidth\": 0, \"ticks\": \"\"}}, \"type\": \"scattermapbox\"}], \"scatterpolar\": [{\"marker\": {\"colorbar\": {\"outlinewidth\": 0, \"ticks\": \"\"}}, \"type\": \"scatterpolar\"}], \"scatterpolargl\": [{\"marker\": {\"colorbar\": {\"outlinewidth\": 0, \"ticks\": \"\"}}, \"type\": \"scatterpolargl\"}], \"scatterternary\": [{\"marker\": {\"colorbar\": {\"outlinewidth\": 0, \"ticks\": \"\"}}, \"type\": \"scatterternary\"}], \"surface\": [{\"colorbar\": {\"outlinewidth\": 0, \"ticks\": \"\"}, \"colorscale\": [[0.0, \"#0d0887\"], [0.1111111111111111, \"#46039f\"], [0.2222222222222222, \"#7201a8\"], [0.3333333333333333, \"#9c179e\"], [0.4444444444444444, \"#bd3786\"], [0.5555555555555556, \"#d8576b\"], [0.6666666666666666, \"#ed7953\"], [0.7777777777777778, \"#fb9f3a\"], [0.8888888888888888, \"#fdca26\"], [1.0, \"#f0f921\"]], \"type\": \"surface\"}], \"table\": [{\"cells\": {\"fill\": {\"color\": \"#EBF0F8\"}, \"line\": {\"color\": \"white\"}}, \"header\": {\"fill\": {\"color\": \"#C8D4E3\"}, \"line\": {\"color\": \"white\"}}, \"type\": \"table\"}]}, \"layout\": {\"annotationdefaults\": {\"arrowcolor\": \"#2a3f5f\", \"arrowhead\": 0, \"arrowwidth\": 1}, \"coloraxis\": {\"colorbar\": {\"outlinewidth\": 0, \"ticks\": \"\"}}, \"colorscale\": {\"diverging\": [[0, \"#8e0152\"], [0.1, \"#c51b7d\"], [0.2, \"#de77ae\"], [0.3, \"#f1b6da\"], [0.4, \"#fde0ef\"], [0.5, \"#f7f7f7\"], [0.6, \"#e6f5d0\"], [0.7, \"#b8e186\"], [0.8, \"#7fbc41\"], [0.9, \"#4d9221\"], [1, \"#276419\"]], \"sequential\": [[0.0, \"#0d0887\"], [0.1111111111111111, \"#46039f\"], [0.2222222222222222, \"#7201a8\"], [0.3333333333333333, \"#9c179e\"], [0.4444444444444444, \"#bd3786\"], [0.5555555555555556, \"#d8576b\"], [0.6666666666666666, \"#ed7953\"], [0.7777777777777778, \"#fb9f3a\"], [0.8888888888888888, \"#fdca26\"], [1.0, \"#f0f921\"]], \"sequentialminus\": [[0.0, \"#0d0887\"], [0.1111111111111111, \"#46039f\"], [0.2222222222222222, \"#7201a8\"], [0.3333333333333333, \"#9c179e\"], [0.4444444444444444, \"#bd3786\"], [0.5555555555555556, \"#d8576b\"], [0.6666666666666666, \"#ed7953\"], [0.7777777777777778, \"#fb9f3a\"], [0.8888888888888888, \"#fdca26\"], [1.0, \"#f0f921\"]]}, \"colorway\": [\"#636efa\", \"#EF553B\", \"#00cc96\", \"#ab63fa\", \"#FFA15A\", \"#19d3f3\", \"#FF6692\", \"#B6E880\", \"#FF97FF\", \"#FECB52\"], \"font\": {\"color\": \"#2a3f5f\"}, \"geo\": {\"bgcolor\": \"white\", \"lakecolor\": \"white\", \"landcolor\": \"#E5ECF6\", \"showlakes\": true, \"showland\": true, \"subunitcolor\": \"white\"}, \"hoverlabel\": {\"align\": \"left\"}, \"hovermode\": \"closest\", \"mapbox\": {\"style\": \"light\"}, \"paper_bgcolor\": \"white\", \"plot_bgcolor\": \"#E5ECF6\", \"polar\": {\"angularaxis\": {\"gridcolor\": \"white\", \"linecolor\": \"white\", \"ticks\": \"\"}, \"bgcolor\": \"#E5ECF6\", \"radialaxis\": {\"gridcolor\": \"white\", \"linecolor\": \"white\", \"ticks\": \"\"}}, \"scene\": {\"xaxis\": {\"backgroundcolor\": \"#E5ECF6\", \"gridcolor\": \"white\", \"gridwidth\": 2, \"linecolor\": \"white\", \"showbackground\": true, \"ticks\": \"\", \"zerolinecolor\": \"white\"}, \"yaxis\": {\"backgroundcolor\": \"#E5ECF6\", \"gridcolor\": \"white\", \"gridwidth\": 2, \"linecolor\": \"white\", \"showbackground\": true, \"ticks\": \"\", \"zerolinecolor\": \"white\"}, \"zaxis\": {\"backgroundcolor\": \"#E5ECF6\", \"gridcolor\": \"white\", \"gridwidth\": 2, \"linecolor\": \"white\", \"showbackground\": true, \"ticks\": \"\", \"zerolinecolor\": \"white\"}}, \"shapedefaults\": {\"line\": {\"color\": \"#2a3f5f\"}}, \"ternary\": {\"aaxis\": {\"gridcolor\": \"white\", \"linecolor\": \"white\", \"ticks\": \"\"}, \"baxis\": {\"gridcolor\": \"white\", \"linecolor\": \"white\", \"ticks\": \"\"}, \"bgcolor\": \"#E5ECF6\", \"caxis\": {\"gridcolor\": \"white\", \"linecolor\": \"white\", \"ticks\": \"\"}}, \"title\": {\"x\": 0.05}, \"xaxis\": {\"automargin\": true, \"gridcolor\": \"white\", \"linecolor\": \"white\", \"ticks\": \"\", \"title\": {\"standoff\": 15}, \"zerolinecolor\": \"white\", \"zerolinewidth\": 2}, \"yaxis\": {\"automargin\": true, \"gridcolor\": \"white\", \"linecolor\": \"white\", \"ticks\": \"\", \"title\": {\"standoff\": 15}, \"zerolinecolor\": \"white\", \"zerolinewidth\": 2}}}, \"xaxis\": {\"anchor\": \"y\", \"domain\": [0.0, 1.0], \"title\": {\"text\": \"GENRE\"}}, \"yaxis\": {\"anchor\": \"x\", \"domain\": [0.0, 1.0], \"title\": {\"text\": \"Log_VALUE\"}}},\n",
              "                        {\"responsive\": true}\n",
              "                    ).then(function(){\n",
              "                            \n",
              "var gd = document.getElementById('7469fa08-88ee-4b59-abec-6d1c06a9e2e5');\n",
              "var x = new MutationObserver(function (mutations, observer) {{\n",
              "        var display = window.getComputedStyle(gd).display;\n",
              "        if (!display || display === 'none') {{\n",
              "            console.log([gd, 'removed!']);\n",
              "            Plotly.purge(gd);\n",
              "            observer.disconnect();\n",
              "        }}\n",
              "}});\n",
              "\n",
              "// Listen for the removal of the full notebook cells\n",
              "var notebookContainer = gd.closest('#notebook-container');\n",
              "if (notebookContainer) {{\n",
              "    x.observe(notebookContainer, {childList: true});\n",
              "}}\n",
              "\n",
              "// Listen for the clearing of the current output cell\n",
              "var outputEl = gd.closest('.output');\n",
              "if (outputEl) {{\n",
              "    x.observe(outputEl, {childList: true});\n",
              "}}\n",
              "\n",
              "                        })\n",
              "                };\n",
              "                \n",
              "            </script>\n",
              "        </div>\n",
              "</body>\n",
              "</html>"
            ]
          },
          "metadata": {
            "tags": []
          }
        }
      ]
    },
    {
      "cell_type": "markdown",
      "metadata": {
        "id": "wS6w5YTJx0_G"
      },
      "source": [
        "| **TV 장르별 IMDB 분포**"
      ]
    },
    {
      "cell_type": "code",
      "metadata": {
        "colab": {
          "base_uri": "https://localhost:8080/",
          "height": 542
        },
        "id": "igJjzefpx0ii",
        "outputId": "ab1b1341-1ed4-4496-8d88-b0360c0fabaf"
      },
      "source": [
        "fig = px.box(tv_base, x=\"GENRE\", y=\"IMDb_Score\", hover_name='Title')\n",
        "fig.show()"
      ],
      "execution_count": 48,
      "outputs": [
        {
          "output_type": "display_data",
          "data": {
            "text/html": [
              "<html>\n",
              "<head><meta charset=\"utf-8\" /></head>\n",
              "<body>\n",
              "    <div>\n",
              "            <script src=\"https://cdnjs.cloudflare.com/ajax/libs/mathjax/2.7.5/MathJax.js?config=TeX-AMS-MML_SVG\"></script><script type=\"text/javascript\">if (window.MathJax) {MathJax.Hub.Config({SVG: {font: \"STIX-Web\"}});}</script>\n",
              "                <script type=\"text/javascript\">window.PlotlyConfig = {MathJaxConfig: 'local'};</script>\n",
              "        <script src=\"https://cdn.plot.ly/plotly-latest.min.js\"></script>    \n",
              "            <div id=\"b1700b16-ddb9-4f68-9979-d7f6b8b977fe\" class=\"plotly-graph-div\" style=\"height:525px; width:100%;\"></div>\n",
              "            <script type=\"text/javascript\">\n",
              "                \n",
              "                    window.PLOTLYENV=window.PLOTLYENV || {};\n",
              "                    \n",
              "                if (document.getElementById(\"b1700b16-ddb9-4f68-9979-d7f6b8b977fe\")) {\n",
              "                    Plotly.newPlot(\n",
              "                        'b1700b16-ddb9-4f68-9979-d7f6b8b977fe',\n",
              "                        [{\"alignmentgroup\": \"True\", \"hoverlabel\": {\"namelength\": 0}, \"hovertemplate\": \"<b>%{hovertext}</b><br><br>GENRE=%{x}<br>IMDb_Score=%{y}\", \"hovertext\": [\"thequeensgambit\", \"emilyinparis\", \"lucifer\", \"theumbrellaacademy\", \"darkdesire\", \"thecrown\", \"friends\", \"yosoybettylafea\", \"ratched\", \"dark\", \"thelastdance\", \"bodyguard\", \"thehauntingofblymanor\", \"cursed\", \"cobrakai\", \"itsokaytonotbeokay\", \"pawpatrol\", \"lockedup\", \"modernfamily\", \"warriornun\", \"startrekdiscovery\", \"toohottohandle\", \"away\", \"virginriver\", \"unsolvedmysteries\", \"tinyprettythings\", \"cocomelon\", \"13reasonswhy\", \"rickandmorty\", \"jurassicworldcampcretaceous\", \"whitelines\", \"thekingeternalmonarch\", \"the100\", \"dynasty\", \"thebossbabybackinbusiness\", \"spaceforce\", \"riverdale\", \"theorder\", \"goodgirls\", \"ozark\", \"recordofyouth\", \"pasi\\u00c3\\u00b3ndegavilanes\", \"floorislava\", \"tothelake\", \"themessyouleavebehind\", \"neverhaveiever\", \"outerbanks\", \"theblacklist\", \"jeffreyepsteinfilthyrich\", \"crashlandingonyou\", \"bridgerton\", \"prisonbreak\", \"unorthodox\", \"howtogetawaywithmurder\", \"toyboy\", \"thesinner\", \"dashlily\", \"demonslayerkimetsunoyaiba\", \"enemigo\\u00c3\\u00adntimo\", \"downtoearthwithzacefron\", \"sweethome\", \"hospitalplaylist\", \"selenatheseries\", \"elite\", \"worldsmostwanted\", \"deadtome\", \"queenofthesouth\", \"bloodofzeus\", \"thewitcher\", \"aliceinborderland\", \"bigmouth\", \"hoops\", \"therain\", \"eldrag\\u00c3\\u00b3nreturnofawarrior\", \"howtoselldrugsonlinefast\", \"mysticpopupbar\", \"familyguy\", \"thelastkingdom\", \"thebusinessofdrugs\", \"youngwallander\", \"trinkets\", \"fearcitynewyorkvsthemafia\", \"alienworlds\", \"freud\", \"baby\", \"greysanatomy\", \"theworldofthemarried\", \"deadlyclass\", \"getorganizedwiththehomeedit\", \"dirtyjohn\", \"thegreatheist\", \"theflash\", \"vikings\", \"biohackers\", \"privatelives\", \"suits\", \"thebarrier\", \"homeforchristmas\", \"theripper\", \"sweetmagnolias\", \"itaewonclass\", \"brooklynninenine\", \"sellingsunset\", \"highscore\", \"paranormal\", \"history101\", \"thealienist\", \"janethevirgin\", \"thewalkingdead\", \"bettercallsaul\", \"thebabysittersclub\", \"schittscreek\", \"valeria\", \"asuitableboy\", \"hollywood\", \"undercover\", \"annewithane\", \"thegift\", \"thewoods\", \"chicavampiro\", \"sexeducation\", \"theuncannycounter\", \"teenagebountyhunters\", \"dodosolsollalasol\", \"thegoodplace\", \"thebigshowshow\", \"dareme\", \"indianmatchmaking\", \"badboybillionairesindia\", \"cablegirls\", \"theletterfortheking\", \"thefall\", \"reply1988\", \"princesssarah\", \"onepiece\", \"theliberator\", \"summertime\", \"ethos\", \"chiquititas\", \"mismatched\", \"peppapig\", \"marcella\", \"theworstwitch\", \"curon\", \"closeenough\", \"spongebobsquarepants\", \"milliondollarbeachhouse\", \"lapiloto\", \"theprotector\", \"hibyemama\", \"community\", \"julieandthephantoms\", \"stateless\", \"fireforce\", \"unwell\", \"thequeenofflow\", \"newgirl\", \"room2806theaccusation\", \"dreamhomemakeover\", \"bettyenny\", \"whatswrongwithsecretarykim\", \"loveisblind\", \"thelegendofkorra\", \"masabamasaba\", \"keepingupwiththekardashians\", \"selfmadeinspiredbythelifeofmadamcjwalker\", \"myheroacademia\", \"coronavirusexplained\", \"theduchess\", \"thebigbangtheory\", \"baki\", \"attackontitan\", \"outlander\", \"thevictimsgame\", \"jujutsukaisen\", \"wearethechampions\", \"thehouseofflowers\", \"carmelwhokilledmariamarta\", \"h\", \"theschoolnursefiles\", \"extracurricular\", \"trial4\", \"criminaluk\", \"fullerhouse\", \"rupaulsdragrace\", \"chefstablebbq\", \"paavakadhaigal\", \"rustvalleyrestorers\", \"mightyexpress\", \"thegarfieldshow\", \"boysoverflowers\", \"hellskitchen\", \"realityz\", \"sneakerheads\", \"love101\", \"breakitallthehistoryofrockinlatinamerica\", \"streetfood\", \"suburrabloodonrome\", \"familybusiness\", \"matchdayinsidefcbarcelona\", \"absurdplanet\", \"theamericanbarbecueshowdown\", \"theepictalesofcaptainunderpantsinspace\", \"goedam\", \"thethundermans\", \"mrbeantheanimatedseries\", \"jackwhitehalltravelswithmyfather\", \"avatarthelastairbender\", \"drstone\", \"workinmoms\", \"grandarmy\", \"mightylittlebheem\", \"sistersister\", \"homegame\", \"gigantosaurus\", \"fauda\", \"girlfromnowhere\", \"blindspot\", \"japansinks2020\", \"sonsofanarchy\", \"maradonainmexico\", \"thehauntingofhillhouse\", \"caliphate\", \"queereye\", \"arrow\", \"alovetolast\", \"fisforfamily\", \"trashtruck\", \"gogglebox\", \"theplaybook\", \"bhaagbeaniebhaag\", \"nothingbutthirty\", \"theinnocencefiles\", \"sugarrushchristmas\", \"dragonsdogma\", \"ahirunosora\", \"bloodwater\", \"pandemichowtopreventanoutbreak\", \"doctorjohn\", \"goahead\", \"familiarwife\", \"rugal\", \"thevalhallamurders\", \"twogether\", \"peakyblinders\", \"orangeisthenewblack\", \"norsemen\", \"greenleaf\", \"lovestruckinthecity\", \"parasytethemaxim\", \"theexpandinguniverseofashleygarcia\", \"iamakillerreleased\", \"thepolitician\", \"thesearch\", \"americanhorrorstory\", \"gotham\", \"thetwelve\", \"pupacademy\", \"kingshakir\", \"narcos\", \"connected\", \"arashisdiaryvoyage\", \"flavoursofromania\", \"dawsonscreek\", \"loveonthespectrum\", \"hannibal\", \"terracehousetokyo20192020\", \"loveislandaustralia\", \"highseas\", \"kaguyasamaloveiswar\", \"mostbeautifulthing\", \"mymister\", \"crazydelicious\", \"carmastersrusttoriches\", \"howtoruinchristmas\", \"geteven\", \"100daysmyprince\", \"mrsunshine\", \"theenglishgame\", \"thegooddetective\", \"howtofixadrugscandal\", \"themisfitofdemonkingacademy\", \"doctorstranger\", \"bgpersonalbodyguard\", \"henrydanger\", \"lareinadelsur\", \"gilmoregirls\", \"trialbymedia\", \"detention\", \"foodwarsshokugekinosoma\", \"equinox\", \"thetaleofnokdu\", \"borgen\", \"falsaidentidad\", \"allamerican\", \"starbeam\", \"asaventurasdepoliana\", \"juonorigins\", \"skindecisionbeforeandafter\", \"myidisgangnambeauty\", \"howimetyourmother\", \"thelastword\", \"teentitansgo\", \"theunremarkablejuanquini\", \"thisisus\", \"threekingdoms\", \"delhicrime\", \"myabsoluteboyfriend\", \"betaal\", \"prisonplaybook\", \"undercoverlaw\", \"bordertown\", \"runon\", \"kingdom\", \"you\", \"lastchanceu\", \"legojurassicworldlegendofislanublar\", \"rickyzoom\", \"mriglesias\", \"thestoryofdiana\", \"misfits\", \"rita\", \"alvinnnandthechipmunks\", \"thelastkidsonearth\", \"strangersfromhell\", \"almosthappy\", \"knightfall\", \"onepunchman\", \"supergirl\", \"secretobienguardado\", \"alientv\", \"gossipgirl\", \"strangerthings\", \"chicobonbonmonkeywithatoolbelt\", \"18again\", \"thevampirediaries\", \"skamitalia\", \"swordartonline\", \"doraemon\", \"100humans\", \"thegovernor\", \"ourplanet\", \"nailedit\", \"24\", \"blackaf\", \"castlerock\", \"evil\", \"scarletheartryeo\", \"thetrial\", \"hyena\", \"sunderlandtilidie\", \"derrygirls\", \"whenthecamelliablooms\", \"deadwind\", \"blackmoneylove\", \"donttellthebride\", \"borutonarutonextgenerations\", \"yugioh\", \"mysterylab\", \"crayonshinchan\", \"onceuponatime\", \"therealhousewivesofbeverlyhills\", \"unauthorizedliving\", \"theendofthefingworld\", \"bewithyou\", \"60daysin\", \"jamtarasabkanumberayega\", \"auntydonnasbigolhouseoffun\", \"rezerostartinglifeinanotherworld\", \"2gethertheseries\", \"beybladeburst\", \"shaunthesheep\", \"she\", \"thebeautyinside\", \"hasmukh\", \"themidnightgospel\", \"thecirclefrance\", \"ancientaliens\", \"thetitangames\", \"thestranger\", \"jenniriveramariposadebarrio\", \"justice\", \"luther\", \"thefinaltable\", \"fridaynightdinner\", \"kimsconvenience\", \"drromantic\", \"finalspace\", \"sherlock\", \"thehookupplan\", \"theamazingworldofgumball\", \"reckoning\", \"alhayba\", \"thesurgeonscut\", \"vip\", \"serialkillerwithpiersmorgan\", \"diamondcity\", \"socialsyndrome\", \"thedevilpunisher\", \"heidi\", \"magicforhumans\", \"barbiedreamhouseadventures\", \"valentino\", \"doctorprisoner\", \"talkingtomandfriends\", \"theclimb\", \"sayido\", \"izombie\", \"badbanks\", \"archer\", \"vampires\", \"holidayhomemakeoverwithmrchristmas\", \"superwings\", \"wentworth\", \"shameless\", \"theclub\", \"theinbestigators\", \"inthedark\", \"killerwomenwithpiersmorgan\", \"ultraviolet\", \"hoteldelluna\", \"alteredcarbon\", \"morphle\", \"spiritridingfreeridingacademy\", \"bunkd\", \"mysecretromance\", \"merlin\", \"immigrationnation\", \"narutoshippuden\", \"alovesobeautiful\", \"barangay143\", \"dorohedoro\", \"rainbowruby\", \"shtisel\", \"trapped\", \"emilyswonderlab\", \"carmensandiego\", \"trailerparkboystheanimatedseries\", \"singlelady\", \"tacochronicles\", \"iamnotokaywiththis\", \"theoriginals\", \"speedkills\", \"skycastle\", \"thespectacularspiderman\", \"saveme\", \"thenewlegendsofmonkey\", \"thattimeigotreincarnatedasaslime\", \"thirteenterrors\", \"cookedwithcannabis\", \"breakingbad\", \"snowpiercer\", \"bemelodramatic\", \"voice\", \"interiordesignmasters\", \"theeddy\", \"startup\", \"theholidaymoviesthatmadeus\", \"kipoandtheageofwonderbeasts\", \"somewherebetween\", \"youmeher\", \"gracefulfriends\", \"thechefshow\", \"flavorfulorigins\", \"somebodyfeedphil\", \"onmyblock\", \"heartbreakhigh\", \"singonspain\", \"dracula\", \"sugarrush\", \"datingaroundbrazil\", \"firemansam\", \"weightliftingfairykimbokjoo\", \"southernsurvival\", \"finalfantasyxivdadoflight\", \"designatedsurvivor\", \"survivingrkelly\", \"naileditmexico\", \"legacies\", \"thegifted\", \"tinycreatures\", \"assassinationclassroom\", \"doctors\", \"sanpasinsofthesavior\", \"thecabinwithbertkreischer\", \"thedisappearanceofmadeleinemccann\", \"colony\", \"whoareyouschool2015\", \"spartacus\", \"marvelsironfist\", \"lenoxhill\", \"arthdalchronicles\", \"whencallstheheart\", \"thefreshprinceofbelair\", \"areyoutheone\", \"whosevotecountsexplained\", \"teenmom2\", \"singongermany\", \"hoarders\", \"conversationswithakillerthetedbundytapes\", \"sheraandtheprincessesofpower\", \"homeland\", \"7seeds\", \"maniac\", \"findmeinyourmemory\", \"whispers\", \"formula1drivetosurvive\", \"salvation\", \"thebigflowerfight\", \"legofriendsgirlsonamission\", \"healer\", \"november13attackonparis\", \"lifeinpieces\", \"rhymetimetownsingalongs\", \"theguest\", \"thegreatcanadianbakingshow\", \"gogocorycarson\", \"bardofblood\", \"pollypocket\", \"hilda\", \"cathedralofthesea\", \"billions\", \"littlebabybumnurseryrhymefriends\", \"legocityadventures\", \"dearmyfriends\", \"tylerperrysthesinglemomsclub\", \"vagabond\", \"thelandofhypocrisy\", \"webarebears\", \"paradisepd\", \"theunderclass\", \"tokyoghoul\"], \"legendgroup\": \"\", \"marker\": {\"color\": \"#636efa\"}, \"name\": \"\", \"notched\": false, \"offsetgroup\": \"\", \"orientation\": \"v\", \"showlegend\": false, \"type\": \"box\", \"x\": [\"Drama\", \"Drama\", \"Superhero\", \"Superhero\", \"Drama\", \"History\", \"Comedy\", \"Drama\", \"Drama\", \"Mystery\", \"Documentary\", \"Action\", \"Horror\", \"Fantasy\", \"Action\", \"Drama\", \"Animation\", \"Drama\", \"Comedy\", \"Fantasy\", \"Science Fiction\", \"Reality-Show\", \"Science Fiction\", \"Drama\", \"Documentary\", \"Drama\", \"Animation\", \"Drama\", \"Animation\", \"Animation\", \"Crime\", \"Science Fiction\", \"Science Fiction\", \"Drama\", \"Animation\", \"Comedy\", \"Superhero\", \"Fantasy\", \"Comedy\", \"Drama\", \"Drama\", \"Drama\", \"Reality-Show\", \"Science Fiction\", \"Drama\", \"Comedy\", \"Drama\", \"Crime\", \"Documentary\", \"Drama\", \"Drama\", \"Action\", \"Drama\", \"Crime\", \"Crime\", \"Crime\", \"Comedy\", \"Animation\", \"Drama\", \"Documentary\", \"Horror\", \"Drama\", \"Drama\", \"Crime\", \"Documentary\", \"Drama\", \"Drama\", \"Animation\", \"Fantasy\", \"Science Fiction\", \"Animation\", \"Animation\", \"Science Fiction\", \"Action\", \"Comedy\", \"Mystery\", \"Animation\", \"History\", \"Documentary\", \"Crime\", \"Drama\", \"Documentary\", \"Documentary\", \"Drama\", \"Drama\", \"Drama\", \"Drama\", \"Superhero\", \"Reality-Show\", \"Drama\", \"Crime\", \"Superhero\", \"History\", \"Drama\", \"Crime\", \"Drama\", \"Science Fiction\", \"Comedy\", \"Documentary\", \"Drama\", \"Drama\", \"Comedy\", \"Reality-Show\", \"Documentary\", \"Horror\", \"Documentary\", \"Crime\", \"Comedy\", \"Horror\", \"Crime\", \"Comedy\", \"Comedy\", \"Drama\", \"Drama\", \"Drama\", \"Crime\", \"Drama\", \"Mystery\", \"Crime\", \"Science Fiction\", \"Comedy\", \"Fantasy\", \"Comedy\", \"Comedy\", \"Comedy\", \"Comedy\", \"Crime\", \"Reality-Show\", \"Documentary\", \"Drama\", \"Fantasy\", \"Crime\", \"Comedy\", \"Drama\", \"Animation\", \"Animation\", \"Drama\", \"Drama\", \"Comedy\", \"Drama\", \"Animation\", \"Crime\", \"Fantasy\", \"Fantasy\", \"Animation\", \"Animation\", \"Reality-Show\", \"Drama\", \"Mystery\", \"Drama\", \"Comedy\", \"Comedy\", \"Drama\", \"Animation\", \"Documentary\", \"Drama\", \"Comedy\", \"Documentary\", \"Reality-Show\", \"Comedy\", \"Drama\", \"Reality-Show\", \"Fantasy\", \"Comedy\", \"Reality-Show\", \"Drama\", \"Animation\", \"Documentary\", \"Comedy\", \"Comedy\", \"Animation\", \"Animation\", \"Drama\", \"Crime\", \"Animation\", \"Documentary\", \"Drama\", \"Documentary\", \"Comedy\", \"Fantasy\", \"Drama\", \"Documentary\", \"Crime\", \"Comedy\", \"Reality-Show\", \"Documentary\", \"Drama\", \"Documentary\", \"Animation\", \"Animation\", \"Drama\", \"Reality-Show\", \"Comedy\", \"Comedy\", \"Comedy\", \"Documentary\", \"Documentary\", \"Crime\", \"Comedy\", \"Documentary\", \"Documentary\", \"Reality-Show\", \"Animation\", \"Mystery\", \"Science Fiction\", \"Animation\", \"Documentary\", \"Fantasy\", \"Animation\", \"Comedy\", \"Drama\", \"Animation\", \"Comedy\", \"Documentary\", \"Animation\", \"Action\", \"Drama\", \"Crime\", \"Animation\", \"Action\", \"Documentary\", \"Horror\", \"Drama\", \"Reality-Show\", \"Superhero\", \"Drama\", \"Animation\", \"Animation\", \"Reality-Show\", \"Documentary\", \"Comedy\", \"Drama\", \"Documentary\", \"Reality-Show\", \"Animation\", \"Animation\", \"Drama\", \"Documentary\", \"Drama\", \"Drama\", \"Drama\", \"Mystery\", \"Crime\", \"Reality-Show\", \"Drama\", \"Drama\", \"Drama\", \"Drama\", \"Comedy\", \"Animation\", \"Comedy\", \"Documentary\", \"Comedy\", \"Crime\", \"Horror\", \"Superhero\", \"Drama\", \"Comedy\", \"Animation\", \"Drama\", \"Documentary\", \"Documentary\", \"Documentary\", \"Drama\", \"Documentary\", \"Crime\", \"Reality-Show\", \"Reality-Show\", \"Drama\", \"Comedy\", \"Drama\", \"Drama\", \"Reality-Show\", \"Reality-Show\", \"Comedy\", \"Crime\", \"Drama\", \"Drama\", \"Drama\", \"Crime\", \"Documentary\", \"Animation\", \"Drama\", \"Drama\", \"Comedy\", \"Drama\", \"Drama\", \"Documentary\", \"Mystery\", \"Animation\", \"Mystery\", \"Comedy\", \"Drama\", \"Drama\", \"Drama\", \"Animation\", \"Drama\", \"Horror\", \"Reality-Show\", \"Comedy\", \"Comedy\", \"Comedy\", \"Superhero\", \"Comedy\", \"Drama\", \"Drama\", \"Crime\", \"Comedy\", \"Horror\", \"Drama\", \"Drama\", \"Crime\", \"Drama\", \"Horror\", \"Drama\", \"Documentary\", \"Animation\", \"Animation\", \"Comedy\", \"Documentary\", \"Superhero\", \"Comedy\", \"Animation\", \"Animation\", \"Mystery\", \"Comedy\", \"History\", \"Animation\", \"Superhero\", \"Drama\", \"Animation\", \"Comedy\", \"Mystery\", \"Animation\", \"Comedy\", \"Fantasy\", \"Drama\", \"Animation\", \"Animation\", \"Documentary\", \"Drama\", \"Documentary\", \"Reality-Show\", \"Action\", \"Comedy\", \"Mystery\", \"Drama\", \"Fantasy\", \"Crime\", \"Drama\", \"Documentary\", \"Comedy\", \"Comedy\", \"Crime\", \"Drama\", \"Reality-Show\", \"Animation\", \"Animation\", \"Documentary\", \"Animation\", \"Fantasy\", \"Reality-Show\", \"Drama\", \"Comedy\", \"Drama\", \"Reality-Show\", \"Drama\", \"Comedy\", \"Animation\", \"Comedy\", \"Animation\", \"Animation\", \"Crime\", \"Drama\", \"Crime\", \"Animation\", \"Reality-Show\", \"Documentary\", \"Reality-Show\", \"Drama\", \"Drama\", \"Drama\", \"Crime\", \"Reality-Show\", \"Comedy\", \"Comedy\", \"Drama\", \"Animation\", \"Crime\", \"Comedy\", \"Animation\", \"Drama\", \"Drama\", \"Documentary\", \"Drama\", \"Documentary\", \"Crime\", \"Drama\", \"Fantasy\", \"Animation\", \"Documentary\", \"Animation\", \"Comedy\", \"Drama\", \"Animation\", \"Comedy\", \"Reality-Show\", \"Superhero\", \"Crime\", \"Action\", \"Fantasy\", \"Reality-Show\", \"Animation\", \"Crime\", \"Comedy\", \"Crime\", \"Crime\", \"Comedy\", \"Documentary\", \"Crime\", \"Science Fiction\", \"Science Fiction\", \"Animation\", \"Animation\", \"Comedy\", \"Comedy\", \"Fantasy\", \"Documentary\", \"Animation\", \"Comedy\", \"Animation\", \"Animation\", \"Animation\", \"Drama\", \"Crime\", \"Reality-Show\", \"Animation\", \"Animation\", \"Comedy\", \"Documentary\", \"Mystery\", \"Fantasy\", \"Documentary\", \"Comedy\", \"Animation\", \"Crime\", \"Fantasy\", \"Animation\", \"Mystery\", \"Reality-Show\", \"Crime\", \"Science Fiction\", \"Comedy\", \"Crime\", \"Reality-Show\", \"Drama\", \"Comedy\", \"Documentary\", \"Animation\", \"Crime\", \"Comedy\", \"Crime\", \"Documentary\", \"Documentary\", \"Documentary\", \"Comedy\", \"Drama\", \"Reality-Show\", \"Horror\", \"Reality-Show\", \"Reality-Show\", \"Animation\", \"Comedy\", \"Reality-Show\", \"Drama\", \"Action\", \"Documentary\", \"Reality-Show\", \"Fantasy\", \"Comedy\", \"Documentary\", \"Animation\", \"Drama\", \"Documentary\", \"Reality-Show\", \"Documentary\", \"Science Fiction\", \"Comedy\", \"History\", \"Superhero\", \"Documentary\", \"History\", \"Drama\", \"Comedy\", \"Reality-Show\", \"Documentary\", \"Reality-Show\", \"Reality-Show\", \"Documentary\", \"Documentary\", \"Animation\", \"Drama\", \"Animation\", \"Drama\", \"Drama\", \"Drama\", \"Documentary\", \"Science Fiction\", \"Reality-Show\", \"Animation\", \"Drama\", \"Documentary\", \"Comedy\", \"Animation\", \"Crime\", \"Reality-Show\", \"Animation\", \"Action\", \"Animation\", \"Animation\", \"History\", \"Drama\", \"Animation\", \"Animation\", \"Comedy\", \"Talk Show\", \"Action\", \"Comedy\", \"Animation\", \"Animation\", \"Drama\", \"Animation\"], \"x0\": \" \", \"xaxis\": \"x\", \"y\": [7.3, 7.1, 6.9, 8.0, 6.4, 8.7, 8.9, 8.2, 7.3, 8.8, 9.2, 8.1, 7.4, 5.0, 8.6, 7.3, 6.2, 3.9, 8.4, 6.8, 7.2, 4.5, 6.6, 7.5, 7.3, 5.8, 5.1, 7.6, 9.2, 7.4, 6.5, 8.2, 7.6, 7.3, 6.4, 6.8, 6.9, 6.8, 7.8, 8.4, 7.3, 7.9, 5.2, 7.3, 6.8, 7.9, 7.6, 8.0, 7.1, 8.7, 7.3, 8.3, 8.0, 8.1, 6.4, 7.9, 2.2, 8.7, 7.4, 8.1, 5.2, 8.7, 6.6, 7.6, 7.0, 8.0, 7.9, 7.6, 8.2, 7.7, 8.0, 5.7, 6.3, 7.0, 7.9, 8.0, 8.1, 8.4, 7.2, 6.8, 7.1, 7.1, 6.3, 6.5, 6.8, 7.6, 8.1, 7.6, 4.4, 7.2, 7.3, 7.7, 8.5, 6.7, 6.8, 7.4, 6.8, 7.7, 5.8, 7.4, 8.2, 8.4, 6.3, 7.4, 6.3, 6.7, 7.7, 7.8, 8.2, 8.7, 5.8, 8.5, 6.6, 5.8, 7.6, 7.9, 8.7, 6.4, 5.7, 4.1, 8.3, 8.1, 7.7, 7.4, 8.2, 6.3, 6.8, 6.2, 8.0, 7.6, 5.9, 8.2, 9.1, 7.9, 6.9, 6.8, 7.0, 7.5, 6.3, 5.4, 6.3, 7.4, 7.3, 5.7, 7.7, 8.2, 4.1, 5.7, 6.7, 8.0, 8.5, 8.4, 7.5, 7.7, 6.4, 7.9, 7.7, 7.0, 5.5, 7.7, 8.1, 6.1, 8.4, 6.7, 2.8, 7.3, 8.5, 7.7, 6.9, 8.1, 6.7, 8.9, 8.4, 7.4, 8.7, 5.0, 7.7, 7.1, 5.9, 6.5, 7.7, 7.4, 7.6, 6.8, 8.4, 7.3, 8.1, 7.8, 4.7, 5.4, 7.9, 7.1, 5.3, 6.1, 7.5, 7.7, 8.0, 7.9, 5.8, 8.0, 3.9, 7.2, 7.3, 5.7, 5.8, 6.8, 7.7, 9.2, 8.2, 7.6, 7.5, 6.5, 6.2, 7.1, 7.5, 8.2, 7.8, 7.4, 6.5, 8.5, 7.2, 8.6, 8.2, 8.5, 7.5, 8.9, 8.0, 8.4, 7.4, 5.9, 4.1, 7.2, 8.0, 6.9, 7.1, 7.5, 6.3, 6.3, 8.2, 8.6, 7.5, 6.4, 7.1, 4.2, 8.8, 8.1, 7.8, 7.4, 7.4, 8.3, 6.7, 5.2, 7.5, 7.8, 8.0, 7.9, 7.5, 6.5, 5.6, 8.8, 6.6, 7.6, 9.5, 6.6, 8.5, 6.8, 8.2, 5.4, 6.8, 8.4, 7.9, 9.1, 6.7, 8.8, 6.0, 6.3, 7.5, 8.8, 7.6, 7.4, 7.0, 7.3, 7.4, 6.8, 5.6, 8.0, 8.1, 7.2, 5.7, 8.2, 5.4, 7.9, 8.5, 7.4, 7.7, 7.1, 7.5, 6.1, 5.8, 7.5, 8.3, 6.6, 5.3, 4.4, 8.7, 6.2, 8.5, 6.8, 5.3, 8.4, 7.3, 6.1, 5.5, 8.4, 7.7, 8.5, 6.8, 6.6, 7.1, 8.0, 8.2, 8.1, 4.5, 7.5, 7.9, 6.7, 6.8, 8.8, 6.3, 4.9, 6.0, 7.4, 8.7, 6.7, 8.2, 7.7, 7.5, 7.6, 7.9, 5.7, 7.5, 9.3, 7.3, 8.3, 6.8, 7.6, 7.8, 8.7, 7.0, 7.8, 8.1, 8.4, 8.0, 7.2, 7.3, 7.2, 7.0, 7.2, 7.6, 6.6, 7.7, 5.0, 7.5, 8.1, 7.7, 7.7, 7.3, 8.8, 8.1, 5.0, 6.4, 8.2, 6.5, 7.4, 5.3, 8.3, 7.4, 7.5, 7.1, 6.2, 6.9, 3.0, 8.5, 7.7, 8.1, 8.2, 8.3, 8.3, 9.1, 7.2, 8.2, 6.6, 7.5, 4.9, 7.7, 3.8, 5.8, 7.8, 6.1, 7.5, 7.2, 6.8, 6.1, 7.7, 6.2, 5.0, 7.7, 7.8, 8.0, 8.6, 5.5, 5.7, 6.0, 8.6, 5.2, 7.2, 8.0, 7.4, 6.5, 7.0, 8.3, 8.0, 4.3, 7.7, 5.4, 7.2, 7.9, 7.5, 8.6, 8.1, 6.2, 8.2, 6.5, 8.6, 8.1, 6.7, 7.9, 7.5, 6.4, 7.8, 7.6, 8.2, 4.2, 8.7, 8.2, 8.0, 6.5, 8.0, 6.9, 6.6, 9.5, 7.1, 8.1, 7.9, 6.5, 7.2, 6.3, 7.2, 8.4, 6.2, 7.0, 6.4, 8.2, 7.7, 8.2, 8.0, 7.8, 6.3, 6.8, 7.7, 5.6, 5.9, 8.4, 5.6, 7.3, 7.5, 7.6, 6.0, 7.5, 8.4, 4.9, 8.0, 7.7, 7.9, 7.1, 6.6, 7.4, 7.7, 8.5, 6.5, 8.7, 8.4, 8.2, 7.9, 6.5, 7.3, 4.3, 5.3, 6.4, 7.8, 7.8, 8.3, 6.4, 7.8, 7.4, 4.3, 8.6, 7.0, 7.5, 7.4, 6.8, 8.3, 8.0, 8.3, 6.7, 7.5, 8.3, 7.0, 6.7, 8.6, 7.5, 8.4, 3.7, 6.7, 8.3, 7.5, 7.7, 6.7, 6.8, 6.9, 6.4, 5.7], \"y0\": \" \", \"yaxis\": \"y\"}],\n",
              "                        {\"boxmode\": \"group\", \"legend\": {\"tracegroupgap\": 0}, \"margin\": {\"t\": 60}, \"template\": {\"data\": {\"bar\": [{\"error_x\": {\"color\": \"#2a3f5f\"}, \"error_y\": {\"color\": \"#2a3f5f\"}, \"marker\": {\"line\": {\"color\": \"#E5ECF6\", \"width\": 0.5}}, \"type\": \"bar\"}], \"barpolar\": [{\"marker\": {\"line\": {\"color\": \"#E5ECF6\", \"width\": 0.5}}, \"type\": \"barpolar\"}], \"carpet\": [{\"aaxis\": {\"endlinecolor\": \"#2a3f5f\", \"gridcolor\": \"white\", \"linecolor\": \"white\", \"minorgridcolor\": \"white\", \"startlinecolor\": \"#2a3f5f\"}, \"baxis\": {\"endlinecolor\": \"#2a3f5f\", \"gridcolor\": \"white\", \"linecolor\": \"white\", \"minorgridcolor\": \"white\", \"startlinecolor\": \"#2a3f5f\"}, \"type\": \"carpet\"}], \"choropleth\": [{\"colorbar\": {\"outlinewidth\": 0, \"ticks\": \"\"}, \"type\": \"choropleth\"}], \"contour\": [{\"colorbar\": {\"outlinewidth\": 0, \"ticks\": \"\"}, \"colorscale\": [[0.0, \"#0d0887\"], [0.1111111111111111, \"#46039f\"], [0.2222222222222222, \"#7201a8\"], [0.3333333333333333, \"#9c179e\"], [0.4444444444444444, \"#bd3786\"], [0.5555555555555556, \"#d8576b\"], [0.6666666666666666, \"#ed7953\"], [0.7777777777777778, \"#fb9f3a\"], [0.8888888888888888, \"#fdca26\"], [1.0, \"#f0f921\"]], \"type\": \"contour\"}], \"contourcarpet\": [{\"colorbar\": {\"outlinewidth\": 0, \"ticks\": \"\"}, \"type\": \"contourcarpet\"}], \"heatmap\": [{\"colorbar\": {\"outlinewidth\": 0, \"ticks\": \"\"}, \"colorscale\": [[0.0, \"#0d0887\"], [0.1111111111111111, \"#46039f\"], [0.2222222222222222, \"#7201a8\"], [0.3333333333333333, \"#9c179e\"], [0.4444444444444444, \"#bd3786\"], [0.5555555555555556, \"#d8576b\"], [0.6666666666666666, \"#ed7953\"], [0.7777777777777778, \"#fb9f3a\"], [0.8888888888888888, \"#fdca26\"], [1.0, \"#f0f921\"]], \"type\": \"heatmap\"}], \"heatmapgl\": [{\"colorbar\": {\"outlinewidth\": 0, \"ticks\": \"\"}, \"colorscale\": [[0.0, \"#0d0887\"], [0.1111111111111111, \"#46039f\"], [0.2222222222222222, \"#7201a8\"], [0.3333333333333333, \"#9c179e\"], [0.4444444444444444, \"#bd3786\"], [0.5555555555555556, \"#d8576b\"], [0.6666666666666666, \"#ed7953\"], [0.7777777777777778, \"#fb9f3a\"], [0.8888888888888888, \"#fdca26\"], [1.0, \"#f0f921\"]], \"type\": \"heatmapgl\"}], \"histogram\": [{\"marker\": {\"colorbar\": {\"outlinewidth\": 0, \"ticks\": \"\"}}, \"type\": \"histogram\"}], \"histogram2d\": [{\"colorbar\": {\"outlinewidth\": 0, \"ticks\": \"\"}, \"colorscale\": [[0.0, \"#0d0887\"], [0.1111111111111111, \"#46039f\"], [0.2222222222222222, \"#7201a8\"], [0.3333333333333333, \"#9c179e\"], [0.4444444444444444, \"#bd3786\"], [0.5555555555555556, \"#d8576b\"], [0.6666666666666666, \"#ed7953\"], [0.7777777777777778, \"#fb9f3a\"], [0.8888888888888888, \"#fdca26\"], [1.0, \"#f0f921\"]], \"type\": \"histogram2d\"}], \"histogram2dcontour\": [{\"colorbar\": {\"outlinewidth\": 0, \"ticks\": \"\"}, \"colorscale\": [[0.0, \"#0d0887\"], [0.1111111111111111, \"#46039f\"], [0.2222222222222222, \"#7201a8\"], [0.3333333333333333, \"#9c179e\"], [0.4444444444444444, \"#bd3786\"], [0.5555555555555556, \"#d8576b\"], [0.6666666666666666, \"#ed7953\"], [0.7777777777777778, \"#fb9f3a\"], [0.8888888888888888, \"#fdca26\"], [1.0, \"#f0f921\"]], \"type\": \"histogram2dcontour\"}], \"mesh3d\": [{\"colorbar\": {\"outlinewidth\": 0, \"ticks\": \"\"}, \"type\": \"mesh3d\"}], \"parcoords\": [{\"line\": {\"colorbar\": {\"outlinewidth\": 0, \"ticks\": \"\"}}, \"type\": \"parcoords\"}], \"pie\": [{\"automargin\": true, \"type\": \"pie\"}], \"scatter\": [{\"marker\": {\"colorbar\": {\"outlinewidth\": 0, \"ticks\": \"\"}}, \"type\": \"scatter\"}], \"scatter3d\": [{\"line\": {\"colorbar\": {\"outlinewidth\": 0, \"ticks\": \"\"}}, \"marker\": {\"colorbar\": {\"outlinewidth\": 0, \"ticks\": \"\"}}, \"type\": \"scatter3d\"}], \"scattercarpet\": [{\"marker\": {\"colorbar\": {\"outlinewidth\": 0, \"ticks\": \"\"}}, \"type\": \"scattercarpet\"}], \"scattergeo\": [{\"marker\": {\"colorbar\": {\"outlinewidth\": 0, \"ticks\": \"\"}}, \"type\": \"scattergeo\"}], \"scattergl\": [{\"marker\": {\"colorbar\": {\"outlinewidth\": 0, \"ticks\": \"\"}}, \"type\": \"scattergl\"}], \"scattermapbox\": [{\"marker\": {\"colorbar\": {\"outlinewidth\": 0, \"ticks\": \"\"}}, \"type\": \"scattermapbox\"}], \"scatterpolar\": [{\"marker\": {\"colorbar\": {\"outlinewidth\": 0, \"ticks\": \"\"}}, \"type\": \"scatterpolar\"}], \"scatterpolargl\": [{\"marker\": {\"colorbar\": {\"outlinewidth\": 0, \"ticks\": \"\"}}, \"type\": \"scatterpolargl\"}], \"scatterternary\": [{\"marker\": {\"colorbar\": {\"outlinewidth\": 0, \"ticks\": \"\"}}, \"type\": \"scatterternary\"}], \"surface\": [{\"colorbar\": {\"outlinewidth\": 0, \"ticks\": \"\"}, \"colorscale\": [[0.0, \"#0d0887\"], [0.1111111111111111, \"#46039f\"], [0.2222222222222222, \"#7201a8\"], [0.3333333333333333, \"#9c179e\"], [0.4444444444444444, \"#bd3786\"], [0.5555555555555556, \"#d8576b\"], [0.6666666666666666, \"#ed7953\"], [0.7777777777777778, \"#fb9f3a\"], [0.8888888888888888, \"#fdca26\"], [1.0, \"#f0f921\"]], \"type\": \"surface\"}], \"table\": [{\"cells\": {\"fill\": {\"color\": \"#EBF0F8\"}, \"line\": {\"color\": \"white\"}}, \"header\": {\"fill\": {\"color\": \"#C8D4E3\"}, \"line\": {\"color\": \"white\"}}, \"type\": \"table\"}]}, \"layout\": {\"annotationdefaults\": {\"arrowcolor\": \"#2a3f5f\", \"arrowhead\": 0, \"arrowwidth\": 1}, \"coloraxis\": {\"colorbar\": {\"outlinewidth\": 0, \"ticks\": \"\"}}, \"colorscale\": {\"diverging\": [[0, \"#8e0152\"], [0.1, \"#c51b7d\"], [0.2, \"#de77ae\"], [0.3, \"#f1b6da\"], [0.4, \"#fde0ef\"], [0.5, \"#f7f7f7\"], [0.6, \"#e6f5d0\"], [0.7, \"#b8e186\"], [0.8, \"#7fbc41\"], [0.9, \"#4d9221\"], [1, \"#276419\"]], \"sequential\": [[0.0, \"#0d0887\"], [0.1111111111111111, \"#46039f\"], [0.2222222222222222, \"#7201a8\"], [0.3333333333333333, \"#9c179e\"], [0.4444444444444444, \"#bd3786\"], [0.5555555555555556, \"#d8576b\"], [0.6666666666666666, \"#ed7953\"], [0.7777777777777778, \"#fb9f3a\"], [0.8888888888888888, \"#fdca26\"], [1.0, \"#f0f921\"]], \"sequentialminus\": [[0.0, \"#0d0887\"], [0.1111111111111111, \"#46039f\"], [0.2222222222222222, \"#7201a8\"], [0.3333333333333333, \"#9c179e\"], [0.4444444444444444, \"#bd3786\"], [0.5555555555555556, \"#d8576b\"], [0.6666666666666666, \"#ed7953\"], [0.7777777777777778, \"#fb9f3a\"], [0.8888888888888888, \"#fdca26\"], [1.0, \"#f0f921\"]]}, \"colorway\": [\"#636efa\", \"#EF553B\", \"#00cc96\", \"#ab63fa\", \"#FFA15A\", \"#19d3f3\", \"#FF6692\", \"#B6E880\", \"#FF97FF\", \"#FECB52\"], \"font\": {\"color\": \"#2a3f5f\"}, \"geo\": {\"bgcolor\": \"white\", \"lakecolor\": \"white\", \"landcolor\": \"#E5ECF6\", \"showlakes\": true, \"showland\": true, \"subunitcolor\": \"white\"}, \"hoverlabel\": {\"align\": \"left\"}, \"hovermode\": \"closest\", \"mapbox\": {\"style\": \"light\"}, \"paper_bgcolor\": \"white\", \"plot_bgcolor\": \"#E5ECF6\", \"polar\": {\"angularaxis\": {\"gridcolor\": \"white\", \"linecolor\": \"white\", \"ticks\": \"\"}, \"bgcolor\": \"#E5ECF6\", \"radialaxis\": {\"gridcolor\": \"white\", \"linecolor\": \"white\", \"ticks\": \"\"}}, \"scene\": {\"xaxis\": {\"backgroundcolor\": \"#E5ECF6\", \"gridcolor\": \"white\", \"gridwidth\": 2, \"linecolor\": \"white\", \"showbackground\": true, \"ticks\": \"\", \"zerolinecolor\": \"white\"}, \"yaxis\": {\"backgroundcolor\": \"#E5ECF6\", \"gridcolor\": \"white\", \"gridwidth\": 2, \"linecolor\": \"white\", \"showbackground\": true, \"ticks\": \"\", \"zerolinecolor\": \"white\"}, \"zaxis\": {\"backgroundcolor\": \"#E5ECF6\", \"gridcolor\": \"white\", \"gridwidth\": 2, \"linecolor\": \"white\", \"showbackground\": true, \"ticks\": \"\", \"zerolinecolor\": \"white\"}}, \"shapedefaults\": {\"line\": {\"color\": \"#2a3f5f\"}}, \"ternary\": {\"aaxis\": {\"gridcolor\": \"white\", \"linecolor\": \"white\", \"ticks\": \"\"}, \"baxis\": {\"gridcolor\": \"white\", \"linecolor\": \"white\", \"ticks\": \"\"}, \"bgcolor\": \"#E5ECF6\", \"caxis\": {\"gridcolor\": \"white\", \"linecolor\": \"white\", \"ticks\": \"\"}}, \"title\": {\"x\": 0.05}, \"xaxis\": {\"automargin\": true, \"gridcolor\": \"white\", \"linecolor\": \"white\", \"ticks\": \"\", \"title\": {\"standoff\": 15}, \"zerolinecolor\": \"white\", \"zerolinewidth\": 2}, \"yaxis\": {\"automargin\": true, \"gridcolor\": \"white\", \"linecolor\": \"white\", \"ticks\": \"\", \"title\": {\"standoff\": 15}, \"zerolinecolor\": \"white\", \"zerolinewidth\": 2}}}, \"xaxis\": {\"anchor\": \"y\", \"domain\": [0.0, 1.0], \"title\": {\"text\": \"GENRE\"}}, \"yaxis\": {\"anchor\": \"x\", \"domain\": [0.0, 1.0], \"title\": {\"text\": \"IMDb_Score\"}}},\n",
              "                        {\"responsive\": true}\n",
              "                    ).then(function(){\n",
              "                            \n",
              "var gd = document.getElementById('b1700b16-ddb9-4f68-9979-d7f6b8b977fe');\n",
              "var x = new MutationObserver(function (mutations, observer) {{\n",
              "        var display = window.getComputedStyle(gd).display;\n",
              "        if (!display || display === 'none') {{\n",
              "            console.log([gd, 'removed!']);\n",
              "            Plotly.purge(gd);\n",
              "            observer.disconnect();\n",
              "        }}\n",
              "}});\n",
              "\n",
              "// Listen for the removal of the full notebook cells\n",
              "var notebookContainer = gd.closest('#notebook-container');\n",
              "if (notebookContainer) {{\n",
              "    x.observe(notebookContainer, {childList: true});\n",
              "}}\n",
              "\n",
              "// Listen for the clearing of the current output cell\n",
              "var outputEl = gd.closest('.output');\n",
              "if (outputEl) {{\n",
              "    x.observe(outputEl, {childList: true});\n",
              "}}\n",
              "\n",
              "                        })\n",
              "                };\n",
              "                \n",
              "            </script>\n",
              "        </div>\n",
              "</body>\n",
              "</html>"
            ]
          },
          "metadata": {
            "tags": []
          }
        }
      ]
    },
    {
      "cell_type": "markdown",
      "metadata": {
        "id": "mWyJ7ze4a4Du"
      },
      "source": [
        "## 3.결과 :  장르별로 Viewpoints를 살펴보았으나 **유의미한 차이가 없었고,** TV 시리즈와 달리 **영화의 경우 로맨스, 드라마, 액션, 뮤직 부분 에서 눈에 띄는 흥행작(Outlier)이 존재함을 발견**"
      ]
    },
    {
      "cell_type": "markdown",
      "metadata": {
        "id": "y7JWtf-yb8xg"
      },
      "source": [
        "## 4. 추가 사항"
      ]
    },
    {
      "cell_type": "markdown",
      "metadata": {
        "id": "nclsAzXkcDYK"
      },
      "source": [
        "장르 별로 세분화하여 보아도 value(viewpoint)와 Score 값은 유의미한 상관관계가 있다고 볼 수 없다"
      ]
    },
    {
      "cell_type": "code",
      "metadata": {
        "id": "DPggnBbrbjVA",
        "colab": {
          "base_uri": "https://localhost:8080/",
          "height": 901
        },
        "outputId": "1b9bc1bf-5ded-4549-b9a6-cede7e83756b"
      },
      "source": [
        "corr = movie_genre[['IMDb_Score','Log_VALUE']].corr()\n",
        "corr.style.background_gradient(cmap='PuBu').set_precision(2)"
      ],
      "execution_count": 49,
      "outputs": [
        {
          "output_type": "execute_result",
          "data": {
            "text/html": [
              "<style  type=\"text/css\" >\n",
              "#T_51a19a86_e483_11eb_a2d9_0242ac1c0002row0_col0,#T_51a19a86_e483_11eb_a2d9_0242ac1c0002row1_col1,#T_51a19a86_e483_11eb_a2d9_0242ac1c0002row2_col0,#T_51a19a86_e483_11eb_a2d9_0242ac1c0002row3_col1,#T_51a19a86_e483_11eb_a2d9_0242ac1c0002row4_col0,#T_51a19a86_e483_11eb_a2d9_0242ac1c0002row5_col1,#T_51a19a86_e483_11eb_a2d9_0242ac1c0002row6_col0,#T_51a19a86_e483_11eb_a2d9_0242ac1c0002row7_col1,#T_51a19a86_e483_11eb_a2d9_0242ac1c0002row8_col0,#T_51a19a86_e483_11eb_a2d9_0242ac1c0002row9_col1,#T_51a19a86_e483_11eb_a2d9_0242ac1c0002row10_col0,#T_51a19a86_e483_11eb_a2d9_0242ac1c0002row10_col1,#T_51a19a86_e483_11eb_a2d9_0242ac1c0002row11_col0,#T_51a19a86_e483_11eb_a2d9_0242ac1c0002row11_col1,#T_51a19a86_e483_11eb_a2d9_0242ac1c0002row12_col0,#T_51a19a86_e483_11eb_a2d9_0242ac1c0002row13_col1,#T_51a19a86_e483_11eb_a2d9_0242ac1c0002row14_col0,#T_51a19a86_e483_11eb_a2d9_0242ac1c0002row15_col1,#T_51a19a86_e483_11eb_a2d9_0242ac1c0002row16_col0,#T_51a19a86_e483_11eb_a2d9_0242ac1c0002row17_col1,#T_51a19a86_e483_11eb_a2d9_0242ac1c0002row18_col0,#T_51a19a86_e483_11eb_a2d9_0242ac1c0002row19_col1,#T_51a19a86_e483_11eb_a2d9_0242ac1c0002row20_col0,#T_51a19a86_e483_11eb_a2d9_0242ac1c0002row21_col1,#T_51a19a86_e483_11eb_a2d9_0242ac1c0002row22_col0,#T_51a19a86_e483_11eb_a2d9_0242ac1c0002row23_col1,#T_51a19a86_e483_11eb_a2d9_0242ac1c0002row24_col0,#T_51a19a86_e483_11eb_a2d9_0242ac1c0002row25_col1,#T_51a19a86_e483_11eb_a2d9_0242ac1c0002row26_col0,#T_51a19a86_e483_11eb_a2d9_0242ac1c0002row27_col1,#T_51a19a86_e483_11eb_a2d9_0242ac1c0002row28_col0,#T_51a19a86_e483_11eb_a2d9_0242ac1c0002row29_col1,#T_51a19a86_e483_11eb_a2d9_0242ac1c0002row30_col0,#T_51a19a86_e483_11eb_a2d9_0242ac1c0002row31_col1,#T_51a19a86_e483_11eb_a2d9_0242ac1c0002row32_col0,#T_51a19a86_e483_11eb_a2d9_0242ac1c0002row33_col1,#T_51a19a86_e483_11eb_a2d9_0242ac1c0002row34_col0,#T_51a19a86_e483_11eb_a2d9_0242ac1c0002row35_col1,#T_51a19a86_e483_11eb_a2d9_0242ac1c0002row36_col0,#T_51a19a86_e483_11eb_a2d9_0242ac1c0002row37_col1,#T_51a19a86_e483_11eb_a2d9_0242ac1c0002row38_col0,#T_51a19a86_e483_11eb_a2d9_0242ac1c0002row39_col1{\n",
              "            background-color:  #023858;\n",
              "            color:  #f1f1f1;\n",
              "        }#T_51a19a86_e483_11eb_a2d9_0242ac1c0002row0_col1,#T_51a19a86_e483_11eb_a2d9_0242ac1c0002row1_col0{\n",
              "            background-color:  #b9c6e0;\n",
              "            color:  #000000;\n",
              "        }#T_51a19a86_e483_11eb_a2d9_0242ac1c0002row2_col1,#T_51a19a86_e483_11eb_a2d9_0242ac1c0002row3_col0{\n",
              "            background-color:  #bfc9e1;\n",
              "            color:  #000000;\n",
              "        }#T_51a19a86_e483_11eb_a2d9_0242ac1c0002row4_col1,#T_51a19a86_e483_11eb_a2d9_0242ac1c0002row5_col0{\n",
              "            background-color:  #e2dfee;\n",
              "            color:  #000000;\n",
              "        }#T_51a19a86_e483_11eb_a2d9_0242ac1c0002row6_col1,#T_51a19a86_e483_11eb_a2d9_0242ac1c0002row7_col0{\n",
              "            background-color:  #8fb4d6;\n",
              "            color:  #000000;\n",
              "        }#T_51a19a86_e483_11eb_a2d9_0242ac1c0002row8_col1,#T_51a19a86_e483_11eb_a2d9_0242ac1c0002row9_col0{\n",
              "            background-color:  #e5e1ef;\n",
              "            color:  #000000;\n",
              "        }#T_51a19a86_e483_11eb_a2d9_0242ac1c0002row12_col1,#T_51a19a86_e483_11eb_a2d9_0242ac1c0002row13_col0,#T_51a19a86_e483_11eb_a2d9_0242ac1c0002row24_col1,#T_51a19a86_e483_11eb_a2d9_0242ac1c0002row25_col0,#T_51a19a86_e483_11eb_a2d9_0242ac1c0002row26_col1,#T_51a19a86_e483_11eb_a2d9_0242ac1c0002row27_col0{\n",
              "            background-color:  #d1d2e6;\n",
              "            color:  #000000;\n",
              "        }#T_51a19a86_e483_11eb_a2d9_0242ac1c0002row14_col1,#T_51a19a86_e483_11eb_a2d9_0242ac1c0002row15_col0{\n",
              "            background-color:  #8eb3d5;\n",
              "            color:  #000000;\n",
              "        }#T_51a19a86_e483_11eb_a2d9_0242ac1c0002row16_col1,#T_51a19a86_e483_11eb_a2d9_0242ac1c0002row17_col0,#T_51a19a86_e483_11eb_a2d9_0242ac1c0002row22_col1,#T_51a19a86_e483_11eb_a2d9_0242ac1c0002row23_col0{\n",
              "            background-color:  #e4e1ef;\n",
              "            color:  #000000;\n",
              "        }#T_51a19a86_e483_11eb_a2d9_0242ac1c0002row18_col1,#T_51a19a86_e483_11eb_a2d9_0242ac1c0002row19_col0{\n",
              "            background-color:  #034871;\n",
              "            color:  #f1f1f1;\n",
              "        }#T_51a19a86_e483_11eb_a2d9_0242ac1c0002row20_col1,#T_51a19a86_e483_11eb_a2d9_0242ac1c0002row21_col0{\n",
              "            background-color:  #dbdaeb;\n",
              "            color:  #000000;\n",
              "        }#T_51a19a86_e483_11eb_a2d9_0242ac1c0002row28_col1,#T_51a19a86_e483_11eb_a2d9_0242ac1c0002row29_col0{\n",
              "            background-color:  #fff7fb;\n",
              "            color:  #000000;\n",
              "        }#T_51a19a86_e483_11eb_a2d9_0242ac1c0002row30_col1,#T_51a19a86_e483_11eb_a2d9_0242ac1c0002row31_col0{\n",
              "            background-color:  #d2d2e7;\n",
              "            color:  #000000;\n",
              "        }#T_51a19a86_e483_11eb_a2d9_0242ac1c0002row32_col1,#T_51a19a86_e483_11eb_a2d9_0242ac1c0002row33_col0{\n",
              "            background-color:  #97b7d7;\n",
              "            color:  #000000;\n",
              "        }#T_51a19a86_e483_11eb_a2d9_0242ac1c0002row34_col1,#T_51a19a86_e483_11eb_a2d9_0242ac1c0002row35_col0{\n",
              "            background-color:  #e9e5f1;\n",
              "            color:  #000000;\n",
              "        }#T_51a19a86_e483_11eb_a2d9_0242ac1c0002row36_col1,#T_51a19a86_e483_11eb_a2d9_0242ac1c0002row37_col0{\n",
              "            background-color:  #c8cde4;\n",
              "            color:  #000000;\n",
              "        }#T_51a19a86_e483_11eb_a2d9_0242ac1c0002row38_col1,#T_51a19a86_e483_11eb_a2d9_0242ac1c0002row39_col0{\n",
              "            background-color:  #dedcec;\n",
              "            color:  #000000;\n",
              "        }</style><table id=\"T_51a19a86_e483_11eb_a2d9_0242ac1c0002\" ><thead>    <tr>        <th class=\"blank\" ></th>        <th class=\"blank level0\" ></th>        <th class=\"col_heading level0 col0\" >IMDb_Score</th>        <th class=\"col_heading level0 col1\" >Log_VALUE</th>    </tr>    <tr>        <th class=\"index_name level0\" >GENRE</th>        <th class=\"index_name level1\" ></th>        <th class=\"blank\" ></th>        <th class=\"blank\" ></th>    </tr></thead><tbody>\n",
              "                <tr>\n",
              "                        <th id=\"T_51a19a86_e483_11eb_a2d9_0242ac1c0002level0_row0\" class=\"row_heading level0 row0\" rowspan=2>Action</th>\n",
              "                        <th id=\"T_51a19a86_e483_11eb_a2d9_0242ac1c0002level1_row0\" class=\"row_heading level1 row0\" >IMDb_Score</th>\n",
              "                        <td id=\"T_51a19a86_e483_11eb_a2d9_0242ac1c0002row0_col0\" class=\"data row0 col0\" >1.00</td>\n",
              "                        <td id=\"T_51a19a86_e483_11eb_a2d9_0242ac1c0002row0_col1\" class=\"data row0 col1\" >0.10</td>\n",
              "            </tr>\n",
              "            <tr>\n",
              "                                <th id=\"T_51a19a86_e483_11eb_a2d9_0242ac1c0002level1_row1\" class=\"row_heading level1 row1\" >Log_VALUE</th>\n",
              "                        <td id=\"T_51a19a86_e483_11eb_a2d9_0242ac1c0002row1_col0\" class=\"data row1 col0\" >0.10</td>\n",
              "                        <td id=\"T_51a19a86_e483_11eb_a2d9_0242ac1c0002row1_col1\" class=\"data row1 col1\" >1.00</td>\n",
              "            </tr>\n",
              "            <tr>\n",
              "                        <th id=\"T_51a19a86_e483_11eb_a2d9_0242ac1c0002level0_row2\" class=\"row_heading level0 row2\" rowspan=2>Adventure</th>\n",
              "                        <th id=\"T_51a19a86_e483_11eb_a2d9_0242ac1c0002level1_row2\" class=\"row_heading level1 row2\" >IMDb_Score</th>\n",
              "                        <td id=\"T_51a19a86_e483_11eb_a2d9_0242ac1c0002row2_col0\" class=\"data row2 col0\" >1.00</td>\n",
              "                        <td id=\"T_51a19a86_e483_11eb_a2d9_0242ac1c0002row2_col1\" class=\"data row2 col1\" >0.08</td>\n",
              "            </tr>\n",
              "            <tr>\n",
              "                                <th id=\"T_51a19a86_e483_11eb_a2d9_0242ac1c0002level1_row3\" class=\"row_heading level1 row3\" >Log_VALUE</th>\n",
              "                        <td id=\"T_51a19a86_e483_11eb_a2d9_0242ac1c0002row3_col0\" class=\"data row3 col0\" >0.08</td>\n",
              "                        <td id=\"T_51a19a86_e483_11eb_a2d9_0242ac1c0002row3_col1\" class=\"data row3 col1\" >1.00</td>\n",
              "            </tr>\n",
              "            <tr>\n",
              "                        <th id=\"T_51a19a86_e483_11eb_a2d9_0242ac1c0002level0_row4\" class=\"row_heading level0 row4\" rowspan=2>Animation</th>\n",
              "                        <th id=\"T_51a19a86_e483_11eb_a2d9_0242ac1c0002level1_row4\" class=\"row_heading level1 row4\" >IMDb_Score</th>\n",
              "                        <td id=\"T_51a19a86_e483_11eb_a2d9_0242ac1c0002row4_col0\" class=\"data row4 col0\" >1.00</td>\n",
              "                        <td id=\"T_51a19a86_e483_11eb_a2d9_0242ac1c0002row4_col1\" class=\"data row4 col1\" >-0.09</td>\n",
              "            </tr>\n",
              "            <tr>\n",
              "                                <th id=\"T_51a19a86_e483_11eb_a2d9_0242ac1c0002level1_row5\" class=\"row_heading level1 row5\" >Log_VALUE</th>\n",
              "                        <td id=\"T_51a19a86_e483_11eb_a2d9_0242ac1c0002row5_col0\" class=\"data row5 col0\" >-0.09</td>\n",
              "                        <td id=\"T_51a19a86_e483_11eb_a2d9_0242ac1c0002row5_col1\" class=\"data row5 col1\" >1.00</td>\n",
              "            </tr>\n",
              "            <tr>\n",
              "                        <th id=\"T_51a19a86_e483_11eb_a2d9_0242ac1c0002level0_row6\" class=\"row_heading level0 row6\" rowspan=2>Biopic</th>\n",
              "                        <th id=\"T_51a19a86_e483_11eb_a2d9_0242ac1c0002level1_row6\" class=\"row_heading level1 row6\" >IMDb_Score</th>\n",
              "                        <td id=\"T_51a19a86_e483_11eb_a2d9_0242ac1c0002row6_col0\" class=\"data row6 col0\" >1.00</td>\n",
              "                        <td id=\"T_51a19a86_e483_11eb_a2d9_0242ac1c0002row6_col1\" class=\"data row6 col1\" >0.25</td>\n",
              "            </tr>\n",
              "            <tr>\n",
              "                                <th id=\"T_51a19a86_e483_11eb_a2d9_0242ac1c0002level1_row7\" class=\"row_heading level1 row7\" >Log_VALUE</th>\n",
              "                        <td id=\"T_51a19a86_e483_11eb_a2d9_0242ac1c0002row7_col0\" class=\"data row7 col0\" >0.25</td>\n",
              "                        <td id=\"T_51a19a86_e483_11eb_a2d9_0242ac1c0002row7_col1\" class=\"data row7 col1\" >1.00</td>\n",
              "            </tr>\n",
              "            <tr>\n",
              "                        <th id=\"T_51a19a86_e483_11eb_a2d9_0242ac1c0002level0_row8\" class=\"row_heading level0 row8\" rowspan=2>Comedy</th>\n",
              "                        <th id=\"T_51a19a86_e483_11eb_a2d9_0242ac1c0002level1_row8\" class=\"row_heading level1 row8\" >IMDb_Score</th>\n",
              "                        <td id=\"T_51a19a86_e483_11eb_a2d9_0242ac1c0002row8_col0\" class=\"data row8 col0\" >1.00</td>\n",
              "                        <td id=\"T_51a19a86_e483_11eb_a2d9_0242ac1c0002row8_col1\" class=\"data row8 col1\" >-0.10</td>\n",
              "            </tr>\n",
              "            <tr>\n",
              "                                <th id=\"T_51a19a86_e483_11eb_a2d9_0242ac1c0002level1_row9\" class=\"row_heading level1 row9\" >Log_VALUE</th>\n",
              "                        <td id=\"T_51a19a86_e483_11eb_a2d9_0242ac1c0002row9_col0\" class=\"data row9 col0\" >-0.10</td>\n",
              "                        <td id=\"T_51a19a86_e483_11eb_a2d9_0242ac1c0002row9_col1\" class=\"data row9 col1\" >1.00</td>\n",
              "            </tr>\n",
              "            <tr>\n",
              "                        <th id=\"T_51a19a86_e483_11eb_a2d9_0242ac1c0002level0_row10\" class=\"row_heading level0 row10\" rowspan=2>Concerts</th>\n",
              "                        <th id=\"T_51a19a86_e483_11eb_a2d9_0242ac1c0002level1_row10\" class=\"row_heading level1 row10\" >IMDb_Score</th>\n",
              "                        <td id=\"T_51a19a86_e483_11eb_a2d9_0242ac1c0002row10_col0\" class=\"data row10 col0\" >1.00</td>\n",
              "                        <td id=\"T_51a19a86_e483_11eb_a2d9_0242ac1c0002row10_col1\" class=\"data row10 col1\" >1.00</td>\n",
              "            </tr>\n",
              "            <tr>\n",
              "                                <th id=\"T_51a19a86_e483_11eb_a2d9_0242ac1c0002level1_row11\" class=\"row_heading level1 row11\" >Log_VALUE</th>\n",
              "                        <td id=\"T_51a19a86_e483_11eb_a2d9_0242ac1c0002row11_col0\" class=\"data row11 col0\" >1.00</td>\n",
              "                        <td id=\"T_51a19a86_e483_11eb_a2d9_0242ac1c0002row11_col1\" class=\"data row11 col1\" >1.00</td>\n",
              "            </tr>\n",
              "            <tr>\n",
              "                        <th id=\"T_51a19a86_e483_11eb_a2d9_0242ac1c0002level0_row12\" class=\"row_heading level0 row12\" rowspan=2>Crime</th>\n",
              "                        <th id=\"T_51a19a86_e483_11eb_a2d9_0242ac1c0002level1_row12\" class=\"row_heading level1 row12\" >IMDb_Score</th>\n",
              "                        <td id=\"T_51a19a86_e483_11eb_a2d9_0242ac1c0002row12_col0\" class=\"data row12 col0\" >1.00</td>\n",
              "                        <td id=\"T_51a19a86_e483_11eb_a2d9_0242ac1c0002row12_col1\" class=\"data row12 col1\" >0.01</td>\n",
              "            </tr>\n",
              "            <tr>\n",
              "                                <th id=\"T_51a19a86_e483_11eb_a2d9_0242ac1c0002level1_row13\" class=\"row_heading level1 row13\" >Log_VALUE</th>\n",
              "                        <td id=\"T_51a19a86_e483_11eb_a2d9_0242ac1c0002row13_col0\" class=\"data row13 col0\" >0.01</td>\n",
              "                        <td id=\"T_51a19a86_e483_11eb_a2d9_0242ac1c0002row13_col1\" class=\"data row13 col1\" >1.00</td>\n",
              "            </tr>\n",
              "            <tr>\n",
              "                        <th id=\"T_51a19a86_e483_11eb_a2d9_0242ac1c0002level0_row14\" class=\"row_heading level0 row14\" rowspan=2>Documentary</th>\n",
              "                        <th id=\"T_51a19a86_e483_11eb_a2d9_0242ac1c0002level1_row14\" class=\"row_heading level1 row14\" >IMDb_Score</th>\n",
              "                        <td id=\"T_51a19a86_e483_11eb_a2d9_0242ac1c0002row14_col0\" class=\"data row14 col0\" >1.00</td>\n",
              "                        <td id=\"T_51a19a86_e483_11eb_a2d9_0242ac1c0002row14_col1\" class=\"data row14 col1\" >0.26</td>\n",
              "            </tr>\n",
              "            <tr>\n",
              "                                <th id=\"T_51a19a86_e483_11eb_a2d9_0242ac1c0002level1_row15\" class=\"row_heading level1 row15\" >Log_VALUE</th>\n",
              "                        <td id=\"T_51a19a86_e483_11eb_a2d9_0242ac1c0002row15_col0\" class=\"data row15 col0\" >0.26</td>\n",
              "                        <td id=\"T_51a19a86_e483_11eb_a2d9_0242ac1c0002row15_col1\" class=\"data row15 col1\" >1.00</td>\n",
              "            </tr>\n",
              "            <tr>\n",
              "                        <th id=\"T_51a19a86_e483_11eb_a2d9_0242ac1c0002level0_row16\" class=\"row_heading level0 row16\" rowspan=2>Drama</th>\n",
              "                        <th id=\"T_51a19a86_e483_11eb_a2d9_0242ac1c0002level1_row16\" class=\"row_heading level1 row16\" >IMDb_Score</th>\n",
              "                        <td id=\"T_51a19a86_e483_11eb_a2d9_0242ac1c0002row16_col0\" class=\"data row16 col0\" >1.00</td>\n",
              "                        <td id=\"T_51a19a86_e483_11eb_a2d9_0242ac1c0002row16_col1\" class=\"data row16 col1\" >-0.10</td>\n",
              "            </tr>\n",
              "            <tr>\n",
              "                                <th id=\"T_51a19a86_e483_11eb_a2d9_0242ac1c0002level1_row17\" class=\"row_heading level1 row17\" >Log_VALUE</th>\n",
              "                        <td id=\"T_51a19a86_e483_11eb_a2d9_0242ac1c0002row17_col0\" class=\"data row17 col0\" >-0.10</td>\n",
              "                        <td id=\"T_51a19a86_e483_11eb_a2d9_0242ac1c0002row17_col1\" class=\"data row17 col1\" >1.00</td>\n",
              "            </tr>\n",
              "            <tr>\n",
              "                        <th id=\"T_51a19a86_e483_11eb_a2d9_0242ac1c0002level0_row18\" class=\"row_heading level0 row18\" rowspan=2>Fairy Tale</th>\n",
              "                        <th id=\"T_51a19a86_e483_11eb_a2d9_0242ac1c0002level1_row18\" class=\"row_heading level1 row18\" >IMDb_Score</th>\n",
              "                        <td id=\"T_51a19a86_e483_11eb_a2d9_0242ac1c0002row18_col0\" class=\"data row18 col0\" >1.00</td>\n",
              "                        <td id=\"T_51a19a86_e483_11eb_a2d9_0242ac1c0002row18_col1\" class=\"data row18 col1\" >0.92</td>\n",
              "            </tr>\n",
              "            <tr>\n",
              "                                <th id=\"T_51a19a86_e483_11eb_a2d9_0242ac1c0002level1_row19\" class=\"row_heading level1 row19\" >Log_VALUE</th>\n",
              "                        <td id=\"T_51a19a86_e483_11eb_a2d9_0242ac1c0002row19_col0\" class=\"data row19 col0\" >0.92</td>\n",
              "                        <td id=\"T_51a19a86_e483_11eb_a2d9_0242ac1c0002row19_col1\" class=\"data row19 col1\" >1.00</td>\n",
              "            </tr>\n",
              "            <tr>\n",
              "                        <th id=\"T_51a19a86_e483_11eb_a2d9_0242ac1c0002level0_row20\" class=\"row_heading level0 row20\" rowspan=2>Fantasy</th>\n",
              "                        <th id=\"T_51a19a86_e483_11eb_a2d9_0242ac1c0002level1_row20\" class=\"row_heading level1 row20\" >IMDb_Score</th>\n",
              "                        <td id=\"T_51a19a86_e483_11eb_a2d9_0242ac1c0002row20_col0\" class=\"data row20 col0\" >1.00</td>\n",
              "                        <td id=\"T_51a19a86_e483_11eb_a2d9_0242ac1c0002row20_col1\" class=\"data row20 col1\" >-0.05</td>\n",
              "            </tr>\n",
              "            <tr>\n",
              "                                <th id=\"T_51a19a86_e483_11eb_a2d9_0242ac1c0002level1_row21\" class=\"row_heading level1 row21\" >Log_VALUE</th>\n",
              "                        <td id=\"T_51a19a86_e483_11eb_a2d9_0242ac1c0002row21_col0\" class=\"data row21 col0\" >-0.05</td>\n",
              "                        <td id=\"T_51a19a86_e483_11eb_a2d9_0242ac1c0002row21_col1\" class=\"data row21 col1\" >1.00</td>\n",
              "            </tr>\n",
              "            <tr>\n",
              "                        <th id=\"T_51a19a86_e483_11eb_a2d9_0242ac1c0002level0_row22\" class=\"row_heading level0 row22\" rowspan=2>History</th>\n",
              "                        <th id=\"T_51a19a86_e483_11eb_a2d9_0242ac1c0002level1_row22\" class=\"row_heading level1 row22\" >IMDb_Score</th>\n",
              "                        <td id=\"T_51a19a86_e483_11eb_a2d9_0242ac1c0002row22_col0\" class=\"data row22 col0\" >1.00</td>\n",
              "                        <td id=\"T_51a19a86_e483_11eb_a2d9_0242ac1c0002row22_col1\" class=\"data row22 col1\" >-0.10</td>\n",
              "            </tr>\n",
              "            <tr>\n",
              "                                <th id=\"T_51a19a86_e483_11eb_a2d9_0242ac1c0002level1_row23\" class=\"row_heading level1 row23\" >Log_VALUE</th>\n",
              "                        <td id=\"T_51a19a86_e483_11eb_a2d9_0242ac1c0002row23_col0\" class=\"data row23 col0\" >-0.10</td>\n",
              "                        <td id=\"T_51a19a86_e483_11eb_a2d9_0242ac1c0002row23_col1\" class=\"data row23 col1\" >1.00</td>\n",
              "            </tr>\n",
              "            <tr>\n",
              "                        <th id=\"T_51a19a86_e483_11eb_a2d9_0242ac1c0002level0_row24\" class=\"row_heading level0 row24\" rowspan=2>Horror</th>\n",
              "                        <th id=\"T_51a19a86_e483_11eb_a2d9_0242ac1c0002level1_row24\" class=\"row_heading level1 row24\" >IMDb_Score</th>\n",
              "                        <td id=\"T_51a19a86_e483_11eb_a2d9_0242ac1c0002row24_col0\" class=\"data row24 col0\" >1.00</td>\n",
              "                        <td id=\"T_51a19a86_e483_11eb_a2d9_0242ac1c0002row24_col1\" class=\"data row24 col1\" >0.01</td>\n",
              "            </tr>\n",
              "            <tr>\n",
              "                                <th id=\"T_51a19a86_e483_11eb_a2d9_0242ac1c0002level1_row25\" class=\"row_heading level1 row25\" >Log_VALUE</th>\n",
              "                        <td id=\"T_51a19a86_e483_11eb_a2d9_0242ac1c0002row25_col0\" class=\"data row25 col0\" >0.01</td>\n",
              "                        <td id=\"T_51a19a86_e483_11eb_a2d9_0242ac1c0002row25_col1\" class=\"data row25 col1\" >1.00</td>\n",
              "            </tr>\n",
              "            <tr>\n",
              "                        <th id=\"T_51a19a86_e483_11eb_a2d9_0242ac1c0002level0_row26\" class=\"row_heading level0 row26\" rowspan=2>Music</th>\n",
              "                        <th id=\"T_51a19a86_e483_11eb_a2d9_0242ac1c0002level1_row26\" class=\"row_heading level1 row26\" >IMDb_Score</th>\n",
              "                        <td id=\"T_51a19a86_e483_11eb_a2d9_0242ac1c0002row26_col0\" class=\"data row26 col0\" >1.00</td>\n",
              "                        <td id=\"T_51a19a86_e483_11eb_a2d9_0242ac1c0002row26_col1\" class=\"data row26 col1\" >0.01</td>\n",
              "            </tr>\n",
              "            <tr>\n",
              "                                <th id=\"T_51a19a86_e483_11eb_a2d9_0242ac1c0002level1_row27\" class=\"row_heading level1 row27\" >Log_VALUE</th>\n",
              "                        <td id=\"T_51a19a86_e483_11eb_a2d9_0242ac1c0002row27_col0\" class=\"data row27 col0\" >0.01</td>\n",
              "                        <td id=\"T_51a19a86_e483_11eb_a2d9_0242ac1c0002row27_col1\" class=\"data row27 col1\" >1.00</td>\n",
              "            </tr>\n",
              "            <tr>\n",
              "                        <th id=\"T_51a19a86_e483_11eb_a2d9_0242ac1c0002level0_row28\" class=\"row_heading level0 row28\" rowspan=2>Romance</th>\n",
              "                        <th id=\"T_51a19a86_e483_11eb_a2d9_0242ac1c0002level1_row28\" class=\"row_heading level1 row28\" >IMDb_Score</th>\n",
              "                        <td id=\"T_51a19a86_e483_11eb_a2d9_0242ac1c0002row28_col0\" class=\"data row28 col0\" >1.00</td>\n",
              "                        <td id=\"T_51a19a86_e483_11eb_a2d9_0242ac1c0002row28_col1\" class=\"data row28 col1\" >-0.31</td>\n",
              "            </tr>\n",
              "            <tr>\n",
              "                                <th id=\"T_51a19a86_e483_11eb_a2d9_0242ac1c0002level1_row29\" class=\"row_heading level1 row29\" >Log_VALUE</th>\n",
              "                        <td id=\"T_51a19a86_e483_11eb_a2d9_0242ac1c0002row29_col0\" class=\"data row29 col0\" >-0.31</td>\n",
              "                        <td id=\"T_51a19a86_e483_11eb_a2d9_0242ac1c0002row29_col1\" class=\"data row29 col1\" >1.00</td>\n",
              "            </tr>\n",
              "            <tr>\n",
              "                        <th id=\"T_51a19a86_e483_11eb_a2d9_0242ac1c0002level0_row30\" class=\"row_heading level0 row30\" rowspan=2>Science Fiction</th>\n",
              "                        <th id=\"T_51a19a86_e483_11eb_a2d9_0242ac1c0002level1_row30\" class=\"row_heading level1 row30\" >IMDb_Score</th>\n",
              "                        <td id=\"T_51a19a86_e483_11eb_a2d9_0242ac1c0002row30_col0\" class=\"data row30 col0\" >1.00</td>\n",
              "                        <td id=\"T_51a19a86_e483_11eb_a2d9_0242ac1c0002row30_col1\" class=\"data row30 col1\" >0.01</td>\n",
              "            </tr>\n",
              "            <tr>\n",
              "                                <th id=\"T_51a19a86_e483_11eb_a2d9_0242ac1c0002level1_row31\" class=\"row_heading level1 row31\" >Log_VALUE</th>\n",
              "                        <td id=\"T_51a19a86_e483_11eb_a2d9_0242ac1c0002row31_col0\" class=\"data row31 col0\" >0.01</td>\n",
              "                        <td id=\"T_51a19a86_e483_11eb_a2d9_0242ac1c0002row31_col1\" class=\"data row31 col1\" >1.00</td>\n",
              "            </tr>\n",
              "            <tr>\n",
              "                        <th id=\"T_51a19a86_e483_11eb_a2d9_0242ac1c0002level0_row32\" class=\"row_heading level0 row32\" rowspan=2>Superhero</th>\n",
              "                        <th id=\"T_51a19a86_e483_11eb_a2d9_0242ac1c0002level1_row32\" class=\"row_heading level1 row32\" >IMDb_Score</th>\n",
              "                        <td id=\"T_51a19a86_e483_11eb_a2d9_0242ac1c0002row32_col0\" class=\"data row32 col0\" >1.00</td>\n",
              "                        <td id=\"T_51a19a86_e483_11eb_a2d9_0242ac1c0002row32_col1\" class=\"data row32 col1\" >0.23</td>\n",
              "            </tr>\n",
              "            <tr>\n",
              "                                <th id=\"T_51a19a86_e483_11eb_a2d9_0242ac1c0002level1_row33\" class=\"row_heading level1 row33\" >Log_VALUE</th>\n",
              "                        <td id=\"T_51a19a86_e483_11eb_a2d9_0242ac1c0002row33_col0\" class=\"data row33 col0\" >0.23</td>\n",
              "                        <td id=\"T_51a19a86_e483_11eb_a2d9_0242ac1c0002row33_col1\" class=\"data row33 col1\" >1.00</td>\n",
              "            </tr>\n",
              "            <tr>\n",
              "                        <th id=\"T_51a19a86_e483_11eb_a2d9_0242ac1c0002level0_row34\" class=\"row_heading level0 row34\" rowspan=2>Thriller</th>\n",
              "                        <th id=\"T_51a19a86_e483_11eb_a2d9_0242ac1c0002level1_row34\" class=\"row_heading level1 row34\" >IMDb_Score</th>\n",
              "                        <td id=\"T_51a19a86_e483_11eb_a2d9_0242ac1c0002row34_col0\" class=\"data row34 col0\" >1.00</td>\n",
              "                        <td id=\"T_51a19a86_e483_11eb_a2d9_0242ac1c0002row34_col1\" class=\"data row34 col1\" >-0.13</td>\n",
              "            </tr>\n",
              "            <tr>\n",
              "                                <th id=\"T_51a19a86_e483_11eb_a2d9_0242ac1c0002level1_row35\" class=\"row_heading level1 row35\" >Log_VALUE</th>\n",
              "                        <td id=\"T_51a19a86_e483_11eb_a2d9_0242ac1c0002row35_col0\" class=\"data row35 col0\" >-0.13</td>\n",
              "                        <td id=\"T_51a19a86_e483_11eb_a2d9_0242ac1c0002row35_col1\" class=\"data row35 col1\" >1.00</td>\n",
              "            </tr>\n",
              "            <tr>\n",
              "                        <th id=\"T_51a19a86_e483_11eb_a2d9_0242ac1c0002level0_row36\" class=\"row_heading level0 row36\" rowspan=2>War</th>\n",
              "                        <th id=\"T_51a19a86_e483_11eb_a2d9_0242ac1c0002level1_row36\" class=\"row_heading level1 row36\" >IMDb_Score</th>\n",
              "                        <td id=\"T_51a19a86_e483_11eb_a2d9_0242ac1c0002row36_col0\" class=\"data row36 col0\" >1.00</td>\n",
              "                        <td id=\"T_51a19a86_e483_11eb_a2d9_0242ac1c0002row36_col1\" class=\"data row36 col1\" >0.05</td>\n",
              "            </tr>\n",
              "            <tr>\n",
              "                                <th id=\"T_51a19a86_e483_11eb_a2d9_0242ac1c0002level1_row37\" class=\"row_heading level1 row37\" >Log_VALUE</th>\n",
              "                        <td id=\"T_51a19a86_e483_11eb_a2d9_0242ac1c0002row37_col0\" class=\"data row37 col0\" >0.05</td>\n",
              "                        <td id=\"T_51a19a86_e483_11eb_a2d9_0242ac1c0002row37_col1\" class=\"data row37 col1\" >1.00</td>\n",
              "            </tr>\n",
              "            <tr>\n",
              "                        <th id=\"T_51a19a86_e483_11eb_a2d9_0242ac1c0002level0_row38\" class=\"row_heading level0 row38\" rowspan=2>Western</th>\n",
              "                        <th id=\"T_51a19a86_e483_11eb_a2d9_0242ac1c0002level1_row38\" class=\"row_heading level1 row38\" >IMDb_Score</th>\n",
              "                        <td id=\"T_51a19a86_e483_11eb_a2d9_0242ac1c0002row38_col0\" class=\"data row38 col0\" >1.00</td>\n",
              "                        <td id=\"T_51a19a86_e483_11eb_a2d9_0242ac1c0002row38_col1\" class=\"data row38 col1\" >-0.07</td>\n",
              "            </tr>\n",
              "            <tr>\n",
              "                                <th id=\"T_51a19a86_e483_11eb_a2d9_0242ac1c0002level1_row39\" class=\"row_heading level1 row39\" >Log_VALUE</th>\n",
              "                        <td id=\"T_51a19a86_e483_11eb_a2d9_0242ac1c0002row39_col0\" class=\"data row39 col0\" >-0.07</td>\n",
              "                        <td id=\"T_51a19a86_e483_11eb_a2d9_0242ac1c0002row39_col1\" class=\"data row39 col1\" >1.00</td>\n",
              "            </tr>\n",
              "    </tbody></table>"
            ],
            "text/plain": [
              "<pandas.io.formats.style.Styler at 0x7fc7275708d0>"
            ]
          },
          "metadata": {
            "tags": []
          },
          "execution_count": 49
        }
      ]
    },
    {
      "cell_type": "code",
      "metadata": {
        "id": "udeNDC5oYDQY",
        "colab": {
          "base_uri": "https://localhost:8080/",
          "height": 649
        },
        "outputId": "3da03c34-eb63-481a-a8ee-13b69cb72800"
      },
      "source": [
        "corr = tv_genre[['IMDb_Score','Log_VALUE']].corr()\n",
        "corr.style.background_gradient(cmap='PuBu').set_precision(2)"
      ],
      "execution_count": 50,
      "outputs": [
        {
          "output_type": "execute_result",
          "data": {
            "text/html": [
              "<style  type=\"text/css\" >\n",
              "#T_51a8e9a8_e483_11eb_a2d9_0242ac1c0002row0_col0,#T_51a8e9a8_e483_11eb_a2d9_0242ac1c0002row1_col1,#T_51a8e9a8_e483_11eb_a2d9_0242ac1c0002row2_col0,#T_51a8e9a8_e483_11eb_a2d9_0242ac1c0002row3_col1,#T_51a8e9a8_e483_11eb_a2d9_0242ac1c0002row4_col0,#T_51a8e9a8_e483_11eb_a2d9_0242ac1c0002row5_col1,#T_51a8e9a8_e483_11eb_a2d9_0242ac1c0002row6_col0,#T_51a8e9a8_e483_11eb_a2d9_0242ac1c0002row7_col1,#T_51a8e9a8_e483_11eb_a2d9_0242ac1c0002row8_col0,#T_51a8e9a8_e483_11eb_a2d9_0242ac1c0002row9_col1,#T_51a8e9a8_e483_11eb_a2d9_0242ac1c0002row10_col0,#T_51a8e9a8_e483_11eb_a2d9_0242ac1c0002row11_col1,#T_51a8e9a8_e483_11eb_a2d9_0242ac1c0002row12_col0,#T_51a8e9a8_e483_11eb_a2d9_0242ac1c0002row13_col1,#T_51a8e9a8_e483_11eb_a2d9_0242ac1c0002row14_col0,#T_51a8e9a8_e483_11eb_a2d9_0242ac1c0002row15_col1,#T_51a8e9a8_e483_11eb_a2d9_0242ac1c0002row16_col0,#T_51a8e9a8_e483_11eb_a2d9_0242ac1c0002row17_col1,#T_51a8e9a8_e483_11eb_a2d9_0242ac1c0002row18_col0,#T_51a8e9a8_e483_11eb_a2d9_0242ac1c0002row19_col1,#T_51a8e9a8_e483_11eb_a2d9_0242ac1c0002row20_col0,#T_51a8e9a8_e483_11eb_a2d9_0242ac1c0002row21_col1,#T_51a8e9a8_e483_11eb_a2d9_0242ac1c0002row22_col0,#T_51a8e9a8_e483_11eb_a2d9_0242ac1c0002row23_col1,#T_51a8e9a8_e483_11eb_a2d9_0242ac1c0002row24_col0,#T_51a8e9a8_e483_11eb_a2d9_0242ac1c0002row25_col1{\n",
              "            background-color:  #023858;\n",
              "            color:  #f1f1f1;\n",
              "        }#T_51a8e9a8_e483_11eb_a2d9_0242ac1c0002row0_col1,#T_51a8e9a8_e483_11eb_a2d9_0242ac1c0002row1_col0{\n",
              "            background-color:  #71a8ce;\n",
              "            color:  #000000;\n",
              "        }#T_51a8e9a8_e483_11eb_a2d9_0242ac1c0002row2_col1,#T_51a8e9a8_e483_11eb_a2d9_0242ac1c0002row3_col0{\n",
              "            background-color:  #d9d8ea;\n",
              "            color:  #000000;\n",
              "        }#T_51a8e9a8_e483_11eb_a2d9_0242ac1c0002row4_col1,#T_51a8e9a8_e483_11eb_a2d9_0242ac1c0002row5_col0{\n",
              "            background-color:  #eee8f3;\n",
              "            color:  #000000;\n",
              "        }#T_51a8e9a8_e483_11eb_a2d9_0242ac1c0002row6_col1,#T_51a8e9a8_e483_11eb_a2d9_0242ac1c0002row7_col0,#T_51a8e9a8_e483_11eb_a2d9_0242ac1c0002row16_col1,#T_51a8e9a8_e483_11eb_a2d9_0242ac1c0002row17_col0{\n",
              "            background-color:  #ede7f2;\n",
              "            color:  #000000;\n",
              "        }#T_51a8e9a8_e483_11eb_a2d9_0242ac1c0002row8_col1,#T_51a8e9a8_e483_11eb_a2d9_0242ac1c0002row9_col0{\n",
              "            background-color:  #e6e2ef;\n",
              "            color:  #000000;\n",
              "        }#T_51a8e9a8_e483_11eb_a2d9_0242ac1c0002row10_col1,#T_51a8e9a8_e483_11eb_a2d9_0242ac1c0002row11_col0{\n",
              "            background-color:  #e8e4f0;\n",
              "            color:  #000000;\n",
              "        }#T_51a8e9a8_e483_11eb_a2d9_0242ac1c0002row12_col1,#T_51a8e9a8_e483_11eb_a2d9_0242ac1c0002row13_col0{\n",
              "            background-color:  #fff7fb;\n",
              "            color:  #000000;\n",
              "        }#T_51a8e9a8_e483_11eb_a2d9_0242ac1c0002row14_col1,#T_51a8e9a8_e483_11eb_a2d9_0242ac1c0002row15_col0{\n",
              "            background-color:  #7dacd1;\n",
              "            color:  #000000;\n",
              "        }#T_51a8e9a8_e483_11eb_a2d9_0242ac1c0002row18_col1,#T_51a8e9a8_e483_11eb_a2d9_0242ac1c0002row19_col0{\n",
              "            background-color:  #b1c2de;\n",
              "            color:  #000000;\n",
              "        }#T_51a8e9a8_e483_11eb_a2d9_0242ac1c0002row20_col1,#T_51a8e9a8_e483_11eb_a2d9_0242ac1c0002row21_col0{\n",
              "            background-color:  #fdf5fa;\n",
              "            color:  #000000;\n",
              "        }#T_51a8e9a8_e483_11eb_a2d9_0242ac1c0002row22_col1,#T_51a8e9a8_e483_11eb_a2d9_0242ac1c0002row23_col0{\n",
              "            background-color:  #f6eff7;\n",
              "            color:  #000000;\n",
              "        }#T_51a8e9a8_e483_11eb_a2d9_0242ac1c0002row24_col1,#T_51a8e9a8_e483_11eb_a2d9_0242ac1c0002row25_col0{\n",
              "            background-color:  #a8bedc;\n",
              "            color:  #000000;\n",
              "        }#T_51a8e9a8_e483_11eb_a2d9_0242ac1c0002row26_col0,#T_51a8e9a8_e483_11eb_a2d9_0242ac1c0002row26_col1,#T_51a8e9a8_e483_11eb_a2d9_0242ac1c0002row27_col0,#T_51a8e9a8_e483_11eb_a2d9_0242ac1c0002row27_col1{\n",
              "            background-color:  #000000;\n",
              "            color:  #f1f1f1;\n",
              "        }</style><table id=\"T_51a8e9a8_e483_11eb_a2d9_0242ac1c0002\" ><thead>    <tr>        <th class=\"blank\" ></th>        <th class=\"blank level0\" ></th>        <th class=\"col_heading level0 col0\" >IMDb_Score</th>        <th class=\"col_heading level0 col1\" >Log_VALUE</th>    </tr>    <tr>        <th class=\"index_name level0\" >GENRE</th>        <th class=\"index_name level1\" ></th>        <th class=\"blank\" ></th>        <th class=\"blank\" ></th>    </tr></thead><tbody>\n",
              "                <tr>\n",
              "                        <th id=\"T_51a8e9a8_e483_11eb_a2d9_0242ac1c0002level0_row0\" class=\"row_heading level0 row0\" rowspan=2>Action</th>\n",
              "                        <th id=\"T_51a8e9a8_e483_11eb_a2d9_0242ac1c0002level1_row0\" class=\"row_heading level1 row0\" >IMDb_Score</th>\n",
              "                        <td id=\"T_51a8e9a8_e483_11eb_a2d9_0242ac1c0002row0_col0\" class=\"data row0 col0\" >1.00</td>\n",
              "                        <td id=\"T_51a8e9a8_e483_11eb_a2d9_0242ac1c0002row0_col1\" class=\"data row0 col1\" >0.40</td>\n",
              "            </tr>\n",
              "            <tr>\n",
              "                                <th id=\"T_51a8e9a8_e483_11eb_a2d9_0242ac1c0002level1_row1\" class=\"row_heading level1 row1\" >Log_VALUE</th>\n",
              "                        <td id=\"T_51a8e9a8_e483_11eb_a2d9_0242ac1c0002row1_col0\" class=\"data row1 col0\" >0.40</td>\n",
              "                        <td id=\"T_51a8e9a8_e483_11eb_a2d9_0242ac1c0002row1_col1\" class=\"data row1 col1\" >1.00</td>\n",
              "            </tr>\n",
              "            <tr>\n",
              "                        <th id=\"T_51a8e9a8_e483_11eb_a2d9_0242ac1c0002level0_row2\" class=\"row_heading level0 row2\" rowspan=2>Animation</th>\n",
              "                        <th id=\"T_51a8e9a8_e483_11eb_a2d9_0242ac1c0002level1_row2\" class=\"row_heading level1 row2\" >IMDb_Score</th>\n",
              "                        <td id=\"T_51a8e9a8_e483_11eb_a2d9_0242ac1c0002row2_col0\" class=\"data row2 col0\" >1.00</td>\n",
              "                        <td id=\"T_51a8e9a8_e483_11eb_a2d9_0242ac1c0002row2_col1\" class=\"data row2 col1\" >0.04</td>\n",
              "            </tr>\n",
              "            <tr>\n",
              "                                <th id=\"T_51a8e9a8_e483_11eb_a2d9_0242ac1c0002level1_row3\" class=\"row_heading level1 row3\" >Log_VALUE</th>\n",
              "                        <td id=\"T_51a8e9a8_e483_11eb_a2d9_0242ac1c0002row3_col0\" class=\"data row3 col0\" >0.04</td>\n",
              "                        <td id=\"T_51a8e9a8_e483_11eb_a2d9_0242ac1c0002row3_col1\" class=\"data row3 col1\" >1.00</td>\n",
              "            </tr>\n",
              "            <tr>\n",
              "                        <th id=\"T_51a8e9a8_e483_11eb_a2d9_0242ac1c0002level0_row4\" class=\"row_heading level0 row4\" rowspan=2>Comedy</th>\n",
              "                        <th id=\"T_51a8e9a8_e483_11eb_a2d9_0242ac1c0002level1_row4\" class=\"row_heading level1 row4\" >IMDb_Score</th>\n",
              "                        <td id=\"T_51a8e9a8_e483_11eb_a2d9_0242ac1c0002row4_col0\" class=\"data row4 col0\" >1.00</td>\n",
              "                        <td id=\"T_51a8e9a8_e483_11eb_a2d9_0242ac1c0002row4_col1\" class=\"data row4 col1\" >-0.07</td>\n",
              "            </tr>\n",
              "            <tr>\n",
              "                                <th id=\"T_51a8e9a8_e483_11eb_a2d9_0242ac1c0002level1_row5\" class=\"row_heading level1 row5\" >Log_VALUE</th>\n",
              "                        <td id=\"T_51a8e9a8_e483_11eb_a2d9_0242ac1c0002row5_col0\" class=\"data row5 col0\" >-0.07</td>\n",
              "                        <td id=\"T_51a8e9a8_e483_11eb_a2d9_0242ac1c0002row5_col1\" class=\"data row5 col1\" >1.00</td>\n",
              "            </tr>\n",
              "            <tr>\n",
              "                        <th id=\"T_51a8e9a8_e483_11eb_a2d9_0242ac1c0002level0_row6\" class=\"row_heading level0 row6\" rowspan=2>Crime</th>\n",
              "                        <th id=\"T_51a8e9a8_e483_11eb_a2d9_0242ac1c0002level1_row6\" class=\"row_heading level1 row6\" >IMDb_Score</th>\n",
              "                        <td id=\"T_51a8e9a8_e483_11eb_a2d9_0242ac1c0002row6_col0\" class=\"data row6 col0\" >1.00</td>\n",
              "                        <td id=\"T_51a8e9a8_e483_11eb_a2d9_0242ac1c0002row6_col1\" class=\"data row6 col1\" >-0.06</td>\n",
              "            </tr>\n",
              "            <tr>\n",
              "                                <th id=\"T_51a8e9a8_e483_11eb_a2d9_0242ac1c0002level1_row7\" class=\"row_heading level1 row7\" >Log_VALUE</th>\n",
              "                        <td id=\"T_51a8e9a8_e483_11eb_a2d9_0242ac1c0002row7_col0\" class=\"data row7 col0\" >-0.06</td>\n",
              "                        <td id=\"T_51a8e9a8_e483_11eb_a2d9_0242ac1c0002row7_col1\" class=\"data row7 col1\" >1.00</td>\n",
              "            </tr>\n",
              "            <tr>\n",
              "                        <th id=\"T_51a8e9a8_e483_11eb_a2d9_0242ac1c0002level0_row8\" class=\"row_heading level0 row8\" rowspan=2>Documentary</th>\n",
              "                        <th id=\"T_51a8e9a8_e483_11eb_a2d9_0242ac1c0002level1_row8\" class=\"row_heading level1 row8\" >IMDb_Score</th>\n",
              "                        <td id=\"T_51a8e9a8_e483_11eb_a2d9_0242ac1c0002row8_col0\" class=\"data row8 col0\" >1.00</td>\n",
              "                        <td id=\"T_51a8e9a8_e483_11eb_a2d9_0242ac1c0002row8_col1\" class=\"data row8 col1\" >-0.02</td>\n",
              "            </tr>\n",
              "            <tr>\n",
              "                                <th id=\"T_51a8e9a8_e483_11eb_a2d9_0242ac1c0002level1_row9\" class=\"row_heading level1 row9\" >Log_VALUE</th>\n",
              "                        <td id=\"T_51a8e9a8_e483_11eb_a2d9_0242ac1c0002row9_col0\" class=\"data row9 col0\" >-0.02</td>\n",
              "                        <td id=\"T_51a8e9a8_e483_11eb_a2d9_0242ac1c0002row9_col1\" class=\"data row9 col1\" >1.00</td>\n",
              "            </tr>\n",
              "            <tr>\n",
              "                        <th id=\"T_51a8e9a8_e483_11eb_a2d9_0242ac1c0002level0_row10\" class=\"row_heading level0 row10\" rowspan=2>Drama</th>\n",
              "                        <th id=\"T_51a8e9a8_e483_11eb_a2d9_0242ac1c0002level1_row10\" class=\"row_heading level1 row10\" >IMDb_Score</th>\n",
              "                        <td id=\"T_51a8e9a8_e483_11eb_a2d9_0242ac1c0002row10_col0\" class=\"data row10 col0\" >1.00</td>\n",
              "                        <td id=\"T_51a8e9a8_e483_11eb_a2d9_0242ac1c0002row10_col1\" class=\"data row10 col1\" >-0.04</td>\n",
              "            </tr>\n",
              "            <tr>\n",
              "                                <th id=\"T_51a8e9a8_e483_11eb_a2d9_0242ac1c0002level1_row11\" class=\"row_heading level1 row11\" >Log_VALUE</th>\n",
              "                        <td id=\"T_51a8e9a8_e483_11eb_a2d9_0242ac1c0002row11_col0\" class=\"data row11 col0\" >-0.04</td>\n",
              "                        <td id=\"T_51a8e9a8_e483_11eb_a2d9_0242ac1c0002row11_col1\" class=\"data row11 col1\" >1.00</td>\n",
              "            </tr>\n",
              "            <tr>\n",
              "                        <th id=\"T_51a8e9a8_e483_11eb_a2d9_0242ac1c0002level0_row12\" class=\"row_heading level0 row12\" rowspan=2>Fantasy</th>\n",
              "                        <th id=\"T_51a8e9a8_e483_11eb_a2d9_0242ac1c0002level1_row12\" class=\"row_heading level1 row12\" >IMDb_Score</th>\n",
              "                        <td id=\"T_51a8e9a8_e483_11eb_a2d9_0242ac1c0002row12_col0\" class=\"data row12 col0\" >1.00</td>\n",
              "                        <td id=\"T_51a8e9a8_e483_11eb_a2d9_0242ac1c0002row12_col1\" class=\"data row12 col1\" >-0.21</td>\n",
              "            </tr>\n",
              "            <tr>\n",
              "                                <th id=\"T_51a8e9a8_e483_11eb_a2d9_0242ac1c0002level1_row13\" class=\"row_heading level1 row13\" >Log_VALUE</th>\n",
              "                        <td id=\"T_51a8e9a8_e483_11eb_a2d9_0242ac1c0002row13_col0\" class=\"data row13 col0\" >-0.21</td>\n",
              "                        <td id=\"T_51a8e9a8_e483_11eb_a2d9_0242ac1c0002row13_col1\" class=\"data row13 col1\" >1.00</td>\n",
              "            </tr>\n",
              "            <tr>\n",
              "                        <th id=\"T_51a8e9a8_e483_11eb_a2d9_0242ac1c0002level0_row14\" class=\"row_heading level0 row14\" rowspan=2>History</th>\n",
              "                        <th id=\"T_51a8e9a8_e483_11eb_a2d9_0242ac1c0002level1_row14\" class=\"row_heading level1 row14\" >IMDb_Score</th>\n",
              "                        <td id=\"T_51a8e9a8_e483_11eb_a2d9_0242ac1c0002row14_col0\" class=\"data row14 col0\" >1.00</td>\n",
              "                        <td id=\"T_51a8e9a8_e483_11eb_a2d9_0242ac1c0002row14_col1\" class=\"data row14 col1\" >0.37</td>\n",
              "            </tr>\n",
              "            <tr>\n",
              "                                <th id=\"T_51a8e9a8_e483_11eb_a2d9_0242ac1c0002level1_row15\" class=\"row_heading level1 row15\" >Log_VALUE</th>\n",
              "                        <td id=\"T_51a8e9a8_e483_11eb_a2d9_0242ac1c0002row15_col0\" class=\"data row15 col0\" >0.37</td>\n",
              "                        <td id=\"T_51a8e9a8_e483_11eb_a2d9_0242ac1c0002row15_col1\" class=\"data row15 col1\" >1.00</td>\n",
              "            </tr>\n",
              "            <tr>\n",
              "                        <th id=\"T_51a8e9a8_e483_11eb_a2d9_0242ac1c0002level0_row16\" class=\"row_heading level0 row16\" rowspan=2>Horror</th>\n",
              "                        <th id=\"T_51a8e9a8_e483_11eb_a2d9_0242ac1c0002level1_row16\" class=\"row_heading level1 row16\" >IMDb_Score</th>\n",
              "                        <td id=\"T_51a8e9a8_e483_11eb_a2d9_0242ac1c0002row16_col0\" class=\"data row16 col0\" >1.00</td>\n",
              "                        <td id=\"T_51a8e9a8_e483_11eb_a2d9_0242ac1c0002row16_col1\" class=\"data row16 col1\" >-0.06</td>\n",
              "            </tr>\n",
              "            <tr>\n",
              "                                <th id=\"T_51a8e9a8_e483_11eb_a2d9_0242ac1c0002level1_row17\" class=\"row_heading level1 row17\" >Log_VALUE</th>\n",
              "                        <td id=\"T_51a8e9a8_e483_11eb_a2d9_0242ac1c0002row17_col0\" class=\"data row17 col0\" >-0.06</td>\n",
              "                        <td id=\"T_51a8e9a8_e483_11eb_a2d9_0242ac1c0002row17_col1\" class=\"data row17 col1\" >1.00</td>\n",
              "            </tr>\n",
              "            <tr>\n",
              "                        <th id=\"T_51a8e9a8_e483_11eb_a2d9_0242ac1c0002level0_row18\" class=\"row_heading level0 row18\" rowspan=2>Mystery</th>\n",
              "                        <th id=\"T_51a8e9a8_e483_11eb_a2d9_0242ac1c0002level1_row18\" class=\"row_heading level1 row18\" >IMDb_Score</th>\n",
              "                        <td id=\"T_51a8e9a8_e483_11eb_a2d9_0242ac1c0002row18_col0\" class=\"data row18 col0\" >1.00</td>\n",
              "                        <td id=\"T_51a8e9a8_e483_11eb_a2d9_0242ac1c0002row18_col1\" class=\"data row18 col1\" >0.20</td>\n",
              "            </tr>\n",
              "            <tr>\n",
              "                                <th id=\"T_51a8e9a8_e483_11eb_a2d9_0242ac1c0002level1_row19\" class=\"row_heading level1 row19\" >Log_VALUE</th>\n",
              "                        <td id=\"T_51a8e9a8_e483_11eb_a2d9_0242ac1c0002row19_col0\" class=\"data row19 col0\" >0.20</td>\n",
              "                        <td id=\"T_51a8e9a8_e483_11eb_a2d9_0242ac1c0002row19_col1\" class=\"data row19 col1\" >1.00</td>\n",
              "            </tr>\n",
              "            <tr>\n",
              "                        <th id=\"T_51a8e9a8_e483_11eb_a2d9_0242ac1c0002level0_row20\" class=\"row_heading level0 row20\" rowspan=2>Reality-Show</th>\n",
              "                        <th id=\"T_51a8e9a8_e483_11eb_a2d9_0242ac1c0002level1_row20\" class=\"row_heading level1 row20\" >IMDb_Score</th>\n",
              "                        <td id=\"T_51a8e9a8_e483_11eb_a2d9_0242ac1c0002row20_col0\" class=\"data row20 col0\" >1.00</td>\n",
              "                        <td id=\"T_51a8e9a8_e483_11eb_a2d9_0242ac1c0002row20_col1\" class=\"data row20 col1\" >-0.20</td>\n",
              "            </tr>\n",
              "            <tr>\n",
              "                                <th id=\"T_51a8e9a8_e483_11eb_a2d9_0242ac1c0002level1_row21\" class=\"row_heading level1 row21\" >Log_VALUE</th>\n",
              "                        <td id=\"T_51a8e9a8_e483_11eb_a2d9_0242ac1c0002row21_col0\" class=\"data row21 col0\" >-0.20</td>\n",
              "                        <td id=\"T_51a8e9a8_e483_11eb_a2d9_0242ac1c0002row21_col1\" class=\"data row21 col1\" >1.00</td>\n",
              "            </tr>\n",
              "            <tr>\n",
              "                        <th id=\"T_51a8e9a8_e483_11eb_a2d9_0242ac1c0002level0_row22\" class=\"row_heading level0 row22\" rowspan=2>Science Fiction</th>\n",
              "                        <th id=\"T_51a8e9a8_e483_11eb_a2d9_0242ac1c0002level1_row22\" class=\"row_heading level1 row22\" >IMDb_Score</th>\n",
              "                        <td id=\"T_51a8e9a8_e483_11eb_a2d9_0242ac1c0002row22_col0\" class=\"data row22 col0\" >1.00</td>\n",
              "                        <td id=\"T_51a8e9a8_e483_11eb_a2d9_0242ac1c0002row22_col1\" class=\"data row22 col1\" >-0.14</td>\n",
              "            </tr>\n",
              "            <tr>\n",
              "                                <th id=\"T_51a8e9a8_e483_11eb_a2d9_0242ac1c0002level1_row23\" class=\"row_heading level1 row23\" >Log_VALUE</th>\n",
              "                        <td id=\"T_51a8e9a8_e483_11eb_a2d9_0242ac1c0002row23_col0\" class=\"data row23 col0\" >-0.14</td>\n",
              "                        <td id=\"T_51a8e9a8_e483_11eb_a2d9_0242ac1c0002row23_col1\" class=\"data row23 col1\" >1.00</td>\n",
              "            </tr>\n",
              "            <tr>\n",
              "                        <th id=\"T_51a8e9a8_e483_11eb_a2d9_0242ac1c0002level0_row24\" class=\"row_heading level0 row24\" rowspan=2>Superhero</th>\n",
              "                        <th id=\"T_51a8e9a8_e483_11eb_a2d9_0242ac1c0002level1_row24\" class=\"row_heading level1 row24\" >IMDb_Score</th>\n",
              "                        <td id=\"T_51a8e9a8_e483_11eb_a2d9_0242ac1c0002row24_col0\" class=\"data row24 col0\" >1.00</td>\n",
              "                        <td id=\"T_51a8e9a8_e483_11eb_a2d9_0242ac1c0002row24_col1\" class=\"data row24 col1\" >0.24</td>\n",
              "            </tr>\n",
              "            <tr>\n",
              "                                <th id=\"T_51a8e9a8_e483_11eb_a2d9_0242ac1c0002level1_row25\" class=\"row_heading level1 row25\" >Log_VALUE</th>\n",
              "                        <td id=\"T_51a8e9a8_e483_11eb_a2d9_0242ac1c0002row25_col0\" class=\"data row25 col0\" >0.24</td>\n",
              "                        <td id=\"T_51a8e9a8_e483_11eb_a2d9_0242ac1c0002row25_col1\" class=\"data row25 col1\" >1.00</td>\n",
              "            </tr>\n",
              "            <tr>\n",
              "                        <th id=\"T_51a8e9a8_e483_11eb_a2d9_0242ac1c0002level0_row26\" class=\"row_heading level0 row26\" rowspan=2>Talk Show</th>\n",
              "                        <th id=\"T_51a8e9a8_e483_11eb_a2d9_0242ac1c0002level1_row26\" class=\"row_heading level1 row26\" >IMDb_Score</th>\n",
              "                        <td id=\"T_51a8e9a8_e483_11eb_a2d9_0242ac1c0002row26_col0\" class=\"data row26 col0\" >nan</td>\n",
              "                        <td id=\"T_51a8e9a8_e483_11eb_a2d9_0242ac1c0002row26_col1\" class=\"data row26 col1\" >nan</td>\n",
              "            </tr>\n",
              "            <tr>\n",
              "                                <th id=\"T_51a8e9a8_e483_11eb_a2d9_0242ac1c0002level1_row27\" class=\"row_heading level1 row27\" >Log_VALUE</th>\n",
              "                        <td id=\"T_51a8e9a8_e483_11eb_a2d9_0242ac1c0002row27_col0\" class=\"data row27 col0\" >nan</td>\n",
              "                        <td id=\"T_51a8e9a8_e483_11eb_a2d9_0242ac1c0002row27_col1\" class=\"data row27 col1\" >nan</td>\n",
              "            </tr>\n",
              "    </tbody></table>"
            ],
            "text/plain": [
              "<pandas.io.formats.style.Styler at 0x7fc727e30cd0>"
            ]
          },
          "metadata": {
            "tags": []
          },
          "execution_count": 50
        }
      ]
    },
    {
      "cell_type": "code",
      "metadata": {
        "id": "w7gaYRvPts9_",
        "colab": {
          "base_uri": "https://localhost:8080/",
          "height": 948
        },
        "outputId": "e0292054-7cb1-41ca-f4a0-b6385b066bac"
      },
      "source": [
        "tv_genre.corr()"
      ],
      "execution_count": 51,
      "outputs": [
        {
          "output_type": "execute_result",
          "data": {
            "text/html": [
              "<div>\n",
              "<style scoped>\n",
              "    .dataframe tbody tr th:only-of-type {\n",
              "        vertical-align: middle;\n",
              "    }\n",
              "\n",
              "    .dataframe tbody tr th {\n",
              "        vertical-align: top;\n",
              "    }\n",
              "\n",
              "    .dataframe thead th {\n",
              "        text-align: right;\n",
              "    }\n",
              "</style>\n",
              "<table border=\"1\" class=\"dataframe\">\n",
              "  <thead>\n",
              "    <tr style=\"text-align: right;\">\n",
              "      <th></th>\n",
              "      <th></th>\n",
              "      <th>IMDb_Score</th>\n",
              "      <th>Log_VALUE</th>\n",
              "    </tr>\n",
              "    <tr>\n",
              "      <th>GENRE</th>\n",
              "      <th></th>\n",
              "      <th></th>\n",
              "      <th></th>\n",
              "    </tr>\n",
              "  </thead>\n",
              "  <tbody>\n",
              "    <tr>\n",
              "      <th rowspan=\"2\" valign=\"top\">Action</th>\n",
              "      <th>IMDb_Score</th>\n",
              "      <td>1.000000</td>\n",
              "      <td>0.403371</td>\n",
              "    </tr>\n",
              "    <tr>\n",
              "      <th>Log_VALUE</th>\n",
              "      <td>0.403371</td>\n",
              "      <td>1.000000</td>\n",
              "    </tr>\n",
              "    <tr>\n",
              "      <th rowspan=\"2\" valign=\"top\">Animation</th>\n",
              "      <th>IMDb_Score</th>\n",
              "      <td>1.000000</td>\n",
              "      <td>0.039059</td>\n",
              "    </tr>\n",
              "    <tr>\n",
              "      <th>Log_VALUE</th>\n",
              "      <td>0.039059</td>\n",
              "      <td>1.000000</td>\n",
              "    </tr>\n",
              "    <tr>\n",
              "      <th rowspan=\"2\" valign=\"top\">Comedy</th>\n",
              "      <th>IMDb_Score</th>\n",
              "      <td>1.000000</td>\n",
              "      <td>-0.071239</td>\n",
              "    </tr>\n",
              "    <tr>\n",
              "      <th>Log_VALUE</th>\n",
              "      <td>-0.071239</td>\n",
              "      <td>1.000000</td>\n",
              "    </tr>\n",
              "    <tr>\n",
              "      <th rowspan=\"2\" valign=\"top\">Crime</th>\n",
              "      <th>IMDb_Score</th>\n",
              "      <td>1.000000</td>\n",
              "      <td>-0.063107</td>\n",
              "    </tr>\n",
              "    <tr>\n",
              "      <th>Log_VALUE</th>\n",
              "      <td>-0.063107</td>\n",
              "      <td>1.000000</td>\n",
              "    </tr>\n",
              "    <tr>\n",
              "      <th rowspan=\"2\" valign=\"top\">Documentary</th>\n",
              "      <th>IMDb_Score</th>\n",
              "      <td>1.000000</td>\n",
              "      <td>-0.022634</td>\n",
              "    </tr>\n",
              "    <tr>\n",
              "      <th>Log_VALUE</th>\n",
              "      <td>-0.022634</td>\n",
              "      <td>1.000000</td>\n",
              "    </tr>\n",
              "    <tr>\n",
              "      <th rowspan=\"2\" valign=\"top\">Drama</th>\n",
              "      <th>IMDb_Score</th>\n",
              "      <td>1.000000</td>\n",
              "      <td>-0.038727</td>\n",
              "    </tr>\n",
              "    <tr>\n",
              "      <th>Log_VALUE</th>\n",
              "      <td>-0.038727</td>\n",
              "      <td>1.000000</td>\n",
              "    </tr>\n",
              "    <tr>\n",
              "      <th rowspan=\"2\" valign=\"top\">Fantasy</th>\n",
              "      <th>IMDb_Score</th>\n",
              "      <td>1.000000</td>\n",
              "      <td>-0.211954</td>\n",
              "    </tr>\n",
              "    <tr>\n",
              "      <th>Log_VALUE</th>\n",
              "      <td>-0.211954</td>\n",
              "      <td>1.000000</td>\n",
              "    </tr>\n",
              "    <tr>\n",
              "      <th rowspan=\"2\" valign=\"top\">History</th>\n",
              "      <th>IMDb_Score</th>\n",
              "      <td>1.000000</td>\n",
              "      <td>0.369272</td>\n",
              "    </tr>\n",
              "    <tr>\n",
              "      <th>Log_VALUE</th>\n",
              "      <td>0.369272</td>\n",
              "      <td>1.000000</td>\n",
              "    </tr>\n",
              "    <tr>\n",
              "      <th rowspan=\"2\" valign=\"top\">Horror</th>\n",
              "      <th>IMDb_Score</th>\n",
              "      <td>1.000000</td>\n",
              "      <td>-0.062779</td>\n",
              "    </tr>\n",
              "    <tr>\n",
              "      <th>Log_VALUE</th>\n",
              "      <td>-0.062779</td>\n",
              "      <td>1.000000</td>\n",
              "    </tr>\n",
              "    <tr>\n",
              "      <th rowspan=\"2\" valign=\"top\">Mystery</th>\n",
              "      <th>IMDb_Score</th>\n",
              "      <td>1.000000</td>\n",
              "      <td>0.202683</td>\n",
              "    </tr>\n",
              "    <tr>\n",
              "      <th>Log_VALUE</th>\n",
              "      <td>0.202683</td>\n",
              "      <td>1.000000</td>\n",
              "    </tr>\n",
              "    <tr>\n",
              "      <th rowspan=\"2\" valign=\"top\">Reality-Show</th>\n",
              "      <th>IMDb_Score</th>\n",
              "      <td>1.000000</td>\n",
              "      <td>-0.195792</td>\n",
              "    </tr>\n",
              "    <tr>\n",
              "      <th>Log_VALUE</th>\n",
              "      <td>-0.195792</td>\n",
              "      <td>1.000000</td>\n",
              "    </tr>\n",
              "    <tr>\n",
              "      <th rowspan=\"2\" valign=\"top\">Science Fiction</th>\n",
              "      <th>IMDb_Score</th>\n",
              "      <td>1.000000</td>\n",
              "      <td>-0.137093</td>\n",
              "    </tr>\n",
              "    <tr>\n",
              "      <th>Log_VALUE</th>\n",
              "      <td>-0.137093</td>\n",
              "      <td>1.000000</td>\n",
              "    </tr>\n",
              "    <tr>\n",
              "      <th rowspan=\"2\" valign=\"top\">Superhero</th>\n",
              "      <th>IMDb_Score</th>\n",
              "      <td>1.000000</td>\n",
              "      <td>0.236685</td>\n",
              "    </tr>\n",
              "    <tr>\n",
              "      <th>Log_VALUE</th>\n",
              "      <td>0.236685</td>\n",
              "      <td>1.000000</td>\n",
              "    </tr>\n",
              "    <tr>\n",
              "      <th rowspan=\"2\" valign=\"top\">Talk Show</th>\n",
              "      <th>IMDb_Score</th>\n",
              "      <td>NaN</td>\n",
              "      <td>NaN</td>\n",
              "    </tr>\n",
              "    <tr>\n",
              "      <th>Log_VALUE</th>\n",
              "      <td>NaN</td>\n",
              "      <td>NaN</td>\n",
              "    </tr>\n",
              "  </tbody>\n",
              "</table>\n",
              "</div>"
            ],
            "text/plain": [
              "                            IMDb_Score  Log_VALUE\n",
              "GENRE                                            \n",
              "Action          IMDb_Score    1.000000   0.403371\n",
              "                Log_VALUE     0.403371   1.000000\n",
              "Animation       IMDb_Score    1.000000   0.039059\n",
              "                Log_VALUE     0.039059   1.000000\n",
              "Comedy          IMDb_Score    1.000000  -0.071239\n",
              "                Log_VALUE    -0.071239   1.000000\n",
              "Crime           IMDb_Score    1.000000  -0.063107\n",
              "                Log_VALUE    -0.063107   1.000000\n",
              "Documentary     IMDb_Score    1.000000  -0.022634\n",
              "                Log_VALUE    -0.022634   1.000000\n",
              "Drama           IMDb_Score    1.000000  -0.038727\n",
              "                Log_VALUE    -0.038727   1.000000\n",
              "Fantasy         IMDb_Score    1.000000  -0.211954\n",
              "                Log_VALUE    -0.211954   1.000000\n",
              "History         IMDb_Score    1.000000   0.369272\n",
              "                Log_VALUE     0.369272   1.000000\n",
              "Horror          IMDb_Score    1.000000  -0.062779\n",
              "                Log_VALUE    -0.062779   1.000000\n",
              "Mystery         IMDb_Score    1.000000   0.202683\n",
              "                Log_VALUE     0.202683   1.000000\n",
              "Reality-Show    IMDb_Score    1.000000  -0.195792\n",
              "                Log_VALUE    -0.195792   1.000000\n",
              "Science Fiction IMDb_Score    1.000000  -0.137093\n",
              "                Log_VALUE    -0.137093   1.000000\n",
              "Superhero       IMDb_Score    1.000000   0.236685\n",
              "                Log_VALUE     0.236685   1.000000\n",
              "Talk Show       IMDb_Score         NaN        NaN\n",
              "                Log_VALUE          NaN        NaN"
            ]
          },
          "metadata": {
            "tags": []
          },
          "execution_count": 51
        }
      ]
    },
    {
      "cell_type": "markdown",
      "metadata": {
        "id": "CPy3G5gocYRe"
      },
      "source": [
        "#### 추가로 순위권에 있는 영화를 살펴보는 방향성도 있어 데이터를 추출함"
      ]
    },
    {
      "cell_type": "code",
      "metadata": {
        "id": "gL8-AiMCRToc",
        "colab": {
          "base_uri": "https://localhost:8080/",
          "height": 419
        },
        "outputId": "21683326-b298-4c53-9fc0-47d226814a7a"
      },
      "source": [
        "top_Score = movie_base.sort_values(by='IMDb_Score', ascending=False) #데이터 확인\n",
        "top_Score.iloc[:101]"
      ],
      "execution_count": 52,
      "outputs": [
        {
          "output_type": "execute_result",
          "data": {
            "text/html": [
              "<div>\n",
              "<style scoped>\n",
              "    .dataframe tbody tr th:only-of-type {\n",
              "        vertical-align: middle;\n",
              "    }\n",
              "\n",
              "    .dataframe tbody tr th {\n",
              "        vertical-align: top;\n",
              "    }\n",
              "\n",
              "    .dataframe thead th {\n",
              "        text-align: right;\n",
              "    }\n",
              "</style>\n",
              "<table border=\"1\" class=\"dataframe\">\n",
              "  <thead>\n",
              "    <tr style=\"text-align: right;\">\n",
              "      <th></th>\n",
              "      <th>Title</th>\n",
              "      <th>Type</th>\n",
              "      <th>GENRE</th>\n",
              "      <th>IMDb_Score</th>\n",
              "      <th>Log_VALUE</th>\n",
              "    </tr>\n",
              "  </thead>\n",
              "  <tbody>\n",
              "    <tr>\n",
              "      <th>1305</th>\n",
              "      <td>thegodfather</td>\n",
              "      <td>Movie</td>\n",
              "      <td>Drama</td>\n",
              "      <td>9.2</td>\n",
              "      <td>4.635</td>\n",
              "    </tr>\n",
              "    <tr>\n",
              "      <th>470</th>\n",
              "      <td>thedarkknight</td>\n",
              "      <td>Movie</td>\n",
              "      <td>Superhero</td>\n",
              "      <td>9.0</td>\n",
              "      <td>6.488</td>\n",
              "    </tr>\n",
              "    <tr>\n",
              "      <th>1258</th>\n",
              "      <td>nolongerkids</td>\n",
              "      <td>Movie</td>\n",
              "      <td>Comedy</td>\n",
              "      <td>9.0</td>\n",
              "      <td>4.691</td>\n",
              "    </tr>\n",
              "    <tr>\n",
              "      <th>1710</th>\n",
              "      <td>thegodfatherpartii</td>\n",
              "      <td>Movie</td>\n",
              "      <td>Drama</td>\n",
              "      <td>9.0</td>\n",
              "      <td>4.025</td>\n",
              "    </tr>\n",
              "    <tr>\n",
              "      <th>102</th>\n",
              "      <td>davidattenboroughalifeonourplanet</td>\n",
              "      <td>Movie</td>\n",
              "      <td>Documentary</td>\n",
              "      <td>9.0</td>\n",
              "      <td>8.324</td>\n",
              "    </tr>\n",
              "    <tr>\n",
              "      <th>...</th>\n",
              "      <td>...</td>\n",
              "      <td>...</td>\n",
              "      <td>...</td>\n",
              "      <td>...</td>\n",
              "      <td>...</td>\n",
              "    </tr>\n",
              "    <tr>\n",
              "      <th>2057</th>\n",
              "      <td>lalaland</td>\n",
              "      <td>Movie</td>\n",
              "      <td>Music</td>\n",
              "      <td>8.0</td>\n",
              "      <td>3.466</td>\n",
              "    </tr>\n",
              "    <tr>\n",
              "      <th>1569</th>\n",
              "      <td>themartian</td>\n",
              "      <td>Movie</td>\n",
              "      <td>Science Fiction</td>\n",
              "      <td>8.0</td>\n",
              "      <td>4.248</td>\n",
              "    </tr>\n",
              "    <tr>\n",
              "      <th>1249</th>\n",
              "      <td>thehelp</td>\n",
              "      <td>Movie</td>\n",
              "      <td>Drama</td>\n",
              "      <td>8.0</td>\n",
              "      <td>4.710</td>\n",
              "    </tr>\n",
              "    <tr>\n",
              "      <th>1993</th>\n",
              "      <td>lion</td>\n",
              "      <td>Movie</td>\n",
              "      <td>Drama</td>\n",
              "      <td>8.0</td>\n",
              "      <td>3.584</td>\n",
              "    </tr>\n",
              "    <tr>\n",
              "      <th>2002</th>\n",
              "      <td>theshowmustgoonthequeenadamlambertstory</td>\n",
              "      <td>Movie</td>\n",
              "      <td>Documentary</td>\n",
              "      <td>7.9</td>\n",
              "      <td>3.555</td>\n",
              "    </tr>\n",
              "  </tbody>\n",
              "</table>\n",
              "<p>101 rows × 5 columns</p>\n",
              "</div>"
            ],
            "text/plain": [
              "                                        Title   Type  ... IMDb_Score  Log_VALUE\n",
              "1305                             thegodfather  Movie  ...        9.2      4.635\n",
              "470                             thedarkknight  Movie  ...        9.0      6.488\n",
              "1258                             nolongerkids  Movie  ...        9.0      4.691\n",
              "1710                       thegodfatherpartii  Movie  ...        9.0      4.025\n",
              "102         davidattenboroughalifeonourplanet  Movie  ...        9.0      8.324\n",
              "...                                       ...    ...  ...        ...        ...\n",
              "2057                                 lalaland  Movie  ...        8.0      3.466\n",
              "1569                               themartian  Movie  ...        8.0      4.248\n",
              "1249                                  thehelp  Movie  ...        8.0      4.710\n",
              "1993                                     lion  Movie  ...        8.0      3.584\n",
              "2002  theshowmustgoonthequeenadamlambertstory  Movie  ...        7.9      3.555\n",
              "\n",
              "[101 rows x 5 columns]"
            ]
          },
          "metadata": {
            "tags": []
          },
          "execution_count": 52
        }
      ]
    },
    {
      "cell_type": "code",
      "metadata": {
        "id": "-VqbDG9CXqjO",
        "colab": {
          "base_uri": "https://localhost:8080/",
          "height": 419
        },
        "outputId": "bb286117-473b-4a9b-f693-5cce7b62b1b3"
      },
      "source": [
        "top_points = movie_base.sort_values(by='Log_VALUE', ascending=False) #데이터 확인\n",
        "top_points.iloc[:101]"
      ],
      "execution_count": 53,
      "outputs": [
        {
          "output_type": "execute_result",
          "data": {
            "text/html": [
              "<div>\n",
              "<style scoped>\n",
              "    .dataframe tbody tr th:only-of-type {\n",
              "        vertical-align: middle;\n",
              "    }\n",
              "\n",
              "    .dataframe tbody tr th {\n",
              "        vertical-align: top;\n",
              "    }\n",
              "\n",
              "    .dataframe thead th {\n",
              "        text-align: right;\n",
              "    }\n",
              "</style>\n",
              "<table border=\"1\" class=\"dataframe\">\n",
              "  <thead>\n",
              "    <tr style=\"text-align: right;\">\n",
              "      <th></th>\n",
              "      <th>Title</th>\n",
              "      <th>Type</th>\n",
              "      <th>GENRE</th>\n",
              "      <th>IMDb_Score</th>\n",
              "      <th>Log_VALUE</th>\n",
              "    </tr>\n",
              "  </thead>\n",
              "  <tbody>\n",
              "    <tr>\n",
              "      <th>1</th>\n",
              "      <td>365days</td>\n",
              "      <td>Movie</td>\n",
              "      <td>Romance</td>\n",
              "      <td>3.2</td>\n",
              "      <td>10.649</td>\n",
              "    </tr>\n",
              "    <tr>\n",
              "      <th>8</th>\n",
              "      <td>enolaholmes</td>\n",
              "      <td>Movie</td>\n",
              "      <td>Drama</td>\n",
              "      <td>6.6</td>\n",
              "      <td>9.707</td>\n",
              "    </tr>\n",
              "    <tr>\n",
              "      <th>10</th>\n",
              "      <td>thechristmaschroniclesparttwo</td>\n",
              "      <td>Movie</td>\n",
              "      <td>Comedy</td>\n",
              "      <td>6.0</td>\n",
              "      <td>9.675</td>\n",
              "    </tr>\n",
              "    <tr>\n",
              "      <th>12</th>\n",
              "      <td>holidate</td>\n",
              "      <td>Movie</td>\n",
              "      <td>Comedy</td>\n",
              "      <td>6.9</td>\n",
              "      <td>9.605</td>\n",
              "    </tr>\n",
              "    <tr>\n",
              "      <th>15</th>\n",
              "      <td>theoldguard</td>\n",
              "      <td>Movie</td>\n",
              "      <td>Superhero</td>\n",
              "      <td>6.6</td>\n",
              "      <td>9.541</td>\n",
              "    </tr>\n",
              "    <tr>\n",
              "      <th>...</th>\n",
              "      <td>...</td>\n",
              "      <td>...</td>\n",
              "      <td>...</td>\n",
              "      <td>...</td>\n",
              "      <td>...</td>\n",
              "    </tr>\n",
              "    <tr>\n",
              "      <th>200</th>\n",
              "      <td>mortalengines</td>\n",
              "      <td>Movie</td>\n",
              "      <td>Science Fiction</td>\n",
              "      <td>6.1</td>\n",
              "      <td>7.676</td>\n",
              "    </tr>\n",
              "    <tr>\n",
              "      <th>201</th>\n",
              "      <td>spidermanhomecoming</td>\n",
              "      <td>Movie</td>\n",
              "      <td>Superhero</td>\n",
              "      <td>7.4</td>\n",
              "      <td>7.675</td>\n",
              "    </tr>\n",
              "    <tr>\n",
              "      <th>203</th>\n",
              "      <td>youvegotthis</td>\n",
              "      <td>Movie</td>\n",
              "      <td>Comedy</td>\n",
              "      <td>7.7</td>\n",
              "      <td>7.656</td>\n",
              "    </tr>\n",
              "    <tr>\n",
              "      <th>204</th>\n",
              "      <td>intheheartofthesea</td>\n",
              "      <td>Movie</td>\n",
              "      <td>Drama</td>\n",
              "      <td>6.9</td>\n",
              "      <td>7.654</td>\n",
              "    </tr>\n",
              "    <tr>\n",
              "      <th>205</th>\n",
              "      <td>christmasmadetoorder</td>\n",
              "      <td>Movie</td>\n",
              "      <td>Romance</td>\n",
              "      <td>5.7</td>\n",
              "      <td>7.649</td>\n",
              "    </tr>\n",
              "  </tbody>\n",
              "</table>\n",
              "<p>101 rows × 5 columns</p>\n",
              "</div>"
            ],
            "text/plain": [
              "                             Title   Type  ... IMDb_Score  Log_VALUE\n",
              "1                          365days  Movie  ...        3.2     10.649\n",
              "8                      enolaholmes  Movie  ...        6.6      9.707\n",
              "10   thechristmaschroniclesparttwo  Movie  ...        6.0      9.675\n",
              "12                        holidate  Movie  ...        6.9      9.605\n",
              "15                     theoldguard  Movie  ...        6.6      9.541\n",
              "..                             ...    ...  ...        ...        ...\n",
              "200                  mortalengines  Movie  ...        6.1      7.676\n",
              "201            spidermanhomecoming  Movie  ...        7.4      7.675\n",
              "203                   youvegotthis  Movie  ...        7.7      7.656\n",
              "204             intheheartofthesea  Movie  ...        6.9      7.654\n",
              "205           christmasmadetoorder  Movie  ...        5.7      7.649\n",
              "\n",
              "[101 rows x 5 columns]"
            ]
          },
          "metadata": {
            "tags": []
          },
          "execution_count": 53
        }
      ]
    }
  ]
}