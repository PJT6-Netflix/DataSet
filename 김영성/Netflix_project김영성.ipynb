{
 "cells": [
  {
   "cell_type": "code",
   "execution_count": 1,
   "id": "15ff7dcf",
   "metadata": {
    "ExecuteTime": {
     "end_time": "2021-07-12T12:38:59.403005Z",
     "start_time": "2021-07-12T12:38:58.569930Z"
    }
   },
   "outputs": [],
   "source": [
    "import pandas as pd\n",
    "import numpy as np\n",
    "import datetime\n",
    "import time\n",
    "import matplotlib.pyplot as plt\n",
    "import seaborn as sns\n",
    "sns.set_style('whitegrid')\n",
    "\n",
    "np.warnings.filterwarnings('ignore')"
   ]
  },
  {
   "cell_type": "markdown",
   "id": "66762d18",
   "metadata": {},
   "source": [
    "# 데이터 준비\n",
    "- 컬럼삭제 및 널값제거"
   ]
  },
  {
   "cell_type": "code",
   "execution_count": 2,
   "id": "17dd7886",
   "metadata": {
    "ExecuteTime": {
     "end_time": "2021-07-12T12:39:00.126476Z",
     "start_time": "2021-07-12T12:39:00.082081Z"
    }
   },
   "outputs": [],
   "source": [
    "df = pd.read_csv('use_df.csv')"
   ]
  },
  {
   "cell_type": "code",
   "execution_count": 3,
   "id": "a6b6f88f",
   "metadata": {
    "ExecuteTime": {
     "end_time": "2021-07-12T12:39:01.151922Z",
     "start_time": "2021-07-12T12:39:01.145938Z"
    }
   },
   "outputs": [
    {
     "data": {
      "text/plain": [
       "Index(['Unnamed: 0', 'Title', 'Series or Movie', 'COUNTRY', 'Release Date',\n",
       "       'GENRE', 'VALUE', 'Genre_all', 'Tags', 'Languages', 'Hidden Gem Score',\n",
       "       'Country Availability', 'Runtime', 'Director', 'Writer', 'Actors',\n",
       "       'View Rating', 'IMDb Score', 'Rotten Tomatoes Score',\n",
       "       'Metacritic Score', 'Awards Received', 'Awards Nominated For',\n",
       "       'Boxoffice', 'Netflix Release Date', 'Production House', 'Summary',\n",
       "       'IMDb Votes'],\n",
       "      dtype='object')"
      ]
     },
     "execution_count": 3,
     "metadata": {},
     "output_type": "execute_result"
    }
   ],
   "source": [
    "df.columns"
   ]
  },
  {
   "cell_type": "code",
   "execution_count": 4,
   "id": "247d92cd",
   "metadata": {
    "ExecuteTime": {
     "end_time": "2021-07-12T12:39:01.980696Z",
     "start_time": "2021-07-12T12:39:01.969725Z"
    }
   },
   "outputs": [
    {
     "data": {
      "text/html": [
       "<div>\n",
       "<style scoped>\n",
       "    .dataframe tbody tr th:only-of-type {\n",
       "        vertical-align: middle;\n",
       "    }\n",
       "\n",
       "    .dataframe tbody tr th {\n",
       "        vertical-align: top;\n",
       "    }\n",
       "\n",
       "    .dataframe thead th {\n",
       "        text-align: right;\n",
       "    }\n",
       "</style>\n",
       "<table border=\"1\" class=\"dataframe\">\n",
       "  <thead>\n",
       "    <tr style=\"text-align: right;\">\n",
       "      <th></th>\n",
       "      <th>Title</th>\n",
       "      <th>Series or Movie</th>\n",
       "      <th>Release Date</th>\n",
       "      <th>GENRE</th>\n",
       "      <th>VALUE</th>\n",
       "      <th>Awards Received</th>\n",
       "      <th>Netflix Release Date</th>\n",
       "    </tr>\n",
       "  </thead>\n",
       "  <tbody>\n",
       "    <tr>\n",
       "      <th>0</th>\n",
       "      <td>thequeensgambit</td>\n",
       "      <td>TV</td>\n",
       "      <td>2020.10.23</td>\n",
       "      <td>Drama</td>\n",
       "      <td>44867</td>\n",
       "      <td>96.0</td>\n",
       "      <td>2020.10.23</td>\n",
       "    </tr>\n",
       "  </tbody>\n",
       "</table>\n",
       "</div>"
      ],
      "text/plain": [
       "             Title Series or Movie Release Date  GENRE  VALUE  \\\n",
       "0  thequeensgambit              TV   2020.10.23  Drama  44867   \n",
       "\n",
       "   Awards Received Netflix Release Date  \n",
       "0             96.0           2020.10.23  "
      ]
     },
     "execution_count": 4,
     "metadata": {},
     "output_type": "execute_result"
    }
   ],
   "source": [
    "df.drop(columns=['Genre_all','IMDb Votes','Metacritic Score','Rotten Tomatoes Score','View Rating','COUNTRY','Country Availability','Unnamed: 0','Tags','Actors','Languages','Director','Writer','Boxoffice','Production House','Summary','Awards Nominated For','Runtime','IMDb Score','Hidden Gem Score'],axis=1,inplace=True)\n",
    "df.head(1)"
   ]
  },
  {
   "cell_type": "code",
   "execution_count": 5,
   "id": "8df69112",
   "metadata": {
    "ExecuteTime": {
     "end_time": "2021-07-12T12:39:32.259803Z",
     "start_time": "2021-07-12T12:39:32.243873Z"
    }
   },
   "outputs": [],
   "source": [
    "df.columns=(['Title', 'Type', 'Made_date', 'Genre', 'Value','Awards_Received','Netflix_date'])"
   ]
  },
  {
   "cell_type": "code",
   "execution_count": 6,
   "id": "8048b895",
   "metadata": {
    "ExecuteTime": {
     "end_time": "2021-07-12T12:39:33.239079Z",
     "start_time": "2021-07-12T12:39:32.873838Z"
    }
   },
   "outputs": [
    {
     "data": {
      "text/plain": [
       "Text(0.5, 1.0, 'MISSING VALUES')"
      ]
     },
     "execution_count": 6,
     "metadata": {},
     "output_type": "execute_result"
    },
    {
     "data": {
      "image/png": "[encoded data removed]",
      "text/plain": [
       "<Figure size 720x216 with 3 Axes>"
      ]
     },
     "metadata": {},
     "output_type": "display_data"
    }
   ],
   "source": [
    "# 널값확인\n",
    "import missingno as msno\n",
    "color= ['dimgrey','dimgrey','maroon','maroon','dimgrey','red','dimgrey']\n",
    "msno.bar(df,fontsize=10,color=color,figsize=(10,3))\n",
    "plt.title('MISSING VALUES',fontsize=20)"
   ]
  },
  {
   "cell_type": "code",
   "execution_count": 7,
   "id": "854cd659",
   "metadata": {
    "ExecuteTime": {
     "end_time": "2021-07-12T12:39:34.321780Z",
     "start_time": "2021-07-12T12:39:34.306837Z"
    }
   },
   "outputs": [
    {
     "data": {
      "text/plain": [
       "Title                 0\n",
       "Type                  0\n",
       "Made_date            65\n",
       "Genre               370\n",
       "Value                 0\n",
       "Awards_Received    1490\n",
       "Netflix_date          0\n",
       "dtype: int64"
      ]
     },
     "execution_count": 7,
     "metadata": {},
     "output_type": "execute_result"
    }
   ],
   "source": [
    "df.isnull().sum()"
   ]
  },
  {
   "cell_type": "code",
   "execution_count": 8,
   "id": "f8bc11e0",
   "metadata": {
    "ExecuteTime": {
     "end_time": "2021-07-12T12:39:35.197673Z",
     "start_time": "2021-07-12T12:39:35.185704Z"
    }
   },
   "outputs": [],
   "source": [
    "# 장르 부분은 나중에 필요시 널값 제거\n",
    "#Release Date 컬럼 널값 행 제거\n",
    "df.dropna(subset=['Made_date'], inplace=True)\n",
    "# Awards_Received 컬럼 널값 0으로 수정\n",
    "df.Awards_Received.fillna('0',inplace=True)"
   ]
  },
  {
   "cell_type": "code",
   "execution_count": 9,
   "id": "d81b9e9a",
   "metadata": {
    "ExecuteTime": {
     "end_time": "2021-07-12T12:39:35.844768Z",
     "start_time": "2021-07-12T12:39:35.825835Z"
    }
   },
   "outputs": [
    {
     "data": {
      "text/plain": [
       "(Title                0\n",
       " Type                 0\n",
       " Made_date            0\n",
       " Genre              315\n",
       " Value                0\n",
       " Awards_Received      0\n",
       " Netflix_date         0\n",
       " dtype: int64,\n",
       " (2895, 7))"
      ]
     },
     "execution_count": 9,
     "metadata": {},
     "output_type": "execute_result"
    }
   ],
   "source": [
    "df.isnull().sum(), df.shape"
   ]
  },
  {
   "cell_type": "code",
   "execution_count": 10,
   "id": "f6261f22",
   "metadata": {
    "ExecuteTime": {
     "end_time": "2021-07-12T12:39:36.463825Z",
     "start_time": "2021-07-12T12:39:36.457817Z"
    }
   },
   "outputs": [],
   "source": [
    "netflix = df.copy()"
   ]
  },
  {
   "cell_type": "code",
   "execution_count": 11,
   "id": "ce1a4ac8",
   "metadata": {
    "ExecuteTime": {
     "end_time": "2021-07-12T12:39:37.109533Z",
     "start_time": "2021-07-12T12:39:37.097567Z"
    }
   },
   "outputs": [
    {
     "data": {
      "text/plain": [
       "0"
      ]
     },
     "execution_count": 11,
     "metadata": {},
     "output_type": "execute_result"
    }
   ],
   "source": [
    "netflix.duplicated().sum()\n",
    "# 중복값 있으면 밑의 코드로 중복값 제거\n",
    "# netflix_df = netflix.drop_duplicates(keep=False, inplace=False)"
   ]
  },
  {
   "cell_type": "markdown",
   "id": "407346ce",
   "metadata": {},
   "source": [
    "## 데이터 준비 - Netflix_date 인코딩\n",
    "- Year, Month, Day와 요일로 새로운 컬럼 확장"
   ]
  },
  {
   "cell_type": "code",
   "execution_count": 12,
   "id": "1c8fa846",
   "metadata": {
    "ExecuteTime": {
     "end_time": "2021-07-12T12:39:38.395760Z",
     "start_time": "2021-07-12T12:39:38.377809Z"
    }
   },
   "outputs": [
    {
     "data": {
      "text/html": [
       "<div>\n",
       "<style scoped>\n",
       "    .dataframe tbody tr th:only-of-type {\n",
       "        vertical-align: middle;\n",
       "    }\n",
       "\n",
       "    .dataframe tbody tr th {\n",
       "        vertical-align: top;\n",
       "    }\n",
       "\n",
       "    .dataframe thead th {\n",
       "        text-align: right;\n",
       "    }\n",
       "</style>\n",
       "<table border=\"1\" class=\"dataframe\">\n",
       "  <thead>\n",
       "    <tr style=\"text-align: right;\">\n",
       "      <th></th>\n",
       "      <th>Title</th>\n",
       "      <th>Type</th>\n",
       "      <th>Made_date</th>\n",
       "      <th>Genre</th>\n",
       "      <th>Value</th>\n",
       "      <th>Awards_Received</th>\n",
       "      <th>Netflix_date</th>\n",
       "      <th>Year</th>\n",
       "      <th>Month</th>\n",
       "      <th>Day</th>\n",
       "    </tr>\n",
       "  </thead>\n",
       "  <tbody>\n",
       "    <tr>\n",
       "      <th>0</th>\n",
       "      <td>thequeensgambit</td>\n",
       "      <td>TV</td>\n",
       "      <td>2020.10.23</td>\n",
       "      <td>Drama</td>\n",
       "      <td>44867</td>\n",
       "      <td>96.0</td>\n",
       "      <td>2020-10-23</td>\n",
       "      <td>2020</td>\n",
       "      <td>10</td>\n",
       "      <td>23</td>\n",
       "    </tr>\n",
       "  </tbody>\n",
       "</table>\n",
       "</div>"
      ],
      "text/plain": [
       "             Title Type   Made_date  Genre  Value Awards_Received  \\\n",
       "0  thequeensgambit   TV  2020.10.23  Drama  44867            96.0   \n",
       "\n",
       "  Netflix_date  Year  Month  Day  \n",
       "0   2020-10-23  2020     10   23  "
      ]
     },
     "execution_count": 12,
     "metadata": {},
     "output_type": "execute_result"
    }
   ],
   "source": [
    "netflix[\"Netflix_date\"] = pd.to_datetime(netflix['Netflix_date'])\n",
    "netflix['Year'] = netflix['Netflix_date'].dt.year\n",
    "netflix['Month'] = netflix['Netflix_date'].dt.month\n",
    "netflix['Day'] = netflix['Netflix_date'].dt.day\n",
    "\n",
    "netflix.head(1)"
   ]
  },
  {
   "cell_type": "markdown",
   "id": "f4d5204b",
   "metadata": {},
   "source": [
    "# 정규화"
   ]
  },
  {
   "cell_type": "markdown",
   "id": "53cbb3e8",
   "metadata": {},
   "source": [
    "# 표준화"
   ]
  },
  {
   "cell_type": "markdown",
   "id": "4b3b8097",
   "metadata": {},
   "source": [
    "# 시각화\n",
    "- made_Date와 Netflix_Date 를 통해 만든 새로운 컬럼으로 \n",
    "- 3-1 뷰어수와 넷플릭스 릴리즈 데이트 대한 상관관계\n",
    "- 3-1-2 넷플릭스 릴리즈 데이트를 해당날짜의 요일로 변경 후 요일별 컨텐츠 추가에 대한 viewporint와의 상관관계"
   ]
  },
  {
   "cell_type": "code",
   "execution_count": 13,
   "id": "2d54e170",
   "metadata": {
    "ExecuteTime": {
     "end_time": "2021-07-12T12:39:40.943615Z",
     "start_time": "2021-07-12T12:39:40.873803Z"
    }
   },
   "outputs": [
    {
     "data": {
      "image/png": "[encoded data removed]",
      "text/plain": [
       "<Figure size 720x360 with 1 Axes>"
      ]
     },
     "metadata": {},
     "output_type": "display_data"
    }
   ],
   "source": [
    "plt.figure(figsize=(10,5))\n",
    "plt.title('The percentage of movies and series in Netflix content')\n",
    "g = plt.pie(netflix.Type.value_counts(),explode=(0.025,0.025),\n",
    "            labels=df.Type.value_counts().index, colors=['red','grey'],\n",
    "            autopct='%1.1f%%', startangle=200)\n",
    "plt.show()"
   ]
  },
  {
   "cell_type": "markdown",
   "id": "ce64b3ae",
   "metadata": {},
   "source": [
    "### 가설\n",
    "- 귀무가설 : Netflix Release date 는 viewpoint에 영향이 있다\n",
    "- 대립가설 : Netflix Release date 는 viewpoint에 영향이 없다"
   ]
  },
  {
   "cell_type": "code",
   "execution_count": 14,
   "id": "990be3ea",
   "metadata": {
    "ExecuteTime": {
     "end_time": "2021-07-12T12:39:41.968832Z",
     "start_time": "2021-07-12T12:39:41.961851Z"
    }
   },
   "outputs": [],
   "source": [
    "# 무비, 시리즈 분리\n",
    "Movie_df = netflix[netflix['Type']=='Movie']\n",
    "Series_df = netflix[netflix['Type']=='TV']"
   ]
  },
  {
   "cell_type": "code",
   "execution_count": 15,
   "id": "cbb2a9bd",
   "metadata": {
    "ExecuteTime": {
     "end_time": "2021-07-12T12:39:42.721916Z",
     "start_time": "2021-07-12T12:39:42.704960Z"
    },
    "scrolled": false
   },
   "outputs": [
    {
     "data": {
      "text/html": [
       "<div>\n",
       "<style scoped>\n",
       "    .dataframe tbody tr th:only-of-type {\n",
       "        vertical-align: middle;\n",
       "    }\n",
       "\n",
       "    .dataframe tbody tr th {\n",
       "        vertical-align: top;\n",
       "    }\n",
       "\n",
       "    .dataframe thead th {\n",
       "        text-align: right;\n",
       "    }\n",
       "</style>\n",
       "<table border=\"1\" class=\"dataframe\">\n",
       "  <thead>\n",
       "    <tr style=\"text-align: right;\">\n",
       "      <th></th>\n",
       "      <th>Title</th>\n",
       "      <th>Type</th>\n",
       "      <th>Made_date</th>\n",
       "      <th>Genre</th>\n",
       "      <th>Value</th>\n",
       "      <th>Awards_Received</th>\n",
       "      <th>Netflix_date</th>\n",
       "      <th>Year</th>\n",
       "      <th>Month</th>\n",
       "      <th>Day</th>\n",
       "    </tr>\n",
       "  </thead>\n",
       "  <tbody>\n",
       "    <tr>\n",
       "      <th>1</th>\n",
       "      <td>365days</td>\n",
       "      <td>Movie</td>\n",
       "      <td>2020.6.7</td>\n",
       "      <td>Romance</td>\n",
       "      <td>42149</td>\n",
       "      <td>0</td>\n",
       "      <td>2020-04-02</td>\n",
       "      <td>2020</td>\n",
       "      <td>4</td>\n",
       "      <td>2</td>\n",
       "    </tr>\n",
       "  </tbody>\n",
       "</table>\n",
       "</div>"
      ],
      "text/plain": [
       "     Title   Type Made_date    Genre  Value Awards_Received Netflix_date  \\\n",
       "1  365days  Movie  2020.6.7  Romance  42149               0   2020-04-02   \n",
       "\n",
       "   Year  Month  Day  \n",
       "1  2020      4    2  "
      ]
     },
     "execution_count": 15,
     "metadata": {},
     "output_type": "execute_result"
    }
   ],
   "source": [
    "Movie_df.head(1)"
   ]
  },
  {
   "cell_type": "code",
   "execution_count": 16,
   "id": "43ea8551",
   "metadata": {
    "ExecuteTime": {
     "end_time": "2021-07-12T12:39:43.370822Z",
     "start_time": "2021-07-12T12:39:43.361845Z"
    }
   },
   "outputs": [
    {
     "data": {
      "text/html": [
       "<div>\n",
       "<style scoped>\n",
       "    .dataframe tbody tr th:only-of-type {\n",
       "        vertical-align: middle;\n",
       "    }\n",
       "\n",
       "    .dataframe tbody tr th {\n",
       "        vertical-align: top;\n",
       "    }\n",
       "\n",
       "    .dataframe thead th {\n",
       "        text-align: right;\n",
       "    }\n",
       "</style>\n",
       "<table border=\"1\" class=\"dataframe\">\n",
       "  <thead>\n",
       "    <tr style=\"text-align: right;\">\n",
       "      <th></th>\n",
       "      <th>Title</th>\n",
       "      <th>Type</th>\n",
       "      <th>Made_date</th>\n",
       "      <th>Genre</th>\n",
       "      <th>Value</th>\n",
       "      <th>Awards_Received</th>\n",
       "      <th>Netflix_date</th>\n",
       "      <th>Year</th>\n",
       "      <th>Month</th>\n",
       "      <th>Day</th>\n",
       "    </tr>\n",
       "  </thead>\n",
       "  <tbody>\n",
       "    <tr>\n",
       "      <th>0</th>\n",
       "      <td>thequeensgambit</td>\n",
       "      <td>TV</td>\n",
       "      <td>2020.10.23</td>\n",
       "      <td>Drama</td>\n",
       "      <td>44867</td>\n",
       "      <td>96.0</td>\n",
       "      <td>2020-10-23</td>\n",
       "      <td>2020</td>\n",
       "      <td>10</td>\n",
       "      <td>23</td>\n",
       "    </tr>\n",
       "  </tbody>\n",
       "</table>\n",
       "</div>"
      ],
      "text/plain": [
       "             Title Type   Made_date  Genre  Value Awards_Received  \\\n",
       "0  thequeensgambit   TV  2020.10.23  Drama  44867            96.0   \n",
       "\n",
       "  Netflix_date  Year  Month  Day  \n",
       "0   2020-10-23  2020     10   23  "
      ]
     },
     "execution_count": 16,
     "metadata": {},
     "output_type": "execute_result"
    }
   ],
   "source": [
    "Series_df.head(1)"
   ]
  },
  {
   "cell_type": "markdown",
   "id": "c2419732",
   "metadata": {
    "ExecuteTime": {
     "end_time": "2021-07-10T11:35:21.979361Z",
     "start_time": "2021-07-10T11:35:21.961424Z"
    }
   },
   "source": [
    "#### 컨텐츠 추가 시기확인"
   ]
  },
  {
   "cell_type": "code",
   "execution_count": 17,
   "id": "b626a81a",
   "metadata": {
    "ExecuteTime": {
     "end_time": "2021-07-12T12:39:45.550609Z",
     "start_time": "2021-07-12T12:39:44.865928Z"
    }
   },
   "outputs": [
    {
     "data": {
      "image/png": "[encoded data removed]",
      "text/plain": [
       "<Figure size 1440x432 with 3 Axes>"
      ]
     },
     "metadata": {},
     "output_type": "display_data"
    }
   ],
   "source": [
    "fig, ax = plt.subplots(1,3, figsize=(20,6))\n",
    "# 컨텐츠 추가 년,월,일별 통계\n",
    "# Year\n",
    "sns.countplot('Year', data=netflix, palette='vlag', ax=ax[0])\n",
    "ax[0].set_title('Year added movie',\n",
    "            fontdict={'fontsize':15})\n",
    "\n",
    "# Month\n",
    "sns.countplot('Month', data=netflix, palette='vlag', ax=ax[1])\n",
    "ax[1].set_title('Month added movie',\n",
    "            fontdict={'fontsize':15})\n",
    "\n",
    "# Day\n",
    "sns.countplot('Day', data=netflix, palette='vlag', ax=ax[2])\n",
    "ax[2].set_title('Day added movie',\n",
    "            fontdict={'fontsize':15})\n",
    "\n",
    "plt.show()"
   ]
  },
  {
   "cell_type": "markdown",
   "id": "88465cd9",
   "metadata": {},
   "source": [
    "- Year : 2015년과 2020년에 평균흐름보다 3배 가량의 컨텐츠 추가량이 보여진다\n",
    "- Month : 년초보단 하반기로 갈수록 점진적으로 많이 늘리는 흐름을 보이고, 4월은 다른달보다 컨텐츠 추가가 월등하게 높다\n",
    "- Day : 흐름을 고르게 보이고 있으나,1일과 14 일은 다른 날보다 많은 컨텐츠를 추가했다"
   ]
  },
  {
   "cell_type": "markdown",
   "id": "7fc96b63",
   "metadata": {
    "ExecuteTime": {
     "end_time": "2021-07-11T09:18:57.005123Z",
     "start_time": "2021-07-11T09:18:56.997136Z"
    }
   },
   "source": [
    "### 년, 월, 일 별 컨텐츠 추가날짜를 통한 Viewpoint 분석"
   ]
  },
  {
   "cell_type": "code",
   "execution_count": 18,
   "id": "85585f80",
   "metadata": {
    "ExecuteTime": {
     "end_time": "2021-07-12T12:39:57.519732Z",
     "start_time": "2021-07-12T12:39:47.689826Z"
    }
   },
   "outputs": [
    {
     "data": {
      "image/png": "[encoded data removed]",
      "text/plain": [
       "<Figure size 1080x360 with 4 Axes>"
      ]
     },
     "metadata": {},
     "output_type": "display_data"
    }
   ],
   "source": [
    "fig, ax = plt.subplots(2,2, figsize=(15,5))\n",
    "\n",
    "sns.lineplot(x='Year', y=netflix['Value'], data=netflix, ax=ax[0,0], alpha=0.7)\n",
    "sns.lineplot(x='Month', y=netflix['Value'], data=netflix, ax=ax[0,1], alpha=0.7)\n",
    "sns.lineplot(x='Day', y=netflix['Value'], data=netflix, ax=ax[1,0], alpha=0.7)\n",
    "sns.lineplot(x='Netflix_date', y=netflix['Value'], data=netflix, ax=ax[1,1], alpha=0.7)\n",
    "\n",
    "plt.show()"
   ]
  },
  {
   "cell_type": "code",
   "execution_count": 19,
   "id": "bb5e57ca",
   "metadata": {
    "ExecuteTime": {
     "end_time": "2021-07-12T12:39:58.526723Z",
     "start_time": "2021-07-12T12:39:58.513779Z"
    }
   },
   "outputs": [
    {
     "data": {
      "text/html": [
       "<div>\n",
       "<style scoped>\n",
       "    .dataframe tbody tr th:only-of-type {\n",
       "        vertical-align: middle;\n",
       "    }\n",
       "\n",
       "    .dataframe tbody tr th {\n",
       "        vertical-align: top;\n",
       "    }\n",
       "\n",
       "    .dataframe thead th {\n",
       "        text-align: right;\n",
       "    }\n",
       "</style>\n",
       "<table border=\"1\" class=\"dataframe\">\n",
       "  <thead>\n",
       "    <tr style=\"text-align: right;\">\n",
       "      <th></th>\n",
       "      <th>Value</th>\n",
       "      <th>Year</th>\n",
       "      <th>Month</th>\n",
       "      <th>Day</th>\n",
       "    </tr>\n",
       "  </thead>\n",
       "  <tbody>\n",
       "    <tr>\n",
       "      <th>Value</th>\n",
       "      <td>1.000000</td>\n",
       "      <td>0.110347</td>\n",
       "      <td>0.045801</td>\n",
       "      <td>0.013298</td>\n",
       "    </tr>\n",
       "    <tr>\n",
       "      <th>Year</th>\n",
       "      <td>0.110347</td>\n",
       "      <td>1.000000</td>\n",
       "      <td>0.330482</td>\n",
       "      <td>0.063851</td>\n",
       "    </tr>\n",
       "    <tr>\n",
       "      <th>Month</th>\n",
       "      <td>0.045801</td>\n",
       "      <td>0.330482</td>\n",
       "      <td>1.000000</td>\n",
       "      <td>0.008355</td>\n",
       "    </tr>\n",
       "    <tr>\n",
       "      <th>Day</th>\n",
       "      <td>0.013298</td>\n",
       "      <td>0.063851</td>\n",
       "      <td>0.008355</td>\n",
       "      <td>1.000000</td>\n",
       "    </tr>\n",
       "  </tbody>\n",
       "</table>\n",
       "</div>"
      ],
      "text/plain": [
       "          Value      Year     Month       Day\n",
       "Value  1.000000  0.110347  0.045801  0.013298\n",
       "Year   0.110347  1.000000  0.330482  0.063851\n",
       "Month  0.045801  0.330482  1.000000  0.008355\n",
       "Day    0.013298  0.063851  0.008355  1.000000"
      ]
     },
     "execution_count": 19,
     "metadata": {},
     "output_type": "execute_result"
    }
   ],
   "source": [
    "netflix.corr()"
   ]
  },
  {
   "cell_type": "markdown",
   "id": "396b0dee",
   "metadata": {},
   "source": [
    "- Year : 2020년에 추가된 컨텐츠와 2017년에 추가된 컨텐츠가 다른 년도에 추가된 컨텐츠보다 viewpoint 가 월등히 높음을 확인할 수 있다. 그럼 20년과 17년에 컨텐츠를 많이 출시 했을지 앞의 년도별 컨텐츠 추가량 그래프를 확인한 결과 20년은 굉장히 많은 컨텐츠를 출시 했지만 17년의 출시한 컨텐츠의 양은 평균 이하수준으로 확인된다\n",
    "\n",
    "- month : 10월과 7월에 추가한 컨텐츠가 다른 월에 출시한 컨텐츠보다 viewpoint 가 높음을 확인할 수 있다. 그럼 10월과 7월에 컨텐츠를 과도하게 많이 출시한건 아닐까? 앞서 분석한 월별 컨텐츠 추가량 그래프를 확인해보면 10월과 7월은 그다지 많이 출시하지 않았다. \n",
    "\n",
    "- Day : 매월 23-24일 사이에 출시된 컨텐츠의 viewpoint가 다른 일에 출시한 viewpoint 보다 월등히 높다. 앞서 day별 추가된 컨텐츠 량을 확인해 보면 1일과 14일에 추가된 컨텐츠의 양이 굉장히 높은걸로 확인된다.\n",
    "\n",
    "- 총평 : 1,1의 넷플릭스 출시 시기와 value(viewpoint)를 한눈에 볼수 있는 그래프가 있다 16년-17년 사이에 출시된 컨텐츠와 20년에 출시된 컨텐츠 들이 대체로 많은 viewpoint 를 기록 중이며, 출시가 빨리 됬다고 뷰포인트가 높은것은 아니다 라는 결론과 출시일정과 상관관계가 적다는 결론을 낼수 있다\n",
    "\n",
    "### 그럼 여기서  조금 방향을 틀어보자. 어느 요일에 더 많은 컨텐츠를 출시 했는가?"
   ]
  },
  {
   "cell_type": "code",
   "execution_count": 20,
   "id": "5152f5be",
   "metadata": {
    "ExecuteTime": {
     "end_time": "2021-07-12T12:40:00.578706Z",
     "start_time": "2021-07-12T12:40:00.561781Z"
    }
   },
   "outputs": [
    {
     "data": {
      "text/html": [
       "<div>\n",
       "<style scoped>\n",
       "    .dataframe tbody tr th:only-of-type {\n",
       "        vertical-align: middle;\n",
       "    }\n",
       "\n",
       "    .dataframe tbody tr th {\n",
       "        vertical-align: top;\n",
       "    }\n",
       "\n",
       "    .dataframe thead th {\n",
       "        text-align: right;\n",
       "    }\n",
       "</style>\n",
       "<table border=\"1\" class=\"dataframe\">\n",
       "  <thead>\n",
       "    <tr style=\"text-align: right;\">\n",
       "      <th></th>\n",
       "      <th>Title</th>\n",
       "      <th>Type</th>\n",
       "      <th>Made_date</th>\n",
       "      <th>Genre</th>\n",
       "      <th>Value</th>\n",
       "      <th>Awards_Received</th>\n",
       "      <th>Netflix_date</th>\n",
       "      <th>Year</th>\n",
       "      <th>Month</th>\n",
       "      <th>Day</th>\n",
       "      <th>dayofweek</th>\n",
       "    </tr>\n",
       "  </thead>\n",
       "  <tbody>\n",
       "    <tr>\n",
       "      <th>0</th>\n",
       "      <td>thequeensgambit</td>\n",
       "      <td>TV</td>\n",
       "      <td>2020.10.23</td>\n",
       "      <td>Drama</td>\n",
       "      <td>44867</td>\n",
       "      <td>96.0</td>\n",
       "      <td>2020-10-23</td>\n",
       "      <td>2020</td>\n",
       "      <td>10</td>\n",
       "      <td>23</td>\n",
       "      <td>Friday</td>\n",
       "    </tr>\n",
       "    <tr>\n",
       "      <th>1</th>\n",
       "      <td>365days</td>\n",
       "      <td>Movie</td>\n",
       "      <td>2020.6.7</td>\n",
       "      <td>Romance</td>\n",
       "      <td>42149</td>\n",
       "      <td>0</td>\n",
       "      <td>2020-04-02</td>\n",
       "      <td>2020</td>\n",
       "      <td>4</td>\n",
       "      <td>2</td>\n",
       "      <td>Thursday</td>\n",
       "    </tr>\n",
       "    <tr>\n",
       "      <th>2</th>\n",
       "      <td>emilyinparis</td>\n",
       "      <td>TV</td>\n",
       "      <td>2020.10.2</td>\n",
       "      <td>Drama</td>\n",
       "      <td>27138</td>\n",
       "      <td>1.0</td>\n",
       "      <td>2020-10-02</td>\n",
       "      <td>2020</td>\n",
       "      <td>10</td>\n",
       "      <td>2</td>\n",
       "      <td>Friday</td>\n",
       "    </tr>\n",
       "    <tr>\n",
       "      <th>3</th>\n",
       "      <td>lucifer</td>\n",
       "      <td>TV</td>\n",
       "      <td>2016.1.25</td>\n",
       "      <td>Superhero</td>\n",
       "      <td>25729</td>\n",
       "      <td>0</td>\n",
       "      <td>2017-07-24</td>\n",
       "      <td>2017</td>\n",
       "      <td>7</td>\n",
       "      <td>24</td>\n",
       "      <td>Monday</td>\n",
       "    </tr>\n",
       "    <tr>\n",
       "      <th>4</th>\n",
       "      <td>theumbrellaacademy</td>\n",
       "      <td>TV</td>\n",
       "      <td>2019.2.15</td>\n",
       "      <td>Superhero</td>\n",
       "      <td>23480</td>\n",
       "      <td>7.0</td>\n",
       "      <td>2019-02-15</td>\n",
       "      <td>2019</td>\n",
       "      <td>2</td>\n",
       "      <td>15</td>\n",
       "      <td>Friday</td>\n",
       "    </tr>\n",
       "  </tbody>\n",
       "</table>\n",
       "</div>"
      ],
      "text/plain": [
       "                Title   Type   Made_date      Genre  Value Awards_Received  \\\n",
       "0     thequeensgambit     TV  2020.10.23      Drama  44867            96.0   \n",
       "1             365days  Movie    2020.6.7    Romance  42149               0   \n",
       "2        emilyinparis     TV   2020.10.2      Drama  27138             1.0   \n",
       "3             lucifer     TV   2016.1.25  Superhero  25729               0   \n",
       "4  theumbrellaacademy     TV   2019.2.15  Superhero  23480             7.0   \n",
       "\n",
       "  Netflix_date  Year  Month  Day dayofweek  \n",
       "0   2020-10-23  2020     10   23    Friday  \n",
       "1   2020-04-02  2020      4    2  Thursday  \n",
       "2   2020-10-02  2020     10    2    Friday  \n",
       "3   2017-07-24  2017      7   24    Monday  \n",
       "4   2019-02-15  2019      2   15    Friday  "
      ]
     },
     "execution_count": 20,
     "metadata": {},
     "output_type": "execute_result"
    }
   ],
   "source": [
    "#dayofweek(요일)컴럼 추가/ head 5개 값 확인 완료\n",
    "netflix['dayofweek'] = netflix['Netflix_date'].dt.day_name()\n",
    "netflix.head()"
   ]
  },
  {
   "cell_type": "code",
   "execution_count": 27,
   "id": "b3e48e9d",
   "metadata": {
    "ExecuteTime": {
     "end_time": "2021-07-12T12:43:09.105338Z",
     "start_time": "2021-07-12T12:43:09.066077Z"
    }
   },
   "outputs": [
    {
     "data": {
      "application/vnd.plotly.v1+json": {
       "config": {
        "plotlyServerURL": "https://plot.ly"
       },
       "data": [
        {
         "domain": {
          "x": [
           0,
           1
          ],
          "y": [
           0,
           1
          ]
         },
         "hovertemplate": "index=%{label}<br>dayofweek=%{value}<extra></extra>",
         "labels": [
          "Tuesday",
          "Friday",
          "Wednesday",
          "Thursday",
          "Saturday",
          "Sunday",
          "Monday"
         ],
         "legendgroup": "",
         "marker": {
          "line": {
           "color": "white",
           "width": 1
          }
         },
         "name": "",
         "showlegend": true,
         "textinfo": "percent+label",
         "textposition": "inside",
         "type": "pie",
         "values": [
          859,
          550,
          384,
          342,
          277,
          247,
          236
         ]
        }
       ],
       "layout": {
        "legend": {
         "tracegroupgap": 0
        },
        "margin": {
         "t": 60
        },
        "piecolorway": [
         "rgb(103,0,31)",
         "rgb(178,24,43)",
         "rgb(214,96,77)",
         "rgb(244,165,130)",
         "rgb(253,219,199)",
         "rgb(247,247,247)",
         "rgb(209,229,240)",
         "rgb(146,197,222)",
         "rgb(67,147,195)",
         "rgb(33,102,172)",
         "rgb(5,48,97)"
        ],
        "template": {
         "data": {
          "bar": [
           {
            "error_x": {
             "color": "#2a3f5f"
            },
            "error_y": {
             "color": "#2a3f5f"
            },
            "marker": {
             "line": {
              "color": "#E5ECF6",
              "width": 0.5
             }
            },
            "type": "bar"
           }
          ],
          "barpolar": [
           {
            "marker": {
             "line": {
              "color": "#E5ECF6",
              "width": 0.5
             }
            },
            "type": "barpolar"
           }
          ],
          "carpet": [
           {
            "aaxis": {
             "endlinecolor": "#2a3f5f",
             "gridcolor": "white",
             "linecolor": "white",
             "minorgridcolor": "white",
             "startlinecolor": "#2a3f5f"
            },
            "baxis": {
             "endlinecolor": "#2a3f5f",
             "gridcolor": "white",
             "linecolor": "white",
             "minorgridcolor": "white",
             "startlinecolor": "#2a3f5f"
            },
            "type": "carpet"
           }
          ],
          "choropleth": [
           {
            "colorbar": {
             "outlinewidth": 0,
             "ticks": ""
            },
            "type": "choropleth"
           }
          ],
          "contour": [
           {
            "colorbar": {
             "outlinewidth": 0,
             "ticks": ""
            },
            "colorscale": [
             [
              0,
              "#0d0887"
             ],
             [
              0.1111111111111111,
              "#46039f"
             ],
             [
              0.2222222222222222,
              "#7201a8"
             ],
             [
              0.3333333333333333,
              "#9c179e"
             ],
             [
              0.4444444444444444,
              "#bd3786"
             ],
             [
              0.5555555555555556,
              "#d8576b"
             ],
             [
              0.6666666666666666,
              "#ed7953"
             ],
             [
              0.7777777777777778,
              "#fb9f3a"
             ],
             [
              0.8888888888888888,
              "#fdca26"
             ],
             [
              1,
              "#f0f921"
             ]
            ],
            "type": "contour"
           }
          ],
          "contourcarpet": [
           {
            "colorbar": {
             "outlinewidth": 0,
             "ticks": ""
            },
            "type": "contourcarpet"
           }
          ],
          "heatmap": [
           {
            "colorbar": {
             "outlinewidth": 0,
             "ticks": ""
            },
            "colorscale": [
             [
              0,
              "#0d0887"
             ],
             [
              0.1111111111111111,
              "#46039f"
             ],
             [
              0.2222222222222222,
              "#7201a8"
             ],
             [
              0.3333333333333333,
              "#9c179e"
             ],
             [
              0.4444444444444444,
              "#bd3786"
             ],
             [
              0.5555555555555556,
              "#d8576b"
             ],
             [
              0.6666666666666666,
              "#ed7953"
             ],
             [
              0.7777777777777778,
              "#fb9f3a"
             ],
             [
              0.8888888888888888,
              "#fdca26"
             ],
             [
              1,
              "#f0f921"
             ]
            ],
            "type": "heatmap"
           }
          ],
          "heatmapgl": [
           {
            "colorbar": {
             "outlinewidth": 0,
             "ticks": ""
            },
            "colorscale": [
             [
              0,
              "#0d0887"
             ],
             [
              0.1111111111111111,
              "#46039f"
             ],
             [
              0.2222222222222222,
              "#7201a8"
             ],
             [
              0.3333333333333333,
              "#9c179e"
             ],
             [
              0.4444444444444444,
              "#bd3786"
             ],
             [
              0.5555555555555556,
              "#d8576b"
             ],
             [
              0.6666666666666666,
              "#ed7953"
             ],
             [
              0.7777777777777778,
              "#fb9f3a"
             ],
             [
              0.8888888888888888,
              "#fdca26"
             ],
             [
              1,
              "#f0f921"
             ]
            ],
            "type": "heatmapgl"
           }
          ],
          "histogram": [
           {
            "marker": {
             "colorbar": {
              "outlinewidth": 0,
              "ticks": ""
             }
            },
            "type": "histogram"
           }
          ],
          "histogram2d": [
           {
            "colorbar": {
             "outlinewidth": 0,
             "ticks": ""
            },
            "colorscale": [
             [
              0,
              "#0d0887"
             ],
             [
              0.1111111111111111,
              "#46039f"
             ],
             [
              0.2222222222222222,
              "#7201a8"
             ],
             [
              0.3333333333333333,
              "#9c179e"
             ],
             [
              0.4444444444444444,
              "#bd3786"
             ],
             [
              0.5555555555555556,
              "#d8576b"
             ],
             [
              0.6666666666666666,
              "#ed7953"
             ],
             [
              0.7777777777777778,
              "#fb9f3a"
             ],
             [
              0.8888888888888888,
              "#fdca26"
             ],
             [
              1,
              "#f0f921"
             ]
            ],
            "type": "histogram2d"
           }
          ],
          "histogram2dcontour": [
           {
            "colorbar": {
             "outlinewidth": 0,
             "ticks": ""
            },
            "colorscale": [
             [
              0,
              "#0d0887"
             ],
             [
              0.1111111111111111,
              "#46039f"
             ],
             [
              0.2222222222222222,
              "#7201a8"
             ],
             [
              0.3333333333333333,
              "#9c179e"
             ],
             [
              0.4444444444444444,
              "#bd3786"
             ],
             [
              0.5555555555555556,
              "#d8576b"
             ],
             [
              0.6666666666666666,
              "#ed7953"
             ],
             [
              0.7777777777777778,
              "#fb9f3a"
             ],
             [
              0.8888888888888888,
              "#fdca26"
             ],
             [
              1,
              "#f0f921"
             ]
            ],
            "type": "histogram2dcontour"
           }
          ],
          "mesh3d": [
           {
            "colorbar": {
             "outlinewidth": 0,
             "ticks": ""
            },
            "type": "mesh3d"
           }
          ],
          "parcoords": [
           {
            "line": {
             "colorbar": {
              "outlinewidth": 0,
              "ticks": ""
             }
            },
            "type": "parcoords"
           }
          ],
          "pie": [
           {
            "automargin": true,
            "type": "pie"
           }
          ],
          "scatter": [
           {
            "marker": {
             "colorbar": {
              "outlinewidth": 0,
              "ticks": ""
             }
            },
            "type": "scatter"
           }
          ],
          "scatter3d": [
           {
            "line": {
             "colorbar": {
              "outlinewidth": 0,
              "ticks": ""
             }
            },
            "marker": {
             "colorbar": {
              "outlinewidth": 0,
              "ticks": ""
             }
            },
            "type": "scatter3d"
           }
          ],
          "scattercarpet": [
           {
            "marker": {
             "colorbar": {
              "outlinewidth": 0,
              "ticks": ""
             }
            },
            "type": "scattercarpet"
           }
          ],
          "scattergeo": [
           {
            "marker": {
             "colorbar": {
              "outlinewidth": 0,
              "ticks": ""
             }
            },
            "type": "scattergeo"
           }
          ],
          "scattergl": [
           {
            "marker": {
             "colorbar": {
              "outlinewidth": 0,
              "ticks": ""
             }
            },
            "type": "scattergl"
           }
          ],
          "scattermapbox": [
           {
            "marker": {
             "colorbar": {
              "outlinewidth": 0,
              "ticks": ""
             }
            },
            "type": "scattermapbox"
           }
          ],
          "scatterpolar": [
           {
            "marker": {
             "colorbar": {
              "outlinewidth": 0,
              "ticks": ""
             }
            },
            "type": "scatterpolar"
           }
          ],
          "scatterpolargl": [
           {
            "marker": {
             "colorbar": {
              "outlinewidth": 0,
              "ticks": ""
             }
            },
            "type": "scatterpolargl"
           }
          ],
          "scatterternary": [
           {
            "marker": {
             "colorbar": {
              "outlinewidth": 0,
              "ticks": ""
             }
            },
            "type": "scatterternary"
           }
          ],
          "surface": [
           {
            "colorbar": {
             "outlinewidth": 0,
             "ticks": ""
            },
            "colorscale": [
             [
              0,
              "#0d0887"
             ],
             [
              0.1111111111111111,
              "#46039f"
             ],
             [
              0.2222222222222222,
              "#7201a8"
             ],
             [
              0.3333333333333333,
              "#9c179e"
             ],
             [
              0.4444444444444444,
              "#bd3786"
             ],
             [
              0.5555555555555556,
              "#d8576b"
             ],
             [
              0.6666666666666666,
              "#ed7953"
             ],
             [
              0.7777777777777778,
              "#fb9f3a"
             ],
             [
              0.8888888888888888,
              "#fdca26"
             ],
             [
              1,
              "#f0f921"
             ]
            ],
            "type": "surface"
           }
          ],
          "table": [
           {
            "cells": {
             "fill": {
              "color": "#EBF0F8"
             },
             "line": {
              "color": "white"
             }
            },
            "header": {
             "fill": {
              "color": "#C8D4E3"
             },
             "line": {
              "color": "white"
             }
            },
            "type": "table"
           }
          ]
         },
         "layout": {
          "annotationdefaults": {
           "arrowcolor": "#2a3f5f",
           "arrowhead": 0,
           "arrowwidth": 1
          },
          "autotypenumbers": "strict",
          "coloraxis": {
           "colorbar": {
            "outlinewidth": 0,
            "ticks": ""
           }
          },
          "colorscale": {
           "diverging": [
            [
             0,
             "#8e0152"
            ],
            [
             0.1,
             "#c51b7d"
            ],
            [
             0.2,
             "#de77ae"
            ],
            [
             0.3,
             "#f1b6da"
            ],
            [
             0.4,
             "#fde0ef"
            ],
            [
             0.5,
             "#f7f7f7"
            ],
            [
             0.6,
             "#e6f5d0"
            ],
            [
             0.7,
             "#b8e186"
            ],
            [
             0.8,
             "#7fbc41"
            ],
            [
             0.9,
             "#4d9221"
            ],
            [
             1,
             "#276419"
            ]
           ],
           "sequential": [
            [
             0,
             "#0d0887"
            ],
            [
             0.1111111111111111,
             "#46039f"
            ],
            [
             0.2222222222222222,
             "#7201a8"
            ],
            [
             0.3333333333333333,
             "#9c179e"
            ],
            [
             0.4444444444444444,
             "#bd3786"
            ],
            [
             0.5555555555555556,
             "#d8576b"
            ],
            [
             0.6666666666666666,
             "#ed7953"
            ],
            [
             0.7777777777777778,
             "#fb9f3a"
            ],
            [
             0.8888888888888888,
             "#fdca26"
            ],
            [
             1,
             "#f0f921"
            ]
           ],
           "sequentialminus": [
            [
             0,
             "#0d0887"
            ],
            [
             0.1111111111111111,
             "#46039f"
            ],
            [
             0.2222222222222222,
             "#7201a8"
            ],
            [
             0.3333333333333333,
             "#9c179e"
            ],
            [
             0.4444444444444444,
             "#bd3786"
            ],
            [
             0.5555555555555556,
             "#d8576b"
            ],
            [
             0.6666666666666666,
             "#ed7953"
            ],
            [
             0.7777777777777778,
             "#fb9f3a"
            ],
            [
             0.8888888888888888,
             "#fdca26"
            ],
            [
             1,
             "#f0f921"
            ]
           ]
          },
          "colorway": [
           "#636efa",
           "#EF553B",
           "#00cc96",
           "#ab63fa",
           "#FFA15A",
           "#19d3f3",
           "#FF6692",
           "#B6E880",
           "#FF97FF",
           "#FECB52"
          ],
          "font": {
           "color": "#2a3f5f"
          },
          "geo": {
           "bgcolor": "white",
           "lakecolor": "white",
           "landcolor": "#E5ECF6",
           "showlakes": true,
           "showland": true,
           "subunitcolor": "white"
          },
          "hoverlabel": {
           "align": "left"
          },
          "hovermode": "closest",
          "mapbox": {
           "style": "light"
          },
          "paper_bgcolor": "white",
          "plot_bgcolor": "#E5ECF6",
          "polar": {
           "angularaxis": {
            "gridcolor": "white",
            "linecolor": "white",
            "ticks": ""
           },
           "bgcolor": "#E5ECF6",
           "radialaxis": {
            "gridcolor": "white",
            "linecolor": "white",
            "ticks": ""
           }
          },
          "scene": {
           "xaxis": {
            "backgroundcolor": "#E5ECF6",
            "gridcolor": "white",
            "gridwidth": 2,
            "linecolor": "white",
            "showbackground": true,
            "ticks": "",
            "zerolinecolor": "white"
           },
           "yaxis": {
            "backgroundcolor": "#E5ECF6",
            "gridcolor": "white",
            "gridwidth": 2,
            "linecolor": "white",
            "showbackground": true,
            "ticks": "",
            "zerolinecolor": "white"
           },
           "zaxis": {
            "backgroundcolor": "#E5ECF6",
            "gridcolor": "white",
            "gridwidth": 2,
            "linecolor": "white",
            "showbackground": true,
            "ticks": "",
            "zerolinecolor": "white"
           }
          },
          "shapedefaults": {
           "line": {
            "color": "#2a3f5f"
           }
          },
          "ternary": {
           "aaxis": {
            "gridcolor": "white",
            "linecolor": "white",
            "ticks": ""
           },
           "baxis": {
            "gridcolor": "white",
            "linecolor": "white",
            "ticks": ""
           },
           "bgcolor": "#E5ECF6",
           "caxis": {
            "gridcolor": "white",
            "linecolor": "white",
            "ticks": ""
           }
          },
          "title": {
           "x": 0.05
          },
          "xaxis": {
           "automargin": true,
           "gridcolor": "white",
           "linecolor": "white",
           "ticks": "",
           "title": {
            "standoff": 15
           },
           "zerolinecolor": "white",
           "zerolinewidth": 2
          },
          "yaxis": {
           "automargin": true,
           "gridcolor": "white",
           "linecolor": "white",
           "ticks": "",
           "title": {
            "standoff": 15
           },
           "zerolinecolor": "white",
           "zerolinewidth": 2
          }
         }
        }
       }
      },
      "text/html": [
       "<div>                            <div id=\"f8ddc28e-4f52-4266-9ac1-91e5b7672f2a\" class=\"plotly-graph-div\" style=\"height:525px; width:100%;\"></div>            <script type=\"text/javascript\">                require([\"plotly\"], function(Plotly) {                    window.PLOTLYENV=window.PLOTLYENV || {};                                    if (document.getElementById(\"f8ddc28e-4f52-4266-9ac1-91e5b7672f2a\")) {                    Plotly.newPlot(                        \"f8ddc28e-4f52-4266-9ac1-91e5b7672f2a\",                        [{\"domain\":{\"x\":[0.0,1.0],\"y\":[0.0,1.0]},\"hovertemplate\":\"index=%{label}<br>dayofweek=%{value}<extra></extra>\",\"labels\":[\"Tuesday\",\"Friday\",\"Wednesday\",\"Thursday\",\"Saturday\",\"Sunday\",\"Monday\"],\"legendgroup\":\"\",\"marker\":{\"line\":{\"color\":\"white\",\"width\":1}},\"name\":\"\",\"showlegend\":true,\"textinfo\":\"percent+label\",\"textposition\":\"inside\",\"type\":\"pie\",\"values\":[859,550,384,342,277,247,236]}],                        {\"legend\":{\"tracegroupgap\":0},\"margin\":{\"t\":60},\"piecolorway\":[\"rgb(103,0,31)\",\"rgb(178,24,43)\",\"rgb(214,96,77)\",\"rgb(244,165,130)\",\"rgb(253,219,199)\",\"rgb(247,247,247)\",\"rgb(209,229,240)\",\"rgb(146,197,222)\",\"rgb(67,147,195)\",\"rgb(33,102,172)\",\"rgb(5,48,97)\"],\"template\":{\"data\":{\"bar\":[{\"error_x\":{\"color\":\"#2a3f5f\"},\"error_y\":{\"color\":\"#2a3f5f\"},\"marker\":{\"line\":{\"color\":\"#E5ECF6\",\"width\":0.5}},\"type\":\"bar\"}],\"barpolar\":[{\"marker\":{\"line\":{\"color\":\"#E5ECF6\",\"width\":0.5}},\"type\":\"barpolar\"}],\"carpet\":[{\"aaxis\":{\"endlinecolor\":\"#2a3f5f\",\"gridcolor\":\"white\",\"linecolor\":\"white\",\"minorgridcolor\":\"white\",\"startlinecolor\":\"#2a3f5f\"},\"baxis\":{\"endlinecolor\":\"#2a3f5f\",\"gridcolor\":\"white\",\"linecolor\":\"white\",\"minorgridcolor\":\"white\",\"startlinecolor\":\"#2a3f5f\"},\"type\":\"carpet\"}],\"choropleth\":[{\"colorbar\":{\"outlinewidth\":0,\"ticks\":\"\"},\"type\":\"choropleth\"}],\"contour\":[{\"colorbar\":{\"outlinewidth\":0,\"ticks\":\"\"},\"colorscale\":[[0.0,\"#0d0887\"],[0.1111111111111111,\"#46039f\"],[0.2222222222222222,\"#7201a8\"],[0.3333333333333333,\"#9c179e\"],[0.4444444444444444,\"#bd3786\"],[0.5555555555555556,\"#d8576b\"],[0.6666666666666666,\"#ed7953\"],[0.7777777777777778,\"#fb9f3a\"],[0.8888888888888888,\"#fdca26\"],[1.0,\"#f0f921\"]],\"type\":\"contour\"}],\"contourcarpet\":[{\"colorbar\":{\"outlinewidth\":0,\"ticks\":\"\"},\"type\":\"contourcarpet\"}],\"heatmap\":[{\"colorbar\":{\"outlinewidth\":0,\"ticks\":\"\"},\"colorscale\":[[0.0,\"#0d0887\"],[0.1111111111111111,\"#46039f\"],[0.2222222222222222,\"#7201a8\"],[0.3333333333333333,\"#9c179e\"],[0.4444444444444444,\"#bd3786\"],[0.5555555555555556,\"#d8576b\"],[0.6666666666666666,\"#ed7953\"],[0.7777777777777778,\"#fb9f3a\"],[0.8888888888888888,\"#fdca26\"],[1.0,\"#f0f921\"]],\"type\":\"heatmap\"}],\"heatmapgl\":[{\"colorbar\":{\"outlinewidth\":0,\"ticks\":\"\"},\"colorscale\":[[0.0,\"#0d0887\"],[0.1111111111111111,\"#46039f\"],[0.2222222222222222,\"#7201a8\"],[0.3333333333333333,\"#9c179e\"],[0.4444444444444444,\"#bd3786\"],[0.5555555555555556,\"#d8576b\"],[0.6666666666666666,\"#ed7953\"],[0.7777777777777778,\"#fb9f3a\"],[0.8888888888888888,\"#fdca26\"],[1.0,\"#f0f921\"]],\"type\":\"heatmapgl\"}],\"histogram\":[{\"marker\":{\"colorbar\":{\"outlinewidth\":0,\"ticks\":\"\"}},\"type\":\"histogram\"}],\"histogram2d\":[{\"colorbar\":{\"outlinewidth\":0,\"ticks\":\"\"},\"colorscale\":[[0.0,\"#0d0887\"],[0.1111111111111111,\"#46039f\"],[0.2222222222222222,\"#7201a8\"],[0.3333333333333333,\"#9c179e\"],[0.4444444444444444,\"#bd3786\"],[0.5555555555555556,\"#d8576b\"],[0.6666666666666666,\"#ed7953\"],[0.7777777777777778,\"#fb9f3a\"],[0.8888888888888888,\"#fdca26\"],[1.0,\"#f0f921\"]],\"type\":\"histogram2d\"}],\"histogram2dcontour\":[{\"colorbar\":{\"outlinewidth\":0,\"ticks\":\"\"},\"colorscale\":[[0.0,\"#0d0887\"],[0.1111111111111111,\"#46039f\"],[0.2222222222222222,\"#7201a8\"],[0.3333333333333333,\"#9c179e\"],[0.4444444444444444,\"#bd3786\"],[0.5555555555555556,\"#d8576b\"],[0.6666666666666666,\"#ed7953\"],[0.7777777777777778,\"#fb9f3a\"],[0.8888888888888888,\"#fdca26\"],[1.0,\"#f0f921\"]],\"type\":\"histogram2dcontour\"}],\"mesh3d\":[{\"colorbar\":{\"outlinewidth\":0,\"ticks\":\"\"},\"type\":\"mesh3d\"}],\"parcoords\":[{\"line\":{\"colorbar\":{\"outlinewidth\":0,\"ticks\":\"\"}},\"type\":\"parcoords\"}],\"pie\":[{\"automargin\":true,\"type\":\"pie\"}],\"scatter\":[{\"marker\":{\"colorbar\":{\"outlinewidth\":0,\"ticks\":\"\"}},\"type\":\"scatter\"}],\"scatter3d\":[{\"line\":{\"colorbar\":{\"outlinewidth\":0,\"ticks\":\"\"}},\"marker\":{\"colorbar\":{\"outlinewidth\":0,\"ticks\":\"\"}},\"type\":\"scatter3d\"}],\"scattercarpet\":[{\"marker\":{\"colorbar\":{\"outlinewidth\":0,\"ticks\":\"\"}},\"type\":\"scattercarpet\"}],\"scattergeo\":[{\"marker\":{\"colorbar\":{\"outlinewidth\":0,\"ticks\":\"\"}},\"type\":\"scattergeo\"}],\"scattergl\":[{\"marker\":{\"colorbar\":{\"outlinewidth\":0,\"ticks\":\"\"}},\"type\":\"scattergl\"}],\"scattermapbox\":[{\"marker\":{\"colorbar\":{\"outlinewidth\":0,\"ticks\":\"\"}},\"type\":\"scattermapbox\"}],\"scatterpolar\":[{\"marker\":{\"colorbar\":{\"outlinewidth\":0,\"ticks\":\"\"}},\"type\":\"scatterpolar\"}],\"scatterpolargl\":[{\"marker\":{\"colorbar\":{\"outlinewidth\":0,\"ticks\":\"\"}},\"type\":\"scatterpolargl\"}],\"scatterternary\":[{\"marker\":{\"colorbar\":{\"outlinewidth\":0,\"ticks\":\"\"}},\"type\":\"scatterternary\"}],\"surface\":[{\"colorbar\":{\"outlinewidth\":0,\"ticks\":\"\"},\"colorscale\":[[0.0,\"#0d0887\"],[0.1111111111111111,\"#46039f\"],[0.2222222222222222,\"#7201a8\"],[0.3333333333333333,\"#9c179e\"],[0.4444444444444444,\"#bd3786\"],[0.5555555555555556,\"#d8576b\"],[0.6666666666666666,\"#ed7953\"],[0.7777777777777778,\"#fb9f3a\"],[0.8888888888888888,\"#fdca26\"],[1.0,\"#f0f921\"]],\"type\":\"surface\"}],\"table\":[{\"cells\":{\"fill\":{\"color\":\"#EBF0F8\"},\"line\":{\"color\":\"white\"}},\"header\":{\"fill\":{\"color\":\"#C8D4E3\"},\"line\":{\"color\":\"white\"}},\"type\":\"table\"}]},\"layout\":{\"annotationdefaults\":{\"arrowcolor\":\"#2a3f5f\",\"arrowhead\":0,\"arrowwidth\":1},\"autotypenumbers\":\"strict\",\"coloraxis\":{\"colorbar\":{\"outlinewidth\":0,\"ticks\":\"\"}},\"colorscale\":{\"diverging\":[[0,\"#8e0152\"],[0.1,\"#c51b7d\"],[0.2,\"#de77ae\"],[0.3,\"#f1b6da\"],[0.4,\"#fde0ef\"],[0.5,\"#f7f7f7\"],[0.6,\"#e6f5d0\"],[0.7,\"#b8e186\"],[0.8,\"#7fbc41\"],[0.9,\"#4d9221\"],[1,\"#276419\"]],\"sequential\":[[0.0,\"#0d0887\"],[0.1111111111111111,\"#46039f\"],[0.2222222222222222,\"#7201a8\"],[0.3333333333333333,\"#9c179e\"],[0.4444444444444444,\"#bd3786\"],[0.5555555555555556,\"#d8576b\"],[0.6666666666666666,\"#ed7953\"],[0.7777777777777778,\"#fb9f3a\"],[0.8888888888888888,\"#fdca26\"],[1.0,\"#f0f921\"]],\"sequentialminus\":[[0.0,\"#0d0887\"],[0.1111111111111111,\"#46039f\"],[0.2222222222222222,\"#7201a8\"],[0.3333333333333333,\"#9c179e\"],[0.4444444444444444,\"#bd3786\"],[0.5555555555555556,\"#d8576b\"],[0.6666666666666666,\"#ed7953\"],[0.7777777777777778,\"#fb9f3a\"],[0.8888888888888888,\"#fdca26\"],[1.0,\"#f0f921\"]]},\"colorway\":[\"#636efa\",\"#EF553B\",\"#00cc96\",\"#ab63fa\",\"#FFA15A\",\"#19d3f3\",\"#FF6692\",\"#B6E880\",\"#FF97FF\",\"#FECB52\"],\"font\":{\"color\":\"#2a3f5f\"},\"geo\":{\"bgcolor\":\"white\",\"lakecolor\":\"white\",\"landcolor\":\"#E5ECF6\",\"showlakes\":true,\"showland\":true,\"subunitcolor\":\"white\"},\"hoverlabel\":{\"align\":\"left\"},\"hovermode\":\"closest\",\"mapbox\":{\"style\":\"light\"},\"paper_bgcolor\":\"white\",\"plot_bgcolor\":\"#E5ECF6\",\"polar\":{\"angularaxis\":{\"gridcolor\":\"white\",\"linecolor\":\"white\",\"ticks\":\"\"},\"bgcolor\":\"#E5ECF6\",\"radialaxis\":{\"gridcolor\":\"white\",\"linecolor\":\"white\",\"ticks\":\"\"}},\"scene\":{\"xaxis\":{\"backgroundcolor\":\"#E5ECF6\",\"gridcolor\":\"white\",\"gridwidth\":2,\"linecolor\":\"white\",\"showbackground\":true,\"ticks\":\"\",\"zerolinecolor\":\"white\"},\"yaxis\":{\"backgroundcolor\":\"#E5ECF6\",\"gridcolor\":\"white\",\"gridwidth\":2,\"linecolor\":\"white\",\"showbackground\":true,\"ticks\":\"\",\"zerolinecolor\":\"white\"},\"zaxis\":{\"backgroundcolor\":\"#E5ECF6\",\"gridcolor\":\"white\",\"gridwidth\":2,\"linecolor\":\"white\",\"showbackground\":true,\"ticks\":\"\",\"zerolinecolor\":\"white\"}},\"shapedefaults\":{\"line\":{\"color\":\"#2a3f5f\"}},\"ternary\":{\"aaxis\":{\"gridcolor\":\"white\",\"linecolor\":\"white\",\"ticks\":\"\"},\"baxis\":{\"gridcolor\":\"white\",\"linecolor\":\"white\",\"ticks\":\"\"},\"bgcolor\":\"#E5ECF6\",\"caxis\":{\"gridcolor\":\"white\",\"linecolor\":\"white\",\"ticks\":\"\"}},\"title\":{\"x\":0.05},\"xaxis\":{\"automargin\":true,\"gridcolor\":\"white\",\"linecolor\":\"white\",\"ticks\":\"\",\"title\":{\"standoff\":15},\"zerolinecolor\":\"white\",\"zerolinewidth\":2},\"yaxis\":{\"automargin\":true,\"gridcolor\":\"white\",\"linecolor\":\"white\",\"ticks\":\"\",\"title\":{\"standoff\":15},\"zerolinecolor\":\"white\",\"zerolinewidth\":2}}}},                        {\"responsive\": true}                    ).then(function(){\n",
       "                            \n",
       "var gd = document.getElementById('f8ddc28e-4f52-4266-9ac1-91e5b7672f2a');\n",
       "var x = new MutationObserver(function (mutations, observer) {{\n",
       "        var display = window.getComputedStyle(gd).display;\n",
       "        if (!display || display === 'none') {{\n",
       "            console.log([gd, 'removed!']);\n",
       "            Plotly.purge(gd);\n",
       "            observer.disconnect();\n",
       "        }}\n",
       "}});\n",
       "\n",
       "// Listen for the removal of the full notebook cells\n",
       "var notebookContainer = gd.closest('#notebook-container');\n",
       "if (notebookContainer) {{\n",
       "    x.observe(notebookContainer, {childList: true});\n",
       "}}\n",
       "\n",
       "// Listen for the clearing of the current output cell\n",
       "var outputEl = gd.closest('.output');\n",
       "if (outputEl) {{\n",
       "    x.observe(outputEl, {childList: true});\n",
       "}}\n",
       "\n",
       "                        })                };                });            </script>        </div>"
      ]
     },
     "metadata": {},
     "output_type": "display_data"
    }
   ],
   "source": [
    "import plotly.express as px\n",
    "day_df = netflix['dayofweek'].value_counts().reset_index()\n",
    "\n",
    "fig = px.pie(day_df, values='dayofweek', names='index',color_discrete_sequence=px.colors.sequential.RdBu)\n",
    "fig.update_traces(textposition='inside', textinfo='percent+label',\n",
    "                  marker = dict(line = dict(color = 'white', width = 1)))\n",
    "fig.show()"
   ]
  },
  {
   "cell_type": "code",
   "execution_count": 64,
   "id": "603803f9",
   "metadata": {
    "ExecuteTime": {
     "end_time": "2021-07-12T13:28:48.829047Z",
     "start_time": "2021-07-12T13:28:48.777884Z"
    }
   },
   "outputs": [
    {
     "data": {
      "text/html": [
       "<style  type=\"text/css\" >\n",
       "#T_bceae_row0_col0,#T_bceae_row0_col3,#T_bceae_row2_col4,#T_bceae_row3_col0,#T_bceae_row4_col7,#T_bceae_row7_col1,#T_bceae_row7_col6,#T_bceae_row10_col5,#T_bceae_row10_col6{\n",
       "            background-color:  #fbf4f9;\n",
       "            color:  #000000;\n",
       "        }#T_bceae_row0_col1,#T_bceae_row0_col4,#T_bceae_row0_col5,#T_bceae_row1_col0,#T_bceae_row1_col2,#T_bceae_row1_col3,#T_bceae_row1_col5,#T_bceae_row1_col6,#T_bceae_row1_col7,#T_bceae_row2_col2,#T_bceae_row2_col6,#T_bceae_row3_col2,#T_bceae_row6_col5{\n",
       "            background-color:  #fff7fb;\n",
       "            color:  #000000;\n",
       "        }#T_bceae_row0_col2,#T_bceae_row0_col6,#T_bceae_row1_col4,#T_bceae_row2_col7,#T_bceae_row4_col1,#T_bceae_row4_col5,#T_bceae_row9_col5{\n",
       "            background-color:  #fdf5fa;\n",
       "            color:  #000000;\n",
       "        }#T_bceae_row0_col7,#T_bceae_row1_col1,#T_bceae_row5_col5{\n",
       "            background-color:  #fef6fa;\n",
       "            color:  #000000;\n",
       "        }#T_bceae_row2_col0,#T_bceae_row2_col3,#T_bceae_row4_col4,#T_bceae_row5_col6,#T_bceae_row6_col7,#T_bceae_row9_col3,#T_bceae_row9_col7,#T_bceae_row11_col5{\n",
       "            background-color:  #f9f2f8;\n",
       "            color:  #000000;\n",
       "        }#T_bceae_row2_col1,#T_bceae_row6_col4,#T_bceae_row7_col0,#T_bceae_row10_col1{\n",
       "            background-color:  #faf3f9;\n",
       "            color:  #000000;\n",
       "        }#T_bceae_row2_col5,#T_bceae_row7_col5{\n",
       "            background-color:  #fef6fb;\n",
       "            color:  #000000;\n",
       "        }#T_bceae_row3_col1,#T_bceae_row8_col1,#T_bceae_row11_col4{\n",
       "            background-color:  #f2ecf5;\n",
       "            color:  #000000;\n",
       "        }#T_bceae_row3_col3,#T_bceae_row6_col1,#T_bceae_row6_col2,#T_bceae_row10_col7{\n",
       "            background-color:  #f6eff7;\n",
       "            color:  #000000;\n",
       "        }#T_bceae_row3_col4,#T_bceae_row4_col0,#T_bceae_row5_col0,#T_bceae_row9_col6{\n",
       "            background-color:  #fbf3f9;\n",
       "            color:  #000000;\n",
       "        }#T_bceae_row3_col5{\n",
       "            background-color:  #0d75b3;\n",
       "            color:  #f1f1f1;\n",
       "        }#T_bceae_row3_col6,#T_bceae_row5_col4,#T_bceae_row6_col3,#T_bceae_row6_col6,#T_bceae_row9_col4{\n",
       "            background-color:  #f3edf5;\n",
       "            color:  #000000;\n",
       "        }#T_bceae_row3_col7{\n",
       "            background-color:  #d1d2e6;\n",
       "            color:  #000000;\n",
       "        }#T_bceae_row4_col2,#T_bceae_row4_col6,#T_bceae_row8_col0,#T_bceae_row8_col4{\n",
       "            background-color:  #fcf4fa;\n",
       "            color:  #000000;\n",
       "        }#T_bceae_row4_col3,#T_bceae_row11_col0,#T_bceae_row11_col6,#T_bceae_row11_col7{\n",
       "            background-color:  #f5eff6;\n",
       "            color:  #000000;\n",
       "        }#T_bceae_row5_col1{\n",
       "            background-color:  #eae6f1;\n",
       "            color:  #000000;\n",
       "        }#T_bceae_row5_col2,#T_bceae_row8_col6{\n",
       "            background-color:  #f4eef6;\n",
       "            color:  #000000;\n",
       "        }#T_bceae_row5_col3,#T_bceae_row8_col7{\n",
       "            background-color:  #f7f0f7;\n",
       "            color:  #000000;\n",
       "        }#T_bceae_row5_col7,#T_bceae_row7_col4,#T_bceae_row8_col5,#T_bceae_row9_col0,#T_bceae_row9_col2{\n",
       "            background-color:  #f8f1f8;\n",
       "            color:  #000000;\n",
       "        }#T_bceae_row6_col0,#T_bceae_row10_col2,#T_bceae_row11_col1{\n",
       "            background-color:  #f5eef6;\n",
       "            color:  #000000;\n",
       "        }#T_bceae_row7_col2,#T_bceae_row7_col3{\n",
       "            background-color:  #ede8f3;\n",
       "            color:  #000000;\n",
       "        }#T_bceae_row7_col7{\n",
       "            background-color:  #faf2f8;\n",
       "            color:  #000000;\n",
       "        }#T_bceae_row8_col2,#T_bceae_row9_col1{\n",
       "            background-color:  #f0eaf4;\n",
       "            color:  #000000;\n",
       "        }#T_bceae_row8_col3,#T_bceae_row11_col2{\n",
       "            background-color:  #ede7f2;\n",
       "            color:  #000000;\n",
       "        }#T_bceae_row10_col0{\n",
       "            background-color:  #f1ebf5;\n",
       "            color:  #000000;\n",
       "        }#T_bceae_row10_col3{\n",
       "            background-color:  #dedcec;\n",
       "            color:  #000000;\n",
       "        }#T_bceae_row10_col4{\n",
       "            background-color:  #f4edf6;\n",
       "            color:  #000000;\n",
       "        }#T_bceae_row11_col3{\n",
       "            background-color:  #eee9f3;\n",
       "            color:  #000000;\n",
       "        }#T_bceae_row12_col0,#T_bceae_row12_col1,#T_bceae_row12_col2,#T_bceae_row12_col3,#T_bceae_row12_col4,#T_bceae_row12_col5,#T_bceae_row12_col6,#T_bceae_row12_col7{\n",
       "            background-color:  #023858;\n",
       "            color:  #f1f1f1;\n",
       "        }</style><table id=\"T_bceae_\" ><thead>    <tr>        <th class=\"index_name level0\" >dayofweek</th>        <th class=\"col_heading level0 col0\" >Friday</th>        <th class=\"col_heading level0 col1\" >Monday</th>        <th class=\"col_heading level0 col2\" >Saturday</th>        <th class=\"col_heading level0 col3\" >Sunday</th>        <th class=\"col_heading level0 col4\" >Thursday</th>        <th class=\"col_heading level0 col5\" >Tuesday</th>        <th class=\"col_heading level0 col6\" >Wednesday</th>        <th class=\"col_heading level0 col7\" >All</th>    </tr>    <tr>        <th class=\"index_name level0\" >Month</th>        <th class=\"blank\" ></th>        <th class=\"blank\" ></th>        <th class=\"blank\" ></th>        <th class=\"blank\" ></th>        <th class=\"blank\" ></th>        <th class=\"blank\" ></th>        <th class=\"blank\" ></th>        <th class=\"blank\" ></th>    </tr></thead><tbody>\n",
       "                <tr>\n",
       "                        <th id=\"T_bceae_level0_row0\" class=\"row_heading level0 row0\" >1</th>\n",
       "                        <td id=\"T_bceae_row0_col0\" class=\"data row0 col0\" >39</td>\n",
       "                        <td id=\"T_bceae_row0_col1\" class=\"data row0 col1\" >7</td>\n",
       "                        <td id=\"T_bceae_row0_col2\" class=\"data row0 col2\" >13</td>\n",
       "                        <td id=\"T_bceae_row0_col3\" class=\"data row0 col3\" >8</td>\n",
       "                        <td id=\"T_bceae_row0_col4\" class=\"data row0 col4\" >14</td>\n",
       "                        <td id=\"T_bceae_row0_col5\" class=\"data row0 col5\" >10</td>\n",
       "                        <td id=\"T_bceae_row0_col6\" class=\"data row0 col6\" >25</td>\n",
       "                        <td id=\"T_bceae_row0_col7\" class=\"data row0 col7\" >116</td>\n",
       "            </tr>\n",
       "            <tr>\n",
       "                        <th id=\"T_bceae_level0_row1\" class=\"row_heading level0 row1\" >2</th>\n",
       "                        <td id=\"T_bceae_row1_col0\" class=\"data row1 col0\" >25</td>\n",
       "                        <td id=\"T_bceae_row1_col1\" class=\"data row1 col1\" >9</td>\n",
       "                        <td id=\"T_bceae_row1_col2\" class=\"data row1 col2\" >9</td>\n",
       "                        <td id=\"T_bceae_row1_col3\" class=\"data row1 col3\" >2</td>\n",
       "                        <td id=\"T_bceae_row1_col4\" class=\"data row1 col4\" >20</td>\n",
       "                        <td id=\"T_bceae_row1_col5\" class=\"data row1 col5\" >9</td>\n",
       "                        <td id=\"T_bceae_row1_col6\" class=\"data row1 col6\" >18</td>\n",
       "                        <td id=\"T_bceae_row1_col7\" class=\"data row1 col7\" >92</td>\n",
       "            </tr>\n",
       "            <tr>\n",
       "                        <th id=\"T_bceae_level0_row2\" class=\"row_heading level0 row2\" >3</th>\n",
       "                        <td id=\"T_bceae_row2_col0\" class=\"data row2 col0\" >46</td>\n",
       "                        <td id=\"T_bceae_row2_col1\" class=\"data row2 col1\" >15</td>\n",
       "                        <td id=\"T_bceae_row2_col2\" class=\"data row2 col2\" >10</td>\n",
       "                        <td id=\"T_bceae_row2_col3\" class=\"data row2 col3\" >12</td>\n",
       "                        <td id=\"T_bceae_row2_col4\" class=\"data row2 col4\" >22</td>\n",
       "                        <td id=\"T_bceae_row2_col5\" class=\"data row2 col5\" >12</td>\n",
       "                        <td id=\"T_bceae_row2_col6\" class=\"data row2 col6\" >18</td>\n",
       "                        <td id=\"T_bceae_row2_col7\" class=\"data row2 col7\" >135</td>\n",
       "            </tr>\n",
       "            <tr>\n",
       "                        <th id=\"T_bceae_level0_row3\" class=\"row_heading level0 row3\" >4</th>\n",
       "                        <td id=\"T_bceae_row3_col0\" class=\"data row3 col0\" >38</td>\n",
       "                        <td id=\"T_bceae_row3_col1\" class=\"data row3 col1\" >27</td>\n",
       "                        <td id=\"T_bceae_row3_col2\" class=\"data row3 col2\" >9</td>\n",
       "                        <td id=\"T_bceae_row3_col3\" class=\"data row3 col3\" >17</td>\n",
       "                        <td id=\"T_bceae_row3_col4\" class=\"data row3 col4\" >24</td>\n",
       "                        <td id=\"T_bceae_row3_col5\" class=\"data row3 col5\" >628</td>\n",
       "                        <td id=\"T_bceae_row3_col6\" class=\"data row3 col6\" >47</td>\n",
       "                        <td id=\"T_bceae_row3_col7\" class=\"data row3 col7\" >790</td>\n",
       "            </tr>\n",
       "            <tr>\n",
       "                        <th id=\"T_bceae_level0_row4\" class=\"row_heading level0 row4\" >5</th>\n",
       "                        <td id=\"T_bceae_row4_col0\" class=\"data row4 col0\" >41</td>\n",
       "                        <td id=\"T_bceae_row4_col1\" class=\"data row4 col1\" >11</td>\n",
       "                        <td id=\"T_bceae_row4_col2\" class=\"data row4 col2\" >15</td>\n",
       "                        <td id=\"T_bceae_row4_col3\" class=\"data row4 col3\" >18</td>\n",
       "                        <td id=\"T_bceae_row4_col4\" class=\"data row4 col4\" >27</td>\n",
       "                        <td id=\"T_bceae_row4_col5\" class=\"data row4 col5\" >23</td>\n",
       "                        <td id=\"T_bceae_row4_col6\" class=\"data row4 col6\" >26</td>\n",
       "                        <td id=\"T_bceae_row4_col7\" class=\"data row4 col7\" >161</td>\n",
       "            </tr>\n",
       "            <tr>\n",
       "                        <th id=\"T_bceae_level0_row5\" class=\"row_heading level0 row5\" >6</th>\n",
       "                        <td id=\"T_bceae_row5_col0\" class=\"data row5 col0\" >41</td>\n",
       "                        <td id=\"T_bceae_row5_col1\" class=\"data row5 col1\" >38</td>\n",
       "                        <td id=\"T_bceae_row5_col2\" class=\"data row5 col2\" >28</td>\n",
       "                        <td id=\"T_bceae_row5_col3\" class=\"data row5 col3\" >16</td>\n",
       "                        <td id=\"T_bceae_row5_col4\" class=\"data row5 col4\" >40</td>\n",
       "                        <td id=\"T_bceae_row5_col5\" class=\"data row5 col5\" >17</td>\n",
       "                        <td id=\"T_bceae_row5_col6\" class=\"data row5 col6\" >33</td>\n",
       "                        <td id=\"T_bceae_row5_col7\" class=\"data row5 col7\" >213</td>\n",
       "            </tr>\n",
       "            <tr>\n",
       "                        <th id=\"T_bceae_level0_row6\" class=\"row_heading level0 row6\" >7</th>\n",
       "                        <td id=\"T_bceae_row6_col0\" class=\"data row6 col0\" >61</td>\n",
       "                        <td id=\"T_bceae_row6_col1\" class=\"data row6 col1\" >21</td>\n",
       "                        <td id=\"T_bceae_row6_col2\" class=\"data row6 col2\" >25</td>\n",
       "                        <td id=\"T_bceae_row6_col3\" class=\"data row6 col3\" >22</td>\n",
       "                        <td id=\"T_bceae_row6_col4\" class=\"data row6 col4\" >25</td>\n",
       "                        <td id=\"T_bceae_row6_col5\" class=\"data row6 col5\" >8</td>\n",
       "                        <td id=\"T_bceae_row6_col6\" class=\"data row6 col6\" >47</td>\n",
       "                        <td id=\"T_bceae_row6_col7\" class=\"data row6 col7\" >209</td>\n",
       "            </tr>\n",
       "            <tr>\n",
       "                        <th id=\"T_bceae_level0_row7\" class=\"row_heading level0 row7\" >8</th>\n",
       "                        <td id=\"T_bceae_row7_col0\" class=\"data row7 col0\" >42</td>\n",
       "                        <td id=\"T_bceae_row7_col1\" class=\"data row7 col1\" >13</td>\n",
       "                        <td id=\"T_bceae_row7_col2\" class=\"data row7 col2\" >41</td>\n",
       "                        <td id=\"T_bceae_row7_col3\" class=\"data row7 col3\" >31</td>\n",
       "                        <td id=\"T_bceae_row7_col4\" class=\"data row7 col4\" >29</td>\n",
       "                        <td id=\"T_bceae_row7_col5\" class=\"data row7 col5\" >12</td>\n",
       "                        <td id=\"T_bceae_row7_col6\" class=\"data row7 col6\" >28</td>\n",
       "                        <td id=\"T_bceae_row7_col7\" class=\"data row7 col7\" >196</td>\n",
       "            </tr>\n",
       "            <tr>\n",
       "                        <th id=\"T_bceae_level0_row8\" class=\"row_heading level0 row8\" >9</th>\n",
       "                        <td id=\"T_bceae_row8_col0\" class=\"data row8 col0\" >37</td>\n",
       "                        <td id=\"T_bceae_row8_col1\" class=\"data row8 col1\" >26</td>\n",
       "                        <td id=\"T_bceae_row8_col2\" class=\"data row8 col2\" >36</td>\n",
       "                        <td id=\"T_bceae_row8_col3\" class=\"data row8 col3\" >32</td>\n",
       "                        <td id=\"T_bceae_row8_col4\" class=\"data row8 col4\" >21</td>\n",
       "                        <td id=\"T_bceae_row8_col5\" class=\"data row8 col5\" >45</td>\n",
       "                        <td id=\"T_bceae_row8_col6\" class=\"data row8 col6\" >44</td>\n",
       "                        <td id=\"T_bceae_row8_col7\" class=\"data row8 col7\" >241</td>\n",
       "            </tr>\n",
       "            <tr>\n",
       "                        <th id=\"T_bceae_level0_row9\" class=\"row_heading level0 row9\" >10</th>\n",
       "                        <td id=\"T_bceae_row9_col0\" class=\"data row9 col0\" >48</td>\n",
       "                        <td id=\"T_bceae_row9_col1\" class=\"data row9 col1\" >31</td>\n",
       "                        <td id=\"T_bceae_row9_col2\" class=\"data row9 col2\" >22</td>\n",
       "                        <td id=\"T_bceae_row9_col3\" class=\"data row9 col3\" >12</td>\n",
       "                        <td id=\"T_bceae_row9_col4\" class=\"data row9 col4\" >40</td>\n",
       "                        <td id=\"T_bceae_row9_col5\" class=\"data row9 col5\" >22</td>\n",
       "                        <td id=\"T_bceae_row9_col6\" class=\"data row9 col6\" >29</td>\n",
       "                        <td id=\"T_bceae_row9_col7\" class=\"data row9 col7\" >204</td>\n",
       "            </tr>\n",
       "            <tr>\n",
       "                        <th id=\"T_bceae_level0_row10\" class=\"row_heading level0 row10\" >11</th>\n",
       "                        <td id=\"T_bceae_row10_col0\" class=\"data row10 col0\" >74</td>\n",
       "                        <td id=\"T_bceae_row10_col1\" class=\"data row10 col1\" >15</td>\n",
       "                        <td id=\"T_bceae_row10_col2\" class=\"data row10 col2\" >27</td>\n",
       "                        <td id=\"T_bceae_row10_col3\" class=\"data row10 col3\" >48</td>\n",
       "                        <td id=\"T_bceae_row10_col4\" class=\"data row10 col4\" >39</td>\n",
       "                        <td id=\"T_bceae_row10_col5\" class=\"data row10 col5\" >30</td>\n",
       "                        <td id=\"T_bceae_row10_col6\" class=\"data row10 col6\" >28</td>\n",
       "                        <td id=\"T_bceae_row10_col7\" class=\"data row10 col7\" >261</td>\n",
       "            </tr>\n",
       "            <tr>\n",
       "                        <th id=\"T_bceae_level0_row11\" class=\"row_heading level0 row11\" >12</th>\n",
       "                        <td id=\"T_bceae_row11_col0\" class=\"data row11 col0\" >58</td>\n",
       "                        <td id=\"T_bceae_row11_col1\" class=\"data row11 col1\" >23</td>\n",
       "                        <td id=\"T_bceae_row11_col2\" class=\"data row11 col2\" >42</td>\n",
       "                        <td id=\"T_bceae_row11_col3\" class=\"data row11 col3\" >29</td>\n",
       "                        <td id=\"T_bceae_row11_col4\" class=\"data row11 col4\" >41</td>\n",
       "                        <td id=\"T_bceae_row11_col5\" class=\"data row11 col5\" >43</td>\n",
       "                        <td id=\"T_bceae_row11_col6\" class=\"data row11 col6\" >41</td>\n",
       "                        <td id=\"T_bceae_row11_col7\" class=\"data row11 col7\" >277</td>\n",
       "            </tr>\n",
       "            <tr>\n",
       "                        <th id=\"T_bceae_level0_row12\" class=\"row_heading level0 row12\" >All</th>\n",
       "                        <td id=\"T_bceae_row12_col0\" class=\"data row12 col0\" >550</td>\n",
       "                        <td id=\"T_bceae_row12_col1\" class=\"data row12 col1\" >236</td>\n",
       "                        <td id=\"T_bceae_row12_col2\" class=\"data row12 col2\" >277</td>\n",
       "                        <td id=\"T_bceae_row12_col3\" class=\"data row12 col3\" >247</td>\n",
       "                        <td id=\"T_bceae_row12_col4\" class=\"data row12 col4\" >342</td>\n",
       "                        <td id=\"T_bceae_row12_col5\" class=\"data row12 col5\" >859</td>\n",
       "                        <td id=\"T_bceae_row12_col6\" class=\"data row12 col6\" >384</td>\n",
       "                        <td id=\"T_bceae_row12_col7\" class=\"data row12 col7\" >2895</td>\n",
       "            </tr>\n",
       "    </tbody></table>"
      ],
      "text/plain": [
       "<pandas.io.formats.style.Styler at 0x292837fda00>"
      ]
     },
     "execution_count": 64,
     "metadata": {},
     "output_type": "execute_result"
    }
   ],
   "source": [
    "month_day=pd.crosstab(netflix['Month'],netflix['dayofweek'],margins=True).style.background_gradient(cmap='PuBu')\n",
    "month_day"
   ]
  },
  {
   "cell_type": "markdown",
   "id": "0564318e",
   "metadata": {},
   "source": [
    " - 결과를 보면 넷플릭스의 컨텐츠 출시 요일은 목요일과 금요일이 압도적이다. 그럼 다음 그래프에선 출시 요일별 viewpoint를 한번 보도록하자"
   ]
  },
  {
   "cell_type": "code",
   "execution_count": 61,
   "id": "929ea0b0",
   "metadata": {
    "ExecuteTime": {
     "end_time": "2021-07-12T13:26:24.710735Z",
     "start_time": "2021-07-12T13:26:24.699763Z"
    }
   },
   "outputs": [
    {
     "data": {
      "text/html": [
       "<div>\n",
       "<style scoped>\n",
       "    .dataframe tbody tr th:only-of-type {\n",
       "        vertical-align: middle;\n",
       "    }\n",
       "\n",
       "    .dataframe tbody tr th {\n",
       "        vertical-align: top;\n",
       "    }\n",
       "\n",
       "    .dataframe thead th {\n",
       "        text-align: right;\n",
       "    }\n",
       "</style>\n",
       "<table border=\"1\" class=\"dataframe\">\n",
       "  <thead>\n",
       "    <tr style=\"text-align: right;\">\n",
       "      <th></th>\n",
       "      <th>Value</th>\n",
       "      <th>Year</th>\n",
       "      <th>Month</th>\n",
       "      <th>Day</th>\n",
       "    </tr>\n",
       "  </thead>\n",
       "  <tbody>\n",
       "    <tr>\n",
       "      <th>Value</th>\n",
       "      <td>1.000000</td>\n",
       "      <td>0.110347</td>\n",
       "      <td>0.045801</td>\n",
       "      <td>0.013298</td>\n",
       "    </tr>\n",
       "    <tr>\n",
       "      <th>Year</th>\n",
       "      <td>0.110347</td>\n",
       "      <td>1.000000</td>\n",
       "      <td>0.330482</td>\n",
       "      <td>0.063851</td>\n",
       "    </tr>\n",
       "    <tr>\n",
       "      <th>Month</th>\n",
       "      <td>0.045801</td>\n",
       "      <td>0.330482</td>\n",
       "      <td>1.000000</td>\n",
       "      <td>0.008355</td>\n",
       "    </tr>\n",
       "    <tr>\n",
       "      <th>Day</th>\n",
       "      <td>0.013298</td>\n",
       "      <td>0.063851</td>\n",
       "      <td>0.008355</td>\n",
       "      <td>1.000000</td>\n",
       "    </tr>\n",
       "  </tbody>\n",
       "</table>\n",
       "</div>"
      ],
      "text/plain": [
       "          Value      Year     Month       Day\n",
       "Value  1.000000  0.110347  0.045801  0.013298\n",
       "Year   0.110347  1.000000  0.330482  0.063851\n",
       "Month  0.045801  0.330482  1.000000  0.008355\n",
       "Day    0.013298  0.063851  0.008355  1.000000"
      ]
     },
     "execution_count": 61,
     "metadata": {},
     "output_type": "execute_result"
    }
   ],
   "source": []
  },
  {
   "cell_type": "code",
   "execution_count": null,
   "id": "d9bf3250",
   "metadata": {},
   "outputs": [],
   "source": []
  }
 ],
 "metadata": {
  "hide_input": false,
  "kernelspec": {
   "display_name": "Python 3",
   "language": "python",
   "name": "python3"
  },
  "language_info": {
   "codemirror_mode": {
    "name": "ipython",
    "version": 3
   },
   "file_extension": ".py",
   "mimetype": "text/x-python",
   "name": "python",
   "nbconvert_exporter": "python",
   "pygments_lexer": "ipython3",
   "version": "3.8.8"
  },
  "toc": {
   "base_numbering": 1,
   "nav_menu": {},
   "number_sections": true,
   "sideBar": true,
   "skip_h1_title": false,
   "title_cell": "Table of Contents",
   "title_sidebar": "Contents",
   "toc_cell": false,
   "toc_position": {},
   "toc_section_display": true,
   "toc_window_display": false
  },
  "varInspector": {
   "cols": {
    "lenName": 16,
    "lenType": 16,
    "lenVar": 40
   },
   "kernels_config": {
    "python": {
     "delete_cmd_postfix": "",
     "delete_cmd_prefix": "del ",
     "library": "var_list.py",
     "varRefreshCmd": "print(var_dic_list())"
    },
    "r": {
     "delete_cmd_postfix": ") ",
     "delete_cmd_prefix": "rm(",
     "library": "var_list.r",
     "varRefreshCmd": "cat(var_dic_list()) "
    }
   },
   "types_to_exclude": [
    "module",
    "function",
    "builtin_function_or_method",
    "instance",
    "_Feature"
   ],
   "window_display": false
  }
 },
 "nbformat": 4,
 "nbformat_minor": 5
}
