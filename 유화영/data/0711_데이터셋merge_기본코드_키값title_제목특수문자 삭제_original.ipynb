{
 "cells": [
  {
   "cell_type": "markdown",
   "metadata": {
    "id": "S3GYyaDoD_NL"
   },
   "source": [
    "# 데이터셋 머지 실행"
   ]
  },
  {
   "cell_type": "code",
   "execution_count": 1,
   "metadata": {
    "ExecuteTime": {
     "end_time": "2021-07-11T08:29:01.008970Z",
     "start_time": "2021-07-11T08:29:00.707039Z"
    },
    "id": "71iN5rEjd77x"
   },
   "outputs": [],
   "source": [
    "import pandas as pd"
   ]
  },
  {
   "cell_type": "code",
   "execution_count": 2,
   "metadata": {
    "ExecuteTime": {
     "end_time": "2021-07-11T08:29:02.850871Z",
     "start_time": "2021-07-11T08:29:01.947173Z"
    },
    "id": "AmzuVtQCfhkG"
   },
   "outputs": [],
   "source": [
    "flix= pd.read_excel('./1. flixpatrol_1.xlsx')\n",
    "netflix = pd.read_csv('./1.original_rotten_neflix.csv')"
   ]
  },
  {
   "cell_type": "markdown",
   "metadata": {
    "id": "Cknk_vXP_s37"
   },
   "source": [
    "## 데이터 확인"
   ]
  },
  {
   "cell_type": "code",
   "execution_count": 3,
   "metadata": {
    "ExecuteTime": {
     "end_time": "2021-07-11T08:29:04.312131Z",
     "start_time": "2021-07-11T08:29:04.299615Z"
    },
    "id": "hhGwNCIvyAgf"
   },
   "outputs": [
    {
     "data": {
      "text/plain": [
       "#             0\n",
       "TITLE         0\n",
       "TYPE          0\n",
       "COUNTRY     298\n",
       "RELEASE      90\n",
       "GENRE       547\n",
       "COMPANY    1794\n",
       "VALUE         0\n",
       "dtype: int64"
      ]
     },
     "execution_count": 3,
     "metadata": {},
     "output_type": "execute_result"
    }
   ],
   "source": [
    "flix.isnull().sum()"
   ]
  },
  {
   "cell_type": "code",
   "execution_count": 4,
   "metadata": {
    "ExecuteTime": {
     "end_time": "2021-07-11T08:29:05.092371Z",
     "start_time": "2021-07-11T08:29:05.081451Z"
    },
    "id": "hob8l7Mn7zCK"
   },
   "outputs": [
    {
     "data": {
      "text/html": [
       "<div>\n",
       "<style scoped>\n",
       "    .dataframe tbody tr th:only-of-type {\n",
       "        vertical-align: middle;\n",
       "    }\n",
       "\n",
       "    .dataframe tbody tr th {\n",
       "        vertical-align: top;\n",
       "    }\n",
       "\n",
       "    .dataframe thead th {\n",
       "        text-align: right;\n",
       "    }\n",
       "</style>\n",
       "<table border=\"1\" class=\"dataframe\">\n",
       "  <thead>\n",
       "    <tr style=\"text-align: right;\">\n",
       "      <th></th>\n",
       "      <th>#</th>\n",
       "      <th>TITLE</th>\n",
       "      <th>TYPE</th>\n",
       "      <th>COUNTRY</th>\n",
       "      <th>RELEASE</th>\n",
       "      <th>GENRE</th>\n",
       "      <th>COMPANY</th>\n",
       "      <th>VALUE</th>\n",
       "    </tr>\n",
       "  </thead>\n",
       "  <tbody>\n",
       "    <tr>\n",
       "      <th>0</th>\n",
       "      <td>0</td>\n",
       "      <td>The Queens Gambit</td>\n",
       "      <td>TV</td>\n",
       "      <td>United States</td>\n",
       "      <td>2020-10-23</td>\n",
       "      <td>Drama</td>\n",
       "      <td>Netflix</td>\n",
       "      <td>44867</td>\n",
       "    </tr>\n",
       "  </tbody>\n",
       "</table>\n",
       "</div>"
      ],
      "text/plain": [
       "   #              TITLE TYPE        COUNTRY    RELEASE  GENRE  COMPANY  VALUE\n",
       "0  0  The Queens Gambit   TV  United States 2020-10-23  Drama  Netflix  44867"
      ]
     },
     "execution_count": 4,
     "metadata": {},
     "output_type": "execute_result"
    }
   ],
   "source": [
    "flix.head(1)"
   ]
  },
  {
   "cell_type": "code",
   "execution_count": 5,
   "metadata": {
    "ExecuteTime": {
     "end_time": "2021-07-11T08:29:05.683781Z",
     "start_time": "2021-07-11T08:29:05.662731Z"
    },
    "id": "k9n8Rh2zADNK"
   },
   "outputs": [
    {
     "data": {
      "text/plain": [
       "Title                        0\n",
       "Genre                     1710\n",
       "Tags                        67\n",
       "Languages                 1935\n",
       "Series or Movie              0\n",
       "Hidden Gem Score          2101\n",
       "Country Availability        19\n",
       "Runtime                      1\n",
       "Director                  4708\n",
       "Writer                    4330\n",
       "Actors                    1925\n",
       "View Rating               7024\n",
       "IMDb Score                2099\n",
       "Rotten Tomatoes Score     9098\n",
       "Metacritic Score         11144\n",
       "Awards Received           9405\n",
       "Awards Nominated For      7819\n",
       "Boxoffice                11473\n",
       "Release Date              2107\n",
       "Netflix Release Date         0\n",
       "Production House         10331\n",
       "Netflix Link                 0\n",
       "IMDb Link                 2303\n",
       "Summary                      9\n",
       "IMDb Votes                2101\n",
       "Image                        0\n",
       "Poster                    3638\n",
       "TMDb Trailer              8286\n",
       "Trailer Site              8286\n",
       "dtype: int64"
      ]
     },
     "execution_count": 5,
     "metadata": {},
     "output_type": "execute_result"
    }
   ],
   "source": [
    "netflix.isnull().sum()"
   ]
  },
  {
   "cell_type": "code",
   "execution_count": 6,
   "metadata": {
    "ExecuteTime": {
     "end_time": "2021-07-11T08:29:06.591358Z",
     "start_time": "2021-07-11T08:29:06.570110Z"
    },
    "id": "x_9eoSyEAG1p"
   },
   "outputs": [
    {
     "data": {
      "text/html": [
       "<div>\n",
       "<style scoped>\n",
       "    .dataframe tbody tr th:only-of-type {\n",
       "        vertical-align: middle;\n",
       "    }\n",
       "\n",
       "    .dataframe tbody tr th {\n",
       "        vertical-align: top;\n",
       "    }\n",
       "\n",
       "    .dataframe thead th {\n",
       "        text-align: right;\n",
       "    }\n",
       "</style>\n",
       "<table border=\"1\" class=\"dataframe\">\n",
       "  <thead>\n",
       "    <tr style=\"text-align: right;\">\n",
       "      <th></th>\n",
       "      <th>Title</th>\n",
       "      <th>Genre</th>\n",
       "      <th>Tags</th>\n",
       "      <th>Languages</th>\n",
       "      <th>Series or Movie</th>\n",
       "      <th>Hidden Gem Score</th>\n",
       "      <th>Country Availability</th>\n",
       "      <th>Runtime</th>\n",
       "      <th>Director</th>\n",
       "      <th>Writer</th>\n",
       "      <th>...</th>\n",
       "      <th>Netflix Release Date</th>\n",
       "      <th>Production House</th>\n",
       "      <th>Netflix Link</th>\n",
       "      <th>IMDb Link</th>\n",
       "      <th>Summary</th>\n",
       "      <th>IMDb Votes</th>\n",
       "      <th>Image</th>\n",
       "      <th>Poster</th>\n",
       "      <th>TMDb Trailer</th>\n",
       "      <th>Trailer Site</th>\n",
       "    </tr>\n",
       "  </thead>\n",
       "  <tbody>\n",
       "    <tr>\n",
       "      <th>0</th>\n",
       "      <td>12 Monkeys</td>\n",
       "      <td>Adventure, Drama, Mystery, Sci-Fi, Thriller</td>\n",
       "      <td>TV Sci-Fi &amp; Fantasy,TV Dramas,TV Shows,TV Myst...</td>\n",
       "      <td>English, French, German, Chechen, Japanese, Czech</td>\n",
       "      <td>Series</td>\n",
       "      <td>3.9</td>\n",
       "      <td>Russia,Lithuania,Romania,Israel,India,Greece</td>\n",
       "      <td>&lt; 30 minutes</td>\n",
       "      <td>NaN</td>\n",
       "      <td>Travis Fickett, Terry Matalas</td>\n",
       "      <td>...</td>\n",
       "      <td>2015.11.17</td>\n",
       "      <td>NaN</td>\n",
       "      <td>https://www.netflix.com/watch/80029823</td>\n",
       "      <td>https://www.imdb.com/title/tt3148266</td>\n",
       "      <td>In a post-apocalyptic future, a time traveler ...</td>\n",
       "      <td>40535.0</td>\n",
       "      <td>https://occ-0-2851-38.1.nflxso.net/dnm/api/v6/...</td>\n",
       "      <td>https://images-na.ssl-images-amazon.com/images...</td>\n",
       "      <td>NaN</td>\n",
       "      <td>NaN</td>\n",
       "    </tr>\n",
       "  </tbody>\n",
       "</table>\n",
       "<p>1 rows × 29 columns</p>\n",
       "</div>"
      ],
      "text/plain": [
       "        Title                                        Genre  \\\n",
       "0  12 Monkeys  Adventure, Drama, Mystery, Sci-Fi, Thriller   \n",
       "\n",
       "                                                Tags  \\\n",
       "0  TV Sci-Fi & Fantasy,TV Dramas,TV Shows,TV Myst...   \n",
       "\n",
       "                                           Languages Series or Movie  \\\n",
       "0  English, French, German, Chechen, Japanese, Czech          Series   \n",
       "\n",
       "   Hidden Gem Score                          Country Availability  \\\n",
       "0               3.9  Russia,Lithuania,Romania,Israel,India,Greece   \n",
       "\n",
       "        Runtime Director                         Writer  ...  \\\n",
       "0  < 30 minutes      NaN  Travis Fickett, Terry Matalas  ...   \n",
       "\n",
       "  Netflix Release Date Production House  \\\n",
       "0           2015.11.17              NaN   \n",
       "\n",
       "                             Netflix Link  \\\n",
       "0  https://www.netflix.com/watch/80029823   \n",
       "\n",
       "                              IMDb Link  \\\n",
       "0  https://www.imdb.com/title/tt3148266   \n",
       "\n",
       "                                             Summary  IMDb Votes  \\\n",
       "0  In a post-apocalyptic future, a time traveler ...     40535.0   \n",
       "\n",
       "                                               Image  \\\n",
       "0  https://occ-0-2851-38.1.nflxso.net/dnm/api/v6/...   \n",
       "\n",
       "                                              Poster TMDb Trailer Trailer Site  \n",
       "0  https://images-na.ssl-images-amazon.com/images...          NaN          NaN  \n",
       "\n",
       "[1 rows x 29 columns]"
      ]
     },
     "execution_count": 6,
     "metadata": {},
     "output_type": "execute_result"
    }
   ],
   "source": [
    "netflix.head(1)"
   ]
  },
  {
   "cell_type": "markdown",
   "metadata": {
    "id": "F64XK7Wb_2a3"
   },
   "source": [
    "## flix데이터 컬럼 정리"
   ]
  },
  {
   "cell_type": "code",
   "execution_count": 7,
   "metadata": {
    "ExecuteTime": {
     "end_time": "2021-07-11T08:29:07.902473Z",
     "start_time": "2021-07-11T08:29:07.899179Z"
    },
    "id": "sAlYIZp14yXt"
   },
   "outputs": [],
   "source": [
    "df_new_flix = flix.copy()"
   ]
  },
  {
   "cell_type": "code",
   "execution_count": 8,
   "metadata": {
    "ExecuteTime": {
     "end_time": "2021-07-11T08:29:09.389683Z",
     "start_time": "2021-07-11T08:29:09.382529Z"
    },
    "id": "yvKHRJzTg_f9"
   },
   "outputs": [
    {
     "data": {
      "text/plain": [
       "#             0\n",
       "TITLE         0\n",
       "TYPE          0\n",
       "COUNTRY     298\n",
       "RELEASE      90\n",
       "GENRE       547\n",
       "COMPANY    1794\n",
       "VALUE         0\n",
       "dtype: int64"
      ]
     },
     "execution_count": 8,
     "metadata": {},
     "output_type": "execute_result"
    }
   ],
   "source": [
    "df_new_flix.isnull().sum()"
   ]
  },
  {
   "cell_type": "code",
   "execution_count": 9,
   "metadata": {
    "ExecuteTime": {
     "end_time": "2021-07-11T08:29:11.172103Z",
     "start_time": "2021-07-11T08:29:11.161059Z"
    },
    "id": "UMKSQ3Fdf68a"
   },
   "outputs": [
    {
     "data": {
      "text/html": [
       "<div>\n",
       "<style scoped>\n",
       "    .dataframe tbody tr th:only-of-type {\n",
       "        vertical-align: middle;\n",
       "    }\n",
       "\n",
       "    .dataframe tbody tr th {\n",
       "        vertical-align: top;\n",
       "    }\n",
       "\n",
       "    .dataframe thead th {\n",
       "        text-align: right;\n",
       "    }\n",
       "</style>\n",
       "<table border=\"1\" class=\"dataframe\">\n",
       "  <thead>\n",
       "    <tr style=\"text-align: right;\">\n",
       "      <th></th>\n",
       "      <th>#</th>\n",
       "      <th>Title</th>\n",
       "      <th>Series or Movie</th>\n",
       "      <th>COUNTRY</th>\n",
       "      <th>Release Date</th>\n",
       "      <th>GENRE</th>\n",
       "      <th>COMPANY</th>\n",
       "      <th>VALUE</th>\n",
       "    </tr>\n",
       "  </thead>\n",
       "  <tbody>\n",
       "    <tr>\n",
       "      <th>0</th>\n",
       "      <td>0</td>\n",
       "      <td>The Queens Gambit</td>\n",
       "      <td>TV</td>\n",
       "      <td>United States</td>\n",
       "      <td>2020-10-23</td>\n",
       "      <td>Drama</td>\n",
       "      <td>Netflix</td>\n",
       "      <td>44867</td>\n",
       "    </tr>\n",
       "    <tr>\n",
       "      <th>1</th>\n",
       "      <td>1</td>\n",
       "      <td>365 Days</td>\n",
       "      <td>Movie</td>\n",
       "      <td>Poland</td>\n",
       "      <td>2020-06-07</td>\n",
       "      <td>Romance</td>\n",
       "      <td>NaN</td>\n",
       "      <td>42149</td>\n",
       "    </tr>\n",
       "  </tbody>\n",
       "</table>\n",
       "</div>"
      ],
      "text/plain": [
       "   #              Title Series or Movie        COUNTRY Release Date    GENRE  \\\n",
       "0  0  The Queens Gambit              TV  United States   2020-10-23    Drama   \n",
       "1  1           365 Days           Movie         Poland   2020-06-07  Romance   \n",
       "\n",
       "   COMPANY  VALUE  \n",
       "0  Netflix  44867  \n",
       "1      NaN  42149  "
      ]
     },
     "execution_count": 9,
     "metadata": {},
     "output_type": "execute_result"
    }
   ],
   "source": [
    "# 컬럼 이름 초기화\n",
    "df_new_flix.columns = ['#', 'Title', 'Series or Movie', 'COUNTRY', 'Release Date', 'GENRE', 'COMPANY','VALUE']\n",
    "df_new_flix.head(2)"
   ]
  },
  {
   "cell_type": "code",
   "execution_count": 10,
   "metadata": {
    "ExecuteTime": {
     "end_time": "2021-07-11T08:29:15.702939Z",
     "start_time": "2021-07-11T08:29:15.699153Z"
    },
    "id": "UCAXVVnt09ik"
   },
   "outputs": [],
   "source": [
    "df_new_flix.drop(columns = ['#','COMPANY'],axis =1,inplace=True)  # 랭킹 값과 정확하지 않은 제작사 컬럼 드랍"
   ]
  },
  {
   "cell_type": "code",
   "execution_count": 11,
   "metadata": {
    "ExecuteTime": {
     "end_time": "2021-07-11T08:29:17.145783Z",
     "start_time": "2021-07-11T08:29:17.135956Z"
    },
    "id": "eGww_frG1nai"
   },
   "outputs": [
    {
     "data": {
      "text/html": [
       "<div>\n",
       "<style scoped>\n",
       "    .dataframe tbody tr th:only-of-type {\n",
       "        vertical-align: middle;\n",
       "    }\n",
       "\n",
       "    .dataframe tbody tr th {\n",
       "        vertical-align: top;\n",
       "    }\n",
       "\n",
       "    .dataframe thead th {\n",
       "        text-align: right;\n",
       "    }\n",
       "</style>\n",
       "<table border=\"1\" class=\"dataframe\">\n",
       "  <thead>\n",
       "    <tr style=\"text-align: right;\">\n",
       "      <th></th>\n",
       "      <th>Title</th>\n",
       "      <th>Series or Movie</th>\n",
       "      <th>COUNTRY</th>\n",
       "      <th>Release Date</th>\n",
       "      <th>GENRE</th>\n",
       "      <th>VALUE</th>\n",
       "    </tr>\n",
       "  </thead>\n",
       "  <tbody>\n",
       "    <tr>\n",
       "      <th>0</th>\n",
       "      <td>The Queens Gambit</td>\n",
       "      <td>TV</td>\n",
       "      <td>United States</td>\n",
       "      <td>2020-10-23</td>\n",
       "      <td>Drama</td>\n",
       "      <td>44867</td>\n",
       "    </tr>\n",
       "    <tr>\n",
       "      <th>1</th>\n",
       "      <td>365 Days</td>\n",
       "      <td>Movie</td>\n",
       "      <td>Poland</td>\n",
       "      <td>2020-06-07</td>\n",
       "      <td>Romance</td>\n",
       "      <td>42149</td>\n",
       "    </tr>\n",
       "  </tbody>\n",
       "</table>\n",
       "</div>"
      ],
      "text/plain": [
       "               Title Series or Movie        COUNTRY Release Date    GENRE  \\\n",
       "0  The Queens Gambit              TV  United States   2020-10-23    Drama   \n",
       "1           365 Days           Movie         Poland   2020-06-07  Romance   \n",
       "\n",
       "   VALUE  \n",
       "0  44867  \n",
       "1  42149  "
      ]
     },
     "execution_count": 11,
     "metadata": {},
     "output_type": "execute_result"
    }
   ],
   "source": [
    "df_new_flix.head(2)"
   ]
  },
  {
   "cell_type": "markdown",
   "metadata": {
    "id": "4GNJu1bWAM1Q"
   },
   "source": [
    "## 데이터 인코딩"
   ]
  },
  {
   "cell_type": "code",
   "execution_count": 12,
   "metadata": {
    "ExecuteTime": {
     "end_time": "2021-07-11T08:29:24.577673Z",
     "start_time": "2021-07-11T08:29:24.566603Z"
    },
    "id": "6k9_9bZYBhw4"
   },
   "outputs": [
    {
     "data": {
      "text/plain": [
       "'TheQueensGambit'"
      ]
     },
     "execution_count": 12,
     "metadata": {},
     "output_type": "execute_result"
    }
   ],
   "source": [
    "df_new_flix['Title'] = df_new_flix['Title'].str.replace(pat=r'[^\\w]', repl=r'', regex=True)\n",
    "df_new_flix['Title'].iloc[0]"
   ]
  },
  {
   "cell_type": "code",
   "execution_count": 13,
   "metadata": {
    "ExecuteTime": {
     "end_time": "2021-07-11T08:29:29.345075Z",
     "start_time": "2021-07-11T08:29:29.330683Z"
    },
    "id": "KsT--L5V2uij"
   },
   "outputs": [],
   "source": [
    "df_new_flix['Release Date'] = pd.to_datetime(df_new_flix['Release Date'])\n",
    "netflix['Netflix Release Date'] = pd.to_datetime(netflix['Netflix Release Date'])"
   ]
  },
  {
   "cell_type": "code",
   "execution_count": 14,
   "metadata": {
    "ExecuteTime": {
     "end_time": "2021-07-11T08:29:31.939977Z",
     "start_time": "2021-07-11T08:29:31.910775Z"
    },
    "id": "BB134xpv_HrC"
   },
   "outputs": [
    {
     "data": {
      "text/plain": [
       "'12Monkeys'"
      ]
     },
     "execution_count": 14,
     "metadata": {},
     "output_type": "execute_result"
    }
   ],
   "source": [
    "netflix['Title'] = netflix['Title'].str.replace(pat=r'[^\\w]', repl=r'', regex=True)\n",
    "netflix['Title'].iloc[0]"
   ]
  },
  {
   "cell_type": "code",
   "execution_count": 15,
   "metadata": {
    "ExecuteTime": {
     "end_time": "2021-07-11T08:29:35.289548Z",
     "start_time": "2021-07-11T08:29:35.285540Z"
    },
    "id": "zTeDhOcmGDEy"
   },
   "outputs": [
    {
     "data": {
      "text/plain": [
       "'TheQueensGambit'"
      ]
     },
     "execution_count": 15,
     "metadata": {},
     "output_type": "execute_result"
    }
   ],
   "source": [
    "df_new_flix['Title'].iloc[0]"
   ]
  },
  {
   "cell_type": "code",
   "execution_count": 16,
   "metadata": {
    "ExecuteTime": {
     "end_time": "2021-07-11T08:29:44.771172Z",
     "start_time": "2021-07-11T08:29:37.625370Z"
    },
    "id": "2F3wXgFT2Spo"
   },
   "outputs": [
    {
     "name": "stderr",
     "output_type": "stream",
     "text": [
      "/Users/anaconda3/envs/tsa/lib/python3.9/site-packages/pandas/core/indexing.py:1637: SettingWithCopyWarning: \n",
      "A value is trying to be set on a copy of a slice from a DataFrame\n",
      "\n",
      "See the caveats in the documentation: https://pandas.pydata.org/pandas-docs/stable/user_guide/indexing.html#returning-a-view-versus-a-copy\n",
      "  self._setitem_single_block(indexer, value, name)\n"
     ]
    }
   ],
   "source": [
    "for i in range(len(df_new_flix['Title'])):\n",
    "    df_new_flix['Title'].iloc[i]= df_new_flix['Title'].iloc[i].lower()\n",
    "for i in range(len(netflix['Title'])):\n",
    "    netflix['Title'].iloc[i] = netflix['Title'].iloc[i].lower()"
   ]
  },
  {
   "cell_type": "code",
   "execution_count": 17,
   "metadata": {
    "ExecuteTime": {
     "end_time": "2021-07-11T08:29:46.000798Z",
     "start_time": "2021-07-11T08:29:45.994467Z"
    }
   },
   "outputs": [
    {
     "name": "stdout",
     "output_type": "stream",
     "text": [
      "0        False\n",
      "1         True\n",
      "2        False\n",
      "3         True\n",
      "4        False\n",
      "         ...  \n",
      "15475    False\n",
      "15476    False\n",
      "15477    False\n",
      "15478    False\n",
      "15479    False\n",
      "Name: Title, Length: 15480, dtype: bool\n"
     ]
    }
   ],
   "source": [
    "print(netflix.Title.duplicated())"
   ]
  },
  {
   "cell_type": "code",
   "execution_count": 18,
   "metadata": {
    "ExecuteTime": {
     "end_time": "2021-07-11T08:29:58.776166Z",
     "start_time": "2021-07-11T08:29:58.771161Z"
    }
   },
   "outputs": [
    {
     "name": "stdout",
     "output_type": "stream",
     "text": [
      "455\n",
      "\n"
     ]
    }
   ],
   "source": [
    "print(netflix.Title.duplicated().sum())\n",
    "print()"
   ]
  },
  {
   "cell_type": "code",
   "execution_count": 19,
   "metadata": {
    "ExecuteTime": {
     "end_time": "2021-07-11T08:30:05.278897Z",
     "start_time": "2021-07-11T08:30:05.225011Z"
    }
   },
   "outputs": [
    {
     "data": {
      "text/html": [
       "<div>\n",
       "<style scoped>\n",
       "    .dataframe tbody tr th:only-of-type {\n",
       "        vertical-align: middle;\n",
       "    }\n",
       "\n",
       "    .dataframe tbody tr th {\n",
       "        vertical-align: top;\n",
       "    }\n",
       "\n",
       "    .dataframe thead th {\n",
       "        text-align: right;\n",
       "    }\n",
       "</style>\n",
       "<table border=\"1\" class=\"dataframe\">\n",
       "  <thead>\n",
       "    <tr style=\"text-align: right;\">\n",
       "      <th></th>\n",
       "      <th>Title</th>\n",
       "      <th>Genre</th>\n",
       "      <th>Tags</th>\n",
       "      <th>Languages</th>\n",
       "      <th>Series or Movie</th>\n",
       "      <th>Hidden Gem Score</th>\n",
       "      <th>Country Availability</th>\n",
       "      <th>Runtime</th>\n",
       "      <th>Director</th>\n",
       "      <th>Writer</th>\n",
       "      <th>...</th>\n",
       "      <th>Netflix Release Date</th>\n",
       "      <th>Production House</th>\n",
       "      <th>Netflix Link</th>\n",
       "      <th>IMDb Link</th>\n",
       "      <th>Summary</th>\n",
       "      <th>IMDb Votes</th>\n",
       "      <th>Image</th>\n",
       "      <th>Poster</th>\n",
       "      <th>TMDb Trailer</th>\n",
       "      <th>Trailer Site</th>\n",
       "    </tr>\n",
       "  </thead>\n",
       "  <tbody>\n",
       "    <tr>\n",
       "      <th>0</th>\n",
       "      <td>12monkeys</td>\n",
       "      <td>Adventure, Drama, Mystery, Sci-Fi, Thriller</td>\n",
       "      <td>TV Sci-Fi &amp; Fantasy,TV Dramas,TV Shows,TV Myst...</td>\n",
       "      <td>English, French, German, Chechen, Japanese, Czech</td>\n",
       "      <td>Series</td>\n",
       "      <td>3.9</td>\n",
       "      <td>Russia,Lithuania,Romania,Israel,India,Greece</td>\n",
       "      <td>&lt; 30 minutes</td>\n",
       "      <td>NaN</td>\n",
       "      <td>Travis Fickett, Terry Matalas</td>\n",
       "      <td>...</td>\n",
       "      <td>2015-11-17</td>\n",
       "      <td>NaN</td>\n",
       "      <td>https://www.netflix.com/watch/80029823</td>\n",
       "      <td>https://www.imdb.com/title/tt3148266</td>\n",
       "      <td>In a post-apocalyptic future, a time traveler ...</td>\n",
       "      <td>40535.0</td>\n",
       "      <td>https://occ-0-2851-38.1.nflxso.net/dnm/api/v6/...</td>\n",
       "      <td>https://images-na.ssl-images-amazon.com/images...</td>\n",
       "      <td>NaN</td>\n",
       "      <td>NaN</td>\n",
       "    </tr>\n",
       "    <tr>\n",
       "      <th>2</th>\n",
       "      <td>abrideforripvanwinkle</td>\n",
       "      <td>Drama, Mystery, Romance</td>\n",
       "      <td>Dramas,Movies Based on Books</td>\n",
       "      <td>Japanese</td>\n",
       "      <td>Movie</td>\n",
       "      <td>7.7</td>\n",
       "      <td>Japan</td>\n",
       "      <td>&gt; 2 hrs</td>\n",
       "      <td>Shunji Iwai</td>\n",
       "      <td>Shunji Iwai</td>\n",
       "      <td>...</td>\n",
       "      <td>2019-11-15</td>\n",
       "      <td>NaN</td>\n",
       "      <td>https://www.netflix.com/watch/81210760</td>\n",
       "      <td>https://www.imdb.com/title/tt4671274</td>\n",
       "      <td>Worried that no one will attend her wedding, a...</td>\n",
       "      <td>1388.0</td>\n",
       "      <td>https://occ-0-1007-1360.1.nflxso.net/dnm/api/v...</td>\n",
       "      <td>https://m.media-amazon.com/images/M/MV5BMTI1MD...</td>\n",
       "      <td>https://www.youtube.com/watch?v=uhF5bqHTkA4</td>\n",
       "      <td>YouTube</td>\n",
       "    </tr>\n",
       "    <tr>\n",
       "      <th>4</th>\n",
       "      <td>alovesobeautiful</td>\n",
       "      <td>Comedy, Romance</td>\n",
       "      <td>TV Comedies,Romantic TV Comedies,Teen TV Shows...</td>\n",
       "      <td>Chinese</td>\n",
       "      <td>Series</td>\n",
       "      <td>8.6</td>\n",
       "      <td>Iceland,Canada,South Africa,Thailand,Singapore...</td>\n",
       "      <td>&lt; 30 minutes</td>\n",
       "      <td>NaN</td>\n",
       "      <td>NaN</td>\n",
       "      <td>...</td>\n",
       "      <td>2020-12-29</td>\n",
       "      <td>NaN</td>\n",
       "      <td>https://www.netflix.com/watch/81354739</td>\n",
       "      <td>https://www.imdb.com/title/tt8434720</td>\n",
       "      <td>Love is as tough as it is sweet for a lovestru...</td>\n",
       "      <td>989.0</td>\n",
       "      <td>https://occ-0-1222-1001.1.nflxso.net/dnm/api/v...</td>\n",
       "      <td>https://m.media-amazon.com/images/M/MV5BZTIyOT...</td>\n",
       "      <td>NaN</td>\n",
       "      <td>NaN</td>\n",
       "    </tr>\n",
       "    <tr>\n",
       "      <th>6</th>\n",
       "      <td>aperfectday</td>\n",
       "      <td>Comedy, Drama, War</td>\n",
       "      <td>Italian Dramas,Dramas,Italian Thrillers,Italia...</td>\n",
       "      <td>English, Serbian, Spanish, French, Bosnian</td>\n",
       "      <td>Movie</td>\n",
       "      <td>3.3</td>\n",
       "      <td>Italy</td>\n",
       "      <td>1-2 hour</td>\n",
       "      <td>Fernando León de Aranoa</td>\n",
       "      <td>Fernando León de Aranoa, Paula Farias, Diego F...</td>\n",
       "      <td>...</td>\n",
       "      <td>2020-11-30</td>\n",
       "      <td>Mediapro Pictures, Televisión Española (TVE), ...</td>\n",
       "      <td>https://www.netflix.com/watch/70109142</td>\n",
       "      <td>https://www.imdb.com/title/tt3577624</td>\n",
       "      <td>Bodyguard Antonio doesnt accept his wifes deci...</td>\n",
       "      <td>20595.0</td>\n",
       "      <td>https://occ-0-3466-3467.1.nflxso.net/dnm/api/v...</td>\n",
       "      <td>https://m.media-amazon.com/images/M/MV5BMTUwNj...</td>\n",
       "      <td>https://www.youtube.com/watch?v=I7-c66mbzXA</td>\n",
       "      <td>YouTube</td>\n",
       "    </tr>\n",
       "    <tr>\n",
       "      <th>8</th>\n",
       "      <td>astarisborn</td>\n",
       "      <td>Drama, Music, Romance</td>\n",
       "      <td>Dramas,Romantic Movies,Tearjerkers,Romantic Dr...</td>\n",
       "      <td>English</td>\n",
       "      <td>Movie</td>\n",
       "      <td>4.2</td>\n",
       "      <td>Canada,Thailand,Hong Kong,Spain,Singapore,Indi...</td>\n",
       "      <td>&gt; 2 hrs</td>\n",
       "      <td>Bradley Cooper</td>\n",
       "      <td>Bradley Cooper, Moss Hart, William A. Wellman,...</td>\n",
       "      <td>...</td>\n",
       "      <td>2019-08-03</td>\n",
       "      <td>Jon Peters/Bill Gerber/Joint Effort Production</td>\n",
       "      <td>https://www.netflix.com/watch/80221908</td>\n",
       "      <td>https://www.imdb.com/title/tt1517451</td>\n",
       "      <td>When an aspiring singer develops a passionate ...</td>\n",
       "      <td>335490.0</td>\n",
       "      <td>https://occ-0-1926-41.1.nflxso.net/dnm/api/v6/...</td>\n",
       "      <td>https://m.media-amazon.com/images/M/MV5BNmE5Zm...</td>\n",
       "      <td>https://www.youtube.com/watch?v=nSbzyEJ8X9E</td>\n",
       "      <td>YouTube</td>\n",
       "    </tr>\n",
       "    <tr>\n",
       "      <th>...</th>\n",
       "      <td>...</td>\n",
       "      <td>...</td>\n",
       "      <td>...</td>\n",
       "      <td>...</td>\n",
       "      <td>...</td>\n",
       "      <td>...</td>\n",
       "      <td>...</td>\n",
       "      <td>...</td>\n",
       "      <td>...</td>\n",
       "      <td>...</td>\n",
       "      <td>...</td>\n",
       "      <td>...</td>\n",
       "      <td>...</td>\n",
       "      <td>...</td>\n",
       "      <td>...</td>\n",
       "      <td>...</td>\n",
       "      <td>...</td>\n",
       "      <td>...</td>\n",
       "      <td>...</td>\n",
       "      <td>...</td>\n",
       "      <td>...</td>\n",
       "    </tr>\n",
       "    <tr>\n",
       "      <th>15475</th>\n",
       "      <td>zweiweihnachtsmänner</td>\n",
       "      <td>Comedy, Romance</td>\n",
       "      <td>TV Comedies,TV Programmes,German TV Programmes</td>\n",
       "      <td>German</td>\n",
       "      <td>Series</td>\n",
       "      <td>8.0</td>\n",
       "      <td>Switzerland,Germany</td>\n",
       "      <td>&lt; 30 minutes</td>\n",
       "      <td>Tobi Baumann</td>\n",
       "      <td>Tommy Jaud</td>\n",
       "      <td>...</td>\n",
       "      <td>2016-11-01</td>\n",
       "      <td>NaN</td>\n",
       "      <td>https://www.netflix.com/watch/80095696</td>\n",
       "      <td>https://www.imdb.com/title/tt1331016</td>\n",
       "      <td>A tough lawyer and a childish pool-noodle sale...</td>\n",
       "      <td>905.0</td>\n",
       "      <td>http://occ-0-2773-2774.1.nflxso.net/dnm/api/v6...</td>\n",
       "      <td>https://images-na.ssl-images-amazon.com/images...</td>\n",
       "      <td>NaN</td>\n",
       "      <td>NaN</td>\n",
       "    </tr>\n",
       "    <tr>\n",
       "      <th>15476</th>\n",
       "      <td>zyuohgervsninningerthemovie</td>\n",
       "      <td>Action</td>\n",
       "      <td>Children &amp; Family Movies,Movies for ages 5 to ...</td>\n",
       "      <td>Japanese</td>\n",
       "      <td>Movie</td>\n",
       "      <td>8.3</td>\n",
       "      <td>Japan</td>\n",
       "      <td>1-2 hour</td>\n",
       "      <td>Shôjirô Nakazawa</td>\n",
       "      <td>Junko Komura</td>\n",
       "      <td>...</td>\n",
       "      <td>2018-11-01</td>\n",
       "      <td>NaN</td>\n",
       "      <td>https://www.netflix.com/watch/81019410</td>\n",
       "      <td>https://www.imdb.com/title/tt6342418</td>\n",
       "      <td>In a ploy to rid the world of Super Sentais, a...</td>\n",
       "      <td>26.0</td>\n",
       "      <td>https://occ-0-1007-1360.1.nflxso.net/dnm/api/v...</td>\n",
       "      <td>https://images-na.ssl-images-amazon.com/images...</td>\n",
       "      <td>https://www.youtube.com/watch?v=8rB079RdP5k</td>\n",
       "      <td>YouTube</td>\n",
       "    </tr>\n",
       "    <tr>\n",
       "      <th>15477</th>\n",
       "      <td>zztopthatlittleolbandfromtexas</td>\n",
       "      <td>Documentary, Biography, Music</td>\n",
       "      <td>Music &amp; Concert Documentaries,Documentary Film...</td>\n",
       "      <td>English</td>\n",
       "      <td>Movie</td>\n",
       "      <td>8.4</td>\n",
       "      <td>Australia,Sweden,United Kingdom,Canada,Iceland...</td>\n",
       "      <td>1-2 hour</td>\n",
       "      <td>Sam Dunn</td>\n",
       "      <td>Sam Dunn, Ralph Chapman</td>\n",
       "      <td>...</td>\n",
       "      <td>2020-03-01</td>\n",
       "      <td>NaN</td>\n",
       "      <td>https://www.netflix.com/watch/81212488</td>\n",
       "      <td>https://www.imdb.com/title/tt9015306</td>\n",
       "      <td>This documentary delves into the mystique behi...</td>\n",
       "      <td>1225.0</td>\n",
       "      <td>https://occ-0-1926-41.1.nflxso.net/dnm/api/v6/...</td>\n",
       "      <td>https://m.media-amazon.com/images/M/MV5BMTE3NT...</td>\n",
       "      <td>NaN</td>\n",
       "      <td>NaN</td>\n",
       "    </tr>\n",
       "    <tr>\n",
       "      <th>15478</th>\n",
       "      <td>_家___1976年_</td>\n",
       "      <td>Music</td>\n",
       "      <td>Dramas based on Books,Japanese Thrillers,Crime...</td>\n",
       "      <td>English</td>\n",
       "      <td>Movie</td>\n",
       "      <td>8.9</td>\n",
       "      <td>Japan</td>\n",
       "      <td>&gt; 2 hrs</td>\n",
       "      <td>Eric Gardner</td>\n",
       "      <td>NaN</td>\n",
       "      <td>...</td>\n",
       "      <td>2015-11-01</td>\n",
       "      <td>NaN</td>\n",
       "      <td>https://www.netflix.com/watch/80081320</td>\n",
       "      <td>https://www.imdb.com/title/tt0167797</td>\n",
       "      <td>Det. Kosuke Kimdaichi tries to solve the eerie...</td>\n",
       "      <td>36.0</td>\n",
       "      <td>https://occ-0-1007-1360.1.nflxso.net/dnm/api/v...</td>\n",
       "      <td>http://ia.media-imdb.com/images/M/MV5BMTMwODUz...</td>\n",
       "      <td>NaN</td>\n",
       "      <td>NaN</td>\n",
       "    </tr>\n",
       "    <tr>\n",
       "      <th>15479</th>\n",
       "      <td>배__</td>\n",
       "      <td>NaN</td>\n",
       "      <td>Independent Movies,Comedies,Korean Comedies,In...</td>\n",
       "      <td>NaN</td>\n",
       "      <td>Movie</td>\n",
       "      <td>NaN</td>\n",
       "      <td>South Korea</td>\n",
       "      <td>1-2 hour</td>\n",
       "      <td>NaN</td>\n",
       "      <td>NaN</td>\n",
       "      <td>...</td>\n",
       "      <td>2018-10-01</td>\n",
       "      <td>NaN</td>\n",
       "      <td>https://www.netflix.com/watch/80992631</td>\n",
       "      <td>NaN</td>\n",
       "      <td>An acclaimed actress juggles family, everyday ...</td>\n",
       "      <td>NaN</td>\n",
       "      <td>https://occ-0-1007-1360.1.nflxso.net/dnm/api/v...</td>\n",
       "      <td>NaN</td>\n",
       "      <td>NaN</td>\n",
       "      <td>NaN</td>\n",
       "    </tr>\n",
       "  </tbody>\n",
       "</table>\n",
       "<p>15025 rows × 29 columns</p>\n",
       "</div>"
      ],
      "text/plain": [
       "                                Title  \\\n",
       "0                           12monkeys   \n",
       "2               abrideforripvanwinkle   \n",
       "4                    alovesobeautiful   \n",
       "6                         aperfectday   \n",
       "8                         astarisborn   \n",
       "...                               ...   \n",
       "15475            zweiweihnachtsmänner   \n",
       "15476     zyuohgervsninningerthemovie   \n",
       "15477  zztopthatlittleolbandfromtexas   \n",
       "15478                     _家___1976年_   \n",
       "15479                             배__   \n",
       "\n",
       "                                             Genre  \\\n",
       "0      Adventure, Drama, Mystery, Sci-Fi, Thriller   \n",
       "2                          Drama, Mystery, Romance   \n",
       "4                                  Comedy, Romance   \n",
       "6                               Comedy, Drama, War   \n",
       "8                            Drama, Music, Romance   \n",
       "...                                            ...   \n",
       "15475                              Comedy, Romance   \n",
       "15476                                       Action   \n",
       "15477                Documentary, Biography, Music   \n",
       "15478                                        Music   \n",
       "15479                                          NaN   \n",
       "\n",
       "                                                    Tags  \\\n",
       "0      TV Sci-Fi & Fantasy,TV Dramas,TV Shows,TV Myst...   \n",
       "2                           Dramas,Movies Based on Books   \n",
       "4      TV Comedies,Romantic TV Comedies,Teen TV Shows...   \n",
       "6      Italian Dramas,Dramas,Italian Thrillers,Italia...   \n",
       "8      Dramas,Romantic Movies,Tearjerkers,Romantic Dr...   \n",
       "...                                                  ...   \n",
       "15475     TV Comedies,TV Programmes,German TV Programmes   \n",
       "15476  Children & Family Movies,Movies for ages 5 to ...   \n",
       "15477  Music & Concert Documentaries,Documentary Film...   \n",
       "15478  Dramas based on Books,Japanese Thrillers,Crime...   \n",
       "15479  Independent Movies,Comedies,Korean Comedies,In...   \n",
       "\n",
       "                                               Languages Series or Movie  \\\n",
       "0      English, French, German, Chechen, Japanese, Czech          Series   \n",
       "2                                               Japanese           Movie   \n",
       "4                                                Chinese          Series   \n",
       "6             English, Serbian, Spanish, French, Bosnian           Movie   \n",
       "8                                                English           Movie   \n",
       "...                                                  ...             ...   \n",
       "15475                                             German          Series   \n",
       "15476                                           Japanese           Movie   \n",
       "15477                                            English           Movie   \n",
       "15478                                            English           Movie   \n",
       "15479                                                NaN           Movie   \n",
       "\n",
       "       Hidden Gem Score                               Country Availability  \\\n",
       "0                   3.9       Russia,Lithuania,Romania,Israel,India,Greece   \n",
       "2                   7.7                                              Japan   \n",
       "4                   8.6  Iceland,Canada,South Africa,Thailand,Singapore...   \n",
       "6                   3.3                                              Italy   \n",
       "8                   4.2  Canada,Thailand,Hong Kong,Spain,Singapore,Indi...   \n",
       "...                 ...                                                ...   \n",
       "15475               8.0                                Switzerland,Germany   \n",
       "15476               8.3                                              Japan   \n",
       "15477               8.4  Australia,Sweden,United Kingdom,Canada,Iceland...   \n",
       "15478               8.9                                              Japan   \n",
       "15479               NaN                                        South Korea   \n",
       "\n",
       "            Runtime                 Director  \\\n",
       "0      < 30 minutes                      NaN   \n",
       "2           > 2 hrs              Shunji Iwai   \n",
       "4      < 30 minutes                      NaN   \n",
       "6          1-2 hour  Fernando León de Aranoa   \n",
       "8           > 2 hrs           Bradley Cooper   \n",
       "...             ...                      ...   \n",
       "15475  < 30 minutes             Tobi Baumann   \n",
       "15476      1-2 hour         Shôjirô Nakazawa   \n",
       "15477      1-2 hour                 Sam Dunn   \n",
       "15478       > 2 hrs             Eric Gardner   \n",
       "15479      1-2 hour                      NaN   \n",
       "\n",
       "                                                  Writer  ...  \\\n",
       "0                          Travis Fickett, Terry Matalas  ...   \n",
       "2                                            Shunji Iwai  ...   \n",
       "4                                                    NaN  ...   \n",
       "6      Fernando León de Aranoa, Paula Farias, Diego F...  ...   \n",
       "8      Bradley Cooper, Moss Hart, William A. Wellman,...  ...   \n",
       "...                                                  ...  ...   \n",
       "15475                                         Tommy Jaud  ...   \n",
       "15476                                       Junko Komura  ...   \n",
       "15477                            Sam Dunn, Ralph Chapman  ...   \n",
       "15478                                                NaN  ...   \n",
       "15479                                                NaN  ...   \n",
       "\n",
       "      Netflix Release Date                                   Production House  \\\n",
       "0               2015-11-17                                                NaN   \n",
       "2               2019-11-15                                                NaN   \n",
       "4               2020-12-29                                                NaN   \n",
       "6               2020-11-30  Mediapro Pictures, Televisión Española (TVE), ...   \n",
       "8               2019-08-03     Jon Peters/Bill Gerber/Joint Effort Production   \n",
       "...                    ...                                                ...   \n",
       "15475           2016-11-01                                                NaN   \n",
       "15476           2018-11-01                                                NaN   \n",
       "15477           2020-03-01                                                NaN   \n",
       "15478           2015-11-01                                                NaN   \n",
       "15479           2018-10-01                                                NaN   \n",
       "\n",
       "                                 Netflix Link  \\\n",
       "0      https://www.netflix.com/watch/80029823   \n",
       "2      https://www.netflix.com/watch/81210760   \n",
       "4      https://www.netflix.com/watch/81354739   \n",
       "6      https://www.netflix.com/watch/70109142   \n",
       "8      https://www.netflix.com/watch/80221908   \n",
       "...                                       ...   \n",
       "15475  https://www.netflix.com/watch/80095696   \n",
       "15476  https://www.netflix.com/watch/81019410   \n",
       "15477  https://www.netflix.com/watch/81212488   \n",
       "15478  https://www.netflix.com/watch/80081320   \n",
       "15479  https://www.netflix.com/watch/80992631   \n",
       "\n",
       "                                  IMDb Link  \\\n",
       "0      https://www.imdb.com/title/tt3148266   \n",
       "2      https://www.imdb.com/title/tt4671274   \n",
       "4      https://www.imdb.com/title/tt8434720   \n",
       "6      https://www.imdb.com/title/tt3577624   \n",
       "8      https://www.imdb.com/title/tt1517451   \n",
       "...                                     ...   \n",
       "15475  https://www.imdb.com/title/tt1331016   \n",
       "15476  https://www.imdb.com/title/tt6342418   \n",
       "15477  https://www.imdb.com/title/tt9015306   \n",
       "15478  https://www.imdb.com/title/tt0167797   \n",
       "15479                                   NaN   \n",
       "\n",
       "                                                 Summary  IMDb Votes  \\\n",
       "0      In a post-apocalyptic future, a time traveler ...     40535.0   \n",
       "2      Worried that no one will attend her wedding, a...      1388.0   \n",
       "4      Love is as tough as it is sweet for a lovestru...       989.0   \n",
       "6      Bodyguard Antonio doesnt accept his wifes deci...     20595.0   \n",
       "8      When an aspiring singer develops a passionate ...    335490.0   \n",
       "...                                                  ...         ...   \n",
       "15475  A tough lawyer and a childish pool-noodle sale...       905.0   \n",
       "15476  In a ploy to rid the world of Super Sentais, a...        26.0   \n",
       "15477  This documentary delves into the mystique behi...      1225.0   \n",
       "15478  Det. Kosuke Kimdaichi tries to solve the eerie...        36.0   \n",
       "15479  An acclaimed actress juggles family, everyday ...         NaN   \n",
       "\n",
       "                                                   Image  \\\n",
       "0      https://occ-0-2851-38.1.nflxso.net/dnm/api/v6/...   \n",
       "2      https://occ-0-1007-1360.1.nflxso.net/dnm/api/v...   \n",
       "4      https://occ-0-1222-1001.1.nflxso.net/dnm/api/v...   \n",
       "6      https://occ-0-3466-3467.1.nflxso.net/dnm/api/v...   \n",
       "8      https://occ-0-1926-41.1.nflxso.net/dnm/api/v6/...   \n",
       "...                                                  ...   \n",
       "15475  http://occ-0-2773-2774.1.nflxso.net/dnm/api/v6...   \n",
       "15476  https://occ-0-1007-1360.1.nflxso.net/dnm/api/v...   \n",
       "15477  https://occ-0-1926-41.1.nflxso.net/dnm/api/v6/...   \n",
       "15478  https://occ-0-1007-1360.1.nflxso.net/dnm/api/v...   \n",
       "15479  https://occ-0-1007-1360.1.nflxso.net/dnm/api/v...   \n",
       "\n",
       "                                                  Poster  \\\n",
       "0      https://images-na.ssl-images-amazon.com/images...   \n",
       "2      https://m.media-amazon.com/images/M/MV5BMTI1MD...   \n",
       "4      https://m.media-amazon.com/images/M/MV5BZTIyOT...   \n",
       "6      https://m.media-amazon.com/images/M/MV5BMTUwNj...   \n",
       "8      https://m.media-amazon.com/images/M/MV5BNmE5Zm...   \n",
       "...                                                  ...   \n",
       "15475  https://images-na.ssl-images-amazon.com/images...   \n",
       "15476  https://images-na.ssl-images-amazon.com/images...   \n",
       "15477  https://m.media-amazon.com/images/M/MV5BMTE3NT...   \n",
       "15478  http://ia.media-imdb.com/images/M/MV5BMTMwODUz...   \n",
       "15479                                                NaN   \n",
       "\n",
       "                                      TMDb Trailer Trailer Site  \n",
       "0                                              NaN          NaN  \n",
       "2      https://www.youtube.com/watch?v=uhF5bqHTkA4      YouTube  \n",
       "4                                              NaN          NaN  \n",
       "6      https://www.youtube.com/watch?v=I7-c66mbzXA      YouTube  \n",
       "8      https://www.youtube.com/watch?v=nSbzyEJ8X9E      YouTube  \n",
       "...                                            ...          ...  \n",
       "15475                                          NaN          NaN  \n",
       "15476  https://www.youtube.com/watch?v=8rB079RdP5k      YouTube  \n",
       "15477                                          NaN          NaN  \n",
       "15478                                          NaN          NaN  \n",
       "15479                                          NaN          NaN  \n",
       "\n",
       "[15025 rows x 29 columns]"
      ]
     },
     "execution_count": 19,
     "metadata": {},
     "output_type": "execute_result"
    }
   ],
   "source": [
    "dfdf=netflix.drop_duplicates(['Title'], keep = 'first')\n",
    "dfdf"
   ]
  },
  {
   "cell_type": "markdown",
   "metadata": {
    "id": "96svd3Z3ARDe"
   },
   "source": [
    "## 넷플릭스 데이터 정리"
   ]
  },
  {
   "cell_type": "code",
   "execution_count": 27,
   "metadata": {
    "ExecuteTime": {
     "end_time": "2021-07-11T08:33:56.973039Z",
     "start_time": "2021-07-11T08:33:56.948277Z"
    },
    "id": "7Ydl3DuYgCut",
    "scrolled": true
   },
   "outputs": [
    {
     "data": {
      "text/html": [
       "<div>\n",
       "<style scoped>\n",
       "    .dataframe tbody tr th:only-of-type {\n",
       "        vertical-align: middle;\n",
       "    }\n",
       "\n",
       "    .dataframe tbody tr th {\n",
       "        vertical-align: top;\n",
       "    }\n",
       "\n",
       "    .dataframe thead th {\n",
       "        text-align: right;\n",
       "    }\n",
       "</style>\n",
       "<table border=\"1\" class=\"dataframe\">\n",
       "  <thead>\n",
       "    <tr style=\"text-align: right;\">\n",
       "      <th></th>\n",
       "      <th>Title</th>\n",
       "      <th>Genre</th>\n",
       "      <th>Tags</th>\n",
       "      <th>Languages</th>\n",
       "      <th>Series or Movie</th>\n",
       "      <th>Hidden Gem Score</th>\n",
       "      <th>Country Availability</th>\n",
       "      <th>Runtime</th>\n",
       "      <th>Director</th>\n",
       "      <th>Writer</th>\n",
       "      <th>...</th>\n",
       "      <th>Netflix Release Date</th>\n",
       "      <th>Production House</th>\n",
       "      <th>Netflix Link</th>\n",
       "      <th>IMDb Link</th>\n",
       "      <th>Summary</th>\n",
       "      <th>IMDb Votes</th>\n",
       "      <th>Image</th>\n",
       "      <th>Poster</th>\n",
       "      <th>TMDb Trailer</th>\n",
       "      <th>Trailer Site</th>\n",
       "    </tr>\n",
       "  </thead>\n",
       "  <tbody>\n",
       "    <tr>\n",
       "      <th>0</th>\n",
       "      <td>12monkeys</td>\n",
       "      <td>Adventure, Drama, Mystery, Sci-Fi, Thriller</td>\n",
       "      <td>TV Sci-Fi &amp; Fantasy,TV Dramas,TV Shows,TV Myst...</td>\n",
       "      <td>English, French, German, Chechen, Japanese, Czech</td>\n",
       "      <td>Series</td>\n",
       "      <td>3.9</td>\n",
       "      <td>Russia,Lithuania,Romania,Israel,India,Greece</td>\n",
       "      <td>&lt; 30 minutes</td>\n",
       "      <td>NaN</td>\n",
       "      <td>Travis Fickett, Terry Matalas</td>\n",
       "      <td>...</td>\n",
       "      <td>2015-11-17</td>\n",
       "      <td>NaN</td>\n",
       "      <td>https://www.netflix.com/watch/80029823</td>\n",
       "      <td>https://www.imdb.com/title/tt3148266</td>\n",
       "      <td>In a post-apocalyptic future, a time traveler ...</td>\n",
       "      <td>40535.0</td>\n",
       "      <td>https://occ-0-2851-38.1.nflxso.net/dnm/api/v6/...</td>\n",
       "      <td>https://images-na.ssl-images-amazon.com/images...</td>\n",
       "      <td>NaN</td>\n",
       "      <td>NaN</td>\n",
       "    </tr>\n",
       "  </tbody>\n",
       "</table>\n",
       "<p>1 rows × 29 columns</p>\n",
       "</div>"
      ],
      "text/plain": [
       "       Title                                        Genre  \\\n",
       "0  12monkeys  Adventure, Drama, Mystery, Sci-Fi, Thriller   \n",
       "\n",
       "                                                Tags  \\\n",
       "0  TV Sci-Fi & Fantasy,TV Dramas,TV Shows,TV Myst...   \n",
       "\n",
       "                                           Languages Series or Movie  \\\n",
       "0  English, French, German, Chechen, Japanese, Czech          Series   \n",
       "\n",
       "   Hidden Gem Score                          Country Availability  \\\n",
       "0               3.9  Russia,Lithuania,Romania,Israel,India,Greece   \n",
       "\n",
       "        Runtime Director                         Writer  ...  \\\n",
       "0  < 30 minutes      NaN  Travis Fickett, Terry Matalas  ...   \n",
       "\n",
       "  Netflix Release Date Production House  \\\n",
       "0           2015-11-17              NaN   \n",
       "\n",
       "                             Netflix Link  \\\n",
       "0  https://www.netflix.com/watch/80029823   \n",
       "\n",
       "                              IMDb Link  \\\n",
       "0  https://www.imdb.com/title/tt3148266   \n",
       "\n",
       "                                             Summary  IMDb Votes  \\\n",
       "0  In a post-apocalyptic future, a time traveler ...     40535.0   \n",
       "\n",
       "                                               Image  \\\n",
       "0  https://occ-0-2851-38.1.nflxso.net/dnm/api/v6/...   \n",
       "\n",
       "                                              Poster TMDb Trailer Trailer Site  \n",
       "0  https://images-na.ssl-images-amazon.com/images...          NaN          NaN  \n",
       "\n",
       "[1 rows x 29 columns]"
      ]
     },
     "execution_count": 27,
     "metadata": {},
     "output_type": "execute_result"
    }
   ],
   "source": [
    "dfdf.head(1)"
   ]
  },
  {
   "cell_type": "code",
   "execution_count": 28,
   "metadata": {
    "ExecuteTime": {
     "end_time": "2021-07-11T08:34:11.546593Z",
     "start_time": "2021-07-11T08:34:11.534820Z"
    },
    "id": "AVID8qYn_H4P"
   },
   "outputs": [
    {
     "name": "stderr",
     "output_type": "stream",
     "text": [
      "/Users/anaconda3/envs/tsa/lib/python3.9/site-packages/pandas/core/frame.py:4308: SettingWithCopyWarning: \n",
      "A value is trying to be set on a copy of a slice from a DataFrame\n",
      "\n",
      "See the caveats in the documentation: https://pandas.pydata.org/pandas-docs/stable/user_guide/indexing.html#returning-a-view-versus-a-copy\n",
      "  return super().drop(\n"
     ]
    }
   ],
   "source": [
    "dfdf.drop(columns = ['Series or Movie','Release Date'],axis =1,inplace=True)  # 정확하지 않은 type 행과 출시일 제거"
   ]
  },
  {
   "cell_type": "code",
   "execution_count": 29,
   "metadata": {
    "ExecuteTime": {
     "end_time": "2021-07-11T08:34:22.412477Z",
     "start_time": "2021-07-11T08:34:22.408074Z"
    },
    "id": "cufJddFFDItP"
   },
   "outputs": [
    {
     "data": {
      "text/plain": [
       "Index(['Title', 'Genre', 'Tags', 'Languages', 'Hidden Gem Score',\n",
       "       'Country Availability', 'Runtime', 'Director', 'Writer', 'Actors',\n",
       "       'View Rating', 'IMDb Score', 'Rotten Tomatoes Score',\n",
       "       'Metacritic Score', 'Awards Received', 'Awards Nominated For',\n",
       "       'Boxoffice', 'Netflix Release Date', 'Production House', 'Netflix Link',\n",
       "       'IMDb Link', 'Summary', 'IMDb Votes', 'Image', 'Poster', 'TMDb Trailer',\n",
       "       'Trailer Site'],\n",
       "      dtype='object')"
      ]
     },
     "execution_count": 29,
     "metadata": {},
     "output_type": "execute_result"
    }
   ],
   "source": [
    "dfdf.columns"
   ]
  },
  {
   "cell_type": "code",
   "execution_count": 30,
   "metadata": {
    "ExecuteTime": {
     "end_time": "2021-07-11T08:34:33.629417Z",
     "start_time": "2021-07-11T08:34:33.626202Z"
    },
    "id": "y4yGw6EEDOyT"
   },
   "outputs": [],
   "source": [
    "dfdf.columns = ['Title', 'Genre_all', 'Tags', 'Languages', 'Hidden Gem Score',\n",
    "       'Country Availability', 'Runtime', 'Director', 'Writer', 'Actors',\n",
    "       'View Rating', 'IMDb Score', 'Rotten Tomatoes Score',\n",
    "       'Metacritic Score', 'Awards Received', 'Awards Nominated For',\n",
    "       'Boxoffice', 'Netflix Release Date', 'Production House', 'Netflix Link',\n",
    "       'IMDb Link', 'Summary', 'IMDb Votes', 'Image', 'Poster', 'TMDb Trailer',\n",
    "       'Trailer Site']"
   ]
  },
  {
   "cell_type": "code",
   "execution_count": 31,
   "metadata": {
    "ExecuteTime": {
     "end_time": "2021-07-11T08:34:38.381488Z",
     "start_time": "2021-07-11T08:34:38.358590Z"
    },
    "id": "zv0yXr9C_H1s"
   },
   "outputs": [
    {
     "data": {
      "text/html": [
       "<div>\n",
       "<style scoped>\n",
       "    .dataframe tbody tr th:only-of-type {\n",
       "        vertical-align: middle;\n",
       "    }\n",
       "\n",
       "    .dataframe tbody tr th {\n",
       "        vertical-align: top;\n",
       "    }\n",
       "\n",
       "    .dataframe thead th {\n",
       "        text-align: right;\n",
       "    }\n",
       "</style>\n",
       "<table border=\"1\" class=\"dataframe\">\n",
       "  <thead>\n",
       "    <tr style=\"text-align: right;\">\n",
       "      <th></th>\n",
       "      <th>Title</th>\n",
       "      <th>Genre_all</th>\n",
       "      <th>Tags</th>\n",
       "      <th>Languages</th>\n",
       "      <th>Hidden Gem Score</th>\n",
       "      <th>Country Availability</th>\n",
       "      <th>Runtime</th>\n",
       "      <th>Director</th>\n",
       "      <th>Writer</th>\n",
       "      <th>Actors</th>\n",
       "      <th>...</th>\n",
       "      <th>Netflix Release Date</th>\n",
       "      <th>Production House</th>\n",
       "      <th>Netflix Link</th>\n",
       "      <th>IMDb Link</th>\n",
       "      <th>Summary</th>\n",
       "      <th>IMDb Votes</th>\n",
       "      <th>Image</th>\n",
       "      <th>Poster</th>\n",
       "      <th>TMDb Trailer</th>\n",
       "      <th>Trailer Site</th>\n",
       "    </tr>\n",
       "  </thead>\n",
       "  <tbody>\n",
       "    <tr>\n",
       "      <th>0</th>\n",
       "      <td>12monkeys</td>\n",
       "      <td>Adventure, Drama, Mystery, Sci-Fi, Thriller</td>\n",
       "      <td>TV Sci-Fi &amp; Fantasy,TV Dramas,TV Shows,TV Myst...</td>\n",
       "      <td>English, French, German, Chechen, Japanese, Czech</td>\n",
       "      <td>3.9</td>\n",
       "      <td>Russia,Lithuania,Romania,Israel,India,Greece</td>\n",
       "      <td>&lt; 30 minutes</td>\n",
       "      <td>NaN</td>\n",
       "      <td>Travis Fickett, Terry Matalas</td>\n",
       "      <td>Emily Hampshire, Amanda Schull, Aaron Stanford...</td>\n",
       "      <td>...</td>\n",
       "      <td>2015-11-17</td>\n",
       "      <td>NaN</td>\n",
       "      <td>https://www.netflix.com/watch/80029823</td>\n",
       "      <td>https://www.imdb.com/title/tt3148266</td>\n",
       "      <td>In a post-apocalyptic future, a time traveler ...</td>\n",
       "      <td>40535.0</td>\n",
       "      <td>https://occ-0-2851-38.1.nflxso.net/dnm/api/v6/...</td>\n",
       "      <td>https://images-na.ssl-images-amazon.com/images...</td>\n",
       "      <td>NaN</td>\n",
       "      <td>NaN</td>\n",
       "    </tr>\n",
       "  </tbody>\n",
       "</table>\n",
       "<p>1 rows × 27 columns</p>\n",
       "</div>"
      ],
      "text/plain": [
       "       Title                                    Genre_all  \\\n",
       "0  12monkeys  Adventure, Drama, Mystery, Sci-Fi, Thriller   \n",
       "\n",
       "                                                Tags  \\\n",
       "0  TV Sci-Fi & Fantasy,TV Dramas,TV Shows,TV Myst...   \n",
       "\n",
       "                                           Languages  Hidden Gem Score  \\\n",
       "0  English, French, German, Chechen, Japanese, Czech               3.9   \n",
       "\n",
       "                           Country Availability       Runtime Director  \\\n",
       "0  Russia,Lithuania,Romania,Israel,India,Greece  < 30 minutes      NaN   \n",
       "\n",
       "                          Writer  \\\n",
       "0  Travis Fickett, Terry Matalas   \n",
       "\n",
       "                                              Actors  ...  \\\n",
       "0  Emily Hampshire, Amanda Schull, Aaron Stanford...  ...   \n",
       "\n",
       "  Netflix Release Date  Production House  \\\n",
       "0           2015-11-17               NaN   \n",
       "\n",
       "                             Netflix Link  \\\n",
       "0  https://www.netflix.com/watch/80029823   \n",
       "\n",
       "                              IMDb Link  \\\n",
       "0  https://www.imdb.com/title/tt3148266   \n",
       "\n",
       "                                             Summary  IMDb Votes  \\\n",
       "0  In a post-apocalyptic future, a time traveler ...     40535.0   \n",
       "\n",
       "                                               Image  \\\n",
       "0  https://occ-0-2851-38.1.nflxso.net/dnm/api/v6/...   \n",
       "\n",
       "                                              Poster TMDb Trailer Trailer Site  \n",
       "0  https://images-na.ssl-images-amazon.com/images...          NaN          NaN  \n",
       "\n",
       "[1 rows x 27 columns]"
      ]
     },
     "execution_count": 31,
     "metadata": {},
     "output_type": "execute_result"
    }
   ],
   "source": [
    "dfdf.head(1)"
   ]
  },
  {
   "cell_type": "markdown",
   "metadata": {
    "id": "J8HCC3rmAXWU"
   },
   "source": [
    "## 데이터 merge"
   ]
  },
  {
   "cell_type": "code",
   "execution_count": 32,
   "metadata": {
    "ExecuteTime": {
     "end_time": "2021-07-11T08:34:46.683566Z",
     "start_time": "2021-07-11T08:34:46.680512Z"
    },
    "id": "p1Yn7T9kgaSO"
   },
   "outputs": [],
   "source": [
    "df = df_new_flix.copy()  # 정리된 flix 데이터 복사"
   ]
  },
  {
   "cell_type": "code",
   "execution_count": 33,
   "metadata": {
    "ExecuteTime": {
     "end_time": "2021-07-11T08:34:48.181354Z",
     "start_time": "2021-07-11T08:34:48.170104Z"
    },
    "id": "10LHjF0nAj_M"
   },
   "outputs": [
    {
     "name": "stdout",
     "output_type": "stream",
     "text": [
      "<class 'pandas.core.frame.DataFrame'>\n",
      "RangeIndex: 3569 entries, 0 to 3568\n",
      "Data columns (total 6 columns):\n",
      " #   Column           Non-Null Count  Dtype         \n",
      "---  ------           --------------  -----         \n",
      " 0   Title            3569 non-null   object        \n",
      " 1   Series or Movie  3569 non-null   object        \n",
      " 2   COUNTRY          3271 non-null   object        \n",
      " 3   Release Date     3479 non-null   datetime64[ns]\n",
      " 4   GENRE            3022 non-null   object        \n",
      " 5   VALUE            3569 non-null   int64         \n",
      "dtypes: datetime64[ns](1), int64(1), object(4)\n",
      "memory usage: 167.4+ KB\n"
     ]
    }
   ],
   "source": [
    "df.info()"
   ]
  },
  {
   "cell_type": "code",
   "execution_count": 34,
   "metadata": {
    "ExecuteTime": {
     "end_time": "2021-07-11T08:34:55.777573Z",
     "start_time": "2021-07-11T08:34:55.742470Z"
    },
    "id": "ORp2HeNlglNR"
   },
   "outputs": [],
   "source": [
    "merge_set = pd.merge(df,dfdf, on=['Title'])  # 제목을 기준으로 머지"
   ]
  },
  {
   "cell_type": "code",
   "execution_count": 35,
   "metadata": {
    "ExecuteTime": {
     "end_time": "2021-07-11T08:34:58.104756Z",
     "start_time": "2021-07-11T08:34:58.091330Z"
    },
    "id": "z-Yu2xnFhOU5"
   },
   "outputs": [
    {
     "data": {
      "text/plain": [
       "Title                       0\n",
       "Series or Movie             0\n",
       "COUNTRY                   206\n",
       "Release Date               65\n",
       "GENRE                     370\n",
       "VALUE                       0\n",
       "Genre_all                 118\n",
       "Tags                        9\n",
       "Languages                 149\n",
       "Hidden Gem Score          152\n",
       "Country Availability        5\n",
       "Runtime                     0\n",
       "Director                  713\n",
       "Writer                    514\n",
       "Actors                    138\n",
       "View Rating               708\n",
       "IMDb Score                152\n",
       "Rotten Tomatoes Score    1385\n",
       "Metacritic Score         1510\n",
       "Awards Received          1490\n",
       "Awards Nominated For     1090\n",
       "Boxoffice                1665\n",
       "Netflix Release Date        0\n",
       "Production House         1492\n",
       "Netflix Link                0\n",
       "IMDb Link                 180\n",
       "Summary                     2\n",
       "IMDb Votes                152\n",
       "Image                       0\n",
       "Poster                    322\n",
       "TMDb Trailer             1113\n",
       "Trailer Site             1113\n",
       "dtype: int64"
      ]
     },
     "execution_count": 35,
     "metadata": {},
     "output_type": "execute_result"
    }
   ],
   "source": [
    "merge_set.isnull().sum()"
   ]
  },
  {
   "cell_type": "code",
   "execution_count": 36,
   "metadata": {
    "ExecuteTime": {
     "end_time": "2021-07-11T08:35:16.060457Z",
     "start_time": "2021-07-11T08:35:16.038232Z"
    },
    "id": "Z43YxXEDhsZY"
   },
   "outputs": [
    {
     "data": {
      "text/html": [
       "<div>\n",
       "<style scoped>\n",
       "    .dataframe tbody tr th:only-of-type {\n",
       "        vertical-align: middle;\n",
       "    }\n",
       "\n",
       "    .dataframe tbody tr th {\n",
       "        vertical-align: top;\n",
       "    }\n",
       "\n",
       "    .dataframe thead th {\n",
       "        text-align: right;\n",
       "    }\n",
       "</style>\n",
       "<table border=\"1\" class=\"dataframe\">\n",
       "  <thead>\n",
       "    <tr style=\"text-align: right;\">\n",
       "      <th></th>\n",
       "      <th>Title</th>\n",
       "      <th>Series or Movie</th>\n",
       "      <th>COUNTRY</th>\n",
       "      <th>Release Date</th>\n",
       "      <th>GENRE</th>\n",
       "      <th>VALUE</th>\n",
       "      <th>Genre_all</th>\n",
       "      <th>Tags</th>\n",
       "      <th>Languages</th>\n",
       "      <th>Hidden Gem Score</th>\n",
       "      <th>...</th>\n",
       "      <th>Netflix Release Date</th>\n",
       "      <th>Production House</th>\n",
       "      <th>Netflix Link</th>\n",
       "      <th>IMDb Link</th>\n",
       "      <th>Summary</th>\n",
       "      <th>IMDb Votes</th>\n",
       "      <th>Image</th>\n",
       "      <th>Poster</th>\n",
       "      <th>TMDb Trailer</th>\n",
       "      <th>Trailer Site</th>\n",
       "    </tr>\n",
       "  </thead>\n",
       "  <tbody>\n",
       "    <tr>\n",
       "      <th>0</th>\n",
       "      <td>thequeensgambit</td>\n",
       "      <td>TV</td>\n",
       "      <td>United States</td>\n",
       "      <td>2020-10-23</td>\n",
       "      <td>Drama</td>\n",
       "      <td>44867</td>\n",
       "      <td>Biography, Drama, History</td>\n",
       "      <td>TV Dramas,US TV Shows,TV Shows Based on Books,...</td>\n",
       "      <td>English, German, French</td>\n",
       "      <td>4.3</td>\n",
       "      <td>...</td>\n",
       "      <td>2020-10-23</td>\n",
       "      <td>Pathé Pictures, Scott Rudin Productions</td>\n",
       "      <td>https://www.netflix.com/watch/80234304</td>\n",
       "      <td>https://www.imdb.com/title/tt0436697</td>\n",
       "      <td>In a 1950s orphanage, a young girl reveals an ...</td>\n",
       "      <td>104495.0</td>\n",
       "      <td>https://occ-0-2851-1432.1.nflxso.net/dnm/api/v...</td>\n",
       "      <td>https://m.media-amazon.com/images/M/MV5BMTQ3NT...</td>\n",
       "      <td>NaN</td>\n",
       "      <td>NaN</td>\n",
       "    </tr>\n",
       "  </tbody>\n",
       "</table>\n",
       "<p>1 rows × 32 columns</p>\n",
       "</div>"
      ],
      "text/plain": [
       "             Title Series or Movie        COUNTRY Release Date  GENRE  VALUE  \\\n",
       "0  thequeensgambit              TV  United States   2020-10-23  Drama  44867   \n",
       "\n",
       "                   Genre_all  \\\n",
       "0  Biography, Drama, History   \n",
       "\n",
       "                                                Tags                Languages  \\\n",
       "0  TV Dramas,US TV Shows,TV Shows Based on Books,...  English, German, French   \n",
       "\n",
       "   Hidden Gem Score  ... Netflix Release Date  \\\n",
       "0               4.3  ...           2020-10-23   \n",
       "\n",
       "                          Production House  \\\n",
       "0  Pathé Pictures, Scott Rudin Productions   \n",
       "\n",
       "                             Netflix Link  \\\n",
       "0  https://www.netflix.com/watch/80234304   \n",
       "\n",
       "                              IMDb Link  \\\n",
       "0  https://www.imdb.com/title/tt0436697   \n",
       "\n",
       "                                             Summary IMDb Votes  \\\n",
       "0  In a 1950s orphanage, a young girl reveals an ...   104495.0   \n",
       "\n",
       "                                               Image  \\\n",
       "0  https://occ-0-2851-1432.1.nflxso.net/dnm/api/v...   \n",
       "\n",
       "                                              Poster  TMDb Trailer  \\\n",
       "0  https://m.media-amazon.com/images/M/MV5BMTQ3NT...           NaN   \n",
       "\n",
       "   Trailer Site  \n",
       "0           NaN  \n",
       "\n",
       "[1 rows x 32 columns]"
      ]
     },
     "execution_count": 36,
     "metadata": {},
     "output_type": "execute_result"
    }
   ],
   "source": [
    "merge_set.head(1)"
   ]
  },
  {
   "cell_type": "code",
   "execution_count": 37,
   "metadata": {
    "ExecuteTime": {
     "end_time": "2021-07-11T08:35:34.596457Z",
     "start_time": "2021-07-11T08:35:34.590970Z"
    },
    "id": "bRr870wsA5Eq"
   },
   "outputs": [
    {
     "name": "stdout",
     "output_type": "stream",
     "text": [
      "0\n",
      "\n"
     ]
    }
   ],
   "source": [
    "print(dfdf.Title.duplicated().sum())\n",
    "print()"
   ]
  },
  {
   "cell_type": "code",
   "execution_count": 38,
   "metadata": {
    "ExecuteTime": {
     "end_time": "2021-07-11T08:35:44.330822Z",
     "start_time": "2021-07-11T08:35:44.323809Z"
    },
    "id": "sLKaMx_UhlnH"
   },
   "outputs": [],
   "source": [
    "use_df = merge_set.drop(columns = ['Netflix Link', 'IMDb Link',\n",
    "                        'Poster', 'TMDb Trailer', 'Trailer Site','Image'], axis =1)"
   ]
  },
  {
   "cell_type": "code",
   "execution_count": 39,
   "metadata": {
    "ExecuteTime": {
     "end_time": "2021-07-11T08:35:45.682687Z",
     "start_time": "2021-07-11T08:35:45.667148Z"
    },
    "id": "SFxVvBdW3Hj_"
   },
   "outputs": [
    {
     "name": "stdout",
     "output_type": "stream",
     "text": [
      "<class 'pandas.core.frame.DataFrame'>\n",
      "Int64Index: 2960 entries, 0 to 2959\n",
      "Data columns (total 26 columns):\n",
      " #   Column                 Non-Null Count  Dtype         \n",
      "---  ------                 --------------  -----         \n",
      " 0   Title                  2960 non-null   object        \n",
      " 1   Series or Movie        2960 non-null   object        \n",
      " 2   COUNTRY                2754 non-null   object        \n",
      " 3   Release Date           2895 non-null   datetime64[ns]\n",
      " 4   GENRE                  2590 non-null   object        \n",
      " 5   VALUE                  2960 non-null   int64         \n",
      " 6   Genre_all              2842 non-null   object        \n",
      " 7   Tags                   2951 non-null   object        \n",
      " 8   Languages              2811 non-null   object        \n",
      " 9   Hidden Gem Score       2808 non-null   float64       \n",
      " 10  Country Availability   2955 non-null   object        \n",
      " 11  Runtime                2960 non-null   object        \n",
      " 12  Director               2247 non-null   object        \n",
      " 13  Writer                 2446 non-null   object        \n",
      " 14  Actors                 2822 non-null   object        \n",
      " 15  View Rating            2252 non-null   object        \n",
      " 16  IMDb Score             2808 non-null   float64       \n",
      " 17  Rotten Tomatoes Score  1575 non-null   float64       \n",
      " 18  Metacritic Score       1450 non-null   float64       \n",
      " 19  Awards Received        1470 non-null   float64       \n",
      " 20  Awards Nominated For   1870 non-null   float64       \n",
      " 21  Boxoffice              1295 non-null   object        \n",
      " 22  Netflix Release Date   2960 non-null   datetime64[ns]\n",
      " 23  Production House       1468 non-null   object        \n",
      " 24  Summary                2958 non-null   object        \n",
      " 25  IMDb Votes             2808 non-null   float64       \n",
      "dtypes: datetime64[ns](2), float64(7), int64(1), object(16)\n",
      "memory usage: 624.4+ KB\n"
     ]
    }
   ],
   "source": [
    "use_df.info()"
   ]
  },
  {
   "cell_type": "code",
   "execution_count": 40,
   "metadata": {
    "ExecuteTime": {
     "end_time": "2021-07-11T08:35:50.119069Z",
     "start_time": "2021-07-11T08:35:50.109306Z"
    },
    "id": "89UTzbhyjnHq"
   },
   "outputs": [
    {
     "data": {
      "text/plain": [
       "Title                       0\n",
       "Series or Movie             0\n",
       "COUNTRY                   206\n",
       "Release Date               65\n",
       "GENRE                     370\n",
       "VALUE                       0\n",
       "Genre_all                 118\n",
       "Tags                        9\n",
       "Languages                 149\n",
       "Hidden Gem Score          152\n",
       "Country Availability        5\n",
       "Runtime                     0\n",
       "Director                  713\n",
       "Writer                    514\n",
       "Actors                    138\n",
       "View Rating               708\n",
       "IMDb Score                152\n",
       "Rotten Tomatoes Score    1385\n",
       "Metacritic Score         1510\n",
       "Awards Received          1490\n",
       "Awards Nominated For     1090\n",
       "Boxoffice                1665\n",
       "Netflix Release Date        0\n",
       "Production House         1492\n",
       "Summary                     2\n",
       "IMDb Votes                152\n",
       "dtype: int64"
      ]
     },
     "execution_count": 40,
     "metadata": {},
     "output_type": "execute_result"
    }
   ],
   "source": [
    "use_df.isnull().sum()"
   ]
  },
  {
   "cell_type": "code",
   "execution_count": 41,
   "metadata": {
    "ExecuteTime": {
     "end_time": "2021-07-11T08:35:54.362486Z",
     "start_time": "2021-07-11T08:35:54.337414Z"
    },
    "id": "wK8VTE0A2Cf8"
   },
   "outputs": [
    {
     "data": {
      "text/html": [
       "<div>\n",
       "<style scoped>\n",
       "    .dataframe tbody tr th:only-of-type {\n",
       "        vertical-align: middle;\n",
       "    }\n",
       "\n",
       "    .dataframe tbody tr th {\n",
       "        vertical-align: top;\n",
       "    }\n",
       "\n",
       "    .dataframe thead th {\n",
       "        text-align: right;\n",
       "    }\n",
       "</style>\n",
       "<table border=\"1\" class=\"dataframe\">\n",
       "  <thead>\n",
       "    <tr style=\"text-align: right;\">\n",
       "      <th></th>\n",
       "      <th>Title</th>\n",
       "      <th>Series or Movie</th>\n",
       "      <th>COUNTRY</th>\n",
       "      <th>Release Date</th>\n",
       "      <th>GENRE</th>\n",
       "      <th>VALUE</th>\n",
       "      <th>Genre_all</th>\n",
       "      <th>Tags</th>\n",
       "      <th>Languages</th>\n",
       "      <th>Hidden Gem Score</th>\n",
       "      <th>...</th>\n",
       "      <th>IMDb Score</th>\n",
       "      <th>Rotten Tomatoes Score</th>\n",
       "      <th>Metacritic Score</th>\n",
       "      <th>Awards Received</th>\n",
       "      <th>Awards Nominated For</th>\n",
       "      <th>Boxoffice</th>\n",
       "      <th>Netflix Release Date</th>\n",
       "      <th>Production House</th>\n",
       "      <th>Summary</th>\n",
       "      <th>IMDb Votes</th>\n",
       "    </tr>\n",
       "  </thead>\n",
       "  <tbody>\n",
       "    <tr>\n",
       "      <th>0</th>\n",
       "      <td>thequeensgambit</td>\n",
       "      <td>TV</td>\n",
       "      <td>United States</td>\n",
       "      <td>2020-10-23</td>\n",
       "      <td>Drama</td>\n",
       "      <td>44867</td>\n",
       "      <td>Biography, Drama, History</td>\n",
       "      <td>TV Dramas,US TV Shows,TV Shows Based on Books,...</td>\n",
       "      <td>English, German, French</td>\n",
       "      <td>4.3</td>\n",
       "      <td>...</td>\n",
       "      <td>7.3</td>\n",
       "      <td>96.0</td>\n",
       "      <td>91.0</td>\n",
       "      <td>96.0</td>\n",
       "      <td>97.0</td>\n",
       "      <td>$56,441,711</td>\n",
       "      <td>2020-10-23</td>\n",
       "      <td>Pathé Pictures, Scott Rudin Productions</td>\n",
       "      <td>In a 1950s orphanage, a young girl reveals an ...</td>\n",
       "      <td>104495.0</td>\n",
       "    </tr>\n",
       "  </tbody>\n",
       "</table>\n",
       "<p>1 rows × 26 columns</p>\n",
       "</div>"
      ],
      "text/plain": [
       "             Title Series or Movie        COUNTRY Release Date  GENRE  VALUE  \\\n",
       "0  thequeensgambit              TV  United States   2020-10-23  Drama  44867   \n",
       "\n",
       "                   Genre_all  \\\n",
       "0  Biography, Drama, History   \n",
       "\n",
       "                                                Tags                Languages  \\\n",
       "0  TV Dramas,US TV Shows,TV Shows Based on Books,...  English, German, French   \n",
       "\n",
       "   Hidden Gem Score  ... IMDb Score Rotten Tomatoes Score Metacritic Score  \\\n",
       "0               4.3  ...        7.3                  96.0             91.0   \n",
       "\n",
       "  Awards Received Awards Nominated For     Boxoffice  Netflix Release Date  \\\n",
       "0            96.0                 97.0  $56,441,711             2020-10-23   \n",
       "\n",
       "                          Production House  \\\n",
       "0  Pathé Pictures, Scott Rudin Productions   \n",
       "\n",
       "                                             Summary  IMDb Votes  \n",
       "0  In a 1950s orphanage, a young girl reveals an ...    104495.0  \n",
       "\n",
       "[1 rows x 26 columns]"
      ]
     },
     "execution_count": 41,
     "metadata": {},
     "output_type": "execute_result"
    }
   ],
   "source": [
    "use_df.head(1)"
   ]
  },
  {
   "cell_type": "code",
   "execution_count": 42,
   "metadata": {
    "ExecuteTime": {
     "end_time": "2021-07-11T08:36:38.309564Z",
     "start_time": "2021-07-11T08:36:38.198580Z"
    },
    "id": "yfhyDZKqkFif"
   },
   "outputs": [],
   "source": [
    "use_df.to_csv('1_original_useDf_0711.csv')"
   ]
  },
  {
   "cell_type": "code",
   "execution_count": 43,
   "metadata": {
    "ExecuteTime": {
     "end_time": "2021-07-11T08:36:39.148215Z",
     "start_time": "2021-07-11T08:36:39.133508Z"
    },
    "id": "k0IbQtQhlU1z"
   },
   "outputs": [
    {
     "data": {
      "text/html": [
       "<div>\n",
       "<style scoped>\n",
       "    .dataframe tbody tr th:only-of-type {\n",
       "        vertical-align: middle;\n",
       "    }\n",
       "\n",
       "    .dataframe tbody tr th {\n",
       "        vertical-align: top;\n",
       "    }\n",
       "\n",
       "    .dataframe thead th {\n",
       "        text-align: right;\n",
       "    }\n",
       "</style>\n",
       "<table border=\"1\" class=\"dataframe\">\n",
       "  <thead>\n",
       "    <tr style=\"text-align: right;\">\n",
       "      <th></th>\n",
       "      <th>VALUE</th>\n",
       "      <th>Hidden Gem Score</th>\n",
       "      <th>IMDb Score</th>\n",
       "      <th>Rotten Tomatoes Score</th>\n",
       "      <th>Metacritic Score</th>\n",
       "      <th>Awards Received</th>\n",
       "      <th>Awards Nominated For</th>\n",
       "      <th>IMDb Votes</th>\n",
       "    </tr>\n",
       "  </thead>\n",
       "  <tbody>\n",
       "    <tr>\n",
       "      <th>VALUE</th>\n",
       "      <td>1.000000</td>\n",
       "      <td>-0.039783</td>\n",
       "      <td>0.043990</td>\n",
       "      <td>0.051306</td>\n",
       "      <td>0.055675</td>\n",
       "      <td>0.080921</td>\n",
       "      <td>0.096052</td>\n",
       "      <td>-0.000686</td>\n",
       "    </tr>\n",
       "    <tr>\n",
       "      <th>Hidden Gem Score</th>\n",
       "      <td>-0.039783</td>\n",
       "      <td>1.000000</td>\n",
       "      <td>0.148024</td>\n",
       "      <td>0.502936</td>\n",
       "      <td>0.655198</td>\n",
       "      <td>0.030384</td>\n",
       "      <td>-0.006903</td>\n",
       "      <td>-0.284047</td>\n",
       "    </tr>\n",
       "    <tr>\n",
       "      <th>IMDb Score</th>\n",
       "      <td>0.043990</td>\n",
       "      <td>0.148024</td>\n",
       "      <td>1.000000</td>\n",
       "      <td>0.719458</td>\n",
       "      <td>0.736072</td>\n",
       "      <td>0.354884</td>\n",
       "      <td>0.372284</td>\n",
       "      <td>0.331376</td>\n",
       "    </tr>\n",
       "    <tr>\n",
       "      <th>Rotten Tomatoes Score</th>\n",
       "      <td>0.051306</td>\n",
       "      <td>0.502936</td>\n",
       "      <td>0.719458</td>\n",
       "      <td>1.000000</td>\n",
       "      <td>0.911426</td>\n",
       "      <td>0.357083</td>\n",
       "      <td>0.420225</td>\n",
       "      <td>0.329521</td>\n",
       "    </tr>\n",
       "    <tr>\n",
       "      <th>Metacritic Score</th>\n",
       "      <td>0.055675</td>\n",
       "      <td>0.655198</td>\n",
       "      <td>0.736072</td>\n",
       "      <td>0.911426</td>\n",
       "      <td>1.000000</td>\n",
       "      <td>0.477093</td>\n",
       "      <td>0.536463</td>\n",
       "      <td>0.382587</td>\n",
       "    </tr>\n",
       "    <tr>\n",
       "      <th>Awards Received</th>\n",
       "      <td>0.080921</td>\n",
       "      <td>0.030384</td>\n",
       "      <td>0.354884</td>\n",
       "      <td>0.357083</td>\n",
       "      <td>0.477093</td>\n",
       "      <td>1.000000</td>\n",
       "      <td>0.812536</td>\n",
       "      <td>0.530396</td>\n",
       "    </tr>\n",
       "    <tr>\n",
       "      <th>Awards Nominated For</th>\n",
       "      <td>0.096052</td>\n",
       "      <td>-0.006903</td>\n",
       "      <td>0.372284</td>\n",
       "      <td>0.420225</td>\n",
       "      <td>0.536463</td>\n",
       "      <td>0.812536</td>\n",
       "      <td>1.000000</td>\n",
       "      <td>0.508007</td>\n",
       "    </tr>\n",
       "    <tr>\n",
       "      <th>IMDb Votes</th>\n",
       "      <td>-0.000686</td>\n",
       "      <td>-0.284047</td>\n",
       "      <td>0.331376</td>\n",
       "      <td>0.329521</td>\n",
       "      <td>0.382587</td>\n",
       "      <td>0.530396</td>\n",
       "      <td>0.508007</td>\n",
       "      <td>1.000000</td>\n",
       "    </tr>\n",
       "  </tbody>\n",
       "</table>\n",
       "</div>"
      ],
      "text/plain": [
       "                          VALUE  Hidden Gem Score  IMDb Score  \\\n",
       "VALUE                  1.000000         -0.039783    0.043990   \n",
       "Hidden Gem Score      -0.039783          1.000000    0.148024   \n",
       "IMDb Score             0.043990          0.148024    1.000000   \n",
       "Rotten Tomatoes Score  0.051306          0.502936    0.719458   \n",
       "Metacritic Score       0.055675          0.655198    0.736072   \n",
       "Awards Received        0.080921          0.030384    0.354884   \n",
       "Awards Nominated For   0.096052         -0.006903    0.372284   \n",
       "IMDb Votes            -0.000686         -0.284047    0.331376   \n",
       "\n",
       "                       Rotten Tomatoes Score  Metacritic Score  \\\n",
       "VALUE                               0.051306          0.055675   \n",
       "Hidden Gem Score                    0.502936          0.655198   \n",
       "IMDb Score                          0.719458          0.736072   \n",
       "Rotten Tomatoes Score               1.000000          0.911426   \n",
       "Metacritic Score                    0.911426          1.000000   \n",
       "Awards Received                     0.357083          0.477093   \n",
       "Awards Nominated For                0.420225          0.536463   \n",
       "IMDb Votes                          0.329521          0.382587   \n",
       "\n",
       "                       Awards Received  Awards Nominated For  IMDb Votes  \n",
       "VALUE                         0.080921              0.096052   -0.000686  \n",
       "Hidden Gem Score              0.030384             -0.006903   -0.284047  \n",
       "IMDb Score                    0.354884              0.372284    0.331376  \n",
       "Rotten Tomatoes Score         0.357083              0.420225    0.329521  \n",
       "Metacritic Score              0.477093              0.536463    0.382587  \n",
       "Awards Received               1.000000              0.812536    0.530396  \n",
       "Awards Nominated For          0.812536              1.000000    0.508007  \n",
       "IMDb Votes                    0.530396              0.508007    1.000000  "
      ]
     },
     "execution_count": 43,
     "metadata": {},
     "output_type": "execute_result"
    }
   ],
   "source": [
    "use_df.corr()"
   ]
  },
  {
   "cell_type": "code",
   "execution_count": 44,
   "metadata": {
    "ExecuteTime": {
     "end_time": "2021-07-11T08:36:40.291949Z",
     "start_time": "2021-07-11T08:36:40.274528Z"
    },
    "id": "DdmPpIWg6oUE"
   },
   "outputs": [
    {
     "name": "stdout",
     "output_type": "stream",
     "text": [
      "<class 'pandas.core.frame.DataFrame'>\n",
      "Int64Index: 2960 entries, 0 to 2959\n",
      "Data columns (total 26 columns):\n",
      " #   Column                 Non-Null Count  Dtype         \n",
      "---  ------                 --------------  -----         \n",
      " 0   Title                  2960 non-null   object        \n",
      " 1   Series or Movie        2960 non-null   object        \n",
      " 2   COUNTRY                2754 non-null   object        \n",
      " 3   Release Date           2895 non-null   datetime64[ns]\n",
      " 4   GENRE                  2590 non-null   object        \n",
      " 5   VALUE                  2960 non-null   int64         \n",
      " 6   Genre_all              2842 non-null   object        \n",
      " 7   Tags                   2951 non-null   object        \n",
      " 8   Languages              2811 non-null   object        \n",
      " 9   Hidden Gem Score       2808 non-null   float64       \n",
      " 10  Country Availability   2955 non-null   object        \n",
      " 11  Runtime                2960 non-null   object        \n",
      " 12  Director               2247 non-null   object        \n",
      " 13  Writer                 2446 non-null   object        \n",
      " 14  Actors                 2822 non-null   object        \n",
      " 15  View Rating            2252 non-null   object        \n",
      " 16  IMDb Score             2808 non-null   float64       \n",
      " 17  Rotten Tomatoes Score  1575 non-null   float64       \n",
      " 18  Metacritic Score       1450 non-null   float64       \n",
      " 19  Awards Received        1470 non-null   float64       \n",
      " 20  Awards Nominated For   1870 non-null   float64       \n",
      " 21  Boxoffice              1295 non-null   object        \n",
      " 22  Netflix Release Date   2960 non-null   datetime64[ns]\n",
      " 23  Production House       1468 non-null   object        \n",
      " 24  Summary                2958 non-null   object        \n",
      " 25  IMDb Votes             2808 non-null   float64       \n",
      "dtypes: datetime64[ns](2), float64(7), int64(1), object(16)\n",
      "memory usage: 624.4+ KB\n"
     ]
    }
   ],
   "source": [
    "use_df.info()"
   ]
  },
  {
   "cell_type": "code",
   "execution_count": null,
   "metadata": {},
   "outputs": [],
   "source": []
  }
 ],
 "metadata": {
  "colab": {
   "name": "데이터셋merge_기본코드 (1).ipynb",
   "private_outputs": true,
   "provenance": []
  },
  "hide_input": false,
  "kernelspec": {
   "display_name": "Python 3",
   "language": "python",
   "name": "python3"
  },
  "language_info": {
   "codemirror_mode": {
    "name": "ipython",
    "version": 3
   },
   "file_extension": ".py",
   "mimetype": "text/x-python",
   "name": "python",
   "nbconvert_exporter": "python",
   "pygments_lexer": "ipython3",
   "version": "3.9.5"
  },
  "latex_envs": {
   "LaTeX_envs_menu_present": true,
   "autoclose": false,
   "autocomplete": true,
   "bibliofile": "biblio.bib",
   "cite_by": "apalike",
   "current_citInitial": 1,
   "eqLabelWithNumbers": true,
   "eqNumInitial": 1,
   "hotkeys": {
    "equation": "Ctrl-E",
    "itemize": "Ctrl-I"
   },
   "labels_anchors": false,
   "latex_user_defs": false,
   "report_style_numbering": false,
   "user_envs_cfg": false
  },
  "toc": {
   "base_numbering": 1,
   "nav_menu": {},
   "number_sections": true,
   "sideBar": true,
   "skip_h1_title": false,
   "title_cell": "Table of Contents",
   "title_sidebar": "Contents",
   "toc_cell": false,
   "toc_position": {},
   "toc_section_display": true,
   "toc_window_display": false
  },
  "varInspector": {
   "cols": {
    "lenName": 16,
    "lenType": 16,
    "lenVar": 40
   },
   "kernels_config": {
    "python": {
     "delete_cmd_postfix": "",
     "delete_cmd_prefix": "del ",
     "library": "var_list.py",
     "varRefreshCmd": "print(var_dic_list())"
    },
    "r": {
     "delete_cmd_postfix": ") ",
     "delete_cmd_prefix": "rm(",
     "library": "var_list.r",
     "varRefreshCmd": "cat(var_dic_list()) "
    }
   },
   "types_to_exclude": [
    "module",
    "function",
    "builtin_function_or_method",
    "instance",
    "_Feature"
   ],
   "window_display": false
  }
 },
 "nbformat": 4,
 "nbformat_minor": 1
}
