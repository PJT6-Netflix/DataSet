{
 "cells": [
  {
   "cell_type": "code",
   "execution_count": null,
   "id": "6a3503b8",
   "metadata": {
    "ExecuteTime": {
     "end_time": "2021-07-11T19:04:59.657142Z",
     "start_time": "2021-07-11T19:04:58.824932Z"
    }
   },
   "outputs": [],
   "source": [
    "import pandas as pd"
   ]
  },
  {
   "cell_type": "code",
   "execution_count": null,
   "id": "a6f60bbe",
   "metadata": {
    "ExecuteTime": {
     "end_time": "2021-07-11T19:04:59.692694Z",
     "start_time": "2021-07-11T19:04:59.659767Z"
    }
   },
   "outputs": [],
   "source": [
    "quality = pd.read_csv('./2_netflix_quality_0712.csv')"
   ]
  },
  {
   "cell_type": "code",
   "execution_count": null,
   "id": "578f18d1",
   "metadata": {
    "ExecuteTime": {
     "end_time": "2021-07-11T19:04:59.707236Z",
     "start_time": "2021-07-11T19:04:59.694875Z"
    }
   },
   "outputs": [],
   "source": [
    "quality.isnull().sum()"
   ]
  },
  {
   "cell_type": "code",
   "execution_count": null,
   "id": "579ddace",
   "metadata": {
    "ExecuteTime": {
     "end_time": "2021-07-11T19:04:59.727052Z",
     "start_time": "2021-07-11T19:04:59.708656Z"
    }
   },
   "outputs": [],
   "source": [
    "quality.head(20)"
   ]
  },
  {
   "cell_type": "markdown",
   "id": "5a6fe376",
   "metadata": {},
   "source": [
    "# quality 데이터 컬럼 정리"
   ]
  },
  {
   "cell_type": "code",
   "execution_count": null,
   "id": "b0c2373c",
   "metadata": {},
   "outputs": [],
   "source": [
    "title               \n",
    "type                \n",
    "titlereleased      \n",
    "rating              \n",
    "quality         \n",
    "actors         \n",
    "director     \n",
    "category  \n",
    "imdb             \n",
    "runtime          \n",
    "netflixid           \n",
    "date_released       \n",
    "description         \n",
    "4k                  \n",
    "language      "
   ]
  },
  {
   "cell_type": "code",
   "execution_count": null,
   "id": "705b5e01",
   "metadata": {
    "ExecuteTime": {
     "end_time": "2021-07-11T19:13:45.337839Z",
     "start_time": "2021-07-11T19:13:45.334037Z"
    }
   },
   "outputs": [],
   "source": [
    "df_hd=quality.copy()"
   ]
  },
  {
   "cell_type": "code",
   "execution_count": null,
   "id": "7821cdfd",
   "metadata": {
    "ExecuteTime": {
     "end_time": "2021-07-11T19:13:45.801794Z",
     "start_time": "2021-07-11T19:13:45.798718Z"
    }
   },
   "outputs": [],
   "source": [
    "df_hd.columns = ['Title','Series or Movie','Release Year','Rating','Quality','Actor','Diretor','Genre_all','Imdb','Runtime','NetflixID','Release Date','Description','4K','Language']"
   ]
  },
  {
   "cell_type": "code",
   "execution_count": null,
   "id": "d088ef96",
   "metadata": {
    "ExecuteTime": {
     "end_time": "2021-07-11T19:45:44.316001Z",
     "start_time": "2021-07-11T19:45:44.257568Z"
    }
   },
   "outputs": [],
   "source": [
    "df_hd.drop(columns=['Actor','Diretor','Genre_all','Imdb',\n",
    "                    'Runtime','NetflixID','Release Date','Description','Language'], axis=1, inplace=True)"
   ]
  },
  {
   "cell_type": "code",
   "execution_count": null,
   "id": "626d5a28",
   "metadata": {
    "ExecuteTime": {
     "end_time": "2021-07-11T19:15:49.429877Z",
     "start_time": "2021-07-11T19:15:49.421247Z"
    }
   },
   "outputs": [],
   "source": [
    "df_hd.head(1)"
   ]
  },
  {
   "cell_type": "code",
   "execution_count": null,
   "id": "f34ecd9e",
   "metadata": {
    "ExecuteTime": {
     "end_time": "2021-07-11T19:15:54.756700Z",
     "start_time": "2021-07-11T19:15:54.752488Z"
    }
   },
   "outputs": [],
   "source": [
    "df_hd.columns"
   ]
  },
  {
   "cell_type": "markdown",
   "id": "2c3f9e64",
   "metadata": {},
   "source": [
    "## 데이터 인코딩"
   ]
  },
  {
   "cell_type": "code",
   "execution_count": null,
   "id": "58e4b049",
   "metadata": {
    "ExecuteTime": {
     "end_time": "2021-07-11T19:17:19.349277Z",
     "start_time": "2021-07-11T19:17:19.331965Z"
    }
   },
   "outputs": [],
   "source": [
    "df_hd['Title'] = df_hd['Title'].str.replace(pat=r'[^\\w]', repl=r'', regex=True)\n",
    "df_hd['Title'].iloc[0]"
   ]
  },
  {
   "cell_type": "code",
   "execution_count": null,
   "id": "fbcc0caf",
   "metadata": {
    "ExecuteTime": {
     "end_time": "2021-07-11T19:18:15.010126Z",
     "start_time": "2021-07-11T19:18:12.835707Z"
    }
   },
   "outputs": [],
   "source": [
    "for i in range(len(df_hd['Title'])):\n",
    "    df_hd['Title'].iloc[i]= df_hd['Title'].iloc[i].lower()"
   ]
  },
  {
   "cell_type": "code",
   "execution_count": null,
   "id": "3532ac2f",
   "metadata": {
    "ExecuteTime": {
     "end_time": "2021-07-11T19:18:26.679293Z",
     "start_time": "2021-07-11T19:18:26.675206Z"
    }
   },
   "outputs": [],
   "source": [
    "df_hd['Title'].iloc[0]"
   ]
  },
  {
   "cell_type": "code",
   "execution_count": null,
   "id": "36b03a63",
   "metadata": {
    "ExecuteTime": {
     "end_time": "2021-07-11T19:19:00.092202Z",
     "start_time": "2021-07-11T19:19:00.085395Z"
    }
   },
   "outputs": [],
   "source": [
    "print(quality.title.duplicated())"
   ]
  },
  {
   "cell_type": "code",
   "execution_count": null,
   "id": "f8bceec9",
   "metadata": {
    "ExecuteTime": {
     "end_time": "2021-07-11T19:20:33.179019Z",
     "start_time": "2021-07-11T19:20:33.174604Z"
    }
   },
   "outputs": [],
   "source": [
    "print(df_hd.Title.duplicated().sum())\n",
    "print()"
   ]
  },
  {
   "cell_type": "code",
   "execution_count": null,
   "id": "bd8a5738",
   "metadata": {
    "ExecuteTime": {
     "end_time": "2021-07-11T19:31:52.184998Z",
     "start_time": "2021-07-11T19:31:52.173176Z"
    }
   },
   "outputs": [],
   "source": [
    "df_hd.head(1)"
   ]
  },
  {
   "cell_type": "code",
   "execution_count": null,
   "id": "7d25a300",
   "metadata": {
    "ExecuteTime": {
     "end_time": "2021-07-11T19:31:59.292758Z",
     "start_time": "2021-07-11T19:31:59.273477Z"
    }
   },
   "outputs": [],
   "source": [
    "df_hd.info()"
   ]
  },
  {
   "cell_type": "code",
   "execution_count": null,
   "id": "f4b5a840",
   "metadata": {
    "ExecuteTime": {
     "end_time": "2021-07-11T19:33:02.556020Z",
     "start_time": "2021-07-11T19:33:02.528095Z"
    }
   },
   "outputs": [],
   "source": [
    "df_hd.to_csv('2_original_dfHD_0712.csv')"
   ]
  },
  {
   "cell_type": "code",
   "execution_count": null,
   "id": "738bc66d",
   "metadata": {
    "ExecuteTime": {
     "end_time": "2021-07-11T19:33:09.618536Z",
     "start_time": "2021-07-11T19:33:09.609657Z"
    }
   },
   "outputs": [],
   "source": [
    "df_hd.corr()"
   ]
  },
  {
   "cell_type": "code",
   "execution_count": null,
   "id": "65fd1d6a",
   "metadata": {},
   "outputs": [],
   "source": []
  }
 ],
 "metadata": {
  "hide_input": false,
  "kernelspec": {
   "display_name": "Python TSA",
   "language": "python",
   "name": "tsa"
  },
  "language_info": {
   "codemirror_mode": {
    "name": "ipython",
    "version": 3
   },
   "file_extension": ".py",
   "mimetype": "text/x-python",
   "name": "python",
   "nbconvert_exporter": "python",
   "pygments_lexer": "ipython3",
   "version": "3.9.5"
  },
  "latex_envs": {
   "LaTeX_envs_menu_present": true,
   "autoclose": false,
   "autocomplete": true,
   "bibliofile": "biblio.bib",
   "cite_by": "apalike",
   "current_citInitial": 1,
   "eqLabelWithNumbers": true,
   "eqNumInitial": 1,
   "hotkeys": {
    "equation": "Ctrl-E",
    "itemize": "Ctrl-I"
   },
   "labels_anchors": false,
   "latex_user_defs": false,
   "report_style_numbering": false,
   "user_envs_cfg": false
  },
  "toc": {
   "base_numbering": 1,
   "nav_menu": {},
   "number_sections": true,
   "sideBar": true,
   "skip_h1_title": false,
   "title_cell": "Table of Contents",
   "title_sidebar": "Contents",
   "toc_cell": false,
   "toc_position": {},
   "toc_section_display": true,
   "toc_window_display": false
  },
  "varInspector": {
   "cols": {
    "lenName": 16,
    "lenType": 16,
    "lenVar": 40
   },
   "kernels_config": {
    "python": {
     "delete_cmd_postfix": "",
     "delete_cmd_prefix": "del ",
     "library": "var_list.py",
     "varRefreshCmd": "print(var_dic_list())"
    },
    "r": {
     "delete_cmd_postfix": ") ",
     "delete_cmd_prefix": "rm(",
     "library": "var_list.r",
     "varRefreshCmd": "cat(var_dic_list()) "
    }
   },
   "types_to_exclude": [
    "module",
    "function",
    "builtin_function_or_method",
    "instance",
    "_Feature"
   ],
   "window_display": false
  }
 },
 "nbformat": 4,
 "nbformat_minor": 5
}
