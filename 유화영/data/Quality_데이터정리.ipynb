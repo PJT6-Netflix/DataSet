{
 "cells": [
  {
   "cell_type": "code",
   "execution_count": 1,
   "id": "d37544cd",
   "metadata": {
    "ExecuteTime": {
     "end_time": "2021-07-12T07:13:04.474673Z",
     "start_time": "2021-07-12T07:13:04.135932Z"
    }
   },
   "outputs": [],
   "source": [
    "import pandas as pd"
   ]
  },
  {
   "cell_type": "code",
   "execution_count": 3,
   "id": "aecc2eec",
   "metadata": {
    "ExecuteTime": {
     "end_time": "2021-07-12T07:13:15.988278Z",
     "start_time": "2021-07-12T07:13:15.944169Z"
    }
   },
   "outputs": [],
   "source": [
    "quality = pd.read_csv('./2_netflix_quality_0712.csv', encoding='utf-8-sig')"
   ]
  },
  {
   "cell_type": "code",
   "execution_count": 4,
   "id": "24bc3a01",
   "metadata": {
    "ExecuteTime": {
     "end_time": "2021-07-12T07:13:17.952593Z",
     "start_time": "2021-07-12T07:13:17.936483Z"
    }
   },
   "outputs": [
    {
     "data": {
      "text/plain": [
       "title               0\n",
       "type                0\n",
       "titlereleased      46\n",
       "rating              0\n",
       "quality          1043\n",
       "actors            443\n",
       "director         2024\n",
       "category         4494\n",
       "imdb             1212\n",
       "runtime          1917\n",
       "netflixid           0\n",
       "date_released       0\n",
       "description         0\n",
       "4k                  0\n",
       "language            0\n",
       "dtype: int64"
      ]
     },
     "execution_count": 4,
     "metadata": {},
     "output_type": "execute_result"
    }
   ],
   "source": [
    "quality.isnull().sum()"
   ]
  },
  {
   "cell_type": "code",
   "execution_count": 5,
   "id": "840ea61d",
   "metadata": {
    "ExecuteTime": {
     "end_time": "2021-07-12T07:13:19.512191Z",
     "start_time": "2021-07-12T07:13:19.482032Z"
    }
   },
   "outputs": [
    {
     "data": {
      "text/html": [
       "<div>\n",
       "<style scoped>\n",
       "    .dataframe tbody tr th:only-of-type {\n",
       "        vertical-align: middle;\n",
       "    }\n",
       "\n",
       "    .dataframe tbody tr th {\n",
       "        vertical-align: top;\n",
       "    }\n",
       "\n",
       "    .dataframe thead th {\n",
       "        text-align: right;\n",
       "    }\n",
       "</style>\n",
       "<table border=\"1\" class=\"dataframe\">\n",
       "  <thead>\n",
       "    <tr style=\"text-align: right;\">\n",
       "      <th></th>\n",
       "      <th>title</th>\n",
       "      <th>type</th>\n",
       "      <th>titlereleased</th>\n",
       "      <th>rating</th>\n",
       "      <th>quality</th>\n",
       "      <th>actors</th>\n",
       "      <th>director</th>\n",
       "      <th>category</th>\n",
       "      <th>imdb</th>\n",
       "      <th>runtime</th>\n",
       "      <th>netflixid</th>\n",
       "      <th>date_released</th>\n",
       "      <th>description</th>\n",
       "      <th>4k</th>\n",
       "      <th>language</th>\n",
       "    </tr>\n",
       "  </thead>\n",
       "  <tbody>\n",
       "    <tr>\n",
       "      <th>0</th>\n",
       "      <td>#blackAF</td>\n",
       "      <td>TV</td>\n",
       "      <td>2020</td>\n",
       "      <td>TV-MA</td>\n",
       "      <td>UltraHD</td>\n",
       "      <td>Kenya Barris, Rashida Jones, Iman Benson, Genn...</td>\n",
       "      <td>NaN</td>\n",
       "      <td>NaN</td>\n",
       "      <td>6.6</td>\n",
       "      <td>NaN</td>\n",
       "      <td>81056700</td>\n",
       "      <td>2020-04-17</td>\n",
       "      <td>Kenya Barris and his family navigate relations...</td>\n",
       "      <td>1</td>\n",
       "      <td>english</td>\n",
       "    </tr>\n",
       "    <tr>\n",
       "      <th>1</th>\n",
       "      <td>#cats_the_mewvie</td>\n",
       "      <td>TV</td>\n",
       "      <td>2020</td>\n",
       "      <td>TV-14</td>\n",
       "      <td>SuperHD</td>\n",
       "      <td>NaN</td>\n",
       "      <td>Michael Margolis</td>\n",
       "      <td>NaN</td>\n",
       "      <td>5.2</td>\n",
       "      <td>89</td>\n",
       "      <td>81218137</td>\n",
       "      <td>2020-02-05</td>\n",
       "      <td>This pawesome documentary explores how our fel...</td>\n",
       "      <td>0</td>\n",
       "      <td>english</td>\n",
       "    </tr>\n",
       "    <tr>\n",
       "      <th>2</th>\n",
       "      <td>#realityhigh</td>\n",
       "      <td>TV</td>\n",
       "      <td>2017</td>\n",
       "      <td>TV-14</td>\n",
       "      <td>UltraHD</td>\n",
       "      <td>Nesta Cooper, Kate Walsh, John Michael Higgins...</td>\n",
       "      <td>Fernando Lebrija</td>\n",
       "      <td>NaN</td>\n",
       "      <td>5.2</td>\n",
       "      <td>99</td>\n",
       "      <td>80125979</td>\n",
       "      <td>2017-09-08</td>\n",
       "      <td>When nerdy high schooler Dani finally attracts...</td>\n",
       "      <td>1</td>\n",
       "      <td>english</td>\n",
       "    </tr>\n",
       "    <tr>\n",
       "      <th>3</th>\n",
       "      <td>#Rucker50</td>\n",
       "      <td>TV</td>\n",
       "      <td>2016</td>\n",
       "      <td>TV-G</td>\n",
       "      <td>SuperHD</td>\n",
       "      <td>NaN</td>\n",
       "      <td>Robert McCullough Jr.</td>\n",
       "      <td>NaN</td>\n",
       "      <td>5.3</td>\n",
       "      <td>56</td>\n",
       "      <td>80147908</td>\n",
       "      <td>2016-12-01</td>\n",
       "      <td>This documentary celebrates the 50th anniversa...</td>\n",
       "      <td>0</td>\n",
       "      <td>english</td>\n",
       "    </tr>\n",
       "    <tr>\n",
       "      <th>4</th>\n",
       "      <td>#Selfie</td>\n",
       "      <td>TV</td>\n",
       "      <td>2014</td>\n",
       "      <td>TV-MA</td>\n",
       "      <td>SuperHD</td>\n",
       "      <td>Flavia Hojda, Crina Semciuc, Olimpia Melinte, ...</td>\n",
       "      <td>Cristina Jacob</td>\n",
       "      <td>NaN</td>\n",
       "      <td>6.1</td>\n",
       "      <td>125</td>\n",
       "      <td>81092768</td>\n",
       "      <td>2019-06-01</td>\n",
       "      <td>Two days before their final exams, three teen ...</td>\n",
       "      <td>0</td>\n",
       "      <td>other</td>\n",
       "    </tr>\n",
       "    <tr>\n",
       "      <th>5</th>\n",
       "      <td>#Selfie 69</td>\n",
       "      <td>TV</td>\n",
       "      <td>2016</td>\n",
       "      <td>TV-MA</td>\n",
       "      <td>SuperHD</td>\n",
       "      <td>Maia Morgenstern, Olimpia Melinte, Crina Semci...</td>\n",
       "      <td>Cristina Jacob</td>\n",
       "      <td>NaN</td>\n",
       "      <td>6.3</td>\n",
       "      <td>118</td>\n",
       "      <td>81092766</td>\n",
       "      <td>2019-06-01</td>\n",
       "      <td>After a painful breakup, a trio of party-lovin...</td>\n",
       "      <td>0</td>\n",
       "      <td>other</td>\n",
       "    </tr>\n",
       "    <tr>\n",
       "      <th>6</th>\n",
       "      <td>(Un)Well</td>\n",
       "      <td>TV</td>\n",
       "      <td>2020–</td>\n",
       "      <td>TV-MA</td>\n",
       "      <td>NaN</td>\n",
       "      <td>NaN</td>\n",
       "      <td>NaN</td>\n",
       "      <td>Documentary, Reality-TV</td>\n",
       "      <td>NaN</td>\n",
       "      <td>NaN</td>\n",
       "      <td>81044208</td>\n",
       "      <td>2020-08-12</td>\n",
       "      <td>This docuseries takes a deep dive into the luc...</td>\n",
       "      <td>0</td>\n",
       "      <td>english</td>\n",
       "    </tr>\n",
       "    <tr>\n",
       "      <th>7</th>\n",
       "      <td>01-Oct</td>\n",
       "      <td>TV</td>\n",
       "      <td>2014</td>\n",
       "      <td>TV-14</td>\n",
       "      <td>SuperHD</td>\n",
       "      <td>Sadiq Daba, David Bailie, Kayode Olaiya, Kehin...</td>\n",
       "      <td>Kunle Afolayan</td>\n",
       "      <td>NaN</td>\n",
       "      <td>6.5</td>\n",
       "      <td>148</td>\n",
       "      <td>80032842</td>\n",
       "      <td>2019-09-01</td>\n",
       "      <td>Against the backdrop of Nigeria's looming inde...</td>\n",
       "      <td>0</td>\n",
       "      <td>english</td>\n",
       "    </tr>\n",
       "    <tr>\n",
       "      <th>8</th>\n",
       "      <td>09-Feb</td>\n",
       "      <td>TV</td>\n",
       "      <td>2018</td>\n",
       "      <td>TV-14</td>\n",
       "      <td>SuperHD</td>\n",
       "      <td>Shahd El Yaseen, Shaila Sabt, Hala, Hanadi Al-...</td>\n",
       "      <td>NaN</td>\n",
       "      <td>NaN</td>\n",
       "      <td>NaN</td>\n",
       "      <td>NaN</td>\n",
       "      <td>81049315</td>\n",
       "      <td>2019-03-20</td>\n",
       "      <td>As a psychology professor faces Alzheimer's, h...</td>\n",
       "      <td>0</td>\n",
       "      <td>arabic</td>\n",
       "    </tr>\n",
       "    <tr>\n",
       "      <th>9</th>\n",
       "      <td>10 Days in Sun City</td>\n",
       "      <td>TV</td>\n",
       "      <td>2017</td>\n",
       "      <td>TV-14</td>\n",
       "      <td>SuperHD</td>\n",
       "      <td>Ayo Makun, Adesua Etomi, Richard Mofe-Damijo, ...</td>\n",
       "      <td>Adze Ugah</td>\n",
       "      <td>NaN</td>\n",
       "      <td>5.2</td>\n",
       "      <td>87</td>\n",
       "      <td>81172729</td>\n",
       "      <td>2019-10-18</td>\n",
       "      <td>After his girlfriend wins the Miss Nigeria pag...</td>\n",
       "      <td>0</td>\n",
       "      <td>english</td>\n",
       "    </tr>\n",
       "    <tr>\n",
       "      <th>10</th>\n",
       "      <td>10 jours en or</td>\n",
       "      <td>TV</td>\n",
       "      <td>2012</td>\n",
       "      <td>TV-14</td>\n",
       "      <td>SuperHD</td>\n",
       "      <td>Franck Dubosc, Claude Rich, Marie Kremer, Math...</td>\n",
       "      <td>Nicolas Brossette</td>\n",
       "      <td>NaN</td>\n",
       "      <td>5.8</td>\n",
       "      <td>96</td>\n",
       "      <td>80178940</td>\n",
       "      <td>2017-07-01</td>\n",
       "      <td>When a carefree bachelor is unexpectedly left ...</td>\n",
       "      <td>0</td>\n",
       "      <td>french</td>\n",
       "    </tr>\n",
       "    <tr>\n",
       "      <th>11</th>\n",
       "      <td>100 Days My Prince</td>\n",
       "      <td>TV</td>\n",
       "      <td>2018–</td>\n",
       "      <td>TV-14</td>\n",
       "      <td>NaN</td>\n",
       "      <td>Kyung-soo Do, Ji-Hyun Nam, Sung-ha Jo, Han-chu...</td>\n",
       "      <td>NaN</td>\n",
       "      <td>Comedy, History, Romance</td>\n",
       "      <td>NaN</td>\n",
       "      <td>75 min</td>\n",
       "      <td>81267722</td>\n",
       "      <td>2020-12-07</td>\n",
       "      <td>Upon losing his memory, a crown prince encount...</td>\n",
       "      <td>0</td>\n",
       "      <td>korean</td>\n",
       "    </tr>\n",
       "    <tr>\n",
       "      <th>12</th>\n",
       "      <td>100 Days of Solitude</td>\n",
       "      <td>TV</td>\n",
       "      <td>2018</td>\n",
       "      <td>TV-MA</td>\n",
       "      <td>SuperHD</td>\n",
       "      <td>NaN</td>\n",
       "      <td>NaN</td>\n",
       "      <td>NaN</td>\n",
       "      <td>6.6</td>\n",
       "      <td>93</td>\n",
       "      <td>81001804</td>\n",
       "      <td>2018-07-06</td>\n",
       "      <td>Spanish photographer José Díaz spends 100 days...</td>\n",
       "      <td>0</td>\n",
       "      <td>spanish</td>\n",
       "    </tr>\n",
       "    <tr>\n",
       "      <th>13</th>\n",
       "      <td>100 Humans</td>\n",
       "      <td>TV</td>\n",
       "      <td>2020</td>\n",
       "      <td>TV-14</td>\n",
       "      <td>UltraHD</td>\n",
       "      <td>Zainab Johnson, Sammy Obeid, Alie Ward</td>\n",
       "      <td>NaN</td>\n",
       "      <td>NaN</td>\n",
       "      <td>5.6</td>\n",
       "      <td>NaN</td>\n",
       "      <td>80215997</td>\n",
       "      <td>2020-03-13</td>\n",
       "      <td>One hundred hardy souls from diverse backgroun...</td>\n",
       "      <td>1</td>\n",
       "      <td>english</td>\n",
       "    </tr>\n",
       "    <tr>\n",
       "      <th>14</th>\n",
       "      <td>100 Meters</td>\n",
       "      <td>TV</td>\n",
       "      <td>2016</td>\n",
       "      <td>TV-MA</td>\n",
       "      <td>SuperHD</td>\n",
       "      <td>Dani Rovira, Karra Elejalde, Alexandra Jiménez...</td>\n",
       "      <td>Marcel Barrena</td>\n",
       "      <td>NaN</td>\n",
       "      <td>7.5</td>\n",
       "      <td>108</td>\n",
       "      <td>80141173</td>\n",
       "      <td>2017-03-10</td>\n",
       "      <td>A man who is diagnosed with multiple sclerosis...</td>\n",
       "      <td>0</td>\n",
       "      <td>spanish</td>\n",
       "    </tr>\n",
       "    <tr>\n",
       "      <th>15</th>\n",
       "      <td>100 Things to do Before High School</td>\n",
       "      <td>TV</td>\n",
       "      <td>2014</td>\n",
       "      <td>TV-Y</td>\n",
       "      <td>SuperHD</td>\n",
       "      <td>Isabela Moner, Jaheem Toombs, Owen Joyner, Jac...</td>\n",
       "      <td>NaN</td>\n",
       "      <td>NaN</td>\n",
       "      <td>6.1</td>\n",
       "      <td>44</td>\n",
       "      <td>81215856</td>\n",
       "      <td>2019-11-01</td>\n",
       "      <td>Led by seventh-grader C.J., three students who...</td>\n",
       "      <td>0</td>\n",
       "      <td>english</td>\n",
       "    </tr>\n",
       "    <tr>\n",
       "      <th>16</th>\n",
       "      <td>1000 Rupee Note</td>\n",
       "      <td>TV</td>\n",
       "      <td>2014</td>\n",
       "      <td>TV-14</td>\n",
       "      <td>SuperHD</td>\n",
       "      <td>Usha Naik, Sandeep Pathak, Shrikant Yadav, Gan...</td>\n",
       "      <td>Shrihari Sathe</td>\n",
       "      <td>NaN</td>\n",
       "      <td>7.3</td>\n",
       "      <td>89</td>\n",
       "      <td>80113785</td>\n",
       "      <td>2016-12-01</td>\n",
       "      <td>After randomly receiving a handsome political ...</td>\n",
       "      <td>0</td>\n",
       "      <td>other</td>\n",
       "    </tr>\n",
       "    <tr>\n",
       "      <th>17</th>\n",
       "      <td>13 Reasons Why</td>\n",
       "      <td>TV</td>\n",
       "      <td>2017</td>\n",
       "      <td>TV-MA</td>\n",
       "      <td>UltraHD</td>\n",
       "      <td>Dylan Minnette, Katherine Langford, Alisha Boe...</td>\n",
       "      <td>NaN</td>\n",
       "      <td>NaN</td>\n",
       "      <td>7.8</td>\n",
       "      <td>NaN</td>\n",
       "      <td>80117470</td>\n",
       "      <td>2017-03-31</td>\n",
       "      <td>Secrets. Lies. Revenge. Everyone at Liberty Hi...</td>\n",
       "      <td>1</td>\n",
       "      <td>english</td>\n",
       "    </tr>\n",
       "    <tr>\n",
       "      <th>18</th>\n",
       "      <td>13 Reasons Why: Beyond the Reasons</td>\n",
       "      <td>TV</td>\n",
       "      <td>2017</td>\n",
       "      <td>TV-MA</td>\n",
       "      <td>UltraHD</td>\n",
       "      <td>Brian Yorkey, Alisha Boe, Dylan Minnette, Kath...</td>\n",
       "      <td>NaN</td>\n",
       "      <td>NaN</td>\n",
       "      <td>7.8</td>\n",
       "      <td>29</td>\n",
       "      <td>80996791</td>\n",
       "      <td>2018-05-07</td>\n",
       "      <td>Cast members, writers, producers and mental he...</td>\n",
       "      <td>1</td>\n",
       "      <td>english</td>\n",
       "    </tr>\n",
       "    <tr>\n",
       "      <th>19</th>\n",
       "      <td>13TH</td>\n",
       "      <td>TV</td>\n",
       "      <td>2016</td>\n",
       "      <td>TV-MA</td>\n",
       "      <td>SuperHD</td>\n",
       "      <td>NaN</td>\n",
       "      <td>Ava DuVernay</td>\n",
       "      <td>NaN</td>\n",
       "      <td>8.2</td>\n",
       "      <td>100</td>\n",
       "      <td>80091741</td>\n",
       "      <td>2016-10-07</td>\n",
       "      <td>In this thought-provoking documentary, scholar...</td>\n",
       "      <td>0</td>\n",
       "      <td>english</td>\n",
       "    </tr>\n",
       "  </tbody>\n",
       "</table>\n",
       "</div>"
      ],
      "text/plain": [
       "                                  title type titlereleased rating  quality  \\\n",
       "0                              #blackAF   TV          2020  TV-MA  UltraHD   \n",
       "1                      #cats_the_mewvie   TV          2020  TV-14  SuperHD   \n",
       "2                          #realityhigh   TV          2017  TV-14  UltraHD   \n",
       "3                             #Rucker50   TV          2016   TV-G  SuperHD   \n",
       "4                               #Selfie   TV          2014  TV-MA  SuperHD   \n",
       "5                            #Selfie 69   TV          2016  TV-MA  SuperHD   \n",
       "6                              (Un)Well   TV         2020–  TV-MA      NaN   \n",
       "7                                01-Oct   TV          2014  TV-14  SuperHD   \n",
       "8                                09-Feb   TV          2018  TV-14  SuperHD   \n",
       "9                   10 Days in Sun City   TV          2017  TV-14  SuperHD   \n",
       "10                       10 jours en or   TV          2012  TV-14  SuperHD   \n",
       "11                   100 Days My Prince   TV         2018–  TV-14      NaN   \n",
       "12                 100 Days of Solitude   TV          2018  TV-MA  SuperHD   \n",
       "13                           100 Humans   TV          2020  TV-14  UltraHD   \n",
       "14                           100 Meters   TV          2016  TV-MA  SuperHD   \n",
       "15  100 Things to do Before High School   TV          2014   TV-Y  SuperHD   \n",
       "16                      1000 Rupee Note   TV          2014  TV-14  SuperHD   \n",
       "17                       13 Reasons Why   TV          2017  TV-MA  UltraHD   \n",
       "18   13 Reasons Why: Beyond the Reasons   TV          2017  TV-MA  UltraHD   \n",
       "19                                 13TH   TV          2016  TV-MA  SuperHD   \n",
       "\n",
       "                                               actors               director  \\\n",
       "0   Kenya Barris, Rashida Jones, Iman Benson, Genn...                    NaN   \n",
       "1                                                 NaN       Michael Margolis   \n",
       "2   Nesta Cooper, Kate Walsh, John Michael Higgins...       Fernando Lebrija   \n",
       "3                                                 NaN  Robert McCullough Jr.   \n",
       "4   Flavia Hojda, Crina Semciuc, Olimpia Melinte, ...         Cristina Jacob   \n",
       "5   Maia Morgenstern, Olimpia Melinte, Crina Semci...         Cristina Jacob   \n",
       "6                                                 NaN                    NaN   \n",
       "7   Sadiq Daba, David Bailie, Kayode Olaiya, Kehin...         Kunle Afolayan   \n",
       "8   Shahd El Yaseen, Shaila Sabt, Hala, Hanadi Al-...                    NaN   \n",
       "9   Ayo Makun, Adesua Etomi, Richard Mofe-Damijo, ...              Adze Ugah   \n",
       "10  Franck Dubosc, Claude Rich, Marie Kremer, Math...      Nicolas Brossette   \n",
       "11  Kyung-soo Do, Ji-Hyun Nam, Sung-ha Jo, Han-chu...                    NaN   \n",
       "12                                                NaN                    NaN   \n",
       "13             Zainab Johnson, Sammy Obeid, Alie Ward                    NaN   \n",
       "14  Dani Rovira, Karra Elejalde, Alexandra Jiménez...         Marcel Barrena   \n",
       "15  Isabela Moner, Jaheem Toombs, Owen Joyner, Jac...                    NaN   \n",
       "16  Usha Naik, Sandeep Pathak, Shrikant Yadav, Gan...         Shrihari Sathe   \n",
       "17  Dylan Minnette, Katherine Langford, Alisha Boe...                    NaN   \n",
       "18  Brian Yorkey, Alisha Boe, Dylan Minnette, Kath...                    NaN   \n",
       "19                                                NaN           Ava DuVernay   \n",
       "\n",
       "                    category imdb runtime  netflixid date_released  \\\n",
       "0                        NaN  6.6     NaN   81056700    2020-04-17   \n",
       "1                        NaN  5.2      89   81218137    2020-02-05   \n",
       "2                        NaN  5.2      99   80125979    2017-09-08   \n",
       "3                        NaN  5.3      56   80147908    2016-12-01   \n",
       "4                        NaN  6.1     125   81092768    2019-06-01   \n",
       "5                        NaN  6.3     118   81092766    2019-06-01   \n",
       "6    Documentary, Reality-TV  NaN     NaN   81044208    2020-08-12   \n",
       "7                        NaN  6.5     148   80032842    2019-09-01   \n",
       "8                        NaN  NaN     NaN   81049315    2019-03-20   \n",
       "9                        NaN  5.2      87   81172729    2019-10-18   \n",
       "10                       NaN  5.8      96   80178940    2017-07-01   \n",
       "11  Comedy, History, Romance  NaN  75 min   81267722    2020-12-07   \n",
       "12                       NaN  6.6      93   81001804    2018-07-06   \n",
       "13                       NaN  5.6     NaN   80215997    2020-03-13   \n",
       "14                       NaN  7.5     108   80141173    2017-03-10   \n",
       "15                       NaN  6.1      44   81215856    2019-11-01   \n",
       "16                       NaN  7.3      89   80113785    2016-12-01   \n",
       "17                       NaN  7.8     NaN   80117470    2017-03-31   \n",
       "18                       NaN  7.8      29   80996791    2018-05-07   \n",
       "19                       NaN  8.2     100   80091741    2016-10-07   \n",
       "\n",
       "                                          description  4k language  \n",
       "0   Kenya Barris and his family navigate relations...   1  english  \n",
       "1   This pawesome documentary explores how our fel...   0  english  \n",
       "2   When nerdy high schooler Dani finally attracts...   1  english  \n",
       "3   This documentary celebrates the 50th anniversa...   0  english  \n",
       "4   Two days before their final exams, three teen ...   0    other  \n",
       "5   After a painful breakup, a trio of party-lovin...   0    other  \n",
       "6   This docuseries takes a deep dive into the luc...   0  english  \n",
       "7   Against the backdrop of Nigeria's looming inde...   0  english  \n",
       "8   As a psychology professor faces Alzheimer's, h...   0   arabic  \n",
       "9   After his girlfriend wins the Miss Nigeria pag...   0  english  \n",
       "10  When a carefree bachelor is unexpectedly left ...   0   french  \n",
       "11  Upon losing his memory, a crown prince encount...   0   korean  \n",
       "12  Spanish photographer José Díaz spends 100 days...   0  spanish  \n",
       "13  One hundred hardy souls from diverse backgroun...   1  english  \n",
       "14  A man who is diagnosed with multiple sclerosis...   0  spanish  \n",
       "15  Led by seventh-grader C.J., three students who...   0  english  \n",
       "16  After randomly receiving a handsome political ...   0    other  \n",
       "17  Secrets. Lies. Revenge. Everyone at Liberty Hi...   1  english  \n",
       "18  Cast members, writers, producers and mental he...   1  english  \n",
       "19  In this thought-provoking documentary, scholar...   0  english  "
      ]
     },
     "execution_count": 5,
     "metadata": {},
     "output_type": "execute_result"
    }
   ],
   "source": [
    "quality.head(20)"
   ]
  },
  {
   "cell_type": "markdown",
   "id": "2b374ee1",
   "metadata": {},
   "source": [
    "# quality 데이터 컬럼 정리"
   ]
  },
  {
   "cell_type": "code",
   "execution_count": 6,
   "id": "232f77ae",
   "metadata": {
    "ExecuteTime": {
     "end_time": "2021-07-12T07:13:20.711062Z",
     "start_time": "2021-07-12T07:13:20.706034Z"
    }
   },
   "outputs": [],
   "source": [
    "df_hd=quality.copy()"
   ]
  },
  {
   "cell_type": "code",
   "execution_count": 7,
   "id": "b8f3cf36",
   "metadata": {
    "ExecuteTime": {
     "end_time": "2021-07-12T07:13:21.120411Z",
     "start_time": "2021-07-12T07:13:21.116754Z"
    }
   },
   "outputs": [],
   "source": [
    "df_hd.columns = ['Title','Series or Movie','Release Year','Rating','Quality','Actor','Diretor','Genre_all','Imdb','Runtime','NetflixID','Release Date','Description','4K','Language']"
   ]
  },
  {
   "cell_type": "code",
   "execution_count": 8,
   "id": "fbd54716",
   "metadata": {
    "ExecuteTime": {
     "end_time": "2021-07-12T07:13:21.580881Z",
     "start_time": "2021-07-12T07:13:21.576679Z"
    }
   },
   "outputs": [],
   "source": [
    "df_hd.drop(columns=['Actor','Diretor','Genre_all','Imdb',\n",
    "                    'Runtime','NetflixID','Release Date','Description','Language'], axis=1, inplace=True)"
   ]
  },
  {
   "cell_type": "code",
   "execution_count": 9,
   "id": "d2699e4e",
   "metadata": {
    "ExecuteTime": {
     "end_time": "2021-07-12T07:13:22.048547Z",
     "start_time": "2021-07-12T07:13:22.038843Z"
    }
   },
   "outputs": [
    {
     "data": {
      "text/html": [
       "<div>\n",
       "<style scoped>\n",
       "    .dataframe tbody tr th:only-of-type {\n",
       "        vertical-align: middle;\n",
       "    }\n",
       "\n",
       "    .dataframe tbody tr th {\n",
       "        vertical-align: top;\n",
       "    }\n",
       "\n",
       "    .dataframe thead th {\n",
       "        text-align: right;\n",
       "    }\n",
       "</style>\n",
       "<table border=\"1\" class=\"dataframe\">\n",
       "  <thead>\n",
       "    <tr style=\"text-align: right;\">\n",
       "      <th></th>\n",
       "      <th>Title</th>\n",
       "      <th>Series or Movie</th>\n",
       "      <th>Release Year</th>\n",
       "      <th>Rating</th>\n",
       "      <th>Quality</th>\n",
       "      <th>4K</th>\n",
       "    </tr>\n",
       "  </thead>\n",
       "  <tbody>\n",
       "    <tr>\n",
       "      <th>0</th>\n",
       "      <td>#blackAF</td>\n",
       "      <td>TV</td>\n",
       "      <td>2020</td>\n",
       "      <td>TV-MA</td>\n",
       "      <td>UltraHD</td>\n",
       "      <td>1</td>\n",
       "    </tr>\n",
       "  </tbody>\n",
       "</table>\n",
       "</div>"
      ],
      "text/plain": [
       "      Title Series or Movie Release Year Rating  Quality  4K\n",
       "0  #blackAF              TV         2020  TV-MA  UltraHD   1"
      ]
     },
     "execution_count": 9,
     "metadata": {},
     "output_type": "execute_result"
    }
   ],
   "source": [
    "df_hd.head(1)"
   ]
  },
  {
   "cell_type": "code",
   "execution_count": 10,
   "id": "88c631c5",
   "metadata": {
    "ExecuteTime": {
     "end_time": "2021-07-12T07:13:22.481640Z",
     "start_time": "2021-07-12T07:13:22.477601Z"
    }
   },
   "outputs": [
    {
     "data": {
      "text/plain": [
       "Index(['Title', 'Series or Movie', 'Release Year', 'Rating', 'Quality', '4K'], dtype='object')"
      ]
     },
     "execution_count": 10,
     "metadata": {},
     "output_type": "execute_result"
    }
   ],
   "source": [
    "df_hd.columns"
   ]
  },
  {
   "cell_type": "markdown",
   "id": "21ad6926",
   "metadata": {},
   "source": [
    "## 데이터 인코딩"
   ]
  },
  {
   "cell_type": "code",
   "execution_count": 11,
   "id": "a0ef43e9",
   "metadata": {
    "ExecuteTime": {
     "end_time": "2021-07-12T07:13:24.675402Z",
     "start_time": "2021-07-12T07:13:24.657069Z"
    }
   },
   "outputs": [
    {
     "data": {
      "text/plain": [
       "'blackAF'"
      ]
     },
     "execution_count": 11,
     "metadata": {},
     "output_type": "execute_result"
    }
   ],
   "source": [
    "df_hd['Title'] = df_hd['Title'].str.replace(pat=r'[^\\w]', repl=r'', regex=True)\n",
    "df_hd['Title'].iloc[0]"
   ]
  },
  {
   "cell_type": "code",
   "execution_count": 12,
   "id": "a573bb02",
   "metadata": {
    "ExecuteTime": {
     "end_time": "2021-07-12T07:13:27.666761Z",
     "start_time": "2021-07-12T07:13:25.311891Z"
    }
   },
   "outputs": [
    {
     "name": "stderr",
     "output_type": "stream",
     "text": [
      "/Users/anaconda3/envs/tsa/lib/python3.9/site-packages/pandas/core/indexing.py:1637: SettingWithCopyWarning: \n",
      "A value is trying to be set on a copy of a slice from a DataFrame\n",
      "\n",
      "See the caveats in the documentation: https://pandas.pydata.org/pandas-docs/stable/user_guide/indexing.html#returning-a-view-versus-a-copy\n",
      "  self._setitem_single_block(indexer, value, name)\n"
     ]
    }
   ],
   "source": [
    "for i in range(len(df_hd['Title'])):\n",
    "    df_hd['Title'].iloc[i]= df_hd['Title'].iloc[i].lower()"
   ]
  },
  {
   "cell_type": "code",
   "execution_count": 13,
   "id": "d50a21c3",
   "metadata": {
    "ExecuteTime": {
     "end_time": "2021-07-12T07:13:27.900896Z",
     "start_time": "2021-07-12T07:13:27.895051Z"
    }
   },
   "outputs": [
    {
     "data": {
      "text/plain": [
       "'blackaf'"
      ]
     },
     "execution_count": 13,
     "metadata": {},
     "output_type": "execute_result"
    }
   ],
   "source": [
    "df_hd['Title'].iloc[0]"
   ]
  },
  {
   "cell_type": "code",
   "execution_count": 14,
   "id": "407d7c50",
   "metadata": {
    "ExecuteTime": {
     "end_time": "2021-07-12T07:13:28.181945Z",
     "start_time": "2021-07-12T07:13:28.176053Z"
    }
   },
   "outputs": [
    {
     "name": "stdout",
     "output_type": "stream",
     "text": [
      "0       False\n",
      "1       False\n",
      "2       False\n",
      "3       False\n",
      "4       False\n",
      "        ...  \n",
      "5637    False\n",
      "5638    False\n",
      "5639    False\n",
      "5640    False\n",
      "5641    False\n",
      "Name: title, Length: 5642, dtype: bool\n"
     ]
    }
   ],
   "source": [
    "print(quality.title.duplicated())"
   ]
  },
  {
   "cell_type": "code",
   "execution_count": 15,
   "id": "eceb7754",
   "metadata": {
    "ExecuteTime": {
     "end_time": "2021-07-12T07:13:28.540659Z",
     "start_time": "2021-07-12T07:13:28.535271Z"
    }
   },
   "outputs": [
    {
     "name": "stdout",
     "output_type": "stream",
     "text": [
      "59\n",
      "\n"
     ]
    }
   ],
   "source": [
    "print(df_hd.Title.duplicated().sum())\n",
    "print()"
   ]
  },
  {
   "cell_type": "code",
   "execution_count": 16,
   "id": "f5099bf8",
   "metadata": {
    "ExecuteTime": {
     "end_time": "2021-07-12T07:13:29.242205Z",
     "start_time": "2021-07-12T07:13:29.234209Z"
    }
   },
   "outputs": [
    {
     "data": {
      "text/html": [
       "<div>\n",
       "<style scoped>\n",
       "    .dataframe tbody tr th:only-of-type {\n",
       "        vertical-align: middle;\n",
       "    }\n",
       "\n",
       "    .dataframe tbody tr th {\n",
       "        vertical-align: top;\n",
       "    }\n",
       "\n",
       "    .dataframe thead th {\n",
       "        text-align: right;\n",
       "    }\n",
       "</style>\n",
       "<table border=\"1\" class=\"dataframe\">\n",
       "  <thead>\n",
       "    <tr style=\"text-align: right;\">\n",
       "      <th></th>\n",
       "      <th>Title</th>\n",
       "      <th>Series or Movie</th>\n",
       "      <th>Release Year</th>\n",
       "      <th>Rating</th>\n",
       "      <th>Quality</th>\n",
       "      <th>4K</th>\n",
       "    </tr>\n",
       "  </thead>\n",
       "  <tbody>\n",
       "    <tr>\n",
       "      <th>0</th>\n",
       "      <td>blackaf</td>\n",
       "      <td>TV</td>\n",
       "      <td>2020</td>\n",
       "      <td>TV-MA</td>\n",
       "      <td>UltraHD</td>\n",
       "      <td>1</td>\n",
       "    </tr>\n",
       "  </tbody>\n",
       "</table>\n",
       "</div>"
      ],
      "text/plain": [
       "     Title Series or Movie Release Year Rating  Quality  4K\n",
       "0  blackaf              TV         2020  TV-MA  UltraHD   1"
      ]
     },
     "execution_count": 16,
     "metadata": {},
     "output_type": "execute_result"
    }
   ],
   "source": [
    "df_hd.head(1)"
   ]
  },
  {
   "cell_type": "code",
   "execution_count": 17,
   "id": "ff905949",
   "metadata": {
    "ExecuteTime": {
     "end_time": "2021-07-12T07:13:29.717991Z",
     "start_time": "2021-07-12T07:13:29.701336Z"
    }
   },
   "outputs": [
    {
     "name": "stdout",
     "output_type": "stream",
     "text": [
      "<class 'pandas.core.frame.DataFrame'>\n",
      "RangeIndex: 5642 entries, 0 to 5641\n",
      "Data columns (total 6 columns):\n",
      " #   Column           Non-Null Count  Dtype \n",
      "---  ------           --------------  ----- \n",
      " 0   Title            5642 non-null   object\n",
      " 1   Series or Movie  5642 non-null   object\n",
      " 2   Release Year     5596 non-null   object\n",
      " 3   Rating           5642 non-null   object\n",
      " 4   Quality          4599 non-null   object\n",
      " 5   4K               5642 non-null   int64 \n",
      "dtypes: int64(1), object(5)\n",
      "memory usage: 264.6+ KB\n"
     ]
    }
   ],
   "source": [
    "df_hd.info()"
   ]
  },
  {
   "cell_type": "code",
   "execution_count": 18,
   "id": "0340c8d3",
   "metadata": {
    "ExecuteTime": {
     "end_time": "2021-07-12T07:13:49.108449Z",
     "start_time": "2021-07-12T07:13:49.081444Z"
    }
   },
   "outputs": [],
   "source": [
    "df_hd.to_csv('2_original_dfHD_0712_uft-8.csv',encoding='utf-8-sig')"
   ]
  },
  {
   "cell_type": "code",
   "execution_count": 19,
   "id": "d9241b8c",
   "metadata": {
    "ExecuteTime": {
     "end_time": "2021-07-12T07:13:50.505939Z",
     "start_time": "2021-07-12T07:13:50.497076Z"
    }
   },
   "outputs": [
    {
     "data": {
      "text/html": [
       "<div>\n",
       "<style scoped>\n",
       "    .dataframe tbody tr th:only-of-type {\n",
       "        vertical-align: middle;\n",
       "    }\n",
       "\n",
       "    .dataframe tbody tr th {\n",
       "        vertical-align: top;\n",
       "    }\n",
       "\n",
       "    .dataframe thead th {\n",
       "        text-align: right;\n",
       "    }\n",
       "</style>\n",
       "<table border=\"1\" class=\"dataframe\">\n",
       "  <thead>\n",
       "    <tr style=\"text-align: right;\">\n",
       "      <th></th>\n",
       "      <th>4K</th>\n",
       "    </tr>\n",
       "  </thead>\n",
       "  <tbody>\n",
       "    <tr>\n",
       "      <th>4K</th>\n",
       "      <td>1.0</td>\n",
       "    </tr>\n",
       "  </tbody>\n",
       "</table>\n",
       "</div>"
      ],
      "text/plain": [
       "     4K\n",
       "4K  1.0"
      ]
     },
     "execution_count": 19,
     "metadata": {},
     "output_type": "execute_result"
    }
   ],
   "source": [
    "df_hd.corr()"
   ]
  },
  {
   "cell_type": "code",
   "execution_count": null,
   "id": "12e0eab0",
   "metadata": {},
   "outputs": [],
   "source": []
  }
 ],
 "metadata": {
  "hide_input": false,
  "kernelspec": {
   "display_name": "Python TSA",
   "language": "python",
   "name": "tsa"
  },
  "language_info": {
   "codemirror_mode": {
    "name": "ipython",
    "version": 3
   },
   "file_extension": ".py",
   "mimetype": "text/x-python",
   "name": "python",
   "nbconvert_exporter": "python",
   "pygments_lexer": "ipython3",
   "version": "3.9.5"
  },
  "latex_envs": {
   "LaTeX_envs_menu_present": true,
   "autoclose": false,
   "autocomplete": true,
   "bibliofile": "biblio.bib",
   "cite_by": "apalike",
   "current_citInitial": 1,
   "eqLabelWithNumbers": true,
   "eqNumInitial": 1,
   "hotkeys": {
    "equation": "Ctrl-E",
    "itemize": "Ctrl-I"
   },
   "labels_anchors": false,
   "latex_user_defs": false,
   "report_style_numbering": false,
   "user_envs_cfg": false
  },
  "toc": {
   "base_numbering": 1,
   "nav_menu": {},
   "number_sections": true,
   "sideBar": true,
   "skip_h1_title": false,
   "title_cell": "Table of Contents",
   "title_sidebar": "Contents",
   "toc_cell": false,
   "toc_position": {},
   "toc_section_display": true,
   "toc_window_display": false
  },
  "varInspector": {
   "cols": {
    "lenName": 16,
    "lenType": 16,
    "lenVar": 40
   },
   "kernels_config": {
    "python": {
     "delete_cmd_postfix": "",
     "delete_cmd_prefix": "del ",
     "library": "var_list.py",
     "varRefreshCmd": "print(var_dic_list())"
    },
    "r": {
     "delete_cmd_postfix": ") ",
     "delete_cmd_prefix": "rm(",
     "library": "var_list.r",
     "varRefreshCmd": "cat(var_dic_list()) "
    }
   },
   "types_to_exclude": [
    "module",
    "function",
    "builtin_function_or_method",
    "instance",
    "_Feature"
   ],
   "window_display": false
  }
 },
 "nbformat": 4,
 "nbformat_minor": 5
}
