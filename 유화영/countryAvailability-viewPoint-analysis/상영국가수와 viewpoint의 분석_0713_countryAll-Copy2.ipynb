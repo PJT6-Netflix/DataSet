{
 "cells": [
  {
   "cell_type": "code",
   "execution_count": 1,
   "id": "6c7867ef",
   "metadata": {
    "ExecuteTime": {
     "end_time": "2021-07-13T05:39:03.597605Z",
     "start_time": "2021-07-13T05:39:02.494104Z"
    }
   },
   "outputs": [],
   "source": [
    "import pandas as pd\n",
    "import numpy as np\n",
    "\n",
    "# 데이터 시각화\n",
    "import matplotlib.pyplot as plt\n",
    "import plotly.graph_objects as go\n",
    "import seaborn as sns\n",
    "\n",
    "# 가설검정\n",
    "from scipy import stats\n",
    "\n",
    "# 경고문구 무시\n",
    "import warnings\n",
    "warnings.filterwarnings(\"ignore\")\n",
    "# 자연어 처리\n",
    "# import spacy"
   ]
  },
  {
   "cell_type": "code",
   "execution_count": 2,
   "id": "870ed7f0",
   "metadata": {
    "ExecuteTime": {
     "end_time": "2021-07-13T05:39:03.662865Z",
     "start_time": "2021-07-13T05:39:03.620550Z"
    }
   },
   "outputs": [],
   "source": [
    "df=pd.read_csv('../data/1_original_useDf_0711.csv')"
   ]
  },
  {
   "cell_type": "code",
   "execution_count": 3,
   "id": "879ea5fa",
   "metadata": {
    "ExecuteTime": {
     "end_time": "2021-07-13T05:39:03.799358Z",
     "start_time": "2021-07-13T05:39:03.772840Z"
    }
   },
   "outputs": [
    {
     "data": {
      "text/html": [
       "<div>\n",
       "<style scoped>\n",
       "    .dataframe tbody tr th:only-of-type {\n",
       "        vertical-align: middle;\n",
       "    }\n",
       "\n",
       "    .dataframe tbody tr th {\n",
       "        vertical-align: top;\n",
       "    }\n",
       "\n",
       "    .dataframe thead th {\n",
       "        text-align: right;\n",
       "    }\n",
       "</style>\n",
       "<table border=\"1\" class=\"dataframe\">\n",
       "  <thead>\n",
       "    <tr style=\"text-align: right;\">\n",
       "      <th></th>\n",
       "      <th>#</th>\n",
       "      <th>Title</th>\n",
       "      <th>Series or Movie</th>\n",
       "      <th>COUNTRY</th>\n",
       "      <th>Release Date</th>\n",
       "      <th>GENRE</th>\n",
       "      <th>VALUE</th>\n",
       "      <th>Genre_all</th>\n",
       "      <th>Tags</th>\n",
       "      <th>Languages</th>\n",
       "      <th>...</th>\n",
       "      <th>IMDb Score</th>\n",
       "      <th>Rotten Tomatoes Score</th>\n",
       "      <th>Metacritic Score</th>\n",
       "      <th>Awards Received</th>\n",
       "      <th>Awards Nominated For</th>\n",
       "      <th>Boxoffice</th>\n",
       "      <th>Netflix Release Date</th>\n",
       "      <th>Production House</th>\n",
       "      <th>Summary</th>\n",
       "      <th>IMDb Votes</th>\n",
       "    </tr>\n",
       "  </thead>\n",
       "  <tbody>\n",
       "    <tr>\n",
       "      <th>0</th>\n",
       "      <td>0</td>\n",
       "      <td>thequeensgambit</td>\n",
       "      <td>TV</td>\n",
       "      <td>United States</td>\n",
       "      <td>2020.10.23</td>\n",
       "      <td>Drama</td>\n",
       "      <td>44867</td>\n",
       "      <td>Biography, Drama, History</td>\n",
       "      <td>TV Dramas,US TV Shows,TV Shows Based on Books,...</td>\n",
       "      <td>English, German, French</td>\n",
       "      <td>...</td>\n",
       "      <td>7.3</td>\n",
       "      <td>96.0</td>\n",
       "      <td>91.0</td>\n",
       "      <td>96.0</td>\n",
       "      <td>97.0</td>\n",
       "      <td>$56,441,711</td>\n",
       "      <td>2020.10.23</td>\n",
       "      <td>Pathé Pictures, Scott Rudin Productions</td>\n",
       "      <td>In a 1950s orphanage, a young girl reveals an ...</td>\n",
       "      <td>104495.0</td>\n",
       "    </tr>\n",
       "  </tbody>\n",
       "</table>\n",
       "<p>1 rows × 27 columns</p>\n",
       "</div>"
      ],
      "text/plain": [
       "   #            Title Series or Movie        COUNTRY Release Date  GENRE  \\\n",
       "0  0  thequeensgambit              TV  United States   2020.10.23  Drama   \n",
       "\n",
       "   VALUE                  Genre_all  \\\n",
       "0  44867  Biography, Drama, History   \n",
       "\n",
       "                                                Tags                Languages  \\\n",
       "0  TV Dramas,US TV Shows,TV Shows Based on Books,...  English, German, French   \n",
       "\n",
       "   ...  IMDb Score Rotten Tomatoes Score Metacritic Score Awards Received  \\\n",
       "0  ...         7.3                  96.0             91.0            96.0   \n",
       "\n",
       "  Awards Nominated For     Boxoffice Netflix Release Date  \\\n",
       "0                 97.0  $56,441,711            2020.10.23   \n",
       "\n",
       "                          Production House  \\\n",
       "0  Pathé Pictures, Scott Rudin Productions   \n",
       "\n",
       "                                             Summary  IMDb Votes  \n",
       "0  In a 1950s orphanage, a young girl reveals an ...    104495.0  \n",
       "\n",
       "[1 rows x 27 columns]"
      ]
     },
     "execution_count": 3,
     "metadata": {},
     "output_type": "execute_result"
    }
   ],
   "source": [
    "df.head(1)"
   ]
  },
  {
   "cell_type": "code",
   "execution_count": 4,
   "id": "4de29230",
   "metadata": {
    "ExecuteTime": {
     "end_time": "2021-07-13T05:39:03.914229Z",
     "start_time": "2021-07-13T05:39:03.905143Z"
    }
   },
   "outputs": [
    {
     "data": {
      "text/plain": [
       "#                           0\n",
       "Title                       0\n",
       "Series or Movie             0\n",
       "COUNTRY                   206\n",
       "Release Date               65\n",
       "GENRE                     370\n",
       "VALUE                       0\n",
       "Genre_all                 118\n",
       "Tags                        9\n",
       "Languages                 149\n",
       "Hidden Gem Score          152\n",
       "Country Availability        5\n",
       "Runtime                     0\n",
       "Director                  713\n",
       "Writer                    514\n",
       "Actors                    138\n",
       "View Rating               708\n",
       "IMDb Score                152\n",
       "Rotten Tomatoes Score    1385\n",
       "Metacritic Score         1510\n",
       "Awards Received          1490\n",
       "Awards Nominated For     1090\n",
       "Boxoffice                1665\n",
       "Netflix Release Date        0\n",
       "Production House         1492\n",
       "Summary                     2\n",
       "IMDb Votes                152\n",
       "dtype: int64"
      ]
     },
     "execution_count": 4,
     "metadata": {},
     "output_type": "execute_result"
    }
   ],
   "source": [
    "#df.info()\n",
    "df.isnull().sum()"
   ]
  },
  {
   "cell_type": "code",
   "execution_count": 5,
   "id": "35983df8",
   "metadata": {
    "ExecuteTime": {
     "end_time": "2021-07-13T05:39:04.041748Z",
     "start_time": "2021-07-13T05:39:04.009586Z"
    }
   },
   "outputs": [
    {
     "data": {
      "text/html": [
       "<div>\n",
       "<style scoped>\n",
       "    .dataframe tbody tr th:only-of-type {\n",
       "        vertical-align: middle;\n",
       "    }\n",
       "\n",
       "    .dataframe tbody tr th {\n",
       "        vertical-align: top;\n",
       "    }\n",
       "\n",
       "    .dataframe thead th {\n",
       "        text-align: right;\n",
       "    }\n",
       "</style>\n",
       "<table border=\"1\" class=\"dataframe\">\n",
       "  <thead>\n",
       "    <tr style=\"text-align: right;\">\n",
       "      <th></th>\n",
       "      <th>#</th>\n",
       "      <th>VALUE</th>\n",
       "      <th>Hidden Gem Score</th>\n",
       "      <th>IMDb Score</th>\n",
       "      <th>Rotten Tomatoes Score</th>\n",
       "      <th>Metacritic Score</th>\n",
       "      <th>Awards Received</th>\n",
       "      <th>Awards Nominated For</th>\n",
       "      <th>IMDb Votes</th>\n",
       "    </tr>\n",
       "  </thead>\n",
       "  <tbody>\n",
       "    <tr>\n",
       "      <th>count</th>\n",
       "      <td>2960.0</td>\n",
       "      <td>2960.0</td>\n",
       "      <td>2808.0</td>\n",
       "      <td>2808.0</td>\n",
       "      <td>1575.0</td>\n",
       "      <td>1450.0</td>\n",
       "      <td>1470.0</td>\n",
       "      <td>1870.0</td>\n",
       "      <td>2808.0</td>\n",
       "    </tr>\n",
       "    <tr>\n",
       "      <th>mean</th>\n",
       "      <td>1480.0</td>\n",
       "      <td>634.0</td>\n",
       "      <td>5.0</td>\n",
       "      <td>6.0</td>\n",
       "      <td>54.0</td>\n",
       "      <td>54.0</td>\n",
       "      <td>11.0</td>\n",
       "      <td>21.0</td>\n",
       "      <td>94402.0</td>\n",
       "    </tr>\n",
       "    <tr>\n",
       "      <th>std</th>\n",
       "      <td>855.0</td>\n",
       "      <td>2202.0</td>\n",
       "      <td>2.0</td>\n",
       "      <td>1.0</td>\n",
       "      <td>27.0</td>\n",
       "      <td>17.0</td>\n",
       "      <td>24.0</td>\n",
       "      <td>41.0</td>\n",
       "      <td>190158.0</td>\n",
       "    </tr>\n",
       "    <tr>\n",
       "      <th>min</th>\n",
       "      <td>0.0</td>\n",
       "      <td>1.0</td>\n",
       "      <td>1.0</td>\n",
       "      <td>2.0</td>\n",
       "      <td>0.0</td>\n",
       "      <td>5.0</td>\n",
       "      <td>1.0</td>\n",
       "      <td>1.0</td>\n",
       "      <td>5.0</td>\n",
       "    </tr>\n",
       "    <tr>\n",
       "      <th>25%</th>\n",
       "      <td>740.0</td>\n",
       "      <td>22.0</td>\n",
       "      <td>3.0</td>\n",
       "      <td>6.0</td>\n",
       "      <td>30.0</td>\n",
       "      <td>41.0</td>\n",
       "      <td>2.0</td>\n",
       "      <td>3.0</td>\n",
       "      <td>1759.0</td>\n",
       "    </tr>\n",
       "    <tr>\n",
       "      <th>50%</th>\n",
       "      <td>1480.0</td>\n",
       "      <td>80.0</td>\n",
       "      <td>4.0</td>\n",
       "      <td>6.0</td>\n",
       "      <td>54.0</td>\n",
       "      <td>53.0</td>\n",
       "      <td>4.0</td>\n",
       "      <td>7.0</td>\n",
       "      <td>17586.0</td>\n",
       "    </tr>\n",
       "    <tr>\n",
       "      <th>75%</th>\n",
       "      <td>2219.0</td>\n",
       "      <td>321.0</td>\n",
       "      <td>7.0</td>\n",
       "      <td>7.0</td>\n",
       "      <td>78.0</td>\n",
       "      <td>66.0</td>\n",
       "      <td>10.0</td>\n",
       "      <td>19.0</td>\n",
       "      <td>107313.0</td>\n",
       "    </tr>\n",
       "    <tr>\n",
       "      <th>max</th>\n",
       "      <td>2959.0</td>\n",
       "      <td>44867.0</td>\n",
       "      <td>10.0</td>\n",
       "      <td>10.0</td>\n",
       "      <td>100.0</td>\n",
       "      <td>100.0</td>\n",
       "      <td>300.0</td>\n",
       "      <td>386.0</td>\n",
       "      <td>2308981.0</td>\n",
       "    </tr>\n",
       "  </tbody>\n",
       "</table>\n",
       "</div>"
      ],
      "text/plain": [
       "            #    VALUE  Hidden Gem Score  IMDb Score  Rotten Tomatoes Score  \\\n",
       "count  2960.0   2960.0            2808.0      2808.0                 1575.0   \n",
       "mean   1480.0    634.0               5.0         6.0                   54.0   \n",
       "std     855.0   2202.0               2.0         1.0                   27.0   \n",
       "min       0.0      1.0               1.0         2.0                    0.0   \n",
       "25%     740.0     22.0               3.0         6.0                   30.0   \n",
       "50%    1480.0     80.0               4.0         6.0                   54.0   \n",
       "75%    2219.0    321.0               7.0         7.0                   78.0   \n",
       "max    2959.0  44867.0              10.0        10.0                  100.0   \n",
       "\n",
       "       Metacritic Score  Awards Received  Awards Nominated For  IMDb Votes  \n",
       "count            1450.0           1470.0                1870.0      2808.0  \n",
       "mean               54.0             11.0                  21.0     94402.0  \n",
       "std                17.0             24.0                  41.0    190158.0  \n",
       "min                 5.0              1.0                   1.0         5.0  \n",
       "25%                41.0              2.0                   3.0      1759.0  \n",
       "50%                53.0              4.0                   7.0     17586.0  \n",
       "75%                66.0             10.0                  19.0    107313.0  \n",
       "max               100.0            300.0                 386.0   2308981.0  "
      ]
     },
     "execution_count": 5,
     "metadata": {},
     "output_type": "execute_result"
    }
   ],
   "source": [
    "df.describe().round()"
   ]
  },
  {
   "cell_type": "markdown",
   "id": "f6572ae9",
   "metadata": {},
   "source": [
    "# viewpoint 정규화"
   ]
  },
  {
   "cell_type": "code",
   "execution_count": 6,
   "id": "80ffe1a9",
   "metadata": {
    "ExecuteTime": {
     "end_time": "2021-07-13T05:39:05.424873Z",
     "start_time": "2021-07-13T05:39:05.419176Z"
    }
   },
   "outputs": [],
   "source": [
    "df['VALUE_std']=(df['VALUE']-df['VALUE'].min())/df['VALUE'].max()"
   ]
  },
  {
   "cell_type": "code",
   "execution_count": 7,
   "id": "34b9b616",
   "metadata": {
    "ExecuteTime": {
     "end_time": "2021-07-13T05:39:06.050352Z",
     "start_time": "2021-07-13T05:39:06.046035Z"
    }
   },
   "outputs": [],
   "source": [
    "df['VALUE_norm']=(df['VALUE']-df['VALUE'].mean())/df['VALUE'].std()"
   ]
  },
  {
   "cell_type": "markdown",
   "id": "71375323",
   "metadata": {},
   "source": [
    "# Country_all 변수 추가 (country 와 Country Availability 결합)"
   ]
  },
  {
   "cell_type": "code",
   "execution_count": 8,
   "id": "eb12e4ec",
   "metadata": {
    "ExecuteTime": {
     "end_time": "2021-07-13T05:39:07.224230Z",
     "start_time": "2021-07-13T05:39:07.217840Z"
    }
   },
   "outputs": [],
   "source": [
    "df['country_all']=df['COUNTRY']+','+df['Country Availability'] # (?)country_all에 중복되는 문자열 골라내기 "
   ]
  },
  {
   "cell_type": "code",
   "execution_count": 9,
   "id": "051a5690",
   "metadata": {
    "ExecuteTime": {
     "end_time": "2021-07-13T05:39:07.720051Z",
     "start_time": "2021-07-13T05:39:07.684170Z"
    }
   },
   "outputs": [
    {
     "data": {
      "text/html": [
       "<div>\n",
       "<style scoped>\n",
       "    .dataframe tbody tr th:only-of-type {\n",
       "        vertical-align: middle;\n",
       "    }\n",
       "\n",
       "    .dataframe tbody tr th {\n",
       "        vertical-align: top;\n",
       "    }\n",
       "\n",
       "    .dataframe thead th {\n",
       "        text-align: right;\n",
       "    }\n",
       "</style>\n",
       "<table border=\"1\" class=\"dataframe\">\n",
       "  <thead>\n",
       "    <tr style=\"text-align: right;\">\n",
       "      <th></th>\n",
       "      <th>#</th>\n",
       "      <th>Title</th>\n",
       "      <th>Series or Movie</th>\n",
       "      <th>COUNTRY</th>\n",
       "      <th>Release Date</th>\n",
       "      <th>GENRE</th>\n",
       "      <th>VALUE</th>\n",
       "      <th>Genre_all</th>\n",
       "      <th>Tags</th>\n",
       "      <th>Languages</th>\n",
       "      <th>...</th>\n",
       "      <th>Awards Received</th>\n",
       "      <th>Awards Nominated For</th>\n",
       "      <th>Boxoffice</th>\n",
       "      <th>Netflix Release Date</th>\n",
       "      <th>Production House</th>\n",
       "      <th>Summary</th>\n",
       "      <th>IMDb Votes</th>\n",
       "      <th>VALUE_std</th>\n",
       "      <th>VALUE_norm</th>\n",
       "      <th>country_all</th>\n",
       "    </tr>\n",
       "  </thead>\n",
       "  <tbody>\n",
       "    <tr>\n",
       "      <th>0</th>\n",
       "      <td>0</td>\n",
       "      <td>thequeensgambit</td>\n",
       "      <td>TV</td>\n",
       "      <td>United States</td>\n",
       "      <td>2020.10.23</td>\n",
       "      <td>Drama</td>\n",
       "      <td>44867</td>\n",
       "      <td>Biography, Drama, History</td>\n",
       "      <td>TV Dramas,US TV Shows,TV Shows Based on Books,...</td>\n",
       "      <td>English, German, French</td>\n",
       "      <td>...</td>\n",
       "      <td>96.0</td>\n",
       "      <td>97.0</td>\n",
       "      <td>$56,441,711</td>\n",
       "      <td>2020.10.23</td>\n",
       "      <td>Pathé Pictures, Scott Rudin Productions</td>\n",
       "      <td>In a 1950s orphanage, a young girl reveals an ...</td>\n",
       "      <td>104495.0</td>\n",
       "      <td>0.999978</td>\n",
       "      <td>20.086441</td>\n",
       "      <td>United States,Lithuania,Canada,Australia,Polan...</td>\n",
       "    </tr>\n",
       "    <tr>\n",
       "      <th>1</th>\n",
       "      <td>1</td>\n",
       "      <td>365days</td>\n",
       "      <td>Movie</td>\n",
       "      <td>Poland</td>\n",
       "      <td>2020.6.7</td>\n",
       "      <td>Romance</td>\n",
       "      <td>42149</td>\n",
       "      <td>Drama, Romance</td>\n",
       "      <td>Polish Movies,Polish Dramas,Dramas,Romantic Dr...</td>\n",
       "      <td>Polish, English, Italian</td>\n",
       "      <td>...</td>\n",
       "      <td>NaN</td>\n",
       "      <td>NaN</td>\n",
       "      <td>NaN</td>\n",
       "      <td>2020.4.2</td>\n",
       "      <td>NaN</td>\n",
       "      <td>A fiery executive in a spiritless relationship...</td>\n",
       "      <td>50125.0</td>\n",
       "      <td>0.939399</td>\n",
       "      <td>18.852190</td>\n",
       "      <td>Poland,Poland,Russia,United Kingdom,Slovakia,C...</td>\n",
       "    </tr>\n",
       "    <tr>\n",
       "      <th>2</th>\n",
       "      <td>2</td>\n",
       "      <td>emilyinparis</td>\n",
       "      <td>TV</td>\n",
       "      <td>United States</td>\n",
       "      <td>2020.10.2</td>\n",
       "      <td>Drama</td>\n",
       "      <td>27138</td>\n",
       "      <td>Comedy, Drama, Romance</td>\n",
       "      <td>Comedy Programmes,Drama Programmes,Romantic TV...</td>\n",
       "      <td>French, English</td>\n",
       "      <td>...</td>\n",
       "      <td>1.0</td>\n",
       "      <td>3.0</td>\n",
       "      <td>NaN</td>\n",
       "      <td>2020.10.2</td>\n",
       "      <td>NaN</td>\n",
       "      <td>After landing her dream job in Paris, Chicago ...</td>\n",
       "      <td>45000.0</td>\n",
       "      <td>0.604832</td>\n",
       "      <td>12.035656</td>\n",
       "      <td>United States,Canada,Lithuania,Australia,Polan...</td>\n",
       "    </tr>\n",
       "    <tr>\n",
       "      <th>3</th>\n",
       "      <td>3</td>\n",
       "      <td>lucifer</td>\n",
       "      <td>TV</td>\n",
       "      <td>United States</td>\n",
       "      <td>2016.1.25</td>\n",
       "      <td>Superhero</td>\n",
       "      <td>25729</td>\n",
       "      <td>Horror, Thriller</td>\n",
       "      <td>TV Dramas,Police TV Shows,TV Sci-Fi &amp; Fantasy,...</td>\n",
       "      <td>English</td>\n",
       "      <td>...</td>\n",
       "      <td>NaN</td>\n",
       "      <td>NaN</td>\n",
       "      <td>NaN</td>\n",
       "      <td>2017.7.24</td>\n",
       "      <td>NaN</td>\n",
       "      <td>Bored with being the Lord of Hell, the devil r...</td>\n",
       "      <td>57.0</td>\n",
       "      <td>0.573428</td>\n",
       "      <td>11.395826</td>\n",
       "      <td>United States,South Korea,Iceland,Hungary,Aust...</td>\n",
       "    </tr>\n",
       "    <tr>\n",
       "      <th>4</th>\n",
       "      <td>4</td>\n",
       "      <td>theumbrellaacademy</td>\n",
       "      <td>TV</td>\n",
       "      <td>United States</td>\n",
       "      <td>2019.2.15</td>\n",
       "      <td>Superhero</td>\n",
       "      <td>23480</td>\n",
       "      <td>Action, Adventure, Comedy, Drama, Fantasy, Sci-Fi</td>\n",
       "      <td>TV Sci-Fi &amp; Fantasy,US TV Shows,TV Action &amp; Ad...</td>\n",
       "      <td>English</td>\n",
       "      <td>...</td>\n",
       "      <td>7.0</td>\n",
       "      <td>28.0</td>\n",
       "      <td>NaN</td>\n",
       "      <td>2019.2.15</td>\n",
       "      <td>NaN</td>\n",
       "      <td>Reunited by their fathers death, estranged sib...</td>\n",
       "      <td>159677.0</td>\n",
       "      <td>0.523302</td>\n",
       "      <td>10.374549</td>\n",
       "      <td>United States,Lithuania,Brazil,Israel,Spain,Sl...</td>\n",
       "    </tr>\n",
       "    <tr>\n",
       "      <th>...</th>\n",
       "      <td>...</td>\n",
       "      <td>...</td>\n",
       "      <td>...</td>\n",
       "      <td>...</td>\n",
       "      <td>...</td>\n",
       "      <td>...</td>\n",
       "      <td>...</td>\n",
       "      <td>...</td>\n",
       "      <td>...</td>\n",
       "      <td>...</td>\n",
       "      <td>...</td>\n",
       "      <td>...</td>\n",
       "      <td>...</td>\n",
       "      <td>...</td>\n",
       "      <td>...</td>\n",
       "      <td>...</td>\n",
       "      <td>...</td>\n",
       "      <td>...</td>\n",
       "      <td>...</td>\n",
       "      <td>...</td>\n",
       "      <td>...</td>\n",
       "    </tr>\n",
       "    <tr>\n",
       "      <th>2955</th>\n",
       "      <td>2955</td>\n",
       "      <td>thebournesupremacy</td>\n",
       "      <td>Movie</td>\n",
       "      <td>United States</td>\n",
       "      <td>2004.7.23</td>\n",
       "      <td>Action</td>\n",
       "      <td>1</td>\n",
       "      <td>Action, Mystery, Thriller</td>\n",
       "      <td>Action Thrillers,Spy Action &amp; Adventure,Action...</td>\n",
       "      <td>English, Russian, German, Italian</td>\n",
       "      <td>...</td>\n",
       "      <td>5.0</td>\n",
       "      <td>22.0</td>\n",
       "      <td>$176,241,941</td>\n",
       "      <td>2015.4.14</td>\n",
       "      <td>Universal Pictures, Hypnotic, Kennedy/Marshall</td>\n",
       "      <td>Flushed from his refuge by an assassin, Jason ...</td>\n",
       "      <td>435887.0</td>\n",
       "      <td>0.000000</td>\n",
       "      <td>-0.287326</td>\n",
       "      <td>United States,Japan,France,Russia,South Korea,...</td>\n",
       "    </tr>\n",
       "    <tr>\n",
       "      <th>2956</th>\n",
       "      <td>2956</td>\n",
       "      <td>justfriends</td>\n",
       "      <td>Movie</td>\n",
       "      <td>United States</td>\n",
       "      <td>2005.11.23</td>\n",
       "      <td>Romance</td>\n",
       "      <td>1</td>\n",
       "      <td>Comedy, Romance</td>\n",
       "      <td>Romantic Comedies,Comedies,Romantic Films,Roma...</td>\n",
       "      <td>English</td>\n",
       "      <td>...</td>\n",
       "      <td>NaN</td>\n",
       "      <td>3.0</td>\n",
       "      <td>$32,619,671</td>\n",
       "      <td>2015.4.14</td>\n",
       "      <td>Cinerenta, Benderspink, Just Friends Productio...</td>\n",
       "      <td>Years after high school, a once-portly nice gu...</td>\n",
       "      <td>106951.0</td>\n",
       "      <td>0.000000</td>\n",
       "      <td>-0.287326</td>\n",
       "      <td>United States,Romania,South Korea,United Kingd...</td>\n",
       "    </tr>\n",
       "    <tr>\n",
       "      <th>2957</th>\n",
       "      <td>2957</td>\n",
       "      <td>child44</td>\n",
       "      <td>Movie</td>\n",
       "      <td>United States</td>\n",
       "      <td>2015.3.15</td>\n",
       "      <td>Thriller</td>\n",
       "      <td>1</td>\n",
       "      <td>Crime, Drama, History, Mystery, Thriller</td>\n",
       "      <td>Dramas based on a book,Dramas,Thrillers,Crime ...</td>\n",
       "      <td>English, Russian</td>\n",
       "      <td>...</td>\n",
       "      <td>NaN</td>\n",
       "      <td>2.0</td>\n",
       "      <td>$1,224,330</td>\n",
       "      <td>2016.12.4</td>\n",
       "      <td>Scott Free Productions</td>\n",
       "      <td>In 1950s Russia, a former war hero investigate...</td>\n",
       "      <td>66251.0</td>\n",
       "      <td>0.000000</td>\n",
       "      <td>-0.287326</td>\n",
       "      <td>United States,Germany,India</td>\n",
       "    </tr>\n",
       "    <tr>\n",
       "      <th>2958</th>\n",
       "      <td>2958</td>\n",
       "      <td>draculauntold</td>\n",
       "      <td>Movie</td>\n",
       "      <td>United States</td>\n",
       "      <td>2014.10.3</td>\n",
       "      <td>Horror</td>\n",
       "      <td>1</td>\n",
       "      <td>Action, Drama, Fantasy, Horror, War</td>\n",
       "      <td>Horror Movies,Sci-Fi &amp; Fantasy,Action &amp; Advent...</td>\n",
       "      <td>English, Turkish</td>\n",
       "      <td>...</td>\n",
       "      <td>3.0</td>\n",
       "      <td>5.0</td>\n",
       "      <td>$56,280,355</td>\n",
       "      <td>2016.3.28</td>\n",
       "      <td>Michael De Luca</td>\n",
       "      <td>A medieval warrior and ruler must become a vam...</td>\n",
       "      <td>180432.0</td>\n",
       "      <td>0.000000</td>\n",
       "      <td>-0.287326</td>\n",
       "      <td>United States,Switzerland,Canada,Poland,Italy,...</td>\n",
       "    </tr>\n",
       "    <tr>\n",
       "      <th>2959</th>\n",
       "      <td>2959</td>\n",
       "      <td>riddick</td>\n",
       "      <td>Movie</td>\n",
       "      <td>United States</td>\n",
       "      <td>2013.9.6</td>\n",
       "      <td>Science Fiction</td>\n",
       "      <td>1</td>\n",
       "      <td>Action, Adventure, Sci-Fi, Thriller</td>\n",
       "      <td>Horror Films,Sci-Fi &amp; Fantasy,Action Thrillers...</td>\n",
       "      <td>English</td>\n",
       "      <td>...</td>\n",
       "      <td>NaN</td>\n",
       "      <td>2.0</td>\n",
       "      <td>$42,025,135</td>\n",
       "      <td>2015.4.14</td>\n",
       "      <td>One Race Productions</td>\n",
       "      <td>Marooned on a lonely planet where he hopes an ...</td>\n",
       "      <td>154551.0</td>\n",
       "      <td>0.000000</td>\n",
       "      <td>-0.287326</td>\n",
       "      <td>United States,Japan,United Kingdom,Mexico,Cana...</td>\n",
       "    </tr>\n",
       "  </tbody>\n",
       "</table>\n",
       "<p>2960 rows × 30 columns</p>\n",
       "</div>"
      ],
      "text/plain": [
       "         #               Title Series or Movie        COUNTRY Release Date  \\\n",
       "0        0     thequeensgambit              TV  United States   2020.10.23   \n",
       "1        1             365days           Movie         Poland     2020.6.7   \n",
       "2        2        emilyinparis              TV  United States    2020.10.2   \n",
       "3        3             lucifer              TV  United States    2016.1.25   \n",
       "4        4  theumbrellaacademy              TV  United States    2019.2.15   \n",
       "...    ...                 ...             ...            ...          ...   \n",
       "2955  2955  thebournesupremacy           Movie  United States    2004.7.23   \n",
       "2956  2956         justfriends           Movie  United States   2005.11.23   \n",
       "2957  2957             child44           Movie  United States    2015.3.15   \n",
       "2958  2958       draculauntold           Movie  United States    2014.10.3   \n",
       "2959  2959             riddick           Movie  United States     2013.9.6   \n",
       "\n",
       "                GENRE  VALUE  \\\n",
       "0               Drama  44867   \n",
       "1             Romance  42149   \n",
       "2               Drama  27138   \n",
       "3           Superhero  25729   \n",
       "4           Superhero  23480   \n",
       "...               ...    ...   \n",
       "2955           Action      1   \n",
       "2956          Romance      1   \n",
       "2957         Thriller      1   \n",
       "2958           Horror      1   \n",
       "2959  Science Fiction      1   \n",
       "\n",
       "                                              Genre_all  \\\n",
       "0                             Biography, Drama, History   \n",
       "1                                        Drama, Romance   \n",
       "2                                Comedy, Drama, Romance   \n",
       "3                                      Horror, Thriller   \n",
       "4     Action, Adventure, Comedy, Drama, Fantasy, Sci-Fi   \n",
       "...                                                 ...   \n",
       "2955                          Action, Mystery, Thriller   \n",
       "2956                                    Comedy, Romance   \n",
       "2957           Crime, Drama, History, Mystery, Thriller   \n",
       "2958                Action, Drama, Fantasy, Horror, War   \n",
       "2959                Action, Adventure, Sci-Fi, Thriller   \n",
       "\n",
       "                                                   Tags  \\\n",
       "0     TV Dramas,US TV Shows,TV Shows Based on Books,...   \n",
       "1     Polish Movies,Polish Dramas,Dramas,Romantic Dr...   \n",
       "2     Comedy Programmes,Drama Programmes,Romantic TV...   \n",
       "3     TV Dramas,Police TV Shows,TV Sci-Fi & Fantasy,...   \n",
       "4     TV Sci-Fi & Fantasy,US TV Shows,TV Action & Ad...   \n",
       "...                                                 ...   \n",
       "2955  Action Thrillers,Spy Action & Adventure,Action...   \n",
       "2956  Romantic Comedies,Comedies,Romantic Films,Roma...   \n",
       "2957  Dramas based on a book,Dramas,Thrillers,Crime ...   \n",
       "2958  Horror Movies,Sci-Fi & Fantasy,Action & Advent...   \n",
       "2959  Horror Films,Sci-Fi & Fantasy,Action Thrillers...   \n",
       "\n",
       "                              Languages  ...  Awards Received  \\\n",
       "0               English, German, French  ...             96.0   \n",
       "1              Polish, English, Italian  ...              NaN   \n",
       "2                       French, English  ...              1.0   \n",
       "3                               English  ...              NaN   \n",
       "4                               English  ...              7.0   \n",
       "...                                 ...  ...              ...   \n",
       "2955  English, Russian, German, Italian  ...              5.0   \n",
       "2956                            English  ...              NaN   \n",
       "2957                   English, Russian  ...              NaN   \n",
       "2958                   English, Turkish  ...              3.0   \n",
       "2959                            English  ...              NaN   \n",
       "\n",
       "     Awards Nominated For      Boxoffice Netflix Release Date  \\\n",
       "0                    97.0   $56,441,711            2020.10.23   \n",
       "1                     NaN            NaN             2020.4.2   \n",
       "2                     3.0            NaN            2020.10.2   \n",
       "3                     NaN            NaN            2017.7.24   \n",
       "4                    28.0            NaN            2019.2.15   \n",
       "...                   ...            ...                  ...   \n",
       "2955                 22.0  $176,241,941             2015.4.14   \n",
       "2956                  3.0   $32,619,671             2015.4.14   \n",
       "2957                  2.0    $1,224,330             2016.12.4   \n",
       "2958                  5.0   $56,280,355             2016.3.28   \n",
       "2959                  2.0   $42,025,135             2015.4.14   \n",
       "\n",
       "                                       Production House  \\\n",
       "0               Pathé Pictures, Scott Rudin Productions   \n",
       "1                                                   NaN   \n",
       "2                                                   NaN   \n",
       "3                                                   NaN   \n",
       "4                                                   NaN   \n",
       "...                                                 ...   \n",
       "2955     Universal Pictures, Hypnotic, Kennedy/Marshall   \n",
       "2956  Cinerenta, Benderspink, Just Friends Productio...   \n",
       "2957                             Scott Free Productions   \n",
       "2958                                    Michael De Luca   \n",
       "2959                               One Race Productions   \n",
       "\n",
       "                                                Summary IMDb Votes  VALUE_std  \\\n",
       "0     In a 1950s orphanage, a young girl reveals an ...   104495.0   0.999978   \n",
       "1     A fiery executive in a spiritless relationship...    50125.0   0.939399   \n",
       "2     After landing her dream job in Paris, Chicago ...    45000.0   0.604832   \n",
       "3     Bored with being the Lord of Hell, the devil r...       57.0   0.573428   \n",
       "4     Reunited by their fathers death, estranged sib...   159677.0   0.523302   \n",
       "...                                                 ...        ...        ...   \n",
       "2955  Flushed from his refuge by an assassin, Jason ...   435887.0   0.000000   \n",
       "2956  Years after high school, a once-portly nice gu...   106951.0   0.000000   \n",
       "2957  In 1950s Russia, a former war hero investigate...    66251.0   0.000000   \n",
       "2958  A medieval warrior and ruler must become a vam...   180432.0   0.000000   \n",
       "2959  Marooned on a lonely planet where he hopes an ...   154551.0   0.000000   \n",
       "\n",
       "      VALUE_norm                                        country_all  \n",
       "0      20.086441  United States,Lithuania,Canada,Australia,Polan...  \n",
       "1      18.852190  Poland,Poland,Russia,United Kingdom,Slovakia,C...  \n",
       "2      12.035656  United States,Canada,Lithuania,Australia,Polan...  \n",
       "3      11.395826  United States,South Korea,Iceland,Hungary,Aust...  \n",
       "4      10.374549  United States,Lithuania,Brazil,Israel,Spain,Sl...  \n",
       "...          ...                                                ...  \n",
       "2955   -0.287326  United States,Japan,France,Russia,South Korea,...  \n",
       "2956   -0.287326  United States,Romania,South Korea,United Kingd...  \n",
       "2957   -0.287326                        United States,Germany,India  \n",
       "2958   -0.287326  United States,Switzerland,Canada,Poland,Italy,...  \n",
       "2959   -0.287326  United States,Japan,United Kingdom,Mexico,Cana...  \n",
       "\n",
       "[2960 rows x 30 columns]"
      ]
     },
     "execution_count": 9,
     "metadata": {},
     "output_type": "execute_result"
    }
   ],
   "source": [
    "df"
   ]
  },
  {
   "cell_type": "code",
   "execution_count": 10,
   "id": "fbe7f4ec",
   "metadata": {
    "ExecuteTime": {
     "end_time": "2021-07-13T05:39:08.097952Z",
     "start_time": "2021-07-13T05:39:08.093222Z"
    }
   },
   "outputs": [
    {
     "data": {
      "text/plain": [
       "0    United States,Lithuania,Canada,Australia,Polan...\n",
       "1    Poland,Poland,Russia,United Kingdom,Slovakia,C...\n",
       "2    United States,Canada,Lithuania,Australia,Polan...\n",
       "Name: country_all, dtype: object"
      ]
     },
     "execution_count": 10,
     "metadata": {},
     "output_type": "execute_result"
    }
   ],
   "source": [
    "df['country_all'].head(3)"
   ]
  },
  {
   "cell_type": "markdown",
   "id": "ce9096d7",
   "metadata": {},
   "source": [
    "# showingOn_count 변수 추가"
   ]
  },
  {
   "cell_type": "code",
   "execution_count": 11,
   "id": "53b326b1",
   "metadata": {
    "ExecuteTime": {
     "end_time": "2021-07-13T05:39:09.291716Z",
     "start_time": "2021-07-13T05:39:09.287381Z"
    }
   },
   "outputs": [
    {
     "data": {
      "text/plain": [
       "37"
      ]
     },
     "execution_count": 11,
     "metadata": {},
     "output_type": "execute_result"
    }
   ],
   "source": [
    "len(str(df['country_all'].iloc[0]).split(','))"
   ]
  },
  {
   "cell_type": "code",
   "execution_count": 12,
   "id": "b8f80cda",
   "metadata": {
    "ExecuteTime": {
     "end_time": "2021-07-13T05:39:09.829437Z",
     "start_time": "2021-07-13T05:39:09.827059Z"
    }
   },
   "outputs": [],
   "source": [
    "rows = len(df['country_all'])"
   ]
  },
  {
   "cell_type": "code",
   "execution_count": 13,
   "id": "4845a68c",
   "metadata": {
    "ExecuteTime": {
     "end_time": "2021-07-13T05:39:14.063501Z",
     "start_time": "2021-07-13T05:39:14.058075Z"
    }
   },
   "outputs": [
    {
     "data": {
      "text/plain": [
       "0       United States,Lithuania,Canada,Australia,Polan...\n",
       "1       Poland,Poland,Russia,United Kingdom,Slovakia,C...\n",
       "2       United States,Canada,Lithuania,Australia,Polan...\n",
       "3       United States,South Korea,Iceland,Hungary,Aust...\n",
       "4       United States,Lithuania,Brazil,Israel,Spain,Sl...\n",
       "                              ...                        \n",
       "2955    United States,Japan,France,Russia,South Korea,...\n",
       "2956    United States,Romania,South Korea,United Kingd...\n",
       "2957                          United States,Germany,India\n",
       "2958    United States,Switzerland,Canada,Poland,Italy,...\n",
       "2959    United States,Japan,United Kingdom,Mexico,Cana...\n",
       "Name: country_all, Length: 2960, dtype: object"
      ]
     },
     "execution_count": 13,
     "metadata": {},
     "output_type": "execute_result"
    }
   ],
   "source": [
    "df['country_all']"
   ]
  },
  {
   "cell_type": "code",
   "execution_count": 14,
   "id": "f6ed9ff2",
   "metadata": {
    "ExecuteTime": {
     "end_time": "2021-07-13T05:39:14.303390Z",
     "start_time": "2021-07-13T05:39:14.300239Z"
    }
   },
   "outputs": [],
   "source": [
    "df['showingOn_count'] = 0"
   ]
  },
  {
   "cell_type": "code",
   "execution_count": 15,
   "id": "49a1dbc0",
   "metadata": {
    "ExecuteTime": {
     "end_time": "2021-07-13T05:39:15.712973Z",
     "start_time": "2021-07-13T05:39:14.684343Z"
    }
   },
   "outputs": [],
   "source": [
    "for i in range(rows):\n",
    "    df.showingOn_count[i]=len(str(df['country_all'].iloc[i]).split(','))"
   ]
  },
  {
   "cell_type": "code",
   "execution_count": 16,
   "id": "46f6380c",
   "metadata": {
    "ExecuteTime": {
     "end_time": "2021-07-13T05:39:15.831849Z",
     "start_time": "2021-07-13T05:39:15.812249Z"
    }
   },
   "outputs": [
    {
     "data": {
      "text/html": [
       "<div>\n",
       "<style scoped>\n",
       "    .dataframe tbody tr th:only-of-type {\n",
       "        vertical-align: middle;\n",
       "    }\n",
       "\n",
       "    .dataframe tbody tr th {\n",
       "        vertical-align: top;\n",
       "    }\n",
       "\n",
       "    .dataframe thead th {\n",
       "        text-align: right;\n",
       "    }\n",
       "</style>\n",
       "<table border=\"1\" class=\"dataframe\">\n",
       "  <thead>\n",
       "    <tr style=\"text-align: right;\">\n",
       "      <th></th>\n",
       "      <th>#</th>\n",
       "      <th>Title</th>\n",
       "      <th>Series or Movie</th>\n",
       "      <th>COUNTRY</th>\n",
       "      <th>Release Date</th>\n",
       "      <th>GENRE</th>\n",
       "      <th>VALUE</th>\n",
       "      <th>Genre_all</th>\n",
       "      <th>Tags</th>\n",
       "      <th>Languages</th>\n",
       "      <th>...</th>\n",
       "      <th>Awards Nominated For</th>\n",
       "      <th>Boxoffice</th>\n",
       "      <th>Netflix Release Date</th>\n",
       "      <th>Production House</th>\n",
       "      <th>Summary</th>\n",
       "      <th>IMDb Votes</th>\n",
       "      <th>VALUE_std</th>\n",
       "      <th>VALUE_norm</th>\n",
       "      <th>country_all</th>\n",
       "      <th>showingOn_count</th>\n",
       "    </tr>\n",
       "  </thead>\n",
       "  <tbody>\n",
       "    <tr>\n",
       "      <th>0</th>\n",
       "      <td>0</td>\n",
       "      <td>thequeensgambit</td>\n",
       "      <td>TV</td>\n",
       "      <td>United States</td>\n",
       "      <td>2020.10.23</td>\n",
       "      <td>Drama</td>\n",
       "      <td>44867</td>\n",
       "      <td>Biography, Drama, History</td>\n",
       "      <td>TV Dramas,US TV Shows,TV Shows Based on Books,...</td>\n",
       "      <td>English, German, French</td>\n",
       "      <td>...</td>\n",
       "      <td>97.0</td>\n",
       "      <td>$56,441,711</td>\n",
       "      <td>2020.10.23</td>\n",
       "      <td>Pathé Pictures, Scott Rudin Productions</td>\n",
       "      <td>In a 1950s orphanage, a young girl reveals an ...</td>\n",
       "      <td>104495.0</td>\n",
       "      <td>0.999978</td>\n",
       "      <td>20.086441</td>\n",
       "      <td>United States,Lithuania,Canada,Australia,Polan...</td>\n",
       "      <td>37</td>\n",
       "    </tr>\n",
       "    <tr>\n",
       "      <th>1</th>\n",
       "      <td>1</td>\n",
       "      <td>365days</td>\n",
       "      <td>Movie</td>\n",
       "      <td>Poland</td>\n",
       "      <td>2020.6.7</td>\n",
       "      <td>Romance</td>\n",
       "      <td>42149</td>\n",
       "      <td>Drama, Romance</td>\n",
       "      <td>Polish Movies,Polish Dramas,Dramas,Romantic Dr...</td>\n",
       "      <td>Polish, English, Italian</td>\n",
       "      <td>...</td>\n",
       "      <td>NaN</td>\n",
       "      <td>NaN</td>\n",
       "      <td>2020.4.2</td>\n",
       "      <td>NaN</td>\n",
       "      <td>A fiery executive in a spiritless relationship...</td>\n",
       "      <td>50125.0</td>\n",
       "      <td>0.939399</td>\n",
       "      <td>18.852190</td>\n",
       "      <td>Poland,Poland,Russia,United Kingdom,Slovakia,C...</td>\n",
       "      <td>37</td>\n",
       "    </tr>\n",
       "    <tr>\n",
       "      <th>2</th>\n",
       "      <td>2</td>\n",
       "      <td>emilyinparis</td>\n",
       "      <td>TV</td>\n",
       "      <td>United States</td>\n",
       "      <td>2020.10.2</td>\n",
       "      <td>Drama</td>\n",
       "      <td>27138</td>\n",
       "      <td>Comedy, Drama, Romance</td>\n",
       "      <td>Comedy Programmes,Drama Programmes,Romantic TV...</td>\n",
       "      <td>French, English</td>\n",
       "      <td>...</td>\n",
       "      <td>3.0</td>\n",
       "      <td>NaN</td>\n",
       "      <td>2020.10.2</td>\n",
       "      <td>NaN</td>\n",
       "      <td>After landing her dream job in Paris, Chicago ...</td>\n",
       "      <td>45000.0</td>\n",
       "      <td>0.604832</td>\n",
       "      <td>12.035656</td>\n",
       "      <td>United States,Canada,Lithuania,Australia,Polan...</td>\n",
       "      <td>37</td>\n",
       "    </tr>\n",
       "    <tr>\n",
       "      <th>3</th>\n",
       "      <td>3</td>\n",
       "      <td>lucifer</td>\n",
       "      <td>TV</td>\n",
       "      <td>United States</td>\n",
       "      <td>2016.1.25</td>\n",
       "      <td>Superhero</td>\n",
       "      <td>25729</td>\n",
       "      <td>Horror, Thriller</td>\n",
       "      <td>TV Dramas,Police TV Shows,TV Sci-Fi &amp; Fantasy,...</td>\n",
       "      <td>English</td>\n",
       "      <td>...</td>\n",
       "      <td>NaN</td>\n",
       "      <td>NaN</td>\n",
       "      <td>2017.7.24</td>\n",
       "      <td>NaN</td>\n",
       "      <td>Bored with being the Lord of Hell, the devil r...</td>\n",
       "      <td>57.0</td>\n",
       "      <td>0.573428</td>\n",
       "      <td>11.395826</td>\n",
       "      <td>United States,South Korea,Iceland,Hungary,Aust...</td>\n",
       "      <td>36</td>\n",
       "    </tr>\n",
       "    <tr>\n",
       "      <th>4</th>\n",
       "      <td>4</td>\n",
       "      <td>theumbrellaacademy</td>\n",
       "      <td>TV</td>\n",
       "      <td>United States</td>\n",
       "      <td>2019.2.15</td>\n",
       "      <td>Superhero</td>\n",
       "      <td>23480</td>\n",
       "      <td>Action, Adventure, Comedy, Drama, Fantasy, Sci-Fi</td>\n",
       "      <td>TV Sci-Fi &amp; Fantasy,US TV Shows,TV Action &amp; Ad...</td>\n",
       "      <td>English</td>\n",
       "      <td>...</td>\n",
       "      <td>28.0</td>\n",
       "      <td>NaN</td>\n",
       "      <td>2019.2.15</td>\n",
       "      <td>NaN</td>\n",
       "      <td>Reunited by their fathers death, estranged sib...</td>\n",
       "      <td>159677.0</td>\n",
       "      <td>0.523302</td>\n",
       "      <td>10.374549</td>\n",
       "      <td>United States,Lithuania,Brazil,Israel,Spain,Sl...</td>\n",
       "      <td>37</td>\n",
       "    </tr>\n",
       "  </tbody>\n",
       "</table>\n",
       "<p>5 rows × 31 columns</p>\n",
       "</div>"
      ],
      "text/plain": [
       "   #               Title Series or Movie        COUNTRY Release Date  \\\n",
       "0  0     thequeensgambit              TV  United States   2020.10.23   \n",
       "1  1             365days           Movie         Poland     2020.6.7   \n",
       "2  2        emilyinparis              TV  United States    2020.10.2   \n",
       "3  3             lucifer              TV  United States    2016.1.25   \n",
       "4  4  theumbrellaacademy              TV  United States    2019.2.15   \n",
       "\n",
       "       GENRE  VALUE                                          Genre_all  \\\n",
       "0      Drama  44867                          Biography, Drama, History   \n",
       "1    Romance  42149                                     Drama, Romance   \n",
       "2      Drama  27138                             Comedy, Drama, Romance   \n",
       "3  Superhero  25729                                   Horror, Thriller   \n",
       "4  Superhero  23480  Action, Adventure, Comedy, Drama, Fantasy, Sci-Fi   \n",
       "\n",
       "                                                Tags  \\\n",
       "0  TV Dramas,US TV Shows,TV Shows Based on Books,...   \n",
       "1  Polish Movies,Polish Dramas,Dramas,Romantic Dr...   \n",
       "2  Comedy Programmes,Drama Programmes,Romantic TV...   \n",
       "3  TV Dramas,Police TV Shows,TV Sci-Fi & Fantasy,...   \n",
       "4  TV Sci-Fi & Fantasy,US TV Shows,TV Action & Ad...   \n",
       "\n",
       "                  Languages  ...  Awards Nominated For     Boxoffice  \\\n",
       "0   English, German, French  ...                  97.0  $56,441,711    \n",
       "1  Polish, English, Italian  ...                   NaN           NaN   \n",
       "2           French, English  ...                   3.0           NaN   \n",
       "3                   English  ...                   NaN           NaN   \n",
       "4                   English  ...                  28.0           NaN   \n",
       "\n",
       "  Netflix Release Date                         Production House  \\\n",
       "0           2020.10.23  Pathé Pictures, Scott Rudin Productions   \n",
       "1             2020.4.2                                      NaN   \n",
       "2            2020.10.2                                      NaN   \n",
       "3            2017.7.24                                      NaN   \n",
       "4            2019.2.15                                      NaN   \n",
       "\n",
       "                                             Summary IMDb Votes VALUE_std  \\\n",
       "0  In a 1950s orphanage, a young girl reveals an ...   104495.0  0.999978   \n",
       "1  A fiery executive in a spiritless relationship...    50125.0  0.939399   \n",
       "2  After landing her dream job in Paris, Chicago ...    45000.0  0.604832   \n",
       "3  Bored with being the Lord of Hell, the devil r...       57.0  0.573428   \n",
       "4  Reunited by their fathers death, estranged sib...   159677.0  0.523302   \n",
       "\n",
       "   VALUE_norm                                        country_all  \\\n",
       "0   20.086441  United States,Lithuania,Canada,Australia,Polan...   \n",
       "1   18.852190  Poland,Poland,Russia,United Kingdom,Slovakia,C...   \n",
       "2   12.035656  United States,Canada,Lithuania,Australia,Polan...   \n",
       "3   11.395826  United States,South Korea,Iceland,Hungary,Aust...   \n",
       "4   10.374549  United States,Lithuania,Brazil,Israel,Spain,Sl...   \n",
       "\n",
       "   showingOn_count  \n",
       "0               37  \n",
       "1               37  \n",
       "2               37  \n",
       "3               36  \n",
       "4               37  \n",
       "\n",
       "[5 rows x 31 columns]"
      ]
     },
     "execution_count": 16,
     "metadata": {},
     "output_type": "execute_result"
    }
   ],
   "source": [
    "df.head(5)"
   ]
  },
  {
   "cell_type": "code",
   "execution_count": 17,
   "id": "d3110054",
   "metadata": {
    "ExecuteTime": {
     "end_time": "2021-07-13T05:39:15.938417Z",
     "start_time": "2021-07-13T05:39:15.933857Z"
    }
   },
   "outputs": [],
   "source": [
    "# 정규화 진행\n",
    "\n",
    "df['showingOn_count_norm'] = (df['showingOn_count'] - df['showingOn_count'].min())/df['showingOn_count'].max()  ## "
   ]
  },
  {
   "cell_type": "code",
   "execution_count": 18,
   "id": "b6ffb328",
   "metadata": {
    "ExecuteTime": {
     "end_time": "2021-07-13T05:39:16.782909Z",
     "start_time": "2021-07-13T05:39:16.779064Z"
    }
   },
   "outputs": [
    {
     "data": {
      "text/plain": [
       "pandas.core.series.Series"
      ]
     },
     "execution_count": 18,
     "metadata": {},
     "output_type": "execute_result"
    }
   ],
   "source": [
    "type(df.showingOn_count)"
   ]
  },
  {
   "cell_type": "code",
   "execution_count": null,
   "id": "0d750bc7",
   "metadata": {},
   "outputs": [],
   "source": []
  },
  {
   "cell_type": "code",
   "execution_count": null,
   "id": "f2142727",
   "metadata": {},
   "outputs": [],
   "source": []
  },
  {
   "cell_type": "code",
   "execution_count": null,
   "id": "578009f0",
   "metadata": {},
   "outputs": [],
   "source": []
  },
  {
   "cell_type": "code",
   "execution_count": null,
   "id": "b99b40f1",
   "metadata": {},
   "outputs": [],
   "source": []
  },
  {
   "cell_type": "code",
   "execution_count": null,
   "id": "ea5cbc7a",
   "metadata": {},
   "outputs": [],
   "source": []
  },
  {
   "cell_type": "code",
   "execution_count": null,
   "id": "96c77c8c",
   "metadata": {},
   "outputs": [],
   "source": []
  },
  {
   "cell_type": "code",
   "execution_count": null,
   "id": "8b7baa1f",
   "metadata": {},
   "outputs": [],
   "source": []
  },
  {
   "cell_type": "code",
   "execution_count": null,
   "id": "f48862bc",
   "metadata": {},
   "outputs": [],
   "source": []
  },
  {
   "cell_type": "code",
   "execution_count": null,
   "id": "9289fd54",
   "metadata": {},
   "outputs": [],
   "source": []
  },
  {
   "cell_type": "markdown",
   "id": "e0cdc38e",
   "metadata": {},
   "source": [
    "# 상영 국가 수와 viewpoint"
   ]
  },
  {
   "cell_type": "code",
   "execution_count": 19,
   "id": "f39b6aa4",
   "metadata": {
    "ExecuteTime": {
     "end_time": "2021-07-13T05:39:20.952559Z",
     "start_time": "2021-07-13T05:39:20.929515Z"
    }
   },
   "outputs": [
    {
     "data": {
      "text/html": [
       "<div>\n",
       "<style scoped>\n",
       "    .dataframe tbody tr th:only-of-type {\n",
       "        vertical-align: middle;\n",
       "    }\n",
       "\n",
       "    .dataframe tbody tr th {\n",
       "        vertical-align: top;\n",
       "    }\n",
       "\n",
       "    .dataframe thead th {\n",
       "        text-align: right;\n",
       "    }\n",
       "</style>\n",
       "<table border=\"1\" class=\"dataframe\">\n",
       "  <thead>\n",
       "    <tr style=\"text-align: right;\">\n",
       "      <th></th>\n",
       "      <th>#</th>\n",
       "      <th>Title</th>\n",
       "      <th>Series or Movie</th>\n",
       "      <th>COUNTRY</th>\n",
       "      <th>Release Date</th>\n",
       "      <th>GENRE</th>\n",
       "      <th>VALUE</th>\n",
       "      <th>Genre_all</th>\n",
       "      <th>Tags</th>\n",
       "      <th>Languages</th>\n",
       "      <th>...</th>\n",
       "      <th>Boxoffice</th>\n",
       "      <th>Netflix Release Date</th>\n",
       "      <th>Production House</th>\n",
       "      <th>Summary</th>\n",
       "      <th>IMDb Votes</th>\n",
       "      <th>VALUE_std</th>\n",
       "      <th>VALUE_norm</th>\n",
       "      <th>country_all</th>\n",
       "      <th>showingOn_count</th>\n",
       "      <th>showingOn_count_norm</th>\n",
       "    </tr>\n",
       "  </thead>\n",
       "  <tbody>\n",
       "    <tr>\n",
       "      <th>0</th>\n",
       "      <td>0</td>\n",
       "      <td>thequeensgambit</td>\n",
       "      <td>TV</td>\n",
       "      <td>United States</td>\n",
       "      <td>2020.10.23</td>\n",
       "      <td>Drama</td>\n",
       "      <td>44867</td>\n",
       "      <td>Biography, Drama, History</td>\n",
       "      <td>TV Dramas,US TV Shows,TV Shows Based on Books,...</td>\n",
       "      <td>English, German, French</td>\n",
       "      <td>...</td>\n",
       "      <td>$56,441,711</td>\n",
       "      <td>2020.10.23</td>\n",
       "      <td>Pathé Pictures, Scott Rudin Productions</td>\n",
       "      <td>In a 1950s orphanage, a young girl reveals an ...</td>\n",
       "      <td>104495.0</td>\n",
       "      <td>0.999978</td>\n",
       "      <td>20.086441</td>\n",
       "      <td>United States,Lithuania,Canada,Australia,Polan...</td>\n",
       "      <td>37</td>\n",
       "      <td>0.972973</td>\n",
       "    </tr>\n",
       "  </tbody>\n",
       "</table>\n",
       "<p>1 rows × 32 columns</p>\n",
       "</div>"
      ],
      "text/plain": [
       "   #            Title Series or Movie        COUNTRY Release Date  GENRE  \\\n",
       "0  0  thequeensgambit              TV  United States   2020.10.23  Drama   \n",
       "\n",
       "   VALUE                  Genre_all  \\\n",
       "0  44867  Biography, Drama, History   \n",
       "\n",
       "                                                Tags                Languages  \\\n",
       "0  TV Dramas,US TV Shows,TV Shows Based on Books,...  English, German, French   \n",
       "\n",
       "   ...     Boxoffice Netflix Release Date  \\\n",
       "0  ...  $56,441,711            2020.10.23   \n",
       "\n",
       "                          Production House  \\\n",
       "0  Pathé Pictures, Scott Rudin Productions   \n",
       "\n",
       "                                             Summary IMDb Votes VALUE_std  \\\n",
       "0  In a 1950s orphanage, a young girl reveals an ...   104495.0  0.999978   \n",
       "\n",
       "  VALUE_norm                                        country_all  \\\n",
       "0  20.086441  United States,Lithuania,Canada,Australia,Polan...   \n",
       "\n",
       "   showingOn_count  showingOn_count_norm  \n",
       "0               37              0.972973  \n",
       "\n",
       "[1 rows x 32 columns]"
      ]
     },
     "execution_count": 19,
     "metadata": {},
     "output_type": "execute_result"
    }
   ],
   "source": [
    "df.head(1)"
   ]
  },
  {
   "cell_type": "code",
   "execution_count": 20,
   "id": "f59bca37",
   "metadata": {
    "ExecuteTime": {
     "end_time": "2021-07-13T05:39:21.754913Z",
     "start_time": "2021-07-13T05:39:21.749316Z"
    }
   },
   "outputs": [],
   "source": [
    "df_count = df[['#','VALUE','showingOn_count']]"
   ]
  },
  {
   "cell_type": "code",
   "execution_count": 21,
   "id": "d01e8c44",
   "metadata": {
    "ExecuteTime": {
     "end_time": "2021-07-13T05:39:22.394753Z",
     "start_time": "2021-07-13T05:39:22.389627Z"
    }
   },
   "outputs": [
    {
     "data": {
      "text/plain": [
       "#                  0\n",
       "VALUE              0\n",
       "showingOn_count    0\n",
       "dtype: int64"
      ]
     },
     "execution_count": 21,
     "metadata": {},
     "output_type": "execute_result"
    }
   ],
   "source": [
    "df_count.isnull().sum()"
   ]
  },
  {
   "cell_type": "code",
   "execution_count": 22,
   "id": "130c4ebb",
   "metadata": {
    "ExecuteTime": {
     "end_time": "2021-07-13T05:39:22.844398Z",
     "start_time": "2021-07-13T05:39:22.827196Z"
    }
   },
   "outputs": [
    {
     "data": {
      "text/html": [
       "<div>\n",
       "<style scoped>\n",
       "    .dataframe tbody tr th:only-of-type {\n",
       "        vertical-align: middle;\n",
       "    }\n",
       "\n",
       "    .dataframe tbody tr th {\n",
       "        vertical-align: top;\n",
       "    }\n",
       "\n",
       "    .dataframe thead th {\n",
       "        text-align: right;\n",
       "    }\n",
       "</style>\n",
       "<table border=\"1\" class=\"dataframe\">\n",
       "  <thead>\n",
       "    <tr style=\"text-align: right;\">\n",
       "      <th></th>\n",
       "      <th>#</th>\n",
       "      <th>VALUE</th>\n",
       "      <th>showingOn_count</th>\n",
       "    </tr>\n",
       "  </thead>\n",
       "  <tbody>\n",
       "    <tr>\n",
       "      <th>count</th>\n",
       "      <td>2960.000000</td>\n",
       "      <td>2960.000000</td>\n",
       "      <td>2960.000000</td>\n",
       "    </tr>\n",
       "    <tr>\n",
       "      <th>mean</th>\n",
       "      <td>1479.500000</td>\n",
       "      <td>633.733446</td>\n",
       "      <td>16.586486</td>\n",
       "    </tr>\n",
       "    <tr>\n",
       "      <th>std</th>\n",
       "      <td>854.622724</td>\n",
       "      <td>2202.145547</td>\n",
       "      <td>14.264150</td>\n",
       "    </tr>\n",
       "    <tr>\n",
       "      <th>min</th>\n",
       "      <td>0.000000</td>\n",
       "      <td>1.000000</td>\n",
       "      <td>1.000000</td>\n",
       "    </tr>\n",
       "    <tr>\n",
       "      <th>25%</th>\n",
       "      <td>739.750000</td>\n",
       "      <td>22.000000</td>\n",
       "      <td>3.000000</td>\n",
       "    </tr>\n",
       "    <tr>\n",
       "      <th>50%</th>\n",
       "      <td>1479.500000</td>\n",
       "      <td>80.000000</td>\n",
       "      <td>11.000000</td>\n",
       "    </tr>\n",
       "    <tr>\n",
       "      <th>75%</th>\n",
       "      <td>2219.250000</td>\n",
       "      <td>321.000000</td>\n",
       "      <td>35.000000</td>\n",
       "    </tr>\n",
       "    <tr>\n",
       "      <th>max</th>\n",
       "      <td>2959.000000</td>\n",
       "      <td>44867.000000</td>\n",
       "      <td>37.000000</td>\n",
       "    </tr>\n",
       "  </tbody>\n",
       "</table>\n",
       "</div>"
      ],
      "text/plain": [
       "                 #         VALUE  showingOn_count\n",
       "count  2960.000000   2960.000000      2960.000000\n",
       "mean   1479.500000    633.733446        16.586486\n",
       "std     854.622724   2202.145547        14.264150\n",
       "min       0.000000      1.000000         1.000000\n",
       "25%     739.750000     22.000000         3.000000\n",
       "50%    1479.500000     80.000000        11.000000\n",
       "75%    2219.250000    321.000000        35.000000\n",
       "max    2959.000000  44867.000000        37.000000"
      ]
     },
     "execution_count": 22,
     "metadata": {},
     "output_type": "execute_result"
    }
   ],
   "source": [
    "df_count.describe()"
   ]
  },
  {
   "cell_type": "code",
   "execution_count": 23,
   "id": "4ad4f9bc",
   "metadata": {
    "ExecuteTime": {
     "end_time": "2021-07-13T05:39:23.422933Z",
     "start_time": "2021-07-13T05:39:23.416530Z"
    }
   },
   "outputs": [
    {
     "data": {
      "text/html": [
       "<div>\n",
       "<style scoped>\n",
       "    .dataframe tbody tr th:only-of-type {\n",
       "        vertical-align: middle;\n",
       "    }\n",
       "\n",
       "    .dataframe tbody tr th {\n",
       "        vertical-align: top;\n",
       "    }\n",
       "\n",
       "    .dataframe thead th {\n",
       "        text-align: right;\n",
       "    }\n",
       "</style>\n",
       "<table border=\"1\" class=\"dataframe\">\n",
       "  <thead>\n",
       "    <tr style=\"text-align: right;\">\n",
       "      <th></th>\n",
       "      <th>#</th>\n",
       "      <th>VALUE</th>\n",
       "      <th>showingOn_count</th>\n",
       "    </tr>\n",
       "  </thead>\n",
       "  <tbody>\n",
       "    <tr>\n",
       "      <th>0</th>\n",
       "      <td>0</td>\n",
       "      <td>44867</td>\n",
       "      <td>37</td>\n",
       "    </tr>\n",
       "    <tr>\n",
       "      <th>1</th>\n",
       "      <td>1</td>\n",
       "      <td>42149</td>\n",
       "      <td>37</td>\n",
       "    </tr>\n",
       "  </tbody>\n",
       "</table>\n",
       "</div>"
      ],
      "text/plain": [
       "   #  VALUE  showingOn_count\n",
       "0  0  44867               37\n",
       "1  1  42149               37"
      ]
     },
     "execution_count": 23,
     "metadata": {},
     "output_type": "execute_result"
    }
   ],
   "source": [
    "df_count.head(2)"
   ]
  },
  {
   "cell_type": "code",
   "execution_count": 24,
   "id": "44b13a65",
   "metadata": {
    "ExecuteTime": {
     "end_time": "2021-07-13T05:39:25.537918Z",
     "start_time": "2021-07-13T05:39:25.533386Z"
    }
   },
   "outputs": [
    {
     "data": {
      "text/plain": [
       "37"
      ]
     },
     "execution_count": 24,
     "metadata": {},
     "output_type": "execute_result"
    }
   ],
   "source": [
    "len(df_count['showingOn_count'].unique())"
   ]
  },
  {
   "cell_type": "code",
   "execution_count": null,
   "id": "1b208676",
   "metadata": {},
   "outputs": [],
   "source": []
  },
  {
   "cell_type": "markdown",
   "id": "f0435d13",
   "metadata": {
    "ExecuteTime": {
     "end_time": "2021-07-10T17:40:06.808147Z",
     "start_time": "2021-07-10T17:40:06.800558Z"
    }
   },
   "source": [
    "## 카이제곱 검정\n",
    "- 귀무가설 : 두 변수는 연관성이 없다. 차이가 없다.\n",
    " - => showingOn_count의 증감은 value와 상관성이 없다.\n",
    "- 대립가설 : 두 변수는 연관성이 있다. 차이가 있다.\n",
    " - => showingOn_count의 증감은 value와 상관성이 있다."
   ]
  },
  {
   "cell_type": "code",
   "execution_count": 25,
   "id": "cc613f1f",
   "metadata": {
    "ExecuteTime": {
     "end_time": "2021-07-13T05:39:29.629847Z",
     "start_time": "2021-07-13T05:39:29.626469Z"
    }
   },
   "outputs": [],
   "source": [
    "value = list(df_count.VALUE)\n",
    "showingOn_count=list(df_count.showingOn_count)"
   ]
  },
  {
   "cell_type": "code",
   "execution_count": 26,
   "id": "3824ce24",
   "metadata": {
    "ExecuteTime": {
     "end_time": "2021-07-13T05:39:30.145028Z",
     "start_time": "2021-07-13T05:39:30.141392Z"
    }
   },
   "outputs": [],
   "source": [
    "chis = stats.chisquare(value,showingOn_count)"
   ]
  },
  {
   "cell_type": "code",
   "execution_count": 27,
   "id": "066224dd",
   "metadata": {
    "ExecuteTime": {
     "end_time": "2021-07-13T05:39:30.777558Z",
     "start_time": "2021-07-13T05:39:30.773605Z"
    }
   },
   "outputs": [
    {
     "name": "stdout",
     "output_type": "stream",
     "text": [
      "static : 626914944.2961658, p-value : 0.0\n",
      "신뢰수준하에서 유의한 관계. 대립가설 채택\n"
     ]
    }
   ],
   "source": [
    "statistic, pvalue = chis\n",
    "print(f'static : {statistic}, p-value : {pvalue}')\n",
    "if pvalue < 0.05 :\n",
    "    print('신뢰수준하에서 유의한 관계. 대립가설 채택')\n",
    "else :\n",
    "    print('신뢰수준하에서 무의미한 관계. 귀무가설 채택')"
   ]
  },
  {
   "cell_type": "code",
   "execution_count": 28,
   "id": "35545aca",
   "metadata": {
    "ExecuteTime": {
     "end_time": "2021-07-13T05:39:31.678180Z",
     "start_time": "2021-07-13T05:39:31.675665Z"
    }
   },
   "outputs": [],
   "source": [
    "#피어스만 상관계수\n",
    "# corr=stats.pearsonr(df_count.VALUE, df_count.showingOn_count)\n",
    "# corr"
   ]
  },
  {
   "cell_type": "code",
   "execution_count": 29,
   "id": "26dae0e6",
   "metadata": {
    "ExecuteTime": {
     "end_time": "2021-07-13T05:39:32.808125Z",
     "start_time": "2021-07-13T05:39:32.800727Z"
    }
   },
   "outputs": [
    {
     "data": {
      "text/plain": [
       "SpearmanrResult(correlation=0.3756960524649637, pvalue=7.182035682261628e-100)"
      ]
     },
     "execution_count": 29,
     "metadata": {},
     "output_type": "execute_result"
    }
   ],
   "source": [
    "#스피어만 상관계수\n",
    "corr1=stats.spearmanr(df_count.VALUE, df_count.showingOn_count)\n",
    "corr1"
   ]
  },
  {
   "cell_type": "code",
   "execution_count": 30,
   "id": "ae2805bc",
   "metadata": {
    "ExecuteTime": {
     "end_time": "2021-07-13T05:39:34.384257Z",
     "start_time": "2021-07-13T05:39:34.374453Z"
    }
   },
   "outputs": [
    {
     "data": {
      "text/html": [
       "<div>\n",
       "<style scoped>\n",
       "    .dataframe tbody tr th:only-of-type {\n",
       "        vertical-align: middle;\n",
       "    }\n",
       "\n",
       "    .dataframe tbody tr th {\n",
       "        vertical-align: top;\n",
       "    }\n",
       "\n",
       "    .dataframe thead th {\n",
       "        text-align: right;\n",
       "    }\n",
       "</style>\n",
       "<table border=\"1\" class=\"dataframe\">\n",
       "  <thead>\n",
       "    <tr style=\"text-align: right;\">\n",
       "      <th></th>\n",
       "      <th>#</th>\n",
       "      <th>VALUE</th>\n",
       "      <th>showingOn_count</th>\n",
       "    </tr>\n",
       "  </thead>\n",
       "  <tbody>\n",
       "    <tr>\n",
       "      <th>#</th>\n",
       "      <td>1.000000</td>\n",
       "      <td>-0.986816</td>\n",
       "      <td>-0.372766</td>\n",
       "    </tr>\n",
       "    <tr>\n",
       "      <th>VALUE</th>\n",
       "      <td>-0.986816</td>\n",
       "      <td>1.000000</td>\n",
       "      <td>0.375696</td>\n",
       "    </tr>\n",
       "    <tr>\n",
       "      <th>showingOn_count</th>\n",
       "      <td>-0.372766</td>\n",
       "      <td>0.375696</td>\n",
       "      <td>1.000000</td>\n",
       "    </tr>\n",
       "  </tbody>\n",
       "</table>\n",
       "</div>"
      ],
      "text/plain": [
       "                        #     VALUE  showingOn_count\n",
       "#                1.000000 -0.986816        -0.372766\n",
       "VALUE           -0.986816  1.000000         0.375696\n",
       "showingOn_count -0.372766  0.375696         1.000000"
      ]
     },
     "execution_count": 30,
     "metadata": {},
     "output_type": "execute_result"
    }
   ],
   "source": [
    "df_count.corr(method='spearman')"
   ]
  },
  {
   "cell_type": "code",
   "execution_count": 31,
   "id": "fe4d2394",
   "metadata": {
    "ExecuteTime": {
     "end_time": "2021-07-13T05:39:35.838354Z",
     "start_time": "2021-07-13T05:39:35.658889Z"
    }
   },
   "outputs": [
    {
     "data": {
      "image/png": "[encoded data removed]",
      "text/plain": [
       "<Figure size 720x720 with 1 Axes>"
      ]
     },
     "metadata": {
      "needs_background": "light"
     },
     "output_type": "display_data"
    }
   ],
   "source": [
    "plt.figure(figsize=(10,10))\n",
    "plt.scatter(showingOn_count,value, c='crimson')\n",
    "plt.xlabel('Screening country count')\n",
    "plt.ylabel('value')\n",
    "#plt.axis([0, 40, 0, 20000]) #구간 설정\n",
    "plt.show()"
   ]
  },
  {
   "cell_type": "markdown",
   "id": "ac28ea4f",
   "metadata": {},
   "source": [
    "- 카이 제곱 검정 결과 두 변수들간의 유의수준 0.05에서 showingOn_count의 증감은 value와의 상관성이 있다고 할 수 있다.\n",
    "- 산점도와 상관계수를 확인을 해봤을 때, 양의 상관성이 있다고 볼 수 있다."
   ]
  },
  {
   "cell_type": "markdown",
   "id": "0ba9c4e4",
   "metadata": {},
   "source": [
    "## country_all과 viewpoint\n",
    "- 귀무가설: 상영국가들은 viewpoint에 영향이 없다.\n",
    "- 대립가설: 상영국가들은 viewpoint에 영향이 있다."
   ]
  },
  {
   "cell_type": "code",
   "execution_count": 32,
   "id": "00fd4eba",
   "metadata": {
    "ExecuteTime": {
     "end_time": "2021-07-13T05:39:48.011876Z",
     "start_time": "2021-07-13T05:39:48.007951Z"
    }
   },
   "outputs": [],
   "source": [
    "df_country=df[['#','VALUE','country_all']]"
   ]
  },
  {
   "cell_type": "code",
   "execution_count": 33,
   "id": "ff73c3fe",
   "metadata": {
    "ExecuteTime": {
     "end_time": "2021-07-13T05:39:48.330860Z",
     "start_time": "2021-07-13T05:39:48.323973Z"
    }
   },
   "outputs": [
    {
     "data": {
      "text/html": [
       "<div>\n",
       "<style scoped>\n",
       "    .dataframe tbody tr th:only-of-type {\n",
       "        vertical-align: middle;\n",
       "    }\n",
       "\n",
       "    .dataframe tbody tr th {\n",
       "        vertical-align: top;\n",
       "    }\n",
       "\n",
       "    .dataframe thead th {\n",
       "        text-align: right;\n",
       "    }\n",
       "</style>\n",
       "<table border=\"1\" class=\"dataframe\">\n",
       "  <thead>\n",
       "    <tr style=\"text-align: right;\">\n",
       "      <th></th>\n",
       "      <th>#</th>\n",
       "      <th>VALUE</th>\n",
       "      <th>country_all</th>\n",
       "    </tr>\n",
       "  </thead>\n",
       "  <tbody>\n",
       "    <tr>\n",
       "      <th>0</th>\n",
       "      <td>0</td>\n",
       "      <td>44867</td>\n",
       "      <td>United States,Lithuania,Canada,Australia,Polan...</td>\n",
       "    </tr>\n",
       "  </tbody>\n",
       "</table>\n",
       "</div>"
      ],
      "text/plain": [
       "   #  VALUE                                        country_all\n",
       "0  0  44867  United States,Lithuania,Canada,Australia,Polan..."
      ]
     },
     "execution_count": 33,
     "metadata": {},
     "output_type": "execute_result"
    }
   ],
   "source": [
    "df_country.head(1)"
   ]
  },
  {
   "cell_type": "code",
   "execution_count": 34,
   "id": "8b02fdb6",
   "metadata": {
    "ExecuteTime": {
     "end_time": "2021-07-13T05:39:48.850595Z",
     "start_time": "2021-07-13T05:39:48.840760Z"
    }
   },
   "outputs": [
    {
     "name": "stdout",
     "output_type": "stream",
     "text": [
      "<class 'pandas.core.frame.DataFrame'>\n",
      "RangeIndex: 2960 entries, 0 to 2959\n",
      "Data columns (total 3 columns):\n",
      " #   Column       Non-Null Count  Dtype \n",
      "---  ------       --------------  ----- \n",
      " 0   #            2960 non-null   int64 \n",
      " 1   VALUE        2960 non-null   int64 \n",
      " 2   country_all  2749 non-null   object\n",
      "dtypes: int64(2), object(1)\n",
      "memory usage: 69.5+ KB\n"
     ]
    }
   ],
   "source": [
    "df_country.info()"
   ]
  },
  {
   "cell_type": "code",
   "execution_count": 35,
   "id": "d753a1cb",
   "metadata": {
    "ExecuteTime": {
     "end_time": "2021-07-13T05:39:52.331981Z",
     "start_time": "2021-07-13T05:39:52.328056Z"
    }
   },
   "outputs": [],
   "source": [
    "df_country.sort_values('#', ascending = True, inplace=True)"
   ]
  },
  {
   "cell_type": "code",
   "execution_count": 36,
   "id": "0aaff2fe",
   "metadata": {
    "ExecuteTime": {
     "end_time": "2021-07-13T05:39:53.051319Z",
     "start_time": "2021-07-13T05:39:53.048308Z"
    }
   },
   "outputs": [],
   "source": [
    "df_view_top500 = df_country[:][:500]"
   ]
  },
  {
   "cell_type": "markdown",
   "id": "972ce0e6",
   "metadata": {},
   "source": [
    "**# 순위 기준 top500 country들을 country_single로 만듬**"
   ]
  },
  {
   "cell_type": "code",
   "execution_count": 37,
   "id": "310a33ca",
   "metadata": {
    "ExecuteTime": {
     "end_time": "2021-07-13T05:39:54.987721Z",
     "start_time": "2021-07-13T05:39:54.984171Z"
    }
   },
   "outputs": [],
   "source": [
    "df_view_top500.set_index('#',inplace=True)"
   ]
  },
  {
   "cell_type": "code",
   "execution_count": 38,
   "id": "9f920881",
   "metadata": {
    "ExecuteTime": {
     "end_time": "2021-07-13T05:39:55.577753Z",
     "start_time": "2021-07-13T05:39:55.570014Z"
    }
   },
   "outputs": [
    {
     "data": {
      "text/html": [
       "<div>\n",
       "<style scoped>\n",
       "    .dataframe tbody tr th:only-of-type {\n",
       "        vertical-align: middle;\n",
       "    }\n",
       "\n",
       "    .dataframe tbody tr th {\n",
       "        vertical-align: top;\n",
       "    }\n",
       "\n",
       "    .dataframe thead th {\n",
       "        text-align: right;\n",
       "    }\n",
       "</style>\n",
       "<table border=\"1\" class=\"dataframe\">\n",
       "  <thead>\n",
       "    <tr style=\"text-align: right;\">\n",
       "      <th></th>\n",
       "      <th>VALUE</th>\n",
       "      <th>country_all</th>\n",
       "    </tr>\n",
       "    <tr>\n",
       "      <th>#</th>\n",
       "      <th></th>\n",
       "      <th></th>\n",
       "    </tr>\n",
       "  </thead>\n",
       "  <tbody>\n",
       "    <tr>\n",
       "      <th>0</th>\n",
       "      <td>44867</td>\n",
       "      <td>United States,Lithuania,Canada,Australia,Polan...</td>\n",
       "    </tr>\n",
       "    <tr>\n",
       "      <th>1</th>\n",
       "      <td>42149</td>\n",
       "      <td>Poland,Poland,Russia,United Kingdom,Slovakia,C...</td>\n",
       "    </tr>\n",
       "    <tr>\n",
       "      <th>2</th>\n",
       "      <td>27138</td>\n",
       "      <td>United States,Canada,Lithuania,Australia,Polan...</td>\n",
       "    </tr>\n",
       "    <tr>\n",
       "      <th>3</th>\n",
       "      <td>25729</td>\n",
       "      <td>United States,South Korea,Iceland,Hungary,Aust...</td>\n",
       "    </tr>\n",
       "    <tr>\n",
       "      <th>4</th>\n",
       "      <td>23480</td>\n",
       "      <td>United States,Lithuania,Brazil,Israel,Spain,Sl...</td>\n",
       "    </tr>\n",
       "    <tr>\n",
       "      <th>5</th>\n",
       "      <td>21012</td>\n",
       "      <td>Mexico,Czech Republic,United States,Switzerlan...</td>\n",
       "    </tr>\n",
       "    <tr>\n",
       "      <th>6</th>\n",
       "      <td>20937</td>\n",
       "      <td>United Kingdom,Switzerland,Sweden,Netherlands,...</td>\n",
       "    </tr>\n",
       "    <tr>\n",
       "      <th>7</th>\n",
       "      <td>17782</td>\n",
       "      <td>United States,France,Belgium,Switzerland,Hong ...</td>\n",
       "    </tr>\n",
       "    <tr>\n",
       "      <th>8</th>\n",
       "      <td>16427</td>\n",
       "      <td>United Kingdom,Lithuania,France,South Africa,I...</td>\n",
       "    </tr>\n",
       "    <tr>\n",
       "      <th>9</th>\n",
       "      <td>16264</td>\n",
       "      <td>Colombia,Argentina,Mexico,Colombia</td>\n",
       "    </tr>\n",
       "  </tbody>\n",
       "</table>\n",
       "</div>"
      ],
      "text/plain": [
       "   VALUE                                        country_all\n",
       "#                                                          \n",
       "0  44867  United States,Lithuania,Canada,Australia,Polan...\n",
       "1  42149  Poland,Poland,Russia,United Kingdom,Slovakia,C...\n",
       "2  27138  United States,Canada,Lithuania,Australia,Polan...\n",
       "3  25729  United States,South Korea,Iceland,Hungary,Aust...\n",
       "4  23480  United States,Lithuania,Brazil,Israel,Spain,Sl...\n",
       "5  21012  Mexico,Czech Republic,United States,Switzerlan...\n",
       "6  20937  United Kingdom,Switzerland,Sweden,Netherlands,...\n",
       "7  17782  United States,France,Belgium,Switzerland,Hong ...\n",
       "8  16427  United Kingdom,Lithuania,France,South Africa,I...\n",
       "9  16264                 Colombia,Argentina,Mexico,Colombia"
      ]
     },
     "execution_count": 38,
     "metadata": {},
     "output_type": "execute_result"
    }
   ],
   "source": [
    "df_view_top500.head(10)"
   ]
  },
  {
   "cell_type": "code",
   "execution_count": 39,
   "id": "5ff13a0a",
   "metadata": {
    "ExecuteTime": {
     "end_time": "2021-07-13T05:39:56.675510Z",
     "start_time": "2021-07-13T05:39:56.670455Z"
    }
   },
   "outputs": [],
   "source": [
    "result = df_view_top500['country_all'].str.split(',') #리스트화"
   ]
  },
  {
   "cell_type": "code",
   "execution_count": 40,
   "id": "e79b04ea",
   "metadata": {
    "ExecuteTime": {
     "end_time": "2021-07-13T05:39:59.515265Z",
     "start_time": "2021-07-13T05:39:59.418099Z"
    }
   },
   "outputs": [],
   "source": [
    "result = result.apply(lambda x: pd.Series(x))"
   ]
  },
  {
   "cell_type": "code",
   "execution_count": null,
   "id": "147b7cf0",
   "metadata": {
    "ExecuteTime": {
     "end_time": "2021-07-13T05:37:09.715087Z",
     "start_time": "2021-07-13T05:37:09.688253Z"
    }
   },
   "outputs": [],
   "source": [
    "#"
   ]
  },
  {
   "cell_type": "code",
   "execution_count": null,
   "id": "75a88969",
   "metadata": {
    "ExecuteTime": {
     "end_time": "2021-07-13T05:33:03.212270Z",
     "start_time": "2021-07-13T05:33:03.188295Z"
    }
   },
   "outputs": [],
   "source": [
    "# # 중복값 제거\n",
    "# for 1,i in range(int(len(result))):\n",
    "#      result[i]= np.unique(result[i]).tolist()\n"
   ]
  },
  {
   "cell_type": "code",
   "execution_count": null,
   "id": "3c7670b3",
   "metadata": {
    "ExecuteTime": {
     "end_time": "2021-07-13T05:23:10.292287Z",
     "start_time": "2021-07-13T05:23:10.280423Z"
    }
   },
   "outputs": [],
   "source": [
    "# result.stack()\n",
    "# result.stack().reset_index(level=1, drop=True) ## 인덱스 변화 확인"
   ]
  },
  {
   "cell_type": "code",
   "execution_count": 41,
   "id": "3bf3061a",
   "metadata": {
    "ExecuteTime": {
     "end_time": "2021-07-13T05:40:05.640205Z",
     "start_time": "2021-07-13T05:40:05.627414Z"
    }
   },
   "outputs": [
    {
     "data": {
      "text/html": [
       "<div>\n",
       "<style scoped>\n",
       "    .dataframe tbody tr th:only-of-type {\n",
       "        vertical-align: middle;\n",
       "    }\n",
       "\n",
       "    .dataframe tbody tr th {\n",
       "        vertical-align: top;\n",
       "    }\n",
       "\n",
       "    .dataframe thead th {\n",
       "        text-align: right;\n",
       "    }\n",
       "</style>\n",
       "<table border=\"1\" class=\"dataframe\">\n",
       "  <thead>\n",
       "    <tr style=\"text-align: right;\">\n",
       "      <th></th>\n",
       "      <th>country_single</th>\n",
       "    </tr>\n",
       "    <tr>\n",
       "      <th>#</th>\n",
       "      <th></th>\n",
       "    </tr>\n",
       "  </thead>\n",
       "  <tbody>\n",
       "    <tr>\n",
       "      <th>0</th>\n",
       "      <td>United States</td>\n",
       "    </tr>\n",
       "    <tr>\n",
       "      <th>0</th>\n",
       "      <td>Lithuania</td>\n",
       "    </tr>\n",
       "    <tr>\n",
       "      <th>0</th>\n",
       "      <td>Canada</td>\n",
       "    </tr>\n",
       "    <tr>\n",
       "      <th>0</th>\n",
       "      <td>Australia</td>\n",
       "    </tr>\n",
       "    <tr>\n",
       "      <th>0</th>\n",
       "      <td>Poland</td>\n",
       "    </tr>\n",
       "    <tr>\n",
       "      <th>...</th>\n",
       "      <td>...</td>\n",
       "    </tr>\n",
       "    <tr>\n",
       "      <th>499</th>\n",
       "      <td>India</td>\n",
       "    </tr>\n",
       "    <tr>\n",
       "      <th>499</th>\n",
       "      <td>Argentina</td>\n",
       "    </tr>\n",
       "    <tr>\n",
       "      <th>499</th>\n",
       "      <td>Greece</td>\n",
       "    </tr>\n",
       "    <tr>\n",
       "      <th>499</th>\n",
       "      <td>Mexico</td>\n",
       "    </tr>\n",
       "    <tr>\n",
       "      <th>499</th>\n",
       "      <td>Colombia</td>\n",
       "    </tr>\n",
       "  </tbody>\n",
       "</table>\n",
       "<p>13288 rows × 1 columns</p>\n",
       "</div>"
      ],
      "text/plain": [
       "    country_single\n",
       "#                 \n",
       "0    United States\n",
       "0        Lithuania\n",
       "0           Canada\n",
       "0        Australia\n",
       "0           Poland\n",
       "..             ...\n",
       "499          India\n",
       "499      Argentina\n",
       "499         Greece\n",
       "499         Mexico\n",
       "499       Colombia\n",
       "\n",
       "[13288 rows x 1 columns]"
      ]
     },
     "execution_count": 41,
     "metadata": {},
     "output_type": "execute_result"
    }
   ],
   "source": [
    "result = result.stack().reset_index(level=1, drop=True).to_frame('country_single')\n",
    "result"
   ]
  },
  {
   "cell_type": "code",
   "execution_count": null,
   "id": "7d4748de",
   "metadata": {
    "ExecuteTime": {
     "end_time": "2021-07-13T05:24:11.121942Z",
     "start_time": "2021-07-13T05:24:11.118422Z"
    }
   },
   "outputs": [],
   "source": [
    "rs = result.reset_index()"
   ]
  },
  {
   "cell_type": "code",
   "execution_count": null,
   "id": "081d1189",
   "metadata": {
    "ExecuteTime": {
     "end_time": "2021-07-13T05:24:32.745691Z",
     "start_time": "2021-07-13T05:24:32.736334Z"
    }
   },
   "outputs": [],
   "source": [
    "rs.head(50)"
   ]
  },
  {
   "cell_type": "code",
   "execution_count": null,
   "id": "f9bef548",
   "metadata": {
    "ExecuteTime": {
     "end_time": "2021-07-13T05:25:05.976811Z",
     "start_time": "2021-07-13T05:25:05.970977Z"
    }
   },
   "outputs": [],
   "source": [
    "len(rs['country_single'].unique())  # top500의 상영국가들 종류수"
   ]
  },
  {
   "cell_type": "code",
   "execution_count": null,
   "id": "eddcde1a",
   "metadata": {},
   "outputs": [],
   "source": []
  },
  {
   "cell_type": "code",
   "execution_count": null,
   "id": "22781d3e",
   "metadata": {},
   "outputs": [],
   "source": []
  },
  {
   "cell_type": "code",
   "execution_count": null,
   "id": "2b5fcbfa",
   "metadata": {},
   "outputs": [],
   "source": []
  },
  {
   "cell_type": "code",
   "execution_count": null,
   "id": "247fa24c",
   "metadata": {},
   "outputs": [],
   "source": []
  },
  {
   "cell_type": "code",
   "execution_count": null,
   "id": "e51a958a",
   "metadata": {
    "ExecuteTime": {
     "end_time": "2021-07-13T04:39:31.850425Z",
     "start_time": "2021-07-13T04:39:31.847749Z"
    }
   },
   "outputs": [],
   "source": [
    "import seaborn as sns"
   ]
  },
  {
   "cell_type": "code",
   "execution_count": null,
   "id": "faeabdbc",
   "metadata": {},
   "outputs": [],
   "source": []
  },
  {
   "cell_type": "code",
   "execution_count": null,
   "id": "4124e849",
   "metadata": {},
   "outputs": [],
   "source": []
  },
  {
   "cell_type": "code",
   "execution_count": null,
   "id": "aec74d5b",
   "metadata": {
    "ExecuteTime": {
     "end_time": "2021-07-13T04:39:35.478596Z",
     "start_time": "2021-07-13T04:39:34.590878Z"
    }
   },
   "outputs": [],
   "source": [
    "import pandas_profiling"
   ]
  },
  {
   "cell_type": "code",
   "execution_count": null,
   "id": "8435f40e",
   "metadata": {
    "ExecuteTime": {
     "end_time": "2021-07-13T04:39:38.865923Z",
     "start_time": "2021-07-13T04:39:35.480153Z"
    }
   },
   "outputs": [],
   "source": [
    "df_count.profile_report()"
   ]
  },
  {
   "cell_type": "markdown",
   "id": "36215581",
   "metadata": {},
   "source": [
    "# 상영 국가들과 viewpoint\n",
    "- 귀무가설 : 상영국가들은 viewpoint에 영향이 없다.\n",
    "- 대립가설 : 상영국가들은 viewpoint에 영향이 있다."
   ]
  },
  {
   "cell_type": "code",
   "execution_count": null,
   "id": "029af75f",
   "metadata": {
    "ExecuteTime": {
     "end_time": "2021-07-13T04:39:38.870840Z",
     "start_time": "2021-07-13T04:39:38.867657Z"
    }
   },
   "outputs": [],
   "source": [
    "df_showOn= df[['VALUE','country_all']]"
   ]
  },
  {
   "cell_type": "code",
   "execution_count": null,
   "id": "eb8a2a02",
   "metadata": {
    "ExecuteTime": {
     "end_time": "2021-07-13T04:39:38.877899Z",
     "start_time": "2021-07-13T04:39:38.872464Z"
    }
   },
   "outputs": [],
   "source": [
    "df_showOn.head()"
   ]
  },
  {
   "cell_type": "code",
   "execution_count": null,
   "id": "f0a58482",
   "metadata": {
    "ExecuteTime": {
     "end_time": "2021-07-13T04:39:38.887859Z",
     "start_time": "2021-07-13T04:39:38.879313Z"
    }
   },
   "outputs": [],
   "source": [
    "df_showOn.info()"
   ]
  },
  {
   "cell_type": "code",
   "execution_count": null,
   "id": "1a8765d7",
   "metadata": {
    "ExecuteTime": {
     "end_time": "2021-07-13T04:39:38.893463Z",
     "start_time": "2021-07-13T04:39:38.889133Z"
    }
   },
   "outputs": [],
   "source": [
    "df_showOn.isnull().sum()"
   ]
  },
  {
   "cell_type": "code",
   "execution_count": null,
   "id": "f0990f4b",
   "metadata": {
    "ExecuteTime": {
     "end_time": "2021-07-13T04:39:38.899878Z",
     "start_time": "2021-07-13T04:39:38.894892Z"
    }
   },
   "outputs": [],
   "source": [
    "df_showOn.describe"
   ]
  },
  {
   "cell_type": "code",
   "execution_count": null,
   "id": "ca35422c",
   "metadata": {
    "ExecuteTime": {
     "end_time": "2021-07-13T04:39:38.905048Z",
     "start_time": "2021-07-13T04:39:38.901696Z"
    }
   },
   "outputs": [],
   "source": [
    "df_showOn.set_index('VALUE',inplace=True)"
   ]
  },
  {
   "cell_type": "code",
   "execution_count": null,
   "id": "e78d3bfe",
   "metadata": {
    "ExecuteTime": {
     "end_time": "2021-07-13T04:39:38.917379Z",
     "start_time": "2021-07-13T04:39:38.907768Z"
    }
   },
   "outputs": [],
   "source": [
    "result = df_showOn['country_all'].str.split(',') #리스트화"
   ]
  },
  {
   "cell_type": "code",
   "execution_count": null,
   "id": "2c4431e4",
   "metadata": {
    "ExecuteTime": {
     "end_time": "2021-07-13T04:39:39.458808Z",
     "start_time": "2021-07-13T04:39:38.919223Z"
    }
   },
   "outputs": [],
   "source": [
    "result = result.apply(lambda x : pd.Series(x))"
   ]
  },
  {
   "cell_type": "code",
   "execution_count": null,
   "id": "ffd62c0a",
   "metadata": {
    "ExecuteTime": {
     "end_time": "2021-07-13T04:39:39.474224Z",
     "start_time": "2021-07-13T04:39:39.460812Z"
    }
   },
   "outputs": [],
   "source": [
    "result.stack()"
   ]
  },
  {
   "cell_type": "code",
   "execution_count": null,
   "id": "58989c54",
   "metadata": {
    "ExecuteTime": {
     "end_time": "2021-07-13T04:39:39.488076Z",
     "start_time": "2021-07-13T04:39:39.475788Z"
    }
   },
   "outputs": [],
   "source": [
    "result.stack().reset_index(level=1, drop=True)"
   ]
  },
  {
   "cell_type": "code",
   "execution_count": null,
   "id": "8e965d53",
   "metadata": {
    "ExecuteTime": {
     "end_time": "2021-07-13T04:39:39.508307Z",
     "start_time": "2021-07-13T04:39:39.490013Z"
    }
   },
   "outputs": [],
   "source": [
    "result = result.stack().reset_index(level=1, drop=True).to_frame('showOn_single')\n",
    "result"
   ]
  },
  {
   "cell_type": "code",
   "execution_count": null,
   "id": "590544ff",
   "metadata": {
    "ExecuteTime": {
     "end_time": "2021-07-13T04:39:39.514222Z",
     "start_time": "2021-07-13T04:39:39.510144Z"
    }
   },
   "outputs": [],
   "source": [
    "rs=result.reset_index()"
   ]
  },
  {
   "cell_type": "code",
   "execution_count": null,
   "id": "f97dac68",
   "metadata": {
    "ExecuteTime": {
     "end_time": "2021-07-13T04:39:39.527225Z",
     "start_time": "2021-07-13T04:39:39.515628Z"
    }
   },
   "outputs": [],
   "source": [
    "rs.info()"
   ]
  },
  {
   "cell_type": "code",
   "execution_count": null,
   "id": "b39a1f51",
   "metadata": {
    "ExecuteTime": {
     "end_time": "2021-07-13T04:39:39.534794Z",
     "start_time": "2021-07-13T04:39:39.528710Z"
    }
   },
   "outputs": [],
   "source": [
    "len(list(rs.showOn_single.unique()))"
   ]
  },
  {
   "cell_type": "code",
   "execution_count": null,
   "id": "f87a6001",
   "metadata": {
    "ExecuteTime": {
     "end_time": "2021-07-13T04:39:40.291052Z",
     "start_time": "2021-07-13T04:39:39.537084Z"
    }
   },
   "outputs": [],
   "source": [
    "from copy import copy\n",
    "exiris = copy(rs)\n",
    "sns.pairplot(exiris, hue=\"showOn_single\")"
   ]
  },
  {
   "cell_type": "code",
   "execution_count": null,
   "id": "267b8a54",
   "metadata": {
    "ExecuteTime": {
     "end_time": "2021-07-13T04:39:40.297838Z",
     "start_time": "2021-07-13T04:39:40.292772Z"
    }
   },
   "outputs": [],
   "source": [
    "df_showOn.describe"
   ]
  },
  {
   "cell_type": "code",
   "execution_count": null,
   "id": "a1456dc9",
   "metadata": {
    "ExecuteTime": {
     "end_time": "2021-07-13T04:41:51.540243Z",
     "start_time": "2021-07-13T04:41:51.533623Z"
    }
   },
   "outputs": [],
   "source": [
    "rs.head(1)"
   ]
  },
  {
   "cell_type": "code",
   "execution_count": null,
   "id": "0fd86f81",
   "metadata": {
    "ExecuteTime": {
     "end_time": "2021-07-13T04:46:39.110294Z",
     "start_time": "2021-07-13T04:46:39.107755Z"
    }
   },
   "outputs": [],
   "source": [
    "top1000_country = rs[:1000]"
   ]
  },
  {
   "cell_type": "code",
   "execution_count": null,
   "id": "6c5ba480",
   "metadata": {},
   "outputs": [],
   "source": [
    "from matplotlib import gridspec\n",
    "\n",
    "fig = plt.figure(figsize=(20, 6))\n",
    "gs = gridspec.GridSpec(nrows=1, ncols=2,\n",
    "                       height_ratios=[6], \n",
    "                       width_ratios=[10, 5])\n",
    "\n",
    "ax = plt.subplot(gs[0])\n",
    "\n",
    "sns.barplot(top1000_country.index, top1000_country, ax=ax, palette=\"RdGy\")\n",
    "ax.set_xticklabels(top20_country.index, rotation='90')\n",
    "ax.set_title('Top 20 producing countries', fontsize=15, fontweight='bold')"
   ]
  }
 ],
 "metadata": {
  "hide_input": false,
  "kernelspec": {
   "display_name": "Python TSA",
   "language": "python",
   "name": "tsa"
  },
  "language_info": {
   "codemirror_mode": {
    "name": "ipython",
    "version": 3
   },
   "file_extension": ".py",
   "mimetype": "text/x-python",
   "name": "python",
   "nbconvert_exporter": "python",
   "pygments_lexer": "ipython3",
   "version": "3.9.5"
  },
  "latex_envs": {
   "LaTeX_envs_menu_present": true,
   "autoclose": false,
   "autocomplete": true,
   "bibliofile": "biblio.bib",
   "cite_by": "apalike",
   "current_citInitial": 1,
   "eqLabelWithNumbers": true,
   "eqNumInitial": 1,
   "hotkeys": {
    "equation": "Ctrl-E",
    "itemize": "Ctrl-I"
   },
   "labels_anchors": false,
   "latex_user_defs": false,
   "report_style_numbering": false,
   "user_envs_cfg": false
  },
  "toc": {
   "base_numbering": 1,
   "nav_menu": {},
   "number_sections": true,
   "sideBar": true,
   "skip_h1_title": false,
   "title_cell": "Table of Contents",
   "title_sidebar": "Contents",
   "toc_cell": false,
   "toc_position": {},
   "toc_section_display": true,
   "toc_window_display": false
  },
  "varInspector": {
   "cols": {
    "lenName": 16,
    "lenType": 16,
    "lenVar": 40
   },
   "kernels_config": {
    "python": {
     "delete_cmd_postfix": "",
     "delete_cmd_prefix": "del ",
     "library": "var_list.py",
     "varRefreshCmd": "print(var_dic_list())"
    },
    "r": {
     "delete_cmd_postfix": ") ",
     "delete_cmd_prefix": "rm(",
     "library": "var_list.r",
     "varRefreshCmd": "cat(var_dic_list()) "
    }
   },
   "types_to_exclude": [
    "module",
    "function",
    "builtin_function_or_method",
    "instance",
    "_Feature"
   ],
   "window_display": false
  }
 },
 "nbformat": 4,
 "nbformat_minor": 5
}
