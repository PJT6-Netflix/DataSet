{
 "cells": [
  {
   "cell_type": "code",
   "execution_count": 1,
   "id": "6c7867ef",
   "metadata": {
    "ExecuteTime": {
     "end_time": "2021-07-12T18:47:33.263420Z",
     "start_time": "2021-07-12T18:47:32.100466Z"
    }
   },
   "outputs": [],
   "source": [
    "import pandas as pd\n",
    "import numpy as np\n",
    "\n",
    "# 데이터 시각화\n",
    "import matplotlib.pyplot as plt\n",
    "import plotly.graph_objects as go\n",
    "import seaborn as sns\n",
    "\n",
    "# 가설검정\n",
    "from scipy import stats\n",
    "\n",
    "# 경고문구 무시\n",
    "import warnings\n",
    "warnings.filterwarnings(\"ignore\")\n",
    "# 자연어 처리\n",
    "# import spacy"
   ]
  },
  {
   "cell_type": "code",
   "execution_count": 2,
   "id": "870ed7f0",
   "metadata": {
    "ExecuteTime": {
     "end_time": "2021-07-12T18:47:33.833141Z",
     "start_time": "2021-07-12T18:47:33.781411Z"
    }
   },
   "outputs": [],
   "source": [
    "df=pd.read_csv('../data/1_original_useDf_0711.csv')"
   ]
  },
  {
   "cell_type": "code",
   "execution_count": 3,
   "id": "879ea5fa",
   "metadata": {
    "ExecuteTime": {
     "end_time": "2021-07-12T18:47:34.527182Z",
     "start_time": "2021-07-12T18:47:34.500544Z"
    }
   },
   "outputs": [
    {
     "data": {
      "text/html": [
       "<div>\n",
       "<style scoped>\n",
       "    .dataframe tbody tr th:only-of-type {\n",
       "        vertical-align: middle;\n",
       "    }\n",
       "\n",
       "    .dataframe tbody tr th {\n",
       "        vertical-align: top;\n",
       "    }\n",
       "\n",
       "    .dataframe thead th {\n",
       "        text-align: right;\n",
       "    }\n",
       "</style>\n",
       "<table border=\"1\" class=\"dataframe\">\n",
       "  <thead>\n",
       "    <tr style=\"text-align: right;\">\n",
       "      <th></th>\n",
       "      <th>Unnamed: 0</th>\n",
       "      <th>Title</th>\n",
       "      <th>Series or Movie</th>\n",
       "      <th>COUNTRY</th>\n",
       "      <th>Release Date</th>\n",
       "      <th>GENRE</th>\n",
       "      <th>VALUE</th>\n",
       "      <th>Genre_all</th>\n",
       "      <th>Tags</th>\n",
       "      <th>Languages</th>\n",
       "      <th>...</th>\n",
       "      <th>IMDb Score</th>\n",
       "      <th>Rotten Tomatoes Score</th>\n",
       "      <th>Metacritic Score</th>\n",
       "      <th>Awards Received</th>\n",
       "      <th>Awards Nominated For</th>\n",
       "      <th>Boxoffice</th>\n",
       "      <th>Netflix Release Date</th>\n",
       "      <th>Production House</th>\n",
       "      <th>Summary</th>\n",
       "      <th>IMDb Votes</th>\n",
       "    </tr>\n",
       "  </thead>\n",
       "  <tbody>\n",
       "    <tr>\n",
       "      <th>0</th>\n",
       "      <td>0</td>\n",
       "      <td>thequeensgambit</td>\n",
       "      <td>TV</td>\n",
       "      <td>United States</td>\n",
       "      <td>2020.10.23</td>\n",
       "      <td>Drama</td>\n",
       "      <td>44867</td>\n",
       "      <td>Biography, Drama, History</td>\n",
       "      <td>TV Dramas,US TV Shows,TV Shows Based on Books,...</td>\n",
       "      <td>English, German, French</td>\n",
       "      <td>...</td>\n",
       "      <td>7.3</td>\n",
       "      <td>96.0</td>\n",
       "      <td>91.0</td>\n",
       "      <td>96.0</td>\n",
       "      <td>97.0</td>\n",
       "      <td>$56,441,711</td>\n",
       "      <td>2020.10.23</td>\n",
       "      <td>Pathé Pictures, Scott Rudin Productions</td>\n",
       "      <td>In a 1950s orphanage, a young girl reveals an ...</td>\n",
       "      <td>104495.0</td>\n",
       "    </tr>\n",
       "  </tbody>\n",
       "</table>\n",
       "<p>1 rows × 27 columns</p>\n",
       "</div>"
      ],
      "text/plain": [
       "   Unnamed: 0            Title Series or Movie        COUNTRY Release Date  \\\n",
       "0           0  thequeensgambit              TV  United States   2020.10.23   \n",
       "\n",
       "   GENRE  VALUE                  Genre_all  \\\n",
       "0  Drama  44867  Biography, Drama, History   \n",
       "\n",
       "                                                Tags                Languages  \\\n",
       "0  TV Dramas,US TV Shows,TV Shows Based on Books,...  English, German, French   \n",
       "\n",
       "   ...  IMDb Score Rotten Tomatoes Score Metacritic Score Awards Received  \\\n",
       "0  ...         7.3                  96.0             91.0            96.0   \n",
       "\n",
       "  Awards Nominated For     Boxoffice Netflix Release Date  \\\n",
       "0                 97.0  $56,441,711            2020.10.23   \n",
       "\n",
       "                          Production House  \\\n",
       "0  Pathé Pictures, Scott Rudin Productions   \n",
       "\n",
       "                                             Summary  IMDb Votes  \n",
       "0  In a 1950s orphanage, a young girl reveals an ...    104495.0  \n",
       "\n",
       "[1 rows x 27 columns]"
      ]
     },
     "execution_count": 3,
     "metadata": {},
     "output_type": "execute_result"
    }
   ],
   "source": [
    "df.head(1)"
   ]
  },
  {
   "cell_type": "code",
   "execution_count": 4,
   "id": "4de29230",
   "metadata": {
    "ExecuteTime": {
     "end_time": "2021-07-12T18:47:35.344499Z",
     "start_time": "2021-07-12T18:47:35.333803Z"
    }
   },
   "outputs": [
    {
     "data": {
      "text/plain": [
       "Unnamed: 0                  0\n",
       "Title                       0\n",
       "Series or Movie             0\n",
       "COUNTRY                   206\n",
       "Release Date               65\n",
       "GENRE                     370\n",
       "VALUE                       0\n",
       "Genre_all                 118\n",
       "Tags                        9\n",
       "Languages                 149\n",
       "Hidden Gem Score          152\n",
       "Country Availability        5\n",
       "Runtime                     0\n",
       "Director                  713\n",
       "Writer                    514\n",
       "Actors                    138\n",
       "View Rating               708\n",
       "IMDb Score                152\n",
       "Rotten Tomatoes Score    1385\n",
       "Metacritic Score         1510\n",
       "Awards Received          1490\n",
       "Awards Nominated For     1090\n",
       "Boxoffice                1665\n",
       "Netflix Release Date        0\n",
       "Production House         1492\n",
       "Summary                     2\n",
       "IMDb Votes                152\n",
       "dtype: int64"
      ]
     },
     "execution_count": 4,
     "metadata": {},
     "output_type": "execute_result"
    }
   ],
   "source": [
    "#df.info()\n",
    "df.isnull().sum()"
   ]
  },
  {
   "cell_type": "code",
   "execution_count": 5,
   "id": "35983df8",
   "metadata": {
    "ExecuteTime": {
     "end_time": "2021-07-12T18:47:36.483661Z",
     "start_time": "2021-07-12T18:47:36.438091Z"
    }
   },
   "outputs": [
    {
     "data": {
      "text/html": [
       "<div>\n",
       "<style scoped>\n",
       "    .dataframe tbody tr th:only-of-type {\n",
       "        vertical-align: middle;\n",
       "    }\n",
       "\n",
       "    .dataframe tbody tr th {\n",
       "        vertical-align: top;\n",
       "    }\n",
       "\n",
       "    .dataframe thead th {\n",
       "        text-align: right;\n",
       "    }\n",
       "</style>\n",
       "<table border=\"1\" class=\"dataframe\">\n",
       "  <thead>\n",
       "    <tr style=\"text-align: right;\">\n",
       "      <th></th>\n",
       "      <th>Unnamed: 0</th>\n",
       "      <th>VALUE</th>\n",
       "      <th>Hidden Gem Score</th>\n",
       "      <th>IMDb Score</th>\n",
       "      <th>Rotten Tomatoes Score</th>\n",
       "      <th>Metacritic Score</th>\n",
       "      <th>Awards Received</th>\n",
       "      <th>Awards Nominated For</th>\n",
       "      <th>IMDb Votes</th>\n",
       "    </tr>\n",
       "  </thead>\n",
       "  <tbody>\n",
       "    <tr>\n",
       "      <th>count</th>\n",
       "      <td>2960.0</td>\n",
       "      <td>2960.0</td>\n",
       "      <td>2808.0</td>\n",
       "      <td>2808.0</td>\n",
       "      <td>1575.0</td>\n",
       "      <td>1450.0</td>\n",
       "      <td>1470.0</td>\n",
       "      <td>1870.0</td>\n",
       "      <td>2808.0</td>\n",
       "    </tr>\n",
       "    <tr>\n",
       "      <th>mean</th>\n",
       "      <td>1480.0</td>\n",
       "      <td>634.0</td>\n",
       "      <td>5.0</td>\n",
       "      <td>6.0</td>\n",
       "      <td>54.0</td>\n",
       "      <td>54.0</td>\n",
       "      <td>11.0</td>\n",
       "      <td>21.0</td>\n",
       "      <td>94402.0</td>\n",
       "    </tr>\n",
       "    <tr>\n",
       "      <th>std</th>\n",
       "      <td>855.0</td>\n",
       "      <td>2202.0</td>\n",
       "      <td>2.0</td>\n",
       "      <td>1.0</td>\n",
       "      <td>27.0</td>\n",
       "      <td>17.0</td>\n",
       "      <td>24.0</td>\n",
       "      <td>41.0</td>\n",
       "      <td>190158.0</td>\n",
       "    </tr>\n",
       "    <tr>\n",
       "      <th>min</th>\n",
       "      <td>0.0</td>\n",
       "      <td>1.0</td>\n",
       "      <td>1.0</td>\n",
       "      <td>2.0</td>\n",
       "      <td>0.0</td>\n",
       "      <td>5.0</td>\n",
       "      <td>1.0</td>\n",
       "      <td>1.0</td>\n",
       "      <td>5.0</td>\n",
       "    </tr>\n",
       "    <tr>\n",
       "      <th>25%</th>\n",
       "      <td>740.0</td>\n",
       "      <td>22.0</td>\n",
       "      <td>3.0</td>\n",
       "      <td>6.0</td>\n",
       "      <td>30.0</td>\n",
       "      <td>41.0</td>\n",
       "      <td>2.0</td>\n",
       "      <td>3.0</td>\n",
       "      <td>1759.0</td>\n",
       "    </tr>\n",
       "    <tr>\n",
       "      <th>50%</th>\n",
       "      <td>1480.0</td>\n",
       "      <td>80.0</td>\n",
       "      <td>4.0</td>\n",
       "      <td>6.0</td>\n",
       "      <td>54.0</td>\n",
       "      <td>53.0</td>\n",
       "      <td>4.0</td>\n",
       "      <td>7.0</td>\n",
       "      <td>17586.0</td>\n",
       "    </tr>\n",
       "    <tr>\n",
       "      <th>75%</th>\n",
       "      <td>2219.0</td>\n",
       "      <td>321.0</td>\n",
       "      <td>7.0</td>\n",
       "      <td>7.0</td>\n",
       "      <td>78.0</td>\n",
       "      <td>66.0</td>\n",
       "      <td>10.0</td>\n",
       "      <td>19.0</td>\n",
       "      <td>107313.0</td>\n",
       "    </tr>\n",
       "    <tr>\n",
       "      <th>max</th>\n",
       "      <td>2959.0</td>\n",
       "      <td>44867.0</td>\n",
       "      <td>10.0</td>\n",
       "      <td>10.0</td>\n",
       "      <td>100.0</td>\n",
       "      <td>100.0</td>\n",
       "      <td>300.0</td>\n",
       "      <td>386.0</td>\n",
       "      <td>2308981.0</td>\n",
       "    </tr>\n",
       "  </tbody>\n",
       "</table>\n",
       "</div>"
      ],
      "text/plain": [
       "       Unnamed: 0    VALUE  Hidden Gem Score  IMDb Score  \\\n",
       "count      2960.0   2960.0            2808.0      2808.0   \n",
       "mean       1480.0    634.0               5.0         6.0   \n",
       "std         855.0   2202.0               2.0         1.0   \n",
       "min           0.0      1.0               1.0         2.0   \n",
       "25%         740.0     22.0               3.0         6.0   \n",
       "50%        1480.0     80.0               4.0         6.0   \n",
       "75%        2219.0    321.0               7.0         7.0   \n",
       "max        2959.0  44867.0              10.0        10.0   \n",
       "\n",
       "       Rotten Tomatoes Score  Metacritic Score  Awards Received  \\\n",
       "count                 1575.0            1450.0           1470.0   \n",
       "mean                    54.0              54.0             11.0   \n",
       "std                     27.0              17.0             24.0   \n",
       "min                      0.0               5.0              1.0   \n",
       "25%                     30.0              41.0              2.0   \n",
       "50%                     54.0              53.0              4.0   \n",
       "75%                     78.0              66.0             10.0   \n",
       "max                    100.0             100.0            300.0   \n",
       "\n",
       "       Awards Nominated For  IMDb Votes  \n",
       "count                1870.0      2808.0  \n",
       "mean                   21.0     94402.0  \n",
       "std                    41.0    190158.0  \n",
       "min                     1.0         5.0  \n",
       "25%                     3.0      1759.0  \n",
       "50%                     7.0     17586.0  \n",
       "75%                    19.0    107313.0  \n",
       "max                   386.0   2308981.0  "
      ]
     },
     "execution_count": 5,
     "metadata": {},
     "output_type": "execute_result"
    }
   ],
   "source": [
    "df.describe().round()"
   ]
  },
  {
   "cell_type": "markdown",
   "id": "f6572ae9",
   "metadata": {},
   "source": [
    "# viewpoint 정규화"
   ]
  },
  {
   "cell_type": "code",
   "execution_count": 6,
   "id": "80ffe1a9",
   "metadata": {
    "ExecuteTime": {
     "end_time": "2021-07-12T18:47:39.550764Z",
     "start_time": "2021-07-12T18:47:39.543442Z"
    }
   },
   "outputs": [],
   "source": [
    "df['VALUE_std']=(df['VALUE']-df['VALUE'].min())/df['VALUE'].max()"
   ]
  },
  {
   "cell_type": "code",
   "execution_count": 7,
   "id": "34b9b616",
   "metadata": {
    "ExecuteTime": {
     "end_time": "2021-07-12T18:47:40.108073Z",
     "start_time": "2021-07-12T18:47:40.103985Z"
    }
   },
   "outputs": [],
   "source": [
    "df['VALUE_norm']=(df['VALUE']-df['VALUE'].mean())/df['VALUE'].std()"
   ]
  },
  {
   "cell_type": "markdown",
   "id": "71375323",
   "metadata": {},
   "source": [
    "# Country_all 변수 추가 (country 와 Country Availability 결합)"
   ]
  },
  {
   "cell_type": "code",
   "execution_count": 14,
   "id": "fbe7f4ec",
   "metadata": {
    "ExecuteTime": {
     "end_time": "2021-07-12T18:55:52.374125Z",
     "start_time": "2021-07-12T18:55:52.369204Z"
    }
   },
   "outputs": [
    {
     "data": {
      "text/plain": [
       "0    United States,Lithuania,Canada,Australia,Polan...\n",
       "1    Poland,Poland,Russia,United Kingdom,Slovakia,C...\n",
       "2    United States,Canada,Lithuania,Australia,Polan...\n",
       "Name: country_all, dtype: object"
      ]
     },
     "execution_count": 14,
     "metadata": {},
     "output_type": "execute_result"
    }
   ],
   "source": [
    "df['country_all'].head(3)"
   ]
  },
  {
   "cell_type": "code",
   "execution_count": 8,
   "id": "eb12e4ec",
   "metadata": {
    "ExecuteTime": {
     "end_time": "2021-07-12T18:50:06.184626Z",
     "start_time": "2021-07-12T18:50:06.175753Z"
    }
   },
   "outputs": [],
   "source": [
    "df['country_all']=df['COUNTRY']+','+df['Country Availability'] # (?)country_all에 중복되는 문자열 골라내기 "
   ]
  },
  {
   "cell_type": "code",
   "execution_count": 9,
   "id": "051a5690",
   "metadata": {
    "ExecuteTime": {
     "end_time": "2021-07-12T18:50:12.456146Z",
     "start_time": "2021-07-12T18:50:12.412832Z"
    }
   },
   "outputs": [
    {
     "data": {
      "text/html": [
       "<div>\n",
       "<style scoped>\n",
       "    .dataframe tbody tr th:only-of-type {\n",
       "        vertical-align: middle;\n",
       "    }\n",
       "\n",
       "    .dataframe tbody tr th {\n",
       "        vertical-align: top;\n",
       "    }\n",
       "\n",
       "    .dataframe thead th {\n",
       "        text-align: right;\n",
       "    }\n",
       "</style>\n",
       "<table border=\"1\" class=\"dataframe\">\n",
       "  <thead>\n",
       "    <tr style=\"text-align: right;\">\n",
       "      <th></th>\n",
       "      <th>Unnamed: 0</th>\n",
       "      <th>Title</th>\n",
       "      <th>Series or Movie</th>\n",
       "      <th>COUNTRY</th>\n",
       "      <th>Release Date</th>\n",
       "      <th>GENRE</th>\n",
       "      <th>VALUE</th>\n",
       "      <th>Genre_all</th>\n",
       "      <th>Tags</th>\n",
       "      <th>Languages</th>\n",
       "      <th>...</th>\n",
       "      <th>Awards Received</th>\n",
       "      <th>Awards Nominated For</th>\n",
       "      <th>Boxoffice</th>\n",
       "      <th>Netflix Release Date</th>\n",
       "      <th>Production House</th>\n",
       "      <th>Summary</th>\n",
       "      <th>IMDb Votes</th>\n",
       "      <th>VALUE_std</th>\n",
       "      <th>VALUE_norm</th>\n",
       "      <th>country_all</th>\n",
       "    </tr>\n",
       "  </thead>\n",
       "  <tbody>\n",
       "    <tr>\n",
       "      <th>0</th>\n",
       "      <td>0</td>\n",
       "      <td>thequeensgambit</td>\n",
       "      <td>TV</td>\n",
       "      <td>United States</td>\n",
       "      <td>2020.10.23</td>\n",
       "      <td>Drama</td>\n",
       "      <td>44867</td>\n",
       "      <td>Biography, Drama, History</td>\n",
       "      <td>TV Dramas,US TV Shows,TV Shows Based on Books,...</td>\n",
       "      <td>English, German, French</td>\n",
       "      <td>...</td>\n",
       "      <td>96.0</td>\n",
       "      <td>97.0</td>\n",
       "      <td>$56,441,711</td>\n",
       "      <td>2020.10.23</td>\n",
       "      <td>Pathé Pictures, Scott Rudin Productions</td>\n",
       "      <td>In a 1950s orphanage, a young girl reveals an ...</td>\n",
       "      <td>104495.0</td>\n",
       "      <td>0.999978</td>\n",
       "      <td>20.086441</td>\n",
       "      <td>United States,Lithuania,Canada,Australia,Polan...</td>\n",
       "    </tr>\n",
       "    <tr>\n",
       "      <th>1</th>\n",
       "      <td>1</td>\n",
       "      <td>365days</td>\n",
       "      <td>Movie</td>\n",
       "      <td>Poland</td>\n",
       "      <td>2020.6.7</td>\n",
       "      <td>Romance</td>\n",
       "      <td>42149</td>\n",
       "      <td>Drama, Romance</td>\n",
       "      <td>Polish Movies,Polish Dramas,Dramas,Romantic Dr...</td>\n",
       "      <td>Polish, English, Italian</td>\n",
       "      <td>...</td>\n",
       "      <td>NaN</td>\n",
       "      <td>NaN</td>\n",
       "      <td>NaN</td>\n",
       "      <td>2020.4.2</td>\n",
       "      <td>NaN</td>\n",
       "      <td>A fiery executive in a spiritless relationship...</td>\n",
       "      <td>50125.0</td>\n",
       "      <td>0.939399</td>\n",
       "      <td>18.852190</td>\n",
       "      <td>Poland,Poland,Russia,United Kingdom,Slovakia,C...</td>\n",
       "    </tr>\n",
       "    <tr>\n",
       "      <th>2</th>\n",
       "      <td>2</td>\n",
       "      <td>emilyinparis</td>\n",
       "      <td>TV</td>\n",
       "      <td>United States</td>\n",
       "      <td>2020.10.2</td>\n",
       "      <td>Drama</td>\n",
       "      <td>27138</td>\n",
       "      <td>Comedy, Drama, Romance</td>\n",
       "      <td>Comedy Programmes,Drama Programmes,Romantic TV...</td>\n",
       "      <td>French, English</td>\n",
       "      <td>...</td>\n",
       "      <td>1.0</td>\n",
       "      <td>3.0</td>\n",
       "      <td>NaN</td>\n",
       "      <td>2020.10.2</td>\n",
       "      <td>NaN</td>\n",
       "      <td>After landing her dream job in Paris, Chicago ...</td>\n",
       "      <td>45000.0</td>\n",
       "      <td>0.604832</td>\n",
       "      <td>12.035656</td>\n",
       "      <td>United States,Canada,Lithuania,Australia,Polan...</td>\n",
       "    </tr>\n",
       "    <tr>\n",
       "      <th>3</th>\n",
       "      <td>3</td>\n",
       "      <td>lucifer</td>\n",
       "      <td>TV</td>\n",
       "      <td>United States</td>\n",
       "      <td>2016.1.25</td>\n",
       "      <td>Superhero</td>\n",
       "      <td>25729</td>\n",
       "      <td>Horror, Thriller</td>\n",
       "      <td>TV Dramas,Police TV Shows,TV Sci-Fi &amp; Fantasy,...</td>\n",
       "      <td>English</td>\n",
       "      <td>...</td>\n",
       "      <td>NaN</td>\n",
       "      <td>NaN</td>\n",
       "      <td>NaN</td>\n",
       "      <td>2017.7.24</td>\n",
       "      <td>NaN</td>\n",
       "      <td>Bored with being the Lord of Hell, the devil r...</td>\n",
       "      <td>57.0</td>\n",
       "      <td>0.573428</td>\n",
       "      <td>11.395826</td>\n",
       "      <td>United States,South Korea,Iceland,Hungary,Aust...</td>\n",
       "    </tr>\n",
       "    <tr>\n",
       "      <th>4</th>\n",
       "      <td>4</td>\n",
       "      <td>theumbrellaacademy</td>\n",
       "      <td>TV</td>\n",
       "      <td>United States</td>\n",
       "      <td>2019.2.15</td>\n",
       "      <td>Superhero</td>\n",
       "      <td>23480</td>\n",
       "      <td>Action, Adventure, Comedy, Drama, Fantasy, Sci-Fi</td>\n",
       "      <td>TV Sci-Fi &amp; Fantasy,US TV Shows,TV Action &amp; Ad...</td>\n",
       "      <td>English</td>\n",
       "      <td>...</td>\n",
       "      <td>7.0</td>\n",
       "      <td>28.0</td>\n",
       "      <td>NaN</td>\n",
       "      <td>2019.2.15</td>\n",
       "      <td>NaN</td>\n",
       "      <td>Reunited by their fathers death, estranged sib...</td>\n",
       "      <td>159677.0</td>\n",
       "      <td>0.523302</td>\n",
       "      <td>10.374549</td>\n",
       "      <td>United States,Lithuania,Brazil,Israel,Spain,Sl...</td>\n",
       "    </tr>\n",
       "    <tr>\n",
       "      <th>...</th>\n",
       "      <td>...</td>\n",
       "      <td>...</td>\n",
       "      <td>...</td>\n",
       "      <td>...</td>\n",
       "      <td>...</td>\n",
       "      <td>...</td>\n",
       "      <td>...</td>\n",
       "      <td>...</td>\n",
       "      <td>...</td>\n",
       "      <td>...</td>\n",
       "      <td>...</td>\n",
       "      <td>...</td>\n",
       "      <td>...</td>\n",
       "      <td>...</td>\n",
       "      <td>...</td>\n",
       "      <td>...</td>\n",
       "      <td>...</td>\n",
       "      <td>...</td>\n",
       "      <td>...</td>\n",
       "      <td>...</td>\n",
       "      <td>...</td>\n",
       "    </tr>\n",
       "    <tr>\n",
       "      <th>2955</th>\n",
       "      <td>2955</td>\n",
       "      <td>thebournesupremacy</td>\n",
       "      <td>Movie</td>\n",
       "      <td>United States</td>\n",
       "      <td>2004.7.23</td>\n",
       "      <td>Action</td>\n",
       "      <td>1</td>\n",
       "      <td>Action, Mystery, Thriller</td>\n",
       "      <td>Action Thrillers,Spy Action &amp; Adventure,Action...</td>\n",
       "      <td>English, Russian, German, Italian</td>\n",
       "      <td>...</td>\n",
       "      <td>5.0</td>\n",
       "      <td>22.0</td>\n",
       "      <td>$176,241,941</td>\n",
       "      <td>2015.4.14</td>\n",
       "      <td>Universal Pictures, Hypnotic, Kennedy/Marshall</td>\n",
       "      <td>Flushed from his refuge by an assassin, Jason ...</td>\n",
       "      <td>435887.0</td>\n",
       "      <td>0.000000</td>\n",
       "      <td>-0.287326</td>\n",
       "      <td>United States,Japan,France,Russia,South Korea,...</td>\n",
       "    </tr>\n",
       "    <tr>\n",
       "      <th>2956</th>\n",
       "      <td>2956</td>\n",
       "      <td>justfriends</td>\n",
       "      <td>Movie</td>\n",
       "      <td>United States</td>\n",
       "      <td>2005.11.23</td>\n",
       "      <td>Romance</td>\n",
       "      <td>1</td>\n",
       "      <td>Comedy, Romance</td>\n",
       "      <td>Romantic Comedies,Comedies,Romantic Films,Roma...</td>\n",
       "      <td>English</td>\n",
       "      <td>...</td>\n",
       "      <td>NaN</td>\n",
       "      <td>3.0</td>\n",
       "      <td>$32,619,671</td>\n",
       "      <td>2015.4.14</td>\n",
       "      <td>Cinerenta, Benderspink, Just Friends Productio...</td>\n",
       "      <td>Years after high school, a once-portly nice gu...</td>\n",
       "      <td>106951.0</td>\n",
       "      <td>0.000000</td>\n",
       "      <td>-0.287326</td>\n",
       "      <td>United States,Romania,South Korea,United Kingd...</td>\n",
       "    </tr>\n",
       "    <tr>\n",
       "      <th>2957</th>\n",
       "      <td>2957</td>\n",
       "      <td>child44</td>\n",
       "      <td>Movie</td>\n",
       "      <td>United States</td>\n",
       "      <td>2015.3.15</td>\n",
       "      <td>Thriller</td>\n",
       "      <td>1</td>\n",
       "      <td>Crime, Drama, History, Mystery, Thriller</td>\n",
       "      <td>Dramas based on a book,Dramas,Thrillers,Crime ...</td>\n",
       "      <td>English, Russian</td>\n",
       "      <td>...</td>\n",
       "      <td>NaN</td>\n",
       "      <td>2.0</td>\n",
       "      <td>$1,224,330</td>\n",
       "      <td>2016.12.4</td>\n",
       "      <td>Scott Free Productions</td>\n",
       "      <td>In 1950s Russia, a former war hero investigate...</td>\n",
       "      <td>66251.0</td>\n",
       "      <td>0.000000</td>\n",
       "      <td>-0.287326</td>\n",
       "      <td>United States,Germany,India</td>\n",
       "    </tr>\n",
       "    <tr>\n",
       "      <th>2958</th>\n",
       "      <td>2958</td>\n",
       "      <td>draculauntold</td>\n",
       "      <td>Movie</td>\n",
       "      <td>United States</td>\n",
       "      <td>2014.10.3</td>\n",
       "      <td>Horror</td>\n",
       "      <td>1</td>\n",
       "      <td>Action, Drama, Fantasy, Horror, War</td>\n",
       "      <td>Horror Movies,Sci-Fi &amp; Fantasy,Action &amp; Advent...</td>\n",
       "      <td>English, Turkish</td>\n",
       "      <td>...</td>\n",
       "      <td>3.0</td>\n",
       "      <td>5.0</td>\n",
       "      <td>$56,280,355</td>\n",
       "      <td>2016.3.28</td>\n",
       "      <td>Michael De Luca</td>\n",
       "      <td>A medieval warrior and ruler must become a vam...</td>\n",
       "      <td>180432.0</td>\n",
       "      <td>0.000000</td>\n",
       "      <td>-0.287326</td>\n",
       "      <td>United States,Switzerland,Canada,Poland,Italy,...</td>\n",
       "    </tr>\n",
       "    <tr>\n",
       "      <th>2959</th>\n",
       "      <td>2959</td>\n",
       "      <td>riddick</td>\n",
       "      <td>Movie</td>\n",
       "      <td>United States</td>\n",
       "      <td>2013.9.6</td>\n",
       "      <td>Science Fiction</td>\n",
       "      <td>1</td>\n",
       "      <td>Action, Adventure, Sci-Fi, Thriller</td>\n",
       "      <td>Horror Films,Sci-Fi &amp; Fantasy,Action Thrillers...</td>\n",
       "      <td>English</td>\n",
       "      <td>...</td>\n",
       "      <td>NaN</td>\n",
       "      <td>2.0</td>\n",
       "      <td>$42,025,135</td>\n",
       "      <td>2015.4.14</td>\n",
       "      <td>One Race Productions</td>\n",
       "      <td>Marooned on a lonely planet where he hopes an ...</td>\n",
       "      <td>154551.0</td>\n",
       "      <td>0.000000</td>\n",
       "      <td>-0.287326</td>\n",
       "      <td>United States,Japan,United Kingdom,Mexico,Cana...</td>\n",
       "    </tr>\n",
       "  </tbody>\n",
       "</table>\n",
       "<p>2960 rows × 30 columns</p>\n",
       "</div>"
      ],
      "text/plain": [
       "      Unnamed: 0               Title Series or Movie        COUNTRY  \\\n",
       "0              0     thequeensgambit              TV  United States   \n",
       "1              1             365days           Movie         Poland   \n",
       "2              2        emilyinparis              TV  United States   \n",
       "3              3             lucifer              TV  United States   \n",
       "4              4  theumbrellaacademy              TV  United States   \n",
       "...          ...                 ...             ...            ...   \n",
       "2955        2955  thebournesupremacy           Movie  United States   \n",
       "2956        2956         justfriends           Movie  United States   \n",
       "2957        2957             child44           Movie  United States   \n",
       "2958        2958       draculauntold           Movie  United States   \n",
       "2959        2959             riddick           Movie  United States   \n",
       "\n",
       "     Release Date            GENRE  VALUE  \\\n",
       "0      2020.10.23            Drama  44867   \n",
       "1        2020.6.7          Romance  42149   \n",
       "2       2020.10.2            Drama  27138   \n",
       "3       2016.1.25        Superhero  25729   \n",
       "4       2019.2.15        Superhero  23480   \n",
       "...           ...              ...    ...   \n",
       "2955    2004.7.23           Action      1   \n",
       "2956   2005.11.23          Romance      1   \n",
       "2957    2015.3.15         Thriller      1   \n",
       "2958    2014.10.3           Horror      1   \n",
       "2959     2013.9.6  Science Fiction      1   \n",
       "\n",
       "                                              Genre_all  \\\n",
       "0                             Biography, Drama, History   \n",
       "1                                        Drama, Romance   \n",
       "2                                Comedy, Drama, Romance   \n",
       "3                                      Horror, Thriller   \n",
       "4     Action, Adventure, Comedy, Drama, Fantasy, Sci-Fi   \n",
       "...                                                 ...   \n",
       "2955                          Action, Mystery, Thriller   \n",
       "2956                                    Comedy, Romance   \n",
       "2957           Crime, Drama, History, Mystery, Thriller   \n",
       "2958                Action, Drama, Fantasy, Horror, War   \n",
       "2959                Action, Adventure, Sci-Fi, Thriller   \n",
       "\n",
       "                                                   Tags  \\\n",
       "0     TV Dramas,US TV Shows,TV Shows Based on Books,...   \n",
       "1     Polish Movies,Polish Dramas,Dramas,Romantic Dr...   \n",
       "2     Comedy Programmes,Drama Programmes,Romantic TV...   \n",
       "3     TV Dramas,Police TV Shows,TV Sci-Fi & Fantasy,...   \n",
       "4     TV Sci-Fi & Fantasy,US TV Shows,TV Action & Ad...   \n",
       "...                                                 ...   \n",
       "2955  Action Thrillers,Spy Action & Adventure,Action...   \n",
       "2956  Romantic Comedies,Comedies,Romantic Films,Roma...   \n",
       "2957  Dramas based on a book,Dramas,Thrillers,Crime ...   \n",
       "2958  Horror Movies,Sci-Fi & Fantasy,Action & Advent...   \n",
       "2959  Horror Films,Sci-Fi & Fantasy,Action Thrillers...   \n",
       "\n",
       "                              Languages  ...  Awards Received  \\\n",
       "0               English, German, French  ...             96.0   \n",
       "1              Polish, English, Italian  ...              NaN   \n",
       "2                       French, English  ...              1.0   \n",
       "3                               English  ...              NaN   \n",
       "4                               English  ...              7.0   \n",
       "...                                 ...  ...              ...   \n",
       "2955  English, Russian, German, Italian  ...              5.0   \n",
       "2956                            English  ...              NaN   \n",
       "2957                   English, Russian  ...              NaN   \n",
       "2958                   English, Turkish  ...              3.0   \n",
       "2959                            English  ...              NaN   \n",
       "\n",
       "     Awards Nominated For      Boxoffice Netflix Release Date  \\\n",
       "0                    97.0   $56,441,711            2020.10.23   \n",
       "1                     NaN            NaN             2020.4.2   \n",
       "2                     3.0            NaN            2020.10.2   \n",
       "3                     NaN            NaN            2017.7.24   \n",
       "4                    28.0            NaN            2019.2.15   \n",
       "...                   ...            ...                  ...   \n",
       "2955                 22.0  $176,241,941             2015.4.14   \n",
       "2956                  3.0   $32,619,671             2015.4.14   \n",
       "2957                  2.0    $1,224,330             2016.12.4   \n",
       "2958                  5.0   $56,280,355             2016.3.28   \n",
       "2959                  2.0   $42,025,135             2015.4.14   \n",
       "\n",
       "                                       Production House  \\\n",
       "0               Pathé Pictures, Scott Rudin Productions   \n",
       "1                                                   NaN   \n",
       "2                                                   NaN   \n",
       "3                                                   NaN   \n",
       "4                                                   NaN   \n",
       "...                                                 ...   \n",
       "2955     Universal Pictures, Hypnotic, Kennedy/Marshall   \n",
       "2956  Cinerenta, Benderspink, Just Friends Productio...   \n",
       "2957                             Scott Free Productions   \n",
       "2958                                    Michael De Luca   \n",
       "2959                               One Race Productions   \n",
       "\n",
       "                                                Summary IMDb Votes  VALUE_std  \\\n",
       "0     In a 1950s orphanage, a young girl reveals an ...   104495.0   0.999978   \n",
       "1     A fiery executive in a spiritless relationship...    50125.0   0.939399   \n",
       "2     After landing her dream job in Paris, Chicago ...    45000.0   0.604832   \n",
       "3     Bored with being the Lord of Hell, the devil r...       57.0   0.573428   \n",
       "4     Reunited by their fathers death, estranged sib...   159677.0   0.523302   \n",
       "...                                                 ...        ...        ...   \n",
       "2955  Flushed from his refuge by an assassin, Jason ...   435887.0   0.000000   \n",
       "2956  Years after high school, a once-portly nice gu...   106951.0   0.000000   \n",
       "2957  In 1950s Russia, a former war hero investigate...    66251.0   0.000000   \n",
       "2958  A medieval warrior and ruler must become a vam...   180432.0   0.000000   \n",
       "2959  Marooned on a lonely planet where he hopes an ...   154551.0   0.000000   \n",
       "\n",
       "      VALUE_norm                                        country_all  \n",
       "0      20.086441  United States,Lithuania,Canada,Australia,Polan...  \n",
       "1      18.852190  Poland,Poland,Russia,United Kingdom,Slovakia,C...  \n",
       "2      12.035656  United States,Canada,Lithuania,Australia,Polan...  \n",
       "3      11.395826  United States,South Korea,Iceland,Hungary,Aust...  \n",
       "4      10.374549  United States,Lithuania,Brazil,Israel,Spain,Sl...  \n",
       "...          ...                                                ...  \n",
       "2955   -0.287326  United States,Japan,France,Russia,South Korea,...  \n",
       "2956   -0.287326  United States,Romania,South Korea,United Kingd...  \n",
       "2957   -0.287326                        United States,Germany,India  \n",
       "2958   -0.287326  United States,Switzerland,Canada,Poland,Italy,...  \n",
       "2959   -0.287326  United States,Japan,United Kingdom,Mexico,Cana...  \n",
       "\n",
       "[2960 rows x 30 columns]"
      ]
     },
     "execution_count": 9,
     "metadata": {},
     "output_type": "execute_result"
    }
   ],
   "source": [
    "df"
   ]
  },
  {
   "cell_type": "markdown",
   "id": "ce9096d7",
   "metadata": {},
   "source": [
    "# showingOn_count 변수 추가"
   ]
  },
  {
   "cell_type": "code",
   "execution_count": null,
   "id": "53b326b1",
   "metadata": {
    "ExecuteTime": {
     "end_time": "2021-07-11T07:39:02.437046Z",
     "start_time": "2021-07-11T07:39:02.432658Z"
    }
   },
   "outputs": [],
   "source": [
    "len(str(df['Country Availability'].iloc[0]).split(','))"
   ]
  },
  {
   "cell_type": "code",
   "execution_count": null,
   "id": "b8f80cda",
   "metadata": {
    "ExecuteTime": {
     "end_time": "2021-07-11T07:39:02.891369Z",
     "start_time": "2021-07-11T07:39:02.888906Z"
    }
   },
   "outputs": [],
   "source": [
    "rows = len(df['Country Availability'])"
   ]
  },
  {
   "cell_type": "code",
   "execution_count": null,
   "id": "f6ed9ff2",
   "metadata": {
    "ExecuteTime": {
     "end_time": "2021-07-11T07:39:03.576374Z",
     "start_time": "2021-07-11T07:39:03.573349Z"
    }
   },
   "outputs": [],
   "source": [
    "df['showingOn_count'] = 0"
   ]
  },
  {
   "cell_type": "code",
   "execution_count": null,
   "id": "49a1dbc0",
   "metadata": {
    "ExecuteTime": {
     "end_time": "2021-07-11T07:39:05.131653Z",
     "start_time": "2021-07-11T07:39:04.141378Z"
    }
   },
   "outputs": [],
   "source": [
    "for i in range(rows):\n",
    "    df.showingOn_count[i]=len(str(df['Country Availability'].iloc[i]).split(','))"
   ]
  },
  {
   "cell_type": "code",
   "execution_count": null,
   "id": "46f6380c",
   "metadata": {
    "ExecuteTime": {
     "end_time": "2021-07-11T07:39:07.043855Z",
     "start_time": "2021-07-11T07:39:07.018966Z"
    }
   },
   "outputs": [],
   "source": [
    "df.head(5)"
   ]
  },
  {
   "cell_type": "code",
   "execution_count": null,
   "id": "d3110054",
   "metadata": {
    "ExecuteTime": {
     "end_time": "2021-07-11T07:39:09.464217Z",
     "start_time": "2021-07-11T07:39:09.460325Z"
    }
   },
   "outputs": [],
   "source": [
    "# 정규화 진행\n",
    "\n",
    "df['showingOn_count_norm'] = (df['showingOn_count'] - df['showingOn_count'].min())/df['showingOn_count'].max()  ## "
   ]
  },
  {
   "cell_type": "markdown",
   "id": "e0cdc38e",
   "metadata": {},
   "source": [
    "# 상영 국가 수와 viewpoint"
   ]
  },
  {
   "cell_type": "code",
   "execution_count": null,
   "id": "f39b6aa4",
   "metadata": {
    "ExecuteTime": {
     "end_time": "2021-07-11T07:39:11.193583Z",
     "start_time": "2021-07-11T07:39:11.172319Z"
    }
   },
   "outputs": [],
   "source": [
    "df.head(1)"
   ]
  },
  {
   "cell_type": "code",
   "execution_count": null,
   "id": "f59bca37",
   "metadata": {
    "ExecuteTime": {
     "end_time": "2021-07-11T07:39:12.021869Z",
     "start_time": "2021-07-11T07:39:12.016466Z"
    }
   },
   "outputs": [],
   "source": [
    "df_count = df[['VALUE','showingOn_count']]"
   ]
  },
  {
   "cell_type": "code",
   "execution_count": null,
   "id": "d01e8c44",
   "metadata": {
    "ExecuteTime": {
     "end_time": "2021-07-11T07:39:13.353759Z",
     "start_time": "2021-07-11T07:39:13.348146Z"
    }
   },
   "outputs": [],
   "source": [
    "df_count.isnull().sum()"
   ]
  },
  {
   "cell_type": "code",
   "execution_count": null,
   "id": "130c4ebb",
   "metadata": {
    "ExecuteTime": {
     "end_time": "2021-07-11T07:39:13.900551Z",
     "start_time": "2021-07-11T07:39:13.887064Z"
    }
   },
   "outputs": [],
   "source": [
    "df_count.describe()"
   ]
  },
  {
   "cell_type": "markdown",
   "id": "f0435d13",
   "metadata": {
    "ExecuteTime": {
     "end_time": "2021-07-10T17:40:06.808147Z",
     "start_time": "2021-07-10T17:40:06.800558Z"
    }
   },
   "source": [
    "## 카이제곱 검정\n",
    "- 귀무가설 : 두 변수는 연관성이 없다. 차이가 없다.\n",
    " - => showingOn_count의 증감은 value와 상관성이 없다.\n",
    "- 대립가설 : 두 변수는 연관성이 있다. 차이가 있다.\n",
    " - => showingOn_count의 증감은 value와 상관성이 있다."
   ]
  },
  {
   "cell_type": "code",
   "execution_count": null,
   "id": "cc613f1f",
   "metadata": {
    "ExecuteTime": {
     "end_time": "2021-07-11T07:39:17.364711Z",
     "start_time": "2021-07-11T07:39:17.361281Z"
    }
   },
   "outputs": [],
   "source": [
    "value = list(df_count.VALUE)\n",
    "showingOn_count=list(df_count.showingOn_count)"
   ]
  },
  {
   "cell_type": "code",
   "execution_count": null,
   "id": "3824ce24",
   "metadata": {
    "ExecuteTime": {
     "end_time": "2021-07-11T07:39:21.030112Z",
     "start_time": "2021-07-11T07:39:21.025800Z"
    }
   },
   "outputs": [],
   "source": [
    "chis = stats.chisquare(value,showingOn_count)"
   ]
  },
  {
   "cell_type": "code",
   "execution_count": null,
   "id": "066224dd",
   "metadata": {
    "ExecuteTime": {
     "end_time": "2021-07-11T07:39:21.822744Z",
     "start_time": "2021-07-11T07:39:21.818400Z"
    }
   },
   "outputs": [],
   "source": [
    "statistic, pvalue = chis\n",
    "print(f'static : {statistic}, p-value : {pvalue}')\n",
    "if pvalue < 0.05 :\n",
    "    print('신뢰수준하에서 유의한 관계. 대립가설 채택')\n",
    "else :\n",
    "    print('신뢰수준하에서 무의미한 관계. 귀무가설 채택')"
   ]
  },
  {
   "cell_type": "code",
   "execution_count": null,
   "id": "35545aca",
   "metadata": {
    "ExecuteTime": {
     "end_time": "2021-07-11T07:39:24.220798Z",
     "start_time": "2021-07-11T07:39:24.216003Z"
    }
   },
   "outputs": [],
   "source": [
    "corr=stats.pearsonr(df_count.VALUE, df_count.showingOn_count)\n",
    "corr"
   ]
  },
  {
   "cell_type": "code",
   "execution_count": null,
   "id": "26dae0e6",
   "metadata": {
    "ExecuteTime": {
     "end_time": "2021-07-11T07:39:30.104951Z",
     "start_time": "2021-07-11T07:39:30.074507Z"
    }
   },
   "outputs": [],
   "source": [
    "corr1=stats.spearmanr(df_count.VALUE, df_count.showingOn_count)\n",
    "corr1"
   ]
  },
  {
   "cell_type": "code",
   "execution_count": null,
   "id": "ae2805bc",
   "metadata": {
    "ExecuteTime": {
     "end_time": "2021-07-11T07:39:33.983035Z",
     "start_time": "2021-07-11T07:39:33.974262Z"
    }
   },
   "outputs": [],
   "source": [
    "df_count.corr(method='spearman')"
   ]
  },
  {
   "cell_type": "code",
   "execution_count": null,
   "id": "fe4d2394",
   "metadata": {
    "ExecuteTime": {
     "end_time": "2021-07-11T07:39:36.921185Z",
     "start_time": "2021-07-11T07:39:36.738655Z"
    }
   },
   "outputs": [],
   "source": [
    "plt.figure(figsize=(10,10))\n",
    "plt.scatter(showingOn_count,value, c='crimson')\n",
    "plt.xlabel('value')\n",
    "plt.ylabel('Screening country count')\n",
    "#plt.axis([0, 40, 0, 20000]) #구간 설정\n",
    "plt.show()"
   ]
  },
  {
   "cell_type": "markdown",
   "id": "ac28ea4f",
   "metadata": {},
   "source": [
    "- 카이 제곱 검정 결과 두 변수들간의 유의수준 0.05에서 showingOn_count의 증감은 value와의 상관성이 있다고 할 수 있다.\n",
    "- 산점도와 상관계수를 확인을 해봤을 때, 양의 상관성이 있다고 볼 수 있다."
   ]
  },
  {
   "cell_type": "code",
   "execution_count": null,
   "id": "e51a958a",
   "metadata": {
    "ExecuteTime": {
     "end_time": "2021-07-11T07:39:39.654072Z",
     "start_time": "2021-07-11T07:39:39.651523Z"
    }
   },
   "outputs": [],
   "source": [
    "import seaborn as sns"
   ]
  },
  {
   "cell_type": "code",
   "execution_count": null,
   "id": "99497ff1",
   "metadata": {
    "ExecuteTime": {
     "end_time": "2021-07-11T07:39:45.139826Z",
     "start_time": "2021-07-11T07:39:42.464057Z"
    }
   },
   "outputs": [],
   "source": [
    "ax=sns.lmplot(x='showingOn_count', y='VALUE', data=df_count, ci=None)\n",
    "plt.figure(figsize=(10,10))\n",
    "\n",
    "sns.pairplot(df_count, kind='reg', height=6)"
   ]
  },
  {
   "cell_type": "code",
   "execution_count": null,
   "id": "aec74d5b",
   "metadata": {
    "ExecuteTime": {
     "end_time": "2021-07-11T07:39:46.063547Z",
     "start_time": "2021-07-11T07:39:45.201359Z"
    }
   },
   "outputs": [],
   "source": [
    "import pandas_profiling"
   ]
  },
  {
   "cell_type": "code",
   "execution_count": null,
   "id": "8435f40e",
   "metadata": {
    "ExecuteTime": {
     "end_time": "2021-07-11T07:39:51.195732Z",
     "start_time": "2021-07-11T07:39:47.572283Z"
    }
   },
   "outputs": [],
   "source": [
    "df_count.profile_report()"
   ]
  },
  {
   "cell_type": "markdown",
   "id": "36215581",
   "metadata": {},
   "source": [
    "# 상영 국가들과 viewpoint\n",
    "- 귀무가설 : 상영국가들은 viewpoint에 영향이 없다.\n",
    "- 대립가설 : 상영국가들은 viewpoint에 영향이 있다."
   ]
  },
  {
   "cell_type": "code",
   "execution_count": null,
   "id": "029af75f",
   "metadata": {
    "ExecuteTime": {
     "end_time": "2021-07-11T07:40:30.057837Z",
     "start_time": "2021-07-11T07:40:30.054730Z"
    }
   },
   "outputs": [],
   "source": [
    "df_showOn= df[['VALUE','Country Availability']]"
   ]
  },
  {
   "cell_type": "code",
   "execution_count": null,
   "id": "eb8a2a02",
   "metadata": {
    "ExecuteTime": {
     "end_time": "2021-07-11T07:40:31.405214Z",
     "start_time": "2021-07-11T07:40:31.398883Z"
    }
   },
   "outputs": [],
   "source": [
    "df_showOn.head()"
   ]
  },
  {
   "cell_type": "code",
   "execution_count": null,
   "id": "f0a58482",
   "metadata": {
    "ExecuteTime": {
     "end_time": "2021-07-11T07:40:33.941767Z",
     "start_time": "2021-07-11T07:40:33.931486Z"
    }
   },
   "outputs": [],
   "source": [
    "df_showOn.info()"
   ]
  },
  {
   "cell_type": "code",
   "execution_count": null,
   "id": "1a8765d7",
   "metadata": {
    "ExecuteTime": {
     "end_time": "2021-07-11T07:40:43.161079Z",
     "start_time": "2021-07-11T07:40:43.155131Z"
    }
   },
   "outputs": [],
   "source": [
    "df_showOn.isnull().sum()"
   ]
  },
  {
   "cell_type": "code",
   "execution_count": null,
   "id": "f0990f4b",
   "metadata": {
    "ExecuteTime": {
     "end_time": "2021-07-11T07:40:44.487227Z",
     "start_time": "2021-07-11T07:40:44.480094Z"
    }
   },
   "outputs": [],
   "source": [
    "df_showOn.describe"
   ]
  },
  {
   "cell_type": "code",
   "execution_count": null,
   "id": "ca35422c",
   "metadata": {
    "ExecuteTime": {
     "end_time": "2021-07-11T07:40:51.995197Z",
     "start_time": "2021-07-11T07:40:51.991964Z"
    }
   },
   "outputs": [],
   "source": [
    "df_showOn.set_index('VALUE',inplace=True)"
   ]
  },
  {
   "cell_type": "code",
   "execution_count": null,
   "id": "e78d3bfe",
   "metadata": {
    "ExecuteTime": {
     "end_time": "2021-07-11T07:40:52.478190Z",
     "start_time": "2021-07-11T07:40:52.468294Z"
    }
   },
   "outputs": [],
   "source": [
    "result = df_showOn['Country Availability'].str.split(',') #리스트화"
   ]
  },
  {
   "cell_type": "code",
   "execution_count": null,
   "id": "2c4431e4",
   "metadata": {
    "ExecuteTime": {
     "end_time": "2021-07-11T07:40:53.392608Z",
     "start_time": "2021-07-11T07:40:52.919610Z"
    }
   },
   "outputs": [],
   "source": [
    "result = result.apply(lambda x : pd.Series(x))"
   ]
  },
  {
   "cell_type": "code",
   "execution_count": null,
   "id": "ffd62c0a",
   "metadata": {
    "ExecuteTime": {
     "end_time": "2021-07-11T07:40:53.502107Z",
     "start_time": "2021-07-11T07:40:53.489730Z"
    }
   },
   "outputs": [],
   "source": [
    "result.stack()"
   ]
  },
  {
   "cell_type": "code",
   "execution_count": null,
   "id": "58989c54",
   "metadata": {
    "ExecuteTime": {
     "end_time": "2021-07-11T07:40:55.998841Z",
     "start_time": "2021-07-11T07:40:55.980768Z"
    }
   },
   "outputs": [],
   "source": [
    "result.stack().reset_index(level=1, drop=True)"
   ]
  },
  {
   "cell_type": "code",
   "execution_count": null,
   "id": "8e965d53",
   "metadata": {
    "ExecuteTime": {
     "end_time": "2021-07-11T07:40:57.012765Z",
     "start_time": "2021-07-11T07:40:56.993537Z"
    }
   },
   "outputs": [],
   "source": [
    "result = result.stack().reset_index(level=1, drop=True).to_frame('showOn_single')\n",
    "result"
   ]
  },
  {
   "cell_type": "code",
   "execution_count": null,
   "id": "590544ff",
   "metadata": {
    "ExecuteTime": {
     "end_time": "2021-07-11T07:40:58.879425Z",
     "start_time": "2021-07-11T07:40:58.875280Z"
    }
   },
   "outputs": [],
   "source": [
    "rs=result.reset_index()"
   ]
  },
  {
   "cell_type": "code",
   "execution_count": null,
   "id": "f97dac68",
   "metadata": {
    "ExecuteTime": {
     "end_time": "2021-07-11T07:40:59.999342Z",
     "start_time": "2021-07-11T07:40:59.986418Z"
    }
   },
   "outputs": [],
   "source": [
    "rs.info()"
   ]
  },
  {
   "cell_type": "code",
   "execution_count": null,
   "id": "b39a1f51",
   "metadata": {
    "ExecuteTime": {
     "end_time": "2021-07-11T07:41:07.031053Z",
     "start_time": "2021-07-11T07:41:07.017899Z"
    }
   },
   "outputs": [],
   "source": [
    "len(list(rs.showOn_single.unique()))"
   ]
  },
  {
   "cell_type": "code",
   "execution_count": null,
   "id": "f87a6001",
   "metadata": {
    "ExecuteTime": {
     "end_time": "2021-07-11T07:41:09.099230Z",
     "start_time": "2021-07-11T07:41:08.519046Z"
    }
   },
   "outputs": [],
   "source": [
    "from copy import copy\n",
    "exiris = copy(rs)\n",
    "sns.pairplot(exiris, hue=\"showOn_single\")"
   ]
  },
  {
   "cell_type": "code",
   "execution_count": null,
   "id": "267b8a54",
   "metadata": {},
   "outputs": [],
   "source": []
  }
 ],
 "metadata": {
  "hide_input": false,
  "kernelspec": {
   "display_name": "Python TSA",
   "language": "python",
   "name": "tsa"
  },
  "language_info": {
   "codemirror_mode": {
    "name": "ipython",
    "version": 3
   },
   "file_extension": ".py",
   "mimetype": "text/x-python",
   "name": "python",
   "nbconvert_exporter": "python",
   "pygments_lexer": "ipython3",
   "version": "3.9.5"
  },
  "latex_envs": {
   "LaTeX_envs_menu_present": true,
   "autoclose": false,
   "autocomplete": true,
   "bibliofile": "biblio.bib",
   "cite_by": "apalike",
   "current_citInitial": 1,
   "eqLabelWithNumbers": true,
   "eqNumInitial": 1,
   "hotkeys": {
    "equation": "Ctrl-E",
    "itemize": "Ctrl-I"
   },
   "labels_anchors": false,
   "latex_user_defs": false,
   "report_style_numbering": false,
   "user_envs_cfg": false
  },
  "toc": {
   "base_numbering": 1,
   "nav_menu": {},
   "number_sections": true,
   "sideBar": true,
   "skip_h1_title": false,
   "title_cell": "Table of Contents",
   "title_sidebar": "Contents",
   "toc_cell": false,
   "toc_position": {},
   "toc_section_display": true,
   "toc_window_display": false
  },
  "varInspector": {
   "cols": {
    "lenName": 16,
    "lenType": 16,
    "lenVar": 40
   },
   "kernels_config": {
    "python": {
     "delete_cmd_postfix": "",
     "delete_cmd_prefix": "del ",
     "library": "var_list.py",
     "varRefreshCmd": "print(var_dic_list())"
    },
    "r": {
     "delete_cmd_postfix": ") ",
     "delete_cmd_prefix": "rm(",
     "library": "var_list.r",
     "varRefreshCmd": "cat(var_dic_list()) "
    }
   },
   "types_to_exclude": [
    "module",
    "function",
    "builtin_function_or_method",
    "instance",
    "_Feature"
   ],
   "window_display": false
  }
 },
 "nbformat": 4,
 "nbformat_minor": 5
}
