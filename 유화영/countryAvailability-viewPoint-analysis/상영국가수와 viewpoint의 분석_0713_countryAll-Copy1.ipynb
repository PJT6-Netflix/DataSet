{
 "cells": [
  {
   "cell_type": "code",
   "execution_count": 1,
   "id": "6c7867ef",
   "metadata": {
    "ExecuteTime": {
     "end_time": "2021-07-13T07:19:09.842799Z",
     "start_time": "2021-07-13T07:19:08.737872Z"
    }
   },
   "outputs": [],
   "source": [
    "import pandas as pd\n",
    "import numpy as np\n",
    "\n",
    "# 데이터 시각화\n",
    "import matplotlib.pyplot as plt\n",
    "import plotly.graph_objects as go\n",
    "import seaborn as sns\n",
    "from wordcloud import WordCloud\n",
    "\n",
    "# 가설검정\n",
    "from scipy import stats\n",
    "\n",
    "# 경고문구 무시\n",
    "import warnings\n",
    "warnings.filterwarnings(\"ignore\")\n",
    "# 자연어 처리\n",
    "# import spacy"
   ]
  },
  {
   "cell_type": "code",
   "execution_count": 2,
   "id": "870ed7f0",
   "metadata": {
    "ExecuteTime": {
     "end_time": "2021-07-13T07:19:09.941008Z",
     "start_time": "2021-07-13T07:19:09.896430Z"
    }
   },
   "outputs": [],
   "source": [
    "df=pd.read_csv('../data/1_original_useDf_0711.csv')"
   ]
  },
  {
   "cell_type": "code",
   "execution_count": 3,
   "id": "879ea5fa",
   "metadata": {
    "ExecuteTime": {
     "end_time": "2021-07-13T07:19:10.231173Z",
     "start_time": "2021-07-13T07:19:10.209304Z"
    }
   },
   "outputs": [
    {
     "data": {
      "text/html": [
       "<div>\n",
       "<style scoped>\n",
       "    .dataframe tbody tr th:only-of-type {\n",
       "        vertical-align: middle;\n",
       "    }\n",
       "\n",
       "    .dataframe tbody tr th {\n",
       "        vertical-align: top;\n",
       "    }\n",
       "\n",
       "    .dataframe thead th {\n",
       "        text-align: right;\n",
       "    }\n",
       "</style>\n",
       "<table border=\"1\" class=\"dataframe\">\n",
       "  <thead>\n",
       "    <tr style=\"text-align: right;\">\n",
       "      <th></th>\n",
       "      <th>Num</th>\n",
       "      <th>Title</th>\n",
       "      <th>Series or Movie</th>\n",
       "      <th>COUNTRY</th>\n",
       "      <th>Release Date</th>\n",
       "      <th>GENRE</th>\n",
       "      <th>VALUE</th>\n",
       "      <th>Genre_all</th>\n",
       "      <th>Tags</th>\n",
       "      <th>Languages</th>\n",
       "      <th>...</th>\n",
       "      <th>IMDb Score</th>\n",
       "      <th>Rotten Tomatoes Score</th>\n",
       "      <th>Metacritic Score</th>\n",
       "      <th>Awards Received</th>\n",
       "      <th>Awards Nominated For</th>\n",
       "      <th>Boxoffice</th>\n",
       "      <th>Netflix Release Date</th>\n",
       "      <th>Production House</th>\n",
       "      <th>Summary</th>\n",
       "      <th>IMDb Votes</th>\n",
       "    </tr>\n",
       "  </thead>\n",
       "  <tbody>\n",
       "    <tr>\n",
       "      <th>0</th>\n",
       "      <td>0</td>\n",
       "      <td>thequeensgambit</td>\n",
       "      <td>TV</td>\n",
       "      <td>United States</td>\n",
       "      <td>2020.10.23</td>\n",
       "      <td>Drama</td>\n",
       "      <td>44867</td>\n",
       "      <td>Biography, Drama, History</td>\n",
       "      <td>TV Dramas,US TV Shows,TV Shows Based on Books,...</td>\n",
       "      <td>English, German, French</td>\n",
       "      <td>...</td>\n",
       "      <td>7.3</td>\n",
       "      <td>96.0</td>\n",
       "      <td>91.0</td>\n",
       "      <td>96.0</td>\n",
       "      <td>97.0</td>\n",
       "      <td>$56,441,711</td>\n",
       "      <td>2020.10.23</td>\n",
       "      <td>Pathé Pictures, Scott Rudin Productions</td>\n",
       "      <td>In a 1950s orphanage, a young girl reveals an ...</td>\n",
       "      <td>104495.0</td>\n",
       "    </tr>\n",
       "  </tbody>\n",
       "</table>\n",
       "<p>1 rows × 27 columns</p>\n",
       "</div>"
      ],
      "text/plain": [
       "   Num            Title Series or Movie        COUNTRY Release Date  GENRE  \\\n",
       "0    0  thequeensgambit              TV  United States   2020.10.23  Drama   \n",
       "\n",
       "   VALUE                  Genre_all  \\\n",
       "0  44867  Biography, Drama, History   \n",
       "\n",
       "                                                Tags                Languages  \\\n",
       "0  TV Dramas,US TV Shows,TV Shows Based on Books,...  English, German, French   \n",
       "\n",
       "   ...  IMDb Score Rotten Tomatoes Score Metacritic Score Awards Received  \\\n",
       "0  ...         7.3                  96.0             91.0            96.0   \n",
       "\n",
       "  Awards Nominated For     Boxoffice Netflix Release Date  \\\n",
       "0                 97.0  $56,441,711            2020.10.23   \n",
       "\n",
       "                          Production House  \\\n",
       "0  Pathé Pictures, Scott Rudin Productions   \n",
       "\n",
       "                                             Summary  IMDb Votes  \n",
       "0  In a 1950s orphanage, a young girl reveals an ...    104495.0  \n",
       "\n",
       "[1 rows x 27 columns]"
      ]
     },
     "execution_count": 3,
     "metadata": {},
     "output_type": "execute_result"
    }
   ],
   "source": [
    "df.head(1)"
   ]
  },
  {
   "cell_type": "code",
   "execution_count": 4,
   "id": "4de29230",
   "metadata": {
    "ExecuteTime": {
     "end_time": "2021-07-13T07:19:10.493522Z",
     "start_time": "2021-07-13T07:19:10.484909Z"
    }
   },
   "outputs": [
    {
     "data": {
      "text/plain": [
       "Num                         0\n",
       "Title                       0\n",
       "Series or Movie             0\n",
       "COUNTRY                   206\n",
       "Release Date               65\n",
       "GENRE                     370\n",
       "VALUE                       0\n",
       "Genre_all                 118\n",
       "Tags                        9\n",
       "Languages                 149\n",
       "Hidden Gem Score          152\n",
       "Country Availability        5\n",
       "Runtime                     0\n",
       "Director                  713\n",
       "Writer                    514\n",
       "Actors                    138\n",
       "View Rating               708\n",
       "IMDb Score                152\n",
       "Rotten Tomatoes Score    1385\n",
       "Metacritic Score         1510\n",
       "Awards Received          1490\n",
       "Awards Nominated For     1090\n",
       "Boxoffice                1665\n",
       "Netflix Release Date        0\n",
       "Production House         1492\n",
       "Summary                     2\n",
       "IMDb Votes                152\n",
       "dtype: int64"
      ]
     },
     "execution_count": 4,
     "metadata": {},
     "output_type": "execute_result"
    }
   ],
   "source": [
    "#df.info()\n",
    "df.isnull().sum()"
   ]
  },
  {
   "cell_type": "code",
   "execution_count": 5,
   "id": "35983df8",
   "metadata": {
    "ExecuteTime": {
     "end_time": "2021-07-13T07:19:10.781429Z",
     "start_time": "2021-07-13T07:19:10.750062Z"
    }
   },
   "outputs": [
    {
     "data": {
      "text/html": [
       "<div>\n",
       "<style scoped>\n",
       "    .dataframe tbody tr th:only-of-type {\n",
       "        vertical-align: middle;\n",
       "    }\n",
       "\n",
       "    .dataframe tbody tr th {\n",
       "        vertical-align: top;\n",
       "    }\n",
       "\n",
       "    .dataframe thead th {\n",
       "        text-align: right;\n",
       "    }\n",
       "</style>\n",
       "<table border=\"1\" class=\"dataframe\">\n",
       "  <thead>\n",
       "    <tr style=\"text-align: right;\">\n",
       "      <th></th>\n",
       "      <th>Num</th>\n",
       "      <th>VALUE</th>\n",
       "      <th>Hidden Gem Score</th>\n",
       "      <th>IMDb Score</th>\n",
       "      <th>Rotten Tomatoes Score</th>\n",
       "      <th>Metacritic Score</th>\n",
       "      <th>Awards Received</th>\n",
       "      <th>Awards Nominated For</th>\n",
       "      <th>IMDb Votes</th>\n",
       "    </tr>\n",
       "  </thead>\n",
       "  <tbody>\n",
       "    <tr>\n",
       "      <th>count</th>\n",
       "      <td>2960.0</td>\n",
       "      <td>2960.0</td>\n",
       "      <td>2808.0</td>\n",
       "      <td>2808.0</td>\n",
       "      <td>1575.0</td>\n",
       "      <td>1450.0</td>\n",
       "      <td>1470.0</td>\n",
       "      <td>1870.0</td>\n",
       "      <td>2808.0</td>\n",
       "    </tr>\n",
       "    <tr>\n",
       "      <th>mean</th>\n",
       "      <td>1480.0</td>\n",
       "      <td>634.0</td>\n",
       "      <td>5.0</td>\n",
       "      <td>6.0</td>\n",
       "      <td>54.0</td>\n",
       "      <td>54.0</td>\n",
       "      <td>11.0</td>\n",
       "      <td>21.0</td>\n",
       "      <td>94402.0</td>\n",
       "    </tr>\n",
       "    <tr>\n",
       "      <th>std</th>\n",
       "      <td>855.0</td>\n",
       "      <td>2202.0</td>\n",
       "      <td>2.0</td>\n",
       "      <td>1.0</td>\n",
       "      <td>27.0</td>\n",
       "      <td>17.0</td>\n",
       "      <td>24.0</td>\n",
       "      <td>41.0</td>\n",
       "      <td>190158.0</td>\n",
       "    </tr>\n",
       "    <tr>\n",
       "      <th>min</th>\n",
       "      <td>0.0</td>\n",
       "      <td>1.0</td>\n",
       "      <td>1.0</td>\n",
       "      <td>2.0</td>\n",
       "      <td>0.0</td>\n",
       "      <td>5.0</td>\n",
       "      <td>1.0</td>\n",
       "      <td>1.0</td>\n",
       "      <td>5.0</td>\n",
       "    </tr>\n",
       "    <tr>\n",
       "      <th>25%</th>\n",
       "      <td>740.0</td>\n",
       "      <td>22.0</td>\n",
       "      <td>3.0</td>\n",
       "      <td>6.0</td>\n",
       "      <td>30.0</td>\n",
       "      <td>41.0</td>\n",
       "      <td>2.0</td>\n",
       "      <td>3.0</td>\n",
       "      <td>1759.0</td>\n",
       "    </tr>\n",
       "    <tr>\n",
       "      <th>50%</th>\n",
       "      <td>1480.0</td>\n",
       "      <td>80.0</td>\n",
       "      <td>4.0</td>\n",
       "      <td>6.0</td>\n",
       "      <td>54.0</td>\n",
       "      <td>53.0</td>\n",
       "      <td>4.0</td>\n",
       "      <td>7.0</td>\n",
       "      <td>17586.0</td>\n",
       "    </tr>\n",
       "    <tr>\n",
       "      <th>75%</th>\n",
       "      <td>2219.0</td>\n",
       "      <td>321.0</td>\n",
       "      <td>7.0</td>\n",
       "      <td>7.0</td>\n",
       "      <td>78.0</td>\n",
       "      <td>66.0</td>\n",
       "      <td>10.0</td>\n",
       "      <td>19.0</td>\n",
       "      <td>107313.0</td>\n",
       "    </tr>\n",
       "    <tr>\n",
       "      <th>max</th>\n",
       "      <td>2959.0</td>\n",
       "      <td>44867.0</td>\n",
       "      <td>10.0</td>\n",
       "      <td>10.0</td>\n",
       "      <td>100.0</td>\n",
       "      <td>100.0</td>\n",
       "      <td>300.0</td>\n",
       "      <td>386.0</td>\n",
       "      <td>2308981.0</td>\n",
       "    </tr>\n",
       "  </tbody>\n",
       "</table>\n",
       "</div>"
      ],
      "text/plain": [
       "          Num    VALUE  Hidden Gem Score  IMDb Score  Rotten Tomatoes Score  \\\n",
       "count  2960.0   2960.0            2808.0      2808.0                 1575.0   \n",
       "mean   1480.0    634.0               5.0         6.0                   54.0   \n",
       "std     855.0   2202.0               2.0         1.0                   27.0   \n",
       "min       0.0      1.0               1.0         2.0                    0.0   \n",
       "25%     740.0     22.0               3.0         6.0                   30.0   \n",
       "50%    1480.0     80.0               4.0         6.0                   54.0   \n",
       "75%    2219.0    321.0               7.0         7.0                   78.0   \n",
       "max    2959.0  44867.0              10.0        10.0                  100.0   \n",
       "\n",
       "       Metacritic Score  Awards Received  Awards Nominated For  IMDb Votes  \n",
       "count            1450.0           1470.0                1870.0      2808.0  \n",
       "mean               54.0             11.0                  21.0     94402.0  \n",
       "std                17.0             24.0                  41.0    190158.0  \n",
       "min                 5.0              1.0                   1.0         5.0  \n",
       "25%                41.0              2.0                   3.0      1759.0  \n",
       "50%                53.0              4.0                   7.0     17586.0  \n",
       "75%                66.0             10.0                  19.0    107313.0  \n",
       "max               100.0            300.0                 386.0   2308981.0  "
      ]
     },
     "execution_count": 5,
     "metadata": {},
     "output_type": "execute_result"
    }
   ],
   "source": [
    "df.describe().round()"
   ]
  },
  {
   "cell_type": "markdown",
   "id": "f6572ae9",
   "metadata": {},
   "source": [
    "# viewpoint 정규화"
   ]
  },
  {
   "cell_type": "code",
   "execution_count": 6,
   "id": "80ffe1a9",
   "metadata": {
    "ExecuteTime": {
     "end_time": "2021-07-13T07:19:11.400279Z",
     "start_time": "2021-07-13T07:19:11.394418Z"
    }
   },
   "outputs": [],
   "source": [
    "df['VALUE_std']=(df['VALUE']-df['VALUE'].min())/df['VALUE'].max()"
   ]
  },
  {
   "cell_type": "code",
   "execution_count": 7,
   "id": "34b9b616",
   "metadata": {
    "ExecuteTime": {
     "end_time": "2021-07-13T07:19:11.801416Z",
     "start_time": "2021-07-13T07:19:11.796868Z"
    }
   },
   "outputs": [],
   "source": [
    "df['VALUE_norm']=(df['VALUE']-df['VALUE'].mean())/df['VALUE'].std()"
   ]
  },
  {
   "cell_type": "markdown",
   "id": "71375323",
   "metadata": {},
   "source": [
    "# Country_all 변수 추가 (country 와 Country Availability 결합)"
   ]
  },
  {
   "cell_type": "code",
   "execution_count": 8,
   "id": "eb12e4ec",
   "metadata": {
    "ExecuteTime": {
     "end_time": "2021-07-13T07:19:12.616305Z",
     "start_time": "2021-07-13T07:19:12.610227Z"
    }
   },
   "outputs": [],
   "source": [
    "df['country_all']=df['COUNTRY']+','+df['Country Availability'] # (?)country_all에 중복되는 문자열 골라내기 "
   ]
  },
  {
   "cell_type": "code",
   "execution_count": 9,
   "id": "051a5690",
   "metadata": {
    "ExecuteTime": {
     "end_time": "2021-07-13T07:19:13.345952Z",
     "start_time": "2021-07-13T07:19:13.309759Z"
    }
   },
   "outputs": [
    {
     "data": {
      "text/html": [
       "<div>\n",
       "<style scoped>\n",
       "    .dataframe tbody tr th:only-of-type {\n",
       "        vertical-align: middle;\n",
       "    }\n",
       "\n",
       "    .dataframe tbody tr th {\n",
       "        vertical-align: top;\n",
       "    }\n",
       "\n",
       "    .dataframe thead th {\n",
       "        text-align: right;\n",
       "    }\n",
       "</style>\n",
       "<table border=\"1\" class=\"dataframe\">\n",
       "  <thead>\n",
       "    <tr style=\"text-align: right;\">\n",
       "      <th></th>\n",
       "      <th>Num</th>\n",
       "      <th>Title</th>\n",
       "      <th>Series or Movie</th>\n",
       "      <th>COUNTRY</th>\n",
       "      <th>Release Date</th>\n",
       "      <th>GENRE</th>\n",
       "      <th>VALUE</th>\n",
       "      <th>Genre_all</th>\n",
       "      <th>Tags</th>\n",
       "      <th>Languages</th>\n",
       "      <th>...</th>\n",
       "      <th>Awards Received</th>\n",
       "      <th>Awards Nominated For</th>\n",
       "      <th>Boxoffice</th>\n",
       "      <th>Netflix Release Date</th>\n",
       "      <th>Production House</th>\n",
       "      <th>Summary</th>\n",
       "      <th>IMDb Votes</th>\n",
       "      <th>VALUE_std</th>\n",
       "      <th>VALUE_norm</th>\n",
       "      <th>country_all</th>\n",
       "    </tr>\n",
       "  </thead>\n",
       "  <tbody>\n",
       "    <tr>\n",
       "      <th>0</th>\n",
       "      <td>0</td>\n",
       "      <td>thequeensgambit</td>\n",
       "      <td>TV</td>\n",
       "      <td>United States</td>\n",
       "      <td>2020.10.23</td>\n",
       "      <td>Drama</td>\n",
       "      <td>44867</td>\n",
       "      <td>Biography, Drama, History</td>\n",
       "      <td>TV Dramas,US TV Shows,TV Shows Based on Books,...</td>\n",
       "      <td>English, German, French</td>\n",
       "      <td>...</td>\n",
       "      <td>96.0</td>\n",
       "      <td>97.0</td>\n",
       "      <td>$56,441,711</td>\n",
       "      <td>2020.10.23</td>\n",
       "      <td>Pathé Pictures, Scott Rudin Productions</td>\n",
       "      <td>In a 1950s orphanage, a young girl reveals an ...</td>\n",
       "      <td>104495.0</td>\n",
       "      <td>0.999978</td>\n",
       "      <td>20.086441</td>\n",
       "      <td>United States,Lithuania,Canada,Australia,Polan...</td>\n",
       "    </tr>\n",
       "    <tr>\n",
       "      <th>1</th>\n",
       "      <td>1</td>\n",
       "      <td>365days</td>\n",
       "      <td>Movie</td>\n",
       "      <td>Poland</td>\n",
       "      <td>2020.6.7</td>\n",
       "      <td>Romance</td>\n",
       "      <td>42149</td>\n",
       "      <td>Drama, Romance</td>\n",
       "      <td>Polish Movies,Polish Dramas,Dramas,Romantic Dr...</td>\n",
       "      <td>Polish, English, Italian</td>\n",
       "      <td>...</td>\n",
       "      <td>NaN</td>\n",
       "      <td>NaN</td>\n",
       "      <td>NaN</td>\n",
       "      <td>2020.4.2</td>\n",
       "      <td>NaN</td>\n",
       "      <td>A fiery executive in a spiritless relationship...</td>\n",
       "      <td>50125.0</td>\n",
       "      <td>0.939399</td>\n",
       "      <td>18.852190</td>\n",
       "      <td>Poland,Poland,Russia,United Kingdom,Slovakia,C...</td>\n",
       "    </tr>\n",
       "    <tr>\n",
       "      <th>2</th>\n",
       "      <td>2</td>\n",
       "      <td>emilyinparis</td>\n",
       "      <td>TV</td>\n",
       "      <td>United States</td>\n",
       "      <td>2020.10.2</td>\n",
       "      <td>Drama</td>\n",
       "      <td>27138</td>\n",
       "      <td>Comedy, Drama, Romance</td>\n",
       "      <td>Comedy Programmes,Drama Programmes,Romantic TV...</td>\n",
       "      <td>French, English</td>\n",
       "      <td>...</td>\n",
       "      <td>1.0</td>\n",
       "      <td>3.0</td>\n",
       "      <td>NaN</td>\n",
       "      <td>2020.10.2</td>\n",
       "      <td>NaN</td>\n",
       "      <td>After landing her dream job in Paris, Chicago ...</td>\n",
       "      <td>45000.0</td>\n",
       "      <td>0.604832</td>\n",
       "      <td>12.035656</td>\n",
       "      <td>United States,Canada,Lithuania,Australia,Polan...</td>\n",
       "    </tr>\n",
       "    <tr>\n",
       "      <th>3</th>\n",
       "      <td>3</td>\n",
       "      <td>lucifer</td>\n",
       "      <td>TV</td>\n",
       "      <td>United States</td>\n",
       "      <td>2016.1.25</td>\n",
       "      <td>Superhero</td>\n",
       "      <td>25729</td>\n",
       "      <td>Horror, Thriller</td>\n",
       "      <td>TV Dramas,Police TV Shows,TV Sci-Fi &amp; Fantasy,...</td>\n",
       "      <td>English</td>\n",
       "      <td>...</td>\n",
       "      <td>NaN</td>\n",
       "      <td>NaN</td>\n",
       "      <td>NaN</td>\n",
       "      <td>2017.7.24</td>\n",
       "      <td>NaN</td>\n",
       "      <td>Bored with being the Lord of Hell, the devil r...</td>\n",
       "      <td>57.0</td>\n",
       "      <td>0.573428</td>\n",
       "      <td>11.395826</td>\n",
       "      <td>United States,South Korea,Iceland,Hungary,Aust...</td>\n",
       "    </tr>\n",
       "    <tr>\n",
       "      <th>4</th>\n",
       "      <td>4</td>\n",
       "      <td>theumbrellaacademy</td>\n",
       "      <td>TV</td>\n",
       "      <td>United States</td>\n",
       "      <td>2019.2.15</td>\n",
       "      <td>Superhero</td>\n",
       "      <td>23480</td>\n",
       "      <td>Action, Adventure, Comedy, Drama, Fantasy, Sci-Fi</td>\n",
       "      <td>TV Sci-Fi &amp; Fantasy,US TV Shows,TV Action &amp; Ad...</td>\n",
       "      <td>English</td>\n",
       "      <td>...</td>\n",
       "      <td>7.0</td>\n",
       "      <td>28.0</td>\n",
       "      <td>NaN</td>\n",
       "      <td>2019.2.15</td>\n",
       "      <td>NaN</td>\n",
       "      <td>Reunited by their fathers death, estranged sib...</td>\n",
       "      <td>159677.0</td>\n",
       "      <td>0.523302</td>\n",
       "      <td>10.374549</td>\n",
       "      <td>United States,Lithuania,Brazil,Israel,Spain,Sl...</td>\n",
       "    </tr>\n",
       "    <tr>\n",
       "      <th>...</th>\n",
       "      <td>...</td>\n",
       "      <td>...</td>\n",
       "      <td>...</td>\n",
       "      <td>...</td>\n",
       "      <td>...</td>\n",
       "      <td>...</td>\n",
       "      <td>...</td>\n",
       "      <td>...</td>\n",
       "      <td>...</td>\n",
       "      <td>...</td>\n",
       "      <td>...</td>\n",
       "      <td>...</td>\n",
       "      <td>...</td>\n",
       "      <td>...</td>\n",
       "      <td>...</td>\n",
       "      <td>...</td>\n",
       "      <td>...</td>\n",
       "      <td>...</td>\n",
       "      <td>...</td>\n",
       "      <td>...</td>\n",
       "      <td>...</td>\n",
       "    </tr>\n",
       "    <tr>\n",
       "      <th>2955</th>\n",
       "      <td>2955</td>\n",
       "      <td>thebournesupremacy</td>\n",
       "      <td>Movie</td>\n",
       "      <td>United States</td>\n",
       "      <td>2004.7.23</td>\n",
       "      <td>Action</td>\n",
       "      <td>1</td>\n",
       "      <td>Action, Mystery, Thriller</td>\n",
       "      <td>Action Thrillers,Spy Action &amp; Adventure,Action...</td>\n",
       "      <td>English, Russian, German, Italian</td>\n",
       "      <td>...</td>\n",
       "      <td>5.0</td>\n",
       "      <td>22.0</td>\n",
       "      <td>$176,241,941</td>\n",
       "      <td>2015.4.14</td>\n",
       "      <td>Universal Pictures, Hypnotic, Kennedy/Marshall</td>\n",
       "      <td>Flushed from his refuge by an assassin, Jason ...</td>\n",
       "      <td>435887.0</td>\n",
       "      <td>0.000000</td>\n",
       "      <td>-0.287326</td>\n",
       "      <td>United States,Japan,France,Russia,South Korea,...</td>\n",
       "    </tr>\n",
       "    <tr>\n",
       "      <th>2956</th>\n",
       "      <td>2956</td>\n",
       "      <td>justfriends</td>\n",
       "      <td>Movie</td>\n",
       "      <td>United States</td>\n",
       "      <td>2005.11.23</td>\n",
       "      <td>Romance</td>\n",
       "      <td>1</td>\n",
       "      <td>Comedy, Romance</td>\n",
       "      <td>Romantic Comedies,Comedies,Romantic Films,Roma...</td>\n",
       "      <td>English</td>\n",
       "      <td>...</td>\n",
       "      <td>NaN</td>\n",
       "      <td>3.0</td>\n",
       "      <td>$32,619,671</td>\n",
       "      <td>2015.4.14</td>\n",
       "      <td>Cinerenta, Benderspink, Just Friends Productio...</td>\n",
       "      <td>Years after high school, a once-portly nice gu...</td>\n",
       "      <td>106951.0</td>\n",
       "      <td>0.000000</td>\n",
       "      <td>-0.287326</td>\n",
       "      <td>United States,Romania,South Korea,United Kingd...</td>\n",
       "    </tr>\n",
       "    <tr>\n",
       "      <th>2957</th>\n",
       "      <td>2957</td>\n",
       "      <td>child44</td>\n",
       "      <td>Movie</td>\n",
       "      <td>United States</td>\n",
       "      <td>2015.3.15</td>\n",
       "      <td>Thriller</td>\n",
       "      <td>1</td>\n",
       "      <td>Crime, Drama, History, Mystery, Thriller</td>\n",
       "      <td>Dramas based on a book,Dramas,Thrillers,Crime ...</td>\n",
       "      <td>English, Russian</td>\n",
       "      <td>...</td>\n",
       "      <td>NaN</td>\n",
       "      <td>2.0</td>\n",
       "      <td>$1,224,330</td>\n",
       "      <td>2016.12.4</td>\n",
       "      <td>Scott Free Productions</td>\n",
       "      <td>In 1950s Russia, a former war hero investigate...</td>\n",
       "      <td>66251.0</td>\n",
       "      <td>0.000000</td>\n",
       "      <td>-0.287326</td>\n",
       "      <td>United States,Germany,India</td>\n",
       "    </tr>\n",
       "    <tr>\n",
       "      <th>2958</th>\n",
       "      <td>2958</td>\n",
       "      <td>draculauntold</td>\n",
       "      <td>Movie</td>\n",
       "      <td>United States</td>\n",
       "      <td>2014.10.3</td>\n",
       "      <td>Horror</td>\n",
       "      <td>1</td>\n",
       "      <td>Action, Drama, Fantasy, Horror, War</td>\n",
       "      <td>Horror Movies,Sci-Fi &amp; Fantasy,Action &amp; Advent...</td>\n",
       "      <td>English, Turkish</td>\n",
       "      <td>...</td>\n",
       "      <td>3.0</td>\n",
       "      <td>5.0</td>\n",
       "      <td>$56,280,355</td>\n",
       "      <td>2016.3.28</td>\n",
       "      <td>Michael De Luca</td>\n",
       "      <td>A medieval warrior and ruler must become a vam...</td>\n",
       "      <td>180432.0</td>\n",
       "      <td>0.000000</td>\n",
       "      <td>-0.287326</td>\n",
       "      <td>United States,Switzerland,Canada,Poland,Italy,...</td>\n",
       "    </tr>\n",
       "    <tr>\n",
       "      <th>2959</th>\n",
       "      <td>2959</td>\n",
       "      <td>riddick</td>\n",
       "      <td>Movie</td>\n",
       "      <td>United States</td>\n",
       "      <td>2013.9.6</td>\n",
       "      <td>Science Fiction</td>\n",
       "      <td>1</td>\n",
       "      <td>Action, Adventure, Sci-Fi, Thriller</td>\n",
       "      <td>Horror Films,Sci-Fi &amp; Fantasy,Action Thrillers...</td>\n",
       "      <td>English</td>\n",
       "      <td>...</td>\n",
       "      <td>NaN</td>\n",
       "      <td>2.0</td>\n",
       "      <td>$42,025,135</td>\n",
       "      <td>2015.4.14</td>\n",
       "      <td>One Race Productions</td>\n",
       "      <td>Marooned on a lonely planet where he hopes an ...</td>\n",
       "      <td>154551.0</td>\n",
       "      <td>0.000000</td>\n",
       "      <td>-0.287326</td>\n",
       "      <td>United States,Japan,United Kingdom,Mexico,Cana...</td>\n",
       "    </tr>\n",
       "  </tbody>\n",
       "</table>\n",
       "<p>2960 rows × 30 columns</p>\n",
       "</div>"
      ],
      "text/plain": [
       "       Num               Title Series or Movie        COUNTRY Release Date  \\\n",
       "0        0     thequeensgambit              TV  United States   2020.10.23   \n",
       "1        1             365days           Movie         Poland     2020.6.7   \n",
       "2        2        emilyinparis              TV  United States    2020.10.2   \n",
       "3        3             lucifer              TV  United States    2016.1.25   \n",
       "4        4  theumbrellaacademy              TV  United States    2019.2.15   \n",
       "...    ...                 ...             ...            ...          ...   \n",
       "2955  2955  thebournesupremacy           Movie  United States    2004.7.23   \n",
       "2956  2956         justfriends           Movie  United States   2005.11.23   \n",
       "2957  2957             child44           Movie  United States    2015.3.15   \n",
       "2958  2958       draculauntold           Movie  United States    2014.10.3   \n",
       "2959  2959             riddick           Movie  United States     2013.9.6   \n",
       "\n",
       "                GENRE  VALUE  \\\n",
       "0               Drama  44867   \n",
       "1             Romance  42149   \n",
       "2               Drama  27138   \n",
       "3           Superhero  25729   \n",
       "4           Superhero  23480   \n",
       "...               ...    ...   \n",
       "2955           Action      1   \n",
       "2956          Romance      1   \n",
       "2957         Thriller      1   \n",
       "2958           Horror      1   \n",
       "2959  Science Fiction      1   \n",
       "\n",
       "                                              Genre_all  \\\n",
       "0                             Biography, Drama, History   \n",
       "1                                        Drama, Romance   \n",
       "2                                Comedy, Drama, Romance   \n",
       "3                                      Horror, Thriller   \n",
       "4     Action, Adventure, Comedy, Drama, Fantasy, Sci-Fi   \n",
       "...                                                 ...   \n",
       "2955                          Action, Mystery, Thriller   \n",
       "2956                                    Comedy, Romance   \n",
       "2957           Crime, Drama, History, Mystery, Thriller   \n",
       "2958                Action, Drama, Fantasy, Horror, War   \n",
       "2959                Action, Adventure, Sci-Fi, Thriller   \n",
       "\n",
       "                                                   Tags  \\\n",
       "0     TV Dramas,US TV Shows,TV Shows Based on Books,...   \n",
       "1     Polish Movies,Polish Dramas,Dramas,Romantic Dr...   \n",
       "2     Comedy Programmes,Drama Programmes,Romantic TV...   \n",
       "3     TV Dramas,Police TV Shows,TV Sci-Fi & Fantasy,...   \n",
       "4     TV Sci-Fi & Fantasy,US TV Shows,TV Action & Ad...   \n",
       "...                                                 ...   \n",
       "2955  Action Thrillers,Spy Action & Adventure,Action...   \n",
       "2956  Romantic Comedies,Comedies,Romantic Films,Roma...   \n",
       "2957  Dramas based on a book,Dramas,Thrillers,Crime ...   \n",
       "2958  Horror Movies,Sci-Fi & Fantasy,Action & Advent...   \n",
       "2959  Horror Films,Sci-Fi & Fantasy,Action Thrillers...   \n",
       "\n",
       "                              Languages  ...  Awards Received  \\\n",
       "0               English, German, French  ...             96.0   \n",
       "1              Polish, English, Italian  ...              NaN   \n",
       "2                       French, English  ...              1.0   \n",
       "3                               English  ...              NaN   \n",
       "4                               English  ...              7.0   \n",
       "...                                 ...  ...              ...   \n",
       "2955  English, Russian, German, Italian  ...              5.0   \n",
       "2956                            English  ...              NaN   \n",
       "2957                   English, Russian  ...              NaN   \n",
       "2958                   English, Turkish  ...              3.0   \n",
       "2959                            English  ...              NaN   \n",
       "\n",
       "     Awards Nominated For      Boxoffice Netflix Release Date  \\\n",
       "0                    97.0   $56,441,711            2020.10.23   \n",
       "1                     NaN            NaN             2020.4.2   \n",
       "2                     3.0            NaN            2020.10.2   \n",
       "3                     NaN            NaN            2017.7.24   \n",
       "4                    28.0            NaN            2019.2.15   \n",
       "...                   ...            ...                  ...   \n",
       "2955                 22.0  $176,241,941             2015.4.14   \n",
       "2956                  3.0   $32,619,671             2015.4.14   \n",
       "2957                  2.0    $1,224,330             2016.12.4   \n",
       "2958                  5.0   $56,280,355             2016.3.28   \n",
       "2959                  2.0   $42,025,135             2015.4.14   \n",
       "\n",
       "                                       Production House  \\\n",
       "0               Pathé Pictures, Scott Rudin Productions   \n",
       "1                                                   NaN   \n",
       "2                                                   NaN   \n",
       "3                                                   NaN   \n",
       "4                                                   NaN   \n",
       "...                                                 ...   \n",
       "2955     Universal Pictures, Hypnotic, Kennedy/Marshall   \n",
       "2956  Cinerenta, Benderspink, Just Friends Productio...   \n",
       "2957                             Scott Free Productions   \n",
       "2958                                    Michael De Luca   \n",
       "2959                               One Race Productions   \n",
       "\n",
       "                                                Summary IMDb Votes  VALUE_std  \\\n",
       "0     In a 1950s orphanage, a young girl reveals an ...   104495.0   0.999978   \n",
       "1     A fiery executive in a spiritless relationship...    50125.0   0.939399   \n",
       "2     After landing her dream job in Paris, Chicago ...    45000.0   0.604832   \n",
       "3     Bored with being the Lord of Hell, the devil r...       57.0   0.573428   \n",
       "4     Reunited by their fathers death, estranged sib...   159677.0   0.523302   \n",
       "...                                                 ...        ...        ...   \n",
       "2955  Flushed from his refuge by an assassin, Jason ...   435887.0   0.000000   \n",
       "2956  Years after high school, a once-portly nice gu...   106951.0   0.000000   \n",
       "2957  In 1950s Russia, a former war hero investigate...    66251.0   0.000000   \n",
       "2958  A medieval warrior and ruler must become a vam...   180432.0   0.000000   \n",
       "2959  Marooned on a lonely planet where he hopes an ...   154551.0   0.000000   \n",
       "\n",
       "      VALUE_norm                                        country_all  \n",
       "0      20.086441  United States,Lithuania,Canada,Australia,Polan...  \n",
       "1      18.852190  Poland,Poland,Russia,United Kingdom,Slovakia,C...  \n",
       "2      12.035656  United States,Canada,Lithuania,Australia,Polan...  \n",
       "3      11.395826  United States,South Korea,Iceland,Hungary,Aust...  \n",
       "4      10.374549  United States,Lithuania,Brazil,Israel,Spain,Sl...  \n",
       "...          ...                                                ...  \n",
       "2955   -0.287326  United States,Japan,France,Russia,South Korea,...  \n",
       "2956   -0.287326  United States,Romania,South Korea,United Kingd...  \n",
       "2957   -0.287326                        United States,Germany,India  \n",
       "2958   -0.287326  United States,Switzerland,Canada,Poland,Italy,...  \n",
       "2959   -0.287326  United States,Japan,United Kingdom,Mexico,Cana...  \n",
       "\n",
       "[2960 rows x 30 columns]"
      ]
     },
     "execution_count": 9,
     "metadata": {},
     "output_type": "execute_result"
    }
   ],
   "source": [
    "df"
   ]
  },
  {
   "cell_type": "code",
   "execution_count": 10,
   "id": "fbe7f4ec",
   "metadata": {
    "ExecuteTime": {
     "end_time": "2021-07-13T07:19:13.964607Z",
     "start_time": "2021-07-13T07:19:13.959437Z"
    }
   },
   "outputs": [
    {
     "data": {
      "text/plain": [
       "0    United States,Lithuania,Canada,Australia,Polan...\n",
       "1    Poland,Poland,Russia,United Kingdom,Slovakia,C...\n",
       "2    United States,Canada,Lithuania,Australia,Polan...\n",
       "Name: country_all, dtype: object"
      ]
     },
     "execution_count": 10,
     "metadata": {},
     "output_type": "execute_result"
    }
   ],
   "source": [
    "df['country_all'].head(3)"
   ]
  },
  {
   "cell_type": "markdown",
   "id": "ce9096d7",
   "metadata": {},
   "source": [
    "# showingOn_count 변수 추가"
   ]
  },
  {
   "cell_type": "code",
   "execution_count": 11,
   "id": "53b326b1",
   "metadata": {
    "ExecuteTime": {
     "end_time": "2021-07-13T07:19:21.272876Z",
     "start_time": "2021-07-13T07:19:21.269112Z"
    }
   },
   "outputs": [
    {
     "data": {
      "text/plain": [
       "37"
      ]
     },
     "execution_count": 11,
     "metadata": {},
     "output_type": "execute_result"
    }
   ],
   "source": [
    "len(str(df['country_all'].iloc[0]).split(','))"
   ]
  },
  {
   "cell_type": "code",
   "execution_count": 12,
   "id": "b8f80cda",
   "metadata": {
    "ExecuteTime": {
     "end_time": "2021-07-13T07:19:21.811591Z",
     "start_time": "2021-07-13T07:19:21.808969Z"
    }
   },
   "outputs": [],
   "source": [
    "rows = len(df['country_all'])"
   ]
  },
  {
   "cell_type": "code",
   "execution_count": 13,
   "id": "f6ed9ff2",
   "metadata": {
    "ExecuteTime": {
     "end_time": "2021-07-13T07:19:22.470325Z",
     "start_time": "2021-07-13T07:19:22.466976Z"
    }
   },
   "outputs": [],
   "source": [
    "df['showingOn_count'] = 0"
   ]
  },
  {
   "cell_type": "code",
   "execution_count": 14,
   "id": "0b4cf887",
   "metadata": {
    "ExecuteTime": {
     "end_time": "2021-07-13T07:19:23.123201Z",
     "start_time": "2021-07-13T07:19:23.118187Z"
    }
   },
   "outputs": [
    {
     "data": {
      "text/plain": [
       "0       United States,Lithuania,Canada,Australia,Polan...\n",
       "1       Poland,Poland,Russia,United Kingdom,Slovakia,C...\n",
       "2       United States,Canada,Lithuania,Australia,Polan...\n",
       "3       United States,South Korea,Iceland,Hungary,Aust...\n",
       "4       United States,Lithuania,Brazil,Israel,Spain,Sl...\n",
       "                              ...                        \n",
       "2955    United States,Japan,France,Russia,South Korea,...\n",
       "2956    United States,Romania,South Korea,United Kingd...\n",
       "2957                          United States,Germany,India\n",
       "2958    United States,Switzerland,Canada,Poland,Italy,...\n",
       "2959    United States,Japan,United Kingdom,Mexico,Cana...\n",
       "Name: country_all, Length: 2960, dtype: object"
      ]
     },
     "execution_count": 14,
     "metadata": {},
     "output_type": "execute_result"
    }
   ],
   "source": [
    "df['country_all']"
   ]
  },
  {
   "cell_type": "code",
   "execution_count": 15,
   "id": "49a1dbc0",
   "metadata": {
    "ExecuteTime": {
     "end_time": "2021-07-13T07:19:28.631459Z",
     "start_time": "2021-07-13T07:19:27.639967Z"
    }
   },
   "outputs": [],
   "source": [
    "for i in range(rows):\n",
    "    df.showingOn_count[i]=len(str(df['country_all'].iloc[i]).split(','))"
   ]
  },
  {
   "cell_type": "code",
   "execution_count": 16,
   "id": "0e5f6460",
   "metadata": {
    "ExecuteTime": {
     "end_time": "2021-07-13T07:19:29.111403Z",
     "start_time": "2021-07-13T07:19:29.100993Z"
    }
   },
   "outputs": [],
   "source": [
    "revise_country = df['country_all'].str.split(',') #리스트화"
   ]
  },
  {
   "cell_type": "code",
   "execution_count": 17,
   "id": "160ef778",
   "metadata": {
    "ExecuteTime": {
     "end_time": "2021-07-13T07:19:30.928281Z",
     "start_time": "2021-07-13T07:19:30.836570Z"
    }
   },
   "outputs": [],
   "source": [
    "# 중복값 제거\n",
    "for i in range(int(len(revise_country))):\n",
    "     revise_country[i]= np.unique(revise_country[i]).tolist()"
   ]
  },
  {
   "cell_type": "code",
   "execution_count": 18,
   "id": "b9bcc0b7",
   "metadata": {
    "ExecuteTime": {
     "end_time": "2021-07-13T07:19:31.630492Z",
     "start_time": "2021-07-13T07:19:31.624947Z"
    }
   },
   "outputs": [
    {
     "ename": "SyntaxError",
     "evalue": "invalid syntax (<ipython-input-18-ce314e6959b7>, line 1)",
     "output_type": "error",
     "traceback": [
      "\u001b[0;36m  File \u001b[0;32m\"<ipython-input-18-ce314e6959b7>\"\u001b[0;36m, line \u001b[0;32m1\u001b[0m\n\u001b[0;31m    revise_country = pd.DataFrame(revise_country[])\u001b[0m\n\u001b[0m                                                 ^\u001b[0m\n\u001b[0;31mSyntaxError\u001b[0m\u001b[0;31m:\u001b[0m invalid syntax\n"
     ]
    }
   ],
   "source": [
    "revise_country = pd.DataFrame(revise_country[])"
   ]
  },
  {
   "cell_type": "code",
   "execution_count": 19,
   "id": "0ad4b38c",
   "metadata": {
    "ExecuteTime": {
     "end_time": "2021-07-13T07:19:34.105729Z",
     "start_time": "2021-07-13T07:19:34.099008Z"
    }
   },
   "outputs": [
    {
     "data": {
      "text/plain": [
       "0       [Argentina, Australia, Belgium, Brazil, Canada...\n",
       "1       [Argentina, Australia, Belgium, Brazil, Canada...\n",
       "2       [Argentina, Australia, Belgium, Brazil, Canada...\n",
       "3       [Argentina, Australia, Belgium, Brazil, Canada...\n",
       "4       [Argentina, Australia, Belgium, Brazil, Canada...\n",
       "                              ...                        \n",
       "2955    [Argentina, Australia, Belgium, Brazil, Colomb...\n",
       "2956    [Canada, Czech Republic, Hungary, Romania, Sou...\n",
       "2957                      [Germany, India, United States]\n",
       "2958    [Argentina, Australia, Brazil, Canada, Colombi...\n",
       "2959    [Argentina, Australia, Brazil, Canada, Colombi...\n",
       "Name: country_all, Length: 2960, dtype: object"
      ]
     },
     "execution_count": 19,
     "metadata": {},
     "output_type": "execute_result"
    }
   ],
   "source": [
    "revise_country"
   ]
  },
  {
   "cell_type": "code",
   "execution_count": 20,
   "id": "1471eabd",
   "metadata": {
    "ExecuteTime": {
     "end_time": "2021-07-13T07:19:36.756469Z",
     "start_time": "2021-07-13T07:19:36.753782Z"
    }
   },
   "outputs": [],
   "source": [
    "df['country_all']=revise_country"
   ]
  },
  {
   "cell_type": "code",
   "execution_count": 21,
   "id": "9e2a81f9",
   "metadata": {
    "ExecuteTime": {
     "end_time": "2021-07-13T07:19:38.524057Z",
     "start_time": "2021-07-13T07:19:37.540289Z"
    }
   },
   "outputs": [],
   "source": [
    "for i in range(len(df['country_all'])):\n",
    "    df['showingOn_count'][i]=len(df['country_all'][i])"
   ]
  },
  {
   "cell_type": "code",
   "execution_count": 22,
   "id": "338e090b",
   "metadata": {
    "ExecuteTime": {
     "end_time": "2021-07-13T07:19:39.875889Z",
     "start_time": "2021-07-13T07:19:39.836019Z"
    }
   },
   "outputs": [
    {
     "data": {
      "text/html": [
       "<div>\n",
       "<style scoped>\n",
       "    .dataframe tbody tr th:only-of-type {\n",
       "        vertical-align: middle;\n",
       "    }\n",
       "\n",
       "    .dataframe tbody tr th {\n",
       "        vertical-align: top;\n",
       "    }\n",
       "\n",
       "    .dataframe thead th {\n",
       "        text-align: right;\n",
       "    }\n",
       "</style>\n",
       "<table border=\"1\" class=\"dataframe\">\n",
       "  <thead>\n",
       "    <tr style=\"text-align: right;\">\n",
       "      <th></th>\n",
       "      <th>Num</th>\n",
       "      <th>Title</th>\n",
       "      <th>Series or Movie</th>\n",
       "      <th>COUNTRY</th>\n",
       "      <th>Release Date</th>\n",
       "      <th>GENRE</th>\n",
       "      <th>VALUE</th>\n",
       "      <th>Genre_all</th>\n",
       "      <th>Tags</th>\n",
       "      <th>Languages</th>\n",
       "      <th>...</th>\n",
       "      <th>Awards Nominated For</th>\n",
       "      <th>Boxoffice</th>\n",
       "      <th>Netflix Release Date</th>\n",
       "      <th>Production House</th>\n",
       "      <th>Summary</th>\n",
       "      <th>IMDb Votes</th>\n",
       "      <th>VALUE_std</th>\n",
       "      <th>VALUE_norm</th>\n",
       "      <th>country_all</th>\n",
       "      <th>showingOn_count</th>\n",
       "    </tr>\n",
       "  </thead>\n",
       "  <tbody>\n",
       "    <tr>\n",
       "      <th>0</th>\n",
       "      <td>0</td>\n",
       "      <td>thequeensgambit</td>\n",
       "      <td>TV</td>\n",
       "      <td>United States</td>\n",
       "      <td>2020.10.23</td>\n",
       "      <td>Drama</td>\n",
       "      <td>44867</td>\n",
       "      <td>Biography, Drama, History</td>\n",
       "      <td>TV Dramas,US TV Shows,TV Shows Based on Books,...</td>\n",
       "      <td>English, German, French</td>\n",
       "      <td>...</td>\n",
       "      <td>97.0</td>\n",
       "      <td>$56,441,711</td>\n",
       "      <td>2020.10.23</td>\n",
       "      <td>Pathé Pictures, Scott Rudin Productions</td>\n",
       "      <td>In a 1950s orphanage, a young girl reveals an ...</td>\n",
       "      <td>104495.0</td>\n",
       "      <td>0.999978</td>\n",
       "      <td>20.086441</td>\n",
       "      <td>[Argentina, Australia, Belgium, Brazil, Canada...</td>\n",
       "      <td>36</td>\n",
       "    </tr>\n",
       "    <tr>\n",
       "      <th>1</th>\n",
       "      <td>1</td>\n",
       "      <td>365days</td>\n",
       "      <td>Movie</td>\n",
       "      <td>Poland</td>\n",
       "      <td>2020.6.7</td>\n",
       "      <td>Romance</td>\n",
       "      <td>42149</td>\n",
       "      <td>Drama, Romance</td>\n",
       "      <td>Polish Movies,Polish Dramas,Dramas,Romantic Dr...</td>\n",
       "      <td>Polish, English, Italian</td>\n",
       "      <td>...</td>\n",
       "      <td>NaN</td>\n",
       "      <td>NaN</td>\n",
       "      <td>2020.4.2</td>\n",
       "      <td>NaN</td>\n",
       "      <td>A fiery executive in a spiritless relationship...</td>\n",
       "      <td>50125.0</td>\n",
       "      <td>0.939399</td>\n",
       "      <td>18.852190</td>\n",
       "      <td>[Argentina, Australia, Belgium, Brazil, Canada...</td>\n",
       "      <td>36</td>\n",
       "    </tr>\n",
       "    <tr>\n",
       "      <th>2</th>\n",
       "      <td>2</td>\n",
       "      <td>emilyinparis</td>\n",
       "      <td>TV</td>\n",
       "      <td>United States</td>\n",
       "      <td>2020.10.2</td>\n",
       "      <td>Drama</td>\n",
       "      <td>27138</td>\n",
       "      <td>Comedy, Drama, Romance</td>\n",
       "      <td>Comedy Programmes,Drama Programmes,Romantic TV...</td>\n",
       "      <td>French, English</td>\n",
       "      <td>...</td>\n",
       "      <td>3.0</td>\n",
       "      <td>NaN</td>\n",
       "      <td>2020.10.2</td>\n",
       "      <td>NaN</td>\n",
       "      <td>After landing her dream job in Paris, Chicago ...</td>\n",
       "      <td>45000.0</td>\n",
       "      <td>0.604832</td>\n",
       "      <td>12.035656</td>\n",
       "      <td>[Argentina, Australia, Belgium, Brazil, Canada...</td>\n",
       "      <td>36</td>\n",
       "    </tr>\n",
       "    <tr>\n",
       "      <th>3</th>\n",
       "      <td>3</td>\n",
       "      <td>lucifer</td>\n",
       "      <td>TV</td>\n",
       "      <td>United States</td>\n",
       "      <td>2016.1.25</td>\n",
       "      <td>Superhero</td>\n",
       "      <td>25729</td>\n",
       "      <td>Horror, Thriller</td>\n",
       "      <td>TV Dramas,Police TV Shows,TV Sci-Fi &amp; Fantasy,...</td>\n",
       "      <td>English</td>\n",
       "      <td>...</td>\n",
       "      <td>NaN</td>\n",
       "      <td>NaN</td>\n",
       "      <td>2017.7.24</td>\n",
       "      <td>NaN</td>\n",
       "      <td>Bored with being the Lord of Hell, the devil r...</td>\n",
       "      <td>57.0</td>\n",
       "      <td>0.573428</td>\n",
       "      <td>11.395826</td>\n",
       "      <td>[Argentina, Australia, Belgium, Brazil, Canada...</td>\n",
       "      <td>35</td>\n",
       "    </tr>\n",
       "    <tr>\n",
       "      <th>4</th>\n",
       "      <td>4</td>\n",
       "      <td>theumbrellaacademy</td>\n",
       "      <td>TV</td>\n",
       "      <td>United States</td>\n",
       "      <td>2019.2.15</td>\n",
       "      <td>Superhero</td>\n",
       "      <td>23480</td>\n",
       "      <td>Action, Adventure, Comedy, Drama, Fantasy, Sci-Fi</td>\n",
       "      <td>TV Sci-Fi &amp; Fantasy,US TV Shows,TV Action &amp; Ad...</td>\n",
       "      <td>English</td>\n",
       "      <td>...</td>\n",
       "      <td>28.0</td>\n",
       "      <td>NaN</td>\n",
       "      <td>2019.2.15</td>\n",
       "      <td>NaN</td>\n",
       "      <td>Reunited by their fathers death, estranged sib...</td>\n",
       "      <td>159677.0</td>\n",
       "      <td>0.523302</td>\n",
       "      <td>10.374549</td>\n",
       "      <td>[Argentina, Australia, Belgium, Brazil, Canada...</td>\n",
       "      <td>36</td>\n",
       "    </tr>\n",
       "    <tr>\n",
       "      <th>...</th>\n",
       "      <td>...</td>\n",
       "      <td>...</td>\n",
       "      <td>...</td>\n",
       "      <td>...</td>\n",
       "      <td>...</td>\n",
       "      <td>...</td>\n",
       "      <td>...</td>\n",
       "      <td>...</td>\n",
       "      <td>...</td>\n",
       "      <td>...</td>\n",
       "      <td>...</td>\n",
       "      <td>...</td>\n",
       "      <td>...</td>\n",
       "      <td>...</td>\n",
       "      <td>...</td>\n",
       "      <td>...</td>\n",
       "      <td>...</td>\n",
       "      <td>...</td>\n",
       "      <td>...</td>\n",
       "      <td>...</td>\n",
       "      <td>...</td>\n",
       "    </tr>\n",
       "    <tr>\n",
       "      <th>2955</th>\n",
       "      <td>2955</td>\n",
       "      <td>thebournesupremacy</td>\n",
       "      <td>Movie</td>\n",
       "      <td>United States</td>\n",
       "      <td>2004.7.23</td>\n",
       "      <td>Action</td>\n",
       "      <td>1</td>\n",
       "      <td>Action, Mystery, Thriller</td>\n",
       "      <td>Action Thrillers,Spy Action &amp; Adventure,Action...</td>\n",
       "      <td>English, Russian, German, Italian</td>\n",
       "      <td>...</td>\n",
       "      <td>22.0</td>\n",
       "      <td>$176,241,941</td>\n",
       "      <td>2015.4.14</td>\n",
       "      <td>Universal Pictures, Hypnotic, Kennedy/Marshall</td>\n",
       "      <td>Flushed from his refuge by an assassin, Jason ...</td>\n",
       "      <td>435887.0</td>\n",
       "      <td>0.000000</td>\n",
       "      <td>-0.287326</td>\n",
       "      <td>[Argentina, Australia, Belgium, Brazil, Colomb...</td>\n",
       "      <td>31</td>\n",
       "    </tr>\n",
       "    <tr>\n",
       "      <th>2956</th>\n",
       "      <td>2956</td>\n",
       "      <td>justfriends</td>\n",
       "      <td>Movie</td>\n",
       "      <td>United States</td>\n",
       "      <td>2005.11.23</td>\n",
       "      <td>Romance</td>\n",
       "      <td>1</td>\n",
       "      <td>Comedy, Romance</td>\n",
       "      <td>Romantic Comedies,Comedies,Romantic Films,Roma...</td>\n",
       "      <td>English</td>\n",
       "      <td>...</td>\n",
       "      <td>3.0</td>\n",
       "      <td>$32,619,671</td>\n",
       "      <td>2015.4.14</td>\n",
       "      <td>Cinerenta, Benderspink, Just Friends Productio...</td>\n",
       "      <td>Years after high school, a once-portly nice gu...</td>\n",
       "      <td>106951.0</td>\n",
       "      <td>0.000000</td>\n",
       "      <td>-0.287326</td>\n",
       "      <td>[Canada, Czech Republic, Hungary, Romania, Sou...</td>\n",
       "      <td>7</td>\n",
       "    </tr>\n",
       "    <tr>\n",
       "      <th>2957</th>\n",
       "      <td>2957</td>\n",
       "      <td>child44</td>\n",
       "      <td>Movie</td>\n",
       "      <td>United States</td>\n",
       "      <td>2015.3.15</td>\n",
       "      <td>Thriller</td>\n",
       "      <td>1</td>\n",
       "      <td>Crime, Drama, History, Mystery, Thriller</td>\n",
       "      <td>Dramas based on a book,Dramas,Thrillers,Crime ...</td>\n",
       "      <td>English, Russian</td>\n",
       "      <td>...</td>\n",
       "      <td>2.0</td>\n",
       "      <td>$1,224,330</td>\n",
       "      <td>2016.12.4</td>\n",
       "      <td>Scott Free Productions</td>\n",
       "      <td>In 1950s Russia, a former war hero investigate...</td>\n",
       "      <td>66251.0</td>\n",
       "      <td>0.000000</td>\n",
       "      <td>-0.287326</td>\n",
       "      <td>[Germany, India, United States]</td>\n",
       "      <td>3</td>\n",
       "    </tr>\n",
       "    <tr>\n",
       "      <th>2958</th>\n",
       "      <td>2958</td>\n",
       "      <td>draculauntold</td>\n",
       "      <td>Movie</td>\n",
       "      <td>United States</td>\n",
       "      <td>2014.10.3</td>\n",
       "      <td>Horror</td>\n",
       "      <td>1</td>\n",
       "      <td>Action, Drama, Fantasy, Horror, War</td>\n",
       "      <td>Horror Movies,Sci-Fi &amp; Fantasy,Action &amp; Advent...</td>\n",
       "      <td>English, Turkish</td>\n",
       "      <td>...</td>\n",
       "      <td>5.0</td>\n",
       "      <td>$56,280,355</td>\n",
       "      <td>2016.3.28</td>\n",
       "      <td>Michael De Luca</td>\n",
       "      <td>A medieval warrior and ruler must become a vam...</td>\n",
       "      <td>180432.0</td>\n",
       "      <td>0.000000</td>\n",
       "      <td>-0.287326</td>\n",
       "      <td>[Argentina, Australia, Brazil, Canada, Colombi...</td>\n",
       "      <td>30</td>\n",
       "    </tr>\n",
       "    <tr>\n",
       "      <th>2959</th>\n",
       "      <td>2959</td>\n",
       "      <td>riddick</td>\n",
       "      <td>Movie</td>\n",
       "      <td>United States</td>\n",
       "      <td>2013.9.6</td>\n",
       "      <td>Science Fiction</td>\n",
       "      <td>1</td>\n",
       "      <td>Action, Adventure, Sci-Fi, Thriller</td>\n",
       "      <td>Horror Films,Sci-Fi &amp; Fantasy,Action Thrillers...</td>\n",
       "      <td>English</td>\n",
       "      <td>...</td>\n",
       "      <td>2.0</td>\n",
       "      <td>$42,025,135</td>\n",
       "      <td>2015.4.14</td>\n",
       "      <td>One Race Productions</td>\n",
       "      <td>Marooned on a lonely planet where he hopes an ...</td>\n",
       "      <td>154551.0</td>\n",
       "      <td>0.000000</td>\n",
       "      <td>-0.287326</td>\n",
       "      <td>[Argentina, Australia, Brazil, Canada, Colombi...</td>\n",
       "      <td>12</td>\n",
       "    </tr>\n",
       "  </tbody>\n",
       "</table>\n",
       "<p>2960 rows × 31 columns</p>\n",
       "</div>"
      ],
      "text/plain": [
       "       Num               Title Series or Movie        COUNTRY Release Date  \\\n",
       "0        0     thequeensgambit              TV  United States   2020.10.23   \n",
       "1        1             365days           Movie         Poland     2020.6.7   \n",
       "2        2        emilyinparis              TV  United States    2020.10.2   \n",
       "3        3             lucifer              TV  United States    2016.1.25   \n",
       "4        4  theumbrellaacademy              TV  United States    2019.2.15   \n",
       "...    ...                 ...             ...            ...          ...   \n",
       "2955  2955  thebournesupremacy           Movie  United States    2004.7.23   \n",
       "2956  2956         justfriends           Movie  United States   2005.11.23   \n",
       "2957  2957             child44           Movie  United States    2015.3.15   \n",
       "2958  2958       draculauntold           Movie  United States    2014.10.3   \n",
       "2959  2959             riddick           Movie  United States     2013.9.6   \n",
       "\n",
       "                GENRE  VALUE  \\\n",
       "0               Drama  44867   \n",
       "1             Romance  42149   \n",
       "2               Drama  27138   \n",
       "3           Superhero  25729   \n",
       "4           Superhero  23480   \n",
       "...               ...    ...   \n",
       "2955           Action      1   \n",
       "2956          Romance      1   \n",
       "2957         Thriller      1   \n",
       "2958           Horror      1   \n",
       "2959  Science Fiction      1   \n",
       "\n",
       "                                              Genre_all  \\\n",
       "0                             Biography, Drama, History   \n",
       "1                                        Drama, Romance   \n",
       "2                                Comedy, Drama, Romance   \n",
       "3                                      Horror, Thriller   \n",
       "4     Action, Adventure, Comedy, Drama, Fantasy, Sci-Fi   \n",
       "...                                                 ...   \n",
       "2955                          Action, Mystery, Thriller   \n",
       "2956                                    Comedy, Romance   \n",
       "2957           Crime, Drama, History, Mystery, Thriller   \n",
       "2958                Action, Drama, Fantasy, Horror, War   \n",
       "2959                Action, Adventure, Sci-Fi, Thriller   \n",
       "\n",
       "                                                   Tags  \\\n",
       "0     TV Dramas,US TV Shows,TV Shows Based on Books,...   \n",
       "1     Polish Movies,Polish Dramas,Dramas,Romantic Dr...   \n",
       "2     Comedy Programmes,Drama Programmes,Romantic TV...   \n",
       "3     TV Dramas,Police TV Shows,TV Sci-Fi & Fantasy,...   \n",
       "4     TV Sci-Fi & Fantasy,US TV Shows,TV Action & Ad...   \n",
       "...                                                 ...   \n",
       "2955  Action Thrillers,Spy Action & Adventure,Action...   \n",
       "2956  Romantic Comedies,Comedies,Romantic Films,Roma...   \n",
       "2957  Dramas based on a book,Dramas,Thrillers,Crime ...   \n",
       "2958  Horror Movies,Sci-Fi & Fantasy,Action & Advent...   \n",
       "2959  Horror Films,Sci-Fi & Fantasy,Action Thrillers...   \n",
       "\n",
       "                              Languages  ...  Awards Nominated For  \\\n",
       "0               English, German, French  ...                  97.0   \n",
       "1              Polish, English, Italian  ...                   NaN   \n",
       "2                       French, English  ...                   3.0   \n",
       "3                               English  ...                   NaN   \n",
       "4                               English  ...                  28.0   \n",
       "...                                 ...  ...                   ...   \n",
       "2955  English, Russian, German, Italian  ...                  22.0   \n",
       "2956                            English  ...                   3.0   \n",
       "2957                   English, Russian  ...                   2.0   \n",
       "2958                   English, Turkish  ...                   5.0   \n",
       "2959                            English  ...                   2.0   \n",
       "\n",
       "          Boxoffice Netflix Release Date  \\\n",
       "0      $56,441,711            2020.10.23   \n",
       "1               NaN             2020.4.2   \n",
       "2               NaN            2020.10.2   \n",
       "3               NaN            2017.7.24   \n",
       "4               NaN            2019.2.15   \n",
       "...             ...                  ...   \n",
       "2955  $176,241,941             2015.4.14   \n",
       "2956   $32,619,671             2015.4.14   \n",
       "2957    $1,224,330             2016.12.4   \n",
       "2958   $56,280,355             2016.3.28   \n",
       "2959   $42,025,135             2015.4.14   \n",
       "\n",
       "                                       Production House  \\\n",
       "0               Pathé Pictures, Scott Rudin Productions   \n",
       "1                                                   NaN   \n",
       "2                                                   NaN   \n",
       "3                                                   NaN   \n",
       "4                                                   NaN   \n",
       "...                                                 ...   \n",
       "2955     Universal Pictures, Hypnotic, Kennedy/Marshall   \n",
       "2956  Cinerenta, Benderspink, Just Friends Productio...   \n",
       "2957                             Scott Free Productions   \n",
       "2958                                    Michael De Luca   \n",
       "2959                               One Race Productions   \n",
       "\n",
       "                                                Summary IMDb Votes VALUE_std  \\\n",
       "0     In a 1950s orphanage, a young girl reveals an ...   104495.0  0.999978   \n",
       "1     A fiery executive in a spiritless relationship...    50125.0  0.939399   \n",
       "2     After landing her dream job in Paris, Chicago ...    45000.0  0.604832   \n",
       "3     Bored with being the Lord of Hell, the devil r...       57.0  0.573428   \n",
       "4     Reunited by their fathers death, estranged sib...   159677.0  0.523302   \n",
       "...                                                 ...        ...       ...   \n",
       "2955  Flushed from his refuge by an assassin, Jason ...   435887.0  0.000000   \n",
       "2956  Years after high school, a once-portly nice gu...   106951.0  0.000000   \n",
       "2957  In 1950s Russia, a former war hero investigate...    66251.0  0.000000   \n",
       "2958  A medieval warrior and ruler must become a vam...   180432.0  0.000000   \n",
       "2959  Marooned on a lonely planet where he hopes an ...   154551.0  0.000000   \n",
       "\n",
       "      VALUE_norm                                        country_all  \\\n",
       "0      20.086441  [Argentina, Australia, Belgium, Brazil, Canada...   \n",
       "1      18.852190  [Argentina, Australia, Belgium, Brazil, Canada...   \n",
       "2      12.035656  [Argentina, Australia, Belgium, Brazil, Canada...   \n",
       "3      11.395826  [Argentina, Australia, Belgium, Brazil, Canada...   \n",
       "4      10.374549  [Argentina, Australia, Belgium, Brazil, Canada...   \n",
       "...          ...                                                ...   \n",
       "2955   -0.287326  [Argentina, Australia, Belgium, Brazil, Colomb...   \n",
       "2956   -0.287326  [Canada, Czech Republic, Hungary, Romania, Sou...   \n",
       "2957   -0.287326                    [Germany, India, United States]   \n",
       "2958   -0.287326  [Argentina, Australia, Brazil, Canada, Colombi...   \n",
       "2959   -0.287326  [Argentina, Australia, Brazil, Canada, Colombi...   \n",
       "\n",
       "      showingOn_count  \n",
       "0                  36  \n",
       "1                  36  \n",
       "2                  36  \n",
       "3                  35  \n",
       "4                  36  \n",
       "...               ...  \n",
       "2955               31  \n",
       "2956                7  \n",
       "2957                3  \n",
       "2958               30  \n",
       "2959               12  \n",
       "\n",
       "[2960 rows x 31 columns]"
      ]
     },
     "execution_count": 22,
     "metadata": {},
     "output_type": "execute_result"
    }
   ],
   "source": [
    "df"
   ]
  },
  {
   "cell_type": "code",
   "execution_count": null,
   "id": "46f6380c",
   "metadata": {
    "ExecuteTime": {
     "end_time": "2021-07-13T07:12:01.655388Z",
     "start_time": "2021-07-13T07:12:01.631919Z"
    }
   },
   "outputs": [],
   "source": [
    "df.head(5)"
   ]
  },
  {
   "cell_type": "code",
   "execution_count": null,
   "id": "d3110054",
   "metadata": {
    "ExecuteTime": {
     "end_time": "2021-07-13T07:12:01.890404Z",
     "start_time": "2021-07-13T07:12:01.886693Z"
    }
   },
   "outputs": [],
   "source": [
    "# 정규화 진행\n",
    "\n",
    "df['showingOn_count_norm'] = (df['showingOn_count'] - df['showingOn_count'].min())/df['showingOn_count'].max()  ## "
   ]
  },
  {
   "cell_type": "code",
   "execution_count": null,
   "id": "b6ffb328",
   "metadata": {
    "ExecuteTime": {
     "end_time": "2021-07-13T07:12:02.391912Z",
     "start_time": "2021-07-13T07:12:02.387837Z"
    }
   },
   "outputs": [],
   "source": [
    "type(df.showingOn_count)"
   ]
  },
  {
   "cell_type": "code",
   "execution_count": null,
   "id": "322af6bb",
   "metadata": {},
   "outputs": [],
   "source": []
  },
  {
   "cell_type": "markdown",
   "id": "e0cdc38e",
   "metadata": {},
   "source": [
    "# 상영 국가 수와 viewpoint"
   ]
  },
  {
   "cell_type": "code",
   "execution_count": null,
   "id": "f39b6aa4",
   "metadata": {
    "ExecuteTime": {
     "end_time": "2021-07-13T07:12:10.326112Z",
     "start_time": "2021-07-13T07:12:10.303923Z"
    }
   },
   "outputs": [],
   "source": [
    "df.head(1)"
   ]
  },
  {
   "cell_type": "code",
   "execution_count": null,
   "id": "f59bca37",
   "metadata": {
    "ExecuteTime": {
     "end_time": "2021-07-13T07:12:10.867296Z",
     "start_time": "2021-07-13T07:12:10.861354Z"
    }
   },
   "outputs": [],
   "source": [
    "df_count = df[['Num','VALUE','showingOn_count']]"
   ]
  },
  {
   "cell_type": "code",
   "execution_count": null,
   "id": "d01e8c44",
   "metadata": {
    "ExecuteTime": {
     "end_time": "2021-07-13T07:12:11.630397Z",
     "start_time": "2021-07-13T07:12:11.625144Z"
    }
   },
   "outputs": [],
   "source": [
    "df_count.isnull().sum()"
   ]
  },
  {
   "cell_type": "code",
   "execution_count": null,
   "id": "130c4ebb",
   "metadata": {
    "ExecuteTime": {
     "end_time": "2021-07-13T07:12:12.158873Z",
     "start_time": "2021-07-13T07:12:12.141848Z"
    }
   },
   "outputs": [],
   "source": [
    "df_count.describe()"
   ]
  },
  {
   "cell_type": "code",
   "execution_count": null,
   "id": "09e4fb4f",
   "metadata": {
    "ExecuteTime": {
     "end_time": "2021-07-13T06:57:30.709499Z",
     "start_time": "2021-07-13T06:57:30.699018Z"
    }
   },
   "outputs": [],
   "source": [
    "df_count.head(2)"
   ]
  },
  {
   "cell_type": "code",
   "execution_count": null,
   "id": "47b22154",
   "metadata": {
    "ExecuteTime": {
     "end_time": "2021-07-13T06:57:30.722329Z",
     "start_time": "2021-07-13T06:57:30.712885Z"
    }
   },
   "outputs": [],
   "source": [
    "len(df_count['showingOn_count'].unique())"
   ]
  },
  {
   "cell_type": "code",
   "execution_count": null,
   "id": "82ebee76",
   "metadata": {},
   "outputs": [],
   "source": []
  },
  {
   "cell_type": "markdown",
   "id": "f0435d13",
   "metadata": {
    "ExecuteTime": {
     "end_time": "2021-07-10T17:40:06.808147Z",
     "start_time": "2021-07-10T17:40:06.800558Z"
    }
   },
   "source": [
    "## 카이제곱 검정\n",
    "- 귀무가설 : 두 변수는 연관성이 없다. 차이가 없다.\n",
    " - => showingOn_count의 증감은 value와 상관성이 없다.\n",
    "- 대립가설 : 두 변수는 연관성이 있다. 차이가 있다.\n",
    " - => showingOn_count의 증감은 value와 상관성이 있다."
   ]
  },
  {
   "cell_type": "code",
   "execution_count": null,
   "id": "cc613f1f",
   "metadata": {
    "ExecuteTime": {
     "end_time": "2021-07-13T06:57:30.737722Z",
     "start_time": "2021-07-13T06:57:30.732404Z"
    }
   },
   "outputs": [],
   "source": [
    "value = list(df_count.VALUE)\n",
    "showingOn_count=list(df_count.showingOn_count)"
   ]
  },
  {
   "cell_type": "code",
   "execution_count": null,
   "id": "3824ce24",
   "metadata": {
    "ExecuteTime": {
     "end_time": "2021-07-13T06:57:30.745859Z",
     "start_time": "2021-07-13T06:57:30.740611Z"
    }
   },
   "outputs": [],
   "source": [
    "chis = stats.chisquare(value,showingOn_count)"
   ]
  },
  {
   "cell_type": "code",
   "execution_count": null,
   "id": "066224dd",
   "metadata": {
    "ExecuteTime": {
     "end_time": "2021-07-13T06:57:30.755080Z",
     "start_time": "2021-07-13T06:57:30.748811Z"
    }
   },
   "outputs": [],
   "source": [
    "statistic, pvalue = chis\n",
    "print(f'static : {statistic}, p-value : {pvalue}')\n",
    "if pvalue < 0.05 :\n",
    "    print('신뢰수준하에서 유의한 관계. 대립가설 채택')\n",
    "else :\n",
    "    print('신뢰수준하에서 무의미한 관계. 귀무가설 채택')"
   ]
  },
  {
   "cell_type": "code",
   "execution_count": null,
   "id": "35545aca",
   "metadata": {
    "ExecuteTime": {
     "end_time": "2021-07-13T06:57:30.762030Z",
     "start_time": "2021-07-13T06:57:30.758206Z"
    }
   },
   "outputs": [],
   "source": [
    "#피어스만 상관계수\n",
    "# corr=stats.pearsonr(df_count.VALUE, df_count.showingOn_count)\n",
    "# corr"
   ]
  },
  {
   "cell_type": "code",
   "execution_count": null,
   "id": "26dae0e6",
   "metadata": {
    "ExecuteTime": {
     "end_time": "2021-07-13T06:57:30.777234Z",
     "start_time": "2021-07-13T06:57:30.764947Z"
    }
   },
   "outputs": [],
   "source": [
    "#스피어만 상관계수\n",
    "corr1=stats.spearmanr(df_count.VALUE, df_count.showingOn_count)\n",
    "corr1"
   ]
  },
  {
   "cell_type": "code",
   "execution_count": null,
   "id": "ae2805bc",
   "metadata": {
    "ExecuteTime": {
     "end_time": "2021-07-13T06:57:30.796079Z",
     "start_time": "2021-07-13T06:57:30.779798Z"
    }
   },
   "outputs": [],
   "source": [
    "df_count.corr(method='spearman')"
   ]
  },
  {
   "cell_type": "code",
   "execution_count": null,
   "id": "fe4d2394",
   "metadata": {
    "ExecuteTime": {
     "end_time": "2021-07-13T06:57:31.087207Z",
     "start_time": "2021-07-13T06:57:30.799314Z"
    }
   },
   "outputs": [],
   "source": [
    "plt.figure(figsize=(10,10))\n",
    "plt.scatter(showingOn_count,value, c='crimson')\n",
    "plt.xlabel('Screening country count')\n",
    "plt.ylabel('value')\n",
    "#plt.axis([0, 40, 0, 20000]) #구간 설정\n",
    "plt.show()"
   ]
  },
  {
   "cell_type": "markdown",
   "id": "ac28ea4f",
   "metadata": {},
   "source": [
    "- 카이 제곱 검정 결과 두 변수들간의 유의수준 0.05에서 showingOn_count의 증감은 value와의 상관성이 있다고 할 수 있다.\n",
    "- 산점도와 상관계수를 확인을 해봤을 때, 양의 상관성이 있다고 볼 수 있다."
   ]
  },
  {
   "cell_type": "markdown",
   "id": "9840d3d2",
   "metadata": {},
   "source": [
    "## country_all과 viewpoint\n",
    "- 귀무가설: 상영국가들은 viewpoint에 영향이 없다.\n",
    "- 대립가설: 상영국가들은 viewpoint에 영향이 있다."
   ]
  },
  {
   "cell_type": "code",
   "execution_count": null,
   "id": "7a249654",
   "metadata": {
    "ExecuteTime": {
     "end_time": "2021-07-13T06:57:31.092565Z",
     "start_time": "2021-07-13T06:57:31.088975Z"
    }
   },
   "outputs": [],
   "source": [
    "df_country=df[['Num','VALUE','country_all']]"
   ]
  },
  {
   "cell_type": "code",
   "execution_count": null,
   "id": "a9f6dc2b",
   "metadata": {
    "ExecuteTime": {
     "end_time": "2021-07-13T06:57:31.101545Z",
     "start_time": "2021-07-13T06:57:31.094482Z"
    }
   },
   "outputs": [],
   "source": [
    "df_country.head(1)"
   ]
  },
  {
   "cell_type": "code",
   "execution_count": null,
   "id": "49390bcd",
   "metadata": {
    "ExecuteTime": {
     "end_time": "2021-07-13T06:57:31.117013Z",
     "start_time": "2021-07-13T06:57:31.104241Z"
    }
   },
   "outputs": [],
   "source": [
    "df_country.info()"
   ]
  },
  {
   "cell_type": "code",
   "execution_count": null,
   "id": "1c6378ea",
   "metadata": {
    "ExecuteTime": {
     "end_time": "2021-07-13T06:57:31.123082Z",
     "start_time": "2021-07-13T06:57:31.119115Z"
    }
   },
   "outputs": [],
   "source": [
    "df_country.sort_values('Num', ascending = True, inplace=True)"
   ]
  },
  {
   "cell_type": "code",
   "execution_count": null,
   "id": "ff9f983e",
   "metadata": {
    "ExecuteTime": {
     "end_time": "2021-07-13T06:57:31.128152Z",
     "start_time": "2021-07-13T06:57:31.125291Z"
    }
   },
   "outputs": [],
   "source": [
    "df_view_top500 = df_country[:][:500]"
   ]
  },
  {
   "cell_type": "markdown",
   "id": "2a74ad77",
   "metadata": {},
   "source": [
    "**# 순위 기준 top500 country들을 country_single로 만듬**"
   ]
  },
  {
   "cell_type": "code",
   "execution_count": null,
   "id": "d1ec66e1",
   "metadata": {
    "ExecuteTime": {
     "end_time": "2021-07-13T06:57:31.141484Z",
     "start_time": "2021-07-13T06:57:31.134160Z"
    }
   },
   "outputs": [],
   "source": [
    "df_view_top500.set_index('Num',inplace=True)"
   ]
  },
  {
   "cell_type": "code",
   "execution_count": null,
   "id": "781eed6e",
   "metadata": {
    "ExecuteTime": {
     "end_time": "2021-07-13T06:57:31.153395Z",
     "start_time": "2021-07-13T06:57:31.144045Z"
    }
   },
   "outputs": [],
   "source": [
    "df_view_top500.head(10)"
   ]
  },
  {
   "cell_type": "markdown",
   "id": "e5c988cc",
   "metadata": {},
   "source": [
    "### 전체 국가수 리스트에서 중복 제거 및 카운트 수 바꾸기"
   ]
  },
  {
   "cell_type": "code",
   "execution_count": null,
   "id": "faf267a4",
   "metadata": {},
   "outputs": [],
   "source": []
  },
  {
   "cell_type": "code",
   "execution_count": null,
   "id": "5e816e1d",
   "metadata": {},
   "outputs": [],
   "source": []
  },
  {
   "cell_type": "code",
   "execution_count": null,
   "id": "54be424f",
   "metadata": {},
   "outputs": [],
   "source": []
  },
  {
   "cell_type": "code",
   "execution_count": null,
   "id": "3299fab4",
   "metadata": {
    "ExecuteTime": {
     "end_time": "2021-07-13T06:57:31.652207Z",
     "start_time": "2021-07-13T06:57:27.661Z"
    }
   },
   "outputs": [],
   "source": [
    "result = result.stack().reset_index(level=1, drop=True).to_frame('country_single')\n",
    "#result = result.stack().to_frame('country_single')\n",
    "result=result.reset_index(drop=False)\n",
    "result"
   ]
  },
  {
   "cell_type": "code",
   "execution_count": null,
   "id": "44db6a0a",
   "metadata": {
    "ExecuteTime": {
     "end_time": "2021-07-13T06:57:31.653294Z",
     "start_time": "2021-07-13T06:57:27.663Z"
    }
   },
   "outputs": [],
   "source": [
    "result = result.drop_duplicates()"
   ]
  },
  {
   "cell_type": "code",
   "execution_count": null,
   "id": "9e394b5c",
   "metadata": {
    "ExecuteTime": {
     "end_time": "2021-07-13T06:57:31.654179Z",
     "start_time": "2021-07-13T06:57:27.665Z"
    }
   },
   "outputs": [],
   "source": [
    "result.head(50)"
   ]
  },
  {
   "cell_type": "code",
   "execution_count": null,
   "id": "89d74c38",
   "metadata": {
    "ExecuteTime": {
     "end_time": "2021-07-13T06:57:31.655312Z",
     "start_time": "2021-07-13T06:57:27.668Z"
    }
   },
   "outputs": [],
   "source": [
    "result.describe()"
   ]
  },
  {
   "cell_type": "code",
   "execution_count": null,
   "id": "660e2872",
   "metadata": {
    "ExecuteTime": {
     "end_time": "2021-07-13T06:57:31.656609Z",
     "start_time": "2021-07-13T06:57:27.670Z"
    }
   },
   "outputs": [],
   "source": [
    "result1 = result.set_index('#')"
   ]
  },
  {
   "cell_type": "code",
   "execution_count": null,
   "id": "be8be2c1",
   "metadata": {
    "ExecuteTime": {
     "end_time": "2021-07-13T06:57:31.657535Z",
     "start_time": "2021-07-13T06:57:27.672Z"
    }
   },
   "outputs": [],
   "source": [
    "result1.head(50)"
   ]
  },
  {
   "cell_type": "code",
   "execution_count": null,
   "id": "126473f7",
   "metadata": {
    "ExecuteTime": {
     "end_time": "2021-07-13T06:57:31.658438Z",
     "start_time": "2021-07-13T06:57:27.674Z"
    }
   },
   "outputs": [],
   "source": [
    "rs = result1.reset_index()"
   ]
  },
  {
   "cell_type": "code",
   "execution_count": null,
   "id": "b86ba80f",
   "metadata": {
    "ExecuteTime": {
     "end_time": "2021-07-13T06:57:31.659434Z",
     "start_time": "2021-07-13T06:57:27.676Z"
    }
   },
   "outputs": [],
   "source": [
    "rs.describe()"
   ]
  },
  {
   "cell_type": "code",
   "execution_count": null,
   "id": "96f3c8f6",
   "metadata": {
    "ExecuteTime": {
     "end_time": "2021-07-13T06:57:31.660476Z",
     "start_time": "2021-07-13T06:57:27.679Z"
    }
   },
   "outputs": [],
   "source": [
    "len(rs['country_single'].unique())  # top500의 상영국가들 종류수"
   ]
  },
  {
   "cell_type": "markdown",
   "id": "ffe00dc5",
   "metadata": {},
   "source": [
    "**전체 상영국가별 카운트 수 확인 및 빈도 수를 워드클라우드로 시각화**"
   ]
  },
  {
   "cell_type": "code",
   "execution_count": null,
   "id": "df0f7204",
   "metadata": {
    "ExecuteTime": {
     "end_time": "2021-07-13T06:57:31.661456Z",
     "start_time": "2021-07-13T06:57:27.710Z"
    }
   },
   "outputs": [],
   "source": [
    "from collections import Counter"
   ]
  },
  {
   "cell_type": "code",
   "execution_count": null,
   "id": "6de83c45",
   "metadata": {
    "ExecuteTime": {
     "end_time": "2021-07-13T06:57:31.662397Z",
     "start_time": "2021-07-13T06:57:27.712Z"
    }
   },
   "outputs": [],
   "source": [
    "df_view = df_country.set_index('VALUE')"
   ]
  },
  {
   "cell_type": "code",
   "execution_count": null,
   "id": "53688cfc",
   "metadata": {
    "ExecuteTime": {
     "end_time": "2021-07-13T06:57:31.663283Z",
     "start_time": "2021-07-13T06:57:27.715Z"
    }
   },
   "outputs": [],
   "source": [
    "# country_all 덮어쓴거 적용하기\n",
    "result_ALL_country = df_view['country_all'].str.split(',')\n",
    "result_ALL_country = result_ALL_country.apply(lambda x: pd.Series(x))\n",
    "result_ALL_country = result_ALL_country.stack().reset_index(level=1, drop=True).to_frame('country_single')\n",
    "result_ALL_country=result_ALL_country.reset_index()"
   ]
  },
  {
   "cell_type": "code",
   "execution_count": null,
   "id": "e20ad1b1",
   "metadata": {
    "ExecuteTime": {
     "end_time": "2021-07-13T06:57:31.664160Z",
     "start_time": "2021-07-13T06:57:27.717Z"
    }
   },
   "outputs": [],
   "source": [
    "country_counter = Counter(result_ALL_country.country_single)"
   ]
  },
  {
   "cell_type": "code",
   "execution_count": null,
   "id": "e7c6a2b9",
   "metadata": {
    "ExecuteTime": {
     "end_time": "2021-07-13T06:57:31.665376Z",
     "start_time": "2021-07-13T06:57:27.719Z"
    }
   },
   "outputs": [],
   "source": [
    "wordcloud = WordCloud(width = 1400, height = 1400, # 단어별 빈도수로 워드 클라우드 작성 \n",
    "                background_color ='lavenderblush',  \n",
    "                min_font_size = 5).generate_from_frequencies(country_counter)"
   ]
  },
  {
   "cell_type": "code",
   "execution_count": null,
   "id": "6dab7a60",
   "metadata": {
    "ExecuteTime": {
     "end_time": "2021-07-13T06:57:31.666288Z",
     "start_time": "2021-07-13T06:57:27.721Z"
    }
   },
   "outputs": [],
   "source": [
    "plt.figure(figsize = (8, 8), facecolor = None) \n",
    "plt.imshow(wordcloud) \n",
    "plt.axis(\"off\") \n",
    "plt.tight_layout(pad = 0) \n",
    "plt.show()"
   ]
  },
  {
   "cell_type": "code",
   "execution_count": null,
   "id": "12bd993f",
   "metadata": {
    "ExecuteTime": {
     "end_time": "2021-07-13T06:57:31.667427Z",
     "start_time": "2021-07-13T06:57:27.723Z"
    }
   },
   "outputs": [],
   "source": [
    "result_ALL_country=df_view['']"
   ]
  },
  {
   "cell_type": "code",
   "execution_count": null,
   "id": "1bce1621",
   "metadata": {},
   "outputs": [],
   "source": []
  },
  {
   "cell_type": "code",
   "execution_count": null,
   "id": "e51a958a",
   "metadata": {
    "ExecuteTime": {
     "end_time": "2021-07-13T06:57:31.668459Z",
     "start_time": "2021-07-13T06:57:27.727Z"
    }
   },
   "outputs": [],
   "source": [
    "import seaborn as sns"
   ]
  },
  {
   "cell_type": "code",
   "execution_count": null,
   "id": "d1172e27",
   "metadata": {},
   "outputs": [],
   "source": []
  },
  {
   "cell_type": "code",
   "execution_count": null,
   "id": "ad87b724",
   "metadata": {},
   "outputs": [],
   "source": []
  },
  {
   "cell_type": "code",
   "execution_count": null,
   "id": "aec74d5b",
   "metadata": {
    "ExecuteTime": {
     "end_time": "2021-07-13T06:57:31.669496Z",
     "start_time": "2021-07-13T06:57:27.732Z"
    }
   },
   "outputs": [],
   "source": [
    "import pandas_profiling"
   ]
  },
  {
   "cell_type": "code",
   "execution_count": null,
   "id": "8435f40e",
   "metadata": {
    "ExecuteTime": {
     "end_time": "2021-07-13T06:57:31.670838Z",
     "start_time": "2021-07-13T06:57:27.734Z"
    }
   },
   "outputs": [],
   "source": [
    "df_count.profile_report()"
   ]
  },
  {
   "cell_type": "markdown",
   "id": "36215581",
   "metadata": {},
   "source": [
    "# 상영 국가들과 viewpoint\n",
    "- 귀무가설 : 상영국가들은 viewpoint에 영향이 없다.\n",
    "- 대립가설 : 상영국가들은 viewpoint에 영향이 있다."
   ]
  },
  {
   "cell_type": "code",
   "execution_count": null,
   "id": "029af75f",
   "metadata": {
    "ExecuteTime": {
     "end_time": "2021-07-13T06:57:31.672076Z",
     "start_time": "2021-07-13T06:57:27.773Z"
    }
   },
   "outputs": [],
   "source": [
    "df_showOn= df[['VALUE','country_all']]"
   ]
  },
  {
   "cell_type": "code",
   "execution_count": null,
   "id": "eb8a2a02",
   "metadata": {
    "ExecuteTime": {
     "end_time": "2021-07-13T06:57:31.673139Z",
     "start_time": "2021-07-13T06:57:27.777Z"
    }
   },
   "outputs": [],
   "source": [
    "df_showOn.head()"
   ]
  },
  {
   "cell_type": "code",
   "execution_count": null,
   "id": "f0a58482",
   "metadata": {
    "ExecuteTime": {
     "end_time": "2021-07-13T06:57:31.674165Z",
     "start_time": "2021-07-13T06:57:27.780Z"
    }
   },
   "outputs": [],
   "source": [
    "df_showOn.info()"
   ]
  },
  {
   "cell_type": "code",
   "execution_count": null,
   "id": "1a8765d7",
   "metadata": {
    "ExecuteTime": {
     "end_time": "2021-07-13T06:57:31.675077Z",
     "start_time": "2021-07-13T06:57:27.783Z"
    }
   },
   "outputs": [],
   "source": [
    "df_showOn.isnull().sum()"
   ]
  },
  {
   "cell_type": "code",
   "execution_count": null,
   "id": "f0990f4b",
   "metadata": {
    "ExecuteTime": {
     "end_time": "2021-07-13T06:57:31.676292Z",
     "start_time": "2021-07-13T06:57:27.787Z"
    }
   },
   "outputs": [],
   "source": [
    "df_showOn.describe"
   ]
  },
  {
   "cell_type": "code",
   "execution_count": null,
   "id": "ca35422c",
   "metadata": {
    "ExecuteTime": {
     "end_time": "2021-07-13T06:57:31.677328Z",
     "start_time": "2021-07-13T06:57:27.792Z"
    }
   },
   "outputs": [],
   "source": [
    "df_showOn.set_index('VALUE',inplace=True)"
   ]
  },
  {
   "cell_type": "code",
   "execution_count": null,
   "id": "e78d3bfe",
   "metadata": {
    "ExecuteTime": {
     "end_time": "2021-07-13T06:57:31.678516Z",
     "start_time": "2021-07-13T06:57:27.795Z"
    }
   },
   "outputs": [],
   "source": [
    "result = df_showOn['country_all'].str.split(',') #리스트화"
   ]
  },
  {
   "cell_type": "code",
   "execution_count": null,
   "id": "2c4431e4",
   "metadata": {
    "ExecuteTime": {
     "end_time": "2021-07-13T06:57:31.679771Z",
     "start_time": "2021-07-13T06:57:27.798Z"
    }
   },
   "outputs": [],
   "source": [
    "result = result.apply(lambda x : pd.Series(x))"
   ]
  },
  {
   "cell_type": "code",
   "execution_count": null,
   "id": "ffd62c0a",
   "metadata": {
    "ExecuteTime": {
     "end_time": "2021-07-13T06:57:31.681046Z",
     "start_time": "2021-07-13T06:57:27.802Z"
    }
   },
   "outputs": [],
   "source": [
    "result.stack()"
   ]
  },
  {
   "cell_type": "code",
   "execution_count": null,
   "id": "58989c54",
   "metadata": {
    "ExecuteTime": {
     "end_time": "2021-07-13T06:57:31.682164Z",
     "start_time": "2021-07-13T06:57:27.805Z"
    }
   },
   "outputs": [],
   "source": [
    "result.stack().reset_index(level=1, drop=True)"
   ]
  },
  {
   "cell_type": "code",
   "execution_count": null,
   "id": "8e965d53",
   "metadata": {
    "ExecuteTime": {
     "end_time": "2021-07-13T06:57:31.683248Z",
     "start_time": "2021-07-13T06:57:27.808Z"
    }
   },
   "outputs": [],
   "source": [
    "result = result.stack().reset_index(level=1, drop=True).to_frame('showOn_single')\n",
    "result"
   ]
  },
  {
   "cell_type": "code",
   "execution_count": null,
   "id": "590544ff",
   "metadata": {
    "ExecuteTime": {
     "end_time": "2021-07-13T06:57:31.684138Z",
     "start_time": "2021-07-13T06:57:27.811Z"
    }
   },
   "outputs": [],
   "source": [
    "rs=result.reset_index()"
   ]
  },
  {
   "cell_type": "code",
   "execution_count": null,
   "id": "f97dac68",
   "metadata": {
    "ExecuteTime": {
     "end_time": "2021-07-13T06:57:31.685077Z",
     "start_time": "2021-07-13T06:57:27.816Z"
    }
   },
   "outputs": [],
   "source": [
    "rs.info()"
   ]
  },
  {
   "cell_type": "code",
   "execution_count": null,
   "id": "b39a1f51",
   "metadata": {
    "ExecuteTime": {
     "end_time": "2021-07-13T06:57:31.686004Z",
     "start_time": "2021-07-13T06:57:27.819Z"
    }
   },
   "outputs": [],
   "source": [
    "len(list(rs.showOn_single.unique()))"
   ]
  },
  {
   "cell_type": "code",
   "execution_count": null,
   "id": "f87a6001",
   "metadata": {
    "ExecuteTime": {
     "end_time": "2021-07-13T06:57:31.686896Z",
     "start_time": "2021-07-13T06:57:27.823Z"
    }
   },
   "outputs": [],
   "source": [
    "from copy import copy\n",
    "exiris = copy(rs)\n",
    "sns.pairplot(exiris, hue=\"showOn_single\")"
   ]
  },
  {
   "cell_type": "code",
   "execution_count": null,
   "id": "267b8a54",
   "metadata": {
    "ExecuteTime": {
     "end_time": "2021-07-13T06:57:31.687969Z",
     "start_time": "2021-07-13T06:57:27.826Z"
    }
   },
   "outputs": [],
   "source": [
    "df_showOn.describe"
   ]
  },
  {
   "cell_type": "code",
   "execution_count": null,
   "id": "a1456dc9",
   "metadata": {
    "ExecuteTime": {
     "end_time": "2021-07-13T06:57:31.688854Z",
     "start_time": "2021-07-13T06:57:27.834Z"
    }
   },
   "outputs": [],
   "source": [
    "rs.head(1)"
   ]
  },
  {
   "cell_type": "code",
   "execution_count": null,
   "id": "0fd86f81",
   "metadata": {
    "ExecuteTime": {
     "end_time": "2021-07-13T06:57:31.690250Z",
     "start_time": "2021-07-13T06:57:27.838Z"
    }
   },
   "outputs": [],
   "source": [
    "top1000_country = rs[:1000]"
   ]
  },
  {
   "cell_type": "code",
   "execution_count": null,
   "id": "6c5ba480",
   "metadata": {
    "ExecuteTime": {
     "end_time": "2021-07-13T06:57:31.691569Z",
     "start_time": "2021-07-13T06:57:27.841Z"
    }
   },
   "outputs": [],
   "source": [
    "from matplotlib import gridspec\n",
    "\n",
    "fig = plt.figure(figsize=(20, 6))\n",
    "gs = gridspec.GridSpec(nrows=1, ncols=2,\n",
    "                       height_ratios=[6], \n",
    "                       width_ratios=[10, 5])\n",
    "\n",
    "ax = plt.subplot(gs[0])\n",
    "\n",
    "sns.barplot(top1000_country.index, top1000_country, ax=ax, palette=\"RdGy\")\n",
    "ax.set_xticklabels(top20_country.index, rotation='90')\n",
    "ax.set_title('Top 20 producing countries', fontsize=15, fontweight='bold')"
   ]
  }
 ],
 "metadata": {
  "hide_input": false,
  "kernelspec": {
   "display_name": "Python TSA",
   "language": "python",
   "name": "tsa"
  },
  "language_info": {
   "codemirror_mode": {
    "name": "ipython",
    "version": 3
   },
   "file_extension": ".py",
   "mimetype": "text/x-python",
   "name": "python",
   "nbconvert_exporter": "python",
   "pygments_lexer": "ipython3",
   "version": "3.9.5"
  },
  "latex_envs": {
   "LaTeX_envs_menu_present": true,
   "autoclose": false,
   "autocomplete": true,
   "bibliofile": "biblio.bib",
   "cite_by": "apalike",
   "current_citInitial": 1,
   "eqLabelWithNumbers": true,
   "eqNumInitial": 1,
   "hotkeys": {
    "equation": "Ctrl-E",
    "itemize": "Ctrl-I"
   },
   "labels_anchors": false,
   "latex_user_defs": false,
   "report_style_numbering": false,
   "user_envs_cfg": false
  },
  "toc": {
   "base_numbering": 1,
   "nav_menu": {},
   "number_sections": true,
   "sideBar": true,
   "skip_h1_title": false,
   "title_cell": "Table of Contents",
   "title_sidebar": "Contents",
   "toc_cell": false,
   "toc_position": {},
   "toc_section_display": true,
   "toc_window_display": false
  },
  "varInspector": {
   "cols": {
    "lenName": 16,
    "lenType": 16,
    "lenVar": 40
   },
   "kernels_config": {
    "python": {
     "delete_cmd_postfix": "",
     "delete_cmd_prefix": "del ",
     "library": "var_list.py",
     "varRefreshCmd": "print(var_dic_list())"
    },
    "r": {
     "delete_cmd_postfix": ") ",
     "delete_cmd_prefix": "rm(",
     "library": "var_list.r",
     "varRefreshCmd": "cat(var_dic_list()) "
    }
   },
   "types_to_exclude": [
    "module",
    "function",
    "builtin_function_or_method",
    "instance",
    "_Feature"
   ],
   "window_display": false
  }
 },
 "nbformat": 4,
 "nbformat_minor": 5
}
