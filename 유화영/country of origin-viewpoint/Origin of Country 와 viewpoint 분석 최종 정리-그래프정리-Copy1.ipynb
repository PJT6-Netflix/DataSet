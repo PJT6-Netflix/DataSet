{
 "cells": [
  {
   "cell_type": "code",
   "execution_count": 1,
   "id": "956f821a",
   "metadata": {
    "ExecuteTime": {
     "end_time": "2021-07-18T05:37:08.900674Z",
     "start_time": "2021-07-18T05:37:06.528137Z"
    }
   },
   "outputs": [],
   "source": [
    "import pandas as pd\n",
    "import numpy as np\n",
    "import pandas_profiling\n",
    "\n",
    "# 데이터 시각화\n",
    "import matplotlib.pyplot as plt\n",
    "import plotly.graph_objects as go\n",
    "import seaborn as sns\n",
    "from wordcloud import WordCloud, STOPWORDS, ImageColorGenerator\n",
    "\n",
    "# 가설검정\n",
    "from scipy import stats\n",
    "\n",
    "# 경고문구 무시\n",
    "import warnings\n",
    "warnings.filterwarnings(\"ignore\")\n",
    "# 자연어 처리\n",
    "# import spacy\n",
    "\n",
    "# 정규화\n",
    "from sklearn.preprocessing import MinMaxScaler\n",
    "\n",
    "#표준화\n",
    "from sklearn import preprocessing\n",
    "from sklearn.preprocessing import StandardScaler\n",
    "\n",
    "# counter\n",
    "from collections import Counter"
   ]
  },
  {
   "cell_type": "markdown",
   "id": "a9674b48",
   "metadata": {},
   "source": [
    "# 데이터 정보 확인"
   ]
  },
  {
   "cell_type": "code",
   "execution_count": 2,
   "id": "00c668c2",
   "metadata": {
    "ExecuteTime": {
     "end_time": "2021-07-18T05:37:08.926235Z",
     "start_time": "2021-07-18T05:37:08.902168Z"
    }
   },
   "outputs": [
    {
     "data": {
      "text/html": [
       "<div>\n",
       "<style scoped>\n",
       "    .dataframe tbody tr th:only-of-type {\n",
       "        vertical-align: middle;\n",
       "    }\n",
       "\n",
       "    .dataframe tbody tr th {\n",
       "        vertical-align: top;\n",
       "    }\n",
       "\n",
       "    .dataframe thead th {\n",
       "        text-align: right;\n",
       "    }\n",
       "</style>\n",
       "<table border=\"1\" class=\"dataframe\">\n",
       "  <thead>\n",
       "    <tr style=\"text-align: right;\">\n",
       "      <th></th>\n",
       "      <th>Num</th>\n",
       "      <th>Title</th>\n",
       "      <th>Value</th>\n",
       "      <th>Series or Movie</th>\n",
       "      <th>originCountry</th>\n",
       "      <th>Genre</th>\n",
       "      <th>country_all</th>\n",
       "      <th>countryCount</th>\n",
       "    </tr>\n",
       "  </thead>\n",
       "  <tbody>\n",
       "    <tr>\n",
       "      <th>0</th>\n",
       "      <td>0</td>\n",
       "      <td>thequeensgambit</td>\n",
       "      <td>44867</td>\n",
       "      <td>TV</td>\n",
       "      <td>United States</td>\n",
       "      <td>Drama</td>\n",
       "      <td>'Argentina', 'Australia', 'Belgium', 'Brazil'...</td>\n",
       "      <td>36</td>\n",
       "    </tr>\n",
       "  </tbody>\n",
       "</table>\n",
       "</div>"
      ],
      "text/plain": [
       "   Num            Title  Value Series or Movie  originCountry  Genre  \\\n",
       "0    0  thequeensgambit  44867              TV  United States  Drama   \n",
       "\n",
       "                                         country_all  countryCount  \n",
       "0   'Argentina', 'Australia', 'Belgium', 'Brazil'...            36  "
      ]
     },
     "execution_count": 2,
     "metadata": {},
     "output_type": "execute_result"
    }
   ],
   "source": [
    "df=pd.read_csv('3.1_original_useDf_0714.csv')\n",
    "df.head(1)"
   ]
  },
  {
   "cell_type": "markdown",
   "id": "ef5c679b",
   "metadata": {
    "ExecuteTime": {
     "end_time": "2021-07-15T00:33:26.344013Z",
     "start_time": "2021-07-15T00:33:26.331551Z"
    }
   },
   "source": [
    "# 결측치 확인\n",
    "df.isnull().sum()"
   ]
  },
  {
   "cell_type": "code",
   "execution_count": 3,
   "id": "224f527e",
   "metadata": {
    "ExecuteTime": {
     "end_time": "2021-07-18T05:37:08.946065Z",
     "start_time": "2021-07-18T05:37:08.928342Z"
    }
   },
   "outputs": [
    {
     "data": {
      "text/html": [
       "<div>\n",
       "<style scoped>\n",
       "    .dataframe tbody tr th:only-of-type {\n",
       "        vertical-align: middle;\n",
       "    }\n",
       "\n",
       "    .dataframe tbody tr th {\n",
       "        vertical-align: top;\n",
       "    }\n",
       "\n",
       "    .dataframe thead th {\n",
       "        text-align: right;\n",
       "    }\n",
       "</style>\n",
       "<table border=\"1\" class=\"dataframe\">\n",
       "  <thead>\n",
       "    <tr style=\"text-align: right;\">\n",
       "      <th></th>\n",
       "      <th>Num</th>\n",
       "      <th>Value</th>\n",
       "      <th>countryCount</th>\n",
       "    </tr>\n",
       "  </thead>\n",
       "  <tbody>\n",
       "    <tr>\n",
       "      <th>count</th>\n",
       "      <td>2960.0</td>\n",
       "      <td>2960.0</td>\n",
       "      <td>2960.0</td>\n",
       "    </tr>\n",
       "    <tr>\n",
       "      <th>mean</th>\n",
       "      <td>1480.0</td>\n",
       "      <td>634.0</td>\n",
       "      <td>16.0</td>\n",
       "    </tr>\n",
       "    <tr>\n",
       "      <th>std</th>\n",
       "      <td>855.0</td>\n",
       "      <td>2202.0</td>\n",
       "      <td>14.0</td>\n",
       "    </tr>\n",
       "    <tr>\n",
       "      <th>min</th>\n",
       "      <td>0.0</td>\n",
       "      <td>1.0</td>\n",
       "      <td>1.0</td>\n",
       "    </tr>\n",
       "    <tr>\n",
       "      <th>25%</th>\n",
       "      <td>740.0</td>\n",
       "      <td>22.0</td>\n",
       "      <td>3.0</td>\n",
       "    </tr>\n",
       "    <tr>\n",
       "      <th>50%</th>\n",
       "      <td>1480.0</td>\n",
       "      <td>80.0</td>\n",
       "      <td>10.0</td>\n",
       "    </tr>\n",
       "    <tr>\n",
       "      <th>75%</th>\n",
       "      <td>2219.0</td>\n",
       "      <td>321.0</td>\n",
       "      <td>35.0</td>\n",
       "    </tr>\n",
       "    <tr>\n",
       "      <th>max</th>\n",
       "      <td>2959.0</td>\n",
       "      <td>44867.0</td>\n",
       "      <td>37.0</td>\n",
       "    </tr>\n",
       "  </tbody>\n",
       "</table>\n",
       "</div>"
      ],
      "text/plain": [
       "          Num    Value  countryCount\n",
       "count  2960.0   2960.0        2960.0\n",
       "mean   1480.0    634.0          16.0\n",
       "std     855.0   2202.0          14.0\n",
       "min       0.0      1.0           1.0\n",
       "25%     740.0     22.0           3.0\n",
       "50%    1480.0     80.0          10.0\n",
       "75%    2219.0    321.0          35.0\n",
       "max    2959.0  44867.0          37.0"
      ]
     },
     "execution_count": 3,
     "metadata": {},
     "output_type": "execute_result"
    }
   ],
   "source": [
    "df.describe().round()"
   ]
  },
  {
   "cell_type": "markdown",
   "id": "a3b2c994",
   "metadata": {},
   "source": [
    "# viewpoint 정규화 "
   ]
  },
  {
   "cell_type": "markdown",
   "id": "757c1059",
   "metadata": {},
   "source": [
    "## min-max 정규화 "
   ]
  },
  {
   "cell_type": "code",
   "execution_count": 4,
   "id": "05d2c30a",
   "metadata": {
    "ExecuteTime": {
     "end_time": "2021-07-18T05:37:08.960277Z",
     "start_time": "2021-07-18T05:37:08.947962Z"
    }
   },
   "outputs": [
    {
     "data": {
      "text/html": [
       "<div>\n",
       "<style scoped>\n",
       "    .dataframe tbody tr th:only-of-type {\n",
       "        vertical-align: middle;\n",
       "    }\n",
       "\n",
       "    .dataframe tbody tr th {\n",
       "        vertical-align: top;\n",
       "    }\n",
       "\n",
       "    .dataframe thead th {\n",
       "        text-align: right;\n",
       "    }\n",
       "</style>\n",
       "<table border=\"1\" class=\"dataframe\">\n",
       "  <thead>\n",
       "    <tr style=\"text-align: right;\">\n",
       "      <th></th>\n",
       "      <th>Num</th>\n",
       "      <th>Title</th>\n",
       "      <th>Value</th>\n",
       "      <th>Series or Movie</th>\n",
       "      <th>originCountry</th>\n",
       "      <th>Genre</th>\n",
       "      <th>country_all</th>\n",
       "      <th>countryCount</th>\n",
       "      <th>Value_std</th>\n",
       "      <th>countryCount_std</th>\n",
       "    </tr>\n",
       "  </thead>\n",
       "  <tbody>\n",
       "    <tr>\n",
       "      <th>0</th>\n",
       "      <td>0</td>\n",
       "      <td>thequeensgambit</td>\n",
       "      <td>44867</td>\n",
       "      <td>TV</td>\n",
       "      <td>United States</td>\n",
       "      <td>Drama</td>\n",
       "      <td>'Argentina', 'Australia', 'Belgium', 'Brazil'...</td>\n",
       "      <td>36</td>\n",
       "      <td>1.0</td>\n",
       "      <td>0.972222</td>\n",
       "    </tr>\n",
       "  </tbody>\n",
       "</table>\n",
       "</div>"
      ],
      "text/plain": [
       "   Num            Title  Value Series or Movie  originCountry  Genre  \\\n",
       "0    0  thequeensgambit  44867              TV  United States  Drama   \n",
       "\n",
       "                                         country_all  countryCount  Value_std  \\\n",
       "0   'Argentina', 'Australia', 'Belgium', 'Brazil'...            36        1.0   \n",
       "\n",
       "   countryCount_std  \n",
       "0          0.972222  "
      ]
     },
     "execution_count": 4,
     "metadata": {},
     "output_type": "execute_result"
    }
   ],
   "source": [
    "min_max_scaler = MinMaxScaler()\n",
    "value = df[['Value','countryCount']].values\n",
    "\n",
    "#df['Value_std'] = min_max_scaler.fit_transform(value.reshape(-1,1))\n",
    "df[['Value_std','countryCount_std']] = min_max_scaler.fit_transform(value)\n",
    "\n",
    "df.head(1)"
   ]
  },
  {
   "cell_type": "code",
   "execution_count": 5,
   "id": "7a35cb48",
   "metadata": {
    "ExecuteTime": {
     "end_time": "2021-07-18T05:37:08.981161Z",
     "start_time": "2021-07-18T05:37:08.961888Z"
    }
   },
   "outputs": [
    {
     "data": {
      "text/html": [
       "<div>\n",
       "<style scoped>\n",
       "    .dataframe tbody tr th:only-of-type {\n",
       "        vertical-align: middle;\n",
       "    }\n",
       "\n",
       "    .dataframe tbody tr th {\n",
       "        vertical-align: top;\n",
       "    }\n",
       "\n",
       "    .dataframe thead th {\n",
       "        text-align: right;\n",
       "    }\n",
       "</style>\n",
       "<table border=\"1\" class=\"dataframe\">\n",
       "  <thead>\n",
       "    <tr style=\"text-align: right;\">\n",
       "      <th></th>\n",
       "      <th>Num</th>\n",
       "      <th>Value</th>\n",
       "      <th>countryCount</th>\n",
       "      <th>Value_std</th>\n",
       "      <th>countryCount_std</th>\n",
       "    </tr>\n",
       "  </thead>\n",
       "  <tbody>\n",
       "    <tr>\n",
       "      <th>count</th>\n",
       "      <td>2960.000000</td>\n",
       "      <td>2960.000000</td>\n",
       "      <td>2960.000000</td>\n",
       "      <td>2960.000000</td>\n",
       "      <td>2960.000000</td>\n",
       "    </tr>\n",
       "    <tr>\n",
       "      <th>mean</th>\n",
       "      <td>1479.500000</td>\n",
       "      <td>633.733446</td>\n",
       "      <td>16.180405</td>\n",
       "      <td>0.014103</td>\n",
       "      <td>0.421678</td>\n",
       "    </tr>\n",
       "    <tr>\n",
       "      <th>std</th>\n",
       "      <td>854.622724</td>\n",
       "      <td>2202.145547</td>\n",
       "      <td>14.071531</td>\n",
       "      <td>0.049083</td>\n",
       "      <td>0.390876</td>\n",
       "    </tr>\n",
       "    <tr>\n",
       "      <th>min</th>\n",
       "      <td>0.000000</td>\n",
       "      <td>1.000000</td>\n",
       "      <td>1.000000</td>\n",
       "      <td>0.000000</td>\n",
       "      <td>0.000000</td>\n",
       "    </tr>\n",
       "    <tr>\n",
       "      <th>25%</th>\n",
       "      <td>739.750000</td>\n",
       "      <td>22.000000</td>\n",
       "      <td>3.000000</td>\n",
       "      <td>0.000468</td>\n",
       "      <td>0.055556</td>\n",
       "    </tr>\n",
       "    <tr>\n",
       "      <th>50%</th>\n",
       "      <td>1479.500000</td>\n",
       "      <td>80.000000</td>\n",
       "      <td>10.000000</td>\n",
       "      <td>0.001761</td>\n",
       "      <td>0.250000</td>\n",
       "    </tr>\n",
       "    <tr>\n",
       "      <th>75%</th>\n",
       "      <td>2219.250000</td>\n",
       "      <td>321.000000</td>\n",
       "      <td>35.000000</td>\n",
       "      <td>0.007132</td>\n",
       "      <td>0.944444</td>\n",
       "    </tr>\n",
       "    <tr>\n",
       "      <th>max</th>\n",
       "      <td>2959.000000</td>\n",
       "      <td>44867.000000</td>\n",
       "      <td>37.000000</td>\n",
       "      <td>1.000000</td>\n",
       "      <td>1.000000</td>\n",
       "    </tr>\n",
       "  </tbody>\n",
       "</table>\n",
       "</div>"
      ],
      "text/plain": [
       "               Num         Value  countryCount    Value_std  countryCount_std\n",
       "count  2960.000000   2960.000000   2960.000000  2960.000000       2960.000000\n",
       "mean   1479.500000    633.733446     16.180405     0.014103          0.421678\n",
       "std     854.622724   2202.145547     14.071531     0.049083          0.390876\n",
       "min       0.000000      1.000000      1.000000     0.000000          0.000000\n",
       "25%     739.750000     22.000000      3.000000     0.000468          0.055556\n",
       "50%    1479.500000     80.000000     10.000000     0.001761          0.250000\n",
       "75%    2219.250000    321.000000     35.000000     0.007132          0.944444\n",
       "max    2959.000000  44867.000000     37.000000     1.000000          1.000000"
      ]
     },
     "execution_count": 5,
     "metadata": {},
     "output_type": "execute_result"
    }
   ],
   "source": [
    "df.describe()"
   ]
  },
  {
   "cell_type": "markdown",
   "id": "362aa8c4",
   "metadata": {},
   "source": [
    "## 표준화 실시"
   ]
  },
  {
   "cell_type": "code",
   "execution_count": 6,
   "id": "e412a997",
   "metadata": {
    "ExecuteTime": {
     "end_time": "2021-07-18T05:37:08.999620Z",
     "start_time": "2021-07-18T05:37:08.983342Z"
    }
   },
   "outputs": [
    {
     "data": {
      "text/html": [
       "<div>\n",
       "<style scoped>\n",
       "    .dataframe tbody tr th:only-of-type {\n",
       "        vertical-align: middle;\n",
       "    }\n",
       "\n",
       "    .dataframe tbody tr th {\n",
       "        vertical-align: top;\n",
       "    }\n",
       "\n",
       "    .dataframe thead th {\n",
       "        text-align: right;\n",
       "    }\n",
       "</style>\n",
       "<table border=\"1\" class=\"dataframe\">\n",
       "  <thead>\n",
       "    <tr style=\"text-align: right;\">\n",
       "      <th></th>\n",
       "      <th>Num</th>\n",
       "      <th>Title</th>\n",
       "      <th>Value</th>\n",
       "      <th>Series or Movie</th>\n",
       "      <th>originCountry</th>\n",
       "      <th>Genre</th>\n",
       "      <th>country_all</th>\n",
       "      <th>countryCount</th>\n",
       "      <th>Value_std</th>\n",
       "      <th>countryCount_std</th>\n",
       "      <th>Value_norm</th>\n",
       "      <th>countryCount_norm</th>\n",
       "    </tr>\n",
       "  </thead>\n",
       "  <tbody>\n",
       "    <tr>\n",
       "      <th>0</th>\n",
       "      <td>0</td>\n",
       "      <td>thequeensgambit</td>\n",
       "      <td>44867</td>\n",
       "      <td>TV</td>\n",
       "      <td>United States</td>\n",
       "      <td>Drama</td>\n",
       "      <td>'Argentina', 'Australia', 'Belgium', 'Brazil'...</td>\n",
       "      <td>36</td>\n",
       "      <td>1.0</td>\n",
       "      <td>0.972222</td>\n",
       "      <td>20.089835</td>\n",
       "      <td>1.408727</td>\n",
       "    </tr>\n",
       "  </tbody>\n",
       "</table>\n",
       "</div>"
      ],
      "text/plain": [
       "   Num            Title  Value Series or Movie  originCountry  Genre  \\\n",
       "0    0  thequeensgambit  44867              TV  United States  Drama   \n",
       "\n",
       "                                         country_all  countryCount  Value_std  \\\n",
       "0   'Argentina', 'Australia', 'Belgium', 'Brazil'...            36        1.0   \n",
       "\n",
       "   countryCount_std  Value_norm  countryCount_norm  \n",
       "0          0.972222   20.089835           1.408727  "
      ]
     },
     "execution_count": 6,
     "metadata": {},
     "output_type": "execute_result"
    }
   ],
   "source": [
    "scaler = StandardScaler()\n",
    "value2=df[['Value_std','countryCount_std']].values\n",
    "\n",
    "df[['Value_norm','countryCount_norm']] = scaler.fit_transform(value2)\n",
    "\n",
    "df.head(1)"
   ]
  },
  {
   "cell_type": "code",
   "execution_count": 7,
   "id": "90c6c8be",
   "metadata": {
    "ExecuteTime": {
     "end_time": "2021-07-18T05:37:09.025815Z",
     "start_time": "2021-07-18T05:37:09.001538Z"
    }
   },
   "outputs": [
    {
     "data": {
      "text/html": [
       "<div>\n",
       "<style scoped>\n",
       "    .dataframe tbody tr th:only-of-type {\n",
       "        vertical-align: middle;\n",
       "    }\n",
       "\n",
       "    .dataframe tbody tr th {\n",
       "        vertical-align: top;\n",
       "    }\n",
       "\n",
       "    .dataframe thead th {\n",
       "        text-align: right;\n",
       "    }\n",
       "</style>\n",
       "<table border=\"1\" class=\"dataframe\">\n",
       "  <thead>\n",
       "    <tr style=\"text-align: right;\">\n",
       "      <th></th>\n",
       "      <th>Num</th>\n",
       "      <th>Value</th>\n",
       "      <th>countryCount</th>\n",
       "      <th>Value_std</th>\n",
       "      <th>countryCount_std</th>\n",
       "      <th>Value_norm</th>\n",
       "      <th>countryCount_norm</th>\n",
       "    </tr>\n",
       "  </thead>\n",
       "  <tbody>\n",
       "    <tr>\n",
       "      <th>count</th>\n",
       "      <td>2960.000000</td>\n",
       "      <td>2960.000000</td>\n",
       "      <td>2960.000000</td>\n",
       "      <td>2960.000000</td>\n",
       "      <td>2960.000000</td>\n",
       "      <td>2.960000e+03</td>\n",
       "      <td>2.960000e+03</td>\n",
       "    </tr>\n",
       "    <tr>\n",
       "      <th>mean</th>\n",
       "      <td>1479.500000</td>\n",
       "      <td>633.733446</td>\n",
       "      <td>16.180405</td>\n",
       "      <td>0.014103</td>\n",
       "      <td>0.421678</td>\n",
       "      <td>9.493907e-16</td>\n",
       "      <td>3.143131e-16</td>\n",
       "    </tr>\n",
       "    <tr>\n",
       "      <th>std</th>\n",
       "      <td>854.622724</td>\n",
       "      <td>2202.145547</td>\n",
       "      <td>14.071531</td>\n",
       "      <td>0.049083</td>\n",
       "      <td>0.390876</td>\n",
       "      <td>1.000169e+00</td>\n",
       "      <td>1.000169e+00</td>\n",
       "    </tr>\n",
       "    <tr>\n",
       "      <th>min</th>\n",
       "      <td>0.000000</td>\n",
       "      <td>1.000000</td>\n",
       "      <td>1.000000</td>\n",
       "      <td>0.000000</td>\n",
       "      <td>0.000000</td>\n",
       "      <td>-2.873744e-01</td>\n",
       "      <td>-1.078985e+00</td>\n",
       "    </tr>\n",
       "    <tr>\n",
       "      <th>25%</th>\n",
       "      <td>739.750000</td>\n",
       "      <td>22.000000</td>\n",
       "      <td>3.000000</td>\n",
       "      <td>0.000468</td>\n",
       "      <td>0.055556</td>\n",
       "      <td>-2.778367e-01</td>\n",
       "      <td>-9.368300e-01</td>\n",
       "    </tr>\n",
       "    <tr>\n",
       "      <th>50%</th>\n",
       "      <td>1479.500000</td>\n",
       "      <td>80.000000</td>\n",
       "      <td>10.000000</td>\n",
       "      <td>0.001761</td>\n",
       "      <td>0.250000</td>\n",
       "      <td>-2.514943e-01</td>\n",
       "      <td>-4.392876e-01</td>\n",
       "    </tr>\n",
       "    <tr>\n",
       "      <th>75%</th>\n",
       "      <td>2219.250000</td>\n",
       "      <td>321.000000</td>\n",
       "      <td>35.000000</td>\n",
       "      <td>0.007132</td>\n",
       "      <td>0.944444</td>\n",
       "      <td>-1.420371e-01</td>\n",
       "      <td>1.337649e+00</td>\n",
       "    </tr>\n",
       "    <tr>\n",
       "      <th>max</th>\n",
       "      <td>2959.000000</td>\n",
       "      <td>44867.000000</td>\n",
       "      <td>37.000000</td>\n",
       "      <td>1.000000</td>\n",
       "      <td>1.000000</td>\n",
       "      <td>2.008983e+01</td>\n",
       "      <td>1.479804e+00</td>\n",
       "    </tr>\n",
       "  </tbody>\n",
       "</table>\n",
       "</div>"
      ],
      "text/plain": [
       "               Num         Value  countryCount    Value_std  countryCount_std  \\\n",
       "count  2960.000000   2960.000000   2960.000000  2960.000000       2960.000000   \n",
       "mean   1479.500000    633.733446     16.180405     0.014103          0.421678   \n",
       "std     854.622724   2202.145547     14.071531     0.049083          0.390876   \n",
       "min       0.000000      1.000000      1.000000     0.000000          0.000000   \n",
       "25%     739.750000     22.000000      3.000000     0.000468          0.055556   \n",
       "50%    1479.500000     80.000000     10.000000     0.001761          0.250000   \n",
       "75%    2219.250000    321.000000     35.000000     0.007132          0.944444   \n",
       "max    2959.000000  44867.000000     37.000000     1.000000          1.000000   \n",
       "\n",
       "         Value_norm  countryCount_norm  \n",
       "count  2.960000e+03       2.960000e+03  \n",
       "mean   9.493907e-16       3.143131e-16  \n",
       "std    1.000169e+00       1.000169e+00  \n",
       "min   -2.873744e-01      -1.078985e+00  \n",
       "25%   -2.778367e-01      -9.368300e-01  \n",
       "50%   -2.514943e-01      -4.392876e-01  \n",
       "75%   -1.420371e-01       1.337649e+00  \n",
       "max    2.008983e+01       1.479804e+00  "
      ]
     },
     "execution_count": 7,
     "metadata": {},
     "output_type": "execute_result"
    }
   ],
   "source": [
    "df.describe()"
   ]
  },
  {
   "cell_type": "markdown",
   "id": "90f42310",
   "metadata": {},
   "source": [
    "# kind of producing countries 와 viewpoint"
   ]
  },
  {
   "cell_type": "markdown",
   "id": "73b9c45c",
   "metadata": {},
   "source": [
    "## df_country"
   ]
  },
  {
   "cell_type": "code",
   "execution_count": 8,
   "id": "59aca2a5",
   "metadata": {
    "ExecuteTime": {
     "end_time": "2021-07-18T05:37:09.031783Z",
     "start_time": "2021-07-18T05:37:09.028946Z"
    }
   },
   "outputs": [],
   "source": [
    "df_country = df[['Value','originCountry']]"
   ]
  },
  {
   "cell_type": "code",
   "execution_count": 9,
   "id": "0d999cc2",
   "metadata": {
    "ExecuteTime": {
     "end_time": "2021-07-18T05:37:09.039305Z",
     "start_time": "2021-07-18T05:37:09.034402Z"
    }
   },
   "outputs": [
    {
     "data": {
      "text/html": [
       "<div>\n",
       "<style scoped>\n",
       "    .dataframe tbody tr th:only-of-type {\n",
       "        vertical-align: middle;\n",
       "    }\n",
       "\n",
       "    .dataframe tbody tr th {\n",
       "        vertical-align: top;\n",
       "    }\n",
       "\n",
       "    .dataframe thead th {\n",
       "        text-align: right;\n",
       "    }\n",
       "</style>\n",
       "<table border=\"1\" class=\"dataframe\">\n",
       "  <thead>\n",
       "    <tr style=\"text-align: right;\">\n",
       "      <th></th>\n",
       "      <th>Value</th>\n",
       "      <th>originCountry</th>\n",
       "    </tr>\n",
       "  </thead>\n",
       "  <tbody>\n",
       "    <tr>\n",
       "      <th>0</th>\n",
       "      <td>44867</td>\n",
       "      <td>United States</td>\n",
       "    </tr>\n",
       "  </tbody>\n",
       "</table>\n",
       "</div>"
      ],
      "text/plain": [
       "   Value  originCountry\n",
       "0  44867  United States"
      ]
     },
     "execution_count": 9,
     "metadata": {},
     "output_type": "execute_result"
    }
   ],
   "source": [
    "df_country.head(1)"
   ]
  },
  {
   "cell_type": "markdown",
   "id": "c7094370",
   "metadata": {},
   "source": [
    "## null값 확인 및 제거 "
   ]
  },
  {
   "cell_type": "code",
   "execution_count": 10,
   "id": "5a372ab3",
   "metadata": {
    "ExecuteTime": {
     "end_time": "2021-07-18T05:37:09.045909Z",
     "start_time": "2021-07-18T05:37:09.041110Z"
    }
   },
   "outputs": [
    {
     "data": {
      "text/plain": [
       "Value              0\n",
       "originCountry    206\n",
       "dtype: int64"
      ]
     },
     "execution_count": 10,
     "metadata": {},
     "output_type": "execute_result"
    }
   ],
   "source": [
    "df_country.isnull().sum()"
   ]
  },
  {
   "cell_type": "code",
   "execution_count": 11,
   "id": "724caf5e",
   "metadata": {
    "ExecuteTime": {
     "end_time": "2021-07-18T05:37:09.053946Z",
     "start_time": "2021-07-18T05:37:09.047282Z"
    }
   },
   "outputs": [],
   "source": [
    "df_country = df_country.dropna(subset=['originCountry'])\n",
    "df_country=df_country.reset_index()"
   ]
  },
  {
   "cell_type": "code",
   "execution_count": 12,
   "id": "299cb6c3",
   "metadata": {
    "ExecuteTime": {
     "end_time": "2021-07-18T05:37:09.064717Z",
     "start_time": "2021-07-18T05:37:09.056055Z"
    }
   },
   "outputs": [
    {
     "data": {
      "text/html": [
       "<div>\n",
       "<style scoped>\n",
       "    .dataframe tbody tr th:only-of-type {\n",
       "        vertical-align: middle;\n",
       "    }\n",
       "\n",
       "    .dataframe tbody tr th {\n",
       "        vertical-align: top;\n",
       "    }\n",
       "\n",
       "    .dataframe thead th {\n",
       "        text-align: right;\n",
       "    }\n",
       "</style>\n",
       "<table border=\"1\" class=\"dataframe\">\n",
       "  <thead>\n",
       "    <tr style=\"text-align: right;\">\n",
       "      <th></th>\n",
       "      <th>index</th>\n",
       "      <th>Value</th>\n",
       "      <th>originCountry</th>\n",
       "    </tr>\n",
       "  </thead>\n",
       "  <tbody>\n",
       "    <tr>\n",
       "      <th>2749</th>\n",
       "      <td>2955</td>\n",
       "      <td>1</td>\n",
       "      <td>United States</td>\n",
       "    </tr>\n",
       "    <tr>\n",
       "      <th>2750</th>\n",
       "      <td>2956</td>\n",
       "      <td>1</td>\n",
       "      <td>United States</td>\n",
       "    </tr>\n",
       "    <tr>\n",
       "      <th>2751</th>\n",
       "      <td>2957</td>\n",
       "      <td>1</td>\n",
       "      <td>United States</td>\n",
       "    </tr>\n",
       "    <tr>\n",
       "      <th>2752</th>\n",
       "      <td>2958</td>\n",
       "      <td>1</td>\n",
       "      <td>United States</td>\n",
       "    </tr>\n",
       "    <tr>\n",
       "      <th>2753</th>\n",
       "      <td>2959</td>\n",
       "      <td>1</td>\n",
       "      <td>United States</td>\n",
       "    </tr>\n",
       "  </tbody>\n",
       "</table>\n",
       "</div>"
      ],
      "text/plain": [
       "      index  Value  originCountry\n",
       "2749   2955      1  United States\n",
       "2750   2956      1  United States\n",
       "2751   2957      1  United States\n",
       "2752   2958      1  United States\n",
       "2753   2959      1  United States"
      ]
     },
     "execution_count": 12,
     "metadata": {},
     "output_type": "execute_result"
    }
   ],
   "source": [
    "df_country.tail(5)"
   ]
  },
  {
   "cell_type": "code",
   "execution_count": 13,
   "id": "7939e45c",
   "metadata": {
    "ExecuteTime": {
     "end_time": "2021-07-18T05:37:09.078943Z",
     "start_time": "2021-07-18T05:37:09.067111Z"
    }
   },
   "outputs": [
    {
     "data": {
      "text/html": [
       "<div>\n",
       "<style scoped>\n",
       "    .dataframe tbody tr th:only-of-type {\n",
       "        vertical-align: middle;\n",
       "    }\n",
       "\n",
       "    .dataframe tbody tr th {\n",
       "        vertical-align: top;\n",
       "    }\n",
       "\n",
       "    .dataframe thead th {\n",
       "        text-align: right;\n",
       "    }\n",
       "</style>\n",
       "<table border=\"1\" class=\"dataframe\">\n",
       "  <thead>\n",
       "    <tr style=\"text-align: right;\">\n",
       "      <th></th>\n",
       "      <th>Value</th>\n",
       "      <th>originCountry</th>\n",
       "    </tr>\n",
       "  </thead>\n",
       "  <tbody>\n",
       "    <tr>\n",
       "      <th>0</th>\n",
       "      <td>44867</td>\n",
       "      <td>United States</td>\n",
       "    </tr>\n",
       "    <tr>\n",
       "      <th>1</th>\n",
       "      <td>42149</td>\n",
       "      <td>Poland</td>\n",
       "    </tr>\n",
       "    <tr>\n",
       "      <th>2</th>\n",
       "      <td>27138</td>\n",
       "      <td>United States</td>\n",
       "    </tr>\n",
       "    <tr>\n",
       "      <th>3</th>\n",
       "      <td>25729</td>\n",
       "      <td>United States</td>\n",
       "    </tr>\n",
       "    <tr>\n",
       "      <th>4</th>\n",
       "      <td>23480</td>\n",
       "      <td>United States</td>\n",
       "    </tr>\n",
       "    <tr>\n",
       "      <th>...</th>\n",
       "      <td>...</td>\n",
       "      <td>...</td>\n",
       "    </tr>\n",
       "    <tr>\n",
       "      <th>2749</th>\n",
       "      <td>1</td>\n",
       "      <td>United States</td>\n",
       "    </tr>\n",
       "    <tr>\n",
       "      <th>2750</th>\n",
       "      <td>1</td>\n",
       "      <td>United States</td>\n",
       "    </tr>\n",
       "    <tr>\n",
       "      <th>2751</th>\n",
       "      <td>1</td>\n",
       "      <td>United States</td>\n",
       "    </tr>\n",
       "    <tr>\n",
       "      <th>2752</th>\n",
       "      <td>1</td>\n",
       "      <td>United States</td>\n",
       "    </tr>\n",
       "    <tr>\n",
       "      <th>2753</th>\n",
       "      <td>1</td>\n",
       "      <td>United States</td>\n",
       "    </tr>\n",
       "  </tbody>\n",
       "</table>\n",
       "<p>2754 rows × 2 columns</p>\n",
       "</div>"
      ],
      "text/plain": [
       "      Value  originCountry\n",
       "0     44867  United States\n",
       "1     42149         Poland\n",
       "2     27138  United States\n",
       "3     25729  United States\n",
       "4     23480  United States\n",
       "...     ...            ...\n",
       "2749      1  United States\n",
       "2750      1  United States\n",
       "2751      1  United States\n",
       "2752      1  United States\n",
       "2753      1  United States\n",
       "\n",
       "[2754 rows x 2 columns]"
      ]
     },
     "execution_count": 13,
     "metadata": {},
     "output_type": "execute_result"
    }
   ],
   "source": [
    "# 컬럼값 변경\n",
    "df_country=df_country[['Value','originCountry']]\n",
    "df_country"
   ]
  },
  {
   "cell_type": "code",
   "execution_count": 14,
   "id": "6dd66cb4",
   "metadata": {
    "ExecuteTime": {
     "end_time": "2021-07-18T05:37:09.088274Z",
     "start_time": "2021-07-18T05:37:09.081234Z"
    }
   },
   "outputs": [
    {
     "data": {
      "text/plain": [
       "Value            0\n",
       "originCountry    0\n",
       "dtype: int64"
      ]
     },
     "execution_count": 14,
     "metadata": {},
     "output_type": "execute_result"
    }
   ],
   "source": [
    "# 결측치 확인\n",
    "df_country.isnull().sum()"
   ]
  },
  {
   "cell_type": "markdown",
   "id": "16dec16e",
   "metadata": {},
   "source": [
    "# Which country produces the most Contents?"
   ]
  },
  {
   "cell_type": "markdown",
   "id": "0b4ec4a9",
   "metadata": {},
   "source": [
    "## 2020 넷플릭스 컨텐츠 인기순위 생산국가 (종합) "
   ]
  },
  {
   "cell_type": "code",
   "execution_count": 15,
   "id": "c79b171e",
   "metadata": {
    "ExecuteTime": {
     "end_time": "2021-07-18T05:37:09.100172Z",
     "start_time": "2021-07-18T05:37:09.090741Z"
    }
   },
   "outputs": [
    {
     "data": {
      "text/html": [
       "<div>\n",
       "<style scoped>\n",
       "    .dataframe tbody tr th:only-of-type {\n",
       "        vertical-align: middle;\n",
       "    }\n",
       "\n",
       "    .dataframe tbody tr th {\n",
       "        vertical-align: top;\n",
       "    }\n",
       "\n",
       "    .dataframe thead th {\n",
       "        text-align: right;\n",
       "    }\n",
       "</style>\n",
       "<table border=\"1\" class=\"dataframe\">\n",
       "  <thead>\n",
       "    <tr style=\"text-align: right;\">\n",
       "      <th></th>\n",
       "      <th>Value</th>\n",
       "      <th>originCountry</th>\n",
       "    </tr>\n",
       "  </thead>\n",
       "  <tbody>\n",
       "    <tr>\n",
       "      <th>0</th>\n",
       "      <td>44867</td>\n",
       "      <td>United States</td>\n",
       "    </tr>\n",
       "    <tr>\n",
       "      <th>1</th>\n",
       "      <td>42149</td>\n",
       "      <td>Poland</td>\n",
       "    </tr>\n",
       "    <tr>\n",
       "      <th>2</th>\n",
       "      <td>27138</td>\n",
       "      <td>United States</td>\n",
       "    </tr>\n",
       "    <tr>\n",
       "      <th>3</th>\n",
       "      <td>25729</td>\n",
       "      <td>United States</td>\n",
       "    </tr>\n",
       "    <tr>\n",
       "      <th>4</th>\n",
       "      <td>23480</td>\n",
       "      <td>United States</td>\n",
       "    </tr>\n",
       "    <tr>\n",
       "      <th>...</th>\n",
       "      <td>...</td>\n",
       "      <td>...</td>\n",
       "    </tr>\n",
       "    <tr>\n",
       "      <th>2749</th>\n",
       "      <td>1</td>\n",
       "      <td>United States</td>\n",
       "    </tr>\n",
       "    <tr>\n",
       "      <th>2750</th>\n",
       "      <td>1</td>\n",
       "      <td>United States</td>\n",
       "    </tr>\n",
       "    <tr>\n",
       "      <th>2751</th>\n",
       "      <td>1</td>\n",
       "      <td>United States</td>\n",
       "    </tr>\n",
       "    <tr>\n",
       "      <th>2752</th>\n",
       "      <td>1</td>\n",
       "      <td>United States</td>\n",
       "    </tr>\n",
       "    <tr>\n",
       "      <th>2753</th>\n",
       "      <td>1</td>\n",
       "      <td>United States</td>\n",
       "    </tr>\n",
       "  </tbody>\n",
       "</table>\n",
       "<p>2754 rows × 2 columns</p>\n",
       "</div>"
      ],
      "text/plain": [
       "      Value  originCountry\n",
       "0     44867  United States\n",
       "1     42149         Poland\n",
       "2     27138  United States\n",
       "3     25729  United States\n",
       "4     23480  United States\n",
       "...     ...            ...\n",
       "2749      1  United States\n",
       "2750      1  United States\n",
       "2751      1  United States\n",
       "2752      1  United States\n",
       "2753      1  United States\n",
       "\n",
       "[2754 rows x 2 columns]"
      ]
     },
     "execution_count": 15,
     "metadata": {},
     "output_type": "execute_result"
    }
   ],
   "source": [
    "view_all = df_country\n",
    "view_all"
   ]
  },
  {
   "cell_type": "markdown",
   "id": "a1cfcafa",
   "metadata": {},
   "source": [
    "### 생산 국가별 영화 제작 수"
   ]
  },
  {
   "cell_type": "markdown",
   "id": "782a9453",
   "metadata": {},
   "source": [
    "#### conter_viewAll 변수 생성"
   ]
  },
  {
   "cell_type": "code",
   "execution_count": 16,
   "id": "e6190956",
   "metadata": {
    "ExecuteTime": {
     "end_time": "2021-07-18T05:37:09.108618Z",
     "start_time": "2021-07-18T05:37:09.102116Z"
    },
    "code_folding": []
   },
   "outputs": [
    {
     "data": {
      "text/plain": [
       "United States         1569\n",
       "United Kingdom         177\n",
       "Japan                  126\n",
       "South Korea            109\n",
       "India                   82\n",
       "                      ... \n",
       "Dominican Republic       1\n",
       "Croatia                  1\n",
       "Bangladesh               1\n",
       "Serbia                   1\n",
       "Luxembourg               1\n",
       "Name: originCountry, Length: 65, dtype: int64"
      ]
     },
     "execution_count": 16,
     "metadata": {},
     "output_type": "execute_result"
    }
   ],
   "source": [
    "# 생산국가의 빈도수 세기\n",
    "counter_viewAll=view_all.originCountry.value_counts()\n",
    "counter_viewAll"
   ]
  },
  {
   "cell_type": "markdown",
   "id": "b5b92094",
   "metadata": {},
   "source": [
    "#### Series를 DataFrame으로 변경 "
   ]
  },
  {
   "cell_type": "code",
   "execution_count": 17,
   "id": "83e2907c",
   "metadata": {
    "ExecuteTime": {
     "end_time": "2021-07-18T05:37:09.120432Z",
     "start_time": "2021-07-18T05:37:09.110537Z"
    },
    "scrolled": true
   },
   "outputs": [
    {
     "data": {
      "text/html": [
       "<div>\n",
       "<style scoped>\n",
       "    .dataframe tbody tr th:only-of-type {\n",
       "        vertical-align: middle;\n",
       "    }\n",
       "\n",
       "    .dataframe tbody tr th {\n",
       "        vertical-align: top;\n",
       "    }\n",
       "\n",
       "    .dataframe thead th {\n",
       "        text-align: right;\n",
       "    }\n",
       "</style>\n",
       "<table border=\"1\" class=\"dataframe\">\n",
       "  <thead>\n",
       "    <tr style=\"text-align: right;\">\n",
       "      <th></th>\n",
       "      <th>originCountry</th>\n",
       "      <th>counts</th>\n",
       "    </tr>\n",
       "  </thead>\n",
       "  <tbody>\n",
       "    <tr>\n",
       "      <th>0</th>\n",
       "      <td>United States</td>\n",
       "      <td>1569</td>\n",
       "    </tr>\n",
       "    <tr>\n",
       "      <th>1</th>\n",
       "      <td>United Kingdom</td>\n",
       "      <td>177</td>\n",
       "    </tr>\n",
       "    <tr>\n",
       "      <th>2</th>\n",
       "      <td>Japan</td>\n",
       "      <td>126</td>\n",
       "    </tr>\n",
       "    <tr>\n",
       "      <th>3</th>\n",
       "      <td>South Korea</td>\n",
       "      <td>109</td>\n",
       "    </tr>\n",
       "    <tr>\n",
       "      <th>4</th>\n",
       "      <td>India</td>\n",
       "      <td>82</td>\n",
       "    </tr>\n",
       "    <tr>\n",
       "      <th>...</th>\n",
       "      <td>...</td>\n",
       "      <td>...</td>\n",
       "    </tr>\n",
       "    <tr>\n",
       "      <th>60</th>\n",
       "      <td>Dominican Republic</td>\n",
       "      <td>1</td>\n",
       "    </tr>\n",
       "    <tr>\n",
       "      <th>61</th>\n",
       "      <td>Croatia</td>\n",
       "      <td>1</td>\n",
       "    </tr>\n",
       "    <tr>\n",
       "      <th>62</th>\n",
       "      <td>Bangladesh</td>\n",
       "      <td>1</td>\n",
       "    </tr>\n",
       "    <tr>\n",
       "      <th>63</th>\n",
       "      <td>Serbia</td>\n",
       "      <td>1</td>\n",
       "    </tr>\n",
       "    <tr>\n",
       "      <th>64</th>\n",
       "      <td>Luxembourg</td>\n",
       "      <td>1</td>\n",
       "    </tr>\n",
       "  </tbody>\n",
       "</table>\n",
       "<p>65 rows × 2 columns</p>\n",
       "</div>"
      ],
      "text/plain": [
       "         originCountry  counts\n",
       "0        United States    1569\n",
       "1       United Kingdom     177\n",
       "2                Japan     126\n",
       "3          South Korea     109\n",
       "4                India      82\n",
       "..                 ...     ...\n",
       "60  Dominican Republic       1\n",
       "61             Croatia       1\n",
       "62          Bangladesh       1\n",
       "63              Serbia       1\n",
       "64          Luxembourg       1\n",
       "\n",
       "[65 rows x 2 columns]"
      ]
     },
     "execution_count": 17,
     "metadata": {},
     "output_type": "execute_result"
    }
   ],
   "source": [
    "counter_all=counter_viewAll.rename_axis('originCountry').reset_index(name='counts')\n",
    "counter_viewAll=counter_all\n",
    "counter_viewAll"
   ]
  },
  {
   "cell_type": "code",
   "execution_count": 18,
   "id": "bb257716",
   "metadata": {
    "ExecuteTime": {
     "end_time": "2021-07-18T05:37:09.128746Z",
     "start_time": "2021-07-18T05:37:09.122165Z"
    }
   },
   "outputs": [
    {
     "data": {
      "text/html": [
       "<div>\n",
       "<style scoped>\n",
       "    .dataframe tbody tr th:only-of-type {\n",
       "        vertical-align: middle;\n",
       "    }\n",
       "\n",
       "    .dataframe tbody tr th {\n",
       "        vertical-align: top;\n",
       "    }\n",
       "\n",
       "    .dataframe thead th {\n",
       "        text-align: right;\n",
       "    }\n",
       "</style>\n",
       "<table border=\"1\" class=\"dataframe\">\n",
       "  <thead>\n",
       "    <tr style=\"text-align: right;\">\n",
       "      <th></th>\n",
       "      <th>originCountry</th>\n",
       "      <th>counts</th>\n",
       "    </tr>\n",
       "  </thead>\n",
       "  <tbody>\n",
       "    <tr>\n",
       "      <th>0</th>\n",
       "      <td>United States</td>\n",
       "      <td>1569</td>\n",
       "    </tr>\n",
       "    <tr>\n",
       "      <th>1</th>\n",
       "      <td>United Kingdom</td>\n",
       "      <td>177</td>\n",
       "    </tr>\n",
       "    <tr>\n",
       "      <th>2</th>\n",
       "      <td>Japan</td>\n",
       "      <td>126</td>\n",
       "    </tr>\n",
       "    <tr>\n",
       "      <th>3</th>\n",
       "      <td>South Korea</td>\n",
       "      <td>109</td>\n",
       "    </tr>\n",
       "    <tr>\n",
       "      <th>4</th>\n",
       "      <td>India</td>\n",
       "      <td>82</td>\n",
       "    </tr>\n",
       "    <tr>\n",
       "      <th>5</th>\n",
       "      <td>France</td>\n",
       "      <td>73</td>\n",
       "    </tr>\n",
       "    <tr>\n",
       "      <th>6</th>\n",
       "      <td>Canada</td>\n",
       "      <td>52</td>\n",
       "    </tr>\n",
       "    <tr>\n",
       "      <th>7</th>\n",
       "      <td>Spain</td>\n",
       "      <td>43</td>\n",
       "    </tr>\n",
       "    <tr>\n",
       "      <th>8</th>\n",
       "      <td>Philippines</td>\n",
       "      <td>39</td>\n",
       "    </tr>\n",
       "    <tr>\n",
       "      <th>9</th>\n",
       "      <td>Turkey</td>\n",
       "      <td>39</td>\n",
       "    </tr>\n",
       "  </tbody>\n",
       "</table>\n",
       "</div>"
      ],
      "text/plain": [
       "    originCountry  counts\n",
       "0   United States    1569\n",
       "1  United Kingdom     177\n",
       "2           Japan     126\n",
       "3     South Korea     109\n",
       "4           India      82\n",
       "5          France      73\n",
       "6          Canada      52\n",
       "7           Spain      43\n",
       "8     Philippines      39\n",
       "9          Turkey      39"
      ]
     },
     "execution_count": 18,
     "metadata": {},
     "output_type": "execute_result"
    }
   ],
   "source": [
    "counter_viewAll.head(10)"
   ]
  },
  {
   "cell_type": "code",
   "execution_count": 19,
   "id": "d7bcb37b",
   "metadata": {
    "ExecuteTime": {
     "end_time": "2021-07-18T05:37:09.134593Z",
     "start_time": "2021-07-18T05:37:09.130510Z"
    }
   },
   "outputs": [
    {
     "name": "stdout",
     "output_type": "stream",
     "text": [
      "total : 2754\n",
      "top 10 countries : 2309\n",
      "percentage : 2309/2754 = 83.84168482207699\n"
     ]
    }
   ],
   "source": [
    "tot = sum(counter_viewAll.counts)\n",
    "top10 = sum(counter_viewAll.counts[:10]) \n",
    "\n",
    "print(f'total : {tot}')\n",
    "print(f'top 10 countries : {top10}')\n",
    "print(f'percentage : {top10}/{tot} = {100 * top10/tot}')"
   ]
  },
  {
   "cell_type": "markdown",
   "id": "a327cd69",
   "metadata": {},
   "source": [
    "####  인기 순위 전체 분석 insight"
   ]
  },
  {
   "cell_type": "markdown",
   "id": "e40f016e",
   "metadata": {},
   "source": [
    "전체 작품수 2754개 중에 영화 제작을 많이 하는 top10위 권의 나라가 2309개를 만들어, 순위권의 83프로를 생산하고 있다.\n",
    "제작 건수가 많은 top10 countries는 미국, 영국, 일본, 한국, 인도, 프랑스. 케나다, 스페인, 터키, 필리핀이 포함된다."
   ]
  },
  {
   "cell_type": "markdown",
   "id": "04ba37e6",
   "metadata": {},
   "source": [
    "### 전체 영화 제작 국가 top 10위 시각화 "
   ]
  },
  {
   "cell_type": "code",
   "execution_count": 20,
   "id": "577898e0",
   "metadata": {
    "ExecuteTime": {
     "end_time": "2021-07-18T05:37:09.138716Z",
     "start_time": "2021-07-18T05:37:09.136261Z"
    }
   },
   "outputs": [],
   "source": [
    "df_all = counter_viewAll[:][:10]"
   ]
  },
  {
   "cell_type": "code",
   "execution_count": 21,
   "id": "7a89f880",
   "metadata": {
    "ExecuteTime": {
     "end_time": "2021-07-18T05:37:09.142977Z",
     "start_time": "2021-07-18T05:37:09.140172Z"
    }
   },
   "outputs": [],
   "source": [
    "values=df_all['counts']\n",
    "labels = df_all['originCountry']"
   ]
  },
  {
   "cell_type": "code",
   "execution_count": 22,
   "id": "236e45b7",
   "metadata": {
    "ExecuteTime": {
     "end_time": "2021-07-18T05:37:09.382309Z",
     "start_time": "2021-07-18T05:37:09.144514Z"
    }
   },
   "outputs": [
    {
     "ename": "NameError",
     "evalue": "name 'gridspec' is not defined",
     "output_type": "error",
     "traceback": [
      "\u001b[0;31m---------------------------------------------------------------------------\u001b[0m",
      "\u001b[0;31mNameError\u001b[0m                                 Traceback (most recent call last)",
      "\u001b[0;32m<ipython-input-22-65646e7d9ebb>\u001b[0m in \u001b[0;36m<module>\u001b[0;34m\u001b[0m\n\u001b[1;32m      1\u001b[0m \u001b[0mfig\u001b[0m \u001b[0;34m=\u001b[0m \u001b[0mplt\u001b[0m\u001b[0;34m.\u001b[0m\u001b[0mfigure\u001b[0m\u001b[0;34m(\u001b[0m\u001b[0mfigsize\u001b[0m\u001b[0;34m=\u001b[0m\u001b[0;34m(\u001b[0m\u001b[0;36m10\u001b[0m\u001b[0;34m,\u001b[0m \u001b[0;36m5\u001b[0m\u001b[0;34m)\u001b[0m\u001b[0;34m,\u001b[0m \u001b[0mdpi\u001b[0m\u001b[0;34m=\u001b[0m\u001b[0;36m350\u001b[0m\u001b[0;34m)\u001b[0m\u001b[0;34m\u001b[0m\u001b[0;34m\u001b[0m\u001b[0m\n\u001b[0;32m----> 2\u001b[0;31m \u001b[0mgs\u001b[0m \u001b[0;34m=\u001b[0m \u001b[0mgridspec\u001b[0m\u001b[0;34m.\u001b[0m\u001b[0mGridSpec\u001b[0m\u001b[0;34m(\u001b[0m\u001b[0mnrows\u001b[0m\u001b[0;34m=\u001b[0m\u001b[0;36m1\u001b[0m\u001b[0;34m,\u001b[0m \u001b[0mncols\u001b[0m\u001b[0;34m=\u001b[0m\u001b[0;36m1\u001b[0m\u001b[0;34m)\u001b[0m\u001b[0;34m\u001b[0m\u001b[0;34m\u001b[0m\u001b[0m\n\u001b[0m\u001b[1;32m      3\u001b[0m \u001b[0;34m\u001b[0m\u001b[0m\n\u001b[1;32m      4\u001b[0m \u001b[0max\u001b[0m \u001b[0;34m=\u001b[0m \u001b[0mplt\u001b[0m\u001b[0;34m.\u001b[0m\u001b[0msubplot\u001b[0m\u001b[0;34m(\u001b[0m\u001b[0mgs\u001b[0m\u001b[0;34m[\u001b[0m\u001b[0;36m0\u001b[0m\u001b[0;34m]\u001b[0m\u001b[0;34m)\u001b[0m\u001b[0;34m\u001b[0m\u001b[0;34m\u001b[0m\u001b[0m\n\u001b[1;32m      5\u001b[0m sns.barplot(view_dfdf['country'],\n",
      "\u001b[0;31mNameError\u001b[0m: name 'gridspec' is not defined"
     ]
    },
    {
     "data": {
      "text/plain": [
       "<Figure size 3500x1750 with 0 Axes>"
      ]
     },
     "metadata": {},
     "output_type": "display_data"
    }
   ],
   "source": [
    "fig = plt.figure(figsize=(10, 5), dpi=350)\n",
    "gs = gridspec.GridSpec(nrows=1, ncols=1)\n",
    "\n",
    "ax = plt.subplot(gs[0])\n",
    "sns.barplot(view_dfdf['country'],\n",
    "            view_dfdf['counter'], ax=ax, palette=\"RdGy\", edgecolor='black')\n",
    "ax.set_xticklabels(view_dfdf['country'], \n",
    "                   fontdict={'color':'white'},\n",
    "                   rotation='90')\n",
    "#ax.set_title('Top 20 Viewpoint country', fontsize=15, fontweight='bold', pad=20)\n",
    "\n",
    "matplotlib.rc('xtick', labelsize=15) \n",
    "matplotlib.rc('ytick', labelsize=15)\n",
    "plt.xlabel('Country', fontdict={'color':'white','fontsize':20}) ## x축 라벨 출력\n",
    "plt.ylabel('Count', fontdict={'color':'white', 'fontsize':20})\n",
    "plt.show()"
   ]
  },
  {
   "cell_type": "code",
   "execution_count": null,
   "id": "dcfe02f3",
   "metadata": {
    "ExecuteTime": {
     "end_time": "2021-07-18T05:37:09.468876Z",
     "start_time": "2021-07-18T05:37:07.267Z"
    }
   },
   "outputs": [],
   "source": [
    "from matplotlib import gridspec\n",
    "fig = plt.figure(figsize=(12,5), dpi=350)\n",
    "gs = gridspec.GridSpec(nrows=1, ncols=1)\n",
    "\n",
    "ax = plt.subplot(gs[0])\n",
    "sns.barplot(df_all['originCountry'], \n",
    "            df_all['counts'], ax=ax, palette=\"RdGy\",\n",
    "           edgecolor='black')\n",
    "ax.set_xticklabels(df_all['originCountry'], \n",
    "                   rotation='90', fontdict={'color':'white'},\n",
    "                   fontsize = 13)\n",
    "ax.set_yticklabels(df_all['counts'], minor=True,\n",
    "                   rotation='90', fontdict={'color':'white'},\n",
    "                   fontsize = 13)\n",
    "#ax.set_title('Top 10 producing countries of Netflix', fontsize=20, fontweight='bold', pad = 15)\n",
    "plt.xlabel('origin of Country', fontsize=12, labelpad=-20, \n",
    "           fontweight='bold', color='white')\n",
    "plt.ylabel('produced contents', fontsize=12, \n",
    "           labelpad=10, fontweight='bold', color='white')\n",
    "plt.xticks(fontsize=10, color='white')\n",
    "plt.yticks(fontsize=10, color='white')\n",
    "plt.xlabel('Origin country', fontdict={'color':'white','fontsize':20}) ## x축 라벨 출력\n",
    "plt.ylabel('Number of Movie & TV show', fontdict={'color':'white', 'fontsize':20})\n",
    "\n",
    "plt.show()\n",
    "# def make_autopct(values):\n",
    "#     def my_autopct(pct):\n",
    "#         total = sum(values)\n",
    "#         val = int(round(pct*total/100.0))\n",
    "#         return '{p:.2f}%({v:d})'.format(p=pct,v=val)\n",
    "#     return my_autopct"
   ]
  },
  {
   "cell_type": "code",
   "execution_count": null,
   "id": "e4d677ea",
   "metadata": {
    "ExecuteTime": {
     "end_time": "2021-07-18T05:37:09.470281Z",
     "start_time": "2021-07-18T05:37:07.269Z"
    }
   },
   "outputs": [],
   "source": [
    "fig = plt.figure(figsize=(10,7), dpi=350)\n",
    "gs = gridspec.GridSpec(nrows=1, ncols=1)\n",
    "\n",
    "\n",
    "explode = [0 for _ in range(10)]\n",
    "explode[0] = 0.06\n",
    "\n",
    "ax2 = plt.subplot(gs[0])\n",
    "ax2.pie(df_all['counts'], labels=df_all['originCountry'],\n",
    "        #shadow=True, \n",
    "        startangle=720, explode=explode,\n",
    "        colors=sns.color_palette(\"RdGy\", n_colors=10),\n",
    "        textprops={'fontsize':13, 'color':'white'},\n",
    "        pctdistance=0.7, labeldistance=1.1,rotatelabels=True,\n",
    "        autopct = '%1.1f%%', radius=1.5\n",
    "       )\n",
    "\n",
    "\n",
    "ax2.axis('equal') \n",
    "ax2.legend(loc='right', fontsize = 12, facecolor = '#191b27', labelcolor= 'white', bbox_to_anchor=(1.2,0.7))\n",
    "plt.show()"
   ]
  },
  {
   "cell_type": "code",
   "execution_count": null,
   "id": "78e15be3",
   "metadata": {
    "ExecuteTime": {
     "end_time": "2021-07-18T05:37:09.471603Z",
     "start_time": "2021-07-18T05:37:07.271Z"
    },
    "code_folding": [],
    "scrolled": false
   },
   "outputs": [],
   "source": [
    "import squarify\n",
    "\n",
    "fig = plt.figure(figsize=(15,12), dpi=350)\n",
    "squarify.plot(sizes = values, \n",
    "              #label = labels, \n",
    "              label=[\"{}({})\".format(a, b) for a, b in zip(labels, df_all['counts'])],\n",
    "              color=sns.color_palette(\"RdGy\", n_colors=10),\n",
    "             linewidth=4, text_kwargs={'fontsize':15, 'fontweight' : 'bold'})\n",
    "#plt.title('Top 10 producing countries of Netflix', position=(0.5, 1.0+0.03), fontsize = 20, fontweight='bold', pad=20)\n",
    "plt.axis('off')\n",
    "\n",
    "plt.show()"
   ]
  },
  {
   "cell_type": "code",
   "execution_count": null,
   "id": "74cc3c11",
   "metadata": {
    "ExecuteTime": {
     "end_time": "2021-07-18T05:37:09.472853Z",
     "start_time": "2021-07-18T05:37:07.273Z"
    }
   },
   "outputs": [],
   "source": [
    "# 특수 아이콘 적용을 위한 모듈\n",
    "import json\n",
    "import requests\n",
    "\n",
    "INDENT = \" \" * 4\n",
    "VERSION = \"5.5.0\"\n",
    "URI = \"https://raw.githubusercontent.com/FortAwesome/Font-Awesome/master/metadata/icons.json\"\n",
    "\n",
    "\n",
    "def main():\n",
    "    icons = json.loads(requests.get(URI).text)\n",
    "\n",
    "    # Group icons by style\n",
    "    mapping = {}\n",
    "    for k, v in icons.items():\n",
    "        for style in v[\"styles\"]:\n",
    "            style_name = style.upper()\n",
    "            if style_name not in mapping.keys():\n",
    "                mapping[style_name] = {}\n",
    "            mapping[style_name][k] = chr(int(v[\"unicode\"], 16))\n",
    "\n",
    "    with open(\"pywaffle/fontawesome_mapping.py\", \"w\") as file:\n",
    "        file.write(\"# This file belongs to Font Awesome, see license https://fontawesome.com/license/\\n\")\n",
    "        file.write(\"# Font Awesome version: {0}\\n\".format(VERSION))\n",
    "        file.write(\"\\n\")\n",
    "        file.write(\"icons = \")\n",
    "        file.write(json.dumps(mapping, indent=4))\n",
    "        file.write(\"\\n\")\n",
    "# ! git clone https://github.com/gyli/PyWaffle.git\n",
    "\n",
    "if __name__ == \"__main__\":\n",
    "    main()"
   ]
  },
  {
   "cell_type": "code",
   "execution_count": null,
   "id": "ce4236a4",
   "metadata": {
    "ExecuteTime": {
     "end_time": "2021-07-18T05:37:09.474593Z",
     "start_time": "2021-07-18T05:37:07.277Z"
    }
   },
   "outputs": [],
   "source": [
    "from pywaffle import Waffle\n",
    "from pywaffle.fontawesome_mapping import icons\n",
    "fig = plt.figure(\n",
    "    FigureClass=Waffle,facecolor='#191b27', dpi=350,\n",
    "    rows=11, \n",
    "    columns=20, \n",
    "    values=df_all['counts'],\n",
    "    labels=[\"{}({})\".format(a, b) for a, b in zip(labels, values)],\n",
    "    #colors=sns.color_palette(\"autumn\", n_colors=10),\n",
    "    colors=sns.light_palette('red', reverse = True, n_colors=10),\n",
    "    legend={'loc': 'lower left', 'bbox_to_anchor': (0, -0.2), \n",
    "            'ncol': len(df_all['counts'])//2,  'framealpha': 0, 'labelcolor': 'white', 'fontsize':13.2}, \n",
    "    font_size=30,\n",
    "    #icon_style='solid',\n",
    "    figsize=(13, 13),\n",
    "    icons='star',\n",
    "    #characters='N',\n",
    "    icon_legend=True)\n",
    "\n",
    "# plt.title('Top 10 producing countries of Netflix', position=(0.5, 1.0+0.03), fontsize = 15, \n",
    "          #fontweight='bold', color='white')\n",
    "plt.show()"
   ]
  },
  {
   "cell_type": "markdown",
   "id": "3b097a8e",
   "metadata": {},
   "source": [
    "## 2020 넷플릭스 컨텐츠 인기 순위 100위의 생산국가 "
   ]
  },
  {
   "cell_type": "markdown",
   "id": "691d6614",
   "metadata": {},
   "source": [
    "### view_top100 변수 생성 "
   ]
  },
  {
   "cell_type": "code",
   "execution_count": null,
   "id": "410c321e",
   "metadata": {
    "ExecuteTime": {
     "end_time": "2021-07-18T05:37:09.476137Z",
     "start_time": "2021-07-18T05:37:07.368Z"
    }
   },
   "outputs": [],
   "source": [
    "view_top100 = df_country[:][:100]\n",
    "view_top100.tail(5)"
   ]
  },
  {
   "cell_type": "markdown",
   "id": "40b2832f",
   "metadata": {},
   "source": [
    "### 인기 순위 100위까지 생산국가 별 제작 영화 수 \n",
    "#### counter_view100 변수 생성"
   ]
  },
  {
   "cell_type": "code",
   "execution_count": null,
   "id": "d846e0e5",
   "metadata": {
    "ExecuteTime": {
     "end_time": "2021-07-18T05:37:09.477442Z",
     "start_time": "2021-07-18T05:37:07.415Z"
    }
   },
   "outputs": [],
   "source": [
    "# 생산국가의 빈도수 세기\n",
    "counter_view100=view_top100.originCountry.value_counts()\n",
    "counter_view100"
   ]
  },
  {
   "cell_type": "code",
   "execution_count": null,
   "id": "fd664787",
   "metadata": {
    "ExecuteTime": {
     "end_time": "2021-07-18T05:37:09.478614Z",
     "start_time": "2021-07-18T05:37:07.417Z"
    }
   },
   "outputs": [],
   "source": [
    "type(counter_view100)"
   ]
  },
  {
   "cell_type": "markdown",
   "id": "072d8f55",
   "metadata": {},
   "source": [
    "#### Series를 dataFrame으로 변경"
   ]
  },
  {
   "cell_type": "code",
   "execution_count": null,
   "id": "d7a000a4",
   "metadata": {
    "ExecuteTime": {
     "end_time": "2021-07-18T05:37:09.480032Z",
     "start_time": "2021-07-18T05:37:07.463Z"
    }
   },
   "outputs": [],
   "source": [
    "counter_100=counter_view100.rename_axis('originCountry').reset_index(name='counts')\n",
    "counter_view100=counter_100\n",
    "counter_view100"
   ]
  },
  {
   "cell_type": "markdown",
   "id": "a6f4ac8d",
   "metadata": {},
   "source": [
    "### 인기순위 100위 분석 insight"
   ]
  },
  {
   "cell_type": "code",
   "execution_count": null,
   "id": "c336667d",
   "metadata": {
    "ExecuteTime": {
     "end_time": "2021-07-18T05:37:09.481270Z",
     "start_time": "2021-07-18T05:37:07.508Z"
    }
   },
   "outputs": [],
   "source": [
    "tot100 = sum(counter_view100.counts)\n",
    "top5 = sum(counter_view100.counts[:5]) \n",
    "\n",
    "print(f'total : {tot}')\n",
    "print(f'top 5 countries : {top5}')\n",
    "print(f'percentage : {top5}/{tot} = {100 * top5/tot}')"
   ]
  },
  {
   "cell_type": "markdown",
   "id": "9d3107fe",
   "metadata": {},
   "source": [
    "1. 인기 순위 100위 중에 south korea의 작품이 7건이 포함되어 있다.\n",
    "2. 일본은 순위권에 포함되지도 못했다. \n",
    "3. 전체 2754개의 영화중에 korea 출신의 작품은 108개로 다소 적은 편이지만, top 100에는 7개나 포함되어 있어서 그 인기를 실감할 수 있다.\n",
    "4. 반면 일본은 126건을 생산했지만 100위 안에는 1개도 포함되어 있지 않다. 이런 스타일의 작품은 안통하는 것 같다 ㅋㅋ"
   ]
  },
  {
   "cell_type": "code",
   "execution_count": null,
   "id": "3b54abe0",
   "metadata": {
    "ExecuteTime": {
     "end_time": "2021-07-18T05:37:09.482643Z",
     "start_time": "2021-07-18T05:37:07.552Z"
    }
   },
   "outputs": [],
   "source": [
    "from matplotlib import gridspec\n",
    "fig = plt.figure(figsize=(12,5), dpi=350)\n",
    "gs = gridspec.GridSpec(nrows=1, ncols=1)\n",
    "\n",
    "ax = plt.subplot(gs[0])\n",
    "sns.barplot(df_all['originCountry'], \n",
    "            df_all['counts'], ax=ax, palette=\"RdGy\",\n",
    "           edgecolor='black')\n",
    "ax.set_xticklabels(df_all['originCountry'], \n",
    "                   rotation='90', fontdict={'color':'white'},\n",
    "                   fontsize = 13)\n",
    "ax.set_yticklabels(df_all['counts'], \n",
    "                   rotation='90', fontdict={'color':'white'},\n",
    "                   fontsize = 13)\n",
    "#ax.set_title('Top 10 producing countries of Netflix', fontsize=20, fontweight='bold', pad = 15)\n",
    "plt.xlabel('origin of Country', fontsize=12, labelpad=-20, \n",
    "           fontweight='bold', color='white')\n",
    "plt.ylabel('produced contents', fontsize=12, \n",
    "           labelpad=10, fontweight='bold', color='white')\n",
    "plt.xticks(fontsize=10)\n",
    "plt.yticks(fontsize=10)\n",
    "plt.xlabel('Origin country', fontdict={'color':'white','fontsize':20}) ## x축 라벨 출력\n",
    "plt.ylabel('Number of Movie & TV show', fontdict={'color':'white', 'fontsize':20})\n",
    "\n",
    "plt.show()"
   ]
  },
  {
   "cell_type": "code",
   "execution_count": null,
   "id": "1a6c19ef",
   "metadata": {
    "ExecuteTime": {
     "end_time": "2021-07-18T05:37:09.483920Z",
     "start_time": "2021-07-18T05:37:07.555Z"
    }
   },
   "outputs": [],
   "source": [
    "from matplotlib import gridspec\n",
    "fig = plt.figure(figsize=(12,5), dpi=350)\n",
    "gs = gridspec.GridSpec(nrows=1, ncols=1)\n",
    "\n",
    "ax = plt.subplot(gs[0])\n",
    "sns.barplot(counter_view100['originCountry'], \n",
    "            counter_view100['counts'], ax=ax, \n",
    "            palette=\"RdGy\", edgecolor = 'black')\n",
    "ax.set_xticklabels(counter_view100['originCountry'],\n",
    "                   fontdict={'color':'white'},\n",
    "                   rotation='90', fontsize = 13)\n",
    "ax.set_yticklabels(counter_view100['counts'],\n",
    "                   fontdict={'color':'white'},minor=True,\n",
    "                   rotation='90', fontsize = 13)\n",
    "# ax.set_title('Country of origin of Netflix Top 100 (2020)', fontsize=20, fontweight='bold', pad = 15)\n",
    "plt.xlabel('origin of Country', fontsize=12, \n",
    "           labelpad=-20, fontweight='bold',color='white')\n",
    "plt.ylabel('produced contents', fontsize=12, \n",
    "           labelpad=10, fontweight='bold', color='white')\n",
    "plt.xticks(fontsize=10, color='white')\n",
    "plt.yticks(fontsize=10, color='white')\n",
    "# plt.xlabel('Origin country', fontdict={'color':'white','fontsize':20}) ## x축 라벨 출력\n",
    "# plt.ylabel('Number of Movie & TV show', fontdict={'color':'white', 'fontsize':20})\n",
    "\n",
    "\n",
    "plt.show()"
   ]
  },
  {
   "cell_type": "code",
   "execution_count": null,
   "id": "eec52a5f",
   "metadata": {
    "ExecuteTime": {
     "end_time": "2021-07-18T05:37:09.485450Z",
     "start_time": "2021-07-18T05:37:07.558Z"
    }
   },
   "outputs": [],
   "source": [
    "fig = plt.figure(figsize=(10,7))\n",
    "gs = gridspec.GridSpec(nrows=1, ncols=1)\n",
    "\n",
    "\n",
    "explode = [0 for _ in range(len(counter_view100['originCountry']))]\n",
    "explode[0] = 0.06\n",
    "\n",
    "ax2 = plt.subplot(gs[0])\n",
    "ax2.pie(counter_view100['counts'], labels=counter_view100['originCountry'],\n",
    "        shadow=True, startangle=220, explode=explode,\n",
    "        colors=sns.color_palette(\"RdGy\", n_colors=13),\n",
    "        textprops={'fontsize':12,'color':'white'},\n",
    "        pctdistance=0.7, labeldistance=1.1,rotatelabels=True,\n",
    "        autopct = '%1.0f%%', radius=1.5\n",
    "       )\n",
    "\n",
    "\n",
    "ax2.axis('equal') \n",
    "ax2.legend(loc='right', fontsize = 12, facecolor = '#191b27', labelcolor= 'white', bbox_to_anchor=(1.2,0.7))\n",
    "plt.show()"
   ]
  },
  {
   "cell_type": "code",
   "execution_count": null,
   "id": "ddba558b",
   "metadata": {
    "ExecuteTime": {
     "end_time": "2021-07-18T05:37:09.486690Z",
     "start_time": "2021-07-18T05:37:07.560Z"
    }
   },
   "outputs": [],
   "source": [
    "##### import squarify\n",
    "\n",
    "fig = plt.figure(figsize=(20,15), dpi=350)\n",
    "squarify.plot(counter_view100['counts'], \n",
    "              #label = counter_view100['originCountry'], \n",
    "              color=sns.color_palette(\"RdGy\", n_colors=13),\n",
    "              label=[\"{}({})\".format(a, b) for a, b in zip(counter_view100['originCountry'], counter_view100['counts'])],\n",
    "             linewidth=4, text_kwargs={'fontsize':15, 'fontweight' : 'bold'})\n",
    "#plt.title('Country of origin of Netflix Top 100 (2020)', position=(0.5, 1.0+0.03), fontsize = 20, fontweight='bold', pad=20)\n",
    "plt.axis('off')\n",
    "plt.show()"
   ]
  },
  {
   "cell_type": "markdown",
   "id": "173ce469",
   "metadata": {},
   "source": [
    "## 2020 넷플릭스 컨텐츠 인기순위 500위의 생산국가"
   ]
  },
  {
   "cell_type": "markdown",
   "id": "95c15e64",
   "metadata": {},
   "source": [
    "### counter_view500 변수 생성"
   ]
  },
  {
   "cell_type": "code",
   "execution_count": null,
   "id": "d6efb38e",
   "metadata": {
    "ExecuteTime": {
     "end_time": "2021-07-18T05:37:09.487763Z",
     "start_time": "2021-07-18T05:37:07.677Z"
    }
   },
   "outputs": [],
   "source": [
    "view_top500 = df_country[:][:500]\n",
    "view_top500.tail(5)"
   ]
  },
  {
   "cell_type": "markdown",
   "id": "360bcd5c",
   "metadata": {},
   "source": [
    "### 인기 순위 500위까지 생산국가 별 제작 영화 수"
   ]
  },
  {
   "cell_type": "markdown",
   "id": "0fc91a16",
   "metadata": {},
   "source": [
    "#### counter_view500 변수 생성"
   ]
  },
  {
   "cell_type": "code",
   "execution_count": null,
   "id": "6276acdc",
   "metadata": {
    "ExecuteTime": {
     "end_time": "2021-07-18T05:37:09.489056Z",
     "start_time": "2021-07-18T05:37:07.796Z"
    }
   },
   "outputs": [],
   "source": [
    "# 생산국가의 빈도수 세기\n",
    "counter_view500=view_top500.originCountry.value_counts()\n",
    "counter_view500"
   ]
  },
  {
   "cell_type": "markdown",
   "id": "a271e69f",
   "metadata": {},
   "source": [
    "#### Series를 dataFrame으로 변경"
   ]
  },
  {
   "cell_type": "code",
   "execution_count": null,
   "id": "26dc152f",
   "metadata": {
    "ExecuteTime": {
     "end_time": "2021-07-18T05:37:09.490449Z",
     "start_time": "2021-07-18T05:37:07.860Z"
    }
   },
   "outputs": [],
   "source": [
    "counter_500=counter_view500.rename_axis('originCountry').reset_index(name='counts')\n",
    "counter_view500=counter_500\n",
    "counter_view500"
   ]
  },
  {
   "cell_type": "markdown",
   "id": "dcc522f3",
   "metadata": {},
   "source": [
    "### 인기순위 500위 분석 insight"
   ]
  },
  {
   "cell_type": "code",
   "execution_count": null,
   "id": "bcefe2e7",
   "metadata": {
    "ExecuteTime": {
     "end_time": "2021-07-18T05:37:09.491912Z",
     "start_time": "2021-07-18T05:37:07.911Z"
    }
   },
   "outputs": [],
   "source": [
    "# 500개 콘텐츠 중 상위 5개국의 비율이 78.4%\n",
    "tot500 = sum(counter_view500.counts)\n",
    "top500_5 = sum(counter_view500.counts[:5]) \n",
    "\n",
    "print(f'total : {tot500}')\n",
    "print(f'top 5 countries : {top500_5}')\n",
    "print(f'percentage : {top500_5}/{tot500} = {100 * top500_5/tot500}')"
   ]
  },
  {
   "cell_type": "code",
   "execution_count": null,
   "id": "96f92660",
   "metadata": {
    "ExecuteTime": {
     "end_time": "2021-07-18T05:37:09.493155Z",
     "start_time": "2021-07-18T05:37:07.913Z"
    }
   },
   "outputs": [],
   "source": [
    "# 500개 콘텐츠 중 상위 15개국의 비율이 94.4\n",
    "tot500 = sum(counter_view500.counts)\n",
    "top15 = sum(counter_view500.counts[:15]) \n",
    "\n",
    "print(f'total : {tot500}')\n",
    "print(f'top 15 countries : {top15}')\n",
    "print(f'percentage : {top15}/{tot500} = {100 * top15/tot500}')"
   ]
  },
  {
   "cell_type": "markdown",
   "id": "1a1d2b5f",
   "metadata": {},
   "source": [
    "1. 미국은 거의 60-70% 를 차지하고 있다.\n",
    "2. 한국은 생산량이 많지 않은데 탑순위에 계속 있다. 인기 있는 하나의 문화가 된 것 같다. 우리나라 출신의 드라마는 믿고 보는 유행이 생긴 것 같다.\n",
    "3. 콘텐츠 500위로 잘랐을때, 1~3위 빼고,, 딱히 많이 생산한다고 인기순위에 오르는 것 같지 않다. 일본은 우리나라보다 두배정도 많이 생산했는데도 8위임\n",
    "4. 스페인의 순위가 눈에 띈다. 총 43개밖에 생산안했는데 500위 안에 18개나 들어서 4위다.\n",
    "5. 프랑스랑 약 2배정도 차이나는 생산량인데 오히려 프랑스보다 더 높은 순위에 들었다.\n",
    "6. 넷플릭스가 한국에 투자를 하는 이유를 알 것 같다. us 제외하고, 구독자도 꽤 많고, 한국의 콘텐츠가 인기가 많은 것이 이유이지 않을까..? 예상한다. 시나리오에 대한 확신만 있으면 성공할 수 있는 조건이라고 생각한다."
   ]
  },
  {
   "cell_type": "code",
   "execution_count": null,
   "id": "86e5487a",
   "metadata": {
    "ExecuteTime": {
     "end_time": "2021-07-18T05:37:09.494237Z",
     "start_time": "2021-07-18T05:37:07.960Z"
    }
   },
   "outputs": [],
   "source": [
    "import squarify\n",
    "\n",
    "fig = plt.figure(figsize=(45,20), dpi=550)\n",
    "squarify.plot(counter_view500['counts'], \n",
    "              #label = counter_view500['originCountry'], \n",
    "              label=[\"{}({})\".format(a, b) for a, b in zip(counter_view500['originCountry'], counter_view500[:22]['counts'])],\n",
    "              color=sns.color_palette(\"RdGy\", n_colors=34),\n",
    "             linewidth=4, text_kwargs={'fontsize':25, 'fontweight' : 'bold'})\n",
    "#plt.title('Country of origin of Netflix Top 500 (2020)', position=(0.5, 1.0+0.03), fontsize = 20, fontweight='bold', pad=20)\n",
    "plt.axis('off')\n",
    "plt.show()"
   ]
  },
  {
   "cell_type": "markdown",
   "id": "88447378",
   "metadata": {},
   "source": [
    "# 영화 top 20 시각화 (title, viewpoint, originCountry)"
   ]
  },
  {
   "cell_type": "code",
   "execution_count": null,
   "id": "f7d3f426",
   "metadata": {
    "ExecuteTime": {
     "end_time": "2021-07-18T05:37:09.495637Z",
     "start_time": "2021-07-18T05:37:08.006Z"
    }
   },
   "outputs": [],
   "source": [
    "df.head(2)"
   ]
  },
  {
   "cell_type": "code",
   "execution_count": null,
   "id": "50fff60f",
   "metadata": {
    "ExecuteTime": {
     "end_time": "2021-07-18T05:37:09.496798Z",
     "start_time": "2021-07-18T05:37:08.008Z"
    }
   },
   "outputs": [],
   "source": [
    "df_netflix=df[['Title','Value','originCountry']]"
   ]
  },
  {
   "cell_type": "code",
   "execution_count": null,
   "id": "c446abd9",
   "metadata": {
    "ExecuteTime": {
     "end_time": "2021-07-18T05:37:09.498177Z",
     "start_time": "2021-07-18T05:37:08.011Z"
    }
   },
   "outputs": [],
   "source": [
    "df_netflix.head(2)"
   ]
  },
  {
   "cell_type": "code",
   "execution_count": null,
   "id": "32ccd74a",
   "metadata": {
    "ExecuteTime": {
     "end_time": "2021-07-18T05:37:09.499381Z",
     "start_time": "2021-07-18T05:37:08.013Z"
    }
   },
   "outputs": [],
   "source": [
    "df_netflix_20=df_netflix[:][:20]\n",
    "df_netflix_20"
   ]
  },
  {
   "cell_type": "code",
   "execution_count": null,
   "id": "3bd73b8c",
   "metadata": {
    "ExecuteTime": {
     "end_time": "2021-07-18T05:37:09.500596Z",
     "start_time": "2021-07-18T05:37:08.015Z"
    }
   },
   "outputs": [],
   "source": [
    "#from matplotlib import gridspec\n",
    "fig = plt.figure(figsize=(12,5))\n",
    "gs = gridspec.GridSpec(nrows=1, ncols=1)\n",
    "\n",
    "ax = plt.subplot(gs[0])\n",
    "sns.barplot(df_netflix_20['Value'], df_netflix_20['Title'], ax=ax, palette=\"RdGy\")\n",
    "# ax.set_xticklabels(df_netflix_20['Value'], rotation='90', fontsize = 13)\n",
    "ax.set_title('Netflix Top 20 (2020)', fontsize=20, fontweight='bold', pad = 15)\n",
    "plt.xlabel('Value', fontsize=12, labelpad=20, fontweight='bold')\n",
    "plt.ylabel('Title (origin of Country)', fontsize=12, labelpad=10, fontweight='bold')\n",
    "plt.xticks(fontsize=10)\n",
    "plt.yticks(fontsize=10)\n",
    "\n",
    "plt.show()"
   ]
  },
  {
   "cell_type": "code",
   "execution_count": null,
   "id": "0e97195f",
   "metadata": {},
   "outputs": [],
   "source": []
  },
  {
   "cell_type": "code",
   "execution_count": null,
   "id": "5a920be6",
   "metadata": {},
   "outputs": [],
   "source": []
  },
  {
   "cell_type": "code",
   "execution_count": null,
   "id": "e7b4bf21",
   "metadata": {},
   "outputs": [],
   "source": []
  }
 ],
 "metadata": {
  "hide_input": false,
  "kernelspec": {
   "display_name": "Python TSA",
   "language": "python",
   "name": "tsa"
  },
  "language_info": {
   "codemirror_mode": {
    "name": "ipython",
    "version": 3
   },
   "file_extension": ".py",
   "mimetype": "text/x-python",
   "name": "python",
   "nbconvert_exporter": "python",
   "pygments_lexer": "ipython3",
   "version": "3.9.5"
  },
  "latex_envs": {
   "LaTeX_envs_menu_present": true,
   "autoclose": false,
   "autocomplete": true,
   "bibliofile": "biblio.bib",
   "cite_by": "apalike",
   "current_citInitial": 1,
   "eqLabelWithNumbers": true,
   "eqNumInitial": 1,
   "hotkeys": {
    "equation": "Ctrl-E",
    "itemize": "Ctrl-I"
   },
   "labels_anchors": false,
   "latex_user_defs": false,
   "report_style_numbering": false,
   "user_envs_cfg": false
  },
  "toc": {
   "base_numbering": 1,
   "nav_menu": {},
   "number_sections": true,
   "sideBar": true,
   "skip_h1_title": false,
   "title_cell": "Table of Contents",
   "title_sidebar": "Contents",
   "toc_cell": false,
   "toc_position": {
    "height": "calc(100% - 180px)",
    "left": "10px",
    "top": "150px",
    "width": "465.455px"
   },
   "toc_section_display": true,
   "toc_window_display": false
  },
  "varInspector": {
   "cols": {
    "lenName": 16,
    "lenType": 16,
    "lenVar": 40
   },
   "kernels_config": {
    "python": {
     "delete_cmd_postfix": "",
     "delete_cmd_prefix": "del ",
     "library": "var_list.py",
     "varRefreshCmd": "print(var_dic_list())"
    },
    "r": {
     "delete_cmd_postfix": ") ",
     "delete_cmd_prefix": "rm(",
     "library": "var_list.r",
     "varRefreshCmd": "cat(var_dic_list()) "
    }
   },
   "types_to_exclude": [
    "module",
    "function",
    "builtin_function_or_method",
    "instance",
    "_Feature"
   ],
   "window_display": false
  }
 },
 "nbformat": 4,
 "nbformat_minor": 5
}
