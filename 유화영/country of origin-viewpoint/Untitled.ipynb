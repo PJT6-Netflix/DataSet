{
 "cells": [
  {
   "cell_type": "code",
   "execution_count": 14,
   "id": "cd173258",
   "metadata": {
    "ExecuteTime": {
     "end_time": "2021-07-14T15:41:27.164696Z",
     "start_time": "2021-07-14T15:41:27.157793Z"
    }
   },
   "outputs": [],
   "source": [
    "import json\n",
    "import requests\n",
    "\n",
    "INDENT = \" \" * 4\n",
    "VERSION = \"5.5.0\"\n",
    "URI = \"https://raw.githubusercontent.com/FortAwesome/Font-Awesome/master/metadata/icons.json\"\n",
    "\n",
    "\n",
    "def main():\n",
    "    icons = json.loads(requests.get(URI).text)\n",
    "\n",
    "    # Group icons by style\n",
    "    mapping = {}\n",
    "    for k, v in icons.items():\n",
    "        for style in v[\"styles\"]:\n",
    "            style_name = style.upper()\n",
    "            if style_name not in mapping.keys():\n",
    "                mapping[style_name] = {}\n",
    "            mapping[style_name][k] = chr(int(v[\"unicode\"], 16))\n",
    "\n",
    "    with open(\"pywaffle/fontawesome_mapping.py\", \"w\") as file:\n",
    "        file.write(\"# This file belongs to Font Awesome, see license https://fontawesome.com/license/\\n\")\n",
    "        file.write(\"# Font Awesome version: {0}\\n\".format(VERSION))\n",
    "        file.write(\"\\n\")\n",
    "        file.write(\"icons = \")\n",
    "        file.write(json.dumps(mapping, indent=4))\n",
    "        file.write(\"\\n\")\n",
    "\n"
   ]
  },
  {
   "cell_type": "code",
   "execution_count": 13,
   "id": "088cd0ef",
   "metadata": {
    "ExecuteTime": {
     "end_time": "2021-07-14T15:41:20.362965Z",
     "start_time": "2021-07-14T15:41:18.807323Z"
    }
   },
   "outputs": [
    {
     "name": "stdout",
     "output_type": "stream",
     "text": [
      "Cloning into 'PyWaffle'...\n",
      "remote: Enumerating objects: 2104, done.\u001b[K\n",
      "remote: Counting objects: 100% (78/78), done.\u001b[K\n",
      "remote: Compressing objects: 100% (48/48), done.\u001b[K\n",
      "remote: Total 2104 (delta 49), reused 48 (delta 30), pack-reused 2026\u001b[K\n",
      "Receiving objects: 100% (2104/2104), 2.18 MiB | 5.43 MiB/s, done.\n",
      "Resolving deltas: 100% (1557/1557), done.\n"
     ]
    }
   ],
   "source": [
    "! git clone https://github.com/gyli/PyWaffle.git"
   ]
  },
  {
   "cell_type": "code",
   "execution_count": 15,
   "id": "13577c41",
   "metadata": {
    "ExecuteTime": {
     "end_time": "2021-07-14T15:41:29.945563Z",
     "start_time": "2021-07-14T15:41:29.584585Z"
    }
   },
   "outputs": [],
   "source": [
    "if __name__ == \"__main__\":\n",
    "    main()"
   ]
  },
  {
   "cell_type": "code",
   "execution_count": null,
   "id": "c2fb82e8",
   "metadata": {},
   "outputs": [],
   "source": []
  }
 ],
 "metadata": {
  "hide_input": false,
  "kernelspec": {
   "display_name": "Python TSA",
   "language": "python",
   "name": "tsa"
  },
  "language_info": {
   "codemirror_mode": {
    "name": "ipython",
    "version": 3
   },
   "file_extension": ".py",
   "mimetype": "text/x-python",
   "name": "python",
   "nbconvert_exporter": "python",
   "pygments_lexer": "ipython3",
   "version": "3.9.5"
  },
  "latex_envs": {
   "LaTeX_envs_menu_present": true,
   "autoclose": false,
   "autocomplete": true,
   "bibliofile": "biblio.bib",
   "cite_by": "apalike",
   "current_citInitial": 1,
   "eqLabelWithNumbers": true,
   "eqNumInitial": 1,
   "hotkeys": {
    "equation": "Ctrl-E",
    "itemize": "Ctrl-I"
   },
   "labels_anchors": false,
   "latex_user_defs": false,
   "report_style_numbering": false,
   "user_envs_cfg": false
  },
  "toc": {
   "base_numbering": 1,
   "nav_menu": {},
   "number_sections": true,
   "sideBar": true,
   "skip_h1_title": false,
   "title_cell": "Table of Contents",
   "title_sidebar": "Contents",
   "toc_cell": false,
   "toc_position": {},
   "toc_section_display": true,
   "toc_window_display": false
  },
  "varInspector": {
   "cols": {
    "lenName": 16,
    "lenType": 16,
    "lenVar": 40
   },
   "kernels_config": {
    "python": {
     "delete_cmd_postfix": "",
     "delete_cmd_prefix": "del ",
     "library": "var_list.py",
     "varRefreshCmd": "print(var_dic_list())"
    },
    "r": {
     "delete_cmd_postfix": ") ",
     "delete_cmd_prefix": "rm(",
     "library": "var_list.r",
     "varRefreshCmd": "cat(var_dic_list()) "
    }
   },
   "types_to_exclude": [
    "module",
    "function",
    "builtin_function_or_method",
    "instance",
    "_Feature"
   ],
   "window_display": false
  }
 },
 "nbformat": 4,
 "nbformat_minor": 5
}
