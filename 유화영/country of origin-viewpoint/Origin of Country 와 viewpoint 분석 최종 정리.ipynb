{
 "cells": [
  {
   "cell_type": "code",
   "execution_count": 1,
   "id": "956f821a",
   "metadata": {
    "ExecuteTime": {
     "end_time": "2021-07-14T11:43:46.850665Z",
     "start_time": "2021-07-14T11:43:44.850718Z"
    }
   },
   "outputs": [],
   "source": [
    "import pandas as pd\n",
    "import numpy as np\n",
    "import pandas_profiling\n",
    "\n",
    "# 데이터 시각화\n",
    "import matplotlib.pyplot as plt\n",
    "import plotly.graph_objects as go\n",
    "import seaborn as sns\n",
    "from wordcloud import WordCloud, STOPWORDS, ImageColorGenerator\n",
    "\n",
    "# 가설검정\n",
    "from scipy import stats\n",
    "\n",
    "# 경고문구 무시\n",
    "import warnings\n",
    "warnings.filterwarnings(\"ignore\")\n",
    "# 자연어 처리\n",
    "# import spacy\n",
    "\n",
    "# 정규화\n",
    "from sklearn.preprocessing import MinMaxScaler\n",
    "\n",
    "#표준화\n",
    "from sklearn import preprocessing\n",
    "from sklearn.preprocessing import StandardScaler\n",
    "\n",
    "# counter\n",
    "from collections import Counter"
   ]
  },
  {
   "cell_type": "markdown",
   "id": "a9674b48",
   "metadata": {},
   "source": [
    "# 데이터 정보 확인"
   ]
  },
  {
   "cell_type": "code",
   "execution_count": 2,
   "id": "00c668c2",
   "metadata": {
    "ExecuteTime": {
     "end_time": "2021-07-14T11:43:46.932099Z",
     "start_time": "2021-07-14T11:43:46.907749Z"
    }
   },
   "outputs": [
    {
     "data": {
      "text/html": [
       "<div>\n",
       "<style scoped>\n",
       "    .dataframe tbody tr th:only-of-type {\n",
       "        vertical-align: middle;\n",
       "    }\n",
       "\n",
       "    .dataframe tbody tr th {\n",
       "        vertical-align: top;\n",
       "    }\n",
       "\n",
       "    .dataframe thead th {\n",
       "        text-align: right;\n",
       "    }\n",
       "</style>\n",
       "<table border=\"1\" class=\"dataframe\">\n",
       "  <thead>\n",
       "    <tr style=\"text-align: right;\">\n",
       "      <th></th>\n",
       "      <th>Num</th>\n",
       "      <th>Title</th>\n",
       "      <th>Value</th>\n",
       "      <th>Series or Movie</th>\n",
       "      <th>originCountry</th>\n",
       "      <th>Genre</th>\n",
       "      <th>country_all</th>\n",
       "      <th>countryCount</th>\n",
       "    </tr>\n",
       "  </thead>\n",
       "  <tbody>\n",
       "    <tr>\n",
       "      <th>0</th>\n",
       "      <td>0</td>\n",
       "      <td>thequeensgambit</td>\n",
       "      <td>44867</td>\n",
       "      <td>TV</td>\n",
       "      <td>United States</td>\n",
       "      <td>Drama</td>\n",
       "      <td>['Argentina', 'Australia', 'Belgium', 'Brazil'...</td>\n",
       "      <td>36</td>\n",
       "    </tr>\n",
       "  </tbody>\n",
       "</table>\n",
       "</div>"
      ],
      "text/plain": [
       "   Num            Title  Value Series or Movie  originCountry  Genre  \\\n",
       "0    0  thequeensgambit  44867              TV  United States  Drama   \n",
       "\n",
       "                                         country_all  countryCount  \n",
       "0  ['Argentina', 'Australia', 'Belgium', 'Brazil'...            36  "
      ]
     },
     "execution_count": 2,
     "metadata": {},
     "output_type": "execute_result"
    }
   ],
   "source": [
    "df=pd.read_csv('3.1_original_useDf_0714.csv')\n",
    "df.head(1)"
   ]
  },
  {
   "cell_type": "code",
   "execution_count": 3,
   "id": "05cab451",
   "metadata": {
    "ExecuteTime": {
     "end_time": "2021-07-14T11:43:47.082301Z",
     "start_time": "2021-07-14T11:43:47.076380Z"
    }
   },
   "outputs": [
    {
     "data": {
      "text/plain": [
       "Num                  0\n",
       "Title                0\n",
       "Value                0\n",
       "Series or Movie      0\n",
       "originCountry      206\n",
       "Genre              370\n",
       "country_all          0\n",
       "countryCount         0\n",
       "dtype: int64"
      ]
     },
     "execution_count": 3,
     "metadata": {},
     "output_type": "execute_result"
    }
   ],
   "source": [
    "# 결측치 확인\n",
    "df.isnull().sum()"
   ]
  },
  {
   "cell_type": "code",
   "execution_count": 4,
   "id": "224f527e",
   "metadata": {
    "ExecuteTime": {
     "end_time": "2021-07-14T11:43:47.234803Z",
     "start_time": "2021-07-14T11:43:47.218970Z"
    }
   },
   "outputs": [
    {
     "data": {
      "text/html": [
       "<div>\n",
       "<style scoped>\n",
       "    .dataframe tbody tr th:only-of-type {\n",
       "        vertical-align: middle;\n",
       "    }\n",
       "\n",
       "    .dataframe tbody tr th {\n",
       "        vertical-align: top;\n",
       "    }\n",
       "\n",
       "    .dataframe thead th {\n",
       "        text-align: right;\n",
       "    }\n",
       "</style>\n",
       "<table border=\"1\" class=\"dataframe\">\n",
       "  <thead>\n",
       "    <tr style=\"text-align: right;\">\n",
       "      <th></th>\n",
       "      <th>Num</th>\n",
       "      <th>Value</th>\n",
       "      <th>countryCount</th>\n",
       "    </tr>\n",
       "  </thead>\n",
       "  <tbody>\n",
       "    <tr>\n",
       "      <th>count</th>\n",
       "      <td>2960.0</td>\n",
       "      <td>2960.0</td>\n",
       "      <td>2960.0</td>\n",
       "    </tr>\n",
       "    <tr>\n",
       "      <th>mean</th>\n",
       "      <td>1480.0</td>\n",
       "      <td>634.0</td>\n",
       "      <td>16.0</td>\n",
       "    </tr>\n",
       "    <tr>\n",
       "      <th>std</th>\n",
       "      <td>855.0</td>\n",
       "      <td>2202.0</td>\n",
       "      <td>14.0</td>\n",
       "    </tr>\n",
       "    <tr>\n",
       "      <th>min</th>\n",
       "      <td>0.0</td>\n",
       "      <td>1.0</td>\n",
       "      <td>1.0</td>\n",
       "    </tr>\n",
       "    <tr>\n",
       "      <th>25%</th>\n",
       "      <td>740.0</td>\n",
       "      <td>22.0</td>\n",
       "      <td>3.0</td>\n",
       "    </tr>\n",
       "    <tr>\n",
       "      <th>50%</th>\n",
       "      <td>1480.0</td>\n",
       "      <td>80.0</td>\n",
       "      <td>10.0</td>\n",
       "    </tr>\n",
       "    <tr>\n",
       "      <th>75%</th>\n",
       "      <td>2219.0</td>\n",
       "      <td>321.0</td>\n",
       "      <td>35.0</td>\n",
       "    </tr>\n",
       "    <tr>\n",
       "      <th>max</th>\n",
       "      <td>2959.0</td>\n",
       "      <td>44867.0</td>\n",
       "      <td>37.0</td>\n",
       "    </tr>\n",
       "  </tbody>\n",
       "</table>\n",
       "</div>"
      ],
      "text/plain": [
       "          Num    Value  countryCount\n",
       "count  2960.0   2960.0        2960.0\n",
       "mean   1480.0    634.0          16.0\n",
       "std     855.0   2202.0          14.0\n",
       "min       0.0      1.0           1.0\n",
       "25%     740.0     22.0           3.0\n",
       "50%    1480.0     80.0          10.0\n",
       "75%    2219.0    321.0          35.0\n",
       "max    2959.0  44867.0          37.0"
      ]
     },
     "execution_count": 4,
     "metadata": {},
     "output_type": "execute_result"
    }
   ],
   "source": [
    "df.describe().round()"
   ]
  },
  {
   "cell_type": "markdown",
   "id": "a3b2c994",
   "metadata": {},
   "source": [
    "# viewpoint 정규화 "
   ]
  },
  {
   "cell_type": "markdown",
   "id": "757c1059",
   "metadata": {},
   "source": [
    "## min-max 정규화 "
   ]
  },
  {
   "cell_type": "code",
   "execution_count": 5,
   "id": "05d2c30a",
   "metadata": {
    "ExecuteTime": {
     "end_time": "2021-07-14T11:43:47.383671Z",
     "start_time": "2021-07-14T11:43:47.366597Z"
    }
   },
   "outputs": [
    {
     "data": {
      "text/html": [
       "<div>\n",
       "<style scoped>\n",
       "    .dataframe tbody tr th:only-of-type {\n",
       "        vertical-align: middle;\n",
       "    }\n",
       "\n",
       "    .dataframe tbody tr th {\n",
       "        vertical-align: top;\n",
       "    }\n",
       "\n",
       "    .dataframe thead th {\n",
       "        text-align: right;\n",
       "    }\n",
       "</style>\n",
       "<table border=\"1\" class=\"dataframe\">\n",
       "  <thead>\n",
       "    <tr style=\"text-align: right;\">\n",
       "      <th></th>\n",
       "      <th>Num</th>\n",
       "      <th>Title</th>\n",
       "      <th>Value</th>\n",
       "      <th>Series or Movie</th>\n",
       "      <th>originCountry</th>\n",
       "      <th>Genre</th>\n",
       "      <th>country_all</th>\n",
       "      <th>countryCount</th>\n",
       "      <th>Value_std</th>\n",
       "      <th>countryCount_std</th>\n",
       "    </tr>\n",
       "  </thead>\n",
       "  <tbody>\n",
       "    <tr>\n",
       "      <th>0</th>\n",
       "      <td>0</td>\n",
       "      <td>thequeensgambit</td>\n",
       "      <td>44867</td>\n",
       "      <td>TV</td>\n",
       "      <td>United States</td>\n",
       "      <td>Drama</td>\n",
       "      <td>['Argentina', 'Australia', 'Belgium', 'Brazil'...</td>\n",
       "      <td>36</td>\n",
       "      <td>1.0</td>\n",
       "      <td>0.972222</td>\n",
       "    </tr>\n",
       "  </tbody>\n",
       "</table>\n",
       "</div>"
      ],
      "text/plain": [
       "   Num            Title  Value Series or Movie  originCountry  Genre  \\\n",
       "0    0  thequeensgambit  44867              TV  United States  Drama   \n",
       "\n",
       "                                         country_all  countryCount  Value_std  \\\n",
       "0  ['Argentina', 'Australia', 'Belgium', 'Brazil'...            36        1.0   \n",
       "\n",
       "   countryCount_std  \n",
       "0          0.972222  "
      ]
     },
     "execution_count": 5,
     "metadata": {},
     "output_type": "execute_result"
    }
   ],
   "source": [
    "min_max_scaler = MinMaxScaler()\n",
    "value = df[['Value','countryCount']].values\n",
    "\n",
    "#df['Value_std'] = min_max_scaler.fit_transform(value.reshape(-1,1))\n",
    "df[['Value_std','countryCount_std']] = min_max_scaler.fit_transform(value)\n",
    "\n",
    "df.head(1)"
   ]
  },
  {
   "cell_type": "code",
   "execution_count": 6,
   "id": "7a35cb48",
   "metadata": {
    "ExecuteTime": {
     "end_time": "2021-07-14T11:43:47.566817Z",
     "start_time": "2021-07-14T11:43:47.546336Z"
    }
   },
   "outputs": [
    {
     "data": {
      "text/html": [
       "<div>\n",
       "<style scoped>\n",
       "    .dataframe tbody tr th:only-of-type {\n",
       "        vertical-align: middle;\n",
       "    }\n",
       "\n",
       "    .dataframe tbody tr th {\n",
       "        vertical-align: top;\n",
       "    }\n",
       "\n",
       "    .dataframe thead th {\n",
       "        text-align: right;\n",
       "    }\n",
       "</style>\n",
       "<table border=\"1\" class=\"dataframe\">\n",
       "  <thead>\n",
       "    <tr style=\"text-align: right;\">\n",
       "      <th></th>\n",
       "      <th>Num</th>\n",
       "      <th>Value</th>\n",
       "      <th>countryCount</th>\n",
       "      <th>Value_std</th>\n",
       "      <th>countryCount_std</th>\n",
       "    </tr>\n",
       "  </thead>\n",
       "  <tbody>\n",
       "    <tr>\n",
       "      <th>count</th>\n",
       "      <td>2960.000000</td>\n",
       "      <td>2960.000000</td>\n",
       "      <td>2960.000000</td>\n",
       "      <td>2960.000000</td>\n",
       "      <td>2960.000000</td>\n",
       "    </tr>\n",
       "    <tr>\n",
       "      <th>mean</th>\n",
       "      <td>1479.500000</td>\n",
       "      <td>633.733446</td>\n",
       "      <td>16.180405</td>\n",
       "      <td>0.014103</td>\n",
       "      <td>0.421678</td>\n",
       "    </tr>\n",
       "    <tr>\n",
       "      <th>std</th>\n",
       "      <td>854.622724</td>\n",
       "      <td>2202.145547</td>\n",
       "      <td>14.071531</td>\n",
       "      <td>0.049083</td>\n",
       "      <td>0.390876</td>\n",
       "    </tr>\n",
       "    <tr>\n",
       "      <th>min</th>\n",
       "      <td>0.000000</td>\n",
       "      <td>1.000000</td>\n",
       "      <td>1.000000</td>\n",
       "      <td>0.000000</td>\n",
       "      <td>0.000000</td>\n",
       "    </tr>\n",
       "    <tr>\n",
       "      <th>25%</th>\n",
       "      <td>739.750000</td>\n",
       "      <td>22.000000</td>\n",
       "      <td>3.000000</td>\n",
       "      <td>0.000468</td>\n",
       "      <td>0.055556</td>\n",
       "    </tr>\n",
       "    <tr>\n",
       "      <th>50%</th>\n",
       "      <td>1479.500000</td>\n",
       "      <td>80.000000</td>\n",
       "      <td>10.000000</td>\n",
       "      <td>0.001761</td>\n",
       "      <td>0.250000</td>\n",
       "    </tr>\n",
       "    <tr>\n",
       "      <th>75%</th>\n",
       "      <td>2219.250000</td>\n",
       "      <td>321.000000</td>\n",
       "      <td>35.000000</td>\n",
       "      <td>0.007132</td>\n",
       "      <td>0.944444</td>\n",
       "    </tr>\n",
       "    <tr>\n",
       "      <th>max</th>\n",
       "      <td>2959.000000</td>\n",
       "      <td>44867.000000</td>\n",
       "      <td>37.000000</td>\n",
       "      <td>1.000000</td>\n",
       "      <td>1.000000</td>\n",
       "    </tr>\n",
       "  </tbody>\n",
       "</table>\n",
       "</div>"
      ],
      "text/plain": [
       "               Num         Value  countryCount    Value_std  countryCount_std\n",
       "count  2960.000000   2960.000000   2960.000000  2960.000000       2960.000000\n",
       "mean   1479.500000    633.733446     16.180405     0.014103          0.421678\n",
       "std     854.622724   2202.145547     14.071531     0.049083          0.390876\n",
       "min       0.000000      1.000000      1.000000     0.000000          0.000000\n",
       "25%     739.750000     22.000000      3.000000     0.000468          0.055556\n",
       "50%    1479.500000     80.000000     10.000000     0.001761          0.250000\n",
       "75%    2219.250000    321.000000     35.000000     0.007132          0.944444\n",
       "max    2959.000000  44867.000000     37.000000     1.000000          1.000000"
      ]
     },
     "execution_count": 6,
     "metadata": {},
     "output_type": "execute_result"
    }
   ],
   "source": [
    "df.describe()"
   ]
  },
  {
   "cell_type": "markdown",
   "id": "362aa8c4",
   "metadata": {},
   "source": [
    "## 표준화 실시"
   ]
  },
  {
   "cell_type": "code",
   "execution_count": 7,
   "id": "e412a997",
   "metadata": {
    "ExecuteTime": {
     "end_time": "2021-07-14T11:43:48.826776Z",
     "start_time": "2021-07-14T11:43:48.809165Z"
    }
   },
   "outputs": [
    {
     "data": {
      "text/html": [
       "<div>\n",
       "<style scoped>\n",
       "    .dataframe tbody tr th:only-of-type {\n",
       "        vertical-align: middle;\n",
       "    }\n",
       "\n",
       "    .dataframe tbody tr th {\n",
       "        vertical-align: top;\n",
       "    }\n",
       "\n",
       "    .dataframe thead th {\n",
       "        text-align: right;\n",
       "    }\n",
       "</style>\n",
       "<table border=\"1\" class=\"dataframe\">\n",
       "  <thead>\n",
       "    <tr style=\"text-align: right;\">\n",
       "      <th></th>\n",
       "      <th>Num</th>\n",
       "      <th>Title</th>\n",
       "      <th>Value</th>\n",
       "      <th>Series or Movie</th>\n",
       "      <th>originCountry</th>\n",
       "      <th>Genre</th>\n",
       "      <th>country_all</th>\n",
       "      <th>countryCount</th>\n",
       "      <th>Value_std</th>\n",
       "      <th>countryCount_std</th>\n",
       "      <th>Value_norm</th>\n",
       "      <th>countryCount_norm</th>\n",
       "    </tr>\n",
       "  </thead>\n",
       "  <tbody>\n",
       "    <tr>\n",
       "      <th>0</th>\n",
       "      <td>0</td>\n",
       "      <td>thequeensgambit</td>\n",
       "      <td>44867</td>\n",
       "      <td>TV</td>\n",
       "      <td>United States</td>\n",
       "      <td>Drama</td>\n",
       "      <td>['Argentina', 'Australia', 'Belgium', 'Brazil'...</td>\n",
       "      <td>36</td>\n",
       "      <td>1.0</td>\n",
       "      <td>0.972222</td>\n",
       "      <td>20.089835</td>\n",
       "      <td>1.408727</td>\n",
       "    </tr>\n",
       "  </tbody>\n",
       "</table>\n",
       "</div>"
      ],
      "text/plain": [
       "   Num            Title  Value Series or Movie  originCountry  Genre  \\\n",
       "0    0  thequeensgambit  44867              TV  United States  Drama   \n",
       "\n",
       "                                         country_all  countryCount  Value_std  \\\n",
       "0  ['Argentina', 'Australia', 'Belgium', 'Brazil'...            36        1.0   \n",
       "\n",
       "   countryCount_std  Value_norm  countryCount_norm  \n",
       "0          0.972222   20.089835           1.408727  "
      ]
     },
     "execution_count": 7,
     "metadata": {},
     "output_type": "execute_result"
    }
   ],
   "source": [
    "scaler = StandardScaler()\n",
    "value2=df[['Value_std','countryCount_std']].values\n",
    "\n",
    "df[['Value_norm','countryCount_norm']] = scaler.fit_transform(value2)\n",
    "\n",
    "df.head(1)"
   ]
  },
  {
   "cell_type": "code",
   "execution_count": 8,
   "id": "90c6c8be",
   "metadata": {
    "ExecuteTime": {
     "end_time": "2021-07-14T11:43:49.218459Z",
     "start_time": "2021-07-14T11:43:49.186575Z"
    }
   },
   "outputs": [
    {
     "data": {
      "text/html": [
       "<div>\n",
       "<style scoped>\n",
       "    .dataframe tbody tr th:only-of-type {\n",
       "        vertical-align: middle;\n",
       "    }\n",
       "\n",
       "    .dataframe tbody tr th {\n",
       "        vertical-align: top;\n",
       "    }\n",
       "\n",
       "    .dataframe thead th {\n",
       "        text-align: right;\n",
       "    }\n",
       "</style>\n",
       "<table border=\"1\" class=\"dataframe\">\n",
       "  <thead>\n",
       "    <tr style=\"text-align: right;\">\n",
       "      <th></th>\n",
       "      <th>Num</th>\n",
       "      <th>Value</th>\n",
       "      <th>countryCount</th>\n",
       "      <th>Value_std</th>\n",
       "      <th>countryCount_std</th>\n",
       "      <th>Value_norm</th>\n",
       "      <th>countryCount_norm</th>\n",
       "    </tr>\n",
       "  </thead>\n",
       "  <tbody>\n",
       "    <tr>\n",
       "      <th>count</th>\n",
       "      <td>2960.000000</td>\n",
       "      <td>2960.000000</td>\n",
       "      <td>2960.000000</td>\n",
       "      <td>2960.000000</td>\n",
       "      <td>2960.000000</td>\n",
       "      <td>2.960000e+03</td>\n",
       "      <td>2.960000e+03</td>\n",
       "    </tr>\n",
       "    <tr>\n",
       "      <th>mean</th>\n",
       "      <td>1479.500000</td>\n",
       "      <td>633.733446</td>\n",
       "      <td>16.180405</td>\n",
       "      <td>0.014103</td>\n",
       "      <td>0.421678</td>\n",
       "      <td>6.420915e-16</td>\n",
       "      <td>2.709357e-16</td>\n",
       "    </tr>\n",
       "    <tr>\n",
       "      <th>std</th>\n",
       "      <td>854.622724</td>\n",
       "      <td>2202.145547</td>\n",
       "      <td>14.071531</td>\n",
       "      <td>0.049083</td>\n",
       "      <td>0.390876</td>\n",
       "      <td>1.000169e+00</td>\n",
       "      <td>1.000169e+00</td>\n",
       "    </tr>\n",
       "    <tr>\n",
       "      <th>min</th>\n",
       "      <td>0.000000</td>\n",
       "      <td>1.000000</td>\n",
       "      <td>1.000000</td>\n",
       "      <td>0.000000</td>\n",
       "      <td>0.000000</td>\n",
       "      <td>-2.873744e-01</td>\n",
       "      <td>-1.078985e+00</td>\n",
       "    </tr>\n",
       "    <tr>\n",
       "      <th>25%</th>\n",
       "      <td>739.750000</td>\n",
       "      <td>22.000000</td>\n",
       "      <td>3.000000</td>\n",
       "      <td>0.000468</td>\n",
       "      <td>0.055556</td>\n",
       "      <td>-2.778367e-01</td>\n",
       "      <td>-9.368300e-01</td>\n",
       "    </tr>\n",
       "    <tr>\n",
       "      <th>50%</th>\n",
       "      <td>1479.500000</td>\n",
       "      <td>80.000000</td>\n",
       "      <td>10.000000</td>\n",
       "      <td>0.001761</td>\n",
       "      <td>0.250000</td>\n",
       "      <td>-2.514943e-01</td>\n",
       "      <td>-4.392876e-01</td>\n",
       "    </tr>\n",
       "    <tr>\n",
       "      <th>75%</th>\n",
       "      <td>2219.250000</td>\n",
       "      <td>321.000000</td>\n",
       "      <td>35.000000</td>\n",
       "      <td>0.007132</td>\n",
       "      <td>0.944444</td>\n",
       "      <td>-1.420371e-01</td>\n",
       "      <td>1.337649e+00</td>\n",
       "    </tr>\n",
       "    <tr>\n",
       "      <th>max</th>\n",
       "      <td>2959.000000</td>\n",
       "      <td>44867.000000</td>\n",
       "      <td>37.000000</td>\n",
       "      <td>1.000000</td>\n",
       "      <td>1.000000</td>\n",
       "      <td>2.008983e+01</td>\n",
       "      <td>1.479804e+00</td>\n",
       "    </tr>\n",
       "  </tbody>\n",
       "</table>\n",
       "</div>"
      ],
      "text/plain": [
       "               Num         Value  countryCount    Value_std  countryCount_std  \\\n",
       "count  2960.000000   2960.000000   2960.000000  2960.000000       2960.000000   \n",
       "mean   1479.500000    633.733446     16.180405     0.014103          0.421678   \n",
       "std     854.622724   2202.145547     14.071531     0.049083          0.390876   \n",
       "min       0.000000      1.000000      1.000000     0.000000          0.000000   \n",
       "25%     739.750000     22.000000      3.000000     0.000468          0.055556   \n",
       "50%    1479.500000     80.000000     10.000000     0.001761          0.250000   \n",
       "75%    2219.250000    321.000000     35.000000     0.007132          0.944444   \n",
       "max    2959.000000  44867.000000     37.000000     1.000000          1.000000   \n",
       "\n",
       "         Value_norm  countryCount_norm  \n",
       "count  2.960000e+03       2.960000e+03  \n",
       "mean   6.420915e-16       2.709357e-16  \n",
       "std    1.000169e+00       1.000169e+00  \n",
       "min   -2.873744e-01      -1.078985e+00  \n",
       "25%   -2.778367e-01      -9.368300e-01  \n",
       "50%   -2.514943e-01      -4.392876e-01  \n",
       "75%   -1.420371e-01       1.337649e+00  \n",
       "max    2.008983e+01       1.479804e+00  "
      ]
     },
     "execution_count": 8,
     "metadata": {},
     "output_type": "execute_result"
    }
   ],
   "source": [
    "df.describe()"
   ]
  },
  {
   "cell_type": "markdown",
   "id": "90f42310",
   "metadata": {},
   "source": [
    "# kind of producing countries 와 viewpoint"
   ]
  },
  {
   "cell_type": "markdown",
   "id": "73b9c45c",
   "metadata": {},
   "source": [
    "## df_country"
   ]
  },
  {
   "cell_type": "code",
   "execution_count": 9,
   "id": "59aca2a5",
   "metadata": {
    "ExecuteTime": {
     "end_time": "2021-07-14T11:43:50.651847Z",
     "start_time": "2021-07-14T11:43:50.648479Z"
    }
   },
   "outputs": [],
   "source": [
    "df_country = df[['Value','originCountry']]"
   ]
  },
  {
   "cell_type": "code",
   "execution_count": 10,
   "id": "0d999cc2",
   "metadata": {
    "ExecuteTime": {
     "end_time": "2021-07-14T11:43:51.014367Z",
     "start_time": "2021-07-14T11:43:51.007937Z"
    }
   },
   "outputs": [
    {
     "data": {
      "text/html": [
       "<div>\n",
       "<style scoped>\n",
       "    .dataframe tbody tr th:only-of-type {\n",
       "        vertical-align: middle;\n",
       "    }\n",
       "\n",
       "    .dataframe tbody tr th {\n",
       "        vertical-align: top;\n",
       "    }\n",
       "\n",
       "    .dataframe thead th {\n",
       "        text-align: right;\n",
       "    }\n",
       "</style>\n",
       "<table border=\"1\" class=\"dataframe\">\n",
       "  <thead>\n",
       "    <tr style=\"text-align: right;\">\n",
       "      <th></th>\n",
       "      <th>Value</th>\n",
       "      <th>originCountry</th>\n",
       "    </tr>\n",
       "  </thead>\n",
       "  <tbody>\n",
       "    <tr>\n",
       "      <th>0</th>\n",
       "      <td>44867</td>\n",
       "      <td>United States</td>\n",
       "    </tr>\n",
       "  </tbody>\n",
       "</table>\n",
       "</div>"
      ],
      "text/plain": [
       "   Value  originCountry\n",
       "0  44867  United States"
      ]
     },
     "execution_count": 10,
     "metadata": {},
     "output_type": "execute_result"
    }
   ],
   "source": [
    "df_country.head(1)"
   ]
  },
  {
   "cell_type": "markdown",
   "id": "c7094370",
   "metadata": {},
   "source": [
    "## null값 확인 및 제거 "
   ]
  },
  {
   "cell_type": "code",
   "execution_count": 11,
   "id": "5a372ab3",
   "metadata": {
    "ExecuteTime": {
     "end_time": "2021-07-14T11:43:51.917539Z",
     "start_time": "2021-07-14T11:43:51.911813Z"
    }
   },
   "outputs": [
    {
     "data": {
      "text/plain": [
       "Value              0\n",
       "originCountry    206\n",
       "dtype: int64"
      ]
     },
     "execution_count": 11,
     "metadata": {},
     "output_type": "execute_result"
    }
   ],
   "source": [
    "df_country.isnull().sum()"
   ]
  },
  {
   "cell_type": "code",
   "execution_count": 12,
   "id": "724caf5e",
   "metadata": {
    "ExecuteTime": {
     "end_time": "2021-07-14T11:43:52.189802Z",
     "start_time": "2021-07-14T11:43:52.181433Z"
    }
   },
   "outputs": [],
   "source": [
    "df_country = df_country.dropna(subset=['originCountry'])\n",
    "df_country=df_country.reset_index()"
   ]
  },
  {
   "cell_type": "code",
   "execution_count": 13,
   "id": "299cb6c3",
   "metadata": {
    "ExecuteTime": {
     "end_time": "2021-07-14T11:43:53.427744Z",
     "start_time": "2021-07-14T11:43:53.419355Z"
    }
   },
   "outputs": [
    {
     "data": {
      "text/html": [
       "<div>\n",
       "<style scoped>\n",
       "    .dataframe tbody tr th:only-of-type {\n",
       "        vertical-align: middle;\n",
       "    }\n",
       "\n",
       "    .dataframe tbody tr th {\n",
       "        vertical-align: top;\n",
       "    }\n",
       "\n",
       "    .dataframe thead th {\n",
       "        text-align: right;\n",
       "    }\n",
       "</style>\n",
       "<table border=\"1\" class=\"dataframe\">\n",
       "  <thead>\n",
       "    <tr style=\"text-align: right;\">\n",
       "      <th></th>\n",
       "      <th>index</th>\n",
       "      <th>Value</th>\n",
       "      <th>originCountry</th>\n",
       "    </tr>\n",
       "  </thead>\n",
       "  <tbody>\n",
       "    <tr>\n",
       "      <th>2749</th>\n",
       "      <td>2955</td>\n",
       "      <td>1</td>\n",
       "      <td>United States</td>\n",
       "    </tr>\n",
       "    <tr>\n",
       "      <th>2750</th>\n",
       "      <td>2956</td>\n",
       "      <td>1</td>\n",
       "      <td>United States</td>\n",
       "    </tr>\n",
       "    <tr>\n",
       "      <th>2751</th>\n",
       "      <td>2957</td>\n",
       "      <td>1</td>\n",
       "      <td>United States</td>\n",
       "    </tr>\n",
       "    <tr>\n",
       "      <th>2752</th>\n",
       "      <td>2958</td>\n",
       "      <td>1</td>\n",
       "      <td>United States</td>\n",
       "    </tr>\n",
       "    <tr>\n",
       "      <th>2753</th>\n",
       "      <td>2959</td>\n",
       "      <td>1</td>\n",
       "      <td>United States</td>\n",
       "    </tr>\n",
       "  </tbody>\n",
       "</table>\n",
       "</div>"
      ],
      "text/plain": [
       "      index  Value  originCountry\n",
       "2749   2955      1  United States\n",
       "2750   2956      1  United States\n",
       "2751   2957      1  United States\n",
       "2752   2958      1  United States\n",
       "2753   2959      1  United States"
      ]
     },
     "execution_count": 13,
     "metadata": {},
     "output_type": "execute_result"
    }
   ],
   "source": [
    "df_country.tail(5)"
   ]
  },
  {
   "cell_type": "code",
   "execution_count": 14,
   "id": "7939e45c",
   "metadata": {
    "ExecuteTime": {
     "end_time": "2021-07-14T11:44:01.890288Z",
     "start_time": "2021-07-14T11:44:01.879823Z"
    }
   },
   "outputs": [
    {
     "data": {
      "text/html": [
       "<div>\n",
       "<style scoped>\n",
       "    .dataframe tbody tr th:only-of-type {\n",
       "        vertical-align: middle;\n",
       "    }\n",
       "\n",
       "    .dataframe tbody tr th {\n",
       "        vertical-align: top;\n",
       "    }\n",
       "\n",
       "    .dataframe thead th {\n",
       "        text-align: right;\n",
       "    }\n",
       "</style>\n",
       "<table border=\"1\" class=\"dataframe\">\n",
       "  <thead>\n",
       "    <tr style=\"text-align: right;\">\n",
       "      <th></th>\n",
       "      <th>Value</th>\n",
       "      <th>originCountry</th>\n",
       "    </tr>\n",
       "  </thead>\n",
       "  <tbody>\n",
       "    <tr>\n",
       "      <th>0</th>\n",
       "      <td>44867</td>\n",
       "      <td>United States</td>\n",
       "    </tr>\n",
       "    <tr>\n",
       "      <th>1</th>\n",
       "      <td>42149</td>\n",
       "      <td>Poland</td>\n",
       "    </tr>\n",
       "    <tr>\n",
       "      <th>2</th>\n",
       "      <td>27138</td>\n",
       "      <td>United States</td>\n",
       "    </tr>\n",
       "    <tr>\n",
       "      <th>3</th>\n",
       "      <td>25729</td>\n",
       "      <td>United States</td>\n",
       "    </tr>\n",
       "    <tr>\n",
       "      <th>4</th>\n",
       "      <td>23480</td>\n",
       "      <td>United States</td>\n",
       "    </tr>\n",
       "    <tr>\n",
       "      <th>...</th>\n",
       "      <td>...</td>\n",
       "      <td>...</td>\n",
       "    </tr>\n",
       "    <tr>\n",
       "      <th>2749</th>\n",
       "      <td>1</td>\n",
       "      <td>United States</td>\n",
       "    </tr>\n",
       "    <tr>\n",
       "      <th>2750</th>\n",
       "      <td>1</td>\n",
       "      <td>United States</td>\n",
       "    </tr>\n",
       "    <tr>\n",
       "      <th>2751</th>\n",
       "      <td>1</td>\n",
       "      <td>United States</td>\n",
       "    </tr>\n",
       "    <tr>\n",
       "      <th>2752</th>\n",
       "      <td>1</td>\n",
       "      <td>United States</td>\n",
       "    </tr>\n",
       "    <tr>\n",
       "      <th>2753</th>\n",
       "      <td>1</td>\n",
       "      <td>United States</td>\n",
       "    </tr>\n",
       "  </tbody>\n",
       "</table>\n",
       "<p>2754 rows × 2 columns</p>\n",
       "</div>"
      ],
      "text/plain": [
       "      Value  originCountry\n",
       "0     44867  United States\n",
       "1     42149         Poland\n",
       "2     27138  United States\n",
       "3     25729  United States\n",
       "4     23480  United States\n",
       "...     ...            ...\n",
       "2749      1  United States\n",
       "2750      1  United States\n",
       "2751      1  United States\n",
       "2752      1  United States\n",
       "2753      1  United States\n",
       "\n",
       "[2754 rows x 2 columns]"
      ]
     },
     "execution_count": 14,
     "metadata": {},
     "output_type": "execute_result"
    }
   ],
   "source": [
    "# 컬럼값 변경\n",
    "df_country=df_country[['Value','originCountry']]\n",
    "df_country"
   ]
  },
  {
   "cell_type": "code",
   "execution_count": 15,
   "id": "6dd66cb4",
   "metadata": {
    "ExecuteTime": {
     "end_time": "2021-07-14T11:44:04.470269Z",
     "start_time": "2021-07-14T11:44:04.464830Z"
    }
   },
   "outputs": [
    {
     "data": {
      "text/plain": [
       "Value            0\n",
       "originCountry    0\n",
       "dtype: int64"
      ]
     },
     "execution_count": 15,
     "metadata": {},
     "output_type": "execute_result"
    }
   ],
   "source": [
    "# 결측치 확인\n",
    "df_country.isnull().sum()"
   ]
  },
  {
   "cell_type": "markdown",
   "id": "16dec16e",
   "metadata": {},
   "source": [
    "# Which country produces the most Contents?"
   ]
  },
  {
   "cell_type": "markdown",
   "id": "0b4ec4a9",
   "metadata": {},
   "source": [
    "## 2020 넷플릭스 컨텐츠 인기순위 생산국가 (종합) "
   ]
  },
  {
   "cell_type": "code",
   "execution_count": 29,
   "id": "c79b171e",
   "metadata": {
    "ExecuteTime": {
     "end_time": "2021-07-14T11:59:58.907296Z",
     "start_time": "2021-07-14T11:59:58.882973Z"
    }
   },
   "outputs": [
    {
     "data": {
      "text/html": [
       "<div>\n",
       "<style scoped>\n",
       "    .dataframe tbody tr th:only-of-type {\n",
       "        vertical-align: middle;\n",
       "    }\n",
       "\n",
       "    .dataframe tbody tr th {\n",
       "        vertical-align: top;\n",
       "    }\n",
       "\n",
       "    .dataframe thead th {\n",
       "        text-align: right;\n",
       "    }\n",
       "</style>\n",
       "<table border=\"1\" class=\"dataframe\">\n",
       "  <thead>\n",
       "    <tr style=\"text-align: right;\">\n",
       "      <th></th>\n",
       "      <th>Value</th>\n",
       "      <th>originCountry</th>\n",
       "    </tr>\n",
       "  </thead>\n",
       "  <tbody>\n",
       "    <tr>\n",
       "      <th>0</th>\n",
       "      <td>44867</td>\n",
       "      <td>United States</td>\n",
       "    </tr>\n",
       "    <tr>\n",
       "      <th>1</th>\n",
       "      <td>42149</td>\n",
       "      <td>Poland</td>\n",
       "    </tr>\n",
       "    <tr>\n",
       "      <th>2</th>\n",
       "      <td>27138</td>\n",
       "      <td>United States</td>\n",
       "    </tr>\n",
       "    <tr>\n",
       "      <th>3</th>\n",
       "      <td>25729</td>\n",
       "      <td>United States</td>\n",
       "    </tr>\n",
       "    <tr>\n",
       "      <th>4</th>\n",
       "      <td>23480</td>\n",
       "      <td>United States</td>\n",
       "    </tr>\n",
       "    <tr>\n",
       "      <th>...</th>\n",
       "      <td>...</td>\n",
       "      <td>...</td>\n",
       "    </tr>\n",
       "    <tr>\n",
       "      <th>2749</th>\n",
       "      <td>1</td>\n",
       "      <td>United States</td>\n",
       "    </tr>\n",
       "    <tr>\n",
       "      <th>2750</th>\n",
       "      <td>1</td>\n",
       "      <td>United States</td>\n",
       "    </tr>\n",
       "    <tr>\n",
       "      <th>2751</th>\n",
       "      <td>1</td>\n",
       "      <td>United States</td>\n",
       "    </tr>\n",
       "    <tr>\n",
       "      <th>2752</th>\n",
       "      <td>1</td>\n",
       "      <td>United States</td>\n",
       "    </tr>\n",
       "    <tr>\n",
       "      <th>2753</th>\n",
       "      <td>1</td>\n",
       "      <td>United States</td>\n",
       "    </tr>\n",
       "  </tbody>\n",
       "</table>\n",
       "<p>2754 rows × 2 columns</p>\n",
       "</div>"
      ],
      "text/plain": [
       "      Value  originCountry\n",
       "0     44867  United States\n",
       "1     42149         Poland\n",
       "2     27138  United States\n",
       "3     25729  United States\n",
       "4     23480  United States\n",
       "...     ...            ...\n",
       "2749      1  United States\n",
       "2750      1  United States\n",
       "2751      1  United States\n",
       "2752      1  United States\n",
       "2753      1  United States\n",
       "\n",
       "[2754 rows x 2 columns]"
      ]
     },
     "execution_count": 29,
     "metadata": {},
     "output_type": "execute_result"
    }
   ],
   "source": [
    "view_all = df_country\n",
    "view_all"
   ]
  },
  {
   "cell_type": "markdown",
   "id": "a1cfcafa",
   "metadata": {},
   "source": [
    "### 생산 국가별 영화 제작 수"
   ]
  },
  {
   "cell_type": "markdown",
   "id": "782a9453",
   "metadata": {},
   "source": [
    "#### conter_viewAll 변수 생성"
   ]
  },
  {
   "cell_type": "code",
   "execution_count": 30,
   "id": "e6190956",
   "metadata": {
    "ExecuteTime": {
     "end_time": "2021-07-14T12:03:23.729507Z",
     "start_time": "2021-07-14T12:03:23.721234Z"
    },
    "code_folding": []
   },
   "outputs": [
    {
     "data": {
      "text/plain": [
       "United States     1570\n",
       "United Kingdom     177\n",
       "Japan              126\n",
       "South Korea        108\n",
       "India               82\n",
       "                  ... \n",
       "Luxembourg           1\n",
       "Cyprus               1\n",
       "Angola               1\n",
       "Bangladesh           1\n",
       "Zimbabwe             1\n",
       "Name: originCountry, Length: 65, dtype: int64"
      ]
     },
     "execution_count": 30,
     "metadata": {},
     "output_type": "execute_result"
    }
   ],
   "source": [
    "# 생산국가의 빈도수 세기\n",
    "counter_viewAll=view_all.originCountry.value_counts()\n",
    "counter_viewAll"
   ]
  },
  {
   "cell_type": "markdown",
   "id": "b5b92094",
   "metadata": {},
   "source": [
    "#### Series를 DataFrame으로 변경 "
   ]
  },
  {
   "cell_type": "code",
   "execution_count": 37,
   "id": "83e2907c",
   "metadata": {
    "ExecuteTime": {
     "end_time": "2021-07-14T12:10:28.301246Z",
     "start_time": "2021-07-14T12:10:28.291489Z"
    },
    "scrolled": true
   },
   "outputs": [
    {
     "ename": "TypeError",
     "evalue": "reset_index() got an unexpected keyword argument 'name'",
     "output_type": "error",
     "traceback": [
      "\u001b[0;31m---------------------------------------------------------------------------\u001b[0m",
      "\u001b[0;31mTypeError\u001b[0m                                 Traceback (most recent call last)",
      "\u001b[0;32m<ipython-input-37-68a8f0f4bf93>\u001b[0m in \u001b[0;36m<module>\u001b[0;34m\u001b[0m\n\u001b[0;32m----> 1\u001b[0;31m \u001b[0mcounter_all\u001b[0m\u001b[0;34m=\u001b[0m\u001b[0mcounter_viewAll\u001b[0m\u001b[0;34m.\u001b[0m\u001b[0mrename_axis\u001b[0m\u001b[0;34m(\u001b[0m\u001b[0;34m'originCountry'\u001b[0m\u001b[0;34m)\u001b[0m\u001b[0;34m.\u001b[0m\u001b[0mreset_index\u001b[0m\u001b[0;34m(\u001b[0m\u001b[0mname\u001b[0m\u001b[0;34m=\u001b[0m\u001b[0;34m'counts'\u001b[0m\u001b[0;34m)\u001b[0m\u001b[0;34m\u001b[0m\u001b[0;34m\u001b[0m\u001b[0m\n\u001b[0m\u001b[1;32m      2\u001b[0m \u001b[0mcounter_viewAll\u001b[0m\u001b[0;34m=\u001b[0m\u001b[0mcounter_all\u001b[0m\u001b[0;34m\u001b[0m\u001b[0;34m\u001b[0m\u001b[0m\n\u001b[1;32m      3\u001b[0m \u001b[0mcounter_viewAll\u001b[0m\u001b[0;34m\u001b[0m\u001b[0;34m\u001b[0m\u001b[0m\n",
      "\u001b[0;31mTypeError\u001b[0m: reset_index() got an unexpected keyword argument 'name'"
     ]
    }
   ],
   "source": [
    "counter_all=counter_viewAll.rename_axis('originCountry').reset_index(name='counts')\n",
    "counter_viewAll=counter_all\n",
    "counter_viewAll"
   ]
  },
  {
   "cell_type": "code",
   "execution_count": 38,
   "id": "bb257716",
   "metadata": {
    "ExecuteTime": {
     "end_time": "2021-07-14T12:10:46.954218Z",
     "start_time": "2021-07-14T12:10:46.946614Z"
    }
   },
   "outputs": [
    {
     "data": {
      "text/html": [
       "<div>\n",
       "<style scoped>\n",
       "    .dataframe tbody tr th:only-of-type {\n",
       "        vertical-align: middle;\n",
       "    }\n",
       "\n",
       "    .dataframe tbody tr th {\n",
       "        vertical-align: top;\n",
       "    }\n",
       "\n",
       "    .dataframe thead th {\n",
       "        text-align: right;\n",
       "    }\n",
       "</style>\n",
       "<table border=\"1\" class=\"dataframe\">\n",
       "  <thead>\n",
       "    <tr style=\"text-align: right;\">\n",
       "      <th></th>\n",
       "      <th>originCountry</th>\n",
       "      <th>counts</th>\n",
       "    </tr>\n",
       "  </thead>\n",
       "  <tbody>\n",
       "    <tr>\n",
       "      <th>0</th>\n",
       "      <td>United States</td>\n",
       "      <td>1570</td>\n",
       "    </tr>\n",
       "    <tr>\n",
       "      <th>1</th>\n",
       "      <td>United Kingdom</td>\n",
       "      <td>177</td>\n",
       "    </tr>\n",
       "    <tr>\n",
       "      <th>2</th>\n",
       "      <td>Japan</td>\n",
       "      <td>126</td>\n",
       "    </tr>\n",
       "    <tr>\n",
       "      <th>3</th>\n",
       "      <td>South Korea</td>\n",
       "      <td>108</td>\n",
       "    </tr>\n",
       "    <tr>\n",
       "      <th>4</th>\n",
       "      <td>India</td>\n",
       "      <td>82</td>\n",
       "    </tr>\n",
       "    <tr>\n",
       "      <th>5</th>\n",
       "      <td>France</td>\n",
       "      <td>73</td>\n",
       "    </tr>\n",
       "    <tr>\n",
       "      <th>6</th>\n",
       "      <td>Canada</td>\n",
       "      <td>52</td>\n",
       "    </tr>\n",
       "    <tr>\n",
       "      <th>7</th>\n",
       "      <td>Spain</td>\n",
       "      <td>43</td>\n",
       "    </tr>\n",
       "    <tr>\n",
       "      <th>8</th>\n",
       "      <td>Turkey</td>\n",
       "      <td>39</td>\n",
       "    </tr>\n",
       "    <tr>\n",
       "      <th>9</th>\n",
       "      <td>Philippines</td>\n",
       "      <td>39</td>\n",
       "    </tr>\n",
       "  </tbody>\n",
       "</table>\n",
       "</div>"
      ],
      "text/plain": [
       "    originCountry  counts\n",
       "0   United States    1570\n",
       "1  United Kingdom     177\n",
       "2           Japan     126\n",
       "3     South Korea     108\n",
       "4           India      82\n",
       "5          France      73\n",
       "6          Canada      52\n",
       "7           Spain      43\n",
       "8          Turkey      39\n",
       "9     Philippines      39"
      ]
     },
     "execution_count": 38,
     "metadata": {},
     "output_type": "execute_result"
    }
   ],
   "source": [
    "counter_viewAll.head(10)"
   ]
  },
  {
   "cell_type": "code",
   "execution_count": 34,
   "id": "d7bcb37b",
   "metadata": {
    "ExecuteTime": {
     "end_time": "2021-07-14T12:07:11.649821Z",
     "start_time": "2021-07-14T12:07:11.645481Z"
    }
   },
   "outputs": [
    {
     "name": "stdout",
     "output_type": "stream",
     "text": [
      "total : 2754\n",
      "top 10 countries : 2309\n",
      "percentage : 2309/2754 = 83.84168482207699\n"
     ]
    }
   ],
   "source": [
    "tot = sum(counter_viewAll.counts)\n",
    "top10 = sum(counter_viewAll.counts[:10]) \n",
    "\n",
    "print(f'total : {tot}')\n",
    "print(f'top 10 countries : {top10}')\n",
    "print(f'percentage : {top10}/{tot} = {100 * top10/tot}')"
   ]
  },
  {
   "cell_type": "markdown",
   "id": "a327cd69",
   "metadata": {},
   "source": [
    "####  인기 순위 전체 분석 insight"
   ]
  },
  {
   "cell_type": "markdown",
   "id": "e40f016e",
   "metadata": {},
   "source": [
    "전체 작품수 2754개 중에 영화 제작을 많이 하는 top10위 권의 나라가 2309개를 만들어, 순위권의 83프로를 생산하고 있다.\n",
    "제작 건수가 많은 top10 countries는 미국, 영국, 일본, 한국, 인도, 프랑스. 케나다, 스페인, 터키, 필리핀이 포함된다."
   ]
  },
  {
   "cell_type": "markdown",
   "id": "04ba37e6",
   "metadata": {},
   "source": [
    "### 전체 영화 제작 국가 top 10위 시각화 "
   ]
  },
  {
   "cell_type": "code",
   "execution_count": 42,
   "id": "577898e0",
   "metadata": {
    "ExecuteTime": {
     "end_time": "2021-07-14T12:17:24.882994Z",
     "start_time": "2021-07-14T12:17:24.879351Z"
    }
   },
   "outputs": [],
   "source": [
    "df_all = counter_viewAll[:][:10]"
   ]
  },
  {
   "cell_type": "code",
   "execution_count": 214,
   "id": "7a89f880",
   "metadata": {
    "ExecuteTime": {
     "end_time": "2021-07-14T13:51:53.692482Z",
     "start_time": "2021-07-14T13:51:53.687778Z"
    }
   },
   "outputs": [],
   "source": [
    "values=df_all['counts']\n",
    "labels = df_all['originCountry']"
   ]
  },
  {
   "cell_type": "code",
   "execution_count": 295,
   "id": "dcfe02f3",
   "metadata": {
    "ExecuteTime": {
     "end_time": "2021-07-14T14:28:26.997285Z",
     "start_time": "2021-07-14T14:28:26.783125Z"
    }
   },
   "outputs": [
    {
     "data": {
      "image/png": "[encoded data removed]",
      "text/plain": [
       "<Figure size 864x360 with 1 Axes>"
      ]
     },
     "metadata": {
      "needs_background": "light"
     },
     "output_type": "display_data"
    }
   ],
   "source": [
    "from matplotlib import gridspec\n",
    "fig = plt.figure(figsize=(12,5))\n",
    "gs = gridspec.GridSpec(nrows=1, ncols=1)\n",
    "\n",
    "ax = plt.subplot(gs[0])\n",
    "sns.barplot(df_all['originCountry'], df_all['counts'], ax=ax, palette=\"RdGy\")\n",
    "ax.set_xticklabels(df_all['originCountry'], rotation='90', fontsize = 13)\n",
    "ax.set_title('Top 10 producing countries of Netflix', fontsize=20, fontweight='bold', pad = 15)\n",
    "plt.xlabel('origin of Country', fontsize=12, labelpad=-20, fontweight='bold')\n",
    "plt.ylabel('produced contents', fontsize=12, labelpad=10, fontweight='bold')\n",
    "plt.xticks(fontsize=10)\n",
    "plt.yticks(fontsize=10)\n",
    "\n",
    "plt.show()\n",
    "# def make_autopct(values):\n",
    "#     def my_autopct(pct):\n",
    "#         total = sum(values)\n",
    "#         val = int(round(pct*total/100.0))\n",
    "#         return '{p:.2f}%({v:d})'.format(p=pct,v=val)\n",
    "#     return my_autopct"
   ]
  },
  {
   "cell_type": "code",
   "execution_count": 288,
   "id": "e4d677ea",
   "metadata": {
    "ExecuteTime": {
     "end_time": "2021-07-14T14:19:07.361911Z",
     "start_time": "2021-07-14T14:19:07.105252Z"
    }
   },
   "outputs": [
    {
     "data": {
      "image/png": "[encoded data removed]",
      "text/plain": [
       "<Figure size 720x504 with 1 Axes>"
      ]
     },
     "metadata": {},
     "output_type": "display_data"
    }
   ],
   "source": [
    "fig = plt.figure(figsize=(10,7))\n",
    "gs = gridspec.GridSpec(nrows=1, ncols=1)\n",
    "\n",
    "\n",
    "explode = [0 for _ in range(10)]\n",
    "explode[0] = 0.06\n",
    "\n",
    "ax2 = plt.subplot(gs[0])\n",
    "ax2.pie(df_all['counts'], labels=df_all['originCountry'],\n",
    "        shadow=True, startangle=220, explode=explode,\n",
    "        colors=sns.color_palette(\"RdGy\", n_colors=10),textprops={'fontsize':13},\n",
    "        pctdistance=0.7, labeldistance=1.1,rotatelabels=True,\n",
    "        autopct = '%1.1f%%', radius=1.5\n",
    "       )\n",
    "\n",
    "\n",
    "ax2.axis('equal') \n",
    "ax2.legend(loc='right', fontsize = 12, facecolor = 'black', labelcolor= 'white', bbox_to_anchor=(1.2,0.7))\n",
    "plt.show()"
   ]
  },
  {
   "cell_type": "code",
   "execution_count": 301,
   "id": "78e15be3",
   "metadata": {
    "ExecuteTime": {
     "end_time": "2021-07-14T14:31:27.604147Z",
     "start_time": "2021-07-14T14:31:27.460524Z"
    },
    "scrolled": true
   },
   "outputs": [
    {
     "data": {
      "image/png": "[encoded data removed]",
      "text/plain": [
       "<Figure size 936x720 with 1 Axes>"
      ]
     },
     "metadata": {
      "needs_background": "light"
     },
     "output_type": "display_data"
    }
   ],
   "source": [
    "import squarify\n",
    "\n",
    "fig = plt.figure(figsize=(13,10))\n",
    "squarify.plot(sizes = values, label = labels, color=sns.color_palette(\"RdGy\", n_colors=10),\n",
    "             linewidth=4, text_kwargs={'fontsize':12, 'fontweight' : 'bold'})\n",
    "plt.title('Top 10 producing countries of Netflix', position=(0.5, 1.0+0.03), fontsize = 20, fontweight='bold', pad=20)\n",
    "plt.axis('off')\n",
    "plt.show()"
   ]
  },
  {
   "cell_type": "code",
   "execution_count": 387,
   "id": "f3eec4eb",
   "metadata": {
    "ExecuteTime": {
     "end_time": "2021-07-14T15:27:27.436599Z",
     "start_time": "2021-07-14T15:27:27.428147Z"
    }
   },
   "outputs": [],
   "source": [
    "from pywaffle import Waffle\n",
    "from pywaffle.fontawesome_mapping import icons"
   ]
  },
  {
   "cell_type": "code",
   "execution_count": 391,
   "id": "ce4236a4",
   "metadata": {
    "ExecuteTime": {
     "end_time": "2021-07-14T15:31:11.974824Z",
     "start_time": "2021-07-14T15:31:11.079418Z"
    }
   },
   "outputs": [
    {
     "data": {
      "image/png": "[encoded data removed]",
      "text/plain": [
       "<Waffle size 936x936 with 1 Axes>"
      ]
     },
     "metadata": {},
     "output_type": "display_data"
    }
   ],
   "source": [
    "fig = plt.figure(\n",
    "    FigureClass=Waffle,facecolor='black', \n",
    "    rows=12, \n",
    "    columns=25, \n",
    "    values=df_all['counts'],\n",
    "    labels=[\"{}({})\".format(a, b) for a, b in zip(labels, values)],\n",
    "    colors=sns.color_palette(\"RdGy\", n_colors=10),\n",
    "    legend={'loc': 'lower left', 'bbox_to_anchor': (0, -0.2), \n",
    "            'ncol': len(df_all['counts'])//2,  'framealpha': 0, 'labelcolor': 'white', 'fontsize':13.2}, \n",
    "    font_size=25,\n",
    "    figsize=(13, 13),\n",
    "    icons=\"star\",\n",
    "    #characters='N',\n",
    "    icon_legend=True)\n",
    "\n",
    "plt.title('Top 10 producing countries of Netflix', position=(0.5, 1.0+0.03), fontsize = 15, fontweight='bold')\n",
    "plt.show()"
   ]
  },
  {
   "cell_type": "markdown",
   "id": "3b097a8e",
   "metadata": {},
   "source": [
    "## 2020 넷플릭스 컨텐츠 인기 순위 100위의 생산국가 "
   ]
  },
  {
   "cell_type": "markdown",
   "id": "691d6614",
   "metadata": {},
   "source": [
    "### view_top100 변수 생성 "
   ]
  },
  {
   "cell_type": "code",
   "execution_count": 16,
   "id": "410c321e",
   "metadata": {
    "ExecuteTime": {
     "end_time": "2021-07-14T11:44:07.871333Z",
     "start_time": "2021-07-14T11:44:07.864283Z"
    }
   },
   "outputs": [
    {
     "data": {
      "text/html": [
       "<div>\n",
       "<style scoped>\n",
       "    .dataframe tbody tr th:only-of-type {\n",
       "        vertical-align: middle;\n",
       "    }\n",
       "\n",
       "    .dataframe tbody tr th {\n",
       "        vertical-align: top;\n",
       "    }\n",
       "\n",
       "    .dataframe thead th {\n",
       "        text-align: right;\n",
       "    }\n",
       "</style>\n",
       "<table border=\"1\" class=\"dataframe\">\n",
       "  <thead>\n",
       "    <tr style=\"text-align: right;\">\n",
       "      <th></th>\n",
       "      <th>Value</th>\n",
       "      <th>originCountry</th>\n",
       "    </tr>\n",
       "  </thead>\n",
       "  <tbody>\n",
       "    <tr>\n",
       "      <th>95</th>\n",
       "      <td>4459</td>\n",
       "      <td>France</td>\n",
       "    </tr>\n",
       "    <tr>\n",
       "      <th>96</th>\n",
       "      <td>4356</td>\n",
       "      <td>United States</td>\n",
       "    </tr>\n",
       "    <tr>\n",
       "      <th>97</th>\n",
       "      <td>4285</td>\n",
       "      <td>Germany</td>\n",
       "    </tr>\n",
       "    <tr>\n",
       "      <th>98</th>\n",
       "      <td>4267</td>\n",
       "      <td>United States</td>\n",
       "    </tr>\n",
       "    <tr>\n",
       "      <th>99</th>\n",
       "      <td>4233</td>\n",
       "      <td>United States</td>\n",
       "    </tr>\n",
       "  </tbody>\n",
       "</table>\n",
       "</div>"
      ],
      "text/plain": [
       "    Value  originCountry\n",
       "95   4459         France\n",
       "96   4356  United States\n",
       "97   4285        Germany\n",
       "98   4267  United States\n",
       "99   4233  United States"
      ]
     },
     "execution_count": 16,
     "metadata": {},
     "output_type": "execute_result"
    }
   ],
   "source": [
    "view_top100 = df_country[:][:100]\n",
    "view_top100.tail(5)"
   ]
  },
  {
   "cell_type": "markdown",
   "id": "40b2832f",
   "metadata": {},
   "source": [
    "### 인기 순위 100위까지 생산국가 별 제작 영화 수 \n",
    "#### counter_view100 변수 생성"
   ]
  },
  {
   "cell_type": "code",
   "execution_count": 24,
   "id": "d846e0e5",
   "metadata": {
    "ExecuteTime": {
     "end_time": "2021-07-14T11:49:11.085494Z",
     "start_time": "2021-07-14T11:49:11.079787Z"
    }
   },
   "outputs": [
    {
     "data": {
      "text/plain": [
       "United States     69\n",
       "United Kingdom     7\n",
       "South Korea        5\n",
       "Spain              4\n",
       "Colombia           3\n",
       "France             3\n",
       "Canada             2\n",
       "Germany            2\n",
       "Italy              1\n",
       "Mexico             1\n",
       "China              1\n",
       "Poland             1\n",
       "Russia             1\n",
       "Name: originCountry, dtype: int64"
      ]
     },
     "execution_count": 24,
     "metadata": {},
     "output_type": "execute_result"
    }
   ],
   "source": [
    "# 생산국가의 빈도수 세기\n",
    "counter_view100=view_top100.originCountry.value_counts()\n",
    "counter_view100"
   ]
  },
  {
   "cell_type": "code",
   "execution_count": 25,
   "id": "fd664787",
   "metadata": {
    "ExecuteTime": {
     "end_time": "2021-07-14T11:49:14.138674Z",
     "start_time": "2021-07-14T11:49:14.134626Z"
    }
   },
   "outputs": [
    {
     "data": {
      "text/plain": [
       "pandas.core.series.Series"
      ]
     },
     "execution_count": 25,
     "metadata": {},
     "output_type": "execute_result"
    }
   ],
   "source": [
    "type(counter_view100)"
   ]
  },
  {
   "cell_type": "markdown",
   "id": "072d8f55",
   "metadata": {},
   "source": [
    "#### Series를 dataFrame으로 변경"
   ]
  },
  {
   "cell_type": "code",
   "execution_count": 26,
   "id": "d7a000a4",
   "metadata": {
    "ExecuteTime": {
     "end_time": "2021-07-14T11:49:15.570313Z",
     "start_time": "2021-07-14T11:49:15.561684Z"
    }
   },
   "outputs": [
    {
     "data": {
      "text/html": [
       "<div>\n",
       "<style scoped>\n",
       "    .dataframe tbody tr th:only-of-type {\n",
       "        vertical-align: middle;\n",
       "    }\n",
       "\n",
       "    .dataframe tbody tr th {\n",
       "        vertical-align: top;\n",
       "    }\n",
       "\n",
       "    .dataframe thead th {\n",
       "        text-align: right;\n",
       "    }\n",
       "</style>\n",
       "<table border=\"1\" class=\"dataframe\">\n",
       "  <thead>\n",
       "    <tr style=\"text-align: right;\">\n",
       "      <th></th>\n",
       "      <th>originCountry</th>\n",
       "      <th>counts</th>\n",
       "    </tr>\n",
       "  </thead>\n",
       "  <tbody>\n",
       "    <tr>\n",
       "      <th>0</th>\n",
       "      <td>United States</td>\n",
       "      <td>69</td>\n",
       "    </tr>\n",
       "    <tr>\n",
       "      <th>1</th>\n",
       "      <td>United Kingdom</td>\n",
       "      <td>7</td>\n",
       "    </tr>\n",
       "    <tr>\n",
       "      <th>2</th>\n",
       "      <td>South Korea</td>\n",
       "      <td>5</td>\n",
       "    </tr>\n",
       "    <tr>\n",
       "      <th>3</th>\n",
       "      <td>Spain</td>\n",
       "      <td>4</td>\n",
       "    </tr>\n",
       "    <tr>\n",
       "      <th>4</th>\n",
       "      <td>Colombia</td>\n",
       "      <td>3</td>\n",
       "    </tr>\n",
       "    <tr>\n",
       "      <th>5</th>\n",
       "      <td>France</td>\n",
       "      <td>3</td>\n",
       "    </tr>\n",
       "    <tr>\n",
       "      <th>6</th>\n",
       "      <td>Canada</td>\n",
       "      <td>2</td>\n",
       "    </tr>\n",
       "    <tr>\n",
       "      <th>7</th>\n",
       "      <td>Germany</td>\n",
       "      <td>2</td>\n",
       "    </tr>\n",
       "    <tr>\n",
       "      <th>8</th>\n",
       "      <td>Italy</td>\n",
       "      <td>1</td>\n",
       "    </tr>\n",
       "    <tr>\n",
       "      <th>9</th>\n",
       "      <td>Mexico</td>\n",
       "      <td>1</td>\n",
       "    </tr>\n",
       "    <tr>\n",
       "      <th>10</th>\n",
       "      <td>China</td>\n",
       "      <td>1</td>\n",
       "    </tr>\n",
       "    <tr>\n",
       "      <th>11</th>\n",
       "      <td>Poland</td>\n",
       "      <td>1</td>\n",
       "    </tr>\n",
       "    <tr>\n",
       "      <th>12</th>\n",
       "      <td>Russia</td>\n",
       "      <td>1</td>\n",
       "    </tr>\n",
       "  </tbody>\n",
       "</table>\n",
       "</div>"
      ],
      "text/plain": [
       "     originCountry  counts\n",
       "0    United States      69\n",
       "1   United Kingdom       7\n",
       "2      South Korea       5\n",
       "3            Spain       4\n",
       "4         Colombia       3\n",
       "5           France       3\n",
       "6           Canada       2\n",
       "7          Germany       2\n",
       "8            Italy       1\n",
       "9           Mexico       1\n",
       "10           China       1\n",
       "11          Poland       1\n",
       "12          Russia       1"
      ]
     },
     "execution_count": 26,
     "metadata": {},
     "output_type": "execute_result"
    }
   ],
   "source": [
    "counter_100=counter_view100.rename_axis('originCountry').reset_index(name='counts')\n",
    "counter_view100=counter_100\n",
    "counter_view100"
   ]
  },
  {
   "cell_type": "markdown",
   "id": "a6f4ac8d",
   "metadata": {},
   "source": [
    "### 인기순위 100위 분석 insight"
   ]
  },
  {
   "cell_type": "code",
   "execution_count": 213,
   "id": "c336667d",
   "metadata": {
    "ExecuteTime": {
     "end_time": "2021-07-14T13:49:55.540873Z",
     "start_time": "2021-07-14T13:49:55.535322Z"
    }
   },
   "outputs": [
    {
     "name": "stdout",
     "output_type": "stream",
     "text": [
      "total : 100\n",
      "top 5 countries : 88\n",
      "percentage : 88/100 = 88.0\n"
     ]
    }
   ],
   "source": [
    "tot = sum(counter_view100.counts)\n",
    "top5 = sum(counter_view100.counts[:5]) \n",
    "\n",
    "print(f'total : {tot}')\n",
    "print(f'top 5 countries : {top5}')\n",
    "print(f'percentage : {top5}/{tot} = {100 * top5/tot}')"
   ]
  },
  {
   "cell_type": "markdown",
   "id": "9d3107fe",
   "metadata": {},
   "source": [
    "1. 인기 순위 100위 중에 south korea의 작품이 5건이 포함되어 있다.\n",
    "2. 일본은 순위권에 포함되지도 못했다. \n",
    "3. 전체 2754개의 영화중에 korea 출신의 작품은 108개로 다소 적은 편이지만, top 100에는 5개나 포함되어 있어서 \n",
    "4. 그 인기를 실감할 수 있다.\n",
    "5. 반면 일본은 126건을 생산했지만 100위 안에는 1개도 안포함되어 있다. 이런 스타일의 작품은 안통하는 것 같다 ㅋㅋ"
   ]
  },
  {
   "cell_type": "code",
   "execution_count": 240,
   "id": "1a6c19ef",
   "metadata": {
    "ExecuteTime": {
     "end_time": "2021-07-14T14:08:40.946632Z",
     "start_time": "2021-07-14T14:08:40.738178Z"
    }
   },
   "outputs": [
    {
     "data": {
      "image/png": "[encoded data removed]",
      "text/plain": [
       "<Figure size 864x360 with 1 Axes>"
      ]
     },
     "metadata": {
      "needs_background": "light"
     },
     "output_type": "display_data"
    }
   ],
   "source": [
    "from matplotlib import gridspec\n",
    "fig = plt.figure(figsize=(12,5))\n",
    "gs = gridspec.GridSpec(nrows=1, ncols=1)\n",
    "\n",
    "ax = plt.subplot(gs[0])\n",
    "sns.barplot(counter_view100['originCountry'], counter_view100['counts'], ax=ax, palette=\"RdGy\")\n",
    "ax.set_xticklabels(counter_view100['originCountry'], rotation='90', fontsize = 13)\n",
    "ax.set_title('Country of origin of Netflix Top 100 (2020)', fontsize=20, fontweight='bold', pad = 15)\n",
    "plt.xlabel('origin of Country', fontsize=12, labelpad=-20, fontweight='bold')\n",
    "plt.ylabel('produced contents', fontsize=12, labelpad=10, fontweight='bold')\n",
    "plt.xticks(fontsize=10)\n",
    "plt.yticks(fontsize=10)\n",
    "\n",
    "plt.show()"
   ]
  },
  {
   "cell_type": "code",
   "execution_count": 290,
   "id": "eec52a5f",
   "metadata": {
    "ExecuteTime": {
     "end_time": "2021-07-14T14:19:31.826732Z",
     "start_time": "2021-07-14T14:19:31.516755Z"
    }
   },
   "outputs": [
    {
     "data": {
      "image/png": "[encoded data removed]",
      "text/plain": [
       "<Figure size 720x504 with 1 Axes>"
      ]
     },
     "metadata": {},
     "output_type": "display_data"
    }
   ],
   "source": [
    "fig = plt.figure(figsize=(10,7))\n",
    "gs = gridspec.GridSpec(nrows=1, ncols=1)\n",
    "\n",
    "\n",
    "explode = [0 for _ in range(len(counter_view100['originCountry']))]\n",
    "explode[0] = 0.06\n",
    "\n",
    "ax2 = plt.subplot(gs[0])\n",
    "ax2.pie(counter_view100['counts'], labels=counter_view100['originCountry'],\n",
    "        shadow=True, startangle=200, explode=explode,\n",
    "        colors=sns.color_palette(\"RdGy\", n_colors=10),textprops={'fontsize':12},\n",
    "        pctdistance=0.7, labeldistance=1.1,rotatelabels=True,\n",
    "        autopct = '%1.0f%%', radius=1.5\n",
    "       )\n",
    "\n",
    "\n",
    "ax2.axis('equal') \n",
    "ax2.legend(loc='right', fontsize = 12, facecolor = 'black', labelcolor= 'white', bbox_to_anchor=(1.2,0.7))\n",
    "plt.show()"
   ]
  },
  {
   "cell_type": "code",
   "execution_count": 298,
   "id": "9b178b67",
   "metadata": {
    "ExecuteTime": {
     "end_time": "2021-07-14T14:31:09.423409Z",
     "start_time": "2021-07-14T14:31:09.256703Z"
    }
   },
   "outputs": [
    {
     "data": {
      "image/png": "[encoded data removed]",
      "text/plain": [
       "<Figure size 720x720 with 1 Axes>"
      ]
     },
     "metadata": {
      "needs_background": "light"
     },
     "output_type": "display_data"
    }
   ],
   "source": [
    "import squarify\n",
    "\n",
    "fig = plt.figure(figsize=(10,10))\n",
    "squarify.plot(counter_view100['counts'], label = counter_view100['originCountry'], color=sns.color_palette(\"RdGy\", n_colors=10),\n",
    "             linewidth=4, text_kwargs={'fontsize':12, 'fontweight' : 'bold'})\n",
    "plt.title('Country of origin of Netflix Top 100 (2020)', position=(0.5, 1.0+0.03), fontsize = 20, fontweight='bold', pad=20)\n",
    "plt.axis('off')\n",
    "plt.show()"
   ]
  },
  {
   "cell_type": "code",
   "execution_count": null,
   "id": "2a87a0bc",
   "metadata": {},
   "outputs": [],
   "source": []
  }
 ],
 "metadata": {
  "hide_input": false,
  "kernelspec": {
   "display_name": "Python TSA",
   "language": "python",
   "name": "tsa"
  },
  "language_info": {
   "codemirror_mode": {
    "name": "ipython",
    "version": 3
   },
   "file_extension": ".py",
   "mimetype": "text/x-python",
   "name": "python",
   "nbconvert_exporter": "python",
   "pygments_lexer": "ipython3",
   "version": "3.9.5"
  },
  "latex_envs": {
   "LaTeX_envs_menu_present": true,
   "autoclose": false,
   "autocomplete": true,
   "bibliofile": "biblio.bib",
   "cite_by": "apalike",
   "current_citInitial": 1,
   "eqLabelWithNumbers": true,
   "eqNumInitial": 1,
   "hotkeys": {
    "equation": "Ctrl-E",
    "itemize": "Ctrl-I"
   },
   "labels_anchors": false,
   "latex_user_defs": false,
   "report_style_numbering": false,
   "user_envs_cfg": false
  },
  "toc": {
   "base_numbering": 1,
   "nav_menu": {},
   "number_sections": true,
   "sideBar": true,
   "skip_h1_title": false,
   "title_cell": "Table of Contents",
   "title_sidebar": "Contents",
   "toc_cell": false,
   "toc_position": {},
   "toc_section_display": true,
   "toc_window_display": false
  },
  "varInspector": {
   "cols": {
    "lenName": 16,
    "lenType": 16,
    "lenVar": 40
   },
   "kernels_config": {
    "python": {
     "delete_cmd_postfix": "",
     "delete_cmd_prefix": "del ",
     "library": "var_list.py",
     "varRefreshCmd": "print(var_dic_list())"
    },
    "r": {
     "delete_cmd_postfix": ") ",
     "delete_cmd_prefix": "rm(",
     "library": "var_list.r",
     "varRefreshCmd": "cat(var_dic_list()) "
    }
   },
   "types_to_exclude": [
    "module",
    "function",
    "builtin_function_or_method",
    "instance",
    "_Feature"
   ],
   "window_display": false
  }
 },
 "nbformat": 4,
 "nbformat_minor": 5
}
