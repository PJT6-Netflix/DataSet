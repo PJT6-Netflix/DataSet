{
 "cells": [
  {
   "cell_type": "code",
   "execution_count": 1,
   "id": "debcc7d9",
   "metadata": {
    "ExecuteTime": {
     "end_time": "2021-07-14T08:35:07.208532Z",
     "start_time": "2021-07-14T08:35:05.361822Z"
    }
   },
   "outputs": [],
   "source": [
    "import pandas as pd\n",
    "import numpy as np\n",
    "import pandas_profiling\n",
    "\n",
    "# 데이터 시각화\n",
    "import matplotlib.pyplot as plt\n",
    "import plotly.graph_objects as go\n",
    "import seaborn as sns\n",
    "from wordcloud import WordCloud, STOPWORDS, ImageColorGenerator\n",
    "\n",
    "# 가설검정\n",
    "from scipy import stats\n",
    "\n",
    "# 경고문구 무시\n",
    "import warnings\n",
    "warnings.filterwarnings(\"ignore\")\n",
    "# 자연어 처리\n",
    "# import spacy\n",
    "\n",
    "# 정규화\n",
    "from sklearn.preprocessing import MinMaxScaler\n",
    "\n",
    "#표준화\n",
    "from sklearn import preprocessing\n",
    "from sklearn.preprocessing import StandardScaler"
   ]
  },
  {
   "cell_type": "markdown",
   "id": "86dcda7a",
   "metadata": {},
   "source": [
    "# 데이터 정보 확인"
   ]
  },
  {
   "cell_type": "code",
   "execution_count": 2,
   "id": "824b36f0",
   "metadata": {
    "ExecuteTime": {
     "end_time": "2021-07-14T08:35:07.309885Z",
     "start_time": "2021-07-14T08:35:07.290676Z"
    }
   },
   "outputs": [],
   "source": [
    "df=pd.read_csv('3.1_original_useDf_0714.csv')\n",
    "df.head(1)"
   ]
  },
  {
   "cell_type": "code",
   "execution_count": 4,
   "id": "78259fa1",
   "metadata": {
    "ExecuteTime": {
     "end_time": "2021-07-14T08:35:07.716963Z",
     "start_time": "2021-07-14T08:35:07.707936Z"
    }
   },
   "outputs": [
    {
     "data": {
      "text/plain": [
       "Num                  0\n",
       "Title                0\n",
       "Value                0\n",
       "Series or Movie      0\n",
       "originCountry      206\n",
       "Genre              370\n",
       "country_all          0\n",
       "countryCount         0\n",
       "dtype: int64"
      ]
     },
     "execution_count": 4,
     "metadata": {},
     "output_type": "execute_result"
    }
   ],
   "source": [
    "# null값 확인\n",
    "df.isnull().sum()"
   ]
  },
  {
   "cell_type": "code",
   "execution_count": 5,
   "id": "79137737",
   "metadata": {
    "ExecuteTime": {
     "end_time": "2021-07-14T08:35:07.995062Z",
     "start_time": "2021-07-14T08:35:07.972642Z"
    }
   },
   "outputs": [
    {
     "data": {
      "text/html": [
       "<div>\n",
       "<style scoped>\n",
       "    .dataframe tbody tr th:only-of-type {\n",
       "        vertical-align: middle;\n",
       "    }\n",
       "\n",
       "    .dataframe tbody tr th {\n",
       "        vertical-align: top;\n",
       "    }\n",
       "\n",
       "    .dataframe thead th {\n",
       "        text-align: right;\n",
       "    }\n",
       "</style>\n",
       "<table border=\"1\" class=\"dataframe\">\n",
       "  <thead>\n",
       "    <tr style=\"text-align: right;\">\n",
       "      <th></th>\n",
       "      <th>Num</th>\n",
       "      <th>Value</th>\n",
       "      <th>countryCount</th>\n",
       "    </tr>\n",
       "  </thead>\n",
       "  <tbody>\n",
       "    <tr>\n",
       "      <th>count</th>\n",
       "      <td>2960.0</td>\n",
       "      <td>2960.0</td>\n",
       "      <td>2960.0</td>\n",
       "    </tr>\n",
       "    <tr>\n",
       "      <th>mean</th>\n",
       "      <td>1480.0</td>\n",
       "      <td>634.0</td>\n",
       "      <td>16.0</td>\n",
       "    </tr>\n",
       "    <tr>\n",
       "      <th>std</th>\n",
       "      <td>855.0</td>\n",
       "      <td>2202.0</td>\n",
       "      <td>14.0</td>\n",
       "    </tr>\n",
       "    <tr>\n",
       "      <th>min</th>\n",
       "      <td>0.0</td>\n",
       "      <td>1.0</td>\n",
       "      <td>1.0</td>\n",
       "    </tr>\n",
       "    <tr>\n",
       "      <th>25%</th>\n",
       "      <td>740.0</td>\n",
       "      <td>22.0</td>\n",
       "      <td>3.0</td>\n",
       "    </tr>\n",
       "    <tr>\n",
       "      <th>50%</th>\n",
       "      <td>1480.0</td>\n",
       "      <td>80.0</td>\n",
       "      <td>10.0</td>\n",
       "    </tr>\n",
       "    <tr>\n",
       "      <th>75%</th>\n",
       "      <td>2219.0</td>\n",
       "      <td>321.0</td>\n",
       "      <td>35.0</td>\n",
       "    </tr>\n",
       "    <tr>\n",
       "      <th>max</th>\n",
       "      <td>2959.0</td>\n",
       "      <td>44867.0</td>\n",
       "      <td>37.0</td>\n",
       "    </tr>\n",
       "  </tbody>\n",
       "</table>\n",
       "</div>"
      ],
      "text/plain": [
       "          Num    Value  countryCount\n",
       "count  2960.0   2960.0        2960.0\n",
       "mean   1480.0    634.0          16.0\n",
       "std     855.0   2202.0          14.0\n",
       "min       0.0      1.0           1.0\n",
       "25%     740.0     22.0           3.0\n",
       "50%    1480.0     80.0          10.0\n",
       "75%    2219.0    321.0          35.0\n",
       "max    2959.0  44867.0          37.0"
      ]
     },
     "execution_count": 5,
     "metadata": {},
     "output_type": "execute_result"
    }
   ],
   "source": [
    "df.describe().round()"
   ]
  },
  {
   "cell_type": "markdown",
   "id": "39a2e01f",
   "metadata": {},
   "source": [
    "# viewpoint 정규화"
   ]
  },
  {
   "cell_type": "markdown",
   "id": "d4499b0f",
   "metadata": {},
   "source": [
    "### min-max 정규화"
   ]
  },
  {
   "cell_type": "code",
   "execution_count": 6,
   "id": "752b4672",
   "metadata": {
    "ExecuteTime": {
     "end_time": "2021-07-14T08:35:08.197240Z",
     "start_time": "2021-07-14T08:35:08.193746Z"
    }
   },
   "outputs": [],
   "source": [
    "min_max_scaler = MinMaxScaler()\n",
    "value=df[['Value','countryCount']].values"
   ]
  },
  {
   "cell_type": "code",
   "execution_count": 8,
   "id": "6efa1e0e",
   "metadata": {
    "ExecuteTime": {
     "end_time": "2021-07-14T08:35:08.737637Z",
     "start_time": "2021-07-14T08:35:08.730977Z"
    }
   },
   "outputs": [],
   "source": [
    "#df['Value_std'] = min_max_scaler.fit_transform(value.reshape(-1,1))\n",
    "df[['Value_std','countryCount_std']] = min_max_scaler.fit_transform(value)"
   ]
  },
  {
   "cell_type": "code",
   "execution_count": 9,
   "id": "5ebb7b9b",
   "metadata": {
    "ExecuteTime": {
     "end_time": "2021-07-14T08:35:09.133772Z",
     "start_time": "2021-07-14T08:35:09.111784Z"
    }
   },
   "outputs": [
    {
     "data": {
      "text/html": [
       "<div>\n",
       "<style scoped>\n",
       "    .dataframe tbody tr th:only-of-type {\n",
       "        vertical-align: middle;\n",
       "    }\n",
       "\n",
       "    .dataframe tbody tr th {\n",
       "        vertical-align: top;\n",
       "    }\n",
       "\n",
       "    .dataframe thead th {\n",
       "        text-align: right;\n",
       "    }\n",
       "</style>\n",
       "<table border=\"1\" class=\"dataframe\">\n",
       "  <thead>\n",
       "    <tr style=\"text-align: right;\">\n",
       "      <th></th>\n",
       "      <th>Num</th>\n",
       "      <th>Title</th>\n",
       "      <th>Value</th>\n",
       "      <th>Series or Movie</th>\n",
       "      <th>originCountry</th>\n",
       "      <th>Genre</th>\n",
       "      <th>country_all</th>\n",
       "      <th>countryCount</th>\n",
       "      <th>Value_std</th>\n",
       "      <th>countryCount_std</th>\n",
       "    </tr>\n",
       "  </thead>\n",
       "  <tbody>\n",
       "    <tr>\n",
       "      <th>0</th>\n",
       "      <td>0</td>\n",
       "      <td>thequeensgambit</td>\n",
       "      <td>44867</td>\n",
       "      <td>TV</td>\n",
       "      <td>United States</td>\n",
       "      <td>Drama</td>\n",
       "      <td>['Argentina', 'Australia', 'Belgium', 'Brazil'...</td>\n",
       "      <td>36</td>\n",
       "      <td>1.000000</td>\n",
       "      <td>0.972222</td>\n",
       "    </tr>\n",
       "    <tr>\n",
       "      <th>1</th>\n",
       "      <td>1</td>\n",
       "      <td>365days</td>\n",
       "      <td>42149</td>\n",
       "      <td>Movie</td>\n",
       "      <td>Poland</td>\n",
       "      <td>Romance</td>\n",
       "      <td>['Argentina', 'Australia', 'Belgium', 'Brazil'...</td>\n",
       "      <td>36</td>\n",
       "      <td>0.939420</td>\n",
       "      <td>0.972222</td>\n",
       "    </tr>\n",
       "    <tr>\n",
       "      <th>2</th>\n",
       "      <td>2</td>\n",
       "      <td>emilyinparis</td>\n",
       "      <td>27138</td>\n",
       "      <td>TV</td>\n",
       "      <td>United States</td>\n",
       "      <td>Drama</td>\n",
       "      <td>['Argentina', 'Australia', 'Belgium', 'Brazil'...</td>\n",
       "      <td>36</td>\n",
       "      <td>0.604846</td>\n",
       "      <td>0.972222</td>\n",
       "    </tr>\n",
       "    <tr>\n",
       "      <th>3</th>\n",
       "      <td>3</td>\n",
       "      <td>lucifer</td>\n",
       "      <td>25729</td>\n",
       "      <td>TV</td>\n",
       "      <td>United States</td>\n",
       "      <td>Superhero</td>\n",
       "      <td>['Argentina', 'Australia', 'Belgium', 'Brazil'...</td>\n",
       "      <td>35</td>\n",
       "      <td>0.573441</td>\n",
       "      <td>0.944444</td>\n",
       "    </tr>\n",
       "    <tr>\n",
       "      <th>4</th>\n",
       "      <td>4</td>\n",
       "      <td>theumbrellaacademy</td>\n",
       "      <td>23480</td>\n",
       "      <td>TV</td>\n",
       "      <td>United States</td>\n",
       "      <td>Superhero</td>\n",
       "      <td>['Argentina', 'Australia', 'Belgium', 'Brazil'...</td>\n",
       "      <td>36</td>\n",
       "      <td>0.523314</td>\n",
       "      <td>0.972222</td>\n",
       "    </tr>\n",
       "    <tr>\n",
       "      <th>...</th>\n",
       "      <td>...</td>\n",
       "      <td>...</td>\n",
       "      <td>...</td>\n",
       "      <td>...</td>\n",
       "      <td>...</td>\n",
       "      <td>...</td>\n",
       "      <td>...</td>\n",
       "      <td>...</td>\n",
       "      <td>...</td>\n",
       "      <td>...</td>\n",
       "    </tr>\n",
       "    <tr>\n",
       "      <th>95</th>\n",
       "      <td>95</td>\n",
       "      <td>lostbullet</td>\n",
       "      <td>4459</td>\n",
       "      <td>Movie</td>\n",
       "      <td>France</td>\n",
       "      <td>Crime</td>\n",
       "      <td>['Argentina', 'Australia', 'Belgium', 'Brazil'...</td>\n",
       "      <td>36</td>\n",
       "      <td>0.099363</td>\n",
       "      <td>0.972222</td>\n",
       "    </tr>\n",
       "    <tr>\n",
       "      <th>96</th>\n",
       "      <td>96</td>\n",
       "      <td>prisonbreak</td>\n",
       "      <td>4356</td>\n",
       "      <td>TV</td>\n",
       "      <td>United States</td>\n",
       "      <td>Action</td>\n",
       "      <td>['Australia', 'Belgium', 'Canada', 'Czech Repu...</td>\n",
       "      <td>28</td>\n",
       "      <td>0.097067</td>\n",
       "      <td>0.750000</td>\n",
       "    </tr>\n",
       "    <tr>\n",
       "      <th>97</th>\n",
       "      <td>97</td>\n",
       "      <td>unorthodox</td>\n",
       "      <td>4285</td>\n",
       "      <td>TV</td>\n",
       "      <td>Germany</td>\n",
       "      <td>Drama</td>\n",
       "      <td>['Argentina', 'Australia', 'Belgium', 'Brazil'...</td>\n",
       "      <td>36</td>\n",
       "      <td>0.095484</td>\n",
       "      <td>0.972222</td>\n",
       "    </tr>\n",
       "    <tr>\n",
       "      <th>98</th>\n",
       "      <td>98</td>\n",
       "      <td>6underground</td>\n",
       "      <td>4267</td>\n",
       "      <td>Movie</td>\n",
       "      <td>United States</td>\n",
       "      <td>Action</td>\n",
       "      <td>['Argentina', 'Australia', 'Belgium', 'Brazil'...</td>\n",
       "      <td>36</td>\n",
       "      <td>0.095083</td>\n",
       "      <td>0.972222</td>\n",
       "    </tr>\n",
       "    <tr>\n",
       "      <th>99</th>\n",
       "      <td>99</td>\n",
       "      <td>jurassicworldfallenkingdom</td>\n",
       "      <td>4233</td>\n",
       "      <td>Movie</td>\n",
       "      <td>United States</td>\n",
       "      <td>Science Fiction</td>\n",
       "      <td>['Argentina', 'Brazil', 'Colombia', 'Iceland',...</td>\n",
       "      <td>7</td>\n",
       "      <td>0.094325</td>\n",
       "      <td>0.166667</td>\n",
       "    </tr>\n",
       "  </tbody>\n",
       "</table>\n",
       "<p>100 rows × 10 columns</p>\n",
       "</div>"
      ],
      "text/plain": [
       "    Num                       Title  Value Series or Movie  originCountry  \\\n",
       "0     0             thequeensgambit  44867              TV  United States   \n",
       "1     1                     365days  42149           Movie         Poland   \n",
       "2     2                emilyinparis  27138              TV  United States   \n",
       "3     3                     lucifer  25729              TV  United States   \n",
       "4     4          theumbrellaacademy  23480              TV  United States   \n",
       "..  ...                         ...    ...             ...            ...   \n",
       "95   95                  lostbullet   4459           Movie         France   \n",
       "96   96                 prisonbreak   4356              TV  United States   \n",
       "97   97                  unorthodox   4285              TV        Germany   \n",
       "98   98                6underground   4267           Movie  United States   \n",
       "99   99  jurassicworldfallenkingdom   4233           Movie  United States   \n",
       "\n",
       "              Genre                                        country_all  \\\n",
       "0             Drama  ['Argentina', 'Australia', 'Belgium', 'Brazil'...   \n",
       "1           Romance  ['Argentina', 'Australia', 'Belgium', 'Brazil'...   \n",
       "2             Drama  ['Argentina', 'Australia', 'Belgium', 'Brazil'...   \n",
       "3         Superhero  ['Argentina', 'Australia', 'Belgium', 'Brazil'...   \n",
       "4         Superhero  ['Argentina', 'Australia', 'Belgium', 'Brazil'...   \n",
       "..              ...                                                ...   \n",
       "95            Crime  ['Argentina', 'Australia', 'Belgium', 'Brazil'...   \n",
       "96           Action  ['Australia', 'Belgium', 'Canada', 'Czech Repu...   \n",
       "97            Drama  ['Argentina', 'Australia', 'Belgium', 'Brazil'...   \n",
       "98           Action  ['Argentina', 'Australia', 'Belgium', 'Brazil'...   \n",
       "99  Science Fiction  ['Argentina', 'Brazil', 'Colombia', 'Iceland',...   \n",
       "\n",
       "    countryCount  Value_std  countryCount_std  \n",
       "0             36   1.000000          0.972222  \n",
       "1             36   0.939420          0.972222  \n",
       "2             36   0.604846          0.972222  \n",
       "3             35   0.573441          0.944444  \n",
       "4             36   0.523314          0.972222  \n",
       "..           ...        ...               ...  \n",
       "95            36   0.099363          0.972222  \n",
       "96            28   0.097067          0.750000  \n",
       "97            36   0.095484          0.972222  \n",
       "98            36   0.095083          0.972222  \n",
       "99             7   0.094325          0.166667  \n",
       "\n",
       "[100 rows x 10 columns]"
      ]
     },
     "execution_count": 9,
     "metadata": {},
     "output_type": "execute_result"
    }
   ],
   "source": [
    "df.head(10)"
   ]
  },
  {
   "cell_type": "code",
   "execution_count": 10,
   "id": "15e7f5bf",
   "metadata": {
    "ExecuteTime": {
     "end_time": "2021-07-14T08:35:09.473238Z",
     "start_time": "2021-07-14T08:35:09.450584Z"
    }
   },
   "outputs": [
    {
     "data": {
      "text/html": [
       "<div>\n",
       "<style scoped>\n",
       "    .dataframe tbody tr th:only-of-type {\n",
       "        vertical-align: middle;\n",
       "    }\n",
       "\n",
       "    .dataframe tbody tr th {\n",
       "        vertical-align: top;\n",
       "    }\n",
       "\n",
       "    .dataframe thead th {\n",
       "        text-align: right;\n",
       "    }\n",
       "</style>\n",
       "<table border=\"1\" class=\"dataframe\">\n",
       "  <thead>\n",
       "    <tr style=\"text-align: right;\">\n",
       "      <th></th>\n",
       "      <th>Num</th>\n",
       "      <th>Value</th>\n",
       "      <th>countryCount</th>\n",
       "      <th>Value_std</th>\n",
       "      <th>countryCount_std</th>\n",
       "    </tr>\n",
       "  </thead>\n",
       "  <tbody>\n",
       "    <tr>\n",
       "      <th>count</th>\n",
       "      <td>2960.000000</td>\n",
       "      <td>2960.000000</td>\n",
       "      <td>2960.000000</td>\n",
       "      <td>2960.000000</td>\n",
       "      <td>2960.000000</td>\n",
       "    </tr>\n",
       "    <tr>\n",
       "      <th>mean</th>\n",
       "      <td>1479.500000</td>\n",
       "      <td>633.733446</td>\n",
       "      <td>16.180405</td>\n",
       "      <td>0.014103</td>\n",
       "      <td>0.421678</td>\n",
       "    </tr>\n",
       "    <tr>\n",
       "      <th>std</th>\n",
       "      <td>854.622724</td>\n",
       "      <td>2202.145547</td>\n",
       "      <td>14.071531</td>\n",
       "      <td>0.049083</td>\n",
       "      <td>0.390876</td>\n",
       "    </tr>\n",
       "    <tr>\n",
       "      <th>min</th>\n",
       "      <td>0.000000</td>\n",
       "      <td>1.000000</td>\n",
       "      <td>1.000000</td>\n",
       "      <td>0.000000</td>\n",
       "      <td>0.000000</td>\n",
       "    </tr>\n",
       "    <tr>\n",
       "      <th>25%</th>\n",
       "      <td>739.750000</td>\n",
       "      <td>22.000000</td>\n",
       "      <td>3.000000</td>\n",
       "      <td>0.000468</td>\n",
       "      <td>0.055556</td>\n",
       "    </tr>\n",
       "    <tr>\n",
       "      <th>50%</th>\n",
       "      <td>1479.500000</td>\n",
       "      <td>80.000000</td>\n",
       "      <td>10.000000</td>\n",
       "      <td>0.001761</td>\n",
       "      <td>0.250000</td>\n",
       "    </tr>\n",
       "    <tr>\n",
       "      <th>75%</th>\n",
       "      <td>2219.250000</td>\n",
       "      <td>321.000000</td>\n",
       "      <td>35.000000</td>\n",
       "      <td>0.007132</td>\n",
       "      <td>0.944444</td>\n",
       "    </tr>\n",
       "    <tr>\n",
       "      <th>max</th>\n",
       "      <td>2959.000000</td>\n",
       "      <td>44867.000000</td>\n",
       "      <td>37.000000</td>\n",
       "      <td>1.000000</td>\n",
       "      <td>1.000000</td>\n",
       "    </tr>\n",
       "  </tbody>\n",
       "</table>\n",
       "</div>"
      ],
      "text/plain": [
       "               Num         Value  countryCount    Value_std  countryCount_std\n",
       "count  2960.000000   2960.000000   2960.000000  2960.000000       2960.000000\n",
       "mean   1479.500000    633.733446     16.180405     0.014103          0.421678\n",
       "std     854.622724   2202.145547     14.071531     0.049083          0.390876\n",
       "min       0.000000      1.000000      1.000000     0.000000          0.000000\n",
       "25%     739.750000     22.000000      3.000000     0.000468          0.055556\n",
       "50%    1479.500000     80.000000     10.000000     0.001761          0.250000\n",
       "75%    2219.250000    321.000000     35.000000     0.007132          0.944444\n",
       "max    2959.000000  44867.000000     37.000000     1.000000          1.000000"
      ]
     },
     "execution_count": 10,
     "metadata": {},
     "output_type": "execute_result"
    }
   ],
   "source": [
    "df.describe()"
   ]
  },
  {
   "cell_type": "markdown",
   "id": "77dbce94",
   "metadata": {},
   "source": [
    "### 표준화 실시"
   ]
  },
  {
   "cell_type": "code",
   "execution_count": 11,
   "id": "6afa8c2f",
   "metadata": {
    "ExecuteTime": {
     "end_time": "2021-07-14T08:35:09.860734Z",
     "start_time": "2021-07-14T08:35:09.857361Z"
    }
   },
   "outputs": [],
   "source": [
    "scaler = StandardScaler()\n",
    "value2=df[['Value_std','countryCount_std']].values"
   ]
  },
  {
   "cell_type": "code",
   "execution_count": 12,
   "id": "149bb2d1",
   "metadata": {
    "ExecuteTime": {
     "end_time": "2021-07-14T08:35:10.401301Z",
     "start_time": "2021-07-14T08:35:10.393907Z"
    }
   },
   "outputs": [],
   "source": [
    "df[['Value_norm','countryCount_norm']] = scaler.fit_transform(value2)"
   ]
  },
  {
   "cell_type": "code",
   "execution_count": 13,
   "id": "8dc2ce5d",
   "metadata": {
    "ExecuteTime": {
     "end_time": "2021-07-14T08:35:10.691477Z",
     "start_time": "2021-07-14T08:35:10.679552Z"
    }
   },
   "outputs": [
    {
     "data": {
      "text/html": [
       "<div>\n",
       "<style scoped>\n",
       "    .dataframe tbody tr th:only-of-type {\n",
       "        vertical-align: middle;\n",
       "    }\n",
       "\n",
       "    .dataframe tbody tr th {\n",
       "        vertical-align: top;\n",
       "    }\n",
       "\n",
       "    .dataframe thead th {\n",
       "        text-align: right;\n",
       "    }\n",
       "</style>\n",
       "<table border=\"1\" class=\"dataframe\">\n",
       "  <thead>\n",
       "    <tr style=\"text-align: right;\">\n",
       "      <th></th>\n",
       "      <th>Num</th>\n",
       "      <th>Title</th>\n",
       "      <th>Value</th>\n",
       "      <th>Series or Movie</th>\n",
       "      <th>originCountry</th>\n",
       "      <th>Genre</th>\n",
       "      <th>country_all</th>\n",
       "      <th>countryCount</th>\n",
       "      <th>Value_std</th>\n",
       "      <th>countryCount_std</th>\n",
       "      <th>Value_norm</th>\n",
       "      <th>countryCount_norm</th>\n",
       "    </tr>\n",
       "  </thead>\n",
       "  <tbody>\n",
       "    <tr>\n",
       "      <th>0</th>\n",
       "      <td>0</td>\n",
       "      <td>thequeensgambit</td>\n",
       "      <td>44867</td>\n",
       "      <td>TV</td>\n",
       "      <td>United States</td>\n",
       "      <td>Drama</td>\n",
       "      <td>['Argentina', 'Australia', 'Belgium', 'Brazil'...</td>\n",
       "      <td>36</td>\n",
       "      <td>1.00000</td>\n",
       "      <td>0.972222</td>\n",
       "      <td>20.089835</td>\n",
       "      <td>1.408727</td>\n",
       "    </tr>\n",
       "    <tr>\n",
       "      <th>1</th>\n",
       "      <td>1</td>\n",
       "      <td>365days</td>\n",
       "      <td>42149</td>\n",
       "      <td>Movie</td>\n",
       "      <td>Poland</td>\n",
       "      <td>Romance</td>\n",
       "      <td>['Argentina', 'Australia', 'Belgium', 'Brazil'...</td>\n",
       "      <td>36</td>\n",
       "      <td>0.93942</td>\n",
       "      <td>0.972222</td>\n",
       "      <td>18.855375</td>\n",
       "      <td>1.408727</td>\n",
       "    </tr>\n",
       "  </tbody>\n",
       "</table>\n",
       "</div>"
      ],
      "text/plain": [
       "   Num            Title  Value Series or Movie  originCountry    Genre  \\\n",
       "0    0  thequeensgambit  44867              TV  United States    Drama   \n",
       "1    1          365days  42149           Movie         Poland  Romance   \n",
       "\n",
       "                                         country_all  countryCount  Value_std  \\\n",
       "0  ['Argentina', 'Australia', 'Belgium', 'Brazil'...            36    1.00000   \n",
       "1  ['Argentina', 'Australia', 'Belgium', 'Brazil'...            36    0.93942   \n",
       "\n",
       "   countryCount_std  Value_norm  countryCount_norm  \n",
       "0          0.972222   20.089835           1.408727  \n",
       "1          0.972222   18.855375           1.408727  "
      ]
     },
     "execution_count": 13,
     "metadata": {},
     "output_type": "execute_result"
    }
   ],
   "source": [
    "df.head(2)"
   ]
  },
  {
   "cell_type": "code",
   "execution_count": 14,
   "id": "4ff30d3c",
   "metadata": {
    "ExecuteTime": {
     "end_time": "2021-07-14T08:35:10.956894Z",
     "start_time": "2021-07-14T08:35:10.927891Z"
    }
   },
   "outputs": [
    {
     "data": {
      "text/html": [
       "<div>\n",
       "<style scoped>\n",
       "    .dataframe tbody tr th:only-of-type {\n",
       "        vertical-align: middle;\n",
       "    }\n",
       "\n",
       "    .dataframe tbody tr th {\n",
       "        vertical-align: top;\n",
       "    }\n",
       "\n",
       "    .dataframe thead th {\n",
       "        text-align: right;\n",
       "    }\n",
       "</style>\n",
       "<table border=\"1\" class=\"dataframe\">\n",
       "  <thead>\n",
       "    <tr style=\"text-align: right;\">\n",
       "      <th></th>\n",
       "      <th>Num</th>\n",
       "      <th>Value</th>\n",
       "      <th>countryCount</th>\n",
       "      <th>Value_std</th>\n",
       "      <th>countryCount_std</th>\n",
       "      <th>Value_norm</th>\n",
       "      <th>countryCount_norm</th>\n",
       "    </tr>\n",
       "  </thead>\n",
       "  <tbody>\n",
       "    <tr>\n",
       "      <th>count</th>\n",
       "      <td>2960.0</td>\n",
       "      <td>2960.0</td>\n",
       "      <td>2960.0</td>\n",
       "      <td>2960.0</td>\n",
       "      <td>2960.0</td>\n",
       "      <td>2960.0</td>\n",
       "      <td>2960.0</td>\n",
       "    </tr>\n",
       "    <tr>\n",
       "      <th>mean</th>\n",
       "      <td>1480.0</td>\n",
       "      <td>634.0</td>\n",
       "      <td>16.0</td>\n",
       "      <td>0.0</td>\n",
       "      <td>0.0</td>\n",
       "      <td>0.0</td>\n",
       "      <td>0.0</td>\n",
       "    </tr>\n",
       "    <tr>\n",
       "      <th>std</th>\n",
       "      <td>855.0</td>\n",
       "      <td>2202.0</td>\n",
       "      <td>14.0</td>\n",
       "      <td>0.0</td>\n",
       "      <td>0.0</td>\n",
       "      <td>1.0</td>\n",
       "      <td>1.0</td>\n",
       "    </tr>\n",
       "    <tr>\n",
       "      <th>min</th>\n",
       "      <td>0.0</td>\n",
       "      <td>1.0</td>\n",
       "      <td>1.0</td>\n",
       "      <td>0.0</td>\n",
       "      <td>0.0</td>\n",
       "      <td>-0.0</td>\n",
       "      <td>-1.0</td>\n",
       "    </tr>\n",
       "    <tr>\n",
       "      <th>25%</th>\n",
       "      <td>740.0</td>\n",
       "      <td>22.0</td>\n",
       "      <td>3.0</td>\n",
       "      <td>0.0</td>\n",
       "      <td>0.0</td>\n",
       "      <td>-0.0</td>\n",
       "      <td>-1.0</td>\n",
       "    </tr>\n",
       "    <tr>\n",
       "      <th>50%</th>\n",
       "      <td>1480.0</td>\n",
       "      <td>80.0</td>\n",
       "      <td>10.0</td>\n",
       "      <td>0.0</td>\n",
       "      <td>0.0</td>\n",
       "      <td>-0.0</td>\n",
       "      <td>-0.0</td>\n",
       "    </tr>\n",
       "    <tr>\n",
       "      <th>75%</th>\n",
       "      <td>2219.0</td>\n",
       "      <td>321.0</td>\n",
       "      <td>35.0</td>\n",
       "      <td>0.0</td>\n",
       "      <td>1.0</td>\n",
       "      <td>-0.0</td>\n",
       "      <td>1.0</td>\n",
       "    </tr>\n",
       "    <tr>\n",
       "      <th>max</th>\n",
       "      <td>2959.0</td>\n",
       "      <td>44867.0</td>\n",
       "      <td>37.0</td>\n",
       "      <td>1.0</td>\n",
       "      <td>1.0</td>\n",
       "      <td>20.0</td>\n",
       "      <td>1.0</td>\n",
       "    </tr>\n",
       "  </tbody>\n",
       "</table>\n",
       "</div>"
      ],
      "text/plain": [
       "          Num    Value  countryCount  Value_std  countryCount_std  Value_norm  \\\n",
       "count  2960.0   2960.0        2960.0     2960.0            2960.0      2960.0   \n",
       "mean   1480.0    634.0          16.0        0.0               0.0         0.0   \n",
       "std     855.0   2202.0          14.0        0.0               0.0         1.0   \n",
       "min       0.0      1.0           1.0        0.0               0.0        -0.0   \n",
       "25%     740.0     22.0           3.0        0.0               0.0        -0.0   \n",
       "50%    1480.0     80.0          10.0        0.0               0.0        -0.0   \n",
       "75%    2219.0    321.0          35.0        0.0               1.0        -0.0   \n",
       "max    2959.0  44867.0          37.0        1.0               1.0        20.0   \n",
       "\n",
       "       countryCount_norm  \n",
       "count             2960.0  \n",
       "mean                 0.0  \n",
       "std                  1.0  \n",
       "min                 -1.0  \n",
       "25%                 -1.0  \n",
       "50%                 -0.0  \n",
       "75%                  1.0  \n",
       "max                  1.0  "
      ]
     },
     "execution_count": 14,
     "metadata": {},
     "output_type": "execute_result"
    }
   ],
   "source": [
    "df.describe().round()"
   ]
  },
  {
   "cell_type": "markdown",
   "id": "539fd931",
   "metadata": {},
   "source": [
    "# 생산국가 종류와 viewpoint"
   ]
  },
  {
   "cell_type": "code",
   "execution_count": 15,
   "id": "9462f2be",
   "metadata": {
    "ExecuteTime": {
     "end_time": "2021-07-14T08:35:11.907459Z",
     "start_time": "2021-07-14T08:35:11.905182Z"
    }
   },
   "outputs": [],
   "source": [
    "from collections import Counter"
   ]
  },
  {
   "cell_type": "code",
   "execution_count": 16,
   "id": "74567113",
   "metadata": {
    "ExecuteTime": {
     "end_time": "2021-07-14T08:35:12.183720Z",
     "start_time": "2021-07-14T08:35:12.180361Z"
    }
   },
   "outputs": [],
   "source": [
    "df_country = df[['Num','Value','originCountry']]"
   ]
  },
  {
   "cell_type": "code",
   "execution_count": 17,
   "id": "736b9de8",
   "metadata": {
    "ExecuteTime": {
     "end_time": "2021-07-14T08:35:12.463848Z",
     "start_time": "2021-07-14T08:35:12.457741Z"
    }
   },
   "outputs": [
    {
     "data": {
      "text/html": [
       "<div>\n",
       "<style scoped>\n",
       "    .dataframe tbody tr th:only-of-type {\n",
       "        vertical-align: middle;\n",
       "    }\n",
       "\n",
       "    .dataframe tbody tr th {\n",
       "        vertical-align: top;\n",
       "    }\n",
       "\n",
       "    .dataframe thead th {\n",
       "        text-align: right;\n",
       "    }\n",
       "</style>\n",
       "<table border=\"1\" class=\"dataframe\">\n",
       "  <thead>\n",
       "    <tr style=\"text-align: right;\">\n",
       "      <th></th>\n",
       "      <th>Num</th>\n",
       "      <th>Value</th>\n",
       "      <th>originCountry</th>\n",
       "    </tr>\n",
       "  </thead>\n",
       "  <tbody>\n",
       "    <tr>\n",
       "      <th>0</th>\n",
       "      <td>0</td>\n",
       "      <td>44867</td>\n",
       "      <td>United States</td>\n",
       "    </tr>\n",
       "  </tbody>\n",
       "</table>\n",
       "</div>"
      ],
      "text/plain": [
       "   Num  Value  originCountry\n",
       "0    0  44867  United States"
      ]
     },
     "execution_count": 17,
     "metadata": {},
     "output_type": "execute_result"
    }
   ],
   "source": [
    "df_country.head(1)"
   ]
  },
  {
   "cell_type": "markdown",
   "id": "6bf4f7b6",
   "metadata": {},
   "source": [
    "## null 값 확인 및 제거"
   ]
  },
  {
   "cell_type": "code",
   "execution_count": 18,
   "id": "fe6d2162",
   "metadata": {
    "ExecuteTime": {
     "end_time": "2021-07-14T08:35:12.759669Z",
     "start_time": "2021-07-14T08:35:12.755072Z"
    }
   },
   "outputs": [
    {
     "data": {
      "text/plain": [
       "Num                0\n",
       "Value              0\n",
       "originCountry    206\n",
       "dtype: int64"
      ]
     },
     "execution_count": 18,
     "metadata": {},
     "output_type": "execute_result"
    }
   ],
   "source": [
    "df_country.isnull().sum()"
   ]
  },
  {
   "cell_type": "code",
   "execution_count": 19,
   "id": "1ce6f0d5",
   "metadata": {
    "ExecuteTime": {
     "end_time": "2021-07-14T08:35:13.039190Z",
     "start_time": "2021-07-14T08:35:13.032429Z"
    }
   },
   "outputs": [],
   "source": [
    "df_country=df_country.dropna(subset=['originCountry'])\n",
    "df_country=df_country.reset_index()"
   ]
  },
  {
   "cell_type": "code",
   "execution_count": 21,
   "id": "84a419fa",
   "metadata": {
    "ExecuteTime": {
     "end_time": "2021-07-14T08:35:13.586198Z",
     "start_time": "2021-07-14T08:35:13.576189Z"
    }
   },
   "outputs": [
    {
     "data": {
      "text/html": [
       "<div>\n",
       "<style scoped>\n",
       "    .dataframe tbody tr th:only-of-type {\n",
       "        vertical-align: middle;\n",
       "    }\n",
       "\n",
       "    .dataframe tbody tr th {\n",
       "        vertical-align: top;\n",
       "    }\n",
       "\n",
       "    .dataframe thead th {\n",
       "        text-align: right;\n",
       "    }\n",
       "</style>\n",
       "<table border=\"1\" class=\"dataframe\">\n",
       "  <thead>\n",
       "    <tr style=\"text-align: right;\">\n",
       "      <th></th>\n",
       "      <th>index</th>\n",
       "      <th>Num</th>\n",
       "      <th>Value</th>\n",
       "      <th>originCountry</th>\n",
       "    </tr>\n",
       "  </thead>\n",
       "  <tbody>\n",
       "    <tr>\n",
       "      <th>0</th>\n",
       "      <td>0</td>\n",
       "      <td>0</td>\n",
       "      <td>44867</td>\n",
       "      <td>United States</td>\n",
       "    </tr>\n",
       "    <tr>\n",
       "      <th>1</th>\n",
       "      <td>1</td>\n",
       "      <td>1</td>\n",
       "      <td>42149</td>\n",
       "      <td>Poland</td>\n",
       "    </tr>\n",
       "    <tr>\n",
       "      <th>2</th>\n",
       "      <td>2</td>\n",
       "      <td>2</td>\n",
       "      <td>27138</td>\n",
       "      <td>United States</td>\n",
       "    </tr>\n",
       "    <tr>\n",
       "      <th>3</th>\n",
       "      <td>3</td>\n",
       "      <td>3</td>\n",
       "      <td>25729</td>\n",
       "      <td>United States</td>\n",
       "    </tr>\n",
       "    <tr>\n",
       "      <th>4</th>\n",
       "      <td>4</td>\n",
       "      <td>4</td>\n",
       "      <td>23480</td>\n",
       "      <td>United States</td>\n",
       "    </tr>\n",
       "    <tr>\n",
       "      <th>...</th>\n",
       "      <td>...</td>\n",
       "      <td>...</td>\n",
       "      <td>...</td>\n",
       "      <td>...</td>\n",
       "    </tr>\n",
       "    <tr>\n",
       "      <th>2749</th>\n",
       "      <td>2955</td>\n",
       "      <td>2955</td>\n",
       "      <td>1</td>\n",
       "      <td>United States</td>\n",
       "    </tr>\n",
       "    <tr>\n",
       "      <th>2750</th>\n",
       "      <td>2956</td>\n",
       "      <td>2956</td>\n",
       "      <td>1</td>\n",
       "      <td>United States</td>\n",
       "    </tr>\n",
       "    <tr>\n",
       "      <th>2751</th>\n",
       "      <td>2957</td>\n",
       "      <td>2957</td>\n",
       "      <td>1</td>\n",
       "      <td>United States</td>\n",
       "    </tr>\n",
       "    <tr>\n",
       "      <th>2752</th>\n",
       "      <td>2958</td>\n",
       "      <td>2958</td>\n",
       "      <td>1</td>\n",
       "      <td>United States</td>\n",
       "    </tr>\n",
       "    <tr>\n",
       "      <th>2753</th>\n",
       "      <td>2959</td>\n",
       "      <td>2959</td>\n",
       "      <td>1</td>\n",
       "      <td>United States</td>\n",
       "    </tr>\n",
       "  </tbody>\n",
       "</table>\n",
       "<p>2754 rows × 4 columns</p>\n",
       "</div>"
      ],
      "text/plain": [
       "      index   Num  Value  originCountry\n",
       "0         0     0  44867  United States\n",
       "1         1     1  42149         Poland\n",
       "2         2     2  27138  United States\n",
       "3         3     3  25729  United States\n",
       "4         4     4  23480  United States\n",
       "...     ...   ...    ...            ...\n",
       "2749   2955  2955      1  United States\n",
       "2750   2956  2956      1  United States\n",
       "2751   2957  2957      1  United States\n",
       "2752   2958  2958      1  United States\n",
       "2753   2959  2959      1  United States\n",
       "\n",
       "[2754 rows x 4 columns]"
      ]
     },
     "execution_count": 21,
     "metadata": {},
     "output_type": "execute_result"
    }
   ],
   "source": [
    "df_country"
   ]
  },
  {
   "cell_type": "code",
   "execution_count": 22,
   "id": "50e0c04a",
   "metadata": {
    "ExecuteTime": {
     "end_time": "2021-07-14T08:35:13.865060Z",
     "start_time": "2021-07-14T08:35:13.860307Z"
    }
   },
   "outputs": [],
   "source": [
    "# 컬럼값 변경\n",
    "df_country=df_country[['Value','originCountry']]\n",
    "df_country"
   ]
  },
  {
   "cell_type": "code",
   "execution_count": 24,
   "id": "11f0b475",
   "metadata": {
    "ExecuteTime": {
     "end_time": "2021-07-14T08:35:14.654768Z",
     "start_time": "2021-07-14T08:35:14.646624Z"
    },
    "scrolled": true
   },
   "outputs": [
    {
     "data": {
      "text/plain": [
       "Value            0\n",
       "originCountry    0\n",
       "dtype: int64"
      ]
     },
     "execution_count": 24,
     "metadata": {},
     "output_type": "execute_result"
    }
   ],
   "source": [
    "# 결측치 확인\n",
    "df_country.isnull().sum()"
   ]
  },
  {
   "cell_type": "code",
   "execution_count": 25,
   "id": "0d981c58",
   "metadata": {
    "ExecuteTime": {
     "end_time": "2021-07-14T08:35:15.219049Z",
     "start_time": "2021-07-14T08:35:15.215705Z"
    }
   },
   "outputs": [],
   "source": [
    "# value 내림차순 기준 top 100 영화의 생산국가 추출\n",
    "df_view_top100=df_country[:][:100]"
   ]
  },
  {
   "cell_type": "code",
   "execution_count": 26,
   "id": "545ef3f4",
   "metadata": {
    "ExecuteTime": {
     "end_time": "2021-07-14T08:35:16.928215Z",
     "start_time": "2021-07-14T08:35:16.925068Z"
    }
   },
   "outputs": [],
   "source": [
    "value = list(df_country.Value)\n",
    "country_count_list = list(df_country.originCountry.values)"
   ]
  },
  {
   "cell_type": "markdown",
   "id": "5205a1bc",
   "metadata": {},
   "source": [
    "# 상관성 확인 방법\n",
    "어떤 방식으로 상관성을 표현해야하는지 고민중에 box plot으로 value-originCountry의 등분산성을 확인 후, 방법 선정"
   ]
  },
  {
   "cell_type": "code",
   "execution_count": 74,
   "id": "f61db734",
   "metadata": {
    "ExecuteTime": {
     "end_time": "2021-07-14T09:26:55.054516Z",
     "start_time": "2021-07-14T09:26:54.879172Z"
    }
   },
   "outputs": [
    {
     "ename": "AttributeError",
     "evalue": "'float' object has no attribute 'shape'",
     "output_type": "error",
     "traceback": [
      "\u001b[0;31m---------------------------------------------------------------------------\u001b[0m",
      "\u001b[0;31mAttributeError\u001b[0m                            Traceback (most recent call last)",
      "\u001b[0;32m<ipython-input-74-b1ea5db9ab27>\u001b[0m in \u001b[0;36m<module>\u001b[0;34m\u001b[0m\n\u001b[1;32m      6\u001b[0m \u001b[0mplt\u001b[0m\u001b[0;34m.\u001b[0m\u001b[0mfigure\u001b[0m\u001b[0;34m(\u001b[0m\u001b[0mfigsize\u001b[0m\u001b[0;34m=\u001b[0m\u001b[0;34m(\u001b[0m\u001b[0;36m12\u001b[0m\u001b[0;34m,\u001b[0m\u001b[0;36m5\u001b[0m\u001b[0;34m)\u001b[0m\u001b[0;34m)\u001b[0m\u001b[0;34m\u001b[0m\u001b[0;34m\u001b[0m\u001b[0m\n\u001b[1;32m      7\u001b[0m \u001b[0;34m\u001b[0m\u001b[0m\n\u001b[0;32m----> 8\u001b[0;31m \u001b[0mviolin\u001b[0m \u001b[0;34m=\u001b[0m \u001b[0max\u001b[0m\u001b[0;34m.\u001b[0m\u001b[0mviolinplot\u001b[0m\u001b[0;34m(\u001b[0m\u001b[0mdf_country\u001b[0m\u001b[0;34m)\u001b[0m\u001b[0;34m\u001b[0m\u001b[0;34m\u001b[0m\u001b[0m\n\u001b[0m",
      "\u001b[0;32m/Users/anaconda3/envs/tsa/lib/python3.9/site-packages/matplotlib/__init__.py\u001b[0m in \u001b[0;36minner\u001b[0;34m(ax, data, *args, **kwargs)\u001b[0m\n\u001b[1;32m   1359\u001b[0m     \u001b[0;32mdef\u001b[0m \u001b[0minner\u001b[0m\u001b[0;34m(\u001b[0m\u001b[0max\u001b[0m\u001b[0;34m,\u001b[0m \u001b[0;34m*\u001b[0m\u001b[0margs\u001b[0m\u001b[0;34m,\u001b[0m \u001b[0mdata\u001b[0m\u001b[0;34m=\u001b[0m\u001b[0;32mNone\u001b[0m\u001b[0;34m,\u001b[0m \u001b[0;34m**\u001b[0m\u001b[0mkwargs\u001b[0m\u001b[0;34m)\u001b[0m\u001b[0;34m:\u001b[0m\u001b[0;34m\u001b[0m\u001b[0;34m\u001b[0m\u001b[0m\n\u001b[1;32m   1360\u001b[0m         \u001b[0;32mif\u001b[0m \u001b[0mdata\u001b[0m \u001b[0;32mis\u001b[0m \u001b[0;32mNone\u001b[0m\u001b[0;34m:\u001b[0m\u001b[0;34m\u001b[0m\u001b[0;34m\u001b[0m\u001b[0m\n\u001b[0;32m-> 1361\u001b[0;31m             \u001b[0;32mreturn\u001b[0m \u001b[0mfunc\u001b[0m\u001b[0;34m(\u001b[0m\u001b[0max\u001b[0m\u001b[0;34m,\u001b[0m \u001b[0;34m*\u001b[0m\u001b[0mmap\u001b[0m\u001b[0;34m(\u001b[0m\u001b[0msanitize_sequence\u001b[0m\u001b[0;34m,\u001b[0m \u001b[0margs\u001b[0m\u001b[0;34m)\u001b[0m\u001b[0;34m,\u001b[0m \u001b[0;34m**\u001b[0m\u001b[0mkwargs\u001b[0m\u001b[0;34m)\u001b[0m\u001b[0;34m\u001b[0m\u001b[0;34m\u001b[0m\u001b[0m\n\u001b[0m\u001b[1;32m   1362\u001b[0m \u001b[0;34m\u001b[0m\u001b[0m\n\u001b[1;32m   1363\u001b[0m         \u001b[0mbound\u001b[0m \u001b[0;34m=\u001b[0m \u001b[0mnew_sig\u001b[0m\u001b[0;34m.\u001b[0m\u001b[0mbind\u001b[0m\u001b[0;34m(\u001b[0m\u001b[0max\u001b[0m\u001b[0;34m,\u001b[0m \u001b[0;34m*\u001b[0m\u001b[0margs\u001b[0m\u001b[0;34m,\u001b[0m \u001b[0;34m**\u001b[0m\u001b[0mkwargs\u001b[0m\u001b[0;34m)\u001b[0m\u001b[0;34m\u001b[0m\u001b[0;34m\u001b[0m\u001b[0m\n",
      "\u001b[0;32m/Users/anaconda3/envs/tsa/lib/python3.9/site-packages/matplotlib/axes/_axes.py\u001b[0m in \u001b[0;36mviolinplot\u001b[0;34m(self, dataset, positions, vert, widths, showmeans, showextrema, showmedians, quantiles, points, bw_method)\u001b[0m\n\u001b[1;32m   8034\u001b[0m             \u001b[0;32mreturn\u001b[0m \u001b[0mkde\u001b[0m\u001b[0;34m.\u001b[0m\u001b[0mevaluate\u001b[0m\u001b[0;34m(\u001b[0m\u001b[0mcoords\u001b[0m\u001b[0;34m)\u001b[0m\u001b[0;34m\u001b[0m\u001b[0;34m\u001b[0m\u001b[0m\n\u001b[1;32m   8035\u001b[0m \u001b[0;34m\u001b[0m\u001b[0m\n\u001b[0;32m-> 8036\u001b[0;31m         vpstats = cbook.violin_stats(dataset, _kde_method, points=points,\n\u001b[0m\u001b[1;32m   8037\u001b[0m                                      quantiles=quantiles)\n\u001b[1;32m   8038\u001b[0m         return self.violin(vpstats, positions=positions, vert=vert,\n",
      "\u001b[0;32m/Users/anaconda3/envs/tsa/lib/python3.9/site-packages/matplotlib/cbook/__init__.py\u001b[0m in \u001b[0;36mviolin_stats\u001b[0;34m(X, method, points, quantiles)\u001b[0m\n\u001b[1;32m   1524\u001b[0m         \u001b[0;31m# Evaluate the kernel density estimate\u001b[0m\u001b[0;34m\u001b[0m\u001b[0;34m\u001b[0m\u001b[0;34m\u001b[0m\u001b[0m\n\u001b[1;32m   1525\u001b[0m         \u001b[0mcoords\u001b[0m \u001b[0;34m=\u001b[0m \u001b[0mnp\u001b[0m\u001b[0;34m.\u001b[0m\u001b[0mlinspace\u001b[0m\u001b[0;34m(\u001b[0m\u001b[0mmin_val\u001b[0m\u001b[0;34m,\u001b[0m \u001b[0mmax_val\u001b[0m\u001b[0;34m,\u001b[0m \u001b[0mpoints\u001b[0m\u001b[0;34m)\u001b[0m\u001b[0;34m\u001b[0m\u001b[0;34m\u001b[0m\u001b[0m\n\u001b[0;32m-> 1526\u001b[0;31m         \u001b[0mstats\u001b[0m\u001b[0;34m[\u001b[0m\u001b[0;34m'vals'\u001b[0m\u001b[0;34m]\u001b[0m \u001b[0;34m=\u001b[0m \u001b[0mmethod\u001b[0m\u001b[0;34m(\u001b[0m\u001b[0mx\u001b[0m\u001b[0;34m,\u001b[0m \u001b[0mcoords\u001b[0m\u001b[0;34m)\u001b[0m\u001b[0;34m\u001b[0m\u001b[0;34m\u001b[0m\u001b[0m\n\u001b[0m\u001b[1;32m   1527\u001b[0m         \u001b[0mstats\u001b[0m\u001b[0;34m[\u001b[0m\u001b[0;34m'coords'\u001b[0m\u001b[0;34m]\u001b[0m \u001b[0;34m=\u001b[0m \u001b[0mcoords\u001b[0m\u001b[0;34m\u001b[0m\u001b[0;34m\u001b[0m\u001b[0m\n\u001b[1;32m   1528\u001b[0m \u001b[0;34m\u001b[0m\u001b[0m\n",
      "\u001b[0;32m/Users/anaconda3/envs/tsa/lib/python3.9/site-packages/matplotlib/axes/_axes.py\u001b[0m in \u001b[0;36m_kde_method\u001b[0;34m(X, coords)\u001b[0m\n\u001b[1;32m   8031\u001b[0m             \u001b[0;32mif\u001b[0m \u001b[0mnp\u001b[0m\u001b[0;34m.\u001b[0m\u001b[0mall\u001b[0m\u001b[0;34m(\u001b[0m\u001b[0mX\u001b[0m\u001b[0;34m[\u001b[0m\u001b[0;36m0\u001b[0m\u001b[0;34m]\u001b[0m \u001b[0;34m==\u001b[0m \u001b[0mX\u001b[0m\u001b[0;34m)\u001b[0m\u001b[0;34m:\u001b[0m\u001b[0;34m\u001b[0m\u001b[0;34m\u001b[0m\u001b[0m\n\u001b[1;32m   8032\u001b[0m                 \u001b[0;32mreturn\u001b[0m \u001b[0;34m(\u001b[0m\u001b[0mX\u001b[0m\u001b[0;34m[\u001b[0m\u001b[0;36m0\u001b[0m\u001b[0;34m]\u001b[0m \u001b[0;34m==\u001b[0m \u001b[0mcoords\u001b[0m\u001b[0;34m)\u001b[0m\u001b[0;34m.\u001b[0m\u001b[0mastype\u001b[0m\u001b[0;34m(\u001b[0m\u001b[0mfloat\u001b[0m\u001b[0;34m)\u001b[0m\u001b[0;34m\u001b[0m\u001b[0;34m\u001b[0m\u001b[0m\n\u001b[0;32m-> 8033\u001b[0;31m             \u001b[0mkde\u001b[0m \u001b[0;34m=\u001b[0m \u001b[0mmlab\u001b[0m\u001b[0;34m.\u001b[0m\u001b[0mGaussianKDE\u001b[0m\u001b[0;34m(\u001b[0m\u001b[0mX\u001b[0m\u001b[0;34m,\u001b[0m \u001b[0mbw_method\u001b[0m\u001b[0;34m)\u001b[0m\u001b[0;34m\u001b[0m\u001b[0;34m\u001b[0m\u001b[0m\n\u001b[0m\u001b[1;32m   8034\u001b[0m             \u001b[0;32mreturn\u001b[0m \u001b[0mkde\u001b[0m\u001b[0;34m.\u001b[0m\u001b[0mevaluate\u001b[0m\u001b[0;34m(\u001b[0m\u001b[0mcoords\u001b[0m\u001b[0;34m)\u001b[0m\u001b[0;34m\u001b[0m\u001b[0;34m\u001b[0m\u001b[0m\n\u001b[1;32m   8035\u001b[0m \u001b[0;34m\u001b[0m\u001b[0m\n",
      "\u001b[0;32m/Users/anaconda3/envs/tsa/lib/python3.9/site-packages/matplotlib/mlab.py\u001b[0m in \u001b[0;36m__init__\u001b[0;34m(self, dataset, bw_method)\u001b[0m\n\u001b[1;32m    915\u001b[0m         \u001b[0;32mif\u001b[0m \u001b[0;32mnot\u001b[0m \u001b[0mhasattr\u001b[0m\u001b[0;34m(\u001b[0m\u001b[0mself\u001b[0m\u001b[0;34m,\u001b[0m \u001b[0;34m'_data_inv_cov'\u001b[0m\u001b[0;34m)\u001b[0m\u001b[0;34m:\u001b[0m\u001b[0;34m\u001b[0m\u001b[0;34m\u001b[0m\u001b[0m\n\u001b[1;32m    916\u001b[0m             self.data_covariance = np.atleast_2d(\n\u001b[0;32m--> 917\u001b[0;31m                 np.cov(\n\u001b[0m\u001b[1;32m    918\u001b[0m                     \u001b[0mself\u001b[0m\u001b[0;34m.\u001b[0m\u001b[0mdataset\u001b[0m\u001b[0;34m,\u001b[0m\u001b[0;34m\u001b[0m\u001b[0;34m\u001b[0m\u001b[0m\n\u001b[1;32m    919\u001b[0m                     \u001b[0mrowvar\u001b[0m\u001b[0;34m=\u001b[0m\u001b[0;36m1\u001b[0m\u001b[0;34m,\u001b[0m\u001b[0;34m\u001b[0m\u001b[0;34m\u001b[0m\u001b[0m\n",
      "\u001b[0;32m<__array_function__ internals>\u001b[0m in \u001b[0;36mcov\u001b[0;34m(*args, **kwargs)\u001b[0m\n",
      "\u001b[0;32m/Users/anaconda3/envs/tsa/lib/python3.9/site-packages/numpy/lib/function_base.py\u001b[0m in \u001b[0;36mcov\u001b[0;34m(m, y, rowvar, bias, ddof, fweights, aweights, dtype)\u001b[0m\n\u001b[1;32m   2467\u001b[0m             \u001b[0mw\u001b[0m \u001b[0;34m*=\u001b[0m \u001b[0maweights\u001b[0m\u001b[0;34m\u001b[0m\u001b[0;34m\u001b[0m\u001b[0m\n\u001b[1;32m   2468\u001b[0m \u001b[0;34m\u001b[0m\u001b[0m\n\u001b[0;32m-> 2469\u001b[0;31m     \u001b[0mavg\u001b[0m\u001b[0;34m,\u001b[0m \u001b[0mw_sum\u001b[0m \u001b[0;34m=\u001b[0m \u001b[0maverage\u001b[0m\u001b[0;34m(\u001b[0m\u001b[0mX\u001b[0m\u001b[0;34m,\u001b[0m \u001b[0maxis\u001b[0m\u001b[0;34m=\u001b[0m\u001b[0;36m1\u001b[0m\u001b[0;34m,\u001b[0m \u001b[0mweights\u001b[0m\u001b[0;34m=\u001b[0m\u001b[0mw\u001b[0m\u001b[0;34m,\u001b[0m \u001b[0mreturned\u001b[0m\u001b[0;34m=\u001b[0m\u001b[0;32mTrue\u001b[0m\u001b[0;34m)\u001b[0m\u001b[0;34m\u001b[0m\u001b[0;34m\u001b[0m\u001b[0m\n\u001b[0m\u001b[1;32m   2470\u001b[0m     \u001b[0mw_sum\u001b[0m \u001b[0;34m=\u001b[0m \u001b[0mw_sum\u001b[0m\u001b[0;34m[\u001b[0m\u001b[0;36m0\u001b[0m\u001b[0;34m]\u001b[0m\u001b[0;34m\u001b[0m\u001b[0;34m\u001b[0m\u001b[0m\n\u001b[1;32m   2471\u001b[0m \u001b[0;34m\u001b[0m\u001b[0m\n",
      "\u001b[0;32m<__array_function__ internals>\u001b[0m in \u001b[0;36maverage\u001b[0;34m(*args, **kwargs)\u001b[0m\n",
      "\u001b[0;32m/Users/anaconda3/envs/tsa/lib/python3.9/site-packages/numpy/lib/function_base.py\u001b[0m in \u001b[0;36maverage\u001b[0;34m(a, axis, weights, returned)\u001b[0m\n\u001b[1;32m    413\u001b[0m \u001b[0;34m\u001b[0m\u001b[0m\n\u001b[1;32m    414\u001b[0m     \u001b[0;32mif\u001b[0m \u001b[0mreturned\u001b[0m\u001b[0;34m:\u001b[0m\u001b[0;34m\u001b[0m\u001b[0;34m\u001b[0m\u001b[0m\n\u001b[0;32m--> 415\u001b[0;31m         \u001b[0;32mif\u001b[0m \u001b[0mscl\u001b[0m\u001b[0;34m.\u001b[0m\u001b[0mshape\u001b[0m \u001b[0;34m!=\u001b[0m \u001b[0mavg\u001b[0m\u001b[0;34m.\u001b[0m\u001b[0mshape\u001b[0m\u001b[0;34m:\u001b[0m\u001b[0;34m\u001b[0m\u001b[0;34m\u001b[0m\u001b[0m\n\u001b[0m\u001b[1;32m    416\u001b[0m             \u001b[0mscl\u001b[0m \u001b[0;34m=\u001b[0m \u001b[0mnp\u001b[0m\u001b[0;34m.\u001b[0m\u001b[0mbroadcast_to\u001b[0m\u001b[0;34m(\u001b[0m\u001b[0mscl\u001b[0m\u001b[0;34m,\u001b[0m \u001b[0mavg\u001b[0m\u001b[0;34m.\u001b[0m\u001b[0mshape\u001b[0m\u001b[0;34m)\u001b[0m\u001b[0;34m.\u001b[0m\u001b[0mcopy\u001b[0m\u001b[0;34m(\u001b[0m\u001b[0;34m)\u001b[0m\u001b[0;34m\u001b[0m\u001b[0;34m\u001b[0m\u001b[0m\n\u001b[1;32m    417\u001b[0m         \u001b[0;32mreturn\u001b[0m \u001b[0mavg\u001b[0m\u001b[0;34m,\u001b[0m \u001b[0mscl\u001b[0m\u001b[0;34m\u001b[0m\u001b[0;34m\u001b[0m\u001b[0m\n",
      "\u001b[0;31mAttributeError\u001b[0m: 'float' object has no attribute 'shape'"
     ]
    },
    {
     "data": {
      "image/png": "[encoded data removed]",
      "text/plain": [
       "<Figure size 432x288 with 1 Axes>"
      ]
     },
     "metadata": {
      "needs_background": "light"
     },
     "output_type": "display_data"
    },
    {
     "data": {
      "text/plain": [
       "<Figure size 864x360 with 0 Axes>"
      ]
     },
     "metadata": {},
     "output_type": "display_data"
    }
   ],
   "source": [
    "# 시각화를 위한 등분산성 확인\n",
    "import plotly.express as px\n",
    "import matplotlib.pyplot as plt\n",
    "colors = []\n",
    "fig, ax = plt.subplots()\n",
    "plt.figure(figsize=(12,5))\n",
    "\n",
    "violin = ax.violinplot(df_country)\n"
   ]
  },
  {
   "cell_type": "code",
   "execution_count": 28,
   "id": "05ba826b",
   "metadata": {
    "ExecuteTime": {
     "end_time": "2021-07-14T08:35:18.856880Z",
     "start_time": "2021-07-14T08:35:18.854119Z"
    }
   },
   "outputs": [],
   "source": [
    "# view 기준 top100 생산국가 count"
   ]
  },
  {
   "cell_type": "code",
   "execution_count": 29,
   "id": "3f7b54ca",
   "metadata": {
    "ExecuteTime": {
     "end_time": "2021-07-14T08:35:20.053835Z",
     "start_time": "2021-07-14T08:35:20.051045Z"
    }
   },
   "outputs": [],
   "source": [
    "dfdf_top100=Counter(df_view_top100)"
   ]
  },
  {
   "cell_type": "code",
   "execution_count": 30,
   "id": "ae325e46",
   "metadata": {
    "ExecuteTime": {
     "end_time": "2021-07-14T08:35:21.769458Z",
     "start_time": "2021-07-14T08:35:21.762425Z"
    }
   },
   "outputs": [
    {
     "data": {
      "text/plain": [
       "Counter({'United States': 1570,\n",
       "         'Poland': 27,\n",
       "         'Mexico': 21,\n",
       "         'United Kingdom': 177,\n",
       "         'Colombia': 16,\n",
       "         'Canada': 52,\n",
       "         'Germany': 31,\n",
       "         'South Korea': 108,\n",
       "         'Spain': 43,\n",
       "         'China': 14,\n",
       "         'France': 73,\n",
       "         'Russia': 3,\n",
       "         'Italy': 26,\n",
       "         'Turkey': 39,\n",
       "         'Japan': 126,\n",
       "         'Angola': 1,\n",
       "         'Denmark': 10,\n",
       "         'Sweden': 3,\n",
       "         'Austria': 4,\n",
       "         'Belgium': 7,\n",
       "         'Ireland': 6,\n",
       "         'Brazil': 14,\n",
       "         'South Africa': 16,\n",
       "         'Norway': 6,\n",
       "         'India': 82,\n",
       "         'Egypt': 14,\n",
       "         'Hong-Kong': 17,\n",
       "         'Argentina': 10,\n",
       "         'Philippines': 39,\n",
       "         'Nigeria': 33,\n",
       "         'Australia': 27,\n",
       "         'Taiwan': 10,\n",
       "         'Lebanon': 4,\n",
       "         'Slovakia': 2,\n",
       "         'Kuwait': 2,\n",
       "         'Israel': 4,\n",
       "         'Thailand': 26,\n",
       "         'Romania': 5,\n",
       "         'Netherlands': 6,\n",
       "         'Iceland': 2,\n",
       "         'Czech Republic': 20,\n",
       "         'Switzerland': 4,\n",
       "         'Chile': 5,\n",
       "         'Dominican Republic': 1,\n",
       "         'Finland': 3,\n",
       "         'Vietnam': 1,\n",
       "         'Uruguay': 3,\n",
       "         'Bulgaria': 1,\n",
       "         'Indonesia': 11,\n",
       "         'Peru': 1,\n",
       "         'Malaysia': 5,\n",
       "         'Singapore': 3,\n",
       "         'Bangladesh': 1,\n",
       "         'United Arab Emirates': 2,\n",
       "         'Kenya': 1,\n",
       "         'Georgia': 1,\n",
       "         'Cyprus': 1,\n",
       "         'Portugal': 1,\n",
       "         'Croatia': 1,\n",
       "         'Hungary': 4,\n",
       "         'Serbia': 1,\n",
       "         'New Zealand': 2,\n",
       "         'Luxembourg': 1,\n",
       "         'Saudi Arabia': 3,\n",
       "         'Zimbabwe': 1})"
      ]
     },
     "execution_count": 30,
     "metadata": {},
     "output_type": "execute_result"
    }
   ],
   "source": [
    "# 전체 데이터셋에서 생산국가별 영화 갯수\n",
    "country_counter = Counter(df_country.originCountry)\n",
    "country_counter"
   ]
  },
  {
   "cell_type": "code",
   "execution_count": 31,
   "id": "0844d99a",
   "metadata": {
    "ExecuteTime": {
     "end_time": "2021-07-14T08:35:22.912742Z",
     "start_time": "2021-07-14T08:35:22.909436Z"
    }
   },
   "outputs": [],
   "source": [
    "df_view_country=pd.DataFrame.from_dict(country_counter, orient='index', columns=['counts'])\n",
    "df_view_country=df_view_country.reset_index()\n",
    "df_view_country"
   ]
  },
  {
   "cell_type": "code",
   "execution_count": 34,
   "id": "1e4829a1",
   "metadata": {
    "ExecuteTime": {
     "end_time": "2021-07-14T08:35:28.539409Z",
     "start_time": "2021-07-14T08:35:28.535928Z"
    }
   },
   "outputs": [],
   "source": [
    "df_view_country=df_view_country.rename(columns={'index':'Country'})\n",
    "df_view_country.head(1)"
   ]
  },
  {
   "cell_type": "code",
   "execution_count": 36,
   "id": "af34f7b2",
   "metadata": {
    "ExecuteTime": {
     "end_time": "2021-07-14T08:35:37.375999Z",
     "start_time": "2021-07-14T08:35:37.373027Z"
    }
   },
   "outputs": [],
   "source": [
    "df_view_top20 = df_view_country[:][:20]\n",
    "df_view_top20"
   ]
  },
  {
   "cell_type": "markdown",
   "id": "75e0d93c",
   "metadata": {},
   "source": [
    "## Which country produces the most Contents?"
   ]
  },
  {
   "cell_type": "code",
   "execution_count": 39,
   "id": "3d586baf",
   "metadata": {
    "ExecuteTime": {
     "end_time": "2021-07-14T08:35:50.733124Z",
     "start_time": "2021-07-14T08:35:50.722242Z"
    }
   },
   "outputs": [
    {
     "data": {
      "text/html": [
       "<div>\n",
       "<style scoped>\n",
       "    .dataframe tbody tr th:only-of-type {\n",
       "        vertical-align: middle;\n",
       "    }\n",
       "\n",
       "    .dataframe tbody tr th {\n",
       "        vertical-align: top;\n",
       "    }\n",
       "\n",
       "    .dataframe thead th {\n",
       "        text-align: right;\n",
       "    }\n",
       "</style>\n",
       "<table border=\"1\" class=\"dataframe\">\n",
       "  <thead>\n",
       "    <tr style=\"text-align: right;\">\n",
       "      <th></th>\n",
       "      <th>counts</th>\n",
       "    </tr>\n",
       "  </thead>\n",
       "  <tbody>\n",
       "    <tr>\n",
       "      <th>United States</th>\n",
       "      <td>1570</td>\n",
       "    </tr>\n",
       "    <tr>\n",
       "      <th>United Kingdom</th>\n",
       "      <td>177</td>\n",
       "    </tr>\n",
       "    <tr>\n",
       "      <th>Japan</th>\n",
       "      <td>126</td>\n",
       "    </tr>\n",
       "    <tr>\n",
       "      <th>South Korea</th>\n",
       "      <td>108</td>\n",
       "    </tr>\n",
       "    <tr>\n",
       "      <th>India</th>\n",
       "      <td>82</td>\n",
       "    </tr>\n",
       "    <tr>\n",
       "      <th>...</th>\n",
       "      <td>...</td>\n",
       "    </tr>\n",
       "    <tr>\n",
       "      <th>Angola</th>\n",
       "      <td>1</td>\n",
       "    </tr>\n",
       "    <tr>\n",
       "      <th>Peru</th>\n",
       "      <td>1</td>\n",
       "    </tr>\n",
       "    <tr>\n",
       "      <th>Dominican Republic</th>\n",
       "      <td>1</td>\n",
       "    </tr>\n",
       "    <tr>\n",
       "      <th>Bulgaria</th>\n",
       "      <td>1</td>\n",
       "    </tr>\n",
       "    <tr>\n",
       "      <th>Zimbabwe</th>\n",
       "      <td>1</td>\n",
       "    </tr>\n",
       "  </tbody>\n",
       "</table>\n",
       "<p>65 rows × 1 columns</p>\n",
       "</div>"
      ],
      "text/plain": [
       "                    counts\n",
       "United States         1570\n",
       "United Kingdom         177\n",
       "Japan                  126\n",
       "South Korea            108\n",
       "India                   82\n",
       "...                    ...\n",
       "Angola                   1\n",
       "Peru                     1\n",
       "Dominican Republic       1\n",
       "Bulgaria                 1\n",
       "Zimbabwe                 1\n",
       "\n",
       "[65 rows x 1 columns]"
      ]
     },
     "execution_count": 39,
     "metadata": {},
     "output_type": "execute_result"
    }
   ],
   "source": [
    "# 전체 데이터셋 count를 내림 차순 정렬 \n",
    "df_count_country=pd.DataFrame.from_dict(country_counter, orient='index', columns=['counts'])\n",
    "df_count_country.sort_values('counts', ascending=False, inplace=True)\n",
    "df_count_country=df_count_country.reset_index()\n",
    "df_count_country['Country']=df_count_country['index']\n",
    "df_count_country=df_count_country[['Country','counts']]"
   ]
  },
  {
   "cell_type": "code",
   "execution_count": 81,
   "id": "5cc826fd",
   "metadata": {
    "ExecuteTime": {
     "end_time": "2021-07-14T09:36:10.803919Z",
     "start_time": "2021-07-14T09:36:10.799708Z"
    }
   },
   "outputs": [
    {
     "name": "stdout",
     "output_type": "stream",
     "text": [
      "total : 2754\n",
      "top 20 countries : 2309\n",
      "percentage : 2309/2754 = 83.84168482207699\n"
     ]
    }
   ],
   "source": [
    "tot = sum(df_count_country.counts)\n",
    "top20 = sum(df_count_country.counts[:10])\n",
    "\n",
    "print(f'total : {tot}')\n",
    "print(f'top 20 countries : {top20}')\n",
    "print(f'percentage : {top20}/{tot} = {100 * top20/tot}')"
   ]
  },
  {
   "cell_type": "code",
   "execution_count": 40,
   "id": "0cf4ab89",
   "metadata": {
    "ExecuteTime": {
     "end_time": "2021-07-14T08:36:15.619572Z",
     "start_time": "2021-07-14T08:36:15.607070Z"
    }
   },
   "outputs": [
    {
     "data": {
      "text/html": [
       "<div>\n",
       "<style scoped>\n",
       "    .dataframe tbody tr th:only-of-type {\n",
       "        vertical-align: middle;\n",
       "    }\n",
       "\n",
       "    .dataframe tbody tr th {\n",
       "        vertical-align: top;\n",
       "    }\n",
       "\n",
       "    .dataframe thead th {\n",
       "        text-align: right;\n",
       "    }\n",
       "</style>\n",
       "<table border=\"1\" class=\"dataframe\">\n",
       "  <thead>\n",
       "    <tr style=\"text-align: right;\">\n",
       "      <th></th>\n",
       "      <th>Country</th>\n",
       "      <th>counts</th>\n",
       "    </tr>\n",
       "  </thead>\n",
       "  <tbody>\n",
       "    <tr>\n",
       "      <th>0</th>\n",
       "      <td>United States</td>\n",
       "      <td>1570</td>\n",
       "    </tr>\n",
       "    <tr>\n",
       "      <th>1</th>\n",
       "      <td>United Kingdom</td>\n",
       "      <td>177</td>\n",
       "    </tr>\n",
       "    <tr>\n",
       "      <th>2</th>\n",
       "      <td>Japan</td>\n",
       "      <td>126</td>\n",
       "    </tr>\n",
       "    <tr>\n",
       "      <th>3</th>\n",
       "      <td>South Korea</td>\n",
       "      <td>108</td>\n",
       "    </tr>\n",
       "    <tr>\n",
       "      <th>4</th>\n",
       "      <td>India</td>\n",
       "      <td>82</td>\n",
       "    </tr>\n",
       "    <tr>\n",
       "      <th>...</th>\n",
       "      <td>...</td>\n",
       "      <td>...</td>\n",
       "    </tr>\n",
       "    <tr>\n",
       "      <th>60</th>\n",
       "      <td>Angola</td>\n",
       "      <td>1</td>\n",
       "    </tr>\n",
       "    <tr>\n",
       "      <th>61</th>\n",
       "      <td>Peru</td>\n",
       "      <td>1</td>\n",
       "    </tr>\n",
       "    <tr>\n",
       "      <th>62</th>\n",
       "      <td>Dominican Republic</td>\n",
       "      <td>1</td>\n",
       "    </tr>\n",
       "    <tr>\n",
       "      <th>63</th>\n",
       "      <td>Bulgaria</td>\n",
       "      <td>1</td>\n",
       "    </tr>\n",
       "    <tr>\n",
       "      <th>64</th>\n",
       "      <td>Zimbabwe</td>\n",
       "      <td>1</td>\n",
       "    </tr>\n",
       "  </tbody>\n",
       "</table>\n",
       "<p>65 rows × 2 columns</p>\n",
       "</div>"
      ],
      "text/plain": [
       "               Country  counts\n",
       "0        United States    1570\n",
       "1       United Kingdom     177\n",
       "2                Japan     126\n",
       "3          South Korea     108\n",
       "4                India      82\n",
       "..                 ...     ...\n",
       "60              Angola       1\n",
       "61                Peru       1\n",
       "62  Dominican Republic       1\n",
       "63            Bulgaria       1\n",
       "64            Zimbabwe       1\n",
       "\n",
       "[65 rows x 2 columns]"
      ]
     },
     "execution_count": 40,
     "metadata": {},
     "output_type": "execute_result"
    }
   ],
   "source": [
    "df_count_country"
   ]
  },
  {
   "cell_type": "code",
   "execution_count": 54,
   "id": "68f7cae7",
   "metadata": {
    "ExecuteTime": {
     "end_time": "2021-07-14T08:41:23.973906Z",
     "start_time": "2021-07-14T08:41:23.134919Z"
    }
   },
   "outputs": [
    {
     "data": {
      "image/png": "[encoded data removed]",
      "text/plain": [
       "<Figure size 1440x360 with 1 Axes>"
      ]
     },
     "metadata": {
      "needs_background": "light"
     },
     "output_type": "display_data"
    }
   ],
   "source": [
    "from matplotlib import gridspec\n",
    "import matplotlib\n",
    "import matplotlib.pyplot as plt\n",
    "\n",
    "\n",
    "\n",
    "fig = plt.figure(figsize=(20,5))\n",
    "gs = gridspec.GridSpec(nrows=1, ncols=1)\n",
    "                       #height_ratios=[1, 0.7]) \n",
    "                       #width_ratios=[17, 17])\n",
    "\n",
    "ax = plt.subplot(gs[0])\n",
    "sns.barplot(df_count_country['Country'], df_count_country['counts'], ax=ax, palette=\"RdGy\")\n",
    "ax.set_xticklabels(df_count_country['Country'], rotation='90')\n",
    "ax.set_title('origin of country',fontsize=30, fontweight='bold', pad=20)\n",
    "matplotlib.rc('xtick', labelsize=15) \n",
    "matplotlib.rc('ytick', labelsize=15)\n",
    "plt.show()"
   ]
  },
  {
   "cell_type": "code",
   "execution_count": 44,
   "id": "da2ea361",
   "metadata": {
    "ExecuteTime": {
     "end_time": "2021-07-14T08:37:02.135403Z",
     "start_time": "2021-07-14T08:37:01.636071Z"
    }
   },
   "outputs": [
    {
     "data": {
      "image/png": "[encoded data removed]",
      "text/plain": [
       "<Figure size 2160x1080 with 1 Axes>"
      ]
     },
     "metadata": {
      "needs_background": "light"
     },
     "output_type": "display_data"
    }
   ],
   "source": [
    "import squarify\n",
    "\n",
    "fig = plt.figure(figsize=(30,15))\n",
    "squarify.plot(sizes = df_count_country['counts'], label = df_count_country['Country'], color=sns.color_palette(\"RdGy\", n_colors=10),\n",
    "             linewidth=4, text_kwargs={'fontsize':15, 'fontweight' : 'bold'})\n",
    "plt.title('origin of country', position=(0.5, 1.0+0.03), fontsize = 20, fontweight='bold', pad=20)\n",
    "plt.axis('off')\n",
    "plt.show()"
   ]
  },
  {
   "cell_type": "code",
   "execution_count": 57,
   "id": "b8c2ce89",
   "metadata": {
    "ExecuteTime": {
     "end_time": "2021-07-14T08:41:56.603766Z",
     "start_time": "2021-07-14T08:41:56.274839Z"
    }
   },
   "outputs": [
    {
     "data": {
      "image/png": "[encoded data removed]",
      "text/plain": [
       "<Figure size 1440x1080 with 1 Axes>"
      ]
     },
     "metadata": {
      "needs_background": "light"
     },
     "output_type": "display_data"
    }
   ],
   "source": [
    "from matplotlib import gridspec\n",
    "import matplotlib\n",
    "import matplotlib.pyplot as plt\n",
    "\n",
    "\n",
    "\n",
    "# 전체 데이터 셋에서 viewpoint 기준 originCountry top100 태그들의 분포\n",
    "\n",
    "fig = plt.figure(figsize=(20,15))\n",
    "gs = gridspec.GridSpec(nrows=1, ncols=1)\n",
    "                       #height_ratios=[1, 0.7]) \n",
    "                       #width_ratios=[17, 17])\n",
    "\n",
    "ax = plt.subplot(gs[0])\n",
    "sns.barplot(df_view_top20['Country'], df_view_top20['counts'], ax=ax, palette=\"RdGy\")\n",
    "ax.set_xticklabels(df_view_top20['Country'], rotation='90')\n",
    "ax.set_title('viewpoint of contents by origin of country',fontsize=15, fontweight='bold', pad=20)\n",
    "matplotlib.rc('xtick', labelsize=15) \n",
    "matplotlib.rc('ytick', labelsize=15)\n",
    "plt.show()"
   ]
  },
  {
   "cell_type": "code",
   "execution_count": 47,
   "id": "ccf1889c",
   "metadata": {
    "ExecuteTime": {
     "end_time": "2021-07-14T08:39:24.121007Z",
     "start_time": "2021-07-14T08:39:23.905562Z"
    }
   },
   "outputs": [
    {
     "data": {
      "image/png": "[encoded data removed]",
      "text/plain": [
       "<Figure size 2160x720 with 1 Axes>"
      ]
     },
     "metadata": {
      "needs_background": "light"
     },
     "output_type": "display_data"
    }
   ],
   "source": [
    "import squarify\n",
    "\n",
    "fig = plt.figure(figsize=(30,10))\n",
    "squarify.plot(sizes = df_view_top20['counts'], label = df_view_top20['Country'], color=sns.color_palette(\"RdGy\", n_colors=10),\n",
    "             linewidth=4, text_kwargs={'fontsize':15, 'fontweight' : 'bold'})\n",
    "plt.title('Top 20 origin of country', position=(0.5, 1.0+0.03), fontsize = 25, fontweight='bold', pad=20)\n",
    "plt.axis('off')\n",
    "plt.show()"
   ]
  }
 ],
 "metadata": {
  "hide_input": false,
  "kernelspec": {
   "display_name": "Python TSA",
   "language": "python",
   "name": "tsa"
  },
  "language_info": {
   "codemirror_mode": {
    "name": "ipython",
    "version": 3
   },
   "file_extension": ".py",
   "mimetype": "text/x-python",
   "name": "python",
   "nbconvert_exporter": "python",
   "pygments_lexer": "ipython3",
   "version": "3.9.5"
  },
  "latex_envs": {
   "LaTeX_envs_menu_present": true,
   "autoclose": false,
   "autocomplete": true,
   "bibliofile": "biblio.bib",
   "cite_by": "apalike",
   "current_citInitial": 1,
   "eqLabelWithNumbers": true,
   "eqNumInitial": 1,
   "hotkeys": {
    "equation": "Ctrl-E",
    "itemize": "Ctrl-I"
   },
   "labels_anchors": false,
   "latex_user_defs": false,
   "report_style_numbering": false,
   "user_envs_cfg": false
  },
  "toc": {
   "base_numbering": 1,
   "nav_menu": {},
   "number_sections": true,
   "sideBar": true,
   "skip_h1_title": false,
   "title_cell": "Table of Contents",
   "title_sidebar": "Contents",
   "toc_cell": false,
   "toc_position": {},
   "toc_section_display": true,
   "toc_window_display": false
  },
  "varInspector": {
   "cols": {
    "lenName": 16,
    "lenType": 16,
    "lenVar": 40
   },
   "kernels_config": {
    "python": {
     "delete_cmd_postfix": "",
     "delete_cmd_prefix": "del ",
     "library": "var_list.py",
     "varRefreshCmd": "print(var_dic_list())"
    },
    "r": {
     "delete_cmd_postfix": ") ",
     "delete_cmd_prefix": "rm(",
     "library": "var_list.r",
     "varRefreshCmd": "cat(var_dic_list()) "
    }
   },
   "types_to_exclude": [
    "module",
    "function",
    "builtin_function_or_method",
    "instance",
    "_Feature"
   ],
   "window_display": false
  }
 },
 "nbformat": 4,
 "nbformat_minor": 5
}
