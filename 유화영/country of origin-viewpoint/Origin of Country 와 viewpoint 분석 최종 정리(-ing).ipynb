{
 "cells": [
  {
   "cell_type": "markdown",
   "id": "3740b865",
   "metadata": {},
   "source": [
    "# 질문할 것 있음 \n",
    "### flixparol 크롤링해온 데이터셋 그냥 활용하면 3600개 다 활용 가능한데 그냥 이거 쓰면 안될지? 컨트리도 거의 살아있고 viewpoint도 같이 나오는데 originCountry랑 상관관계 볼때는 데이터셋 늘려도 되지 않을까 ?\n",
    "\n",
    "### 보니까 제작 스튜디오도 604개 빼고 다 살아있고, value도 null값 없고, release date 5개 없고, 장르는 70개 없고, country는 298개 누락됨 "
   ]
  },
  {
   "cell_type": "code",
   "execution_count": 1,
   "id": "956f821a",
   "metadata": {
    "ExecuteTime": {
     "end_time": "2021-07-14T17:46:45.908408Z",
     "start_time": "2021-07-14T17:46:43.262115Z"
    }
   },
   "outputs": [],
   "source": [
    "import pandas as pd\n",
    "import numpy as np\n",
    "import pandas_profiling\n",
    "\n",
    "# 데이터 시각화\n",
    "import matplotlib.pyplot as plt\n",
    "import plotly.graph_objects as go\n",
    "import seaborn as sns\n",
    "from wordcloud import WordCloud, STOPWORDS, ImageColorGenerator\n",
    "\n",
    "# 가설검정\n",
    "from scipy import stats\n",
    "\n",
    "# 경고문구 무시\n",
    "import warnings\n",
    "warnings.filterwarnings(\"ignore\")\n",
    "# 자연어 처리\n",
    "# import spacy\n",
    "\n",
    "# 정규화\n",
    "from sklearn.preprocessing import MinMaxScaler\n",
    "\n",
    "#표준화\n",
    "from sklearn import preprocessing\n",
    "from sklearn.preprocessing import StandardScaler\n",
    "\n",
    "# counter\n",
    "from collections import Counter"
   ]
  },
  {
   "cell_type": "markdown",
   "id": "a9674b48",
   "metadata": {},
   "source": [
    "# 데이터 정보 확인"
   ]
  },
  {
   "cell_type": "code",
   "execution_count": 2,
   "id": "00c668c2",
   "metadata": {
    "ExecuteTime": {
     "end_time": "2021-07-14T17:46:45.934741Z",
     "start_time": "2021-07-14T17:46:45.909996Z"
    }
   },
   "outputs": [
    {
     "data": {
      "text/html": [
       "<div>\n",
       "<style scoped>\n",
       "    .dataframe tbody tr th:only-of-type {\n",
       "        vertical-align: middle;\n",
       "    }\n",
       "\n",
       "    .dataframe tbody tr th {\n",
       "        vertical-align: top;\n",
       "    }\n",
       "\n",
       "    .dataframe thead th {\n",
       "        text-align: right;\n",
       "    }\n",
       "</style>\n",
       "<table border=\"1\" class=\"dataframe\">\n",
       "  <thead>\n",
       "    <tr style=\"text-align: right;\">\n",
       "      <th></th>\n",
       "      <th>Num</th>\n",
       "      <th>Title</th>\n",
       "      <th>Value</th>\n",
       "      <th>Series or Movie</th>\n",
       "      <th>originCountry</th>\n",
       "      <th>Genre</th>\n",
       "      <th>country_all</th>\n",
       "      <th>countryCount</th>\n",
       "    </tr>\n",
       "  </thead>\n",
       "  <tbody>\n",
       "    <tr>\n",
       "      <th>0</th>\n",
       "      <td>0</td>\n",
       "      <td>thequeensgambit</td>\n",
       "      <td>44867</td>\n",
       "      <td>TV</td>\n",
       "      <td>United States</td>\n",
       "      <td>Drama</td>\n",
       "      <td>['Argentina', 'Australia', 'Belgium', 'Brazil'...</td>\n",
       "      <td>36</td>\n",
       "    </tr>\n",
       "  </tbody>\n",
       "</table>\n",
       "</div>"
      ],
      "text/plain": [
       "   Num            Title  Value Series or Movie  originCountry  Genre  \\\n",
       "0    0  thequeensgambit  44867              TV  United States  Drama   \n",
       "\n",
       "                                         country_all  countryCount  \n",
       "0  ['Argentina', 'Australia', 'Belgium', 'Brazil'...            36  "
      ]
     },
     "execution_count": 2,
     "metadata": {},
     "output_type": "execute_result"
    }
   ],
   "source": [
    "df=pd.read_csv('3.1_original_useDf_0714.csv')\n",
    "df.head(1)"
   ]
  },
  {
   "cell_type": "code",
   "execution_count": 3,
   "id": "05cab451",
   "metadata": {
    "ExecuteTime": {
     "end_time": "2021-07-14T17:46:45.943046Z",
     "start_time": "2021-07-14T17:46:45.937083Z"
    }
   },
   "outputs": [
    {
     "data": {
      "text/plain": [
       "Num                  0\n",
       "Title                0\n",
       "Value                0\n",
       "Series or Movie      0\n",
       "originCountry      206\n",
       "Genre              370\n",
       "country_all          0\n",
       "countryCount         0\n",
       "dtype: int64"
      ]
     },
     "execution_count": 3,
     "metadata": {},
     "output_type": "execute_result"
    }
   ],
   "source": [
    "# 결측치 확인\n",
    "df.isnull().sum()"
   ]
  },
  {
   "cell_type": "code",
   "execution_count": 4,
   "id": "224f527e",
   "metadata": {
    "ExecuteTime": {
     "end_time": "2021-07-14T17:46:45.962952Z",
     "start_time": "2021-07-14T17:46:45.945702Z"
    }
   },
   "outputs": [
    {
     "data": {
      "text/html": [
       "<div>\n",
       "<style scoped>\n",
       "    .dataframe tbody tr th:only-of-type {\n",
       "        vertical-align: middle;\n",
       "    }\n",
       "\n",
       "    .dataframe tbody tr th {\n",
       "        vertical-align: top;\n",
       "    }\n",
       "\n",
       "    .dataframe thead th {\n",
       "        text-align: right;\n",
       "    }\n",
       "</style>\n",
       "<table border=\"1\" class=\"dataframe\">\n",
       "  <thead>\n",
       "    <tr style=\"text-align: right;\">\n",
       "      <th></th>\n",
       "      <th>Num</th>\n",
       "      <th>Value</th>\n",
       "      <th>countryCount</th>\n",
       "    </tr>\n",
       "  </thead>\n",
       "  <tbody>\n",
       "    <tr>\n",
       "      <th>count</th>\n",
       "      <td>2960.0</td>\n",
       "      <td>2960.0</td>\n",
       "      <td>2960.0</td>\n",
       "    </tr>\n",
       "    <tr>\n",
       "      <th>mean</th>\n",
       "      <td>1480.0</td>\n",
       "      <td>634.0</td>\n",
       "      <td>16.0</td>\n",
       "    </tr>\n",
       "    <tr>\n",
       "      <th>std</th>\n",
       "      <td>855.0</td>\n",
       "      <td>2202.0</td>\n",
       "      <td>14.0</td>\n",
       "    </tr>\n",
       "    <tr>\n",
       "      <th>min</th>\n",
       "      <td>0.0</td>\n",
       "      <td>1.0</td>\n",
       "      <td>1.0</td>\n",
       "    </tr>\n",
       "    <tr>\n",
       "      <th>25%</th>\n",
       "      <td>740.0</td>\n",
       "      <td>22.0</td>\n",
       "      <td>3.0</td>\n",
       "    </tr>\n",
       "    <tr>\n",
       "      <th>50%</th>\n",
       "      <td>1480.0</td>\n",
       "      <td>80.0</td>\n",
       "      <td>10.0</td>\n",
       "    </tr>\n",
       "    <tr>\n",
       "      <th>75%</th>\n",
       "      <td>2219.0</td>\n",
       "      <td>321.0</td>\n",
       "      <td>35.0</td>\n",
       "    </tr>\n",
       "    <tr>\n",
       "      <th>max</th>\n",
       "      <td>2959.0</td>\n",
       "      <td>44867.0</td>\n",
       "      <td>37.0</td>\n",
       "    </tr>\n",
       "  </tbody>\n",
       "</table>\n",
       "</div>"
      ],
      "text/plain": [
       "          Num    Value  countryCount\n",
       "count  2960.0   2960.0        2960.0\n",
       "mean   1480.0    634.0          16.0\n",
       "std     855.0   2202.0          14.0\n",
       "min       0.0      1.0           1.0\n",
       "25%     740.0     22.0           3.0\n",
       "50%    1480.0     80.0          10.0\n",
       "75%    2219.0    321.0          35.0\n",
       "max    2959.0  44867.0          37.0"
      ]
     },
     "execution_count": 4,
     "metadata": {},
     "output_type": "execute_result"
    }
   ],
   "source": [
    "df.describe().round()"
   ]
  },
  {
   "cell_type": "markdown",
   "id": "a3b2c994",
   "metadata": {},
   "source": [
    "# viewpoint 정규화 "
   ]
  },
  {
   "cell_type": "markdown",
   "id": "757c1059",
   "metadata": {},
   "source": [
    "## min-max 정규화 "
   ]
  },
  {
   "cell_type": "code",
   "execution_count": 5,
   "id": "05d2c30a",
   "metadata": {
    "ExecuteTime": {
     "end_time": "2021-07-14T17:46:45.979697Z",
     "start_time": "2021-07-14T17:46:45.964449Z"
    }
   },
   "outputs": [
    {
     "data": {
      "text/html": [
       "<div>\n",
       "<style scoped>\n",
       "    .dataframe tbody tr th:only-of-type {\n",
       "        vertical-align: middle;\n",
       "    }\n",
       "\n",
       "    .dataframe tbody tr th {\n",
       "        vertical-align: top;\n",
       "    }\n",
       "\n",
       "    .dataframe thead th {\n",
       "        text-align: right;\n",
       "    }\n",
       "</style>\n",
       "<table border=\"1\" class=\"dataframe\">\n",
       "  <thead>\n",
       "    <tr style=\"text-align: right;\">\n",
       "      <th></th>\n",
       "      <th>Num</th>\n",
       "      <th>Title</th>\n",
       "      <th>Value</th>\n",
       "      <th>Series or Movie</th>\n",
       "      <th>originCountry</th>\n",
       "      <th>Genre</th>\n",
       "      <th>country_all</th>\n",
       "      <th>countryCount</th>\n",
       "      <th>Value_std</th>\n",
       "      <th>countryCount_std</th>\n",
       "    </tr>\n",
       "  </thead>\n",
       "  <tbody>\n",
       "    <tr>\n",
       "      <th>0</th>\n",
       "      <td>0</td>\n",
       "      <td>thequeensgambit</td>\n",
       "      <td>44867</td>\n",
       "      <td>TV</td>\n",
       "      <td>United States</td>\n",
       "      <td>Drama</td>\n",
       "      <td>['Argentina', 'Australia', 'Belgium', 'Brazil'...</td>\n",
       "      <td>36</td>\n",
       "      <td>1.0</td>\n",
       "      <td>0.972222</td>\n",
       "    </tr>\n",
       "  </tbody>\n",
       "</table>\n",
       "</div>"
      ],
      "text/plain": [
       "   Num            Title  Value Series or Movie  originCountry  Genre  \\\n",
       "0    0  thequeensgambit  44867              TV  United States  Drama   \n",
       "\n",
       "                                         country_all  countryCount  Value_std  \\\n",
       "0  ['Argentina', 'Australia', 'Belgium', 'Brazil'...            36        1.0   \n",
       "\n",
       "   countryCount_std  \n",
       "0          0.972222  "
      ]
     },
     "execution_count": 5,
     "metadata": {},
     "output_type": "execute_result"
    }
   ],
   "source": [
    "min_max_scaler = MinMaxScaler()\n",
    "value = df[['Value','countryCount']].values\n",
    "\n",
    "#df['Value_std'] = min_max_scaler.fit_transform(value.reshape(-1,1))\n",
    "df[['Value_std','countryCount_std']] = min_max_scaler.fit_transform(value)\n",
    "\n",
    "df.head(1)"
   ]
  },
  {
   "cell_type": "code",
   "execution_count": 6,
   "id": "7a35cb48",
   "metadata": {
    "ExecuteTime": {
     "end_time": "2021-07-14T17:46:46.008475Z",
     "start_time": "2021-07-14T17:46:45.981593Z"
    }
   },
   "outputs": [
    {
     "data": {
      "text/html": [
       "<div>\n",
       "<style scoped>\n",
       "    .dataframe tbody tr th:only-of-type {\n",
       "        vertical-align: middle;\n",
       "    }\n",
       "\n",
       "    .dataframe tbody tr th {\n",
       "        vertical-align: top;\n",
       "    }\n",
       "\n",
       "    .dataframe thead th {\n",
       "        text-align: right;\n",
       "    }\n",
       "</style>\n",
       "<table border=\"1\" class=\"dataframe\">\n",
       "  <thead>\n",
       "    <tr style=\"text-align: right;\">\n",
       "      <th></th>\n",
       "      <th>Num</th>\n",
       "      <th>Value</th>\n",
       "      <th>countryCount</th>\n",
       "      <th>Value_std</th>\n",
       "      <th>countryCount_std</th>\n",
       "    </tr>\n",
       "  </thead>\n",
       "  <tbody>\n",
       "    <tr>\n",
       "      <th>count</th>\n",
       "      <td>2960.000000</td>\n",
       "      <td>2960.000000</td>\n",
       "      <td>2960.000000</td>\n",
       "      <td>2960.000000</td>\n",
       "      <td>2960.000000</td>\n",
       "    </tr>\n",
       "    <tr>\n",
       "      <th>mean</th>\n",
       "      <td>1479.500000</td>\n",
       "      <td>633.733446</td>\n",
       "      <td>16.180405</td>\n",
       "      <td>0.014103</td>\n",
       "      <td>0.421678</td>\n",
       "    </tr>\n",
       "    <tr>\n",
       "      <th>std</th>\n",
       "      <td>854.622724</td>\n",
       "      <td>2202.145547</td>\n",
       "      <td>14.071531</td>\n",
       "      <td>0.049083</td>\n",
       "      <td>0.390876</td>\n",
       "    </tr>\n",
       "    <tr>\n",
       "      <th>min</th>\n",
       "      <td>0.000000</td>\n",
       "      <td>1.000000</td>\n",
       "      <td>1.000000</td>\n",
       "      <td>0.000000</td>\n",
       "      <td>0.000000</td>\n",
       "    </tr>\n",
       "    <tr>\n",
       "      <th>25%</th>\n",
       "      <td>739.750000</td>\n",
       "      <td>22.000000</td>\n",
       "      <td>3.000000</td>\n",
       "      <td>0.000468</td>\n",
       "      <td>0.055556</td>\n",
       "    </tr>\n",
       "    <tr>\n",
       "      <th>50%</th>\n",
       "      <td>1479.500000</td>\n",
       "      <td>80.000000</td>\n",
       "      <td>10.000000</td>\n",
       "      <td>0.001761</td>\n",
       "      <td>0.250000</td>\n",
       "    </tr>\n",
       "    <tr>\n",
       "      <th>75%</th>\n",
       "      <td>2219.250000</td>\n",
       "      <td>321.000000</td>\n",
       "      <td>35.000000</td>\n",
       "      <td>0.007132</td>\n",
       "      <td>0.944444</td>\n",
       "    </tr>\n",
       "    <tr>\n",
       "      <th>max</th>\n",
       "      <td>2959.000000</td>\n",
       "      <td>44867.000000</td>\n",
       "      <td>37.000000</td>\n",
       "      <td>1.000000</td>\n",
       "      <td>1.000000</td>\n",
       "    </tr>\n",
       "  </tbody>\n",
       "</table>\n",
       "</div>"
      ],
      "text/plain": [
       "               Num         Value  countryCount    Value_std  countryCount_std\n",
       "count  2960.000000   2960.000000   2960.000000  2960.000000       2960.000000\n",
       "mean   1479.500000    633.733446     16.180405     0.014103          0.421678\n",
       "std     854.622724   2202.145547     14.071531     0.049083          0.390876\n",
       "min       0.000000      1.000000      1.000000     0.000000          0.000000\n",
       "25%     739.750000     22.000000      3.000000     0.000468          0.055556\n",
       "50%    1479.500000     80.000000     10.000000     0.001761          0.250000\n",
       "75%    2219.250000    321.000000     35.000000     0.007132          0.944444\n",
       "max    2959.000000  44867.000000     37.000000     1.000000          1.000000"
      ]
     },
     "execution_count": 6,
     "metadata": {},
     "output_type": "execute_result"
    }
   ],
   "source": [
    "df.describe()"
   ]
  },
  {
   "cell_type": "markdown",
   "id": "362aa8c4",
   "metadata": {},
   "source": [
    "## 표준화 실시"
   ]
  },
  {
   "cell_type": "code",
   "execution_count": 7,
   "id": "e412a997",
   "metadata": {
    "ExecuteTime": {
     "end_time": "2021-07-14T17:46:46.027021Z",
     "start_time": "2021-07-14T17:46:46.010869Z"
    }
   },
   "outputs": [
    {
     "data": {
      "text/html": [
       "<div>\n",
       "<style scoped>\n",
       "    .dataframe tbody tr th:only-of-type {\n",
       "        vertical-align: middle;\n",
       "    }\n",
       "\n",
       "    .dataframe tbody tr th {\n",
       "        vertical-align: top;\n",
       "    }\n",
       "\n",
       "    .dataframe thead th {\n",
       "        text-align: right;\n",
       "    }\n",
       "</style>\n",
       "<table border=\"1\" class=\"dataframe\">\n",
       "  <thead>\n",
       "    <tr style=\"text-align: right;\">\n",
       "      <th></th>\n",
       "      <th>Num</th>\n",
       "      <th>Title</th>\n",
       "      <th>Value</th>\n",
       "      <th>Series or Movie</th>\n",
       "      <th>originCountry</th>\n",
       "      <th>Genre</th>\n",
       "      <th>country_all</th>\n",
       "      <th>countryCount</th>\n",
       "      <th>Value_std</th>\n",
       "      <th>countryCount_std</th>\n",
       "      <th>Value_norm</th>\n",
       "      <th>countryCount_norm</th>\n",
       "    </tr>\n",
       "  </thead>\n",
       "  <tbody>\n",
       "    <tr>\n",
       "      <th>0</th>\n",
       "      <td>0</td>\n",
       "      <td>thequeensgambit</td>\n",
       "      <td>44867</td>\n",
       "      <td>TV</td>\n",
       "      <td>United States</td>\n",
       "      <td>Drama</td>\n",
       "      <td>['Argentina', 'Australia', 'Belgium', 'Brazil'...</td>\n",
       "      <td>36</td>\n",
       "      <td>1.0</td>\n",
       "      <td>0.972222</td>\n",
       "      <td>20.089835</td>\n",
       "      <td>1.408727</td>\n",
       "    </tr>\n",
       "  </tbody>\n",
       "</table>\n",
       "</div>"
      ],
      "text/plain": [
       "   Num            Title  Value Series or Movie  originCountry  Genre  \\\n",
       "0    0  thequeensgambit  44867              TV  United States  Drama   \n",
       "\n",
       "                                         country_all  countryCount  Value_std  \\\n",
       "0  ['Argentina', 'Australia', 'Belgium', 'Brazil'...            36        1.0   \n",
       "\n",
       "   countryCount_std  Value_norm  countryCount_norm  \n",
       "0          0.972222   20.089835           1.408727  "
      ]
     },
     "execution_count": 7,
     "metadata": {},
     "output_type": "execute_result"
    }
   ],
   "source": [
    "scaler = StandardScaler()\n",
    "value2=df[['Value_std','countryCount_std']].values\n",
    "\n",
    "df[['Value_norm','countryCount_norm']] = scaler.fit_transform(value2)\n",
    "\n",
    "df.head(1)"
   ]
  },
  {
   "cell_type": "code",
   "execution_count": 8,
   "id": "90c6c8be",
   "metadata": {
    "ExecuteTime": {
     "end_time": "2021-07-14T17:46:46.055127Z",
     "start_time": "2021-07-14T17:46:46.030688Z"
    }
   },
   "outputs": [
    {
     "data": {
      "text/html": [
       "<div>\n",
       "<style scoped>\n",
       "    .dataframe tbody tr th:only-of-type {\n",
       "        vertical-align: middle;\n",
       "    }\n",
       "\n",
       "    .dataframe tbody tr th {\n",
       "        vertical-align: top;\n",
       "    }\n",
       "\n",
       "    .dataframe thead th {\n",
       "        text-align: right;\n",
       "    }\n",
       "</style>\n",
       "<table border=\"1\" class=\"dataframe\">\n",
       "  <thead>\n",
       "    <tr style=\"text-align: right;\">\n",
       "      <th></th>\n",
       "      <th>Num</th>\n",
       "      <th>Value</th>\n",
       "      <th>countryCount</th>\n",
       "      <th>Value_std</th>\n",
       "      <th>countryCount_std</th>\n",
       "      <th>Value_norm</th>\n",
       "      <th>countryCount_norm</th>\n",
       "    </tr>\n",
       "  </thead>\n",
       "  <tbody>\n",
       "    <tr>\n",
       "      <th>count</th>\n",
       "      <td>2960.000000</td>\n",
       "      <td>2960.000000</td>\n",
       "      <td>2960.000000</td>\n",
       "      <td>2960.000000</td>\n",
       "      <td>2960.000000</td>\n",
       "      <td>2.960000e+03</td>\n",
       "      <td>2.960000e+03</td>\n",
       "    </tr>\n",
       "    <tr>\n",
       "      <th>mean</th>\n",
       "      <td>1479.500000</td>\n",
       "      <td>633.733446</td>\n",
       "      <td>16.180405</td>\n",
       "      <td>0.014103</td>\n",
       "      <td>0.421678</td>\n",
       "      <td>9.493907e-16</td>\n",
       "      <td>3.143131e-16</td>\n",
       "    </tr>\n",
       "    <tr>\n",
       "      <th>std</th>\n",
       "      <td>854.622724</td>\n",
       "      <td>2202.145547</td>\n",
       "      <td>14.071531</td>\n",
       "      <td>0.049083</td>\n",
       "      <td>0.390876</td>\n",
       "      <td>1.000169e+00</td>\n",
       "      <td>1.000169e+00</td>\n",
       "    </tr>\n",
       "    <tr>\n",
       "      <th>min</th>\n",
       "      <td>0.000000</td>\n",
       "      <td>1.000000</td>\n",
       "      <td>1.000000</td>\n",
       "      <td>0.000000</td>\n",
       "      <td>0.000000</td>\n",
       "      <td>-2.873744e-01</td>\n",
       "      <td>-1.078985e+00</td>\n",
       "    </tr>\n",
       "    <tr>\n",
       "      <th>25%</th>\n",
       "      <td>739.750000</td>\n",
       "      <td>22.000000</td>\n",
       "      <td>3.000000</td>\n",
       "      <td>0.000468</td>\n",
       "      <td>0.055556</td>\n",
       "      <td>-2.778367e-01</td>\n",
       "      <td>-9.368300e-01</td>\n",
       "    </tr>\n",
       "    <tr>\n",
       "      <th>50%</th>\n",
       "      <td>1479.500000</td>\n",
       "      <td>80.000000</td>\n",
       "      <td>10.000000</td>\n",
       "      <td>0.001761</td>\n",
       "      <td>0.250000</td>\n",
       "      <td>-2.514943e-01</td>\n",
       "      <td>-4.392876e-01</td>\n",
       "    </tr>\n",
       "    <tr>\n",
       "      <th>75%</th>\n",
       "      <td>2219.250000</td>\n",
       "      <td>321.000000</td>\n",
       "      <td>35.000000</td>\n",
       "      <td>0.007132</td>\n",
       "      <td>0.944444</td>\n",
       "      <td>-1.420371e-01</td>\n",
       "      <td>1.337649e+00</td>\n",
       "    </tr>\n",
       "    <tr>\n",
       "      <th>max</th>\n",
       "      <td>2959.000000</td>\n",
       "      <td>44867.000000</td>\n",
       "      <td>37.000000</td>\n",
       "      <td>1.000000</td>\n",
       "      <td>1.000000</td>\n",
       "      <td>2.008983e+01</td>\n",
       "      <td>1.479804e+00</td>\n",
       "    </tr>\n",
       "  </tbody>\n",
       "</table>\n",
       "</div>"
      ],
      "text/plain": [
       "               Num         Value  countryCount    Value_std  countryCount_std  \\\n",
       "count  2960.000000   2960.000000   2960.000000  2960.000000       2960.000000   \n",
       "mean   1479.500000    633.733446     16.180405     0.014103          0.421678   \n",
       "std     854.622724   2202.145547     14.071531     0.049083          0.390876   \n",
       "min       0.000000      1.000000      1.000000     0.000000          0.000000   \n",
       "25%     739.750000     22.000000      3.000000     0.000468          0.055556   \n",
       "50%    1479.500000     80.000000     10.000000     0.001761          0.250000   \n",
       "75%    2219.250000    321.000000     35.000000     0.007132          0.944444   \n",
       "max    2959.000000  44867.000000     37.000000     1.000000          1.000000   \n",
       "\n",
       "         Value_norm  countryCount_norm  \n",
       "count  2.960000e+03       2.960000e+03  \n",
       "mean   9.493907e-16       3.143131e-16  \n",
       "std    1.000169e+00       1.000169e+00  \n",
       "min   -2.873744e-01      -1.078985e+00  \n",
       "25%   -2.778367e-01      -9.368300e-01  \n",
       "50%   -2.514943e-01      -4.392876e-01  \n",
       "75%   -1.420371e-01       1.337649e+00  \n",
       "max    2.008983e+01       1.479804e+00  "
      ]
     },
     "execution_count": 8,
     "metadata": {},
     "output_type": "execute_result"
    }
   ],
   "source": [
    "df.describe()"
   ]
  },
  {
   "cell_type": "markdown",
   "id": "90f42310",
   "metadata": {},
   "source": [
    "# kind of producing countries 와 viewpoint"
   ]
  },
  {
   "cell_type": "markdown",
   "id": "73b9c45c",
   "metadata": {},
   "source": [
    "## df_country"
   ]
  },
  {
   "cell_type": "code",
   "execution_count": 9,
   "id": "59aca2a5",
   "metadata": {
    "ExecuteTime": {
     "end_time": "2021-07-14T17:46:46.060842Z",
     "start_time": "2021-07-14T17:46:46.057776Z"
    }
   },
   "outputs": [],
   "source": [
    "df_country = df[['Value','originCountry']]"
   ]
  },
  {
   "cell_type": "code",
   "execution_count": 10,
   "id": "0d999cc2",
   "metadata": {
    "ExecuteTime": {
     "end_time": "2021-07-14T17:46:46.068180Z",
     "start_time": "2021-07-14T17:46:46.062547Z"
    }
   },
   "outputs": [
    {
     "data": {
      "text/html": [
       "<div>\n",
       "<style scoped>\n",
       "    .dataframe tbody tr th:only-of-type {\n",
       "        vertical-align: middle;\n",
       "    }\n",
       "\n",
       "    .dataframe tbody tr th {\n",
       "        vertical-align: top;\n",
       "    }\n",
       "\n",
       "    .dataframe thead th {\n",
       "        text-align: right;\n",
       "    }\n",
       "</style>\n",
       "<table border=\"1\" class=\"dataframe\">\n",
       "  <thead>\n",
       "    <tr style=\"text-align: right;\">\n",
       "      <th></th>\n",
       "      <th>Value</th>\n",
       "      <th>originCountry</th>\n",
       "    </tr>\n",
       "  </thead>\n",
       "  <tbody>\n",
       "    <tr>\n",
       "      <th>0</th>\n",
       "      <td>44867</td>\n",
       "      <td>United States</td>\n",
       "    </tr>\n",
       "  </tbody>\n",
       "</table>\n",
       "</div>"
      ],
      "text/plain": [
       "   Value  originCountry\n",
       "0  44867  United States"
      ]
     },
     "execution_count": 10,
     "metadata": {},
     "output_type": "execute_result"
    }
   ],
   "source": [
    "df_country.head(1)"
   ]
  },
  {
   "cell_type": "markdown",
   "id": "c7094370",
   "metadata": {},
   "source": [
    "## null값 확인 및 제거 "
   ]
  },
  {
   "cell_type": "code",
   "execution_count": 11,
   "id": "5a372ab3",
   "metadata": {
    "ExecuteTime": {
     "end_time": "2021-07-14T17:46:46.075858Z",
     "start_time": "2021-07-14T17:46:46.069815Z"
    }
   },
   "outputs": [
    {
     "data": {
      "text/plain": [
       "Value              0\n",
       "originCountry    206\n",
       "dtype: int64"
      ]
     },
     "execution_count": 11,
     "metadata": {},
     "output_type": "execute_result"
    }
   ],
   "source": [
    "df_country.isnull().sum()"
   ]
  },
  {
   "cell_type": "code",
   "execution_count": 12,
   "id": "724caf5e",
   "metadata": {
    "ExecuteTime": {
     "end_time": "2021-07-14T17:46:46.087816Z",
     "start_time": "2021-07-14T17:46:46.078487Z"
    }
   },
   "outputs": [],
   "source": [
    "df_country = df_country.dropna(subset=['originCountry'])\n",
    "df_country=df_country.reset_index()"
   ]
  },
  {
   "cell_type": "code",
   "execution_count": 13,
   "id": "299cb6c3",
   "metadata": {
    "ExecuteTime": {
     "end_time": "2021-07-14T17:46:46.098181Z",
     "start_time": "2021-07-14T17:46:46.090452Z"
    }
   },
   "outputs": [
    {
     "data": {
      "text/html": [
       "<div>\n",
       "<style scoped>\n",
       "    .dataframe tbody tr th:only-of-type {\n",
       "        vertical-align: middle;\n",
       "    }\n",
       "\n",
       "    .dataframe tbody tr th {\n",
       "        vertical-align: top;\n",
       "    }\n",
       "\n",
       "    .dataframe thead th {\n",
       "        text-align: right;\n",
       "    }\n",
       "</style>\n",
       "<table border=\"1\" class=\"dataframe\">\n",
       "  <thead>\n",
       "    <tr style=\"text-align: right;\">\n",
       "      <th></th>\n",
       "      <th>index</th>\n",
       "      <th>Value</th>\n",
       "      <th>originCountry</th>\n",
       "    </tr>\n",
       "  </thead>\n",
       "  <tbody>\n",
       "    <tr>\n",
       "      <th>2749</th>\n",
       "      <td>2955</td>\n",
       "      <td>1</td>\n",
       "      <td>United States</td>\n",
       "    </tr>\n",
       "    <tr>\n",
       "      <th>2750</th>\n",
       "      <td>2956</td>\n",
       "      <td>1</td>\n",
       "      <td>United States</td>\n",
       "    </tr>\n",
       "    <tr>\n",
       "      <th>2751</th>\n",
       "      <td>2957</td>\n",
       "      <td>1</td>\n",
       "      <td>United States</td>\n",
       "    </tr>\n",
       "    <tr>\n",
       "      <th>2752</th>\n",
       "      <td>2958</td>\n",
       "      <td>1</td>\n",
       "      <td>United States</td>\n",
       "    </tr>\n",
       "    <tr>\n",
       "      <th>2753</th>\n",
       "      <td>2959</td>\n",
       "      <td>1</td>\n",
       "      <td>United States</td>\n",
       "    </tr>\n",
       "  </tbody>\n",
       "</table>\n",
       "</div>"
      ],
      "text/plain": [
       "      index  Value  originCountry\n",
       "2749   2955      1  United States\n",
       "2750   2956      1  United States\n",
       "2751   2957      1  United States\n",
       "2752   2958      1  United States\n",
       "2753   2959      1  United States"
      ]
     },
     "execution_count": 13,
     "metadata": {},
     "output_type": "execute_result"
    }
   ],
   "source": [
    "df_country.tail(5)"
   ]
  },
  {
   "cell_type": "code",
   "execution_count": 14,
   "id": "7939e45c",
   "metadata": {
    "ExecuteTime": {
     "end_time": "2021-07-14T17:46:46.112113Z",
     "start_time": "2021-07-14T17:46:46.100259Z"
    }
   },
   "outputs": [
    {
     "data": {
      "text/html": [
       "<div>\n",
       "<style scoped>\n",
       "    .dataframe tbody tr th:only-of-type {\n",
       "        vertical-align: middle;\n",
       "    }\n",
       "\n",
       "    .dataframe tbody tr th {\n",
       "        vertical-align: top;\n",
       "    }\n",
       "\n",
       "    .dataframe thead th {\n",
       "        text-align: right;\n",
       "    }\n",
       "</style>\n",
       "<table border=\"1\" class=\"dataframe\">\n",
       "  <thead>\n",
       "    <tr style=\"text-align: right;\">\n",
       "      <th></th>\n",
       "      <th>Value</th>\n",
       "      <th>originCountry</th>\n",
       "    </tr>\n",
       "  </thead>\n",
       "  <tbody>\n",
       "    <tr>\n",
       "      <th>0</th>\n",
       "      <td>44867</td>\n",
       "      <td>United States</td>\n",
       "    </tr>\n",
       "    <tr>\n",
       "      <th>1</th>\n",
       "      <td>42149</td>\n",
       "      <td>Poland</td>\n",
       "    </tr>\n",
       "    <tr>\n",
       "      <th>2</th>\n",
       "      <td>27138</td>\n",
       "      <td>United States</td>\n",
       "    </tr>\n",
       "    <tr>\n",
       "      <th>3</th>\n",
       "      <td>25729</td>\n",
       "      <td>United States</td>\n",
       "    </tr>\n",
       "    <tr>\n",
       "      <th>4</th>\n",
       "      <td>23480</td>\n",
       "      <td>United States</td>\n",
       "    </tr>\n",
       "    <tr>\n",
       "      <th>...</th>\n",
       "      <td>...</td>\n",
       "      <td>...</td>\n",
       "    </tr>\n",
       "    <tr>\n",
       "      <th>2749</th>\n",
       "      <td>1</td>\n",
       "      <td>United States</td>\n",
       "    </tr>\n",
       "    <tr>\n",
       "      <th>2750</th>\n",
       "      <td>1</td>\n",
       "      <td>United States</td>\n",
       "    </tr>\n",
       "    <tr>\n",
       "      <th>2751</th>\n",
       "      <td>1</td>\n",
       "      <td>United States</td>\n",
       "    </tr>\n",
       "    <tr>\n",
       "      <th>2752</th>\n",
       "      <td>1</td>\n",
       "      <td>United States</td>\n",
       "    </tr>\n",
       "    <tr>\n",
       "      <th>2753</th>\n",
       "      <td>1</td>\n",
       "      <td>United States</td>\n",
       "    </tr>\n",
       "  </tbody>\n",
       "</table>\n",
       "<p>2754 rows × 2 columns</p>\n",
       "</div>"
      ],
      "text/plain": [
       "      Value  originCountry\n",
       "0     44867  United States\n",
       "1     42149         Poland\n",
       "2     27138  United States\n",
       "3     25729  United States\n",
       "4     23480  United States\n",
       "...     ...            ...\n",
       "2749      1  United States\n",
       "2750      1  United States\n",
       "2751      1  United States\n",
       "2752      1  United States\n",
       "2753      1  United States\n",
       "\n",
       "[2754 rows x 2 columns]"
      ]
     },
     "execution_count": 14,
     "metadata": {},
     "output_type": "execute_result"
    }
   ],
   "source": [
    "# 컬럼값 변경\n",
    "df_country=df_country[['Value','originCountry']]\n",
    "df_country"
   ]
  },
  {
   "cell_type": "code",
   "execution_count": 15,
   "id": "6dd66cb4",
   "metadata": {
    "ExecuteTime": {
     "end_time": "2021-07-14T17:46:46.120137Z",
     "start_time": "2021-07-14T17:46:46.114081Z"
    }
   },
   "outputs": [
    {
     "data": {
      "text/plain": [
       "Value            0\n",
       "originCountry    0\n",
       "dtype: int64"
      ]
     },
     "execution_count": 15,
     "metadata": {},
     "output_type": "execute_result"
    }
   ],
   "source": [
    "# 결측치 확인\n",
    "df_country.isnull().sum()"
   ]
  },
  {
   "cell_type": "markdown",
   "id": "16dec16e",
   "metadata": {},
   "source": [
    "# Which country produces the most Contents?"
   ]
  },
  {
   "cell_type": "markdown",
   "id": "0b4ec4a9",
   "metadata": {},
   "source": [
    "## 2020 넷플릭스 컨텐츠 인기순위 생산국가 (종합) "
   ]
  },
  {
   "cell_type": "code",
   "execution_count": 16,
   "id": "c79b171e",
   "metadata": {
    "ExecuteTime": {
     "end_time": "2021-07-14T17:46:46.130344Z",
     "start_time": "2021-07-14T17:46:46.122108Z"
    }
   },
   "outputs": [
    {
     "data": {
      "text/html": [
       "<div>\n",
       "<style scoped>\n",
       "    .dataframe tbody tr th:only-of-type {\n",
       "        vertical-align: middle;\n",
       "    }\n",
       "\n",
       "    .dataframe tbody tr th {\n",
       "        vertical-align: top;\n",
       "    }\n",
       "\n",
       "    .dataframe thead th {\n",
       "        text-align: right;\n",
       "    }\n",
       "</style>\n",
       "<table border=\"1\" class=\"dataframe\">\n",
       "  <thead>\n",
       "    <tr style=\"text-align: right;\">\n",
       "      <th></th>\n",
       "      <th>Value</th>\n",
       "      <th>originCountry</th>\n",
       "    </tr>\n",
       "  </thead>\n",
       "  <tbody>\n",
       "    <tr>\n",
       "      <th>0</th>\n",
       "      <td>44867</td>\n",
       "      <td>United States</td>\n",
       "    </tr>\n",
       "    <tr>\n",
       "      <th>1</th>\n",
       "      <td>42149</td>\n",
       "      <td>Poland</td>\n",
       "    </tr>\n",
       "    <tr>\n",
       "      <th>2</th>\n",
       "      <td>27138</td>\n",
       "      <td>United States</td>\n",
       "    </tr>\n",
       "    <tr>\n",
       "      <th>3</th>\n",
       "      <td>25729</td>\n",
       "      <td>United States</td>\n",
       "    </tr>\n",
       "    <tr>\n",
       "      <th>4</th>\n",
       "      <td>23480</td>\n",
       "      <td>United States</td>\n",
       "    </tr>\n",
       "    <tr>\n",
       "      <th>...</th>\n",
       "      <td>...</td>\n",
       "      <td>...</td>\n",
       "    </tr>\n",
       "    <tr>\n",
       "      <th>2749</th>\n",
       "      <td>1</td>\n",
       "      <td>United States</td>\n",
       "    </tr>\n",
       "    <tr>\n",
       "      <th>2750</th>\n",
       "      <td>1</td>\n",
       "      <td>United States</td>\n",
       "    </tr>\n",
       "    <tr>\n",
       "      <th>2751</th>\n",
       "      <td>1</td>\n",
       "      <td>United States</td>\n",
       "    </tr>\n",
       "    <tr>\n",
       "      <th>2752</th>\n",
       "      <td>1</td>\n",
       "      <td>United States</td>\n",
       "    </tr>\n",
       "    <tr>\n",
       "      <th>2753</th>\n",
       "      <td>1</td>\n",
       "      <td>United States</td>\n",
       "    </tr>\n",
       "  </tbody>\n",
       "</table>\n",
       "<p>2754 rows × 2 columns</p>\n",
       "</div>"
      ],
      "text/plain": [
       "      Value  originCountry\n",
       "0     44867  United States\n",
       "1     42149         Poland\n",
       "2     27138  United States\n",
       "3     25729  United States\n",
       "4     23480  United States\n",
       "...     ...            ...\n",
       "2749      1  United States\n",
       "2750      1  United States\n",
       "2751      1  United States\n",
       "2752      1  United States\n",
       "2753      1  United States\n",
       "\n",
       "[2754 rows x 2 columns]"
      ]
     },
     "execution_count": 16,
     "metadata": {},
     "output_type": "execute_result"
    }
   ],
   "source": [
    "view_all = df_country\n",
    "view_all"
   ]
  },
  {
   "cell_type": "markdown",
   "id": "a1cfcafa",
   "metadata": {},
   "source": [
    "### 생산 국가별 영화 제작 수"
   ]
  },
  {
   "cell_type": "markdown",
   "id": "782a9453",
   "metadata": {},
   "source": [
    "#### conter_viewAll 변수 생성"
   ]
  },
  {
   "cell_type": "code",
   "execution_count": 17,
   "id": "e6190956",
   "metadata": {
    "ExecuteTime": {
     "end_time": "2021-07-14T17:46:46.137437Z",
     "start_time": "2021-07-14T17:46:46.131982Z"
    },
    "code_folding": []
   },
   "outputs": [
    {
     "data": {
      "text/plain": [
       "United States     1569\n",
       "United Kingdom     177\n",
       "Japan              126\n",
       "South Korea        109\n",
       "India               82\n",
       "                  ... \n",
       "Zimbabwe             1\n",
       "Bangladesh           1\n",
       "Georgia              1\n",
       "Angola               1\n",
       "Croatia              1\n",
       "Name: originCountry, Length: 65, dtype: int64"
      ]
     },
     "execution_count": 17,
     "metadata": {},
     "output_type": "execute_result"
    }
   ],
   "source": [
    "# 생산국가의 빈도수 세기\n",
    "counter_viewAll=view_all.originCountry.value_counts()\n",
    "counter_viewAll"
   ]
  },
  {
   "cell_type": "markdown",
   "id": "b5b92094",
   "metadata": {},
   "source": [
    "#### Series를 DataFrame으로 변경 "
   ]
  },
  {
   "cell_type": "code",
   "execution_count": 18,
   "id": "83e2907c",
   "metadata": {
    "ExecuteTime": {
     "end_time": "2021-07-14T17:46:46.148698Z",
     "start_time": "2021-07-14T17:46:46.139163Z"
    },
    "scrolled": true
   },
   "outputs": [
    {
     "data": {
      "text/html": [
       "<div>\n",
       "<style scoped>\n",
       "    .dataframe tbody tr th:only-of-type {\n",
       "        vertical-align: middle;\n",
       "    }\n",
       "\n",
       "    .dataframe tbody tr th {\n",
       "        vertical-align: top;\n",
       "    }\n",
       "\n",
       "    .dataframe thead th {\n",
       "        text-align: right;\n",
       "    }\n",
       "</style>\n",
       "<table border=\"1\" class=\"dataframe\">\n",
       "  <thead>\n",
       "    <tr style=\"text-align: right;\">\n",
       "      <th></th>\n",
       "      <th>originCountry</th>\n",
       "      <th>counts</th>\n",
       "    </tr>\n",
       "  </thead>\n",
       "  <tbody>\n",
       "    <tr>\n",
       "      <th>0</th>\n",
       "      <td>United States</td>\n",
       "      <td>1569</td>\n",
       "    </tr>\n",
       "    <tr>\n",
       "      <th>1</th>\n",
       "      <td>United Kingdom</td>\n",
       "      <td>177</td>\n",
       "    </tr>\n",
       "    <tr>\n",
       "      <th>2</th>\n",
       "      <td>Japan</td>\n",
       "      <td>126</td>\n",
       "    </tr>\n",
       "    <tr>\n",
       "      <th>3</th>\n",
       "      <td>South Korea</td>\n",
       "      <td>109</td>\n",
       "    </tr>\n",
       "    <tr>\n",
       "      <th>4</th>\n",
       "      <td>India</td>\n",
       "      <td>82</td>\n",
       "    </tr>\n",
       "    <tr>\n",
       "      <th>...</th>\n",
       "      <td>...</td>\n",
       "      <td>...</td>\n",
       "    </tr>\n",
       "    <tr>\n",
       "      <th>60</th>\n",
       "      <td>Zimbabwe</td>\n",
       "      <td>1</td>\n",
       "    </tr>\n",
       "    <tr>\n",
       "      <th>61</th>\n",
       "      <td>Bangladesh</td>\n",
       "      <td>1</td>\n",
       "    </tr>\n",
       "    <tr>\n",
       "      <th>62</th>\n",
       "      <td>Georgia</td>\n",
       "      <td>1</td>\n",
       "    </tr>\n",
       "    <tr>\n",
       "      <th>63</th>\n",
       "      <td>Angola</td>\n",
       "      <td>1</td>\n",
       "    </tr>\n",
       "    <tr>\n",
       "      <th>64</th>\n",
       "      <td>Croatia</td>\n",
       "      <td>1</td>\n",
       "    </tr>\n",
       "  </tbody>\n",
       "</table>\n",
       "<p>65 rows × 2 columns</p>\n",
       "</div>"
      ],
      "text/plain": [
       "     originCountry  counts\n",
       "0    United States    1569\n",
       "1   United Kingdom     177\n",
       "2            Japan     126\n",
       "3      South Korea     109\n",
       "4            India      82\n",
       "..             ...     ...\n",
       "60        Zimbabwe       1\n",
       "61      Bangladesh       1\n",
       "62         Georgia       1\n",
       "63          Angola       1\n",
       "64         Croatia       1\n",
       "\n",
       "[65 rows x 2 columns]"
      ]
     },
     "execution_count": 18,
     "metadata": {},
     "output_type": "execute_result"
    }
   ],
   "source": [
    "counter_all=counter_viewAll.rename_axis('originCountry').reset_index(name='counts')\n",
    "counter_viewAll=counter_all\n",
    "counter_viewAll"
   ]
  },
  {
   "cell_type": "code",
   "execution_count": 19,
   "id": "bb257716",
   "metadata": {
    "ExecuteTime": {
     "end_time": "2021-07-14T17:46:46.156055Z",
     "start_time": "2021-07-14T17:46:46.150245Z"
    }
   },
   "outputs": [
    {
     "data": {
      "text/html": [
       "<div>\n",
       "<style scoped>\n",
       "    .dataframe tbody tr th:only-of-type {\n",
       "        vertical-align: middle;\n",
       "    }\n",
       "\n",
       "    .dataframe tbody tr th {\n",
       "        vertical-align: top;\n",
       "    }\n",
       "\n",
       "    .dataframe thead th {\n",
       "        text-align: right;\n",
       "    }\n",
       "</style>\n",
       "<table border=\"1\" class=\"dataframe\">\n",
       "  <thead>\n",
       "    <tr style=\"text-align: right;\">\n",
       "      <th></th>\n",
       "      <th>originCountry</th>\n",
       "      <th>counts</th>\n",
       "    </tr>\n",
       "  </thead>\n",
       "  <tbody>\n",
       "    <tr>\n",
       "      <th>0</th>\n",
       "      <td>United States</td>\n",
       "      <td>1569</td>\n",
       "    </tr>\n",
       "    <tr>\n",
       "      <th>1</th>\n",
       "      <td>United Kingdom</td>\n",
       "      <td>177</td>\n",
       "    </tr>\n",
       "    <tr>\n",
       "      <th>2</th>\n",
       "      <td>Japan</td>\n",
       "      <td>126</td>\n",
       "    </tr>\n",
       "    <tr>\n",
       "      <th>3</th>\n",
       "      <td>South Korea</td>\n",
       "      <td>109</td>\n",
       "    </tr>\n",
       "    <tr>\n",
       "      <th>4</th>\n",
       "      <td>India</td>\n",
       "      <td>82</td>\n",
       "    </tr>\n",
       "    <tr>\n",
       "      <th>5</th>\n",
       "      <td>France</td>\n",
       "      <td>73</td>\n",
       "    </tr>\n",
       "    <tr>\n",
       "      <th>6</th>\n",
       "      <td>Canada</td>\n",
       "      <td>52</td>\n",
       "    </tr>\n",
       "    <tr>\n",
       "      <th>7</th>\n",
       "      <td>Spain</td>\n",
       "      <td>43</td>\n",
       "    </tr>\n",
       "    <tr>\n",
       "      <th>8</th>\n",
       "      <td>Philippines</td>\n",
       "      <td>39</td>\n",
       "    </tr>\n",
       "    <tr>\n",
       "      <th>9</th>\n",
       "      <td>Turkey</td>\n",
       "      <td>39</td>\n",
       "    </tr>\n",
       "  </tbody>\n",
       "</table>\n",
       "</div>"
      ],
      "text/plain": [
       "    originCountry  counts\n",
       "0   United States    1569\n",
       "1  United Kingdom     177\n",
       "2           Japan     126\n",
       "3     South Korea     109\n",
       "4           India      82\n",
       "5          France      73\n",
       "6          Canada      52\n",
       "7           Spain      43\n",
       "8     Philippines      39\n",
       "9          Turkey      39"
      ]
     },
     "execution_count": 19,
     "metadata": {},
     "output_type": "execute_result"
    }
   ],
   "source": [
    "counter_viewAll.head(10)"
   ]
  },
  {
   "cell_type": "code",
   "execution_count": 20,
   "id": "d7bcb37b",
   "metadata": {
    "ExecuteTime": {
     "end_time": "2021-07-14T17:46:46.161234Z",
     "start_time": "2021-07-14T17:46:46.157643Z"
    }
   },
   "outputs": [
    {
     "name": "stdout",
     "output_type": "stream",
     "text": [
      "total : 2754\n",
      "top 10 countries : 2309\n",
      "percentage : 2309/2754 = 83.84168482207699\n"
     ]
    }
   ],
   "source": [
    "tot = sum(counter_viewAll.counts)\n",
    "top10 = sum(counter_viewAll.counts[:10]) \n",
    "\n",
    "print(f'total : {tot}')\n",
    "print(f'top 10 countries : {top10}')\n",
    "print(f'percentage : {top10}/{tot} = {100 * top10/tot}')"
   ]
  },
  {
   "cell_type": "markdown",
   "id": "a327cd69",
   "metadata": {},
   "source": [
    "####  인기 순위 전체 분석 insight"
   ]
  },
  {
   "cell_type": "markdown",
   "id": "e40f016e",
   "metadata": {},
   "source": [
    "전체 작품수 2754개 중에 영화 제작을 많이 하는 top10위 권의 나라가 2309개를 만들어, 순위권의 83프로를 생산하고 있다.\n",
    "제작 건수가 많은 top10 countries는 미국, 영국, 일본, 한국, 인도, 프랑스. 케나다, 스페인, 터키, 필리핀이 포함된다."
   ]
  },
  {
   "cell_type": "markdown",
   "id": "04ba37e6",
   "metadata": {},
   "source": [
    "### 전체 영화 제작 국가 top 10위 시각화 "
   ]
  },
  {
   "cell_type": "code",
   "execution_count": 21,
   "id": "577898e0",
   "metadata": {
    "ExecuteTime": {
     "end_time": "2021-07-14T17:46:46.165619Z",
     "start_time": "2021-07-14T17:46:46.163039Z"
    }
   },
   "outputs": [],
   "source": [
    "df_all = counter_viewAll[:][:10]"
   ]
  },
  {
   "cell_type": "code",
   "execution_count": 22,
   "id": "7a89f880",
   "metadata": {
    "ExecuteTime": {
     "end_time": "2021-07-14T17:46:46.171880Z",
     "start_time": "2021-07-14T17:46:46.168452Z"
    }
   },
   "outputs": [],
   "source": [
    "values=df_all['counts']\n",
    "labels = df_all['originCountry']"
   ]
  },
  {
   "cell_type": "code",
   "execution_count": 23,
   "id": "dcfe02f3",
   "metadata": {
    "ExecuteTime": {
     "end_time": "2021-07-14T17:46:46.507296Z",
     "start_time": "2021-07-14T17:46:46.182072Z"
    }
   },
   "outputs": [
    {
     "data": {
      "image/png": "[encoded data removed]",
      "text/plain": [
       "<Figure size 864x360 with 1 Axes>"
      ]
     },
     "metadata": {
      "needs_background": "light"
     },
     "output_type": "display_data"
    }
   ],
   "source": [
    "from matplotlib import gridspec\n",
    "fig = plt.figure(figsize=(12,5))\n",
    "gs = gridspec.GridSpec(nrows=1, ncols=1)\n",
    "\n",
    "ax = plt.subplot(gs[0])\n",
    "sns.barplot(df_all['originCountry'], df_all['counts'], ax=ax, palette=\"RdGy\")\n",
    "ax.set_xticklabels(df_all['originCountry'], rotation='90', fontsize = 13)\n",
    "ax.set_title('Top 10 producing countries of Netflix', fontsize=20, fontweight='bold', pad = 15)\n",
    "plt.xlabel('origin of Country', fontsize=12, labelpad=-20, fontweight='bold')\n",
    "plt.ylabel('produced contents', fontsize=12, labelpad=10, fontweight='bold')\n",
    "plt.xticks(fontsize=10)\n",
    "plt.yticks(fontsize=10)\n",
    "\n",
    "plt.show()\n",
    "# def make_autopct(values):\n",
    "#     def my_autopct(pct):\n",
    "#         total = sum(values)\n",
    "#         val = int(round(pct*total/100.0))\n",
    "#         return '{p:.2f}%({v:d})'.format(p=pct,v=val)\n",
    "#     return my_autopct"
   ]
  },
  {
   "cell_type": "code",
   "execution_count": 24,
   "id": "e4d677ea",
   "metadata": {
    "ExecuteTime": {
     "end_time": "2021-07-14T17:46:46.796159Z",
     "start_time": "2021-07-14T17:46:46.511365Z"
    }
   },
   "outputs": [
    {
     "data": {
      "image/png": "[encoded data removed]",
      "text/plain": [
       "<Figure size 720x504 with 1 Axes>"
      ]
     },
     "metadata": {},
     "output_type": "display_data"
    }
   ],
   "source": [
    "fig = plt.figure(figsize=(10,7))\n",
    "gs = gridspec.GridSpec(nrows=1, ncols=1)\n",
    "\n",
    "\n",
    "explode = [0 for _ in range(10)]\n",
    "explode[0] = 0.06\n",
    "\n",
    "ax2 = plt.subplot(gs[0])\n",
    "ax2.pie(df_all['counts'], labels=df_all['originCountry'],\n",
    "        shadow=True, startangle=220, explode=explode,\n",
    "        colors=sns.color_palette(\"RdGy\", n_colors=10),textprops={'fontsize':13},\n",
    "        pctdistance=0.7, labeldistance=1.1,rotatelabels=True,\n",
    "        autopct = '%1.1f%%', radius=1.5\n",
    "       )\n",
    "\n",
    "\n",
    "ax2.axis('equal') \n",
    "ax2.legend(loc='right', fontsize = 12, facecolor = 'black', labelcolor= 'white', bbox_to_anchor=(1.2,0.7))\n",
    "plt.show()"
   ]
  },
  {
   "cell_type": "code",
   "execution_count": 25,
   "id": "78e15be3",
   "metadata": {
    "ExecuteTime": {
     "end_time": "2021-07-14T17:46:46.916442Z",
     "start_time": "2021-07-14T17:46:46.797866Z"
    },
    "code_folding": [],
    "scrolled": false
   },
   "outputs": [
    {
     "data": {
      "image/png": "[encoded data removed]",
      "text/plain": [
       "<Figure size 936x720 with 1 Axes>"
      ]
     },
     "metadata": {
      "needs_background": "light"
     },
     "output_type": "display_data"
    }
   ],
   "source": [
    "import squarify\n",
    "\n",
    "fig = plt.figure(figsize=(13,10))\n",
    "squarify.plot(sizes = values, \n",
    "              #label = labels, \n",
    "              label=[\"{}({})\".format(a, b) for a, b in zip(labels, df_all['counts'])],\n",
    "              color=sns.color_palette(\"RdGy\", n_colors=10),\n",
    "             linewidth=4, text_kwargs={'fontsize':10, 'fontweight' : 'bold'})\n",
    "plt.title('Top 10 producing countries of Netflix', position=(0.5, 1.0+0.03), fontsize = 20, fontweight='bold', pad=20)\n",
    "plt.axis('off')\n",
    "plt.show()"
   ]
  },
  {
   "cell_type": "code",
   "execution_count": 26,
   "id": "c8fa488b",
   "metadata": {
    "ExecuteTime": {
     "end_time": "2021-07-14T17:46:47.329161Z",
     "start_time": "2021-07-14T17:46:46.918519Z"
    }
   },
   "outputs": [],
   "source": [
    "# 특수 아이콘 적용을 위한 모듈\n",
    "import json\n",
    "import requests\n",
    "\n",
    "INDENT = \" \" * 4\n",
    "VERSION = \"5.5.0\"\n",
    "URI = \"https://raw.githubusercontent.com/FortAwesome/Font-Awesome/master/metadata/icons.json\"\n",
    "\n",
    "\n",
    "def main():\n",
    "    icons = json.loads(requests.get(URI).text)\n",
    "\n",
    "    # Group icons by style\n",
    "    mapping = {}\n",
    "    for k, v in icons.items():\n",
    "        for style in v[\"styles\"]:\n",
    "            style_name = style.upper()\n",
    "            if style_name not in mapping.keys():\n",
    "                mapping[style_name] = {}\n",
    "            mapping[style_name][k] = chr(int(v[\"unicode\"], 16))\n",
    "\n",
    "    with open(\"pywaffle/fontawesome_mapping.py\", \"w\") as file:\n",
    "        file.write(\"# This file belongs to Font Awesome, see license https://fontawesome.com/license/\\n\")\n",
    "        file.write(\"# Font Awesome version: {0}\\n\".format(VERSION))\n",
    "        file.write(\"\\n\")\n",
    "        file.write(\"icons = \")\n",
    "        file.write(json.dumps(mapping, indent=4))\n",
    "        file.write(\"\\n\")\n",
    "\n",
    "if __name__ == \"__main__\":\n",
    "    main()"
   ]
  },
  {
   "cell_type": "code",
   "execution_count": 27,
   "id": "ce4236a4",
   "metadata": {
    "ExecuteTime": {
     "end_time": "2021-07-14T17:46:48.088590Z",
     "start_time": "2021-07-14T17:46:47.331053Z"
    }
   },
   "outputs": [
    {
     "data": {
      "image/png": "[encoded data removed]",
      "text/plain": [
       "<Waffle size 936x936 with 1 Axes>"
      ]
     },
     "metadata": {},
     "output_type": "display_data"
    }
   ],
   "source": [
    "from pywaffle import Waffle\n",
    "from pywaffle.fontawesome_mapping import icons\n",
    "fig = plt.figure(\n",
    "    FigureClass=Waffle,facecolor='black', \n",
    "    rows=11, \n",
    "    columns=20, \n",
    "    values=df_all['counts'],\n",
    "    labels=[\"{}({})\".format(a, b) for a, b in zip(labels, values)],\n",
    "    #colors=sns.color_palette(\"autumn\", n_colors=10),\n",
    "    colors=sns.dark_palette('red', reverse = True, n_colors=10),\n",
    "    legend={'loc': 'lower left', 'bbox_to_anchor': (0, -0.2), \n",
    "            'ncol': len(df_all['counts'])//2,  'framealpha': 0, 'labelcolor': 'white', 'fontsize':13.2}, \n",
    "    font_size=30,\n",
    "    icon_style='solid',\n",
    "    figsize=(13, 13),\n",
    "    icons='camera-retro',\n",
    "    #characters='N',\n",
    "    icon_legend=True)\n",
    "\n",
    "plt.title('Top 10 producing countries of Netflix', position=(0.5, 1.0+0.03), fontsize = 15, \n",
    "          fontweight='bold', color='white')\n",
    "plt.show()"
   ]
  },
  {
   "cell_type": "code",
   "execution_count": 28,
   "id": "b452cb94",
   "metadata": {
    "ExecuteTime": {
     "end_time": "2021-07-14T17:46:48.814916Z",
     "start_time": "2021-07-14T17:46:48.090540Z"
    }
   },
   "outputs": [
    {
     "data": {
      "image/png": "[encoded data removed]",
      "text/plain": [
       "<Waffle size 936x936 with 1 Axes>"
      ]
     },
     "metadata": {},
     "output_type": "display_data"
    }
   ],
   "source": [
    "from pywaffle import Waffle\n",
    "from pywaffle.fontawesome_mapping import icons\n",
    "fig = plt.figure(\n",
    "    FigureClass=Waffle,facecolor='black', \n",
    "    rows=11, \n",
    "    columns=20, \n",
    "    values=df_all['counts'],\n",
    "    labels=[\"{}({})\".format(a, b) for a, b in zip(labels, values)],\n",
    "    #colors=sns.color_palette(\"gist_heat\", n_colors=10),\n",
    "    colors=sns.light_palette('red', reverse = True, n_colors=10),\n",
    "    legend={'loc': 'lower left', 'bbox_to_anchor': (0, -0.2), \n",
    "            'ncol': len(df_all['counts'])//2,  'framealpha': 0, 'labelcolor': 'white', 'fontsize':13.2}, \n",
    "    font_size=30,\n",
    "    icon_style='solid',\n",
    "    figsize=(13, 13),\n",
    "    icons='crown',\n",
    "    #characters='N',\n",
    "    icon_legend=True)\n",
    "\n",
    "plt.title('Top 10 producing countries of Netflix', position=(0.5, 1.0+0.03), \n",
    "          fontsize = 15, fontweight='bold',color='white')\n",
    "plt.show()"
   ]
  },
  {
   "cell_type": "markdown",
   "id": "3b097a8e",
   "metadata": {},
   "source": [
    "## 2020 넷플릭스 컨텐츠 인기 순위 100위의 생산국가 "
   ]
  },
  {
   "cell_type": "markdown",
   "id": "691d6614",
   "metadata": {},
   "source": [
    "### view_top100 변수 생성 "
   ]
  },
  {
   "cell_type": "code",
   "execution_count": 29,
   "id": "410c321e",
   "metadata": {
    "ExecuteTime": {
     "end_time": "2021-07-14T17:46:48.823395Z",
     "start_time": "2021-07-14T17:46:48.817103Z"
    }
   },
   "outputs": [
    {
     "data": {
      "text/html": [
       "<div>\n",
       "<style scoped>\n",
       "    .dataframe tbody tr th:only-of-type {\n",
       "        vertical-align: middle;\n",
       "    }\n",
       "\n",
       "    .dataframe tbody tr th {\n",
       "        vertical-align: top;\n",
       "    }\n",
       "\n",
       "    .dataframe thead th {\n",
       "        text-align: right;\n",
       "    }\n",
       "</style>\n",
       "<table border=\"1\" class=\"dataframe\">\n",
       "  <thead>\n",
       "    <tr style=\"text-align: right;\">\n",
       "      <th></th>\n",
       "      <th>Value</th>\n",
       "      <th>originCountry</th>\n",
       "    </tr>\n",
       "  </thead>\n",
       "  <tbody>\n",
       "    <tr>\n",
       "      <th>95</th>\n",
       "      <td>4476</td>\n",
       "      <td>United States</td>\n",
       "    </tr>\n",
       "    <tr>\n",
       "      <th>96</th>\n",
       "      <td>4459</td>\n",
       "      <td>France</td>\n",
       "    </tr>\n",
       "    <tr>\n",
       "      <th>97</th>\n",
       "      <td>4356</td>\n",
       "      <td>United States</td>\n",
       "    </tr>\n",
       "    <tr>\n",
       "      <th>98</th>\n",
       "      <td>4285</td>\n",
       "      <td>Germany</td>\n",
       "    </tr>\n",
       "    <tr>\n",
       "      <th>99</th>\n",
       "      <td>4267</td>\n",
       "      <td>United States</td>\n",
       "    </tr>\n",
       "  </tbody>\n",
       "</table>\n",
       "</div>"
      ],
      "text/plain": [
       "    Value  originCountry\n",
       "95   4476  United States\n",
       "96   4459         France\n",
       "97   4356  United States\n",
       "98   4285        Germany\n",
       "99   4267  United States"
      ]
     },
     "execution_count": 29,
     "metadata": {},
     "output_type": "execute_result"
    }
   ],
   "source": [
    "view_top100 = df_country[:][:100]\n",
    "view_top100.tail(5)"
   ]
  },
  {
   "cell_type": "markdown",
   "id": "40b2832f",
   "metadata": {},
   "source": [
    "### 인기 순위 100위까지 생산국가 별 제작 영화 수 \n",
    "#### counter_view100 변수 생성"
   ]
  },
  {
   "cell_type": "code",
   "execution_count": 30,
   "id": "d846e0e5",
   "metadata": {
    "ExecuteTime": {
     "end_time": "2021-07-14T17:46:48.829783Z",
     "start_time": "2021-07-14T17:46:48.825247Z"
    }
   },
   "outputs": [
    {
     "data": {
      "text/plain": [
       "United States     69\n",
       "South Korea        7\n",
       "United Kingdom     6\n",
       "Spain              4\n",
       "Colombia           3\n",
       "Canada             2\n",
       "France             2\n",
       "Germany            2\n",
       "Russia             1\n",
       "Mexico             1\n",
       "China              1\n",
       "Italy              1\n",
       "Poland             1\n",
       "Name: originCountry, dtype: int64"
      ]
     },
     "execution_count": 30,
     "metadata": {},
     "output_type": "execute_result"
    }
   ],
   "source": [
    "# 생산국가의 빈도수 세기\n",
    "counter_view100=view_top100.originCountry.value_counts()\n",
    "counter_view100"
   ]
  },
  {
   "cell_type": "code",
   "execution_count": 31,
   "id": "fd664787",
   "metadata": {
    "ExecuteTime": {
     "end_time": "2021-07-14T17:46:48.834845Z",
     "start_time": "2021-07-14T17:46:48.831487Z"
    }
   },
   "outputs": [
    {
     "data": {
      "text/plain": [
       "pandas.core.series.Series"
      ]
     },
     "execution_count": 31,
     "metadata": {},
     "output_type": "execute_result"
    }
   ],
   "source": [
    "type(counter_view100)"
   ]
  },
  {
   "cell_type": "markdown",
   "id": "072d8f55",
   "metadata": {},
   "source": [
    "#### Series를 dataFrame으로 변경"
   ]
  },
  {
   "cell_type": "code",
   "execution_count": 32,
   "id": "d7a000a4",
   "metadata": {
    "ExecuteTime": {
     "end_time": "2021-07-14T17:46:48.842908Z",
     "start_time": "2021-07-14T17:46:48.836424Z"
    }
   },
   "outputs": [
    {
     "data": {
      "text/html": [
       "<div>\n",
       "<style scoped>\n",
       "    .dataframe tbody tr th:only-of-type {\n",
       "        vertical-align: middle;\n",
       "    }\n",
       "\n",
       "    .dataframe tbody tr th {\n",
       "        vertical-align: top;\n",
       "    }\n",
       "\n",
       "    .dataframe thead th {\n",
       "        text-align: right;\n",
       "    }\n",
       "</style>\n",
       "<table border=\"1\" class=\"dataframe\">\n",
       "  <thead>\n",
       "    <tr style=\"text-align: right;\">\n",
       "      <th></th>\n",
       "      <th>originCountry</th>\n",
       "      <th>counts</th>\n",
       "    </tr>\n",
       "  </thead>\n",
       "  <tbody>\n",
       "    <tr>\n",
       "      <th>0</th>\n",
       "      <td>United States</td>\n",
       "      <td>69</td>\n",
       "    </tr>\n",
       "    <tr>\n",
       "      <th>1</th>\n",
       "      <td>South Korea</td>\n",
       "      <td>7</td>\n",
       "    </tr>\n",
       "    <tr>\n",
       "      <th>2</th>\n",
       "      <td>United Kingdom</td>\n",
       "      <td>6</td>\n",
       "    </tr>\n",
       "    <tr>\n",
       "      <th>3</th>\n",
       "      <td>Spain</td>\n",
       "      <td>4</td>\n",
       "    </tr>\n",
       "    <tr>\n",
       "      <th>4</th>\n",
       "      <td>Colombia</td>\n",
       "      <td>3</td>\n",
       "    </tr>\n",
       "    <tr>\n",
       "      <th>5</th>\n",
       "      <td>Canada</td>\n",
       "      <td>2</td>\n",
       "    </tr>\n",
       "    <tr>\n",
       "      <th>6</th>\n",
       "      <td>France</td>\n",
       "      <td>2</td>\n",
       "    </tr>\n",
       "    <tr>\n",
       "      <th>7</th>\n",
       "      <td>Germany</td>\n",
       "      <td>2</td>\n",
       "    </tr>\n",
       "    <tr>\n",
       "      <th>8</th>\n",
       "      <td>Russia</td>\n",
       "      <td>1</td>\n",
       "    </tr>\n",
       "    <tr>\n",
       "      <th>9</th>\n",
       "      <td>Mexico</td>\n",
       "      <td>1</td>\n",
       "    </tr>\n",
       "    <tr>\n",
       "      <th>10</th>\n",
       "      <td>China</td>\n",
       "      <td>1</td>\n",
       "    </tr>\n",
       "    <tr>\n",
       "      <th>11</th>\n",
       "      <td>Italy</td>\n",
       "      <td>1</td>\n",
       "    </tr>\n",
       "    <tr>\n",
       "      <th>12</th>\n",
       "      <td>Poland</td>\n",
       "      <td>1</td>\n",
       "    </tr>\n",
       "  </tbody>\n",
       "</table>\n",
       "</div>"
      ],
      "text/plain": [
       "     originCountry  counts\n",
       "0    United States      69\n",
       "1      South Korea       7\n",
       "2   United Kingdom       6\n",
       "3            Spain       4\n",
       "4         Colombia       3\n",
       "5           Canada       2\n",
       "6           France       2\n",
       "7          Germany       2\n",
       "8           Russia       1\n",
       "9           Mexico       1\n",
       "10           China       1\n",
       "11           Italy       1\n",
       "12          Poland       1"
      ]
     },
     "execution_count": 32,
     "metadata": {},
     "output_type": "execute_result"
    }
   ],
   "source": [
    "counter_100=counter_view100.rename_axis('originCountry').reset_index(name='counts')\n",
    "counter_view100=counter_100\n",
    "counter_view100"
   ]
  },
  {
   "cell_type": "markdown",
   "id": "a6f4ac8d",
   "metadata": {},
   "source": [
    "### 인기순위 100위 분석 insight"
   ]
  },
  {
   "cell_type": "code",
   "execution_count": 33,
   "id": "c336667d",
   "metadata": {
    "ExecuteTime": {
     "end_time": "2021-07-14T17:46:48.848304Z",
     "start_time": "2021-07-14T17:46:48.844448Z"
    }
   },
   "outputs": [
    {
     "name": "stdout",
     "output_type": "stream",
     "text": [
      "total : 2754\n",
      "top 5 countries : 89\n",
      "percentage : 89/2754 = 3.2316630355846043\n"
     ]
    }
   ],
   "source": [
    "tot100 = sum(counter_view100.counts)\n",
    "top5 = sum(counter_view100.counts[:5]) \n",
    "\n",
    "print(f'total : {tot}')\n",
    "print(f'top 5 countries : {top5}')\n",
    "print(f'percentage : {top5}/{tot} = {100 * top5/tot}')"
   ]
  },
  {
   "cell_type": "markdown",
   "id": "9d3107fe",
   "metadata": {},
   "source": [
    "1. 인기 순위 100위 중에 south korea의 작품이 7건이 포함되어 있다.\n",
    "2. 일본은 순위권에 포함되지도 못했다. \n",
    "3. 전체 2754개의 영화중에 korea 출신의 작품은 108개로 다소 적은 편이지만, top 100에는 7개나 포함되어 있어서 그 인기를 실감할 수 있다.\n",
    "4. 반면 일본은 126건을 생산했지만 100위 안에는 1개도 포함되어 있지 않다. 이런 스타일의 작품은 안통하는 것 같다 ㅋㅋ"
   ]
  },
  {
   "cell_type": "code",
   "execution_count": 34,
   "id": "1a6c19ef",
   "metadata": {
    "ExecuteTime": {
     "end_time": "2021-07-14T17:46:49.062549Z",
     "start_time": "2021-07-14T17:46:48.850016Z"
    }
   },
   "outputs": [
    {
     "data": {
      "image/png": "[encoded data removed]",
      "text/plain": [
       "<Figure size 864x360 with 1 Axes>"
      ]
     },
     "metadata": {
      "needs_background": "light"
     },
     "output_type": "display_data"
    }
   ],
   "source": [
    "from matplotlib import gridspec\n",
    "fig = plt.figure(figsize=(12,5))\n",
    "gs = gridspec.GridSpec(nrows=1, ncols=1)\n",
    "\n",
    "ax = plt.subplot(gs[0])\n",
    "sns.barplot(counter_view100['originCountry'], counter_view100['counts'], ax=ax, palette=\"RdGy\")\n",
    "ax.set_xticklabels(counter_view100['originCountry'], rotation='90', fontsize = 13)\n",
    "ax.set_title('Country of origin of Netflix Top 100 (2020)', fontsize=20, fontweight='bold', pad = 15)\n",
    "plt.xlabel('origin of Country', fontsize=12, labelpad=-20, fontweight='bold')\n",
    "plt.ylabel('produced contents', fontsize=12, labelpad=10, fontweight='bold')\n",
    "plt.xticks(fontsize=10)\n",
    "plt.yticks(fontsize=10)\n",
    "\n",
    "plt.show()"
   ]
  },
  {
   "cell_type": "code",
   "execution_count": 35,
   "id": "eec52a5f",
   "metadata": {
    "ExecuteTime": {
     "end_time": "2021-07-14T17:46:49.354358Z",
     "start_time": "2021-07-14T17:46:49.064574Z"
    }
   },
   "outputs": [
    {
     "data": {
      "image/png": "[encoded data removed]",
      "text/plain": [
       "<Figure size 720x504 with 1 Axes>"
      ]
     },
     "metadata": {},
     "output_type": "display_data"
    }
   ],
   "source": [
    "fig = plt.figure(figsize=(10,7))\n",
    "gs = gridspec.GridSpec(nrows=1, ncols=1)\n",
    "\n",
    "\n",
    "explode = [0 for _ in range(len(counter_view100['originCountry']))]\n",
    "explode[0] = 0.06\n",
    "\n",
    "ax2 = plt.subplot(gs[0])\n",
    "ax2.pie(counter_view100['counts'], labels=counter_view100['originCountry'],\n",
    "        shadow=True, startangle=200, explode=explode,\n",
    "        colors=sns.color_palette(\"RdGy\", n_colors=13),textprops={'fontsize':12},\n",
    "        pctdistance=0.7, labeldistance=1.1,rotatelabels=True,\n",
    "        autopct = '%1.0f%%', radius=1.5\n",
    "       )\n",
    "\n",
    "\n",
    "ax2.axis('equal') \n",
    "ax2.legend(loc='right', fontsize = 12, facecolor = 'black', labelcolor= 'white', bbox_to_anchor=(1.2,0.7))\n",
    "plt.show()"
   ]
  },
  {
   "cell_type": "code",
   "execution_count": 36,
   "id": "9b178b67",
   "metadata": {
    "ExecuteTime": {
     "end_time": "2021-07-14T17:46:49.478281Z",
     "start_time": "2021-07-14T17:46:49.355636Z"
    }
   },
   "outputs": [
    {
     "data": {
      "image/png": "[encoded data removed]",
      "text/plain": [
       "<Figure size 720x720 with 1 Axes>"
      ]
     },
     "metadata": {
      "needs_background": "light"
     },
     "output_type": "display_data"
    }
   ],
   "source": [
    "import squarify\n",
    "\n",
    "fig = plt.figure(figsize=(10,10))\n",
    "squarify.plot(counter_view100['counts'], \n",
    "              #label = counter_view100['originCountry'], \n",
    "              color=sns.color_palette(\"RdGy\", n_colors=13),\n",
    "              label=[\"{}({})\".format(a, b) for a, b in zip(counter_view100['originCountry'], counter_view100['counts'])],\n",
    "             linewidth=4, text_kwargs={'fontsize':10, 'fontweight' : 'bold'})\n",
    "plt.title('Country of origin of Netflix Top 100 (2020)', position=(0.5, 1.0+0.03), fontsize = 20, fontweight='bold', pad=20)\n",
    "plt.axis('off')\n",
    "plt.show()"
   ]
  },
  {
   "cell_type": "markdown",
   "id": "b56a835b",
   "metadata": {},
   "source": [
    "## 2020 넷플릭스 컨텐츠 인기순위 500위의 생산국가"
   ]
  },
  {
   "cell_type": "markdown",
   "id": "718b15ee",
   "metadata": {},
   "source": [
    "### counter_view500 변수 생성"
   ]
  },
  {
   "cell_type": "code",
   "execution_count": 37,
   "id": "f6d64d9d",
   "metadata": {
    "ExecuteTime": {
     "end_time": "2021-07-14T17:46:49.485885Z",
     "start_time": "2021-07-14T17:46:49.479933Z"
    }
   },
   "outputs": [
    {
     "data": {
      "text/html": [
       "<div>\n",
       "<style scoped>\n",
       "    .dataframe tbody tr th:only-of-type {\n",
       "        vertical-align: middle;\n",
       "    }\n",
       "\n",
       "    .dataframe tbody tr th {\n",
       "        vertical-align: top;\n",
       "    }\n",
       "\n",
       "    .dataframe thead th {\n",
       "        text-align: right;\n",
       "    }\n",
       "</style>\n",
       "<table border=\"1\" class=\"dataframe\">\n",
       "  <thead>\n",
       "    <tr style=\"text-align: right;\">\n",
       "      <th></th>\n",
       "      <th>Value</th>\n",
       "      <th>originCountry</th>\n",
       "    </tr>\n",
       "  </thead>\n",
       "  <tbody>\n",
       "    <tr>\n",
       "      <th>495</th>\n",
       "      <td>617</td>\n",
       "      <td>United States</td>\n",
       "    </tr>\n",
       "    <tr>\n",
       "      <th>496</th>\n",
       "      <td>615</td>\n",
       "      <td>United States</td>\n",
       "    </tr>\n",
       "    <tr>\n",
       "      <th>497</th>\n",
       "      <td>614</td>\n",
       "      <td>France</td>\n",
       "    </tr>\n",
       "    <tr>\n",
       "      <th>498</th>\n",
       "      <td>614</td>\n",
       "      <td>United States</td>\n",
       "    </tr>\n",
       "    <tr>\n",
       "      <th>499</th>\n",
       "      <td>612</td>\n",
       "      <td>Argentina</td>\n",
       "    </tr>\n",
       "  </tbody>\n",
       "</table>\n",
       "</div>"
      ],
      "text/plain": [
       "     Value  originCountry\n",
       "495    617  United States\n",
       "496    615  United States\n",
       "497    614         France\n",
       "498    614  United States\n",
       "499    612      Argentina"
      ]
     },
     "execution_count": 37,
     "metadata": {},
     "output_type": "execute_result"
    }
   ],
   "source": [
    "view_top500 = df_country[:][:500]\n",
    "view_top500.tail(5)"
   ]
  },
  {
   "cell_type": "markdown",
   "id": "ec8269ef",
   "metadata": {},
   "source": [
    "### 인기 순위 500위까지 생산국가 별 제작 영화 수"
   ]
  },
  {
   "cell_type": "markdown",
   "id": "53eb41e9",
   "metadata": {},
   "source": [
    "#### counter_view500 변수 생성"
   ]
  },
  {
   "cell_type": "code",
   "execution_count": 38,
   "id": "7a7f6352",
   "metadata": {
    "ExecuteTime": {
     "end_time": "2021-07-14T17:46:49.492118Z",
     "start_time": "2021-07-14T17:46:49.487564Z"
    }
   },
   "outputs": [
    {
     "data": {
      "text/plain": [
       "United States     308\n",
       "United Kingdom     33\n",
       "South Korea        23\n",
       "Spain              18\n",
       "Mexico             12\n",
       "Canada             11\n",
       "India              11\n",
       "France             11\n",
       "Italy               9\n",
       "Japan               9\n",
       "Germany             7\n",
       "Colombia            7\n",
       "Turkey              6\n",
       "Brazil              4\n",
       "Poland              4\n",
       "Argentina           4\n",
       "China               2\n",
       "Belgium             2\n",
       "Austria             2\n",
       "Hong-Kong           2\n",
       "Egypt               2\n",
       "Norway              2\n",
       "Angola              1\n",
       "Philippines         1\n",
       "Taiwan              1\n",
       "Ireland             1\n",
       "Sweden              1\n",
       "Lebanon             1\n",
       "Russia              1\n",
       "Nigeria             1\n",
       "Denmark             1\n",
       "South Africa        1\n",
       "Australia           1\n",
       "Name: originCountry, dtype: int64"
      ]
     },
     "execution_count": 38,
     "metadata": {},
     "output_type": "execute_result"
    }
   ],
   "source": [
    "# 생산국가의 빈도수 세기\n",
    "counter_view500=view_top500.originCountry.value_counts()\n",
    "counter_view500"
   ]
  },
  {
   "cell_type": "markdown",
   "id": "0423d149",
   "metadata": {},
   "source": [
    "#### Series를 dataFrame으로 변경"
   ]
  },
  {
   "cell_type": "code",
   "execution_count": 39,
   "id": "986b3af9",
   "metadata": {
    "ExecuteTime": {
     "end_time": "2021-07-14T17:46:49.501883Z",
     "start_time": "2021-07-14T17:46:49.493913Z"
    }
   },
   "outputs": [
    {
     "data": {
      "text/html": [
       "<div>\n",
       "<style scoped>\n",
       "    .dataframe tbody tr th:only-of-type {\n",
       "        vertical-align: middle;\n",
       "    }\n",
       "\n",
       "    .dataframe tbody tr th {\n",
       "        vertical-align: top;\n",
       "    }\n",
       "\n",
       "    .dataframe thead th {\n",
       "        text-align: right;\n",
       "    }\n",
       "</style>\n",
       "<table border=\"1\" class=\"dataframe\">\n",
       "  <thead>\n",
       "    <tr style=\"text-align: right;\">\n",
       "      <th></th>\n",
       "      <th>originCountry</th>\n",
       "      <th>counts</th>\n",
       "    </tr>\n",
       "  </thead>\n",
       "  <tbody>\n",
       "    <tr>\n",
       "      <th>0</th>\n",
       "      <td>United States</td>\n",
       "      <td>308</td>\n",
       "    </tr>\n",
       "    <tr>\n",
       "      <th>1</th>\n",
       "      <td>United Kingdom</td>\n",
       "      <td>33</td>\n",
       "    </tr>\n",
       "    <tr>\n",
       "      <th>2</th>\n",
       "      <td>South Korea</td>\n",
       "      <td>23</td>\n",
       "    </tr>\n",
       "    <tr>\n",
       "      <th>3</th>\n",
       "      <td>Spain</td>\n",
       "      <td>18</td>\n",
       "    </tr>\n",
       "    <tr>\n",
       "      <th>4</th>\n",
       "      <td>Mexico</td>\n",
       "      <td>12</td>\n",
       "    </tr>\n",
       "    <tr>\n",
       "      <th>5</th>\n",
       "      <td>Canada</td>\n",
       "      <td>11</td>\n",
       "    </tr>\n",
       "    <tr>\n",
       "      <th>6</th>\n",
       "      <td>India</td>\n",
       "      <td>11</td>\n",
       "    </tr>\n",
       "    <tr>\n",
       "      <th>7</th>\n",
       "      <td>France</td>\n",
       "      <td>11</td>\n",
       "    </tr>\n",
       "    <tr>\n",
       "      <th>8</th>\n",
       "      <td>Italy</td>\n",
       "      <td>9</td>\n",
       "    </tr>\n",
       "    <tr>\n",
       "      <th>9</th>\n",
       "      <td>Japan</td>\n",
       "      <td>9</td>\n",
       "    </tr>\n",
       "    <tr>\n",
       "      <th>10</th>\n",
       "      <td>Germany</td>\n",
       "      <td>7</td>\n",
       "    </tr>\n",
       "    <tr>\n",
       "      <th>11</th>\n",
       "      <td>Colombia</td>\n",
       "      <td>7</td>\n",
       "    </tr>\n",
       "    <tr>\n",
       "      <th>12</th>\n",
       "      <td>Turkey</td>\n",
       "      <td>6</td>\n",
       "    </tr>\n",
       "    <tr>\n",
       "      <th>13</th>\n",
       "      <td>Brazil</td>\n",
       "      <td>4</td>\n",
       "    </tr>\n",
       "    <tr>\n",
       "      <th>14</th>\n",
       "      <td>Poland</td>\n",
       "      <td>4</td>\n",
       "    </tr>\n",
       "    <tr>\n",
       "      <th>15</th>\n",
       "      <td>Argentina</td>\n",
       "      <td>4</td>\n",
       "    </tr>\n",
       "    <tr>\n",
       "      <th>16</th>\n",
       "      <td>China</td>\n",
       "      <td>2</td>\n",
       "    </tr>\n",
       "    <tr>\n",
       "      <th>17</th>\n",
       "      <td>Belgium</td>\n",
       "      <td>2</td>\n",
       "    </tr>\n",
       "    <tr>\n",
       "      <th>18</th>\n",
       "      <td>Austria</td>\n",
       "      <td>2</td>\n",
       "    </tr>\n",
       "    <tr>\n",
       "      <th>19</th>\n",
       "      <td>Hong-Kong</td>\n",
       "      <td>2</td>\n",
       "    </tr>\n",
       "    <tr>\n",
       "      <th>20</th>\n",
       "      <td>Egypt</td>\n",
       "      <td>2</td>\n",
       "    </tr>\n",
       "    <tr>\n",
       "      <th>21</th>\n",
       "      <td>Norway</td>\n",
       "      <td>2</td>\n",
       "    </tr>\n",
       "    <tr>\n",
       "      <th>22</th>\n",
       "      <td>Angola</td>\n",
       "      <td>1</td>\n",
       "    </tr>\n",
       "    <tr>\n",
       "      <th>23</th>\n",
       "      <td>Philippines</td>\n",
       "      <td>1</td>\n",
       "    </tr>\n",
       "    <tr>\n",
       "      <th>24</th>\n",
       "      <td>Taiwan</td>\n",
       "      <td>1</td>\n",
       "    </tr>\n",
       "    <tr>\n",
       "      <th>25</th>\n",
       "      <td>Ireland</td>\n",
       "      <td>1</td>\n",
       "    </tr>\n",
       "    <tr>\n",
       "      <th>26</th>\n",
       "      <td>Sweden</td>\n",
       "      <td>1</td>\n",
       "    </tr>\n",
       "    <tr>\n",
       "      <th>27</th>\n",
       "      <td>Lebanon</td>\n",
       "      <td>1</td>\n",
       "    </tr>\n",
       "    <tr>\n",
       "      <th>28</th>\n",
       "      <td>Russia</td>\n",
       "      <td>1</td>\n",
       "    </tr>\n",
       "    <tr>\n",
       "      <th>29</th>\n",
       "      <td>Nigeria</td>\n",
       "      <td>1</td>\n",
       "    </tr>\n",
       "    <tr>\n",
       "      <th>30</th>\n",
       "      <td>Denmark</td>\n",
       "      <td>1</td>\n",
       "    </tr>\n",
       "    <tr>\n",
       "      <th>31</th>\n",
       "      <td>South Africa</td>\n",
       "      <td>1</td>\n",
       "    </tr>\n",
       "    <tr>\n",
       "      <th>32</th>\n",
       "      <td>Australia</td>\n",
       "      <td>1</td>\n",
       "    </tr>\n",
       "  </tbody>\n",
       "</table>\n",
       "</div>"
      ],
      "text/plain": [
       "     originCountry  counts\n",
       "0    United States     308\n",
       "1   United Kingdom      33\n",
       "2      South Korea      23\n",
       "3            Spain      18\n",
       "4           Mexico      12\n",
       "5           Canada      11\n",
       "6            India      11\n",
       "7           France      11\n",
       "8            Italy       9\n",
       "9            Japan       9\n",
       "10         Germany       7\n",
       "11        Colombia       7\n",
       "12          Turkey       6\n",
       "13          Brazil       4\n",
       "14          Poland       4\n",
       "15       Argentina       4\n",
       "16           China       2\n",
       "17         Belgium       2\n",
       "18         Austria       2\n",
       "19       Hong-Kong       2\n",
       "20           Egypt       2\n",
       "21          Norway       2\n",
       "22          Angola       1\n",
       "23     Philippines       1\n",
       "24          Taiwan       1\n",
       "25         Ireland       1\n",
       "26          Sweden       1\n",
       "27         Lebanon       1\n",
       "28          Russia       1\n",
       "29         Nigeria       1\n",
       "30         Denmark       1\n",
       "31    South Africa       1\n",
       "32       Australia       1"
      ]
     },
     "execution_count": 39,
     "metadata": {},
     "output_type": "execute_result"
    }
   ],
   "source": [
    "counter_500=counter_view500.rename_axis('originCountry').reset_index(name='counts')\n",
    "counter_view500=counter_500\n",
    "counter_view500"
   ]
  },
  {
   "cell_type": "markdown",
   "id": "ca9a69c7",
   "metadata": {},
   "source": [
    "### 인기순위 500위 분석 insight"
   ]
  },
  {
   "cell_type": "code",
   "execution_count": 40,
   "id": "5f3136b3",
   "metadata": {
    "ExecuteTime": {
     "end_time": "2021-07-14T17:46:49.506961Z",
     "start_time": "2021-07-14T17:46:49.503504Z"
    }
   },
   "outputs": [
    {
     "name": "stdout",
     "output_type": "stream",
     "text": [
      "total : 500\n",
      "top 5 countries : 394\n",
      "percentage : 394/500 = 78.8\n"
     ]
    }
   ],
   "source": [
    "# 500개 콘텐츠 중 상위 5개국의 비율이 78.4%\n",
    "tot500 = sum(counter_view500.counts)\n",
    "top500_5 = sum(counter_view500.counts[:5]) \n",
    "\n",
    "print(f'total : {tot500}')\n",
    "print(f'top 5 countries : {top500_5}')\n",
    "print(f'percentage : {top500_5}/{tot500} = {100 * top500_5/tot500}')"
   ]
  },
  {
   "cell_type": "code",
   "execution_count": 41,
   "id": "69a5bffa",
   "metadata": {
    "ExecuteTime": {
     "end_time": "2021-07-14T17:46:49.512127Z",
     "start_time": "2021-07-14T17:46:49.508881Z"
    }
   },
   "outputs": [
    {
     "name": "stdout",
     "output_type": "stream",
     "text": [
      "total : 500\n",
      "top 15 countries : 473\n",
      "percentage : 473/500 = 94.6\n"
     ]
    }
   ],
   "source": [
    "# 500개 콘텐츠 중 상위 15개국의 비율이 94.4\n",
    "tot500 = sum(counter_view500.counts)\n",
    "top15 = sum(counter_view500.counts[:15]) \n",
    "\n",
    "print(f'total : {tot500}')\n",
    "print(f'top 15 countries : {top15}')\n",
    "print(f'percentage : {top15}/{tot500} = {100 * top15/tot500}')"
   ]
  },
  {
   "cell_type": "markdown",
   "id": "aa15264b",
   "metadata": {},
   "source": [
    "1. 미국은 거의 60-70% 를 차지하고 있다.\n",
    "2. 한국은 생산량이 많지 않은데 탑순위에 계속 있다. 인기 있는 하나의 문화가 된 것 같다. 우리나라 출신의 드라마는 믿고 보는 유행이 생긴 것 같다.\n",
    "3. 콘텐츠 500위로 잘랐을때, 1~3위 빼고,, 딱히 많이 생산한다고 인기순위에 오르는 것 같지 않다. 일본은 우리나라보다 두배정도 많이 생산했는데도 8위임\n",
    "4. 스페인의 순위가 눈에 띈다. 총 43개밖에 생산안했는데 500위 안에 18개나 들어서 4위다.\n",
    "5. 프랑스랑 약 2배정도 차이나는 생산량인데 오히려 프랑스보다 더 높은 순위에 들었다.\n",
    "6. 넷플릭스가 한국에 투자를 하는 이유를 알 것 같다. us 제외하고, 구독자도 꽤 많고, 한국의 콘텐츠가 인기가 많은 것이 이유이지 않을까..? 예상한다. 시나리오에 대한 확신만 있으면 성공할 수 있는 조건이라고 생각한다."
   ]
  },
  {
   "cell_type": "code",
   "execution_count": 42,
   "id": "1c361e85",
   "metadata": {
    "ExecuteTime": {
     "end_time": "2021-07-14T17:46:49.928263Z",
     "start_time": "2021-07-14T17:46:49.513887Z"
    }
   },
   "outputs": [
    {
     "data": {
      "image/png": "[encoded data removed]",
      "text/plain": [
       "<Figure size 1440x1440 with 1 Axes>"
      ]
     },
     "metadata": {
      "needs_background": "light"
     },
     "output_type": "display_data"
    }
   ],
   "source": [
    "import squarify\n",
    "\n",
    "fig = plt.figure(figsize=(20,20))\n",
    "squarify.plot(counter_view500['counts'], \n",
    "              #label = counter_view500['originCountry'], \n",
    "              label=[\"{}({})\".format(a, b) for a, b in zip(counter_view500['originCountry'], counter_view500['counts'])],\n",
    "              color=sns.color_palette(\"RdGy\", n_colors=34),\n",
    "             linewidth=4, text_kwargs={'fontsize':10, 'fontweight' : 'bold'})\n",
    "plt.title('Country of origin of Netflix Top 500 (2020)', position=(0.5, 1.0+0.03), fontsize = 20, fontweight='bold', pad=20)\n",
    "plt.axis('off')\n",
    "plt.show()"
   ]
  },
  {
   "cell_type": "markdown",
   "id": "a9ceca92",
   "metadata": {},
   "source": [
    "# 영화 top 20 시각화 (title, viewpoint, originCountry)"
   ]
  },
  {
   "cell_type": "code",
   "execution_count": 43,
   "id": "97d6f3f7",
   "metadata": {
    "ExecuteTime": {
     "end_time": "2021-07-14T17:46:49.940168Z",
     "start_time": "2021-07-14T17:46:49.930456Z"
    }
   },
   "outputs": [
    {
     "data": {
      "text/html": [
       "<div>\n",
       "<style scoped>\n",
       "    .dataframe tbody tr th:only-of-type {\n",
       "        vertical-align: middle;\n",
       "    }\n",
       "\n",
       "    .dataframe tbody tr th {\n",
       "        vertical-align: top;\n",
       "    }\n",
       "\n",
       "    .dataframe thead th {\n",
       "        text-align: right;\n",
       "    }\n",
       "</style>\n",
       "<table border=\"1\" class=\"dataframe\">\n",
       "  <thead>\n",
       "    <tr style=\"text-align: right;\">\n",
       "      <th></th>\n",
       "      <th>Num</th>\n",
       "      <th>Title</th>\n",
       "      <th>Value</th>\n",
       "      <th>Series or Movie</th>\n",
       "      <th>originCountry</th>\n",
       "      <th>Genre</th>\n",
       "      <th>country_all</th>\n",
       "      <th>countryCount</th>\n",
       "      <th>Value_std</th>\n",
       "      <th>countryCount_std</th>\n",
       "      <th>Value_norm</th>\n",
       "      <th>countryCount_norm</th>\n",
       "    </tr>\n",
       "  </thead>\n",
       "  <tbody>\n",
       "    <tr>\n",
       "      <th>0</th>\n",
       "      <td>0</td>\n",
       "      <td>thequeensgambit</td>\n",
       "      <td>44867</td>\n",
       "      <td>TV</td>\n",
       "      <td>United States</td>\n",
       "      <td>Drama</td>\n",
       "      <td>['Argentina', 'Australia', 'Belgium', 'Brazil'...</td>\n",
       "      <td>36</td>\n",
       "      <td>1.00000</td>\n",
       "      <td>0.972222</td>\n",
       "      <td>20.089835</td>\n",
       "      <td>1.408727</td>\n",
       "    </tr>\n",
       "    <tr>\n",
       "      <th>1</th>\n",
       "      <td>1</td>\n",
       "      <td>365days</td>\n",
       "      <td>42149</td>\n",
       "      <td>Movie</td>\n",
       "      <td>Poland</td>\n",
       "      <td>Romance</td>\n",
       "      <td>['Argentina', 'Australia', 'Belgium', 'Brazil'...</td>\n",
       "      <td>36</td>\n",
       "      <td>0.93942</td>\n",
       "      <td>0.972222</td>\n",
       "      <td>18.855375</td>\n",
       "      <td>1.408727</td>\n",
       "    </tr>\n",
       "  </tbody>\n",
       "</table>\n",
       "</div>"
      ],
      "text/plain": [
       "   Num            Title  Value Series or Movie  originCountry    Genre  \\\n",
       "0    0  thequeensgambit  44867              TV  United States    Drama   \n",
       "1    1          365days  42149           Movie         Poland  Romance   \n",
       "\n",
       "                                         country_all  countryCount  Value_std  \\\n",
       "0  ['Argentina', 'Australia', 'Belgium', 'Brazil'...            36    1.00000   \n",
       "1  ['Argentina', 'Australia', 'Belgium', 'Brazil'...            36    0.93942   \n",
       "\n",
       "   countryCount_std  Value_norm  countryCount_norm  \n",
       "0          0.972222   20.089835           1.408727  \n",
       "1          0.972222   18.855375           1.408727  "
      ]
     },
     "execution_count": 43,
     "metadata": {},
     "output_type": "execute_result"
    }
   ],
   "source": [
    "df.head(2)"
   ]
  },
  {
   "cell_type": "code",
   "execution_count": 44,
   "id": "3bb6b48b",
   "metadata": {
    "ExecuteTime": {
     "end_time": "2021-07-14T17:46:49.945712Z",
     "start_time": "2021-07-14T17:46:49.942197Z"
    }
   },
   "outputs": [],
   "source": [
    "df_netflix=df[['Title','Value','originCountry']]"
   ]
  },
  {
   "cell_type": "code",
   "execution_count": 45,
   "id": "742e42c3",
   "metadata": {
    "ExecuteTime": {
     "end_time": "2021-07-14T17:46:49.953277Z",
     "start_time": "2021-07-14T17:46:49.947394Z"
    }
   },
   "outputs": [
    {
     "data": {
      "text/html": [
       "<div>\n",
       "<style scoped>\n",
       "    .dataframe tbody tr th:only-of-type {\n",
       "        vertical-align: middle;\n",
       "    }\n",
       "\n",
       "    .dataframe tbody tr th {\n",
       "        vertical-align: top;\n",
       "    }\n",
       "\n",
       "    .dataframe thead th {\n",
       "        text-align: right;\n",
       "    }\n",
       "</style>\n",
       "<table border=\"1\" class=\"dataframe\">\n",
       "  <thead>\n",
       "    <tr style=\"text-align: right;\">\n",
       "      <th></th>\n",
       "      <th>Title</th>\n",
       "      <th>Value</th>\n",
       "      <th>originCountry</th>\n",
       "    </tr>\n",
       "  </thead>\n",
       "  <tbody>\n",
       "    <tr>\n",
       "      <th>0</th>\n",
       "      <td>thequeensgambit</td>\n",
       "      <td>44867</td>\n",
       "      <td>United States</td>\n",
       "    </tr>\n",
       "    <tr>\n",
       "      <th>1</th>\n",
       "      <td>365days</td>\n",
       "      <td>42149</td>\n",
       "      <td>Poland</td>\n",
       "    </tr>\n",
       "  </tbody>\n",
       "</table>\n",
       "</div>"
      ],
      "text/plain": [
       "             Title  Value  originCountry\n",
       "0  thequeensgambit  44867  United States\n",
       "1          365days  42149         Poland"
      ]
     },
     "execution_count": 45,
     "metadata": {},
     "output_type": "execute_result"
    }
   ],
   "source": [
    "df_netflix.head(2)"
   ]
  },
  {
   "cell_type": "code",
   "execution_count": 48,
   "id": "8928a4a5",
   "metadata": {
    "ExecuteTime": {
     "end_time": "2021-07-14T17:58:41.072986Z",
     "start_time": "2021-07-14T17:58:41.064478Z"
    }
   },
   "outputs": [
    {
     "data": {
      "text/html": [
       "<div>\n",
       "<style scoped>\n",
       "    .dataframe tbody tr th:only-of-type {\n",
       "        vertical-align: middle;\n",
       "    }\n",
       "\n",
       "    .dataframe tbody tr th {\n",
       "        vertical-align: top;\n",
       "    }\n",
       "\n",
       "    .dataframe thead th {\n",
       "        text-align: right;\n",
       "    }\n",
       "</style>\n",
       "<table border=\"1\" class=\"dataframe\">\n",
       "  <thead>\n",
       "    <tr style=\"text-align: right;\">\n",
       "      <th></th>\n",
       "      <th>Title</th>\n",
       "      <th>Value</th>\n",
       "      <th>originCountry</th>\n",
       "    </tr>\n",
       "  </thead>\n",
       "  <tbody>\n",
       "    <tr>\n",
       "      <th>0</th>\n",
       "      <td>thequeensgambit</td>\n",
       "      <td>44867</td>\n",
       "      <td>United States</td>\n",
       "    </tr>\n",
       "    <tr>\n",
       "      <th>1</th>\n",
       "      <td>365days</td>\n",
       "      <td>42149</td>\n",
       "      <td>Poland</td>\n",
       "    </tr>\n",
       "    <tr>\n",
       "      <th>2</th>\n",
       "      <td>emilyinparis</td>\n",
       "      <td>27138</td>\n",
       "      <td>United States</td>\n",
       "    </tr>\n",
       "    <tr>\n",
       "      <th>3</th>\n",
       "      <td>lucifer</td>\n",
       "      <td>25729</td>\n",
       "      <td>United States</td>\n",
       "    </tr>\n",
       "    <tr>\n",
       "      <th>4</th>\n",
       "      <td>theumbrellaacademy</td>\n",
       "      <td>23480</td>\n",
       "      <td>United States</td>\n",
       "    </tr>\n",
       "    <tr>\n",
       "      <th>5</th>\n",
       "      <td>darkdesire</td>\n",
       "      <td>21012</td>\n",
       "      <td>Mexico</td>\n",
       "    </tr>\n",
       "    <tr>\n",
       "      <th>6</th>\n",
       "      <td>thecrown</td>\n",
       "      <td>20937</td>\n",
       "      <td>United Kingdom</td>\n",
       "    </tr>\n",
       "    <tr>\n",
       "      <th>7</th>\n",
       "      <td>friends</td>\n",
       "      <td>17782</td>\n",
       "      <td>United States</td>\n",
       "    </tr>\n",
       "    <tr>\n",
       "      <th>8</th>\n",
       "      <td>enolaholmes</td>\n",
       "      <td>16427</td>\n",
       "      <td>United Kingdom</td>\n",
       "    </tr>\n",
       "    <tr>\n",
       "      <th>9</th>\n",
       "      <td>yosoybettylafea</td>\n",
       "      <td>16264</td>\n",
       "      <td>Colombia</td>\n",
       "    </tr>\n",
       "    <tr>\n",
       "      <th>10</th>\n",
       "      <td>thechristmaschroniclesparttwo</td>\n",
       "      <td>15910</td>\n",
       "      <td>Canada</td>\n",
       "    </tr>\n",
       "    <tr>\n",
       "      <th>11</th>\n",
       "      <td>ratched</td>\n",
       "      <td>15762</td>\n",
       "      <td>United States</td>\n",
       "    </tr>\n",
       "    <tr>\n",
       "      <th>12</th>\n",
       "      <td>holidate</td>\n",
       "      <td>14831</td>\n",
       "      <td>United States</td>\n",
       "    </tr>\n",
       "    <tr>\n",
       "      <th>13</th>\n",
       "      <td>dark</td>\n",
       "      <td>14794</td>\n",
       "      <td>Germany</td>\n",
       "    </tr>\n",
       "    <tr>\n",
       "      <th>14</th>\n",
       "      <td>thelastdance</td>\n",
       "      <td>14145</td>\n",
       "      <td>United States</td>\n",
       "    </tr>\n",
       "    <tr>\n",
       "      <th>15</th>\n",
       "      <td>theoldguard</td>\n",
       "      <td>13918</td>\n",
       "      <td>United States</td>\n",
       "    </tr>\n",
       "    <tr>\n",
       "      <th>16</th>\n",
       "      <td>snowpiercer</td>\n",
       "      <td>13853</td>\n",
       "      <td>South Korea</td>\n",
       "    </tr>\n",
       "    <tr>\n",
       "      <th>17</th>\n",
       "      <td>thesocialdilemma</td>\n",
       "      <td>13588</td>\n",
       "      <td>United States</td>\n",
       "    </tr>\n",
       "    <tr>\n",
       "      <th>18</th>\n",
       "      <td>projectpower</td>\n",
       "      <td>13006</td>\n",
       "      <td>United States</td>\n",
       "    </tr>\n",
       "    <tr>\n",
       "      <th>19</th>\n",
       "      <td>thehauntingofblymanor</td>\n",
       "      <td>13006</td>\n",
       "      <td>United States</td>\n",
       "    </tr>\n",
       "  </tbody>\n",
       "</table>\n",
       "</div>"
      ],
      "text/plain": [
       "                            Title  Value   originCountry\n",
       "0                 thequeensgambit  44867   United States\n",
       "1                         365days  42149          Poland\n",
       "2                    emilyinparis  27138   United States\n",
       "3                         lucifer  25729   United States\n",
       "4              theumbrellaacademy  23480   United States\n",
       "5                      darkdesire  21012          Mexico\n",
       "6                        thecrown  20937  United Kingdom\n",
       "7                         friends  17782   United States\n",
       "8                     enolaholmes  16427  United Kingdom\n",
       "9                 yosoybettylafea  16264        Colombia\n",
       "10  thechristmaschroniclesparttwo  15910          Canada\n",
       "11                        ratched  15762   United States\n",
       "12                       holidate  14831   United States\n",
       "13                           dark  14794         Germany\n",
       "14                   thelastdance  14145   United States\n",
       "15                    theoldguard  13918   United States\n",
       "16                    snowpiercer  13853     South Korea\n",
       "17               thesocialdilemma  13588   United States\n",
       "18                   projectpower  13006   United States\n",
       "19          thehauntingofblymanor  13006   United States"
      ]
     },
     "execution_count": 48,
     "metadata": {},
     "output_type": "execute_result"
    }
   ],
   "source": [
    "df_netflix_20=df_netflix[:][:20]\n",
    "df_netflix_20"
   ]
  },
  {
   "cell_type": "code",
   "execution_count": 58,
   "id": "4788a79f",
   "metadata": {
    "ExecuteTime": {
     "end_time": "2021-07-14T18:07:14.394397Z",
     "start_time": "2021-07-14T18:07:14.111788Z"
    }
   },
   "outputs": [
    {
     "data": {
      "image/png": "[encoded data removed]",
      "text/plain": [
       "<Figure size 864x360 with 1 Axes>"
      ]
     },
     "metadata": {
      "needs_background": "light"
     },
     "output_type": "display_data"
    }
   ],
   "source": [
    "#from matplotlib import gridspec\n",
    "fig = plt.figure(figsize=(12,5))\n",
    "gs = gridspec.GridSpec(nrows=1, ncols=1)\n",
    "\n",
    "ax = plt.subplot(gs[0])\n",
    "sns.barplot(df_netflix_20['Value'], df_netflix_20['Title'], ax=ax, palette=\"RdGy\")\n",
    "# ax.set_xticklabels(df_netflix_20['Value'], rotation='90', fontsize = 13)\n",
    "ax.set_title('Netflix Top 20 (2020)', fontsize=20, fontweight='bold', pad = 15)\n",
    "plt.xlabel('Value', fontsize=12, labelpad=20, fontweight='bold')\n",
    "plt.ylabel('Title (origin of Country)', fontsize=12, labelpad=10, fontweight='bold')\n",
    "plt.xticks(fontsize=10)\n",
    "plt.yticks(fontsize=10)\n",
    "\n",
    "plt.show()"
   ]
  },
  {
   "cell_type": "code",
   "execution_count": null,
   "id": "2bf1f808",
   "metadata": {},
   "outputs": [],
   "source": []
  }
 ],
 "metadata": {
  "hide_input": false,
  "kernelspec": {
   "display_name": "Python TSA",
   "language": "python",
   "name": "tsa"
  },
  "language_info": {
   "codemirror_mode": {
    "name": "ipython",
    "version": 3
   },
   "file_extension": ".py",
   "mimetype": "text/x-python",
   "name": "python",
   "nbconvert_exporter": "python",
   "pygments_lexer": "ipython3",
   "version": "3.9.5"
  },
  "latex_envs": {
   "LaTeX_envs_menu_present": true,
   "autoclose": false,
   "autocomplete": true,
   "bibliofile": "biblio.bib",
   "cite_by": "apalike",
   "current_citInitial": 1,
   "eqLabelWithNumbers": true,
   "eqNumInitial": 1,
   "hotkeys": {
    "equation": "Ctrl-E",
    "itemize": "Ctrl-I"
   },
   "labels_anchors": false,
   "latex_user_defs": false,
   "report_style_numbering": false,
   "user_envs_cfg": false
  },
  "toc": {
   "base_numbering": 1,
   "nav_menu": {},
   "number_sections": true,
   "sideBar": true,
   "skip_h1_title": false,
   "title_cell": "Table of Contents",
   "title_sidebar": "Contents",
   "toc_cell": false,
   "toc_position": {
    "height": "calc(100% - 180px)",
    "left": "10px",
    "top": "150px",
    "width": "465.455px"
   },
   "toc_section_display": true,
   "toc_window_display": true
  },
  "varInspector": {
   "cols": {
    "lenName": 16,
    "lenType": 16,
    "lenVar": 40
   },
   "kernels_config": {
    "python": {
     "delete_cmd_postfix": "",
     "delete_cmd_prefix": "del ",
     "library": "var_list.py",
     "varRefreshCmd": "print(var_dic_list())"
    },
    "r": {
     "delete_cmd_postfix": ") ",
     "delete_cmd_prefix": "rm(",
     "library": "var_list.r",
     "varRefreshCmd": "cat(var_dic_list()) "
    }
   },
   "types_to_exclude": [
    "module",
    "function",
    "builtin_function_or_method",
    "instance",
    "_Feature"
   ],
   "window_display": false
  }
 },
 "nbformat": 4,
 "nbformat_minor": 5
}
