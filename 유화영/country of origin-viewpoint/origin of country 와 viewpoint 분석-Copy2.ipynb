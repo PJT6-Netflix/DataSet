{
 "cells": [
  {
   "cell_type": "code",
   "execution_count": 1,
   "id": "debcc7d9",
   "metadata": {
    "ExecuteTime": {
     "end_time": "2021-07-14T09:36:41.974841Z",
     "start_time": "2021-07-14T09:36:39.897226Z"
    }
   },
   "outputs": [],
   "source": [
    "import pandas as pd\n",
    "import numpy as np\n",
    "import pandas_profiling\n",
    "\n",
    "# 데이터 시각화\n",
    "import matplotlib.pyplot as plt\n",
    "import plotly.graph_objects as go\n",
    "import seaborn as sns\n",
    "from wordcloud import WordCloud, STOPWORDS, ImageColorGenerator\n",
    "\n",
    "# 가설검정\n",
    "from scipy import stats\n",
    "\n",
    "# 경고문구 무시\n",
    "import warnings\n",
    "warnings.filterwarnings(\"ignore\")\n",
    "# 자연어 처리\n",
    "# import spacy\n",
    "\n",
    "# 정규화\n",
    "from sklearn.preprocessing import MinMaxScaler\n",
    "\n",
    "#표준화\n",
    "from sklearn import preprocessing\n",
    "from sklearn.preprocessing import StandardScaler"
   ]
  },
  {
   "cell_type": "markdown",
   "id": "86dcda7a",
   "metadata": {},
   "source": [
    "# 데이터 정보 확인"
   ]
  },
  {
   "cell_type": "code",
   "execution_count": 2,
   "id": "824b36f0",
   "metadata": {
    "ExecuteTime": {
     "end_time": "2021-07-14T09:36:42.020932Z",
     "start_time": "2021-07-14T09:36:41.991864Z"
    }
   },
   "outputs": [
    {
     "data": {
      "text/html": [
       "<div>\n",
       "<style scoped>\n",
       "    .dataframe tbody tr th:only-of-type {\n",
       "        vertical-align: middle;\n",
       "    }\n",
       "\n",
       "    .dataframe tbody tr th {\n",
       "        vertical-align: top;\n",
       "    }\n",
       "\n",
       "    .dataframe thead th {\n",
       "        text-align: right;\n",
       "    }\n",
       "</style>\n",
       "<table border=\"1\" class=\"dataframe\">\n",
       "  <thead>\n",
       "    <tr style=\"text-align: right;\">\n",
       "      <th></th>\n",
       "      <th>Num</th>\n",
       "      <th>Title</th>\n",
       "      <th>Value</th>\n",
       "      <th>Series or Movie</th>\n",
       "      <th>originCountry</th>\n",
       "      <th>Genre</th>\n",
       "      <th>country_all</th>\n",
       "      <th>countryCount</th>\n",
       "    </tr>\n",
       "  </thead>\n",
       "  <tbody>\n",
       "    <tr>\n",
       "      <th>0</th>\n",
       "      <td>0</td>\n",
       "      <td>thequeensgambit</td>\n",
       "      <td>44867</td>\n",
       "      <td>TV</td>\n",
       "      <td>United States</td>\n",
       "      <td>Drama</td>\n",
       "      <td>['Argentina', 'Australia', 'Belgium', 'Brazil'...</td>\n",
       "      <td>36</td>\n",
       "    </tr>\n",
       "  </tbody>\n",
       "</table>\n",
       "</div>"
      ],
      "text/plain": [
       "   Num            Title  Value Series or Movie  originCountry  Genre  \\\n",
       "0    0  thequeensgambit  44867              TV  United States  Drama   \n",
       "\n",
       "                                         country_all  countryCount  \n",
       "0  ['Argentina', 'Australia', 'Belgium', 'Brazil'...            36  "
      ]
     },
     "execution_count": 2,
     "metadata": {},
     "output_type": "execute_result"
    }
   ],
   "source": [
    "df=pd.read_csv('3.1_original_useDf_0714.csv')\n",
    "df.head(1)"
   ]
  },
  {
   "cell_type": "code",
   "execution_count": 3,
   "id": "78259fa1",
   "metadata": {
    "ExecuteTime": {
     "end_time": "2021-07-14T09:36:42.058145Z",
     "start_time": "2021-07-14T09:36:42.050488Z"
    }
   },
   "outputs": [
    {
     "data": {
      "text/plain": [
       "Num                  0\n",
       "Title                0\n",
       "Value                0\n",
       "Series or Movie      0\n",
       "originCountry      206\n",
       "Genre              370\n",
       "country_all          0\n",
       "countryCount         0\n",
       "dtype: int64"
      ]
     },
     "execution_count": 3,
     "metadata": {},
     "output_type": "execute_result"
    }
   ],
   "source": [
    "# null값 확인\n",
    "df.isnull().sum()"
   ]
  },
  {
   "cell_type": "code",
   "execution_count": 4,
   "id": "79137737",
   "metadata": {
    "ExecuteTime": {
     "end_time": "2021-07-14T09:36:42.103953Z",
     "start_time": "2021-07-14T09:36:42.085738Z"
    }
   },
   "outputs": [
    {
     "data": {
      "text/html": [
       "<div>\n",
       "<style scoped>\n",
       "    .dataframe tbody tr th:only-of-type {\n",
       "        vertical-align: middle;\n",
       "    }\n",
       "\n",
       "    .dataframe tbody tr th {\n",
       "        vertical-align: top;\n",
       "    }\n",
       "\n",
       "    .dataframe thead th {\n",
       "        text-align: right;\n",
       "    }\n",
       "</style>\n",
       "<table border=\"1\" class=\"dataframe\">\n",
       "  <thead>\n",
       "    <tr style=\"text-align: right;\">\n",
       "      <th></th>\n",
       "      <th>Num</th>\n",
       "      <th>Value</th>\n",
       "      <th>countryCount</th>\n",
       "    </tr>\n",
       "  </thead>\n",
       "  <tbody>\n",
       "    <tr>\n",
       "      <th>count</th>\n",
       "      <td>2960.0</td>\n",
       "      <td>2960.0</td>\n",
       "      <td>2960.0</td>\n",
       "    </tr>\n",
       "    <tr>\n",
       "      <th>mean</th>\n",
       "      <td>1480.0</td>\n",
       "      <td>634.0</td>\n",
       "      <td>16.0</td>\n",
       "    </tr>\n",
       "    <tr>\n",
       "      <th>std</th>\n",
       "      <td>855.0</td>\n",
       "      <td>2202.0</td>\n",
       "      <td>14.0</td>\n",
       "    </tr>\n",
       "    <tr>\n",
       "      <th>min</th>\n",
       "      <td>0.0</td>\n",
       "      <td>1.0</td>\n",
       "      <td>1.0</td>\n",
       "    </tr>\n",
       "    <tr>\n",
       "      <th>25%</th>\n",
       "      <td>740.0</td>\n",
       "      <td>22.0</td>\n",
       "      <td>3.0</td>\n",
       "    </tr>\n",
       "    <tr>\n",
       "      <th>50%</th>\n",
       "      <td>1480.0</td>\n",
       "      <td>80.0</td>\n",
       "      <td>10.0</td>\n",
       "    </tr>\n",
       "    <tr>\n",
       "      <th>75%</th>\n",
       "      <td>2219.0</td>\n",
       "      <td>321.0</td>\n",
       "      <td>35.0</td>\n",
       "    </tr>\n",
       "    <tr>\n",
       "      <th>max</th>\n",
       "      <td>2959.0</td>\n",
       "      <td>44867.0</td>\n",
       "      <td>37.0</td>\n",
       "    </tr>\n",
       "  </tbody>\n",
       "</table>\n",
       "</div>"
      ],
      "text/plain": [
       "          Num    Value  countryCount\n",
       "count  2960.0   2960.0        2960.0\n",
       "mean   1480.0    634.0          16.0\n",
       "std     855.0   2202.0          14.0\n",
       "min       0.0      1.0           1.0\n",
       "25%     740.0     22.0           3.0\n",
       "50%    1480.0     80.0          10.0\n",
       "75%    2219.0    321.0          35.0\n",
       "max    2959.0  44867.0          37.0"
      ]
     },
     "execution_count": 4,
     "metadata": {},
     "output_type": "execute_result"
    }
   ],
   "source": [
    "df.describe().round()"
   ]
  },
  {
   "cell_type": "markdown",
   "id": "39a2e01f",
   "metadata": {},
   "source": [
    "# viewpoint 정규화"
   ]
  },
  {
   "cell_type": "markdown",
   "id": "d4499b0f",
   "metadata": {},
   "source": [
    "### min-max 정규화"
   ]
  },
  {
   "cell_type": "code",
   "execution_count": 5,
   "id": "752b4672",
   "metadata": {
    "ExecuteTime": {
     "end_time": "2021-07-14T09:36:42.135913Z",
     "start_time": "2021-07-14T09:36:42.131974Z"
    }
   },
   "outputs": [],
   "source": [
    "min_max_scaler = MinMaxScaler()\n",
    "value=df[['Value','countryCount']].values"
   ]
  },
  {
   "cell_type": "code",
   "execution_count": 6,
   "id": "6efa1e0e",
   "metadata": {
    "ExecuteTime": {
     "end_time": "2021-07-14T09:36:42.164659Z",
     "start_time": "2021-07-14T09:36:42.159355Z"
    }
   },
   "outputs": [],
   "source": [
    "#df['Value_std'] = min_max_scaler.fit_transform(value.reshape(-1,1))\n",
    "df[['Value_std','countryCount_std']] = min_max_scaler.fit_transform(value)"
   ]
  },
  {
   "cell_type": "code",
   "execution_count": 7,
   "id": "5ebb7b9b",
   "metadata": {
    "ExecuteTime": {
     "end_time": "2021-07-14T09:36:42.306666Z",
     "start_time": "2021-07-14T09:36:42.295923Z"
    }
   },
   "outputs": [
    {
     "data": {
      "text/html": [
       "<div>\n",
       "<style scoped>\n",
       "    .dataframe tbody tr th:only-of-type {\n",
       "        vertical-align: middle;\n",
       "    }\n",
       "\n",
       "    .dataframe tbody tr th {\n",
       "        vertical-align: top;\n",
       "    }\n",
       "\n",
       "    .dataframe thead th {\n",
       "        text-align: right;\n",
       "    }\n",
       "</style>\n",
       "<table border=\"1\" class=\"dataframe\">\n",
       "  <thead>\n",
       "    <tr style=\"text-align: right;\">\n",
       "      <th></th>\n",
       "      <th>Num</th>\n",
       "      <th>Title</th>\n",
       "      <th>Value</th>\n",
       "      <th>Series or Movie</th>\n",
       "      <th>originCountry</th>\n",
       "      <th>Genre</th>\n",
       "      <th>country_all</th>\n",
       "      <th>countryCount</th>\n",
       "      <th>Value_std</th>\n",
       "      <th>countryCount_std</th>\n",
       "    </tr>\n",
       "  </thead>\n",
       "  <tbody>\n",
       "    <tr>\n",
       "      <th>0</th>\n",
       "      <td>0</td>\n",
       "      <td>thequeensgambit</td>\n",
       "      <td>44867</td>\n",
       "      <td>TV</td>\n",
       "      <td>United States</td>\n",
       "      <td>Drama</td>\n",
       "      <td>['Argentina', 'Australia', 'Belgium', 'Brazil'...</td>\n",
       "      <td>36</td>\n",
       "      <td>1.000000</td>\n",
       "      <td>0.972222</td>\n",
       "    </tr>\n",
       "    <tr>\n",
       "      <th>1</th>\n",
       "      <td>1</td>\n",
       "      <td>365days</td>\n",
       "      <td>42149</td>\n",
       "      <td>Movie</td>\n",
       "      <td>Poland</td>\n",
       "      <td>Romance</td>\n",
       "      <td>['Argentina', 'Australia', 'Belgium', 'Brazil'...</td>\n",
       "      <td>36</td>\n",
       "      <td>0.939420</td>\n",
       "      <td>0.972222</td>\n",
       "    </tr>\n",
       "    <tr>\n",
       "      <th>2</th>\n",
       "      <td>2</td>\n",
       "      <td>emilyinparis</td>\n",
       "      <td>27138</td>\n",
       "      <td>TV</td>\n",
       "      <td>United States</td>\n",
       "      <td>Drama</td>\n",
       "      <td>['Argentina', 'Australia', 'Belgium', 'Brazil'...</td>\n",
       "      <td>36</td>\n",
       "      <td>0.604846</td>\n",
       "      <td>0.972222</td>\n",
       "    </tr>\n",
       "    <tr>\n",
       "      <th>3</th>\n",
       "      <td>3</td>\n",
       "      <td>lucifer</td>\n",
       "      <td>25729</td>\n",
       "      <td>TV</td>\n",
       "      <td>United States</td>\n",
       "      <td>Superhero</td>\n",
       "      <td>['Argentina', 'Australia', 'Belgium', 'Brazil'...</td>\n",
       "      <td>35</td>\n",
       "      <td>0.573441</td>\n",
       "      <td>0.944444</td>\n",
       "    </tr>\n",
       "    <tr>\n",
       "      <th>4</th>\n",
       "      <td>4</td>\n",
       "      <td>theumbrellaacademy</td>\n",
       "      <td>23480</td>\n",
       "      <td>TV</td>\n",
       "      <td>United States</td>\n",
       "      <td>Superhero</td>\n",
       "      <td>['Argentina', 'Australia', 'Belgium', 'Brazil'...</td>\n",
       "      <td>36</td>\n",
       "      <td>0.523314</td>\n",
       "      <td>0.972222</td>\n",
       "    </tr>\n",
       "    <tr>\n",
       "      <th>5</th>\n",
       "      <td>5</td>\n",
       "      <td>darkdesire</td>\n",
       "      <td>21012</td>\n",
       "      <td>TV</td>\n",
       "      <td>Mexico</td>\n",
       "      <td>Drama</td>\n",
       "      <td>['Argentina', 'Australia', 'Belgium', 'Brazil'...</td>\n",
       "      <td>36</td>\n",
       "      <td>0.468306</td>\n",
       "      <td>0.972222</td>\n",
       "    </tr>\n",
       "    <tr>\n",
       "      <th>6</th>\n",
       "      <td>6</td>\n",
       "      <td>thecrown</td>\n",
       "      <td>20937</td>\n",
       "      <td>TV</td>\n",
       "      <td>United Kingdom</td>\n",
       "      <td>History</td>\n",
       "      <td>['Argentina', 'Australia', 'Belgium', 'Brazil'...</td>\n",
       "      <td>36</td>\n",
       "      <td>0.466634</td>\n",
       "      <td>0.972222</td>\n",
       "    </tr>\n",
       "    <tr>\n",
       "      <th>7</th>\n",
       "      <td>7</td>\n",
       "      <td>friends</td>\n",
       "      <td>17782</td>\n",
       "      <td>TV</td>\n",
       "      <td>United States</td>\n",
       "      <td>Comedy</td>\n",
       "      <td>['Australia', 'Belgium', 'France', 'Germany', ...</td>\n",
       "      <td>21</td>\n",
       "      <td>0.396313</td>\n",
       "      <td>0.555556</td>\n",
       "    </tr>\n",
       "    <tr>\n",
       "      <th>8</th>\n",
       "      <td>8</td>\n",
       "      <td>enolaholmes</td>\n",
       "      <td>16427</td>\n",
       "      <td>Movie</td>\n",
       "      <td>United Kingdom</td>\n",
       "      <td>Drama</td>\n",
       "      <td>['Argentina', 'Australia', 'Belgium', 'Brazil'...</td>\n",
       "      <td>36</td>\n",
       "      <td>0.366112</td>\n",
       "      <td>0.972222</td>\n",
       "    </tr>\n",
       "    <tr>\n",
       "      <th>9</th>\n",
       "      <td>9</td>\n",
       "      <td>yosoybettylafea</td>\n",
       "      <td>16264</td>\n",
       "      <td>TV</td>\n",
       "      <td>Colombia</td>\n",
       "      <td>Drama</td>\n",
       "      <td>['Argentina', 'Colombia', 'Mexico']</td>\n",
       "      <td>3</td>\n",
       "      <td>0.362479</td>\n",
       "      <td>0.055556</td>\n",
       "    </tr>\n",
       "  </tbody>\n",
       "</table>\n",
       "</div>"
      ],
      "text/plain": [
       "   Num               Title  Value Series or Movie   originCountry      Genre  \\\n",
       "0    0     thequeensgambit  44867              TV   United States      Drama   \n",
       "1    1             365days  42149           Movie          Poland    Romance   \n",
       "2    2        emilyinparis  27138              TV   United States      Drama   \n",
       "3    3             lucifer  25729              TV   United States  Superhero   \n",
       "4    4  theumbrellaacademy  23480              TV   United States  Superhero   \n",
       "5    5          darkdesire  21012              TV          Mexico      Drama   \n",
       "6    6            thecrown  20937              TV  United Kingdom    History   \n",
       "7    7             friends  17782              TV   United States     Comedy   \n",
       "8    8         enolaholmes  16427           Movie  United Kingdom      Drama   \n",
       "9    9     yosoybettylafea  16264              TV        Colombia      Drama   \n",
       "\n",
       "                                         country_all  countryCount  Value_std  \\\n",
       "0  ['Argentina', 'Australia', 'Belgium', 'Brazil'...            36   1.000000   \n",
       "1  ['Argentina', 'Australia', 'Belgium', 'Brazil'...            36   0.939420   \n",
       "2  ['Argentina', 'Australia', 'Belgium', 'Brazil'...            36   0.604846   \n",
       "3  ['Argentina', 'Australia', 'Belgium', 'Brazil'...            35   0.573441   \n",
       "4  ['Argentina', 'Australia', 'Belgium', 'Brazil'...            36   0.523314   \n",
       "5  ['Argentina', 'Australia', 'Belgium', 'Brazil'...            36   0.468306   \n",
       "6  ['Argentina', 'Australia', 'Belgium', 'Brazil'...            36   0.466634   \n",
       "7  ['Australia', 'Belgium', 'France', 'Germany', ...            21   0.396313   \n",
       "8  ['Argentina', 'Australia', 'Belgium', 'Brazil'...            36   0.366112   \n",
       "9                ['Argentina', 'Colombia', 'Mexico']             3   0.362479   \n",
       "\n",
       "   countryCount_std  \n",
       "0          0.972222  \n",
       "1          0.972222  \n",
       "2          0.972222  \n",
       "3          0.944444  \n",
       "4          0.972222  \n",
       "5          0.972222  \n",
       "6          0.972222  \n",
       "7          0.555556  \n",
       "8          0.972222  \n",
       "9          0.055556  "
      ]
     },
     "execution_count": 7,
     "metadata": {},
     "output_type": "execute_result"
    }
   ],
   "source": [
    "df.head(10)"
   ]
  },
  {
   "cell_type": "code",
   "execution_count": 8,
   "id": "15e7f5bf",
   "metadata": {
    "ExecuteTime": {
     "end_time": "2021-07-14T09:36:42.349293Z",
     "start_time": "2021-07-14T09:36:42.331080Z"
    }
   },
   "outputs": [
    {
     "data": {
      "text/html": [
       "<div>\n",
       "<style scoped>\n",
       "    .dataframe tbody tr th:only-of-type {\n",
       "        vertical-align: middle;\n",
       "    }\n",
       "\n",
       "    .dataframe tbody tr th {\n",
       "        vertical-align: top;\n",
       "    }\n",
       "\n",
       "    .dataframe thead th {\n",
       "        text-align: right;\n",
       "    }\n",
       "</style>\n",
       "<table border=\"1\" class=\"dataframe\">\n",
       "  <thead>\n",
       "    <tr style=\"text-align: right;\">\n",
       "      <th></th>\n",
       "      <th>Num</th>\n",
       "      <th>Value</th>\n",
       "      <th>countryCount</th>\n",
       "      <th>Value_std</th>\n",
       "      <th>countryCount_std</th>\n",
       "    </tr>\n",
       "  </thead>\n",
       "  <tbody>\n",
       "    <tr>\n",
       "      <th>count</th>\n",
       "      <td>2960.000000</td>\n",
       "      <td>2960.000000</td>\n",
       "      <td>2960.000000</td>\n",
       "      <td>2960.000000</td>\n",
       "      <td>2960.000000</td>\n",
       "    </tr>\n",
       "    <tr>\n",
       "      <th>mean</th>\n",
       "      <td>1479.500000</td>\n",
       "      <td>633.733446</td>\n",
       "      <td>16.180405</td>\n",
       "      <td>0.014103</td>\n",
       "      <td>0.421678</td>\n",
       "    </tr>\n",
       "    <tr>\n",
       "      <th>std</th>\n",
       "      <td>854.622724</td>\n",
       "      <td>2202.145547</td>\n",
       "      <td>14.071531</td>\n",
       "      <td>0.049083</td>\n",
       "      <td>0.390876</td>\n",
       "    </tr>\n",
       "    <tr>\n",
       "      <th>min</th>\n",
       "      <td>0.000000</td>\n",
       "      <td>1.000000</td>\n",
       "      <td>1.000000</td>\n",
       "      <td>0.000000</td>\n",
       "      <td>0.000000</td>\n",
       "    </tr>\n",
       "    <tr>\n",
       "      <th>25%</th>\n",
       "      <td>739.750000</td>\n",
       "      <td>22.000000</td>\n",
       "      <td>3.000000</td>\n",
       "      <td>0.000468</td>\n",
       "      <td>0.055556</td>\n",
       "    </tr>\n",
       "    <tr>\n",
       "      <th>50%</th>\n",
       "      <td>1479.500000</td>\n",
       "      <td>80.000000</td>\n",
       "      <td>10.000000</td>\n",
       "      <td>0.001761</td>\n",
       "      <td>0.250000</td>\n",
       "    </tr>\n",
       "    <tr>\n",
       "      <th>75%</th>\n",
       "      <td>2219.250000</td>\n",
       "      <td>321.000000</td>\n",
       "      <td>35.000000</td>\n",
       "      <td>0.007132</td>\n",
       "      <td>0.944444</td>\n",
       "    </tr>\n",
       "    <tr>\n",
       "      <th>max</th>\n",
       "      <td>2959.000000</td>\n",
       "      <td>44867.000000</td>\n",
       "      <td>37.000000</td>\n",
       "      <td>1.000000</td>\n",
       "      <td>1.000000</td>\n",
       "    </tr>\n",
       "  </tbody>\n",
       "</table>\n",
       "</div>"
      ],
      "text/plain": [
       "               Num         Value  countryCount    Value_std  countryCount_std\n",
       "count  2960.000000   2960.000000   2960.000000  2960.000000       2960.000000\n",
       "mean   1479.500000    633.733446     16.180405     0.014103          0.421678\n",
       "std     854.622724   2202.145547     14.071531     0.049083          0.390876\n",
       "min       0.000000      1.000000      1.000000     0.000000          0.000000\n",
       "25%     739.750000     22.000000      3.000000     0.000468          0.055556\n",
       "50%    1479.500000     80.000000     10.000000     0.001761          0.250000\n",
       "75%    2219.250000    321.000000     35.000000     0.007132          0.944444\n",
       "max    2959.000000  44867.000000     37.000000     1.000000          1.000000"
      ]
     },
     "execution_count": 8,
     "metadata": {},
     "output_type": "execute_result"
    }
   ],
   "source": [
    "df.describe()"
   ]
  },
  {
   "cell_type": "markdown",
   "id": "77dbce94",
   "metadata": {},
   "source": [
    "### 표준화 실시"
   ]
  },
  {
   "cell_type": "code",
   "execution_count": 9,
   "id": "6afa8c2f",
   "metadata": {
    "ExecuteTime": {
     "end_time": "2021-07-14T09:36:43.087271Z",
     "start_time": "2021-07-14T09:36:43.083455Z"
    }
   },
   "outputs": [],
   "source": [
    "scaler = StandardScaler()\n",
    "value2=df[['Value_std','countryCount_std']].values"
   ]
  },
  {
   "cell_type": "code",
   "execution_count": 10,
   "id": "149bb2d1",
   "metadata": {
    "ExecuteTime": {
     "end_time": "2021-07-14T09:36:43.922242Z",
     "start_time": "2021-07-14T09:36:43.915675Z"
    }
   },
   "outputs": [],
   "source": [
    "df[['Value_norm','countryCount_norm']] = scaler.fit_transform(value2)"
   ]
  },
  {
   "cell_type": "code",
   "execution_count": 11,
   "id": "8dc2ce5d",
   "metadata": {
    "ExecuteTime": {
     "end_time": "2021-07-14T09:36:44.104228Z",
     "start_time": "2021-07-14T09:36:44.092548Z"
    }
   },
   "outputs": [
    {
     "data": {
      "text/html": [
       "<div>\n",
       "<style scoped>\n",
       "    .dataframe tbody tr th:only-of-type {\n",
       "        vertical-align: middle;\n",
       "    }\n",
       "\n",
       "    .dataframe tbody tr th {\n",
       "        vertical-align: top;\n",
       "    }\n",
       "\n",
       "    .dataframe thead th {\n",
       "        text-align: right;\n",
       "    }\n",
       "</style>\n",
       "<table border=\"1\" class=\"dataframe\">\n",
       "  <thead>\n",
       "    <tr style=\"text-align: right;\">\n",
       "      <th></th>\n",
       "      <th>Num</th>\n",
       "      <th>Title</th>\n",
       "      <th>Value</th>\n",
       "      <th>Series or Movie</th>\n",
       "      <th>originCountry</th>\n",
       "      <th>Genre</th>\n",
       "      <th>country_all</th>\n",
       "      <th>countryCount</th>\n",
       "      <th>Value_std</th>\n",
       "      <th>countryCount_std</th>\n",
       "      <th>Value_norm</th>\n",
       "      <th>countryCount_norm</th>\n",
       "    </tr>\n",
       "  </thead>\n",
       "  <tbody>\n",
       "    <tr>\n",
       "      <th>0</th>\n",
       "      <td>0</td>\n",
       "      <td>thequeensgambit</td>\n",
       "      <td>44867</td>\n",
       "      <td>TV</td>\n",
       "      <td>United States</td>\n",
       "      <td>Drama</td>\n",
       "      <td>['Argentina', 'Australia', 'Belgium', 'Brazil'...</td>\n",
       "      <td>36</td>\n",
       "      <td>1.00000</td>\n",
       "      <td>0.972222</td>\n",
       "      <td>20.089835</td>\n",
       "      <td>1.408727</td>\n",
       "    </tr>\n",
       "    <tr>\n",
       "      <th>1</th>\n",
       "      <td>1</td>\n",
       "      <td>365days</td>\n",
       "      <td>42149</td>\n",
       "      <td>Movie</td>\n",
       "      <td>Poland</td>\n",
       "      <td>Romance</td>\n",
       "      <td>['Argentina', 'Australia', 'Belgium', 'Brazil'...</td>\n",
       "      <td>36</td>\n",
       "      <td>0.93942</td>\n",
       "      <td>0.972222</td>\n",
       "      <td>18.855375</td>\n",
       "      <td>1.408727</td>\n",
       "    </tr>\n",
       "  </tbody>\n",
       "</table>\n",
       "</div>"
      ],
      "text/plain": [
       "   Num            Title  Value Series or Movie  originCountry    Genre  \\\n",
       "0    0  thequeensgambit  44867              TV  United States    Drama   \n",
       "1    1          365days  42149           Movie         Poland  Romance   \n",
       "\n",
       "                                         country_all  countryCount  Value_std  \\\n",
       "0  ['Argentina', 'Australia', 'Belgium', 'Brazil'...            36    1.00000   \n",
       "1  ['Argentina', 'Australia', 'Belgium', 'Brazil'...            36    0.93942   \n",
       "\n",
       "   countryCount_std  Value_norm  countryCount_norm  \n",
       "0          0.972222   20.089835           1.408727  \n",
       "1          0.972222   18.855375           1.408727  "
      ]
     },
     "execution_count": 11,
     "metadata": {},
     "output_type": "execute_result"
    }
   ],
   "source": [
    "df.head(2)"
   ]
  },
  {
   "cell_type": "code",
   "execution_count": 12,
   "id": "4ff30d3c",
   "metadata": {
    "ExecuteTime": {
     "end_time": "2021-07-14T09:36:44.286293Z",
     "start_time": "2021-07-14T09:36:44.253335Z"
    }
   },
   "outputs": [
    {
     "data": {
      "text/html": [
       "<div>\n",
       "<style scoped>\n",
       "    .dataframe tbody tr th:only-of-type {\n",
       "        vertical-align: middle;\n",
       "    }\n",
       "\n",
       "    .dataframe tbody tr th {\n",
       "        vertical-align: top;\n",
       "    }\n",
       "\n",
       "    .dataframe thead th {\n",
       "        text-align: right;\n",
       "    }\n",
       "</style>\n",
       "<table border=\"1\" class=\"dataframe\">\n",
       "  <thead>\n",
       "    <tr style=\"text-align: right;\">\n",
       "      <th></th>\n",
       "      <th>Num</th>\n",
       "      <th>Value</th>\n",
       "      <th>countryCount</th>\n",
       "      <th>Value_std</th>\n",
       "      <th>countryCount_std</th>\n",
       "      <th>Value_norm</th>\n",
       "      <th>countryCount_norm</th>\n",
       "    </tr>\n",
       "  </thead>\n",
       "  <tbody>\n",
       "    <tr>\n",
       "      <th>count</th>\n",
       "      <td>2960.0</td>\n",
       "      <td>2960.0</td>\n",
       "      <td>2960.0</td>\n",
       "      <td>2960.0</td>\n",
       "      <td>2960.0</td>\n",
       "      <td>2960.0</td>\n",
       "      <td>2960.0</td>\n",
       "    </tr>\n",
       "    <tr>\n",
       "      <th>mean</th>\n",
       "      <td>1480.0</td>\n",
       "      <td>634.0</td>\n",
       "      <td>16.0</td>\n",
       "      <td>0.0</td>\n",
       "      <td>0.0</td>\n",
       "      <td>0.0</td>\n",
       "      <td>0.0</td>\n",
       "    </tr>\n",
       "    <tr>\n",
       "      <th>std</th>\n",
       "      <td>855.0</td>\n",
       "      <td>2202.0</td>\n",
       "      <td>14.0</td>\n",
       "      <td>0.0</td>\n",
       "      <td>0.0</td>\n",
       "      <td>1.0</td>\n",
       "      <td>1.0</td>\n",
       "    </tr>\n",
       "    <tr>\n",
       "      <th>min</th>\n",
       "      <td>0.0</td>\n",
       "      <td>1.0</td>\n",
       "      <td>1.0</td>\n",
       "      <td>0.0</td>\n",
       "      <td>0.0</td>\n",
       "      <td>-0.0</td>\n",
       "      <td>-1.0</td>\n",
       "    </tr>\n",
       "    <tr>\n",
       "      <th>25%</th>\n",
       "      <td>740.0</td>\n",
       "      <td>22.0</td>\n",
       "      <td>3.0</td>\n",
       "      <td>0.0</td>\n",
       "      <td>0.0</td>\n",
       "      <td>-0.0</td>\n",
       "      <td>-1.0</td>\n",
       "    </tr>\n",
       "    <tr>\n",
       "      <th>50%</th>\n",
       "      <td>1480.0</td>\n",
       "      <td>80.0</td>\n",
       "      <td>10.0</td>\n",
       "      <td>0.0</td>\n",
       "      <td>0.0</td>\n",
       "      <td>-0.0</td>\n",
       "      <td>-0.0</td>\n",
       "    </tr>\n",
       "    <tr>\n",
       "      <th>75%</th>\n",
       "      <td>2219.0</td>\n",
       "      <td>321.0</td>\n",
       "      <td>35.0</td>\n",
       "      <td>0.0</td>\n",
       "      <td>1.0</td>\n",
       "      <td>-0.0</td>\n",
       "      <td>1.0</td>\n",
       "    </tr>\n",
       "    <tr>\n",
       "      <th>max</th>\n",
       "      <td>2959.0</td>\n",
       "      <td>44867.0</td>\n",
       "      <td>37.0</td>\n",
       "      <td>1.0</td>\n",
       "      <td>1.0</td>\n",
       "      <td>20.0</td>\n",
       "      <td>1.0</td>\n",
       "    </tr>\n",
       "  </tbody>\n",
       "</table>\n",
       "</div>"
      ],
      "text/plain": [
       "          Num    Value  countryCount  Value_std  countryCount_std  Value_norm  \\\n",
       "count  2960.0   2960.0        2960.0     2960.0            2960.0      2960.0   \n",
       "mean   1480.0    634.0          16.0        0.0               0.0         0.0   \n",
       "std     855.0   2202.0          14.0        0.0               0.0         1.0   \n",
       "min       0.0      1.0           1.0        0.0               0.0        -0.0   \n",
       "25%     740.0     22.0           3.0        0.0               0.0        -0.0   \n",
       "50%    1480.0     80.0          10.0        0.0               0.0        -0.0   \n",
       "75%    2219.0    321.0          35.0        0.0               1.0        -0.0   \n",
       "max    2959.0  44867.0          37.0        1.0               1.0        20.0   \n",
       "\n",
       "       countryCount_norm  \n",
       "count             2960.0  \n",
       "mean                 0.0  \n",
       "std                  1.0  \n",
       "min                 -1.0  \n",
       "25%                 -1.0  \n",
       "50%                 -0.0  \n",
       "75%                  1.0  \n",
       "max                  1.0  "
      ]
     },
     "execution_count": 12,
     "metadata": {},
     "output_type": "execute_result"
    }
   ],
   "source": [
    "df.describe().round()"
   ]
  },
  {
   "cell_type": "markdown",
   "id": "539fd931",
   "metadata": {},
   "source": [
    "# 생산국가 종류와 viewpoint"
   ]
  },
  {
   "cell_type": "code",
   "execution_count": 13,
   "id": "9462f2be",
   "metadata": {
    "ExecuteTime": {
     "end_time": "2021-07-14T09:36:44.886525Z",
     "start_time": "2021-07-14T09:36:44.883926Z"
    }
   },
   "outputs": [],
   "source": [
    "from collections import Counter"
   ]
  },
  {
   "cell_type": "code",
   "execution_count": 14,
   "id": "74567113",
   "metadata": {
    "ExecuteTime": {
     "end_time": "2021-07-14T09:36:45.063808Z",
     "start_time": "2021-07-14T09:36:45.060175Z"
    }
   },
   "outputs": [],
   "source": [
    "df_country = df[['Num','Value','originCountry']]"
   ]
  },
  {
   "cell_type": "code",
   "execution_count": 15,
   "id": "736b9de8",
   "metadata": {
    "ExecuteTime": {
     "end_time": "2021-07-14T09:36:45.383402Z",
     "start_time": "2021-07-14T09:36:45.376000Z"
    }
   },
   "outputs": [
    {
     "data": {
      "text/html": [
       "<div>\n",
       "<style scoped>\n",
       "    .dataframe tbody tr th:only-of-type {\n",
       "        vertical-align: middle;\n",
       "    }\n",
       "\n",
       "    .dataframe tbody tr th {\n",
       "        vertical-align: top;\n",
       "    }\n",
       "\n",
       "    .dataframe thead th {\n",
       "        text-align: right;\n",
       "    }\n",
       "</style>\n",
       "<table border=\"1\" class=\"dataframe\">\n",
       "  <thead>\n",
       "    <tr style=\"text-align: right;\">\n",
       "      <th></th>\n",
       "      <th>Num</th>\n",
       "      <th>Value</th>\n",
       "      <th>originCountry</th>\n",
       "    </tr>\n",
       "  </thead>\n",
       "  <tbody>\n",
       "    <tr>\n",
       "      <th>0</th>\n",
       "      <td>0</td>\n",
       "      <td>44867</td>\n",
       "      <td>United States</td>\n",
       "    </tr>\n",
       "  </tbody>\n",
       "</table>\n",
       "</div>"
      ],
      "text/plain": [
       "   Num  Value  originCountry\n",
       "0    0  44867  United States"
      ]
     },
     "execution_count": 15,
     "metadata": {},
     "output_type": "execute_result"
    }
   ],
   "source": [
    "df_country.head(1)"
   ]
  },
  {
   "cell_type": "markdown",
   "id": "6bf4f7b6",
   "metadata": {},
   "source": [
    "## null 값 확인 및 제거"
   ]
  },
  {
   "cell_type": "code",
   "execution_count": 16,
   "id": "fe6d2162",
   "metadata": {
    "ExecuteTime": {
     "end_time": "2021-07-14T09:36:46.194003Z",
     "start_time": "2021-07-14T09:36:46.188065Z"
    }
   },
   "outputs": [
    {
     "data": {
      "text/plain": [
       "Num                0\n",
       "Value              0\n",
       "originCountry    206\n",
       "dtype: int64"
      ]
     },
     "execution_count": 16,
     "metadata": {},
     "output_type": "execute_result"
    }
   ],
   "source": [
    "df_country.isnull().sum()"
   ]
  },
  {
   "cell_type": "code",
   "execution_count": 17,
   "id": "1ce6f0d5",
   "metadata": {
    "ExecuteTime": {
     "end_time": "2021-07-14T09:36:46.669594Z",
     "start_time": "2021-07-14T09:36:46.659856Z"
    }
   },
   "outputs": [],
   "source": [
    "df_country=df_country.dropna(subset=['originCountry'])\n",
    "df_country=df_country.reset_index()"
   ]
  },
  {
   "cell_type": "code",
   "execution_count": 18,
   "id": "84a419fa",
   "metadata": {
    "ExecuteTime": {
     "end_time": "2021-07-14T09:36:47.143422Z",
     "start_time": "2021-07-14T09:36:47.132303Z"
    }
   },
   "outputs": [
    {
     "data": {
      "text/html": [
       "<div>\n",
       "<style scoped>\n",
       "    .dataframe tbody tr th:only-of-type {\n",
       "        vertical-align: middle;\n",
       "    }\n",
       "\n",
       "    .dataframe tbody tr th {\n",
       "        vertical-align: top;\n",
       "    }\n",
       "\n",
       "    .dataframe thead th {\n",
       "        text-align: right;\n",
       "    }\n",
       "</style>\n",
       "<table border=\"1\" class=\"dataframe\">\n",
       "  <thead>\n",
       "    <tr style=\"text-align: right;\">\n",
       "      <th></th>\n",
       "      <th>index</th>\n",
       "      <th>Num</th>\n",
       "      <th>Value</th>\n",
       "      <th>originCountry</th>\n",
       "    </tr>\n",
       "  </thead>\n",
       "  <tbody>\n",
       "    <tr>\n",
       "      <th>0</th>\n",
       "      <td>0</td>\n",
       "      <td>0</td>\n",
       "      <td>44867</td>\n",
       "      <td>United States</td>\n",
       "    </tr>\n",
       "    <tr>\n",
       "      <th>1</th>\n",
       "      <td>1</td>\n",
       "      <td>1</td>\n",
       "      <td>42149</td>\n",
       "      <td>Poland</td>\n",
       "    </tr>\n",
       "    <tr>\n",
       "      <th>2</th>\n",
       "      <td>2</td>\n",
       "      <td>2</td>\n",
       "      <td>27138</td>\n",
       "      <td>United States</td>\n",
       "    </tr>\n",
       "    <tr>\n",
       "      <th>3</th>\n",
       "      <td>3</td>\n",
       "      <td>3</td>\n",
       "      <td>25729</td>\n",
       "      <td>United States</td>\n",
       "    </tr>\n",
       "    <tr>\n",
       "      <th>4</th>\n",
       "      <td>4</td>\n",
       "      <td>4</td>\n",
       "      <td>23480</td>\n",
       "      <td>United States</td>\n",
       "    </tr>\n",
       "    <tr>\n",
       "      <th>...</th>\n",
       "      <td>...</td>\n",
       "      <td>...</td>\n",
       "      <td>...</td>\n",
       "      <td>...</td>\n",
       "    </tr>\n",
       "    <tr>\n",
       "      <th>2749</th>\n",
       "      <td>2955</td>\n",
       "      <td>2955</td>\n",
       "      <td>1</td>\n",
       "      <td>United States</td>\n",
       "    </tr>\n",
       "    <tr>\n",
       "      <th>2750</th>\n",
       "      <td>2956</td>\n",
       "      <td>2956</td>\n",
       "      <td>1</td>\n",
       "      <td>United States</td>\n",
       "    </tr>\n",
       "    <tr>\n",
       "      <th>2751</th>\n",
       "      <td>2957</td>\n",
       "      <td>2957</td>\n",
       "      <td>1</td>\n",
       "      <td>United States</td>\n",
       "    </tr>\n",
       "    <tr>\n",
       "      <th>2752</th>\n",
       "      <td>2958</td>\n",
       "      <td>2958</td>\n",
       "      <td>1</td>\n",
       "      <td>United States</td>\n",
       "    </tr>\n",
       "    <tr>\n",
       "      <th>2753</th>\n",
       "      <td>2959</td>\n",
       "      <td>2959</td>\n",
       "      <td>1</td>\n",
       "      <td>United States</td>\n",
       "    </tr>\n",
       "  </tbody>\n",
       "</table>\n",
       "<p>2754 rows × 4 columns</p>\n",
       "</div>"
      ],
      "text/plain": [
       "      index   Num  Value  originCountry\n",
       "0         0     0  44867  United States\n",
       "1         1     1  42149         Poland\n",
       "2         2     2  27138  United States\n",
       "3         3     3  25729  United States\n",
       "4         4     4  23480  United States\n",
       "...     ...   ...    ...            ...\n",
       "2749   2955  2955      1  United States\n",
       "2750   2956  2956      1  United States\n",
       "2751   2957  2957      1  United States\n",
       "2752   2958  2958      1  United States\n",
       "2753   2959  2959      1  United States\n",
       "\n",
       "[2754 rows x 4 columns]"
      ]
     },
     "execution_count": 18,
     "metadata": {},
     "output_type": "execute_result"
    }
   ],
   "source": [
    "df_country"
   ]
  },
  {
   "cell_type": "code",
   "execution_count": 19,
   "id": "50e0c04a",
   "metadata": {
    "ExecuteTime": {
     "end_time": "2021-07-14T09:36:47.866407Z",
     "start_time": "2021-07-14T09:36:47.855047Z"
    }
   },
   "outputs": [
    {
     "data": {
      "text/html": [
       "<div>\n",
       "<style scoped>\n",
       "    .dataframe tbody tr th:only-of-type {\n",
       "        vertical-align: middle;\n",
       "    }\n",
       "\n",
       "    .dataframe tbody tr th {\n",
       "        vertical-align: top;\n",
       "    }\n",
       "\n",
       "    .dataframe thead th {\n",
       "        text-align: right;\n",
       "    }\n",
       "</style>\n",
       "<table border=\"1\" class=\"dataframe\">\n",
       "  <thead>\n",
       "    <tr style=\"text-align: right;\">\n",
       "      <th></th>\n",
       "      <th>Value</th>\n",
       "      <th>originCountry</th>\n",
       "    </tr>\n",
       "  </thead>\n",
       "  <tbody>\n",
       "    <tr>\n",
       "      <th>0</th>\n",
       "      <td>44867</td>\n",
       "      <td>United States</td>\n",
       "    </tr>\n",
       "    <tr>\n",
       "      <th>1</th>\n",
       "      <td>42149</td>\n",
       "      <td>Poland</td>\n",
       "    </tr>\n",
       "    <tr>\n",
       "      <th>2</th>\n",
       "      <td>27138</td>\n",
       "      <td>United States</td>\n",
       "    </tr>\n",
       "    <tr>\n",
       "      <th>3</th>\n",
       "      <td>25729</td>\n",
       "      <td>United States</td>\n",
       "    </tr>\n",
       "    <tr>\n",
       "      <th>4</th>\n",
       "      <td>23480</td>\n",
       "      <td>United States</td>\n",
       "    </tr>\n",
       "    <tr>\n",
       "      <th>...</th>\n",
       "      <td>...</td>\n",
       "      <td>...</td>\n",
       "    </tr>\n",
       "    <tr>\n",
       "      <th>2749</th>\n",
       "      <td>1</td>\n",
       "      <td>United States</td>\n",
       "    </tr>\n",
       "    <tr>\n",
       "      <th>2750</th>\n",
       "      <td>1</td>\n",
       "      <td>United States</td>\n",
       "    </tr>\n",
       "    <tr>\n",
       "      <th>2751</th>\n",
       "      <td>1</td>\n",
       "      <td>United States</td>\n",
       "    </tr>\n",
       "    <tr>\n",
       "      <th>2752</th>\n",
       "      <td>1</td>\n",
       "      <td>United States</td>\n",
       "    </tr>\n",
       "    <tr>\n",
       "      <th>2753</th>\n",
       "      <td>1</td>\n",
       "      <td>United States</td>\n",
       "    </tr>\n",
       "  </tbody>\n",
       "</table>\n",
       "<p>2754 rows × 2 columns</p>\n",
       "</div>"
      ],
      "text/plain": [
       "      Value  originCountry\n",
       "0     44867  United States\n",
       "1     42149         Poland\n",
       "2     27138  United States\n",
       "3     25729  United States\n",
       "4     23480  United States\n",
       "...     ...            ...\n",
       "2749      1  United States\n",
       "2750      1  United States\n",
       "2751      1  United States\n",
       "2752      1  United States\n",
       "2753      1  United States\n",
       "\n",
       "[2754 rows x 2 columns]"
      ]
     },
     "execution_count": 19,
     "metadata": {},
     "output_type": "execute_result"
    }
   ],
   "source": [
    "# 컬럼값 변경\n",
    "df_country=df_country[['Value','originCountry']]\n",
    "df_country"
   ]
  },
  {
   "cell_type": "code",
   "execution_count": 20,
   "id": "11f0b475",
   "metadata": {
    "ExecuteTime": {
     "end_time": "2021-07-14T09:36:48.265422Z",
     "start_time": "2021-07-14T09:36:48.259343Z"
    },
    "scrolled": true
   },
   "outputs": [
    {
     "data": {
      "text/plain": [
       "Value            0\n",
       "originCountry    0\n",
       "dtype: int64"
      ]
     },
     "execution_count": 20,
     "metadata": {},
     "output_type": "execute_result"
    }
   ],
   "source": [
    "# 결측치 확인\n",
    "df_country.isnull().sum()"
   ]
  },
  {
   "cell_type": "markdown",
   "id": "75e0d93c",
   "metadata": {},
   "source": [
    "# Which country produces the most Contents?"
   ]
  },
  {
   "cell_type": "markdown",
   "id": "bc02a79c",
   "metadata": {},
   "source": [
    "## top 100 value값을 가진 콘텐츠의 생산국가와 생산영화수 "
   ]
  },
  {
   "cell_type": "code",
   "execution_count": 74,
   "id": "124d6068",
   "metadata": {
    "ExecuteTime": {
     "end_time": "2021-07-14T10:27:59.801281Z",
     "start_time": "2021-07-14T10:27:59.792471Z"
    }
   },
   "outputs": [
    {
     "data": {
      "text/html": [
       "<div>\n",
       "<style scoped>\n",
       "    .dataframe tbody tr th:only-of-type {\n",
       "        vertical-align: middle;\n",
       "    }\n",
       "\n",
       "    .dataframe tbody tr th {\n",
       "        vertical-align: top;\n",
       "    }\n",
       "\n",
       "    .dataframe thead th {\n",
       "        text-align: right;\n",
       "    }\n",
       "</style>\n",
       "<table border=\"1\" class=\"dataframe\">\n",
       "  <thead>\n",
       "    <tr style=\"text-align: right;\">\n",
       "      <th></th>\n",
       "      <th>Value</th>\n",
       "      <th>originCountry</th>\n",
       "    </tr>\n",
       "  </thead>\n",
       "  <tbody>\n",
       "    <tr>\n",
       "      <th>0</th>\n",
       "      <td>44867</td>\n",
       "      <td>United States</td>\n",
       "    </tr>\n",
       "    <tr>\n",
       "      <th>1</th>\n",
       "      <td>42149</td>\n",
       "      <td>Poland</td>\n",
       "    </tr>\n",
       "    <tr>\n",
       "      <th>2</th>\n",
       "      <td>27138</td>\n",
       "      <td>United States</td>\n",
       "    </tr>\n",
       "    <tr>\n",
       "      <th>3</th>\n",
       "      <td>25729</td>\n",
       "      <td>United States</td>\n",
       "    </tr>\n",
       "    <tr>\n",
       "      <th>4</th>\n",
       "      <td>23480</td>\n",
       "      <td>United States</td>\n",
       "    </tr>\n",
       "    <tr>\n",
       "      <th>...</th>\n",
       "      <td>...</td>\n",
       "      <td>...</td>\n",
       "    </tr>\n",
       "    <tr>\n",
       "      <th>95</th>\n",
       "      <td>4459</td>\n",
       "      <td>France</td>\n",
       "    </tr>\n",
       "    <tr>\n",
       "      <th>96</th>\n",
       "      <td>4356</td>\n",
       "      <td>United States</td>\n",
       "    </tr>\n",
       "    <tr>\n",
       "      <th>97</th>\n",
       "      <td>4285</td>\n",
       "      <td>Germany</td>\n",
       "    </tr>\n",
       "    <tr>\n",
       "      <th>98</th>\n",
       "      <td>4267</td>\n",
       "      <td>United States</td>\n",
       "    </tr>\n",
       "    <tr>\n",
       "      <th>99</th>\n",
       "      <td>4233</td>\n",
       "      <td>United States</td>\n",
       "    </tr>\n",
       "  </tbody>\n",
       "</table>\n",
       "<p>100 rows × 2 columns</p>\n",
       "</div>"
      ],
      "text/plain": [
       "    Value  originCountry\n",
       "0   44867  United States\n",
       "1   42149         Poland\n",
       "2   27138  United States\n",
       "3   25729  United States\n",
       "4   23480  United States\n",
       "..    ...            ...\n",
       "95   4459         France\n",
       "96   4356  United States\n",
       "97   4285        Germany\n",
       "98   4267  United States\n",
       "99   4233  United States\n",
       "\n",
       "[100 rows x 2 columns]"
      ]
     },
     "execution_count": 74,
     "metadata": {},
     "output_type": "execute_result"
    }
   ],
   "source": [
    "df_top100_view = df_country[:][:100]\n",
    "df_top100_view"
   ]
  },
  {
   "cell_type": "code",
   "execution_count": 76,
   "id": "35f0d3f0",
   "metadata": {
    "ExecuteTime": {
     "end_time": "2021-07-14T10:29:50.518387Z",
     "start_time": "2021-07-14T10:29:50.515499Z"
    }
   },
   "outputs": [],
   "source": [
    "df_top100_view = df_country[:][:100]\n",
    "top100view_counter = Counter(df_top100_view.originCountry[:100])\n",
    "top100view_counter"
   ]
  },
  {
   "cell_type": "code",
   "execution_count": 78,
   "id": "82a63820",
   "metadata": {
    "ExecuteTime": {
     "end_time": "2021-07-14T10:31:35.124025Z",
     "start_time": "2021-07-14T10:31:35.117963Z"
    }
   },
   "outputs": [
    {
     "data": {
      "text/plain": [
       "Counter({'United States': 308,\n",
       "         'Poland': 4,\n",
       "         'Mexico': 12,\n",
       "         'United Kingdom': 34,\n",
       "         'Colombia': 7,\n",
       "         'Canada': 10,\n",
       "         'Germany': 7,\n",
       "         'South Korea': 21,\n",
       "         'Spain': 18,\n",
       "         'China': 2,\n",
       "         'France': 12,\n",
       "         'Russia': 1,\n",
       "         'Italy': 9,\n",
       "         'Turkey': 6,\n",
       "         'Japan': 9,\n",
       "         'Angola': 1,\n",
       "         'Denmark': 1,\n",
       "         'Sweden': 1,\n",
       "         'Austria': 2,\n",
       "         'Belgium': 2,\n",
       "         'Ireland': 1,\n",
       "         'Brazil': 4,\n",
       "         'South Africa': 1,\n",
       "         'Norway': 2,\n",
       "         'India': 11,\n",
       "         'Egypt': 2,\n",
       "         'Hong-Kong': 2,\n",
       "         'Argentina': 4,\n",
       "         'Philippines': 1,\n",
       "         'Nigeria': 1,\n",
       "         'Australia': 1,\n",
       "         'Taiwan': 1,\n",
       "         'Lebanon': 1,\n",
       "         'Slovakia': 1})"
      ]
     },
     "execution_count": 78,
     "metadata": {},
     "output_type": "execute_result"
    }
   ],
   "source": [
    "df_top500_view = df_country[:][:500]\n",
    "top500view_counter = Counter(df_top500_view.originCountry[:500])\n",
    "top500view_counter"
   ]
  },
  {
   "cell_type": "code",
   "execution_count": 83,
   "id": "4fa73a37",
   "metadata": {
    "ExecuteTime": {
     "end_time": "2021-07-14T10:33:25.058951Z",
     "start_time": "2021-07-14T10:33:25.052334Z"
    }
   },
   "outputs": [
    {
     "data": {
      "text/plain": [
       "Counter({'United States': 618,\n",
       "         'Poland': 8,\n",
       "         'Mexico': 16,\n",
       "         'United Kingdom': 58,\n",
       "         'Colombia': 10,\n",
       "         'Canada': 19,\n",
       "         'Germany': 12,\n",
       "         'South Korea': 47,\n",
       "         'Spain': 23,\n",
       "         'China': 7,\n",
       "         'France': 21,\n",
       "         'Russia': 1,\n",
       "         'Italy': 12,\n",
       "         'Turkey': 13,\n",
       "         'Japan': 26,\n",
       "         'Angola': 1,\n",
       "         'Denmark': 4,\n",
       "         'Sweden': 2,\n",
       "         'Austria': 2,\n",
       "         'Belgium': 3,\n",
       "         'Ireland': 1,\n",
       "         'Brazil': 7,\n",
       "         'South Africa': 7,\n",
       "         'Norway': 3,\n",
       "         'India': 26,\n",
       "         'Egypt': 5,\n",
       "         'Hong-Kong': 2,\n",
       "         'Argentina': 8,\n",
       "         'Philippines': 3,\n",
       "         'Nigeria': 6,\n",
       "         'Australia': 3,\n",
       "         'Taiwan': 4,\n",
       "         'Lebanon': 2,\n",
       "         'Slovakia': 2,\n",
       "         'Kuwait': 1,\n",
       "         'Israel': 1,\n",
       "         'Thailand': 3,\n",
       "         'Romania': 2,\n",
       "         'Netherlands': 1,\n",
       "         'Iceland': 1,\n",
       "         'Czech Republic': 3,\n",
       "         'Switzerland': 2,\n",
       "         'Chile': 1,\n",
       "         'Dominican Republic': 1,\n",
       "         'Finland': 1,\n",
       "         'Vietnam': 1})"
      ]
     },
     "execution_count": 83,
     "metadata": {},
     "output_type": "execute_result"
    }
   ],
   "source": [
    "df_top1000_view = df_country[:][:1000]\n",
    "top1000view_counter = Counter(df_top1000_view.originCountry[:1000])\n",
    "top1000view_counter"
   ]
  },
  {
   "cell_type": "code",
   "execution_count": 73,
   "id": "0488854b",
   "metadata": {
    "ExecuteTime": {
     "end_time": "2021-07-14T10:25:50.864689Z",
     "start_time": "2021-07-14T10:25:50.821111Z"
    }
   },
   "outputs": [
    {
     "ename": "TypeError",
     "evalue": "'method' object is not iterable",
     "output_type": "error",
     "traceback": [
      "\u001b[0;31m---------------------------------------------------------------------------\u001b[0m",
      "\u001b[0;31mTypeError\u001b[0m                                 Traceback (most recent call last)",
      "\u001b[0;32m<ipython-input-73-96e5abd87345>\u001b[0m in \u001b[0;36m<module>\u001b[0;34m\u001b[0m\n\u001b[0;32m----> 1\u001b[0;31m \u001b[0mtot_show\u001b[0m \u001b[0;34m=\u001b[0m \u001b[0msum\u001b[0m\u001b[0;34m(\u001b[0m\u001b[0mdf_view_top100\u001b[0m\u001b[0;34m.\u001b[0m\u001b[0moriginCountry\u001b[0m\u001b[0;34m.\u001b[0m\u001b[0mvalue_counts\u001b[0m\u001b[0;34m)\u001b[0m\u001b[0;34m\u001b[0m\u001b[0;34m\u001b[0m\u001b[0m\n\u001b[0m\u001b[1;32m      2\u001b[0m \u001b[0mtop100_show\u001b[0m \u001b[0;34m=\u001b[0m \u001b[0msum\u001b[0m\u001b[0;34m(\u001b[0m\u001b[0mdf_view_top100\u001b[0m\u001b[0;34m.\u001b[0m\u001b[0moriginCountry\u001b[0m\u001b[0;34m.\u001b[0m\u001b[0mvalue_counts\u001b[0m\u001b[0;34m[\u001b[0m\u001b[0;34m:\u001b[0m\u001b[0;34m]\u001b[0m\u001b[0;34m)\u001b[0m\u001b[0;34m\u001b[0m\u001b[0;34m\u001b[0m\u001b[0m\n\u001b[1;32m      3\u001b[0m \u001b[0;34m\u001b[0m\u001b[0m\n\u001b[1;32m      4\u001b[0m \u001b[0mprint\u001b[0m\u001b[0;34m(\u001b[0m\u001b[0;34mf'total : {tot_show}'\u001b[0m\u001b[0;34m)\u001b[0m\u001b[0;34m\u001b[0m\u001b[0;34m\u001b[0m\u001b[0m\n\u001b[1;32m      5\u001b[0m \u001b[0mprint\u001b[0m\u001b[0;34m(\u001b[0m\u001b[0;34mf'top 10_titles_country  : {top10_show}'\u001b[0m\u001b[0;34m)\u001b[0m\u001b[0;34m\u001b[0m\u001b[0;34m\u001b[0m\u001b[0m\n",
      "\u001b[0;31mTypeError\u001b[0m: 'method' object is not iterable"
     ]
    }
   ],
   "source": [
    "tot_show = sum(df_view_top100.originCountry.value_counts)\n",
    "top100_show = sum(df_view_top100.originCountry.value_counts[:])\n",
    "\n",
    "print(f'total : {tot_show}')\n",
    "print(f'top 10_titles_country  : {top10_show}')\n",
    "print(f'percentage : {top10_show}/{tot_show} = {100 * top10_show/tot_show}')"
   ]
  },
  {
   "cell_type": "code",
   "execution_count": null,
   "id": "e0a7726c",
   "metadata": {},
   "outputs": [],
   "source": [
    "전체 영화 2754개중에 2059개를 2020년 netflix top 10 흥행작을 만든 국가들이 만들었다.\n",
    "그 중 단연 1위는 United States고, 그 외로 Poland, Mexico, United Kingdom, Colombia, Canada, Germany, South Korea, Spain, China\n",
    "이 순서대로 만들었다."
   ]
  },
  {
   "cell_type": "code",
   "execution_count": 64,
   "id": "8301aea4",
   "metadata": {
    "ExecuteTime": {
     "end_time": "2021-07-14T10:06:48.154103Z",
     "start_time": "2021-07-14T10:06:47.778489Z"
    }
   },
   "outputs": [
    {
     "data": {
      "image/png": "[encoded data removed]",
      "text/plain": [
       "<Figure size 1440x432 with 2 Axes>"
      ]
     },
     "metadata": {
      "needs_background": "light"
     },
     "output_type": "display_data"
    }
   ],
   "source": [
    "from matplotlib import gridspec\n",
    "\n",
    "fig = plt.figure(figsize=(20, 6))\n",
    "gs = gridspec.GridSpec(nrows=1, ncols=2,\n",
    "                       height_ratios=[6], \n",
    "                       width_ratios=[10, 5])\n",
    "\n",
    "ax = plt.subplot(gs[0])\n",
    "sns.barplot(df_view_top10['Country'], df_view_top10['counts'], ax=ax, palette=\"RdGy\")\n",
    "ax.set_xticklabels(df_view_top10['Country'], rotation='90')\n",
    "ax.set_title('Top 10 popular titles : origin of country', fontsize=15, fontweight='bold', pad = 15)\n",
    "\n",
    "explode = [0 for _ in range(10)]\n",
    "explode[0] = 0.06\n",
    "\n",
    "ax2 = plt.subplot(gs[1])\n",
    "ax2.pie(df_view_top10['counts'], labels=top10_country['Country'], #1번째 인기콘텐츠의 생산지는 미국, 2번째 인기콘텐츠의 생산지는 폴란드 ..\n",
    "        shadow=True, startangle=0, explode=explode,\n",
    "        colors=sns.color_palette(\"RdGy\", n_colors=10),textprops={'fontsize':13}\n",
    "       )\n",
    "ax2.axis('equal') \n",
    "\n",
    "plt.show()"
   ]
  },
  {
   "cell_type": "code",
   "execution_count": 69,
   "id": "5207b87f",
   "metadata": {
    "ExecuteTime": {
     "end_time": "2021-07-14T10:11:48.695462Z",
     "start_time": "2021-07-14T10:11:48.517913Z"
    }
   },
   "outputs": [
    {
     "data": {
      "image/png": "[encoded data removed]",
      "text/plain": [
       "<Figure size 1440x1080 with 1 Axes>"
      ]
     },
     "metadata": {
      "needs_background": "light"
     },
     "output_type": "display_data"
    }
   ],
   "source": [
    "import squarify\n",
    "\n",
    "fig = plt.figure(figsize=(20,15))\n",
    "squarify.plot(sizes = df_view_top10['counts'], label = df_view_top10['Country'], color=sns.color_palette(\"RdGy\", n_colors=10),\n",
    "             linewidth=4, text_kwargs={'fontsize':15, 'fontweight' : 'bold'})\n",
    "plt.title('Top 10 popular titles : origin of country', position=(0.5, 1.0+0.03), fontsize = 30, fontweight='bold', pad=20)\n",
    "plt.axis('off')\n",
    "plt.show()"
   ]
  },
  {
   "cell_type": "code",
   "execution_count": 21,
   "id": "0d981c58",
   "metadata": {
    "ExecuteTime": {
     "end_time": "2021-07-14T09:36:48.871277Z",
     "start_time": "2021-07-14T09:36:48.868617Z"
    }
   },
   "outputs": [],
   "source": [
    "# value 내림차순 기준 top 100 영화의 생산국가 추출\n",
    "df_view_top100=df_country[:][:100]"
   ]
  },
  {
   "cell_type": "code",
   "execution_count": 22,
   "id": "545ef3f4",
   "metadata": {
    "ExecuteTime": {
     "end_time": "2021-07-14T09:36:50.018915Z",
     "start_time": "2021-07-14T09:36:50.015747Z"
    }
   },
   "outputs": [],
   "source": [
    "value = list(df_country.Value)\n",
    "country_count_list = list(df_country.originCountry.values)"
   ]
  },
  {
   "cell_type": "code",
   "execution_count": 24,
   "id": "05ba826b",
   "metadata": {
    "ExecuteTime": {
     "end_time": "2021-07-14T09:37:26.356239Z",
     "start_time": "2021-07-14T09:37:26.353671Z"
    }
   },
   "outputs": [],
   "source": [
    "# view 기준 top100 생산국가 count"
   ]
  },
  {
   "cell_type": "code",
   "execution_count": 25,
   "id": "3f7b54ca",
   "metadata": {
    "ExecuteTime": {
     "end_time": "2021-07-14T09:37:26.736437Z",
     "start_time": "2021-07-14T09:37:26.733891Z"
    }
   },
   "outputs": [],
   "source": [
    "dfdf_top100=Counter(df_view_top100)"
   ]
  },
  {
   "cell_type": "code",
   "execution_count": 26,
   "id": "ae325e46",
   "metadata": {
    "ExecuteTime": {
     "end_time": "2021-07-14T09:37:29.037395Z",
     "start_time": "2021-07-14T09:37:29.031074Z"
    }
   },
   "outputs": [
    {
     "data": {
      "text/plain": [
       "Counter({'United States': 1570,\n",
       "         'Poland': 27,\n",
       "         'Mexico': 21,\n",
       "         'United Kingdom': 177,\n",
       "         'Colombia': 16,\n",
       "         'Canada': 52,\n",
       "         'Germany': 31,\n",
       "         'South Korea': 108,\n",
       "         'Spain': 43,\n",
       "         'China': 14,\n",
       "         'France': 73,\n",
       "         'Russia': 3,\n",
       "         'Italy': 26,\n",
       "         'Turkey': 39,\n",
       "         'Japan': 126,\n",
       "         'Angola': 1,\n",
       "         'Denmark': 10,\n",
       "         'Sweden': 3,\n",
       "         'Austria': 4,\n",
       "         'Belgium': 7,\n",
       "         'Ireland': 6,\n",
       "         'Brazil': 14,\n",
       "         'South Africa': 16,\n",
       "         'Norway': 6,\n",
       "         'India': 82,\n",
       "         'Egypt': 14,\n",
       "         'Hong-Kong': 17,\n",
       "         'Argentina': 10,\n",
       "         'Philippines': 39,\n",
       "         'Nigeria': 33,\n",
       "         'Australia': 27,\n",
       "         'Taiwan': 10,\n",
       "         'Lebanon': 4,\n",
       "         'Slovakia': 2,\n",
       "         'Kuwait': 2,\n",
       "         'Israel': 4,\n",
       "         'Thailand': 26,\n",
       "         'Romania': 5,\n",
       "         'Netherlands': 6,\n",
       "         'Iceland': 2,\n",
       "         'Czech Republic': 20,\n",
       "         'Switzerland': 4,\n",
       "         'Chile': 5,\n",
       "         'Dominican Republic': 1,\n",
       "         'Finland': 3,\n",
       "         'Vietnam': 1,\n",
       "         'Uruguay': 3,\n",
       "         'Bulgaria': 1,\n",
       "         'Indonesia': 11,\n",
       "         'Peru': 1,\n",
       "         'Malaysia': 5,\n",
       "         'Singapore': 3,\n",
       "         'Bangladesh': 1,\n",
       "         'United Arab Emirates': 2,\n",
       "         'Kenya': 1,\n",
       "         'Georgia': 1,\n",
       "         'Cyprus': 1,\n",
       "         'Portugal': 1,\n",
       "         'Croatia': 1,\n",
       "         'Hungary': 4,\n",
       "         'Serbia': 1,\n",
       "         'New Zealand': 2,\n",
       "         'Luxembourg': 1,\n",
       "         'Saudi Arabia': 3,\n",
       "         'Zimbabwe': 1})"
      ]
     },
     "execution_count": 26,
     "metadata": {},
     "output_type": "execute_result"
    }
   ],
   "source": [
    "# 전체 데이터셋에서 생산국가별 영화 갯수\n",
    "country_counter = Counter(df_country.originCountry)\n",
    "country_counter"
   ]
  },
  {
   "cell_type": "code",
   "execution_count": 27,
   "id": "0844d99a",
   "metadata": {
    "ExecuteTime": {
     "end_time": "2021-07-14T09:37:30.552917Z",
     "start_time": "2021-07-14T09:37:30.540158Z"
    }
   },
   "outputs": [
    {
     "data": {
      "text/html": [
       "<div>\n",
       "<style scoped>\n",
       "    .dataframe tbody tr th:only-of-type {\n",
       "        vertical-align: middle;\n",
       "    }\n",
       "\n",
       "    .dataframe tbody tr th {\n",
       "        vertical-align: top;\n",
       "    }\n",
       "\n",
       "    .dataframe thead th {\n",
       "        text-align: right;\n",
       "    }\n",
       "</style>\n",
       "<table border=\"1\" class=\"dataframe\">\n",
       "  <thead>\n",
       "    <tr style=\"text-align: right;\">\n",
       "      <th></th>\n",
       "      <th>index</th>\n",
       "      <th>counts</th>\n",
       "    </tr>\n",
       "  </thead>\n",
       "  <tbody>\n",
       "    <tr>\n",
       "      <th>0</th>\n",
       "      <td>United States</td>\n",
       "      <td>1570</td>\n",
       "    </tr>\n",
       "    <tr>\n",
       "      <th>1</th>\n",
       "      <td>Poland</td>\n",
       "      <td>27</td>\n",
       "    </tr>\n",
       "    <tr>\n",
       "      <th>2</th>\n",
       "      <td>Mexico</td>\n",
       "      <td>21</td>\n",
       "    </tr>\n",
       "    <tr>\n",
       "      <th>3</th>\n",
       "      <td>United Kingdom</td>\n",
       "      <td>177</td>\n",
       "    </tr>\n",
       "    <tr>\n",
       "      <th>4</th>\n",
       "      <td>Colombia</td>\n",
       "      <td>16</td>\n",
       "    </tr>\n",
       "    <tr>\n",
       "      <th>...</th>\n",
       "      <td>...</td>\n",
       "      <td>...</td>\n",
       "    </tr>\n",
       "    <tr>\n",
       "      <th>60</th>\n",
       "      <td>Serbia</td>\n",
       "      <td>1</td>\n",
       "    </tr>\n",
       "    <tr>\n",
       "      <th>61</th>\n",
       "      <td>New Zealand</td>\n",
       "      <td>2</td>\n",
       "    </tr>\n",
       "    <tr>\n",
       "      <th>62</th>\n",
       "      <td>Luxembourg</td>\n",
       "      <td>1</td>\n",
       "    </tr>\n",
       "    <tr>\n",
       "      <th>63</th>\n",
       "      <td>Saudi Arabia</td>\n",
       "      <td>3</td>\n",
       "    </tr>\n",
       "    <tr>\n",
       "      <th>64</th>\n",
       "      <td>Zimbabwe</td>\n",
       "      <td>1</td>\n",
       "    </tr>\n",
       "  </tbody>\n",
       "</table>\n",
       "<p>65 rows × 2 columns</p>\n",
       "</div>"
      ],
      "text/plain": [
       "             index  counts\n",
       "0    United States    1570\n",
       "1           Poland      27\n",
       "2           Mexico      21\n",
       "3   United Kingdom     177\n",
       "4         Colombia      16\n",
       "..             ...     ...\n",
       "60          Serbia       1\n",
       "61     New Zealand       2\n",
       "62      Luxembourg       1\n",
       "63    Saudi Arabia       3\n",
       "64        Zimbabwe       1\n",
       "\n",
       "[65 rows x 2 columns]"
      ]
     },
     "execution_count": 27,
     "metadata": {},
     "output_type": "execute_result"
    }
   ],
   "source": [
    "df_view_country=pd.DataFrame.from_dict(country_counter, orient='index', columns=['counts'])\n",
    "df_view_country=df_view_country.reset_index()\n",
    "df_view_country"
   ]
  },
  {
   "cell_type": "code",
   "execution_count": 28,
   "id": "1e4829a1",
   "metadata": {
    "ExecuteTime": {
     "end_time": "2021-07-14T09:37:35.206476Z",
     "start_time": "2021-07-14T09:37:35.198125Z"
    }
   },
   "outputs": [
    {
     "data": {
      "text/html": [
       "<div>\n",
       "<style scoped>\n",
       "    .dataframe tbody tr th:only-of-type {\n",
       "        vertical-align: middle;\n",
       "    }\n",
       "\n",
       "    .dataframe tbody tr th {\n",
       "        vertical-align: top;\n",
       "    }\n",
       "\n",
       "    .dataframe thead th {\n",
       "        text-align: right;\n",
       "    }\n",
       "</style>\n",
       "<table border=\"1\" class=\"dataframe\">\n",
       "  <thead>\n",
       "    <tr style=\"text-align: right;\">\n",
       "      <th></th>\n",
       "      <th>Country</th>\n",
       "      <th>counts</th>\n",
       "    </tr>\n",
       "  </thead>\n",
       "  <tbody>\n",
       "    <tr>\n",
       "      <th>0</th>\n",
       "      <td>United States</td>\n",
       "      <td>1570</td>\n",
       "    </tr>\n",
       "  </tbody>\n",
       "</table>\n",
       "</div>"
      ],
      "text/plain": [
       "         Country  counts\n",
       "0  United States    1570"
      ]
     },
     "execution_count": 28,
     "metadata": {},
     "output_type": "execute_result"
    }
   ],
   "source": [
    "df_view_country=df_view_country.rename(columns={'index':'Country'})\n",
    "df_view_country.head(1)"
   ]
  },
  {
   "cell_type": "code",
   "execution_count": 29,
   "id": "af34f7b2",
   "metadata": {
    "ExecuteTime": {
     "end_time": "2021-07-14T09:37:36.150881Z",
     "start_time": "2021-07-14T09:37:36.142738Z"
    }
   },
   "outputs": [
    {
     "data": {
      "text/html": [
       "<div>\n",
       "<style scoped>\n",
       "    .dataframe tbody tr th:only-of-type {\n",
       "        vertical-align: middle;\n",
       "    }\n",
       "\n",
       "    .dataframe tbody tr th {\n",
       "        vertical-align: top;\n",
       "    }\n",
       "\n",
       "    .dataframe thead th {\n",
       "        text-align: right;\n",
       "    }\n",
       "</style>\n",
       "<table border=\"1\" class=\"dataframe\">\n",
       "  <thead>\n",
       "    <tr style=\"text-align: right;\">\n",
       "      <th></th>\n",
       "      <th>Country</th>\n",
       "      <th>counts</th>\n",
       "    </tr>\n",
       "  </thead>\n",
       "  <tbody>\n",
       "    <tr>\n",
       "      <th>0</th>\n",
       "      <td>United States</td>\n",
       "      <td>1570</td>\n",
       "    </tr>\n",
       "    <tr>\n",
       "      <th>1</th>\n",
       "      <td>Poland</td>\n",
       "      <td>27</td>\n",
       "    </tr>\n",
       "    <tr>\n",
       "      <th>2</th>\n",
       "      <td>Mexico</td>\n",
       "      <td>21</td>\n",
       "    </tr>\n",
       "    <tr>\n",
       "      <th>3</th>\n",
       "      <td>United Kingdom</td>\n",
       "      <td>177</td>\n",
       "    </tr>\n",
       "    <tr>\n",
       "      <th>4</th>\n",
       "      <td>Colombia</td>\n",
       "      <td>16</td>\n",
       "    </tr>\n",
       "    <tr>\n",
       "      <th>5</th>\n",
       "      <td>Canada</td>\n",
       "      <td>52</td>\n",
       "    </tr>\n",
       "    <tr>\n",
       "      <th>6</th>\n",
       "      <td>Germany</td>\n",
       "      <td>31</td>\n",
       "    </tr>\n",
       "    <tr>\n",
       "      <th>7</th>\n",
       "      <td>South Korea</td>\n",
       "      <td>108</td>\n",
       "    </tr>\n",
       "    <tr>\n",
       "      <th>8</th>\n",
       "      <td>Spain</td>\n",
       "      <td>43</td>\n",
       "    </tr>\n",
       "    <tr>\n",
       "      <th>9</th>\n",
       "      <td>China</td>\n",
       "      <td>14</td>\n",
       "    </tr>\n",
       "    <tr>\n",
       "      <th>10</th>\n",
       "      <td>France</td>\n",
       "      <td>73</td>\n",
       "    </tr>\n",
       "    <tr>\n",
       "      <th>11</th>\n",
       "      <td>Russia</td>\n",
       "      <td>3</td>\n",
       "    </tr>\n",
       "    <tr>\n",
       "      <th>12</th>\n",
       "      <td>Italy</td>\n",
       "      <td>26</td>\n",
       "    </tr>\n",
       "    <tr>\n",
       "      <th>13</th>\n",
       "      <td>Turkey</td>\n",
       "      <td>39</td>\n",
       "    </tr>\n",
       "    <tr>\n",
       "      <th>14</th>\n",
       "      <td>Japan</td>\n",
       "      <td>126</td>\n",
       "    </tr>\n",
       "    <tr>\n",
       "      <th>15</th>\n",
       "      <td>Angola</td>\n",
       "      <td>1</td>\n",
       "    </tr>\n",
       "    <tr>\n",
       "      <th>16</th>\n",
       "      <td>Denmark</td>\n",
       "      <td>10</td>\n",
       "    </tr>\n",
       "    <tr>\n",
       "      <th>17</th>\n",
       "      <td>Sweden</td>\n",
       "      <td>3</td>\n",
       "    </tr>\n",
       "    <tr>\n",
       "      <th>18</th>\n",
       "      <td>Austria</td>\n",
       "      <td>4</td>\n",
       "    </tr>\n",
       "    <tr>\n",
       "      <th>19</th>\n",
       "      <td>Belgium</td>\n",
       "      <td>7</td>\n",
       "    </tr>\n",
       "  </tbody>\n",
       "</table>\n",
       "</div>"
      ],
      "text/plain": [
       "           Country  counts\n",
       "0    United States    1570\n",
       "1           Poland      27\n",
       "2           Mexico      21\n",
       "3   United Kingdom     177\n",
       "4         Colombia      16\n",
       "5           Canada      52\n",
       "6          Germany      31\n",
       "7      South Korea     108\n",
       "8            Spain      43\n",
       "9            China      14\n",
       "10          France      73\n",
       "11          Russia       3\n",
       "12           Italy      26\n",
       "13          Turkey      39\n",
       "14           Japan     126\n",
       "15          Angola       1\n",
       "16         Denmark      10\n",
       "17          Sweden       3\n",
       "18         Austria       4\n",
       "19         Belgium       7"
      ]
     },
     "execution_count": 29,
     "metadata": {},
     "output_type": "execute_result"
    }
   ],
   "source": [
    "df_view_top20 = df_view_country[:][:20]\n",
    "df_view_top20"
   ]
  },
  {
   "cell_type": "markdown",
   "id": "2b72ebd0",
   "metadata": {},
   "source": [
    "##"
   ]
  },
  {
   "cell_type": "code",
   "execution_count": 30,
   "id": "3d586baf",
   "metadata": {
    "ExecuteTime": {
     "end_time": "2021-07-14T09:37:53.885787Z",
     "start_time": "2021-07-14T09:37:53.878795Z"
    },
    "code_folding": []
   },
   "outputs": [],
   "source": [
    "# 전체 데이터셋 count를 내림 차순 정렬 \n",
    "df_count_country=pd.DataFrame.from_dict(country_counter, orient='index', columns=['counts'])\n",
    "df_count_country.sort_values('counts', ascending=False, inplace=True)\n",
    "df_count_country=df_count_country.reset_index()\n",
    "df_count_country['Country']=df_count_country['index']\n",
    "df_count_country=df_count_country[['Country','counts']]"
   ]
  },
  {
   "cell_type": "code",
   "execution_count": 34,
   "id": "5cc826fd",
   "metadata": {
    "ExecuteTime": {
     "end_time": "2021-07-14T09:41:42.932481Z",
     "start_time": "2021-07-14T09:41:42.927954Z"
    }
   },
   "outputs": [
    {
     "name": "stdout",
     "output_type": "stream",
     "text": [
      "total : 2754\n",
      "top 10 countries : 2309\n",
      "percentage : 2309/2754 = 83.84168482207699\n"
     ]
    }
   ],
   "source": [
    "tot = sum(df_count_country.counts)\n",
    "top10 = sum(df_count_country.counts[:10])\n",
    "\n",
    "print(f'total : {tot}')\n",
    "print(f'top 10 countries : {top10}')\n",
    "print(f'percentage : {top10}/{tot} = {100 * top10/tot}')"
   ]
  },
  {
   "cell_type": "code",
   "execution_count": 35,
   "id": "0cf4ab89",
   "metadata": {
    "ExecuteTime": {
     "end_time": "2021-07-14T09:41:43.880246Z",
     "start_time": "2021-07-14T09:41:43.871279Z"
    }
   },
   "outputs": [
    {
     "data": {
      "text/html": [
       "<div>\n",
       "<style scoped>\n",
       "    .dataframe tbody tr th:only-of-type {\n",
       "        vertical-align: middle;\n",
       "    }\n",
       "\n",
       "    .dataframe tbody tr th {\n",
       "        vertical-align: top;\n",
       "    }\n",
       "\n",
       "    .dataframe thead th {\n",
       "        text-align: right;\n",
       "    }\n",
       "</style>\n",
       "<table border=\"1\" class=\"dataframe\">\n",
       "  <thead>\n",
       "    <tr style=\"text-align: right;\">\n",
       "      <th></th>\n",
       "      <th>Country</th>\n",
       "      <th>counts</th>\n",
       "    </tr>\n",
       "  </thead>\n",
       "  <tbody>\n",
       "    <tr>\n",
       "      <th>0</th>\n",
       "      <td>United States</td>\n",
       "      <td>1570</td>\n",
       "    </tr>\n",
       "    <tr>\n",
       "      <th>1</th>\n",
       "      <td>United Kingdom</td>\n",
       "      <td>177</td>\n",
       "    </tr>\n",
       "    <tr>\n",
       "      <th>2</th>\n",
       "      <td>Japan</td>\n",
       "      <td>126</td>\n",
       "    </tr>\n",
       "    <tr>\n",
       "      <th>3</th>\n",
       "      <td>South Korea</td>\n",
       "      <td>108</td>\n",
       "    </tr>\n",
       "    <tr>\n",
       "      <th>4</th>\n",
       "      <td>India</td>\n",
       "      <td>82</td>\n",
       "    </tr>\n",
       "    <tr>\n",
       "      <th>...</th>\n",
       "      <td>...</td>\n",
       "      <td>...</td>\n",
       "    </tr>\n",
       "    <tr>\n",
       "      <th>60</th>\n",
       "      <td>Angola</td>\n",
       "      <td>1</td>\n",
       "    </tr>\n",
       "    <tr>\n",
       "      <th>61</th>\n",
       "      <td>Peru</td>\n",
       "      <td>1</td>\n",
       "    </tr>\n",
       "    <tr>\n",
       "      <th>62</th>\n",
       "      <td>Dominican Republic</td>\n",
       "      <td>1</td>\n",
       "    </tr>\n",
       "    <tr>\n",
       "      <th>63</th>\n",
       "      <td>Bulgaria</td>\n",
       "      <td>1</td>\n",
       "    </tr>\n",
       "    <tr>\n",
       "      <th>64</th>\n",
       "      <td>Zimbabwe</td>\n",
       "      <td>1</td>\n",
       "    </tr>\n",
       "  </tbody>\n",
       "</table>\n",
       "<p>65 rows × 2 columns</p>\n",
       "</div>"
      ],
      "text/plain": [
       "               Country  counts\n",
       "0        United States    1570\n",
       "1       United Kingdom     177\n",
       "2                Japan     126\n",
       "3          South Korea     108\n",
       "4                India      82\n",
       "..                 ...     ...\n",
       "60              Angola       1\n",
       "61                Peru       1\n",
       "62  Dominican Republic       1\n",
       "63            Bulgaria       1\n",
       "64            Zimbabwe       1\n",
       "\n",
       "[65 rows x 2 columns]"
      ]
     },
     "execution_count": 35,
     "metadata": {},
     "output_type": "execute_result"
    }
   ],
   "source": [
    "df_count_country"
   ]
  },
  {
   "cell_type": "code",
   "execution_count": 43,
   "id": "a356363f",
   "metadata": {
    "ExecuteTime": {
     "end_time": "2021-07-14T09:44:53.869220Z",
     "start_time": "2021-07-14T09:44:53.866133Z"
    }
   },
   "outputs": [],
   "source": [
    "top10_country=df_count_country[:][:10]"
   ]
  },
  {
   "cell_type": "code",
   "execution_count": 47,
   "id": "ee6e0e65",
   "metadata": {
    "ExecuteTime": {
     "end_time": "2021-07-14T09:46:08.954944Z",
     "start_time": "2021-07-14T09:46:08.951046Z"
    }
   },
   "outputs": [
    {
     "data": {
      "text/plain": [
       "pandas.core.frame.DataFrame"
      ]
     },
     "execution_count": 47,
     "metadata": {},
     "output_type": "execute_result"
    }
   ],
   "source": [
    "type(top10_country)"
   ]
  },
  {
   "cell_type": "code",
   "execution_count": 53,
   "id": "a3a5a102",
   "metadata": {
    "ExecuteTime": {
     "end_time": "2021-07-14T09:52:21.423369Z",
     "start_time": "2021-07-14T09:52:21.041304Z"
    }
   },
   "outputs": [
    {
     "data": {
      "image/png": "[encoded data removed]",
      "text/plain": [
       "<Figure size 1440x432 with 2 Axes>"
      ]
     },
     "metadata": {
      "needs_background": "light"
     },
     "output_type": "display_data"
    }
   ],
   "source": [
    "from matplotlib import gridspec\n",
    "\n",
    "fig = plt.figure(figsize=(20, 6))\n",
    "gs = gridspec.GridSpec(nrows=1, ncols=2,\n",
    "                       height_ratios=[6], \n",
    "                       width_ratios=[10, 5])\n",
    "\n",
    "ax = plt.subplot(gs[0])\n",
    "sns.barplot(top10_country['Country'], top10_country['counts'], ax=ax, palette=\"RdGy\")\n",
    "ax.set_xticklabels(top10_country['Country'], rotation='90')\n",
    "ax.set_title('Top 10 producing countries', fontsize=15, fontweight='bold', pad = 15)\n",
    "\n",
    "explode = [0 for _ in range(10)]\n",
    "explode[0] = 0.06\n",
    "\n",
    "ax2 = plt.subplot(gs[1])\n",
    "ax2.pie(top10_country['counts'], labels=top10_country['Country'],\n",
    "        shadow=True, startangle=0, explode=explode,\n",
    "        colors=sns.color_palette(\"RdGy\", n_colors=10),textprops={'fontsize':13}\n",
    "       )\n",
    "ax2.axis('equal') \n",
    "\n",
    "plt.show()"
   ]
  },
  {
   "cell_type": "code",
   "execution_count": 59,
   "id": "5c9f724b",
   "metadata": {
    "ExecuteTime": {
     "end_time": "2021-07-14T09:54:47.607805Z",
     "start_time": "2021-07-14T09:54:47.427412Z"
    }
   },
   "outputs": [
    {
     "data": {
      "image/png": "[encoded data removed]",
      "text/plain": [
       "<Figure size 1440x1080 with 1 Axes>"
      ]
     },
     "metadata": {
      "needs_background": "light"
     },
     "output_type": "display_data"
    }
   ],
   "source": [
    "import squarify\n",
    "\n",
    "fig = plt.figure(figsize=(20,15))\n",
    "squarify.plot(sizes = top10_country['counts'], label = top10_country['Country'], color=sns.color_palette(\"RdGy\", n_colors=10),\n",
    "             linewidth=4, text_kwargs={'fontsize':18, 'fontweight' : 'bold'})\n",
    "plt.title('Top 10 producing countries', position=(0.5, 1.0+0.03), fontsize = 30, fontweight='bold', pad=20)\n",
    "plt.axis('off')\n",
    "plt.show()"
   ]
  },
  {
   "cell_type": "markdown",
   "id": "6881db81",
   "metadata": {
    "ExecuteTime": {
     "end_time": "2021-07-14T08:41:23.973906Z",
     "start_time": "2021-07-14T08:41:23.134919Z"
    }
   },
   "source": [
    "- 쓸지 말지 고민중\n",
    "from matplotlib import gridspec\n",
    "import matplotlib\n",
    "import matplotlib.pyplot as plt\n",
    "\n",
    "\n",
    "\n",
    "fig = plt.figure(figsize=(20,5))\n",
    "gs = gridspec.GridSpec(nrows=1, ncols=1)\n",
    "                       #height_ratios=[1, 0.7]) \n",
    "                       #width_ratios=[17, 17])\n",
    "\n",
    "ax = plt.subplot(gs[0])\n",
    "sns.barplot(df_count_country['Country'], df_count_country['counts'], ax=ax, palette=\"RdGy\")\n",
    "ax.set_xticklabels(df_count_country['Country'], rotation='90')\n",
    "ax.set_title('origin of country',fontsize=30, fontweight='bold', pad=20)\n",
    "matplotlib.rc('xtick', labelsize=15) \n",
    "matplotlib.rc('ytick', labelsize=15)\n",
    "plt.show()"
   ]
  },
  {
   "cell_type": "markdown",
   "id": "648da89e",
   "metadata": {
    "ExecuteTime": {
     "end_time": "2021-07-14T08:37:02.135403Z",
     "start_time": "2021-07-14T08:37:01.636071Z"
    }
   },
   "source": [
    "- 쓸지 말지 고민중\n",
    "import squarify\n",
    "\n",
    "fig = plt.figure(figsize=(30,15))\n",
    "squarify.plot(sizes = df_count_country['counts'], label = df_count_country['Country'], color=sns.color_palette(\"RdGy\", n_colors=10),\n",
    "             linewidth=4, text_kwargs={'fontsize':15, 'fontweight' : 'bold'})\n",
    "plt.title('origin of country', position=(0.5, 1.0+0.03), fontsize = 20, fontweight='bold', pad=20)\n",
    "plt.axis('off')\n",
    "plt.show()"
   ]
  },
  {
   "cell_type": "code",
   "execution_count": 57,
   "id": "b8c2ce89",
   "metadata": {
    "ExecuteTime": {
     "end_time": "2021-07-14T08:41:56.603766Z",
     "start_time": "2021-07-14T08:41:56.274839Z"
    }
   },
   "outputs": [
    {
     "data": {
      "image/png": "[encoded data removed]",
      "text/plain": [
       "<Figure size 1440x1080 with 1 Axes>"
      ]
     },
     "metadata": {
      "needs_background": "light"
     },
     "output_type": "display_data"
    }
   ],
   "source": [
    "from matplotlib import gridspec\n",
    "import matplotlib\n",
    "import matplotlib.pyplot as plt\n",
    "\n",
    "\n",
    "\n",
    "# 전체 데이터 셋에서 viewpoint 기준 originCountry top100 태그들의 분포\n",
    "\n",
    "fig = plt.figure(figsize=(20,15))\n",
    "gs = gridspec.GridSpec(nrows=1, ncols=1)\n",
    "                       #height_ratios=[1, 0.7]) \n",
    "                       #width_ratios=[17, 17])\n",
    "\n",
    "ax = plt.subplot(gs[0])\n",
    "sns.barplot(df_view_top20['Country'], df_view_top20['counts'], ax=ax, palette=\"RdGy\")\n",
    "ax.set_xticklabels(df_view_top20['Country'], rotation='90')\n",
    "ax.set_title('viewpoint of contents by origin of country',fontsize=15, fontweight='bold', pad=20)\n",
    "matplotlib.rc('xtick', labelsize=15) \n",
    "matplotlib.rc('ytick', labelsize=15)\n",
    "plt.show()"
   ]
  },
  {
   "cell_type": "code",
   "execution_count": 47,
   "id": "ccf1889c",
   "metadata": {
    "ExecuteTime": {
     "end_time": "2021-07-14T08:39:24.121007Z",
     "start_time": "2021-07-14T08:39:23.905562Z"
    }
   },
   "outputs": [
    {
     "data": {
      "image/png": "[encoded data removed]",
      "text/plain": [
       "<Figure size 2160x720 with 1 Axes>"
      ]
     },
     "metadata": {
      "needs_background": "light"
     },
     "output_type": "display_data"
    }
   ],
   "source": [
    "import squarify\n",
    "\n",
    "fig = plt.figure(figsize=(30,10))\n",
    "squarify.plot(sizes = df_view_top20['counts'], label = df_view_top20['Country'], color=sns.color_palette(\"RdGy\", n_colors=10),\n",
    "             linewidth=4, text_kwargs={'fontsize':15, 'fontweight' : 'bold'})\n",
    "plt.title('Top 20 origin of country', position=(0.5, 1.0+0.03), fontsize = 25, fontweight='bold', pad=20)\n",
    "plt.axis('off')\n",
    "plt.show()"
   ]
  }
 ],
 "metadata": {
  "hide_input": false,
  "kernelspec": {
   "display_name": "Python TSA",
   "language": "python",
   "name": "tsa"
  },
  "language_info": {
   "codemirror_mode": {
    "name": "ipython",
    "version": 3
   },
   "file_extension": ".py",
   "mimetype": "text/x-python",
   "name": "python",
   "nbconvert_exporter": "python",
   "pygments_lexer": "ipython3",
   "version": "3.9.5"
  },
  "latex_envs": {
   "LaTeX_envs_menu_present": true,
   "autoclose": false,
   "autocomplete": true,
   "bibliofile": "biblio.bib",
   "cite_by": "apalike",
   "current_citInitial": 1,
   "eqLabelWithNumbers": true,
   "eqNumInitial": 1,
   "hotkeys": {
    "equation": "Ctrl-E",
    "itemize": "Ctrl-I"
   },
   "labels_anchors": false,
   "latex_user_defs": false,
   "report_style_numbering": false,
   "user_envs_cfg": false
  },
  "toc": {
   "base_numbering": 1,
   "nav_menu": {},
   "number_sections": true,
   "sideBar": true,
   "skip_h1_title": false,
   "title_cell": "Table of Contents",
   "title_sidebar": "Contents",
   "toc_cell": false,
   "toc_position": {},
   "toc_section_display": true,
   "toc_window_display": true
  },
  "varInspector": {
   "cols": {
    "lenName": 16,
    "lenType": 16,
    "lenVar": 40
   },
   "kernels_config": {
    "python": {
     "delete_cmd_postfix": "",
     "delete_cmd_prefix": "del ",
     "library": "var_list.py",
     "varRefreshCmd": "print(var_dic_list())"
    },
    "r": {
     "delete_cmd_postfix": ") ",
     "delete_cmd_prefix": "rm(",
     "library": "var_list.r",
     "varRefreshCmd": "cat(var_dic_list()) "
    }
   },
   "types_to_exclude": [
    "module",
    "function",
    "builtin_function_or_method",
    "instance",
    "_Feature"
   ],
   "window_display": false
  }
 },
 "nbformat": 4,
 "nbformat_minor": 5
}
