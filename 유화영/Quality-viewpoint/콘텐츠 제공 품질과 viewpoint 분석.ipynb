{
 "cells": [
  {
   "cell_type": "markdown",
   "id": "5a4b8b11",
   "metadata": {
    "ExecuteTime": {
     "end_time": "2021-07-14T00:45:01.407414Z",
     "start_time": "2021-07-14T00:45:01.404691Z"
    }
   },
   "source": [
    "# 콘텐츠 제공 품질과 viewpoint 분석"
   ]
  },
  {
   "cell_type": "code",
   "execution_count": null,
   "id": "3ed371eb",
   "metadata": {
    "ExecuteTime": {
     "end_time": "2021-07-14T00:44:31.787883Z",
     "start_time": "2021-07-14T00:44:29.872623Z"
    }
   },
   "outputs": [],
   "source": [
    "import pandas as pd\n",
    "import numpy as np\n",
    "import pandas_profiling\n",
    "\n",
    "# 데이터 시각화\n",
    "import matplotlib.pyplot as plt\n",
    "import plotly.graph_objects as go\n",
    "import seaborn as sns\n",
    "from wordcloud import WordCloud, STOPWORDS, ImageColorGenerator\n",
    "\n",
    "# 가설검정\n",
    "from scipy import stats\n",
    "\n",
    "# 경고문구 무시\n",
    "import warnings\n",
    "warnings.filterwarnings(\"ignore\")\n",
    "# 자연어 처리\n",
    "# import spacy"
   ]
  },
  {
   "cell_type": "markdown",
   "id": "a6ea33ac",
   "metadata": {},
   "source": [
    "## 데이터 정보 확인"
   ]
  },
  {
   "cell_type": "code",
   "execution_count": 4,
   "id": "97b89f95",
   "metadata": {
    "ExecuteTime": {
     "end_time": "2021-07-14T00:47:53.805908Z",
     "start_time": "2021-07-14T00:47:53.779099Z"
    }
   },
   "outputs": [],
   "source": [
    "df= pd.read_csv('../data/2_original_dfHD_0712_uft-8수정완료.csv')"
   ]
  },
  {
   "cell_type": "code",
   "execution_count": 6,
   "id": "78003f7d",
   "metadata": {
    "ExecuteTime": {
     "end_time": "2021-07-14T00:48:23.650157Z",
     "start_time": "2021-07-14T00:48:23.638449Z"
    }
   },
   "outputs": [
    {
     "data": {
      "text/html": [
       "<div>\n",
       "<style scoped>\n",
       "    .dataframe tbody tr th:only-of-type {\n",
       "        vertical-align: middle;\n",
       "    }\n",
       "\n",
       "    .dataframe tbody tr th {\n",
       "        vertical-align: top;\n",
       "    }\n",
       "\n",
       "    .dataframe thead th {\n",
       "        text-align: right;\n",
       "    }\n",
       "</style>\n",
       "<table border=\"1\" class=\"dataframe\">\n",
       "  <thead>\n",
       "    <tr style=\"text-align: right;\">\n",
       "      <th></th>\n",
       "      <th>Unnamed: 0</th>\n",
       "      <th>Title</th>\n",
       "      <th>Series or Movie</th>\n",
       "      <th>Release Year</th>\n",
       "      <th>Rating</th>\n",
       "      <th>Quality</th>\n",
       "      <th>4K</th>\n",
       "    </tr>\n",
       "  </thead>\n",
       "  <tbody>\n",
       "    <tr>\n",
       "      <th>0</th>\n",
       "      <td>0</td>\n",
       "      <td>blackaf</td>\n",
       "      <td>TV</td>\n",
       "      <td>2020</td>\n",
       "      <td>TV-MA</td>\n",
       "      <td>UltraHD</td>\n",
       "      <td>1</td>\n",
       "    </tr>\n",
       "    <tr>\n",
       "      <th>1</th>\n",
       "      <td>1</td>\n",
       "      <td>cats_the_mewvie</td>\n",
       "      <td>TV</td>\n",
       "      <td>2020</td>\n",
       "      <td>TV-14</td>\n",
       "      <td>SuperHD</td>\n",
       "      <td>0</td>\n",
       "    </tr>\n",
       "    <tr>\n",
       "      <th>2</th>\n",
       "      <td>2</td>\n",
       "      <td>realityhigh</td>\n",
       "      <td>TV</td>\n",
       "      <td>2017</td>\n",
       "      <td>TV-14</td>\n",
       "      <td>UltraHD</td>\n",
       "      <td>1</td>\n",
       "    </tr>\n",
       "    <tr>\n",
       "      <th>3</th>\n",
       "      <td>3</td>\n",
       "      <td>rucker50</td>\n",
       "      <td>TV</td>\n",
       "      <td>2016</td>\n",
       "      <td>TV-G</td>\n",
       "      <td>SuperHD</td>\n",
       "      <td>0</td>\n",
       "    </tr>\n",
       "    <tr>\n",
       "      <th>4</th>\n",
       "      <td>4</td>\n",
       "      <td>selfie</td>\n",
       "      <td>TV</td>\n",
       "      <td>2014</td>\n",
       "      <td>TV-MA</td>\n",
       "      <td>SuperHD</td>\n",
       "      <td>0</td>\n",
       "    </tr>\n",
       "    <tr>\n",
       "      <th>5</th>\n",
       "      <td>5</td>\n",
       "      <td>selfie69</td>\n",
       "      <td>TV</td>\n",
       "      <td>2016</td>\n",
       "      <td>TV-MA</td>\n",
       "      <td>SuperHD</td>\n",
       "      <td>0</td>\n",
       "    </tr>\n",
       "    <tr>\n",
       "      <th>6</th>\n",
       "      <td>6</td>\n",
       "      <td>unwell</td>\n",
       "      <td>TV</td>\n",
       "      <td>2020–</td>\n",
       "      <td>TV-MA</td>\n",
       "      <td>NaN</td>\n",
       "      <td>0</td>\n",
       "    </tr>\n",
       "    <tr>\n",
       "      <th>7</th>\n",
       "      <td>7</td>\n",
       "      <td>1.Oct</td>\n",
       "      <td>TV</td>\n",
       "      <td>2014</td>\n",
       "      <td>TV-14</td>\n",
       "      <td>SuperHD</td>\n",
       "      <td>0</td>\n",
       "    </tr>\n",
       "    <tr>\n",
       "      <th>8</th>\n",
       "      <td>8</td>\n",
       "      <td>9.Feb</td>\n",
       "      <td>TV</td>\n",
       "      <td>2018</td>\n",
       "      <td>TV-14</td>\n",
       "      <td>SuperHD</td>\n",
       "      <td>0</td>\n",
       "    </tr>\n",
       "    <tr>\n",
       "      <th>9</th>\n",
       "      <td>9</td>\n",
       "      <td>10daysinsuncity</td>\n",
       "      <td>TV</td>\n",
       "      <td>2017</td>\n",
       "      <td>TV-14</td>\n",
       "      <td>SuperHD</td>\n",
       "      <td>0</td>\n",
       "    </tr>\n",
       "  </tbody>\n",
       "</table>\n",
       "</div>"
      ],
      "text/plain": [
       "   Unnamed: 0            Title Series or Movie Release Year Rating  Quality  \\\n",
       "0           0          blackaf              TV         2020  TV-MA  UltraHD   \n",
       "1           1  cats_the_mewvie              TV         2020  TV-14  SuperHD   \n",
       "2           2      realityhigh              TV         2017  TV-14  UltraHD   \n",
       "3           3         rucker50              TV         2016   TV-G  SuperHD   \n",
       "4           4           selfie              TV         2014  TV-MA  SuperHD   \n",
       "5           5         selfie69              TV         2016  TV-MA  SuperHD   \n",
       "6           6           unwell              TV        2020–  TV-MA      NaN   \n",
       "7           7            1.Oct              TV         2014  TV-14  SuperHD   \n",
       "8           8            9.Feb              TV         2018  TV-14  SuperHD   \n",
       "9           9  10daysinsuncity              TV         2017  TV-14  SuperHD   \n",
       "\n",
       "   4K  \n",
       "0   1  \n",
       "1   0  \n",
       "2   1  \n",
       "3   0  \n",
       "4   0  \n",
       "5   0  \n",
       "6   0  \n",
       "7   0  \n",
       "8   0  \n",
       "9   0  "
      ]
     },
     "execution_count": 6,
     "metadata": {},
     "output_type": "execute_result"
    }
   ],
   "source": [
    "df.head(10)"
   ]
  },
  {
   "cell_type": "code",
   "execution_count": null,
   "id": "92ae5ad3",
   "metadata": {},
   "outputs": [],
   "source": []
  }
 ],
 "metadata": {
  "hide_input": false,
  "kernelspec": {
   "display_name": "Python TSA",
   "language": "python",
   "name": "tsa"
  },
  "language_info": {
   "codemirror_mode": {
    "name": "ipython",
    "version": 3
   },
   "file_extension": ".py",
   "mimetype": "text/x-python",
   "name": "python",
   "nbconvert_exporter": "python",
   "pygments_lexer": "ipython3",
   "version": "3.9.5"
  },
  "latex_envs": {
   "LaTeX_envs_menu_present": true,
   "autoclose": false,
   "autocomplete": true,
   "bibliofile": "biblio.bib",
   "cite_by": "apalike",
   "current_citInitial": 1,
   "eqLabelWithNumbers": true,
   "eqNumInitial": 1,
   "hotkeys": {
    "equation": "Ctrl-E",
    "itemize": "Ctrl-I"
   },
   "labels_anchors": false,
   "latex_user_defs": false,
   "report_style_numbering": false,
   "user_envs_cfg": false
  },
  "toc": {
   "base_numbering": 1,
   "nav_menu": {},
   "number_sections": true,
   "sideBar": true,
   "skip_h1_title": false,
   "title_cell": "Table of Contents",
   "title_sidebar": "Contents",
   "toc_cell": false,
   "toc_position": {},
   "toc_section_display": true,
   "toc_window_display": false
  },
  "varInspector": {
   "cols": {
    "lenName": 16,
    "lenType": 16,
    "lenVar": 40
   },
   "kernels_config": {
    "python": {
     "delete_cmd_postfix": "",
     "delete_cmd_prefix": "del ",
     "library": "var_list.py",
     "varRefreshCmd": "print(var_dic_list())"
    },
    "r": {
     "delete_cmd_postfix": ") ",
     "delete_cmd_prefix": "rm(",
     "library": "var_list.r",
     "varRefreshCmd": "cat(var_dic_list()) "
    }
   },
   "types_to_exclude": [
    "module",
    "function",
    "builtin_function_or_method",
    "instance",
    "_Feature"
   ],
   "window_display": false
  }
 },
 "nbformat": 4,
 "nbformat_minor": 5
}
